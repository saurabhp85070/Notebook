{
 "cells": [
  {
   "cell_type": "markdown",
   "id": "e44e7217",
   "metadata": {},
   "source": [
    "- <a href='#t1'>Mean</a>\n",
    "- <a href='#t2'>Median</a>\n",
    "- <a href='#t3'>Mode</a>\n",
    "- <a href='#t4'>Standard deviation</a>\n",
    "- <a href='#t5'>Variance</a>\n",
    "- <a href='#t6'>Percentile</a>\n",
    "- <a href='#t7'>Data distribution</a>\n",
    "- <a href='#t8'>Normal distribution</a>\n",
    "- <a href='#t9'>Scatter plot</a>\n",
    "- <a href='#t10'>Correlation</a>\n",
    "- <a href='#t11'>Linear regression</a>\n",
    "- <a href='#t12'>Plolynomial regression</a>\n",
    "- <a href='#t13'>Multiple regression</a>\n",
    "- <a href='#t14'>Scale features</a>\n",
    "- <a href='#t15'>Train/Test</a>\n",
    "- <a href='#t16'>Decision tree</a>\n",
    "- <a href='#t17'>Confusion matrix</a>\n",
    "- <a href='#t18'>Hierarchical clustering</a>\n",
    "- <a href='#t19'>Logistic regression</a>\n",
    "- <a href='#t20'>Grid search</a>\n",
    "- <a href='#t21'>Categorical data</a>"
   ]
  },
  {
   "cell_type": "markdown",
   "id": "257112f4",
   "metadata": {},
   "source": [
    "<pre id='t1'></pre>\n",
    "# Mean"
   ]
  },
  {
   "cell_type": "code",
   "execution_count": 1,
   "id": "f7da05cb",
   "metadata": {},
   "outputs": [
    {
     "name": "stdout",
     "output_type": "stream",
     "text": [
      "89.76923076923077\n"
     ]
    }
   ],
   "source": [
    "import numpy as np\n",
    "\n",
    "speed = [99,86,87,88,111,86,103,87,94,78,77,85,86]\n",
    "\n",
    "x = np.mean(speed)\n",
    "\n",
    "print(x)"
   ]
  },
  {
   "cell_type": "markdown",
   "id": "0439f0ef",
   "metadata": {},
   "source": [
    "<pre id='t2'></pre>\n",
    "# Median"
   ]
  },
  {
   "cell_type": "code",
   "execution_count": 2,
   "id": "0b085bd0",
   "metadata": {},
   "outputs": [
    {
     "name": "stdout",
     "output_type": "stream",
     "text": [
      "87.0\n"
     ]
    }
   ],
   "source": [
    "x = np.median(speed)\n",
    "\n",
    "print(x)"
   ]
  },
  {
   "cell_type": "markdown",
   "id": "f54452e8",
   "metadata": {},
   "source": [
    "<pre id='t3'></pre>\n",
    "# Mode"
   ]
  },
  {
   "cell_type": "code",
   "execution_count": 3,
   "id": "44c93358",
   "metadata": {},
   "outputs": [
    {
     "name": "stdout",
     "output_type": "stream",
     "text": [
      "ModeResult(mode=array([86]), count=array([3]))\n"
     ]
    }
   ],
   "source": [
    "from scipy import stats\n",
    "\n",
    "speed = [99,86,87,88,111,86,103,87,94,78,77,85,86]\n",
    "\n",
    "x = stats.mode(speed)\n",
    "\n",
    "print(x)"
   ]
  },
  {
   "cell_type": "markdown",
   "id": "ac7bcf6c",
   "metadata": {},
   "source": [
    "<pre id='t4'></pre>\n",
    "# Standard deviation\n",
    "\n",
    "Standard deviation is a number that describes how spread out the values are.\n",
    "\n",
    "A low standard deviation means that most of the numbers are close to the mean (average) value.\n",
    "\n",
    "A high standard deviation means that the values are spread out over a wider range."
   ]
  },
  {
   "cell_type": "markdown",
   "id": "72fe274f",
   "metadata": {},
   "source": [
    "**Here are some examples of what standard deviation can signify:**\n",
    "\n",
    "- A high standard deviation in the heights of students in a class could signify that the students have a wide range of ages or that they are from different ethnic backgrounds.\n",
    "\n",
    "- A high standard deviation in the test scores of a class could signify that the students have different levels of ability or that the teaching was not effective.\n",
    "\n",
    "- A high standard deviation in the stock prices of a company could signify that the company is risky or volatile.\n",
    "\n",
    "- A high standard deviation in the weights of widgets produced by a manufacturing process could signify that the process is not consistent."
   ]
  },
  {
   "cell_type": "code",
   "execution_count": 4,
   "id": "09c9e151",
   "metadata": {},
   "outputs": [
    {
     "name": "stdout",
     "output_type": "stream",
     "text": [
      "0.9035079029052513\n"
     ]
    }
   ],
   "source": [
    "speed = [86,87,88,86,87,85,86]\n",
    "\n",
    "x = np.std(speed)\n",
    "\n",
    "print(x)"
   ]
  },
  {
   "cell_type": "markdown",
   "id": "77427580",
   "metadata": {},
   "source": [
    "**Here's what the standard deviation of 0.9 means:**\n",
    "\n",
    "On average, the speed measurements in your data set are close to the mean speed, which is likely around 86.7 (the sum of the speeds divided by the number of measurements).\n",
    "\n",
    "Most of the individual speed measurements are within approximately 0.9 units (in this case, miles per hour) of the mean value. So, you can expect that the majority of the speed measurements fall within the range of approximately 85.8 mph to 87.6 mph.\n",
    "\n",
    "A lower standard deviation would indicate that the speed measurements are more tightly clustered around the mean, while a higher standard deviation would indicate that the speed measurements are more spread out and less consistent."
   ]
  },
  {
   "cell_type": "markdown",
   "id": "7a67252e",
   "metadata": {},
   "source": [
    "Standard deviation is useful for understanding and quantifying the variability of a set of data. **It can be used to:**\n",
    "\n",
    "- Compare the variability of different sets of data.\n",
    "- Track how the variability of a set of data changes over time.\n",
    "- Understand the factors that contribute to the variability of a set of data.\n",
    "\n",
    "Standard deviation is also useful for making predictions. **For example**, if you know the standard deviation of the heights of students in a class, you can use that information to predict the range of heights that you are likely to see in a new class of students."
   ]
  },
  {
   "cell_type": "markdown",
   "id": "48084b26",
   "metadata": {},
   "source": [
    "**Here is a more concrete example of how standard deviation can be used in the real world:**\n",
    "\n",
    "Suppose a company is manufacturing a new type of widget. The company wants to make sure that the widgets are all the same size and weight. To do this, the company measures the weight of a sample of widgets. The standard deviation of the weights is 0.1 grams. This means that the weights of the widgets are very consistent. The company can be confident that the manufacturing process is producing widgets that are all the same weight.\n",
    "\n",
    "On the other hand, suppose the standard deviation of the weights is 1 gram. This means that the weights of the widgets vary widely. The company would need to investigate the manufacturing process to figure out why the weights are so inconsistent."
   ]
  },
  {
   "cell_type": "markdown",
   "id": "1a98dbb2",
   "metadata": {},
   "source": [
    "**Example 1: Exam Scores**\n",
    "\n",
    "Suppose you have the following exam scores for a class of students:"
   ]
  },
  {
   "cell_type": "code",
   "execution_count": 5,
   "id": "8c125b2c",
   "metadata": {},
   "outputs": [
    {
     "name": "stdout",
     "output_type": "stream",
     "text": [
      "4.882622246293481\n"
     ]
    }
   ],
   "source": [
    "scores = [85, 92, 88, 78, 90]\n",
    "\n",
    "print(np.std(scores))"
   ]
  },
  {
   "cell_type": "markdown",
   "id": "3f23b063",
   "metadata": {},
   "source": [
    "To calculate the standard deviation of these scores, you find it to be approximately 5.24. This means:\n",
    "\n",
    "On average, the students scored around 86.6.\n",
    "\n",
    "Most students scored within about 5.24 points of the average.\n",
    "\n",
    "The majority of scores are likely in the range of 81.4 to 91.8."
   ]
  },
  {
   "cell_type": "markdown",
   "id": "1beff4f3",
   "metadata": {},
   "source": [
    "**Example 2: Daily Temperatures**\n",
    "\n",
    "Imagine you are tracking daily high temperatures in a city for a week:"
   ]
  },
  {
   "cell_type": "code",
   "execution_count": 6,
   "id": "04749d90",
   "metadata": {},
   "outputs": [
    {
     "name": "stdout",
     "output_type": "stream",
     "text": [
      "2.2314999074019015\n"
     ]
    }
   ],
   "source": [
    "temperatures = [75, 78, 80, 82, 77, 79, 76]\n",
    "print(np.std(temperatures))"
   ]
  },
  {
   "cell_type": "markdown",
   "id": "3005f8eb",
   "metadata": {},
   "source": [
    "The standard deviation in this case might be approximately 2.02. This tells you:\n",
    "\n",
    "The average high temperature is around 78.14 degrees.\n",
    "\n",
    "Most days are within approximately 2.02 degrees of this average.\n",
    "\n",
    "The temperature fluctuations are relatively small, with most days falling between 76.12 and 80.16 degrees."
   ]
  },
  {
   "cell_type": "markdown",
   "id": "22c56bba",
   "metadata": {},
   "source": [
    "**Example 3: Stock Returns**\n",
    "\n",
    "Consider the daily returns of a stock over a month:"
   ]
  },
  {
   "cell_type": "code",
   "execution_count": 7,
   "id": "5f561a2c",
   "metadata": {},
   "outputs": [
    {
     "name": "stdout",
     "output_type": "stream",
     "text": [
      "0.0223606797749979\n"
     ]
    }
   ],
   "source": [
    "returns = [-0.02, 0.03, -0.01, 0.02, -0.04, 0.01, 0.03, -0.02, 0.01, -0.01]\n",
    "print(np.std(returns))"
   ]
  },
  {
   "cell_type": "markdown",
   "id": "4b47bd40",
   "metadata": {},
   "source": [
    "The standard deviation might be approximately 0.024. This implies:\n",
    "\n",
    "On average, the stock had a daily return of close to 0%.\n",
    "\n",
    "Most daily returns were within about 0.024 of this average.\n",
    "\n",
    "The returns exhibit relatively low volatility, with most days experiencing small fluctuations."
   ]
  },
  {
   "cell_type": "markdown",
   "id": "ad4dbceb",
   "metadata": {},
   "source": [
    "**Example 4: Test Scores in Two Classes**\n",
    "\n",
    "Let's say you want to compare the standard deviations of test scores in two different classes:"
   ]
  },
  {
   "cell_type": "code",
   "execution_count": 8,
   "id": "c8af13b7",
   "metadata": {},
   "outputs": [
    {
     "name": "stdout",
     "output_type": "stream",
     "text": [
      "2.7129319932501077\n",
      "8.602325267042627\n"
     ]
    }
   ],
   "source": [
    "classA = [85, 88, 89, 91, 93]\n",
    "classB = [75, 85, 90, 95, 100]\n",
    "\n",
    "print(np.std(classA))\n",
    "print(np.std(classB))"
   ]
  },
  {
   "cell_type": "markdown",
   "id": "fd59c8bd",
   "metadata": {},
   "source": [
    "Class A has a standard deviation of approximately 2.97, and Class B has a standard deviation of approximately 10.29. This shows:\n",
    "\n",
    "In Class A, most scores are close to the class average, with small variability.\n",
    "\n",
    "In Class B, there is much greater variability, with scores spread out from the average to a larger extent."
   ]
  },
  {
   "cell_type": "markdown",
   "id": "deaa883e",
   "metadata": {},
   "source": [
    "<pre id='t5'></pre>\n",
    "# Variance\n",
    "\n",
    "Variance is another number that indicates how spread out the values are.\n",
    "\n",
    "A higher variance indicates that the data points are more spread out from the mean, while a lower variance means the data points are closer to the mean or we can say data is more concentrated around the mean.\n",
    "\n",
    "Variance is sensitive to outliers (extreme values) in the data because it involves squaring the differences between data points and the mean. Outliers can have a significant impact on the variance.\n",
    "\n",
    "Variance is often used to compare the variability of different sets of data. For example, if two sets of data have the same mean, but one set has a higher variance, then the second set of data is more spread out.\n",
    "\n",
    "Variance can also be used to track how the variability of a set of data changes over time. For example, a company might track the variance of the weights of its products over time to make sure that the manufacturing process is consistent."
   ]
  },
  {
   "cell_type": "markdown",
   "id": "ecdb5893",
   "metadata": {},
   "source": [
    "**Here are some examples of what variance can signify:**\n",
    "\n",
    "- A high variance in the test scores of a class could signify that the students have different levels of ability or that the teaching was not effective.\n",
    "\n",
    "- A high variance in the stock prices of a company could signify that the company is risky or volatile.\n",
    "\n",
    "- A high variance in the weights of widgets produced by a manufacturing process could signify that the process is not consistent."
   ]
  },
  {
   "cell_type": "markdown",
   "id": "9e7bfe90",
   "metadata": {},
   "source": [
    "To calculate the variance you have to do as follows:\n",
    "\n",
    "1. Find the mean:\n",
    "\n",
    "(32+111+138+28+59+77+97) / 7 = 77.4\n",
    "\n",
    "2. For each value: find the difference from the mean:\n",
    "\n",
    " 32 - 77.4 = -45.4 <br>\n",
    "111 - 77.4 =  33.6 <br>\n",
    "138 - 77.4 =  60.6 <br>\n",
    " 28 - 77.4 = -49.4 <br>\n",
    " 59 - 77.4 = -18.4 <br>\n",
    " 77 - 77.4 = - 0.4 <br>\n",
    " 97 - 77.4 =  19.6 <br>\n",
    "\n",
    "3. For each difference: find the square value:\n",
    "\n",
    "(-45.4)2 = 2061.16 <br>\n",
    " (33.6)2 = 1128.96 <br>\n",
    " (60.6)2 = 3672.36 <br>\n",
    "(-49.4)2 = 2440.36 <br>\n",
    "(-18.4)2 =  338.56 <br>\n",
    "(- 0.4)2 =    0.16 <br>\n",
    " (19.6)2 =  384.16 <br>\n",
    " \n",
    "4. The variance is the average number of these squared differences:\n",
    "\n",
    "(2061.16+1128.96+3672.36+2440.36+338.56+0.16+384.16) / 7 = 1432.2"
   ]
  },
  {
   "cell_type": "code",
   "execution_count": 9,
   "id": "0457e007",
   "metadata": {},
   "outputs": [
    {
     "name": "stdout",
     "output_type": "stream",
     "text": [
      "1432.2448979591834\n"
     ]
    }
   ],
   "source": [
    "speed = [32,111,138,28,59,77,97]\n",
    "\n",
    "x = np.var(speed)\n",
    "\n",
    "print(x)"
   ]
  },
  {
   "cell_type": "markdown",
   "id": "cab9ffbf",
   "metadata": {},
   "source": [
    "<pre id='t6'></pre>\n",
    "# Percentile\n",
    "\n",
    "Percentiles are used in statistics to give you a number that describes the value that a given percent of the values are lower than.\n",
    "\n",
    "**Example:** Let's say we have an array of the ages of all the people that live in a street."
   ]
  },
  {
   "cell_type": "code",
   "execution_count": 10,
   "id": "b7684aa1",
   "metadata": {},
   "outputs": [
    {
     "name": "stdout",
     "output_type": "stream",
     "text": [
      "43.0\n"
     ]
    }
   ],
   "source": [
    "ages = [5,31,43,48,50,41,7,11,15,39,80,82,32,2,8,6,25,36,27,61,31]\n",
    "\n",
    "x = np.percentile(ages, 75)\n",
    "\n",
    "print(x)"
   ]
  },
  {
   "cell_type": "markdown",
   "id": "e8c75a54",
   "metadata": {},
   "source": [
    "What is the 75. percentile? The answer is 43, meaning that **75% of the people are 43 or younger**."
   ]
  },
  {
   "cell_type": "markdown",
   "id": "49a8eea4",
   "metadata": {},
   "source": [
    "**For example**, if a student scores in the 90th percentile on a test, it means that 90% of the other students scored lower than them.\n",
    "\n",
    "Percentiles are often used to report test scores and other standardized assessments. They can also be used to compare different groups of people, such as students from different schools or athletes from different countries.\n",
    "\n",
    "Percentiles can be used to understand how a person or thing is performing relative to others. **For example**, if a student scores in the 50th percentile on a math test, it means that they performed about average compared to their peers. On the other hand, if a student scores in the 95th percentile, it means that they performed exceptionally well.\n",
    "\n",
    "Percentiles can also be used to identify outliers. **For example**, if a student scores in the 1st percentile on a reading test, it means that they performed much worse than their peers. This could be a sign that the student needs additional help in reading.\n",
    "\n",
    "**Here are some examples of how percentiles can be used:**\n",
    "\n",
    "- A college admissions counselor might use percentiles to compare the test scores of applicants from different schools.\n",
    "- A sports coach might use percentiles to compare the performance of athletes from different teams.\n",
    "- A doctor might use percentiles to compare the growth and development of children.\n",
    "- A business might use percentiles to track the performance of its employees."
   ]
  },
  {
   "cell_type": "markdown",
   "id": "9c007121",
   "metadata": {},
   "source": [
    "Percentiles provide insights into the distribution and relative ranking of data points. **For example:**\n",
    "\n",
    "- The 25th percentile (P25) signifies that 25% of the data falls below this value.\n",
    "- The 50th percentile (P50) represents the median, where 50% of the data is below this value.\n",
    "- The 75th percentile (P75) indicates that 75% of the data falls below this value.\n",
    "- The 95th percentile (P95) shows that 95% of the data is below this value.\n",
    "\n",
    "**Outliers:** Percentiles are less affected by outliers (extreme values) than other measures like the mean or median. This makes them useful for identifying values that are far from the norm in a dataset."
   ]
  },
  {
   "cell_type": "markdown",
   "id": "21b55306",
   "metadata": {},
   "source": [
    "<pre id='t7'></pre>\n",
    "# Data distribution\n",
    "\n",
    "In the real world, the data sets are much bigger, but it can be difficult to gather real world data, at least at an early stage of a project.\n",
    "\n",
    "**How Can we Get Big Data Sets?**\n",
    "\n",
    "To create big data sets for testing, we use the Python module `NumPy`, which comes with a number of methods to create random data sets, of any size."
   ]
  },
  {
   "cell_type": "code",
   "execution_count": 11,
   "id": "bfc427b3",
   "metadata": {},
   "outputs": [
    {
     "name": "stdout",
     "output_type": "stream",
     "text": [
      "[2.19470716e+00 3.81992628e+00 7.55093284e-01 1.07621775e+00\n",
      " 1.90679971e+00 9.49138779e-01 3.55895564e+00 1.26775815e+00\n",
      " 9.94600544e-01 2.20753033e+00 2.46646089e+00 1.07726268e+00\n",
      " 2.45028600e+00 2.01234155e-01 3.80800956e+00 3.79772528e+00\n",
      " 3.30125906e+00 1.02789601e+00 2.31310665e+00 4.54330876e-01\n",
      " 4.60649204e+00 1.88175024e+00 4.09702602e+00 1.56307644e+00\n",
      " 1.78783383e+00 2.90643564e+00 3.02575506e+00 1.71611795e+00\n",
      " 2.57759457e+00 3.99004440e+00 3.38329333e+00 2.18306375e+00\n",
      " 2.89045773e+00 4.91959614e+00 2.55041336e-01 1.22946701e+00\n",
      " 2.64086161e+00 3.72795908e+00 2.95132156e+00 3.01380732e+00\n",
      " 3.24504710e+00 7.51469577e-01 9.13985630e-01 1.36711889e+00\n",
      " 3.09210028e+00 3.35641202e+00 3.53138436e-01 2.55165090e+00\n",
      " 2.75593407e+00 4.18550483e+00 1.15341239e+00 3.31278162e+00\n",
      " 1.07396974e+00 1.75037704e+00 3.89004853e+00 1.57616027e+00\n",
      " 1.83106276e+00 7.17201570e-02 2.02760061e-01 2.86527856e+00\n",
      " 1.18866419e+00 1.94349707e+00 3.56806535e+00 3.70337236e+00\n",
      " 4.14047703e+00 4.29923445e+00 3.29209227e+00 4.92394764e-01\n",
      " 3.25207184e+00 6.62875615e-01 3.15946862e+00 1.93916288e+00\n",
      " 3.92912687e+00 1.16949976e+00 9.11176161e-01 6.89792415e-01\n",
      " 3.22796454e-01 2.38379249e+00 4.44638449e+00 7.79629050e-01\n",
      " 3.39790082e-01 1.70555237e+00 3.20292170e+00 2.48800551e+00\n",
      " 2.64902729e+00 4.03535488e+00 3.78789332e+00 1.25521146e+00\n",
      " 2.65104295e-01 3.06883768e+00 4.94558000e+00 5.30167288e-01\n",
      " 2.82850159e+00 2.25738104e+00 5.15227980e-01 1.82569028e+00\n",
      " 1.89698751e+00 3.00144639e+00 4.19119697e+00 2.73025861e+00\n",
      " 1.33061999e+00 3.89040181e+00 1.75026739e+00 7.50802927e-01\n",
      " 1.62723548e+00 3.31034963e+00 4.97664857e+00 1.29045515e+00\n",
      " 4.41856440e+00 2.11938465e+00 4.39213433e+00 4.57589879e-01\n",
      " 1.22956105e+00 3.63221610e+00 4.77780817e+00 1.25279272e+00\n",
      " 9.14049527e-01 4.03276129e+00 2.10960533e+00 4.27249631e+00\n",
      " 4.07736100e-02 1.99025738e+00 1.47053489e+00 3.23472534e+00\n",
      " 4.91241637e+00 3.87059617e+00 4.88342001e+00 2.43316717e+00\n",
      " 4.62315741e+00 2.44757519e+00 9.11958066e-01 2.35209634e+00\n",
      " 4.80503246e+00 3.93638525e+00 4.46228133e-01 2.85289535e+00\n",
      " 1.88218212e+00 2.61302794e+00 4.84056232e+00 3.86919283e+00\n",
      " 1.54307346e+00 4.62651000e+00 3.17105042e+00 6.90839071e-01\n",
      " 2.87726707e+00 2.49717949e+00 6.06989996e-01 1.36033811e+00\n",
      " 4.16812750e+00 1.05220685e+00 3.22502237e-01 6.97496475e-01\n",
      " 1.23410114e+00 1.99404725e-01 3.30266139e+00 1.28758924e+00\n",
      " 1.07007119e+00 3.83993334e+00 4.76888911e+00 2.61637173e+00\n",
      " 8.52580788e-01 3.79760784e+00 4.26884987e+00 3.97887264e+00\n",
      " 4.03536708e+00 1.85485845e+00 2.21508393e+00 2.72014517e+00\n",
      " 2.29473771e+00 2.33326729e+00 1.76665864e+00 2.57129652e+00\n",
      " 3.54624749e+00 4.79479633e+00 9.37110172e-02 2.07349515e+00\n",
      " 1.40303212e+00 4.21371557e-01 3.03371908e+00 4.91981982e-03\n",
      " 2.43627628e+00 1.58947386e+00 1.47705392e+00 1.07868195e+00\n",
      " 1.98936364e+00 6.18747800e-01 4.40877420e+00 1.05986046e+00\n",
      " 2.84353589e+00 3.47257531e-01 4.34628892e+00 8.58944773e-01\n",
      " 4.99329650e-02 3.34947722e+00 1.41298414e+00 3.77744219e+00\n",
      " 2.95397435e+00 2.86776018e+00 5.84552494e-01 7.53592888e-01\n",
      " 2.00750013e+00 1.01814797e+00 2.54244629e+00 1.13140525e-01\n",
      " 2.49460543e+00 4.56533344e+00 1.27786651e-02 1.93288546e+00\n",
      " 4.35935056e+00 9.54391799e-01 3.72606334e-01 1.96398803e-02\n",
      " 1.68928329e+00 8.42065491e-01 5.22073675e-01 3.75064389e+00\n",
      " 4.62894033e+00 9.94258484e-01 4.39091123e+00 1.86625036e+00\n",
      " 1.21596603e+00 4.02687064e+00 4.47176825e+00 8.51269175e-01\n",
      " 2.73887907e+00 3.72810862e+00 2.99241673e+00 3.68563467e+00\n",
      " 6.81002453e-01 1.81433678e+00 3.39426850e+00 1.08535481e+00\n",
      " 1.66710793e+00 7.31561723e-01 3.28031319e+00 2.96621834e-02\n",
      " 1.46432623e+00 3.08221381e+00 3.49302672e+00 3.58147020e+00\n",
      " 6.74578583e-01 4.78982608e-01 4.37852646e+00 2.32268174e+00\n",
      " 1.48450878e-01 3.34893649e+00 1.06765484e+00 1.30603381e+00\n",
      " 3.75586543e+00 3.21195277e+00]\n"
     ]
    }
   ],
   "source": [
    "# Create an array containing 250 random floats between 0 and 5\n",
    "\n",
    "x = np.random.uniform(0.0, 5.0, 250)\n",
    "\n",
    "print(x)"
   ]
  },
  {
   "cell_type": "markdown",
   "id": "7e270799",
   "metadata": {},
   "source": [
    "To visualize the data set we can draw a histogram with the data we collected."
   ]
  },
  {
   "cell_type": "code",
   "execution_count": 12,
   "id": "4ab70cab",
   "metadata": {},
   "outputs": [
    {
     "data": {
      "image/png": "[encoded data removed]",
      "text/plain": [
       "<Figure size 432x288 with 1 Axes>"
      ]
     },
     "metadata": {
      "needs_background": "light"
     },
     "output_type": "display_data"
    }
   ],
   "source": [
    "import matplotlib.pyplot as plt\n",
    "\n",
    "x = np.random.uniform(0.0, 5.0, 250)\n",
    "\n",
    "plt.hist(x, 5)\n",
    "plt.show()"
   ]
  },
  {
   "cell_type": "markdown",
   "id": "0d843229",
   "metadata": {},
   "source": [
    "**Histogram Explained:**\n",
    "\n",
    "We use the array from the example above to draw a histogram with 5 bars.\n",
    "\n",
    "The first bar represents how many values in the array are between 0 and 1.\n",
    "\n",
    "The second bar represents how many values are between 1 and 2."
   ]
  },
  {
   "cell_type": "markdown",
   "id": "1b84188c",
   "metadata": {},
   "source": [
    "**Big Data Distributions**\n",
    "\n",
    "An array containing 250 values is not considered very big, but now you know how to create a random set of values, and by changing the parameters, you can create the data set as big as you want.\n",
    "\n",
    "**Example**\n",
    "\n",
    "Create an array with 100000 random numbers, and display them using a histogram with 100 bars:"
   ]
  },
  {
   "cell_type": "code",
   "execution_count": 13,
   "id": "51eb9d26",
   "metadata": {},
   "outputs": [
    {
     "data": {
      "image/png": "[encoded data removed]",
      "text/plain": [
       "<Figure size 432x288 with 1 Axes>"
      ]
     },
     "metadata": {
      "needs_background": "light"
     },
     "output_type": "display_data"
    }
   ],
   "source": [
    "x = np.random.uniform(0.0, 5.0, 100000)\n",
    "\n",
    "plt.hist(x, 100)\n",
    "plt.show()"
   ]
  },
  {
   "cell_type": "markdown",
   "id": "6c5da064",
   "metadata": {},
   "source": [
    "<pre id='t8'></pre>\n",
    "# Normal Data Distribution\n",
    "\n",
    "We learnt how to create a completely random array, of a given size, and between two given values.\n",
    "\n",
    "Now we will learn how to create an array where the values are concentrated around a given value.\n",
    "\n",
    "In probability theory this kind of data distribution is known as the `normal data distribution`, or the `Gaussian data distribution`, after the mathematician Carl Friedrich Gauss who came up with the formula of this data distribution."
   ]
  },
  {
   "cell_type": "code",
   "execution_count": 14,
   "id": "e82e9421",
   "metadata": {},
   "outputs": [
    {
     "data": {
      "image/png": "[encoded data removed]",
      "text/plain": [
       "<Figure size 432x288 with 1 Axes>"
      ]
     },
     "metadata": {
      "needs_background": "light"
     },
     "output_type": "display_data"
    }
   ],
   "source": [
    "# a typical normal data distribution\n",
    "\n",
    "x = np.random.normal(5.0, 1.0, 100000) # normal(mean, standard deviation, total_numbers)\n",
    "\n",
    "plt.hist(x, 100)\n",
    "plt.show()"
   ]
  },
  {
   "cell_type": "markdown",
   "id": "67955daf",
   "metadata": {},
   "source": [
    "**Histogram Explained:**\n",
    "\n",
    "We use the array from the `np.random.normal()` method, with 100000 values,  to draw a histogram with 100 bars.\n",
    "\n",
    "We specify that the mean value is 5.0, and the standard deviation is 1.0.\n",
    "\n",
    "Meaning that the values should be concentrated around 5.0, and rarely further away than 1.0 from the mean.\n",
    "\n",
    "And as you can see from the histogram, most values are between 4.0 and 6.0, with a top at approximately 5.0."
   ]
  },
  {
   "cell_type": "markdown",
   "id": "f34daf88",
   "metadata": {},
   "source": [
    "<pre id='t9'></pre>\n",
    "# Scatter plot\n",
    "\n",
    "A scatter plot is a diagram where each value in the data set is represented by a dot."
   ]
  },
  {
   "cell_type": "code",
   "execution_count": 15,
   "id": "9fd95d6e",
   "metadata": {},
   "outputs": [
    {
     "data": {
      "image/png": "[encoded data removed]",
      "text/plain": [
       "<Figure size 432x288 with 1 Axes>"
      ]
     },
     "metadata": {
      "needs_background": "light"
     },
     "output_type": "display_data"
    }
   ],
   "source": [
    "x = [5,7,8,7,2,17,2,9,4,11,12,9,6]\n",
    "y = [99,86,87,88,111,86,103,87,94,78,77,85,86]\n",
    "\n",
    "plt.scatter(x, y)\n",
    "plt.xlabel(\"Ages\")\n",
    "plt.ylabel(\"Speeds\")\n",
    "plt.show()"
   ]
  },
  {
   "cell_type": "markdown",
   "id": "94a4a0df",
   "metadata": {},
   "source": [
    "**Scatter Plot Explained:**\n",
    "\n",
    "The x-axis represents ages, and the y-axis represents speeds.\n",
    "\n",
    "What we can read from the diagram is that the two fastest cars were both 2 years old, and the slowest car was 12 years old.\n",
    "\n",
    "**Note:** It seems that the newer the car, the faster it drives, but that could be a coincidence, after all we only registered 13 cars."
   ]
  },
  {
   "cell_type": "markdown",
   "id": "7fa6cc51",
   "metadata": {},
   "source": [
    "**Random Data Distributions**\n",
    "\n",
    "In Machine Learning the data sets can contain thousands-, or even millions, of values.\n",
    "\n",
    "You might not have real world data when you are testing an algorithm, you might have to use randomly generated values.\n",
    "\n",
    "As we have learnt previously, the NumPy module can help us with that!\n",
    "\n",
    "Let us create two arrays that are both filled with 1000 random numbers from a normal data distribution.\n",
    "\n",
    "The first array will have the mean set to 5.0 with a standard deviation of 1.0.\n",
    "\n",
    "The second array will have the mean set to 10.0 with a standard deviation of 2.0:"
   ]
  },
  {
   "cell_type": "code",
   "execution_count": 16,
   "id": "5fa6a8e5",
   "metadata": {},
   "outputs": [
    {
     "data": {
      "image/png": "[encoded data removed]",
      "text/plain": [
       "<Figure size 432x288 with 1 Axes>"
      ]
     },
     "metadata": {
      "needs_background": "light"
     },
     "output_type": "display_data"
    }
   ],
   "source": [
    "x = np.random.normal(5.0, 1.0, 1000)\n",
    "y = np.random.normal(10.0, 2.0, 1000)\n",
    "\n",
    "plt.scatter(x, y)\n",
    "plt.show()"
   ]
  },
  {
   "cell_type": "markdown",
   "id": "53552a21",
   "metadata": {},
   "source": [
    "**Scatter Plot Explained**\n",
    "\n",
    "We can see that the dots are concentrated around the value 5 on the x-axis, and 10 on the y-axis.\n",
    "\n",
    "We can also see that the spread is wider on the y-axis than on the x-axis."
   ]
  },
  {
   "cell_type": "markdown",
   "id": "b9e9bd8e",
   "metadata": {},
   "source": [
    "<pre id='t10'></pre>\n",
    "# Correlation\n",
    "\n",
    "Correlation is a statistical measure that quantifies the strength and direction of a linear relationship between two variables. The correlation coefficient is a value between -1 and 1.\n",
    "\n",
    "In the context of data analysis using pandas, `df.corr()` is a method that calculates the pairwise correlation coefficients between numeric columns (variables) in a DataFrame. \n",
    "\n",
    "- If the correlation coefficient is close to 1, it indicates a strong positive linear relationship. This means that as one variable increases, the other tends to increase as well.\n",
    "\n",
    "- If the correlation coefficient is close to -1, it indicates a strong negative linear relationship. This means that as one variable increases, the other tends to decrease.\n",
    "\n",
    "- If the correlation coefficient is close to 0, it indicates a weak or no linear relationship between the variables."
   ]
  },
  {
   "cell_type": "markdown",
   "id": "9c70529c",
   "metadata": {},
   "source": [
    "Let's go through a more detailed example to understand how `df.corr()` works with real data. We'll use a DataFrame containing information about students, including their test scores in different subjects, and calculate the correlation matrix."
   ]
  },
  {
   "cell_type": "code",
   "execution_count": 17,
   "id": "81f4f5cd",
   "metadata": {},
   "outputs": [
    {
     "name": "stdout",
     "output_type": "stream",
     "text": [
      "               Math_Score  Science_Score  English_Score  History_Score\n",
      "Math_Score       1.000000       0.969554       0.686506      -0.865831\n",
      "Science_Score    0.969554       1.000000       0.774982      -0.925236\n",
      "English_Score    0.686506       0.774982       1.000000      -0.948315\n",
      "History_Score   -0.865831      -0.925236      -0.948315       1.000000\n"
     ]
    }
   ],
   "source": [
    "import pandas as pd\n",
    "\n",
    "# Create a DataFrame with student data\n",
    "data = {\n",
    "    'Math_Score': [80, 85, 90, 70, 95],\n",
    "    'Science_Score': [75, 90, 88, 60, 98],\n",
    "    'English_Score': [88, 92, 78, 72, 98],\n",
    "    'History_Score': [70, 65, 72, 85, 60],\n",
    "}\n",
    "\n",
    "df = pd.DataFrame(data)\n",
    "\n",
    "# Calculate the correlation matrix\n",
    "correlation_matrix = df.corr()\n",
    "\n",
    "# Display the correlation matrix\n",
    "print(correlation_matrix)"
   ]
  },
  {
   "cell_type": "markdown",
   "id": "28020493",
   "metadata": {},
   "source": [
    "Now, **let's interpret the correlation matrix:**\n",
    "\n",
    "- The diagonal elements (e.g., Math_Score vs. Math_Score, Science_Score vs. Science_Score, etc.) all have a correlation coefficient of 1.0 because a variable is perfectly correlated with itself.\n",
    "\n",
    "- The off-diagonal elements contain the correlation coefficients between different subject scores. \n",
    "\n",
    "**For example:**\n",
    "\n",
    "1. Math_Score vs. Science_Score: The correlation coefficient between Math_Score and Science_Score is approximately 0.969. This indicates a very strong positive linear relationship between math scores and science scores. When students perform well in math, they tend to also perform well in science. The correlation is close to 1, which suggests that the two variables are highly positively correlated.\n",
    "\n",
    "2. Math_Score vs. English_Score: The correlation coefficient between Math_Score and English_Score is approximately 0.687. This suggests a positive relationship between math scores and English scores, but it is weaker compared to the relationship between math and science scores. The correlation is positive, indicating that higher math scores are associated with higher English scores, but the correlation is not as strong as the one between math and science.\n",
    "\n",
    "3. Math_Score vs. History_Score: The correlation coefficient between Math_Score and History_Score is approximately -0.866. This is a strong negative correlation. It indicates that as math scores increase, history scores tend to decrease, and vice versa. In other words, students who excel in math tend to perform poorly in history, and vice versa.\n",
    "\n",
    "4. Science_Score vs. English_Score: The correlation coefficient between Science_Score and English_Score is approximately 0.775. This suggests a positive relationship between science scores and English scores. When students perform well in science, they also tend to perform well in English, but again, this relationship is not as strong as the one between math and science.\n",
    "\n",
    "5. Science_Score vs. History_Score: The correlation coefficient between Science_Score and History_Score is approximately -0.925. This is a very strong negative correlation, even stronger than the one between math and history scores. It indicates that as science scores increase, history scores tend to decrease, and vice versa.\n",
    "\n",
    "6. English_Score vs. History_Score: The correlation coefficient between English_Score and History_Score is approximately -0.948. This is a very strong negative correlation, suggesting that as English scores increase, history scores tend to decrease, and vice versa. This is the strongest negative correlation in the matrix.\n",
    "\n",
    "In summary, this correlation matrix provides valuable insights into the relationships between these test scores. It indicates strong positive correlations between math and science scores, science and English scores, and math and English scores. On the other hand, there are strong negative correlations between math and history scores, science and history scores, and English and history scores, suggesting that students who excel in one subject tend to struggle in the other."
   ]
  },
  {
   "cell_type": "markdown",
   "id": "48b6fd21",
   "metadata": {},
   "source": [
    "# Regression\n",
    "\n",
    "The term regression is used when you try to find the relationship between variables.\n",
    "\n",
    "In Machine Learning, and in statistical modeling, that relationship is used to predict the outcome of future events.\n",
    "<pre id='t11'></pre>\n",
    "# Linear Regression\n",
    "\n",
    "Linear regression uses the relationship between the data-points to draw a straight line through all them.\n",
    "\n",
    "This line can be used to predict future values.\n",
    "\n",
    "**How Does it Work?**\n",
    "\n",
    "Python has methods for finding a relationship between data-points and to draw a line of linear regression. We will show you how to use these methods instead of going through the mathematic formula.\n",
    "\n",
    "In the example below, the x-axis represents age, and the y-axis represents speed. We have registered the age and speed of 13 cars as they were passing a tollbooth. Let us see if the data we collected could be used in a linear regression:"
   ]
  },
  {
   "cell_type": "code",
   "execution_count": 18,
   "id": "661330ee",
   "metadata": {},
   "outputs": [
    {
     "data": {
      "image/png": "[encoded data removed]",
      "text/plain": [
       "<Figure size 432x288 with 1 Axes>"
      ]
     },
     "metadata": {
      "needs_background": "light"
     },
     "output_type": "display_data"
    }
   ],
   "source": [
    "x = [5,7,8,7,2,17,2,9,4,11,12,9,6]\n",
    "y = [99,86,87,88,111,86,103,87,94,78,77,85,86]\n",
    "\n",
    "plt.scatter(x, y)\n",
    "plt.xlabel(\"Ages\")\n",
    "plt.ylabel(\"Speeds\")\n",
    "plt.show()"
   ]
  },
  {
   "cell_type": "markdown",
   "id": "6715b177",
   "metadata": {},
   "source": [
    "**Draw the line of Linear Regression:**"
   ]
  },
  {
   "cell_type": "code",
   "execution_count": 19,
   "id": "341e4e2c",
   "metadata": {},
   "outputs": [],
   "source": [
    "# step1: Import the modules you need\n",
    "\n",
    "from scipy import stats"
   ]
  },
  {
   "cell_type": "code",
   "execution_count": 20,
   "id": "375f5820",
   "metadata": {},
   "outputs": [],
   "source": [
    "# step2: Create the arrays that represent the values of the x and y axis:\n",
    "\n",
    "x = [5,7,8,7,2,17,2,9,4,11,12,9,6]\n",
    "y = [99,86,87,88,111,86,103,87,94,78,77,85,86]"
   ]
  },
  {
   "cell_type": "code",
   "execution_count": 21,
   "id": "d929d0dc",
   "metadata": {},
   "outputs": [],
   "source": [
    "# step3: Execute a method that returns some important key values of Linear Regression:\n",
    "\n",
    "slope, intercept, r, p, std_err = stats.linregress(x, y)"
   ]
  },
  {
   "cell_type": "markdown",
   "id": "937d8399",
   "metadata": {},
   "source": [
    "`slope` (slope): This is the slope of the regression line, representing the change in the dependent variable for a one-unit change in the independent variable.\n",
    "\n",
    "`intercept` (intercept): This is the y-intercept of the regression line, which is the predicted value of the dependent variable when the independent variable is zero.\n",
    "\n",
    "`r` (r-value): The correlation coefficient (Pearson correlation coefficient) between the independent and dependent variables. It measures the strength and direction of the linear relationship between the two variables. An r-value of 1 indicates a perfect positive linear relationship, -1 indicates a perfect negative linear relationship, and 0 indicates no linear relationship.\n",
    "\n",
    "`p` (p-value): This is the two-tailed p-value for a hypothesis test on whether the slope of the regression line is zero (i.e., there is no linear relationship between the variables). A low p-value indicates that the slope is statistically significantly different from zero.\n",
    "\n",
    "`std_err` (standard error of the slope): This is the standard error of the estimated slope. It provides a measure of the uncertainty in the slope parameter estimate."
   ]
  },
  {
   "cell_type": "code",
   "execution_count": 22,
   "id": "5fbe1aed",
   "metadata": {},
   "outputs": [],
   "source": [
    "# step4: Create a function that uses the slope and intercept values to return a new value. \n",
    "# This new value represents where on the y-axis the corresponding x value will be placed:\n",
    "\n",
    "def myfunc(x):\n",
    "    return slope * x + intercept"
   ]
  },
  {
   "cell_type": "code",
   "execution_count": 23,
   "id": "147243be",
   "metadata": {},
   "outputs": [],
   "source": [
    "# step5: Run each value of the x array through the function. This will result in a new array with new values for the y-axis:\n",
    "\n",
    "mymodel = list(map(myfunc, x))"
   ]
  },
  {
   "cell_type": "code",
   "execution_count": 24,
   "id": "3c001d2e",
   "metadata": {},
   "outputs": [
    {
     "data": {
      "text/plain": [
       "<matplotlib.collections.PathCollection at 0x127b3d3f760>"
      ]
     },
     "execution_count": 24,
     "metadata": {},
     "output_type": "execute_result"
    },
    {
     "data": {
      "image/png": "[encoded data removed]",
      "text/plain": [
       "<Figure size 432x288 with 1 Axes>"
      ]
     },
     "metadata": {
      "needs_background": "light"
     },
     "output_type": "display_data"
    }
   ],
   "source": [
    "# step6: Draw the original scatter plot:\n",
    "\n",
    "plt.scatter(x, y)"
   ]
  },
  {
   "cell_type": "code",
   "execution_count": 25,
   "id": "11986217",
   "metadata": {},
   "outputs": [
    {
     "data": {
      "image/png": "[encoded data removed]",
      "text/plain": [
       "<Figure size 432x288 with 1 Axes>"
      ]
     },
     "metadata": {
      "needs_background": "light"
     },
     "output_type": "display_data"
    }
   ],
   "source": [
    "# step7: Draw the line of linear regression:\n",
    "\n",
    "plt.plot(x, mymodel)\n",
    "plt.show()"
   ]
  },
  {
   "cell_type": "code",
   "execution_count": 26,
   "id": "e34bf379",
   "metadata": {},
   "outputs": [
    {
     "name": "stdout",
     "output_type": "stream",
     "text": [
      "[94.3495217071376, 90.84694628403238, 89.09565857247976, 90.84694628403238, 99.60338484179543, 73.33406916850626, 99.60338484179543, 87.34437086092716, 96.10080941869022, 83.84179543782193, 82.09050772626932, 87.34437086092716, 92.59823399558499]\n"
     ]
    },
    {
     "data": {
      "image/png": "[encoded data removed]",
      "text/plain": [
       "<Figure size 432x288 with 1 Axes>"
      ]
     },
     "metadata": {
      "needs_background": "light"
     },
     "output_type": "display_data"
    }
   ],
   "source": [
    "x = [5,7,8,7,2,17,2,9,4,11,12,9,6]\n",
    "y = [99,86,87,88,111,86,103,87,94,78,77,85,86]\n",
    "\n",
    "slope, intercept, r, p, std_err = stats.linregress(x, y)\n",
    "\n",
    "def myfunc(x):\n",
    "    return slope * x + intercept\n",
    "\n",
    "mymodel = list(map(myfunc, x))\n",
    "\n",
    "print(mymodel)\n",
    "\n",
    "plt.scatter(x, y)\n",
    "plt.plot(x, mymodel)\n",
    "\n",
    "plt.xlabel(\"Ages\")\n",
    "plt.ylabel(\"Speeds\")\n",
    "plt.show()"
   ]
  },
  {
   "cell_type": "markdown",
   "id": "a5e3e38e",
   "metadata": {},
   "source": [
    "**R for Relationship**\n",
    "\n",
    "It is important to know how the relationship between the values of the x-axis and the values of the y-axis is, if there are no relationship the linear regression can not be used to predict anything.\n",
    "\n",
    "This relationship - the coefficient of correlation - is called r.\n",
    "\n",
    "The r value ranges from -1 to 1, where 0 means no relationship, and 1 (and -1) means 100% related.\n",
    "\n",
    "Python and the Scipy module will compute this value for you, all you have to do is feed it with the x and y values."
   ]
  },
  {
   "cell_type": "code",
   "execution_count": 27,
   "id": "8bcf260f",
   "metadata": {},
   "outputs": [
    {
     "name": "stdout",
     "output_type": "stream",
     "text": [
      "-0.758591524376155\n"
     ]
    }
   ],
   "source": [
    "# How well does my data fit in a linear regression\n",
    "\n",
    "print(r)"
   ]
  },
  {
   "cell_type": "markdown",
   "id": "8b5f74d7",
   "metadata": {},
   "source": [
    "The result `-0.76` shows that there is a relationship, not perfect, but it indicates that we could use linear regression in future predictions."
   ]
  },
  {
   "cell_type": "markdown",
   "id": "cc3a2d42",
   "metadata": {},
   "source": [
    "**Predict Future Values**\n",
    "\n",
    "Now we can use the information we have gathered to predict future values.\n",
    "\n",
    "Example: Let us try to predict the speed of a 10 years old car.\n",
    "\n",
    "To do so, we need the same `myfunc()` function from the example above:"
   ]
  },
  {
   "cell_type": "code",
   "execution_count": 28,
   "id": "b6d32161",
   "metadata": {},
   "outputs": [
    {
     "name": "stdout",
     "output_type": "stream",
     "text": [
      "85.59308314937454\n"
     ]
    }
   ],
   "source": [
    "# Predict the speed of a 10 years old car:\n",
    "\n",
    "from scipy import stats\n",
    "\n",
    "x = [5,7,8,7,2,17,2,9,4,11,12,9,6]\n",
    "y = [99,86,87,88,111,86,103,87,94,78,77,85,86]\n",
    "\n",
    "slope, intercept, r, p, std_err = stats.linregress(x, y)\n",
    "\n",
    "def myfunc(x):\n",
    "    return slope * x + intercept\n",
    "\n",
    "speed = myfunc(10)\n",
    "\n",
    "print(speed)"
   ]
  },
  {
   "cell_type": "markdown",
   "id": "927ae1bc",
   "metadata": {},
   "source": [
    "**Bad Fit?**\n",
    "\n",
    "Let us create an example where linear regression would not be the best method to predict future values."
   ]
  },
  {
   "cell_type": "code",
   "execution_count": 29,
   "id": "6ebb6e56",
   "metadata": {},
   "outputs": [
    {
     "data": {
      "image/png": "[encoded data removed]",
      "text/plain": [
       "<Figure size 432x288 with 1 Axes>"
      ]
     },
     "metadata": {
      "needs_background": "light"
     },
     "output_type": "display_data"
    }
   ],
   "source": [
    "# These values for the x- and y-axis should result in a very bad fit for linear regression:\n",
    "\n",
    "x = [89,43,36,36,95,10,66,34,38,20,26,29,48,64,6,5,36,66,72,40]\n",
    "y = [21,46,3,35,67,95,53,72,58,10,26,34,90,33,38,20,56,2,47,15]\n",
    "\n",
    "slope, intercept, r, p, std_err = stats.linregress(x, y)\n",
    "\n",
    "def myfunc(x):\n",
    "    return slope * x + intercept\n",
    "\n",
    "mymodel = list(map(myfunc, x))\n",
    "\n",
    "plt.scatter(x, y)\n",
    "plt.plot(x, mymodel)\n",
    "plt.show()"
   ]
  },
  {
   "cell_type": "code",
   "execution_count": 30,
   "id": "8a34ddd0",
   "metadata": {},
   "outputs": [
    {
     "name": "stdout",
     "output_type": "stream",
     "text": [
      "0.01331814154297491\n"
     ]
    }
   ],
   "source": [
    "# You should get a very low r value.\n",
    "\n",
    "print(r)"
   ]
  },
  {
   "cell_type": "markdown",
   "id": "6fb9494a",
   "metadata": {},
   "source": [
    "The result `0.013` indicates a very bad relationship, and tells us that this data set is not suitable for linear regression."
   ]
  },
  {
   "cell_type": "markdown",
   "id": "b7ee8c4a",
   "metadata": {},
   "source": [
    "<pre id='t12'></pre>\n",
    "# Polynomial Regression\n",
    "\n",
    "If your data points clearly will not fit a linear regression (a straight line through all data points), it might be ideal for polynomial regression.\n",
    "\n",
    "Polynomial regression, like linear regression, uses the relationship between the variables x and y to find the best way to draw a line through the data points.\n",
    "\n",
    "**How Does it Work?**\n",
    "\n",
    "Python has methods for finding a relationship between data-points and to draw a line of polynomial regression. We will show you how to use these methods instead of going through the mathematic formula.\n",
    "\n",
    "In the example below, we have registered 18 cars as they were passing a certain tollbooth.\n",
    "\n",
    "We have registered the car's speed, and the time of day (hour) the passing occurred.\n",
    "\n",
    "The x-axis represents the hours of the day and the y-axis represents the speed:"
   ]
  },
  {
   "cell_type": "code",
   "execution_count": 8,
   "id": "1cf32096",
   "metadata": {},
   "outputs": [
    {
     "data": {
      "image/png": "[encoded data removed]",
      "text/plain": [
       "<Figure size 432x288 with 1 Axes>"
      ]
     },
     "metadata": {
      "needs_background": "light"
     },
     "output_type": "display_data"
    }
   ],
   "source": [
    "import matplotlib.pyplot as plt\n",
    "\n",
    "x = [1,2,3,5,6,7,8,9,10,12,13,14,15,16,18,19,21,22]\n",
    "y = [100,90,80,60,60,55,60,65,70,70,75,76,78,79,90,99,99,100]\n",
    "\n",
    "plt.scatter(x, y)\n",
    "plt.xlabel(\"Hours\")\n",
    "plt.ylabel(\"Speeds\")\n",
    "plt.show()"
   ]
  },
  {
   "cell_type": "markdown",
   "id": "2955192b",
   "metadata": {},
   "source": [
    "**Draw the line of Polynomial Regression:**"
   ]
  },
  {
   "cell_type": "code",
   "execution_count": 9,
   "id": "89e20e32",
   "metadata": {},
   "outputs": [],
   "source": [
    "# step1: Create the arrays that represent the values of the x and y axis:\n",
    "\n",
    "x = [1,2,3,5,6,7,8,9,10,12,13,14,15,16,18,19,21,22]\n",
    "y = [100,90,80,60,60,55,60,65,70,70,75,76,78,79,90,99,99,100]"
   ]
  },
  {
   "cell_type": "code",
   "execution_count": 10,
   "id": "8ac26c9e",
   "metadata": {},
   "outputs": [
    {
     "data": {
      "text/plain": [
       "poly1d([-3.03208795e-02,  1.34333191e+00, -1.55383039e+01,  1.13768037e+02])"
      ]
     },
     "execution_count": 10,
     "metadata": {},
     "output_type": "execute_result"
    }
   ],
   "source": [
    "# step2: NumPy has a method that lets us make a polynomial model:\n",
    "\n",
    "mymodel = np.poly1d(np.polyfit(x, y, 3)) # polynomial model of degree 3 (cubic polynomial) \n",
    "mymodel"
   ]
  },
  {
   "cell_type": "markdown",
   "id": "a00d1440",
   "metadata": {},
   "source": [
    "**mymodel = numpy.poly1d(numpy.polyfit(x, y, 3)):**\n",
    "\n",
    "In this line, you are performing polynomial regression on your data points (x, y) to create a polynomial model of degree 3 (cubic polynomial) that fits these data points. Here's a breakdown of the line:\n",
    "\n",
    "`numpy.polyfit(x, y, 3)`: The numpy.polyfit function fits a polynomial of a specified degree (in this case, 3) to the given data points (x, y). It returns the coefficients of the polynomial that best fits the data. In other words, it calculates the coefficients a, b, c, and d for the cubic polynomial ax^3 + bx^2 + cx + d that fits the data.\n",
    "\n",
    "`numpy.poly1d(...)`: The numpy.poly1d function is used to create a one-dimensional polynomial object. It takes the coefficients of the polynomial as input and returns a function that represents this polynomial. In this case, you're passing the coefficients calculated by numpy.polyfit to create a cubic polynomial model.\n",
    "\n",
    "So, after this line of code, mymodel contains a cubic polynomial function that represents the best-fit curve for your data."
   ]
  },
  {
   "cell_type": "code",
   "execution_count": 11,
   "id": "ecdfec78",
   "metadata": {},
   "outputs": [
    {
     "data": {
      "text/plain": [
       "array([ 1.        ,  1.21212121,  1.42424242,  1.63636364,  1.84848485,\n",
       "        2.06060606,  2.27272727,  2.48484848,  2.6969697 ,  2.90909091,\n",
       "        3.12121212,  3.33333333,  3.54545455,  3.75757576,  3.96969697,\n",
       "        4.18181818,  4.39393939,  4.60606061,  4.81818182,  5.03030303,\n",
       "        5.24242424,  5.45454545,  5.66666667,  5.87878788,  6.09090909,\n",
       "        6.3030303 ,  6.51515152,  6.72727273,  6.93939394,  7.15151515,\n",
       "        7.36363636,  7.57575758,  7.78787879,  8.        ,  8.21212121,\n",
       "        8.42424242,  8.63636364,  8.84848485,  9.06060606,  9.27272727,\n",
       "        9.48484848,  9.6969697 ,  9.90909091, 10.12121212, 10.33333333,\n",
       "       10.54545455, 10.75757576, 10.96969697, 11.18181818, 11.39393939,\n",
       "       11.60606061, 11.81818182, 12.03030303, 12.24242424, 12.45454545,\n",
       "       12.66666667, 12.87878788, 13.09090909, 13.3030303 , 13.51515152,\n",
       "       13.72727273, 13.93939394, 14.15151515, 14.36363636, 14.57575758,\n",
       "       14.78787879, 15.        , 15.21212121, 15.42424242, 15.63636364,\n",
       "       15.84848485, 16.06060606, 16.27272727, 16.48484848, 16.6969697 ,\n",
       "       16.90909091, 17.12121212, 17.33333333, 17.54545455, 17.75757576,\n",
       "       17.96969697, 18.18181818, 18.39393939, 18.60606061, 18.81818182,\n",
       "       19.03030303, 19.24242424, 19.45454545, 19.66666667, 19.87878788,\n",
       "       20.09090909, 20.3030303 , 20.51515152, 20.72727273, 20.93939394,\n",
       "       21.15151515, 21.36363636, 21.57575758, 21.78787879, 22.        ])"
      ]
     },
     "execution_count": 11,
     "metadata": {},
     "output_type": "execute_result"
    }
   ],
   "source": [
    "# step3: Then specify how the line will display, we start at position 1, and end at position 22:\n",
    "\n",
    "myline = np.linspace(1, 22, 100) # enerate 100 equally spaced values between 1 and 22\n",
    "myline"
   ]
  },
  {
   "cell_type": "markdown",
   "id": "7d2b1056",
   "metadata": {},
   "source": [
    "**myline = numpy.linspace(1, 22, 100):**\n",
    "\n",
    "In this line, you are generating a set of evenly spaced values between 1 and 22 to use as the x-values for plotting your polynomial curve. Here's what each part of the line does:\n",
    "\n",
    "`numpy.linspace(start, stop, num)`: The numpy.linspace function generates num evenly spaced values between start and stop, inclusive. In your case, you want to generate 100 equally spaced values between 1 and 22. This line creates an array of 100 x-values that you can use for plotting.\n",
    "\n",
    "After this line of code, myline contains an array of x-values that span from 1 to 22 and will be used to evaluate your cubic polynomial model mymodel for plotting the curve."
   ]
  },
  {
   "cell_type": "code",
   "execution_count": 12,
   "id": "49a0aa13",
   "metadata": {},
   "outputs": [
    {
     "data": {
      "text/plain": [
       "<matplotlib.collections.PathCollection at 0x293dacce220>"
      ]
     },
     "execution_count": 12,
     "metadata": {},
     "output_type": "execute_result"
    },
    {
     "data": {
      "image/png": "[encoded data removed]",
      "text/plain": [
       "<Figure size 432x288 with 1 Axes>"
      ]
     },
     "metadata": {
      "needs_background": "light"
     },
     "output_type": "display_data"
    }
   ],
   "source": [
    "# step4: Draw the original scatter plot:\n",
    "\n",
    "plt.scatter(x, y)"
   ]
  },
  {
   "cell_type": "code",
   "execution_count": 13,
   "id": "a86ccbbd",
   "metadata": {},
   "outputs": [
    {
     "data": {
      "image/png": "[encoded data removed]",
      "text/plain": [
       "<Figure size 432x288 with 1 Axes>"
      ]
     },
     "metadata": {
      "needs_background": "light"
     },
     "output_type": "display_data"
    }
   ],
   "source": [
    "# step5: Draw the line of polynomial regression:\n",
    "\n",
    "plt.plot(myline, mymodel(myline))\n",
    "plt.show()"
   ]
  },
  {
   "cell_type": "code",
   "execution_count": 37,
   "id": "82e162a5",
   "metadata": {},
   "outputs": [
    {
     "data": {
      "image/png": "[encoded data removed]",
      "text/plain": [
       "<Figure size 432x288 with 1 Axes>"
      ]
     },
     "metadata": {
      "needs_background": "light"
     },
     "output_type": "display_data"
    }
   ],
   "source": [
    "x = [1,2,3,5,6,7,8,9,10,12,13,14,15,16,18,19,21,22]\n",
    "y = [100,90,80,60,60,55,60,65,70,70,75,76,78,79,90,99,99,100]\n",
    "\n",
    "mymodel = np.poly1d(np.polyfit(x, y, 3))\n",
    "\n",
    "myline = np.linspace(1, 22, 100)\n",
    "\n",
    "plt.scatter(x, y)\n",
    "plt.plot(myline, mymodel(myline))\n",
    "plt.show()"
   ]
  },
  {
   "cell_type": "markdown",
   "id": "42f2b2de",
   "metadata": {},
   "source": [
    "**Optional question**\n",
    "\n",
    "If your input data `x` is two-dimensional, it means you have multiple features or independent variables for each data point. In the context of polynomial regression, you can still perform it, but you'll be fitting a multivariate polynomial function to your data. This involves having different polynomial terms for combinations of your input features.\n",
    "\n",
    "Here's how you can adapt the code to handle two-dimensional input data:"
   ]
  },
  {
   "cell_type": "code",
   "execution_count": 15,
   "id": "a2e2d225",
   "metadata": {},
   "outputs": [
    {
     "name": "stdout",
     "output_type": "stream",
     "text": [
      "[[ 1  5]\n",
      " [ 2  6]\n",
      " [ 3  8]\n",
      " [ 5 10]\n",
      " [ 6 12]\n",
      " [ 7 14]\n",
      " [ 8 16]\n",
      " [ 9 18]\n",
      " [10 20]\n",
      " [12 22]\n",
      " [13 24]\n",
      " [14 26]\n",
      " [15 28]\n",
      " [16 30]\n",
      " [18 32]\n",
      " [19 34]\n",
      " [21 36]\n",
      " [22 38]]\n",
      "[ 1.          1.21212121  1.42424242  1.63636364  1.84848485  2.06060606\n",
      "  2.27272727  2.48484848  2.6969697   2.90909091  3.12121212  3.33333333\n",
      "  3.54545455  3.75757576  3.96969697  4.18181818  4.39393939  4.60606061\n",
      "  4.81818182  5.03030303  5.24242424  5.45454545  5.66666667  5.87878788\n",
      "  6.09090909  6.3030303   6.51515152  6.72727273  6.93939394  7.15151515\n",
      "  7.36363636  7.57575758  7.78787879  8.          8.21212121  8.42424242\n",
      "  8.63636364  8.84848485  9.06060606  9.27272727  9.48484848  9.6969697\n",
      "  9.90909091 10.12121212 10.33333333 10.54545455 10.75757576 10.96969697\n",
      " 11.18181818 11.39393939 11.60606061 11.81818182 12.03030303 12.24242424\n",
      " 12.45454545 12.66666667 12.87878788 13.09090909 13.3030303  13.51515152\n",
      " 13.72727273 13.93939394 14.15151515 14.36363636 14.57575758 14.78787879\n",
      " 15.         15.21212121 15.42424242 15.63636364 15.84848485 16.06060606\n",
      " 16.27272727 16.48484848 16.6969697  16.90909091 17.12121212 17.33333333\n",
      " 17.54545455 17.75757576 17.96969697 18.18181818 18.39393939 18.60606061\n",
      " 18.81818182 19.03030303 19.24242424 19.45454545 19.66666667 19.87878788\n",
      " 20.09090909 20.3030303  20.51515152 20.72727273 20.93939394 21.15151515\n",
      " 21.36363636 21.57575758 21.78787879 22.        ]\n",
      "[ 5.          5.33333333  5.66666667  6.          6.33333333  6.66666667\n",
      "  7.          7.33333333  7.66666667  8.          8.33333333  8.66666667\n",
      "  9.          9.33333333  9.66666667 10.         10.33333333 10.66666667\n",
      " 11.         11.33333333 11.66666667 12.         12.33333333 12.66666667\n",
      " 13.         13.33333333 13.66666667 14.         14.33333333 14.66666667\n",
      " 15.         15.33333333 15.66666667 16.         16.33333333 16.66666667\n",
      " 17.         17.33333333 17.66666667 18.         18.33333333 18.66666667\n",
      " 19.         19.33333333 19.66666667 20.         20.33333333 20.66666667\n",
      " 21.         21.33333333 21.66666667 22.         22.33333333 22.66666667\n",
      " 23.         23.33333333 23.66666667 24.         24.33333333 24.66666667\n",
      " 25.         25.33333333 25.66666667 26.         26.33333333 26.66666667\n",
      " 27.         27.33333333 27.66666667 28.         28.33333333 28.66666667\n",
      " 29.         29.33333333 29.66666667 30.         30.33333333 30.66666667\n",
      " 31.         31.33333333 31.66666667 32.         32.33333333 32.66666667\n",
      " 33.         33.33333333 33.66666667 34.         34.33333333 34.66666667\n",
      " 35.         35.33333333 35.66666667 36.         36.33333333 36.66666667\n",
      " 37.         37.33333333 37.66666667 38.        ]\n",
      "x1_grid [[ 1.          1.21212121  1.42424242 ... 21.57575758 21.78787879\n",
      "  22.        ]\n",
      " [ 1.          1.21212121  1.42424242 ... 21.57575758 21.78787879\n",
      "  22.        ]\n",
      " [ 1.          1.21212121  1.42424242 ... 21.57575758 21.78787879\n",
      "  22.        ]\n",
      " ...\n",
      " [ 1.          1.21212121  1.42424242 ... 21.57575758 21.78787879\n",
      "  22.        ]\n",
      " [ 1.          1.21212121  1.42424242 ... 21.57575758 21.78787879\n",
      "  22.        ]\n",
      " [ 1.          1.21212121  1.42424242 ... 21.57575758 21.78787879\n",
      "  22.        ]]\n"
     ]
    },
    {
     "data": {
      "image/png": "[encoded data removed]",
      "text/plain": [
       "<Figure size 432x288 with 1 Axes>"
      ]
     },
     "metadata": {
      "needs_background": "light"
     },
     "output_type": "display_data"
    }
   ],
   "source": [
    "# Define your two-dimensional input data (x1 and x2)\n",
    "x1 = [1, 2, 3, 5, 6, 7, 8, 9, 10, 12, 13, 14, 15, 16, 18, 19, 21, 22]\n",
    "x2 = [5, 6, 8, 10, 12, 14, 16, 18, 20, 22, 24, 26, 28, 30, 32, 34, 36, 38]\n",
    "\n",
    "# Combine the two-dimensional input data into a single array\n",
    "x = np.column_stack((x1, x2))\n",
    "print(x)\n",
    "\n",
    "y = [100, 90, 80, 60, 60, 55, 60, 65, 70, 70, 75, 76, 78, 79, 90, 99, 99, 100]\n",
    "\n",
    "# Fit a multivariate polynomial model of degree 3\n",
    "degree = 3\n",
    "coeffs = np.polyfit(x1, x2, degree)\n",
    "mymodel = np.poly1d(coeffs)\n",
    "\n",
    "# Generate a grid of x-values for plotting\n",
    "x1_range = np.linspace(min(x1), max(x1), 100)\n",
    "x2_range = np.linspace(min(x2), max(x2), 100)\n",
    "print(x1_range)\n",
    "print(x2_range)\n",
    "x1_grid, x2_grid = np.meshgrid(x1_range, x2_range)\n",
    "\n",
    "print(\"x1_grid\", x1_grid)\n",
    "\n",
    "# Compute the corresponding y-values using the polynomial model\n",
    "y_grid = mymodel(x1_grid)\n",
    "\n",
    "# Create a 3D scatter plot\n",
    "fig = plt.figure()\n",
    "ax = fig.add_subplot(111, projection='3d')\n",
    "ax.scatter(x1, x2, y, c='b', marker='o', label='Data Points')\n",
    "ax.plot_surface(x1_grid, x2_grid, y_grid, cmap='viridis', alpha=0.7, label='Polynomial Surface')\n",
    "ax.set_xlabel('X1')\n",
    "ax.set_ylabel('X2')\n",
    "ax.set_zlabel('Y')\n",
    "#plt.legend()\n",
    "plt.show()"
   ]
  },
  {
   "cell_type": "markdown",
   "id": "a007a314",
   "metadata": {},
   "source": [
    "**R-Squared**\n",
    "\n",
    "It is important to know how well the relationship between the values of the x- and y-axis is, if there are no relationship the polynomial regression can not be used to predict anything.\n",
    "\n",
    "The relationship is measured with a value called the r-squared.\n",
    "\n",
    "The r-squared value ranges from 0 to 1, where 0 means no relationship, and 1 means 100% related.\n",
    "\n",
    "Python and the Sklearn module will compute this value for you, all you have to do is feed it with the x and y arrays:"
   ]
  },
  {
   "cell_type": "code",
   "execution_count": 39,
   "id": "06ee79dc",
   "metadata": {},
   "outputs": [
    {
     "name": "stdout",
     "output_type": "stream",
     "text": [
      "0.9432150416451026\n"
     ]
    }
   ],
   "source": [
    "# How well does my data fit in a polynomial regression?\n",
    "\n",
    "import numpy\n",
    "from sklearn.metrics import r2_score\n",
    "\n",
    "x = [1,2,3,5,6,7,8,9,10,12,13,14,15,16,18,19,21,22]\n",
    "y = [100,90,80,60,60,55,60,65,70,70,75,76,78,79,90,99,99,100]\n",
    "\n",
    "mymodel = numpy.poly1d(numpy.polyfit(x, y, 3))\n",
    "\n",
    "print(r2_score(y, mymodel(x)))"
   ]
  },
  {
   "cell_type": "markdown",
   "id": "87919442",
   "metadata": {},
   "source": [
    "**Note:** The result 0.94 shows that there is a very good relationship, and we can use polynomial regression in future predictions."
   ]
  },
  {
   "cell_type": "markdown",
   "id": "6d8c5e8e",
   "metadata": {},
   "source": [
    "**Predict Future Values**\n",
    "\n",
    "Now we can use the information we have gathered to predict future values.\n",
    "\n",
    "Example: Let us try to predict the speed of a car that passes the tollbooth at around the time 17:00:\n",
    "\n",
    "To do so, we need the same mymodel array from the example above:"
   ]
  },
  {
   "cell_type": "code",
   "execution_count": 40,
   "id": "08b603f2",
   "metadata": {},
   "outputs": [
    {
     "name": "stdout",
     "output_type": "stream",
     "text": [
      "88.87331269698001\n"
     ]
    }
   ],
   "source": [
    "# Predict the speed of a car passing at 17:00:\n",
    "\n",
    "x = [1,2,3,5,6,7,8,9,10,12,13,14,15,16,18,19,21,22]\n",
    "y = [100,90,80,60,60,55,60,65,70,70,75,76,78,79,90,99,99,100]\n",
    "\n",
    "mymodel = numpy.poly1d(numpy.polyfit(x, y, 3))\n",
    "\n",
    "speed = mymodel(17)\n",
    "print(speed)\n"
   ]
  },
  {
   "cell_type": "markdown",
   "id": "c167bdc5",
   "metadata": {},
   "source": [
    "**Bad Fit?**\n",
    "\n",
    "Let us create an example where polynomial regression would not be the best method to predict future values.\n",
    "\n",
    "**Example**\n",
    "\n",
    "These values for the x- and y-axis should result in a very bad fit for polynomial regression:"
   ]
  },
  {
   "cell_type": "code",
   "execution_count": 41,
   "id": "0f5c6235",
   "metadata": {},
   "outputs": [
    {
     "data": {
      "image/png": "[encoded data removed]",
      "text/plain": [
       "<Figure size 432x288 with 1 Axes>"
      ]
     },
     "metadata": {
      "needs_background": "light"
     },
     "output_type": "display_data"
    }
   ],
   "source": [
    "x = [89,43,36,36,95,10,66,34,38,20,26,29,48,64,6,5,36,66,72,40]\n",
    "y = [21,46,3,35,67,95,53,72,58,10,26,34,90,33,38,20,56,2,47,15]\n",
    "\n",
    "mymodel = numpy.poly1d(numpy.polyfit(x, y, 3))\n",
    "\n",
    "myline = numpy.linspace(2, 95, 100)\n",
    "\n",
    "plt.scatter(x, y)\n",
    "plt.plot(myline, mymodel(myline))\n",
    "plt.show()"
   ]
  },
  {
   "cell_type": "markdown",
   "id": "5e71cd4e",
   "metadata": {},
   "source": [
    "**And the r-squared value?**\n",
    "\n",
    "Example"
   ]
  },
  {
   "cell_type": "code",
   "execution_count": 42,
   "id": "2769eaea",
   "metadata": {},
   "outputs": [
    {
     "name": "stdout",
     "output_type": "stream",
     "text": [
      "0.009952707566680652\n"
     ]
    }
   ],
   "source": [
    "# You should get a very low r-squared value.\n",
    "\n",
    "x = [89,43,36,36,95,10,66,34,38,20,26,29,48,64,6,5,36,66,72,40]\n",
    "y = [21,46,3,35,67,95,53,72,58,10,26,34,90,33,38,20,56,2,47,15]\n",
    "\n",
    "mymodel = numpy.poly1d(numpy.polyfit(x, y, 3))\n",
    "\n",
    "print(r2_score(y, mymodel(x)))"
   ]
  },
  {
   "cell_type": "markdown",
   "id": "30a45765",
   "metadata": {},
   "source": [
    "The result 0.00995 indicates a very bad relationship, and tells us that this data set is not suitable for polynomial regression."
   ]
  },
  {
   "cell_type": "markdown",
   "id": "16ac8e1d",
   "metadata": {},
   "source": [
    "<pre id='t13'></pre>\n",
    "# Multiple Regression\n",
    "\n",
    "Multiple regression is like linear regression, but with more than one independent value, meaning that we try to predict a value based on two or more variables.\n",
    "\n",
    "We can predict the CO2 emission of a car based on the size of the engine, but with multiple regression we can throw in more variables, like the weight of the car, to make the prediction more accurate.\n",
    "\n",
    "**How Does it Work?**\n",
    "\n",
    "In Python we have modules that will do the work for us. Start by importing the Pandas module."
   ]
  },
  {
   "cell_type": "code",
   "execution_count": 133,
   "id": "48dcd502",
   "metadata": {},
   "outputs": [],
   "source": [
    "import pandas as pd"
   ]
  },
  {
   "cell_type": "markdown",
   "id": "c4dbef1e",
   "metadata": {},
   "source": [
    "The Pandas module allows us to read csv files and return a DataFrame object.\n",
    "\n",
    "The file is meant for testing purposes only, you can download it here: data.csv"
   ]
  },
  {
   "cell_type": "code",
   "execution_count": 134,
   "id": "7296c352",
   "metadata": {},
   "outputs": [
    {
     "data": {
      "text/html": [
       "<div>\n",
       "<style scoped>\n",
       "    .dataframe tbody tr th:only-of-type {\n",
       "        vertical-align: middle;\n",
       "    }\n",
       "\n",
       "    .dataframe tbody tr th {\n",
       "        vertical-align: top;\n",
       "    }\n",
       "\n",
       "    .dataframe thead th {\n",
       "        text-align: right;\n",
       "    }\n",
       "</style>\n",
       "<table border=\"1\" class=\"dataframe\">\n",
       "  <thead>\n",
       "    <tr style=\"text-align: right;\">\n",
       "      <th></th>\n",
       "      <th>Car</th>\n",
       "      <th>Model</th>\n",
       "      <th>Volume</th>\n",
       "      <th>Weight</th>\n",
       "      <th>CO2</th>\n",
       "    </tr>\n",
       "  </thead>\n",
       "  <tbody>\n",
       "    <tr>\n",
       "      <th>0</th>\n",
       "      <td>Toyoty</td>\n",
       "      <td>Aygo</td>\n",
       "      <td>1000</td>\n",
       "      <td>790</td>\n",
       "      <td>99</td>\n",
       "    </tr>\n",
       "    <tr>\n",
       "      <th>1</th>\n",
       "      <td>Mitsubishi</td>\n",
       "      <td>Space Star</td>\n",
       "      <td>1200</td>\n",
       "      <td>1160</td>\n",
       "      <td>95</td>\n",
       "    </tr>\n",
       "    <tr>\n",
       "      <th>2</th>\n",
       "      <td>Skoda</td>\n",
       "      <td>Citigo</td>\n",
       "      <td>1000</td>\n",
       "      <td>929</td>\n",
       "      <td>95</td>\n",
       "    </tr>\n",
       "    <tr>\n",
       "      <th>3</th>\n",
       "      <td>Fiat</td>\n",
       "      <td>500</td>\n",
       "      <td>900</td>\n",
       "      <td>865</td>\n",
       "      <td>90</td>\n",
       "    </tr>\n",
       "    <tr>\n",
       "      <th>4</th>\n",
       "      <td>Mini</td>\n",
       "      <td>Cooper</td>\n",
       "      <td>1500</td>\n",
       "      <td>1140</td>\n",
       "      <td>105</td>\n",
       "    </tr>\n",
       "    <tr>\n",
       "      <th>5</th>\n",
       "      <td>VW</td>\n",
       "      <td>Up!</td>\n",
       "      <td>1000</td>\n",
       "      <td>929</td>\n",
       "      <td>105</td>\n",
       "    </tr>\n",
       "    <tr>\n",
       "      <th>6</th>\n",
       "      <td>Skoda</td>\n",
       "      <td>Fabia</td>\n",
       "      <td>1400</td>\n",
       "      <td>1109</td>\n",
       "      <td>90</td>\n",
       "    </tr>\n",
       "    <tr>\n",
       "      <th>7</th>\n",
       "      <td>Mercedes</td>\n",
       "      <td>A-Class</td>\n",
       "      <td>1500</td>\n",
       "      <td>1365</td>\n",
       "      <td>92</td>\n",
       "    </tr>\n",
       "    <tr>\n",
       "      <th>8</th>\n",
       "      <td>Ford</td>\n",
       "      <td>Fiesta</td>\n",
       "      <td>1500</td>\n",
       "      <td>1112</td>\n",
       "      <td>98</td>\n",
       "    </tr>\n",
       "    <tr>\n",
       "      <th>9</th>\n",
       "      <td>Audi</td>\n",
       "      <td>A1</td>\n",
       "      <td>1600</td>\n",
       "      <td>1150</td>\n",
       "      <td>99</td>\n",
       "    </tr>\n",
       "    <tr>\n",
       "      <th>10</th>\n",
       "      <td>Hyundai</td>\n",
       "      <td>I20</td>\n",
       "      <td>1100</td>\n",
       "      <td>980</td>\n",
       "      <td>99</td>\n",
       "    </tr>\n",
       "    <tr>\n",
       "      <th>11</th>\n",
       "      <td>Suzuki</td>\n",
       "      <td>Swift</td>\n",
       "      <td>1300</td>\n",
       "      <td>990</td>\n",
       "      <td>101</td>\n",
       "    </tr>\n",
       "    <tr>\n",
       "      <th>12</th>\n",
       "      <td>Ford</td>\n",
       "      <td>Fiesta</td>\n",
       "      <td>1000</td>\n",
       "      <td>1112</td>\n",
       "      <td>99</td>\n",
       "    </tr>\n",
       "    <tr>\n",
       "      <th>13</th>\n",
       "      <td>Honda</td>\n",
       "      <td>Civic</td>\n",
       "      <td>1600</td>\n",
       "      <td>1252</td>\n",
       "      <td>94</td>\n",
       "    </tr>\n",
       "    <tr>\n",
       "      <th>14</th>\n",
       "      <td>Hundai</td>\n",
       "      <td>I30</td>\n",
       "      <td>1600</td>\n",
       "      <td>1326</td>\n",
       "      <td>97</td>\n",
       "    </tr>\n",
       "    <tr>\n",
       "      <th>15</th>\n",
       "      <td>Opel</td>\n",
       "      <td>Astra</td>\n",
       "      <td>1600</td>\n",
       "      <td>1330</td>\n",
       "      <td>97</td>\n",
       "    </tr>\n",
       "    <tr>\n",
       "      <th>16</th>\n",
       "      <td>BMW</td>\n",
       "      <td>1</td>\n",
       "      <td>1600</td>\n",
       "      <td>1365</td>\n",
       "      <td>99</td>\n",
       "    </tr>\n",
       "    <tr>\n",
       "      <th>17</th>\n",
       "      <td>Mazda</td>\n",
       "      <td>3</td>\n",
       "      <td>2200</td>\n",
       "      <td>1280</td>\n",
       "      <td>104</td>\n",
       "    </tr>\n",
       "    <tr>\n",
       "      <th>18</th>\n",
       "      <td>Skoda</td>\n",
       "      <td>Rapid</td>\n",
       "      <td>1600</td>\n",
       "      <td>1119</td>\n",
       "      <td>104</td>\n",
       "    </tr>\n",
       "    <tr>\n",
       "      <th>19</th>\n",
       "      <td>Ford</td>\n",
       "      <td>Focus</td>\n",
       "      <td>2000</td>\n",
       "      <td>1328</td>\n",
       "      <td>105</td>\n",
       "    </tr>\n",
       "    <tr>\n",
       "      <th>20</th>\n",
       "      <td>Ford</td>\n",
       "      <td>Mondeo</td>\n",
       "      <td>1600</td>\n",
       "      <td>1584</td>\n",
       "      <td>94</td>\n",
       "    </tr>\n",
       "    <tr>\n",
       "      <th>21</th>\n",
       "      <td>Opel</td>\n",
       "      <td>Insignia</td>\n",
       "      <td>2000</td>\n",
       "      <td>1428</td>\n",
       "      <td>99</td>\n",
       "    </tr>\n",
       "    <tr>\n",
       "      <th>22</th>\n",
       "      <td>Mercedes</td>\n",
       "      <td>C-Class</td>\n",
       "      <td>2100</td>\n",
       "      <td>1365</td>\n",
       "      <td>99</td>\n",
       "    </tr>\n",
       "    <tr>\n",
       "      <th>23</th>\n",
       "      <td>Skoda</td>\n",
       "      <td>Octavia</td>\n",
       "      <td>1600</td>\n",
       "      <td>1415</td>\n",
       "      <td>99</td>\n",
       "    </tr>\n",
       "    <tr>\n",
       "      <th>24</th>\n",
       "      <td>Volvo</td>\n",
       "      <td>S60</td>\n",
       "      <td>2000</td>\n",
       "      <td>1415</td>\n",
       "      <td>99</td>\n",
       "    </tr>\n",
       "    <tr>\n",
       "      <th>25</th>\n",
       "      <td>Mercedes</td>\n",
       "      <td>CLA</td>\n",
       "      <td>1500</td>\n",
       "      <td>1465</td>\n",
       "      <td>102</td>\n",
       "    </tr>\n",
       "    <tr>\n",
       "      <th>26</th>\n",
       "      <td>Audi</td>\n",
       "      <td>A4</td>\n",
       "      <td>2000</td>\n",
       "      <td>1490</td>\n",
       "      <td>104</td>\n",
       "    </tr>\n",
       "    <tr>\n",
       "      <th>27</th>\n",
       "      <td>Audi</td>\n",
       "      <td>A6</td>\n",
       "      <td>2000</td>\n",
       "      <td>1725</td>\n",
       "      <td>114</td>\n",
       "    </tr>\n",
       "    <tr>\n",
       "      <th>28</th>\n",
       "      <td>Volvo</td>\n",
       "      <td>V70</td>\n",
       "      <td>1600</td>\n",
       "      <td>1523</td>\n",
       "      <td>109</td>\n",
       "    </tr>\n",
       "    <tr>\n",
       "      <th>29</th>\n",
       "      <td>BMW</td>\n",
       "      <td>5</td>\n",
       "      <td>2000</td>\n",
       "      <td>1705</td>\n",
       "      <td>114</td>\n",
       "    </tr>\n",
       "    <tr>\n",
       "      <th>30</th>\n",
       "      <td>Mercedes</td>\n",
       "      <td>E-Class</td>\n",
       "      <td>2100</td>\n",
       "      <td>1605</td>\n",
       "      <td>115</td>\n",
       "    </tr>\n",
       "    <tr>\n",
       "      <th>31</th>\n",
       "      <td>Volvo</td>\n",
       "      <td>XC70</td>\n",
       "      <td>2000</td>\n",
       "      <td>1746</td>\n",
       "      <td>117</td>\n",
       "    </tr>\n",
       "    <tr>\n",
       "      <th>32</th>\n",
       "      <td>Ford</td>\n",
       "      <td>B-Max</td>\n",
       "      <td>1600</td>\n",
       "      <td>1235</td>\n",
       "      <td>104</td>\n",
       "    </tr>\n",
       "    <tr>\n",
       "      <th>33</th>\n",
       "      <td>BMW</td>\n",
       "      <td>216</td>\n",
       "      <td>1600</td>\n",
       "      <td>1390</td>\n",
       "      <td>108</td>\n",
       "    </tr>\n",
       "    <tr>\n",
       "      <th>34</th>\n",
       "      <td>Opel</td>\n",
       "      <td>Zafira</td>\n",
       "      <td>1600</td>\n",
       "      <td>1405</td>\n",
       "      <td>109</td>\n",
       "    </tr>\n",
       "    <tr>\n",
       "      <th>35</th>\n",
       "      <td>Mercedes</td>\n",
       "      <td>SLK</td>\n",
       "      <td>2500</td>\n",
       "      <td>1395</td>\n",
       "      <td>120</td>\n",
       "    </tr>\n",
       "  </tbody>\n",
       "</table>\n",
       "</div>"
      ],
      "text/plain": [
       "           Car       Model  Volume  Weight  CO2\n",
       "0       Toyoty        Aygo    1000     790   99\n",
       "1   Mitsubishi  Space Star    1200    1160   95\n",
       "2        Skoda      Citigo    1000     929   95\n",
       "3         Fiat         500     900     865   90\n",
       "4         Mini      Cooper    1500    1140  105\n",
       "5           VW         Up!    1000     929  105\n",
       "6        Skoda       Fabia    1400    1109   90\n",
       "7     Mercedes     A-Class    1500    1365   92\n",
       "8         Ford      Fiesta    1500    1112   98\n",
       "9         Audi          A1    1600    1150   99\n",
       "10     Hyundai         I20    1100     980   99\n",
       "11      Suzuki       Swift    1300     990  101\n",
       "12        Ford      Fiesta    1000    1112   99\n",
       "13       Honda       Civic    1600    1252   94\n",
       "14      Hundai         I30    1600    1326   97\n",
       "15        Opel       Astra    1600    1330   97\n",
       "16         BMW           1    1600    1365   99\n",
       "17       Mazda           3    2200    1280  104\n",
       "18       Skoda       Rapid    1600    1119  104\n",
       "19        Ford       Focus    2000    1328  105\n",
       "20        Ford      Mondeo    1600    1584   94\n",
       "21        Opel    Insignia    2000    1428   99\n",
       "22    Mercedes     C-Class    2100    1365   99\n",
       "23       Skoda     Octavia    1600    1415   99\n",
       "24       Volvo         S60    2000    1415   99\n",
       "25    Mercedes         CLA    1500    1465  102\n",
       "26        Audi          A4    2000    1490  104\n",
       "27        Audi          A6    2000    1725  114\n",
       "28       Volvo         V70    1600    1523  109\n",
       "29         BMW           5    2000    1705  114\n",
       "30    Mercedes     E-Class    2100    1605  115\n",
       "31       Volvo        XC70    2000    1746  117\n",
       "32        Ford       B-Max    1600    1235  104\n",
       "33         BMW         216    1600    1390  108\n",
       "34        Opel      Zafira    1600    1405  109\n",
       "35    Mercedes         SLK    2500    1395  120"
      ]
     },
     "execution_count": 134,
     "metadata": {},
     "output_type": "execute_result"
    }
   ],
   "source": [
    "df = pd.read_csv(\"E:/Datasets/data.csv\")\n",
    "df"
   ]
  },
  {
   "cell_type": "markdown",
   "id": "d1b0512a",
   "metadata": {},
   "source": [
    "Then make a list of the independent values and call this variable `X`.\n",
    "\n",
    "Put the dependent values in a variable called `y`."
   ]
  },
  {
   "cell_type": "code",
   "execution_count": 135,
   "id": "58e5bf54",
   "metadata": {},
   "outputs": [],
   "source": [
    "X = df[['Weight', 'Volume']]\n",
    "y = df['CO2']"
   ]
  },
  {
   "cell_type": "markdown",
   "id": "9deacd73",
   "metadata": {},
   "source": [
    "**Tip:** It is common to name the list of independent values with a upper case X, and the list of dependent values with a lower case y.\n",
    "\n",
    "We will use some methods from the sklearn module, so we will have to import that module as well:"
   ]
  },
  {
   "cell_type": "code",
   "execution_count": 136,
   "id": "1f925095",
   "metadata": {},
   "outputs": [],
   "source": [
    "from sklearn import linear_model"
   ]
  },
  {
   "cell_type": "markdown",
   "id": "b5d0e403",
   "metadata": {},
   "source": [
    "From the sklearn module we will use the `LinearRegression()` method to create a linear regression object.\n",
    "\n",
    "This object has a method called `fit()` that takes the independent and dependent values as parameters and fills the regression object with data that describes the relationship:"
   ]
  },
  {
   "cell_type": "code",
   "execution_count": 137,
   "id": "efec1f2c",
   "metadata": {},
   "outputs": [
    {
     "data": {
      "text/html": [
       "<style>#sk-container-id-4 {color: black;background-color: white;}#sk-container-id-4 pre{padding: 0;}#sk-container-id-4 div.sk-toggleable {background-color: white;}#sk-container-id-4 label.sk-toggleable__label {cursor: pointer;display: block;width: 100%;margin-bottom: 0;padding: 0.3em;box-sizing: border-box;text-align: center;}#sk-container-id-4 label.sk-toggleable__label-arrow:before {content: \"▸\";float: left;margin-right: 0.25em;color: #696969;}#sk-container-id-4 label.sk-toggleable__label-arrow:hover:before {color: black;}#sk-container-id-4 div.sk-estimator:hover label.sk-toggleable__label-arrow:before {color: black;}#sk-container-id-4 div.sk-toggleable__content {max-height: 0;max-width: 0;overflow: hidden;text-align: left;background-color: #f0f8ff;}#sk-container-id-4 div.sk-toggleable__content pre {margin: 0.2em;color: black;border-radius: 0.25em;background-color: #f0f8ff;}#sk-container-id-4 input.sk-toggleable__control:checked~div.sk-toggleable__content {max-height: 200px;max-width: 100%;overflow: auto;}#sk-container-id-4 input.sk-toggleable__control:checked~label.sk-toggleable__label-arrow:before {content: \"▾\";}#sk-container-id-4 div.sk-estimator input.sk-toggleable__control:checked~label.sk-toggleable__label {background-color: #d4ebff;}#sk-container-id-4 div.sk-label input.sk-toggleable__control:checked~label.sk-toggleable__label {background-color: #d4ebff;}#sk-container-id-4 input.sk-hidden--visually {border: 0;clip: rect(1px 1px 1px 1px);clip: rect(1px, 1px, 1px, 1px);height: 1px;margin: -1px;overflow: hidden;padding: 0;position: absolute;width: 1px;}#sk-container-id-4 div.sk-estimator {font-family: monospace;background-color: #f0f8ff;border: 1px dotted black;border-radius: 0.25em;box-sizing: border-box;margin-bottom: 0.5em;}#sk-container-id-4 div.sk-estimator:hover {background-color: #d4ebff;}#sk-container-id-4 div.sk-parallel-item::after {content: \"\";width: 100%;border-bottom: 1px solid gray;flex-grow: 1;}#sk-container-id-4 div.sk-label:hover label.sk-toggleable__label {background-color: #d4ebff;}#sk-container-id-4 div.sk-serial::before {content: \"\";position: absolute;border-left: 1px solid gray;box-sizing: border-box;top: 0;bottom: 0;left: 50%;z-index: 0;}#sk-container-id-4 div.sk-serial {display: flex;flex-direction: column;align-items: center;background-color: white;padding-right: 0.2em;padding-left: 0.2em;position: relative;}#sk-container-id-4 div.sk-item {position: relative;z-index: 1;}#sk-container-id-4 div.sk-parallel {display: flex;align-items: stretch;justify-content: center;background-color: white;position: relative;}#sk-container-id-4 div.sk-item::before, #sk-container-id-4 div.sk-parallel-item::before {content: \"\";position: absolute;border-left: 1px solid gray;box-sizing: border-box;top: 0;bottom: 0;left: 50%;z-index: -1;}#sk-container-id-4 div.sk-parallel-item {display: flex;flex-direction: column;z-index: 1;position: relative;background-color: white;}#sk-container-id-4 div.sk-parallel-item:first-child::after {align-self: flex-end;width: 50%;}#sk-container-id-4 div.sk-parallel-item:last-child::after {align-self: flex-start;width: 50%;}#sk-container-id-4 div.sk-parallel-item:only-child::after {width: 0;}#sk-container-id-4 div.sk-dashed-wrapped {border: 1px dashed gray;margin: 0 0.4em 0.5em 0.4em;box-sizing: border-box;padding-bottom: 0.4em;background-color: white;}#sk-container-id-4 div.sk-label label {font-family: monospace;font-weight: bold;display: inline-block;line-height: 1.2em;}#sk-container-id-4 div.sk-label-container {text-align: center;}#sk-container-id-4 div.sk-container {/* jupyter's `normalize.less` sets `[hidden] { display: none; }` but bootstrap.min.css set `[hidden] { display: none !important; }` so we also need the `!important` here to be able to override the default hidden behavior on the sphinx rendered scikit-learn.org. See: https://github.com/scikit-learn/scikit-learn/issues/21755 */display: inline-block !important;position: relative;}#sk-container-id-4 div.sk-text-repr-fallback {display: none;}</style><div id=\"sk-container-id-4\" class=\"sk-top-container\"><div class=\"sk-text-repr-fallback\"><pre>LinearRegression()</pre><b>In a Jupyter environment, please rerun this cell to show the HTML representation or trust the notebook. <br />On GitHub, the HTML representation is unable to render, please try loading this page with nbviewer.org.</b></div><div class=\"sk-container\" hidden><div class=\"sk-item\"><div class=\"sk-estimator sk-toggleable\"><input class=\"sk-toggleable__control sk-hidden--visually\" id=\"sk-estimator-id-4\" type=\"checkbox\" checked><label for=\"sk-estimator-id-4\" class=\"sk-toggleable__label sk-toggleable__label-arrow\">LinearRegression</label><div class=\"sk-toggleable__content\"><pre>LinearRegression()</pre></div></div></div></div></div>"
      ],
      "text/plain": [
       "LinearRegression()"
      ]
     },
     "execution_count": 137,
     "metadata": {},
     "output_type": "execute_result"
    }
   ],
   "source": [
    "regr = linear_model.LinearRegression()\n",
    "regr.fit(X, y)"
   ]
  },
  {
   "cell_type": "markdown",
   "id": "00bc37e6",
   "metadata": {},
   "source": [
    "Now we have a regression object that are ready to predict CO2 values based on a car's weight and volume:"
   ]
  },
  {
   "cell_type": "code",
   "execution_count": 138,
   "id": "35accbb9",
   "metadata": {},
   "outputs": [
    {
     "name": "stderr",
     "output_type": "stream",
     "text": [
      "d:\\programs\\python\\lib\\site-packages\\sklearn\\base.py:450: UserWarning: X does not have valid feature names, but LinearRegression was fitted with feature names\n",
      "  warnings.warn(\n"
     ]
    }
   ],
   "source": [
    "# predict the CO2 emission of a car where the weight is 2300kg, and the volume is 1300cm3:\n",
    "predictedCO2 = regr.predict([[2300, 1300]])"
   ]
  },
  {
   "cell_type": "code",
   "execution_count": 139,
   "id": "d0b8b786",
   "metadata": {},
   "outputs": [
    {
     "name": "stdout",
     "output_type": "stream",
     "text": [
      "[107.2087328]\n"
     ]
    }
   ],
   "source": [
    "print(predictedCO2)"
   ]
  },
  {
   "cell_type": "markdown",
   "id": "635a4987",
   "metadata": {},
   "source": [
    "We have predicted that a car with 1.3 liter engine, and a weight of 2300 kg, will release approximately 107 grams of CO2 for every kilometer it drives."
   ]
  },
  {
   "cell_type": "markdown",
   "id": "dd8c7df4",
   "metadata": {},
   "source": [
    "**Coefficient**\n",
    "\n",
    "The coefficient is a factor that describes the relationship with an unknown variable.\n",
    "\n",
    "Example: if `x` is a variable, then `2x` is `x` two times. `x` is the unknown variable, and the number `2` is the coefficient.\n",
    "\n",
    "In this case, we can ask for the coefficient value of weight against CO2, and for volume against CO2. The answer(s) we get tells us what would happen if we increase, or decrease, one of the independent values."
   ]
  },
  {
   "cell_type": "code",
   "execution_count": 140,
   "id": "05d6a9b3",
   "metadata": {
    "scrolled": true
   },
   "outputs": [
    {
     "name": "stdout",
     "output_type": "stream",
     "text": [
      "[0.00755095 0.00780526]\n"
     ]
    }
   ],
   "source": [
    "# Print the coefficient values of the regression object:\n",
    "\n",
    "print(regr.coef_)"
   ]
  },
  {
   "cell_type": "markdown",
   "id": "bc473849",
   "metadata": {},
   "source": [
    "**Result Explained**\n",
    "\n",
    "The result array represents the coefficient values of weight and volume.\n",
    "\n",
    "`Weight: 0.00755095`\n",
    "`Volume: 0.00780526`\n",
    "\n",
    "These values tell us that if the weight increase by 1kg, the CO2 emission increases by 0.00755095g.\n",
    "\n",
    "And if the engine size (Volume) increases by 1 cm3, the CO2 emission increases by 0.00780526 g.\n",
    "\n",
    "I think that is a fair guess, but let test it!\n",
    "\n",
    "We have already predicted that if a car with a 1300cm3 engine weighs 2300kg, the CO2 emission will be approximately 107g.\n",
    "\n",
    "What if we increase the weight with 1000kg?"
   ]
  },
  {
   "cell_type": "code",
   "execution_count": 141,
   "id": "43fa1ddf",
   "metadata": {},
   "outputs": [
    {
     "name": "stdout",
     "output_type": "stream",
     "text": [
      "[114.75968007]\n"
     ]
    },
    {
     "name": "stderr",
     "output_type": "stream",
     "text": [
      "d:\\programs\\python\\lib\\site-packages\\sklearn\\base.py:450: UserWarning: X does not have valid feature names, but LinearRegression was fitted with feature names\n",
      "  warnings.warn(\n"
     ]
    }
   ],
   "source": [
    "predictedCO2 = regr.predict([[3300, 1300]])\n",
    "\n",
    "print(predictedCO2)"
   ]
  },
  {
   "cell_type": "markdown",
   "id": "b49930cb",
   "metadata": {},
   "source": [
    "We have predicted that a car with 1.3 liter engine, and a weight of 3300 kg, will release approximately 115 grams of CO2 for every kilometer it drives.\n",
    "\n",
    "Which shows that the coefficient of 0.00755095 is correct:\n",
    "\n",
    "107.2087328 + (1000 * 0.00755095) = 114.75968"
   ]
  },
  {
   "cell_type": "markdown",
   "id": "1f968874",
   "metadata": {},
   "source": [
    "<pre id='t14'></pre>\n",
    "# Scale Features\n",
    "\n",
    "When your data has different values, and even different measurement units, it can be difficult to compare them. What is kilograms compared to meters? Or altitude compared to time?\n",
    "\n",
    "The answer to this problem is scaling. We can scale data into new values that are easier to compare.\n",
    "\n",
    "Take a look at the table below, it is the same data set that we used in the multiple regression chapter, but this time the volume column contains values in liters instead of cm3 (1.0 instead of 1000)."
   ]
  },
  {
   "cell_type": "code",
   "execution_count": 142,
   "id": "82f6cfa3",
   "metadata": {},
   "outputs": [
    {
     "data": {
      "text/html": [
       "<div>\n",
       "<style scoped>\n",
       "    .dataframe tbody tr th:only-of-type {\n",
       "        vertical-align: middle;\n",
       "    }\n",
       "\n",
       "    .dataframe tbody tr th {\n",
       "        vertical-align: top;\n",
       "    }\n",
       "\n",
       "    .dataframe thead th {\n",
       "        text-align: right;\n",
       "    }\n",
       "</style>\n",
       "<table border=\"1\" class=\"dataframe\">\n",
       "  <thead>\n",
       "    <tr style=\"text-align: right;\">\n",
       "      <th></th>\n",
       "      <th>Car</th>\n",
       "      <th>Model</th>\n",
       "      <th>Volume</th>\n",
       "      <th>Weight</th>\n",
       "      <th>CO2</th>\n",
       "    </tr>\n",
       "  </thead>\n",
       "  <tbody>\n",
       "    <tr>\n",
       "      <th>0</th>\n",
       "      <td>Toyoty</td>\n",
       "      <td>Aygo</td>\n",
       "      <td>1.0</td>\n",
       "      <td>790</td>\n",
       "      <td>99</td>\n",
       "    </tr>\n",
       "    <tr>\n",
       "      <th>1</th>\n",
       "      <td>Mitsubishi</td>\n",
       "      <td>Space Star</td>\n",
       "      <td>1.2</td>\n",
       "      <td>1160</td>\n",
       "      <td>95</td>\n",
       "    </tr>\n",
       "    <tr>\n",
       "      <th>2</th>\n",
       "      <td>Skoda</td>\n",
       "      <td>Citigo</td>\n",
       "      <td>1.0</td>\n",
       "      <td>929</td>\n",
       "      <td>95</td>\n",
       "    </tr>\n",
       "    <tr>\n",
       "      <th>3</th>\n",
       "      <td>Fiat</td>\n",
       "      <td>500</td>\n",
       "      <td>0.9</td>\n",
       "      <td>865</td>\n",
       "      <td>90</td>\n",
       "    </tr>\n",
       "    <tr>\n",
       "      <th>4</th>\n",
       "      <td>Mini</td>\n",
       "      <td>Cooper</td>\n",
       "      <td>1.5</td>\n",
       "      <td>1140</td>\n",
       "      <td>105</td>\n",
       "    </tr>\n",
       "    <tr>\n",
       "      <th>5</th>\n",
       "      <td>VW</td>\n",
       "      <td>Up!</td>\n",
       "      <td>1.0</td>\n",
       "      <td>929</td>\n",
       "      <td>105</td>\n",
       "    </tr>\n",
       "    <tr>\n",
       "      <th>6</th>\n",
       "      <td>Skoda</td>\n",
       "      <td>Fabia</td>\n",
       "      <td>1.4</td>\n",
       "      <td>1109</td>\n",
       "      <td>90</td>\n",
       "    </tr>\n",
       "    <tr>\n",
       "      <th>7</th>\n",
       "      <td>Mercedes</td>\n",
       "      <td>A-Class</td>\n",
       "      <td>1.5</td>\n",
       "      <td>1365</td>\n",
       "      <td>92</td>\n",
       "    </tr>\n",
       "    <tr>\n",
       "      <th>8</th>\n",
       "      <td>Ford</td>\n",
       "      <td>Fiesta</td>\n",
       "      <td>1.5</td>\n",
       "      <td>1112</td>\n",
       "      <td>98</td>\n",
       "    </tr>\n",
       "    <tr>\n",
       "      <th>9</th>\n",
       "      <td>Audi</td>\n",
       "      <td>A1</td>\n",
       "      <td>1.6</td>\n",
       "      <td>1150</td>\n",
       "      <td>99</td>\n",
       "    </tr>\n",
       "    <tr>\n",
       "      <th>10</th>\n",
       "      <td>Hyundai</td>\n",
       "      <td>I20</td>\n",
       "      <td>1.1</td>\n",
       "      <td>980</td>\n",
       "      <td>99</td>\n",
       "    </tr>\n",
       "    <tr>\n",
       "      <th>11</th>\n",
       "      <td>Suzuki</td>\n",
       "      <td>Swift</td>\n",
       "      <td>1.3</td>\n",
       "      <td>990</td>\n",
       "      <td>101</td>\n",
       "    </tr>\n",
       "    <tr>\n",
       "      <th>12</th>\n",
       "      <td>Ford</td>\n",
       "      <td>Fiesta</td>\n",
       "      <td>1.0</td>\n",
       "      <td>1112</td>\n",
       "      <td>99</td>\n",
       "    </tr>\n",
       "    <tr>\n",
       "      <th>13</th>\n",
       "      <td>Honda</td>\n",
       "      <td>Civic</td>\n",
       "      <td>1.6</td>\n",
       "      <td>1252</td>\n",
       "      <td>94</td>\n",
       "    </tr>\n",
       "    <tr>\n",
       "      <th>14</th>\n",
       "      <td>Hundai</td>\n",
       "      <td>I30</td>\n",
       "      <td>1.6</td>\n",
       "      <td>1326</td>\n",
       "      <td>97</td>\n",
       "    </tr>\n",
       "    <tr>\n",
       "      <th>15</th>\n",
       "      <td>Opel</td>\n",
       "      <td>Astra</td>\n",
       "      <td>1.6</td>\n",
       "      <td>1330</td>\n",
       "      <td>97</td>\n",
       "    </tr>\n",
       "    <tr>\n",
       "      <th>16</th>\n",
       "      <td>BMW</td>\n",
       "      <td>1</td>\n",
       "      <td>1.6</td>\n",
       "      <td>1365</td>\n",
       "      <td>99</td>\n",
       "    </tr>\n",
       "    <tr>\n",
       "      <th>17</th>\n",
       "      <td>Mazda</td>\n",
       "      <td>3</td>\n",
       "      <td>2.2</td>\n",
       "      <td>1280</td>\n",
       "      <td>104</td>\n",
       "    </tr>\n",
       "    <tr>\n",
       "      <th>18</th>\n",
       "      <td>Skoda</td>\n",
       "      <td>Rapid</td>\n",
       "      <td>1.6</td>\n",
       "      <td>1119</td>\n",
       "      <td>104</td>\n",
       "    </tr>\n",
       "    <tr>\n",
       "      <th>19</th>\n",
       "      <td>Ford</td>\n",
       "      <td>Focus</td>\n",
       "      <td>2.0</td>\n",
       "      <td>1328</td>\n",
       "      <td>105</td>\n",
       "    </tr>\n",
       "    <tr>\n",
       "      <th>20</th>\n",
       "      <td>Ford</td>\n",
       "      <td>Mondeo</td>\n",
       "      <td>1.6</td>\n",
       "      <td>1584</td>\n",
       "      <td>94</td>\n",
       "    </tr>\n",
       "    <tr>\n",
       "      <th>21</th>\n",
       "      <td>Opel</td>\n",
       "      <td>Insignia</td>\n",
       "      <td>2.0</td>\n",
       "      <td>1428</td>\n",
       "      <td>99</td>\n",
       "    </tr>\n",
       "    <tr>\n",
       "      <th>22</th>\n",
       "      <td>Mercedes</td>\n",
       "      <td>C-Class</td>\n",
       "      <td>2.1</td>\n",
       "      <td>1365</td>\n",
       "      <td>99</td>\n",
       "    </tr>\n",
       "    <tr>\n",
       "      <th>23</th>\n",
       "      <td>Skoda</td>\n",
       "      <td>Octavia</td>\n",
       "      <td>1.6</td>\n",
       "      <td>1415</td>\n",
       "      <td>99</td>\n",
       "    </tr>\n",
       "    <tr>\n",
       "      <th>24</th>\n",
       "      <td>Volvo</td>\n",
       "      <td>S60</td>\n",
       "      <td>2.0</td>\n",
       "      <td>1415</td>\n",
       "      <td>99</td>\n",
       "    </tr>\n",
       "    <tr>\n",
       "      <th>25</th>\n",
       "      <td>Mercedes</td>\n",
       "      <td>CLA</td>\n",
       "      <td>1.5</td>\n",
       "      <td>1465</td>\n",
       "      <td>102</td>\n",
       "    </tr>\n",
       "    <tr>\n",
       "      <th>26</th>\n",
       "      <td>Audi</td>\n",
       "      <td>A4</td>\n",
       "      <td>2.0</td>\n",
       "      <td>1490</td>\n",
       "      <td>104</td>\n",
       "    </tr>\n",
       "    <tr>\n",
       "      <th>27</th>\n",
       "      <td>Audi</td>\n",
       "      <td>A6</td>\n",
       "      <td>2.0</td>\n",
       "      <td>1725</td>\n",
       "      <td>114</td>\n",
       "    </tr>\n",
       "    <tr>\n",
       "      <th>28</th>\n",
       "      <td>Volvo</td>\n",
       "      <td>V70</td>\n",
       "      <td>1.6</td>\n",
       "      <td>1523</td>\n",
       "      <td>109</td>\n",
       "    </tr>\n",
       "    <tr>\n",
       "      <th>29</th>\n",
       "      <td>BMW</td>\n",
       "      <td>5</td>\n",
       "      <td>2.0</td>\n",
       "      <td>1705</td>\n",
       "      <td>114</td>\n",
       "    </tr>\n",
       "    <tr>\n",
       "      <th>30</th>\n",
       "      <td>Mercedes</td>\n",
       "      <td>E-Class</td>\n",
       "      <td>2.1</td>\n",
       "      <td>1605</td>\n",
       "      <td>115</td>\n",
       "    </tr>\n",
       "    <tr>\n",
       "      <th>31</th>\n",
       "      <td>Volvo</td>\n",
       "      <td>XC70</td>\n",
       "      <td>2.0</td>\n",
       "      <td>1746</td>\n",
       "      <td>117</td>\n",
       "    </tr>\n",
       "    <tr>\n",
       "      <th>32</th>\n",
       "      <td>Ford</td>\n",
       "      <td>B-Max</td>\n",
       "      <td>1.6</td>\n",
       "      <td>1235</td>\n",
       "      <td>104</td>\n",
       "    </tr>\n",
       "    <tr>\n",
       "      <th>33</th>\n",
       "      <td>BMW</td>\n",
       "      <td>216</td>\n",
       "      <td>1.6</td>\n",
       "      <td>1390</td>\n",
       "      <td>108</td>\n",
       "    </tr>\n",
       "    <tr>\n",
       "      <th>34</th>\n",
       "      <td>Opel</td>\n",
       "      <td>Zafira</td>\n",
       "      <td>1.6</td>\n",
       "      <td>1405</td>\n",
       "      <td>109</td>\n",
       "    </tr>\n",
       "    <tr>\n",
       "      <th>35</th>\n",
       "      <td>Mercedes</td>\n",
       "      <td>SLK</td>\n",
       "      <td>2.5</td>\n",
       "      <td>1395</td>\n",
       "      <td>120</td>\n",
       "    </tr>\n",
       "  </tbody>\n",
       "</table>\n",
       "</div>"
      ],
      "text/plain": [
       "           Car       Model  Volume  Weight  CO2\n",
       "0       Toyoty        Aygo     1.0     790   99\n",
       "1   Mitsubishi  Space Star     1.2    1160   95\n",
       "2        Skoda      Citigo     1.0     929   95\n",
       "3         Fiat         500     0.9     865   90\n",
       "4         Mini      Cooper     1.5    1140  105\n",
       "5           VW         Up!     1.0     929  105\n",
       "6        Skoda       Fabia     1.4    1109   90\n",
       "7     Mercedes     A-Class     1.5    1365   92\n",
       "8         Ford      Fiesta     1.5    1112   98\n",
       "9         Audi          A1     1.6    1150   99\n",
       "10     Hyundai         I20     1.1     980   99\n",
       "11      Suzuki       Swift     1.3     990  101\n",
       "12        Ford      Fiesta     1.0    1112   99\n",
       "13       Honda       Civic     1.6    1252   94\n",
       "14      Hundai         I30     1.6    1326   97\n",
       "15        Opel       Astra     1.6    1330   97\n",
       "16         BMW           1     1.6    1365   99\n",
       "17       Mazda           3     2.2    1280  104\n",
       "18       Skoda       Rapid     1.6    1119  104\n",
       "19        Ford       Focus     2.0    1328  105\n",
       "20        Ford      Mondeo     1.6    1584   94\n",
       "21        Opel    Insignia     2.0    1428   99\n",
       "22    Mercedes     C-Class     2.1    1365   99\n",
       "23       Skoda     Octavia     1.6    1415   99\n",
       "24       Volvo         S60     2.0    1415   99\n",
       "25    Mercedes         CLA     1.5    1465  102\n",
       "26        Audi          A4     2.0    1490  104\n",
       "27        Audi          A6     2.0    1725  114\n",
       "28       Volvo         V70     1.6    1523  109\n",
       "29         BMW           5     2.0    1705  114\n",
       "30    Mercedes     E-Class     2.1    1605  115\n",
       "31       Volvo        XC70     2.0    1746  117\n",
       "32        Ford       B-Max     1.6    1235  104\n",
       "33         BMW         216     1.6    1390  108\n",
       "34        Opel      Zafira     1.6    1405  109\n",
       "35    Mercedes         SLK     2.5    1395  120"
      ]
     },
     "execution_count": 142,
     "metadata": {},
     "output_type": "execute_result"
    }
   ],
   "source": [
    "df['Volume']=df['Volume']/1000\n",
    "df"
   ]
  },
  {
   "cell_type": "markdown",
   "id": "f8514778",
   "metadata": {},
   "source": [
    "It can be difficult to compare the volume 1.0 with the weight 790, but if we scale them both into comparable values, we can easily see how much one value is compared to the other.\n",
    "\n",
    "There are different methods for scaling data, in this tutorial we will use a method called standardization.\n",
    "\n",
    "The standardization method uses this formula:\n",
    "\n",
    "`z = (x - u) / s`\n",
    "\n",
    "Where `z` is the new value, `x` is the original value, `u` is the mean and `s` is the standard deviation.\n",
    "\n",
    "If you take the **weight** column from the data set above, the first value is 790, and the scaled value will be:\n",
    "\n",
    "`(790 - 1292.23) / 238.74 = -2.1`\n",
    "\n",
    "If you take the **volume** column from the data set above, the first value is 1.0, and the scaled value will be:\n",
    "\n",
    "`1.0 - 1.61) / 0.38 = -1.59`\n",
    "\n",
    "Now you can compare -2.1 with -1.59 instead of comparing 790 with 1.0.\n",
    "\n",
    "You do not have to do this manually, the Python sklearn module has a method called `StandardScaler()` which returns a Scaler object with methods for transforming data sets."
   ]
  },
  {
   "cell_type": "code",
   "execution_count": 143,
   "id": "f9998c93",
   "metadata": {},
   "outputs": [
    {
     "name": "stdout",
     "output_type": "stream",
     "text": [
      "[[-2.10389253 -1.59336644]\n",
      " [-0.55407235 -1.07190106]\n",
      " [-1.52166278 -1.59336644]\n",
      " [-1.78973979 -1.85409913]\n",
      " [-0.63784641 -0.28970299]\n",
      " [-1.52166278 -1.59336644]\n",
      " [-0.76769621 -0.55043568]\n",
      " [ 0.3046118  -0.28970299]\n",
      " [-0.7551301  -0.28970299]\n",
      " [-0.59595938 -0.0289703 ]\n",
      " [-1.30803892 -1.33263375]\n",
      " [-1.26615189 -0.81116837]\n",
      " [-0.7551301  -1.59336644]\n",
      " [-0.16871166 -0.0289703 ]\n",
      " [ 0.14125238 -0.0289703 ]\n",
      " [ 0.15800719 -0.0289703 ]\n",
      " [ 0.3046118  -0.0289703 ]\n",
      " [-0.05142797  1.53542584]\n",
      " [-0.72580918 -0.0289703 ]\n",
      " [ 0.14962979  1.01396046]\n",
      " [ 1.2219378  -0.0289703 ]\n",
      " [ 0.5685001   1.01396046]\n",
      " [ 0.3046118   1.27469315]\n",
      " [ 0.51404696 -0.0289703 ]\n",
      " [ 0.51404696  1.01396046]\n",
      " [ 0.72348212 -0.28970299]\n",
      " [ 0.8281997   1.01396046]\n",
      " [ 1.81254495  1.01396046]\n",
      " [ 0.96642691 -0.0289703 ]\n",
      " [ 1.72877089  1.01396046]\n",
      " [ 1.30990057  1.27469315]\n",
      " [ 1.90050772  1.01396046]\n",
      " [-0.23991961 -0.0289703 ]\n",
      " [ 0.40932938 -0.0289703 ]\n",
      " [ 0.47215993 -0.0289703 ]\n",
      " [ 0.4302729   2.31762392]]\n"
     ]
    }
   ],
   "source": [
    "# Scale all values in the Weight and Volume columns:\n",
    "\n",
    "from sklearn.preprocessing import StandardScaler\n",
    "scale = StandardScaler()\n",
    "\n",
    "X = df[['Weight', 'Volume']]\n",
    "\n",
    "scaledX = scale.fit_transform(X)\n",
    "\n",
    "print(scaledX)"
   ]
  },
  {
   "cell_type": "markdown",
   "id": "5f118aca",
   "metadata": {},
   "source": [
    "**Predict CO2 Values**\n",
    "\n",
    "The task in the Multiple Regression was to predict the CO2 emission from a car when you only knew its weight and volume.\n",
    "\n",
    "When the data set is scaled, you will have to use the scale when you predict values:"
   ]
  },
  {
   "cell_type": "code",
   "execution_count": 149,
   "id": "f55c4a8e",
   "metadata": {},
   "outputs": [
    {
     "name": "stdout",
     "output_type": "stream",
     "text": [
      "[107.2087328]\n"
     ]
    },
    {
     "name": "stderr",
     "output_type": "stream",
     "text": [
      "d:\\programs\\python\\lib\\site-packages\\sklearn\\base.py:450: UserWarning: X does not have valid feature names, but StandardScaler was fitted with feature names\n",
      "  warnings.warn(\n"
     ]
    }
   ],
   "source": [
    "# Predict the CO2 emission from a 1.3 liter car that weighs 2300 kilograms:\n",
    "\n",
    "X = df[['Weight', 'Volume']]\n",
    "y = df['CO2']\n",
    "\n",
    "scaledX = scale.fit_transform(X)\n",
    "\n",
    "regr = linear_model.LinearRegression()\n",
    "regr.fit(scaledX, y)\n",
    "\n",
    "scaled = scale.transform([[2300, 1.3]])\n",
    "\n",
    "predictedCO2 = regr.predict([scaled[0]])\n",
    "print(predictedCO2)"
   ]
  },
  {
   "cell_type": "code",
   "execution_count": null,
   "id": "7cb2dd9b",
   "metadata": {},
   "outputs": [],
   "source": []
  },
  {
   "cell_type": "markdown",
   "id": "3480aa99",
   "metadata": {},
   "source": [
    "<pre id='t15'></pre>\n",
    "# Train/Test\n",
    "\n",
    "In Machine Learning we create models to predict the outcome of certain events, like in the previous chapter where we predicted the CO2 emission of a car when we knew the weight and engine size.\n",
    "\n",
    "To measure if the model is good enough, we can use a method called Train/Test.\n",
    "\n",
    "Train/Test is a method to measure the accuracy of your model.\n",
    "\n",
    "It is called Train/Test because you split the data set into two sets: a training set and a testing set.\n",
    "\n",
    "80% for training, and 20% for testing.\n",
    "\n",
    "**Start With a Data Set**\n",
    "\n",
    "Start with a data set you want to test.\n",
    "\n",
    "Our data set illustrates 100 customers in a shop, and their shopping habits."
   ]
  },
  {
   "cell_type": "code",
   "execution_count": 55,
   "id": "e6770bb7",
   "metadata": {},
   "outputs": [
    {
     "data": {
      "image/png": "[encoded data removed]",
      "text/plain": [
       "<Figure size 432x288 with 1 Axes>"
      ]
     },
     "metadata": {
      "needs_background": "light"
     },
     "output_type": "display_data"
    }
   ],
   "source": [
    "import numpy\n",
    "import matplotlib.pyplot as plt\n",
    "numpy.random.seed(2)\n",
    "\n",
    "x = numpy.random.normal(3, 1, 100)\n",
    "y = numpy.random.normal(150, 40, 100) / x\n",
    "\n",
    "plt.scatter(x, y)\n",
    "plt.show()\n",
    "\n",
    "# The x axis represents the number of minutes before making a purchase.\n",
    "\n",
    "# The y axis represents the amount of money spent on the purchase."
   ]
  },
  {
   "cell_type": "markdown",
   "id": "3f9af340",
   "metadata": {},
   "source": [
    "The `numpy.random.seed()` function is used to set the seed value for the random number generator in NumPy.\n",
    "\n",
    "Setting a seed allows you to generate random numbers that are reproducible. In other words, if you use the same seed value, you will get the same sequence of random numbers every time you run your code. This can be particularly useful for debugging, testing, and ensuring that your results are consistent across different runs of your program.\n",
    "\n",
    "Setting a seed is especially important when you want to share your code with others or need to ensure that the randomness in your code doesn't change between runs, which can be useful in scientific research, simulations, or any situation where you need consistent random behavior."
   ]
  },
  {
   "cell_type": "markdown",
   "id": "0291f758",
   "metadata": {},
   "source": [
    "**y = numpy.random.normal(150, 40, 100) / x**\n",
    "\n",
    "`numpy.random.normal(150, 40, 100)`: This part generates an array of 100 random numbers drawn from a normal distribution with a mean (average) of 150 and a standard deviation of 40. In a normal distribution, the mean represents the central value around which the data is distributed, and the standard deviation measures the spread or dispersion of the data.\n",
    "\n",
    "`/ x`: After generating the random values for `y` based on the normal distribution, you are dividing each of these random `y` values by the corresponding value in the array `x`. This creates a new array `y` where each element is the result of dividing a random number from the normal distribution by the corresponding element in the `x` array.\n",
    "\n",
    "The result of this operation is that you have created a dataset where `y` is influenced by both the random variability introduced by the normal distribution and the values in the `x` array. \n",
    "\n",
    "Essentially, you are modeling a situation where `y` is dependent on `x` but also subject to random variation, which is common in many real-world scenarios where data is noisy or uncertain."
   ]
  },
  {
   "cell_type": "markdown",
   "id": "50b179a7",
   "metadata": {},
   "source": [
    "**Split Into Train/Test**\n",
    "\n",
    "The training set should be a random selection of 80% of the original data.\n",
    "\n",
    "The testing set should be the remaining 20%."
   ]
  },
  {
   "cell_type": "code",
   "execution_count": 56,
   "id": "df9f3aa9",
   "metadata": {},
   "outputs": [],
   "source": [
    "train_x = x[:80]\n",
    "train_y = y[:80]\n",
    "\n",
    "test_x = x[80:]\n",
    "test_y = y[80:]"
   ]
  },
  {
   "cell_type": "code",
   "execution_count": 57,
   "id": "d1038508",
   "metadata": {},
   "outputs": [
    {
     "data": {
      "image/png": "[encoded data removed]",
      "text/plain": [
       "<Figure size 432x288 with 1 Axes>"
      ]
     },
     "metadata": {
      "needs_background": "light"
     },
     "output_type": "display_data"
    }
   ],
   "source": [
    "# Display the same scatter plot with the training set:\n",
    "\n",
    "plt.scatter(train_x, train_y)\n",
    "plt.show()"
   ]
  },
  {
   "cell_type": "code",
   "execution_count": 58,
   "id": "99ac345d",
   "metadata": {},
   "outputs": [
    {
     "data": {
      "image/png": "[encoded data removed]",
      "text/plain": [
       "<Figure size 432x288 with 1 Axes>"
      ]
     },
     "metadata": {
      "needs_background": "light"
     },
     "output_type": "display_data"
    }
   ],
   "source": [
    "# take a look at the testing set as well\n",
    "\n",
    "plt.scatter(test_x, test_y)\n",
    "plt.show()"
   ]
  },
  {
   "cell_type": "markdown",
   "id": "5a4c986b",
   "metadata": {},
   "source": [
    "**Fit the Data Set**\n",
    "\n",
    "What does the data set look like? In my opinion I think the best fit would be a polynomial regression, so let us draw a line of polynomial regression.\n",
    "\n",
    "To draw a line through the data points, we use the `plot()` method of the matplotlib module:"
   ]
  },
  {
   "cell_type": "code",
   "execution_count": 59,
   "id": "da07e226",
   "metadata": {},
   "outputs": [
    {
     "data": {
      "image/png": "[encoded data removed]",
      "text/plain": [
       "<Figure size 432x288 with 1 Axes>"
      ]
     },
     "metadata": {
      "needs_background": "light"
     },
     "output_type": "display_data"
    }
   ],
   "source": [
    "# Draw a polynomial regression line through the data points:\n",
    "\n",
    "import numpy\n",
    "import matplotlib.pyplot as plt\n",
    "numpy.random.seed(2)\n",
    "\n",
    "x = numpy.random.normal(3, 1, 100)\n",
    "y = numpy.random.normal(150, 40, 100) / x\n",
    "\n",
    "train_x = x[:80]\n",
    "train_y = y[:80]\n",
    "\n",
    "test_x = x[80:]\n",
    "test_y = y[80:]\n",
    "\n",
    "mymodel = numpy.poly1d(numpy.polyfit(train_x, train_y, 4))\n",
    "\n",
    "myline = numpy.linspace(0, 6, 100)\n",
    "\n",
    "plt.scatter(train_x, train_y)\n",
    "plt.plot(myline, mymodel(myline))\n",
    "plt.show()"
   ]
  },
  {
   "cell_type": "markdown",
   "id": "36fa8fab",
   "metadata": {},
   "source": [
    "The result can back my suggestion of the data set fitting a polynomial regression, even though it would give us some weird results if we try to predict values outside of the data set. Example: the line indicates that a customer spending 6 minutes in the shop would make a purchase worth 200. That is probably a sign of overfitting.\n",
    "\n",
    "But what about the R-squared score? The R-squared score is a good indicator of how well my data set is fitting the model.\n"
   ]
  },
  {
   "cell_type": "markdown",
   "id": "8986291b",
   "metadata": {},
   "source": [
    "**R2**\n",
    "\n",
    "Remember R2, also known as R-squared?\n",
    "\n",
    "It measures the relationship between the x axis and the y axis, and the value ranges from 0 to 1, where 0 means no relationship, and 1 means totally related.\n",
    "\n",
    "The sklearn module has a method called `r2_score()` that will help us find this relationship.\n",
    "\n",
    "In this case we would like to measure the relationship between the minutes a customer stays in the shop and how much money they spend."
   ]
  },
  {
   "cell_type": "code",
   "execution_count": 60,
   "id": "ac3b6f98",
   "metadata": {},
   "outputs": [
    {
     "name": "stdout",
     "output_type": "stream",
     "text": [
      "0.7988645544629797\n"
     ]
    }
   ],
   "source": [
    "r2 = r2_score(train_y, mymodel(train_x))\n",
    "\n",
    "print(r2)"
   ]
  },
  {
   "cell_type": "markdown",
   "id": "5068dd25",
   "metadata": {},
   "source": [
    "The result 0.799 shows that there is a OK relationship.\n",
    "\n",
    "**Bring in the Testing Set**\n",
    "\n",
    "Now we have made a model that is OK, at least when it comes to training data.\n",
    "\n",
    "Now we want to test the model with the testing data as well, to see if gives us the same result.\n",
    "\n",
    "Example\n",
    "\n",
    "Let us find the R2 score when using testing data:"
   ]
  },
  {
   "cell_type": "code",
   "execution_count": 61,
   "id": "adc68a84",
   "metadata": {},
   "outputs": [
    {
     "name": "stdout",
     "output_type": "stream",
     "text": [
      "0.8086921460343581\n"
     ]
    }
   ],
   "source": [
    "r2 = r2_score(test_y, mymodel(test_x))\n",
    "\n",
    "print(r2)"
   ]
  },
  {
   "cell_type": "markdown",
   "id": "afa3ced9",
   "metadata": {},
   "source": [
    "The result 0.809 shows that the model fits the testing set as well, and we are confident that we can use the model to predict future values.\n",
    "\n",
    "**Predict Values**\n",
    "\n",
    "Now that we have established that our model is OK, we can start predicting new values."
   ]
  },
  {
   "cell_type": "code",
   "execution_count": 62,
   "id": "e95d0cee",
   "metadata": {},
   "outputs": [
    {
     "name": "stdout",
     "output_type": "stream",
     "text": [
      "22.87962591811811\n"
     ]
    }
   ],
   "source": [
    "# How much money will a buying customer spend, if she or he stays in the shop for 5 minutes?\n",
    "\n",
    "print(mymodel(5))"
   ]
  },
  {
   "cell_type": "markdown",
   "id": "f58c239a",
   "metadata": {},
   "source": [
    "<pre id='t16'></pre>\n",
    "# Decision Tree\n",
    "\n",
    "A Decision Tree is a Flow Chart, and can help you make decisions based on previous experience.\n",
    "\n",
    "To understand this concept lets create a dataset first:"
   ]
  },
  {
   "cell_type": "code",
   "execution_count": 63,
   "id": "74f20f99",
   "metadata": {},
   "outputs": [],
   "source": [
    "data={\n",
    "    'Age':[36,42,23,52,43,44,66,35,52,35,24,18,45],\n",
    "    'Experience':[10,12,4,4,21,14,3,14,13,5,3,3,9],\n",
    "    'Rank':[9,4,6,4,8,5,7,9,7,9,5,7,9],\n",
    "    'Nationality':['UK','USA','N','USA','USA','UK','N','UK','N','N','USA','UK','UK'],\n",
    "    'Go':['NO','NO','NO','NO','YES','NO','YES','YES','YES','YES','NO','YES','YES']\n",
    "}"
   ]
  },
  {
   "cell_type": "code",
   "execution_count": 64,
   "id": "b36eb03e",
   "metadata": {},
   "outputs": [
    {
     "data": {
      "text/html": [
       "<div>\n",
       "<style scoped>\n",
       "    .dataframe tbody tr th:only-of-type {\n",
       "        vertical-align: middle;\n",
       "    }\n",
       "\n",
       "    .dataframe tbody tr th {\n",
       "        vertical-align: top;\n",
       "    }\n",
       "\n",
       "    .dataframe thead th {\n",
       "        text-align: right;\n",
       "    }\n",
       "</style>\n",
       "<table border=\"1\" class=\"dataframe\">\n",
       "  <thead>\n",
       "    <tr style=\"text-align: right;\">\n",
       "      <th></th>\n",
       "      <th>Age</th>\n",
       "      <th>Experience</th>\n",
       "      <th>Rank</th>\n",
       "      <th>Nationality</th>\n",
       "      <th>Go</th>\n",
       "    </tr>\n",
       "  </thead>\n",
       "  <tbody>\n",
       "    <tr>\n",
       "      <th>0</th>\n",
       "      <td>36</td>\n",
       "      <td>10</td>\n",
       "      <td>9</td>\n",
       "      <td>UK</td>\n",
       "      <td>NO</td>\n",
       "    </tr>\n",
       "    <tr>\n",
       "      <th>1</th>\n",
       "      <td>42</td>\n",
       "      <td>12</td>\n",
       "      <td>4</td>\n",
       "      <td>USA</td>\n",
       "      <td>NO</td>\n",
       "    </tr>\n",
       "    <tr>\n",
       "      <th>2</th>\n",
       "      <td>23</td>\n",
       "      <td>4</td>\n",
       "      <td>6</td>\n",
       "      <td>N</td>\n",
       "      <td>NO</td>\n",
       "    </tr>\n",
       "    <tr>\n",
       "      <th>3</th>\n",
       "      <td>52</td>\n",
       "      <td>4</td>\n",
       "      <td>4</td>\n",
       "      <td>USA</td>\n",
       "      <td>NO</td>\n",
       "    </tr>\n",
       "    <tr>\n",
       "      <th>4</th>\n",
       "      <td>43</td>\n",
       "      <td>21</td>\n",
       "      <td>8</td>\n",
       "      <td>USA</td>\n",
       "      <td>YES</td>\n",
       "    </tr>\n",
       "    <tr>\n",
       "      <th>5</th>\n",
       "      <td>44</td>\n",
       "      <td>14</td>\n",
       "      <td>5</td>\n",
       "      <td>UK</td>\n",
       "      <td>NO</td>\n",
       "    </tr>\n",
       "    <tr>\n",
       "      <th>6</th>\n",
       "      <td>66</td>\n",
       "      <td>3</td>\n",
       "      <td>7</td>\n",
       "      <td>N</td>\n",
       "      <td>YES</td>\n",
       "    </tr>\n",
       "    <tr>\n",
       "      <th>7</th>\n",
       "      <td>35</td>\n",
       "      <td>14</td>\n",
       "      <td>9</td>\n",
       "      <td>UK</td>\n",
       "      <td>YES</td>\n",
       "    </tr>\n",
       "    <tr>\n",
       "      <th>8</th>\n",
       "      <td>52</td>\n",
       "      <td>13</td>\n",
       "      <td>7</td>\n",
       "      <td>N</td>\n",
       "      <td>YES</td>\n",
       "    </tr>\n",
       "    <tr>\n",
       "      <th>9</th>\n",
       "      <td>35</td>\n",
       "      <td>5</td>\n",
       "      <td>9</td>\n",
       "      <td>N</td>\n",
       "      <td>YES</td>\n",
       "    </tr>\n",
       "    <tr>\n",
       "      <th>10</th>\n",
       "      <td>24</td>\n",
       "      <td>3</td>\n",
       "      <td>5</td>\n",
       "      <td>USA</td>\n",
       "      <td>NO</td>\n",
       "    </tr>\n",
       "    <tr>\n",
       "      <th>11</th>\n",
       "      <td>18</td>\n",
       "      <td>3</td>\n",
       "      <td>7</td>\n",
       "      <td>UK</td>\n",
       "      <td>YES</td>\n",
       "    </tr>\n",
       "    <tr>\n",
       "      <th>12</th>\n",
       "      <td>45</td>\n",
       "      <td>9</td>\n",
       "      <td>9</td>\n",
       "      <td>UK</td>\n",
       "      <td>YES</td>\n",
       "    </tr>\n",
       "  </tbody>\n",
       "</table>\n",
       "</div>"
      ],
      "text/plain": [
       "    Age  Experience  Rank Nationality   Go\n",
       "0    36          10     9          UK   NO\n",
       "1    42          12     4         USA   NO\n",
       "2    23           4     6           N   NO\n",
       "3    52           4     4         USA   NO\n",
       "4    43          21     8         USA  YES\n",
       "5    44          14     5          UK   NO\n",
       "6    66           3     7           N  YES\n",
       "7    35          14     9          UK  YES\n",
       "8    52          13     7           N  YES\n",
       "9    35           5     9           N  YES\n",
       "10   24           3     5         USA   NO\n",
       "11   18           3     7          UK  YES\n",
       "12   45           9     9          UK  YES"
      ]
     },
     "execution_count": 64,
     "metadata": {},
     "output_type": "execute_result"
    }
   ],
   "source": [
    "import pandas as pd\n",
    "\n",
    "df=pd.DataFrame(data)\n",
    "df"
   ]
  },
  {
   "cell_type": "markdown",
   "id": "b6891364",
   "metadata": {},
   "source": [
    "To make a decision tree, all data has to be numerical.\n",
    "\n",
    "We have to convert the non numerical columns 'Nationality' and 'Go' into numerical values.\n",
    "\n",
    "Pandas has a `map()` method that takes a dictionary with information on how to convert the values.\n",
    "\n",
    "{'UK': 0, 'USA': 1, 'N': 2}\n",
    "\n",
    "Means convert the values 'UK' to 0, 'USA' to 1, and 'N' to 2."
   ]
  },
  {
   "cell_type": "code",
   "execution_count": 65,
   "id": "863b8333",
   "metadata": {},
   "outputs": [
    {
     "data": {
      "text/html": [
       "<div>\n",
       "<style scoped>\n",
       "    .dataframe tbody tr th:only-of-type {\n",
       "        vertical-align: middle;\n",
       "    }\n",
       "\n",
       "    .dataframe tbody tr th {\n",
       "        vertical-align: top;\n",
       "    }\n",
       "\n",
       "    .dataframe thead th {\n",
       "        text-align: right;\n",
       "    }\n",
       "</style>\n",
       "<table border=\"1\" class=\"dataframe\">\n",
       "  <thead>\n",
       "    <tr style=\"text-align: right;\">\n",
       "      <th></th>\n",
       "      <th>Age</th>\n",
       "      <th>Experience</th>\n",
       "      <th>Rank</th>\n",
       "      <th>Nationality</th>\n",
       "      <th>Go</th>\n",
       "    </tr>\n",
       "  </thead>\n",
       "  <tbody>\n",
       "    <tr>\n",
       "      <th>0</th>\n",
       "      <td>36</td>\n",
       "      <td>10</td>\n",
       "      <td>9</td>\n",
       "      <td>0</td>\n",
       "      <td>0</td>\n",
       "    </tr>\n",
       "    <tr>\n",
       "      <th>1</th>\n",
       "      <td>42</td>\n",
       "      <td>12</td>\n",
       "      <td>4</td>\n",
       "      <td>1</td>\n",
       "      <td>0</td>\n",
       "    </tr>\n",
       "    <tr>\n",
       "      <th>2</th>\n",
       "      <td>23</td>\n",
       "      <td>4</td>\n",
       "      <td>6</td>\n",
       "      <td>2</td>\n",
       "      <td>0</td>\n",
       "    </tr>\n",
       "    <tr>\n",
       "      <th>3</th>\n",
       "      <td>52</td>\n",
       "      <td>4</td>\n",
       "      <td>4</td>\n",
       "      <td>1</td>\n",
       "      <td>0</td>\n",
       "    </tr>\n",
       "    <tr>\n",
       "      <th>4</th>\n",
       "      <td>43</td>\n",
       "      <td>21</td>\n",
       "      <td>8</td>\n",
       "      <td>1</td>\n",
       "      <td>1</td>\n",
       "    </tr>\n",
       "    <tr>\n",
       "      <th>5</th>\n",
       "      <td>44</td>\n",
       "      <td>14</td>\n",
       "      <td>5</td>\n",
       "      <td>0</td>\n",
       "      <td>0</td>\n",
       "    </tr>\n",
       "    <tr>\n",
       "      <th>6</th>\n",
       "      <td>66</td>\n",
       "      <td>3</td>\n",
       "      <td>7</td>\n",
       "      <td>2</td>\n",
       "      <td>1</td>\n",
       "    </tr>\n",
       "    <tr>\n",
       "      <th>7</th>\n",
       "      <td>35</td>\n",
       "      <td>14</td>\n",
       "      <td>9</td>\n",
       "      <td>0</td>\n",
       "      <td>1</td>\n",
       "    </tr>\n",
       "    <tr>\n",
       "      <th>8</th>\n",
       "      <td>52</td>\n",
       "      <td>13</td>\n",
       "      <td>7</td>\n",
       "      <td>2</td>\n",
       "      <td>1</td>\n",
       "    </tr>\n",
       "    <tr>\n",
       "      <th>9</th>\n",
       "      <td>35</td>\n",
       "      <td>5</td>\n",
       "      <td>9</td>\n",
       "      <td>2</td>\n",
       "      <td>1</td>\n",
       "    </tr>\n",
       "    <tr>\n",
       "      <th>10</th>\n",
       "      <td>24</td>\n",
       "      <td>3</td>\n",
       "      <td>5</td>\n",
       "      <td>1</td>\n",
       "      <td>0</td>\n",
       "    </tr>\n",
       "    <tr>\n",
       "      <th>11</th>\n",
       "      <td>18</td>\n",
       "      <td>3</td>\n",
       "      <td>7</td>\n",
       "      <td>0</td>\n",
       "      <td>1</td>\n",
       "    </tr>\n",
       "    <tr>\n",
       "      <th>12</th>\n",
       "      <td>45</td>\n",
       "      <td>9</td>\n",
       "      <td>9</td>\n",
       "      <td>0</td>\n",
       "      <td>1</td>\n",
       "    </tr>\n",
       "  </tbody>\n",
       "</table>\n",
       "</div>"
      ],
      "text/plain": [
       "    Age  Experience  Rank  Nationality  Go\n",
       "0    36          10     9            0   0\n",
       "1    42          12     4            1   0\n",
       "2    23           4     6            2   0\n",
       "3    52           4     4            1   0\n",
       "4    43          21     8            1   1\n",
       "5    44          14     5            0   0\n",
       "6    66           3     7            2   1\n",
       "7    35          14     9            0   1\n",
       "8    52          13     7            2   1\n",
       "9    35           5     9            2   1\n",
       "10   24           3     5            1   0\n",
       "11   18           3     7            0   1\n",
       "12   45           9     9            0   1"
      ]
     },
     "execution_count": 65,
     "metadata": {},
     "output_type": "execute_result"
    }
   ],
   "source": [
    "# Change string values into numerical values:\n",
    "\n",
    "d = {'UK': 0, 'USA': 1, 'N': 2}\n",
    "df['Nationality'] = df['Nationality'].map(d)\n",
    "d = {'YES': 1, 'NO': 0}\n",
    "df['Go'] = df['Go'].map(d)\n",
    "\n",
    "df"
   ]
  },
  {
   "cell_type": "markdown",
   "id": "9a8c8c08",
   "metadata": {},
   "source": [
    "Then we have to separate the feature columns from the target column.\n",
    "\n",
    "The feature columns are the columns that we try to predict from, and the target column is the column with the values we try to predict."
   ]
  },
  {
   "cell_type": "code",
   "execution_count": 66,
   "id": "20a15497",
   "metadata": {},
   "outputs": [],
   "source": [
    "# X is the feature columns, y is the target column:\n",
    "\n",
    "features = ['Age', 'Experience', 'Rank', 'Nationality']\n",
    "\n",
    "X = df[features]\n",
    "y = df['Go']"
   ]
  },
  {
   "cell_type": "code",
   "execution_count": 67,
   "id": "ab768e8a",
   "metadata": {},
   "outputs": [
    {
     "data": {
      "text/html": [
       "<div>\n",
       "<style scoped>\n",
       "    .dataframe tbody tr th:only-of-type {\n",
       "        vertical-align: middle;\n",
       "    }\n",
       "\n",
       "    .dataframe tbody tr th {\n",
       "        vertical-align: top;\n",
       "    }\n",
       "\n",
       "    .dataframe thead th {\n",
       "        text-align: right;\n",
       "    }\n",
       "</style>\n",
       "<table border=\"1\" class=\"dataframe\">\n",
       "  <thead>\n",
       "    <tr style=\"text-align: right;\">\n",
       "      <th></th>\n",
       "      <th>Age</th>\n",
       "      <th>Experience</th>\n",
       "      <th>Rank</th>\n",
       "      <th>Nationality</th>\n",
       "    </tr>\n",
       "  </thead>\n",
       "  <tbody>\n",
       "    <tr>\n",
       "      <th>0</th>\n",
       "      <td>36</td>\n",
       "      <td>10</td>\n",
       "      <td>9</td>\n",
       "      <td>0</td>\n",
       "    </tr>\n",
       "    <tr>\n",
       "      <th>1</th>\n",
       "      <td>42</td>\n",
       "      <td>12</td>\n",
       "      <td>4</td>\n",
       "      <td>1</td>\n",
       "    </tr>\n",
       "    <tr>\n",
       "      <th>2</th>\n",
       "      <td>23</td>\n",
       "      <td>4</td>\n",
       "      <td>6</td>\n",
       "      <td>2</td>\n",
       "    </tr>\n",
       "    <tr>\n",
       "      <th>3</th>\n",
       "      <td>52</td>\n",
       "      <td>4</td>\n",
       "      <td>4</td>\n",
       "      <td>1</td>\n",
       "    </tr>\n",
       "    <tr>\n",
       "      <th>4</th>\n",
       "      <td>43</td>\n",
       "      <td>21</td>\n",
       "      <td>8</td>\n",
       "      <td>1</td>\n",
       "    </tr>\n",
       "    <tr>\n",
       "      <th>5</th>\n",
       "      <td>44</td>\n",
       "      <td>14</td>\n",
       "      <td>5</td>\n",
       "      <td>0</td>\n",
       "    </tr>\n",
       "    <tr>\n",
       "      <th>6</th>\n",
       "      <td>66</td>\n",
       "      <td>3</td>\n",
       "      <td>7</td>\n",
       "      <td>2</td>\n",
       "    </tr>\n",
       "    <tr>\n",
       "      <th>7</th>\n",
       "      <td>35</td>\n",
       "      <td>14</td>\n",
       "      <td>9</td>\n",
       "      <td>0</td>\n",
       "    </tr>\n",
       "    <tr>\n",
       "      <th>8</th>\n",
       "      <td>52</td>\n",
       "      <td>13</td>\n",
       "      <td>7</td>\n",
       "      <td>2</td>\n",
       "    </tr>\n",
       "    <tr>\n",
       "      <th>9</th>\n",
       "      <td>35</td>\n",
       "      <td>5</td>\n",
       "      <td>9</td>\n",
       "      <td>2</td>\n",
       "    </tr>\n",
       "    <tr>\n",
       "      <th>10</th>\n",
       "      <td>24</td>\n",
       "      <td>3</td>\n",
       "      <td>5</td>\n",
       "      <td>1</td>\n",
       "    </tr>\n",
       "    <tr>\n",
       "      <th>11</th>\n",
       "      <td>18</td>\n",
       "      <td>3</td>\n",
       "      <td>7</td>\n",
       "      <td>0</td>\n",
       "    </tr>\n",
       "    <tr>\n",
       "      <th>12</th>\n",
       "      <td>45</td>\n",
       "      <td>9</td>\n",
       "      <td>9</td>\n",
       "      <td>0</td>\n",
       "    </tr>\n",
       "  </tbody>\n",
       "</table>\n",
       "</div>"
      ],
      "text/plain": [
       "    Age  Experience  Rank  Nationality\n",
       "0    36          10     9            0\n",
       "1    42          12     4            1\n",
       "2    23           4     6            2\n",
       "3    52           4     4            1\n",
       "4    43          21     8            1\n",
       "5    44          14     5            0\n",
       "6    66           3     7            2\n",
       "7    35          14     9            0\n",
       "8    52          13     7            2\n",
       "9    35           5     9            2\n",
       "10   24           3     5            1\n",
       "11   18           3     7            0\n",
       "12   45           9     9            0"
      ]
     },
     "execution_count": 67,
     "metadata": {},
     "output_type": "execute_result"
    }
   ],
   "source": [
    "X"
   ]
  },
  {
   "cell_type": "code",
   "execution_count": 68,
   "id": "c408d85d",
   "metadata": {},
   "outputs": [
    {
     "data": {
      "text/plain": [
       "0     0\n",
       "1     0\n",
       "2     0\n",
       "3     0\n",
       "4     1\n",
       "5     0\n",
       "6     1\n",
       "7     1\n",
       "8     1\n",
       "9     1\n",
       "10    0\n",
       "11    1\n",
       "12    1\n",
       "Name: Go, dtype: int64"
      ]
     },
     "execution_count": 68,
     "metadata": {},
     "output_type": "execute_result"
    }
   ],
   "source": [
    "y"
   ]
  },
  {
   "cell_type": "markdown",
   "id": "3555cbda",
   "metadata": {},
   "source": [
    "Now we can create the actual decision tree, fit it with our details. Start by importing the modules we need:"
   ]
  },
  {
   "cell_type": "code",
   "execution_count": 69,
   "id": "2a232696",
   "metadata": {},
   "outputs": [
    {
     "data": {
      "text/plain": [
       "[Text(0.4, 0.875, 'Rank <= 6.5\\ngini = 0.497\\nsamples = 13\\nvalue = [6, 7]'),\n",
       " Text(0.2, 0.625, 'gini = 0.0\\nsamples = 5\\nvalue = [5, 0]'),\n",
       " Text(0.6, 0.625, 'Age <= 39.5\\ngini = 0.219\\nsamples = 8\\nvalue = [1, 7]'),\n",
       " Text(0.4, 0.375, 'Age <= 35.5\\ngini = 0.375\\nsamples = 4\\nvalue = [1, 3]'),\n",
       " Text(0.2, 0.125, 'gini = 0.0\\nsamples = 3\\nvalue = [0, 3]'),\n",
       " Text(0.6, 0.125, 'gini = 0.0\\nsamples = 1\\nvalue = [1, 0]'),\n",
       " Text(0.8, 0.375, 'gini = 0.0\\nsamples = 4\\nvalue = [0, 4]')]"
      ]
     },
     "execution_count": 69,
     "metadata": {},
     "output_type": "execute_result"
    },
    {
     "data": {
      "image/png": "[encoded data removed]",
      "text/plain": [
       "<Figure size 432x288 with 1 Axes>"
      ]
     },
     "metadata": {
      "needs_background": "light"
     },
     "output_type": "display_data"
    }
   ],
   "source": [
    "# Create and display a Decision Tree:\n",
    "\n",
    "import pandas\n",
    "from sklearn import tree\n",
    "from sklearn.tree import DecisionTreeClassifier\n",
    "import matplotlib.pyplot as plt\n",
    "\n",
    "dtree = DecisionTreeClassifier()\n",
    "dtree = dtree.fit(X, y)\n",
    "\n",
    "tree.plot_tree(dtree, feature_names=features)"
   ]
  },
  {
   "cell_type": "markdown",
   "id": "09d9f4bb",
   "metadata": {},
   "source": [
    "**Explanationof above result:** https://www.w3schools.com/python/python_ml_decision_tree.asp"
   ]
  },
  {
   "cell_type": "markdown",
   "id": "cbcc0fcd",
   "metadata": {},
   "source": [
    "**Predict Values**\n",
    "\n",
    "We can use the Decision Tree to predict new values.\n",
    "\n",
    "Example: Should I go see a show starring a 40 years old American comedian, with 10 years of experience, and a comedy ranking of 7?"
   ]
  },
  {
   "cell_type": "code",
   "execution_count": 70,
   "id": "7e53f32f",
   "metadata": {},
   "outputs": [
    {
     "name": "stdout",
     "output_type": "stream",
     "text": [
      "[1]\n"
     ]
    },
    {
     "name": "stderr",
     "output_type": "stream",
     "text": [
      "d:\\programs\\python\\lib\\site-packages\\sklearn\\base.py:450: UserWarning: X does not have valid feature names, but DecisionTreeClassifier was fitted with feature names\n",
      "  warnings.warn(\n"
     ]
    }
   ],
   "source": [
    "print(dtree.predict([[40, 10, 7, 1]]))"
   ]
  },
  {
   "cell_type": "code",
   "execution_count": 71,
   "id": "e1729e42",
   "metadata": {},
   "outputs": [
    {
     "name": "stdout",
     "output_type": "stream",
     "text": [
      "[0]\n"
     ]
    },
    {
     "name": "stderr",
     "output_type": "stream",
     "text": [
      "d:\\programs\\python\\lib\\site-packages\\sklearn\\base.py:450: UserWarning: X does not have valid feature names, but DecisionTreeClassifier was fitted with feature names\n",
      "  warnings.warn(\n"
     ]
    }
   ],
   "source": [
    "print(dtree.predict([[40, 10, 6, 1]]))"
   ]
  },
  {
   "cell_type": "markdown",
   "id": "f7613c4e",
   "metadata": {},
   "source": [
    "**Different Results**\n",
    "\n",
    "You will see that the Decision Tree gives you different results if you run it enough times, even if you feed it with the same data.\n",
    "\n",
    "That is because the Decision Tree does not give us a 100% certain answer. It is based on the probability of an outcome, and the answer will vary."
   ]
  },
  {
   "cell_type": "markdown",
   "id": "da905c63",
   "metadata": {},
   "source": [
    "<pre id='t17'></pre>\n",
    "# Confusion Matrix\n",
    "\n",
    "It is a table that is used in classification problems to assess where errors in the model were made.\n",
    "\n",
    "The rows represent the actual classes the outcomes should have been. While the columns represent the predictions we have made. Using this table it is easy to see which predictions are wrong.\n",
    "\n",
    "**Creating a Confusion Matrix**\n",
    "\n",
    "Confusion matrixes can be created by predictions made from a logistic regression.\n",
    "\n",
    "For now we will generate actual and predicted values by utilizing NumPy:"
   ]
  },
  {
   "cell_type": "code",
   "execution_count": 72,
   "id": "ed91c353",
   "metadata": {},
   "outputs": [],
   "source": [
    "import numpy"
   ]
  },
  {
   "cell_type": "markdown",
   "id": "d0e1112c",
   "metadata": {},
   "source": [
    "Next we will need to generate the numbers for \"actual\" and \"predicted\" values."
   ]
  },
  {
   "cell_type": "code",
   "execution_count": 73,
   "id": "d06854f4",
   "metadata": {},
   "outputs": [],
   "source": [
    "actual = numpy.random.binomial(1, 0.9, size = 1000)\n",
    "predicted = numpy.random.binomial(1, 0.9, size = 1000)"
   ]
  },
  {
   "cell_type": "markdown",
   "id": "0e55e932",
   "metadata": {},
   "source": [
    "In order to create the confusion matrix we need to import metrics from the `sklearn` module."
   ]
  },
  {
   "cell_type": "code",
   "execution_count": 74,
   "id": "113c92cd",
   "metadata": {},
   "outputs": [],
   "source": [
    "from sklearn import metrics"
   ]
  },
  {
   "cell_type": "markdown",
   "id": "3fc21a0a",
   "metadata": {},
   "source": [
    "Once metrics is imported we can use the confusion matrix function on our actual and predicted values."
   ]
  },
  {
   "cell_type": "code",
   "execution_count": 75,
   "id": "a44629b7",
   "metadata": {},
   "outputs": [],
   "source": [
    "confusion_matrix = metrics.confusion_matrix(actual, predicted)"
   ]
  },
  {
   "cell_type": "markdown",
   "id": "33e0ff7f",
   "metadata": {},
   "source": [
    "To create a more interpretable visual display we need to convert the table into a confusion matrix display."
   ]
  },
  {
   "cell_type": "code",
   "execution_count": 76,
   "id": "077d2495",
   "metadata": {},
   "outputs": [],
   "source": [
    "cm_display = metrics.ConfusionMatrixDisplay(confusion_matrix = confusion_matrix, display_labels = [False, True])"
   ]
  },
  {
   "cell_type": "markdown",
   "id": "dffebe9f",
   "metadata": {},
   "source": [
    "Vizualizing the display requires that we import pyplot from matplotlib."
   ]
  },
  {
   "cell_type": "code",
   "execution_count": 77,
   "id": "cf1f1d13",
   "metadata": {},
   "outputs": [],
   "source": [
    "import matplotlib.pyplot as plt"
   ]
  },
  {
   "cell_type": "code",
   "execution_count": 78,
   "id": "942e6118",
   "metadata": {},
   "outputs": [
    {
     "data": {
      "image/png": "[encoded data removed]",
      "text/plain": [
       "<Figure size 432x288 with 2 Axes>"
      ]
     },
     "metadata": {
      "needs_background": "light"
     },
     "output_type": "display_data"
    }
   ],
   "source": [
    "cm_display.plot()\n",
    "plt.show()"
   ]
  },
  {
   "cell_type": "code",
   "execution_count": 19,
   "id": "30aa9347",
   "metadata": {},
   "outputs": [
    {
     "name": "stdout",
     "output_type": "stream",
     "text": [
      "Confusion Matrix:\n",
      "[[3 1]\n",
      " [0 4]]\n"
     ]
    }
   ],
   "source": [
    "from sklearn.metrics import confusion_matrix\n",
    "import numpy as np\n",
    "\n",
    "# Example true labels and predicted labels\n",
    "y_true = np.array([\"cat\", \"dog\", \"cat\", \"dog\", \"dog\", \"cat\", \"cat\", \"dog\"])\n",
    "y_pred = np.array([\"cat\", \"dog\", \"dog\", \"dog\", \"dog\", \"cat\", \"cat\", \"dog\"])\n",
    "\n",
    "# Define the labels explicitly\n",
    "#labels = [\"cat\", \"dog\"]\n",
    "labels = [\"dog\", \"cat\"]\n",
    "\n",
    "# Compute confusion matrix with specified labels\n",
    "cm = confusion_matrix(y_true, y_pred)\n",
    "\n",
    "# Print confusion matrix\n",
    "print(\"Confusion Matrix:\")\n",
    "print(cm)\n"
   ]
  },
  {
   "cell_type": "code",
   "execution_count": 79,
   "id": "94802d37",
   "metadata": {},
   "outputs": [
    {
     "data": {
      "image/png": "[encoded data removed]",
      "text/plain": [
       "<Figure size 432x288 with 2 Axes>"
      ]
     },
     "metadata": {
      "needs_background": "light"
     },
     "output_type": "display_data"
    }
   ],
   "source": [
    "# See the whole example in action:\n",
    "\n",
    "import matplotlib.pyplot as plt\n",
    "import numpy\n",
    "from sklearn import metrics\n",
    "\n",
    "actual = numpy.random.binomial(1,.9,size = 1000)\n",
    "predicted = numpy.random.binomial(1,.9,size = 1000)\n",
    "\n",
    "confusion_matrix = metrics.confusion_matrix(actual, predicted)\n",
    "\n",
    "cm_display = metrics.ConfusionMatrixDisplay(confusion_matrix = confusion_matrix, display_labels = [False, True])\n",
    "\n",
    "cm_display.plot()\n",
    "plt.show()"
   ]
  },
  {
   "cell_type": "markdown",
   "id": "a3accebc",
   "metadata": {},
   "source": [
    "**Results Explained**\n",
    "\n",
    "The Confusion Matrix created has four different quadrants:\n",
    "\n",
    "True Negative (Top-Left Quadrant)\n",
    "False Positive (Top-Right Quadrant)\n",
    "False Negative (Bottom-Left Quadrant)\n",
    "True Positive (Bottom-Right Quadrant)\n",
    "True means that the values were accurately predicted, False means that there was an error or wrong prediction.\n",
    "\n",
    "Now that we have made a Confusion Matrix, we can calculate different measures to quantify the quality of the model. First, lets look at Accuracy.\n",
    "\n",
    "The matrix provides us with many useful metrics that help us to evaluate out classification model.\n",
    "\n",
    "The different measures include: `Accuracy`, `Precision`, `Sensitivity (Recall)`, `Specificity`, and the `F-score`, explained below."
   ]
  },
  {
   "cell_type": "markdown",
   "id": "bbc04ac4",
   "metadata": {},
   "source": [
    "Suppose you have a binary classification problem where the classes are \"positive\" and \"negative\". When you compute the confusion matrix using scikit-learn's confusion_matrix function without explicitly specifying the labels, the classes will be sorted alphabetically. This means \"negative\" will come before \"positive\" because \"n\" comes before \"p\" alphabetically.\n",
    "\n",
    "In cases like this, where you want the labels to appear in a specific order, it's important to explicitly specify the labels when computing the confusion matrix."
   ]
  },
  {
   "cell_type": "markdown",
   "id": "ccb91b93",
   "metadata": {},
   "source": [
    "**Accuracy**\n",
    "\n",
    "Accuracy measures how often the model is correct.\n",
    "\n",
    "How to Calculate:\n",
    "\n",
    "`(True Positive + True Negative) / Total Predictions`"
   ]
  },
  {
   "cell_type": "code",
   "execution_count": 80,
   "id": "590bd9d1",
   "metadata": {},
   "outputs": [
    {
     "data": {
      "text/plain": [
       "0.814"
      ]
     },
     "execution_count": 80,
     "metadata": {},
     "output_type": "execute_result"
    }
   ],
   "source": [
    "Accuracy = metrics.accuracy_score(actual, predicted)\n",
    "Accuracy"
   ]
  },
  {
   "cell_type": "markdown",
   "id": "8c7b035e",
   "metadata": {},
   "source": [
    "**Precision**\n",
    "\n",
    "Of the positives predicted, what percentage is truly positive?\n",
    "\n",
    "How to Calculate:\n",
    "\n",
    "`True Positive / (True Positive + False Positive)`\n",
    "\n",
    "Precision does not evaluate the correctly predicted negative cases:"
   ]
  },
  {
   "cell_type": "code",
   "execution_count": 81,
   "id": "29e01af7",
   "metadata": {},
   "outputs": [
    {
     "data": {
      "text/plain": [
       "0.8947368421052632"
      ]
     },
     "execution_count": 81,
     "metadata": {},
     "output_type": "execute_result"
    }
   ],
   "source": [
    "Precision = metrics.precision_score(actual, predicted)\n",
    "Precision"
   ]
  },
  {
   "cell_type": "markdown",
   "id": "18fa9c46",
   "metadata": {},
   "source": [
    "**Sensitivity (Recall)**\n",
    "\n",
    "Of all the positive cases, what percentage are predicted positive?\n",
    "\n",
    "Sensitivity (sometimes called Recall) measures how good the model is at predicting positives.\n",
    "\n",
    "This means it looks at true positives and false negatives (which are positives that have been incorrectly predicted as negative).\n",
    "\n",
    "How to Calculate:\n",
    "\n",
    "`True Positive / (True Positive + False Negative)`\n",
    "\n",
    "Sensitivity is good at understanding how well the model predicts something is positive:"
   ]
  },
  {
   "cell_type": "code",
   "execution_count": 82,
   "id": "a0769ecf",
   "metadata": {},
   "outputs": [
    {
     "data": {
      "text/plain": [
       "0.8967452300785634"
      ]
     },
     "execution_count": 82,
     "metadata": {},
     "output_type": "execute_result"
    }
   ],
   "source": [
    "Sensitivity_recall = metrics.recall_score(actual, predicted)\n",
    "Sensitivity_recall"
   ]
  },
  {
   "cell_type": "markdown",
   "id": "e62ed93d",
   "metadata": {},
   "source": [
    "**Specificity**\n",
    "\n",
    "How well the model is at prediciting negative results?\n",
    "\n",
    "Specificity is similar to sensitivity, but looks at it from the persepctive of negative results.\n",
    "\n",
    "How to Calculate:\n",
    "\n",
    "`True Negative / (True Negative + False Positive)`\n",
    "\n",
    "Since it is just the opposite of Recall, we use the recall_score function, taking the opposite position label:"
   ]
  },
  {
   "cell_type": "code",
   "execution_count": 83,
   "id": "82464379",
   "metadata": {},
   "outputs": [
    {
     "data": {
      "text/plain": [
       "0.13761467889908258"
      ]
     },
     "execution_count": 83,
     "metadata": {},
     "output_type": "execute_result"
    }
   ],
   "source": [
    "Specificity = metrics.recall_score(actual, predicted, pos_label=0)\n",
    "Specificity"
   ]
  },
  {
   "cell_type": "markdown",
   "id": "efb79333",
   "metadata": {},
   "source": [
    "**F-score**\n",
    "\n",
    "F-score is the \"harmonic mean\" of precision and sensitivity.\n",
    "\n",
    "It considers both false positive and false negative cases and is good for imbalanced datasets.\n",
    "\n",
    "How to Calculate:\n",
    "\n",
    "`2 * ((Precision * Sensitivity) / (Precision + Sensitivity))`\n",
    "\n",
    "This score does not take into consideration the True Negative values:"
   ]
  },
  {
   "cell_type": "code",
   "execution_count": 84,
   "id": "7fbc2742",
   "metadata": {},
   "outputs": [],
   "source": [
    "F1_score = metrics.f1_score(actual, predicted)"
   ]
  },
  {
   "cell_type": "code",
   "execution_count": 85,
   "id": "8d00a206",
   "metadata": {},
   "outputs": [
    {
     "name": "stdout",
     "output_type": "stream",
     "text": [
      "{'Accuracy': 0.814, 'Precision': 0.8947368421052632, 'Sensitivity_recall': 0.8967452300785634, 'Specificity': 0.13761467889908258, 'F1_score': 0.8957399103139013}\n"
     ]
    }
   ],
   "source": [
    "# All metrics calulations in one:\n",
    "print({\"Accuracy\":Accuracy,\"Precision\":Precision,\"Sensitivity_recall\":Sensitivity_recall,\"Specificity\":Specificity,\"F1_score\":F1_score})"
   ]
  },
  {
   "cell_type": "markdown",
   "id": "fd4d19cd",
   "metadata": {},
   "source": [
    "<pre id='t18'></pre>\n",
    "# Hierarchical Clustering\n",
    "\n",
    "Hierarchical clustering is an unsupervised learning method for clustering data points. The algorithm builds clusters by measuring the dissimilarities between data. Unsupervised learning means that a model does not have to be trained, and we do not need a \"target\" variable. This method can be used on any data to visualize and interpret the relationship between individual data points.\n",
    "\n",
    "Here we will use hierarchical clustering to group data points and visualize the clusters using both a dendrogram and scatter plot.\n",
    "\n",
    "**How does it work?**\n",
    "\n",
    "We will use Agglomerative Clustering, a type of hierarchical clustering that follows a bottom up approach. We begin by treating each data point as its own cluster. Then, we join clusters together that have the shortest distance between them to create larger clusters. This step is repeated until one large cluster is formed containing all of the data points.\n",
    "\n",
    "Hierarchical clustering requires us to decide on both a distance and linkage method. We will use euclidean distance and the Ward linkage method, which attempts to minimize the variance between clusters."
   ]
  },
  {
   "cell_type": "code",
   "execution_count": 86,
   "id": "2f022639",
   "metadata": {},
   "outputs": [
    {
     "data": {
      "image/png": "[encoded data removed]",
      "text/plain": [
       "<Figure size 432x288 with 1 Axes>"
      ]
     },
     "metadata": {
      "needs_background": "light"
     },
     "output_type": "display_data"
    }
   ],
   "source": [
    "x = [4, 5, 10, 4, 3, 11, 14 , 6, 10, 12]\n",
    "y = [21, 19, 24, 17, 16, 25, 24, 22, 21, 21]\n",
    "\n",
    "plt.scatter(x, y)\n",
    "plt.show()"
   ]
  },
  {
   "cell_type": "markdown",
   "id": "4107d217",
   "metadata": {},
   "source": [
    "Now we compute the ward linkage using euclidean distance, and visualize it using a dendrogram:"
   ]
  },
  {
   "cell_type": "code",
   "execution_count": 87,
   "id": "20e6685b",
   "metadata": {},
   "outputs": [
    {
     "data": {
      "image/png": "[encoded data removed]",
      "text/plain": [
       "<Figure size 432x288 with 1 Axes>"
      ]
     },
     "metadata": {
      "needs_background": "light"
     },
     "output_type": "display_data"
    }
   ],
   "source": [
    "from scipy.cluster.hierarchy import dendrogram, linkage\n",
    "\n",
    "x = [4, 5, 10, 4, 3, 11, 14 , 6, 10, 12]\n",
    "y = [21, 19, 24, 17, 16, 25, 24, 22, 21, 21]\n",
    "\n",
    "data = list(zip(x, y))\n",
    "\n",
    "linkage_data = linkage(data, method='ward', metric='euclidean')\n",
    "dendrogram(linkage_data)\n",
    "\n",
    "plt.show()"
   ]
  },
  {
   "cell_type": "markdown",
   "id": "f5b577d0",
   "metadata": {},
   "source": [
    "Lets understand step by step:\n",
    "\n",
    "Create arrays that resemble two variables in a dataset. Note that while we only use two variables here, this method will work with any number of variables:"
   ]
  },
  {
   "cell_type": "code",
   "execution_count": 88,
   "id": "bec76741",
   "metadata": {},
   "outputs": [],
   "source": [
    "x = [4, 5, 10, 4, 3, 11, 14 , 6, 10, 12]\n",
    "y = [21, 19, 24, 17, 16, 25, 24, 22, 21, 21]"
   ]
  },
  {
   "cell_type": "markdown",
   "id": "8145a085",
   "metadata": {},
   "source": [
    "Turn the data into a set of points:"
   ]
  },
  {
   "cell_type": "code",
   "execution_count": 89,
   "id": "95061a7e",
   "metadata": {},
   "outputs": [
    {
     "name": "stdout",
     "output_type": "stream",
     "text": [
      "[(4, 21), (5, 19), (10, 24), (4, 17), (3, 16), (11, 25), (14, 24), (6, 22), (10, 21), (12, 21)]\n"
     ]
    }
   ],
   "source": [
    "data = list(zip(x, y))\n",
    "print(data)"
   ]
  },
  {
   "cell_type": "markdown",
   "id": "8bb2523e",
   "metadata": {},
   "source": [
    "Compute the linkage between all of the different points. Here we use a simple euclidean distance measure and Ward's linkage, which seeks to minimize the variance between clusters."
   ]
  },
  {
   "cell_type": "code",
   "execution_count": 90,
   "id": "b2c33f35",
   "metadata": {},
   "outputs": [],
   "source": [
    "linkage_data = linkage(data, method='ward', metric='euclidean')"
   ]
  },
  {
   "cell_type": "markdown",
   "id": "59d1fdfc",
   "metadata": {},
   "source": [
    "Finally, plot the results in a dendrogram. This plot will show us the hierarchy of clusters from the bottom (individual points) to the top (a single cluster consisting of all data points).\n",
    "\n",
    "`plt.show()` lets us visualize the dendrogram instead of just the raw linkage data."
   ]
  },
  {
   "cell_type": "code",
   "execution_count": 91,
   "id": "d72e75a5",
   "metadata": {},
   "outputs": [
    {
     "data": {
      "image/png": "[encoded data removed]",
      "text/plain": [
       "<Figure size 432x288 with 1 Axes>"
      ]
     },
     "metadata": {
      "needs_background": "light"
     },
     "output_type": "display_data"
    }
   ],
   "source": [
    "dendrogram(linkage_data)\n",
    "plt.show()"
   ]
  },
  {
   "cell_type": "markdown",
   "id": "8061a5d5",
   "metadata": {},
   "source": [
    "The scikit-learn library allows us to use hierarchichal clustering in a different manner. First, we initialize the `AgglomerativeClustering` class with 2 clusters, using the same euclidean distance and Ward linkage."
   ]
  },
  {
   "cell_type": "code",
   "execution_count": 92,
   "id": "21903b96",
   "metadata": {},
   "outputs": [],
   "source": [
    "from sklearn.cluster import AgglomerativeClustering\n",
    "\n",
    "hierarchical_cluster = AgglomerativeClustering(n_clusters=2, affinity='euclidean', linkage='ward')"
   ]
  },
  {
   "cell_type": "markdown",
   "id": "96da1e7c",
   "metadata": {},
   "source": [
    "The `.fit_predict` method can be called on our data to compute the clusters using the defined parameters across our chosen number of clusters."
   ]
  },
  {
   "cell_type": "code",
   "execution_count": 93,
   "id": "b4d59437",
   "metadata": {},
   "outputs": [
    {
     "name": "stdout",
     "output_type": "stream",
     "text": [
      "[0 0 1 0 0 1 1 0 1 1]\n"
     ]
    }
   ],
   "source": [
    "labels = hierarchical_cluster.fit_predict(data)\n",
    "print(labels)"
   ]
  },
  {
   "cell_type": "markdown",
   "id": "77da8cf9",
   "metadata": {},
   "source": [
    "Finally, if we plot the same data and color the points using the labels assigned to each index by the hierarchical clustering method, we can see the cluster each point was assigned to:"
   ]
  },
  {
   "cell_type": "code",
   "execution_count": 94,
   "id": "0f1c0c95",
   "metadata": {},
   "outputs": [
    {
     "data": {
      "image/png": "[encoded data removed]",
      "text/plain": [
       "<Figure size 432x288 with 1 Axes>"
      ]
     },
     "metadata": {
      "needs_background": "light"
     },
     "output_type": "display_data"
    }
   ],
   "source": [
    "plt.scatter(x, y, c=labels)\n",
    "plt.show()"
   ]
  },
  {
   "cell_type": "markdown",
   "id": "73e8b9fd",
   "metadata": {},
   "source": [
    "<pre id='t19'></pre>\n",
    "# Logistic Regression\n",
    "\n",
    "Logistic regression aims to solve classification problems. It does this by predicting categorical outcomes, unlike linear regression that predicts a continuous outcome.\n",
    "\n",
    "In the simplest case there are two outcomes, which is called binomial, an example of which is predicting if a tumor is malignant or benign. Other cases have more than two outcomes to classify, in this case it is called multinomial. A common example for multinomial logistic regression would be predicting the class of an iris flower between 3 different species.\n",
    "\n",
    "Here we will be using basic logistic regression to predict a binomial variable. This means it has only two possible outcomes."
   ]
  },
  {
   "cell_type": "markdown",
   "id": "d62a16a0",
   "metadata": {},
   "source": [
    "**How does it work?**\n",
    "\n",
    "In Python we have modules that will do the work for us. Start by importing the NumPy module."
   ]
  },
  {
   "cell_type": "code",
   "execution_count": 95,
   "id": "5d433184",
   "metadata": {},
   "outputs": [],
   "source": [
    "import numpy"
   ]
  },
  {
   "cell_type": "markdown",
   "id": "3d591263",
   "metadata": {},
   "source": [
    "Store the independent variables in X.\n",
    "\n",
    "Store the dependent variable in y.\n",
    "\n",
    "Below is a sample dataset:"
   ]
  },
  {
   "cell_type": "code",
   "execution_count": 96,
   "id": "73397085",
   "metadata": {},
   "outputs": [],
   "source": [
    "#X represents the size of a tumor in centimeters.\n",
    "X = numpy.array([3.78, 2.44, 2.09, 0.14, 1.72, 1.65, 4.92, 4.37, 4.96, 4.52, 3.69, 5.88]).reshape(-1,1)\n",
    "\n",
    "#Note: X has to be reshaped into a column from a row for the LogisticRegression() function to work.\n",
    "#y represents whether or not the tumor is cancerous (0 for \"No\", 1 for \"Yes\").\n",
    "y = numpy.array([0, 0, 0, 0, 0, 0, 1, 1, 1, 1, 1, 1])"
   ]
  },
  {
   "cell_type": "markdown",
   "id": "0356b8ee",
   "metadata": {},
   "source": [
    "`reshape(-1, 1)` is used to reshape the array. The -1 in this context is a placeholder that tells NumPy to automatically calculate the number of rows needed to maintain the total number of elements in the array. In other words, it figures out the number of rows based on the size of the original array and the specified number of columns (which is 1 in this case)."
   ]
  },
  {
   "cell_type": "markdown",
   "id": "7ab0af11",
   "metadata": {},
   "source": [
    "We will use a method from the sklearn module, so we will have to import that module as well:"
   ]
  },
  {
   "cell_type": "code",
   "execution_count": 97,
   "id": "36a60625",
   "metadata": {},
   "outputs": [],
   "source": [
    "from sklearn import linear_model"
   ]
  },
  {
   "cell_type": "markdown",
   "id": "e3c6dab9",
   "metadata": {},
   "source": [
    "From the sklearn module we will use the `LogisticRegression()` method to create a logistic regression object.\n",
    "\n",
    "This object has a method called `fit()` that takes the independent and dependent values as parameters and fills the regression object with data that describes the relationship:"
   ]
  },
  {
   "cell_type": "code",
   "execution_count": 98,
   "id": "b5eb9d56",
   "metadata": {},
   "outputs": [
    {
     "data": {
      "text/html": [
       "<style>#sk-container-id-2 {color: black;background-color: white;}#sk-container-id-2 pre{padding: 0;}#sk-container-id-2 div.sk-toggleable {background-color: white;}#sk-container-id-2 label.sk-toggleable__label {cursor: pointer;display: block;width: 100%;margin-bottom: 0;padding: 0.3em;box-sizing: border-box;text-align: center;}#sk-container-id-2 label.sk-toggleable__label-arrow:before {content: \"▸\";float: left;margin-right: 0.25em;color: #696969;}#sk-container-id-2 label.sk-toggleable__label-arrow:hover:before {color: black;}#sk-container-id-2 div.sk-estimator:hover label.sk-toggleable__label-arrow:before {color: black;}#sk-container-id-2 div.sk-toggleable__content {max-height: 0;max-width: 0;overflow: hidden;text-align: left;background-color: #f0f8ff;}#sk-container-id-2 div.sk-toggleable__content pre {margin: 0.2em;color: black;border-radius: 0.25em;background-color: #f0f8ff;}#sk-container-id-2 input.sk-toggleable__control:checked~div.sk-toggleable__content {max-height: 200px;max-width: 100%;overflow: auto;}#sk-container-id-2 input.sk-toggleable__control:checked~label.sk-toggleable__label-arrow:before {content: \"▾\";}#sk-container-id-2 div.sk-estimator input.sk-toggleable__control:checked~label.sk-toggleable__label {background-color: #d4ebff;}#sk-container-id-2 div.sk-label input.sk-toggleable__control:checked~label.sk-toggleable__label {background-color: #d4ebff;}#sk-container-id-2 input.sk-hidden--visually {border: 0;clip: rect(1px 1px 1px 1px);clip: rect(1px, 1px, 1px, 1px);height: 1px;margin: -1px;overflow: hidden;padding: 0;position: absolute;width: 1px;}#sk-container-id-2 div.sk-estimator {font-family: monospace;background-color: #f0f8ff;border: 1px dotted black;border-radius: 0.25em;box-sizing: border-box;margin-bottom: 0.5em;}#sk-container-id-2 div.sk-estimator:hover {background-color: #d4ebff;}#sk-container-id-2 div.sk-parallel-item::after {content: \"\";width: 100%;border-bottom: 1px solid gray;flex-grow: 1;}#sk-container-id-2 div.sk-label:hover label.sk-toggleable__label {background-color: #d4ebff;}#sk-container-id-2 div.sk-serial::before {content: \"\";position: absolute;border-left: 1px solid gray;box-sizing: border-box;top: 0;bottom: 0;left: 50%;z-index: 0;}#sk-container-id-2 div.sk-serial {display: flex;flex-direction: column;align-items: center;background-color: white;padding-right: 0.2em;padding-left: 0.2em;position: relative;}#sk-container-id-2 div.sk-item {position: relative;z-index: 1;}#sk-container-id-2 div.sk-parallel {display: flex;align-items: stretch;justify-content: center;background-color: white;position: relative;}#sk-container-id-2 div.sk-item::before, #sk-container-id-2 div.sk-parallel-item::before {content: \"\";position: absolute;border-left: 1px solid gray;box-sizing: border-box;top: 0;bottom: 0;left: 50%;z-index: -1;}#sk-container-id-2 div.sk-parallel-item {display: flex;flex-direction: column;z-index: 1;position: relative;background-color: white;}#sk-container-id-2 div.sk-parallel-item:first-child::after {align-self: flex-end;width: 50%;}#sk-container-id-2 div.sk-parallel-item:last-child::after {align-self: flex-start;width: 50%;}#sk-container-id-2 div.sk-parallel-item:only-child::after {width: 0;}#sk-container-id-2 div.sk-dashed-wrapped {border: 1px dashed gray;margin: 0 0.4em 0.5em 0.4em;box-sizing: border-box;padding-bottom: 0.4em;background-color: white;}#sk-container-id-2 div.sk-label label {font-family: monospace;font-weight: bold;display: inline-block;line-height: 1.2em;}#sk-container-id-2 div.sk-label-container {text-align: center;}#sk-container-id-2 div.sk-container {/* jupyter's `normalize.less` sets `[hidden] { display: none; }` but bootstrap.min.css set `[hidden] { display: none !important; }` so we also need the `!important` here to be able to override the default hidden behavior on the sphinx rendered scikit-learn.org. See: https://github.com/scikit-learn/scikit-learn/issues/21755 */display: inline-block !important;position: relative;}#sk-container-id-2 div.sk-text-repr-fallback {display: none;}</style><div id=\"sk-container-id-2\" class=\"sk-top-container\"><div class=\"sk-text-repr-fallback\"><pre>LogisticRegression()</pre><b>In a Jupyter environment, please rerun this cell to show the HTML representation or trust the notebook. <br />On GitHub, the HTML representation is unable to render, please try loading this page with nbviewer.org.</b></div><div class=\"sk-container\" hidden><div class=\"sk-item\"><div class=\"sk-estimator sk-toggleable\"><input class=\"sk-toggleable__control sk-hidden--visually\" id=\"sk-estimator-id-2\" type=\"checkbox\" checked><label for=\"sk-estimator-id-2\" class=\"sk-toggleable__label sk-toggleable__label-arrow\">LogisticRegression</label><div class=\"sk-toggleable__content\"><pre>LogisticRegression()</pre></div></div></div></div></div>"
      ],
      "text/plain": [
       "LogisticRegression()"
      ]
     },
     "execution_count": 98,
     "metadata": {},
     "output_type": "execute_result"
    }
   ],
   "source": [
    "logr = linear_model.LogisticRegression()\n",
    "logr.fit(X,y)"
   ]
  },
  {
   "cell_type": "markdown",
   "id": "a3f3cb34",
   "metadata": {},
   "source": [
    "Now we have a logistic regression object that is ready to whether a tumor is cancerous based on the tumor size:"
   ]
  },
  {
   "cell_type": "code",
   "execution_count": 99,
   "id": "28095655",
   "metadata": {},
   "outputs": [
    {
     "data": {
      "text/plain": [
       "array([0])"
      ]
     },
     "execution_count": 99,
     "metadata": {},
     "output_type": "execute_result"
    }
   ],
   "source": [
    "#predict if tumor is cancerous where the size is 3.46mm:\n",
    "predicted = logr.predict(numpy.array([3.46]).reshape(-1,1))\n",
    "predicted"
   ]
  },
  {
   "cell_type": "markdown",
   "id": "3a122e3e",
   "metadata": {},
   "source": [
    "We have predicted that a tumor with a size of 3.46mm will not be cancerous."
   ]
  },
  {
   "cell_type": "markdown",
   "id": "8633db89",
   "metadata": {},
   "source": [
    "**Coefficient**\n",
    "\n",
    "In logistic regression the coefficient is the expected change in log-odds of having the outcome per unit change in X.\n",
    "\n",
    "This does not have the most intuitive understanding so let's use it to create something that makes more sense, odds."
   ]
  },
  {
   "cell_type": "code",
   "execution_count": 100,
   "id": "d658b99b",
   "metadata": {},
   "outputs": [
    {
     "name": "stdout",
     "output_type": "stream",
     "text": [
      "[[4.03541657]]\n"
     ]
    }
   ],
   "source": [
    "import numpy\n",
    "from sklearn import linear_model\n",
    "\n",
    "#Reshaped for Logistic function.\n",
    "X = numpy.array([3.78, 2.44, 2.09, 0.14, 1.72, 1.65, 4.92, 4.37, 4.96, 4.52, 3.69, 5.88]).reshape(-1,1)\n",
    "y = numpy.array([0, 0, 0, 0, 0, 0, 1, 1, 1, 1, 1, 1])\n",
    "\n",
    "logr = linear_model.LogisticRegression()\n",
    "logr.fit(X,y)\n",
    "\n",
    "log_odds = logr.coef_\n",
    "odds = numpy.exp(log_odds)\n",
    "\n",
    "print(odds)"
   ]
  },
  {
   "cell_type": "markdown",
   "id": "3ceb7a41",
   "metadata": {},
   "source": [
    "This tells us that as the size of a tumor increases by 1mm the odds of it being a cancerous tumor increases by 4x."
   ]
  },
  {
   "cell_type": "markdown",
   "id": "e4653e00",
   "metadata": {},
   "source": [
    "**Probability**\n",
    "\n",
    "The coefficient and intercept values can be used to find the probability that each tumor is cancerous.\n",
    "\n",
    "Create a function that uses the model's coefficient and intercept values to return a new value. This new value represents probability that the given observation is a tumor:"
   ]
  },
  {
   "cell_type": "code",
   "execution_count": 101,
   "id": "85a0323e",
   "metadata": {},
   "outputs": [],
   "source": [
    "def logit2prob(logr,x):\n",
    "    log_odds = logr.coef_ * x + logr.intercept_\n",
    "    odds = numpy.exp(log_odds)\n",
    "    probability = odds / (1 + odds)\n",
    "    return(probability)"
   ]
  },
  {
   "cell_type": "markdown",
   "id": "052158f3",
   "metadata": {},
   "source": [
    "**Function Explained:**\n",
    "\n",
    "To find the log-odds for each observation, we must first create a formula that looks similar to the one from linear regression, extracting the coefficient and the intercept."
   ]
  },
  {
   "cell_type": "code",
   "execution_count": 102,
   "id": "5c51653c",
   "metadata": {},
   "outputs": [],
   "source": [
    "log_odds = logr.coef_ * x + logr.intercept_"
   ]
  },
  {
   "cell_type": "markdown",
   "id": "f0c35c84",
   "metadata": {},
   "source": [
    "To then convert the log-odds to odds we must exponentiate the log-odds."
   ]
  },
  {
   "cell_type": "code",
   "execution_count": 103,
   "id": "48a5a1c0",
   "metadata": {},
   "outputs": [],
   "source": [
    "odds = numpy.exp(log_odds)"
   ]
  },
  {
   "cell_type": "markdown",
   "id": "6465c536",
   "metadata": {},
   "source": [
    "Now that we have the odds, we can convert it to probability by dividing it by 1 plus the odds."
   ]
  },
  {
   "cell_type": "code",
   "execution_count": 104,
   "id": "57ecd698",
   "metadata": {},
   "outputs": [],
   "source": [
    "probability = odds / (1 + odds)"
   ]
  },
  {
   "cell_type": "markdown",
   "id": "357b60c0",
   "metadata": {},
   "source": [
    "Let us now use the function with what we have learned to find out the probability that each tumor is cancerous."
   ]
  },
  {
   "cell_type": "code",
   "execution_count": 105,
   "id": "00edcb54",
   "metadata": {},
   "outputs": [
    {
     "name": "stdout",
     "output_type": "stream",
     "text": [
      "[[0.60749955]\n",
      " [0.19268876]\n",
      " [0.12775886]\n",
      " [0.00955221]\n",
      " [0.08038616]\n",
      " [0.07345637]\n",
      " [0.88362743]\n",
      " [0.77901378]\n",
      " [0.88924409]\n",
      " [0.81293497]\n",
      " [0.57719129]\n",
      " [0.96664243]]\n"
     ]
    }
   ],
   "source": [
    "# See the whole example in action:\n",
    "\n",
    "import numpy\n",
    "from sklearn import linear_model\n",
    "\n",
    "X = numpy.array([3.78, 2.44, 2.09, 0.14, 1.72, 1.65, 4.92, 4.37, 4.96, 4.52, 3.69, 5.88]).reshape(-1,1)\n",
    "y = numpy.array([0, 0, 0, 0, 0, 0, 1, 1, 1, 1, 1, 1])\n",
    "\n",
    "logr = linear_model.LogisticRegression()\n",
    "logr.fit(X,y)\n",
    "\n",
    "def logit2prob(logr,x):\n",
    "    log_odds = logr.coef_ * x + logr.intercept_\n",
    "    odds = numpy.exp(log_odds)\n",
    "    probability = odds / (1 + odds)\n",
    "    return(probability)\n",
    "\n",
    "print(logit2prob(logr, X))"
   ]
  },
  {
   "cell_type": "markdown",
   "id": "0aee13d3",
   "metadata": {},
   "source": [
    "**Results Explained**\n",
    "\n",
    "3.78 0.61 The probability that a tumor with the size 3.78cm is cancerous is 61%.\n",
    "\n",
    "2.44 0.19 The probability that a tumor with the size 2.44cm is cancerous is 19%.\n",
    "\n",
    "2.09 0.13 The probability that a tumor with the size 2.09cm is cancerous is 13%."
   ]
  },
  {
   "cell_type": "markdown",
   "id": "96935fd5",
   "metadata": {},
   "source": [
    "<pre id='t20'></pre>\n",
    "# Grid Search\n",
    "The majority of machine learning models contain parameters that can be adjusted to vary how the model learns. For example, the logistic regression model, from `sklearn`, has a parameter `C` that controls regularization,which affects the complexity of the model.\n",
    "\n",
    "How do we pick the best value for `C`? The best value is dependent on the data used to train the model.\n",
    "\n",
    "\n",
    "**How does it work?**\n",
    "\n",
    "One method is to try out different values and then pick the value that gives the best score. This technique is known as a grid search. If we had to select the values for two or more parameters, we would evaluate all combinations of the sets of values thus forming a grid of values.\n",
    "\n",
    "Before we get into the example it is good to know what the parameter we are changing does. Higher values of `C` tell the model, the training data resembles real world information, place a greater weight on the training data. While lower values of `C` do the opposite.\n",
    "\n",
    "**Using Default Parameters**\n",
    "\n",
    "First let's see what kind of results we can generate without a grid search using only the base parameters.\n",
    "\n",
    "To get started we must first load in the dataset we will be working with."
   ]
  },
  {
   "cell_type": "code",
   "execution_count": 106,
   "id": "b0846a51",
   "metadata": {},
   "outputs": [],
   "source": [
    "from sklearn import datasets\n",
    "iris = datasets.load_iris()"
   ]
  },
  {
   "cell_type": "markdown",
   "id": "a6245447",
   "metadata": {},
   "source": [
    "Next in order to create the model we must have a set of independent variables X and a dependant variable y."
   ]
  },
  {
   "cell_type": "code",
   "execution_count": 107,
   "id": "76831420",
   "metadata": {},
   "outputs": [],
   "source": [
    "X = iris['data']\n",
    "y = iris['target']"
   ]
  },
  {
   "cell_type": "markdown",
   "id": "def5a3e0",
   "metadata": {},
   "source": [
    "Now we will load the logistic model for classifying the iris flowers."
   ]
  },
  {
   "cell_type": "code",
   "execution_count": 108,
   "id": "92944e14",
   "metadata": {},
   "outputs": [],
   "source": [
    "from sklearn.linear_model import LogisticRegression"
   ]
  },
  {
   "cell_type": "markdown",
   "id": "d27daa99",
   "metadata": {},
   "source": [
    "Creating the model, setting max_iter to a higher value to ensure that the model finds a result.\n",
    "\n",
    "Keep in mind the**default value for C in a logistic regression model is 1**, we will compare this later.\n",
    "\n",
    "In the example below, we look at the iris data set and try to train a model with varying values for `C`in logistic regression."
   ]
  },
  {
   "cell_type": "code",
   "execution_count": 109,
   "id": "16b3a4c7",
   "metadata": {},
   "outputs": [],
   "source": [
    "logit = LogisticRegression(max_iter = 10000)"
   ]
  },
  {
   "cell_type": "markdown",
   "id": "35c76682",
   "metadata": {},
   "source": [
    "After we create the model, we must fit the model to the data."
   ]
  },
  {
   "cell_type": "code",
   "execution_count": 110,
   "id": "a566c31d",
   "metadata": {},
   "outputs": [
    {
     "name": "stdout",
     "output_type": "stream",
     "text": [
      "LogisticRegression(max_iter=10000)\n"
     ]
    }
   ],
   "source": [
    "print(logit.fit(X,y))"
   ]
  },
  {
   "cell_type": "markdown",
   "id": "6963e263",
   "metadata": {},
   "source": [
    "To evaluate the model we run the score method."
   ]
  },
  {
   "cell_type": "code",
   "execution_count": 111,
   "id": "8d4794b3",
   "metadata": {},
   "outputs": [
    {
     "name": "stdout",
     "output_type": "stream",
     "text": [
      "0.9733333333333334\n"
     ]
    }
   ],
   "source": [
    "print(logit.score(X,y))"
   ]
  },
  {
   "cell_type": "code",
   "execution_count": 112,
   "id": "9871d811",
   "metadata": {},
   "outputs": [
    {
     "name": "stdout",
     "output_type": "stream",
     "text": [
      "LogisticRegression(max_iter=10000)\n",
      "0.9733333333333334\n"
     ]
    }
   ],
   "source": [
    "from sklearn import datasets\n",
    "from sklearn.linear_model import LogisticRegression\n",
    "\n",
    "iris = datasets.load_iris()\n",
    "\n",
    "X = iris['data']\n",
    "y = iris['target']\n",
    "\n",
    "logit = LogisticRegression(max_iter = 10000)\n",
    "\n",
    "print(logit.fit(X,y))\n",
    "\n",
    "print(logit.score(X,y))"
   ]
  },
  {
   "cell_type": "markdown",
   "id": "dc2e0fe3",
   "metadata": {},
   "source": [
    "With the default setting of C = 1, we achieved a score of 0.973.\n",
    "\n",
    "Let's see if we can do any better by implementing a grid search with difference values of 0.973."
   ]
  },
  {
   "cell_type": "markdown",
   "id": "b2664f33",
   "metadata": {},
   "source": [
    "**Implementing Grid Search**\n",
    "\n",
    "We will follow the same steps of before except this time we will set a range of values for `C`.\n",
    "\n",
    "Knowing which values to set for the searched parameters will take a combination of domain knowledge and practice.\n",
    "\n",
    "Since the default value for `C` is `1`, we will set a range of values surrounding it."
   ]
  },
  {
   "cell_type": "code",
   "execution_count": 113,
   "id": "dc016475",
   "metadata": {},
   "outputs": [],
   "source": [
    "C = [0.25, 0.5, 0.75, 1, 1.25, 1.5, 1.75, 2]"
   ]
  },
  {
   "cell_type": "markdown",
   "id": "8d18063e",
   "metadata": {},
   "source": [
    "Next we will create a for loop to change out the values of `C` and evaluate the model with each change.\n",
    "\n",
    "First we will create an empty list to store the score within."
   ]
  },
  {
   "cell_type": "code",
   "execution_count": 114,
   "id": "45a9ffda",
   "metadata": {},
   "outputs": [],
   "source": [
    "scores = []"
   ]
  },
  {
   "cell_type": "markdown",
   "id": "127c8e9b",
   "metadata": {},
   "source": [
    "To change the values of `C` we must loop over the range of values and update the parameter each time."
   ]
  },
  {
   "cell_type": "code",
   "execution_count": 115,
   "id": "90817ef1",
   "metadata": {},
   "outputs": [],
   "source": [
    "for choice in C:\n",
    "    logit.set_params(C=choice)\n",
    "    logit.fit(X, y)\n",
    "    scores.append(logit.score(X, y))"
   ]
  },
  {
   "cell_type": "markdown",
   "id": "07997049",
   "metadata": {},
   "source": [
    "With the scores stored in a list, we can evaluate what the best choice of `C` is."
   ]
  },
  {
   "cell_type": "code",
   "execution_count": 116,
   "id": "6723a162",
   "metadata": {},
   "outputs": [
    {
     "name": "stdout",
     "output_type": "stream",
     "text": [
      "[0.9666666666666667, 0.9666666666666667, 0.9733333333333334, 0.9733333333333334, 0.98, 0.98, 0.9866666666666667, 0.9866666666666667]\n"
     ]
    }
   ],
   "source": [
    "print(scores)"
   ]
  },
  {
   "cell_type": "code",
   "execution_count": 117,
   "id": "b675f5f2",
   "metadata": {},
   "outputs": [
    {
     "name": "stdout",
     "output_type": "stream",
     "text": [
      "[0.9666666666666667, 0.9666666666666667, 0.9733333333333334, 0.9733333333333334, 0.98, 0.98, 0.9866666666666667, 0.9866666666666667]\n"
     ]
    }
   ],
   "source": [
    "from sklearn import datasets\n",
    "from sklearn.linear_model import LogisticRegression\n",
    "\n",
    "iris = datasets.load_iris()\n",
    "\n",
    "X = iris['data']\n",
    "y = iris['target']\n",
    "\n",
    "logit = LogisticRegression(max_iter = 10000)\n",
    "\n",
    "C = [0.25, 0.5, 0.75, 1, 1.25, 1.5, 1.75, 2]\n",
    "\n",
    "scores = []\n",
    "\n",
    "for choice in C:\n",
    "    logit.set_params(C=choice)\n",
    "    logit.fit(X, y)\n",
    "    scores.append(logit.score(X, y))\n",
    "\n",
    "print(scores)"
   ]
  },
  {
   "cell_type": "markdown",
   "id": "63d8da1a",
   "metadata": {},
   "source": [
    "**Results Explained**\n",
    "\n",
    "We can see that the lower values of `C` performed worse than the base parameter of 1. However, as we increased the value of `C` to 1.75 the model experienced increased accuracy.\n",
    "\n",
    "It seems that increasing `C` beyond this amount does not help increase model accuracy.\n",
    "\n",
    "**Note on Best Practices**\n",
    "\n",
    "We scored our logistic regression model by using the same data that was used to train it. If the model corresponds too closely to that data, it may not be great at predicting unseen data. This statistical error is known as **over fitting**.\n",
    "\n",
    "To avoid being misled by the scores on the training data, we can put aside a portion of our data and use it specifically for the purpose of testing the model. Refer to the lecture on train/test splitting to avoid being misled and overfitting."
   ]
  },
  {
   "cell_type": "markdown",
   "id": "230155ef",
   "metadata": {},
   "source": [
    "<pre id='t21'></pre>\n",
    "# Categorical Data\n",
    "\n",
    "When your data has categories represented by strings, it will be difficult to use them to train machine learning models which often only accepts numeric data.\n",
    "\n",
    "Instead of ignoring the categorical data and excluding the information from our model, you can tranform the data so it can be used in your models.\n",
    "\n",
    "Take a look at the table below, it is the same data set that we used in the multiple regression chapter."
   ]
  },
  {
   "cell_type": "code",
   "execution_count": 118,
   "id": "626b9002",
   "metadata": {},
   "outputs": [
    {
     "name": "stdout",
     "output_type": "stream",
     "text": [
      "           Car       Model  Volume  Weight  CO2\n",
      "0       Toyoty        Aygo    1000     790   99\n",
      "1   Mitsubishi  Space Star    1200    1160   95\n",
      "2        Skoda      Citigo    1000     929   95\n",
      "3         Fiat         500     900     865   90\n",
      "4         Mini      Cooper    1500    1140  105\n",
      "5           VW         Up!    1000     929  105\n",
      "6        Skoda       Fabia    1400    1109   90\n",
      "7     Mercedes     A-Class    1500    1365   92\n",
      "8         Ford      Fiesta    1500    1112   98\n",
      "9         Audi          A1    1600    1150   99\n",
      "10     Hyundai         I20    1100     980   99\n",
      "11      Suzuki       Swift    1300     990  101\n",
      "12        Ford      Fiesta    1000    1112   99\n",
      "13       Honda       Civic    1600    1252   94\n",
      "14      Hundai         I30    1600    1326   97\n",
      "15        Opel       Astra    1600    1330   97\n",
      "16         BMW           1    1600    1365   99\n",
      "17       Mazda           3    2200    1280  104\n",
      "18       Skoda       Rapid    1600    1119  104\n",
      "19        Ford       Focus    2000    1328  105\n",
      "20        Ford      Mondeo    1600    1584   94\n",
      "21        Opel    Insignia    2000    1428   99\n",
      "22    Mercedes     C-Class    2100    1365   99\n",
      "23       Skoda     Octavia    1600    1415   99\n",
      "24       Volvo         S60    2000    1415   99\n",
      "25    Mercedes         CLA    1500    1465  102\n",
      "26        Audi          A4    2000    1490  104\n",
      "27        Audi          A6    2000    1725  114\n",
      "28       Volvo         V70    1600    1523  109\n",
      "29         BMW           5    2000    1705  114\n",
      "30    Mercedes     E-Class    2100    1605  115\n",
      "31       Volvo        XC70    2000    1746  117\n",
      "32        Ford       B-Max    1600    1235  104\n",
      "33         BMW         216    1600    1390  108\n",
      "34        Opel      Zafira    1600    1405  109\n",
      "35    Mercedes         SLK    2500    1395  120\n"
     ]
    }
   ],
   "source": [
    "import pandas as pd\n",
    "\n",
    "cars = pd.read_csv('E:/Datasets/data.csv')\n",
    "print(cars.to_string())"
   ]
  },
  {
   "cell_type": "markdown",
   "id": "dc0dd021",
   "metadata": {},
   "source": [
    "In the multiple regression chapter, we tried to predict the CO2 emitted based on the volume of the engine and the weight of the car but we excluded information about the car brand and model.\n",
    "\n",
    "The information about the car brand or the car model might help us make a better prediction of the CO2 emitted."
   ]
  },
  {
   "cell_type": "markdown",
   "id": "edba82e9",
   "metadata": {},
   "source": [
    "**One Hot Encoding**\n",
    "\n",
    "We cannot make use of the Car or Model column in our data since they are not numeric. A linear relationship between a categorical variable, Car or Model, and a numeric variable, CO2, cannot be determined.\n",
    "\n",
    "To fix this issue, we must have a numeric representation of the categorical variable. One way to do this is to have a column representing each group in the category.\n",
    "\n",
    "For each column, the values will be 1 or 0 where 1 represents the inclusion of the group and 0 represents the exclusion. This transformation is called one hot encoding.\n",
    "\n",
    "You do not have to do this manually, the Python Pandas module has a function that called `get_dummies()` which does one hot encoding."
   ]
  },
  {
   "cell_type": "code",
   "execution_count": 119,
   "id": "b085f70a",
   "metadata": {},
   "outputs": [
    {
     "data": {
      "text/html": [
       "<div>\n",
       "<style scoped>\n",
       "    .dataframe tbody tr th:only-of-type {\n",
       "        vertical-align: middle;\n",
       "    }\n",
       "\n",
       "    .dataframe tbody tr th {\n",
       "        vertical-align: top;\n",
       "    }\n",
       "\n",
       "    .dataframe thead th {\n",
       "        text-align: right;\n",
       "    }\n",
       "</style>\n",
       "<table border=\"1\" class=\"dataframe\">\n",
       "  <thead>\n",
       "    <tr style=\"text-align: right;\">\n",
       "      <th></th>\n",
       "      <th>Car_Audi</th>\n",
       "      <th>Car_BMW</th>\n",
       "      <th>Car_Fiat</th>\n",
       "      <th>Car_Ford</th>\n",
       "      <th>Car_Honda</th>\n",
       "      <th>Car_Hundai</th>\n",
       "      <th>Car_Hyundai</th>\n",
       "      <th>Car_Mazda</th>\n",
       "      <th>Car_Mercedes</th>\n",
       "      <th>Car_Mini</th>\n",
       "      <th>Car_Mitsubishi</th>\n",
       "      <th>Car_Opel</th>\n",
       "      <th>Car_Skoda</th>\n",
       "      <th>Car_Suzuki</th>\n",
       "      <th>Car_Toyoty</th>\n",
       "      <th>Car_VW</th>\n",
       "      <th>Car_Volvo</th>\n",
       "    </tr>\n",
       "  </thead>\n",
       "  <tbody>\n",
       "    <tr>\n",
       "      <th>0</th>\n",
       "      <td>0</td>\n",
       "      <td>0</td>\n",
       "      <td>0</td>\n",
       "      <td>0</td>\n",
       "      <td>0</td>\n",
       "      <td>0</td>\n",
       "      <td>0</td>\n",
       "      <td>0</td>\n",
       "      <td>0</td>\n",
       "      <td>0</td>\n",
       "      <td>0</td>\n",
       "      <td>0</td>\n",
       "      <td>0</td>\n",
       "      <td>0</td>\n",
       "      <td>1</td>\n",
       "      <td>0</td>\n",
       "      <td>0</td>\n",
       "    </tr>\n",
       "    <tr>\n",
       "      <th>1</th>\n",
       "      <td>0</td>\n",
       "      <td>0</td>\n",
       "      <td>0</td>\n",
       "      <td>0</td>\n",
       "      <td>0</td>\n",
       "      <td>0</td>\n",
       "      <td>0</td>\n",
       "      <td>0</td>\n",
       "      <td>0</td>\n",
       "      <td>0</td>\n",
       "      <td>1</td>\n",
       "      <td>0</td>\n",
       "      <td>0</td>\n",
       "      <td>0</td>\n",
       "      <td>0</td>\n",
       "      <td>0</td>\n",
       "      <td>0</td>\n",
       "    </tr>\n",
       "    <tr>\n",
       "      <th>2</th>\n",
       "      <td>0</td>\n",
       "      <td>0</td>\n",
       "      <td>0</td>\n",
       "      <td>0</td>\n",
       "      <td>0</td>\n",
       "      <td>0</td>\n",
       "      <td>0</td>\n",
       "      <td>0</td>\n",
       "      <td>0</td>\n",
       "      <td>0</td>\n",
       "      <td>0</td>\n",
       "      <td>0</td>\n",
       "      <td>1</td>\n",
       "      <td>0</td>\n",
       "      <td>0</td>\n",
       "      <td>0</td>\n",
       "      <td>0</td>\n",
       "    </tr>\n",
       "    <tr>\n",
       "      <th>3</th>\n",
       "      <td>0</td>\n",
       "      <td>0</td>\n",
       "      <td>1</td>\n",
       "      <td>0</td>\n",
       "      <td>0</td>\n",
       "      <td>0</td>\n",
       "      <td>0</td>\n",
       "      <td>0</td>\n",
       "      <td>0</td>\n",
       "      <td>0</td>\n",
       "      <td>0</td>\n",
       "      <td>0</td>\n",
       "      <td>0</td>\n",
       "      <td>0</td>\n",
       "      <td>0</td>\n",
       "      <td>0</td>\n",
       "      <td>0</td>\n",
       "    </tr>\n",
       "    <tr>\n",
       "      <th>4</th>\n",
       "      <td>0</td>\n",
       "      <td>0</td>\n",
       "      <td>0</td>\n",
       "      <td>0</td>\n",
       "      <td>0</td>\n",
       "      <td>0</td>\n",
       "      <td>0</td>\n",
       "      <td>0</td>\n",
       "      <td>0</td>\n",
       "      <td>1</td>\n",
       "      <td>0</td>\n",
       "      <td>0</td>\n",
       "      <td>0</td>\n",
       "      <td>0</td>\n",
       "      <td>0</td>\n",
       "      <td>0</td>\n",
       "      <td>0</td>\n",
       "    </tr>\n",
       "    <tr>\n",
       "      <th>5</th>\n",
       "      <td>0</td>\n",
       "      <td>0</td>\n",
       "      <td>0</td>\n",
       "      <td>0</td>\n",
       "      <td>0</td>\n",
       "      <td>0</td>\n",
       "      <td>0</td>\n",
       "      <td>0</td>\n",
       "      <td>0</td>\n",
       "      <td>0</td>\n",
       "      <td>0</td>\n",
       "      <td>0</td>\n",
       "      <td>0</td>\n",
       "      <td>0</td>\n",
       "      <td>0</td>\n",
       "      <td>1</td>\n",
       "      <td>0</td>\n",
       "    </tr>\n",
       "    <tr>\n",
       "      <th>6</th>\n",
       "      <td>0</td>\n",
       "      <td>0</td>\n",
       "      <td>0</td>\n",
       "      <td>0</td>\n",
       "      <td>0</td>\n",
       "      <td>0</td>\n",
       "      <td>0</td>\n",
       "      <td>0</td>\n",
       "      <td>0</td>\n",
       "      <td>0</td>\n",
       "      <td>0</td>\n",
       "      <td>0</td>\n",
       "      <td>1</td>\n",
       "      <td>0</td>\n",
       "      <td>0</td>\n",
       "      <td>0</td>\n",
       "      <td>0</td>\n",
       "    </tr>\n",
       "    <tr>\n",
       "      <th>7</th>\n",
       "      <td>0</td>\n",
       "      <td>0</td>\n",
       "      <td>0</td>\n",
       "      <td>0</td>\n",
       "      <td>0</td>\n",
       "      <td>0</td>\n",
       "      <td>0</td>\n",
       "      <td>0</td>\n",
       "      <td>1</td>\n",
       "      <td>0</td>\n",
       "      <td>0</td>\n",
       "      <td>0</td>\n",
       "      <td>0</td>\n",
       "      <td>0</td>\n",
       "      <td>0</td>\n",
       "      <td>0</td>\n",
       "      <td>0</td>\n",
       "    </tr>\n",
       "    <tr>\n",
       "      <th>8</th>\n",
       "      <td>0</td>\n",
       "      <td>0</td>\n",
       "      <td>0</td>\n",
       "      <td>1</td>\n",
       "      <td>0</td>\n",
       "      <td>0</td>\n",
       "      <td>0</td>\n",
       "      <td>0</td>\n",
       "      <td>0</td>\n",
       "      <td>0</td>\n",
       "      <td>0</td>\n",
       "      <td>0</td>\n",
       "      <td>0</td>\n",
       "      <td>0</td>\n",
       "      <td>0</td>\n",
       "      <td>0</td>\n",
       "      <td>0</td>\n",
       "    </tr>\n",
       "    <tr>\n",
       "      <th>9</th>\n",
       "      <td>1</td>\n",
       "      <td>0</td>\n",
       "      <td>0</td>\n",
       "      <td>0</td>\n",
       "      <td>0</td>\n",
       "      <td>0</td>\n",
       "      <td>0</td>\n",
       "      <td>0</td>\n",
       "      <td>0</td>\n",
       "      <td>0</td>\n",
       "      <td>0</td>\n",
       "      <td>0</td>\n",
       "      <td>0</td>\n",
       "      <td>0</td>\n",
       "      <td>0</td>\n",
       "      <td>0</td>\n",
       "      <td>0</td>\n",
       "    </tr>\n",
       "    <tr>\n",
       "      <th>10</th>\n",
       "      <td>0</td>\n",
       "      <td>0</td>\n",
       "      <td>0</td>\n",
       "      <td>0</td>\n",
       "      <td>0</td>\n",
       "      <td>0</td>\n",
       "      <td>1</td>\n",
       "      <td>0</td>\n",
       "      <td>0</td>\n",
       "      <td>0</td>\n",
       "      <td>0</td>\n",
       "      <td>0</td>\n",
       "      <td>0</td>\n",
       "      <td>0</td>\n",
       "      <td>0</td>\n",
       "      <td>0</td>\n",
       "      <td>0</td>\n",
       "    </tr>\n",
       "    <tr>\n",
       "      <th>11</th>\n",
       "      <td>0</td>\n",
       "      <td>0</td>\n",
       "      <td>0</td>\n",
       "      <td>0</td>\n",
       "      <td>0</td>\n",
       "      <td>0</td>\n",
       "      <td>0</td>\n",
       "      <td>0</td>\n",
       "      <td>0</td>\n",
       "      <td>0</td>\n",
       "      <td>0</td>\n",
       "      <td>0</td>\n",
       "      <td>0</td>\n",
       "      <td>1</td>\n",
       "      <td>0</td>\n",
       "      <td>0</td>\n",
       "      <td>0</td>\n",
       "    </tr>\n",
       "    <tr>\n",
       "      <th>12</th>\n",
       "      <td>0</td>\n",
       "      <td>0</td>\n",
       "      <td>0</td>\n",
       "      <td>1</td>\n",
       "      <td>0</td>\n",
       "      <td>0</td>\n",
       "      <td>0</td>\n",
       "      <td>0</td>\n",
       "      <td>0</td>\n",
       "      <td>0</td>\n",
       "      <td>0</td>\n",
       "      <td>0</td>\n",
       "      <td>0</td>\n",
       "      <td>0</td>\n",
       "      <td>0</td>\n",
       "      <td>0</td>\n",
       "      <td>0</td>\n",
       "    </tr>\n",
       "    <tr>\n",
       "      <th>13</th>\n",
       "      <td>0</td>\n",
       "      <td>0</td>\n",
       "      <td>0</td>\n",
       "      <td>0</td>\n",
       "      <td>1</td>\n",
       "      <td>0</td>\n",
       "      <td>0</td>\n",
       "      <td>0</td>\n",
       "      <td>0</td>\n",
       "      <td>0</td>\n",
       "      <td>0</td>\n",
       "      <td>0</td>\n",
       "      <td>0</td>\n",
       "      <td>0</td>\n",
       "      <td>0</td>\n",
       "      <td>0</td>\n",
       "      <td>0</td>\n",
       "    </tr>\n",
       "    <tr>\n",
       "      <th>14</th>\n",
       "      <td>0</td>\n",
       "      <td>0</td>\n",
       "      <td>0</td>\n",
       "      <td>0</td>\n",
       "      <td>0</td>\n",
       "      <td>1</td>\n",
       "      <td>0</td>\n",
       "      <td>0</td>\n",
       "      <td>0</td>\n",
       "      <td>0</td>\n",
       "      <td>0</td>\n",
       "      <td>0</td>\n",
       "      <td>0</td>\n",
       "      <td>0</td>\n",
       "      <td>0</td>\n",
       "      <td>0</td>\n",
       "      <td>0</td>\n",
       "    </tr>\n",
       "    <tr>\n",
       "      <th>15</th>\n",
       "      <td>0</td>\n",
       "      <td>0</td>\n",
       "      <td>0</td>\n",
       "      <td>0</td>\n",
       "      <td>0</td>\n",
       "      <td>0</td>\n",
       "      <td>0</td>\n",
       "      <td>0</td>\n",
       "      <td>0</td>\n",
       "      <td>0</td>\n",
       "      <td>0</td>\n",
       "      <td>1</td>\n",
       "      <td>0</td>\n",
       "      <td>0</td>\n",
       "      <td>0</td>\n",
       "      <td>0</td>\n",
       "      <td>0</td>\n",
       "    </tr>\n",
       "    <tr>\n",
       "      <th>16</th>\n",
       "      <td>0</td>\n",
       "      <td>1</td>\n",
       "      <td>0</td>\n",
       "      <td>0</td>\n",
       "      <td>0</td>\n",
       "      <td>0</td>\n",
       "      <td>0</td>\n",
       "      <td>0</td>\n",
       "      <td>0</td>\n",
       "      <td>0</td>\n",
       "      <td>0</td>\n",
       "      <td>0</td>\n",
       "      <td>0</td>\n",
       "      <td>0</td>\n",
       "      <td>0</td>\n",
       "      <td>0</td>\n",
       "      <td>0</td>\n",
       "    </tr>\n",
       "    <tr>\n",
       "      <th>17</th>\n",
       "      <td>0</td>\n",
       "      <td>0</td>\n",
       "      <td>0</td>\n",
       "      <td>0</td>\n",
       "      <td>0</td>\n",
       "      <td>0</td>\n",
       "      <td>0</td>\n",
       "      <td>1</td>\n",
       "      <td>0</td>\n",
       "      <td>0</td>\n",
       "      <td>0</td>\n",
       "      <td>0</td>\n",
       "      <td>0</td>\n",
       "      <td>0</td>\n",
       "      <td>0</td>\n",
       "      <td>0</td>\n",
       "      <td>0</td>\n",
       "    </tr>\n",
       "    <tr>\n",
       "      <th>18</th>\n",
       "      <td>0</td>\n",
       "      <td>0</td>\n",
       "      <td>0</td>\n",
       "      <td>0</td>\n",
       "      <td>0</td>\n",
       "      <td>0</td>\n",
       "      <td>0</td>\n",
       "      <td>0</td>\n",
       "      <td>0</td>\n",
       "      <td>0</td>\n",
       "      <td>0</td>\n",
       "      <td>0</td>\n",
       "      <td>1</td>\n",
       "      <td>0</td>\n",
       "      <td>0</td>\n",
       "      <td>0</td>\n",
       "      <td>0</td>\n",
       "    </tr>\n",
       "    <tr>\n",
       "      <th>19</th>\n",
       "      <td>0</td>\n",
       "      <td>0</td>\n",
       "      <td>0</td>\n",
       "      <td>1</td>\n",
       "      <td>0</td>\n",
       "      <td>0</td>\n",
       "      <td>0</td>\n",
       "      <td>0</td>\n",
       "      <td>0</td>\n",
       "      <td>0</td>\n",
       "      <td>0</td>\n",
       "      <td>0</td>\n",
       "      <td>0</td>\n",
       "      <td>0</td>\n",
       "      <td>0</td>\n",
       "      <td>0</td>\n",
       "      <td>0</td>\n",
       "    </tr>\n",
       "    <tr>\n",
       "      <th>20</th>\n",
       "      <td>0</td>\n",
       "      <td>0</td>\n",
       "      <td>0</td>\n",
       "      <td>1</td>\n",
       "      <td>0</td>\n",
       "      <td>0</td>\n",
       "      <td>0</td>\n",
       "      <td>0</td>\n",
       "      <td>0</td>\n",
       "      <td>0</td>\n",
       "      <td>0</td>\n",
       "      <td>0</td>\n",
       "      <td>0</td>\n",
       "      <td>0</td>\n",
       "      <td>0</td>\n",
       "      <td>0</td>\n",
       "      <td>0</td>\n",
       "    </tr>\n",
       "    <tr>\n",
       "      <th>21</th>\n",
       "      <td>0</td>\n",
       "      <td>0</td>\n",
       "      <td>0</td>\n",
       "      <td>0</td>\n",
       "      <td>0</td>\n",
       "      <td>0</td>\n",
       "      <td>0</td>\n",
       "      <td>0</td>\n",
       "      <td>0</td>\n",
       "      <td>0</td>\n",
       "      <td>0</td>\n",
       "      <td>1</td>\n",
       "      <td>0</td>\n",
       "      <td>0</td>\n",
       "      <td>0</td>\n",
       "      <td>0</td>\n",
       "      <td>0</td>\n",
       "    </tr>\n",
       "    <tr>\n",
       "      <th>22</th>\n",
       "      <td>0</td>\n",
       "      <td>0</td>\n",
       "      <td>0</td>\n",
       "      <td>0</td>\n",
       "      <td>0</td>\n",
       "      <td>0</td>\n",
       "      <td>0</td>\n",
       "      <td>0</td>\n",
       "      <td>1</td>\n",
       "      <td>0</td>\n",
       "      <td>0</td>\n",
       "      <td>0</td>\n",
       "      <td>0</td>\n",
       "      <td>0</td>\n",
       "      <td>0</td>\n",
       "      <td>0</td>\n",
       "      <td>0</td>\n",
       "    </tr>\n",
       "    <tr>\n",
       "      <th>23</th>\n",
       "      <td>0</td>\n",
       "      <td>0</td>\n",
       "      <td>0</td>\n",
       "      <td>0</td>\n",
       "      <td>0</td>\n",
       "      <td>0</td>\n",
       "      <td>0</td>\n",
       "      <td>0</td>\n",
       "      <td>0</td>\n",
       "      <td>0</td>\n",
       "      <td>0</td>\n",
       "      <td>0</td>\n",
       "      <td>1</td>\n",
       "      <td>0</td>\n",
       "      <td>0</td>\n",
       "      <td>0</td>\n",
       "      <td>0</td>\n",
       "    </tr>\n",
       "    <tr>\n",
       "      <th>24</th>\n",
       "      <td>0</td>\n",
       "      <td>0</td>\n",
       "      <td>0</td>\n",
       "      <td>0</td>\n",
       "      <td>0</td>\n",
       "      <td>0</td>\n",
       "      <td>0</td>\n",
       "      <td>0</td>\n",
       "      <td>0</td>\n",
       "      <td>0</td>\n",
       "      <td>0</td>\n",
       "      <td>0</td>\n",
       "      <td>0</td>\n",
       "      <td>0</td>\n",
       "      <td>0</td>\n",
       "      <td>0</td>\n",
       "      <td>1</td>\n",
       "    </tr>\n",
       "    <tr>\n",
       "      <th>25</th>\n",
       "      <td>0</td>\n",
       "      <td>0</td>\n",
       "      <td>0</td>\n",
       "      <td>0</td>\n",
       "      <td>0</td>\n",
       "      <td>0</td>\n",
       "      <td>0</td>\n",
       "      <td>0</td>\n",
       "      <td>1</td>\n",
       "      <td>0</td>\n",
       "      <td>0</td>\n",
       "      <td>0</td>\n",
       "      <td>0</td>\n",
       "      <td>0</td>\n",
       "      <td>0</td>\n",
       "      <td>0</td>\n",
       "      <td>0</td>\n",
       "    </tr>\n",
       "    <tr>\n",
       "      <th>26</th>\n",
       "      <td>1</td>\n",
       "      <td>0</td>\n",
       "      <td>0</td>\n",
       "      <td>0</td>\n",
       "      <td>0</td>\n",
       "      <td>0</td>\n",
       "      <td>0</td>\n",
       "      <td>0</td>\n",
       "      <td>0</td>\n",
       "      <td>0</td>\n",
       "      <td>0</td>\n",
       "      <td>0</td>\n",
       "      <td>0</td>\n",
       "      <td>0</td>\n",
       "      <td>0</td>\n",
       "      <td>0</td>\n",
       "      <td>0</td>\n",
       "    </tr>\n",
       "    <tr>\n",
       "      <th>27</th>\n",
       "      <td>1</td>\n",
       "      <td>0</td>\n",
       "      <td>0</td>\n",
       "      <td>0</td>\n",
       "      <td>0</td>\n",
       "      <td>0</td>\n",
       "      <td>0</td>\n",
       "      <td>0</td>\n",
       "      <td>0</td>\n",
       "      <td>0</td>\n",
       "      <td>0</td>\n",
       "      <td>0</td>\n",
       "      <td>0</td>\n",
       "      <td>0</td>\n",
       "      <td>0</td>\n",
       "      <td>0</td>\n",
       "      <td>0</td>\n",
       "    </tr>\n",
       "    <tr>\n",
       "      <th>28</th>\n",
       "      <td>0</td>\n",
       "      <td>0</td>\n",
       "      <td>0</td>\n",
       "      <td>0</td>\n",
       "      <td>0</td>\n",
       "      <td>0</td>\n",
       "      <td>0</td>\n",
       "      <td>0</td>\n",
       "      <td>0</td>\n",
       "      <td>0</td>\n",
       "      <td>0</td>\n",
       "      <td>0</td>\n",
       "      <td>0</td>\n",
       "      <td>0</td>\n",
       "      <td>0</td>\n",
       "      <td>0</td>\n",
       "      <td>1</td>\n",
       "    </tr>\n",
       "    <tr>\n",
       "      <th>29</th>\n",
       "      <td>0</td>\n",
       "      <td>1</td>\n",
       "      <td>0</td>\n",
       "      <td>0</td>\n",
       "      <td>0</td>\n",
       "      <td>0</td>\n",
       "      <td>0</td>\n",
       "      <td>0</td>\n",
       "      <td>0</td>\n",
       "      <td>0</td>\n",
       "      <td>0</td>\n",
       "      <td>0</td>\n",
       "      <td>0</td>\n",
       "      <td>0</td>\n",
       "      <td>0</td>\n",
       "      <td>0</td>\n",
       "      <td>0</td>\n",
       "    </tr>\n",
       "    <tr>\n",
       "      <th>30</th>\n",
       "      <td>0</td>\n",
       "      <td>0</td>\n",
       "      <td>0</td>\n",
       "      <td>0</td>\n",
       "      <td>0</td>\n",
       "      <td>0</td>\n",
       "      <td>0</td>\n",
       "      <td>0</td>\n",
       "      <td>1</td>\n",
       "      <td>0</td>\n",
       "      <td>0</td>\n",
       "      <td>0</td>\n",
       "      <td>0</td>\n",
       "      <td>0</td>\n",
       "      <td>0</td>\n",
       "      <td>0</td>\n",
       "      <td>0</td>\n",
       "    </tr>\n",
       "    <tr>\n",
       "      <th>31</th>\n",
       "      <td>0</td>\n",
       "      <td>0</td>\n",
       "      <td>0</td>\n",
       "      <td>0</td>\n",
       "      <td>0</td>\n",
       "      <td>0</td>\n",
       "      <td>0</td>\n",
       "      <td>0</td>\n",
       "      <td>0</td>\n",
       "      <td>0</td>\n",
       "      <td>0</td>\n",
       "      <td>0</td>\n",
       "      <td>0</td>\n",
       "      <td>0</td>\n",
       "      <td>0</td>\n",
       "      <td>0</td>\n",
       "      <td>1</td>\n",
       "    </tr>\n",
       "    <tr>\n",
       "      <th>32</th>\n",
       "      <td>0</td>\n",
       "      <td>0</td>\n",
       "      <td>0</td>\n",
       "      <td>1</td>\n",
       "      <td>0</td>\n",
       "      <td>0</td>\n",
       "      <td>0</td>\n",
       "      <td>0</td>\n",
       "      <td>0</td>\n",
       "      <td>0</td>\n",
       "      <td>0</td>\n",
       "      <td>0</td>\n",
       "      <td>0</td>\n",
       "      <td>0</td>\n",
       "      <td>0</td>\n",
       "      <td>0</td>\n",
       "      <td>0</td>\n",
       "    </tr>\n",
       "    <tr>\n",
       "      <th>33</th>\n",
       "      <td>0</td>\n",
       "      <td>1</td>\n",
       "      <td>0</td>\n",
       "      <td>0</td>\n",
       "      <td>0</td>\n",
       "      <td>0</td>\n",
       "      <td>0</td>\n",
       "      <td>0</td>\n",
       "      <td>0</td>\n",
       "      <td>0</td>\n",
       "      <td>0</td>\n",
       "      <td>0</td>\n",
       "      <td>0</td>\n",
       "      <td>0</td>\n",
       "      <td>0</td>\n",
       "      <td>0</td>\n",
       "      <td>0</td>\n",
       "    </tr>\n",
       "    <tr>\n",
       "      <th>34</th>\n",
       "      <td>0</td>\n",
       "      <td>0</td>\n",
       "      <td>0</td>\n",
       "      <td>0</td>\n",
       "      <td>0</td>\n",
       "      <td>0</td>\n",
       "      <td>0</td>\n",
       "      <td>0</td>\n",
       "      <td>0</td>\n",
       "      <td>0</td>\n",
       "      <td>0</td>\n",
       "      <td>1</td>\n",
       "      <td>0</td>\n",
       "      <td>0</td>\n",
       "      <td>0</td>\n",
       "      <td>0</td>\n",
       "      <td>0</td>\n",
       "    </tr>\n",
       "    <tr>\n",
       "      <th>35</th>\n",
       "      <td>0</td>\n",
       "      <td>0</td>\n",
       "      <td>0</td>\n",
       "      <td>0</td>\n",
       "      <td>0</td>\n",
       "      <td>0</td>\n",
       "      <td>0</td>\n",
       "      <td>0</td>\n",
       "      <td>1</td>\n",
       "      <td>0</td>\n",
       "      <td>0</td>\n",
       "      <td>0</td>\n",
       "      <td>0</td>\n",
       "      <td>0</td>\n",
       "      <td>0</td>\n",
       "      <td>0</td>\n",
       "      <td>0</td>\n",
       "    </tr>\n",
       "  </tbody>\n",
       "</table>\n",
       "</div>"
      ],
      "text/plain": [
       "    Car_Audi  Car_BMW  Car_Fiat  Car_Ford  Car_Honda  Car_Hundai  Car_Hyundai  \\\n",
       "0          0        0         0         0          0           0            0   \n",
       "1          0        0         0         0          0           0            0   \n",
       "2          0        0         0         0          0           0            0   \n",
       "3          0        0         1         0          0           0            0   \n",
       "4          0        0         0         0          0           0            0   \n",
       "5          0        0         0         0          0           0            0   \n",
       "6          0        0         0         0          0           0            0   \n",
       "7          0        0         0         0          0           0            0   \n",
       "8          0        0         0         1          0           0            0   \n",
       "9          1        0         0         0          0           0            0   \n",
       "10         0        0         0         0          0           0            1   \n",
       "11         0        0         0         0          0           0            0   \n",
       "12         0        0         0         1          0           0            0   \n",
       "13         0        0         0         0          1           0            0   \n",
       "14         0        0         0         0          0           1            0   \n",
       "15         0        0         0         0          0           0            0   \n",
       "16         0        1         0         0          0           0            0   \n",
       "17         0        0         0         0          0           0            0   \n",
       "18         0        0         0         0          0           0            0   \n",
       "19         0        0         0         1          0           0            0   \n",
       "20         0        0         0         1          0           0            0   \n",
       "21         0        0         0         0          0           0            0   \n",
       "22         0        0         0         0          0           0            0   \n",
       "23         0        0         0         0          0           0            0   \n",
       "24         0        0         0         0          0           0            0   \n",
       "25         0        0         0         0          0           0            0   \n",
       "26         1        0         0         0          0           0            0   \n",
       "27         1        0         0         0          0           0            0   \n",
       "28         0        0         0         0          0           0            0   \n",
       "29         0        1         0         0          0           0            0   \n",
       "30         0        0         0         0          0           0            0   \n",
       "31         0        0         0         0          0           0            0   \n",
       "32         0        0         0         1          0           0            0   \n",
       "33         0        1         0         0          0           0            0   \n",
       "34         0        0         0         0          0           0            0   \n",
       "35         0        0         0         0          0           0            0   \n",
       "\n",
       "    Car_Mazda  Car_Mercedes  Car_Mini  Car_Mitsubishi  Car_Opel  Car_Skoda  \\\n",
       "0           0             0         0               0         0          0   \n",
       "1           0             0         0               1         0          0   \n",
       "2           0             0         0               0         0          1   \n",
       "3           0             0         0               0         0          0   \n",
       "4           0             0         1               0         0          0   \n",
       "5           0             0         0               0         0          0   \n",
       "6           0             0         0               0         0          1   \n",
       "7           0             1         0               0         0          0   \n",
       "8           0             0         0               0         0          0   \n",
       "9           0             0         0               0         0          0   \n",
       "10          0             0         0               0         0          0   \n",
       "11          0             0         0               0         0          0   \n",
       "12          0             0         0               0         0          0   \n",
       "13          0             0         0               0         0          0   \n",
       "14          0             0         0               0         0          0   \n",
       "15          0             0         0               0         1          0   \n",
       "16          0             0         0               0         0          0   \n",
       "17          1             0         0               0         0          0   \n",
       "18          0             0         0               0         0          1   \n",
       "19          0             0         0               0         0          0   \n",
       "20          0             0         0               0         0          0   \n",
       "21          0             0         0               0         1          0   \n",
       "22          0             1         0               0         0          0   \n",
       "23          0             0         0               0         0          1   \n",
       "24          0             0         0               0         0          0   \n",
       "25          0             1         0               0         0          0   \n",
       "26          0             0         0               0         0          0   \n",
       "27          0             0         0               0         0          0   \n",
       "28          0             0         0               0         0          0   \n",
       "29          0             0         0               0         0          0   \n",
       "30          0             1         0               0         0          0   \n",
       "31          0             0         0               0         0          0   \n",
       "32          0             0         0               0         0          0   \n",
       "33          0             0         0               0         0          0   \n",
       "34          0             0         0               0         1          0   \n",
       "35          0             1         0               0         0          0   \n",
       "\n",
       "    Car_Suzuki  Car_Toyoty  Car_VW  Car_Volvo  \n",
       "0            0           1       0          0  \n",
       "1            0           0       0          0  \n",
       "2            0           0       0          0  \n",
       "3            0           0       0          0  \n",
       "4            0           0       0          0  \n",
       "5            0           0       1          0  \n",
       "6            0           0       0          0  \n",
       "7            0           0       0          0  \n",
       "8            0           0       0          0  \n",
       "9            0           0       0          0  \n",
       "10           0           0       0          0  \n",
       "11           1           0       0          0  \n",
       "12           0           0       0          0  \n",
       "13           0           0       0          0  \n",
       "14           0           0       0          0  \n",
       "15           0           0       0          0  \n",
       "16           0           0       0          0  \n",
       "17           0           0       0          0  \n",
       "18           0           0       0          0  \n",
       "19           0           0       0          0  \n",
       "20           0           0       0          0  \n",
       "21           0           0       0          0  \n",
       "22           0           0       0          0  \n",
       "23           0           0       0          0  \n",
       "24           0           0       0          1  \n",
       "25           0           0       0          0  \n",
       "26           0           0       0          0  \n",
       "27           0           0       0          0  \n",
       "28           0           0       0          1  \n",
       "29           0           0       0          0  \n",
       "30           0           0       0          0  \n",
       "31           0           0       0          1  \n",
       "32           0           0       0          0  \n",
       "33           0           0       0          0  \n",
       "34           0           0       0          0  \n",
       "35           0           0       0          0  "
      ]
     },
     "execution_count": 119,
     "metadata": {},
     "output_type": "execute_result"
    }
   ],
   "source": [
    "# One Hot Encode the Car column:\n",
    "\n",
    "import pandas as pd\n",
    "\n",
    "cars = pd.read_csv('E:/Datasets/data.csv')\n",
    "ohe_cars = pd.get_dummies(cars[['Car']])\n",
    "\n",
    "ohe_cars"
   ]
  },
  {
   "cell_type": "markdown",
   "id": "fc629f73",
   "metadata": {},
   "source": [
    "**Results:** A column was created for every car brand in the Car column.\n",
    "\n",
    "**Predict CO2**\n",
    "\n",
    "We can use this additional information alongside the volume and weight to predict CO2\n",
    "\n",
    "To combine the information, we can use the `concat()` function from pandas.\n",
    "\n",
    "First we will need to import a couple modules.\n",
    "\n",
    "We will start with importing the Pandas."
   ]
  },
  {
   "cell_type": "code",
   "execution_count": 120,
   "id": "34618fc7",
   "metadata": {},
   "outputs": [],
   "source": [
    "import pandas"
   ]
  },
  {
   "cell_type": "markdown",
   "id": "0b99cf25",
   "metadata": {},
   "source": [
    "The pandas module allows us to read csv files and manipulate DataFrame objects:"
   ]
  },
  {
   "cell_type": "code",
   "execution_count": 121,
   "id": "7162ee62",
   "metadata": {},
   "outputs": [],
   "source": [
    "cars = pandas.read_csv(\"E:/Datasets/data.csv\")"
   ]
  },
  {
   "cell_type": "markdown",
   "id": "828ecddc",
   "metadata": {},
   "source": [
    "It also allows us to create the dummy variables:"
   ]
  },
  {
   "cell_type": "code",
   "execution_count": 122,
   "id": "37aaf86c",
   "metadata": {},
   "outputs": [],
   "source": [
    "ohe_cars = pandas.get_dummies(cars[['Car']])"
   ]
  },
  {
   "cell_type": "markdown",
   "id": "8c3e2e9f",
   "metadata": {},
   "source": [
    "Then we must select the independent variables (`X`) and add the dummy variables columnwise.\n",
    "\n",
    "Also store the dependent variable in `y`."
   ]
  },
  {
   "cell_type": "code",
   "execution_count": 123,
   "id": "88ca9391",
   "metadata": {},
   "outputs": [],
   "source": [
    "X = pandas.concat([cars[['Volume', 'Weight']], ohe_cars], axis=1)\n",
    "y = cars['CO2']"
   ]
  },
  {
   "cell_type": "markdown",
   "id": "c5788d6a",
   "metadata": {},
   "source": [
    "`axis=1` in the `concat()` function indicates that the concatenation should happen along the columns axis (horizontally).\n",
    "\n",
    "It means that the columns from cars[['Volume', 'Weight']] and ohe_cars are stacked side by side in the resulting DataFrame X."
   ]
  },
  {
   "cell_type": "markdown",
   "id": "4a7265e7",
   "metadata": {},
   "source": [
    "We also need to import a method from sklearn to create a linear model"
   ]
  },
  {
   "cell_type": "code",
   "execution_count": 124,
   "id": "b3bd9481",
   "metadata": {},
   "outputs": [],
   "source": [
    "from sklearn import linear_model"
   ]
  },
  {
   "cell_type": "markdown",
   "id": "00109040",
   "metadata": {},
   "source": [
    "Now we can fit the data to a linear regression:"
   ]
  },
  {
   "cell_type": "code",
   "execution_count": 125,
   "id": "a1839cab",
   "metadata": {},
   "outputs": [
    {
     "data": {
      "text/html": [
       "<style>#sk-container-id-3 {color: black;background-color: white;}#sk-container-id-3 pre{padding: 0;}#sk-container-id-3 div.sk-toggleable {background-color: white;}#sk-container-id-3 label.sk-toggleable__label {cursor: pointer;display: block;width: 100%;margin-bottom: 0;padding: 0.3em;box-sizing: border-box;text-align: center;}#sk-container-id-3 label.sk-toggleable__label-arrow:before {content: \"▸\";float: left;margin-right: 0.25em;color: #696969;}#sk-container-id-3 label.sk-toggleable__label-arrow:hover:before {color: black;}#sk-container-id-3 div.sk-estimator:hover label.sk-toggleable__label-arrow:before {color: black;}#sk-container-id-3 div.sk-toggleable__content {max-height: 0;max-width: 0;overflow: hidden;text-align: left;background-color: #f0f8ff;}#sk-container-id-3 div.sk-toggleable__content pre {margin: 0.2em;color: black;border-radius: 0.25em;background-color: #f0f8ff;}#sk-container-id-3 input.sk-toggleable__control:checked~div.sk-toggleable__content {max-height: 200px;max-width: 100%;overflow: auto;}#sk-container-id-3 input.sk-toggleable__control:checked~label.sk-toggleable__label-arrow:before {content: \"▾\";}#sk-container-id-3 div.sk-estimator input.sk-toggleable__control:checked~label.sk-toggleable__label {background-color: #d4ebff;}#sk-container-id-3 div.sk-label input.sk-toggleable__control:checked~label.sk-toggleable__label {background-color: #d4ebff;}#sk-container-id-3 input.sk-hidden--visually {border: 0;clip: rect(1px 1px 1px 1px);clip: rect(1px, 1px, 1px, 1px);height: 1px;margin: -1px;overflow: hidden;padding: 0;position: absolute;width: 1px;}#sk-container-id-3 div.sk-estimator {font-family: monospace;background-color: #f0f8ff;border: 1px dotted black;border-radius: 0.25em;box-sizing: border-box;margin-bottom: 0.5em;}#sk-container-id-3 div.sk-estimator:hover {background-color: #d4ebff;}#sk-container-id-3 div.sk-parallel-item::after {content: \"\";width: 100%;border-bottom: 1px solid gray;flex-grow: 1;}#sk-container-id-3 div.sk-label:hover label.sk-toggleable__label {background-color: #d4ebff;}#sk-container-id-3 div.sk-serial::before {content: \"\";position: absolute;border-left: 1px solid gray;box-sizing: border-box;top: 0;bottom: 0;left: 50%;z-index: 0;}#sk-container-id-3 div.sk-serial {display: flex;flex-direction: column;align-items: center;background-color: white;padding-right: 0.2em;padding-left: 0.2em;position: relative;}#sk-container-id-3 div.sk-item {position: relative;z-index: 1;}#sk-container-id-3 div.sk-parallel {display: flex;align-items: stretch;justify-content: center;background-color: white;position: relative;}#sk-container-id-3 div.sk-item::before, #sk-container-id-3 div.sk-parallel-item::before {content: \"\";position: absolute;border-left: 1px solid gray;box-sizing: border-box;top: 0;bottom: 0;left: 50%;z-index: -1;}#sk-container-id-3 div.sk-parallel-item {display: flex;flex-direction: column;z-index: 1;position: relative;background-color: white;}#sk-container-id-3 div.sk-parallel-item:first-child::after {align-self: flex-end;width: 50%;}#sk-container-id-3 div.sk-parallel-item:last-child::after {align-self: flex-start;width: 50%;}#sk-container-id-3 div.sk-parallel-item:only-child::after {width: 0;}#sk-container-id-3 div.sk-dashed-wrapped {border: 1px dashed gray;margin: 0 0.4em 0.5em 0.4em;box-sizing: border-box;padding-bottom: 0.4em;background-color: white;}#sk-container-id-3 div.sk-label label {font-family: monospace;font-weight: bold;display: inline-block;line-height: 1.2em;}#sk-container-id-3 div.sk-label-container {text-align: center;}#sk-container-id-3 div.sk-container {/* jupyter's `normalize.less` sets `[hidden] { display: none; }` but bootstrap.min.css set `[hidden] { display: none !important; }` so we also need the `!important` here to be able to override the default hidden behavior on the sphinx rendered scikit-learn.org. See: https://github.com/scikit-learn/scikit-learn/issues/21755 */display: inline-block !important;position: relative;}#sk-container-id-3 div.sk-text-repr-fallback {display: none;}</style><div id=\"sk-container-id-3\" class=\"sk-top-container\"><div class=\"sk-text-repr-fallback\"><pre>LinearRegression()</pre><b>In a Jupyter environment, please rerun this cell to show the HTML representation or trust the notebook. <br />On GitHub, the HTML representation is unable to render, please try loading this page with nbviewer.org.</b></div><div class=\"sk-container\" hidden><div class=\"sk-item\"><div class=\"sk-estimator sk-toggleable\"><input class=\"sk-toggleable__control sk-hidden--visually\" id=\"sk-estimator-id-3\" type=\"checkbox\" checked><label for=\"sk-estimator-id-3\" class=\"sk-toggleable__label sk-toggleable__label-arrow\">LinearRegression</label><div class=\"sk-toggleable__content\"><pre>LinearRegression()</pre></div></div></div></div></div>"
      ],
      "text/plain": [
       "LinearRegression()"
      ]
     },
     "execution_count": 125,
     "metadata": {},
     "output_type": "execute_result"
    }
   ],
   "source": [
    "regr = linear_model.LinearRegression()\n",
    "regr.fit(X,y)"
   ]
  },
  {
   "cell_type": "markdown",
   "id": "688d4d70",
   "metadata": {},
   "source": [
    "Finally we can predict the CO2 emissions based on the car's `weight`, `volume`, and `manufacturer`."
   ]
  },
  {
   "cell_type": "code",
   "execution_count": 126,
   "id": "f234338e",
   "metadata": {},
   "outputs": [
    {
     "name": "stderr",
     "output_type": "stream",
     "text": [
      "d:\\programs\\python\\lib\\site-packages\\sklearn\\base.py:450: UserWarning: X does not have valid feature names, but LinearRegression was fitted with feature names\n",
      "  warnings.warn(\n"
     ]
    }
   ],
   "source": [
    "# predict the CO2 emission of a Volvo where the weight is 2300kg, and the volume is 1300cm3:\n",
    "\n",
    "predictedCO2 = regr.predict([[2300, 1300,0,0,0,0,0,0,0,0,0,0,0,0,0,0,0,1,0]])"
   ]
  },
  {
   "cell_type": "code",
   "execution_count": 127,
   "id": "a2bcec5a",
   "metadata": {},
   "outputs": [
    {
     "name": "stdout",
     "output_type": "stream",
     "text": [
      "[122.45153299]\n"
     ]
    },
    {
     "name": "stderr",
     "output_type": "stream",
     "text": [
      "d:\\programs\\python\\lib\\site-packages\\sklearn\\base.py:450: UserWarning: X does not have valid feature names, but LinearRegression was fitted with feature names\n",
      "  warnings.warn(\n"
     ]
    }
   ],
   "source": [
    "import pandas\n",
    "from sklearn import linear_model\n",
    "\n",
    "cars = pandas.read_csv(\"E:/Datasets/data.csv\")\n",
    "ohe_cars = pandas.get_dummies(cars[['Car']])\n",
    "\n",
    "X = pandas.concat([cars[['Volume', 'Weight']], ohe_cars], axis=1)\n",
    "y = cars['CO2']\n",
    "\n",
    "regr = linear_model.LinearRegression()\n",
    "regr.fit(X,y)\n",
    "\n",
    "##predict the CO2 emission of a Volvo where the weight is 2300kg, and the volume is 1300cm3:\n",
    "predictedCO2 = regr.predict([[2300, 1300,0,0,0,0,0,0,0,0,0,0,0,0,0,0,0,1,0]])\n",
    "\n",
    "print(predictedCO2)"
   ]
  },
  {
   "cell_type": "markdown",
   "id": "552c4d6f",
   "metadata": {},
   "source": [
    "We now have a coefficient for the volume, the weight, and each car brand in the data set"
   ]
  },
  {
   "cell_type": "markdown",
   "id": "538d5ec8",
   "metadata": {},
   "source": [
    "**Dummifying**\n",
    "\n",
    "It is not necessary to create one column for each group in your category. The information can be retained using 1 column less than the number of groups you have.\n",
    "\n",
    "For example, you have a column representing colors and in that column, you have two colors, red and blue."
   ]
  },
  {
   "cell_type": "code",
   "execution_count": 128,
   "id": "798eda95",
   "metadata": {},
   "outputs": [
    {
     "name": "stdout",
     "output_type": "stream",
     "text": [
      "  color\n",
      "0  blue\n",
      "1   red\n"
     ]
    }
   ],
   "source": [
    "import pandas as pd\n",
    "\n",
    "colors = pd.DataFrame({'color': ['blue', 'red']})\n",
    "\n",
    "print(colors)"
   ]
  },
  {
   "cell_type": "markdown",
   "id": "a1967a5e",
   "metadata": {},
   "source": [
    "You can create 1 column called red where 1 represents red and 0 represents not red, which means it is blue.\n",
    "\n",
    "To do this, we can use the same function that we used for one hot encoding, get_dummies, and then drop one of the columns. There is an argument, drop_first, which allows us to exclude the first column from the resulting table."
   ]
  },
  {
   "cell_type": "code",
   "execution_count": 129,
   "id": "d5e1c890",
   "metadata": {},
   "outputs": [
    {
     "name": "stdout",
     "output_type": "stream",
     "text": [
      "   color_red\n",
      "0          0\n",
      "1          1\n"
     ]
    }
   ],
   "source": [
    "import pandas as pd\n",
    "\n",
    "colors = pd.DataFrame({'color': ['blue', 'red']})\n",
    "dummies = pd.get_dummies(colors, drop_first=True)\n",
    "\n",
    "print(dummies)"
   ]
  },
  {
   "cell_type": "markdown",
   "id": "39f68614",
   "metadata": {},
   "source": [
    "What if you have more than 2 groups? How can the multiple groups be represented by 1 less column?\n",
    "\n",
    "Let's say we have three colors this time, red, blue and green. When we get_dummies while dropping the first column, we get the following table."
   ]
  },
  {
   "cell_type": "code",
   "execution_count": 130,
   "id": "c76f72ad",
   "metadata": {},
   "outputs": [
    {
     "name": "stdout",
     "output_type": "stream",
     "text": [
      "   color_green  color_red  color\n",
      "0            0          0   blue\n",
      "1            0          1    red\n",
      "2            1          0  green\n"
     ]
    }
   ],
   "source": [
    "import pandas as pd\n",
    "\n",
    "colors = pd.DataFrame({'color': ['blue', 'red', 'green']})\n",
    "dummies = pd.get_dummies(colors, drop_first=True)\n",
    "dummies['color'] = colors['color']\n",
    "\n",
    "print(dummies)"
   ]
  },
  {
   "cell_type": "code",
   "execution_count": null,
   "id": "6d1571df",
   "metadata": {},
   "outputs": [],
   "source": []
  }
 ],
 "metadata": {
  "kernelspec": {
   "display_name": "Python 3 (ipykernel)",
   "language": "python",
   "name": "python3"
  },
  "language_info": {
   "codemirror_mode": {
    "name": "ipython",
    "version": 3
   },
   "file_extension": ".py",
   "mimetype": "text/x-python",
   "name": "python",
   "nbconvert_exporter": "python",
   "pygments_lexer": "ipython3",
   "version": "3.9.6"
  }
 },
 "nbformat": 4,
 "nbformat_minor": 5
}
