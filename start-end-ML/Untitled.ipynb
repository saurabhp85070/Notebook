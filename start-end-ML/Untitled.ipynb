{
 "cells": [
  {
   "cell_type": "markdown",
   "id": "3d16459f",
   "metadata": {},
   "source": [
    "**while preparing data for model build we have to follow these steps sequentially:**\n",
    "\n",
    "1. Feature exttraction\n",
    "2. Feature Engineering: creating more feature by manipulating the existing feature \n",
    "3. Feature Selection\n",
    "4. Feature Transformation: OHE, StandardScaler, MinMax etc"
   ]
  },
  {
   "cell_type": "code",
   "execution_count": null,
   "id": "cce418e7",
   "metadata": {},
   "outputs": [],
   "source": []
  }
 ],
 "metadata": {
  "kernelspec": {
   "display_name": "Python 3 (ipykernel)",
   "language": "python",
   "name": "python3"
  },
  "language_info": {
   "codemirror_mode": {
    "name": "ipython",
    "version": 3
   },
   "file_extension": ".py",
   "mimetype": "text/x-python",
   "name": "python",
   "nbconvert_exporter": "python",
   "pygments_lexer": "ipython3",
   "version": "3.9.6"
  }
 },
 "nbformat": 4,
 "nbformat_minor": 5
}
