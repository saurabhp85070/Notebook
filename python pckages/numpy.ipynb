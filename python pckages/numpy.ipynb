{
 "cells": [
  {
   "cell_type": "code",
   "execution_count": 13,
   "id": "c5c63191-bb4f-49f3-b838-b7d74446c2a2",
   "metadata": {},
   "outputs": [],
   "source": [
    "import numpy as np"
   ]
  },
  {
   "cell_type": "markdown",
   "id": "f45b39b7-6de3-4779-bb1b-9109f101ed0d",
   "metadata": {},
   "source": [
    "# creating 1D, 2D, 3D and nD array"
   ]
  },
  {
   "cell_type": "code",
   "execution_count": 2,
   "id": "09c75840-2419-4208-b96d-abd77f2ddba8",
   "metadata": {},
   "outputs": [
    {
     "data": {
      "text/plain": [
       "array([1, 2, 3])"
      ]
     },
     "execution_count": 2,
     "metadata": {},
     "output_type": "execute_result"
    }
   ],
   "source": [
    "arr1 = np.array([1,2,3])\n",
    "arr1"
   ]
  },
  {
   "cell_type": "code",
   "execution_count": 3,
   "id": "35727c08-7a86-490e-8885-06cef3d2b6e9",
   "metadata": {},
   "outputs": [
    {
     "data": {
      "text/plain": [
       "1"
      ]
     },
     "execution_count": 3,
     "metadata": {},
     "output_type": "execute_result"
    }
   ],
   "source": [
    "arr1.ndim"
   ]
  },
  {
   "cell_type": "code",
   "execution_count": 14,
   "id": "5a675514-11dd-4c61-b9d4-a85bde2dfc8e",
   "metadata": {},
   "outputs": [
    {
     "data": {
      "text/plain": [
       "array([[1, 2, 3],\n",
       "       [4, 5, 6]])"
      ]
     },
     "execution_count": 14,
     "metadata": {},
     "output_type": "execute_result"
    }
   ],
   "source": [
    "arr2 = np.array([[1,2,3],[4,5,6]])\n",
    "arr2"
   ]
  },
  {
   "cell_type": "code",
   "execution_count": 15,
   "id": "76c73a4d-e49b-4d44-8e99-66b0e3462a73",
   "metadata": {},
   "outputs": [
    {
     "data": {
      "text/plain": [
       "2"
      ]
     },
     "execution_count": 15,
     "metadata": {},
     "output_type": "execute_result"
    }
   ],
   "source": [
    "arr2.ndim"
   ]
  },
  {
   "cell_type": "code",
   "execution_count": 16,
   "id": "f4609574-494e-46f5-b3c7-abe84241ab71",
   "metadata": {},
   "outputs": [
    {
     "data": {
      "text/plain": [
       "(2, 3)"
      ]
     },
     "execution_count": 16,
     "metadata": {},
     "output_type": "execute_result"
    }
   ],
   "source": [
    "arr2.shape"
   ]
  },
  {
   "cell_type": "code",
   "execution_count": 17,
   "id": "9a71455c-602f-4a55-b077-d21a7daada62",
   "metadata": {},
   "outputs": [
    {
     "data": {
      "text/plain": [
       "6"
      ]
     },
     "execution_count": 17,
     "metadata": {},
     "output_type": "execute_result"
    }
   ],
   "source": [
    "arr2.size"
   ]
  },
  {
   "cell_type": "code",
   "execution_count": 6,
   "id": "b079e98b-fcee-4ec9-8b8b-e4215c0e2c8e",
   "metadata": {},
   "outputs": [
    {
     "ename": "ValueError",
     "evalue": "setting an array element with a sequence. The requested array has an inhomogeneous shape after 1 dimensions. The detected shape was (2,) + inhomogeneous part.",
     "output_type": "error",
     "traceback": [
      "\u001b[1;31m---------------------------------------------------------------------------\u001b[0m",
      "\u001b[1;31mValueError\u001b[0m                                Traceback (most recent call last)",
      "Cell \u001b[1;32mIn[6], line 1\u001b[0m\n\u001b[1;32m----> 1\u001b[0m arr2 \u001b[38;5;241m=\u001b[39m \u001b[43mnp\u001b[49m\u001b[38;5;241;43m.\u001b[39;49m\u001b[43marray\u001b[49m\u001b[43m(\u001b[49m\u001b[43m[\u001b[49m\u001b[43m[\u001b[49m\u001b[38;5;241;43m1\u001b[39;49m\u001b[43m,\u001b[49m\u001b[38;5;241;43m2\u001b[39;49m\u001b[43m,\u001b[49m\u001b[38;5;241;43m3\u001b[39;49m\u001b[43m]\u001b[49m\u001b[43m,\u001b[49m\u001b[43m[\u001b[49m\u001b[38;5;241;43m4\u001b[39;49m\u001b[43m,\u001b[49m\u001b[38;5;241;43m5\u001b[39;49m\u001b[43m]\u001b[49m\u001b[43m]\u001b[49m\u001b[43m)\u001b[49m\n\u001b[0;32m      2\u001b[0m arr2\n",
      "\u001b[1;31mValueError\u001b[0m: setting an array element with a sequence. The requested array has an inhomogeneous shape after 1 dimensions. The detected shape was (2,) + inhomogeneous part."
     ]
    }
   ],
   "source": [
    "arr2 = np.array([[1,2,3],[4,5]])\n",
    "arr2"
   ]
  },
  {
   "cell_type": "code",
   "execution_count": 7,
   "id": "8aabce17-b5af-4ac5-a15e-e5fa6f27ad9d",
   "metadata": {},
   "outputs": [
    {
     "data": {
      "text/plain": [
       "array([[[1, 2, 3],\n",
       "        [4, 5, 6],\n",
       "        [7, 8, 9]]])"
      ]
     },
     "execution_count": 7,
     "metadata": {},
     "output_type": "execute_result"
    }
   ],
   "source": [
    "arr3 = np.array([[[1,2,3],[4,5,6],[7,8,9]]])\n",
    "arr3"
   ]
  },
  {
   "cell_type": "code",
   "execution_count": 8,
   "id": "0eedeb22-bb63-416a-b20b-80ec5a87aa75",
   "metadata": {},
   "outputs": [
    {
     "data": {
      "text/plain": [
       "3"
      ]
     },
     "execution_count": 8,
     "metadata": {},
     "output_type": "execute_result"
    }
   ],
   "source": [
    "arr3.ndim"
   ]
  },
  {
   "cell_type": "code",
   "execution_count": 9,
   "id": "c6b81753-8086-4f32-8e5a-9d050327758c",
   "metadata": {},
   "outputs": [
    {
     "data": {
      "text/plain": [
       "array([[[[[[1, 2, 3]]]]]])"
      ]
     },
     "execution_count": 9,
     "metadata": {},
     "output_type": "execute_result"
    }
   ],
   "source": [
    "arr6 = np.array([1,2,3], ndmin=6)\n",
    "arr6"
   ]
  },
  {
   "cell_type": "code",
   "execution_count": 10,
   "id": "2895a441-1e69-42f6-a130-d678eafbe0cf",
   "metadata": {},
   "outputs": [
    {
     "data": {
      "text/plain": [
       "6"
      ]
     },
     "execution_count": 10,
     "metadata": {},
     "output_type": "execute_result"
    }
   ],
   "source": [
    "arr6.ndim"
   ]
  },
  {
   "cell_type": "markdown",
   "id": "4dcf80f3-0d3c-4d46-bdb8-d6869ee88a3d",
   "metadata": {},
   "source": [
    "# zeros"
   ]
  },
  {
   "cell_type": "code",
   "execution_count": 11,
   "id": "6964aead-c71b-454b-a586-97c08927c7c9",
   "metadata": {},
   "outputs": [
    {
     "data": {
      "text/plain": [
       "array([0., 0., 0., 0.])"
      ]
     },
     "execution_count": 11,
     "metadata": {},
     "output_type": "execute_result"
    }
   ],
   "source": [
    "arr_zeros = np.zeros(4)\n",
    "arr_zeros"
   ]
  },
  {
   "cell_type": "code",
   "execution_count": 12,
   "id": "c9c9e183-9034-463a-9c1b-52b6f865e895",
   "metadata": {},
   "outputs": [
    {
     "data": {
      "text/plain": [
       "array([[0., 0., 0.],\n",
       "       [0., 0., 0.]])"
      ]
     },
     "execution_count": 12,
     "metadata": {},
     "output_type": "execute_result"
    }
   ],
   "source": [
    "arr_zeros = np.zeros((2,3))\n",
    "arr_zeros"
   ]
  },
  {
   "cell_type": "markdown",
   "id": "03bcbc17-df11-4887-a747-1ae947fc7a32",
   "metadata": {},
   "source": [
    "# ones"
   ]
  },
  {
   "cell_type": "code",
   "execution_count": 3,
   "id": "6b8f8929-9162-45ff-a4b6-0723d4b9ae09",
   "metadata": {},
   "outputs": [
    {
     "data": {
      "text/plain": [
       "array([1., 1., 1., 1.])"
      ]
     },
     "execution_count": 3,
     "metadata": {},
     "output_type": "execute_result"
    }
   ],
   "source": [
    "arr_ones = np.ones(4)\n",
    "arr_ones"
   ]
  },
  {
   "cell_type": "code",
   "execution_count": 4,
   "id": "d399487c-1713-4913-bee5-193ddb34a305",
   "metadata": {},
   "outputs": [
    {
     "data": {
      "text/plain": [
       "array([[1., 1., 1.],\n",
       "       [1., 1., 1.]])"
      ]
     },
     "execution_count": 4,
     "metadata": {},
     "output_type": "execute_result"
    }
   ],
   "source": [
    "arr_ones = np.ones((2,3))\n",
    "arr_ones"
   ]
  },
  {
   "cell_type": "markdown",
   "id": "4b01159f-edd3-431f-9918-fb43784cf633",
   "metadata": {},
   "source": [
    "# empty"
   ]
  },
  {
   "cell_type": "code",
   "execution_count": 5,
   "id": "a6c611e5-b7d4-4572-abbd-f57a4fee1445",
   "metadata": {},
   "outputs": [
    {
     "data": {
      "text/plain": [
       "array([1., 1., 1., 1.])"
      ]
     },
     "execution_count": 5,
     "metadata": {},
     "output_type": "execute_result"
    }
   ],
   "source": [
    "arr_empty = np.empty(4) \n",
    "arr_empty # hold old value from memory"
   ]
  },
  {
   "cell_type": "code",
   "execution_count": 6,
   "id": "3311f98d-abbe-46c7-a7a6-4aed48116cd3",
   "metadata": {},
   "outputs": [
    {
     "data": {
      "text/plain": [
       "array([[1., 1., 1.],\n",
       "       [1., 1., 1.]])"
      ]
     },
     "execution_count": 6,
     "metadata": {},
     "output_type": "execute_result"
    }
   ],
   "source": [
    "arr_empty = np.empty((2,3)) \n",
    "arr_empty # hold old value from memory"
   ]
  },
  {
   "cell_type": "markdown",
   "id": "2ef8e907-bb26-42ae-906d-6c63f4a3014f",
   "metadata": {},
   "source": [
    "# np.full()\n",
    "\n",
    "The `np.full()` function in NumPy creates a new array of a specified shape and fills it with a specified value. It's particularly useful when you need an array initialized with a constant value for operations or as a placeholder."
   ]
  },
  {
   "cell_type": "code",
   "execution_count": 18,
   "id": "c784d484-036a-444c-b956-b8dcc23b3669",
   "metadata": {},
   "outputs": [
    {
     "data": {
      "text/plain": [
       "array([[7, 7, 7],\n",
       "       [7, 7, 7]])"
      ]
     },
     "execution_count": 18,
     "metadata": {},
     "output_type": "execute_result"
    }
   ],
   "source": [
    "arr = np.full((2, 3), 7)\n",
    "arr"
   ]
  },
  {
   "cell_type": "code",
   "execution_count": 19,
   "id": "8fce708a-a47f-4e3b-a9c9-b0c1ef427ace",
   "metadata": {},
   "outputs": [
    {
     "data": {
      "text/plain": [
       "array([10, 10, 10, 10, 10])"
      ]
     },
     "execution_count": 19,
     "metadata": {},
     "output_type": "execute_result"
    }
   ],
   "source": [
    "arr = np.full(5, 10)  # Shape is just an integer for 1D\n",
    "arr"
   ]
  },
  {
   "cell_type": "markdown",
   "id": "a144ac02-f3fd-4eab-adc5-120f5f8f6f9f",
   "metadata": {},
   "source": [
    "# arange"
   ]
  },
  {
   "cell_type": "code",
   "execution_count": 7,
   "id": "b12129d1-697b-43a3-a630-2af09252689b",
   "metadata": {},
   "outputs": [
    {
     "data": {
      "text/plain": [
       "array([0, 1, 2, 3, 4])"
      ]
     },
     "execution_count": 7,
     "metadata": {},
     "output_type": "execute_result"
    }
   ],
   "source": [
    "arr_rng = np.arange(5)\n",
    "arr_rng"
   ]
  },
  {
   "cell_type": "code",
   "execution_count": 8,
   "id": "b7f290d1-0af7-4500-ab8d-4f26f050e7a5",
   "metadata": {},
   "outputs": [
    {
     "data": {
      "text/plain": [
       "array([5, 6, 7, 8, 9])"
      ]
     },
     "execution_count": 8,
     "metadata": {},
     "output_type": "execute_result"
    }
   ],
   "source": [
    "arr_rng = np.arange(5,10)\n",
    "arr_rng"
   ]
  },
  {
   "cell_type": "code",
   "execution_count": 9,
   "id": "017479f4-464e-41b8-abc9-d0381ad55f91",
   "metadata": {},
   "outputs": [
    {
     "data": {
      "text/plain": [
       "array([5, 7, 9])"
      ]
     },
     "execution_count": 9,
     "metadata": {},
     "output_type": "execute_result"
    }
   ],
   "source": [
    "arr_rng = np.arange(5,10,2)\n",
    "arr_rng"
   ]
  },
  {
   "cell_type": "markdown",
   "id": "e6144808-513f-4605-99b9-1da5131ae967",
   "metadata": {},
   "source": [
    "# diagonal"
   ]
  },
  {
   "cell_type": "code",
   "execution_count": 10,
   "id": "f71c5fd8-9390-47e7-a6e6-34471deb479c",
   "metadata": {},
   "outputs": [
    {
     "data": {
      "text/plain": [
       "array([[1., 0., 0.],\n",
       "       [0., 1., 0.],\n",
       "       [0., 0., 1.]])"
      ]
     },
     "execution_count": 10,
     "metadata": {},
     "output_type": "execute_result"
    }
   ],
   "source": [
    "arr_diagonal = np.eye(3)\n",
    "arr_diagonal"
   ]
  },
  {
   "cell_type": "code",
   "execution_count": 11,
   "id": "20e9e35b-6b77-4987-8457-341556099d14",
   "metadata": {},
   "outputs": [
    {
     "data": {
      "text/plain": [
       "array([[1., 0., 0., 0., 0.],\n",
       "       [0., 1., 0., 0., 0.],\n",
       "       [0., 0., 1., 0., 0.]])"
      ]
     },
     "execution_count": 11,
     "metadata": {},
     "output_type": "execute_result"
    }
   ],
   "source": [
    "arr_diagonal = np.eye(3,5) # not tuple in this case\n",
    "arr_diagonal"
   ]
  },
  {
   "cell_type": "markdown",
   "id": "4963a68b-a781-490a-9e3d-08cf9c774d88",
   "metadata": {},
   "source": [
    "# linspace\n",
    "\n",
    "`np.linspace()` is a NumPy function used to generate an array of evenly spaced numbers over a specified interval. It's especially useful when you need a specific number of evenly spaced points between two endpoints, which can be helpful in scenarios like plotting graphs or working with mathematical functions."
   ]
  },
  {
   "cell_type": "code",
   "execution_count": 12,
   "id": "3d3f5589-bc10-4c08-aaa3-f00b31e1ead3",
   "metadata": {},
   "outputs": [
    {
     "data": {
      "text/plain": [
       "array([ 0. ,  2.5,  5. ,  7.5, 10. ])"
      ]
     },
     "execution_count": 12,
     "metadata": {},
     "output_type": "execute_result"
    }
   ],
   "source": [
    "import numpy as np\n",
    "\n",
    "arr = np.linspace(0, 10, 5)\n",
    "arr"
   ]
  },
  {
   "cell_type": "code",
   "execution_count": 13,
   "id": "7d5d68e2-0220-4b9f-bdba-afb2ccd1558d",
   "metadata": {},
   "outputs": [
    {
     "data": {
      "text/plain": [
       "array([0., 2., 4., 6., 8.])"
      ]
     },
     "execution_count": 13,
     "metadata": {},
     "output_type": "execute_result"
    }
   ],
   "source": [
    "# Excluding the Endpoint\n",
    "\n",
    "arr = np.linspace(0, 10, 5, endpoint=False)\n",
    "arr"
   ]
  },
  {
   "cell_type": "code",
   "execution_count": 14,
   "id": "2d0cda7c-1988-4a4d-9532-201651340a1e",
   "metadata": {},
   "outputs": [
    {
     "data": {
      "text/plain": [
       "np.float64(2.5)"
      ]
     },
     "execution_count": 14,
     "metadata": {},
     "output_type": "execute_result"
    }
   ],
   "source": [
    "# Returning the Step Size\n",
    "\n",
    "arr, step = np.linspace(0, 10, 5, retstep=True)\n",
    "step # difference between each number"
   ]
  },
  {
   "cell_type": "code",
   "execution_count": 15,
   "id": "87751098-9bea-4e6b-8176-010985311e80",
   "metadata": {},
   "outputs": [
    {
     "data": {
      "text/plain": [
       "array([0.        , 0.01010101, 0.02020202, 0.03030303, 0.04040404,\n",
       "       0.05050505, 0.06060606, 0.07070707, 0.08080808, 0.09090909,\n",
       "       0.1010101 , 0.11111111, 0.12121212, 0.13131313, 0.14141414,\n",
       "       0.15151515, 0.16161616, 0.17171717, 0.18181818, 0.19191919,\n",
       "       0.2020202 , 0.21212121, 0.22222222, 0.23232323, 0.24242424,\n",
       "       0.25252525, 0.26262626, 0.27272727, 0.28282828, 0.29292929,\n",
       "       0.3030303 , 0.31313131, 0.32323232, 0.33333333, 0.34343434,\n",
       "       0.35353535, 0.36363636, 0.37373737, 0.38383838, 0.39393939,\n",
       "       0.4040404 , 0.41414141, 0.42424242, 0.43434343, 0.44444444,\n",
       "       0.45454545, 0.46464646, 0.47474747, 0.48484848, 0.49494949,\n",
       "       0.50505051, 0.51515152, 0.52525253, 0.53535354, 0.54545455,\n",
       "       0.55555556, 0.56565657, 0.57575758, 0.58585859, 0.5959596 ,\n",
       "       0.60606061, 0.61616162, 0.62626263, 0.63636364, 0.64646465,\n",
       "       0.65656566, 0.66666667, 0.67676768, 0.68686869, 0.6969697 ,\n",
       "       0.70707071, 0.71717172, 0.72727273, 0.73737374, 0.74747475,\n",
       "       0.75757576, 0.76767677, 0.77777778, 0.78787879, 0.7979798 ,\n",
       "       0.80808081, 0.81818182, 0.82828283, 0.83838384, 0.84848485,\n",
       "       0.85858586, 0.86868687, 0.87878788, 0.88888889, 0.8989899 ,\n",
       "       0.90909091, 0.91919192, 0.92929293, 0.93939394, 0.94949495,\n",
       "       0.95959596, 0.96969697, 0.97979798, 0.98989899, 1.        ])"
      ]
     },
     "execution_count": 15,
     "metadata": {},
     "output_type": "execute_result"
    }
   ],
   "source": [
    "arr = np.linspace(0, 1, 100)\n",
    "arr"
   ]
  },
  {
   "cell_type": "code",
   "execution_count": 16,
   "id": "3b80aa1b-c9db-4a67-9fc6-c40b67a582c3",
   "metadata": {},
   "outputs": [
    {
     "data": {
      "text/plain": [
       "array([ 0,  2,  5,  7, 10])"
      ]
     },
     "execution_count": 16,
     "metadata": {},
     "output_type": "execute_result"
    }
   ],
   "source": [
    "arr = np.linspace(0, 10, 5, dtype=int)\n",
    "arr"
   ]
  },
  {
   "cell_type": "markdown",
   "id": "8fb43a9f-0da4-4759-af48-92b9c3495224",
   "metadata": {},
   "source": [
    "# rand(), randn(), randf() and randint()\n",
    "\n",
    "In NumPy, the functions rand(), randn(), random(), and randint() are used for generating random numbers, but they serve different purposes based on the types and distributions of the numbers they generate."
   ]
  },
  {
   "cell_type": "markdown",
   "id": "a5e3782c-1dae-430b-b960-c1e6047de029",
   "metadata": {},
   "source": [
    "## rand() (Uniform Distribution)\n",
    "\n",
    "The `np.random.rand()` function generates random numbers from a uniform distribution over the interval [0, 1). This means each number in the specified range has an equal probability of being selected."
   ]
  },
  {
   "cell_type": "code",
   "execution_count": 20,
   "id": "c0db0fd8-8ac0-471d-b4e9-2aec5839336e",
   "metadata": {},
   "outputs": [
    {
     "name": "stdout",
     "output_type": "stream",
     "text": [
      "0.19545536587406032\n"
     ]
    }
   ],
   "source": [
    "import numpy as np\n",
    "\n",
    "# Generate a single random number between 0 and 1\n",
    "single_rand = np.random.rand()\n",
    "print(single_rand)  "
   ]
  },
  {
   "cell_type": "code",
   "execution_count": 21,
   "id": "4450027e-6062-4f21-a31d-74418ab807ff",
   "metadata": {},
   "outputs": [
    {
     "name": "stdout",
     "output_type": "stream",
     "text": [
      "[[0.20221977 0.94996418 0.07626957]\n",
      " [0.31528589 0.19384    0.68206279]]\n"
     ]
    }
   ],
   "source": [
    "# Generate a 2x3 array of random numbers between 0 and 1\n",
    "rand_arr = np.random.rand(2, 3)\n",
    "print(rand_arr)\n"
   ]
  },
  {
   "cell_type": "markdown",
   "id": "03594247-0155-4920-bf91-1d1c7aa094a7",
   "metadata": {},
   "source": [
    "## randn() (Standard Normal Distribution)\n",
    "\n",
    "The `np.random.randn()` function generates random numbers from a standard normal distribution (Gaussian distribution) with a mean of 0 and a standard deviation of 1. This distribution is bell-shaped, where most numbers will be around 0, with fewer numbers further from 0."
   ]
  },
  {
   "cell_type": "code",
   "execution_count": 22,
   "id": "79300904-4d84-46d4-a218-bb5c6b846c9b",
   "metadata": {},
   "outputs": [
    {
     "name": "stdout",
     "output_type": "stream",
     "text": [
      "-0.8132152374784997\n"
     ]
    }
   ],
   "source": [
    "# Generate a single random number from the standard normal distribution\n",
    "single_randn = np.random.randn()\n",
    "print(single_randn)"
   ]
  },
  {
   "cell_type": "code",
   "execution_count": 23,
   "id": "0e1c9650-4fce-4ab8-9599-be6c93578230",
   "metadata": {},
   "outputs": [
    {
     "name": "stdout",
     "output_type": "stream",
     "text": [
      "[[-0.39646538  0.23556612 -0.23416182]\n",
      " [-0.99343628 -1.18635164 -1.61023132]]\n"
     ]
    }
   ],
   "source": [
    "# Generate a 2x3 array of random numbers from the standard normal distribution\n",
    "randn_arr = np.random.randn(2, 3)\n",
    "print(randn_arr)"
   ]
  },
  {
   "cell_type": "markdown",
   "id": "ba8db914-faa5-45f5-92de-ed333aa99c92",
   "metadata": {},
   "source": [
    "## random() (Alias for rand())\n",
    "\n",
    "In NumPy, `np.random.random()` is simply an alias for `np.random.rand()` and works the same way."
   ]
  },
  {
   "cell_type": "code",
   "execution_count": 24,
   "id": "e5402b6a-22b7-42ce-9f4d-1afd5624bead",
   "metadata": {},
   "outputs": [
    {
     "name": "stdout",
     "output_type": "stream",
     "text": [
      "0.09628997097620373\n"
     ]
    }
   ],
   "source": [
    "# Generate a single random number between 0 and 1\n",
    "single_random = np.random.random()\n",
    "print(single_random)"
   ]
  },
  {
   "cell_type": "code",
   "execution_count": 25,
   "id": "f30b3f20-d18e-4476-8db1-24dd10b6e494",
   "metadata": {},
   "outputs": [
    {
     "name": "stdout",
     "output_type": "stream",
     "text": [
      "[[0.99701768 0.03335512 0.42185423]\n",
      " [0.84246827 0.93079274 0.52880986]]\n"
     ]
    }
   ],
   "source": [
    "# Generate a 2x3 array of random numbers between 0 and 1\n",
    "random_arr = np.random.random((2, 3))\n",
    "print(random_arr)"
   ]
  },
  {
   "cell_type": "markdown",
   "id": "70a08ae0-7097-4034-bf21-f560aa4b487e",
   "metadata": {},
   "source": [
    "## randint() (Random Integers)\n",
    "\n",
    "The `np.random.randint()` function generates random integers between a specified range (inclusive of the lower bound and exclusive of the upper bound)."
   ]
  },
  {
   "cell_type": "code",
   "execution_count": null,
   "id": "0c17b6e5-dca7-4ebb-a771-87d267a375d2",
   "metadata": {},
   "outputs": [],
   "source": [
    "np.random.randint(low, high=None, size=None, dtype=int)"
   ]
  },
  {
   "cell_type": "code",
   "execution_count": 26,
   "id": "3e1cd08d-e21e-4c53-b35f-841b1171f631",
   "metadata": {},
   "outputs": [
    {
     "name": "stdout",
     "output_type": "stream",
     "text": [
      "6\n"
     ]
    }
   ],
   "source": [
    "# Generate a single random integer between 1 (inclusive) and 10 (exclusive)\n",
    "single_randint = np.random.randint(1, 10)\n",
    "print(single_randint)  # Output: e.g., 7"
   ]
  },
  {
   "cell_type": "code",
   "execution_count": 27,
   "id": "910569e2-8a06-4ebf-93d4-4be3174430b5",
   "metadata": {},
   "outputs": [
    {
     "name": "stdout",
     "output_type": "stream",
     "text": [
      "[[3 7 7]\n",
      " [9 8 2]]\n"
     ]
    }
   ],
   "source": [
    "# Generate a 2x3 array of random integers between 1 (inclusive) and 10 (exclusive)\n",
    "randint_arr = np.random.randint(1, 10, size=(2, 3))\n",
    "print(randint_arr)"
   ]
  },
  {
   "cell_type": "markdown",
   "id": "16b6c329-9b24-46fd-a0be-c67ad121aa26",
   "metadata": {},
   "source": [
    "# datatype"
   ]
  },
  {
   "cell_type": "code",
   "execution_count": 28,
   "id": "358f20d0-f9c9-47ea-8340-22cac965dc4b",
   "metadata": {},
   "outputs": [
    {
     "data": {
      "text/plain": [
       "dtype('int64')"
      ]
     },
     "execution_count": 28,
     "metadata": {},
     "output_type": "execute_result"
    }
   ],
   "source": [
    "arr = np.array([1,2,3,4])\n",
    "arr.dtype"
   ]
  },
  {
   "cell_type": "code",
   "execution_count": 29,
   "id": "cecf2e21-e912-44ec-9c46-294a19cdd70f",
   "metadata": {},
   "outputs": [
    {
     "data": {
      "text/plain": [
       "dtype('int8')"
      ]
     },
     "execution_count": 29,
     "metadata": {},
     "output_type": "execute_result"
    }
   ],
   "source": [
    "arr = np.array([1,2,3,4], dtype='int8')\n",
    "arr.dtype"
   ]
  },
  {
   "cell_type": "code",
   "execution_count": 30,
   "id": "3f0d8926-6fe3-41b1-96ad-49f36d355d66",
   "metadata": {},
   "outputs": [
    {
     "data": {
      "text/plain": [
       "dtype('int8')"
      ]
     },
     "execution_count": 30,
     "metadata": {},
     "output_type": "execute_result"
    }
   ],
   "source": [
    "arr = np.array([1,2,3,4], dtype=np.int8)\n",
    "arr.dtype"
   ]
  },
  {
   "cell_type": "code",
   "execution_count": 31,
   "id": "a29c3e52-ed9b-4bef-94e2-14a85bfa6032",
   "metadata": {},
   "outputs": [
    {
     "data": {
      "text/plain": [
       "dtype('float64')"
      ]
     },
     "execution_count": 31,
     "metadata": {},
     "output_type": "execute_result"
    }
   ],
   "source": [
    "arr = np.array([1,2,3,4], dtype=np.float64)\n",
    "arr.dtype"
   ]
  },
  {
   "cell_type": "markdown",
   "id": "099a164e-0e30-46ea-9394-db772086ed08",
   "metadata": {},
   "source": [
    "In NumPy, data types (also known as dtypes) are crucial as they determine how the data is stored in memory, processed, and interpreted. NumPy provides a wide range of data types, making it efficient for numerical operations and array manipulations. Here’s an overview of data types in NumPy."
   ]
  },
  {
   "cell_type": "markdown",
   "id": "b2012db7-e9db-42b7-ade9-1d355a62725b",
   "metadata": {},
   "source": [
    "## Common NumPy Data Types (Dtypes)\n",
    "\n",
    "- Integers: These are whole numbers.\n",
    "    - int8: 8-bit integer (-128 to 127)\n",
    "    - int16: 16-bit integer (-32,768 to 32,767)\n",
    "    - int32: 32-bit integer (-2,147,483,648 to 2,147,483,647)\n",
    "    - int64: 64-bit integer (very large range)\n",
    "\n",
    "- Unsigned Integers: These are whole numbers, but only positive values.\n",
    "    - uint8: 8-bit unsigned integer (0 to 255)\n",
    "    - uint16: 16-bit unsigned integer (0 to 65,535)\n",
    "    - uint32: 32-bit unsigned integer (0 to 4,294,967,295)\n",
    "    - uint64: 64-bit unsigned integer (very large range)\n",
    "\n",
    "- Floating Point Numbers: These represent real numbers with decimals.\n",
    "    - float16: Half-precision floating point (smaller range and less precision)\n",
    "    - float32 (or just float): Single-precision floating point\n",
    "    - float64 (or just double): Double-precision floating point (default for real numbers in NumPy)\n",
    "\n",
    "- Complex Numbers: These represent numbers with both real and imaginary parts.\n",
    "    - complex64: Complex number, represented by two 32-bit floats (real and imaginary parts)\n",
    "    - complex128: Complex number, represented by two 64-bit floats (real and imaginary parts)\n",
    "\n",
    "- Boolean: Used to represent True or False values.\n",
    "    - bool: Boolean type, stores True or False\n",
    "\n",
    "- String: Used to represent text data.\n",
    "    - str_: Fixed-length Unicode type (e.g., '<U10' means a Unicode string of maximum length 10)\n",
    "\n",
    "- Object: Used for arbitrary Python objects.\n",
    "    - object: A generic object type, can hold any Python object (less efficient than other types)\n",
    "\n",
    "- Datetime and Timedelta: Used for handling date and time data.\n",
    "    - datetime64: Represents dates and times with a fixed precision (e.g., np.datetime64('2023-09-24'))\n",
    "    - timedelta64: Represents time differences (e.g., np.timedelta64(1, 'D'))"
   ]
  },
  {
   "cell_type": "markdown",
   "id": "be37ca5e-e6f8-42d7-91b6-f543b809a200",
   "metadata": {},
   "source": [
    "**`astype()` is used to change an array’s data type:**"
   ]
  },
  {
   "cell_type": "code",
   "execution_count": null,
   "id": "f72a3aab-b42e-4319-8963-cc84b3db7ea9",
   "metadata": {},
   "outputs": [],
   "source": [
    "# change the data type of an existing array using the astype() function:\n",
    "\n",
    "arr = np.array([1, 2, 3], dtype=np.int32)\n",
    "print(arr)\n",
    "\n",
    "# Convert to float\n",
    "arr_float = arr.astype(np.float64)\n",
    "print(arr_float)  # Output: [1. 2. 3.]\n",
    "print(arr_float.dtype)  # Output: float64"
   ]
  },
  {
   "cell_type": "markdown",
   "id": "bdf4d72b-1408-43db-a175-4a931cc6c07c",
   "metadata": {},
   "source": [
    "**Example of Different Dtypes in NumPy Arrays:**"
   ]
  },
  {
   "cell_type": "code",
   "execution_count": null,
   "id": "96a0b273-a660-4ade-a30a-47792c7baf9f",
   "metadata": {},
   "outputs": [],
   "source": [
    "# Integer array\n",
    "int_arr = np.array([1, 2, 3], dtype=np.int8)\n",
    "print(int_arr, int_arr.dtype)  # Output: [1 2 3] int8\n",
    "\n",
    "# Float array\n",
    "float_arr = np.array([1.0, 2.0, 3.0], dtype=np.float32)\n",
    "print(float_arr, float_arr.dtype)  # Output: [1. 2. 3.] float32\n",
    "\n",
    "# Boolean array\n",
    "bool_arr = np.array([True, False, True], dtype=np.bool_)\n",
    "print(bool_arr, bool_arr.dtype)  # Output: [ True False  True] bool\n",
    "\n",
    "# Complex array\n",
    "complex_arr = np.array([1+2j, 3+4j], dtype=np.complex128)\n",
    "print(complex_arr, complex_arr.dtype)  # Output: [1.+2.j 3.+4.j] complex128"
   ]
  },
  {
   "cell_type": "markdown",
   "id": "4bdc91f1-4229-4211-b449-ddd2b9c99e48",
   "metadata": {},
   "source": [
    "## Custom Data Types (Structured Arrays)\n",
    "\n",
    "NumPy also supports creating custom or compound data types (structured arrays) by defining a structured dtype."
   ]
  },
  {
   "cell_type": "code",
   "execution_count": 21,
   "id": "a2c13633-c83b-4813-9f7e-49a6d09a03f0",
   "metadata": {},
   "outputs": [
    {
     "name": "stdout",
     "output_type": "stream",
     "text": [
      "[('Alice', 21, 85.5) ('Bob', 25, 90. )]\n"
     ]
    }
   ],
   "source": [
    "# Define a structured data type with fields: name (string), age (integer), and score (float)\n",
    "dt = np.dtype([('name', 'U10'), ('age', 'i4'), ('score', 'f4')])\n",
    "\n",
    "# Create an array with that data type\n",
    "students = np.array([('Alice', 21, 85.5), ('Bob', 25, 90.0)], dtype=dt)\n",
    "print(students)\n",
    "# Output: [('Alice', 21, 85.5) ('Bob', 25, 90.)]"
   ]
  },
  {
   "cell_type": "markdown",
   "id": "3feff428-aaa4-43d0-a391-64f04cea57d5",
   "metadata": {},
   "source": [
    "# shape and reshape"
   ]
  },
  {
   "cell_type": "code",
   "execution_count": 22,
   "id": "9625addb-9c50-4749-8c37-2dcd77a831a1",
   "metadata": {},
   "outputs": [
    {
     "data": {
      "text/plain": [
       "(4,)"
      ]
     },
     "execution_count": 22,
     "metadata": {},
     "output_type": "execute_result"
    }
   ],
   "source": [
    "arr_1d = np.array([1, 2, 3, 4])\n",
    "arr_1d.shape"
   ]
  },
  {
   "cell_type": "code",
   "execution_count": 23,
   "id": "bcd3ef16-d9b9-4c0b-8b77-24b8a6bcddc0",
   "metadata": {},
   "outputs": [
    {
     "data": {
      "text/plain": [
       "(2, 3)"
      ]
     },
     "execution_count": 23,
     "metadata": {},
     "output_type": "execute_result"
    }
   ],
   "source": [
    "arr_2d = np.array([[1, 2, 3], [4, 5, 6]])\n",
    "arr_2d.shape  "
   ]
  },
  {
   "cell_type": "code",
   "execution_count": 24,
   "id": "89cf0383-451d-4cad-b486-e385dd834922",
   "metadata": {},
   "outputs": [
    {
     "data": {
      "text/plain": [
       "array([[1, 2, 3],\n",
       "       [4, 5, 6]])"
      ]
     },
     "execution_count": 24,
     "metadata": {},
     "output_type": "execute_result"
    }
   ],
   "source": [
    "arr = np.array([1, 2, 3, 4, 5, 6])\n",
    "arr_reshaped = arr.reshape((2, 3))\n",
    "arr_reshaped"
   ]
  },
  {
   "cell_type": "code",
   "execution_count": 25,
   "id": "30a12f50-b08f-4b6e-8a75-00e733d5e2b1",
   "metadata": {},
   "outputs": [
    {
     "data": {
      "text/plain": [
       "array([[[1, 2, 3]],\n",
       "\n",
       "       [[4, 5, 6]]])"
      ]
     },
     "execution_count": 25,
     "metadata": {},
     "output_type": "execute_result"
    }
   ],
   "source": [
    "# 2D array\n",
    "arr_2d = np.array([[1, 2], [3, 4], [5, 6]])\n",
    "\n",
    "# Reshape to a 3D array (2 layers of 1x3)\n",
    "arr_reshaped_3d = arr_2d.reshape(2, 1, 3)\n",
    "arr_reshaped_3d"
   ]
  },
  {
   "cell_type": "markdown",
   "id": "0e5c2041-8691-45c3-8c99-24195a9359bd",
   "metadata": {},
   "source": [
    "You can use `-1` in one of the dimensions to have NumPy automatically calculate that dimension based on the size of the data and the other specified dimensions."
   ]
  },
  {
   "cell_type": "code",
   "execution_count": 26,
   "id": "4f594271-e5da-48d6-b880-cc7ab016c4bb",
   "metadata": {},
   "outputs": [
    {
     "data": {
      "text/plain": [
       "array([[1, 2, 3],\n",
       "       [4, 5, 6]])"
      ]
     },
     "execution_count": 26,
     "metadata": {},
     "output_type": "execute_result"
    }
   ],
   "source": [
    "# Using -1 to Let NumPy Infer a Dimension\n",
    "\n",
    "arr_1d = np.array([1, 2, 3, 4, 5, 6])\n",
    "\n",
    "# Let NumPy automatically calculate the number of rows\n",
    "arr_reshaped = arr_1d.reshape(-1, 3)\n",
    "arr_reshaped"
   ]
  },
  {
   "cell_type": "markdown",
   "id": "225b515e-92e1-4868-ab7e-dd43b98b621b",
   "metadata": {},
   "source": [
    "# arithmetic operation"
   ]
  },
  {
   "cell_type": "code",
   "execution_count": 35,
   "id": "dfc2cc87-66f0-42e8-afa9-b7a34a6415b5",
   "metadata": {},
   "outputs": [
    {
     "name": "stdout",
     "output_type": "stream",
     "text": [
      "[11 12 13 14]\n",
      "[0 1 2 3]\n",
      "[2 4 6 8]\n",
      "[0.5 1.  1.5 2. ]\n",
      "[ 1  4  9 16]\n"
     ]
    }
   ],
   "source": [
    "arr = np.array([1, 2, 3, 4])\n",
    "\n",
    "# Element-wise addition\n",
    "arr_add = arr + 10\n",
    "print(arr_add)  # Output: [11 12 13 14]\n",
    "\n",
    "# Element-wise substraction\n",
    "arr_sub = arr - 1\n",
    "print(arr_sub)  # Output: [0 1 2 3]\n",
    "\n",
    "# Element-wise multiplication\n",
    "arr_mul = arr * 2\n",
    "print(arr_mul)  # Output: [2 4 6 8]\n",
    "\n",
    "# Element-wise division\n",
    "arr_div = arr / 2\n",
    "print(arr_div)  # Output: [0.5 1.  1.5 2. ]\n",
    "\n",
    "# Element-wise square\n",
    "arr_square = arr ** 2\n",
    "print(arr_square)  # Output: [ 1  4  9 16]\n"
   ]
  },
  {
   "cell_type": "code",
   "execution_count": 28,
   "id": "4fd18457-7713-46c2-bf2b-f9946754144a",
   "metadata": {},
   "outputs": [
    {
     "name": "stdout",
     "output_type": "stream",
     "text": [
      "[5 7 9]\n",
      "[5 7 9]\n"
     ]
    }
   ],
   "source": [
    "import numpy as np\n",
    "\n",
    "arr1 = np.array([1, 2, 3])\n",
    "arr2 = np.array([4, 5, 6])\n",
    "\n",
    "# Element-wise addition\n",
    "result = arr1 + arr2\n",
    "print(result)  # Output: [5 7 9]\n",
    "\n",
    "# Using np.add()\n",
    "result = np.add(arr1, arr2)\n",
    "print(result)  # Output: [5 7 9]"
   ]
  },
  {
   "cell_type": "code",
   "execution_count": 29,
   "id": "fab43a25-1fb5-4334-90fd-0c13282ba60c",
   "metadata": {},
   "outputs": [
    {
     "name": "stdout",
     "output_type": "stream",
     "text": [
      "[3 3 3]\n",
      "[3 3 3]\n"
     ]
    }
   ],
   "source": [
    "# Element-wise subtraction\n",
    "result = arr2 - arr1\n",
    "print(result)  # Output: [3 3 3]\n",
    "\n",
    "# Using np.subtract()\n",
    "result = np.subtract(arr2, arr1)\n",
    "print(result)  # Output: [3 3 3]"
   ]
  },
  {
   "cell_type": "code",
   "execution_count": 30,
   "id": "6d89da7e-0906-492a-bb36-142d5067b469",
   "metadata": {},
   "outputs": [
    {
     "name": "stdout",
     "output_type": "stream",
     "text": [
      "[ 4 10 18]\n",
      "[ 4 10 18]\n"
     ]
    }
   ],
   "source": [
    "# Element-wise multiplication\n",
    "result = arr1 * arr2\n",
    "print(result)  # Output: [4 10 18]\n",
    "\n",
    "# Using np.multiply()\n",
    "result = np.multiply(arr1, arr2)\n",
    "print(result)  # Output: [4 10 18]"
   ]
  },
  {
   "cell_type": "code",
   "execution_count": 31,
   "id": "bfcfc853-a027-42f8-ad4f-eb91fb197fed",
   "metadata": {},
   "outputs": [
    {
     "name": "stdout",
     "output_type": "stream",
     "text": [
      "[4.  2.5 2. ]\n",
      "[4.  2.5 2. ]\n"
     ]
    }
   ],
   "source": [
    "# Element-wise division\n",
    "result = arr2 / arr1\n",
    "print(result)  # Output: [4.  2.5 2. ]\n",
    "\n",
    "# Using np.divide()\n",
    "result = np.divide(arr2, arr1)\n",
    "print(result)  # Output: [4.  2.5 2. ]"
   ]
  },
  {
   "cell_type": "code",
   "execution_count": 32,
   "id": "fcac8f82-3dd8-4082-907b-39ab51d6b2f3",
   "metadata": {},
   "outputs": [
    {
     "name": "stdout",
     "output_type": "stream",
     "text": [
      "[1 4 9]\n",
      "[1 4 9]\n"
     ]
    }
   ],
   "source": [
    "# Element-wise exponentiation\n",
    "result = arr1 ** 2\n",
    "print(result)  # Output: [1 4 9]\n",
    "\n",
    "# Using np.power()\n",
    "result = np.power(arr1, 2)\n",
    "print(result)  # Output: [1 4 9]"
   ]
  },
  {
   "cell_type": "code",
   "execution_count": 33,
   "id": "d4daf17e-8bc6-49a0-a79e-a0a4ea401925",
   "metadata": {},
   "outputs": [
    {
     "name": "stdout",
     "output_type": "stream",
     "text": [
      "[0 1 0]\n",
      "[0 1 0]\n"
     ]
    }
   ],
   "source": [
    "# Element-wise modulus\n",
    "result = arr2 % arr1\n",
    "print(result)  # Output: [0 1 0]\n",
    "\n",
    "# Using np.mod()\n",
    "result = np.mod(arr2, arr1)\n",
    "print(result)  # Output: [0 1 0]"
   ]
  },
  {
   "cell_type": "code",
   "execution_count": 34,
   "id": "d013f748-0042-4369-ae10-6fda34f3dbff",
   "metadata": {},
   "outputs": [
    {
     "name": "stdout",
     "output_type": "stream",
     "text": [
      "[4 2 2]\n",
      "[4 2 2]\n"
     ]
    }
   ],
   "source": [
    "# Element-wise floor division\n",
    "result = arr2 // arr1\n",
    "print(result)  # Output: [4 2 2]\n",
    "\n",
    "# Using np.floor_divide()\n",
    "result = np.floor_divide(arr2, arr1)\n",
    "print(result)  # Output: [4 2 2]"
   ]
  },
  {
   "cell_type": "markdown",
   "id": "827f8af6-8ff9-441c-a3fd-3bb3f7d805a2",
   "metadata": {},
   "source": [
    "# broadcasting\n",
    "\n",
    "NumPy supports broadcasting, which allows operations on arrays of different shapes as long as certain compatibility rules are met. For example, you can add a scalar to a vector, or a smaller array to a larger array if their shapes are compatible."
   ]
  },
  {
   "cell_type": "code",
   "execution_count": 62,
   "id": "6314b23f-76f4-417f-8338-0e864b4cf5ee",
   "metadata": {},
   "outputs": [
    {
     "name": "stdout",
     "output_type": "stream",
     "text": [
      "[3 4 5]\n"
     ]
    }
   ],
   "source": [
    "arr1 = np.array([1, 2, 3])\n",
    "scalar = 2\n",
    "\n",
    "# Adding a scalar to an array\n",
    "result = arr1 + scalar\n",
    "print(result)  # Output: [3 4 5]"
   ]
  },
  {
   "cell_type": "code",
   "execution_count": 37,
   "id": "8eeb2364-4d8a-4d7c-b275-6cc191718059",
   "metadata": {},
   "outputs": [
    {
     "name": "stdout",
     "output_type": "stream",
     "text": [
      "[[ 1  2]\n",
      " [ 6  8]\n",
      " [15 18]]\n"
     ]
    }
   ],
   "source": [
    "# Multiplying a 1D array with a 2D array\n",
    "arr2d = np.array([[1, 2], [3, 4], [5, 6]])\n",
    "result = arr1[:, np.newaxis] * arr2d\n",
    "print(result)"
   ]
  },
  {
   "cell_type": "code",
   "execution_count": 38,
   "id": "b1830a27-f537-41a9-a1bc-9872b03b5791",
   "metadata": {},
   "outputs": [
    {
     "data": {
      "text/plain": [
       "array([[1],\n",
       "       [2],\n",
       "       [3]])"
      ]
     },
     "execution_count": 38,
     "metadata": {},
     "output_type": "execute_result"
    }
   ],
   "source": [
    "arr1[:, np.newaxis]\n",
    "\n",
    "# np.newaxis is used to add a new axis along the columns, transforming arr1 from a 1D array of shape (3,) to a 2D array of shape (3, 1)."
   ]
  },
  {
   "cell_type": "markdown",
   "id": "286c6eee-6795-4f39-a538-6faa437d45fb",
   "metadata": {},
   "source": [
    "Without `np.newaxis`, the shapes of the arrays wouldn't align for broadcasting, and the operation would raise an error. Adding the new axis allows you to perform operations between arrays with different shapes in a straightforward and memory-efficient way."
   ]
  },
  {
   "cell_type": "markdown",
   "id": "0bf90d69-63e7-4dbb-9750-51ebb1c62609",
   "metadata": {},
   "source": [
    "### Broadcasting Rules\n",
    "\n",
    "Broadcasting allows NumPy to perform operations on arrays of different shapes by \"stretching\" them to be compatible. This is a powerful feature for handling operations efficiently without explicitly creating large arrays.\n",
    "\n",
    "**Broadcasting Rules:**\n",
    "                                                                                                                                               \n",
    "1. Rule 1: Dimensions Must Match or Be 1\n",
    "\n",
    "    - If two arrays have different shapes, compare their shapes element-wise from the rightmost dimension.\n",
    "    - Two dimensions are compatible if:\n",
    "        - They are equal.\n",
    "        - One of them is 1.\n",
    "                                                                                                                                               \n",
    "2. Rule 2: Automatically Expand Dimensions with Size 1\n",
    "\n",
    "    - If a dimension of size 1 exists, NumPy will broadcast (replicate) the data along that dimension.\n",
    "\n",
    "3. Rule 3: If Shapes Are Incompatible, Broadcasting Fails\n",
    "\n",
    "    - If neither dimension is 1, nor are they equal, broadcasting throws an error.\n"
   ]
  },
  {
   "cell_type": "code",
   "execution_count": 39,
   "id": "c64d6667-ad0a-4dac-b3f9-e8286ce3b286",
   "metadata": {},
   "outputs": [
    {
     "data": {
      "text/plain": [
       "array([[11, 12, 13],\n",
       "       [21, 22, 23]])"
      ]
     },
     "execution_count": 39,
     "metadata": {},
     "output_type": "execute_result"
    }
   ],
   "source": [
    "import numpy as np\n",
    "\n",
    "arr1 = np.array([1, 2, 3])      # Shape: (3,)\n",
    "arr2 = np.array([[10], [20]])   # Shape: (2, 1)\n",
    "\n",
    "result = arr1 + arr2            # Broadcasting occurs\n",
    "result\n",
    "\n",
    "# Explanation:\n",
    "\n",
    "# arr1 has shape (3,).\n",
    "# arr2 has shape (2, 1).\n",
    "# After broadcasting, arr2 becomes [[10, 10, 10], [20, 20, 20]]."
   ]
  },
  {
   "cell_type": "code",
   "execution_count": null,
   "id": "e5e95e90-63c4-4869-ace0-e02c64728ce7",
   "metadata": {},
   "outputs": [],
   "source": []
  },
  {
   "cell_type": "markdown",
   "id": "db99299b-b495-4521-bda7-2a55107a3a41",
   "metadata": {},
   "source": [
    "# indexing"
   ]
  },
  {
   "cell_type": "code",
   "execution_count": 36,
   "id": "59762b5d-2314-4f94-9929-0e83832f0b0e",
   "metadata": {},
   "outputs": [
    {
     "name": "stdout",
     "output_type": "stream",
     "text": [
      "10\n",
      "30\n",
      "50\n",
      "40\n"
     ]
    }
   ],
   "source": [
    "import numpy as np\n",
    "\n",
    "arr = np.array([10, 20, 30, 40, 50])\n",
    "\n",
    "# Accessing elements\n",
    "print(arr[0])  # Output: 10 (first element)\n",
    "print(arr[2])  # Output: 30 (third element)\n",
    "\n",
    "# Negative indexing\n",
    "print(arr[-1])  # Output: 50 (last element)\n",
    "print(arr[-2])  # Output: 40 (second last element)"
   ]
  },
  {
   "cell_type": "code",
   "execution_count": 37,
   "id": "203f5fc6-3752-41ed-9c3f-77852a1c8c50",
   "metadata": {},
   "outputs": [
    {
     "name": "stdout",
     "output_type": "stream",
     "text": [
      "2\n",
      "9\n"
     ]
    }
   ],
   "source": [
    "arr_2d = np.array([[1, 2, 3], [4, 5, 6], [7, 8, 9]])\n",
    "\n",
    "# Access element in the first row, second column [row, column]\n",
    "print(arr_2d[0, 1])  # Output: 2\n",
    "\n",
    "# Access element in the last row, last column\n",
    "print(arr_2d[-1, -1])  # Output: 9"
   ]
  },
  {
   "cell_type": "markdown",
   "id": "e513517d-9f64-40c2-83ac-7b33cafe02f8",
   "metadata": {},
   "source": [
    "# slicing\n",
    "\n",
    "Slicing allows you to extract subarrays from an array. The syntax for slicing is similar to that in Python lists: `start:stop:step`.\n",
    "\n",
    "Note that `stop` is not included in output"
   ]
  },
  {
   "cell_type": "code",
   "execution_count": 38,
   "id": "eab1489c-c8c6-475a-82b6-b00d89bf8d93",
   "metadata": {},
   "outputs": [
    {
     "name": "stdout",
     "output_type": "stream",
     "text": [
      "[20 30 40]\n",
      "[10 30 50]\n",
      "[10 20 30]\n",
      "[30 40 50]\n",
      "[50 40 30 20 10]\n"
     ]
    }
   ],
   "source": [
    "arr = np.array([10, 20, 30, 40, 50])\n",
    "\n",
    "# Slicing elements from index 1 to 3 (excluding 4)\n",
    "print(arr[1:4])  # Output: [20 30 40]\n",
    "\n",
    "# Slicing with a step of 2\n",
    "print(arr[0:5:2])  # Output: [10 30 50]\n",
    "\n",
    "# Slicing from the beginning to the third element\n",
    "print(arr[:3])  # Output: [10 20 30]\n",
    "\n",
    "# Slicing from the third element to the end\n",
    "print(arr[2:])  # Output: [30 40 50]\n",
    "\n",
    "# Reverse slicing\n",
    "print(arr[::-1])  # Output: [50 40 30 20 10]"
   ]
  },
  {
   "cell_type": "code",
   "execution_count": 39,
   "id": "f4ab7ce8-d3f5-4a42-bc27-3e74f2e8f3a1",
   "metadata": {},
   "outputs": [
    {
     "name": "stdout",
     "output_type": "stream",
     "text": [
      "[[1 2]\n",
      " [4 5]]\n",
      "[[2 3]\n",
      " [5 6]\n",
      " [8 9]]\n",
      "[[4 5 6]\n",
      " [7 8 9]]\n"
     ]
    }
   ],
   "source": [
    "# For 2D arrays, you can slice rows and columns using : for each axis.\n",
    "\n",
    "arr_2d = np.array([[1, 2, 3], [4, 5, 6], [7, 8, 9]])\n",
    "\n",
    "# Slice the first two rows and the first two columns\n",
    "print(arr_2d[:2, :2])\n",
    "# Output:\n",
    "# [[1 2]\n",
    "#  [4 5]]\n",
    "\n",
    "# Slice all rows but only the second and third columns\n",
    "print(arr_2d[:, 1:3])\n",
    "# Output:\n",
    "# [[2 3]\n",
    "#  [5 6]\n",
    "#  [8 9]]\n",
    "\n",
    "# Slice the last two rows\n",
    "print(arr_2d[1:, :])\n",
    "# Output:\n",
    "# [[4 5 6]\n",
    "#  [7 8 9]]"
   ]
  },
  {
   "cell_type": "code",
   "execution_count": 40,
   "id": "bdb2a3a8-da6c-45f9-b177-e144a5be65be",
   "metadata": {},
   "outputs": [
    {
     "name": "stdout",
     "output_type": "stream",
     "text": [
      "[1 5]\n",
      "[[1 2]\n",
      " [3 4]]\n"
     ]
    }
   ],
   "source": [
    "# For 3D arrays, you slice along three axes (depth, rows, columns).\n",
    "\n",
    "arr_3d = np.array([[[1, 2], [3, 4]], [[5, 6], [7, 8]]])\n",
    "\n",
    "# Slice all depth layers, the first row, and the first column\n",
    "print(arr_3d[:, 0, 0])\n",
    "# Output: [1 5]\n",
    "\n",
    "# Slice the first depth layer and all rows and columns\n",
    "print(arr_3d[0, :, :])\n",
    "# Output:\n",
    "# [[1 2]\n",
    "#  [3 4]]"
   ]
  },
  {
   "cell_type": "markdown",
   "id": "436f73f1-9399-4756-a70c-b971e1a6240e",
   "metadata": {},
   "source": [
    "**You can modify parts of a NumPy array by using indexing and slicing:**"
   ]
  },
  {
   "cell_type": "code",
   "execution_count": 41,
   "id": "27b96f91-6a44-41d9-bd21-48106a065cf3",
   "metadata": {},
   "outputs": [
    {
     "name": "stdout",
     "output_type": "stream",
     "text": [
      "[100  20  30  40  50]\n",
      "[100 200 300 400  50]\n"
     ]
    }
   ],
   "source": [
    "arr = np.array([10, 20, 30, 40, 50])\n",
    "\n",
    "# Modify the first element\n",
    "arr[0] = 100\n",
    "print(arr)  # Output: [100  20  30  40  50]\n",
    "\n",
    "# Modify a slice of the array\n",
    "arr[1:4] = [200, 300, 400]\n",
    "print(arr)  # Output: [100 200 300 400  50]"
   ]
  },
  {
   "cell_type": "code",
   "execution_count": 42,
   "id": "46c1f595-2ce9-493d-860d-da7c6ef195ff",
   "metadata": {},
   "outputs": [
    {
     "name": "stdout",
     "output_type": "stream",
     "text": [
      "[[ 1  2  3]\n",
      " [ 4  5 10]\n",
      " [ 7  8  9]]\n",
      "[[ 1 20 30]\n",
      " [ 4 50 60]\n",
      " [ 7  8  9]]\n"
     ]
    }
   ],
   "source": [
    "arr_2d = np.array([[1, 2, 3], [4, 5, 6], [7, 8, 9]])\n",
    "\n",
    "# Modify an element\n",
    "arr_2d[1, 2] = 10\n",
    "print(arr_2d)\n",
    "# Output:\n",
    "# [[ 1  2  3]\n",
    "#  [ 4  5 10]\n",
    "#  [ 7  8  9]]\n",
    "\n",
    "# Modify a slice\n",
    "arr_2d[0:2, 1:3] = [[20, 30], [50, 60]]\n",
    "print(arr_2d)\n",
    "# Output:\n",
    "# [[ 1 20 30]\n",
    "#  [ 4 50 60]\n",
    "#  [ 7  8  9]]"
   ]
  },
  {
   "cell_type": "markdown",
   "id": "d4003703-26b9-4416-8c50-5b0093887c00",
   "metadata": {},
   "source": [
    "## boolean indexing\n",
    "\n",
    "You can use boolean conditions to extract elements from an array that satisfy certain conditions."
   ]
  },
  {
   "cell_type": "code",
   "execution_count": 43,
   "id": "ace7694d-7ff8-4aec-81d8-d31b1e58b365",
   "metadata": {},
   "outputs": [
    {
     "name": "stdout",
     "output_type": "stream",
     "text": [
      "[40 50]\n",
      "[ 10  20  30 100 100]\n"
     ]
    }
   ],
   "source": [
    "arr = np.array([10, 20, 30, 40, 50])\n",
    "\n",
    "# Get elements greater than 30\n",
    "result = arr[arr > 30]\n",
    "print(result)  # Output: [40 50]\n",
    "\n",
    "# Replace all elements greater than 30 with 100\n",
    "arr[arr > 30] = 100\n",
    "print(arr)  # Output: [ 10  20  30 100 100]"
   ]
  },
  {
   "cell_type": "markdown",
   "id": "07f6125c-9db0-48c3-8d4a-e84236f79c51",
   "metadata": {},
   "source": [
    "## Fancy Indexing\n",
    "\n",
    "Fancy indexing allows you to access multiple elements at once using a list of indices."
   ]
  },
  {
   "cell_type": "code",
   "execution_count": 44,
   "id": "22178acc-fdcc-420a-8a71-3f1398ac2aa6",
   "metadata": {},
   "outputs": [
    {
     "name": "stdout",
     "output_type": "stream",
     "text": [
      "[10 30 50]\n",
      "[2 3]\n"
     ]
    }
   ],
   "source": [
    "arr = np.array([10, 20, 30, 40, 50])\n",
    "\n",
    "# Access elements at index 0, 2, and 4\n",
    "result = arr[[0, 2, 4]]\n",
    "print(result)  # Output: [10 30 50]\n",
    "\n",
    "# 2D array fancy indexing\n",
    "arr_2d = np.array([[1, 2], [3, 4], [5, 6]])\n",
    "result = arr_2d[[0, 1], [1, 0]]  # Access (0, 1) and (1, 0)\n",
    "print(result)  # Output: [2 3]"
   ]
  },
  {
   "cell_type": "markdown",
   "id": "e4268e1a-413d-4880-8e2c-2881255e4545",
   "metadata": {},
   "source": [
    "# np.where\n",
    "\n",
    "np.where is a versatile function in NumPy used for conditional indexing and element-wise selection based on a condition. It allows you to:\n",
    "\n",
    "1. Find the indices of elements that satisfy a condition.\n",
    "2. Conditionally select values from two arrays based on a boolean condition.\n",
    "\n",
    "**Syntax:** np.where(condition, [x, y])\n",
    "\n",
    "    - condition: A boolean array or an expression that evaluates to a boolean array.\n",
    "    - x and y (optional): Values to select from when the condition is True or False"
   ]
  },
  {
   "cell_type": "code",
   "execution_count": 46,
   "id": "9c012ee7-5b18-4af0-9825-c7bb90941221",
   "metadata": {},
   "outputs": [
    {
     "name": "stdout",
     "output_type": "stream",
     "text": [
      "(array([3, 4]),)\n"
     ]
    }
   ],
   "source": [
    "import numpy as np\n",
    "\n",
    "arr = np.array([10, 15, 20, 25, 30])\n",
    "indices = np.where(arr > 20)\n",
    "print(indices)"
   ]
  },
  {
   "cell_type": "markdown",
   "id": "3df478c9-2cba-4601-8f7a-556f16ba83d0",
   "metadata": {},
   "source": [
    "If x and y are provided, np.where returns an array where:\n",
    "\n",
    "    - Values from x are selected when the condition is True.\n",
    "    - Values from y are selected when the condition is False."
   ]
  },
  {
   "cell_type": "code",
   "execution_count": 47,
   "id": "ccb13543-cbfb-4ac0-9692-6311ea32f578",
   "metadata": {},
   "outputs": [
    {
     "name": "stdout",
     "output_type": "stream",
     "text": [
      "[-1 -1 -1 25 30]\n"
     ]
    }
   ],
   "source": [
    "arr = np.array([10, 15, 20, 25, 30])\n",
    "result = np.where(arr > 20, arr, -1)\n",
    "print(result)"
   ]
  },
  {
   "cell_type": "code",
   "execution_count": 48,
   "id": "88c2319a-1c8f-4e84-a4e6-313ed872e2bc",
   "metadata": {},
   "outputs": [
    {
     "name": "stdout",
     "output_type": "stream",
     "text": [
      "[1 0 3 0 5]\n"
     ]
    }
   ],
   "source": [
    "# Replace all even numbers in an array with 0\n",
    "\n",
    "arr = np.array([1, 2, 3, 4, 5])\n",
    "result = np.where(arr % 2 == 0, 0, arr)\n",
    "print(result)"
   ]
  },
  {
   "cell_type": "code",
   "execution_count": 49,
   "id": "0f2361f2-0929-4fef-916c-d7f77fd9db30",
   "metadata": {},
   "outputs": [
    {
     "name": "stdout",
     "output_type": "stream",
     "text": [
      "[-1 -1 -1 -1 -1]\n"
     ]
    }
   ],
   "source": [
    "# Replace numbers greater than 20 or divisible by 5 with -1\n",
    "\n",
    "arr = np.array([10, 15, 20, 25, 30])\n",
    "result = np.where((arr > 20) | (arr % 5 == 0), -1, arr)\n",
    "print(result)"
   ]
  },
  {
   "cell_type": "markdown",
   "id": "9d7b4ec5-6697-4840-89d4-ce7bab394442",
   "metadata": {},
   "source": [
    "# np.take\n",
    "\n",
    "The np.take function selects elements from an array based on given indices. It is useful for advanced indexing and slicing.\n",
    "\n",
    "**Syntax:** np.take(arr, indices, axis=None)\n",
    "\n",
    "    - arr: Input array.\n",
    "    - indices: List or array of indices to extract.\n",
    "    - axis: The axis along which to extract elements. If None, the array is flattened first."
   ]
  },
  {
   "cell_type": "code",
   "execution_count": 50,
   "id": "eb251e70-c8d5-4c33-8db6-69587bb653a9",
   "metadata": {},
   "outputs": [
    {
     "name": "stdout",
     "output_type": "stream",
     "text": [
      "[10 30]\n"
     ]
    }
   ],
   "source": [
    "arr = np.array([10, 20, 30, 40])\n",
    "result = np.take(arr, [0, 2])\n",
    "print(result)"
   ]
  },
  {
   "cell_type": "code",
   "execution_count": 65,
   "id": "5858eac6-22b8-41f6-978b-86d7234e68df",
   "metadata": {},
   "outputs": [
    {
     "name": "stdout",
     "output_type": "stream",
     "text": [
      "[[10 20]\n",
      " [30 40]]\n"
     ]
    }
   ],
   "source": [
    "arr = np.array([[10, 20], [30, 40]])\n",
    "result = np.take(arr, [0, 1], axis=0)\n",
    "print(result)"
   ]
  },
  {
   "cell_type": "code",
   "execution_count": 66,
   "id": "0c7b83a1-85f6-47ba-98f8-933d2318ce0d",
   "metadata": {},
   "outputs": [
    {
     "name": "stdout",
     "output_type": "stream",
     "text": [
      "[[10 20]\n",
      " [30 40]]\n"
     ]
    }
   ],
   "source": [
    "arr = np.array([[10, 20], [30, 40]])\n",
    "result = np.take(arr, [0, 1], axis=1)\n",
    "print(result)"
   ]
  },
  {
   "cell_type": "markdown",
   "id": "b8037e9f-b427-4d3f-b116-b0fa79b158e6",
   "metadata": {},
   "source": [
    "**Benefits of `np.take`:**\n",
    "- Handles multi-dimensional arrays cleanly.\n",
    "- Can extract elements along any axis."
   ]
  },
  {
   "cell_type": "markdown",
   "id": "38bab69a-2218-456b-87ff-5376707194b7",
   "metadata": {},
   "source": [
    "# np.put\n",
    "\n",
    "The np.put function modifies specific elements of an array in-place by providing indices and values.\n",
    "\n",
    "**Syntax:** np.put(arr, indices, values, mode='raise')\n",
    "\n",
    "- arr: Target array.\n",
    "- indices: List of flat indices where values should be placed.\n",
    "- values: Values to insert at specified indices.\n",
    "- mode: Behavior when indices are out of bounds:\n",
    "    - 'raise': Throws an error (default).\n",
    "    - 'wrap': Wraps indices.\n",
    "    - 'clip': Clips indices to the valid range.\n"
   ]
  },
  {
   "cell_type": "code",
   "execution_count": 53,
   "id": "d9c715ac-4bcd-4302-ada9-c3bfa4ddbe98",
   "metadata": {},
   "outputs": [
    {
     "name": "stdout",
     "output_type": "stream",
     "text": [
      "[100  20  30 400]\n"
     ]
    }
   ],
   "source": [
    "arr = np.array([10, 20, 30, 40])\n",
    "np.put(arr, [0, 3], [100, 400])\n",
    "print(arr)"
   ]
  },
  {
   "cell_type": "code",
   "execution_count": 54,
   "id": "5115eac0-8d05-48f2-9b47-e4483833d674",
   "metadata": {},
   "outputs": [
    {
     "name": "stdout",
     "output_type": "stream",
     "text": [
      "[100 200  30  40]\n"
     ]
    }
   ],
   "source": [
    "arr = np.array([10, 20, 30, 40])\n",
    "np.put(arr, [4, 5], [100, 200], mode='wrap')\n",
    "print(arr)\n"
   ]
  },
  {
   "cell_type": "code",
   "execution_count": 55,
   "id": "3d826e1d-e224-4037-93d0-a41f4843fb73",
   "metadata": {},
   "outputs": [
    {
     "name": "stdout",
     "output_type": "stream",
     "text": [
      "[10  0  0 15]\n"
     ]
    }
   ],
   "source": [
    "# Replace elements greater than 20 with 0 using np.put\n",
    "\n",
    "arr = np.array([10, 25, 30, 15])\n",
    "indices = np.where(arr > 20)\n",
    "np.put(arr, indices, 0)\n",
    "print(arr)"
   ]
  },
  {
   "cell_type": "markdown",
   "id": "00397220-ddbf-420e-800b-e51e714c5ff0",
   "metadata": {},
   "source": [
    "# Aggregation Functions"
   ]
  },
  {
   "cell_type": "code",
   "execution_count": 40,
   "id": "d127f172-231c-411d-8d8e-bf5fcd622b07",
   "metadata": {},
   "outputs": [
    {
     "name": "stdout",
     "output_type": "stream",
     "text": [
      "10\n",
      "[4 6]\n",
      "[3 7]\n"
     ]
    }
   ],
   "source": [
    "arr = np.array([[1, 2], [3, 4]])\n",
    "\n",
    "print(np.sum(arr))       # Total sum\n",
    "\n",
    "print(np.sum(arr, axis=0))  # Sum along columns\n",
    "print(np.sum(arr, axis=1))  # Sum along rows"
   ]
  },
  {
   "cell_type": "code",
   "execution_count": 41,
   "id": "4c698174-8feb-4b0c-8278-965923729127",
   "metadata": {},
   "outputs": [
    {
     "name": "stdout",
     "output_type": "stream",
     "text": [
      "2.5\n"
     ]
    }
   ],
   "source": [
    "arr = np.array([1, 2, 3, 4])\n",
    "\n",
    "print(np.mean(arr))"
   ]
  },
  {
   "cell_type": "code",
   "execution_count": 42,
   "id": "96641d55-fa6c-4aa3-aa02-b5d7de9d63ab",
   "metadata": {},
   "outputs": [
    {
     "name": "stdout",
     "output_type": "stream",
     "text": [
      "25.0\n"
     ]
    }
   ],
   "source": [
    "arr = np.array([10, 20, 30, 40])\n",
    "\n",
    "print(np.median(arr))"
   ]
  },
  {
   "cell_type": "code",
   "execution_count": 43,
   "id": "5e4c4fa9-431c-45e6-82ac-6a1d6028c979",
   "metadata": {},
   "outputs": [
    {
     "name": "stdout",
     "output_type": "stream",
     "text": [
      "1.118033988749895\n",
      "1.25\n"
     ]
    }
   ],
   "source": [
    "arr = np.array([1, 2, 3, 4])\n",
    "\n",
    "print(np.std(arr))  # Standard deviation\n",
    "print(np.var(arr))  # Variance"
   ]
  },
  {
   "cell_type": "code",
   "execution_count": null,
   "id": "11dd971d-a846-4f0f-a8ea-ca7e7c2f627d",
   "metadata": {},
   "outputs": [],
   "source": [
    "arr = np.array([[1, 2], [3, 4]])\n",
    "\n",
    "print(np.min(arr))        # Minimum value\n",
    "print(np.max(arr))        # Maximum value\n",
    "\n",
    "print(np.min(arr, axis=0))  # Minimum along columns\n",
    "print(np.max(arr, axis=1))  # Maximum along rows"
   ]
  },
  {
   "cell_type": "markdown",
   "id": "922258c4-3cd5-44a0-82d6-9180810a5840",
   "metadata": {},
   "source": [
    "### Axis-Based Operations\n",
    "\n",
    "In NumPy, the axis parameter defines the direction of computation:\n",
    "\n",
    "- axis=0: Operation is applied column-wise (vertically).\n",
    "- axis=1: Operation is applied row-wise (horizontally)."
   ]
  },
  {
   "cell_type": "code",
   "execution_count": 44,
   "id": "2b8fb7d5-2815-4ef3-8efd-a56820bbdbb8",
   "metadata": {},
   "outputs": [
    {
     "name": "stdout",
     "output_type": "stream",
     "text": [
      "[5 7 9]\n",
      "[ 6 15]\n"
     ]
    }
   ],
   "source": [
    "arr = np.array([[1, 2, 3], [4, 5, 6]])\n",
    "\n",
    "# Sum along columns\n",
    "print(np.sum(arr, axis=0))\n",
    "\n",
    "# Sum along rows\n",
    "print(np.sum(arr, axis=1))"
   ]
  },
  {
   "cell_type": "code",
   "execution_count": 45,
   "id": "381c9d21-dfa3-48c2-b5c1-89d68061063b",
   "metadata": {},
   "outputs": [
    {
     "name": "stdout",
     "output_type": "stream",
     "text": [
      "[20. 30.]\n",
      "[15. 35.]\n"
     ]
    }
   ],
   "source": [
    "arr = np.array([[10, 20], [30, 40]])\n",
    "\n",
    "print(np.mean(arr, axis=0))  # Mean along columns\n",
    "print(np.mean(arr, axis=1))  # Mean along rows"
   ]
  },
  {
   "cell_type": "code",
   "execution_count": null,
   "id": "2ff5c45c-9b83-4c0d-9d3f-1391387d9fde",
   "metadata": {},
   "outputs": [],
   "source": [
    "# Broadcasting and aggregation functions can be combined to process data efficiently.\n",
    "\n",
    "arr = np.array([[1, 2, 3], [4, 5, 6]])\n",
    "\n",
    "mean = np.mean(arr, axis=0)  # Compute column-wise mean\n",
    "result = arr - mean          # Subtract column means\n",
    "print(result)"
   ]
  },
  {
   "cell_type": "markdown",
   "id": "b7a8a6fd-3c07-4d4f-91c9-4932d5681435",
   "metadata": {},
   "source": [
    "# iteration"
   ]
  },
  {
   "cell_type": "code",
   "execution_count": 45,
   "id": "dac13e5c-b809-4109-b0a1-1d2c06b58235",
   "metadata": {},
   "outputs": [
    {
     "name": "stdout",
     "output_type": "stream",
     "text": [
      "10\n",
      "20\n",
      "30\n",
      "40\n",
      "50\n"
     ]
    }
   ],
   "source": [
    "import numpy as np\n",
    "\n",
    "arr = np.array([10, 20, 30, 40, 50])\n",
    "\n",
    "# Iterate through each element\n",
    "for element in arr:\n",
    "    print(element)"
   ]
  },
  {
   "cell_type": "code",
   "execution_count": 46,
   "id": "3f75d741-4e8f-4cce-952e-2d6b46c3a1db",
   "metadata": {},
   "outputs": [
    {
     "name": "stdout",
     "output_type": "stream",
     "text": [
      "[1 2 3]\n",
      "[4 5 6]\n",
      "[7 8 9]\n"
     ]
    }
   ],
   "source": [
    "arr_2d = np.array([[1, 2, 3], [4, 5, 6], [7, 8, 9]])\n",
    "\n",
    "# Iterate through each row\n",
    "for row in arr_2d:\n",
    "    print(row)"
   ]
  },
  {
   "cell_type": "code",
   "execution_count": 47,
   "id": "ed1cabc0-4cfb-4a3d-930d-3de7f109351b",
   "metadata": {},
   "outputs": [
    {
     "name": "stdout",
     "output_type": "stream",
     "text": [
      "1 2 3 4 5 6 7 8 9 "
     ]
    }
   ],
   "source": [
    "# Iterate through each element in a 2D array\n",
    "for row in arr_2d:\n",
    "    for element in row:\n",
    "        print(element, end=' ')\n"
   ]
  },
  {
   "cell_type": "markdown",
   "id": "dadebb55-7f10-47c6-aade-9aaecc1646e1",
   "metadata": {},
   "source": [
    "## nditer()\n",
    "\n",
    "`np.nditer()` provides a flexible and efficient way to iterate over multi-dimensional arrays. It allows you to iterate over the entire array, regardless of its dimensionality."
   ]
  },
  {
   "cell_type": "code",
   "execution_count": 63,
   "id": "ca9cb57f-2dad-47f3-96ff-4ca368cf3228",
   "metadata": {},
   "outputs": [
    {
     "name": "stdout",
     "output_type": "stream",
     "text": [
      "10\n",
      "20\n",
      "30\n",
      "40\n",
      "50\n"
     ]
    }
   ],
   "source": [
    "# 1D array example\n",
    "arr = np.array([10, 20, 30, 40, 50])\n",
    "\n",
    "for element in np.nditer(arr):\n",
    "    print(element)"
   ]
  },
  {
   "cell_type": "code",
   "execution_count": 64,
   "id": "4286441c-c192-46e8-a272-c38a62559c41",
   "metadata": {},
   "outputs": [
    {
     "name": "stdout",
     "output_type": "stream",
     "text": [
      "1 2 3 4 5 6 7 8 9 "
     ]
    }
   ],
   "source": [
    "# 2D array example\n",
    "arr_2d = np.array([[1, 2, 3], [4, 5, 6], [7, 8, 9]])\n",
    "\n",
    "for element in np.nditer(arr_2d):\n",
    "    print(element, end=' ')"
   ]
  },
  {
   "cell_type": "markdown",
   "id": "f6230eac-f315-4505-a02a-272411e6f771",
   "metadata": {},
   "source": [
    "By default, NumPy's `nditer()` iterates element by element. You can modify this behavior using `::step` slicing in 1D or 2D arrays."
   ]
  },
  {
   "cell_type": "code",
   "execution_count": 49,
   "id": "c1d9acf4-1ce7-4bf7-98ad-f2afff45e532",
   "metadata": {},
   "outputs": [
    {
     "name": "stdout",
     "output_type": "stream",
     "text": [
      "10\n",
      "30\n",
      "50\n"
     ]
    }
   ],
   "source": [
    "arr = np.array([10, 20, 30, 40, 50, 60])\n",
    "\n",
    "# Iterate with a step of 2\n",
    "for element in arr[::2]:\n",
    "    print(element)"
   ]
  },
  {
   "cell_type": "markdown",
   "id": "8eb4c4d1-11f2-4cb8-9260-6b784b98a629",
   "metadata": {},
   "source": [
    "By default, `nditer()` doesn't allow modification of the elements during iteration. To modify elements, you need to explicitly enable write mode using the `op_flags=['readwrite']` option."
   ]
  },
  {
   "cell_type": "code",
   "execution_count": 50,
   "id": "c8c76668-d21a-4874-aaf8-15aa550d2155",
   "metadata": {},
   "outputs": [
    {
     "name": "stdout",
     "output_type": "stream",
     "text": [
      "[ 2  4  6  8 10]\n"
     ]
    }
   ],
   "source": [
    "arr = np.array([1, 2, 3, 4, 5])\n",
    "\n",
    "# Modify array elements by multiplying each element by 2\n",
    "for element in np.nditer(arr, op_flags=['readwrite']):\n",
    "    element[...] = element * 2\n",
    "\n",
    "print(arr)  # Output: [ 2  4  6  8 10]"
   ]
  },
  {
   "cell_type": "code",
   "execution_count": 51,
   "id": "86a2d984-fbb5-48b2-a19e-fc39ce74621c",
   "metadata": {},
   "outputs": [
    {
     "name": "stdout",
     "output_type": "stream",
     "text": [
      "1 * 10 = 10\n",
      "2 * 20 = 40\n",
      "3 * 30 = 90\n"
     ]
    }
   ],
   "source": [
    "# Iterating Over Multiple Arrays Simultaneously\n",
    "\n",
    "arr1 = np.array([1, 2, 3])\n",
    "arr2 = np.array([10, 20, 30])\n",
    "\n",
    "# Iterate over both arrays simultaneously\n",
    "for x, y in np.nditer([arr1, arr2]):\n",
    "    print(f\"{x} * {y} = {x * y}\")"
   ]
  },
  {
   "cell_type": "markdown",
   "id": "5e5ffa11-a4e2-4b19-89bc-045513c89705",
   "metadata": {},
   "source": [
    "For higher-dimensional arrays like 3D, you can use the same approach as with 2D arrays. `nditer()` makes it easy to handle any number of dimensions."
   ]
  },
  {
   "cell_type": "code",
   "execution_count": 52,
   "id": "dde21cfd-af06-45e3-8a35-313bfb6b3a80",
   "metadata": {},
   "outputs": [
    {
     "name": "stdout",
     "output_type": "stream",
     "text": [
      "1 2 3 4 5 6 7 8 "
     ]
    }
   ],
   "source": [
    "arr_3d = np.array([[[1, 2], [3, 4]], [[5, 6], [7, 8]]])\n",
    "\n",
    "# Iterate through each element in a 3D array\n",
    "for element in np.nditer(arr_3d):\n",
    "    print(element, end=' ')"
   ]
  },
  {
   "cell_type": "markdown",
   "id": "d61d220f-ef2d-4f49-8d45-8cf681f08031",
   "metadata": {},
   "source": [
    "`np.ndenumerate()` is useful when you want to iterate through the array and get both the index and the value of each element."
   ]
  },
  {
   "cell_type": "code",
   "execution_count": 67,
   "id": "9372851d-43e5-4d82-ae62-e81f23e8ae0e",
   "metadata": {},
   "outputs": [
    {
     "name": "stdout",
     "output_type": "stream",
     "text": [
      "Index (0,), Value 10\n",
      "Index (1,), Value 20\n",
      "Index (2,), Value 30\n"
     ]
    }
   ],
   "source": [
    "arr = np.array([10, 20, 30])\n",
    "\n",
    "# Enumerate over a 1D array\n",
    "for index, value in np.ndenumerate(arr):\n",
    "    print(f\"Index {index}, Value {value}\")"
   ]
  },
  {
   "cell_type": "code",
   "execution_count": 68,
   "id": "9cc34929-9d29-4aa3-8dea-e6a7e3007b5a",
   "metadata": {},
   "outputs": [
    {
     "name": "stdout",
     "output_type": "stream",
     "text": [
      "Index (0, 0), Value 1\n",
      "Index (0, 1), Value 2\n",
      "Index (1, 0), Value 3\n",
      "Index (1, 1), Value 4\n"
     ]
    }
   ],
   "source": [
    "# 2D array example\n",
    "arr_2d = np.array([[1, 2], [3, 4]])\n",
    "for index, value in np.ndenumerate(arr_2d):\n",
    "    print(f\"Index {index}, Value {value}\")"
   ]
  },
  {
   "cell_type": "markdown",
   "id": "cfda4f89-488f-47fc-ac90-7e04c11016c9",
   "metadata": {},
   "source": [
    "# copy and view\n",
    "\n",
    "In NumPy, the concepts of copy and view play a crucial role in memory management and data manipulation. Understanding the distinction between them is important when working with arrays to ensure that changes in one array do not unintentionally affect another."
   ]
  },
  {
   "cell_type": "markdown",
   "id": "56d4a603-e327-4190-84f1-ce388b007f9d",
   "metadata": {},
   "source": [
    "## copy in NumPy\n",
    "\n",
    "A copy of an array creates a completely new array in memory. The new array is independent of the original array, meaning that changes made to the copy will not affect the original array, and vice versa."
   ]
  },
  {
   "cell_type": "code",
   "execution_count": 54,
   "id": "c6745930-d121-4ed7-9e43-cffda38e0844",
   "metadata": {},
   "outputs": [
    {
     "name": "stdout",
     "output_type": "stream",
     "text": [
      "Original array: [10 20 30 40]\n",
      "Modified copy: [100  20  30  40]\n"
     ]
    }
   ],
   "source": [
    "import numpy as np\n",
    "\n",
    "arr = np.array([10, 20, 30, 40])\n",
    "\n",
    "# Create a copy of the array\n",
    "arr_copy = arr.copy()\n",
    "\n",
    "# Modify the copy\n",
    "arr_copy[0] = 100\n",
    "\n",
    "print(\"Original array:\", arr)  # Output: [10 20 30 40]\n",
    "print(\"Modified copy:\", arr_copy)  # Output: [100  20  30  40]"
   ]
  },
  {
   "cell_type": "markdown",
   "id": "3e5fca5c-0738-4cff-8d52-b52609dff7ae",
   "metadata": {},
   "source": [
    "## view in NumPy\n",
    "\n",
    "A view (or a shallow copy) is a new array object that looks at the same data as the original array. This means that changes made to the view will affect the original array, and changes made to the original array will also affect the view. No new data is created in memory; the view just references the same data."
   ]
  },
  {
   "cell_type": "code",
   "execution_count": 55,
   "id": "eaf9af5f-6dfc-46a5-abea-3200af321e28",
   "metadata": {},
   "outputs": [
    {
     "name": "stdout",
     "output_type": "stream",
     "text": [
      "Original array: [100  20  30  40]\n",
      "Modified view: [100  20  30  40]\n"
     ]
    }
   ],
   "source": [
    "arr = np.array([10, 20, 30, 40])\n",
    "\n",
    "# Create a view of the array\n",
    "arr_view = arr.view()\n",
    "\n",
    "# Modify the view\n",
    "arr_view[0] = 100\n",
    "\n",
    "print(\"Original array:\", arr)  # Output: [100  20  30  40]\n",
    "print(\"Modified view:\", arr_view)  # Output: [100  20  30  40]"
   ]
  },
  {
   "cell_type": "markdown",
   "id": "c372906c-7985-4576-8c62-2be1f6413945",
   "metadata": {},
   "source": [
    "## copy vs view\n",
    "\n",
    "<table><thead><tr><th><strong>Feature</strong></th><th><strong>Copy</strong></th><th><strong>View</strong></th></tr></thead><tbody><tr><td><strong>Memory</strong></td><td>New array with new data is created</td><td>No new data, shares the original data</td></tr><tr><td><strong>Modifications</strong></td><td>Changes in the copy do not affect the original array</td><td>Changes in the view affect the original array</td></tr><tr><td><strong>Use case</strong></td><td>Use when you need independent data</td><td>Use when you want to avoid copying data for performance reasons</td></tr></tbody></table>"
   ]
  },
  {
   "cell_type": "markdown",
   "id": "3e289de7-3adc-43ae-b063-a6dad25eb7ac",
   "metadata": {},
   "source": [
    "You can check if an array owns its data or is a view of another array using the `.base` attribute.\n",
    "\n",
    "- If `.base` is `None`, it means the array owns its data (it’s not a view).\n",
    "- If `.base` is not `None`, it means the array is a view of another array."
   ]
  },
  {
   "cell_type": "code",
   "execution_count": 56,
   "id": "2b06d993-a9c2-4386-afa7-113f6faf66bb",
   "metadata": {},
   "outputs": [
    {
     "name": "stdout",
     "output_type": "stream",
     "text": [
      "None\n",
      "[10 20 30 40]\n"
     ]
    }
   ],
   "source": [
    "# Original array\n",
    "arr = np.array([10, 20, 30, 40])\n",
    "\n",
    "# Create a copy\n",
    "arr_copy = arr.copy()\n",
    "\n",
    "# Create a view\n",
    "arr_view = arr.view()\n",
    "\n",
    "# Check if arrays own their data\n",
    "print(arr_copy.base)  # Output: None (owns its data)\n",
    "print(arr_view.base)  # Output: array([10, 20, 30, 40]) (view of the original array)"
   ]
  },
  {
   "cell_type": "markdown",
   "id": "70d79348-1de8-41ba-b2f9-b96a19d6759c",
   "metadata": {},
   "source": [
    "**Slicing Creates a View, Not a Copy**\n",
    "\n",
    "When you slice a NumPy array, NumPy creates a view, not a copy. This allows NumPy to be more memory efficient, but it also means that modifying the slice will affect the original array."
   ]
  },
  {
   "cell_type": "code",
   "execution_count": 70,
   "id": "f2928eff-732e-463d-ac59-b2b7cac71291",
   "metadata": {},
   "outputs": [
    {
     "name": "stdout",
     "output_type": "stream",
     "text": [
      "sliced array: [20 30]\n",
      "Original array: [ 10 200  30  40]\n",
      "Slice: [200  30]\n"
     ]
    }
   ],
   "source": [
    "arr = np.array([10, 20, 30, 40])\n",
    "\n",
    "# Create a slice (view)\n",
    "arr_slice = arr[1:3]\n",
    "\n",
    "print(\"sliced array:\", arr_slice)  # Output: [20 30]\n",
    "\n",
    "# Modify the slice\n",
    "arr_slice[0] = 200\n",
    "\n",
    "print(\"Original array:\", arr)  # Output: [ 10 200  30  40]\n",
    "print(\"Slice:\", arr_slice)  # Output: [200  30]\n"
   ]
  },
  {
   "cell_type": "markdown",
   "id": "4b975835-7931-4076-8138-d43c1e7215b1",
   "metadata": {},
   "source": [
    "**When to Use Copy vs. View**\n",
    "    \n",
    "- Use a copy when you want to make modifications without affecting the original array.\n",
    "- Use a view when you want to create a subset or a new representation of the same data, and memory efficiency is important.\n",
    "\n",
    "**Force a Copy During Slicing**\n",
    "    \n",
    "If you want to ensure that slicing returns a copy instead of a view, you can use the copy() method explicitly."
   ]
  },
  {
   "cell_type": "code",
   "execution_count": 58,
   "id": "a592f8d9-fa7e-4d5e-b0f0-a7acb52e767b",
   "metadata": {},
   "outputs": [
    {
     "name": "stdout",
     "output_type": "stream",
     "text": [
      "Original array: [10 20 30 40]\n",
      "Modified copy: [200  30]\n"
     ]
    }
   ],
   "source": [
    "arr = np.array([10, 20, 30, 40])\n",
    "\n",
    "# Create a copy from a slice\n",
    "arr_copy = arr[1:3].copy()\n",
    "\n",
    "# Modify the copy\n",
    "arr_copy[0] = 200\n",
    "\n",
    "print(\"Original array:\", arr)  # Output: [10 20 30 40]\n",
    "print(\"Modified copy:\", arr_copy)  # Output: [200  30]"
   ]
  },
  {
   "cell_type": "markdown",
   "id": "3cef8437-a750-43ad-80e9-78f5f7f1f815",
   "metadata": {},
   "source": [
    "# joining\n",
    "\n",
    "Joining arrays in NumPy means concatenating two or more arrays along a specified axis. You can join arrays using the following functions:\n",
    "\n",
    "- np.concatenate()\n",
    "- np.stack()\n",
    "- np.hstack() (Horizontal stacking)\n",
    "- np.vstack() (Vertical stacking)"
   ]
  },
  {
   "cell_type": "code",
   "execution_count": 61,
   "id": "28c06da3-b851-4d84-a3ed-4660d6af1fd3",
   "metadata": {},
   "outputs": [
    {
     "name": "stdout",
     "output_type": "stream",
     "text": [
      "[1 2 3 4 5 6]\n"
     ]
    }
   ],
   "source": [
    "import numpy as np\n",
    "\n",
    "# Example: 1D arrays\n",
    "arr1 = np.array([1, 2, 3])\n",
    "arr2 = np.array([4, 5, 6])\n",
    "\n",
    "result = np.concatenate((arr1, arr2))\n",
    "\n",
    "print(result)  # Output: [1 2 3 4 5 6]"
   ]
  },
  {
   "cell_type": "code",
   "execution_count": 71,
   "id": "526cda39-3b0a-4920-9c53-539dc6d00cea",
   "metadata": {},
   "outputs": [
    {
     "name": "stdout",
     "output_type": "stream",
     "text": [
      "[1 2 3 4 5 6]\n"
     ]
    }
   ],
   "source": [
    "# Example: 1D arrays\n",
    "arr1 = np.array([1, 2, 3])\n",
    "arr2 = np.array([4, 5, 6])\n",
    "\n",
    "result = np.concatenate([arr1, arr2]) # list\n",
    "\n",
    "print(result)  # Output: [1 2 3 4 5 6]"
   ]
  },
  {
   "cell_type": "code",
   "execution_count": 72,
   "id": "e56620d5-64cd-42e8-af6c-2da1e13bdd04",
   "metadata": {},
   "outputs": [
    {
     "name": "stdout",
     "output_type": "stream",
     "text": [
      "[[1 2]\n",
      " [3 4]\n",
      " [5 6]\n",
      " [7 8]]\n"
     ]
    }
   ],
   "source": [
    "# Example: 2D arrays\n",
    "arr1 = np.array([[1, 2], [3, 4]])\n",
    "arr2 = np.array([[5, 6], [7, 8]])\n",
    "\n",
    "# Concatenate along axis=0 (rows)\n",
    "result = np.concatenate((arr1, arr2), axis=0)\n",
    "print(result)"
   ]
  },
  {
   "cell_type": "code",
   "execution_count": 73,
   "id": "f7776da3-477c-4a0d-b39e-cec5d9c986a5",
   "metadata": {},
   "outputs": [
    {
     "name": "stdout",
     "output_type": "stream",
     "text": [
      "[[1 2 5 6]\n",
      " [3 4 7 8]]\n"
     ]
    }
   ],
   "source": [
    "# Concatenate along axis=1 (columns)\n",
    "result = np.concatenate((arr1, arr2), axis=1)\n",
    "print(result)"
   ]
  },
  {
   "cell_type": "markdown",
   "id": "741a496c-1904-4e1c-be1e-a9e072d94fc3",
   "metadata": {},
   "source": [
    "The `stack()` function joins arrays along a new axis. Unlike `concatenate()`, it adds an additional dimension to the arrays being joined."
   ]
  },
  {
   "cell_type": "code",
   "execution_count": 63,
   "id": "d0bb2562-d7b7-4d72-bf35-d55a6814c53a",
   "metadata": {},
   "outputs": [
    {
     "name": "stdout",
     "output_type": "stream",
     "text": [
      "[[1 2 3]\n",
      " [4 5 6]]\n"
     ]
    }
   ],
   "source": [
    "# Example: Stacking 1D arrays into a 2D array\n",
    "arr1 = np.array([1, 2, 3])\n",
    "arr2 = np.array([4, 5, 6])\n",
    "\n",
    "result = np.stack((arr1, arr2), axis=0)\n",
    "print(result)"
   ]
  },
  {
   "cell_type": "code",
   "execution_count": 64,
   "id": "dc149e47-0664-49e6-b2e0-9a94914fb9d8",
   "metadata": {},
   "outputs": [
    {
     "name": "stdout",
     "output_type": "stream",
     "text": [
      "[[1 4]\n",
      " [2 5]\n",
      " [3 6]]\n"
     ]
    }
   ],
   "source": [
    "result = np.stack((arr1, arr2), axis=1)\n",
    "print(result)"
   ]
  },
  {
   "cell_type": "markdown",
   "id": "de9e0f42-c50e-477d-9b8d-568ff0976356",
   "metadata": {},
   "source": [
    "`hstack()` stacks arrays horizontally (column-wise). It is equivalent to concatenating along axis=1."
   ]
  },
  {
   "cell_type": "code",
   "execution_count": 65,
   "id": "2ea9c137-5f57-41ec-9159-2dae909ea44c",
   "metadata": {},
   "outputs": [
    {
     "name": "stdout",
     "output_type": "stream",
     "text": [
      "[1 2 3 4 5 6]\n"
     ]
    }
   ],
   "source": [
    "# Example: Horizontal stacking\n",
    "arr1 = np.array([1, 2, 3])\n",
    "arr2 = np.array([4, 5, 6])\n",
    "\n",
    "result = np.hstack((arr1, arr2))\n",
    "print(result)  # Output: [1 2 3 4 5 6]"
   ]
  },
  {
   "cell_type": "markdown",
   "id": "476448ae-dcda-4e26-a992-6f132c857143",
   "metadata": {},
   "source": [
    "`vstack()` stacks arrays vertically (row-wise). It is equivalent to concatenating along axis=0."
   ]
  },
  {
   "cell_type": "code",
   "execution_count": 66,
   "id": "fea9049c-9b3f-4a7b-a3d6-cd3217cb0295",
   "metadata": {},
   "outputs": [
    {
     "name": "stdout",
     "output_type": "stream",
     "text": [
      "[[1 2 3]\n",
      " [4 5 6]]\n"
     ]
    }
   ],
   "source": [
    "# Example: Vertical stacking\n",
    "arr1 = np.array([1, 2, 3])\n",
    "arr2 = np.array([4, 5, 6])\n",
    "\n",
    "result = np.vstack((arr1, arr2))\n",
    "print(result)"
   ]
  },
  {
   "cell_type": "markdown",
   "id": "ce03bae3-c442-43a6-b116-0e631d301fdd",
   "metadata": {},
   "source": [
    "# splitting\n",
    "\n",
    "Splitting arrays is the process of dividing one array into multiple sub-arrays. You can split arrays using these functions:\n",
    "\n",
    "- np.split()\n",
    "- np.hsplit() (Horizontal split)\n",
    "- np.vsplit() (Vertical split)"
   ]
  },
  {
   "cell_type": "code",
   "execution_count": 67,
   "id": "f7325009-18ad-4425-8117-3c7686e46695",
   "metadata": {},
   "outputs": [
    {
     "name": "stdout",
     "output_type": "stream",
     "text": [
      "[array([1, 2]), array([3, 4]), array([5, 6])]\n"
     ]
    }
   ],
   "source": [
    "# Example: Split 1D array\n",
    "arr = np.array([1, 2, 3, 4, 5, 6])\n",
    "\n",
    "# Split into 3 sub-arrays\n",
    "result = np.split(arr, 3)\n",
    "\n",
    "print(result)  # Output: [array([1, 2]), array([3, 4]), array([5, 6])]"
   ]
  },
  {
   "cell_type": "code",
   "execution_count": 68,
   "id": "772f80ae-77ec-4af7-983d-9f622f1e6651",
   "metadata": {},
   "outputs": [
    {
     "name": "stdout",
     "output_type": "stream",
     "text": [
      "[array([1, 2]), array([3, 4]), array([5, 6])]\n"
     ]
    }
   ],
   "source": [
    "# Split at indices 2 and 4\n",
    "result = np.split(arr, [2, 4])\n",
    "\n",
    "print(result)  # Output: [array([1, 2]), array([3, 4]), array([5, 6])]"
   ]
  },
  {
   "cell_type": "markdown",
   "id": "4acd82f5-5056-4ab8-95e8-7426b292d15a",
   "metadata": {},
   "source": [
    "`hsplit()` splits arrays along the horizontal axis (axis=1 for 2D arrays)."
   ]
  },
  {
   "cell_type": "code",
   "execution_count": 69,
   "id": "5f841b72-fd4c-431a-bc02-da893b79d9f1",
   "metadata": {},
   "outputs": [
    {
     "name": "stdout",
     "output_type": "stream",
     "text": [
      "[array([[1, 2],\n",
      "       [5, 6]]), array([[3, 4],\n",
      "       [7, 8]])]\n"
     ]
    }
   ],
   "source": [
    "# Example: Horizontal split\n",
    "arr = np.array([[1, 2, 3, 4], [5, 6, 7, 8]])\n",
    "\n",
    "# Split horizontally into 2 sub-arrays\n",
    "result = np.hsplit(arr, 2)\n",
    "print(result)"
   ]
  },
  {
   "cell_type": "markdown",
   "id": "3cd31810-fba7-4a59-a804-9602892253f8",
   "metadata": {},
   "source": [
    "`vsplit()` splits arrays along the vertical axis (axis=0 for 2D arrays)."
   ]
  },
  {
   "cell_type": "code",
   "execution_count": 70,
   "id": "76ed1ca1-40c3-4332-8f35-07b9a3a633ff",
   "metadata": {},
   "outputs": [
    {
     "name": "stdout",
     "output_type": "stream",
     "text": [
      "[array([[1, 2, 3, 4]]), array([[5, 6, 7, 8]])]\n"
     ]
    }
   ],
   "source": [
    "# Example: Vertical split\n",
    "arr = np.array([[1, 2, 3, 4], [5, 6, 7, 8]])\n",
    "\n",
    "# Split vertically into 2 sub-arrays\n",
    "result = np.vsplit(arr, 2)\n",
    "print(result)"
   ]
  },
  {
   "cell_type": "markdown",
   "id": "2cb487b4-984b-4ca2-a338-299235f836d6",
   "metadata": {},
   "source": [
    "# searching\n",
    "\n",
    "`np.where()` is one of the most useful functions for searching specific conditions in arrays. It returns the indices of the elements that satisfy a given condition."
   ]
  },
  {
   "cell_type": "code",
   "execution_count": 71,
   "id": "22442839-87a9-442d-8d69-4b8cab216649",
   "metadata": {},
   "outputs": [
    {
     "name": "stdout",
     "output_type": "stream",
     "text": [
      "(array([2, 3, 4]),)\n",
      "[30 40 50]\n"
     ]
    }
   ],
   "source": [
    "import numpy as np\n",
    "\n",
    "arr = np.array([10, 20, 30, 40, 50])\n",
    "\n",
    "# Find indices where elements are greater than 25\n",
    "result = np.where(arr > 25)\n",
    "\n",
    "print(result)  # Output: (array([2, 3, 4]),) (indices where the condition is true)\n",
    "print(arr[result])  # Output: [30 40 50]"
   ]
  },
  {
   "cell_type": "markdown",
   "id": "0db17ff3-cc08-4ff7-b476-711d59584024",
   "metadata": {},
   "source": [
    "You can also use `np.where()` to return specific values based on a condition (similar to an `if-else`)."
   ]
  },
  {
   "cell_type": "code",
   "execution_count": 72,
   "id": "6c5aa46a-7ef4-4d30-b1de-af25c5b60680",
   "metadata": {},
   "outputs": [
    {
     "name": "stdout",
     "output_type": "stream",
     "text": [
      "[  0   0 100 100 100]\n"
     ]
    }
   ],
   "source": [
    "# Replace values greater than 25 with 100, others with 0\n",
    "result = np.where(arr > 25, 100, 0)\n",
    "\n",
    "print(result)  # Output: [  0   0 100 100 100]"
   ]
  },
  {
   "cell_type": "markdown",
   "id": "037b1518-4bc4-4dde-b5dd-e20548ce5462",
   "metadata": {},
   "source": [
    "# sorting\n",
    "\n",
    "`np.sort()` returns a sorted copy of an array. It can sort along any axis in multi-dimensional arrays."
   ]
  },
  {
   "cell_type": "code",
   "execution_count": 73,
   "id": "3dc68629-0dba-423f-8dc8-597be22adbc3",
   "metadata": {},
   "outputs": [
    {
     "name": "stdout",
     "output_type": "stream",
     "text": [
      "[10 20 30 40 50]\n"
     ]
    }
   ],
   "source": [
    "arr = np.array([40, 10, 50, 30, 20])\n",
    "\n",
    "# Sort the array\n",
    "sorted_arr = np.sort(arr)\n",
    "print(sorted_arr)  # Output: [10 20 30 40 50]"
   ]
  },
  {
   "cell_type": "code",
   "execution_count": 74,
   "id": "8bedb578-01bc-4724-ab6b-0bfd13c95dee",
   "metadata": {},
   "outputs": [
    {
     "name": "stdout",
     "output_type": "stream",
     "text": [
      "[[1 2 3]\n",
      " [4 5 6]]\n",
      "[[3 1 2]\n",
      " [6 4 5]]\n"
     ]
    }
   ],
   "source": [
    "arr = np.array([[3, 1, 2], [6, 4, 5]])\n",
    "\n",
    "# Sort along axis=1 (sort rows)\n",
    "sorted_arr = np.sort(arr, axis=1)\n",
    "print(sorted_arr)  # Output: [[1 2 3]\n",
    "                   #          [4 5 6]]\n",
    "\n",
    "# Sort along axis=0 (sort columns)\n",
    "sorted_arr = np.sort(arr, axis=0)\n",
    "print(sorted_arr)  # Output: [[3 1 2]\n",
    "                   #          [6 4 5]]\n"
   ]
  },
  {
   "cell_type": "markdown",
   "id": "8fe00fbb-1d6e-4fb1-aad4-ff07fb7262ab",
   "metadata": {},
   "source": [
    "`argsort()` returns the indices that would sort the array. This is useful when you need the sorted indices rather than the sorted values."
   ]
  },
  {
   "cell_type": "code",
   "execution_count": 75,
   "id": "6f0d308e-45e0-4bb8-96ae-39968fc11774",
   "metadata": {},
   "outputs": [
    {
     "name": "stdout",
     "output_type": "stream",
     "text": [
      "[1 4 3 0 2]\n",
      "[10 20 30 40 50]\n"
     ]
    }
   ],
   "source": [
    "arr = np.array([40, 10, 50, 30, 20])\n",
    "\n",
    "# Get indices of sorted array\n",
    "sorted_indices = np.argsort(arr)\n",
    "print(sorted_indices)  # Output: [1 4 3 0 2]\n",
    "\n",
    "# Use the indices to sort the array\n",
    "sorted_arr = arr[sorted_indices]\n",
    "print(sorted_arr)  # Output: [10 20 30 40 50]"
   ]
  },
  {
   "cell_type": "markdown",
   "id": "7f00720d-ea4d-4460-b5d3-c7c0387d3528",
   "metadata": {},
   "source": [
    "`searchsorted()` returns the index where a given value would fit in a sorted array."
   ]
  },
  {
   "cell_type": "code",
   "execution_count": 76,
   "id": "023926c4-381f-4813-aec7-61388ecd053b",
   "metadata": {},
   "outputs": [
    {
     "name": "stdout",
     "output_type": "stream",
     "text": [
      "2\n"
     ]
    }
   ],
   "source": [
    "arr = np.array([10, 20, 30, 40, 50])\n",
    "\n",
    "# Search for the index where 25 should be inserted\n",
    "index = np.searchsorted(arr, 25)\n",
    "print(index)  # Output: 2 (25 fits between 20 and 30)"
   ]
  },
  {
   "cell_type": "code",
   "execution_count": 77,
   "id": "e62b5729-0a18-495f-b6e7-8e7ff0d46c0d",
   "metadata": {},
   "outputs": [
    {
     "name": "stdout",
     "output_type": "stream",
     "text": [
      "[1 3]\n"
     ]
    }
   ],
   "source": [
    "values = [15, 35]\n",
    "indices = np.searchsorted(arr, values)\n",
    "print(indices)  # Output: [1 3]"
   ]
  },
  {
   "cell_type": "markdown",
   "id": "7373e917-ba61-4e54-87e1-0da700b573e4",
   "metadata": {},
   "source": [
    "# filtering\n",
    "\n",
    "Filtering is the process of extracting elements that meet a certain condition. This is often done using boolean arrays or conditions.\n",
    "\n",
    "**Using Boolean Indexing for Filtering**: You can create a boolean mask (True/False) to filter elements that satisfy a condition."
   ]
  },
  {
   "cell_type": "code",
   "execution_count": 78,
   "id": "1e286606-acc2-49dc-98d9-a80292753199",
   "metadata": {},
   "outputs": [
    {
     "name": "stdout",
     "output_type": "stream",
     "text": [
      "[30 40 50]\n"
     ]
    }
   ],
   "source": [
    "arr = np.array([10, 20, 30, 40, 50])\n",
    "\n",
    "# Create a boolean mask where values are greater than 25\n",
    "mask = arr > 25\n",
    "\n",
    "# Use the mask to filter the array\n",
    "filtered_arr = arr[mask]\n",
    "print(filtered_arr)  # Output: [30 40 50]"
   ]
  },
  {
   "cell_type": "markdown",
   "id": "90a226cd-d142-40c9-a921-cf4cd7d65df3",
   "metadata": {},
   "source": [
    "`extract()` returns elements that satisfy a specific condition."
   ]
  },
  {
   "cell_type": "code",
   "execution_count": 79,
   "id": "37cb3212-52ff-4500-8acd-2dc30b096572",
   "metadata": {},
   "outputs": [
    {
     "name": "stdout",
     "output_type": "stream",
     "text": [
      "[30 40 50]\n"
     ]
    }
   ],
   "source": [
    "# Extract elements greater than 25\n",
    "filtered_arr = np.extract(arr > 25, arr)\n",
    "print(filtered_arr)  # Output: [30 40 50]"
   ]
  },
  {
   "cell_type": "markdown",
   "id": "c24fe4cc-9922-43e1-8beb-fd8a39f4629f",
   "metadata": {},
   "source": [
    "`nonzero()` returns the indices of elements that are non-zero (or `True` for boolean arrays)."
   ]
  },
  {
   "cell_type": "code",
   "execution_count": 80,
   "id": "6b351b25-9265-4e68-bef2-daa51c45d458",
   "metadata": {},
   "outputs": [
    {
     "name": "stdout",
     "output_type": "stream",
     "text": [
      "(array([1, 2, 4]),)\n"
     ]
    }
   ],
   "source": [
    "# Example: Find indices of non-zero elements\n",
    "arr = np.array([0, 1, 2, 0, 3])\n",
    "\n",
    "result = np.nonzero(arr)\n",
    "print(result)  # Output: (array([1, 2, 4]),) (indices of non-zero elements)"
   ]
  },
  {
   "cell_type": "code",
   "execution_count": 81,
   "id": "37fbfe1d-3641-4924-ad0f-f88a8081c89a",
   "metadata": {},
   "outputs": [
    {
     "name": "stdout",
     "output_type": "stream",
     "text": [
      "(array([], dtype=int64),)\n"
     ]
    }
   ],
   "source": [
    "# Find indices where arr > 25\n",
    "indices = np.nonzero(arr > 25)\n",
    "print(indices)"
   ]
  },
  {
   "cell_type": "markdown",
   "id": "e45bd280-a6bd-4ca4-a55b-3c0471baac46",
   "metadata": {},
   "source": [
    "# shuffle\n",
    "\n",
    "The `shuffle()` function randomly permutes the elements of a 1D array or shuffles the rows of a multi-dimensional array in-place, meaning it changes the original array."
   ]
  },
  {
   "cell_type": "code",
   "execution_count": 82,
   "id": "10a9dbcd-cc06-45c4-8e78-ff37c68fc8f0",
   "metadata": {},
   "outputs": [
    {
     "name": "stdout",
     "output_type": "stream",
     "text": [
      "[2 4 3 5 1]\n"
     ]
    }
   ],
   "source": [
    "import numpy as np\n",
    "\n",
    "arr = np.array([1, 2, 3, 4, 5])\n",
    "np.random.shuffle(arr)\n",
    "print(arr)  # Output: Randomly shuffled version of [1, 2, 3, 4, 5]"
   ]
  },
  {
   "cell_type": "code",
   "execution_count": 83,
   "id": "214f3c09-673e-46d5-823f-86f628ac48a1",
   "metadata": {},
   "outputs": [
    {
     "name": "stdout",
     "output_type": "stream",
     "text": [
      "[[1 2 3]\n",
      " [7 8 9]\n",
      " [4 5 6]]\n"
     ]
    }
   ],
   "source": [
    "arr = np.array([[1, 2, 3], [4, 5, 6], [7, 8, 9]])\n",
    "np.random.shuffle(arr)\n",
    "print(arr)  # Output: Randomly shuffled rows"
   ]
  },
  {
   "cell_type": "markdown",
   "id": "db427ea9-e2f3-4048-8360-9115b4c870de",
   "metadata": {},
   "source": [
    "# unique\n",
    "\n",
    "The `unique()` function returns the sorted unique elements of an array. It can also return additional information, such as the indices of the unique elements and their counts."
   ]
  },
  {
   "cell_type": "code",
   "execution_count": 84,
   "id": "a16dab06-3f2f-4589-bb2d-87bc76a313ad",
   "metadata": {},
   "outputs": [
    {
     "name": "stdout",
     "output_type": "stream",
     "text": [
      "[1 2 3 4]\n"
     ]
    }
   ],
   "source": [
    "arr = np.array([1, 2, 2, 3, 3, 3, 4])\n",
    "unique_arr = np.unique(arr)\n",
    "print(unique_arr)  # Output: [1 2 3 4]"
   ]
  },
  {
   "cell_type": "markdown",
   "id": "10a507dc-5910-4ef1-a0f0-40a9eb35e97d",
   "metadata": {},
   "source": [
    "You can get more information by using the `return_counts` or `return_index` parameters."
   ]
  },
  {
   "cell_type": "code",
   "execution_count": 85,
   "id": "4673180f-0b6f-448c-b6c3-992b219a948f",
   "metadata": {},
   "outputs": [
    {
     "name": "stdout",
     "output_type": "stream",
     "text": [
      "[1 2 3 4]\n",
      "[1 2 3 1]\n"
     ]
    }
   ],
   "source": [
    "# Return unique elements and their counts\n",
    "unique_arr, counts = np.unique(arr, return_counts=True)\n",
    "print(unique_arr)  # Output: [1 2 3 4]\n",
    "print(counts)      # Output: [1 2 3 1] (frequency of each unique element)"
   ]
  },
  {
   "cell_type": "code",
   "execution_count": 86,
   "id": "d1996f05-7467-48d9-a203-2c350c137390",
   "metadata": {},
   "outputs": [
    {
     "name": "stdout",
     "output_type": "stream",
     "text": [
      "[1 2 3 4]\n",
      "[0 1 3 6]\n"
     ]
    }
   ],
   "source": [
    "# Return unique elements and the indices of their first occurrence\n",
    "unique_arr, indices = np.unique(arr, return_index=True)\n",
    "print(unique_arr)  # Output: [1 2 3 4]\n",
    "print(indices)     # Output: [0 1 3 6] (indices of first occurrence)"
   ]
  },
  {
   "cell_type": "markdown",
   "id": "b045493b-054b-40fa-aadb-cd5d2886511d",
   "metadata": {},
   "source": [
    "# resize\n",
    "\n",
    "The `resize()` function returns a new array with the specified shape. If the new size is larger than the original, the array is repeated to fill the new shape. Unlike `reshape()`, `resize()` can change the size of the array (both increasing and decreasing)."
   ]
  },
  {
   "cell_type": "code",
   "execution_count": 87,
   "id": "1ab40f59-3235-4732-aafb-ec4a0112a1d9",
   "metadata": {},
   "outputs": [
    {
     "name": "stdout",
     "output_type": "stream",
     "text": [
      "[[1 2 3 4 1]\n",
      " [2 3 4 1 2]]\n"
     ]
    }
   ],
   "source": [
    "arr = np.array([1, 2, 3, 4])\n",
    "\n",
    "# Resize to a larger array (elements are repeated)\n",
    "resized_arr = np.resize(arr, (2, 5))\n",
    "print(resized_arr)  \n",
    "# Output:\n",
    "# [[1 2 3 4 1]\n",
    "#  [2 3 4 1 2]]"
   ]
  },
  {
   "cell_type": "code",
   "execution_count": 88,
   "id": "f641f131-d970-46c4-80b5-783b2897b79d",
   "metadata": {},
   "outputs": [
    {
     "name": "stdout",
     "output_type": "stream",
     "text": [
      "[[1 2]\n",
      " [3 4]]\n"
     ]
    }
   ],
   "source": [
    "# Resize to a smaller array\n",
    "resized_arr = np.resize(arr, (2, 2))\n",
    "print(resized_arr)\n",
    "# Output:\n",
    "# [[1 2]\n",
    "#  [3 4]]"
   ]
  },
  {
   "cell_type": "markdown",
   "id": "06aa54bb-d09e-4c57-9423-41dd529155e6",
   "metadata": {},
   "source": [
    "# flatten\n",
    "\n",
    "The `flatten()` function returns a copy of the array collapsed into one dimension. This is helpful for turning a multi-dimensional array into a 1D array."
   ]
  },
  {
   "cell_type": "code",
   "execution_count": 89,
   "id": "fdcef12a-c259-47d9-b195-fd5dd344f9da",
   "metadata": {},
   "outputs": [
    {
     "name": "stdout",
     "output_type": "stream",
     "text": [
      "[1 2 3 4]\n"
     ]
    }
   ],
   "source": [
    "arr = np.array([[1, 2], [3, 4]])\n",
    "\n",
    "# Flatten the array\n",
    "flattened_arr = arr.flatten()\n",
    "print(flattened_arr)  # Output: [1 2 3 4]"
   ]
  },
  {
   "cell_type": "markdown",
   "id": "1d4ec279-affe-43ed-acc2-9e019f1877c7",
   "metadata": {},
   "source": [
    "# ravel\n",
    "\n",
    "The `ravel()` function also collapses an array into one dimension, but it returns a view whenever possible (i.e., it doesn't always create a new copy of the data)."
   ]
  },
  {
   "cell_type": "code",
   "execution_count": 90,
   "id": "dd517904-429a-4ec9-9e71-40be9018dbec",
   "metadata": {},
   "outputs": [
    {
     "name": "stdout",
     "output_type": "stream",
     "text": [
      "[1 2 3 4]\n"
     ]
    }
   ],
   "source": [
    "arr = np.array([[1, 2], [3, 4]])\n",
    "\n",
    "# Ravel the array\n",
    "raveled_arr = arr.ravel()\n",
    "print(raveled_arr)  # Output: [1 2 3 4]"
   ]
  },
  {
   "cell_type": "markdown",
   "id": "66b0e907-edde-46f5-91f9-177449a0870c",
   "metadata": {},
   "source": [
    "**Difference Between `flatten()` and `ravel()`:**\n",
    "    \n",
    "- flatten() always returns a copy of the original array, and modifications to the flattened array don’t affect the original.\n",
    "- ravel() returns a view whenever possible, meaning changes to the raveled array might affect the original array (if the original is contiguous in memory)."
   ]
  },
  {
   "cell_type": "code",
   "execution_count": 91,
   "id": "88d4e877-ef43-4f9d-97c3-44a0b02d83ed",
   "metadata": {},
   "outputs": [
    {
     "name": "stdout",
     "output_type": "stream",
     "text": [
      "[[10  2]\n",
      " [ 3  4]]\n"
     ]
    }
   ],
   "source": [
    "# Modify a raveled array\n",
    "raveled_arr[0] = 10\n",
    "print(arr)  # Output: [[10  2] [3 4]] (original array modified)"
   ]
  },
  {
   "cell_type": "markdown",
   "id": "ffd3de76-258d-4ee1-a603-a0115cdc25f9",
   "metadata": {},
   "source": [
    "# insert\n",
    "\n",
    "The `np.insert()` function inserts values into an array at a specified index or along a given axis."
   ]
  },
  {
   "cell_type": "code",
   "execution_count": null,
   "id": "9feac1c4-8525-4343-b17f-057f76d3f65a",
   "metadata": {},
   "outputs": [],
   "source": [
    "np.insert(arr, obj, values, axis=None)"
   ]
  },
  {
   "cell_type": "markdown",
   "id": "de0c30fc-cb8c-4cd0-b021-74569182d08b",
   "metadata": {},
   "source": [
    "- arr: The input array.\n",
    "- obj: The index (or indices) at which the values are inserted.\n",
    "- values: The values to insert.\n",
    "- axis: The axis along which to insert. If None, the array is flattened before inserting."
   ]
  },
  {
   "cell_type": "code",
   "execution_count": 92,
   "id": "0e38f04b-fdd3-47bb-902a-59742b53e8e3",
   "metadata": {},
   "outputs": [
    {
     "name": "stdout",
     "output_type": "stream",
     "text": [
      "[  1   2 100   3   4]\n"
     ]
    }
   ],
   "source": [
    "import numpy as np\n",
    "\n",
    "arr = np.array([1, 2, 3, 4])\n",
    "\n",
    "# Insert 100 at index 2\n",
    "new_arr = np.insert(arr, 2, 100)\n",
    "print(new_arr)  # Output: [  1   2 100   3   4]"
   ]
  },
  {
   "cell_type": "markdown",
   "id": "98eb34e5-7add-4bcc-b96a-7b3687349128",
   "metadata": {},
   "source": [
    "When inserting into a 2D array, the axis parameter determines whether to insert along rows or columns:\n",
    "\n",
    "- axis=0: Insert along rows.\n",
    "- axis=1: Insert along columns."
   ]
  },
  {
   "cell_type": "code",
   "execution_count": 93,
   "id": "0cb623fd-0121-47e2-9903-44e6b794f997",
   "metadata": {},
   "outputs": [
    {
     "name": "stdout",
     "output_type": "stream",
     "text": [
      "[[1 2]\n",
      " [5 6]\n",
      " [3 4]]\n",
      "[[1 5 2]\n",
      " [3 6 4]]\n"
     ]
    }
   ],
   "source": [
    "arr = np.array([[1, 2], [3, 4]])\n",
    "\n",
    "# Insert [5, 6] as a new row at index 1\n",
    "new_arr = np.insert(arr, 1, [5, 6], axis=0)\n",
    "print(new_arr)  \n",
    "# Output:\n",
    "# [[1 2]\n",
    "#  [5 6]\n",
    "#  [3 4]]\n",
    "\n",
    "# Insert [5, 6] as a new column at index 1\n",
    "new_arr = np.insert(arr, 1, [5, 6], axis=1)\n",
    "print(new_arr)\n",
    "# Output:\n",
    "# [[1 5 2]\n",
    "#  [3 6 4]]"
   ]
  },
  {
   "cell_type": "markdown",
   "id": "e0da0c9f-50b7-49fc-a550-7e0836429226",
   "metadata": {},
   "source": [
    "**Note:** When inserting along an axis, the values must match the shape of the row/column you're inserting."
   ]
  },
  {
   "cell_type": "markdown",
   "id": "4de30ed5-4bf4-406d-a546-b22126177278",
   "metadata": {},
   "source": [
    "# delete\n",
    "\n",
    "The `np.delete()` function removes elements from an array at the specified index or along a given axis."
   ]
  },
  {
   "cell_type": "code",
   "execution_count": null,
   "id": "ed89cf02-627c-405e-937f-598c14e8e63f",
   "metadata": {},
   "outputs": [],
   "source": [
    "np.delete(arr, obj, axis=None)"
   ]
  },
  {
   "cell_type": "markdown",
   "id": "db58aed9-ed23-4a0a-9f69-ba6d76ab5659",
   "metadata": {},
   "source": [
    "- arr: The input array.\n",
    "- obj: The index (or indices) of the elements to delete.\n",
    "- axis: The axis along which to delete. If None, the array is flattened before deletion."
   ]
  },
  {
   "cell_type": "code",
   "execution_count": 94,
   "id": "7a937c9d-df4b-46d7-8d09-73dead9c4204",
   "metadata": {},
   "outputs": [
    {
     "name": "stdout",
     "output_type": "stream",
     "text": [
      "[1 2 4 5]\n"
     ]
    }
   ],
   "source": [
    "arr = np.array([1, 2, 3, 4, 5])\n",
    "\n",
    "# Delete the element at index 2\n",
    "new_arr = np.delete(arr, 2)\n",
    "print(new_arr)  # Output: [1 2 4 5]"
   ]
  },
  {
   "cell_type": "markdown",
   "id": "9639177f-d11c-420a-a249-3a966d0c08ff",
   "metadata": {},
   "source": [
    "When working with 2D arrays, you can specify the axis to delete rows or columns:\n",
    "\n",
    "- axis=0: Deletes rows.\n",
    "- axis=1: Deletes columns."
   ]
  },
  {
   "cell_type": "code",
   "execution_count": 95,
   "id": "65a43fef-6848-4e6e-9925-c7d92470f12d",
   "metadata": {
    "scrolled": true
   },
   "outputs": [
    {
     "name": "stdout",
     "output_type": "stream",
     "text": [
      "[[1 2 3]\n",
      " [7 8 9]]\n",
      "[[1 3]\n",
      " [4 6]\n",
      " [7 9]]\n"
     ]
    }
   ],
   "source": [
    "arr = np.array([[1, 2, 3], [4, 5, 6], [7, 8, 9]])\n",
    "\n",
    "# Delete the row at index 1\n",
    "new_arr = np.delete(arr, 1, axis=0)\n",
    "print(new_arr)\n",
    "# Output:\n",
    "# [[1 2 3]\n",
    "#  [7 8 9]]\n",
    "\n",
    "# Delete the column at index 1\n",
    "new_arr = np.delete(arr, 1, axis=1)\n",
    "print(new_arr)\n",
    "# Output:\n",
    "# [[1 3]\n",
    "#  [4 6]\n",
    "#  [7 9]]"
   ]
  },
  {
   "cell_type": "code",
   "execution_count": 96,
   "id": "2c42a06b-ccce-4d41-893c-87eb8c57c983",
   "metadata": {},
   "outputs": [
    {
     "name": "stdout",
     "output_type": "stream",
     "text": [
      "[1 3 5]\n"
     ]
    }
   ],
   "source": [
    "arr = np.array([1, 2, 3, 4, 5])\n",
    "\n",
    "# Delete elements at indices 1 and 3\n",
    "new_arr = np.delete(arr, [1, 3])\n",
    "print(new_arr)  # Output: [1 3 5]"
   ]
  },
  {
   "cell_type": "markdown",
   "id": "1ab3d25e-a2cc-4257-b82d-6b415bb16d3d",
   "metadata": {},
   "source": [
    "# update\n",
    "\n",
    "You can update elements in a NumPy array by assigning new values to specific positions or slices using indexing."
   ]
  },
  {
   "cell_type": "code",
   "execution_count": 97,
   "id": "81352647-e95d-4dd9-b88b-1b822379f695",
   "metadata": {},
   "outputs": [
    {
     "name": "stdout",
     "output_type": "stream",
     "text": [
      "[  1   2 100   4   5]\n"
     ]
    }
   ],
   "source": [
    "import numpy as np\n",
    "\n",
    "# Original array\n",
    "arr = np.array([1, 2, 3, 4, 5])\n",
    "\n",
    "# Update the element at index 2 (third element)\n",
    "arr[2] = 100\n",
    "print(arr)  # Output: [  1   2 100   4   5]"
   ]
  },
  {
   "cell_type": "code",
   "execution_count": 98,
   "id": "4ca16d84-8e68-4aa8-b290-b32d4525a052",
   "metadata": {},
   "outputs": [
    {
     "name": "stdout",
     "output_type": "stream",
     "text": [
      "[ 1 20 30 40  5]\n"
     ]
    }
   ],
   "source": [
    "# Update elements at indices 1, 2, and 3\n",
    "arr[1:4] = [20, 30, 40]\n",
    "print(arr)  # Output: [  1  20  30  40   5]"
   ]
  },
  {
   "cell_type": "code",
   "execution_count": 99,
   "id": "4693367a-53fb-4917-8133-d289b2778a63",
   "metadata": {},
   "outputs": [
    {
     "name": "stdout",
     "output_type": "stream",
     "text": [
      "[[  1   2   3]\n",
      " [  4   5 100]\n",
      " [  7   8   9]]\n"
     ]
    }
   ],
   "source": [
    "arr = np.array([[1, 2, 3], [4, 5, 6], [7, 8, 9]])\n",
    "\n",
    "# Update the element at row 1, column 2\n",
    "arr[1, 2] = 100\n",
    "print(arr)\n",
    "# Output:\n",
    "# [[  1   2   3]\n",
    "#  [  4   5 100]\n",
    "#  [  7   8   9]]"
   ]
  },
  {
   "cell_type": "code",
   "execution_count": 100,
   "id": "819ec7b9-9c9a-40d6-8161-7a3c95dcd50d",
   "metadata": {},
   "outputs": [
    {
     "name": "stdout",
     "output_type": "stream",
     "text": [
      "[[ 1  2  3]\n",
      " [10 20 30]\n",
      " [ 7  8  9]]\n"
     ]
    }
   ],
   "source": [
    "# Update entire row 1\n",
    "arr[1] = [10, 20, 30]\n",
    "print(arr)\n",
    "# Output:\n",
    "# [[  1   2   3]\n",
    "#  [ 10  20  30]\n",
    "#  [  7   8   9]]"
   ]
  },
  {
   "cell_type": "markdown",
   "id": "4adcb6e2-531d-43f9-8a4c-f288ee03908d",
   "metadata": {},
   "source": [
    "**Updating Based on Conditions:** You can update array elements based on conditions using boolean masking."
   ]
  },
  {
   "cell_type": "code",
   "execution_count": 101,
   "id": "c2c36a89-9a3a-41e9-8940-43df04667a0f",
   "metadata": {},
   "outputs": [
    {
     "name": "stdout",
     "output_type": "stream",
     "text": [
      "[  1   2   3 100 100]\n"
     ]
    }
   ],
   "source": [
    "arr = np.array([1, 2, 3, 4, 5])\n",
    "\n",
    "# Update all elements greater than 3 to 100\n",
    "arr[arr > 3] = 100\n",
    "print(arr)  # Output: [  1   2   3 100 100]"
   ]
  },
  {
   "cell_type": "code",
   "execution_count": 102,
   "id": "5286a8b1-aa45-479c-a0c5-aa37ed9a9ce6",
   "metadata": {},
   "outputs": [
    {
     "name": "stdout",
     "output_type": "stream",
     "text": [
      "[[1 2 3]\n",
      " [4 5 0]\n",
      " [0 0 0]]\n"
     ]
    }
   ],
   "source": [
    "arr = np.array([[1, 2, 3], [4, 5, 6], [7, 8, 9]])\n",
    "\n",
    "# Update all elements greater than 5 to 0\n",
    "arr[arr > 5] = 0\n",
    "print(arr)\n",
    "# Output:\n",
    "# [[1 2 3]\n",
    "#  [4 5 0]\n",
    "#  [0 0 0]]"
   ]
  },
  {
   "cell_type": "markdown",
   "id": "f2585e83-dedb-4a5c-bdd0-60bcd1a4616c",
   "metadata": {},
   "source": [
    "You can use NumPy’s in-place arithmetic operations (e.g., +=, -=, *=, /=) to update the elements of an array."
   ]
  },
  {
   "cell_type": "code",
   "execution_count": 103,
   "id": "f95997fa-3ae7-4c9b-837d-c4c404ee9aa7",
   "metadata": {},
   "outputs": [
    {
     "name": "stdout",
     "output_type": "stream",
     "text": [
      "[11 12 13 14 15]\n",
      "[22 24 26 28 30]\n"
     ]
    }
   ],
   "source": [
    "arr = np.array([1, 2, 3, 4, 5])\n",
    "\n",
    "# Add 10 to each element\n",
    "arr += 10\n",
    "print(arr)  # Output: [11 12 13 14 15]\n",
    "\n",
    "# Multiply each element by 2\n",
    "arr *= 2\n",
    "print(arr)  # Output: [22 24 26 28 30]"
   ]
  },
  {
   "cell_type": "code",
   "execution_count": 104,
   "id": "1eebf74f-c0ac-4ff3-b3d1-2e9edf8d808f",
   "metadata": {},
   "outputs": [
    {
     "name": "stdout",
     "output_type": "stream",
     "text": [
      "[22 19 21 23 30]\n"
     ]
    }
   ],
   "source": [
    "# Subtract 5 from elements at indices 1 to 3\n",
    "arr[1:4] -= 5\n",
    "print(arr)  # Output: [22 19 21 23 30]"
   ]
  },
  {
   "cell_type": "markdown",
   "id": "cfa2e4fc-ff88-475a-b3d7-e94c0acb3339",
   "metadata": {},
   "source": [
    "NumPy’s broadcasting feature allows you to update an entire array or sub-arrays with a scalar or smaller array."
   ]
  },
  {
   "cell_type": "code",
   "execution_count": 105,
   "id": "ae140ad4-ae4f-4a6a-b446-6c5e970658d0",
   "metadata": {},
   "outputs": [
    {
     "name": "stdout",
     "output_type": "stream",
     "text": [
      "[[11 12 13]\n",
      " [14 15 16]\n",
      " [17 18 19]]\n"
     ]
    }
   ],
   "source": [
    "arr = np.array([[1, 2, 3], [4, 5, 6], [7, 8, 9]])\n",
    "\n",
    "# Add 10 to each element\n",
    "arr += 10\n",
    "print(arr)\n",
    "# Output:\n",
    "# [[11 12 13]\n",
    "#  [14 15 16]\n",
    "#  [17 18 19]]"
   ]
  },
  {
   "cell_type": "code",
   "execution_count": 106,
   "id": "0c69120e-a793-407f-9908-5cc9a31aa7ed",
   "metadata": {},
   "outputs": [
    {
     "name": "stdout",
     "output_type": "stream",
     "text": [
      "[[11 22 33]\n",
      " [14 25 36]\n",
      " [17 28 39]]\n"
     ]
    }
   ],
   "source": [
    "# Add a 1D array to each row of the 2D array\n",
    "arr = np.array([[1, 2, 3], [4, 5, 6], [7, 8, 9]])\n",
    "arr += np.array([10, 20, 30])\n",
    "print(arr)\n",
    "# Output:\n",
    "# [[11 22 33]\n",
    "#  [14 25 36]\n",
    "#  [17 28 39]]"
   ]
  },
  {
   "cell_type": "markdown",
   "id": "1b39cd6d-b44d-4a71-8582-0a9da858c2a8",
   "metadata": {},
   "source": [
    "#  Statistical Functions"
   ]
  },
  {
   "cell_type": "markdown",
   "id": "dd6633ad-a18e-4f4c-847c-e0f9c796863e",
   "metadata": {},
   "source": [
    "## np.percentile\n",
    "\n",
    "Percentiles are used to divide a dataset into 100 equal parts, providing a measure to understand the distribution of data. For example:\n",
    "\n",
    "- The 25th percentile (first quartile) marks the point below which 25% of the data lies.\n",
    "- The 50th percentile (median) marks the middle of the dataset.\n",
    "- The 75th percentile (third quartile) marks the point below which 75% of the data lies.\n",
    "\n",
    "**Syntax:** np.percentile(a, q, axis=None, interpolation='linear', keepdims=False)\n",
    "\n",
    "- a: Input array.\n",
    "- q: Percentile(s) to compute (e.g., 25 for 25th percentile).\n",
    "- axis: The axis along which to compute percentiles. Default is None (flattened array).\n",
    "- interpolation: Specifies how to handle when the desired percentile lies between two data points:\n",
    "    - 'linear' (default): Interpolates linearly.\n",
    "    - 'nearest': Chooses the nearest data point.\n",
    "    - 'lower'/'higher': Chooses the lower/higher data point.\n",
    "    - 'midpoint': Takes the average of the two middle points.\n",
    "- keepdims: If True, the output retains reduced dimensions."
   ]
  },
  {
   "cell_type": "code",
   "execution_count": 56,
   "id": "b75a9fca-5b3e-4d70-8cb4-df4d72f6a607",
   "metadata": {},
   "outputs": [
    {
     "name": "stdout",
     "output_type": "stream",
     "text": [
      "[2. 3. 4.]\n"
     ]
    }
   ],
   "source": [
    "data = [1, 2, 3, 4, 5]\n",
    "percentiles = np.percentile(data, [25, 50, 75])\n",
    "print(percentiles)"
   ]
  },
  {
   "cell_type": "code",
   "execution_count": 57,
   "id": "b7e7fe42-7112-4abd-8ca3-accce69b8f85",
   "metadata": {},
   "outputs": [
    {
     "name": "stdout",
     "output_type": "stream",
     "text": [
      "Median along rows: [20. 50.]\n",
      "Median along columns: [25. 35. 45.]\n"
     ]
    }
   ],
   "source": [
    "data = np.array([[10, 20, 30], [40, 50, 60]])\n",
    "median_rows = np.percentile(data, 50, axis=1)\n",
    "median_cols = np.percentile(data, 50, axis=0)\n",
    "\n",
    "print(\"Median along rows:\", median_rows)\n",
    "print(\"Median along columns:\", median_cols)"
   ]
  },
  {
   "cell_type": "markdown",
   "id": "4fee19ee-8075-426c-8371-76cc03e71129",
   "metadata": {},
   "source": [
    "## np.corrcoef\n",
    "\n",
    "Correlation measures the linear relationship between two variables, with values ranging from -1 to 1:\n",
    "\n",
    "- 1: Perfect positive correlation.\n",
    "- -1: Perfect negative correlation.\n",
    "- 0: No linear relationship.\n",
    "\n",
    "**Syntax:** np.corrcoef(x, y=None, rowvar=True)\n",
    "\n",
    "- x: 1D or 2D array of data.\n",
    "- y: Optional second set of data.\n",
    "- rowvar: If True, each row is considered a variable; if False, each column is considered a variable."
   ]
  },
  {
   "cell_type": "code",
   "execution_count": 58,
   "id": "f46dc73a-a7b6-40ac-953c-4d6c909ddd77",
   "metadata": {},
   "outputs": [
    {
     "name": "stdout",
     "output_type": "stream",
     "text": [
      "[[ 1. -1.]\n",
      " [-1.  1.]]\n"
     ]
    }
   ],
   "source": [
    "x = [1, 2, 3, 4, 5]\n",
    "y = [5, 4, 3, 2, 1]\n",
    "\n",
    "correlation_matrix = np.corrcoef(x, y)\n",
    "print(correlation_matrix)"
   ]
  },
  {
   "cell_type": "code",
   "execution_count": 59,
   "id": "756a4fd6-ef40-4f81-a039-9e80c7eb60f3",
   "metadata": {},
   "outputs": [
    {
     "name": "stdout",
     "output_type": "stream",
     "text": [
      "[[1. 1. 1.]\n",
      " [1. 1. 1.]\n",
      " [1. 1. 1.]]\n"
     ]
    }
   ],
   "source": [
    "data = np.array([[10, 20, 30], [40, 50, 60], [70, 80, 90]])\n",
    "correlation_matrix = np.corrcoef(data, rowvar=False)\n",
    "\n",
    "print(correlation_matrix)"
   ]
  },
  {
   "cell_type": "markdown",
   "id": "eeae3262-3e25-49e2-9014-d3b8c37439cb",
   "metadata": {},
   "source": [
    "## np.cov\n",
    "\n",
    "Covariance measures the extent to which two variables change together. Unlike correlation, it isn't normalized, so its magnitude depends on the scale of the data:\n",
    "\n",
    "- Positive covariance: Variables tend to increase together.\n",
    "- Negative covariance: One variable increases as the other decreases.\n",
    "\n",
    "**Syntax:** np.cov(m, y=None, rowvar=True, bias=False, ddof=None)\n",
    "\n",
    "- m: 1D or 2D array of data.\n",
    "- y: Optional second set of data.\n",
    "- rowvar: If True, each row represents a variable; if False, each column represents a variable.\n",
    "- bias: If True, normalization is by N; otherwise by N-1.\n",
    "- ddof: Overrides the normalization factor."
   ]
  },
  {
   "cell_type": "code",
   "execution_count": 60,
   "id": "61e4fc04-ba02-46a2-98c6-c65286cd18ee",
   "metadata": {},
   "outputs": [
    {
     "name": "stdout",
     "output_type": "stream",
     "text": [
      "[[ 2.5 -2.5]\n",
      " [-2.5  2.5]]\n"
     ]
    }
   ],
   "source": [
    "x = [1, 2, 3, 4, 5]\n",
    "y = [5, 4, 3, 2, 1]\n",
    "\n",
    "covariance_matrix = np.cov(x, y)\n",
    "print(covariance_matrix)"
   ]
  },
  {
   "cell_type": "code",
   "execution_count": 61,
   "id": "84b6f136-71e3-4caf-9949-543283a044e9",
   "metadata": {},
   "outputs": [
    {
     "name": "stdout",
     "output_type": "stream",
     "text": [
      "[[1. 1.]\n",
      " [1. 1.]]\n"
     ]
    }
   ],
   "source": [
    "data = np.array([[1, 2], [2, 3], [3, 4]])\n",
    "covariance_matrix = np.cov(data, rowvar=False)\n",
    "\n",
    "print(covariance_matrix)"
   ]
  },
  {
   "cell_type": "code",
   "execution_count": null,
   "id": "d9595995-b748-4280-a3cf-1d57a645388a",
   "metadata": {},
   "outputs": [],
   "source": []
  },
  {
   "cell_type": "markdown",
   "id": "340aaa23-a796-47af-8166-bce024464f02",
   "metadata": {},
   "source": [
    "# matrix\n",
    "\n",
    "In NumPy, a matrix is essentially a specialized 2D array. Although NumPy does provide a `matrix` class, it's generally recommended to use the more flexible `ndarray` for handling matrices because ndarray supports higher-dimensional data and is more widely used. Still, both share many common operations."
   ]
  },
  {
   "cell_type": "markdown",
   "id": "c2b4fa23-9230-444a-a6d1-24160ff4acac",
   "metadata": {},
   "source": [
    "## Creating a Matrix\n",
    "\n",
    "Matrices are 2D arrays. You can create them using `np.array()` or, for matrix-specific operations, use `np.matrix()`. However, `np.array()` is preferred in modern usage."
   ]
  },
  {
   "cell_type": "code",
   "execution_count": 107,
   "id": "f28d0446-3037-4186-be84-bbe263fd0de4",
   "metadata": {},
   "outputs": [
    {
     "name": "stdout",
     "output_type": "stream",
     "text": [
      "[[1 2 3]\n",
      " [4 5 6]]\n"
     ]
    }
   ],
   "source": [
    "import numpy as np\n",
    "\n",
    "# Create a 2x3 matrix\n",
    "matrix = np.array([[1, 2, 3], [4, 5, 6]])\n",
    "print(matrix)\n",
    "# Output:\n",
    "# [[1 2 3]\n",
    "#  [4 5 6]]"
   ]
  },
  {
   "cell_type": "code",
   "execution_count": 108,
   "id": "2b7bdbb8-dca0-4041-8084-11aaeb85c6ee",
   "metadata": {},
   "outputs": [
    {
     "name": "stdout",
     "output_type": "stream",
     "text": [
      "[[ 6  8]\n",
      " [10 12]]\n",
      "[[-4 -4]\n",
      " [-4 -4]]\n"
     ]
    }
   ],
   "source": [
    "# Create two matrices\n",
    "A = np.array([[1, 2], [3, 4]])\n",
    "B = np.array([[5, 6], [7, 8]])\n",
    "\n",
    "# Matrix addition\n",
    "C = A + B\n",
    "print(C)\n",
    "# Output:\n",
    "# [[ 6  8]\n",
    "#  [10 12]]\n",
    "\n",
    "# Matrix subtraction\n",
    "D = A - B\n",
    "print(D)\n",
    "# Output:\n",
    "# [[-4 -4]\n",
    "#  [-4 -4]]"
   ]
  },
  {
   "cell_type": "code",
   "execution_count": 109,
   "id": "1ced7cc1-74a3-4a4e-bca5-cf211781eccb",
   "metadata": {},
   "outputs": [
    {
     "name": "stdout",
     "output_type": "stream",
     "text": [
      "[[19 22]\n",
      " [43 50]]\n",
      "[[19 22]\n",
      " [43 50]]\n"
     ]
    }
   ],
   "source": [
    "# Matrix multiplication (dot product)\n",
    "A = np.array([[1, 2], [3, 4]])\n",
    "B = np.array([[5, 6], [7, 8]])\n",
    "\n",
    "C = A @ B\n",
    "print(C)\n",
    "# Output:\n",
    "# [[19 22]\n",
    "#  [43 50]]\n",
    "\n",
    "# Using np.dot()\n",
    "D = np.dot(A, B)\n",
    "print(D)  # Output will be the same as above\n"
   ]
  },
  {
   "cell_type": "code",
   "execution_count": 110,
   "id": "64e2bec2-9db6-44c1-be32-23e5ddd7c8dc",
   "metadata": {},
   "outputs": [
    {
     "name": "stdout",
     "output_type": "stream",
     "text": [
      "[[ 5 12]\n",
      " [21 32]]\n"
     ]
    }
   ],
   "source": [
    "# Element-wise multiplication\n",
    "E = A * B\n",
    "print(E)\n",
    "# Output:\n",
    "# [[ 5 12]\n",
    "#  [21 32]]"
   ]
  },
  {
   "cell_type": "code",
   "execution_count": 111,
   "id": "39e00ef3-a41d-44a2-8993-4e129646dea9",
   "metadata": {},
   "outputs": [
    {
     "name": "stdout",
     "output_type": "stream",
     "text": [
      "[[1 3]\n",
      " [2 4]]\n"
     ]
    }
   ],
   "source": [
    "A = np.array([[1, 2], [3, 4]])\n",
    "\n",
    "# Transpose of A\n",
    "A_T = A.T\n",
    "print(A_T)\n",
    "# Output:\n",
    "# [[1 3]\n",
    "#  [2 4]]"
   ]
  },
  {
   "cell_type": "code",
   "execution_count": 112,
   "id": "2bb76b3c-bcc5-4727-b3ae-563dfc747244",
   "metadata": {},
   "outputs": [
    {
     "name": "stdout",
     "output_type": "stream",
     "text": [
      "[[1. 0. 0.]\n",
      " [0. 1. 0.]\n",
      " [0. 0. 1.]]\n"
     ]
    }
   ],
   "source": [
    "# 3x3 Identity matrix\n",
    "\n",
    "I = np.eye(3)\n",
    "print(I)\n",
    "# Output:\n",
    "# [[1. 0. 0.]\n",
    "#  [0. 1. 0.]\n",
    "#  [0. 0. 1.]]"
   ]
  },
  {
   "cell_type": "code",
   "execution_count": 113,
   "id": "caec78e5-4e44-4cad-9fbb-48113c3e85ab",
   "metadata": {},
   "outputs": [
    {
     "name": "stdout",
     "output_type": "stream",
     "text": [
      "[[1 0 0]\n",
      " [0 2 0]\n",
      " [0 0 3]]\n"
     ]
    }
   ],
   "source": [
    "# Create a diagonal matrix\n",
    "\n",
    "diag_matrix = np.diag([1, 2, 3])\n",
    "print(diag_matrix)\n",
    "# Output:\n",
    "# [[1 0 0]\n",
    "#  [0 2 0]\n",
    "#  [0 0 3]]"
   ]
  },
  {
   "cell_type": "code",
   "execution_count": 114,
   "id": "c50d654c-ee23-424b-8a87-749244bc8ac8",
   "metadata": {},
   "outputs": [
    {
     "name": "stdout",
     "output_type": "stream",
     "text": [
      "[[0. 0. 0.]\n",
      " [0. 0. 0.]]\n",
      "[[1. 1.]\n",
      " [1. 1.]\n",
      " [1. 1.]]\n"
     ]
    }
   ],
   "source": [
    "# 2x3 matrix of zeros\n",
    "\n",
    "zeros_matrix = np.zeros((2, 3))\n",
    "print(zeros_matrix)\n",
    "# Output:\n",
    "# [[0. 0. 0.]\n",
    "#  [0. 0. 0.]]\n",
    "\n",
    "# 3x2 matrix of ones\n",
    "\n",
    "ones_matrix = np.ones((3, 2))\n",
    "print(ones_matrix)\n",
    "# Output:\n",
    "# [[1. 1.]\n",
    "#  [1. 1.]\n",
    "#  [1. 1.]]\n"
   ]
  },
  {
   "cell_type": "code",
   "execution_count": 115,
   "id": "d5348e79-e2a2-458f-b82c-e7b050b6b8f6",
   "metadata": {},
   "outputs": [
    {
     "name": "stdout",
     "output_type": "stream",
     "text": [
      "-2.0000000000000004\n"
     ]
    }
   ],
   "source": [
    "# Square matrix\n",
    "A = np.array([[1, 2], [3, 4]])\n",
    "\n",
    "# Determinant of A\n",
    "det_A = np.linalg.det(A)\n",
    "print(det_A)  # Output: -2.0"
   ]
  },
  {
   "cell_type": "code",
   "execution_count": 116,
   "id": "73586cc3-3c02-49c6-89de-ae68285c7477",
   "metadata": {},
   "outputs": [
    {
     "name": "stdout",
     "output_type": "stream",
     "text": [
      "[[-2.   1. ]\n",
      " [ 1.5 -0.5]]\n"
     ]
    }
   ],
   "source": [
    "# Inverse of A\n",
    "A_inv = np.linalg.inv(A)\n",
    "print(A_inv)\n",
    "# Output:\n",
    "# [[-2.   1. ]\n",
    "#  [ 1.5 -0.5]]"
   ]
  },
  {
   "cell_type": "code",
   "execution_count": 117,
   "id": "c1233943-ac78-4704-9dab-21c1a8c81b71",
   "metadata": {},
   "outputs": [
    {
     "name": "stdout",
     "output_type": "stream",
     "text": [
      "[[1 2]\n",
      " [3 4]\n",
      " [5 6]]\n"
     ]
    }
   ],
   "source": [
    "# Original matrix\n",
    "A = np.array([[1, 2, 3], [4, 5, 6]])\n",
    "\n",
    "# Reshape to 3x2 matrix\n",
    "reshaped_A = A.reshape(3, 2)\n",
    "print(reshaped_A)\n",
    "# Output:\n",
    "# [[1 2]\n",
    "#  [3 4]\n",
    "#  [5 6]]"
   ]
  },
  {
   "cell_type": "code",
   "execution_count": 118,
   "id": "ea209386-8619-4cac-a2e3-62bc23f8ad4b",
   "metadata": {},
   "outputs": [
    {
     "name": "stdout",
     "output_type": "stream",
     "text": [
      "[1 2 3 4 5 6]\n"
     ]
    }
   ],
   "source": [
    "# Flatten the matrix\n",
    "flat_A = A.flatten()\n",
    "print(flat_A)\n",
    "# Output: [1 2 3 4 5 6]"
   ]
  },
  {
   "cell_type": "code",
   "execution_count": 119,
   "id": "eabeb062-b155-4588-a42c-4e47b0f511d4",
   "metadata": {},
   "outputs": [
    {
     "name": "stdout",
     "output_type": "stream",
     "text": [
      "[[1 2 5 6]\n",
      " [3 4 7 8]]\n"
     ]
    }
   ],
   "source": [
    "A = np.array([[1, 2], [3, 4]])\n",
    "B = np.array([[5, 6], [7, 8]])\n",
    "\n",
    "# Horizontal stacking\n",
    "C = np.hstack((A, B))\n",
    "print(C)\n",
    "# Output:\n",
    "# [[1 2 5 6]\n",
    "#  [3 4 7 8]]"
   ]
  },
  {
   "cell_type": "code",
   "execution_count": 120,
   "id": "0b41035b-4fdc-4522-9bfa-a82c613cd6b7",
   "metadata": {},
   "outputs": [
    {
     "name": "stdout",
     "output_type": "stream",
     "text": [
      "[[1 2]\n",
      " [3 4]\n",
      " [5 6]\n",
      " [7 8]]\n"
     ]
    }
   ],
   "source": [
    "# Vertical stacking\n",
    "D = np.vstack((A, B))\n",
    "print(D)\n",
    "# Output:\n",
    "# [[1 2]\n",
    "#  [3 4]\n",
    "#  [5 6]\n",
    "#  [7 8]]"
   ]
  },
  {
   "cell_type": "markdown",
   "id": "6d21ac6d-13a8-4b4f-9dc9-9395030ee460",
   "metadata": {},
   "source": [
    "Broadcasting allows NumPy to perform arithmetic operations on arrays of different shapes by expanding the smaller array to match the larger one."
   ]
  },
  {
   "cell_type": "code",
   "execution_count": 121,
   "id": "d8ce70b8-2141-4b72-9807-5be87d439dd8",
   "metadata": {},
   "outputs": [
    {
     "name": "stdout",
     "output_type": "stream",
     "text": [
      "[[11 12]\n",
      " [13 14]]\n"
     ]
    }
   ],
   "source": [
    "A = np.array([[1, 2], [3, 4]])\n",
    "\n",
    "# Add 10 to each element\n",
    "A_new = A + 10\n",
    "print(A_new)\n",
    "# Output:\n",
    "# [[11 12]\n",
    "#  [13 14]]"
   ]
  },
  {
   "cell_type": "code",
   "execution_count": null,
   "id": "076efcfc-a60c-47ec-9b4a-171e4bd29d40",
   "metadata": {},
   "outputs": [],
   "source": []
  }
 ],
 "metadata": {
  "kernelspec": {
   "display_name": "Python 3 (ipykernel)",
   "language": "python",
   "name": "python3"
  },
  "language_info": {
   "codemirror_mode": {
    "name": "ipython",
    "version": 3
   },
   "file_extension": ".py",
   "mimetype": "text/x-python",
   "name": "python",
   "nbconvert_exporter": "python",
   "pygments_lexer": "ipython3",
   "version": "3.9.6"
  }
 },
 "nbformat": 4,
 "nbformat_minor": 5
}
