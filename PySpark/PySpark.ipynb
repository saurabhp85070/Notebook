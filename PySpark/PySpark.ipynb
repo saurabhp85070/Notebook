{
 "cells": [
  {
   "cell_type": "code",
   "execution_count": 1,
   "id": "d20c99aa-eb9b-4eb4-913a-d82241eb9d1b",
   "metadata": {},
   "outputs": [
    {
     "name": "stdout",
     "output_type": "stream",
     "text": [
      "Collecting pyspark\n",
      "  Using cached pyspark-3.5.3.tar.gz (317.3 MB)\n",
      "Collecting py4j==0.10.9.7\n",
      "  Using cached py4j-0.10.9.7-py2.py3-none-any.whl (200 kB)\n",
      "Building wheels for collected packages: pyspark\n",
      "  Building wheel for pyspark (setup.py): started\n",
      "  Building wheel for pyspark (setup.py): still running...\n",
      "  Building wheel for pyspark (setup.py): finished with status 'done'\n",
      "  Created wheel for pyspark: filename=pyspark-3.5.3-py2.py3-none-any.whl size=317840669 sha256=09fdab52e49b529fa43be00e1c6520c3e74176d64e8395f81aa63ce1a3116e27\n",
      "  Stored in directory: c:\\users\\saurabh prakash\\appdata\\local\\pip\\cache\\wheels\\2e\\d2\\18\\6f4f20e8332359f7fffceb6828edcc80ef96f86744192a7bb9\n",
      "Successfully built pyspark\n",
      "Installing collected packages: py4j, pyspark\n",
      "Successfully installed py4j-0.10.9.7 pyspark-3.5.3\n"
     ]
    },
    {
     "name": "stderr",
     "output_type": "stream",
     "text": [
      "WARNING: You are using pip version 21.1.3; however, version 24.2 is available.\n",
      "You should consider upgrading via the 'e:\\notebook project\\env\\scripts\\python.exe -m pip install --upgrade pip' command.\n"
     ]
    }
   ],
   "source": [
    "!pip install pyspark"
   ]
  },
  {
   "cell_type": "code",
   "execution_count": 1,
   "id": "a6736aaa-1a8c-45a9-bf63-7d870c48a034",
   "metadata": {},
   "outputs": [],
   "source": [
    "import pyspark"
   ]
  },
  {
   "cell_type": "code",
   "execution_count": 2,
   "id": "b845e3ce-f9e9-4c56-bde5-5769434b374c",
   "metadata": {
    "scrolled": true
   },
   "outputs": [
    {
     "data": {
      "text/html": [
       "\n",
       "            <div>\n",
       "                <p><b>SparkSession - in-memory</b></p>\n",
       "                \n",
       "        <div>\n",
       "            <p><b>SparkContext</b></p>\n",
       "\n",
       "            <p><a href=\"http://LAPTOP-SRU23534:4040\">Spark UI</a></p>\n",
       "\n",
       "            <dl>\n",
       "              <dt>Version</dt>\n",
       "                <dd><code>v3.5.3</code></dd>\n",
       "              <dt>Master</dt>\n",
       "                <dd><code>local[*]</code></dd>\n",
       "              <dt>AppName</dt>\n",
       "                <dd><code>learning</code></dd>\n",
       "            </dl>\n",
       "        </div>\n",
       "        \n",
       "            </div>\n",
       "        "
      ],
      "text/plain": [
       "<pyspark.sql.session.SparkSession at 0x1b8d1a11430>"
      ]
     },
     "execution_count": 2,
     "metadata": {},
     "output_type": "execute_result"
    }
   ],
   "source": [
    "from pyspark.sql import SparkSession\n",
    "\n",
    "spark = SparkSession.builder.appName(\"learning\").getOrCreate()\n",
    "spark"
   ]
  },
  {
   "cell_type": "code",
   "execution_count": 4,
   "id": "cc861bf4-e8bb-4b1d-ae3e-5bbeae64e071",
   "metadata": {},
   "outputs": [
    {
     "data": {
      "text/plain": [
       "DataFrame[_c0: string, _c1: string, _c2: string, _c3: string, _c4: string]"
      ]
     },
     "execution_count": 4,
     "metadata": {},
     "output_type": "execute_result"
    }
   ],
   "source": [
    "df_ps = spark.read.csv(\"50_Startups.csv\")\n",
    "df_ps"
   ]
  },
  {
   "cell_type": "code",
   "execution_count": 5,
   "id": "eeec9717-8712-4a8d-bf13-b4057d53c6e3",
   "metadata": {},
   "outputs": [
    {
     "name": "stdout",
     "output_type": "stream",
     "text": [
      "+---------+--------------+---------------+----------+---------+\n",
      "|      _c0|           _c1|            _c2|       _c3|      _c4|\n",
      "+---------+--------------+---------------+----------+---------+\n",
      "|R&D Spend|Administration|Marketing Spend|     State|   Profit|\n",
      "| 165349.2|      136897.8|       471784.1|  New York|192261.83|\n",
      "| 162597.7|     151377.59|      443898.53|California|191792.06|\n",
      "|153441.51|     101145.55|      407934.54|   Florida|191050.39|\n",
      "|144372.41|     118671.85|      383199.62|  New York|182901.99|\n",
      "|142107.34|      91391.77|      366168.42|   Florida|166187.94|\n",
      "| 131876.9|      99814.71|      362861.36|  New York|156991.12|\n",
      "|134615.46|     147198.87|      127716.82|California|156122.51|\n",
      "|130298.13|     145530.06|      323876.68|   Florida| 155752.6|\n",
      "|120542.52|     148718.95|      311613.29|  New York|152211.77|\n",
      "|123334.88|     108679.17|      304981.62|California|149759.96|\n",
      "|101913.08|     110594.11|      229160.95|   Florida|146121.95|\n",
      "|100671.96|      91790.61|      249744.55|California| 144259.4|\n",
      "| 93863.75|     127320.38|      249839.44|   Florida|141585.52|\n",
      "| 91992.39|     135495.07|      252664.93|California|134307.35|\n",
      "|119943.24|     156547.42|      256512.92|   Florida|132602.65|\n",
      "|114523.61|     122616.84|      261776.23|  New York|129917.04|\n",
      "| 78013.11|     121597.55|      264346.06|California|126992.93|\n",
      "| 94657.16|     145077.58|      282574.31|  New York|125370.37|\n",
      "| 91749.16|     114175.79|      294919.57|   Florida| 124266.9|\n",
      "+---------+--------------+---------------+----------+---------+\n",
      "only showing top 20 rows\n",
      "\n"
     ]
    }
   ],
   "source": [
    "df_ps.show()"
   ]
  },
  {
   "cell_type": "code",
   "execution_count": 6,
   "id": "593b2be1-a1f4-4cba-a80a-312ec528b801",
   "metadata": {},
   "outputs": [
    {
     "data": {
      "text/plain": [
       "DataFrame[R&D Spend: string, Administration: string, Marketing Spend: string, State: string, Profit: string]"
      ]
     },
     "execution_count": 6,
     "metadata": {},
     "output_type": "execute_result"
    }
   ],
   "source": [
    "df_ps = spark.read.option(\"header\", \"true\").csv(\"50_Startups.csv\")\n",
    "df_ps"
   ]
  },
  {
   "cell_type": "code",
   "execution_count": 7,
   "id": "06354ebb-41bf-461a-8d62-8c15bd67eeac",
   "metadata": {},
   "outputs": [
    {
     "data": {
      "text/plain": [
       "DataFrame[R&D Spend: double, Administration: double, Marketing Spend: double, State: string, Profit: double]"
      ]
     },
     "execution_count": 7,
     "metadata": {},
     "output_type": "execute_result"
    }
   ],
   "source": [
    "df_ps = spark.read.option(\"header\", \"true\").csv(\"50_Startups.csv\", inferSchema=True)\n",
    "df_ps"
   ]
  },
  {
   "cell_type": "code",
   "execution_count": 8,
   "id": "683e10f3-b09c-4375-a416-60ea23231261",
   "metadata": {},
   "outputs": [
    {
     "name": "stdout",
     "output_type": "stream",
     "text": [
      "+---------+--------------+---------------+----------+---------+\n",
      "|R&D Spend|Administration|Marketing Spend|     State|   Profit|\n",
      "+---------+--------------+---------------+----------+---------+\n",
      "| 165349.2|      136897.8|       471784.1|  New York|192261.83|\n",
      "| 162597.7|     151377.59|      443898.53|California|191792.06|\n",
      "|153441.51|     101145.55|      407934.54|   Florida|191050.39|\n",
      "|144372.41|     118671.85|      383199.62|  New York|182901.99|\n",
      "|142107.34|      91391.77|      366168.42|   Florida|166187.94|\n",
      "| 131876.9|      99814.71|      362861.36|  New York|156991.12|\n",
      "|134615.46|     147198.87|      127716.82|California|156122.51|\n",
      "|130298.13|     145530.06|      323876.68|   Florida| 155752.6|\n",
      "|120542.52|     148718.95|      311613.29|  New York|152211.77|\n",
      "|123334.88|     108679.17|      304981.62|California|149759.96|\n",
      "|101913.08|     110594.11|      229160.95|   Florida|146121.95|\n",
      "|100671.96|      91790.61|      249744.55|California| 144259.4|\n",
      "| 93863.75|     127320.38|      249839.44|   Florida|141585.52|\n",
      "| 91992.39|     135495.07|      252664.93|California|134307.35|\n",
      "|119943.24|     156547.42|      256512.92|   Florida|132602.65|\n",
      "|114523.61|     122616.84|      261776.23|  New York|129917.04|\n",
      "| 78013.11|     121597.55|      264346.06|California|126992.93|\n",
      "| 94657.16|     145077.58|      282574.31|  New York|125370.37|\n",
      "| 91749.16|     114175.79|      294919.57|   Florida| 124266.9|\n",
      "|  86419.7|     153514.11|            0.0|  New York|122776.86|\n",
      "+---------+--------------+---------------+----------+---------+\n",
      "only showing top 20 rows\n",
      "\n"
     ]
    }
   ],
   "source": [
    "df_ps.show()"
   ]
  },
  {
   "cell_type": "markdown",
   "id": "8810fcde-02b7-4ebd-a4e5-fdf71044aef4",
   "metadata": {},
   "source": [
    "## reading files"
   ]
  },
  {
   "cell_type": "code",
   "execution_count": 3,
   "id": "756adfdb-13ba-40a9-ad5b-05ef67c60dfa",
   "metadata": {},
   "outputs": [
    {
     "data": {
      "text/plain": [
       "DataFrame[R&D Spend: double, Administration: double, Marketing Spend: double, State: string, Profit: double]"
      ]
     },
     "execution_count": 3,
     "metadata": {},
     "output_type": "execute_result"
    }
   ],
   "source": [
    "df_ps = spark.read.csv(\"50_Startups.csv\", header=True, inferSchema=True)\n",
    "df_ps"
   ]
  },
  {
   "cell_type": "code",
   "execution_count": 4,
   "id": "831a9126-0e56-45f8-9951-03b679a9801a",
   "metadata": {},
   "outputs": [
    {
     "data": {
      "text/plain": [
       "pyspark.sql.dataframe.DataFrame"
      ]
     },
     "execution_count": 4,
     "metadata": {},
     "output_type": "execute_result"
    }
   ],
   "source": [
    "type(df_ps)"
   ]
  },
  {
   "cell_type": "code",
   "execution_count": 5,
   "id": "8f6e8e9d-2bf2-4476-9bfc-1bf93e4fa9b3",
   "metadata": {},
   "outputs": [
    {
     "data": {
      "text/plain": [
       "['R&D Spend', 'Administration', 'Marketing Spend', 'State', 'Profit']"
      ]
     },
     "execution_count": 5,
     "metadata": {},
     "output_type": "execute_result"
    }
   ],
   "source": [
    "df_ps.columns"
   ]
  },
  {
   "cell_type": "code",
   "execution_count": 6,
   "id": "17544e3b-cd75-4128-a546-6eba5460e0d4",
   "metadata": {},
   "outputs": [
    {
     "data": {
      "text/plain": [
       "50"
      ]
     },
     "execution_count": 6,
     "metadata": {},
     "output_type": "execute_result"
    }
   ],
   "source": [
    "df_ps.count() # rows count"
   ]
  },
  {
   "cell_type": "code",
   "execution_count": 7,
   "id": "87391c83-9ed0-4892-85a9-3b8580f36691",
   "metadata": {},
   "outputs": [
    {
     "data": {
      "text/plain": [
       "5"
      ]
     },
     "execution_count": 7,
     "metadata": {},
     "output_type": "execute_result"
    }
   ],
   "source": [
    "len(df_ps.columns) # column count"
   ]
  },
  {
   "cell_type": "code",
   "execution_count": 8,
   "id": "9f9bb4a6-591b-4e33-8667-f48cdd739585",
   "metadata": {},
   "outputs": [
    {
     "name": "stdout",
     "output_type": "stream",
     "text": [
      "+---------+--------------+---------------+----------+---------+\n",
      "|R&D Spend|Administration|Marketing Spend|     State|   Profit|\n",
      "+---------+--------------+---------------+----------+---------+\n",
      "| 165349.2|      136897.8|       471784.1|  New York|192261.83|\n",
      "| 162597.7|     151377.59|      443898.53|California|191792.06|\n",
      "|153441.51|     101145.55|      407934.54|   Florida|191050.39|\n",
      "|144372.41|     118671.85|      383199.62|  New York|182901.99|\n",
      "|142107.34|      91391.77|      366168.42|   Florida|166187.94|\n",
      "| 131876.9|      99814.71|      362861.36|  New York|156991.12|\n",
      "|134615.46|     147198.87|      127716.82|California|156122.51|\n",
      "|130298.13|     145530.06|      323876.68|   Florida| 155752.6|\n",
      "|120542.52|     148718.95|      311613.29|  New York|152211.77|\n",
      "|123334.88|     108679.17|      304981.62|California|149759.96|\n",
      "|101913.08|     110594.11|      229160.95|   Florida|146121.95|\n",
      "|100671.96|      91790.61|      249744.55|California| 144259.4|\n",
      "| 93863.75|     127320.38|      249839.44|   Florida|141585.52|\n",
      "| 91992.39|     135495.07|      252664.93|California|134307.35|\n",
      "|119943.24|     156547.42|      256512.92|   Florida|132602.65|\n",
      "|114523.61|     122616.84|      261776.23|  New York|129917.04|\n",
      "| 78013.11|     121597.55|      264346.06|California|126992.93|\n",
      "| 94657.16|     145077.58|      282574.31|  New York|125370.37|\n",
      "| 91749.16|     114175.79|      294919.57|   Florida| 124266.9|\n",
      "|  86419.7|     153514.11|            0.0|  New York|122776.86|\n",
      "+---------+--------------+---------------+----------+---------+\n",
      "only showing top 20 rows\n",
      "\n"
     ]
    }
   ],
   "source": [
    "df_ps.show()"
   ]
  },
  {
   "cell_type": "code",
   "execution_count": 9,
   "id": "bb94436e-ee0e-49bf-aea5-4f98db3a58ab",
   "metadata": {},
   "outputs": [
    {
     "name": "stdout",
     "output_type": "stream",
     "text": [
      "+---------+--------------+---------------+----------+---------+\n",
      "|R&D Spend|Administration|Marketing Spend|     State|   Profit|\n",
      "+---------+--------------+---------------+----------+---------+\n",
      "| 165349.2|      136897.8|       471784.1|  New York|192261.83|\n",
      "| 162597.7|     151377.59|      443898.53|California|191792.06|\n",
      "|153441.51|     101145.55|      407934.54|   Florida|191050.39|\n",
      "|144372.41|     118671.85|      383199.62|  New York|182901.99|\n",
      "|142107.34|      91391.77|      366168.42|   Florida|166187.94|\n",
      "| 131876.9|      99814.71|      362861.36|  New York|156991.12|\n",
      "|134615.46|     147198.87|      127716.82|California|156122.51|\n",
      "|130298.13|     145530.06|      323876.68|   Florida| 155752.6|\n",
      "|120542.52|     148718.95|      311613.29|  New York|152211.77|\n",
      "|123334.88|     108679.17|      304981.62|California|149759.96|\n",
      "|101913.08|     110594.11|      229160.95|   Florida|146121.95|\n",
      "|100671.96|      91790.61|      249744.55|California| 144259.4|\n",
      "| 93863.75|     127320.38|      249839.44|   Florida|141585.52|\n",
      "| 91992.39|     135495.07|      252664.93|California|134307.35|\n",
      "|119943.24|     156547.42|      256512.92|   Florida|132602.65|\n",
      "|114523.61|     122616.84|      261776.23|  New York|129917.04|\n",
      "| 78013.11|     121597.55|      264346.06|California|126992.93|\n",
      "| 94657.16|     145077.58|      282574.31|  New York|125370.37|\n",
      "| 91749.16|     114175.79|      294919.57|   Florida| 124266.9|\n",
      "|  86419.7|     153514.11|            0.0|  New York|122776.86|\n",
      "| 76253.86|      113867.3|      298664.47|California|118474.03|\n",
      "| 78389.47|     153773.43|      299737.29|  New York|111313.02|\n",
      "| 73994.56|     122782.75|      303319.26|   Florida|110352.25|\n",
      "| 67532.53|     105751.03|      304768.73|   Florida|108733.99|\n",
      "| 77044.01|      99281.34|      140574.81|  New York|108552.04|\n",
      "| 64664.71|     139553.16|      137962.62|California|107404.34|\n",
      "| 75328.87|     144135.98|      134050.07|   Florida|105733.54|\n",
      "|  72107.6|     127864.55|      353183.81|  New York|105008.31|\n",
      "| 66051.52|     182645.56|       118148.2|   Florida|103282.38|\n",
      "| 65605.48|     153032.06|      107138.38|  New York|101004.64|\n",
      "| 61994.48|     115641.28|       91131.24|   Florida| 99937.59|\n",
      "| 61136.38|     152701.92|       88218.23|  New York| 97483.56|\n",
      "| 63408.86|     129219.61|       46085.25|California| 97427.84|\n",
      "| 55493.95|     103057.49|      214634.81|   Florida| 96778.92|\n",
      "| 46426.07|     157693.92|      210797.67|California|  96712.8|\n",
      "| 46014.02|      85047.44|      205517.64|  New York| 96479.51|\n",
      "| 28663.76|     127056.21|      201126.82|   Florida| 90708.19|\n",
      "| 44069.95|      51283.14|      197029.42|California| 89949.14|\n",
      "| 20229.59|      65947.93|       185265.1|  New York| 81229.06|\n",
      "| 38558.51|      82982.09|       174999.3|California| 81005.76|\n",
      "| 28754.33|     118546.05|      172795.67|California| 78239.91|\n",
      "| 27892.92|      84710.77|      164470.71|   Florida| 77798.83|\n",
      "| 23640.93|      96189.63|      148001.11|California| 71498.49|\n",
      "| 15505.73|      127382.3|       35534.17|  New York| 69758.98|\n",
      "| 22177.74|     154806.14|       28334.72|California| 65200.33|\n",
      "|  1000.23|     124153.04|        1903.93|  New York| 64926.08|\n",
      "|  1315.46|     115816.21|      297114.46|   Florida| 49490.75|\n",
      "|      0.0|     135426.92|            0.0|California| 42559.73|\n",
      "|   542.05|      51743.15|            0.0|  New York| 35673.41|\n",
      "|      0.0|      116983.8|       45173.06|California|  14681.4|\n",
      "+---------+--------------+---------------+----------+---------+\n",
      "\n"
     ]
    }
   ],
   "source": [
    "df_ps.show(50)"
   ]
  },
  {
   "cell_type": "code",
   "execution_count": 10,
   "id": "c7f0f81f-0b4f-4a88-a32f-d6b00450cc58",
   "metadata": {},
   "outputs": [
    {
     "data": {
      "text/plain": [
       "Row(R&D Spend=165349.2, Administration=136897.8, Marketing Spend=471784.1, State='New York', Profit=192261.83)"
      ]
     },
     "execution_count": 10,
     "metadata": {},
     "output_type": "execute_result"
    }
   ],
   "source": [
    "df_ps.head()"
   ]
  },
  {
   "cell_type": "code",
   "execution_count": 11,
   "id": "ff1f0272-9725-4714-aa00-37142cf2bc12",
   "metadata": {},
   "outputs": [
    {
     "data": {
      "text/plain": [
       "[Row(R&D Spend=165349.2, Administration=136897.8, Marketing Spend=471784.1, State='New York', Profit=192261.83),\n",
       " Row(R&D Spend=162597.7, Administration=151377.59, Marketing Spend=443898.53, State='California', Profit=191792.06),\n",
       " Row(R&D Spend=153441.51, Administration=101145.55, Marketing Spend=407934.54, State='Florida', Profit=191050.39),\n",
       " Row(R&D Spend=144372.41, Administration=118671.85, Marketing Spend=383199.62, State='New York', Profit=182901.99),\n",
       " Row(R&D Spend=142107.34, Administration=91391.77, Marketing Spend=366168.42, State='Florida', Profit=166187.94)]"
      ]
     },
     "execution_count": 11,
     "metadata": {},
     "output_type": "execute_result"
    }
   ],
   "source": [
    "df_ps.head(5)"
   ]
  },
  {
   "cell_type": "code",
   "execution_count": 12,
   "id": "88f6c6ed-70e5-4c3e-9054-c6951d776130",
   "metadata": {},
   "outputs": [
    {
     "data": {
      "text/plain": [
       "[Row(R&D Spend=1000.23, Administration=124153.04, Marketing Spend=1903.93, State='New York', Profit=64926.08),\n",
       " Row(R&D Spend=1315.46, Administration=115816.21, Marketing Spend=297114.46, State='Florida', Profit=49490.75),\n",
       " Row(R&D Spend=0.0, Administration=135426.92, Marketing Spend=0.0, State='California', Profit=42559.73),\n",
       " Row(R&D Spend=542.05, Administration=51743.15, Marketing Spend=0.0, State='New York', Profit=35673.41),\n",
       " Row(R&D Spend=0.0, Administration=116983.8, Marketing Spend=45173.06, State='California', Profit=14681.4)]"
      ]
     },
     "execution_count": 12,
     "metadata": {},
     "output_type": "execute_result"
    }
   ],
   "source": [
    "df_ps.tail(5)"
   ]
  },
  {
   "cell_type": "code",
   "execution_count": 13,
   "id": "72924ef1-74fd-43ee-a0d5-5b024b843a1f",
   "metadata": {},
   "outputs": [
    {
     "data": {
      "text/plain": [
       "[('R&D Spend', 'double'),\n",
       " ('Administration', 'double'),\n",
       " ('Marketing Spend', 'double'),\n",
       " ('State', 'string'),\n",
       " ('Profit', 'double')]"
      ]
     },
     "execution_count": 13,
     "metadata": {},
     "output_type": "execute_result"
    }
   ],
   "source": [
    "df_ps.dtypes"
   ]
  },
  {
   "cell_type": "code",
   "execution_count": 14,
   "id": "f1f9a832-27d8-47ed-8654-70ade2ecb4d9",
   "metadata": {},
   "outputs": [
    {
     "name": "stdout",
     "output_type": "stream",
     "text": [
      "root\n",
      " |-- R&D Spend: double (nullable = true)\n",
      " |-- Administration: double (nullable = true)\n",
      " |-- Marketing Spend: double (nullable = true)\n",
      " |-- State: string (nullable = true)\n",
      " |-- Profit: double (nullable = true)\n",
      "\n"
     ]
    }
   ],
   "source": [
    "df_ps.printSchema()"
   ]
  },
  {
   "cell_type": "markdown",
   "id": "c391f285-9ecc-4daa-9814-487264dec0df",
   "metadata": {},
   "source": [
    "## indexing\n",
    "\n",
    "In PySpark, DataFrames don't have row-based indexing like pandas (i.e., no iloc or loc). Instead, PySpark operates on distributed data, and rows are not stored in a specific order. However, there are several ways to simulate or achieve similar functionality to indexing, depending on what you want to achieve"
   ]
  },
  {
   "cell_type": "code",
   "execution_count": 15,
   "id": "7356efbf-2268-4bc7-a395-0db9f208cd3f",
   "metadata": {},
   "outputs": [
    {
     "name": "stdout",
     "output_type": "stream",
     "text": [
      "+---------+--------------+---------------+----------+---------+\n",
      "|R&D Spend|Administration|Marketing Spend|     State|   Profit|\n",
      "+---------+--------------+---------------+----------+---------+\n",
      "| 165349.2|      136897.8|       471784.1|  New York|192261.83|\n",
      "| 162597.7|     151377.59|      443898.53|California|191792.06|\n",
      "|153441.51|     101145.55|      407934.54|   Florida|191050.39|\n",
      "|144372.41|     118671.85|      383199.62|  New York|182901.99|\n",
      "|142107.34|      91391.77|      366168.42|   Florida|166187.94|\n",
      "| 131876.9|      99814.71|      362861.36|  New York|156991.12|\n",
      "|134615.46|     147198.87|      127716.82|California|156122.51|\n",
      "|130298.13|     145530.06|      323876.68|   Florida| 155752.6|\n",
      "|120542.52|     148718.95|      311613.29|  New York|152211.77|\n",
      "|123334.88|     108679.17|      304981.62|California|149759.96|\n",
      "+---------+--------------+---------------+----------+---------+\n",
      "\n"
     ]
    }
   ],
   "source": [
    "df_ps.limit(10).show()  # Selects the first 10 rows"
   ]
  },
  {
   "cell_type": "code",
   "execution_count": 16,
   "id": "adbd5caf-92cd-448a-b43a-eb84ee06ef39",
   "metadata": {},
   "outputs": [
    {
     "name": "stdout",
     "output_type": "stream",
     "text": [
      "+---------+--------------+---------------+----------+--------+\n",
      "|R&D Spend|Administration|Marketing Spend|     State|  Profit|\n",
      "+---------+--------------+---------------+----------+--------+\n",
      "|      0.0|      116983.8|       45173.06|California| 14681.4|\n",
      "|   542.05|      51743.15|            0.0|  New York|35673.41|\n",
      "|      0.0|     135426.92|            0.0|California|42559.73|\n",
      "|  1315.46|     115816.21|      297114.46|   Florida|49490.75|\n",
      "|  1000.23|     124153.04|        1903.93|  New York|64926.08|\n",
      "| 22177.74|     154806.14|       28334.72|California|65200.33|\n",
      "| 15505.73|      127382.3|       35534.17|  New York|69758.98|\n",
      "| 23640.93|      96189.63|      148001.11|California|71498.49|\n",
      "| 27892.92|      84710.77|      164470.71|   Florida|77798.83|\n",
      "| 28754.33|     118546.05|      172795.67|California|78239.91|\n",
      "+---------+--------------+---------------+----------+--------+\n",
      "\n"
     ]
    }
   ],
   "source": [
    "df_ps.orderBy(\"Profit\").limit(10).show()  # Top 10 rows ordered by column_name"
   ]
  },
  {
   "cell_type": "markdown",
   "id": "cf8c823c-c534-47ce-8b7d-d583ad0d429c",
   "metadata": {},
   "source": [
    "## selecting column or columns"
   ]
  },
  {
   "cell_type": "code",
   "execution_count": 17,
   "id": "c894b457-1033-4fa8-b38c-a50a2e076b48",
   "metadata": {},
   "outputs": [
    {
     "name": "stdout",
     "output_type": "stream",
     "text": [
      "+----------+\n",
      "|     State|\n",
      "+----------+\n",
      "|  New York|\n",
      "|California|\n",
      "|   Florida|\n",
      "|  New York|\n",
      "|   Florida|\n",
      "|  New York|\n",
      "|California|\n",
      "|   Florida|\n",
      "|  New York|\n",
      "|California|\n",
      "|   Florida|\n",
      "|California|\n",
      "|   Florida|\n",
      "|California|\n",
      "|   Florida|\n",
      "|  New York|\n",
      "|California|\n",
      "|  New York|\n",
      "|   Florida|\n",
      "|  New York|\n",
      "+----------+\n",
      "only showing top 20 rows\n",
      "\n"
     ]
    }
   ],
   "source": [
    "df_ps.select(\"State\").show()"
   ]
  },
  {
   "cell_type": "code",
   "execution_count": 18,
   "id": "313af9c1-49d3-46f2-b1c1-19f5b3f5cfc6",
   "metadata": {},
   "outputs": [
    {
     "name": "stdout",
     "output_type": "stream",
     "text": [
      "+---------------+----------+---------+\n",
      "|Marketing Spend|     State|   Profit|\n",
      "+---------------+----------+---------+\n",
      "|       471784.1|  New York|192261.83|\n",
      "|      443898.53|California|191792.06|\n",
      "|      407934.54|   Florida|191050.39|\n",
      "|      383199.62|  New York|182901.99|\n",
      "|      366168.42|   Florida|166187.94|\n",
      "|      362861.36|  New York|156991.12|\n",
      "|      127716.82|California|156122.51|\n",
      "|      323876.68|   Florida| 155752.6|\n",
      "|      311613.29|  New York|152211.77|\n",
      "|      304981.62|California|149759.96|\n",
      "|      229160.95|   Florida|146121.95|\n",
      "|      249744.55|California| 144259.4|\n",
      "|      249839.44|   Florida|141585.52|\n",
      "|      252664.93|California|134307.35|\n",
      "|      256512.92|   Florida|132602.65|\n",
      "|      261776.23|  New York|129917.04|\n",
      "|      264346.06|California|126992.93|\n",
      "|      282574.31|  New York|125370.37|\n",
      "|      294919.57|   Florida| 124266.9|\n",
      "|            0.0|  New York|122776.86|\n",
      "+---------------+----------+---------+\n",
      "only showing top 20 rows\n",
      "\n"
     ]
    }
   ],
   "source": [
    "df_ps.select([\"Marketing Spend\", \"State\", \"Profit\"]).show()"
   ]
  },
  {
   "cell_type": "code",
   "execution_count": 19,
   "id": "5b767d6a-61ea-44a2-8eea-e852b8ea2f28",
   "metadata": {},
   "outputs": [
    {
     "data": {
      "text/plain": [
       "Column<'Profit'>"
      ]
     },
     "execution_count": 19,
     "metadata": {},
     "output_type": "execute_result"
    }
   ],
   "source": [
    "df_ps[\"Profit\"]"
   ]
  },
  {
   "cell_type": "code",
   "execution_count": 20,
   "id": "1ece6686-f50c-45f5-86e0-5a714ce67826",
   "metadata": {},
   "outputs": [
    {
     "ename": "TypeError",
     "evalue": "'Column' object is not callable",
     "output_type": "error",
     "traceback": [
      "\u001b[1;31m---------------------------------------------------------------------------\u001b[0m",
      "\u001b[1;31mTypeError\u001b[0m                                 Traceback (most recent call last)",
      "Cell \u001b[1;32mIn[20], line 1\u001b[0m\n\u001b[1;32m----> 1\u001b[0m \u001b[43mdf_ps\u001b[49m\u001b[43m[\u001b[49m\u001b[38;5;124;43m\"\u001b[39;49m\u001b[38;5;124;43mProfit\u001b[39;49m\u001b[38;5;124;43m\"\u001b[39;49m\u001b[43m]\u001b[49m\u001b[38;5;241;43m.\u001b[39;49m\u001b[43mshow\u001b[49m\u001b[43m(\u001b[49m\u001b[43m)\u001b[49m \u001b[38;5;66;03m# Error\u001b[39;00m\n",
      "\u001b[1;31mTypeError\u001b[0m: 'Column' object is not callable"
     ]
    }
   ],
   "source": [
    "df_ps[\"Profit\"].show() # Error"
   ]
  },
  {
   "cell_type": "code",
   "execution_count": null,
   "id": "42fb71aa-ae32-4a41-8d1b-cab8ea76b30c",
   "metadata": {},
   "outputs": [],
   "source": [
    "df_ps.describe().show()"
   ]
  },
  {
   "cell_type": "markdown",
   "id": "7638fd68-db85-4e60-a9f9-d6d8df341c71",
   "metadata": {},
   "source": [
    "## adding column or columns"
   ]
  },
  {
   "cell_type": "code",
   "execution_count": 21,
   "id": "a522f866-fb76-45a2-bb6f-14735408c6ef",
   "metadata": {},
   "outputs": [
    {
     "name": "stdout",
     "output_type": "stream",
     "text": [
      "+---------+--------------+---------------+----------+---------+----------+\n",
      "|R&D Spend|Administration|Marketing Spend|     State|   Profit|New column|\n",
      "+---------+--------------+---------------+----------+---------+----------+\n",
      "| 165349.2|      136897.8|       471784.1|  New York|192261.83|      NULL|\n",
      "| 162597.7|     151377.59|      443898.53|California|191792.06|      NULL|\n",
      "|153441.51|     101145.55|      407934.54|   Florida|191050.39|      NULL|\n",
      "|144372.41|     118671.85|      383199.62|  New York|182901.99|      NULL|\n",
      "|142107.34|      91391.77|      366168.42|   Florida|166187.94|      NULL|\n",
      "| 131876.9|      99814.71|      362861.36|  New York|156991.12|      NULL|\n",
      "|134615.46|     147198.87|      127716.82|California|156122.51|      NULL|\n",
      "|130298.13|     145530.06|      323876.68|   Florida| 155752.6|      NULL|\n",
      "|120542.52|     148718.95|      311613.29|  New York|152211.77|      NULL|\n",
      "|123334.88|     108679.17|      304981.62|California|149759.96|      NULL|\n",
      "|101913.08|     110594.11|      229160.95|   Florida|146121.95|      NULL|\n",
      "|100671.96|      91790.61|      249744.55|California| 144259.4|      NULL|\n",
      "| 93863.75|     127320.38|      249839.44|   Florida|141585.52|      NULL|\n",
      "| 91992.39|     135495.07|      252664.93|California|134307.35|      NULL|\n",
      "|119943.24|     156547.42|      256512.92|   Florida|132602.65|      NULL|\n",
      "|114523.61|     122616.84|      261776.23|  New York|129917.04|      NULL|\n",
      "| 78013.11|     121597.55|      264346.06|California|126992.93|      NULL|\n",
      "| 94657.16|     145077.58|      282574.31|  New York|125370.37|      NULL|\n",
      "| 91749.16|     114175.79|      294919.57|   Florida| 124266.9|      NULL|\n",
      "|  86419.7|     153514.11|            0.0|  New York|122776.86|      NULL|\n",
      "+---------+--------------+---------------+----------+---------+----------+\n",
      "only showing top 20 rows\n",
      "\n"
     ]
    }
   ],
   "source": [
    "from pyspark.sql import functions as F\n",
    "\n",
    "df_ps = df_ps.withColumn(\"New column\", F.lit(None))\n",
    "df_ps.show()"
   ]
  },
  {
   "cell_type": "code",
   "execution_count": 22,
   "id": "ec70a1fb-e224-4395-bf4c-23be5cc1fcbb",
   "metadata": {},
   "outputs": [
    {
     "name": "stdout",
     "output_type": "stream",
     "text": [
      "+---------+--------------+---------------+----------+---------+----------+--------+--------+\n",
      "|R&D Spend|Administration|Marketing Spend|     State|   Profit|New column|new_col1|new_col2|\n",
      "+---------+--------------+---------------+----------+---------+----------+--------+--------+\n",
      "| 165349.2|      136897.8|       471784.1|  New York|192261.83|      NULL|    val1|       0|\n",
      "| 162597.7|     151377.59|      443898.53|California|191792.06|      NULL|    val1|       0|\n",
      "|153441.51|     101145.55|      407934.54|   Florida|191050.39|      NULL|    val1|       0|\n",
      "|144372.41|     118671.85|      383199.62|  New York|182901.99|      NULL|    val1|       0|\n",
      "|142107.34|      91391.77|      366168.42|   Florida|166187.94|      NULL|    val1|       0|\n",
      "| 131876.9|      99814.71|      362861.36|  New York|156991.12|      NULL|    val1|       0|\n",
      "|134615.46|     147198.87|      127716.82|California|156122.51|      NULL|    val1|       0|\n",
      "|130298.13|     145530.06|      323876.68|   Florida| 155752.6|      NULL|    val1|       0|\n",
      "|120542.52|     148718.95|      311613.29|  New York|152211.77|      NULL|    val1|       0|\n",
      "|123334.88|     108679.17|      304981.62|California|149759.96|      NULL|    val1|       0|\n",
      "|101913.08|     110594.11|      229160.95|   Florida|146121.95|      NULL|    val1|       0|\n",
      "|100671.96|      91790.61|      249744.55|California| 144259.4|      NULL|    val1|       0|\n",
      "| 93863.75|     127320.38|      249839.44|   Florida|141585.52|      NULL|    val1|       0|\n",
      "| 91992.39|     135495.07|      252664.93|California|134307.35|      NULL|    val1|       0|\n",
      "|119943.24|     156547.42|      256512.92|   Florida|132602.65|      NULL|    val1|       0|\n",
      "|114523.61|     122616.84|      261776.23|  New York|129917.04|      NULL|    val1|       0|\n",
      "| 78013.11|     121597.55|      264346.06|California|126992.93|      NULL|    val1|       0|\n",
      "| 94657.16|     145077.58|      282574.31|  New York|125370.37|      NULL|    val1|       0|\n",
      "| 91749.16|     114175.79|      294919.57|   Florida| 124266.9|      NULL|    val1|       0|\n",
      "|  86419.7|     153514.11|            0.0|  New York|122776.86|      NULL|    val1|       0|\n",
      "+---------+--------------+---------------+----------+---------+----------+--------+--------+\n",
      "only showing top 20 rows\n",
      "\n"
     ]
    }
   ],
   "source": [
    "df_ps = df_ps.withColumn(\"new_col1\", F.lit(\"val1\")).withColumn(\"new_col2\", F.lit(0))\n",
    "df_ps.show()"
   ]
  },
  {
   "cell_type": "code",
   "execution_count": 23,
   "id": "8c4959a0-ba71-47c4-8bde-26143f44ec7b",
   "metadata": {},
   "outputs": [
    {
     "name": "stdout",
     "output_type": "stream",
     "text": [
      "+---------+--------------+---------------+----------+---------+----------+--------+--------+----------+\n",
      "|R&D Spend|Administration|Marketing Spend|     State|   Profit|New column|new_col1|new_col2|new_column|\n",
      "+---------+--------------+---------------+----------+---------+----------+--------+--------+----------+\n",
      "| 165349.2|      136897.8|       471784.1|  New York|192261.83|      NULL|    val1|       0|         2|\n",
      "| 162597.7|     151377.59|      443898.53|California|191792.06|      NULL|    val1|       0|         2|\n",
      "|153441.51|     101145.55|      407934.54|   Florida|191050.39|      NULL|    val1|       0|         2|\n",
      "|144372.41|     118671.85|      383199.62|  New York|182901.99|      NULL|    val1|       0|         2|\n",
      "|142107.34|      91391.77|      366168.42|   Florida|166187.94|      NULL|    val1|       0|         2|\n",
      "| 131876.9|      99814.71|      362861.36|  New York|156991.12|      NULL|    val1|       0|         2|\n",
      "|134615.46|     147198.87|      127716.82|California|156122.51|      NULL|    val1|       0|         2|\n",
      "|130298.13|     145530.06|      323876.68|   Florida| 155752.6|      NULL|    val1|       0|         2|\n",
      "|120542.52|     148718.95|      311613.29|  New York|152211.77|      NULL|    val1|       0|         2|\n",
      "|123334.88|     108679.17|      304981.62|California|149759.96|      NULL|    val1|       0|         2|\n",
      "|101913.08|     110594.11|      229160.95|   Florida|146121.95|      NULL|    val1|       0|         2|\n",
      "|100671.96|      91790.61|      249744.55|California| 144259.4|      NULL|    val1|       0|         2|\n",
      "| 93863.75|     127320.38|      249839.44|   Florida|141585.52|      NULL|    val1|       0|         2|\n",
      "| 91992.39|     135495.07|      252664.93|California|134307.35|      NULL|    val1|       0|         2|\n",
      "|119943.24|     156547.42|      256512.92|   Florida|132602.65|      NULL|    val1|       0|         2|\n",
      "|114523.61|     122616.84|      261776.23|  New York|129917.04|      NULL|    val1|       0|         2|\n",
      "| 78013.11|     121597.55|      264346.06|California|126992.93|      NULL|    val1|       0|         2|\n",
      "| 94657.16|     145077.58|      282574.31|  New York|125370.37|      NULL|    val1|       0|         2|\n",
      "| 91749.16|     114175.79|      294919.57|   Florida| 124266.9|      NULL|    val1|       0|         2|\n",
      "|  86419.7|     153514.11|            0.0|  New York|122776.86|      NULL|    val1|       0|         2|\n",
      "+---------+--------------+---------------+----------+---------+----------+--------+--------+----------+\n",
      "only showing top 20 rows\n",
      "\n"
     ]
    }
   ],
   "source": [
    "from pyspark.sql.functions import col\n",
    "\n",
    "# Add a new column \"new_column\" which is twice the value of \"existing_column\"\n",
    "df_ps = df_ps.withColumn(\"new_column\", col(\"new_col2\") + 2)\n",
    "df_ps.show()"
   ]
  },
  {
   "cell_type": "code",
   "execution_count": 24,
   "id": "aff0c48c-e109-499b-aaae-88b4a2d7bf8e",
   "metadata": {},
   "outputs": [
    {
     "name": "stdout",
     "output_type": "stream",
     "text": [
      "+---------+--------------+---------------+----------+---------+----------+--------+--------+----------+------------------+\n",
      "|R&D Spend|Administration|Marketing Spend|     State|   Profit|New column|new_col1|new_col2|new_column| Total Expenditure|\n",
      "+---------+--------------+---------------+----------+---------+----------+--------+--------+----------+------------------+\n",
      "| 165349.2|      136897.8|       471784.1|  New York|192261.83|      NULL|    val1|       0|         2|          774031.1|\n",
      "| 162597.7|     151377.59|      443898.53|California|191792.06|      NULL|    val1|       0|         2| 757873.8200000001|\n",
      "|153441.51|     101145.55|      407934.54|   Florida|191050.39|      NULL|    val1|       0|         2|          662521.6|\n",
      "|144372.41|     118671.85|      383199.62|  New York|182901.99|      NULL|    val1|       0|         2|         646243.88|\n",
      "|142107.34|      91391.77|      366168.42|   Florida|166187.94|      NULL|    val1|       0|         2|         599667.53|\n",
      "| 131876.9|      99814.71|      362861.36|  New York|156991.12|      NULL|    val1|       0|         2|         594552.97|\n",
      "|134615.46|     147198.87|      127716.82|California|156122.51|      NULL|    val1|       0|         2|409531.14999999997|\n",
      "|130298.13|     145530.06|      323876.68|   Florida| 155752.6|      NULL|    val1|       0|         2|         599704.87|\n",
      "|120542.52|     148718.95|      311613.29|  New York|152211.77|      NULL|    val1|       0|         2|         580874.76|\n",
      "|123334.88|     108679.17|      304981.62|California|149759.96|      NULL|    val1|       0|         2| 536995.6699999999|\n",
      "|101913.08|     110594.11|      229160.95|   Florida|146121.95|      NULL|    val1|       0|         2|         441668.14|\n",
      "|100671.96|      91790.61|      249744.55|California| 144259.4|      NULL|    val1|       0|         2|         442207.12|\n",
      "| 93863.75|     127320.38|      249839.44|   Florida|141585.52|      NULL|    val1|       0|         2|         471023.57|\n",
      "| 91992.39|     135495.07|      252664.93|California|134307.35|      NULL|    val1|       0|         2|         480152.39|\n",
      "|119943.24|     156547.42|      256512.92|   Florida|132602.65|      NULL|    val1|       0|         2| 533003.5800000001|\n",
      "|114523.61|     122616.84|      261776.23|  New York|129917.04|      NULL|    val1|       0|         2|498916.68000000005|\n",
      "| 78013.11|     121597.55|      264346.06|California|126992.93|      NULL|    val1|       0|         2|         463956.72|\n",
      "| 94657.16|     145077.58|      282574.31|  New York|125370.37|      NULL|    val1|       0|         2|         522309.05|\n",
      "| 91749.16|     114175.79|      294919.57|   Florida| 124266.9|      NULL|    val1|       0|         2|         500844.52|\n",
      "|  86419.7|     153514.11|            0.0|  New York|122776.86|      NULL|    val1|       0|         2|         239933.81|\n",
      "+---------+--------------+---------------+----------+---------+----------+--------+--------+----------+------------------+\n",
      "only showing top 20 rows\n",
      "\n"
     ]
    }
   ],
   "source": [
    "# Add a Column with a Calculation\n",
    "\n",
    "df_ps = df_ps.withColumn(\"Total Expenditure\", df_ps[\"R&D Spend\"]+df_ps[\"Administration\"]+df_ps[\"Marketing Spend\"])\n",
    "df_ps.show()"
   ]
  },
  {
   "cell_type": "code",
   "execution_count": 25,
   "id": "a700c297-7f0a-4ebb-940b-cb58c162009c",
   "metadata": {},
   "outputs": [
    {
     "name": "stdout",
     "output_type": "stream",
     "text": [
      "+---------+--------------+---------------+----------+---------+----------+--------+--------+----------+------------------+-----------+-----------+\n",
      "|R&D Spend|Administration|Marketing Spend|     State|   Profit|New column|new_col1|new_col2|new_column| Total Expenditure|new_column1|new_column2|\n",
      "+---------+--------------+---------------+----------+---------+----------+--------+--------+----------+------------------+-----------+-----------+\n",
      "| 165349.2|      136897.8|       471784.1|  New York|192261.83|      NULL|    val1|       0|         2|          774031.1|          4|          5|\n",
      "| 162597.7|     151377.59|      443898.53|California|191792.06|      NULL|    val1|       0|         2| 757873.8200000001|          4|          5|\n",
      "|153441.51|     101145.55|      407934.54|   Florida|191050.39|      NULL|    val1|       0|         2|          662521.6|          4|          5|\n",
      "|144372.41|     118671.85|      383199.62|  New York|182901.99|      NULL|    val1|       0|         2|         646243.88|          4|          5|\n",
      "|142107.34|      91391.77|      366168.42|   Florida|166187.94|      NULL|    val1|       0|         2|         599667.53|          4|          5|\n",
      "| 131876.9|      99814.71|      362861.36|  New York|156991.12|      NULL|    val1|       0|         2|         594552.97|          4|          5|\n",
      "|134615.46|     147198.87|      127716.82|California|156122.51|      NULL|    val1|       0|         2|409531.14999999997|          4|          5|\n",
      "|130298.13|     145530.06|      323876.68|   Florida| 155752.6|      NULL|    val1|       0|         2|         599704.87|          4|          5|\n",
      "|120542.52|     148718.95|      311613.29|  New York|152211.77|      NULL|    val1|       0|         2|         580874.76|          4|          5|\n",
      "|123334.88|     108679.17|      304981.62|California|149759.96|      NULL|    val1|       0|         2| 536995.6699999999|          4|          5|\n",
      "|101913.08|     110594.11|      229160.95|   Florida|146121.95|      NULL|    val1|       0|         2|         441668.14|          4|          5|\n",
      "|100671.96|      91790.61|      249744.55|California| 144259.4|      NULL|    val1|       0|         2|         442207.12|          4|          5|\n",
      "| 93863.75|     127320.38|      249839.44|   Florida|141585.52|      NULL|    val1|       0|         2|         471023.57|          4|          5|\n",
      "| 91992.39|     135495.07|      252664.93|California|134307.35|      NULL|    val1|       0|         2|         480152.39|          4|          5|\n",
      "|119943.24|     156547.42|      256512.92|   Florida|132602.65|      NULL|    val1|       0|         2| 533003.5800000001|          4|          5|\n",
      "|114523.61|     122616.84|      261776.23|  New York|129917.04|      NULL|    val1|       0|         2|498916.68000000005|          4|          5|\n",
      "| 78013.11|     121597.55|      264346.06|California|126992.93|      NULL|    val1|       0|         2|         463956.72|          4|          5|\n",
      "| 94657.16|     145077.58|      282574.31|  New York|125370.37|      NULL|    val1|       0|         2|         522309.05|          4|          5|\n",
      "| 91749.16|     114175.79|      294919.57|   Florida| 124266.9|      NULL|    val1|       0|         2|         500844.52|          4|          5|\n",
      "|  86419.7|     153514.11|            0.0|  New York|122776.86|      NULL|    val1|       0|         2|         239933.81|          4|          5|\n",
      "+---------+--------------+---------------+----------+---------+----------+--------+--------+----------+------------------+-----------+-----------+\n",
      "only showing top 20 rows\n",
      "\n"
     ]
    }
   ],
   "source": [
    "# Add two new columns\n",
    "df_ps = df_ps.withColumn(\"new_column1\", col(\"new_column\") * 2) \\\n",
    "       .withColumn(\"new_column2\", col(\"new_col2\") + 5)\n",
    "df_ps.show()\n"
   ]
  },
  {
   "cell_type": "markdown",
   "id": "d09e1fa8-c774-4ca2-a23b-1b538b5dae35",
   "metadata": {},
   "source": [
    "## dropping column or columns"
   ]
  },
  {
   "cell_type": "code",
   "execution_count": 26,
   "id": "4363af24-8aa0-4c3b-be8e-4e827fc5d7ff",
   "metadata": {},
   "outputs": [
    {
     "name": "stdout",
     "output_type": "stream",
     "text": [
      "+---------+--------------+---------------+----------+---------+----------+--------+--------+----------+------------------+-----------+\n",
      "|R&D Spend|Administration|Marketing Spend|     State|   Profit|New column|new_col1|new_col2|new_column| Total Expenditure|new_column1|\n",
      "+---------+--------------+---------------+----------+---------+----------+--------+--------+----------+------------------+-----------+\n",
      "| 165349.2|      136897.8|       471784.1|  New York|192261.83|      NULL|    val1|       0|         2|          774031.1|          4|\n",
      "| 162597.7|     151377.59|      443898.53|California|191792.06|      NULL|    val1|       0|         2| 757873.8200000001|          4|\n",
      "|153441.51|     101145.55|      407934.54|   Florida|191050.39|      NULL|    val1|       0|         2|          662521.6|          4|\n",
      "|144372.41|     118671.85|      383199.62|  New York|182901.99|      NULL|    val1|       0|         2|         646243.88|          4|\n",
      "|142107.34|      91391.77|      366168.42|   Florida|166187.94|      NULL|    val1|       0|         2|         599667.53|          4|\n",
      "| 131876.9|      99814.71|      362861.36|  New York|156991.12|      NULL|    val1|       0|         2|         594552.97|          4|\n",
      "|134615.46|     147198.87|      127716.82|California|156122.51|      NULL|    val1|       0|         2|409531.14999999997|          4|\n",
      "|130298.13|     145530.06|      323876.68|   Florida| 155752.6|      NULL|    val1|       0|         2|         599704.87|          4|\n",
      "|120542.52|     148718.95|      311613.29|  New York|152211.77|      NULL|    val1|       0|         2|         580874.76|          4|\n",
      "|123334.88|     108679.17|      304981.62|California|149759.96|      NULL|    val1|       0|         2| 536995.6699999999|          4|\n",
      "|101913.08|     110594.11|      229160.95|   Florida|146121.95|      NULL|    val1|       0|         2|         441668.14|          4|\n",
      "|100671.96|      91790.61|      249744.55|California| 144259.4|      NULL|    val1|       0|         2|         442207.12|          4|\n",
      "| 93863.75|     127320.38|      249839.44|   Florida|141585.52|      NULL|    val1|       0|         2|         471023.57|          4|\n",
      "| 91992.39|     135495.07|      252664.93|California|134307.35|      NULL|    val1|       0|         2|         480152.39|          4|\n",
      "|119943.24|     156547.42|      256512.92|   Florida|132602.65|      NULL|    val1|       0|         2| 533003.5800000001|          4|\n",
      "|114523.61|     122616.84|      261776.23|  New York|129917.04|      NULL|    val1|       0|         2|498916.68000000005|          4|\n",
      "| 78013.11|     121597.55|      264346.06|California|126992.93|      NULL|    val1|       0|         2|         463956.72|          4|\n",
      "| 94657.16|     145077.58|      282574.31|  New York|125370.37|      NULL|    val1|       0|         2|         522309.05|          4|\n",
      "| 91749.16|     114175.79|      294919.57|   Florida| 124266.9|      NULL|    val1|       0|         2|         500844.52|          4|\n",
      "|  86419.7|     153514.11|            0.0|  New York|122776.86|      NULL|    val1|       0|         2|         239933.81|          4|\n",
      "+---------+--------------+---------------+----------+---------+----------+--------+--------+----------+------------------+-----------+\n",
      "only showing top 20 rows\n",
      "\n"
     ]
    }
   ],
   "source": [
    "df_ps = df_ps.drop(\"new_column2\")\n",
    "df_ps.show()"
   ]
  },
  {
   "cell_type": "code",
   "execution_count": 27,
   "id": "5199c3fb-2d3e-43dc-a134-999e9d681109",
   "metadata": {},
   "outputs": [
    {
     "name": "stdout",
     "output_type": "stream",
     "text": [
      "+---------+--------------+---------------+----------+---------+------------------+\n",
      "|R&D Spend|Administration|Marketing Spend|     State|   Profit| Total Expenditure|\n",
      "+---------+--------------+---------------+----------+---------+------------------+\n",
      "| 165349.2|      136897.8|       471784.1|  New York|192261.83|          774031.1|\n",
      "| 162597.7|     151377.59|      443898.53|California|191792.06| 757873.8200000001|\n",
      "|153441.51|     101145.55|      407934.54|   Florida|191050.39|          662521.6|\n",
      "|144372.41|     118671.85|      383199.62|  New York|182901.99|         646243.88|\n",
      "|142107.34|      91391.77|      366168.42|   Florida|166187.94|         599667.53|\n",
      "| 131876.9|      99814.71|      362861.36|  New York|156991.12|         594552.97|\n",
      "|134615.46|     147198.87|      127716.82|California|156122.51|409531.14999999997|\n",
      "|130298.13|     145530.06|      323876.68|   Florida| 155752.6|         599704.87|\n",
      "|120542.52|     148718.95|      311613.29|  New York|152211.77|         580874.76|\n",
      "|123334.88|     108679.17|      304981.62|California|149759.96| 536995.6699999999|\n",
      "|101913.08|     110594.11|      229160.95|   Florida|146121.95|         441668.14|\n",
      "|100671.96|      91790.61|      249744.55|California| 144259.4|         442207.12|\n",
      "| 93863.75|     127320.38|      249839.44|   Florida|141585.52|         471023.57|\n",
      "| 91992.39|     135495.07|      252664.93|California|134307.35|         480152.39|\n",
      "|119943.24|     156547.42|      256512.92|   Florida|132602.65| 533003.5800000001|\n",
      "|114523.61|     122616.84|      261776.23|  New York|129917.04|498916.68000000005|\n",
      "| 78013.11|     121597.55|      264346.06|California|126992.93|         463956.72|\n",
      "| 94657.16|     145077.58|      282574.31|  New York|125370.37|         522309.05|\n",
      "| 91749.16|     114175.79|      294919.57|   Florida| 124266.9|         500844.52|\n",
      "|  86419.7|     153514.11|            0.0|  New York|122776.86|         239933.81|\n",
      "+---------+--------------+---------------+----------+---------+------------------+\n",
      "only showing top 20 rows\n",
      "\n"
     ]
    }
   ],
   "source": [
    "df_ps = df_ps.drop(\"New column\", \"new_col1\", \"new_col2\", \"new_column\", \"new_column1\")\n",
    "df_ps.show()"
   ]
  },
  {
   "cell_type": "markdown",
   "id": "411a7b1c-c8f5-4b81-aa52-d66fdabf7c72",
   "metadata": {},
   "source": [
    "## renaming column or columns"
   ]
  },
  {
   "cell_type": "code",
   "execution_count": 28,
   "id": "06ec5e5c-016c-4440-a584-317cd62b796b",
   "metadata": {},
   "outputs": [
    {
     "name": "stdout",
     "output_type": "stream",
     "text": [
      "+---------+--------------+---------------+----------+---------+------------------+\n",
      "|R&D Spend|Administration|Marketing Spend|     State|   Profit|       Total Spent|\n",
      "+---------+--------------+---------------+----------+---------+------------------+\n",
      "| 165349.2|      136897.8|       471784.1|  New York|192261.83|          774031.1|\n",
      "| 162597.7|     151377.59|      443898.53|California|191792.06| 757873.8200000001|\n",
      "|153441.51|     101145.55|      407934.54|   Florida|191050.39|          662521.6|\n",
      "|144372.41|     118671.85|      383199.62|  New York|182901.99|         646243.88|\n",
      "|142107.34|      91391.77|      366168.42|   Florida|166187.94|         599667.53|\n",
      "| 131876.9|      99814.71|      362861.36|  New York|156991.12|         594552.97|\n",
      "|134615.46|     147198.87|      127716.82|California|156122.51|409531.14999999997|\n",
      "|130298.13|     145530.06|      323876.68|   Florida| 155752.6|         599704.87|\n",
      "|120542.52|     148718.95|      311613.29|  New York|152211.77|         580874.76|\n",
      "|123334.88|     108679.17|      304981.62|California|149759.96| 536995.6699999999|\n",
      "|101913.08|     110594.11|      229160.95|   Florida|146121.95|         441668.14|\n",
      "|100671.96|      91790.61|      249744.55|California| 144259.4|         442207.12|\n",
      "| 93863.75|     127320.38|      249839.44|   Florida|141585.52|         471023.57|\n",
      "| 91992.39|     135495.07|      252664.93|California|134307.35|         480152.39|\n",
      "|119943.24|     156547.42|      256512.92|   Florida|132602.65| 533003.5800000001|\n",
      "|114523.61|     122616.84|      261776.23|  New York|129917.04|498916.68000000005|\n",
      "| 78013.11|     121597.55|      264346.06|California|126992.93|         463956.72|\n",
      "| 94657.16|     145077.58|      282574.31|  New York|125370.37|         522309.05|\n",
      "| 91749.16|     114175.79|      294919.57|   Florida| 124266.9|         500844.52|\n",
      "|  86419.7|     153514.11|            0.0|  New York|122776.86|         239933.81|\n",
      "+---------+--------------+---------------+----------+---------+------------------+\n",
      "only showing top 20 rows\n",
      "\n"
     ]
    }
   ],
   "source": [
    "df_ps = df_ps.withColumnRenamed(\"Total Expenditure\", \"Total Spent\")\n",
    "df_ps.show()"
   ]
  },
  {
   "cell_type": "code",
   "execution_count": 29,
   "id": "8eaa9519-6022-41c4-8da7-dfe000cb852c",
   "metadata": {},
   "outputs": [
    {
     "name": "stdout",
     "output_type": "stream",
     "text": [
      "+---------+--------------+---------------+----------+---------+------------------+\n",
      "|R&D Spend|Administration|Marketing Spend| USA State|   Profit| Total Expenditure|\n",
      "+---------+--------------+---------------+----------+---------+------------------+\n",
      "| 165349.2|      136897.8|       471784.1|  New York|192261.83|          774031.1|\n",
      "| 162597.7|     151377.59|      443898.53|California|191792.06| 757873.8200000001|\n",
      "|153441.51|     101145.55|      407934.54|   Florida|191050.39|          662521.6|\n",
      "|144372.41|     118671.85|      383199.62|  New York|182901.99|         646243.88|\n",
      "|142107.34|      91391.77|      366168.42|   Florida|166187.94|         599667.53|\n",
      "| 131876.9|      99814.71|      362861.36|  New York|156991.12|         594552.97|\n",
      "|134615.46|     147198.87|      127716.82|California|156122.51|409531.14999999997|\n",
      "|130298.13|     145530.06|      323876.68|   Florida| 155752.6|         599704.87|\n",
      "|120542.52|     148718.95|      311613.29|  New York|152211.77|         580874.76|\n",
      "|123334.88|     108679.17|      304981.62|California|149759.96| 536995.6699999999|\n",
      "|101913.08|     110594.11|      229160.95|   Florida|146121.95|         441668.14|\n",
      "|100671.96|      91790.61|      249744.55|California| 144259.4|         442207.12|\n",
      "| 93863.75|     127320.38|      249839.44|   Florida|141585.52|         471023.57|\n",
      "| 91992.39|     135495.07|      252664.93|California|134307.35|         480152.39|\n",
      "|119943.24|     156547.42|      256512.92|   Florida|132602.65| 533003.5800000001|\n",
      "|114523.61|     122616.84|      261776.23|  New York|129917.04|498916.68000000005|\n",
      "| 78013.11|     121597.55|      264346.06|California|126992.93|         463956.72|\n",
      "| 94657.16|     145077.58|      282574.31|  New York|125370.37|         522309.05|\n",
      "| 91749.16|     114175.79|      294919.57|   Florida| 124266.9|         500844.52|\n",
      "|  86419.7|     153514.11|            0.0|  New York|122776.86|         239933.81|\n",
      "+---------+--------------+---------------+----------+---------+------------------+\n",
      "only showing top 20 rows\n",
      "\n"
     ]
    }
   ],
   "source": [
    "# Rename multiple columns\n",
    "df_ps = df_ps.withColumnRenamed(\"Total Spent\", \"Total Expenditure\") \\\n",
    "       .withColumnRenamed(\"State\", \"USA State\")\n",
    "df_ps.show()"
   ]
  },
  {
   "cell_type": "markdown",
   "id": "6cfff3fb-42ba-46ea-92e4-3ea242e08b64",
   "metadata": {},
   "source": [
    "## selecting row or rows"
   ]
  },
  {
   "cell_type": "code",
   "execution_count": 30,
   "id": "1cdcd20b-434d-4ec4-8411-475743ded19d",
   "metadata": {},
   "outputs": [
    {
     "name": "stdout",
     "output_type": "stream",
     "text": [
      "+---------+--------------+---------------+---------+---------+-----------------+\n",
      "|R&D Spend|Administration|Marketing Spend|USA State|   Profit|Total Expenditure|\n",
      "+---------+--------------+---------------+---------+---------+-----------------+\n",
      "| 165349.2|      136897.8|       471784.1| New York|192261.83|         774031.1|\n",
      "+---------+--------------+---------------+---------+---------+-----------------+\n",
      "\n"
     ]
    }
   ],
   "source": [
    "df_ps.filter(df_ps[\"Marketing Spend\"] == 471784.1).show()"
   ]
  },
  {
   "cell_type": "code",
   "execution_count": 31,
   "id": "95366f57-d59e-4bf6-b1f0-49b2f4bdde00",
   "metadata": {},
   "outputs": [
    {
     "name": "stdout",
     "output_type": "stream",
     "text": [
      "+---------+--------------+---------------+---------+---------+-----------------+\n",
      "|R&D Spend|Administration|Marketing Spend|USA State|   Profit|Total Expenditure|\n",
      "+---------+--------------+---------------+---------+---------+-----------------+\n",
      "| 165349.2|      136897.8|       471784.1| New York|192261.83|         774031.1|\n",
      "+---------+--------------+---------------+---------+---------+-----------------+\n",
      "\n"
     ]
    }
   ],
   "source": [
    "df_ps.where(df_ps[\"Marketing Spend\"] == 471784.1).show()"
   ]
  },
  {
   "cell_type": "code",
   "execution_count": 32,
   "id": "8c83035d-94ef-4d3d-aa8e-1de3d240a06c",
   "metadata": {},
   "outputs": [
    {
     "name": "stdout",
     "output_type": "stream",
     "text": [
      "+---------+--------------+---------------+----------+---------+-----------------+\n",
      "|R&D Spend|Administration|Marketing Spend| USA State|   Profit|Total Expenditure|\n",
      "+---------+--------------+---------------+----------+---------+-----------------+\n",
      "|123334.88|     108679.17|      304981.62|California|149759.96|536995.6699999999|\n",
      "|101913.08|     110594.11|      229160.95|   Florida|146121.95|        441668.14|\n",
      "|100671.96|      91790.61|      249744.55|California| 144259.4|        442207.12|\n",
      "| 93863.75|     127320.38|      249839.44|   Florida|141585.52|        471023.57|\n",
      "| 91992.39|     135495.07|      252664.93|California|134307.35|        480152.39|\n",
      "|119943.24|     156547.42|      256512.92|   Florida|132602.65|533003.5800000001|\n",
      "+---------+--------------+---------------+----------+---------+-----------------+\n",
      "\n"
     ]
    }
   ],
   "source": [
    "df_ps.filter((df_ps[\"Profit\"] > 130000) & (df_ps[\"Profit\"] < 150000)).show()"
   ]
  },
  {
   "cell_type": "markdown",
   "id": "4ca84ed6-0e7e-4df9-9b02-b16eda4ef8ca",
   "metadata": {},
   "source": [
    "## adding row or rows"
   ]
  },
  {
   "cell_type": "code",
   "execution_count": null,
   "id": "0891534f-5641-419d-81d1-26ce99ea9b23",
   "metadata": {},
   "outputs": [],
   "source": []
  },
  {
   "cell_type": "code",
   "execution_count": null,
   "id": "288bc79c-c7c9-42aa-8a65-241f1abea7c8",
   "metadata": {},
   "outputs": [],
   "source": []
  },
  {
   "cell_type": "code",
   "execution_count": null,
   "id": "dbf62b9e-c3a5-47b6-9ac8-388a867d6eab",
   "metadata": {},
   "outputs": [],
   "source": []
  },
  {
   "cell_type": "markdown",
   "id": "232a0415-f812-445c-8a27-1621ba9f538c",
   "metadata": {},
   "source": [
    "## dropping row or rows"
   ]
  },
  {
   "cell_type": "code",
   "execution_count": 41,
   "id": "1e2044d5-9fa5-43f3-8632-a7059bb72633",
   "metadata": {},
   "outputs": [
    {
     "ename": "Py4JJavaError",
     "evalue": "An error occurred while calling o255.showString.\n: org.apache.spark.SparkException: Job aborted due to stage failure: Task 1 in stage 29.0 failed 1 times, most recent failure: Lost task 1.0 in stage 29.0 (TID 37) (LAPTOP-SRU23534 executor driver): org.apache.spark.api.python.PythonException: Traceback (most recent call last):\n  File \"E:\\Notebook Project\\env\\Lib\\site-packages\\pyspark\\python\\lib\\pyspark.zip\\pyspark\\worker.py\", line 1100, in main\npyspark.errors.exceptions.base.PySparkRuntimeError: [PYTHON_VERSION_MISMATCH] Python in worker has different version (3, 8) than that in driver 3.9, PySpark cannot run with different minor versions.\nPlease check environment variables PYSPARK_PYTHON and PYSPARK_DRIVER_PYTHON are correctly set.\n\r\n\tat org.apache.spark.api.python.BasePythonRunner$ReaderIterator.handlePythonException(PythonRunner.scala:572)\r\n\tat org.apache.spark.api.python.PythonRunner$$anon$3.read(PythonRunner.scala:784)\r\n\tat org.apache.spark.api.python.PythonRunner$$anon$3.read(PythonRunner.scala:766)\r\n\tat org.apache.spark.api.python.BasePythonRunner$ReaderIterator.hasNext(PythonRunner.scala:525)\r\n\tat org.apache.spark.InterruptibleIterator.hasNext(InterruptibleIterator.scala:37)\r\n\tat scala.collection.Iterator$$anon$11.hasNext(Iterator.scala:491)\r\n\tat scala.collection.Iterator$$anon$10.hasNext(Iterator.scala:460)\r\n\tat scala.collection.Iterator$$anon$10.hasNext(Iterator.scala:460)\r\n\tat org.apache.spark.sql.catalyst.expressions.GeneratedClass$GeneratedIteratorForCodegenStage2.processNext(Unknown Source)\r\n\tat org.apache.spark.sql.execution.BufferedRowIterator.hasNext(BufferedRowIterator.java:43)\r\n\tat org.apache.spark.sql.execution.WholeStageCodegenEvaluatorFactory$WholeStageCodegenPartitionEvaluator$$anon$1.hasNext(WholeStageCodegenEvaluatorFactory.scala:43)\r\n\tat org.apache.spark.sql.catalyst.expressions.GeneratedClass$GeneratedIteratorForCodegenStage3.hashAgg_doAggregateWithKeys_0$(Unknown Source)\r\n\tat org.apache.spark.sql.catalyst.expressions.GeneratedClass$GeneratedIteratorForCodegenStage3.processNext(Unknown Source)\r\n\tat org.apache.spark.sql.execution.BufferedRowIterator.hasNext(BufferedRowIterator.java:43)\r\n\tat org.apache.spark.sql.execution.WholeStageCodegenEvaluatorFactory$WholeStageCodegenPartitionEvaluator$$anon$1.hasNext(WholeStageCodegenEvaluatorFactory.scala:43)\r\n\tat scala.collection.Iterator$$anon$10.hasNext(Iterator.scala:460)\r\n\tat org.apache.spark.shuffle.sort.BypassMergeSortShuffleWriter.write(BypassMergeSortShuffleWriter.java:140)\r\n\tat org.apache.spark.shuffle.ShuffleWriteProcessor.write(ShuffleWriteProcessor.scala:59)\r\n\tat org.apache.spark.scheduler.ShuffleMapTask.runTask(ShuffleMapTask.scala:104)\r\n\tat org.apache.spark.scheduler.ShuffleMapTask.runTask(ShuffleMapTask.scala:54)\r\n\tat org.apache.spark.TaskContext.runTaskWithListeners(TaskContext.scala:166)\r\n\tat org.apache.spark.scheduler.Task.run(Task.scala:141)\r\n\tat org.apache.spark.executor.Executor$TaskRunner.$anonfun$run$4(Executor.scala:620)\r\n\tat org.apache.spark.util.SparkErrorUtils.tryWithSafeFinally(SparkErrorUtils.scala:64)\r\n\tat org.apache.spark.util.SparkErrorUtils.tryWithSafeFinally$(SparkErrorUtils.scala:61)\r\n\tat org.apache.spark.util.Utils$.tryWithSafeFinally(Utils.scala:94)\r\n\tat org.apache.spark.executor.Executor$TaskRunner.run(Executor.scala:623)\r\n\tat java.base/java.util.concurrent.ThreadPoolExecutor.runWorker(ThreadPoolExecutor.java:1130)\r\n\tat java.base/java.util.concurrent.ThreadPoolExecutor$Worker.run(ThreadPoolExecutor.java:630)\r\n\tat java.base/java.lang.Thread.run(Thread.java:831)\r\n\nDriver stacktrace:\r\n\tat org.apache.spark.scheduler.DAGScheduler.failJobAndIndependentStages(DAGScheduler.scala:2856)\r\n\tat org.apache.spark.scheduler.DAGScheduler.$anonfun$abortStage$2(DAGScheduler.scala:2792)\r\n\tat org.apache.spark.scheduler.DAGScheduler.$anonfun$abortStage$2$adapted(DAGScheduler.scala:2791)\r\n\tat scala.collection.mutable.ResizableArray.foreach(ResizableArray.scala:62)\r\n\tat scala.collection.mutable.ResizableArray.foreach$(ResizableArray.scala:55)\r\n\tat scala.collection.mutable.ArrayBuffer.foreach(ArrayBuffer.scala:49)\r\n\tat org.apache.spark.scheduler.DAGScheduler.abortStage(DAGScheduler.scala:2791)\r\n\tat org.apache.spark.scheduler.DAGScheduler.$anonfun$handleTaskSetFailed$1(DAGScheduler.scala:1247)\r\n\tat org.apache.spark.scheduler.DAGScheduler.$anonfun$handleTaskSetFailed$1$adapted(DAGScheduler.scala:1247)\r\n\tat scala.Option.foreach(Option.scala:407)\r\n\tat org.apache.spark.scheduler.DAGScheduler.handleTaskSetFailed(DAGScheduler.scala:1247)\r\n\tat org.apache.spark.scheduler.DAGSchedulerEventProcessLoop.doOnReceive(DAGScheduler.scala:3060)\r\n\tat org.apache.spark.scheduler.DAGSchedulerEventProcessLoop.onReceive(DAGScheduler.scala:2994)\r\n\tat org.apache.spark.scheduler.DAGSchedulerEventProcessLoop.onReceive(DAGScheduler.scala:2983)\r\n\tat org.apache.spark.util.EventLoop$$anon$1.run(EventLoop.scala:49)\r\nCaused by: org.apache.spark.api.python.PythonException: Traceback (most recent call last):\n  File \"E:\\Notebook Project\\env\\Lib\\site-packages\\pyspark\\python\\lib\\pyspark.zip\\pyspark\\worker.py\", line 1100, in main\npyspark.errors.exceptions.base.PySparkRuntimeError: [PYTHON_VERSION_MISMATCH] Python in worker has different version (3, 8) than that in driver 3.9, PySpark cannot run with different minor versions.\nPlease check environment variables PYSPARK_PYTHON and PYSPARK_DRIVER_PYTHON are correctly set.\n\r\n\tat org.apache.spark.api.python.BasePythonRunner$ReaderIterator.handlePythonException(PythonRunner.scala:572)\r\n\tat org.apache.spark.api.python.PythonRunner$$anon$3.read(PythonRunner.scala:784)\r\n\tat org.apache.spark.api.python.PythonRunner$$anon$3.read(PythonRunner.scala:766)\r\n\tat org.apache.spark.api.python.BasePythonRunner$ReaderIterator.hasNext(PythonRunner.scala:525)\r\n\tat org.apache.spark.InterruptibleIterator.hasNext(InterruptibleIterator.scala:37)\r\n\tat scala.collection.Iterator$$anon$11.hasNext(Iterator.scala:491)\r\n\tat scala.collection.Iterator$$anon$10.hasNext(Iterator.scala:460)\r\n\tat scala.collection.Iterator$$anon$10.hasNext(Iterator.scala:460)\r\n\tat org.apache.spark.sql.catalyst.expressions.GeneratedClass$GeneratedIteratorForCodegenStage2.processNext(Unknown Source)\r\n\tat org.apache.spark.sql.execution.BufferedRowIterator.hasNext(BufferedRowIterator.java:43)\r\n\tat org.apache.spark.sql.execution.WholeStageCodegenEvaluatorFactory$WholeStageCodegenPartitionEvaluator$$anon$1.hasNext(WholeStageCodegenEvaluatorFactory.scala:43)\r\n\tat org.apache.spark.sql.catalyst.expressions.GeneratedClass$GeneratedIteratorForCodegenStage3.hashAgg_doAggregateWithKeys_0$(Unknown Source)\r\n\tat org.apache.spark.sql.catalyst.expressions.GeneratedClass$GeneratedIteratorForCodegenStage3.processNext(Unknown Source)\r\n\tat org.apache.spark.sql.execution.BufferedRowIterator.hasNext(BufferedRowIterator.java:43)\r\n\tat org.apache.spark.sql.execution.WholeStageCodegenEvaluatorFactory$WholeStageCodegenPartitionEvaluator$$anon$1.hasNext(WholeStageCodegenEvaluatorFactory.scala:43)\r\n\tat scala.collection.Iterator$$anon$10.hasNext(Iterator.scala:460)\r\n\tat org.apache.spark.shuffle.sort.BypassMergeSortShuffleWriter.write(BypassMergeSortShuffleWriter.java:140)\r\n\tat org.apache.spark.shuffle.ShuffleWriteProcessor.write(ShuffleWriteProcessor.scala:59)\r\n\tat org.apache.spark.scheduler.ShuffleMapTask.runTask(ShuffleMapTask.scala:104)\r\n\tat org.apache.spark.scheduler.ShuffleMapTask.runTask(ShuffleMapTask.scala:54)\r\n\tat org.apache.spark.TaskContext.runTaskWithListeners(TaskContext.scala:166)\r\n\tat org.apache.spark.scheduler.Task.run(Task.scala:141)\r\n\tat org.apache.spark.executor.Executor$TaskRunner.$anonfun$run$4(Executor.scala:620)\r\n\tat org.apache.spark.util.SparkErrorUtils.tryWithSafeFinally(SparkErrorUtils.scala:64)\r\n\tat org.apache.spark.util.SparkErrorUtils.tryWithSafeFinally$(SparkErrorUtils.scala:61)\r\n\tat org.apache.spark.util.Utils$.tryWithSafeFinally(Utils.scala:94)\r\n\tat org.apache.spark.executor.Executor$TaskRunner.run(Executor.scala:623)\r\n\tat java.base/java.util.concurrent.ThreadPoolExecutor.runWorker(ThreadPoolExecutor.java:1130)\r\n\tat java.base/java.util.concurrent.ThreadPoolExecutor$Worker.run(ThreadPoolExecutor.java:630)\r\n\tat java.base/java.lang.Thread.run(Thread.java:831)\r\n",
     "output_type": "error",
     "traceback": [
      "\u001b[1;31m---------------------------------------------------------------------------\u001b[0m",
      "\u001b[1;31mPy4JJavaError\u001b[0m                             Traceback (most recent call last)",
      "Cell \u001b[1;32mIn[41], line 4\u001b[0m\n\u001b[0;32m      1\u001b[0m \u001b[38;5;66;03m# Dropping Duplicate Rows\u001b[39;00m\n\u001b[0;32m      3\u001b[0m df_ps \u001b[38;5;241m=\u001b[39m df_ps\u001b[38;5;241m.\u001b[39mdropDuplicates()\n\u001b[1;32m----> 4\u001b[0m \u001b[43mdf_ps\u001b[49m\u001b[38;5;241;43m.\u001b[39;49m\u001b[43mshow\u001b[49m\u001b[43m(\u001b[49m\u001b[43m)\u001b[49m\n",
      "File \u001b[1;32me:\\notebook project\\env\\lib\\site-packages\\pyspark\\sql\\dataframe.py:947\u001b[0m, in \u001b[0;36mDataFrame.show\u001b[1;34m(self, n, truncate, vertical)\u001b[0m\n\u001b[0;32m    887\u001b[0m \u001b[38;5;28;01mdef\u001b[39;00m \u001b[38;5;21mshow\u001b[39m(\u001b[38;5;28mself\u001b[39m, n: \u001b[38;5;28mint\u001b[39m \u001b[38;5;241m=\u001b[39m \u001b[38;5;241m20\u001b[39m, truncate: Union[\u001b[38;5;28mbool\u001b[39m, \u001b[38;5;28mint\u001b[39m] \u001b[38;5;241m=\u001b[39m \u001b[38;5;28;01mTrue\u001b[39;00m, vertical: \u001b[38;5;28mbool\u001b[39m \u001b[38;5;241m=\u001b[39m \u001b[38;5;28;01mFalse\u001b[39;00m) \u001b[38;5;241m-\u001b[39m\u001b[38;5;241m>\u001b[39m \u001b[38;5;28;01mNone\u001b[39;00m:\n\u001b[0;32m    888\u001b[0m \u001b[38;5;250m    \u001b[39m\u001b[38;5;124;03m\"\"\"Prints the first ``n`` rows to the console.\u001b[39;00m\n\u001b[0;32m    889\u001b[0m \n\u001b[0;32m    890\u001b[0m \u001b[38;5;124;03m    .. versionadded:: 1.3.0\u001b[39;00m\n\u001b[1;32m   (...)\u001b[0m\n\u001b[0;32m    945\u001b[0m \u001b[38;5;124;03m    name | Bob\u001b[39;00m\n\u001b[0;32m    946\u001b[0m \u001b[38;5;124;03m    \"\"\"\u001b[39;00m\n\u001b[1;32m--> 947\u001b[0m     \u001b[38;5;28mprint\u001b[39m(\u001b[38;5;28;43mself\u001b[39;49m\u001b[38;5;241;43m.\u001b[39;49m\u001b[43m_show_string\u001b[49m\u001b[43m(\u001b[49m\u001b[43mn\u001b[49m\u001b[43m,\u001b[49m\u001b[43m \u001b[49m\u001b[43mtruncate\u001b[49m\u001b[43m,\u001b[49m\u001b[43m \u001b[49m\u001b[43mvertical\u001b[49m\u001b[43m)\u001b[49m)\n",
      "File \u001b[1;32me:\\notebook project\\env\\lib\\site-packages\\pyspark\\sql\\dataframe.py:965\u001b[0m, in \u001b[0;36mDataFrame._show_string\u001b[1;34m(self, n, truncate, vertical)\u001b[0m\n\u001b[0;32m    959\u001b[0m     \u001b[38;5;28;01mraise\u001b[39;00m PySparkTypeError(\n\u001b[0;32m    960\u001b[0m         error_class\u001b[38;5;241m=\u001b[39m\u001b[38;5;124m\"\u001b[39m\u001b[38;5;124mNOT_BOOL\u001b[39m\u001b[38;5;124m\"\u001b[39m,\n\u001b[0;32m    961\u001b[0m         message_parameters\u001b[38;5;241m=\u001b[39m{\u001b[38;5;124m\"\u001b[39m\u001b[38;5;124marg_name\u001b[39m\u001b[38;5;124m\"\u001b[39m: \u001b[38;5;124m\"\u001b[39m\u001b[38;5;124mvertical\u001b[39m\u001b[38;5;124m\"\u001b[39m, \u001b[38;5;124m\"\u001b[39m\u001b[38;5;124marg_type\u001b[39m\u001b[38;5;124m\"\u001b[39m: \u001b[38;5;28mtype\u001b[39m(vertical)\u001b[38;5;241m.\u001b[39m\u001b[38;5;18m__name__\u001b[39m},\n\u001b[0;32m    962\u001b[0m     )\n\u001b[0;32m    964\u001b[0m \u001b[38;5;28;01mif\u001b[39;00m \u001b[38;5;28misinstance\u001b[39m(truncate, \u001b[38;5;28mbool\u001b[39m) \u001b[38;5;129;01mand\u001b[39;00m truncate:\n\u001b[1;32m--> 965\u001b[0m     \u001b[38;5;28;01mreturn\u001b[39;00m \u001b[38;5;28;43mself\u001b[39;49m\u001b[38;5;241;43m.\u001b[39;49m\u001b[43m_jdf\u001b[49m\u001b[38;5;241;43m.\u001b[39;49m\u001b[43mshowString\u001b[49m\u001b[43m(\u001b[49m\u001b[43mn\u001b[49m\u001b[43m,\u001b[49m\u001b[43m \u001b[49m\u001b[38;5;241;43m20\u001b[39;49m\u001b[43m,\u001b[49m\u001b[43m \u001b[49m\u001b[43mvertical\u001b[49m\u001b[43m)\u001b[49m\n\u001b[0;32m    966\u001b[0m \u001b[38;5;28;01melse\u001b[39;00m:\n\u001b[0;32m    967\u001b[0m     \u001b[38;5;28;01mtry\u001b[39;00m:\n",
      "File \u001b[1;32me:\\notebook project\\env\\lib\\site-packages\\py4j\\java_gateway.py:1322\u001b[0m, in \u001b[0;36mJavaMember.__call__\u001b[1;34m(self, *args)\u001b[0m\n\u001b[0;32m   1316\u001b[0m command \u001b[38;5;241m=\u001b[39m proto\u001b[38;5;241m.\u001b[39mCALL_COMMAND_NAME \u001b[38;5;241m+\u001b[39m\\\n\u001b[0;32m   1317\u001b[0m     \u001b[38;5;28mself\u001b[39m\u001b[38;5;241m.\u001b[39mcommand_header \u001b[38;5;241m+\u001b[39m\\\n\u001b[0;32m   1318\u001b[0m     args_command \u001b[38;5;241m+\u001b[39m\\\n\u001b[0;32m   1319\u001b[0m     proto\u001b[38;5;241m.\u001b[39mEND_COMMAND_PART\n\u001b[0;32m   1321\u001b[0m answer \u001b[38;5;241m=\u001b[39m \u001b[38;5;28mself\u001b[39m\u001b[38;5;241m.\u001b[39mgateway_client\u001b[38;5;241m.\u001b[39msend_command(command)\n\u001b[1;32m-> 1322\u001b[0m return_value \u001b[38;5;241m=\u001b[39m \u001b[43mget_return_value\u001b[49m\u001b[43m(\u001b[49m\n\u001b[0;32m   1323\u001b[0m \u001b[43m    \u001b[49m\u001b[43manswer\u001b[49m\u001b[43m,\u001b[49m\u001b[43m \u001b[49m\u001b[38;5;28;43mself\u001b[39;49m\u001b[38;5;241;43m.\u001b[39;49m\u001b[43mgateway_client\u001b[49m\u001b[43m,\u001b[49m\u001b[43m \u001b[49m\u001b[38;5;28;43mself\u001b[39;49m\u001b[38;5;241;43m.\u001b[39;49m\u001b[43mtarget_id\u001b[49m\u001b[43m,\u001b[49m\u001b[43m \u001b[49m\u001b[38;5;28;43mself\u001b[39;49m\u001b[38;5;241;43m.\u001b[39;49m\u001b[43mname\u001b[49m\u001b[43m)\u001b[49m\n\u001b[0;32m   1325\u001b[0m \u001b[38;5;28;01mfor\u001b[39;00m temp_arg \u001b[38;5;129;01min\u001b[39;00m temp_args:\n\u001b[0;32m   1326\u001b[0m     \u001b[38;5;28;01mif\u001b[39;00m \u001b[38;5;28mhasattr\u001b[39m(temp_arg, \u001b[38;5;124m\"\u001b[39m\u001b[38;5;124m_detach\u001b[39m\u001b[38;5;124m\"\u001b[39m):\n",
      "File \u001b[1;32me:\\notebook project\\env\\lib\\site-packages\\pyspark\\errors\\exceptions\\captured.py:179\u001b[0m, in \u001b[0;36mcapture_sql_exception.<locals>.deco\u001b[1;34m(*a, **kw)\u001b[0m\n\u001b[0;32m    177\u001b[0m \u001b[38;5;28;01mdef\u001b[39;00m \u001b[38;5;21mdeco\u001b[39m(\u001b[38;5;241m*\u001b[39ma: Any, \u001b[38;5;241m*\u001b[39m\u001b[38;5;241m*\u001b[39mkw: Any) \u001b[38;5;241m-\u001b[39m\u001b[38;5;241m>\u001b[39m Any:\n\u001b[0;32m    178\u001b[0m     \u001b[38;5;28;01mtry\u001b[39;00m:\n\u001b[1;32m--> 179\u001b[0m         \u001b[38;5;28;01mreturn\u001b[39;00m f(\u001b[38;5;241m*\u001b[39ma, \u001b[38;5;241m*\u001b[39m\u001b[38;5;241m*\u001b[39mkw)\n\u001b[0;32m    180\u001b[0m     \u001b[38;5;28;01mexcept\u001b[39;00m Py4JJavaError \u001b[38;5;28;01mas\u001b[39;00m e:\n\u001b[0;32m    181\u001b[0m         converted \u001b[38;5;241m=\u001b[39m convert_exception(e\u001b[38;5;241m.\u001b[39mjava_exception)\n",
      "File \u001b[1;32me:\\notebook project\\env\\lib\\site-packages\\py4j\\protocol.py:326\u001b[0m, in \u001b[0;36mget_return_value\u001b[1;34m(answer, gateway_client, target_id, name)\u001b[0m\n\u001b[0;32m    324\u001b[0m value \u001b[38;5;241m=\u001b[39m OUTPUT_CONVERTER[\u001b[38;5;28mtype\u001b[39m](answer[\u001b[38;5;241m2\u001b[39m:], gateway_client)\n\u001b[0;32m    325\u001b[0m \u001b[38;5;28;01mif\u001b[39;00m answer[\u001b[38;5;241m1\u001b[39m] \u001b[38;5;241m==\u001b[39m REFERENCE_TYPE:\n\u001b[1;32m--> 326\u001b[0m     \u001b[38;5;28;01mraise\u001b[39;00m Py4JJavaError(\n\u001b[0;32m    327\u001b[0m         \u001b[38;5;124m\"\u001b[39m\u001b[38;5;124mAn error occurred while calling \u001b[39m\u001b[38;5;132;01m{0}\u001b[39;00m\u001b[38;5;132;01m{1}\u001b[39;00m\u001b[38;5;132;01m{2}\u001b[39;00m\u001b[38;5;124m.\u001b[39m\u001b[38;5;130;01m\\n\u001b[39;00m\u001b[38;5;124m\"\u001b[39m\u001b[38;5;241m.\u001b[39m\n\u001b[0;32m    328\u001b[0m         \u001b[38;5;28mformat\u001b[39m(target_id, \u001b[38;5;124m\"\u001b[39m\u001b[38;5;124m.\u001b[39m\u001b[38;5;124m\"\u001b[39m, name), value)\n\u001b[0;32m    329\u001b[0m \u001b[38;5;28;01melse\u001b[39;00m:\n\u001b[0;32m    330\u001b[0m     \u001b[38;5;28;01mraise\u001b[39;00m Py4JError(\n\u001b[0;32m    331\u001b[0m         \u001b[38;5;124m\"\u001b[39m\u001b[38;5;124mAn error occurred while calling \u001b[39m\u001b[38;5;132;01m{0}\u001b[39;00m\u001b[38;5;132;01m{1}\u001b[39;00m\u001b[38;5;132;01m{2}\u001b[39;00m\u001b[38;5;124m. Trace:\u001b[39m\u001b[38;5;130;01m\\n\u001b[39;00m\u001b[38;5;132;01m{3}\u001b[39;00m\u001b[38;5;130;01m\\n\u001b[39;00m\u001b[38;5;124m\"\u001b[39m\u001b[38;5;241m.\u001b[39m\n\u001b[0;32m    332\u001b[0m         \u001b[38;5;28mformat\u001b[39m(target_id, \u001b[38;5;124m\"\u001b[39m\u001b[38;5;124m.\u001b[39m\u001b[38;5;124m\"\u001b[39m, name, value))\n",
      "\u001b[1;31mPy4JJavaError\u001b[0m: An error occurred while calling o255.showString.\n: org.apache.spark.SparkException: Job aborted due to stage failure: Task 1 in stage 29.0 failed 1 times, most recent failure: Lost task 1.0 in stage 29.0 (TID 37) (LAPTOP-SRU23534 executor driver): org.apache.spark.api.python.PythonException: Traceback (most recent call last):\n  File \"E:\\Notebook Project\\env\\Lib\\site-packages\\pyspark\\python\\lib\\pyspark.zip\\pyspark\\worker.py\", line 1100, in main\npyspark.errors.exceptions.base.PySparkRuntimeError: [PYTHON_VERSION_MISMATCH] Python in worker has different version (3, 8) than that in driver 3.9, PySpark cannot run with different minor versions.\nPlease check environment variables PYSPARK_PYTHON and PYSPARK_DRIVER_PYTHON are correctly set.\n\r\n\tat org.apache.spark.api.python.BasePythonRunner$ReaderIterator.handlePythonException(PythonRunner.scala:572)\r\n\tat org.apache.spark.api.python.PythonRunner$$anon$3.read(PythonRunner.scala:784)\r\n\tat org.apache.spark.api.python.PythonRunner$$anon$3.read(PythonRunner.scala:766)\r\n\tat org.apache.spark.api.python.BasePythonRunner$ReaderIterator.hasNext(PythonRunner.scala:525)\r\n\tat org.apache.spark.InterruptibleIterator.hasNext(InterruptibleIterator.scala:37)\r\n\tat scala.collection.Iterator$$anon$11.hasNext(Iterator.scala:491)\r\n\tat scala.collection.Iterator$$anon$10.hasNext(Iterator.scala:460)\r\n\tat scala.collection.Iterator$$anon$10.hasNext(Iterator.scala:460)\r\n\tat org.apache.spark.sql.catalyst.expressions.GeneratedClass$GeneratedIteratorForCodegenStage2.processNext(Unknown Source)\r\n\tat org.apache.spark.sql.execution.BufferedRowIterator.hasNext(BufferedRowIterator.java:43)\r\n\tat org.apache.spark.sql.execution.WholeStageCodegenEvaluatorFactory$WholeStageCodegenPartitionEvaluator$$anon$1.hasNext(WholeStageCodegenEvaluatorFactory.scala:43)\r\n\tat org.apache.spark.sql.catalyst.expressions.GeneratedClass$GeneratedIteratorForCodegenStage3.hashAgg_doAggregateWithKeys_0$(Unknown Source)\r\n\tat org.apache.spark.sql.catalyst.expressions.GeneratedClass$GeneratedIteratorForCodegenStage3.processNext(Unknown Source)\r\n\tat org.apache.spark.sql.execution.BufferedRowIterator.hasNext(BufferedRowIterator.java:43)\r\n\tat org.apache.spark.sql.execution.WholeStageCodegenEvaluatorFactory$WholeStageCodegenPartitionEvaluator$$anon$1.hasNext(WholeStageCodegenEvaluatorFactory.scala:43)\r\n\tat scala.collection.Iterator$$anon$10.hasNext(Iterator.scala:460)\r\n\tat org.apache.spark.shuffle.sort.BypassMergeSortShuffleWriter.write(BypassMergeSortShuffleWriter.java:140)\r\n\tat org.apache.spark.shuffle.ShuffleWriteProcessor.write(ShuffleWriteProcessor.scala:59)\r\n\tat org.apache.spark.scheduler.ShuffleMapTask.runTask(ShuffleMapTask.scala:104)\r\n\tat org.apache.spark.scheduler.ShuffleMapTask.runTask(ShuffleMapTask.scala:54)\r\n\tat org.apache.spark.TaskContext.runTaskWithListeners(TaskContext.scala:166)\r\n\tat org.apache.spark.scheduler.Task.run(Task.scala:141)\r\n\tat org.apache.spark.executor.Executor$TaskRunner.$anonfun$run$4(Executor.scala:620)\r\n\tat org.apache.spark.util.SparkErrorUtils.tryWithSafeFinally(SparkErrorUtils.scala:64)\r\n\tat org.apache.spark.util.SparkErrorUtils.tryWithSafeFinally$(SparkErrorUtils.scala:61)\r\n\tat org.apache.spark.util.Utils$.tryWithSafeFinally(Utils.scala:94)\r\n\tat org.apache.spark.executor.Executor$TaskRunner.run(Executor.scala:623)\r\n\tat java.base/java.util.concurrent.ThreadPoolExecutor.runWorker(ThreadPoolExecutor.java:1130)\r\n\tat java.base/java.util.concurrent.ThreadPoolExecutor$Worker.run(ThreadPoolExecutor.java:630)\r\n\tat java.base/java.lang.Thread.run(Thread.java:831)\r\n\nDriver stacktrace:\r\n\tat org.apache.spark.scheduler.DAGScheduler.failJobAndIndependentStages(DAGScheduler.scala:2856)\r\n\tat org.apache.spark.scheduler.DAGScheduler.$anonfun$abortStage$2(DAGScheduler.scala:2792)\r\n\tat org.apache.spark.scheduler.DAGScheduler.$anonfun$abortStage$2$adapted(DAGScheduler.scala:2791)\r\n\tat scala.collection.mutable.ResizableArray.foreach(ResizableArray.scala:62)\r\n\tat scala.collection.mutable.ResizableArray.foreach$(ResizableArray.scala:55)\r\n\tat scala.collection.mutable.ArrayBuffer.foreach(ArrayBuffer.scala:49)\r\n\tat org.apache.spark.scheduler.DAGScheduler.abortStage(DAGScheduler.scala:2791)\r\n\tat org.apache.spark.scheduler.DAGScheduler.$anonfun$handleTaskSetFailed$1(DAGScheduler.scala:1247)\r\n\tat org.apache.spark.scheduler.DAGScheduler.$anonfun$handleTaskSetFailed$1$adapted(DAGScheduler.scala:1247)\r\n\tat scala.Option.foreach(Option.scala:407)\r\n\tat org.apache.spark.scheduler.DAGScheduler.handleTaskSetFailed(DAGScheduler.scala:1247)\r\n\tat org.apache.spark.scheduler.DAGSchedulerEventProcessLoop.doOnReceive(DAGScheduler.scala:3060)\r\n\tat org.apache.spark.scheduler.DAGSchedulerEventProcessLoop.onReceive(DAGScheduler.scala:2994)\r\n\tat org.apache.spark.scheduler.DAGSchedulerEventProcessLoop.onReceive(DAGScheduler.scala:2983)\r\n\tat org.apache.spark.util.EventLoop$$anon$1.run(EventLoop.scala:49)\r\nCaused by: org.apache.spark.api.python.PythonException: Traceback (most recent call last):\n  File \"E:\\Notebook Project\\env\\Lib\\site-packages\\pyspark\\python\\lib\\pyspark.zip\\pyspark\\worker.py\", line 1100, in main\npyspark.errors.exceptions.base.PySparkRuntimeError: [PYTHON_VERSION_MISMATCH] Python in worker has different version (3, 8) than that in driver 3.9, PySpark cannot run with different minor versions.\nPlease check environment variables PYSPARK_PYTHON and PYSPARK_DRIVER_PYTHON are correctly set.\n\r\n\tat org.apache.spark.api.python.BasePythonRunner$ReaderIterator.handlePythonException(PythonRunner.scala:572)\r\n\tat org.apache.spark.api.python.PythonRunner$$anon$3.read(PythonRunner.scala:784)\r\n\tat org.apache.spark.api.python.PythonRunner$$anon$3.read(PythonRunner.scala:766)\r\n\tat org.apache.spark.api.python.BasePythonRunner$ReaderIterator.hasNext(PythonRunner.scala:525)\r\n\tat org.apache.spark.InterruptibleIterator.hasNext(InterruptibleIterator.scala:37)\r\n\tat scala.collection.Iterator$$anon$11.hasNext(Iterator.scala:491)\r\n\tat scala.collection.Iterator$$anon$10.hasNext(Iterator.scala:460)\r\n\tat scala.collection.Iterator$$anon$10.hasNext(Iterator.scala:460)\r\n\tat org.apache.spark.sql.catalyst.expressions.GeneratedClass$GeneratedIteratorForCodegenStage2.processNext(Unknown Source)\r\n\tat org.apache.spark.sql.execution.BufferedRowIterator.hasNext(BufferedRowIterator.java:43)\r\n\tat org.apache.spark.sql.execution.WholeStageCodegenEvaluatorFactory$WholeStageCodegenPartitionEvaluator$$anon$1.hasNext(WholeStageCodegenEvaluatorFactory.scala:43)\r\n\tat org.apache.spark.sql.catalyst.expressions.GeneratedClass$GeneratedIteratorForCodegenStage3.hashAgg_doAggregateWithKeys_0$(Unknown Source)\r\n\tat org.apache.spark.sql.catalyst.expressions.GeneratedClass$GeneratedIteratorForCodegenStage3.processNext(Unknown Source)\r\n\tat org.apache.spark.sql.execution.BufferedRowIterator.hasNext(BufferedRowIterator.java:43)\r\n\tat org.apache.spark.sql.execution.WholeStageCodegenEvaluatorFactory$WholeStageCodegenPartitionEvaluator$$anon$1.hasNext(WholeStageCodegenEvaluatorFactory.scala:43)\r\n\tat scala.collection.Iterator$$anon$10.hasNext(Iterator.scala:460)\r\n\tat org.apache.spark.shuffle.sort.BypassMergeSortShuffleWriter.write(BypassMergeSortShuffleWriter.java:140)\r\n\tat org.apache.spark.shuffle.ShuffleWriteProcessor.write(ShuffleWriteProcessor.scala:59)\r\n\tat org.apache.spark.scheduler.ShuffleMapTask.runTask(ShuffleMapTask.scala:104)\r\n\tat org.apache.spark.scheduler.ShuffleMapTask.runTask(ShuffleMapTask.scala:54)\r\n\tat org.apache.spark.TaskContext.runTaskWithListeners(TaskContext.scala:166)\r\n\tat org.apache.spark.scheduler.Task.run(Task.scala:141)\r\n\tat org.apache.spark.executor.Executor$TaskRunner.$anonfun$run$4(Executor.scala:620)\r\n\tat org.apache.spark.util.SparkErrorUtils.tryWithSafeFinally(SparkErrorUtils.scala:64)\r\n\tat org.apache.spark.util.SparkErrorUtils.tryWithSafeFinally$(SparkErrorUtils.scala:61)\r\n\tat org.apache.spark.util.Utils$.tryWithSafeFinally(Utils.scala:94)\r\n\tat org.apache.spark.executor.Executor$TaskRunner.run(Executor.scala:623)\r\n\tat java.base/java.util.concurrent.ThreadPoolExecutor.runWorker(ThreadPoolExecutor.java:1130)\r\n\tat java.base/java.util.concurrent.ThreadPoolExecutor$Worker.run(ThreadPoolExecutor.java:630)\r\n\tat java.base/java.lang.Thread.run(Thread.java:831)\r\n"
     ]
    }
   ],
   "source": [
    "# Dropping Duplicate Rows\n",
    "\n",
    "df_ps = df_ps.dropDuplicates()\n",
    "df_ps.show()"
   ]
  },
  {
   "cell_type": "code",
   "execution_count": null,
   "id": "46a519db-4b07-4c58-928e-e7f0617ab977",
   "metadata": {},
   "outputs": [],
   "source": []
  },
  {
   "cell_type": "code",
   "execution_count": null,
   "id": "6850bce1-fdfe-4568-97b9-e8bbd250dcd3",
   "metadata": {},
   "outputs": [],
   "source": []
  },
  {
   "cell_type": "code",
   "execution_count": null,
   "id": "bb4d5a4a-b106-47a0-a56d-075a6142a69e",
   "metadata": {},
   "outputs": [],
   "source": []
  },
  {
   "cell_type": "code",
   "execution_count": null,
   "id": "36a5f9ac-ef7b-4e80-b439-013a26d4ccfe",
   "metadata": {},
   "outputs": [],
   "source": []
  },
  {
   "cell_type": "code",
   "execution_count": null,
   "id": "bfbeba59-9bf0-4883-8798-750d6b54b035",
   "metadata": {},
   "outputs": [],
   "source": []
  },
  {
   "cell_type": "code",
   "execution_count": null,
   "id": "61a3580d-0bab-4a5a-a8d7-a317f8e46e14",
   "metadata": {},
   "outputs": [],
   "source": []
  },
  {
   "cell_type": "code",
   "execution_count": null,
   "id": "84789eaf-f786-448b-8935-312746cd6d27",
   "metadata": {},
   "outputs": [],
   "source": []
  },
  {
   "cell_type": "code",
   "execution_count": null,
   "id": "4a92457c-b368-4ace-aafd-4d3af3953a7d",
   "metadata": {},
   "outputs": [],
   "source": []
  },
  {
   "cell_type": "code",
   "execution_count": null,
   "id": "6e5c247f-bb2f-4c88-94c0-c340b0615474",
   "metadata": {},
   "outputs": [],
   "source": []
  },
  {
   "cell_type": "code",
   "execution_count": null,
   "id": "4af416a4-d68e-4adf-93a1-a3ce3ab4a5b9",
   "metadata": {},
   "outputs": [],
   "source": []
  },
  {
   "cell_type": "code",
   "execution_count": 39,
   "id": "f2be05a7-0b1f-413f-a0c6-58e5f91da52c",
   "metadata": {},
   "outputs": [
    {
     "ename": "AnalysisException",
     "evalue": "[CANNOT_MODIFY_CONFIG] Cannot modify the value of the Spark config: \"spark.network.timeout\".\nSee also 'https://spark.apache.org/docs/latest/sql-migration-guide.html#ddl-statements'.",
     "output_type": "error",
     "traceback": [
      "\u001b[1;31m---------------------------------------------------------------------------\u001b[0m",
      "\u001b[1;31mAnalysisException\u001b[0m                         Traceback (most recent call last)",
      "Cell \u001b[1;32mIn[39], line 1\u001b[0m\n\u001b[1;32m----> 1\u001b[0m \u001b[43mspark\u001b[49m\u001b[38;5;241;43m.\u001b[39;49m\u001b[43mconf\u001b[49m\u001b[38;5;241;43m.\u001b[39;49m\u001b[43mset\u001b[49m\u001b[43m(\u001b[49m\u001b[38;5;124;43m\"\u001b[39;49m\u001b[38;5;124;43mspark.network.timeout\u001b[39;49m\u001b[38;5;124;43m\"\u001b[39;49m\u001b[43m,\u001b[49m\u001b[43m \u001b[49m\u001b[38;5;124;43m\"\u001b[39;49m\u001b[38;5;124;43m800s\u001b[39;49m\u001b[38;5;124;43m\"\u001b[39;49m\u001b[43m)\u001b[49m\n\u001b[0;32m      2\u001b[0m spark\u001b[38;5;241m.\u001b[39mconf\u001b[38;5;241m.\u001b[39mset(\u001b[38;5;124m\"\u001b[39m\u001b[38;5;124mspark.executor.heartbeatInterval\u001b[39m\u001b[38;5;124m\"\u001b[39m, \u001b[38;5;124m\"\u001b[39m\u001b[38;5;124m60s\u001b[39m\u001b[38;5;124m\"\u001b[39m)\n",
      "File \u001b[1;32me:\\notebook project\\env\\lib\\site-packages\\pyspark\\sql\\conf.py:43\u001b[0m, in \u001b[0;36mRuntimeConfig.set\u001b[1;34m(self, key, value)\u001b[0m\n\u001b[0;32m     40\u001b[0m \u001b[38;5;129m@since\u001b[39m(\u001b[38;5;241m2.0\u001b[39m)\n\u001b[0;32m     41\u001b[0m \u001b[38;5;28;01mdef\u001b[39;00m \u001b[38;5;21mset\u001b[39m(\u001b[38;5;28mself\u001b[39m, key: \u001b[38;5;28mstr\u001b[39m, value: Union[\u001b[38;5;28mstr\u001b[39m, \u001b[38;5;28mint\u001b[39m, \u001b[38;5;28mbool\u001b[39m]) \u001b[38;5;241m-\u001b[39m\u001b[38;5;241m>\u001b[39m \u001b[38;5;28;01mNone\u001b[39;00m:\n\u001b[0;32m     42\u001b[0m \u001b[38;5;250m    \u001b[39m\u001b[38;5;124;03m\"\"\"Sets the given Spark runtime configuration property.\"\"\"\u001b[39;00m\n\u001b[1;32m---> 43\u001b[0m     \u001b[38;5;28;43mself\u001b[39;49m\u001b[38;5;241;43m.\u001b[39;49m\u001b[43m_jconf\u001b[49m\u001b[38;5;241;43m.\u001b[39;49m\u001b[43mset\u001b[49m\u001b[43m(\u001b[49m\u001b[43mkey\u001b[49m\u001b[43m,\u001b[49m\u001b[43m \u001b[49m\u001b[43mvalue\u001b[49m\u001b[43m)\u001b[49m\n",
      "File \u001b[1;32me:\\notebook project\\env\\lib\\site-packages\\py4j\\java_gateway.py:1322\u001b[0m, in \u001b[0;36mJavaMember.__call__\u001b[1;34m(self, *args)\u001b[0m\n\u001b[0;32m   1316\u001b[0m command \u001b[38;5;241m=\u001b[39m proto\u001b[38;5;241m.\u001b[39mCALL_COMMAND_NAME \u001b[38;5;241m+\u001b[39m\\\n\u001b[0;32m   1317\u001b[0m     \u001b[38;5;28mself\u001b[39m\u001b[38;5;241m.\u001b[39mcommand_header \u001b[38;5;241m+\u001b[39m\\\n\u001b[0;32m   1318\u001b[0m     args_command \u001b[38;5;241m+\u001b[39m\\\n\u001b[0;32m   1319\u001b[0m     proto\u001b[38;5;241m.\u001b[39mEND_COMMAND_PART\n\u001b[0;32m   1321\u001b[0m answer \u001b[38;5;241m=\u001b[39m \u001b[38;5;28mself\u001b[39m\u001b[38;5;241m.\u001b[39mgateway_client\u001b[38;5;241m.\u001b[39msend_command(command)\n\u001b[1;32m-> 1322\u001b[0m return_value \u001b[38;5;241m=\u001b[39m \u001b[43mget_return_value\u001b[49m\u001b[43m(\u001b[49m\n\u001b[0;32m   1323\u001b[0m \u001b[43m    \u001b[49m\u001b[43manswer\u001b[49m\u001b[43m,\u001b[49m\u001b[43m \u001b[49m\u001b[38;5;28;43mself\u001b[39;49m\u001b[38;5;241;43m.\u001b[39;49m\u001b[43mgateway_client\u001b[49m\u001b[43m,\u001b[49m\u001b[43m \u001b[49m\u001b[38;5;28;43mself\u001b[39;49m\u001b[38;5;241;43m.\u001b[39;49m\u001b[43mtarget_id\u001b[49m\u001b[43m,\u001b[49m\u001b[43m \u001b[49m\u001b[38;5;28;43mself\u001b[39;49m\u001b[38;5;241;43m.\u001b[39;49m\u001b[43mname\u001b[49m\u001b[43m)\u001b[49m\n\u001b[0;32m   1325\u001b[0m \u001b[38;5;28;01mfor\u001b[39;00m temp_arg \u001b[38;5;129;01min\u001b[39;00m temp_args:\n\u001b[0;32m   1326\u001b[0m     \u001b[38;5;28;01mif\u001b[39;00m \u001b[38;5;28mhasattr\u001b[39m(temp_arg, \u001b[38;5;124m\"\u001b[39m\u001b[38;5;124m_detach\u001b[39m\u001b[38;5;124m\"\u001b[39m):\n",
      "File \u001b[1;32me:\\notebook project\\env\\lib\\site-packages\\pyspark\\errors\\exceptions\\captured.py:185\u001b[0m, in \u001b[0;36mcapture_sql_exception.<locals>.deco\u001b[1;34m(*a, **kw)\u001b[0m\n\u001b[0;32m    181\u001b[0m converted \u001b[38;5;241m=\u001b[39m convert_exception(e\u001b[38;5;241m.\u001b[39mjava_exception)\n\u001b[0;32m    182\u001b[0m \u001b[38;5;28;01mif\u001b[39;00m \u001b[38;5;129;01mnot\u001b[39;00m \u001b[38;5;28misinstance\u001b[39m(converted, UnknownException):\n\u001b[0;32m    183\u001b[0m     \u001b[38;5;66;03m# Hide where the exception came from that shows a non-Pythonic\u001b[39;00m\n\u001b[0;32m    184\u001b[0m     \u001b[38;5;66;03m# JVM exception message.\u001b[39;00m\n\u001b[1;32m--> 185\u001b[0m     \u001b[38;5;28;01mraise\u001b[39;00m converted \u001b[38;5;28;01mfrom\u001b[39;00m \u001b[38;5;28;01mNone\u001b[39;00m\n\u001b[0;32m    186\u001b[0m \u001b[38;5;28;01melse\u001b[39;00m:\n\u001b[0;32m    187\u001b[0m     \u001b[38;5;28;01mraise\u001b[39;00m\n",
      "\u001b[1;31mAnalysisException\u001b[0m: [CANNOT_MODIFY_CONFIG] Cannot modify the value of the Spark config: \"spark.network.timeout\".\nSee also 'https://spark.apache.org/docs/latest/sql-migration-guide.html#ddl-statements'."
     ]
    }
   ],
   "source": [
    "spark.conf.set(\"spark.network.timeout\", \"800s\")\n",
    "spark.conf.set(\"spark.executor.heartbeatInterval\", \"60s\")"
   ]
  },
  {
   "cell_type": "code",
   "execution_count": 40,
   "id": "6299b640-213b-49f5-94f0-1aa674c19ecb",
   "metadata": {},
   "outputs": [],
   "source": [
    "spark = SparkSession.builder \\\n",
    "    .master(\"local[*]\") \\\n",
    "    .config(\"spark.driver.memory\", \"4g\") \\\n",
    "    .config(\"spark.executor.memory\", \"4g\") \\\n",
    "    .getOrCreate()\n"
   ]
  },
  {
   "cell_type": "code",
   "execution_count": null,
   "id": "ef460a97-0c5d-493c-9eb7-2e2254ad2f21",
   "metadata": {},
   "outputs": [],
   "source": []
  }
 ],
 "metadata": {
  "kernelspec": {
   "display_name": "Python 3 (ipykernel)",
   "language": "python",
   "name": "python3"
  },
  "language_info": {
   "codemirror_mode": {
    "name": "ipython",
    "version": 3
   },
   "file_extension": ".py",
   "mimetype": "text/x-python",
   "name": "python",
   "nbconvert_exporter": "python",
   "pygments_lexer": "ipython3",
   "version": "3.9.6"
  }
 },
 "nbformat": 4,
 "nbformat_minor": 5
}
