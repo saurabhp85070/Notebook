{
 "cells": [
  {
   "cell_type": "markdown",
   "id": "c948cdb5-7d40-49ab-b631-d05c1712bba2",
   "metadata": {},
   "source": [
    "# Maximizing revenue for taxi cab drivers through payment type analysis"
   ]
  },
  {
   "cell_type": "markdown",
   "id": "0291e735-07fc-4c61-a07f-03f4ad1b410c",
   "metadata": {},
   "source": [
    "## Problem statement\n",
    "\n",
    "In the fast-paced taxi booking sector, making the most of revenue is essential for long-term success and driver happiness.\n",
    "\n",
    "Our goal is to use data-driven insights to maximise revenue streams for taxi drivers in order to meet this need. Our research aims to determine whether payment methods have an impact on fare pricing by focusing on the relationship between payment type and fare amount."
   ]
  },
  {
   "cell_type": "markdown",
   "id": "1f63b970-0cd2-433a-b31c-dc96e88ca31c",
   "metadata": {},
   "source": [
    "## Objective\n",
    "\n",
    "This project's main goal is to run an A/B test to examine the relationship between the total fare and the method of payment. We use Python hypothesis testing and descriptive statistics to extract useful information that can help taxi drivers generate more cash. In particular, we want to find out if there is a big difference in the fares for those who pay with credit cards versus those who pay with cash."
   ]
  },
  {
   "cell_type": "markdown",
   "id": "4ecbf72e-fba2-4bec-8c17-f4546fca6337",
   "metadata": {},
   "source": [
    "## Research question\n",
    "\n",
    "**Is there a relationship between total fare amount and payment type?**\n",
    "Can we nudge customers towards payment methods that generate higher revenue for drivers, without negatively impacting customer experience?"
   ]
  },
  {
   "cell_type": "markdown",
   "id": "32e923dc-4445-4b46-b3d2-6a45ec64efba",
   "metadata": {},
   "source": [
    "## Downloading dataset"
   ]
  },
  {
   "cell_type": "code",
   "execution_count": 1,
   "id": "a52bfbc1-8542-497d-b8d2-c449f80f8031",
   "metadata": {},
   "outputs": [],
   "source": [
    "from urllib.request import urlretrieve\n",
    "\n",
    "url = \"https://data.cityofnewyork.us/api/views/kxp8-n2sj/rows.csv?accessType=DOWNLOAD\"\n",
    "data = urlretrieve(url, \"yellow taxi trip.csv\")"
   ]
  },
  {
   "cell_type": "markdown",
   "id": "d957437f-1086-4cef-8094-267c8e4d8463",
   "metadata": {},
   "source": [
    "## Importing library"
   ]
  },
  {
   "cell_type": "code",
   "execution_count": 1,
   "id": "0610ca0b-d834-40f7-b695-f6420c65a017",
   "metadata": {},
   "outputs": [],
   "source": [
    "import pandas as pd\n",
    "import matplotlib.pyplot as plt\n",
    "import seaborn as sns\n",
    "import scipy.stats as st\n",
    "\n",
    "import warnings\n",
    "warnings.filterwarnings('ignore')"
   ]
  },
  {
   "cell_type": "markdown",
   "id": "baf60618-95d3-4d47-89b1-2745d83845fa",
   "metadata": {},
   "source": [
    "## Loading dataset "
   ]
  },
  {
   "cell_type": "code",
   "execution_count": null,
   "id": "e88c7e75-77f2-4c15-af8b-fd8b5526bb8c",
   "metadata": {},
   "outputs": [],
   "source": [
    "%%time\n",
    "\n",
    "df = pd.read_csv(\"yellow taxi trip.csv\")"
   ]
  },
  {
   "cell_type": "code",
   "execution_count": null,
   "id": "5308d309-6a86-46fc-ad09-b61338ef0335",
   "metadata": {},
   "outputs": [],
   "source": [
    "df.head()"
   ]
  },
  {
   "cell_type": "markdown",
   "id": "b4206b9b-0757-461a-822e-64debeb64311",
   "metadata": {},
   "source": [
    "## Exploratory data analysis"
   ]
  },
  {
   "cell_type": "code",
   "execution_count": null,
   "id": "80070d92-3bb8-4b30-b8f7-3a7b6593900e",
   "metadata": {},
   "outputs": [],
   "source": [
    "df.shape"
   ]
  },
  {
   "cell_type": "code",
   "execution_count": null,
   "id": "e86ea187-dd41-4481-9bcb-95d3ec11886e",
   "metadata": {},
   "outputs": [],
   "source": [
    "df.columns"
   ]
  },
  {
   "cell_type": "code",
   "execution_count": null,
   "id": "f758d92e-2082-4146-8208-fd6a95f09b32",
   "metadata": {},
   "outputs": [],
   "source": [
    "df.info()"
   ]
  },
  {
   "cell_type": "code",
   "execution_count": null,
   "id": "512d4385-56d5-4bbf-87ec-6ec998f94f5b",
   "metadata": {},
   "outputs": [],
   "source": [
    "df['tpep_pickup_datetime'] = pd.to_datetime(df['tpep_pickup_datetime'])\n",
    "df['tpep_dropoff_datetime'] = pd.to_datetime(df['tpep_dropoff_datetime'])"
   ]
  },
  {
   "cell_type": "code",
   "execution_count": null,
   "id": "af3ef2a9-bb55-4e88-ab80-cbc9c66beb22",
   "metadata": {},
   "outputs": [],
   "source": [
    "df['duration'] = df['tpep_dropoff_datetime'] - df['tpep_pickup_datetime'] # give in days\n",
    "df['duration'] = df['duration'].dt.total_seconds()/60 # in minutes"
   ]
  },
  {
   "cell_type": "code",
   "execution_count": null,
   "id": "14b3d705-0bed-4200-898d-eec85082df37",
   "metadata": {},
   "outputs": [],
   "source": [
    "df = df[['passenger_count', 'payment_type', 'fare_amount', 'trip_distance', 'duration']]"
   ]
  }
 ],
 "metadata": {
  "kernelspec": {
   "display_name": "Python 3 (ipykernel)",
   "language": "python",
   "name": "python3"
  },
  "language_info": {
   "codemirror_mode": {
    "name": "ipython",
    "version": 3
   },
   "file_extension": ".py",
   "mimetype": "text/x-python",
   "name": "python",
   "nbconvert_exporter": "python",
   "pygments_lexer": "ipython3",
   "version": "3.9.6"
  }
 },
 "nbformat": 4,
 "nbformat_minor": 5
}
