{
 "cells": [
  {
   "cell_type": "markdown",
   "id": "71d3a9ed",
   "metadata": {},
   "source": [
    "# Creating an API"
   ]
  },
  {
   "cell_type": "markdown",
   "id": "bd7b3a88",
   "metadata": {},
   "source": [
    "1. Create virtual environment using command: `python -m venv apienv`\n",
    "2. Activate virtual environment using command:`apienv/Scripts/activate`\n",
    "3. Install Djnago using command: `pip install django`\n",
    "4. Intall Djnago rest framework using command: `pip install djangorestframework`\n",
    "5. Create Django project using command: `django-admin startproject companyapi`\n",
    "6. Navigate inside project directory using command: `cd companyapi`\n",
    "6. Create an app using command: `python manage.py startapp api`\n",
    "7. Open `settings.py`(companyapi) and add app `api` and `rest_framework` inside `INSTALLED_APPS`\n",
    "8. Open `models.py`(api) and create models `Company` and `Employee` having one-one relationship using following lines of code\n",
    "9. Create a file \"serializers.py\" inside `api` folder\n",
    "10. Open `serializers.py`(api) and create serialzer using following lines of code\n",
    "11. Open `views.py`(api) and create view set using following lines of code\n",
    "12. Create a file \"urls.py\" inside `api` folder\n",
    "13. Open `urls.py`(api) and create urls\n",
    "14. Open `urls.py`(companyapi) and create url\n",
    "15. Run command: `python manage.py makemigrations`\n",
    "16. Run command: `python manage.py migrate`"
   ]
  },
  {
   "cell_type": "code",
   "execution_count": null,
   "id": "32109d1a",
   "metadata": {},
   "outputs": [],
   "source": [
    "# Step8- companyapi/settings.py:\n",
    "\n",
    "INSTALLED_APPS = [\n",
    "    'django.contrib.admin',\n",
    "    'django.contrib.auth',\n",
    "    'django.contrib.contenttypes',\n",
    "    'django.contrib.sessions',\n",
    "    'django.contrib.messages',\n",
    "    'django.contrib.staticfiles',\n",
    "    'api', # app\n",
    "    'rest_framework', # rest framework\n",
    "]"
   ]
  },
  {
   "cell_type": "code",
   "execution_count": null,
   "id": "0676c590",
   "metadata": {},
   "outputs": [],
   "source": [
    "# Step9- api/models.py:\n",
    "\n",
    "from django.db import models\n",
    "\n",
    "# Create your models here.\n",
    "\n",
    "TYPE=(\n",
    "    ('IT','IT'),\n",
    "    ('Non IT','Non IT'),\n",
    "    ('Mobile Phones','Mobile Phones')\n",
    ")\n",
    "\n",
    "class Company(models.Model):\n",
    "    company_id=models.AutoField(primary_key=True)\n",
    "    name=models.CharField(max_length=50)\n",
    "    location=models.CharField(max_length=50)\n",
    "    about=models.TextField()\n",
    "    type=models.CharField(max_length=100, choices=TYPE)\n",
    "    added_date=models.DateTimeField(auto_now=True)\n",
    "    active=models.BooleanField(default=True)\n",
    "    \n",
    "    def __str__(self):\n",
    "        return self.name\n",
    "    \n",
    "DESIGNATION=(\n",
    "    ('Manager', 'Manager'),\n",
    "    ('Software Developer', 'sd'),\n",
    "    ('Project leader', 'pl')\n",
    ")\n",
    "class Employee(models.Model):\n",
    "    name=models.CharField(max_length=100)\n",
    "    email=models.CharField(max_length=50)\n",
    "    addres= models.CharField(max_length=200)\n",
    "    phone=models.CharField(max_length=10)\n",
    "    about=models.TextField()\n",
    "    position=models.CharField(max_length=50, choices=DESIGNATION)\n",
    "    company=models.ForeignKey(Company, on_delete=models.CASCADE)"
   ]
  },
  {
   "cell_type": "code",
   "execution_count": null,
   "id": "fb9fc959",
   "metadata": {},
   "outputs": [],
   "source": [
    "# Step11- api/serializers.py\n",
    "\n",
    "from rest_framework import serializers\n",
    "from api.models import Company, Employee\n",
    "\n",
    "class CompanySerializer(serializers.HyperlinkedModelSerializer):\n",
    "    company_id = serializers.ReadOnlyField() # exposing id\n",
    "    class Meta:\n",
    "        model=Company\n",
    "        fields=\"__all__\"\n",
    "        \n",
    "class EmployeeSerializer(serializers.HyperlinkedModelSerializer):\n",
    "    id = serializers.ReadOnlyField() # exposing id\n",
    "    class Meta:\n",
    "        model=Employee\n",
    "        fields=\"__all__\""
   ]
  },
  {
   "cell_type": "code",
   "execution_count": null,
   "id": "cd90655b",
   "metadata": {},
   "outputs": [],
   "source": [
    "# Step12- api/views.py:\n",
    "\n",
    "from django.shortcuts import render\n",
    "from rest_framework import viewsets\n",
    "from api.models import Company, Employee\n",
    "from api.serializers import CompanySerializer, EmployeeSerializer\n",
    "\n",
    "# Create your views here.\n",
    "class CompanyViewSet(viewsets.ModelViewSet):\n",
    "    queryset=Company.objects.all()\n",
    "    serializer_class=CompanySerializer\n",
    "    \n",
    "class EmployeeViewSet(viewsets.ModelViewSet):\n",
    "    queryset=Employee.objects.all()\n",
    "    serializer_class=EmployeeSerializer"
   ]
  },
  {
   "cell_type": "code",
   "execution_count": null,
   "id": "97c7a1b2",
   "metadata": {},
   "outputs": [],
   "source": [
    "# Step14- api/urls.py:\n",
    "\n",
    "from django.urls import path, include\n",
    "from rest_framework import routers\n",
    "\n",
    "from api.views import CompanyViewSet, EmployeeViewSet\n",
    "\n",
    "\n",
    "router=routers.DefaultRouter()\n",
    "router.register(r'companies', CompanyViewSet)\n",
    "router.register(r'employees', EmployeeViewSet)\n",
    "\n",
    "urlpatterns = [\n",
    "    path('v1/',include(router.urls)) \n",
    "]\n",
    "\n",
    "# url will be like: v1/companies\n",
    "# url will be like: v1/employees"
   ]
  },
  {
   "cell_type": "code",
   "execution_count": null,
   "id": "71ffd994",
   "metadata": {},
   "outputs": [],
   "source": [
    "# Step15- companyapi/urls.py:\n",
    "\n",
    "from django.contrib import admin\n",
    "from django.urls import path, include\n",
    "\n",
    "urlpatterns = [\n",
    "    path('admin/', admin.site.urls),\n",
    "    path('api/', include(\"api.urls\")), \n",
    "]\n",
    "\n",
    "# complete url will be like: api/v1/companies\n",
    "# complete url will be like: api/v1/employees"
   ]
  },
  {
   "cell_type": "markdown",
   "id": "bed7c83c",
   "metadata": {},
   "source": [
    "# Create a custom URL to get data"
   ]
  },
  {
   "cell_type": "markdown",
   "id": "0a698474",
   "metadata": {},
   "source": [
    "What we want here is we want to create an url that will fetch the record of all employee of a specific company as per our aboove example. Let's say our url for this will be like this: companies/{company_id}/employees\n",
    "\n",
    "1. Open `views.py`(api) and update the code using following lines of code"
   ]
  },
  {
   "cell_type": "code",
   "execution_count": null,
   "id": "c94ce6b5",
   "metadata": {},
   "outputs": [],
   "source": [
    "# Step1- api/views.py:\n",
    "\n",
    "from django.shortcuts import render\n",
    "from rest_framework import viewsets\n",
    "from api.models import Company, Employee\n",
    "from api.serializers import CompanySerializer, EmployeeSerializer\n",
    "from rest_framework.decorators import action\n",
    "from rest_framework.response import Response\n",
    "\n",
    "# Create your views here.\n",
    "class CompanyViewSet(viewsets.ModelViewSet):\n",
    "    queryset=Company.objects.all()\n",
    "    serializer_class=CompanySerializer\n",
    "    \n",
    "    # companies{company_id}/employees\n",
    "    @action(detail=True, methods=['GET'])\n",
    "    def employees(self, request, pk=None):\n",
    "        try:\n",
    "            company=Company.objects.get(pk=pk)\n",
    "            emps=Employee.objects.filter(company=company)\n",
    "            emps_serializer=EmployeeSerializer(emps, many=True, context={'request':request})\n",
    "            return Response(emps_serializer.data)\n",
    "        except Exception as e:\n",
    "            return Response({'error':str(e)})\n",
    "    \n",
    "class EmployeeViewSet(viewsets.ModelViewSet):\n",
    "    queryset=Employee.objects.all()\n",
    "    serializer_class=EmployeeSerializer"
   ]
  },
  {
   "cell_type": "markdown",
   "id": "cda3b3a9",
   "metadata": {},
   "source": [
    "# Making API read only and only can access JSON data"
   ]
  },
  {
   "cell_type": "markdown",
   "id": "4717bf01",
   "metadata": {},
   "source": [
    "1. Open `settings.py`(companyapi) and add following settings"
   ]
  },
  {
   "cell_type": "code",
   "execution_count": null,
   "id": "bcba9db8",
   "metadata": {},
   "outputs": [],
   "source": [
    "# Step1- companyapi/settings.py:\n",
    "\n",
    "REST_FRAMEWORK = {\n",
    "    # Use Django's standard `django.contrib.auth` permissions,\n",
    "    # or allow read-only access for unauthenticated users.\n",
    "    'DEFAULT_PERMISSION_CLASSES': [ # for read only\n",
    "        'rest_framework.permissions.DjangoModelPermissionsOrAnonReadOnly' \n",
    "    ],\n",
    "    'DEFAULT_RENDERER_CLASSES':[ # for sending JSON data\n",
    "        'rest_framework.renderers.JSONRenderer',\n",
    "    ]\n",
    "}"
   ]
  }
 ],
 "metadata": {
  "kernelspec": {
   "display_name": "Python 3 (ipykernel)",
   "language": "python",
   "name": "python3"
  },
  "language_info": {
   "codemirror_mode": {
    "name": "ipython",
    "version": 3
   },
   "file_extension": ".py",
   "mimetype": "text/x-python",
   "name": "python",
   "nbconvert_exporter": "python",
   "pygments_lexer": "ipython3",
   "version": "3.9.6"
  }
 },
 "nbformat": 4,
 "nbformat_minor": 5
}
