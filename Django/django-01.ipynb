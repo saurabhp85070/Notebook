{
 "cells": [
  {
   "cell_type": "markdown",
   "id": "7583f2c9-4250-4c74-b952-64b850c11668",
   "metadata": {},
   "source": [
    "# Reference\n",
    "\n",
    "- https://youtu.be/6tdfhlIoxOw?si=2JjIqynk74ARR6tl\n",
    "- https://youtube.com/playlist?list=PLbGui_ZYuhigchy8DTw4pX4duTTpvqlh6&si=zBD81sCTjZWWVHnv\n",
    "- https://youtube.com/playlist?list=PLbGui_ZYuhigUfO47FLx4ocfmo1071hlc&si=Hhw0ku7qo7NPc_8w"
   ]
  },
  {
   "cell_type": "markdown",
   "id": "ef4bb9e3",
   "metadata": {},
   "source": [
    "<pre id='l1'></pre>\n",
    "# How to start with Django project?"
   ]
  },
  {
   "cell_type": "markdown",
   "id": "7dd69890",
   "metadata": {},
   "source": [
    "1. Create a folder and name it suitably.\n",
    "2. Create virtual environment by command: `python -m venv myenv`\n",
    "3. Activate virtual environment by command: `myenv/Scripts/activate`\n",
    "4. Install Django using command: `pip install django`\n",
    "5. Now create django project using command: `django-admin startproject myproject` OR `django-admin startproject myproject .`\n",
    "6. Navigate inside project directory using command: `cd myproject`\n",
    "7. Create an app using command: `python manage.py startapp myapp`\n",
    "8. Open `settings.py`(myproject) and add app in `INSTALLED_APPS` which we can see below\n",
    "9. Now run server using command: `python manage.py runserver`"
   ]
  },
  {
   "cell_type": "code",
   "execution_count": null,
   "id": "1b736eb9",
   "metadata": {},
   "outputs": [],
   "source": [
    "# Step8- myproject/settings.py:\n",
    "\n",
    "INSTALLED_APPS = [\n",
    "    'django.contrib.admin',\n",
    "    'django.contrib.auth',\n",
    "    'django.contrib.contenttypes',\n",
    "    'django.contrib.sessions',\n",
    "    'django.contrib.messages',\n",
    "    'django.contrib.staticfiles',\n",
    "    \n",
    "    'myapp', # OR 'myapp.apps.MyappConfig'\n",
    "]"
   ]
  },
  {
   "cell_type": "markdown",
   "id": "4d53f6b3",
   "metadata": {},
   "source": [
    "**We can runserver at specific port using command:** `python manage.py runserver 6000`"
   ]
  },
  {
   "cell_type": "markdown",
   "id": "a8b65f62",
   "metadata": {},
   "source": [
    "# Object Relational Mapper (ORM)\n",
    "\n",
    "- Object-Relational Mapper (ORM), which enables application to interact with database such as SQLite, MySQL, PostgreSQL, Oracle.\n",
    "- ORMs automatically create a database schema from defined classes or models. It generate SQL from Python code for a particular database which means developer do not need to write SQL Code.\n",
    "- ORM maps objects attributes to respective table fields.\n",
    "- It is easier to change the database if we use ORMs hence project becomes more portable.\n",
    "- Django's ORM is just a way to create SQL to query and manipulate your database and get results in a pythonic fashion.\n",
    "- ORMS use connectors to connect databases with a web application."
   ]
  },
  {
   "cell_type": "markdown",
   "id": "cfdfab0c",
   "metadata": {},
   "source": [
    "# QuerySet\n",
    "- A QuerySet can be defined as a list containing all those objects we have created using the Django model.\n",
    "- QuerySets allow you to read the data from the database, filter it and order it.\n",
    "- Querysets are generally associated with CRUD applications."
   ]
  },
  {
   "cell_type": "code",
   "execution_count": null,
   "id": "7eb751fd",
   "metadata": {},
   "outputs": [],
   "source": []
  },
  {
   "cell_type": "markdown",
   "id": "221c4d6a",
   "metadata": {},
   "source": [
    "<pre id='l2'></pre>\n",
    "# Creating views & mapping to urls "
   ]
  },
  {
   "cell_type": "markdown",
   "id": "f86dc09f-2fb8-40ec-92cc-76c76ea7725e",
   "metadata": {},
   "source": [
    "**syntax:**\n",
    "\n",
    "`path(route, view, kwargs=None, name=None)`\n",
    "\n",
    "- `kwargs` arguments allows you to pass additional arguments to view function or method. It should be dictionary."
   ]
  },
  {
   "cell_type": "markdown",
   "id": "baec0fd9",
   "metadata": {},
   "source": [
    "There are two ways to create and map urls:\n",
    "\n",
    "**First Method:**\n",
    "1. Open `views.py`(myapp) and add following lines of code to create a view in django.\n",
    "2. Open `urls.py` (myproject) and add following lines of code to create url that map to its corresponding view.\n",
    "3. `python manage.py runserver`"
   ]
  },
  {
   "cell_type": "code",
   "execution_count": 1,
   "id": "a8873d63",
   "metadata": {},
   "outputs": [],
   "source": [
    "# Step1- myapp/views.py:\n",
    "\n",
    "from django.shortcuts import render\n",
    "\n",
    "# Create your views here.\n",
    "from django.http import HttpResponse\n",
    "\n",
    "def myView(request):\n",
    "    return HttpResponse(\"Hello this is my first view code\")\n",
    "    \n",
    "    # we can add HTML tags in our text as well:\n",
    "    # return HttpResponse(\"<h1> Hello </h1>\")"
   ]
  },
  {
   "cell_type": "code",
   "execution_count": null,
   "id": "c70de92f",
   "metadata": {},
   "outputs": [],
   "source": [
    "# Step2- myproject/urls.py\n",
    "\n",
    "from django.contrib import admin\n",
    "from django.urls import path\n",
    "from myapp import views\n",
    "\n",
    "urlpatterns = [\n",
    "    path('admin/', admin.site.urls),\n",
    "    path('myurl/', views.myView, name='myurl'),  \n",
    "]"
   ]
  },
  {
   "cell_type": "markdown",
   "id": "1dd42141",
   "metadata": {},
   "source": [
    "**Second Method:(Recommended)**\n",
    "1. Open `views.py`(myapp) and add following lines of code to create a view in django.\n",
    "2. Create a file \"urls.py\" inside `myapp` folder.\n",
    "3. Now open `urls.py`(myapp) and add folowing lines of code to create mapping url at app level.\n",
    "3. Open `urls.py` (myproject) and add following lines of code to map app level url with project level to its corresponding view.\n",
    "4. `python manage.py runserver`"
   ]
  },
  {
   "cell_type": "code",
   "execution_count": null,
   "id": "102ecdf0",
   "metadata": {},
   "outputs": [],
   "source": [
    "# Step1- myapp/views.py:\n",
    "\n",
    "from django.shortcuts import render\n",
    "\n",
    "# Create your views here.\n",
    "from django.http import HttpResponse\n",
    "\n",
    "def myView(request):\n",
    "    return HttpResponse(\"Hello this is my first view code\")\n",
    "\n",
    "def htmlView(request):\n",
    "    return HttpResponse(\"<h1> Hello </h1>\")"
   ]
  },
  {
   "cell_type": "code",
   "execution_count": null,
   "id": "28312ad8",
   "metadata": {},
   "outputs": [],
   "source": [
    "# Step3- myapp/urls.py\n",
    "\n",
    "from django.urls import path\n",
    "from . import views\n",
    "\n",
    "urlpatterns = [\n",
    "    path('myurl/', views.myView, name='myurl'), # always use name atribute at app level when following second method\n",
    "    path('htmlview/', views.htmlView, name='htmlview'),\n",
    "]"
   ]
  },
  {
   "cell_type": "code",
   "execution_count": null,
   "id": "3ccd7819",
   "metadata": {},
   "outputs": [],
   "source": [
    "# Step4- myproject/urls.py\n",
    "\n",
    "from django.contrib import admin\n",
    "from django.urls import path, include\n",
    "\n",
    "urlpatterns = [\n",
    "    path('admin/', admin.site.urls),\n",
    "    path('myapp/', include(\"myapp.urls\")),  # Use a different base path\n",
    "]\n"
   ]
  },
  {
   "cell_type": "markdown",
   "id": "ae781a7e",
   "metadata": {},
   "source": [
    "Above code works well.\n",
    "\n",
    "**Here are chances that we may make a small mistake. Lets see that mistake:**\n",
    "\n",
    "**Remark:** Above approach is correct and will work without any conflicts."
   ]
  },
  {
   "cell_type": "code",
   "execution_count": null,
   "id": "4196ccc9",
   "metadata": {},
   "outputs": [],
   "source": [
    "# Step1- myapp/views.py:\n",
    "\n",
    "from django.shortcuts import render\n",
    "\n",
    "# Create your views here.\n",
    "from django.http import HttpResponse\n",
    "\n",
    "def home(request):\n",
    "    return HttpResponse(\"Hello this is my first view code\")\n",
    "\n",
    "def htmlView(request):\n",
    "    return HttpResponse(\"<h1> Hello </h1>\")"
   ]
  },
  {
   "cell_type": "code",
   "execution_count": null,
   "id": "4bdec28d",
   "metadata": {},
   "outputs": [],
   "source": [
    "# Step3- myapp/urls.py\n",
    "\n",
    "from django.urls import path\n",
    "from . import views\n",
    "\n",
    "urlpatterns = [\n",
    "    path('', views.home,), \n",
    "    path('', views.htmlView,),\n",
    "]"
   ]
  },
  {
   "cell_type": "code",
   "execution_count": null,
   "id": "3331d9d1",
   "metadata": {},
   "outputs": [],
   "source": [
    "# Step4- myproject/urls.py\n",
    "\n",
    "from django.contrib import admin\n",
    "from django.urls import path, include\n",
    "\n",
    "urlpatterns = [\n",
    "    path('admin/', admin.site.urls),\n",
    "    path('home/', include(\"myapp.urls\")),\n",
    "    path('htmlview/', include(\"myapp.urls\")),\n",
    "]\n"
   ]
  },
  {
   "cell_type": "markdown",
   "id": "921faea8",
   "metadata": {},
   "source": [
    "In above approach there is a confliction. If we have used above code then either we visit \"home/\" or \"htmlview/\" content is rendered from \"home/\" view only due to confliction.\n",
    "\n",
    "The issue in our code is that both urlpatterns in our `urls.py` (project level) are conflicting. \n",
    "Both `path('home/', include(\"myapp.urls\"))` and `path('htmlview/', include(\"myapp.urls\"))` are mapping to the same set of views in `myapp.urls`. As a result, when you access \"htmlview/\", it is using the view mapped to an empty `path ('')` in your `myapp.urls`, which is the home view.\n",
    "\n",
    "====================================================================================<hr>"
   ]
  },
  {
   "cell_type": "markdown",
   "id": "25a60e04",
   "metadata": {},
   "source": [
    "### `name` attribute in urls.py"
   ]
  },
  {
   "cell_type": "markdown",
   "id": "8568538e",
   "metadata": {},
   "source": [
    "The `name` attribute in Django URL patterns is used to uniquely identify a URL pattern, and it's often a good practice to use it. It can be useful in various scenarios, such as generating URLs dynamically in templates, reversing URLs in views, and making your code more readable and maintainable.\n",
    "\n",
    "Here are some considerations for where to use the name attribute:\n",
    "\n",
    "**At the App Level:**"
   ]
  },
  {
   "cell_type": "code",
   "execution_count": null,
   "id": "c630bf74",
   "metadata": {},
   "outputs": [],
   "source": [
    "# myapp/urls.py\n",
    "\n",
    "from django.urls import path\n",
    "from . import views\n",
    "\n",
    "urlpatterns = [\n",
    "    path('home/', views.home, name='home'),\n",
    "    path('htmlview/', views.htmlView, name='htmlview'),\n",
    "]"
   ]
  },
  {
   "cell_type": "markdown",
   "id": "1938160d",
   "metadata": {},
   "source": [
    "**At the Project Level:**\n",
    "Global Identification: If you have multiple apps within your project and want to have a global identification for URLs, you might choose to use names at the project level. This is especially relevant when combining multiple apps and needing to refer to URLs from different apps."
   ]
  },
  {
   "cell_type": "code",
   "execution_count": null,
   "id": "3c094c1b",
   "metadata": {},
   "outputs": [],
   "source": [
    "# myproject/urls.py\n",
    "\n",
    "from django.contrib import admin\n",
    "from django.urls import path, include\n",
    "\n",
    "urlpatterns = [\n",
    "    path('admin/', admin.site.urls),\n",
    "    path('myapp/', include(\"myapp.urls\", namespace='myapp')),  # Using namespace\n",
    "]"
   ]
  },
  {
   "cell_type": "markdown",
   "id": "10b92da1",
   "metadata": {},
   "source": [
    "**Combination:**\n",
    "You can also combine both approaches. Give names at the app level for internal organization and at the project level for global identification."
   ]
  },
  {
   "cell_type": "code",
   "execution_count": null,
   "id": "f45dacaa",
   "metadata": {},
   "outputs": [],
   "source": [
    "# myapp/urls.py\n",
    "from django.urls import path\n",
    "from . import views\n",
    "\n",
    "urlpatterns = [\n",
    "    path('home/', views.home, name='myapp_home'),\n",
    "    path('htmlview/', views.htmlView, name='myapp_htmlview'),\n",
    "]"
   ]
  },
  {
   "cell_type": "code",
   "execution_count": null,
   "id": "d2581c66",
   "metadata": {},
   "outputs": [],
   "source": [
    "# myproject/urls.py\n",
    "from django.contrib import admin\n",
    "from django.urls import path, include\n",
    "\n",
    "urlpatterns = [\n",
    "    path('admin/', admin.site.urls),\n",
    "    path('myapp/', include(\"myapp.urls\")),\n",
    "]"
   ]
  },
  {
   "cell_type": "markdown",
   "id": "32bfc531",
   "metadata": {},
   "source": [
    "Let’s understand more on second scenario (Project level) that is discussed above. Certainly! Let's create a complete example to demonstrate using names at the project level for global identification when combining multiple apps. In this example, I'll assume there are two apps, myapp1 and myapp2, within the project.\n",
    "\n",
    "We have our project structure like this:"
   ]
  },
  {
   "cell_type": "code",
   "execution_count": null,
   "id": "894f5ea8",
   "metadata": {},
   "outputs": [],
   "source": [
    "myproject/\n",
    "|-- myproject/\n",
    "|   |-- settings.py\n",
    "|   |-- urls.py\n",
    "|-- myapp1/\n",
    "|   |-- views.py\n",
    "|   |-- urls.py\n",
    "|-- myapp2/\n",
    "|   |-- views.py\n",
    "|   |-- urls.py\n",
    "|-- manage.py"
   ]
  },
  {
   "cell_type": "code",
   "execution_count": null,
   "id": "c608216a",
   "metadata": {},
   "outputs": [],
   "source": [
    "# myapp1/urls.py\n",
    "\n",
    "from django.urls import path\n",
    "from . import views\n",
    "\n",
    "urlpatterns = [\n",
    "    path('home/', views.home, name='myapp1_home'),\n",
    "    path('htmlview/', views.htmlView, name='myapp1_htmlview'),\n",
    "]"
   ]
  },
  {
   "cell_type": "code",
   "execution_count": null,
   "id": "76578118",
   "metadata": {},
   "outputs": [],
   "source": [
    "# myapp2/urls.py\n",
    "\n",
    "from django.urls import path\n",
    "from . import views\n",
    "\n",
    "urlpatterns = [\n",
    "    path('about/', views.about, name='myapp2_about'),\n",
    "    path('contact/', views.contact, name='myapp2_contact'),\n",
    "]"
   ]
  },
  {
   "cell_type": "code",
   "execution_count": null,
   "id": "6f7091b2",
   "metadata": {},
   "outputs": [],
   "source": [
    "# myproject/urls.py\n",
    "\n",
    "from django.contrib import admin\n",
    "from django.urls import path, include\n",
    "\n",
    "urlpatterns = [\n",
    "    path('admin/', admin.site.urls),\n",
    "    path('myapp1/', include('myapp1.urls', namespace='myapp1')),\n",
    "    path('myapp2/', include('myapp2.urls', namespace='myapp2')),\n",
    "]"
   ]
  },
  {
   "cell_type": "code",
   "execution_count": null,
   "id": "2479a118",
   "metadata": {},
   "outputs": [],
   "source": [
    "# myapp1/views.py\n",
    "\n",
    "from django.http import HttpResponse\n",
    "\n",
    "def home(request):\n",
    "    return HttpResponse(\"Hello from myapp1 - Home!\")\n",
    "\n",
    "def htmlView(request):\n",
    "    return HttpResponse(\"<h1>HTML View from myapp1</h1>\")"
   ]
  },
  {
   "cell_type": "code",
   "execution_count": null,
   "id": "b9783617",
   "metadata": {},
   "outputs": [],
   "source": [
    "# myapp2/views.py\n",
    "\n",
    "from django.http import HttpResponse\n",
    "\n",
    "def about(request):\n",
    "    return HttpResponse(\"About page from myapp2\")\n",
    "\n",
    "def contact(request):\n",
    "    return HttpResponse(\"Contact page from myapp2\")"
   ]
  },
  {
   "cell_type": "markdown",
   "id": "cd0a30db",
   "metadata": {},
   "source": [
    "Now, when you want to refer to a URL from either `myapp1` or `myapp2`, you can use the `namespace` provided in the project-level `urls.py`. For example, to reverse the URL for the home view in myapp1 from within another app or view, you can do:"
   ]
  },
  {
   "cell_type": "code",
   "execution_count": null,
   "id": "e14ae42a",
   "metadata": {},
   "outputs": [],
   "source": [
    "from django.urls import reverse\n",
    "\n",
    "url = reverse('myapp1:myapp1_home')"
   ]
  },
  {
   "cell_type": "markdown",
   "id": "77da1c89",
   "metadata": {},
   "source": [
    "This helps in avoiding naming conflicts and provides a clear global identification for your URLs. Adjust the names and structure according to your specific needs.\n",
    "\n",
    "===================================================================================<hr>\n",
    "\n",
    "In Django, a \"reverse URL\" refers to the process of generating a URL based on the name of a URL pattern and its associated parameters. This is the opposite of the more common process, which is resolving a URL from a given path to find the corresponding view.\n",
    "\n",
    "The `reverse()` function in Django's django.urls module is used to perform the reverse URL matching. It takes the name of a URL pattern and, optionally, any required parameters and returns the corresponding URL as a string.\n",
    "\n",
    "**When is `reverse()` used?**\n",
    "\n",
    "Dynamic URL Generation:\n",
    "\n",
    "When you have a URL pattern with a name, and you want to dynamically generate URLs in your code instead of hardcoding them.\n",
    "Useful in templates, views, and other parts of your code where you need to create links to specific views.\n",
    "\n",
    "Avoiding Hardcoded URLs:\n",
    "\n",
    "Helps in avoiding hardcoded URLs, which can be error-prone and make your code less maintainable.\n",
    "Makes it easier to update URLs without changing them in multiple places.\n",
    "\n",
    "Refactoring and Reusability:\n",
    "Promotes code modularity and reusability. If you decide to change the URL structure or move a view to a different location, you only need to update the URL configuration, and the rest of your code that uses reverse() remains unchanged.\n",
    "\n",
    "Example:\n",
    "Suppose you have the following URL pattern in your `urls.py`:"
   ]
  },
  {
   "cell_type": "code",
   "execution_count": null,
   "id": "e367b3b5",
   "metadata": {},
   "outputs": [],
   "source": [
    "# urls.py\n",
    "from django.urls import path\n",
    "from . import views\n",
    "\n",
    "urlpatterns = [\n",
    "    path('my_view/<int:pk>/', views.my_view, name='my_view'),\n",
    "]"
   ]
  },
  {
   "cell_type": "markdown",
   "id": "bbeb4450",
   "metadata": {},
   "source": [
    "Now, in your code (e.g., a view or a template), instead of hardcoding the URL, you can use reverse():"
   ]
  },
  {
   "cell_type": "code",
   "execution_count": null,
   "id": "77a4ce27",
   "metadata": {},
   "outputs": [],
   "source": [
    "# views.py\n",
    "from django.urls import reverse\n",
    "from django.shortcuts import render\n",
    "from django.http import HttpResponseRedirect\n",
    "\n",
    "def redirect_to_my_view(request):\n",
    "    # Assuming 'pk_value' is some dynamic value\n",
    "    pk_value = 123\n",
    "\n",
    "    # Using reverse to generate the URL\n",
    "    url = reverse('my_view', args=[pk_value])\n",
    "\n",
    "    # Redirecting to the generated URL\n",
    "    return HttpResponseRedirect(url)"
   ]
  },
  {
   "cell_type": "markdown",
   "id": "96b1e6c6",
   "metadata": {},
   "source": [
    "In a template, you can use the {% url %} template tag, which is essentially a shortcut for reverse():"
   ]
  },
  {
   "cell_type": "code",
   "execution_count": null,
   "id": "cd958a6e",
   "metadata": {},
   "outputs": [],
   "source": [
    "# <!-- template.html -->\n",
    "<a href=\"{% url 'my_view' pk=123 %}\">Link to My View</a>"
   ]
  },
  {
   "cell_type": "markdown",
   "id": "df396ad9",
   "metadata": {},
   "source": [
    "<pre id='l3'></pre>\n",
    "# Creating dynamic URL"
   ]
  },
  {
   "cell_type": "markdown",
   "id": "4d72ac68",
   "metadata": {},
   "source": [
    "1. Open `urls.py`(myapp) and add following lines of code.\n",
    "2. Open `views.py`(myapp) and create a mapping url."
   ]
  },
  {
   "cell_type": "code",
   "execution_count": null,
   "id": "d73dcf58",
   "metadata": {},
   "outputs": [],
   "source": [
    "# Step1: myapp/urls.py:\n",
    "        \n",
    "from django.urls import path\n",
    "from . import views\n",
    "\n",
    "urlpatterns = [\n",
    "    path('dynamicurl/<str:dish>/', views.showDish, name='dynurl'), # dynamicurl/pasta/\n",
    "    # path('dynamicurl/<int:dish>/', views.showDish, name='dynurl'), # dynamicurl/12/\n",
    "    # path('dynamicurl/<slug:dish>/', views.showDish, name='dynurl'), # dynamicurl/this-is-slug-type/\n",
    "     # path('dynamicurl/<uuid:dish>/', views.showDish, name='dynurl'),\n",
    "]"
   ]
  },
  {
   "cell_type": "code",
   "execution_count": null,
   "id": "9a18ad50",
   "metadata": {},
   "outputs": [],
   "source": [
    "# Step2: myapp/views.py:\n",
    "\n",
    "from django.shortcuts import render\n",
    "\n",
    "# Create your views here.\n",
    "from django.http import HttpResponse\n",
    "\n",
    "def showDish(request, dish): # 'dish' name should be same as in 'urls.py'\n",
    "    item={\n",
    "        'pasta': \"this is pasta\",\n",
    "        'cake': \"this is cake\",\n",
    "        'tea': \"this is tea\",\n",
    "    }\n",
    "    description=item[dish]\n",
    "    return HttpResponse(f\"<h3>{dish}</h3>:\"+description)"
   ]
  },
  {
   "cell_type": "markdown",
   "id": "7803aef3",
   "metadata": {},
   "source": [
    "<pre id='l3a'></pre>\n",
    "# Regular expression in urls"
   ]
  },
  {
   "cell_type": "markdown",
   "id": "9d6dce6c",
   "metadata": {},
   "source": [
    "Suppose we have been tasked to create a menu item page for the Little Lemon website. The page displays content for each item on the menu. Instead of making a specific page for each menu item, we can define the dynamic URL structure that will pass the menu item ID to the view function. The content of the page will depend on the menu item value pasta to the view function from the URL. Based on the ID value pasta in the URL, the logic in the view function will determine what type of data to display, like a menu item name. The advantage for developers is that they only need to create one page. Instead of creating individual static pages for each menu item, developers only need to create one page whose content updates dynamically based on the values pasta in the URL. \n",
    "\n",
    "- Regular expression are a powerful tool that developers use to perform `extraction` and `validation`, `advanced searching`, `group searches`, and `find` and `replace` operations. \n",
    "\n",
    "- In django, developers use regular expressions to `define`, `extract` and `validate dynamic URL paths` before they are sent to the associated view function. \n",
    "\n",
    "- Sometimes a symbol can be used for one or more purposes or the same symbol can behave differently depending on the case. "
   ]
  },
  {
   "cell_type": "code",
   "execution_count": null,
   "id": "0b3af581",
   "metadata": {},
   "outputs": [],
   "source": [
    "# myapp/ursl.py:\n",
    "\n",
    "from django.urls import path, re_path\n",
    "from . import views\n",
    "\n",
    "urlpatterns = [\n",
    "    path('menu_item/10', views.menuDisplay, name='menu'),\n",
    "    re_path(r'^menu_item/([0-9]{2}/$)', views.menuDisplay, name='menu') # regular expression\n",
    "]"
   ]
  },
  {
   "cell_type": "markdown",
   "id": "b28c5b5b",
   "metadata": {},
   "source": [
    "<pre id='l4'></pre>\n",
    "# Rendering HTML template and sending data from view to webpage"
   ]
  },
  {
   "cell_type": "markdown",
   "id": "c50139d1",
   "metadata": {},
   "source": [
    "1. Create a folder \"tenplates\" inside project(package) folder\n",
    "2. Open `settings.py`(myproject) and add \"templates\" in `DIRS` which is inside `TEMPLATES`\n",
    "3. Open `views.py`(myapp) and create a view that can render html file using respective function and also pass some data\n",
    "4. Open `urls.py`(myapp) and create URL that map to its corresponding view\n",
    "5. Now create html file/s inside `template` folder and add following line of code in .html(\"myhtml.html\") file"
   ]
  },
  {
   "cell_type": "code",
   "execution_count": null,
   "id": "c4388be4",
   "metadata": {},
   "outputs": [],
   "source": [
    "# Step2- myproject/settings.py:\n",
    "\n",
    "TEMPLATES = [\n",
    "    {\n",
    "        'BACKEND': 'django.template.backends.django.DjangoTemplates',\n",
    "        'DIRS': ['templates'], # here add folder name OR os.path.join(BASE_DIR, \"tempalates\")\n",
    "        'APP_DIRS': True,\n",
    "        'OPTIONS': {\n",
    "            'context_processors': [\n",
    "                'django.template.context_processors.debug',\n",
    "                'django.template.context_processors.request',\n",
    "                'django.contrib.auth.context_processors.auth',\n",
    "                'django.contrib.messages.context_processors.messages',\n",
    "            ],\n",
    "        },\n",
    "    },\n",
    "]"
   ]
  },
  {
   "cell_type": "code",
   "execution_count": null,
   "id": "0ee58cfd",
   "metadata": {},
   "outputs": [],
   "source": [
    "# Step3- myapp/views.py:\n",
    "\n",
    "from django.shortcuts import render\n",
    "\n",
    "# Create your views here.\n",
    "\n",
    "def htmlRender(request):\n",
    "    data={'name':'My name is django'}\n",
    "    return render(request, 'myhtml.html', context = data) # context is always pass a dictionary"
   ]
  },
  {
   "cell_type": "code",
   "execution_count": null,
   "id": "46a60e47",
   "metadata": {},
   "outputs": [],
   "source": [
    "# Step4- myapp.urls.py:\n",
    "\n",
    "from django.urls import path\n",
    "from . import views\n",
    "\n",
    "\n",
    "urlpatterns = [\n",
    "    path('htmlrender/', views.htmlRender, name='template'),\n",
    "]"
   ]
  },
  {
   "cell_type": "code",
   "execution_count": null,
   "id": "6c53184d",
   "metadata": {},
   "outputs": [],
   "source": [
    "# Step5- templates/myhtml.html:\n",
    "\n",
    "<!DOCTYPE html>\n",
    "<html lang=\"en\">\n",
    "<head>\n",
    "    <meta charset=\"UTF-8\">\n",
    "    <meta name=\"viewport\" content=\"width=device-width, initial-scale=1.0\">\n",
    "    <title>Document</title>\n",
    "</head>\n",
    "<body>\n",
    "    <h1>rendering template</h1>\n",
    "    \n",
    "    {{name}} # data from views.py\n",
    "    \n",
    "</body>\n",
    "</html>"
   ]
  },
  {
   "cell_type": "markdown",
   "id": "b3b36c9e",
   "metadata": {},
   "source": [
    "### templates at app level\n",
    "\n",
    "We can also create `templates` folder at app level that is inside `myapp` folder and for this approach we don't have to do any change in our `settings.py`(myproject). Only thing that we have to do in this case is to make sure is that `APP_DIRS` variable (in our `settings.py`) inside `TEMPLATES` is set to `True`(by default it is set `True` as well but we have to make sure).\n",
    "\n",
    "- Lets's say we have two apps `myapp1` and `myapp2` and we are creating `templates` folder inside both apps folder. Let's say both `templates` folder file with same name `base.html` for their specific apps. But this will create a conflict while rendering the `styles.css`. \n",
    "- To avoid this conflict we should create another folder inside `templates` folder with name of app.\n",
    "- So, our folder structure will look like this:\n",
    "\n",
    "<pre>\n",
    "myproject/\n",
    "|-- myproject/\n",
    "|   |-- settings.py\n",
    "|   |-- urls.py\n",
    "|-- myapp1/\n",
    "|   |-- templates/myapp1/\n",
    "|   |             |-- base.html\n",
    "|   |-- views.py\n",
    "|   |-- urls.py\n",
    "|-- myapp2/\n",
    "|   |-- templates/myapp2/\n",
    "|   |             |-- base.html\n",
    "|   |-- views.py\n",
    "|   |-- urls.py\n",
    "|-- manage.py\n",
    "</pre>\n",
    "\n",
    "**Remark:** We can create `templates` folder at project level and at app level at same time. And for that `settings.py`(myproject) will be updated accordingly likewise we were doing it separately at project level and app level."
   ]
  },
  {
   "cell_type": "markdown",
   "id": "edaf060c",
   "metadata": {},
   "source": [
    "<pre id='l4a'></pre>\n",
    "# Best practices to maintain templates inside the project"
   ]
  },
  {
   "cell_type": "markdown",
   "id": "c7cf54e4",
   "metadata": {},
   "source": [
    "Each approach has its pros and cons, and industry practices may vary. Let's explore each approach:\n",
    "\n",
    "### Project-Level Templates:\n",
    "\n",
    "`Pros:`\n",
    "- Centralized location for templates.\n",
    "- Common templates shared across multiple apps can be easily managed.\n",
    "\n",
    "`Cons:`\n",
    "- May become cluttered and less maintainable as the project grows.\n",
    "- Harder to maintain modularity and reuse.\n",
    "\n",
    "**Recommendation:** Use this approach for smaller projects where the number of templates is limited, and centralization is not a concern.\n",
    "\n",
    "### App-Level Templates:\n",
    "\n",
    "`Pros:`\n",
    "- Templates are kept close to the corresponding app, enhancing modularity.\n",
    "- Easier to reuse apps in other projects with their templates.\n",
    "\n",
    "`Cons:`\n",
    "- Can lead to duplication of templates if multiple apps have similar functionality.\n",
    "- Collaboration across multiple apps might become challenging.\n",
    "\n",
    "**Recommendation:** Suitable for medium-sized projects with distinct apps that can function independently. This approach can help maintain modularity and improve app portability.\n",
    "\n",
    "### Combining Project and App-Level Templates:\n",
    "\n",
    "`Pros:`\n",
    "- Achieves a balance between centralization and modularity.\n",
    "- Shared templates can be placed at the project level, while app-specific templates remain in their respective apps.\n",
    "\n",
    "`Cons:`\n",
    "- Requires thoughtful organization to avoid confusion and maintain clarity.\n",
    "\n",
    "**Recommendation:** This is often considered a good compromise, especially in larger projects. Shared templates can be kept at the project level, while app-specific templates reside within the apps.\n",
    "\n",
    "<br>\n",
    "\n",
    "**Best Practices:**\n",
    "\n",
    "`Consistent Naming:` Regardless of the approach, maintain a consistent naming convention for templates to enhance readability.\n",
    "\n",
    "`Template Loading Order:` Understand Django's template loading order. Templates in the app directory take precedence over those at the project level. This can be crucial when resolving template conflicts.\n",
    "\n",
    "**Conclusion:**\n",
    "\n",
    "The best approach depends on the specific needs of your project. For small projects, a project-level approach may be sufficient. As the project grows, consider a combination of project and app-level templates to balance centralization and modularity. It's also essential to document your chosen approach for the benefit of the development team and future maintainers."
   ]
  },
  {
   "cell_type": "markdown",
   "id": "07a155e4",
   "metadata": {},
   "source": [
    "<pre id='l5'></pre>\n",
    "# Django template tags"
   ]
  },
  {
   "cell_type": "markdown",
   "id": "6699c860",
   "metadata": {},
   "source": [
    "### variables:\n",
    "\n",
    "In django we can render variable inside `{{}}`. Example"
   ]
  },
  {
   "cell_type": "code",
   "execution_count": null,
   "id": "0ab8fbc9",
   "metadata": {},
   "outputs": [],
   "source": [
    "# templates/myhtml.html:\n",
    "\n",
    "<p> # can be any tag or without tag\n",
    "\n",
    "    {{variable_name}} # rendering variable\n",
    "\n",
    "    {% with fname=\"ramesh\" lname=\"kumar\" %} # creating variable\n",
    "    \n",
    "    <div> {{fname}} {{lname}} </div>\n",
    "    \n",
    "    {% endwith %} # end scope of varaible fname, lname\n",
    "</p>"
   ]
  },
  {
   "cell_type": "markdown",
   "id": "ba3865d5",
   "metadata": {},
   "source": [
    "### condtional statements: if, elif, else"
   ]
  },
  {
   "cell_type": "code",
   "execution_count": null,
   "id": "e9637974",
   "metadata": {},
   "outputs": [],
   "source": [
    "# templates/myhtml.html:\n",
    "\n",
    "<p> # can be any tag or without tag\n",
    "\n",
    "    {% if a==1 %}\n",
    "    <h1>hello</h1>\n",
    "    \n",
    "    {% elif a==0 %}\n",
    "    <h1>bye</h1>\n",
    "    \n",
    "    {% else a==0 %}\n",
    "    <h1>wait</h1>\n",
    "    \n",
    "    {% endif %} # end of contional block\n",
    "\n",
    "</p>"
   ]
  },
  {
   "cell_type": "markdown",
   "id": "9c099efd",
   "metadata": {},
   "source": [
    "### for loop:"
   ]
  },
  {
   "cell_type": "code",
   "execution_count": null,
   "id": "01045eb3",
   "metadata": {},
   "outputs": [],
   "source": [
    "# myapp/views.py:\n",
    "\n",
    "def viewFunction(request):\n",
    "    data = {\n",
    "        'title':'My title',\n",
    "        'my_list':['apple', 'mango', 'guava'],\n",
    "        'my_dictionary':[\n",
    "            {'brand':'MS', 'model':'Alto'},\n",
    "            {'brand':'Mahindra', 'model':'Scorpio'}\n",
    "        ]\n",
    "    }\n",
    "    \n",
    "    return render(request, 'myhtml.html', context = data)"
   ]
  },
  {
   "cell_type": "code",
   "execution_count": null,
   "id": "7697a10a",
   "metadata": {},
   "outputs": [],
   "source": [
    "# templates/myhtml.html:\n",
    "\n",
    "<p> # can be any tag or without tag\n",
    "    \n",
    "    {{title}}\n",
    "    \n",
    "    # 'my_list':[1,2,3,4]\n",
    "    {% for item in my_list %} \n",
    "    <h1>{{item}}</h1>\n",
    "    {% endfor %}\n",
    "    \n",
    "    # 'my_dictionary':[{'brand':'MS', 'model':'Alto'},{'brand':'Mahindra', 'model':'Scorpio'}]\n",
    "    {% for item in my_dictionary %} \n",
    "    <h1>{{item.brand}}</h1>\n",
    "    <h1>{{item.model}}</h1>\n",
    "    {% endfor %}\n",
    "    \n",
    "</p>"
   ]
  },
  {
   "cell_type": "code",
   "execution_count": null,
   "id": "42d330c1",
   "metadata": {},
   "outputs": [],
   "source": [
    "# templates/myhtml.html:\n",
    "\n",
    "<p> # can be any tag or without tag\n",
    "\n",
    "    {% for item in my_list reversed %} # reverse for loop\n",
    "    <h1>{{item}}</h1>\n",
    "    {% endfor %}\n",
    "    \n",
    "</p>"
   ]
  },
  {
   "cell_type": "code",
   "execution_count": null,
   "id": "5564da20",
   "metadata": {},
   "outputs": [],
   "source": [
    "# templates/myhtml.html:\n",
    "\n",
    "<p> # can be any tag or without tag\n",
    "\n",
    "    {% for item in my_list %} # my_list=[1,2,3,4]\n",
    "    \n",
    "    <h1>{{forloop.counter}} {{item}}</h1> # counting start from 1\n",
    "    \n",
    "    <h1>{{forloop.counter0}} {{item}}</h1> # counting start from 0\n",
    "    <h1>{{forloop.revcounter}} {{item}}</h1> \n",
    "    <h1>{{forloop.first}} {{item}}</h1> # True if this is first time through loop\n",
    "    <h1>{{forloop.last}} {{item}}</h1> # True if this is last time through loop\n",
    "    \n",
    "    {% endfor %}\n",
    "    \n",
    "    \n",
    "    \n",
    "</p>"
   ]
  },
  {
   "cell_type": "markdown",
   "id": "19990afe",
   "metadata": {},
   "source": [
    "### empty:\n",
    "\n",
    "`empty` keyword is used when we want to do something special if object is empty"
   ]
  },
  {
   "cell_type": "code",
   "execution_count": null,
   "id": "e24950ff",
   "metadata": {},
   "outputs": [],
   "source": [
    "# templates/myhtml.html:\n",
    "\n",
    "<p> # can be any tag or without tag\n",
    "\n",
    "    # 'my_dictionary':[{'brand':'MS', 'model':'Alto'},{'brand':'Mahindra', 'model':'Scorpio'}]\n",
    "    {% for item in my_dictionary %} \n",
    "    \n",
    "    <h1>{{item.brand}}</h1>\n",
    "    <h1>{{item.model}}</h1>\n",
    "    \n",
    "    {% empty %}\n",
    "    <p>No data found</p>\n",
    "    \n",
    "    {% endfor %}\n",
    "    \n",
    "</p>"
   ]
  },
  {
   "cell_type": "markdown",
   "id": "139f0f95",
   "metadata": {},
   "source": [
    "`empty` can also be used if object does not exist."
   ]
  },
  {
   "cell_type": "markdown",
   "id": "abfd9beb",
   "metadata": {},
   "source": [
    "### comments:"
   ]
  },
  {
   "cell_type": "code",
   "execution_count": null,
   "id": "a6eca4ed",
   "metadata": {},
   "outputs": [],
   "source": [
    "# templates/mythml.html:\n",
    "\n",
    "<p> # can be any tag or without tag\n",
    "\n",
    "    {% comment %} # comment\n",
    "    \n",
    "    <h1>{{item.brand}}</h1>\n",
    "    <h1>{{item.model}}</h1>\n",
    "    \n",
    "    {% empty %}\n",
    "    <p>No data found</p>\n",
    "    \n",
    "    {% endcomment %} # end\n",
    "    \n",
    "</p>"
   ]
  },
  {
   "cell_type": "markdown",
   "id": "36adf478",
   "metadata": {},
   "source": [
    "We can use `{# #}` tag when commenting out code which can be easier for smaller comments:"
   ]
  },
  {
   "cell_type": "code",
   "execution_count": null,
   "id": "87ba992d",
   "metadata": {},
   "outputs": [],
   "source": [
    "# templates/myhtml.html:\n",
    "\n",
    "<p> # can be any tag or without tag\n",
    "\n",
    "    <p> Hey I am {# commenting these line #} </p>\n",
    "    \n",
    "</p>"
   ]
  },
  {
   "cell_type": "markdown",
   "id": "7e729b40",
   "metadata": {},
   "source": [
    "### include:\n",
    "It allows to include a tempalte inside current template"
   ]
  },
  {
   "cell_type": "code",
   "execution_count": null,
   "id": "c6268951",
   "metadata": {},
   "outputs": [],
   "source": [
    "# templates/base.html:\n",
    "\n",
    "{% include \"header.html\" %}"
   ]
  },
  {
   "cell_type": "markdown",
   "id": "378ac966",
   "metadata": {},
   "source": [
    "### extends:\n",
    "\n",
    "It is used in template inheritance"
   ]
  },
  {
   "cell_type": "code",
   "execution_count": null,
   "id": "2c005a8a",
   "metadata": {},
   "outputs": [],
   "source": [
    "# templates/index.html:\n",
    "\n",
    "{% extends \"base.html\" %}\n",
    "\n",
    "{% block content %}\n",
    "\n",
    "# body of index page\n",
    "\n",
    "{% endblock %}"
   ]
  },
  {
   "cell_type": "markdown",
   "id": "02ce4e2b",
   "metadata": {},
   "source": [
    "### url:"
   ]
  },
  {
   "cell_type": "code",
   "execution_count": null,
   "id": "e7aacc7f",
   "metadata": {},
   "outputs": [],
   "source": [
    "# templates/header.html:\n",
    "\n",
    "<a href=\"{% url 'about' %}\"> About us </a>"
   ]
  },
  {
   "cell_type": "markdown",
   "id": "0f156153",
   "metadata": {},
   "source": [
    "### static:"
   ]
  },
  {
   "cell_type": "code",
   "execution_count": null,
   "id": "80fa731b",
   "metadata": {},
   "outputs": [],
   "source": [
    "# templates/image.html:\n",
    "\n",
    "{% load static %}\n",
    "\n",
    "<img src=\"{% static 'img/profile image-submit.png' %}\" alt=\"profile-image\">"
   ]
  },
  {
   "cell_type": "markdown",
   "id": "2cfa28b6",
   "metadata": {},
   "source": [
    "We will see use of `include`, `extends`, `url` and `static` tags later in this notebook."
   ]
  },
  {
   "cell_type": "markdown",
   "id": "ad986617",
   "metadata": {},
   "source": [
    "<pre id='l6'></pre>\n",
    "# Managing static files: CSS, JavaScript, images or others "
   ]
  },
  {
   "cell_type": "markdown",
   "id": "7a21d4ba",
   "metadata": {},
   "source": [
    "Suppose we have some html files, CSS, fonts, Js, images somewhere in other dirsk or we can say we have these files and we want to use these files in django for web development\n",
    "\n",
    "We have `files`: index.html, contact.html, about.html etc...\n",
    "    \n",
    "We have `folders`: CSS, JS, Fonts, SCSS, img\n",
    "\n",
    "In order to use these in django we have to follow these steps: \n",
    "\n",
    "1. Paste all html files inside `templates` folder.\n",
    "2. Create a folder \"static\"  inside project(package) folder and paste all folders inside it.\n",
    "3. Open `settings.py`(myproject) and add following lines of code\n",
    "4. Update path of all kinds of file in all html files by adding prefix path like: `/static/JS/script.js`. We have another way as well which is using django `static` tag."
   ]
  },
  {
   "cell_type": "code",
   "execution_count": null,
   "id": "64e13b5f",
   "metadata": {},
   "outputs": [],
   "source": [
    "# Step3- myproject/settings.py:\n",
    "\n",
    "STATICFILES_DIRS = [\n",
    "    BASE_DIR, \"static\" # OR os.path.join(BASE_DIR, \"static\")\n",
    "]"
   ]
  },
  {
   "cell_type": "code",
   "execution_count": null,
   "id": "fbd78fe8",
   "metadata": {},
   "outputs": [],
   "source": [
    "# Step4- templates/image.html:\n",
    "\n",
    "# method1:\n",
    "<img src=\"/static/img/profile image-submit.png\" alt=\"profile-image\"> # / means base path upto base url\n",
    "\n",
    "# method2: using static tag\n",
    "{% load static %}\n",
    "\n",
    "<img src=\"{% static 'img/profile image-submit.png' %}\" alt=\"profile-image\">\n",
    "\n",
    "#another way: used when when we need same path multiple times\n",
    "\n",
    "{% static 'img/profile image-submit.png' as myprofile %} # creating alias\n",
    "<img src=\"{{ myprofile }}\" alt=\"profile-image\"> # using alias"
   ]
  },
  {
   "cell_type": "markdown",
   "id": "38a7e854",
   "metadata": {},
   "source": [
    "### `{% get_static_prefix %}`\n",
    "\n",
    "We should always prefer `static` template tag, but if we need more control over exactly where and how `STATIC_URL` are injected into the template, we can use the `get_static_prefix` template tag"
   ]
  },
  {
   "cell_type": "code",
   "execution_count": null,
   "id": "139c60d7",
   "metadata": {},
   "outputs": [],
   "source": [
    "{% load static %}\n",
    "\n",
    "<img src=\"{% get_static_prefix %}img/profile image-submit.png\" alt=\"profile-image\">\n",
    "\n",
    "# when using multiple times:\n",
    "{% get_static_prefix as STATIC_PREFIX %} # alias\n",
    "\n",
    "<img src=\"{{ STATIC_PREFIX }}img/profile image-submit.png\" alt=\"profile-image\">"
   ]
  },
  {
   "cell_type": "markdown",
   "id": "50ff4fe7",
   "metadata": {},
   "source": [
    "**STATIC_URL**- This is the URL to use when referring to static file located in STATIC_ROOT. It must end in a slash if set to a non-empty value.\n",
    "\n",
    "<pre>\n",
    "Example:- \"/static/\"\n",
    "Example: \"http://static.example.com/\"\n",
    "</pre>\n",
    "\n",
    "**STATIC_ROOT** – This is absolute path to the directory where `collectstatic` will collect static files for deployment. It is by default None.\n",
    "\n",
    "<pre>\n",
    "Example:- \"/var/www/example.com/static/\"\n",
    "Example:- os.path.join(BASE_DIR, 'static/')\n",
    "</pre>\n",
    "\n",
    "**STATICFILES_DIRS** - This setting defines the additional locations the staticfiles app will traverse if the FileSystemFinder finder is enabled, e.g. if you use the `collectstatic` or `findstatic` management command or use the static file serving view. It is by default an empty list.\n",
    "\n",
    "<pre>\n",
    "STATICFILES_DIRS = [\n",
    "\"/home/special.geek.com/geek/static\",\n",
    "\"/home/geek.com/geek/static\",\n",
    "\"/opt/webfiles/common\"\n",
    "]\n",
    "</pre>\n",
    "\n",
    "**STATICFILES_STORAGE** - The file storage engine to use when collecting static files with the collectstatic management command.\n",
    "\n",
    "Default: `'django.contrib.staticfiles.storage.StaticFiles Storage'`"
   ]
  },
  {
   "cell_type": "markdown",
   "id": "b5136ae8",
   "metadata": {},
   "source": [
    "### static folder at app level\n",
    "\n",
    "We can also create `static` folder at app level that is inside `myapp` folder and for this approach we don't have to do any change in our `settings.py`(myproject).\n",
    "\n",
    "- Lets's say we have two apps `myapp1` and `myapp2` and we are creating `static` folder inside both apps folder. Let's say both `static` folder have another nested folder called `CSS` that hold `styles.css` for their specific apps. But this will create a conflict while rendering the `styles.css`. \n",
    "- To avoid this conflict we should create another folder inside `static` folder with name of app.\n",
    "- So, our folder structure will look like this:\n",
    "\n",
    "<pre>\n",
    "myproject/\n",
    "|-- myproject/\n",
    "|   |-- settings.py\n",
    "|   |-- urls.py\n",
    "|-- myapp1/\n",
    "|   |-- static/myapp1/\n",
    "|   |          |-- CSS/\n",
    "|   |          |-- JS/\n",
    "|   |          |-- Images/\n",
    "|   |-- views.py\n",
    "|   |-- urls.py\n",
    "|-- myapp2/\n",
    "|   |-- static/myapp2/\n",
    "|   |          |-- CSS/\n",
    "|   |          |-- JS/\n",
    "|   |          |-- Images/\n",
    "|   |-- views.py\n",
    "|   |-- urls.py\n",
    "|-- manage.py\n",
    "</pre>\n",
    "\n",
    "**Remark:** We can create `static` folder at project level and at app level at same time. And for that `settings.py`(myproject) will be updated accordingly likewise we were doing it separately at project level and app level."
   ]
  },
  {
   "cell_type": "markdown",
   "id": "d0bd8b30",
   "metadata": {},
   "source": [
    "<pre id='l7'></pre>\n",
    "# Header and footer include in Django"
   ]
  },
  {
   "cell_type": "markdown",
   "id": "3a824e96",
   "metadata": {},
   "source": [
    "Normally what happens is we have a website whose header and footer section are common among all pages like \"index.html\", \"about.html\", \"contact.html\", and so on."
   ]
  },
  {
   "cell_type": "code",
   "execution_count": null,
   "id": "36280181",
   "metadata": {},
   "outputs": [],
   "source": [
    "# static/CSS/styles.css\n",
    "\n",
    "body {\n",
    "    font-family: Arial, sans-serif;\n",
    "    margin: 0;\n",
    "    padding: 0;\n",
    "    box-sizing: border-box;\n",
    "}\n",
    "\n",
    "header {\n",
    "    background-color: #333;\n",
    "    color: #fff;\n",
    "    text-align: center;\n",
    "    padding: 1em 0;\n",
    "}\n",
    "\n",
    "nav {\n",
    "    background-color: #444;\n",
    "    padding: 1em 0;\n",
    "}\n",
    "\n",
    "nav a {\n",
    "    color: #fff;\n",
    "    text-decoration: none;\n",
    "    padding: 0 1em;\n",
    "}\n",
    "\n",
    "nav a:hover {\n",
    "    background-color: #555;\n",
    "}\n",
    "\n",
    "main {\n",
    "    padding: 2em;\n",
    "}\n",
    "\n",
    "footer {\n",
    "    background-color: #333;\n",
    "    color: #fff;\n",
    "    text-align: center;\n",
    "    padding: 1em 0;\n",
    "    position: fixed;\n",
    "    bottom: 0;\n",
    "    width: 100%;\n",
    "}"
   ]
  },
  {
   "cell_type": "code",
   "execution_count": null,
   "id": "8098a923",
   "metadata": {},
   "outputs": [],
   "source": [
    "# templates/index.html:\n",
    "\n",
    "<!DOCTYPE html>\n",
    "<html lang=\"en\">\n",
    "<head>\n",
    "    <meta charset=\"UTF-8\">\n",
    "    <meta name=\"viewport\" content=\"width=device-width, initial-scale=1.0\">\n",
    "    <title>Your Website</title>\n",
    "    <link rel=\"stylesheet\" href=\"/static/CSS/styles.css\"> # external css\n",
    "</head>\n",
    "<body>\n",
    "\n",
    "    <header>\n",
    "        <h1>Your Website</h1>\n",
    "    </header>\n",
    "\n",
    "    <nav>\n",
    "        <a href=\"#about\">About</a>\n",
    "        <a href=\"#contact\">Contact</a>\n",
    "        <a href=\"#services\">Services</a>\n",
    "    </nav>\n",
    "\n",
    "    <main>\n",
    "        <p>\n",
    "            Eiusmod exercitation tempor ex et pariatur elit. In quis dolore in adipisicing cillum cillum elit cupidatat sint. Lorem velit nostrud ea commodo in proident quis enim nisi aute aliquip. Eu qui ullamco minim dolor aliqua sunt ullamco sint nulla aute cillum irure. Laboris Lorem aliquip est veniam mollit id ipsum pariatur.\n",
    "            Pariatur nulla in ex laborum mollit pariatur est. Sunt est nulla ea cupidatat nulla consequat proident ipsum quis. Nulla enim est ad aute Lorem ullamco laborum consectetur. Magna proident aliquip non consectetur sint elit sit enim deserunt enim. Do aliqua adipisicing velit quis. Adipisicing cupidatat eiusmod adipisicing reprehenderit laborum magna Lorem ullamco enim adipisicing nostrud excepteur et.\n",
    "            Incididunt fugiat sint dolore non voluptate cillum. Labore qui proident commodo minim nulla laborum minim amet exercitation cillum sint excepteur. Deserunt commodo laboris culpa eiusmod nulla do in deserunt ad aliquip non nulla. Voluptate aliqua excepteur sint consectetur dolore laborum voluptate esse ea quis ipsum. Aute sunt nisi minim eu est nostrud pariatur dolor ea.\n",
    "            Sunt proident Lorem eiusmod dolore labore. Anim eu culpa eu laboris sunt irure cillum ut Lorem duis magna. Fugiat sit non incididunt et fugiat officia magna non deserunt nostrud amet excepteur. Esse eiusmod ut labore duis pariatur.\n",
    "            Pariatur id et sit eu deserunt sint ut. Lorem consectetur proident anim fugiat proident proident consequat nostrud pariatur magna exercitation consequat. Do velit nostrud anim id do proident ullamco irure cillum consequat.\n",
    "            Dolor sint exercitation voluptate eu velit eiusmod voluptate qui ex qui ipsum occaecat. Dolor reprehenderit id cillum Lorem fugiat cupidatat aute deserunt mollit anim ea dolore. Enim in commodo ex ullamco Lorem id velit ex nisi dolore.\n",
    "        </p>\n",
    "\n",
    "        <p>\n",
    "            Eiusmod exercitation tempor ex et pariatur elit. In quis dolore in adipisicing cillum cillum elit cupidatat sint. Lorem velit nostrud ea commodo in proident quis enim nisi aute aliquip. Eu qui ullamco minim dolor aliqua sunt ullamco sint nulla aute cillum irure. Laboris Lorem aliquip est veniam mollit id ipsum pariatur.\n",
    "            Pariatur nulla in ex laborum mollit pariatur est. Sunt est nulla ea cupidatat nulla consequat proident ipsum quis. Nulla enim est ad aute Lorem ullamco laborum consectetur. Magna proident aliquip non consectetur sint elit sit enim deserunt enim. Do aliqua adipisicing velit quis. Adipisicing cupidatat eiusmod adipisicing reprehenderit laborum magna Lorem ullamco enim adipisicing nostrud excepteur et.\n",
    "            Incididunt fugiat sint dolore non voluptate cillum. Labore qui proident commodo minim nulla laborum minim amet exercitation cillum sint excepteur. Deserunt commodo laboris culpa eiusmod nulla do in deserunt ad aliquip non nulla. Voluptate aliqua excepteur sint consectetur dolore laborum voluptate esse ea quis ipsum. Aute sunt nisi minim eu est nostrud pariatur dolor ea.\n",
    "            Sunt proident Lorem eiusmod dolore labore. Anim eu culpa eu laboris sunt irure cillum ut Lorem duis magna. Fugiat sit non incididunt et fugiat officia magna non deserunt nostrud amet excepteur. Esse eiusmod ut labore duis pariatur.\n",
    "            Pariatur id et sit eu deserunt sint ut. Lorem consectetur proident anim fugiat proident proident consequat nostrud pariatur magna exercitation consequat. Do velit nostrud anim id do proident ullamco irure cillum consequat.\n",
    "            Dolor sint exercitation voluptate eu velit eiusmod voluptate qui ex qui ipsum occaecat. Dolor reprehenderit id cillum Lorem fugiat cupidatat aute deserunt mollit anim ea dolore. Enim in commodo ex ullamco Lorem id velit ex nisi dolore.\n",
    "        </p>\n",
    "        <p>\n",
    "            Eiusmod exercitation tempor ex et pariatur elit. In quis dolore in adipisicing cillum cillum elit cupidatat sint. Lorem velit nostrud ea commodo in proident quis enim nisi aute aliquip. Eu qui ullamco minim dolor aliqua sunt ullamco sint nulla aute cillum irure. Laboris Lorem aliquip est veniam mollit id ipsum pariatur.\n",
    "            Pariatur nulla in ex laborum mollit pariatur est. Sunt est nulla ea cupidatat nulla consequat proident ipsum quis. Nulla enim est ad aute Lorem ullamco laborum consectetur. Magna proident aliquip non consectetur sint elit sit enim deserunt enim. Do aliqua adipisicing velit quis. Adipisicing cupidatat eiusmod adipisicing reprehenderit laborum magna Lorem ullamco enim adipisicing nostrud excepteur et.\n",
    "            Incididunt fugiat sint dolore non voluptate cillum. Labore qui proident commodo minim nulla laborum minim amet exercitation cillum sint excepteur. Deserunt commodo laboris culpa eiusmod nulla do in deserunt ad aliquip non nulla. Voluptate aliqua excepteur sint consectetur dolore laborum voluptate esse ea quis ipsum. Aute sunt nisi minim eu est nostrud pariatur dolor ea.\n",
    "            Sunt proident Lorem eiusmod dolore labore. Anim eu culpa eu laboris sunt irure cillum ut Lorem duis magna. Fugiat sit non incididunt et fugiat officia magna non deserunt nostrud amet excepteur. Esse eiusmod ut labore duis pariatur.\n",
    "            Pariatur id et sit eu deserunt sint ut. Lorem consectetur proident anim fugiat proident proident consequat nostrud pariatur magna exercitation consequat. Do velit nostrud anim id do proident ullamco irure cillum consequat.\n",
    "            Dolor sint exercitation voluptate eu velit eiusmod voluptate qui ex qui ipsum occaecat. Dolor reprehenderit id cillum Lorem fugiat cupidatat aute deserunt mollit anim ea dolore. Enim in commodo ex ullamco Lorem id velit ex nisi dolore.\n",
    "        </p>\n",
    "    </main>\n",
    "\n",
    "    <footer>\n",
    "        &copy; 2024 Your Website. All rights reserved.\n",
    "    </footer>\n",
    "\n",
    "</body>\n",
    "</html>"
   ]
  },
  {
   "cell_type": "markdown",
   "id": "811732e8",
   "metadata": {},
   "source": [
    "Suppose we want to make changes in header or footer then we need to make changes in all pages. So, instead of changing all pages, we have a better solution in django:\n",
    "\n",
    "1. Open `index.html` and cut code upto header section\n",
    "2. Create a file \"header.html\" inside `templates` folder and paste that code inside it\n",
    "3. Again open `index.html`(templates) and this time cut only footer section code\n",
    "4. Create a file \"footer.html\" inside `templates` folder and paste that code inside it\n",
    "5. Now again open `index.html`(templates) and insert `include` tag as shown below"
   ]
  },
  {
   "cell_type": "code",
   "execution_count": null,
   "id": "a5651645",
   "metadata": {},
   "outputs": [],
   "source": [
    "# Step2- tempaltes/header.html:\n",
    "\n",
    "<!DOCTYPE html>\n",
    "<html lang=\"en\">\n",
    "<head>\n",
    "    <meta charset=\"UTF-8\">\n",
    "    <meta name=\"viewport\" content=\"width=device-width, initial-scale=1.0\">\n",
    "    <title>Your Website</title>\n",
    "    <link rel=\"stylesheet\" href=\"/static/CSS/styles.css\"> # external css\n",
    "</head>\n",
    "<body>\n",
    "\n",
    "    <header>\n",
    "        <h1>Your Website</h1>\n",
    "    </header>\n",
    "\n",
    "    <nav>\n",
    "        <a href=\"#about\">About</a>\n",
    "        <a href=\"#contact\">Contact</a>\n",
    "        <a href=\"#services\">Services</a>\n",
    "    </nav>"
   ]
  },
  {
   "cell_type": "code",
   "execution_count": null,
   "id": "3523a158",
   "metadata": {},
   "outputs": [],
   "source": [
    "# Step4- tempaltes/footer.html:\n",
    "\n",
    "<footer>\n",
    "    &copy; 2024 Your Website. All rights reserved.\n",
    "</footer>\n",
    "\n",
    "</body>\n",
    "</html>"
   ]
  },
  {
   "cell_type": "code",
   "execution_count": null,
   "id": "6b4fff73",
   "metadata": {},
   "outputs": [],
   "source": [
    "# Step5- templates/index.html:\n",
    "\n",
    "{% include \"header.html\" %}\n",
    "\n",
    "    <main>\n",
    "        <p>\n",
    "            Eiusmod exercitation tempor ex et pariatur elit. In quis dolore in adipisicing cillum cillum elit cupidatat sint. Lorem velit nostrud ea commodo in proident quis enim nisi aute aliquip. Eu qui ullamco minim dolor aliqua sunt ullamco sint nulla aute cillum irure. Laboris Lorem aliquip est veniam mollit id ipsum pariatur.\n",
    "            Pariatur nulla in ex laborum mollit pariatur est. Sunt est nulla ea cupidatat nulla consequat proident ipsum quis. Nulla enim est ad aute Lorem ullamco laborum consectetur. Magna proident aliquip non consectetur sint elit sit enim deserunt enim. Do aliqua adipisicing velit quis. Adipisicing cupidatat eiusmod adipisicing reprehenderit laborum magna Lorem ullamco enim adipisicing nostrud excepteur et.\n",
    "            Incididunt fugiat sint dolore non voluptate cillum. Labore qui proident commodo minim nulla laborum minim amet exercitation cillum sint excepteur. Deserunt commodo laboris culpa eiusmod nulla do in deserunt ad aliquip non nulla. Voluptate aliqua excepteur sint consectetur dolore laborum voluptate esse ea quis ipsum. Aute sunt nisi minim eu est nostrud pariatur dolor ea.\n",
    "            Sunt proident Lorem eiusmod dolore labore. Anim eu culpa eu laboris sunt irure cillum ut Lorem duis magna. Fugiat sit non incididunt et fugiat officia magna non deserunt nostrud amet excepteur. Esse eiusmod ut labore duis pariatur.\n",
    "            Pariatur id et sit eu deserunt sint ut. Lorem consectetur proident anim fugiat proident proident consequat nostrud pariatur magna exercitation consequat. Do velit nostrud anim id do proident ullamco irure cillum consequat.\n",
    "            Dolor sint exercitation voluptate eu velit eiusmod voluptate qui ex qui ipsum occaecat. Dolor reprehenderit id cillum Lorem fugiat cupidatat aute deserunt mollit anim ea dolore. Enim in commodo ex ullamco Lorem id velit ex nisi dolore.\n",
    "        </p>\n",
    "\n",
    "        <p>\n",
    "            Eiusmod exercitation tempor ex et pariatur elit. In quis dolore in adipisicing cillum cillum elit cupidatat sint. Lorem velit nostrud ea commodo in proident quis enim nisi aute aliquip. Eu qui ullamco minim dolor aliqua sunt ullamco sint nulla aute cillum irure. Laboris Lorem aliquip est veniam mollit id ipsum pariatur.\n",
    "            Pariatur nulla in ex laborum mollit pariatur est. Sunt est nulla ea cupidatat nulla consequat proident ipsum quis. Nulla enim est ad aute Lorem ullamco laborum consectetur. Magna proident aliquip non consectetur sint elit sit enim deserunt enim. Do aliqua adipisicing velit quis. Adipisicing cupidatat eiusmod adipisicing reprehenderit laborum magna Lorem ullamco enim adipisicing nostrud excepteur et.\n",
    "            Incididunt fugiat sint dolore non voluptate cillum. Labore qui proident commodo minim nulla laborum minim amet exercitation cillum sint excepteur. Deserunt commodo laboris culpa eiusmod nulla do in deserunt ad aliquip non nulla. Voluptate aliqua excepteur sint consectetur dolore laborum voluptate esse ea quis ipsum. Aute sunt nisi minim eu est nostrud pariatur dolor ea.\n",
    "            Sunt proident Lorem eiusmod dolore labore. Anim eu culpa eu laboris sunt irure cillum ut Lorem duis magna. Fugiat sit non incididunt et fugiat officia magna non deserunt nostrud amet excepteur. Esse eiusmod ut labore duis pariatur.\n",
    "            Pariatur id et sit eu deserunt sint ut. Lorem consectetur proident anim fugiat proident proident consequat nostrud pariatur magna exercitation consequat. Do velit nostrud anim id do proident ullamco irure cillum consequat.\n",
    "            Dolor sint exercitation voluptate eu velit eiusmod voluptate qui ex qui ipsum occaecat. Dolor reprehenderit id cillum Lorem fugiat cupidatat aute deserunt mollit anim ea dolore. Enim in commodo ex ullamco Lorem id velit ex nisi dolore.\n",
    "        </p>\n",
    "        <p>\n",
    "            Eiusmod exercitation tempor ex et pariatur elit. In quis dolore in adipisicing cillum cillum elit cupidatat sint. Lorem velit nostrud ea commodo in proident quis enim nisi aute aliquip. Eu qui ullamco minim dolor aliqua sunt ullamco sint nulla aute cillum irure. Laboris Lorem aliquip est veniam mollit id ipsum pariatur.\n",
    "            Pariatur nulla in ex laborum mollit pariatur est. Sunt est nulla ea cupidatat nulla consequat proident ipsum quis. Nulla enim est ad aute Lorem ullamco laborum consectetur. Magna proident aliquip non consectetur sint elit sit enim deserunt enim. Do aliqua adipisicing velit quis. Adipisicing cupidatat eiusmod adipisicing reprehenderit laborum magna Lorem ullamco enim adipisicing nostrud excepteur et.\n",
    "            Incididunt fugiat sint dolore non voluptate cillum. Labore qui proident commodo minim nulla laborum minim amet exercitation cillum sint excepteur. Deserunt commodo laboris culpa eiusmod nulla do in deserunt ad aliquip non nulla. Voluptate aliqua excepteur sint consectetur dolore laborum voluptate esse ea quis ipsum. Aute sunt nisi minim eu est nostrud pariatur dolor ea.\n",
    "            Sunt proident Lorem eiusmod dolore labore. Anim eu culpa eu laboris sunt irure cillum ut Lorem duis magna. Fugiat sit non incididunt et fugiat officia magna non deserunt nostrud amet excepteur. Esse eiusmod ut labore duis pariatur.\n",
    "            Pariatur id et sit eu deserunt sint ut. Lorem consectetur proident anim fugiat proident proident consequat nostrud pariatur magna exercitation consequat. Do velit nostrud anim id do proident ullamco irure cillum consequat.\n",
    "            Dolor sint exercitation voluptate eu velit eiusmod voluptate qui ex qui ipsum occaecat. Dolor reprehenderit id cillum Lorem fugiat cupidatat aute deserunt mollit anim ea dolore. Enim in commodo ex ullamco Lorem id velit ex nisi dolore.\n",
    "        </p>\n",
    "    </main>\n",
    "\n",
    "{% include \"footer.html\" %}"
   ]
  },
  {
   "cell_type": "markdown",
   "id": "07e23c6d",
   "metadata": {},
   "source": [
    "- We can pass additional context explicitly to the template using `with` keyword.\n",
    "\n",
    "    `{% include \"topcourse.html\" with p=\"PHP\" d=\"Django\" %}`\n",
    "\n",
    "- If we want to render the context only with the variables provided (or even no variables at all), use the `only` option. No other variables are available to the included template.\n",
    "\n",
    "    `{% include \"topcourse.html\" with p=\"PHP\" only %}`\n",
    "\n",
    "Let's say we have template a file `file1.html` that have a `{{temp}}` variable(rendered from its view function). If this `file1.html` file includes other templates file `file2.html` inside it, then `{{temp}}` varaible will also available or can be used in `file2.html` file.\n",
    "\n",
    "But if we use `only` while including that `file2.html` in `file1.html` file then `{{temp}}` won't be availabale in `file2.html` file."
   ]
  },
  {
   "cell_type": "markdown",
   "id": "e339263c",
   "metadata": {},
   "source": [
    "# Template inheritance: `extends`"
   ]
  },
  {
   "cell_type": "markdown",
   "id": "4e5be1bd",
   "metadata": {},
   "source": [
    "In `include` we were including header and footer in all html pages. But in `extends` we have a base file with header and footer and we will be changing content of middle portion that is we will be changing content between header and footer.\n",
    "\n",
    "Bt using `extends`, we need not to call header and footer on all html pages.\n",
    "\n",
    "Let's see how can we do this:\n",
    "\n",
    "1. Create a file \"base.html\" inside `templates` folder. \n",
    "2. Open `base.html`(templates) and add following lines of code to perform template inheritance.\n",
    "3. Open `index.html`(templates) and remove `include` tags for header and footer. Updated code is shown below."
   ]
  },
  {
   "cell_type": "code",
   "execution_count": null,
   "id": "ad781fa4",
   "metadata": {},
   "outputs": [],
   "source": [
    "# Step2- templates/base.html:\n",
    "\n",
    "{% include \"header.html\" %}\n",
    "\n",
    "{% block content %} # \"content\" is name of block, we can give it any name \n",
    "\n",
    "{% endblock %} # OR {% endblock content %}\n",
    "\n",
    "{% include \"footer.html\" %}"
   ]
  },
  {
   "cell_type": "code",
   "execution_count": null,
   "id": "0881b6fc",
   "metadata": {},
   "outputs": [],
   "source": [
    "# Step3- templates/index.html:\n",
    "\n",
    "{% extends \"base.html\" %}\n",
    "\n",
    "{% block content %} # \"content\" name same as in base.html\n",
    "\n",
    "    <main>\n",
    "        <p>\n",
    "            Eiusmod exercitation tempor ex et pariatur elit. In quis dolore in adipisicing cillum cillum elit cupidatat sint. Lorem velit nostrud ea commodo in proident quis enim nisi aute aliquip. Eu qui ullamco minim dolor aliqua sunt ullamco sint nulla aute cillum irure. Laboris Lorem aliquip est veniam mollit id ipsum pariatur.\n",
    "            Pariatur nulla in ex laborum mollit pariatur est. Sunt est nulla ea cupidatat nulla consequat proident ipsum quis. Nulla enim est ad aute Lorem ullamco laborum consectetur. Magna proident aliquip non consectetur sint elit sit enim deserunt enim. Do aliqua adipisicing velit quis. Adipisicing cupidatat eiusmod adipisicing reprehenderit laborum magna Lorem ullamco enim adipisicing nostrud excepteur et.\n",
    "            Incididunt fugiat sint dolore non voluptate cillum. Labore qui proident commodo minim nulla laborum minim amet exercitation cillum sint excepteur. Deserunt commodo laboris culpa eiusmod nulla do in deserunt ad aliquip non nulla. Voluptate aliqua excepteur sint consectetur dolore laborum voluptate esse ea quis ipsum. Aute sunt nisi minim eu est nostrud pariatur dolor ea.\n",
    "            Sunt proident Lorem eiusmod dolore labore. Anim eu culpa eu laboris sunt irure cillum ut Lorem duis magna. Fugiat sit non incididunt et fugiat officia magna non deserunt nostrud amet excepteur. Esse eiusmod ut labore duis pariatur.\n",
    "            Pariatur id et sit eu deserunt sint ut. Lorem consectetur proident anim fugiat proident proident consequat nostrud pariatur magna exercitation consequat. Do velit nostrud anim id do proident ullamco irure cillum consequat.\n",
    "            Dolor sint exercitation voluptate eu velit eiusmod voluptate qui ex qui ipsum occaecat. Dolor reprehenderit id cillum Lorem fugiat cupidatat aute deserunt mollit anim ea dolore. Enim in commodo ex ullamco Lorem id velit ex nisi dolore.\n",
    "        </p>\n",
    "\n",
    "        <p>\n",
    "            Eiusmod exercitation tempor ex et pariatur elit. In quis dolore in adipisicing cillum cillum elit cupidatat sint. Lorem velit nostrud ea commodo in proident quis enim nisi aute aliquip. Eu qui ullamco minim dolor aliqua sunt ullamco sint nulla aute cillum irure. Laboris Lorem aliquip est veniam mollit id ipsum pariatur.\n",
    "            Pariatur nulla in ex laborum mollit pariatur est. Sunt est nulla ea cupidatat nulla consequat proident ipsum quis. Nulla enim est ad aute Lorem ullamco laborum consectetur. Magna proident aliquip non consectetur sint elit sit enim deserunt enim. Do aliqua adipisicing velit quis. Adipisicing cupidatat eiusmod adipisicing reprehenderit laborum magna Lorem ullamco enim adipisicing nostrud excepteur et.\n",
    "            Incididunt fugiat sint dolore non voluptate cillum. Labore qui proident commodo minim nulla laborum minim amet exercitation cillum sint excepteur. Deserunt commodo laboris culpa eiusmod nulla do in deserunt ad aliquip non nulla. Voluptate aliqua excepteur sint consectetur dolore laborum voluptate esse ea quis ipsum. Aute sunt nisi minim eu est nostrud pariatur dolor ea.\n",
    "            Sunt proident Lorem eiusmod dolore labore. Anim eu culpa eu laboris sunt irure cillum ut Lorem duis magna. Fugiat sit non incididunt et fugiat officia magna non deserunt nostrud amet excepteur. Esse eiusmod ut labore duis pariatur.\n",
    "            Pariatur id et sit eu deserunt sint ut. Lorem consectetur proident anim fugiat proident proident consequat nostrud pariatur magna exercitation consequat. Do velit nostrud anim id do proident ullamco irure cillum consequat.\n",
    "            Dolor sint exercitation voluptate eu velit eiusmod voluptate qui ex qui ipsum occaecat. Dolor reprehenderit id cillum Lorem fugiat cupidatat aute deserunt mollit anim ea dolore. Enim in commodo ex ullamco Lorem id velit ex nisi dolore.\n",
    "        </p>\n",
    "        <p>\n",
    "            Eiusmod exercitation tempor ex et pariatur elit. In quis dolore in adipisicing cillum cillum elit cupidatat sint. Lorem velit nostrud ea commodo in proident quis enim nisi aute aliquip. Eu qui ullamco minim dolor aliqua sunt ullamco sint nulla aute cillum irure. Laboris Lorem aliquip est veniam mollit id ipsum pariatur.\n",
    "            Pariatur nulla in ex laborum mollit pariatur est. Sunt est nulla ea cupidatat nulla consequat proident ipsum quis. Nulla enim est ad aute Lorem ullamco laborum consectetur. Magna proident aliquip non consectetur sint elit sit enim deserunt enim. Do aliqua adipisicing velit quis. Adipisicing cupidatat eiusmod adipisicing reprehenderit laborum magna Lorem ullamco enim adipisicing nostrud excepteur et.\n",
    "            Incididunt fugiat sint dolore non voluptate cillum. Labore qui proident commodo minim nulla laborum minim amet exercitation cillum sint excepteur. Deserunt commodo laboris culpa eiusmod nulla do in deserunt ad aliquip non nulla. Voluptate aliqua excepteur sint consectetur dolore laborum voluptate esse ea quis ipsum. Aute sunt nisi minim eu est nostrud pariatur dolor ea.\n",
    "            Sunt proident Lorem eiusmod dolore labore. Anim eu culpa eu laboris sunt irure cillum ut Lorem duis magna. Fugiat sit non incididunt et fugiat officia magna non deserunt nostrud amet excepteur. Esse eiusmod ut labore duis pariatur.\n",
    "            Pariatur id et sit eu deserunt sint ut. Lorem consectetur proident anim fugiat proident proident consequat nostrud pariatur magna exercitation consequat. Do velit nostrud anim id do proident ullamco irure cillum consequat.\n",
    "            Dolor sint exercitation voluptate eu velit eiusmod voluptate qui ex qui ipsum occaecat. Dolor reprehenderit id cillum Lorem fugiat cupidatat aute deserunt mollit anim ea dolore. Enim in commodo ex ullamco Lorem id velit ex nisi dolore.\n",
    "        </p>\n",
    "    </main>\n",
    "\n",
    "{% endblock %}"
   ]
  },
  {
   "cell_type": "markdown",
   "id": "7304e682",
   "metadata": {},
   "source": [
    "**If We need to get the content of the block from the parent template, the `{{block.super}}` variable will do the trick.**"
   ]
  },
  {
   "cell_type": "markdown",
   "id": "149aba6c",
   "metadata": {},
   "source": [
    "<pre id='l9'></pre>\n",
    "# Django `url` template tag"
   ]
  },
  {
   "cell_type": "markdown",
   "id": "e279456b",
   "metadata": {},
   "source": [
    "We want to link pages i.e. our aim is to when we click on `About` then about page should be diplayed and so on. There are two ways to do so:\n",
    "\n",
    "**First Method :**\n",
    "1. Open `views.py`(myap) and create a view function `about()`\n",
    "2. Open `urls.py`(myapp) and create an url that map it to its corresponding view function.\n",
    "3. Now open `header.html`(templates) and add url"
   ]
  },
  {
   "cell_type": "code",
   "execution_count": null,
   "id": "47e6e78f",
   "metadata": {},
   "outputs": [],
   "source": [
    "# Step1- myapp/views.py:\n",
    "\n",
    "from django.shortcuts import render\n",
    "\n",
    "# Create your views here.\n",
    "from django.http import HttpResponse\n",
    "\n",
    "def homeView(request):\n",
    "    return render(request, 'index.html')\n",
    "def aboutView(request):\n",
    "    return render(request, 'about.html')\n",
    "def servicesView(request):\n",
    "    return render(request, 'services.html')\n",
    "def contactView(request):\n",
    "    return render(request, 'contact.html')"
   ]
  },
  {
   "cell_type": "code",
   "execution_count": null,
   "id": "760f058c",
   "metadata": {},
   "outputs": [],
   "source": [
    "# Step2- myapp/urls.py:\n",
    "\n",
    "from django.urls import path\n",
    "from . import views\n",
    "\n",
    "urlpatterns = [\n",
    "    path('home/', views.homeView, name=\"my-home\"),\n",
    "    path('about/', views.aboutView, name=\"my-about\"),\n",
    "    path('services/', views.servicesView, name=\"my-services\"),  \n",
    "    path('contact/', views.contactView, name=\"my-contact\"),\n",
    "]"
   ]
  },
  {
   "cell_type": "code",
   "execution_count": null,
   "id": "92655de3",
   "metadata": {},
   "outputs": [],
   "source": [
    "# Step3- templates/header.html:\n",
    "\n",
    "<!DOCTYPE html>\n",
    "<html lang=\"en\">\n",
    "<head>\n",
    "    <meta charset=\"UTF-8\">\n",
    "    <meta name=\"viewport\" content=\"width=device-width, initial-scale=1.0\">\n",
    "    <title>Your Website</title>\n",
    "    <link rel=\"stylesheet\" href=\"/static/CSS/styles.css\"> # external css\n",
    "</head>\n",
    "<body>\n",
    "\n",
    "    <header>\n",
    "        <h1>Your Website</h1>\n",
    "    </header>\n",
    "\n",
    "    <nav>\n",
    "        <a href=\"/myapp/home/\">Home</a>\n",
    "        <a href=\"/myapp/about/\">About</a>\n",
    "        <a href=\"/myapp/services/\">Services</a>\n",
    "        <a href=\"/myapp/contact/\">Contact</a>\n",
    "    </nav>"
   ]
  },
  {
   "cell_type": "markdown",
   "id": "1b1ee6f3",
   "metadata": {},
   "source": [
    "**Second Method:(using `url` tag)**\n",
    "1. Open `views.py`(myproject) and create a view function `about()`\n",
    "2. Open `urls.py`(myapp) and create an url that map it to its corresponding view function. Make sure to include `name` attribute\n",
    "3. Now open `header.html`(templates) and add url using `url` tag and `name` attribute"
   ]
  },
  {
   "cell_type": "code",
   "execution_count": null,
   "id": "280503c0",
   "metadata": {},
   "outputs": [],
   "source": [
    "# Step1- myapp/views.py:\n",
    "\n",
    "from django.shortcuts import render\n",
    "\n",
    "# Create your views here.\n",
    "from django.http import HttpResponse\n",
    "\n",
    "def homeView(request):\n",
    "    return render(request, 'index.html')\n",
    "def aboutView(request):\n",
    "    return render(request, 'about.html')\n",
    "def servicesView(request):\n",
    "    return render(request, 'services.html')\n",
    "def contactView(request):\n",
    "    return render(request, 'contact.html')"
   ]
  },
  {
   "cell_type": "code",
   "execution_count": null,
   "id": "addf8685",
   "metadata": {},
   "outputs": [],
   "source": [
    "# Step2- myapp/urls.py:\n",
    "\n",
    "from django.urls import path\n",
    "from . import views\n",
    "\n",
    "urlpatterns = [\n",
    "    path('home/', views.homeView, name=\"my-home\"),\n",
    "    path('about/', views.aboutView, name=\"my-about\"),\n",
    "    path('services/', views.servicesView, name=\"my-services\"),  \n",
    "    path('contact/', views.contactView, name=\"my-contact\"),\n",
    "]"
   ]
  },
  {
   "cell_type": "code",
   "execution_count": null,
   "id": "b64094a4",
   "metadata": {},
   "outputs": [],
   "source": [
    "# Step3- templates/header.html:\n",
    "\n",
    "<!DOCTYPE html>\n",
    "<html lang=\"en\">\n",
    "<head>\n",
    "    <meta charset=\"UTF-8\">\n",
    "    <meta name=\"viewport\" content=\"width=device-width, initial-scale=1.0\">\n",
    "    <title>Your Website</title>\n",
    "    <link rel=\"stylesheet\" href=\"/static/CSS/styles.css\"> # external css\n",
    "</head>\n",
    "<body>\n",
    "\n",
    "    <header>\n",
    "        <h1>Your Website</h1>\n",
    "    </header>\n",
    "\n",
    "    <nav>\n",
    "        <a href=\"{% url 'my-home' %}\">Home</a>\n",
    "        <a href=\"{% url 'my-about' %}\">About</a>\n",
    "        <a href=\"{% url 'my-services' %}\">Services</a>\n",
    "        <a href=\"{% url 'my-contact' %}\">Contact</a>\n",
    "    </nav>\n",
    "    \n",
    "    # we can also use alias here as well:\n",
    "    {% url 'my-home' as myurl%}\n",
    "    <a href=\"{{ myurls }}\">Home</a>"
   ]
  },
  {
   "cell_type": "markdown",
   "id": "40a90393",
   "metadata": {},
   "source": [
    "<pre id='l9a'></pre>\n",
    "# Highlight active links in Django"
   ]
  },
  {
   "cell_type": "markdown",
   "id": "48cfda65",
   "metadata": {},
   "source": [
    "We can highlight active links in many ways. Some of them are:\n",
    "\n",
    "**First Method:**\n",
    "1. Open `header.html`(templates) and add following lines of code\n",
    "2. Open `styles.css`(static/CSS) and add css to highlight"
   ]
  },
  {
   "cell_type": "code",
   "execution_count": null,
   "id": "f14e215e",
   "metadata": {},
   "outputs": [],
   "source": [
    "# Step1- templates/header.html:\n",
    "\n",
    "<!DOCTYPE html>\n",
    "<html lang=\"en\">\n",
    "<head>\n",
    "    <meta charset=\"UTF-8\">\n",
    "    <meta name=\"viewport\" content=\"width=device-width, initial-scale=1.0\">\n",
    "    <title>Your Website</title>\n",
    "    <link rel=\"stylesheet\" href=\"/static/CSS/styles.css\"> # external css\n",
    "</head>\n",
    "<body>\n",
    "\n",
    "    <header>\n",
    "        <h1>Your Website</h1>\n",
    "    </header>\n",
    "\n",
    "    <nav>\n",
    "        <span class=\"{% if request.path == '/myapp/home/' %} active {% endif %}\">\n",
    "            <a href=\"{% url 'my-home' %}\">Home</a>\n",
    "        </span>\n",
    "        <span class=\"{% if request.path == '/myapp/about/' %} active {% endif %}\">\n",
    "            <a href=\"{% url 'my-about' %}\">About</a>\n",
    "        </span>\n",
    "        <span class=\"{% if request.path == '/myapp/services/' %} active {% endif %}\">\n",
    "            <a href=\"{% url 'my-services' %}\">Services</a>\n",
    "        </span>\n",
    "        <span class=\"{% if request.path == '/myapp/contact/' %} active {% endif %}\">\n",
    "            <a href=\"{% url 'my-contact' %}\">Contact</a>\n",
    "        </span>\n",
    "    </nav>"
   ]
  },
  {
   "cell_type": "code",
   "execution_count": null,
   "id": "6cd88a32",
   "metadata": {},
   "outputs": [],
   "source": [
    "# Step2- static/CSS/styles.css:\n",
    "\n",
    "body {\n",
    "    font-family: Arial, sans-serif;\n",
    "    margin: 0;\n",
    "    padding: 0;\n",
    "    box-sizing: border-box;\n",
    "}\n",
    "\n",
    "header {\n",
    "    background-color: #333;\n",
    "    color: #fff;\n",
    "    text-align: center;\n",
    "    padding: 1em 0;\n",
    "}\n",
    "\n",
    "nav {\n",
    "    background-color: #444;\n",
    "    padding: 1em 0;\n",
    "}\n",
    "\n",
    "nav a {\n",
    "    color: #fff;\n",
    "    text-decoration: none;\n",
    "    padding: 0 1em;\n",
    "}\n",
    "\n",
    "nav a:hover {\n",
    "    background-color: #555;\n",
    "}\n",
    "\n",
    "main {\n",
    "    padding: 2em;\n",
    "}\n",
    "\n",
    "footer {\n",
    "    background-color: #333;\n",
    "    color: #fff;\n",
    "    text-align: center;\n",
    "    padding: 1em 0;\n",
    "    position: fixed;\n",
    "    bottom: 0;\n",
    "    width: 100%;\n",
    "}\n",
    "nav .active a{ # css to highlight active link\n",
    "    background-color: grey;\n",
    "}"
   ]
  },
  {
   "cell_type": "markdown",
   "id": "4bcd91ab",
   "metadata": {},
   "source": [
    "**Second Method:(using `url` tag)**\n",
    "1. Open `header.html`(templates) and add following lines of code\n",
    "2. Open `styles.css`(static/CSS) and add css to highlight (same as first method)"
   ]
  },
  {
   "cell_type": "code",
   "execution_count": null,
   "id": "634e487b",
   "metadata": {},
   "outputs": [],
   "source": [
    "# Step1- templates/header.html:\n",
    "\n",
    "<!DOCTYPE html>\n",
    "<html lang=\"en\">\n",
    "<head>\n",
    "    <meta charset=\"UTF-8\">\n",
    "    <meta name=\"viewport\" content=\"width=device-width, initial-scale=1.0\">\n",
    "    <title>Your Website</title>\n",
    "    <link rel=\"stylesheet\" href=\"/static/CSS/styles.css\"> # external css\n",
    "</head>\n",
    "<body>\n",
    "\n",
    "    <header>\n",
    "        <h1>Your Website</h1>\n",
    "    </header>\n",
    "\n",
    "    <nav>\n",
    "        {% url 'my-home' as url1 %}\n",
    "        <span class=\"{% if request.path == url1 %} active {% endif %}\">\n",
    "            <a href=\"{{url1}}\">Home</a>\n",
    "        </span>\n",
    "        {% url 'my-about' as url2 %}\n",
    "        <span class=\"{% if request.path == url2 %} active {% endif %}\">\n",
    "            <a href=\"{{url2}}\">About</a>\n",
    "        </span>\n",
    "        {% url 'my-services' as url3 %}\n",
    "        <span class=\"{% if request.path == url3 %} active {% endif %}\">\n",
    "            <a href=\"{{url3}}\">Services</a>\n",
    "        </span>\n",
    "        {% url 'my-contact' as url4 %}\n",
    "        <span class=\"{% if request.path == url4 %} active {% endif %}\">\n",
    "            <a href=\"{{url4}}\">Contact</a>\n",
    "        </span>\n",
    "    </nav>"
   ]
  },
  {
   "cell_type": "code",
   "execution_count": null,
   "id": "b1a9f98a",
   "metadata": {},
   "outputs": [],
   "source": [
    "# Step2- static/CSS/styles.css:\n",
    "\n",
    "body {\n",
    "    font-family: Arial, sans-serif;\n",
    "    margin: 0;\n",
    "    padding: 0;\n",
    "    box-sizing: border-box;\n",
    "}\n",
    "\n",
    "header {\n",
    "    background-color: #333;\n",
    "    color: #fff;\n",
    "    text-align: center;\n",
    "    padding: 1em 0;\n",
    "}\n",
    "\n",
    "nav {\n",
    "    background-color: #444;\n",
    "    padding: 1em 0;\n",
    "}\n",
    "\n",
    "nav a {\n",
    "    color: #fff;\n",
    "    text-decoration: none;\n",
    "    padding: 0 1em;\n",
    "}\n",
    "\n",
    "nav a:hover {\n",
    "    background-color: #555;\n",
    "}\n",
    "\n",
    "main {\n",
    "    padding: 2em;\n",
    "}\n",
    "\n",
    "footer {\n",
    "    background-color: #333;\n",
    "    color: #fff;\n",
    "    text-align: center;\n",
    "    padding: 1em 0;\n",
    "    position: fixed;\n",
    "    bottom: 0;\n",
    "    width: 100%;\n",
    "}\n",
    "nav .active a{ # css to highlight active link(same as previous method)\n",
    "    background-color: grey;\n",
    "}"
   ]
  },
  {
   "cell_type": "markdown",
   "id": "594df0fb",
   "metadata": {},
   "source": [
    "**Third Method:**\n",
    "1. Open `header.html`(templates) and add following lines of code\n",
    "2. Open `styles.css`(static/CSS) and add css to highlight (different from first, second method)"
   ]
  },
  {
   "cell_type": "code",
   "execution_count": null,
   "id": "6f7802b2",
   "metadata": {},
   "outputs": [],
   "source": [
    "# Step1- templates/header.html:\n",
    "\n",
    "<!DOCTYPE html>\n",
    "<html lang=\"en\">\n",
    "<head>\n",
    "    <meta charset=\"UTF-8\">\n",
    "    <meta name=\"viewport\" content=\"width=device-width, initial-scale=1.0\">\n",
    "    <title>Your Website</title>\n",
    "    <link rel=\"stylesheet\" href=\"/static/CSS/styles.css\"> # external css\n",
    "</head>\n",
    "<body>\n",
    "\n",
    "    <header>\n",
    "        <h1>Your Website</h1>\n",
    "    </header>\n",
    "\n",
    "    <nav>\n",
    "        <a href=\"{% url 'my-home' %}\" class=\"{% if request.path == '/myapp/home/' %}active{% endif %}\">Home</a>\n",
    "        <a href=\"{% url 'my-about' %}\" class=\"{% if request.path == '/myapp/about/' %}active{% endif %}\">About</a>\n",
    "        <a href=\"{% url 'my-services' %}\" class=\"{% if request.path == '/myapp/services/' %}active{% endif %}\">Services</a>\n",
    "        <a href=\"{% url 'my-contact' %}\" class=\"{% if request.path == '/myapp/contact/' %}active{% endif %}\">Contact</a>\n",
    "    </nav>"
   ]
  },
  {
   "cell_type": "code",
   "execution_count": null,
   "id": "4e9a268f",
   "metadata": {},
   "outputs": [],
   "source": [
    "# Step2- static/CSS/styles.css:\n",
    "\n",
    "body {\n",
    "    font-family: Arial, sans-serif;\n",
    "    margin: 0;\n",
    "    padding: 0;\n",
    "    box-sizing: border-box;\n",
    "}\n",
    "\n",
    "header {\n",
    "    background-color: #333;\n",
    "    color: #fff;\n",
    "    text-align: center;\n",
    "    padding: 1em 0;\n",
    "}\n",
    "\n",
    "nav {\n",
    "    background-color: #444;\n",
    "    padding: 1em 0;\n",
    "}\n",
    "\n",
    "nav a {\n",
    "    color: #fff;\n",
    "    text-decoration: none;\n",
    "    padding: 0 1em;\n",
    "}\n",
    "\n",
    "nav a:hover {\n",
    "    background-color: #555;\n",
    "}\n",
    "\n",
    "main {\n",
    "    padding: 2em;\n",
    "}\n",
    "\n",
    "footer {\n",
    "    background-color: #333;\n",
    "    color: #fff;\n",
    "    text-align: center;\n",
    "    padding: 1em 0;\n",
    "    position: fixed;\n",
    "    bottom: 0;\n",
    "    width: 100%;\n",
    "}\n",
    "nav a.active { # new css\n",
    "    background-color: grey; \n",
    "}"
   ]
  },
  {
   "cell_type": "markdown",
   "id": "a0dd6401",
   "metadata": {},
   "source": [
    "**In above css if we change the order from `nav a.active` to `nav .active a`(like in first and second method) then it doesn't work.**\n",
    "\n",
    "The reason it doesn't work when you change the order of the CSS rule to `nav .active a` is due to the specificity of CSS selectors. In the original CSS rule, `nav a.active`, the `.active` class is directly applied to the `a` element. In the modified rule, `nav .active a`, it looks for an `a` element that is a descendant of an element with the class `.active`.\n",
    "\n",
    "The correct order for your CSS rule should be nav a.active because the active class is applied directly to the a element in your HTML.\n",
    "\n",
    "`nav a.active {\n",
    "    background-color: grey; \n",
    "}`\n",
    "\n",
    "This rule selects an `a` element with the class `.active` that is a descendant of the `nav` element."
   ]
  },
  {
   "cell_type": "markdown",
   "id": "cefbaf1f",
   "metadata": {},
   "source": [
    "**But in case of first and second method** where the HTML structure to include a `span` with the `active` class wrapping the `a` element, the order of the CSS rule `nav .active a` works. This is because the `active` class is now applied to the `span` element, and the `a` element is a descendant of the `span`. The CSS selector `nav .active a` selects an `a` element that is a descendant of an element with the class `.active` within the `nav` element.\n",
    "\n",
    "`nav .active a {\n",
    "    background-color: grey; \n",
    "}`\n",
    "\n",
    "This CSS rule now selects an `a` element that is a descendant of an element with the class `.active` within the `nav` element, and it works as intended."
   ]
  },
  {
   "cell_type": "markdown",
   "id": "91f4cfb9",
   "metadata": {},
   "source": [
    "**Fourth Method:**\n",
    "1. Open `header.html`(templates) and add following lines of code\n",
    "2. Open `styles.css`(static/CSS) and add css to highlight (same as third method)"
   ]
  },
  {
   "cell_type": "code",
   "execution_count": null,
   "id": "9f6ee6d9",
   "metadata": {},
   "outputs": [],
   "source": [
    "# Step1- templates/header.html:\n",
    "\n",
    "<!DOCTYPE html>\n",
    "<html lang=\"en\">\n",
    "<head>\n",
    "    <meta charset=\"UTF-8\">\n",
    "    <meta name=\"viewport\" content=\"width=device-width, initial-scale=1.0\">\n",
    "    <title>Your Website</title>\n",
    "    <link rel=\"stylesheet\" href=\"/static/CSS/styles.css\"> # external css\n",
    "</head>\n",
    "<body>\n",
    "\n",
    "    <header>\n",
    "        <h1>Your Website</h1>\n",
    "    </header>\n",
    "\n",
    "    {% with request.resolver_match.url_name as current_url %} # here it is fourth approach\n",
    "        <nav>\n",
    "            <a href=\"{% url 'my-home' %}\" class=\"{% if current_url == 'my-home' %}active{% endif %}\">Home</a>\n",
    "            <a href=\"{% url 'my-about' %}\" class=\"{% if current_url == 'my-about' %}active{% endif %}\">About</a>\n",
    "            <a href=\"{% url 'my-services' %}\" class=\"{% if current_url == 'my-services' %}active{% endif %}\">Services</a>\n",
    "            <a href=\"{% url 'my-contact' %}\" class=\"{% if current_url == 'my-contact' %}active{% endif %}\">Contact</a>\n",
    "        </nav>\n",
    "    {% endwith %}"
   ]
  },
  {
   "cell_type": "code",
   "execution_count": null,
   "id": "52c276cf",
   "metadata": {},
   "outputs": [],
   "source": [
    "# Step2- static/CSS/styles.css:\n",
    "\n",
    "body {\n",
    "    font-family: Arial, sans-serif;\n",
    "    margin: 0;\n",
    "    padding: 0;\n",
    "    box-sizing: border-box;\n",
    "}\n",
    "\n",
    "header {\n",
    "    background-color: #333;\n",
    "    color: #fff;\n",
    "    text-align: center;\n",
    "    padding: 1em 0;\n",
    "}\n",
    "\n",
    "nav {\n",
    "    background-color: #444;\n",
    "    padding: 1em 0;\n",
    "}\n",
    "\n",
    "nav a {\n",
    "    color: #fff;\n",
    "    text-decoration: none;\n",
    "    padding: 0 1em;\n",
    "}\n",
    "\n",
    "nav a:hover {\n",
    "    background-color: #555;\n",
    "}\n",
    "\n",
    "main {\n",
    "    padding: 2em;\n",
    "}\n",
    "\n",
    "footer {\n",
    "    background-color: #333;\n",
    "    color: #fff;\n",
    "    text-align: center;\n",
    "    padding: 1em 0;\n",
    "    position: fixed;\n",
    "    bottom: 0;\n",
    "    width: 100%;\n",
    "}\n",
    "nav a.active { # new css\n",
    "    background-color: grey; \n",
    "}"
   ]
  },
  {
   "cell_type": "markdown",
   "id": "bc4c68de",
   "metadata": {},
   "source": [
    "<pre id='l10'></pre>\n",
    "# HTML form and GET method"
   ]
  },
  {
   "cell_type": "markdown",
   "id": "f3d23248",
   "metadata": {},
   "source": [
    "1. Create a html file \"userform.html\" inside `templates` folder.\n",
    "2. Open `userform.html`(templates) and add code to create a form having `method=\"get\"` to add two numbers with \n",
    "3. Open `urls.py`(myapp) and create an url for accessing this html form\n",
    "4. Open `views.py`(myapp) and create a view for html form and perform some logic to add two numbers "
   ]
  },
  {
   "cell_type": "code",
   "execution_count": null,
   "id": "5563d442",
   "metadata": {},
   "outputs": [],
   "source": [
    "# Step2- templates/userform.html:\n",
    "\n",
    "{% extends \"base.html\" %}\n",
    "\n",
    "{% block content %}\n",
    "\n",
    "    <form action=\"\" method=\"get\">\n",
    "        <div>\n",
    "            <label for=\"name1\">Value1</label>\n",
    "            <input type=\"text\" name=\"num1\">\n",
    "        </div>\n",
    "        <div>\n",
    "            <label for=\"name2\">Value2</label>\n",
    "            <input type=\"text\" name=\"num2\">\n",
    "        </div>\n",
    "        <div>\n",
    "            <button type=\"submit\">Save</button>\n",
    "        </div>\n",
    "        <div>\n",
    "            <label for=\"result\">Result</label>\n",
    "            <input type=\"text\" value=\"{{result}}\"> # It will store 0 when form is empty\n",
    "        </div>\n",
    "    </form>\n",
    "\n",
    "{% endblock %}"
   ]
  },
  {
   "cell_type": "code",
   "execution_count": null,
   "id": "97a55559",
   "metadata": {},
   "outputs": [],
   "source": [
    "# Step2- myapp/urls.py:\n",
    "\n",
    "from django.urls import path\n",
    "from . import views\n",
    "\n",
    "urlpatterns = [\n",
    "    path('form/', views.userForm, name=\"form\"),\n",
    "]"
   ]
  },
  {
   "cell_type": "code",
   "execution_count": null,
   "id": "b22eb014",
   "metadata": {},
   "outputs": [],
   "source": [
    "# Step4- myapp/views.py:\n",
    "\n",
    "from django.shortcuts import render\n",
    "\n",
    "# Create your views here.\n",
    "\n",
    "def userForm(request):\n",
    "    result=0\n",
    "    try:\n",
    "        if request.method=='GET':\n",
    "            n1=int(request.GET['num1']) # name attribute value from <input> tag in html file\n",
    "            n2=int(request.GET['num2'])\n",
    "            result=n1+n2\n",
    "\n",
    "#             n1=int(request.GET.get('num1')) # we can use this also (recommended)\n",
    "#             n2=int(request.GET.get('num2')) # we can use this als0\n",
    "    except:\n",
    "        pass\n",
    "    return render(request, 'userform.html', {'result':result})"
   ]
  },
  {
   "cell_type": "markdown",
   "id": "46c46268",
   "metadata": {},
   "source": [
    "### validate fields\n",
    "\n",
    "`is_valid()` - This method is used to run validation and return a Boolean designating whether the data was valid as\n",
    "True or not as False. This returns True or False.\n",
    "\n",
    "Syntax:- Form.is_valid()\n",
    "\n",
    "`cleaned_data` - This attribute is used to access clean data. Each field in a Form class is responsible not only for\n",
    "validating data, but also for \"cleaning\" it normalizing it to a consistent format. This is a nice feature, because it\n",
    "allows data for a particular field to be input in a variety of ways, always resulting in consistent output. Once you've\n",
    "created a Form instance with a set of data and validated it, you can access the clean data via its `cleaned_data` attribute.\n",
    "- Any text based field such as CharField or EmailField always cleans the input into a string.\n",
    "- If your data does not validate, the `cleaned_ data` dictionary contains only the valid fields.\n",
    "- `cleaned _data` will always only contain a key for fields defined in the Form, even if you pass extra data when you define the Form.\n",
    "- When the Form is valid, `cleaned _data` will include a key and value for all its fields, even if the data didn't include a value for some optional fields."
   ]
  },
  {
   "cell_type": "code",
   "execution_count": null,
   "id": "02358963-5ca2-49d0-8108-f04aed482459",
   "metadata": {},
   "outputs": [],
   "source": [
    "# views.py\n",
    "from django.shortcuts import render\n",
    "from .forms import SearchForm\n",
    "\n",
    "def search_view(request):\n",
    "    # django form\n",
    "    form = SearchForm(request.GET or None)  # Bind GET data to the form\n",
    "    results = None\n",
    "    if form.is_valid():\n",
    "        query = form.cleaned_data['query']\n",
    "        # Perform your search logic here, for example:\n",
    "        results = f\"Results for: {query}\"\n",
    "    \n",
    "    return render(request, 'search.html', {'form': form, 'results': results})\n"
   ]
  },
  {
   "cell_type": "code",
   "execution_count": null,
   "id": "5e6f9a0f",
   "metadata": {},
   "outputs": [],
   "source": [
    "# views.py\n",
    "\n",
    "def showformdata (request) :\n",
    "    if request.method == 'POST' :\n",
    "        fm = StudentRegistration(request.POST) # django form\n",
    "        if fm.is_valid():\n",
    "            print('Form Validated')\n",
    "            print('Name', fm.cleaned_data['name']) # always access data using 'cleaned_data'\n",
    "            print('Email', fm.cleaned_data['email'])\n",
    "            \n",
    "            # we can also use following way but this is not cleaned data\n",
    "            \n",
    "#             name = request.POST['name']\n",
    "#             email = request.POST['email'] # data is not cleaned\n",
    "    else:\n",
    "        fm = StudentRegistration()\n",
    "    return render(request, 'template.html', {'form':fm})"
   ]
  },
  {
   "cell_type": "markdown",
   "id": "f7fc889b-16d1-4bea-8bb6-c8f5a0eafac3",
   "metadata": {},
   "source": [
    "We can use `is_valid()` and `cleaned_data` only if we are using django form. What if we are using html form. So in case of html form the best practice is to manually validate and process the form data in your Django view. Here’s how you can do it effectively:"
   ]
  },
  {
   "cell_type": "code",
   "execution_count": 1,
   "id": "d3ed9dbc-a55f-4024-9d60-3af426e3c425",
   "metadata": {},
   "outputs": [],
   "source": [
    "# views.py:\n",
    "def my_view(request):\n",
    "    if request.method == \"POST\":\n",
    "        name = request.POST.get(\"name\", \"\").strip()  # Use `.get()` to avoid KeyError\n",
    "        email = request.POST.get(\"email\", \"\").strip()\n",
    "\n",
    "        # Validate the form data\n",
    "        errors = {}\n",
    "\n",
    "        if not name:\n",
    "            errors[\"name\"] = \"Name is required.\"\n",
    "        if not email:\n",
    "            errors[\"email\"] = \"Email is required.\"\n",
    "        elif \"@\" not in email:\n",
    "            errors[\"email\"] = \"Enter a valid email address.\"\n",
    "\n",
    "        if errors:\n",
    "            return render(request, \"my_template.html\", {\"errors\": errors, \"form_data\": request.POST})\n",
    "\n",
    "        # Process the form data (e.g., save to database)\n",
    "        return HttpResponse(\"Form submitted successfully!\")\n",
    "\n",
    "    return render(request, \"my_template.html\")\n"
   ]
  },
  {
   "cell_type": "markdown",
   "id": "a43094bb-3eba-4888-b276-d239e2cdc95c",
   "metadata": {},
   "source": [
    "To prevent security issues like XSS (Cross-Site Scripting):"
   ]
  },
  {
   "cell_type": "code",
   "execution_count": null,
   "id": "d0502501-ca25-45ef-ba0e-22658eb6e4ba",
   "metadata": {},
   "outputs": [],
   "source": [
    "import html\n",
    "\n",
    "name = html.escape(request.POST.get(\"name\", \"\"))\n"
   ]
  },
  {
   "cell_type": "markdown",
   "id": "69b7f077",
   "metadata": {
    "jp-MarkdownHeadingCollapsed": true
   },
   "source": [
    "### GET and POST\n",
    "- GET should be used only for requests that do not affect the state of the system.\n",
    "- Any request that could be used to change the state of the system should use POST.\n",
    "- GET would also be unsuitable for a password form, because the password would appear in the URL, and thus, also in browser history and server logs, all in plain text. Neither would it be suitable for large quantities of data, or for binary data, such as an image. A Web application that uses GET requests for admin forms is a security risk: it can be easy for an attacker to mimic a form's request to gain access to sensitive parts of the system.\n",
    "- POST, coupled with other protections like Django's CSRF protection offers more control over access.\n",
    "- GET, by contrast, bundles the submitted data into a string, and uses this to compose a URL. The URL contains the address where the data must be sent, as well as the data keys and values.\n",
    "- Django's login form is returned using the POST method, in which the browser bundles up the form data, encodes it for transmission, sends it to the server, and then receives back its response.\n",
    "- GET is suitable for things like a web search form, because the URLs that represent a GET request can easily be bookmarked, shared, or resubmitted."
   ]
  },
  {
   "cell_type": "markdown",
   "id": "07219779",
   "metadata": {},
   "source": [
    "<pre id='l11'></pre>\n",
    "# HTML form and POST method with CSRF token"
   ]
  },
  {
   "cell_type": "markdown",
   "id": "e2da46fe",
   "metadata": {},
   "source": [
    "1. Create a html file \"userform.html\" inside `templates` folder \n",
    "2. Open `userform.html`(templates) and add code to create a form having `method=\"post\"` to add two numbers with \n",
    "3. Open `urls.py`(myapp) and create an url for accessing this html form\n",
    "4. Open `views.py`(myapp) and create a view for html form and perform some logic to add two numbers "
   ]
  },
  {
   "cell_type": "code",
   "execution_count": null,
   "id": "3dba0d5e",
   "metadata": {},
   "outputs": [],
   "source": [
    "# Step2- templates/userform.html:\n",
    "\n",
    "{% extends \"base.html\" %}\n",
    "\n",
    "{% block content %}\n",
    "\n",
    "    <form action=\"\" method=\"post\">\n",
    "        {% csrf_token %} # CSRF token\n",
    "        \n",
    "        <div>\n",
    "            <label for=\"name1\">Value1</label>\n",
    "            <input type=\"text\" name=\"num1\">\n",
    "        </div>\n",
    "        <div>\n",
    "            <label for=\"name2\">Value2</label>\n",
    "            <input type=\"text\" name=\"num2\">\n",
    "        </div>\n",
    "        <div>\n",
    "            <button type=\"submit\">Save</button>\n",
    "        </div>\n",
    "        <div>\n",
    "            <label for=\"result\">Result</label>\n",
    "            <input type=\"text\" value=\"{{result}}\">\n",
    "        </div>\n",
    "    </form>\n",
    "\n",
    "{% endblock %}"
   ]
  },
  {
   "cell_type": "code",
   "execution_count": null,
   "id": "9d38cee3",
   "metadata": {},
   "outputs": [],
   "source": [
    "# Step3- myapp/urls.py:\n",
    "\n",
    "from django.urls import path\n",
    "from . import views\n",
    "\n",
    "urlpatterns = [\n",
    "    path('form/', views.userForm, name=\"form\"),\n",
    "]"
   ]
  },
  {
   "cell_type": "code",
   "execution_count": null,
   "id": "e3f9df95",
   "metadata": {},
   "outputs": [],
   "source": [
    "# Step4- myapp/views.py:\n",
    "\n",
    "from django.shortcuts import render\n",
    "\n",
    "# Create your views here.\n",
    "\n",
    "def userForm(request):\n",
    "    result=0\n",
    "    try:\n",
    "        if request.method=='POST':\n",
    "            n1=int(request.POST['num1'])\n",
    "            n2=int(request.POST['num2'])\n",
    "            result=n1+n2\n",
    "\n",
    "#             n1=int(request.POST.get('num1')) # we can use this also (recommended)\n",
    "#             n2=int(request.POST.get('num2')) # we can use this als0\n",
    "    except:\n",
    "        pass\n",
    "    return render(request, 'userform.html', {'result':result})"
   ]
  },
  {
   "cell_type": "markdown",
   "id": "f20f6202",
   "metadata": {},
   "source": [
    "As we can see when we click on button all its values get removed and only output is stored in output filed. Now what we want is after clicking on save button value should remain there input vield i.e. we want to save value in their filled so that when hit button out is diaplayed along with thier input values.\n",
    "\n",
    "In order to do so, we will have to make some changes in `userform.html` of step2 and `views.py` of step4."
   ]
  },
  {
   "cell_type": "code",
   "execution_count": null,
   "id": "76456582",
   "metadata": {},
   "outputs": [],
   "source": [
    "# Step2- templates/userform.html:\n",
    "\n",
    "{% extends \"base.html\" %}\n",
    "\n",
    "{% block content %}\n",
    "\n",
    "    <form action=\"\" method=\"post\">\n",
    "        {% csrf_token %} # CSRF token\n",
    "        \n",
    "        <div>\n",
    "            <label for=\"name1\">Value1</label>\n",
    "            <input type=\"text\" name=\"num1\" value=\"{{n1}}\"> # add value attribute\n",
    "        </div>\n",
    "        <div>\n",
    "            <label for=\"name2\">Value2</label>\n",
    "            <input type=\"text\" name=\"num2\" value=\"{{n2}}\"> # add value attribute\n",
    "        </div>\n",
    "        <div>\n",
    "            <button type=\"submit\">Save</button>\n",
    "        </div>\n",
    "        <div>\n",
    "            <label for=\"result\">Result</label>\n",
    "            <input type=\"text\" value=\"{{result}}\">\n",
    "        </div>\n",
    "    </form>\n",
    "\n",
    "{% endblock %}"
   ]
  },
  {
   "cell_type": "code",
   "execution_count": null,
   "id": "43b1975e",
   "metadata": {},
   "outputs": [],
   "source": [
    "# Step4- myproject/views.py:\n",
    "\n",
    "from django.shortcuts import render\n",
    "\n",
    "# Create your views here.\n",
    "\n",
    "def userForm(request):\n",
    "    result=0\n",
    "    data={}\n",
    "    try:\n",
    "        if request.method=='POST':\n",
    "            n1=int(request.POST['num1'])\n",
    "            n2=int(request.POST['num2'])\n",
    "            result=n1+n2\n",
    "            data={'n1':n1, 'n2':n2, 'result':result}\n",
    "\n",
    "#             n1=int(request.POST.get('num1')) # we can use this also\n",
    "#             n2=int(request.POST.get('num2')) # we can use this als0\n",
    "    except:\n",
    "        pass\n",
    "    return render(request, 'userform.html', data)"
   ]
  },
  {
   "cell_type": "markdown",
   "id": "b769a5e8",
   "metadata": {},
   "source": [
    "### Cross Site Request Forgery (CSRF/ XSRF)\n",
    "A Cross-site request forgery hole is when a malicious site can cause a visitor's browser to make a request to your server that causes a change on the server. The server thinks that because the request comes with the user's cookies, the user wanted to submit that form.\n",
    "\n",
    "Depending on which forms on your site are vulnerable, an attacker might be able to do the following to your victims:\n",
    "- Log the victim out of your site.\n",
    "- Change the victim's site preferences on your site.\n",
    "- Post a comment on your site using the victim's login.\n",
    "- Transfer funds to another user's account.\n",
    "\n",
    "Attacks can also be based on the victim's IP address rather than cookies:\n",
    "- Post an anonymous comment that is shown as coming from the victim's IP address.\n",
    "- Modify settings on a device such as a wireless router or cable modem.\n",
    "- Modify an intranet wiki page.\n",
    "- Perform a distributed password-guessing attack without a botnet.\n",
    "\n",
    "**Django provides CSRF Protection with `csrf_token` which we need to add inside form tag. This token will add a hidden input field with random value in form tag.**"
   ]
  },
  {
   "cell_type": "markdown",
   "id": "ed0b0183",
   "metadata": {},
   "source": [
    "<pre id='l12'></pre>\n",
    "# Page redirection in Django"
   ]
  },
  {
   "cell_type": "markdown",
   "id": "edb3cb6e",
   "metadata": {},
   "source": [
    "Let's say we have a form and what I want is after submitting the form we will go to a thank you page.\n",
    "\n",
    "Redirection doesn't mean going to another page after clicking. \n",
    "\n",
    "Example: Going to profile page just after login is redirection, Going to thank you page after successful completion of payment.\n",
    "\n",
    "To do so we will use `HttpResponseRedirect()` or `redirect()`\n",
    "\n",
    "Here we will perform redirection on form. So the steps are:\n",
    "\n",
    "1. Create a file \"thankyou.html\" inside `templates` folder\n",
    "2. Open `thankyou.html`(temaplates) and write the thank you message\n",
    "3. Open `views.py`(myapp) and create a view function to render \"thankyou.html\"\n",
    "4. Open `urls.py`(myapp) and create url to map its corresponding view\n",
    "5. Now open `views.py`(myapp) and perform the logic of redirection"
   ]
  },
  {
   "cell_type": "code",
   "execution_count": null,
   "id": "7e3fe3f7",
   "metadata": {},
   "outputs": [],
   "source": [
    "# Step2- templates/thankyou.html:\n",
    "\n",
    "{% extends \"base.html\" %}\n",
    "\n",
    "{% block content %}\n",
    "\n",
    "<h1> Thank you for your response</h1>\n",
    "\n",
    "{% endblock %}"
   ]
  },
  {
   "cell_type": "code",
   "execution_count": null,
   "id": "479be1be",
   "metadata": {},
   "outputs": [],
   "source": [
    "# Step3- myapp/views.py:\n",
    "\n",
    "from django.shortcuts import render\n",
    "\n",
    "# Create your views here.\n",
    "\n",
    "def thankyouView(request):\n",
    "    return render(request, 'thankyou.html')"
   ]
  },
  {
   "cell_type": "code",
   "execution_count": null,
   "id": "c2417386",
   "metadata": {},
   "outputs": [],
   "source": [
    "# Step4- myapp.urls.py:\n",
    "\n",
    "from django.urls import path\n",
    "from . import views\n",
    "\n",
    "urlpatterns = [\n",
    "    path('form/', views.userFormView, name=\"my-form\"),\n",
    "    path('thankyou/', views.thankyouView, name=\"my-thankyou\"),\n",
    "]"
   ]
  },
  {
   "cell_type": "code",
   "execution_count": null,
   "id": "78a2b547",
   "metadata": {},
   "outputs": [],
   "source": [
    "# Step5- myapp/views.py:\n",
    "\n",
    "from django.shortcuts import render\n",
    "\n",
    "# Create your views here.\n",
    "from django.http import HttpResponse, HttpResponseRedirect\n",
    "\n",
    "def userFormView(request):\n",
    "    result=0\n",
    "    data={}\n",
    "    try:\n",
    "        if request.method=='POST':\n",
    "            n1=int(request.POST['num1'])\n",
    "            n2=int(request.POST['num2'])\n",
    "            result=n1+n2\n",
    "            data={'n1':n1, 'n2':n2, 'result':result}\n",
    "            \n",
    "            return HttpResponseRedirect('/myapp/thankyou/') # redirection\n",
    "            # return HttpResponseRedirect(reverse('my-thankyou'))  # Using URL name\n",
    "    except:\n",
    "        pass\n",
    "    return render(request, 'userform.html', data)\n",
    "\n",
    "def thankyouView(request):\n",
    "    return render(request, 'thankyou.html')"
   ]
  },
  {
   "cell_type": "markdown",
   "id": "d44a9331",
   "metadata": {},
   "source": [
    "We have successfully achieved the redirection. When we reach on thank you page we get a message \"thank you for your response\" but we are not able to see the result of form.\n",
    "\n",
    "So, now what we want is we want send the result to url or we can say append the result in url and also want to display the result on thank you page. \n",
    "\n",
    "To do so, we have to follow these steps:\n",
    "\n",
    "1. Open `views.py`(myapp) and add the following code (in `userFormView()`). At this stage if we run server we will able to see the result in url. To get result printed on thank you page we have to follow next step.\n",
    "2. Again open `views.py`(myapp) and add the following code (in `thankyouView()`).\n",
    "3. Now Open `thankyou.html`(templates) and add following lines of code to display result\n",
    "\n",
    "**Remark:** In our form i.e. `userform.html`, we are still using `post` method."
   ]
  },
  {
   "cell_type": "code",
   "execution_count": 1,
   "id": "baf5f634",
   "metadata": {},
   "outputs": [],
   "source": [
    "# Step1- myapp/views.py:\n",
    "\n",
    "from django.shortcuts import render\n",
    "\n",
    "# Create your views here.\n",
    "from django.http import HttpResponse, HttpResponseRedirect\n",
    "\n",
    "def userFormView(request):\n",
    "    result=0\n",
    "    data={}\n",
    "    try:\n",
    "        if request.method=='POST':\n",
    "            n1=int(request.POST['num1'])\n",
    "            n2=int(request.POST['num2'])\n",
    "            result=n1+n2\n",
    "            data={'n1':n1, 'n2':n2, 'result':result}\n",
    "            \n",
    "            url=\"/myapp/thankyou/?myoutput={}\".format(result)\n",
    "            return HttpResponseRedirect(url) # redirection & sending result in url\n",
    "    except:\n",
    "        pass\n",
    "    return render(request, 'userform.html', data)"
   ]
  },
  {
   "cell_type": "markdown",
   "id": "d14b21b9",
   "metadata": {},
   "source": [
    "After completion of `Step1`, if we run server we will able to see the result in url. To get result printed on thank you page we have to follow next step."
   ]
  },
  {
   "cell_type": "code",
   "execution_count": null,
   "id": "5a1e35eb",
   "metadata": {},
   "outputs": [],
   "source": [
    "# Step2- myapp/views.py:\n",
    "\n",
    "from django.shortcuts import render\n",
    "\n",
    "# Create your views here.\n",
    "from django.http import HttpResponse, HttpResponseRedirect\n",
    "\n",
    "def userFormView(request):\n",
    "    result=0\n",
    "    data={}\n",
    "    try:\n",
    "        if request.method=='POST':\n",
    "            n1=int(request.POST['num1'])\n",
    "            n2=int(request.POST['num2'])\n",
    "            result=n1+n2\n",
    "            data={'n1':n1, 'n2':n2, 'result':result}\n",
    "            \n",
    "            url=\"/myapp/thankyou/?myoutput={}\".format(result)\n",
    "            return HttpResponseRedirect(url) # redirection & sending result in url\n",
    "    except:\n",
    "        pass\n",
    "    return render(request, 'userform.html', data)\n",
    "\n",
    "def thankyouView(request):\n",
    "    if request.method==\"GET\": # in form we are still using post method\n",
    "        output=request.GET.get('myoutput')\n",
    "        \n",
    "    return render(request,'thankyou.html',{'result':output})"
   ]
  },
  {
   "cell_type": "code",
   "execution_count": null,
   "id": "5cfa585f",
   "metadata": {},
   "outputs": [],
   "source": [
    "# Step3- templates/thankyou.html:\n",
    "\n",
    "{% extends \"base.html\" %}\n",
    "\n",
    "{% block content %}\n",
    "\n",
    "<h1> Thank you for your response</h1>\n",
    "\n",
    "<h3>Result: {{result}} </h3> # display result\n",
    "\n",
    "{% endblock %}"
   ]
  },
  {
   "cell_type": "markdown",
   "id": "f99c4bc7-8c58-4b6d-bf7b-93fd73cdde11",
   "metadata": {},
   "source": [
    "Even though the exact URL `/myapp/thankyou/?myoutput=result` isn't explicitly defined in `urls.py`, Django recognizes `/myapp/thankyou/` as a valid route and passes the query string data (`?myoutput=result`) to the view via `request.GET`."
   ]
  },
  {
   "cell_type": "markdown",
   "id": "a834d71d",
   "metadata": {},
   "source": [
    "**Note:** We can also use `redirect()` by importing from django.shortcuts i.e. `from django.shortcuts import redirect` instead of `HttpresponseRedirect()`."
   ]
  },
  {
   "cell_type": "code",
   "execution_count": null,
   "id": "669faa26-601c-4057-93d5-4a08b86ee0c3",
   "metadata": {},
   "outputs": [],
   "source": [
    "# views.py:\n",
    "\n",
    "from django.shortcuts import redirect\n",
    "\n",
    "def example_view(request, post_id):\n",
    "    # Redirect to a view with a dynamic argument\n",
    "    return redirect('post_detail', post_id=post_id)\n",
    "\n",
    "# -----------------------------------------------------------------\n",
    "\n",
    "# urls.py:\n",
    "\n",
    "from django.urls import path\n",
    "from . import views\n",
    "\n",
    "urlpatterns = [\n",
    "    path('post/<int:post_id>/', views.post_detail, name='post_detail'),\n",
    "]\n"
   ]
  },
  {
   "cell_type": "markdown",
   "id": "25335379-6261-4368-9329-ab86d0161243",
   "metadata": {},
   "source": [
    "We can also use `reverse()` for same task. Here is sample code:"
   ]
  },
  {
   "cell_type": "code",
   "execution_count": null,
   "id": "d3f0dd60-a23e-496c-8547-8cbdc152d373",
   "metadata": {},
   "outputs": [],
   "source": [
    "# views.py\n",
    "\n",
    "from django.shortcuts import render, redirect\n",
    "from django.urls import reverse\n",
    "from .forms import NumberForm\n",
    "\n",
    "def number_input_view(request):\n",
    "    if request.method == 'POST':\n",
    "        form = NumberForm(request.POST)\n",
    "        # By passing request.POST to NumberForm, you are initializing the form instance with the submitted data.\n",
    "        # This allows Django to validate the data and make it available for further processing.\n",
    "\n",
    "        if form.is_valid():\n",
    "            number = form.cleaned_data['number']\n",
    "            # Redirect to the 'thank you' page with the number as a URL parameter\n",
    "            return redirect(reverse('thank_you') + f'?number={number}')\n",
    "    else:\n",
    "        form = NumberForm()\n",
    "\n",
    "    return render(request, 'number_input.html', {'form': form})\n",
    "\n",
    "def thank_you_view(request):\n",
    "    # Get the number from the query parameters\n",
    "    number = request.GET.get('number')\n",
    "    return render(request, 'thank_you.html', {'number': number})\n"
   ]
  },
  {
   "cell_type": "markdown",
   "id": "24c9d859-37d2-49a2-8dbf-c28dc2a16eb0",
   "metadata": {},
   "source": [
    "**Another approach for this could be, we can use `session`.**"
   ]
  },
  {
   "cell_type": "markdown",
   "id": "68d53e1f-e2b9-4dee-bc0d-f6d7cbc06a55",
   "metadata": {},
   "source": [
    "# reverse()\n",
    "The reverse() function in Django is used to dynamically generate URLs based on their URL name instead of hardcoding them. It is the reverse operation of Django's URL dispatcher—it converts a URL pattern name into an actual URL path.\n",
    "\n",
    "**Why Use reverse()?**\n",
    "- Avoid Hardcoded URLs: If you change your URL patterns, you don’t have to update them manually everywhere.\n",
    "- Supports URL Namespaces: Works well with namespaced URLs in Django apps.\n",
    "- Handles Dynamic Parameters: Useful when URLs have dynamic values like id, slug, etc."
   ]
  },
  {
   "cell_type": "code",
   "execution_count": null,
   "id": "9c8886f8-a8d7-4c24-8a97-f5bbebbf81e9",
   "metadata": {},
   "outputs": [],
   "source": [
    "# urls.py:\n",
    "\n",
    "from django.urls import path\n",
    "from . import views\n",
    "\n",
    "urlpatterns = [\n",
    "    path('thankyou/', views.thankyouView, name=\"my-thankyou\"),\n",
    "]\n"
   ]
  },
  {
   "cell_type": "code",
   "execution_count": null,
   "id": "3a6f343d-fcea-4e1a-963f-7e902b964386",
   "metadata": {},
   "outputs": [],
   "source": [
    "# views.py:\n",
    "\n",
    "from django.http import HttpResponseRedirect\n",
    "\n",
    "def userFormView(request):\n",
    "    return HttpResponseRedirect('/thankyou/')  # ❌ Hardcoded URL\n"
   ]
  },
  {
   "cell_type": "markdown",
   "id": "183fccfa-ccea-4ade-bcf9-5269e9179a21",
   "metadata": {},
   "source": [
    "🔴 Problem: If you later change `urls.py` to modify the URL, you must manually update all views where this URL is used."
   ]
  },
  {
   "cell_type": "code",
   "execution_count": null,
   "id": "b96426b7-f208-4761-8749-6ecbe4d728ee",
   "metadata": {},
   "outputs": [],
   "source": [
    "# urls.py:\n",
    "\n",
    "urlpatterns = [\n",
    "    path('thanks/', views.thankyouView, name=\"my-thankyou\"),  # Changed 'thankyou/' to 'thanks/'\n",
    "]\n"
   ]
  },
  {
   "cell_type": "code",
   "execution_count": null,
   "id": "9d7eb403-54a5-49a4-a98b-b9dd8f18458a",
   "metadata": {},
   "outputs": [],
   "source": [
    "# views.py:\n",
    "\n",
    "def userFormView(request):\n",
    "    return HttpResponseRedirect('/thankyou/')  # ❌ This URL is now broken!\n"
   ]
  },
  {
   "cell_type": "markdown",
   "id": "74e11958-2aee-408b-9955-0fedf0e62ffb",
   "metadata": {},
   "source": [
    "🔴 Issue: The view still redirects to /thankyou/, but we changed it to /thanks/, causing a broken link (404 error)."
   ]
  },
  {
   "cell_type": "code",
   "execution_count": null,
   "id": "2777dca7-78ab-4da5-b1cd-65d8a1491d29",
   "metadata": {},
   "outputs": [],
   "source": [
    "# views.py:\n",
    "\n",
    "from django.urls import reverse\n",
    "from django.http import HttpResponseRedirect\n",
    "\n",
    "def userFormView(request):\n",
    "    return HttpResponseRedirect(reverse('my-thankyou'))  # ✅ Dynamically generates the correct URL\n"
   ]
  },
  {
   "cell_type": "markdown",
   "id": "fec576d8-f9d7-48ff-a2e3-c002f1c858cf",
   "metadata": {},
   "source": [
    "✅ Now, if we change the URL in urls.py, no need to update views.py! Django will automatically generate the correct URL.\n",
    "\n",
    "**For class-based views (CBVs), use `reverse_lazy()` instead of reverse(), because CBVs are evaluated at import time.**"
   ]
  },
  {
   "cell_type": "markdown",
   "id": "e501da62",
   "metadata": {},
   "source": [
    "<pre id='l13'></pre>\n",
    "# HTML form `action`, `url`"
   ]
  },
  {
   "cell_type": "markdown",
   "id": "ff863ff6",
   "metadata": {},
   "source": [
    "So far we are not using `action` attribute of `<form>`. If we don't use `action` attribute then it by default takes url of current page or parent url. Using `action` we can redirect from one page to another and can get value there.\n",
    "\n",
    "The action attribute in an HTML `<form>` tag specifies where (which URL) the form data should be sent when the user submits the form. If omitted (`action=\"\"`) or not specified, the form submits data to the current page.\n",
    "The URL can be relative (to the current page) or absolute (pointing to an external page or API).\n",
    "\n",
    "If we are using `action` attribute in `<form>` then it means it will go to other page or going to hit another url and we will be sending all data of form on that url.\n",
    "\n",
    "1. Open `urls.py`(myapp) and create an url\n",
    "2. Open `views.py`(myapp) and create a view corresponding to url with logic to get value and display result\n",
    "3. Open `userform.html`(templates) and add `action` attribute and provide url"
   ]
  },
  {
   "cell_type": "code",
   "execution_count": null,
   "id": "a013d127",
   "metadata": {},
   "outputs": [],
   "source": [
    "# Step1- myapp/urls.py:\n",
    "\n",
    "from django.urls import path\n",
    "from . import views\n",
    "\n",
    "urlpatterns = [\n",
    "    path('form/', views.userFormView, name=\"my-form\"),\n",
    "    path('submitform/', views.submitFormView, name=\"my-submitform\"),\n",
    "]"
   ]
  },
  {
   "cell_type": "code",
   "execution_count": null,
   "id": "3e4e3680",
   "metadata": {},
   "outputs": [],
   "source": [
    "# Step2- myapp/views.py:\n",
    "\n",
    "from django.shortcuts import render\n",
    "\n",
    "# Create your views here.\n",
    "from django.http import HttpResponse\n",
    "\n",
    "def submitFormView(request):\n",
    "    try:\n",
    "        if request.method=='POST':\n",
    "            n1=int(request.POST['num1'])\n",
    "            n2=int(request.POST['num2'])\n",
    "            result=n1+n2\n",
    "            data={'n1':n1, 'n2':n2, 'result':result}\n",
    "            \n",
    "            return HttpResponse(result)\n",
    "    except:\n",
    "        pass"
   ]
  },
  {
   "cell_type": "code",
   "execution_count": null,
   "id": "cd58dfc1",
   "metadata": {},
   "outputs": [],
   "source": [
    "# Step3- templates/userform.html:\n",
    "\n",
    "{% extends \"base.html\" %}\n",
    "\n",
    "{% block content %}\n",
    "\n",
    "<form action=\"{% url 'my-submitform' %}\" method=\"post\"> # action attribute\n",
    "    {% csrf_token %}\n",
    "\n",
    "    <div>\n",
    "        <label for=\"name1\">Value1</label>\n",
    "        <input type=\"text\" name=\"num1\" value=\"{{n1}}\">\n",
    "    </div>\n",
    "    <div>\n",
    "        <label for=\"name2\">Value2</label>\n",
    "        <input type=\"text\" name=\"num2\" value=\"{{n2}}\">\n",
    "    </div>\n",
    "    <div>\n",
    "        <button type=\"submit\">Save</button>\n",
    "    </div>\n",
    "    <div>\n",
    "        <label for=\"result\">Result</label>\n",
    "        <input type=\"text\" value=\"{{result}}\">\n",
    "    </div>\n",
    "</form>\n",
    "\n",
    "{% endblock %}"
   ]
  },
  {
   "cell_type": "markdown",
   "id": "16a695b9",
   "metadata": {},
   "source": [
    "We can do the same for thank you page also"
   ]
  },
  {
   "cell_type": "markdown",
   "id": "202492c0-c51d-4312-98d2-d4d16e5fb7cf",
   "metadata": {},
   "source": [
    "# redirect() VS action attribute\n",
    "\n",
    "\n",
    "The difference between using Django's `redirect()` function and the `action` attribute in a form's `<form>` tag lies in their purpose, timing, and the context in which they are used. Let’s explore their distinctions:\n",
    "\n",
    "### redirect() in Django\n",
    "\n",
    "**What It Does:**\n",
    "The redirect() function is used in Django views to programmatically send the client (browser) to a different URL.\n",
    "\n",
    "**When It Happens:**\n",
    "It occurs after a form submission or any other operation in a view. The server processes the request and then issues an HTTP response that redirects the browser to another URL.\n",
    "\n",
    "**Purpose:**\n",
    "Typically used when you need to direct the user to another page after completing a specific operation (e.g., saving a form, performing a calculation, or completing a login).\n",
    "\n",
    "**Example:**\n",
    "<code>\n",
    "\n",
    "    from django.shortcuts import redirect\n",
    "\n",
    "    def my_view(request):\n",
    "        if request.method == 'POST':\n",
    "            # Process the form data\n",
    "            return redirect('thank-you')  # Redirect to another view after processing\n",
    "\n",
    "</code>\n",
    "\n",
    "### action Attribute in `<form>` Tag\n",
    "\n",
    "**What It Does:**\n",
    "The action attribute specifies the URL to which the form's data should be sent when the form is submitted.\n",
    "\n",
    "**When It Happens:**\n",
    "It happens immediately when the user submits the form. The browser sends the form data as a request (either GET or POST) to the specified URL.\n",
    "\n",
    "**Purpose:**\n",
    "Used to determine the destination URL for handling form submissions. This is typically the view where the form data will be processed.\n",
    "                                     \n",
    "**Example:**\n",
    "<code>\n",
    "\n",
    "    <form action=\"/submit-form/\" method=\"post\">\n",
    "        <input type=\"text\" name=\"username\">\n",
    "        <button type=\"submit\">Submit</button>\n",
    "    </form>\n",
    "\n",
    "</code>"
   ]
  },
  {
   "cell_type": "markdown",
   "id": "562da82b",
   "metadata": {},
   "source": [
    "<pre id='l14rd'></pre>\n",
    "# Redirect to the url of app2 from app1"
   ]
  },
  {
   "cell_type": "markdown",
   "id": "646cc593",
   "metadata": {},
   "source": [
    "What i want is we want manage user and task in different apps. User will get login form through app1 and as he submit form the form he will be redirect to task url of app2."
   ]
  },
  {
   "cell_type": "code",
   "execution_count": null,
   "id": "6e42b50a",
   "metadata": {},
   "outputs": [],
   "source": [
    "# myproject/urls.py:\n",
    "\n",
    "from django.contrib import admin\n",
    "from django.urls import path, include\n",
    "\n",
    "urlpatterns = [\n",
    "    path(\"admin/\", admin.site.urls),\n",
    "    path('app1/', include('app1.urls')),\n",
    "    path('app2/', include('app2.urls')),\n",
    "]"
   ]
  },
  {
   "cell_type": "code",
   "execution_count": null,
   "id": "d69b3023",
   "metadata": {},
   "outputs": [],
   "source": [
    "# app1/urls.py:\n",
    "\n",
    "from django.urls import path\n",
    "from . import views\n",
    "\n",
    "urlpatterns = [\n",
    "    path('user/', views.fromApp1, name=\"url1\"),\n",
    "]"
   ]
  },
  {
   "cell_type": "code",
   "execution_count": null,
   "id": "f7bc84ec",
   "metadata": {},
   "outputs": [],
   "source": [
    "# app1/views.py:\n",
    "\n",
    "from django.shortcuts import render, redirect\n",
    "from django.http import HttpResponse, HttpResponseRedirect\n",
    "\n",
    "def fromApp1(request):\n",
    "    if request.method == 'POST':\n",
    "        return redirect('/app2/task/')  # we can also use redirect('ulr2') \n",
    "    return render(request, 'userform.html')"
   ]
  },
  {
   "cell_type": "code",
   "execution_count": null,
   "id": "799d812c",
   "metadata": {},
   "outputs": [],
   "source": [
    "# templates/userform.html:\n",
    "\n",
    "<body>\n",
    "    <form method=\"POST\">\n",
    "        {% csrf_token %}\n",
    "        <input type=\"submit\" value=\"Submit\">\n",
    "    </form>\n",
    "</body>"
   ]
  },
  {
   "cell_type": "code",
   "execution_count": null,
   "id": "91a91e2e",
   "metadata": {},
   "outputs": [],
   "source": [
    "# app2/urls.py:\n",
    "\n",
    "from django.urls import path\n",
    "from . import views\n",
    "\n",
    "urlpatterns = [\n",
    "    path(\"task/\", views.fromApp2, name=\"url2\"),\n",
    "]"
   ]
  },
  {
   "cell_type": "code",
   "execution_count": null,
   "id": "b692a62e",
   "metadata": {},
   "outputs": [],
   "source": [
    "# app2/views.py:\n",
    "\n",
    "from django.shortcuts import render\n",
    "from django.http import HttpResponse\n",
    "\n",
    "# Create your views here.\n",
    "def fromApp2(request):\n",
    "    return HttpResponse(\"Welcome to app2. This is the task page.\")"
   ]
  },
  {
   "cell_type": "markdown",
   "id": "f0d84caa",
   "metadata": {},
   "source": [
    "We achieve the same using `action` attribute in our html form. Here we need to update our `userform.html` and `app1/views.py`."
   ]
  },
  {
   "cell_type": "code",
   "execution_count": null,
   "id": "c1e30d32",
   "metadata": {},
   "outputs": [],
   "source": [
    "# templates/userform.html\n",
    "\n",
    "<body>\n",
    "    <form method=\"POST\" action=\"{% url 'url2' %}\">\n",
    "        <input type=\"submit\" value=\"Submit\">\n",
    "    </form>\n",
    "</body>"
   ]
  },
  {
   "cell_type": "code",
   "execution_count": null,
   "id": "53903009",
   "metadata": {},
   "outputs": [],
   "source": [
    "# app1/views.py:\n",
    "\n",
    "from django.shortcuts import render\n",
    "\n",
    "def fromApp1(request):\n",
    "    return render(request, 'userform.html')"
   ]
  },
  {
   "cell_type": "markdown",
   "id": "7eb1e08e",
   "metadata": {},
   "source": [
    "In both of these approach, If we use GET method instead of POST then things will not work as desired. When you enter url `http://127.0.0.1:8000/app1/user/` and press enter it will automatically redirect you to url `http://127.0.0.1:8000/app2/task/` without showing button.\n",
    "\n",
    "We acheive it using `GET` also by making following changes in our code: "
   ]
  },
  {
   "cell_type": "code",
   "execution_count": null,
   "id": "4ec64821",
   "metadata": {},
   "outputs": [],
   "source": [
    "# templates.userform.html:\n",
    "\n",
    "<body>\n",
    "    <form method=\"GET\">\n",
    "        <input type=\"hidden\" name=\"submitted\" value=\"true\">\n",
    "        <input type=\"submit\" value=\"Submit\">\n",
    "    </form>\n",
    "</body>"
   ]
  },
  {
   "cell_type": "code",
   "execution_count": null,
   "id": "d81cd97e",
   "metadata": {},
   "outputs": [],
   "source": [
    "# app1/views.py:\n",
    "\n",
    "from django.shortcuts import render, redirect\n",
    "from django.http import HttpResponse, HttpResponseRedirect\n",
    "\n",
    "def fromApp1(request):\n",
    "    if request.method == 'GET' and 'submitted' not in request.GET:\n",
    "        # Initial access, render the form\n",
    "        return render(request, 'userform.html')\n",
    "    elif request.method == 'GET' and 'submitted' in request.GET:\n",
    "        # Form submitted, redirect to app2/task/\n",
    "        return redirect('url2')  # Redirect to app2/task/\n",
    "    else:\n",
    "        return HttpResponse(\"Method Not Allowed\", status=405)"
   ]
  },
  {
   "cell_type": "markdown",
   "id": "e203af13",
   "metadata": {},
   "source": [
    "<pre id='l14'></pre>\n",
    "# Django Form"
   ]
  },
  {
   "cell_type": "markdown",
   "id": "5908411e",
   "metadata": {},
   "source": [
    "1. Create a file \"forms.py\" inside `myapp` folder\n",
    "2. Open `forms.py`(myapp) and write the following code to create the form using Django `Form` class\n",
    "3. Open `urls.py`(myapp) and create an url to view Django form\n",
    "4. Open `views.py`(myapp) and create the view function that map url\n",
    "5. Create a file \"djangoform.html\" inside `templates` folder\n",
    "6. Open `djangoform.html`(templates) and write the following code"
   ]
  },
  {
   "cell_type": "code",
   "execution_count": null,
   "id": "3951b550",
   "metadata": {},
   "outputs": [],
   "source": [
    "# Step2- myapp/forms.py:\n",
    "\n",
    "from django import forms\n",
    "from django.forms.widgets import NumberInput\n",
    "\n",
    "SHIFTS=(\n",
    "    (\"1\", \"Morning\"),\n",
    "    (\"2\", \"Afternoon\"),\n",
    "    (\"3\", \"Evening\"),\n",
    ")\n",
    "\n",
    "GENDER=(\n",
    "    ('M', 'Male'),\n",
    "    ('F','Female'),\n",
    "    ('O','Other'),\n",
    ")\n",
    "\n",
    "class InputForm(forms.Form):\n",
    "    f_name=forms.CharField(max_length=200, label=\"First Name:\")\n",
    "    l_name=forms.CharField(max_length=200, label=\"Laat Name:\",required=False) \n",
    "    \n",
    "    age=forms.IntegerField(max_value=100) # without label will show variable name as label\n",
    "    \n",
    "    email=forms.EmailField(max_length=100) # without label will show variable name as label\n",
    "    \n",
    "    shift=forms.ChoiceField(choices=SHIFTS) # drop down\n",
    "    \n",
    "    gen=forms.ChoiceField(label=\"Select your gender\", widget=forms.RadioSelect, choices=GENDER) # radio button\n",
    "    \n",
    "    time_log=forms.TimeField(help_text=\"Enter exact time\")\n",
    "    \n",
    "    dob=forms.DateField(label=\"Date of Birth\", widget=NumberInput(attrs={'type':'date'}))\n",
    "    \n",
    "    message=forms.CharField(widget=forms.Textarea(attrs={'rows':6})) # we can skip attrs"
   ]
  },
  {
   "cell_type": "code",
   "execution_count": null,
   "id": "7ae72549",
   "metadata": {},
   "outputs": [],
   "source": [
    "# Step3- myapp/urls.py:\n",
    "\n",
    "from django.urls import path\n",
    "from . import views\n",
    "\n",
    "urlpatterns = [\n",
    "    path('djangoform/', views.djangoFormView, name=\"my-djangoform\"),\n",
    "]"
   ]
  },
  {
   "cell_type": "code",
   "execution_count": null,
   "id": "17660264",
   "metadata": {},
   "outputs": [],
   "source": [
    "# Step4- myapp/views.py:\n",
    "\n",
    "from django.shortcuts import render\n",
    "# Create your views here.\n",
    "\n",
    "from myapp.forms import InputForm\n",
    "\n",
    "def djangoFormView(request):\n",
    "    form=InputForm() # instance of InputForm\n",
    "    context={'form':form}\n",
    "    \n",
    "    return render(request, 'djangoform.html', context)"
   ]
  },
  {
   "cell_type": "code",
   "execution_count": null,
   "id": "b85994f7",
   "metadata": {},
   "outputs": [],
   "source": [
    "# Step5- templates/djangoform.html:\n",
    "\n",
    "{% extends \"base.html\" %}\n",
    "\n",
    "{% block content %}\n",
    "\n",
    "<form action=\"\" method=\"post\" style=\"background-color:smokewhite;\">\n",
    "    {% csrf_token %}\n",
    "\n",
    "    {{form.as_p}} # others: as_table, as_ul\n",
    "    \n",
    "    # we can also show only specific fileds: {{form.age}}\n",
    "\n",
    "    {% comment %}\n",
    "        above will tell Django to render the form elements as paragraph tags.\n",
    "\n",
    "        If we have used like this {{form}} then all form field will be in a single line \n",
    "    {% endcomment %}\n",
    "        \n",
    "    <input type=\"submit\" value=\"Submit\">\n",
    "\n",
    "</form>\n",
    "<br><br><br><br><br>\n",
    "{% endblock %}\n"
   ]
  },
  {
   "cell_type": "markdown",
   "id": "83996b92-a3d4-4627-8afb-dea37a36cde0",
   "metadata": {},
   "source": [
    "**Important Note:**\n",
    "\n",
    "<code>\n",
    "    name=forms.CharField()\n",
    "</code>\n",
    "\n",
    "Above code will create following html code:\n",
    "\n",
    "\n",
    "    <tr>\n",
    "        <th> <label for=\"id_name\">Name:</label> </th>\n",
    "        <td> <input type=\"text\" name=\"name\" required id=\"id_name\"> </td>\n",
    "    </tr>\n",
    "\n",
    "\n",
    "- The output does not include the `<table>` and `</table>` tags, nor does it include the `<form>` and `</form>` tags or an `<input type=\"submit\">` tag. It's your job to do that.\n",
    "- Each field type has a default HTML representation. `CharField` is represented by an `<input type=\"text\">` and `EmailField` by an `<input type=\"email\">`.\n",
    "- The HTML `name` for each tag is taken directly from its attribute `name` in the StudentRegistration class.\n",
    "- The text label for each field e.g. 'Name:' and 'Email:' is generated from the field name by converting all underscores to spaces and upper-casing the first letter.\n",
    "- Each text label is surrounded in an HTML `<label>` tag, which points to the appropriate form field via its id.\n",
    "- Its `id`, in turn, is generated by prepending `'id_'` to the field name. The `id` attributes and `<label>` tags are included in the output by default.\n",
    "- The output uses HTML5 syntax, targeting <!DOCTYPE html>."
   ]
  },
  {
   "cell_type": "markdown",
   "id": "0114c276",
   "metadata": {
    "jp-MarkdownHeadingCollapsed": true
   },
   "source": [
    "### Field Arguments\n",
    "\n",
    "- `required` - It take True or False value. By default, each Field class assumes the `required` value is True.\n",
    "- `label` - The `label` argument lets you specify the \"human-friendly\" label for the field. This is used when the Field is displayed in a Form.\n",
    "- `label_suffix` - The `label_suffix` argument lets you override the form's label_suffix on a per-field basis.\n",
    "- `initial` - The `initial` argument lets you specify the initial value to use when rendering this Field in an unbound Form.\n",
    "- `disabled` - The `disabled` boolean argument, when set to True, disables a form field using the disabled HTML attribute so that it won't be editable by users. Even if a user tampers with the field's value submitted to the server, it will be ignored in favor of the value from the form's initial data.\n",
    "- `help_text` - The `help_text` argument lets you specify descriptive text for this Field. If you provide `help_text`, it will be displayed next to the Field when the Field is rendered.\n",
    "- `error_messages` - - The `error_messages` argument lets you override the default messages that the field will raise. Pass in a dictionary with keys matching the error messages you want to override.\n",
    "\n",
    "    Example:- name=forms.CharField(error_messages={'required':'Enter Your Name'})\n",
    "\n",
    "- `validators` - The `validators` argument lets you provide a list of validation functions for the field.\n",
    "- `localize` - The `localize` argument enables the localization of form data input, as well as the rendered output.\n",
    "- `widget` - The `widget` argument lets you specify a Widget class to use when rendering the Field."
   ]
  },
  {
   "cell_type": "markdown",
   "id": "7560615e",
   "metadata": {},
   "source": [
    "### Widget\n",
    "- A widget is Django's representation of an HTML input element.\n",
    "- The widget handles the rendering of the HTML, and the extraction of data from a GET/POST dictionary that corresponds to the widget.\n",
    "- The HTML generated by the built-in widgets uses HTML5 syntax, targeting <!DOCTYPE html>.\n",
    "- Whenever you specify a field on a form, Django will use a default widget that is appropriate to the type of data that is to be displayed.\n",
    "- Each field type has an appropriate default Widget class, but these can be overridden as required.\n",
    "- Form fields deal with the logic of input validation and are used directly in templates.\n",
    "- Widgets deal with rendering of HTML form input elements on the web page and extraction of raw submitted data.\n",
    "\n",
    "Example: `TextInput`, `Textarea`\n",
    "\n",
    "- `attrs` - A dictionary containing HTML attributes to be set on the rendered widget.\n",
    "- If you assign a value of True or False to an attribute, it will be rendered as an HTML5 boolean attribute.\n",
    "\n",
    "Example:\n",
    "\n",
    "`feedback= forms.CharField(widget= forms.TextInput(attrs={'class':'somecss1 somecss2', 'id':'uniqueid'}))`\n"
   ]
  },
  {
   "cell_type": "markdown",
   "id": "227d621c",
   "metadata": {},
   "source": [
    "### Some Built-in widget\n",
    "\n",
    "- `TextInput` - It renders as: &lt; input type=\"text\" ...&gt;\n",
    "\n",
    "Example:- name = forms.CharField(widget=forms.TextInput)\n",
    "\n",
    "- `NumberInput` - It renders as: &lt;input type=\"number\" ...&gt;\n",
    "- `EmailInput` - It renders as: &lt;input type=\"email\" ...&gt; h\n",
    "- `URLInput` - It renders as: &lt;input type=\"url\" ...&gt;\n",
    "- `PasswordInput` - It renders as: &lt;input type=\"password\" ...&gt;\n",
    "        - It take one optional argument render_value which determines whether the widget will have a value filled in when the form is re-displayed after a validation error (default is False).\n",
    "\n",
    "- `HiddenInput` - It renders as: &lt;input type=\"hidden\" ...&gt;\n",
    "- `DateInput` - It renders as:&lt;input type=\"text\" ...&gt;\n",
    "        - It take one optional argument format. The format in which this field's initial value will be displayed.\n",
    "        - If no format argument is provided, the default format is the first format found in DATE INPUT FORMATS.\n",
    "- `DateTimeInput` - It renders as: &lt;input type=\"text\" ...&gt;\n",
    "        - It take one optional argument format. The format in which this field's initial value will be displayed.\n",
    "        - If no format argument is provided, the default format is the first format found in DATETIME INPUT FORMATS.\n",
    "        \n",
    "- `TimeInput` - It renders as: &lt;input type=\"text\" ...&gt;\n",
    "        - It take one optional argument format. The format in which this field's initial value will be displayed.\n",
    "        - If no format argument is provided, the default format is the first format found in TIME_INPUT_FORMATS\n",
    "- `Textarea` - It renders as: &lt;textarea&lt;...&lt;/textarea&gt;\n",
    "- `CheckboxInput` - It renders as: &lt;input type=\"checkbox\" ...&gt;\n",
    "- `Select` - It renders as: &lt;select&gt;&lt;option ...&gt;...&lt;/select&gt;\n",
    "        - choices attribute is optional when the form field does not have a choices attribute. If it does, it will override anything you set here when the attribute is updated on the Field.\n",
    "- `NullBooleanSelect` - Select widget with options 'Unknown', 'Yes' and 'No'\n",
    "- `SelectMultiple` - Similar to Select, but allows multiple selection: &lt;select multiple&gt;...&lt;/select&gt;\n",
    "- `RadioSelect` - Similar to Select, but rendered as a list of radio buttons within &lt;li&gt; tags:\n",
    "    <pre>\n",
    "    &lt;ul&gt;\n",
    "        &lt;li&gt;&lt;input type=\"radio\" name=\"...\"&gt;&lt;/li&gt;\n",
    "    &lt;/ul&gt;\n",
    "    </pre>\n",
    "- `CheckboxSelectMultiple` - Similar to SelectMultiple, but rendered as a list of checkboxes:\n",
    "    <pre>\n",
    "    &lt;ul&gt;\n",
    "    &lt;li&gt;&lt;input type=\"checkbox\" name=\"...\" &gt;&lt;/li&gt;\n",
    "    &lt;/ul&gt;\n",
    "    </pre>\n",
    "- `FileInput` - It renders as: &lt;input type=\"file\" ...&gt;\n",
    "- `ClearableFileInput` - It renders as: &lt;input type=\"file\" ...&gt; with an additional checkbox input to clearthe field's value, if the field is not required and has initial data."
   ]
  },
  {
   "cell_type": "markdown",
   "id": "b08cdef9",
   "metadata": {},
   "source": [
    "### Configuring `id` attribute of HTML\n",
    "\n",
    "`auto_id` – The id attribute values are generated by prepending id_to the form field names. This behavior is configurable, though, if you want to change the id convention or remove HTML id attributes and `<label>` tags entirely.\n",
    "\n",
    "- Use the auto_id argument to the Form constructor to control the id and label behavior. This argument must be True, False or a string. By default, auto_id is set to the string '`id_%s'`.\n",
    "\n",
    "Example:\n",
    "<code>\n",
    "fm = StudentRegistration(auto_id=False)\n",
    "fm = StudentRegistration(auto_id='geeky')\n",
    "</code>\n",
    "\n",
    "- If `auto_id` is set to a string containing the format character `'%s'`, then the form output will include `<label>` tags, and will generate id attributes based on the format string. For example `fm = StudentRegistration(auto_id='myid_%s')` then `id` value for `name` field will be `myid_name`.\n",
    "- If `auto_id` is set to `True`, then the form output will include `<label>` tags and will use the field name as its id for each form field.\n",
    "- If `auto id` is `False` then the form output will not include `<label>` tags nor `id` attributes.\n",
    "- If `auto_id` is set to any other true value – such as a string that doesn't include %s - then the library will act as if auto id is True."
   ]
  },
  {
   "cell_type": "code",
   "execution_count": null,
   "id": "36715c8d",
   "metadata": {},
   "outputs": [],
   "source": [
    "# LET'S SAY WE HAVE THESE FILES AND CODE:\n",
    "\n",
    "# myapp/forms.py:\n",
    "\n",
    "from django import forms\n",
    "\n",
    "class StudentRegistration(forms.Form):\n",
    "    full_name=forms.CharField()\n",
    "    email=forms.EmailField()\n",
    "    \n",
    "#------------------------------------------------\n",
    "\n",
    "# myapp/urls.py:\n",
    "\n",
    "from django.urls import path\n",
    "from . import views\n",
    "\n",
    "urlpatterns = [\n",
    "    path('djform/', views.djformView, name=\"djform\"),\n",
    "]"
   ]
  },
  {
   "cell_type": "code",
   "execution_count": null,
   "id": "80992f7c",
   "metadata": {},
   "outputs": [],
   "source": [
    "# myapp/views.py:\n",
    "\n",
    "from django.shortcuts import render\n",
    "from myapp.forms import StudentRegistration\n",
    "\n",
    "# Create your views here.\n",
    "def djformView(request):\n",
    "    \n",
    "    form=StudentRegistration(auto_id=\"some_%s\")   # id=some_full_name id= some_email\n",
    "    context={'form':form}\n",
    "    return render(request, 'djform.html', context)"
   ]
  },
  {
   "cell_type": "markdown",
   "id": "5dbe5561",
   "metadata": {},
   "source": [
    "### Configure `<label>` tag of HTML\n",
    "\n",
    "`label_suffix` - A translatable string (defaults to a colon (:) in English) that will be appended after any label name when a form is rendered.\n",
    "\n",
    "- It's possible to customize that character, or omit it entirely, using the label_suffix parameter.\n",
    "- The `label_suffix` is added only if the last character of the label isn't a punctuation character (in English, those are !, ., ? or :)\n",
    "\n",
    "`fm = StudentRegistration (label_suffix='')`"
   ]
  },
  {
   "cell_type": "code",
   "execution_count": null,
   "id": "3ed345d1",
   "metadata": {},
   "outputs": [],
   "source": [
    "# myapp/views.py:\n",
    "\n",
    "from django.shortcuts import render\n",
    "from myapp.forms import StudentRegistration\n",
    "\n",
    "# Create your views here.\n",
    "def djformView(request):\n",
    "    \n",
    "    form=StudentRegistration(auto_id=\"some_%s\", label_suffix='- ')    # add a - symbol after label\n",
    "    context={'form':form}\n",
    "    return render(request, 'djform.html', context)"
   ]
  },
  {
   "cell_type": "markdown",
   "id": "60078227",
   "metadata": {},
   "source": [
    "### Dynamic initial values\n",
    "\n",
    "`initial`  is used to declare the initial value of form fields at runtime.\n",
    "\n",
    "- To accomplish this, use the initial argument to a Form. This argument, if given, should be a dictionary mapping field names to initial values. Only include the fields for which you're specifying an initial value; it's not necessary to include every field in your form.\n",
    "- If a Field defines initial and you include initial when instantiating the Form, then the latter initial will have precedence."
   ]
  },
  {
   "cell_type": "code",
   "execution_count": null,
   "id": "e95ffae8",
   "metadata": {},
   "outputs": [],
   "source": [
    "# myapp/views.py:\n",
    "\n",
    "from djnago.shortcuts import render\n",
    "from myapp.forms import InputForm\n",
    "\n",
    "def djangoFormView(request):\n",
    "    \n",
    "    form=StudentRegistration(auto_id=\"some_%s\", label_suffix='- ', initial={'full_name':'John Smith'}) \n",
    "    \n",
    "                                            # initial={'field_name1':'deafault_value', 'field_name2':'deafault_value'}\n",
    "    \n",
    "    context={'form':form}\n",
    "    return render(request, 'djangoform.html', context)"
   ]
  },
  {
   "cell_type": "markdown",
   "id": "b7788a29",
   "metadata": {},
   "source": [
    "### Ordering form field\n",
    "\n",
    "`order_fields(field_order)` – This method is used to rearrange the fields any time with a list of field names as in `field_order`(attribute). By default `Form.field_order=None`, which retains the order in which you define the fields in your form class.\n",
    "- If `field_order` is a list of field names, the fields are ordered as specified by the list and remaining fields are appended according to the default order."
   ]
  },
  {
   "cell_type": "code",
   "execution_count": null,
   "id": "9431a1c3",
   "metadata": {},
   "outputs": [],
   "source": [
    "# myapp/views.py:\n",
    "\n",
    "from djnago.shortcuts import render\n",
    "from myapp.forms import InputForm\n",
    "\n",
    "def djformView(request):\n",
    "    \n",
    "    form=StudentRegistration(auto_id=\"some_%s\", label_suffix='- ', initial={'full_name':'John Smith'})  \n",
    "    form.order_fields(field_order=['email','full_name'])  # field name \n",
    "    context={'form':form}\n",
    "    return render(request, 'djform.html', context)"
   ]
  },
  {
   "cell_type": "markdown",
   "id": "ea5f23ef",
   "metadata": {},
   "source": [
    "<pre id='l14a'></pre>\n",
    "# Render Form Field Manually"
   ]
  },
  {
   "cell_type": "markdown",
   "id": "56553d96",
   "metadata": {},
   "source": [
    "Each field is available as an attribute of the form using {{form.name_of_field}}\n",
    "\n",
    "- `{{ field.label}}` - The label of the field.\n",
    "\n",
    "Example: {{ form.name.label }}\n",
    "\n",
    "- `{{field.label_tag }}` - The field's label wrapped in the appropriate HTML <label> tag. This includes the form's label_suffix. The default label_suffix is a colon:\n",
    "    \n",
    "Example:- {{form.name.label_tag }}\n",
    "    \n",
    "- `{{field.id_for_label}}` - The ID that will be used for this field.\n",
    "                                                     \n",
    "Example:- {{form.name.id_for_label }}\n",
    "                                                     \n",
    "- `{{ field.value }}` - The value of the field.\n",
    "\n",
    "Example:- {{form.name.value }}\n",
    "\n",
    "- `{{ field.html_name}}` - The name of the field that will be used in the input element's name field. This takes the\n",
    "form prefix into account, if it has been set.\n",
    "\n",
    "Example:- {{ form.name.html_name }}\n",
    "\n",
    "- `{{ field.help_text }}` - Any help text that has been associated with the field.\n",
    "\n",
    "Example:- {{ form.name.help_text }}\n",
    "    \n",
    "- `{{ field.field }}` - The Field instance from the form class that this BoundField wraps. You can use it to access Field\n",
    "attributes.\n",
    "    \n",
    "Example:- {{form.name.field.help_text}}\n",
    "    \n",
    "- `{{field.is_hidden }}` - This attribute is True if the form field is a hidden field and False otherwise. It's not particularly useful as a template variable, but could be useful in conditional tests such as:\n",
    "    \n",
    "<code>\n",
    "{% if field.is_hidden %}\n",
    "{# Do something special #}\n",
    "{% endif %}\n",
    "</code>"
   ]
  },
  {
   "cell_type": "code",
   "execution_count": null,
   "id": "fba6b14c",
   "metadata": {},
   "outputs": [],
   "source": [
    "# templates/manualdjform.html:\n",
    "\n",
    "<body>\n",
    "    <form action=\"\" method=\"get\">\n",
    "        \n",
    "        <div>\n",
    "            <label for=\"id_name\">Name: </label>\n",
    "            <input type=\"text\" name=\"name\" id=\"id_name\" required>\n",
    "        </div>\n",
    "        # Above code of div is equivalent to:\n",
    "        <div>\n",
    "            <label for=\"{{form.full_name.id_for_label}}\">Name: </label> # dynamic for attrubte value\n",
    "            {{form.full_name}} # input area\n",
    "        </div>\n",
    "        # Above code of div is equivalent to:\n",
    "        <div>\n",
    "            {{form.full_name.label_tag}} # input filed label\n",
    "            {{form.full_name}} # input area\n",
    "        </div>\n",
    "\n",
    "        <div>\n",
    "            {{form.full_name.label}} # give only label name( can be used when we need to match name)\n",
    "        </div>\n",
    "\n",
    "        <div>\n",
    "            {{form.full_name.label.value}} # give default value\n",
    "        </div>\n",
    "\n",
    "        <div>\n",
    "            {{form.full_name.html_name}} # give value assigned to 'name' attribute\n",
    "        </div>\n",
    "\n",
    "        <div>\n",
    "            {{form.full_name.help_text}} # give value assigned to help_text atrribute \n",
    "                                            # (can be used to show error to user in form filling)\n",
    "        </div>\n",
    "\n",
    "        <div> # To know value of any attribute use syntax: form.field_name.field.attribute_name\n",
    "            {{form.full_name.field.required}} # required attribute\n",
    "        </div>\n",
    "\n",
    "    </form>\n",
    "</body>"
   ]
  },
  {
   "cell_type": "markdown",
   "id": "4f2f87e8",
   "metadata": {},
   "source": [
    "<pre id='l14b'></pre>\n",
    "# Loop Form fields and Form hidden fields "
   ]
  },
  {
   "cell_type": "code",
   "execution_count": null,
   "id": "e04c240f",
   "metadata": {},
   "outputs": [],
   "source": [
    "# templates/manualdjform.html:\n",
    "\n",
    "<body>\n",
    "    <form action=\"\" method=\"get\">\n",
    "        \n",
    "        {% for field in form %}\n",
    "\n",
    "            <div>\n",
    "                {{ field.label_tag }}\n",
    "                {{ field }}\n",
    "            </div>\n",
    "            \n",
    "        {% endfor %}\n",
    "            \n",
    "    </form>\n",
    "</body>"
   ]
  },
  {
   "cell_type": "code",
   "execution_count": null,
   "id": "0e27f72c",
   "metadata": {},
   "outputs": [],
   "source": [
    "# myapp/forms.py:\n",
    "\n",
    "from django import forms\n",
    "\n",
    "class StudentRegistration(forms.Form):\n",
    "    full_name=forms.CharField()\n",
    "    email=forms.EmailField()\n",
    "    key= forms.CharField(widget=forms.HiddenInput())\n",
    "\n",
    "# templates/manualdjform.html:\n",
    "\n",
    "<body>\n",
    "    <form action=\"\" method=\"get\">\n",
    "        \n",
    "        {% for field in form.visible_fields %} # visible fields\n",
    "\n",
    "            <div>\n",
    "                {{ field.label_tag }}\n",
    "                {{ field }}\n",
    "            </div>\n",
    "            \n",
    "        {% endfor %}\n",
    "\n",
    "        {% for field in form.hidden_fields %} # hidden fields\n",
    "\n",
    "            <div>\n",
    "                {{ field }}\n",
    "            </div>\n",
    "            \n",
    "        {% endfor %}\n",
    "            \n",
    "    </form>\n",
    "</body>"
   ]
  },
  {
   "cell_type": "markdown",
   "id": "7853ac08",
   "metadata": {},
   "source": [
    "<pre id='l15'></pre>\n",
    "# Even-Odd check using HTML form"
   ]
  },
  {
   "cell_type": "markdown",
   "id": "faca7d26",
   "metadata": {},
   "source": [
    "1. Create a file \"oddeven.html\" inside `templates` folder\n",
    "2. Open `oddeven.html`(templates) and create a html form  \n",
    "3. Open `urls.py`(myapp) and create url to display the form\n",
    "4. Open `views.py`(myapp) and create a view function and implement logic of odd/even check"
   ]
  },
  {
   "cell_type": "code",
   "execution_count": null,
   "id": "0ba79b36",
   "metadata": {},
   "outputs": [],
   "source": [
    "# Step2- templates/oddeven.html:\n",
    "\n",
    "{% extends \"base.html\" %}\n",
    "\n",
    "{% block content %}\n",
    "\n",
    "<form action=\"\" method=\"post\">\n",
    "    {% csrf_token %}\n",
    "\n",
    "    <div>\n",
    "        <label for=\"oddeven\">Enter Number:</label>\n",
    "        <input type=\"text\" name=\"num\" >\n",
    "    </div>\n",
    "    <div>\n",
    "        <button type=\"submit\">Check</button>\n",
    "    </div>\n",
    "    <div>\n",
    "        <label for=\"res\">Result</label>\n",
    "        <input type=\"text\" value=\"{{result}}\">\n",
    "    </div>\n",
    "\n",
    "</form>\n",
    "<br><br><br><br><br>\n",
    "{% endblock %}"
   ]
  },
  {
   "cell_type": "code",
   "execution_count": null,
   "id": "7a4f29c1",
   "metadata": {},
   "outputs": [],
   "source": [
    "# Step3- myapp/urls.py:\n",
    "\n",
    "from django.urls import path\n",
    "from . import views\n",
    "\n",
    "urlpatterns = [\n",
    "    path('oddeven/', views.oddevenView, name=\"my-oddeven\"),\n",
    "]"
   ]
  },
  {
   "cell_type": "code",
   "execution_count": null,
   "id": "fd4f4d60",
   "metadata": {},
   "outputs": [],
   "source": [
    "# Step4- myapp/views.py:\n",
    "\n",
    "from django.shortcuts import render\n",
    "\n",
    "# Create your views here.\n",
    "    \n",
    "def oddevenView(request):\n",
    "    result=\"\"\n",
    "    if request.method=='POST':\n",
    "        n=int(request.POST['num'])\n",
    "        if n%2==0:\n",
    "            result=\"Even\"\n",
    "        else:\n",
    "            result=\"Odd\"\n",
    "    return render(request, \"oddeven.html\", {'result':result})"
   ]
  },
  {
   "cell_type": "markdown",
   "id": "28a010f1",
   "metadata": {},
   "source": [
    "<pre id='l16'></pre>\n",
    "# Manual form validation"
   ]
  },
  {
   "cell_type": "markdown",
   "id": "05f5b99a",
   "metadata": {},
   "source": [
    "Lets's validate the oddeven form:\n",
    "1. Open `views.py`(myapp) and add following lines of code\n",
    "2. Open `oddeven.html`(templates) and add following lines of code"
   ]
  },
  {
   "cell_type": "code",
   "execution_count": null,
   "id": "777bc727",
   "metadata": {},
   "outputs": [],
   "source": [
    "# Step1- myapp/views.py:\n",
    "\n",
    "from django.shortcuts import render\n",
    "\n",
    "# Create your views here.\n",
    "\n",
    "def oddevenView(request):\n",
    "    result=\"\"\n",
    "    if request.method=='POST':\n",
    "        if request.POST.get('num')==\"\":\n",
    "            return render(request, \"oddeven.html\", {'error':True})\n",
    "        \n",
    "        n=int(request.POST['num'])\n",
    "        if n%2==0:\n",
    "            result=\"Even\"\n",
    "        else:\n",
    "            result=\"Odd\"\n",
    "    return render(request, \"oddeven.html\", {'result':result})"
   ]
  },
  {
   "cell_type": "code",
   "execution_count": null,
   "id": "1eb1de66",
   "metadata": {},
   "outputs": [],
   "source": [
    "# Step2- templates/oddeven.html:\n",
    "\n",
    "{% extends \"base.html\" %}\n",
    "\n",
    "{% block content %}\n",
    "\n",
    "<form action=\"\" method=\"post\">\n",
    "\n",
    "    {% if error %}\n",
    "        <p style=\"color: red;\">Please enter a number</p>\n",
    "    {% endif %}\n",
    "        \n",
    "    {% csrf_token %}\n",
    "    \n",
    "    <div>\n",
    "        <label for=\"oddeven\">Enter Number:</label>\n",
    "        <input type=\"text\" name=\"num\" >\n",
    "    </div>\n",
    "    <div>\n",
    "        <button type=\"submit\">Check</button>\n",
    "    </div>\n",
    "    <div>\n",
    "        <label for=\"res\">Result</label>\n",
    "        <input type=\"text\" value=\"{{result}}\">\n",
    "    </div>\n",
    "\n",
    "</form>\n",
    "<br><br><br><br><br>\n",
    "{% endblock %}"
   ]
  },
  {
   "cell_type": "markdown",
   "id": "419934aa",
   "metadata": {},
   "source": [
    "<pre id='l17'></pre>\n",
    "# Models"
   ]
  },
  {
   "cell_type": "markdown",
   "id": "a04e6e79",
   "metadata": {},
   "source": [
    "1. Open `models.py`(myapp) and add following lines of code\n",
    "2. Open `settings.py`(myproject) and make sure `myapp` is added inside `INSTALLED_APPS`\n",
    "3. Run command `python manage.py makemigrations`\n",
    "4. Run command `python manage.py migrate`\n",
    "5. Now if we open `db.sqlite3` then we find two tables are created with name `myapp_menuitem` having field/columns `id`, `name`, `cuisine` `price` and another table with name  `myapp_service` having filed/columns `id`, `service-icon`, `service_title`, `service_desc`.\n",
    "6. Open `admin.py`(myapp) and import required files and register the model."
   ]
  },
  {
   "cell_type": "code",
   "execution_count": null,
   "id": "45e5ca01",
   "metadata": {},
   "outputs": [],
   "source": [
    "# Step1- myapp/models.py:\n",
    "\n",
    "from django.db import models\n",
    "\n",
    "# Create your models here.\n",
    "\n",
    "# we have created two models here\n",
    "\n",
    "class Menu(models.Model):\n",
    "    name=models.CharField(max_length=100)\n",
    "    cuisine=models.CharField(max_length=100)\n",
    "    price=models.IntegerField()\n",
    "\n",
    "class Service(models.Model):\n",
    "    service_icon=models.CharField(max_length=50)\n",
    "    service_title=models.CharField(max_length=50)\n",
    "    service_desc=models.TextField()"
   ]
  },
  {
   "cell_type": "markdown",
   "id": "d6547ccd",
   "metadata": {},
   "source": [
    "**Remark:** As we have not mentioned primary key in any of these columns so it will automatically create a new column named 'id' Data Type Integer with primary key and auto increment."
   ]
  },
  {
   "cell_type": "code",
   "execution_count": null,
   "id": "13133052",
   "metadata": {},
   "outputs": [],
   "source": [
    "# Step2- myproject/settings.py:\n",
    "\n",
    "INSTALLED_APPS = [\n",
    "    'django.contrib.admin',\n",
    "    'django.contrib.auth',\n",
    "    'django.contrib.contenttypes',\n",
    "    'django.contrib.sessions',\n",
    "    'django.contrib.messages',\n",
    "    'django.contrib.staticfiles',\n",
    "    'myapp', # OR 'myapp.apps.MyappConfig'\n",
    "]"
   ]
  },
  {
   "cell_type": "code",
   "execution_count": null,
   "id": "696e67ac",
   "metadata": {},
   "outputs": [],
   "source": [
    "# Step6- myapp/admin.py:\n",
    "\n",
    "from django.contrib import admin\n",
    "\n",
    "# Register your models here.\n",
    "from .models import Menu # import model\n",
    "from .models import Service # another way to import this: from myapp.models import Service \n",
    "\n",
    "admin.site.register(Menu) # registering the model\n",
    "admin.site.register(Service) # registering the model"
   ]
  },
  {
   "cell_type": "markdown",
   "id": "f1fb005d",
   "metadata": {},
   "source": [
    "Now if we want to access database from command, then we need to run command: `python manage.py shell`"
   ]
  },
  {
   "cell_type": "code",
   "execution_count": null,
   "id": "35ed8e9a",
   "metadata": {},
   "outputs": [],
   "source": [
    "# python shell:\n",
    "\n",
    ">>> from myapp.models import Menu\n",
    "\n",
    ">>> Menu.objects.all()\n",
    "<QuerySet []>"
   ]
  },
  {
   "cell_type": "code",
   "execution_count": null,
   "id": "50345cc0",
   "metadata": {},
   "outputs": [],
   "source": [
    "# let's see how to insert entries:\n",
    "\n",
    ">>> m=Menu.objects.create(name='pasta', cuisine='italian', price=10)\n",
    "#I've assigned this entry to an object m. And that is so I can manipulate changes on the objects such as updating or saving\n",
    "\n",
    ">>> Menu.objects.all()\n",
    "<QuerySet [<Menu: Menu object (1)>]>\n",
    "\n",
    ">>> m=Menu.objects.create(name='taco', cuisine='mexican', price=2)   \n",
    "\n",
    ">>> Menu.objects.all()\n",
    "<QuerySet [<Menu: Menu object (1)>, <Menu: Menu object (2)>]>"
   ]
  },
  {
   "cell_type": "markdown",
   "id": "14447628",
   "metadata": {},
   "source": [
    "Notice that there are two objects but this is not very informative as only the names of the menu objects one and two are displayed. Django provides a way to change this using something called custom methods. \n",
    "\n",
    "So, we need to override dunder method `__str__()` in our `models.py`"
   ]
  },
  {
   "cell_type": "code",
   "execution_count": null,
   "id": "bc28b9cf",
   "metadata": {},
   "outputs": [],
   "source": [
    "from django.db import models\n",
    "\n",
    "# Create your models here.\n",
    "\n",
    "class Menu(models.Model):\n",
    "    name=models.CharField(max_length=100)\n",
    "    cuisine=models.CharField(max_length=100)\n",
    "    price=models.IntegerField()\n",
    "    \n",
    "    def __str__(self): # dunder method\n",
    "        return self.name+\" : \"+self.cuisine\n",
    "        # this will not display data as table\n",
    "        # To display model data as table we need to use ModelAdmin class which is below\n",
    "\n",
    "class Service(models.Model):\n",
    "    service_icon=models.CharField(max_length=50)\n",
    "    service_title=models.CharField(max_length=50)\n",
    "    service_desc=models.TextField()"
   ]
  },
  {
   "cell_type": "code",
   "execution_count": null,
   "id": "1d4580d5",
   "metadata": {},
   "outputs": [],
   "source": [
    "# Now we will able to see items\n",
    "\n",
    ">>> Menu.objects.all()\n",
    "<QuerySet [<Menu: pasta : italian>, <Menu: taco : mexican>]>"
   ]
  },
  {
   "cell_type": "code",
   "execution_count": null,
   "id": "44d0127d",
   "metadata": {},
   "outputs": [],
   "source": [
    "# let's see how to update entries:\n",
    "\n",
    ">>> p=Menu.objects.get(pk=2) # pk is primary key\n",
    "# we assign this to an object p so that we can access \n",
    "# the attributes inside this object just as we would in regular python code.\n",
    "\n",
    ">>> p.cuisine\n",
    "'mexican'\n",
    ">>> p.name\n",
    "'taco'\n",
    ">>> p.price\n",
    "2   \n",
    "\n",
    ">>> p.cuisine='chinese' # updating\n",
    "\n",
    ">>> p.save() # save \n",
    "\n",
    ">>> Menu.objects.all()\n",
    "<QuerySet [<Menu: pasta : italian>, <Menu: taco : chinese>]>\n",
    "\n",
    ">>> n=Menu.objects.get(cuisine='italian')\n",
    ">>> n.name\n",
    "'pasta'\n",
    ">>> n.cuisine\n",
    "'italian'\n",
    ">>> n.price\n",
    "10\n"
   ]
  },
  {
   "cell_type": "code",
   "execution_count": null,
   "id": "c5384bc8",
   "metadata": {},
   "outputs": [],
   "source": [
    "# let's see how to delete entries:\n",
    "\n",
    ">>> d=Menu.objects.get(pk=2)     \n",
    ">>> d.delete()\n",
    "(1, {'myapp.Menu': 1})\n",
    ">>> Menu.objects.all()                    \n",
    "<QuerySet [<Menu: pasta : italian>]>"
   ]
  },
  {
   "cell_type": "markdown",
   "id": "19d7f3f8",
   "metadata": {},
   "source": [
    "<pre id='l18'></pre>\n",
    "# Working with migrations"
   ]
  },
  {
   "cell_type": "markdown",
   "id": "2779473c",
   "metadata": {},
   "source": [
    "When we run the command `python manage.py makemigrations` and Django displays a message saying that it will make migrations for `myapp` and create a model called `Menu` inside it. Also, it will create a file with the name `0001_ initial.py`. \n",
    "\n",
    "Next we need to apply the migration. We run the command `python manage.py migrate`. This time, notice that Django performs migrations with this command. \n",
    "\n",
    "**let me explain the difference between these two commands:** `makemigrations` is Django's way of preparing the changes to be made in the model. For example, it creates a database such as this one named `db.sqlite3`. So you can think of `makemigrations` as the command that generates the sql commands and `migrate` as the command where those sql commands are executed.\n",
    "\n",
    "Once we've run these commands, notice that a folder called `migrations` is created inside the `myapp` folder, which consists of the file that keeps a record of the migrations. If I open the file, notice that the code contains the table columns, names, and auto assigned primary key called `ID`. So now you know the commands makemigrations and migrate are used to perform migrations in Django. \n",
    "\n",
    "However, **what if I want to make some changes to the model?** For example, suppose I want to change the attribute `cuisine` to `category` and save this file. For this change to take effect, I have to run the `makemigrations` command again. \n",
    "\n",
    "Notice that Django displays a message that asks, \"Was menu.cuisine renamed to menu.category?\" To confirm, we type \"y\" and press \"Enter\". \n",
    "\n",
    "Now, notice that another file is created inside the `migrations` folder. If I open that file, notice that it contains the code changes performed in that migration. I want to make another change to the model. This time we will change the attribute `name` to `itemname`. So I will save the file and rerun the migration. I confirm the change by typing \"y\" and notice that Django displays a good description of the changes we've made in addition to the new file that's created. \n",
    "Now we know how to change the model using the `makemigrations` command. \n",
    "\n",
    "Suppose I want to display all the migrations that I performed.  To do this, I can run the command `python manages.py showmigrations`. \n",
    "\n",
    "<code>\n",
    "    myapp\n",
    "     [X] 0001_initial\n",
    "     [ ] 0004_rename_cuisine_menu_category\n",
    "     [ ] 0005_rename_name_menu_itemname\n",
    "    sessions\n",
    "     [X] 0001_initial\n",
    "</code>\n",
    "\n",
    "Notice that under the name of the app, `myapp`, the three migrations I performed are displayed. The X symbol represents the commits to the migrations. Since I have not executed the `migrate` command for my latest changes, notice that the last place holder is empty. Let me run the migrate command again. When I showmigrations, the X appears in front of all three files (shown below).\n",
    "\n",
    "<code>\n",
    "    myapp\n",
    "     [X] 0001_initial\n",
    "     [X] 0004_rename_cuisine_menu_category\n",
    "     [X] 0005_rename_name_menu_itemname\n",
    "    sessions\n",
    "     [X] 0001_initial\n",
    "</code>\n",
    "\n",
    "Now suppose that after making the changes, I want to revert back to a migration I performed earlier. I can do this by typing command `python manage.py migrate myapp 0001`. But before I execute, I can add a flag such as `plan` i.e. `python manage.py migrate myapp 0001 --plan`. \n",
    "\n",
    "<code>\n",
    "    myapp.0005_rename_name_menu_itemname\n",
    "        Undo Rename field name on menu to itemname\n",
    "    myapp.0004_rename_cuisine_menu_category\n",
    "        Undo Rename field cuisine on menu to category\n",
    "</code>\n",
    "\n",
    "Django will then display the changes it will revert to. In this example, it'll change the attributes of menu `name` back to `itemname`, and `category` back to `course`. \n",
    "\n",
    "This time, I execute this command without the plan flag i.e. `python manage.py migrate myapp 0001`. \n",
    "\n",
    "<code>\n",
    "    Operations to perform:\n",
    "      Target specific migration: 0001_initial, from myapp\n",
    "    Running migrations:\n",
    "      Rendering model states... DONE\n",
    "      Unapplying myapp.0005_rename_name_menu_itemname... OK\n",
    "      Unapplying myapp.0004_rename_cuisine_menu_category... OK\n",
    "</code>\n",
    "\n",
    "Notice that even if the changes are not displayed in the Python file, the changes have been reflected in the database we created. The final command I want you to know about is `sqlmigrate`. I can run this command against some migrated version i.e. command is: `python manage.py sqlmigrate myapp 0005`. \n",
    "\n",
    "<code>\n",
    "    BEGIN;\n",
    "    --\n",
    "    -- Rename field name on menu to itemname\n",
    "    --\n",
    "    ALTER TABLE \"myapp_menu\" RENAME COLUMN \"name\" TO \"itemname\";\n",
    "    COMMIT;\n",
    "</code>\n",
    "\n",
    "Notice that when we execute it, the corresponding sql commands are displayed for the migrations we have performed. In this example, we ran it against the 0005 migration. Notice the sql `alter` statement on the table named `myapp_menu` to rename the column from `name` to `itemname`. \n",
    "\n",
    "For Django developers, migrations are very useful as they allow us to apply version control to the models. "
   ]
  },
  {
   "cell_type": "markdown",
   "id": "4da9bac1",
   "metadata": {},
   "source": [
    "<pre id='l19'></pre>\n",
    "# Models using foreign key"
   ]
  },
  {
   "cell_type": "markdown",
   "id": "dd31f337",
   "metadata": {},
   "source": [
    "In Django, foreign key is an ORM field representing a database table column. We use it to create the relationships between tables in our database. \n",
    "\n",
    "Imagine the scenario of building an online menu for the Little Lemon restaurant. The solution begins with creating a table to add the menu items for the web page. Now, Little Lemon is a restaurant that offers many cuisines. In placing each cuisine item in its correct category requires some skill. To do this successfully, start by creating another model for categories and assign the different categories to each of the menu items. \n",
    "\n",
    "Now, let's explore how to do this by using a one to many relationship through foreign keys in Django. Let's begin by selecting the models.py file. Here, you need to create two models. The first model is for the menu category and the second model is for the menu. Later we will add subcategories in the menu category and use the foreign key to reference these categories. \n",
    "\n",
    "It's important to know that adding both models is done the same way as adding models independently. \n",
    "\n",
    "1. Open `models.py`(myapp) and create two model with name `MenuCategory` and `Menu`.\n",
    "2. Open `admin.py`(myapp) and register the model\n",
    "3. Ensure that `myapp` is updated inside `INSTALLED_APPS` of `settings.py`(myproject).\n",
    "4. Run command `python manage.py makemigrations`\n",
    "5. Run command `python manage.py migrate`"
   ]
  },
  {
   "cell_type": "code",
   "execution_count": null,
   "id": "d84934bb",
   "metadata": {},
   "outputs": [],
   "source": [
    "# Step1- myapp/models.py:\n",
    "\n",
    "from django.db import models\n",
    "\n",
    "# Create your models here.\n",
    "class MenuCategory(models.Model):\n",
    "    menu_category_name=models.CharField(max_length=100)\n",
    "    \n",
    "class Menu(models.Model):\n",
    "    menu_item=models.CharField(max_length=200)\n",
    "    price=models.IntegerField(null=False)\n",
    "    category_id=models.ForeignKey(MenuCategory, on_delete=models.PROTECT, default=None)"
   ]
  },
  {
   "cell_type": "code",
   "execution_count": null,
   "id": "3df97f37",
   "metadata": {},
   "outputs": [],
   "source": [
    "# Step2- myapp/admin.py:\n",
    "\n",
    "from django.contrib import admin\n",
    "\n",
    "# Register your models here.\n",
    "from .models import Menu\n",
    "from .models import MenuCategory\n",
    "\n",
    "admin.site.register(Menu)\n",
    "admin.site.register(MenuCategory)"
   ]
  },
  {
   "cell_type": "code",
   "execution_count": null,
   "id": "68b056ae",
   "metadata": {},
   "outputs": [],
   "source": [
    "# Step3- myproject/settings.py:\n",
    "\n",
    "INSTALLED_APPS = [\n",
    "    'django.contrib.admin',\n",
    "    'django.contrib.auth',\n",
    "    'django.contrib.contenttypes',\n",
    "    'django.contrib.sessions',\n",
    "    'django.contrib.messages',\n",
    "    'django.contrib.staticfiles',\n",
    "    'myapp',\n",
    "]"
   ]
  },
  {
   "attachments": {
    "image-2.png": {
     "image/png": "[encoded data removed]"
    },
    "image.png": {
     "image/png": "[encoded data removed]"
    }
   },
   "cell_type": "markdown",
   "id": "e03f8309",
   "metadata": {},
   "source": [
    "Now if we open `db.sqlite3` and select `myapp_menu`. For this example, assume that there are entries added to the database. Now, open the database again under `myapp_menucategories`, the ID lists 1, 2, and 3 as Italian, Greek, and Turkish. \n",
    "\n",
    "![image.png](attachment:image.png)\n",
    "![image-2.png](attachment:image-2.png)\n",
    "\n",
    "Now, visit `myapp_menu` and notice that there is a fourth field called `category_id_id`. This field has ID numbers that match the respective categories in the `myapp_menu` table. For example, `Greek salad` is listed as `id 2` and in the `myapp_menucategory`, the category name is `Greek`. The idea of the menu is referenced and corresponds with the ID listed in the menucategory.\n",
    "\n",
    "We can rename `category_id_id` to `item_category_name` using attribute `db_column`\n",
    "\n",
    "1. Open `models.py`(myapp) and add `db_column` in `ForeignKey()`\n",
    "2. Run command `python manage.py makemigrations`\n",
    "3. Run command `python manage.py migrate`"
   ]
  },
  {
   "cell_type": "code",
   "execution_count": null,
   "id": "35164dfb",
   "metadata": {},
   "outputs": [],
   "source": [
    "# Step1- myapp/models.py:\n",
    "\n",
    "from django.db import models\n",
    "\n",
    "# Create your models here.\n",
    "class MenuCategory(models.Model):\n",
    "    menu_category_name=models.CharField(max_length=100)\n",
    "    \n",
    "class Menu(models.Model):\n",
    "    menu_item=models.CharField(max_length=200)\n",
    "    price=models.IntegerField(null=False)\n",
    "    category_id=models.ForeignKey(MenuCategory, on_delete=models.PROTECT, default=None, db_column=\"item_category_name\")\n",
    "    \n",
    "    # db_column=\"item_category_name\" means that the myapp_menu now lists the item_category_name instead of category_id_id.\n",
    "    # on_delete=models.PROTECT selected means No menu items will be removed with any category that is deleted in the category table.\n",
    "    "
   ]
  },
  {
   "cell_type": "markdown",
   "id": "a3d757e4",
   "metadata": {},
   "source": [
    "**`on_delete=PROTECT`**\n",
    "\n",
    "The `on_delete` parameter in a Django `ForeignKey` field defines what should happen when the referenced object (in your case, a `MenuCategory` object) is deleted. The `PROTECT` option means that Django will prevent deletion of the referenced object (`MenuCategory`) as long as there are still objects (Item instances in your case) that have a foreign key reference to it.\n",
    "\n",
    "Here's a brief explanation of the on_delete options:\n",
    "\n",
    "- `models.PROTECT`: Prevent deletion of the referenced object.\n",
    "- `models.CASCADE`: Delete the referencing objects when the referenced object is deleted.\n",
    "- `models.SET_NULL`: Set the foreign key to NULL when the referenced object is deleted. Requires the field to be nullable (null=True).\n",
    "- `models.SET_DEFAULT`: Set the foreign key to its default value when the referenced object is deleted. Requires a default value to be defined.\n",
    "- `models.SET()`: Set the foreign key to the value passed to SET() when the referenced object is deleted.\n",
    "- `models.DO_NOTHING`: Do nothing when the referenced object is deleted. You are responsible for handling the situation manually (e.g., using database triggers).\n",
    "\n",
    "In our case above, with `on_delete=models.PROTECT`, if you attempt to delete a MenuCategory object that is still referenced by one or more Item objects, Django will raise an exception and prevent the deletion."
   ]
  },
  {
   "cell_type": "markdown",
   "id": "0bfc7271",
   "metadata": {},
   "source": [
    "<pre id='l20'></pre>\n",
    "# Fixing migrations issues by deleting files"
   ]
  },
  {
   "cell_type": "markdown",
   "id": "10bad508",
   "metadata": {},
   "source": [
    "Let's we are experimenting with several models and have performed several migartions and we are not able to achieve what we want or let's we are getting error due to migrations or say we want to start models and migration stuff from scratch then we can that in following ways:\n",
    "\n",
    "1. Open `migrations` folder which is inside `myapp` and delete all files except `__init__.py` file. Also, delete the `__pycache__` directory if it exists inside the migrations directory.\n",
    "2. Delete your existing database file. This is typically a file named `db.sqlite3` in our project directory.\n",
    "\n",
    "**Note:** Keep in mind that this process will delete all data in your database, so make sure to backup any important information before proceeding."
   ]
  },
  {
   "cell_type": "markdown",
   "id": "54c8e502",
   "metadata": {},
   "source": [
    "<pre id='l21'></pre>\n",
    "# Get table data in django and render it on HTML page"
   ]
  },
  {
   "cell_type": "markdown",
   "id": "6aef94e2",
   "metadata": {},
   "source": [
    "1. We already have models in our `models.py`(myapp) and also model is registered in `admin.py`(myapp). So, we are going to use `Service` model for this task.\n",
    "2. Open `urls.py`(myapp) and create an url for this\n",
    "3. Open `views.py`(myapp) and create a corresponding view that map to url\n",
    "4. Create a file \"myserv.html inside `templates` folder.\n",
    "5. Open `myserv.html`(templates) and add some html to render the table content"
   ]
  },
  {
   "cell_type": "code",
   "execution_count": null,
   "id": "5ceb286a",
   "metadata": {},
   "outputs": [],
   "source": [
    "# Step2- myapp/urls.py:\n",
    "\n",
    "from django.urls import path\n",
    "from . import views\n",
    "\n",
    "urlpatterns = [\n",
    "    path('myserv/', views.myServView, name=\"my-serv\"),\n",
    "]"
   ]
  },
  {
   "cell_type": "code",
   "execution_count": null,
   "id": "a758e109",
   "metadata": {},
   "outputs": [],
   "source": [
    "# Step3- myapp/views.py:\n",
    "\n",
    "from django.shortcuts import render\n",
    "\n",
    "# Create your views here.\n",
    "from myapp.models import Service\n",
    "\n",
    "def myServView(request):\n",
    "    service_data=Service.objects.all()\n",
    "    data={'servicedata':service_data}\n",
    "    return render(request, \"myserv.html\", data)"
   ]
  },
  {
   "cell_type": "code",
   "execution_count": null,
   "id": "99eafde7",
   "metadata": {},
   "outputs": [],
   "source": [
    "# Step5- templates/myserv.html:\n",
    "\n",
    "{% extends \"base.html\" %}\n",
    "\n",
    "{% block content %}\n",
    "    <h1>MY Services</h1>\n",
    "    \n",
    "    <div>\n",
    "        \n",
    "        {% for service in servicedata %}\n",
    "\n",
    "            <div>\n",
    "                <h1>{{service.service_title}}</h1>\n",
    "                <h4>{{service.service_icon}}</h4>\n",
    "                <p>{{service.service_desc}}</p>\n",
    "            </div>\n",
    "            \n",
    "        {% endfor %}\n",
    "            \n",
    "    </div>\n",
    "\n",
    "    <br><br><br><br><br><br>\n",
    "{% endblock  %}\n"
   ]
  },
  {
   "cell_type": "markdown",
   "id": "237d6b33",
   "metadata": {},
   "source": [
    "<pre id='l22'></pre>\n",
    "# Django `order_by`: Ascending, Descending, Limiting data"
   ]
  },
  {
   "cell_type": "markdown",
   "id": "f156816b",
   "metadata": {},
   "source": [
    "We will apply all these operation on our `Service` table. So, we apply we need apply these operation in `myServView()` of `views.py`(myapp)"
   ]
  },
  {
   "cell_type": "code",
   "execution_count": null,
   "id": "e19a98ba",
   "metadata": {},
   "outputs": [],
   "source": [
    "# myapp/views.py:\n",
    "\n",
    "from django.shortcuts import render\n",
    "\n",
    "# Create your views here.\n",
    "from myapp.models import Service\n",
    "\n",
    "def myServView(request):\n",
    "    service_data=Service.objects.all().order_by('service_title') # ascending order\n",
    "    data={'servicedata':service_data}\n",
    "    return render(request, \"myserv.html\", data)"
   ]
  },
  {
   "cell_type": "code",
   "execution_count": null,
   "id": "da3a8ed6",
   "metadata": {},
   "outputs": [],
   "source": [
    "# myapp/views.py:\n",
    "\n",
    "from django.shortcuts import render\n",
    "\n",
    "# Create your views here.\n",
    "from myapp.models import Service\n",
    "\n",
    "def myServView(request):\n",
    "    service_data=Service.objects.all().order_by('-service_title') # descending order\n",
    "    data={'servicedata':service_data}\n",
    "    return render(request, \"myserv.html\", data)"
   ]
  },
  {
   "cell_type": "code",
   "execution_count": null,
   "id": "6fb54258",
   "metadata": {},
   "outputs": [],
   "source": [
    "# myapp/views.py:\n",
    "\n",
    "from django.shortcuts import render\n",
    "\n",
    "# Create your views here.\n",
    "from myapp.models import Service\n",
    "\n",
    "def myServView(request):\n",
    "    service_data=Service.objects.all().order_by('-service_title')[:2] # limiting (but does not support negative indexing)\n",
    "    data={'servicedata':service_data}\n",
    "    return render(request, \"myserv.html\", data)"
   ]
  },
  {
   "cell_type": "markdown",
   "id": "6a27ae88",
   "metadata": {},
   "source": [
    "<pre id='l23'></pre>\n",
    "# Template filters"
   ]
  },
  {
   "cell_type": "markdown",
   "id": "86a0fc7d",
   "metadata": {},
   "source": [
    "Suppose we wrote a description(for `service_desc`) and that description contain some html tags for highlight or bold or italic or any thing, then these tags is displayed as it is like a text i.e. all html tags are treated and rendered as normal text along with description content.\n",
    "\n",
    "If we want that these html tags should be render as tags not as text then we need to use filter.\n",
    "\n",
    "And for that we need to apply filter on that html file which are going to render or display those description. Here in our case we need to apply filter on our `myserv.html`(templates)."
   ]
  },
  {
   "cell_type": "code",
   "execution_count": null,
   "id": "4eff5679",
   "metadata": {},
   "outputs": [],
   "source": [
    "# templates/myserv.html:\n",
    "\n",
    "{% extends \"base.html\" %}\n",
    "\n",
    "{% block content %}\n",
    "    <h1>MY Services</h1>\n",
    "    \n",
    "    <div>\n",
    "        \n",
    "        {% for service in servicedata %}\n",
    "\n",
    "            <div>\n",
    "                <h1>{{service.service_title | safe | upper}}</h1> # applying multiple filters\n",
    "                <h4>{{service.service_icon | lower }}</h4> # single filters\n",
    "                <p>{{service.service_desc | safe }}</p> # safe filter will render tag as tag\n",
    "            </div>\n",
    "            \n",
    "        {% endfor %}\n",
    "            \n",
    "    </div>\n",
    "\n",
    "    <br><br><br><br><br><br>\n",
    "{% endblock  %}\n"
   ]
  },
  {
   "cell_type": "markdown",
   "id": "1f3e9b40",
   "metadata": {},
   "source": [
    "<pre id='l24'></pre>\n",
    "# Model Form"
   ]
  },
  {
   "cell_type": "markdown",
   "id": "3d39ec87",
   "metadata": {},
   "source": [
    "If you want to use model and form together to save entries entered in a form inside a database, then Django provides a very efficient way to do that using ModelForm by providing a means to save received data as a response directly to the database.\n",
    "\n",
    "Let's take an example: Say we want to create a reservation form for the little lemon restaurant. In the example, we first import the model we want to bind with your form. Then you add implementation details for it using a meta class. And finally, you create an instance of that form. \n",
    "\n",
    "Note, that instead of having separate classes for form and model, weu have just one that inherits the `ModelForm` and implements it. \n",
    "\n",
    "Since this is an implementation that involves sending form data back as a response, we also need to add some implementation details about the post method inside the view. Let's now examine how you can implement this. Previously, you learned that you can use the forms API to generate a static form using Django. \n",
    "\n",
    "1. Open `models.py`(myapp) and create model using following lines of code\n",
    "2. Open `admin.py`(myapp) and register the model\n",
    "3. Run command: `python manage.py makemigrations`\n",
    "4. Run command:`python manage.py migrate`\n",
    "5. Open `forms.py`(myapp) and create django form using `ModelForm`\n",
    "6. Open `views.py`(myapp) and create a function using following lines of code\n",
    "7. Open `urls.py`(myapp) and create an url that map to its corresponding view function\n",
    "8. Create a file \"modelform.html\" inside `templates` folder\n",
    "9. Open `modelform.html`(templates) and create html show form fields of django form"
   ]
  },
  {
   "cell_type": "code",
   "execution_count": null,
   "id": "4745738e",
   "metadata": {},
   "outputs": [],
   "source": [
    "# Step1- myapp/models.py:\n",
    "\n",
    "from django.db import models\n",
    "\n",
    "# Create your models here.\n",
    "\n",
    "class Logger(models.Model): # for model form\n",
    "    f_name=models.CharField(max_length=200)\n",
    "    l_name=models.CharField(max_length=200)\n",
    "    time_log=models.TimeField(help_text=\"enter exact time\")"
   ]
  },
  {
   "cell_type": "code",
   "execution_count": null,
   "id": "f7a88993",
   "metadata": {},
   "outputs": [],
   "source": [
    "# Step2- myapp/admin.py:\n",
    "\n",
    "from django.contrib import admin\n",
    "\n",
    "# Register your models here.\n",
    "\n",
    "from .models import Logger\n",
    "\n",
    "admin.site.register(Logger)"
   ]
  },
  {
   "cell_type": "code",
   "execution_count": null,
   "id": "64c881a3",
   "metadata": {},
   "outputs": [],
   "source": [
    "# Step5- myapp/forms.py:\n",
    "\n",
    "from django import forms\n",
    "from .models import Logger\n",
    "\n",
    "class LogForm(forms.ModelForm): # for modal form\n",
    "    class Meta:\n",
    "        model=Logger\n",
    "        fields='__all__' # all fields of model \n",
    "        \n",
    "        #fields=['f_name', 'time_log'] # we need only some fields"
   ]
  },
  {
   "cell_type": "code",
   "execution_count": null,
   "id": "80f61ce2",
   "metadata": {},
   "outputs": [],
   "source": [
    "# Step6- myapp/views.py:\n",
    "\n",
    "from django.shortcuts import render\n",
    "\n",
    "# Create your views here.\n",
    "from myapp.forms import LogForm\n",
    "\n",
    "def modelFormView(request):\n",
    "    form=LogForm()\n",
    "    if request.method=='POST':\n",
    "        form=LogForm(request.POST) # update the form object with the contents of post inside the request object\n",
    "        if form.is_valid():\n",
    "            form.save()\n",
    "    context={'form':form}\n",
    "    return render(request, \"modelform.html\", context)"
   ]
  },
  {
   "cell_type": "code",
   "execution_count": null,
   "id": "62c0cd4e",
   "metadata": {},
   "outputs": [],
   "source": [
    "# Step7- myapp/urls.py:\n",
    "\n",
    "from django.urls import path\n",
    "from . import views\n",
    "\n",
    "urlpatterns = [\n",
    "    path('modelform/', views.modelFormView, name=\"my-modelform\"),\n",
    "]"
   ]
  },
  {
   "cell_type": "code",
   "execution_count": null,
   "id": "0472d12d",
   "metadata": {},
   "outputs": [],
   "source": [
    "# Step9- templates/modelform.html:\n",
    "\n",
    "{% extends \"base.html\" %}\n",
    "\n",
    "{% block content %}\n",
    "    <h1>Model form</h1>\n",
    "    \n",
    "    <form action=\"\" method=\"post\">\n",
    "        {% csrf_token %}\n",
    "\n",
    "        {{ form.as_p }}\n",
    "        <button type=\"submit\">Submit</button>\n",
    "    </form>\n",
    "\n",
    "    <br><br><br><br><br><br>\n",
    "{% endblock  %}\n"
   ]
  },
  {
   "cell_type": "markdown",
   "id": "27dc575f-ae59-4071-86df-1592349b200b",
   "metadata": {},
   "source": [
    "**Let's say we want few fileds from model in our form and also we want some additional fields in our form. Then we can do that in this way:**"
   ]
  },
  {
   "cell_type": "code",
   "execution_count": 1,
   "id": "f889ce02-6a70-4a5e-818d-d635230a5d09",
   "metadata": {},
   "outputs": [],
   "source": [
    "# models.py:\n",
    "\n",
    "from django.db import models\n",
    "\n",
    "class Blog(models.Model):\n",
    "    title = models.CharField(max_length=200)\n",
    "    content = models.TextField()\n",
    "    author = models.CharField(max_length=100)\n",
    "    published_date = models.DateTimeField(auto_now_add=True)\n",
    "    tags = models.CharField(max_length=200, blank=True)\n",
    "\n",
    "    def __str__(self):\n",
    "        return self.title"
   ]
  },
  {
   "cell_type": "code",
   "execution_count": null,
   "id": "6e751d81-13d5-4ac5-8517-24e6e1658569",
   "metadata": {},
   "outputs": [],
   "source": [
    "# forms.py:\n",
    "\n",
    "from django import forms\n",
    "from .models import Blog\n",
    "\n",
    "class BlogForm(forms.ModelForm):\n",
    "    # Adding custom fields\n",
    "    additional_info = forms.CharField(max_length=300, required=False, help_text=\"Add extra information if needed.\")\n",
    "    approval_status = forms.ChoiceField(choices=[('approved', 'Approved'), ('pending', 'Pending')], required=True)\n",
    "\n",
    "    class Meta:\n",
    "        model = Blog\n",
    "        fields = ['title', 'content', 'author']  # Include only these fields from the model"
   ]
  },
  {
   "cell_type": "code",
   "execution_count": null,
   "id": "b67f1b5f-a4de-4e6a-89c9-0eba14b867ec",
   "metadata": {},
   "outputs": [],
   "source": [
    "# views.py:\n",
    "\n",
    "from django.shortcuts import render, redirect\n",
    "from .forms import BlogForm\n",
    "\n",
    "def create_blog_view(request):\n",
    "    if request.method == 'POST':\n",
    "        form = BlogForm(request.POST)\n",
    "\n",
    "# When saving the form, you need to handle the custom fields separately since they are not part of the model.\n",
    "        \n",
    "        if form.is_valid():\n",
    "            # Save the model fields\n",
    "            blog_instance = form.save()\n",
    "\n",
    "            # Access and process the custom fields\n",
    "            additional_info = form.cleaned_data['additional_info']\n",
    "            approval_status = form.cleaned_data['approval_status']\n",
    "\n",
    "            # Do something with the additional data, such as logging or saving it elsewhere\n",
    "            print(f\"Additional Info: {additional_info}\")\n",
    "            print(f\"Approval Status: {approval_status}\")\n",
    "\n",
    "            return redirect('blog-list')\n",
    "    else:\n",
    "        form = BlogForm()\n",
    "\n",
    "    return render(request, 'create_blog.html', {'form': form})\n"
   ]
  },
  {
   "cell_type": "code",
   "execution_count": null,
   "id": "add6acd3-be8f-400a-acfa-a60938a89193",
   "metadata": {},
   "outputs": [],
   "source": [
    "# create_blog.html\n",
    "\n",
    "<!DOCTYPE html>\n",
    "<html>\n",
    "<head>\n",
    "    <title>Create Blog</title>\n",
    "</head>\n",
    "<body>\n",
    "    <h1>Create Blog</h1>\n",
    "    <form method=\"post\">\n",
    "        {% csrf_token %}\n",
    "        {{ form.as_p }}\n",
    "        <button type=\"submit\">Submit</button>\n",
    "    </form>\n",
    "</body>\n",
    "</html>\n"
   ]
  },
  {
   "cell_type": "markdown",
   "id": "06190c4b",
   "metadata": {},
   "source": [
    "<pre id='l25'></pre>\n",
    "# Saving HTML form data to database"
   ]
  },
  {
   "cell_type": "markdown",
   "id": "fa1b8a46",
   "metadata": {},
   "source": [
    "What we want to achieve here is when user click on submit button then all entries are saved in database\n",
    "\n",
    "1. Create a file \"htmlform.html\" inside `templates` folder\n",
    "2. Open `htmlform.html`(templates) and create input field for name, mobile, email, website and message and a submit button\n",
    "3. Open `models.py`(myapp) and create model having fields same as form field\n",
    "4. Open `admin.py`(myapp) and register the model we have just created\n",
    "5. Run command: `python manage.py makemigrations`\n",
    "6. Run command: `python manage.py migrate`\n",
    "7. Open `views.py`(myapp) and create a view function using following lines of code\n",
    "8. Open `urls.py`(myapp) and create an url that map to its corresponding view"
   ]
  },
  {
   "cell_type": "code",
   "execution_count": null,
   "id": "55bdbdc5",
   "metadata": {},
   "outputs": [],
   "source": [
    "# Step2- templates/htmlform.html:\n",
    "\n",
    "{% extends \"base.html\" %}\n",
    "\n",
    "{% block content %}\n",
    "    <h1>HTML form</h1>\n",
    "    \n",
    "    <form action=\"\" method=\"post\">\n",
    "        {% csrf_token %}\n",
    "\n",
    "        <div>\n",
    "            <label for=\"id_name\">Name:</label>\n",
    "            <input id=\"id_name\" maxlength=\"255\" name=\"name\" type=\"text\" />\n",
    "        </div>\n",
    "        <div>\n",
    "            <label for=\"id_email\">Email:</label>\n",
    "            <input id=\"id_email\" maxlength=\"255\" name=\"email\" type=\"text\" />\n",
    "        </div>\n",
    "        <div>\n",
    "            <label for=\"id_mobile\">Mobile</label>\n",
    "            <input id=\"id_mobile\" maxlength=\"255\" name=\"mobile\" type=\"text\" />\n",
    "        </div>\n",
    "        <div>\n",
    "            <label for=\"id_website\">Website:</label>\n",
    "            <input id=\"id_website\" maxlength=\"255\" name=\"website\" type=\"text\" />\n",
    "        </div>\n",
    "        <div>\n",
    "            <label for=\"id_message\">Message:</label>\n",
    "            <textarea cols=\"40\" id=\"id_message\" name=\"message\" rows=\"10\">\n",
    "            </textarea>\n",
    "        </div>\n",
    "\n",
    "        <button type=\"submit\">Submit</button>\n",
    "    </form>\n",
    "\n",
    "    <br><br><br><br><br><br>\n",
    "{% endblock  %}\n"
   ]
  },
  {
   "cell_type": "code",
   "execution_count": null,
   "id": "cf719633",
   "metadata": {},
   "outputs": [],
   "source": [
    "# Step3- myapp/models.py:\n",
    "\n",
    "from django.db import models\n",
    "\n",
    "# Create your models here.\n",
    "\n",
    "class Enquiry(models.Model): # saving from html form\n",
    "    name=models.CharField(max_length=50)\n",
    "    email=models.EmailField(max_length=50)\n",
    "    mobile=models.CharField(max_length=10)\n",
    "    website=models.CharField(max_length=70)\n",
    "    message=models.TextField()"
   ]
  },
  {
   "cell_type": "code",
   "execution_count": null,
   "id": "055f793e",
   "metadata": {},
   "outputs": [],
   "source": [
    "# Step4- myapp/admin.py:\n",
    "\n",
    "from django.contrib import admin\n",
    "\n",
    "# Register your models here.\n",
    "\n",
    "from .models import Enquiry\n",
    "\n",
    "admin.site.register(Enquiry)"
   ]
  },
  {
   "cell_type": "code",
   "execution_count": null,
   "id": "67b70906",
   "metadata": {},
   "outputs": [],
   "source": [
    "# Step7- myapp/views.py:\n",
    "\n",
    "from django.shortcuts import render\n",
    "\n",
    "# Create your views here.\n",
    "from myapp.models import Enquiry\n",
    "\n",
    "def htmlformView(request):\n",
    "    if request.method=='POST':\n",
    "        name=request.POST.get('name')\n",
    "        email=request.POST.get('email')\n",
    "        mobile=request.POST.get('mobile')\n",
    "        website=request.POST.get('website')\n",
    "        message=request.POST.get('message')\n",
    "        enquiry=Enquiry(name=name, email=email, mobile=mobile, website=website, message=message)\n",
    "        enquiry.save()\n",
    "    \n",
    "    return render(request, \"htmlform.html\")"
   ]
  },
  {
   "cell_type": "code",
   "execution_count": null,
   "id": "9db721a8",
   "metadata": {},
   "outputs": [],
   "source": [
    "# Step8- myapp/urls.py:\n",
    "\n",
    "from django.urls import path\n",
    "from . import views\n",
    "\n",
    "urlpatterns = [\n",
    "    path('htmlform/', views.htmlformView, name=\"my-htmlform\"),\n",
    "]"
   ]
  },
  {
   "cell_type": "markdown",
   "id": "aad5eab6",
   "metadata": {},
   "source": [
    "<pre id='l26'></pre>\n",
    "# Fetching all data from database and display it"
   ]
  },
  {
   "cell_type": "markdown",
   "id": "9ffa6059",
   "metadata": {},
   "source": [
    "Above we saved the all all form entries in our database. Now what i want when after submitting the form we will go on an url(using `action` attribute in form) and show all entries of database (In real life we don't such kind of thing i.e. show all data entries of database to user. We only show thier data which we will do in next topic) from same view function i.e. `htmlformView()`(**We can perform this task from new view function as well**). We are only doing to understand how to get all data from database and use it for specific purpose.\n",
    "\n",
    "1. Keep `models.py`(myapp) and `admin.py`(myapp) as it is(as in`Saving HTML form data to database`) without making any changes.\n",
    "2. Open `views.py`(myapp) and update the code of `htmlformView()` using following lines of code\n",
    "3. Open `urls.py`(myapp) and create url that will hit after submit and also make sure to it map to `htmlformView()`because we want to perform this task from same view function.(We can perform this task from new view function as well)\n",
    "4. Open `htmlform.html`(templates) and add `action` attribute by providing url that we have created above\n",
    "5. Create a file \"data.html\" inside `templates` folder\n",
    "6. Open `data.html`(templates) and write following lines of code to display data"
   ]
  },
  {
   "cell_type": "code",
   "execution_count": null,
   "id": "99e2e6c5",
   "metadata": {},
   "outputs": [],
   "source": [
    "# Step2- myapp/views.py:\n",
    "\n",
    "def htmlformView(request):\n",
    "    \n",
    "    if request.method=='POST':\n",
    "        name=request.POST.get('name')\n",
    "        email=request.POST.get('email')\n",
    "        mobile=request.POST.get('mobile')\n",
    "        website=request.POST.get('website')\n",
    "        message=request.POST.get('message')\n",
    "        enquiry=Enquiry(name=name, email=email, mobile=mobile, website=website, message=message)\n",
    "        enquiry.save()\n",
    "        \n",
    "        all_entries=Enquiry.objects.all() # fetch all records from database\n",
    "        return render(request, \"data.html\", {'entries':all_entries}) # rendered after submit\n",
    "    \n",
    "    return render(request, \"htmlform.html\") # it will be render before submit"
   ]
  },
  {
   "cell_type": "code",
   "execution_count": null,
   "id": "a1071f6e",
   "metadata": {},
   "outputs": [],
   "source": [
    "#Step3- myapp/urls.py:\n",
    "\n",
    "from django.urls import path\n",
    "from . import views\n",
    "\n",
    "urlpatterns = [\n",
    "    path('htmlform/', views.htmlformView, name=\"my-htmlform\"),\n",
    "    path('htmlformdata/', views.htmlformView, name=\"my-htmldata\"), \n",
    "    # this url will hit after submit to show data from model from same view function\n",
    "]"
   ]
  },
  {
   "cell_type": "code",
   "execution_count": null,
   "id": "e1750788",
   "metadata": {},
   "outputs": [],
   "source": [
    "# Step4- templates/htmlform.html:\n",
    "\n",
    "{% extends \"base.html\" %}\n",
    "\n",
    "{% block content %}\n",
    "    <h1>HTML form</h1>\n",
    "    \n",
    "    <form action=\"{% url 'my-htmldata' %}\" method=\"post\"> # adding action attribute\n",
    "        {% csrf_token %}\n",
    "\n",
    "        <div>\n",
    "            <label for=\"id_name\">Name:</label>\n",
    "            <input id=\"id_name\" maxlength=\"255\" name=\"name\" type=\"text\" />\n",
    "        </div>\n",
    "        <div>\n",
    "            <label for=\"id_email\">Email:</label>\n",
    "            <input id=\"id_email\" maxlength=\"255\" name=\"email\" type=\"text\" />\n",
    "        </div>\n",
    "        <div>\n",
    "            <label for=\"id_mobile\">Mobile</label>\n",
    "            <input id=\"id_mobile\" maxlength=\"255\" name=\"mobile\" type=\"text\" />\n",
    "        </div>\n",
    "        <div>\n",
    "            <label for=\"id_website\">Website:</label>\n",
    "            <input id=\"id_website\" maxlength=\"255\" name=\"website\" type=\"text\" />\n",
    "        </div>\n",
    "        <div>\n",
    "            <label for=\"id_message\">Message:</label>\n",
    "            <textarea cols=\"40\" id=\"id_message\" name=\"message\" rows=\"10\">\n",
    "            </textarea>\n",
    "        </div>\n",
    "\n",
    "        <button type=\"submit\">Submit</button>\n",
    "    </form>\n",
    "\n",
    "    <br><br><br><br><br><br>\n",
    "{% endblock  %}\n"
   ]
  },
  {
   "cell_type": "code",
   "execution_count": null,
   "id": "4930f510",
   "metadata": {},
   "outputs": [],
   "source": [
    "# Step6- templates/data.html:\n",
    "\n",
    "{% extends \"base.html\" %}\n",
    "\n",
    "{% block content %}\n",
    "    <h1>Your data is submitted successfully</h1>\n",
    "    \n",
    "    {% if entries %}\n",
    "        <ul>\n",
    "            {% for entry in entries %}\n",
    "                <li>Name: {{ entry.name }}, Email: {{ entry.email }}, Mobile: {{ entry.mobile }}, Website: {{ entry.website }}, Message: {{ entry.message }}</li>\n",
    "            {% endfor %}\n",
    "        </ul>\n",
    "    {% else %}\n",
    "        <p>No entries yet.</p>\n",
    "    {% endif %}\n",
    "\n",
    "    <br><br><br><br><br><br>\n",
    "{% endblock  %}\n"
   ]
  },
  {
   "cell_type": "markdown",
   "id": "b9a322f8",
   "metadata": {},
   "source": [
    "<pre id='l27'></pre>\n",
    "# Displaying form data entries after user submit HTML form"
   ]
  },
  {
   "cell_type": "markdown",
   "id": "2683252b",
   "metadata": {},
   "source": [
    "What i want to achieve here is when user submit the form then we want to display the data that user have just entered in form.\n",
    "\n",
    "1. Keep `models.py`(myapp), `admin.py`(myapp), `urls.py`(myapp), and `htmlform.html`(templates) as it is(as in`Fetching all data from database and display it`) without making any changes.\n",
    "2. Open `views.py`(myapp) and update the code of `htmlformView()` using following lines of code\n",
    "3. Open `data.html`(myapp) and update code as per our requirement using following lines of code"
   ]
  },
  {
   "cell_type": "code",
   "execution_count": null,
   "id": "f0d81fc8",
   "metadata": {},
   "outputs": [],
   "source": [
    "# Step2- myapp/views.py:\n",
    "\n",
    "from django.shortcuts import render\n",
    "\n",
    "# Create your views here.\n",
    "from myapp.models import Enquiry\n",
    "\n",
    "def htmlformView(request):\n",
    "    \n",
    "    if request.method=='POST':\n",
    "        name=request.POST.get('name')\n",
    "        email=request.POST.get('email')\n",
    "        mobile=request.POST.get('mobile')\n",
    "        website=request.POST.get('website')\n",
    "        message=request.POST.get('message')\n",
    "        enquiry=Enquiry(name=name, email=email, mobile=mobile, website=website, message=message)\n",
    "        enquiry.save()\n",
    "        \n",
    "        # Fetch the recently added entry\n",
    "        recent_entry = Enquiry.objects.latest('id')\n",
    "        return render(request, \"data.html\", {'recent_entry': recent_entry}) # rendered after submit\n",
    "    \n",
    "    return render(request, \"htmlform.html\") # it will be render before submit"
   ]
  },
  {
   "cell_type": "code",
   "execution_count": null,
   "id": "8fdc0625",
   "metadata": {},
   "outputs": [],
   "source": [
    "# Step3- templates/data.html\n",
    "\n",
    "{% extends \"base.html\" %}\n",
    "\n",
    "{% block content %}\n",
    "    <h1>Your data is submitted successfully</h1>\n",
    "    \n",
    "    {% if recent_entry %}\n",
    "        <p>Name: {{ recent_entry.name }}</p>\n",
    "        <p>Email: {{ recent_entry.email }}</p>\n",
    "        <p>Mobile: {{ recent_entry.mobile }}</p>\n",
    "        <p>Website: {{ recent_entry.website }}</p>\n",
    "        <p>Message: {{ recent_entry.message }}</p>\n",
    "    {% else %}\n",
    "        <p>No recent entries.</p>\n",
    "    {% endif %}\n",
    "\n",
    "    <br><br><br><br><br><br>\n",
    "{% endblock  %}\n"
   ]
  },
  {
   "cell_type": "markdown",
   "id": "d7291908",
   "metadata": {},
   "source": [
    "<pre id='l28'></pre>\n",
    "# Django Admin "
   ]
  },
  {
   "attachments": {
    "image.png": {
     "image/png": "[encoded data removed]"
    }
   },
   "cell_type": "markdown",
   "id": "b9477799",
   "metadata": {},
   "source": [
    "- When we develop a web application, much of the content is stored somewhere like in a database. As a result, a common task is to provide an administration or admin site as part of the application. \n",
    "\n",
    "- The purpose of this admin side is to allow certain users to administer and manage the data of the application. \n",
    "\n",
    "- Suppose the owners of Little Lemon have asked to store all of the website content in a database so it can be updated by the restaurant staff. For example, managers can use the admin site to add or edit content. That content is displayed on the public site. \n",
    "\n",
    "- Django solves the problem by automatically creating a unified admin interface for site administrators to add, edit and delete content, such as users, permissions and database entries. \n",
    "\n",
    "- This process is automated as the admin interface directly links to the models in the project once registered. The admin interface is usually a part of a large web application to help the administrator perform certain administrative tasks. The tasks such as creating and managing users, controlling access permission, and forming user groups. \n",
    "\n",
    "- Django reads the models declared in the project and from the metadata of models declared in a project, it quickly builds an easy-to-use interface. \n",
    "\n",
    "- It's important to remember that the admin site isn't intended to be used by site visitors. It's for site managers. \n",
    "\n",
    "- The Django admin utility is executed from inside the terminal. It is enabled and assigned to a project by default when you run a command such as start project inside Django. \n",
    "\n",
    "- As the admin interface depends on django.com.admin app, we'll find it in the installed app section of the `settings.py` file, along with certain other apps. \n",
    "\n",
    "- Using Django and Django admin provides a convenient means of accessing and modifying these databases from a friendly user interface. \n",
    "\n",
    "- Before we access this interface, we first need to create an admin user that provides us with the necessary credentials. \n",
    "\n",
    "Let's explore how to do that: \n",
    "\n",
    "1. Create user using command: `python manage.py createsuperuser` and enter the details: `username`, `email` and `password`.\n",
    "2. Run the server and add suffix `/admin/` in url i.e. `http://127.0.0.1:8000/admin/`\n",
    "3. Enter the login credentials that we have used during creating superuser\n",
    "\n",
    "After login we will be able to see `Groups`, `users`, and `myapp`(installed app) and its models. We can see enteries of model. We can also add, modify and delete entries of model from here as well.\n",
    "\n",
    "![image.png](attachment:image.png)\n",
    "\n",
    "Let's open `Enquiry` then we will find that its data displayed is not meaningful to us. But we can make it display as per our requirement. We can do this in many different ways:\n",
    "\n",
    "**First method:**(we are performing here for `Enquiry` but same can be used for others as well)\n",
    "1. Open `models.py`(myapp) and go to `Enquiry` model class and override the dunder method `__str__()` using following lines of code."
   ]
  },
  {
   "cell_type": "code",
   "execution_count": null,
   "id": "9863fbab",
   "metadata": {},
   "outputs": [],
   "source": [
    "# Step1- myapp/models.py:\n",
    "\n",
    "from django.db import models\n",
    "\n",
    "# Create your models here.\n",
    "    \n",
    "class Enquiry(models.Model): # saving from html form\n",
    "    name=models.CharField(max_length=50)\n",
    "    email=models.EmailField(max_length=50)\n",
    "    mobile=models.CharField(max_length=10)\n",
    "    website=models.CharField(max_length=70)\n",
    "    message=models.TextField()\n",
    "    \n",
    "    def __str__(self):\n",
    "        return self.name # we want to see records in admin by name\n",
    "        # we can include other more fields also but it should return string"
   ]
  },
  {
   "cell_type": "markdown",
   "id": "f3fd2cad",
   "metadata": {},
   "source": [
    "**Second method:**(we are performing here for `Menu` but same can be used for others as well)\n",
    "1. Open `admin.py`(myapp) and add the following lines of code to display data in specific and meaningful way and also update the `register` function parameters"
   ]
  },
  {
   "cell_type": "code",
   "execution_count": null,
   "id": "4e2ef2c9",
   "metadata": {},
   "outputs": [],
   "source": [
    "# Step1- myapp/admin.py:\n",
    "\n",
    "from django.contrib import admin\n",
    "\n",
    "# Register your models here. \n",
    "\n",
    "from .models import Menu\n",
    "    \n",
    "class MenuAdmin(admin.ModelAdmin):\n",
    "    list_display=('menu_item',) # we can add multiple fileds (for single filed add comma at end)\n",
    "    # this should be only 'list_display', no other name\n",
    "    \n",
    "    # other examples:\n",
    "#     search_fields=['name', 'location', 'type']\n",
    "#     list_filter=['type', 'added_date', 'active']\n",
    "#     list_editable=['name', 'location', 'type', 'active']\n",
    "#     list_per_page=10\n",
    "\n",
    "admin.site.register(Menu, MenuAdmin) # update parameters"
   ]
  },
  {
   "cell_type": "markdown",
   "id": "f115bc39",
   "metadata": {},
   "source": [
    "**NOTE:** variable name should be strictly same as above as these variables as defined inside `admin.ModelAdmin`"
   ]
  },
  {
   "cell_type": "markdown",
   "id": "ada8315f",
   "metadata": {},
   "source": [
    "**Third method:**(we are performing here for `Menu` but same can be used for others as well)\n",
    "1. Open `admin.py`(myapp) and add decorator `@admin.register` to register the model so that we don't have write extra line of code to register the model in admin panel."
   ]
  },
  {
   "cell_type": "code",
   "execution_count": null,
   "id": "af8e71f0",
   "metadata": {},
   "outputs": [],
   "source": [
    "# Step1- myapp/admin.py:\n",
    "\n",
    "from django.contrib import admin\n",
    "\n",
    "# Register your models here. \n",
    "\n",
    "from .models import Menu\n",
    "    \n",
    "@admin.register(Menu)\n",
    "class MenuAdmin(admin.ModelAdmin):\n",
    "    list_display=('menu_item',) # we can add multiple fileds (for single filed add comma at end)"
   ]
  },
  {
   "cell_type": "markdown",
   "id": "f0a22e46-f196-48c0-9ee0-9c7746062a24",
   "metadata": {},
   "source": [
    "There are four types of values that can be used in `list_display`:\n",
    "\n",
    "1. The name of a model field.\n",
    "2. A callable that accepts one argument, the model instance.\n",
    "3. A string representing a `ModelAdmin` method that accepts one argument, the model instance.\n",
    "4. A string representing a model attribute or method(without any required arguments)."
   ]
  },
  {
   "cell_type": "markdown",
   "id": "6b3d9e41",
   "metadata": {},
   "source": [
    "<pre id='l29'></pre>\n",
    "# TinyMCE editor in Django admin"
   ]
  },
  {
   "cell_type": "markdown",
   "id": "0eef2225",
   "metadata": {},
   "source": [
    "Let's apply this on `Service` model where we have field called `service_desc` which store some texts or paragraphs where we may need editor for formatting text like `bold`, `italic`, `underline` and so on. We will able to apply all these formatting on text from Django admin panel. \n",
    "\n",
    "1. First install package using command: `pip install django-tinymce`\n",
    "2. Open `settings.py`(myproject) and update the `INSTALLED_APPS` by adding text `tinymce` inside it.\n",
    "3. Open `models.py`(myapp) and update `Service` model by adding following lines of code"
   ]
  },
  {
   "cell_type": "code",
   "execution_count": null,
   "id": "ea7da7a8",
   "metadata": {},
   "outputs": [],
   "source": [
    "# Step3- myproject/settings.py:\n",
    "\n",
    "INSTALLED_APPS = [\n",
    "    'django.contrib.admin',\n",
    "    'django.contrib.auth',\n",
    "    'django.contrib.contenttypes',\n",
    "    'django.contrib.sessions',\n",
    "    'django.contrib.messages',\n",
    "    'django.contrib.staticfiles',\n",
    "    'myapp', # OR 'myapp.apps.MyappConfig'\n",
    "    'tinymce',\n",
    "]"
   ]
  },
  {
   "cell_type": "code",
   "execution_count": null,
   "id": "33355a47",
   "metadata": {},
   "outputs": [],
   "source": [
    "# Step3- myapp/models.py:\n",
    "\n",
    "from django.db import models\n",
    "\n",
    "# Create your models here.\n",
    "from tinymce.models import HTMLField\n",
    "\n",
    "\n",
    "class Service(models.Model):\n",
    "    service_icon=models.CharField(max_length=50)\n",
    "    service_title=models.CharField(max_length=50)\n",
    "    service_desc=HTMLField() # tinymce editor for this fied\n",
    "    \n",
    "    def __str__(self):\n",
    "        return self.service_title"
   ]
  },
  {
   "cell_type": "markdown",
   "id": "f1c724de",
   "metadata": {},
   "source": [
    "<pre id='l30'></pre>\n",
    "# How to reset Django admin password"
   ]
  },
  {
   "cell_type": "markdown",
   "id": "bcc18c92",
   "metadata": {},
   "source": [
    "- To change the password of Djnago admin user run command: `python manage.py chnagepassword demouser` (here demouser is username).\n",
    "- If we forget our username then open `db.sqlite3`(myproject) and inside `auth_user` table we can find username. "
   ]
  },
  {
   "cell_type": "markdown",
   "id": "bd0b75bc",
   "metadata": {},
   "source": [
    "<pre id='l31'></pre>\n",
    "# User and Permission"
   ]
  },
  {
   "cell_type": "markdown",
   "id": "c433e131",
   "metadata": {},
   "source": [
    "- In most apps, users are allocated different roles that allow them to perform certain actions. To enable these actions, they need to have the relevant permission granted to them. \n",
    "\n",
    "- Think about the following scenario: When we visit a restaurant, we're not allowed to go into the kitchen. However, if we are a member of staff, we are allowed to go into the kitchen. Web applications have a similar concept for controlling which users are allowed to do which action. This is called permissions.\n",
    "\n",
    "- The Django framework has an in-built system for handling permissions. This authentication system has features for both authentication and authorization, coupled for ease of use. For a user to perform a certain action, they need to have the relevant permission granted to them. \n",
    "\n",
    "- It is important to note that a user in Django can be one of three classifications namely: a `superuser`, a `staff user`, or a `user`. \n",
    "\n",
    "Much like other components of Django, users in Django are Python objects. The specific type of user is characterized by special attributes that are set inside the user object. \n",
    "\n",
    "1. `Super user`: A super user is a top level user or administrator of the system. This type of user possesses permission to add, change, or delete other users, as well as perform operations on all the data in the project. \n",
    "\n",
    "2. `Staff user`: A staff type user is allowed to access Django admin interface. However, a staff user doesn't automatically get the permission to `create`, `read`, `update`, and `delete` data in the Django admin, it must be given explicitly.\n",
    "\n",
    "**Note:** A super user is a staff user by default. Everyone else is irregular user by default.\n",
    "\n",
    "3. `User`: A user is not authorized to use the admin site. Users are marked as active by default. A user may be marked as inactive if it's authentication fails or has been banned for some reason. \n",
    "\n",
    "While we can create the user through the admin interface, it can also be done through the Django shell:\n",
    "<code>\n",
    "    >>> from django.contrib.auth.models import User\n",
    "    >>> usr=User.objects.create_user('testuser', 'abc@xyz.com', 'pass123') \n",
    "</code>\n",
    "\n",
    "Once the user is created, we can grant a certain status to a user to become a staff member:\n",
    "<code>\n",
    "    >>> usr.is_staff=True\n",
    "    >>> usr.save()\n",
    "</code>\n",
    "\n",
    "**How do you create a superuser?** Use a command `python manage.py createsuperuser --username=john --email=john@meta.com`.\n",
    "\n",
    "- Remember that the superuser has every permission in the system, whether it is custom permissions or Django created permissions. \n",
    "\n",
    "- There are several places where specific permission settings can be enabled, for example, to a specific model or object. How do you set permissions in a model? \n",
    "\n",
    "As we create models in our Django application, Django automatically creates `add`, `change`, and `delete` and `view` permissions. \n",
    "\n",
    "Permissions are named using the app action model pattern: `<app>.<action_model>`; app is the name of the Django app, action is `add`, `change`, `delete` or `view` and model is the name of the model in lowercase. \n",
    "\n",
    "Assume that a Django app called `myapp` is created in the current project, and it has a model with the name `mymodel` declared in it. The permissions on this model will be as follows: `myapp.add_mymodel`, `myapp.change_mymodel`, `myapp.delete_mymodel` and `myapp.view_ mymodel`.\n",
    "\n",
    "In Python code, it is possible to check if a user has a certain type or permission enabled on it. To do this, we can use the `has_perm()` function, which returns true or false. \n",
    "\n",
    "For example, if the requesting user doesn't have the appropriate permissions, you can raise a permission denied error instead of returning the normal HTTP response:\n",
    "<code>\n",
    "    def myview(request):\n",
    "        if not request.user.has_perm('myapp.view_mymode'):\n",
    "            raise PermissionDenied()\n",
    "        return HttpResponse()\n",
    "</code>\n",
    "\n",
    "\n",
    "Assigning permissions to each user individually is a tedious task, especially if we have large numbers of users. Fortunately, Django has a solution. We can manage permissions to sets of users in Django `groups`. \n",
    "\n",
    "**What is a `group`?** In Django, a `group` is a list of permissions that can be assigned to one or more users. A user can belong to any number of groups. \n",
    "\n",
    "To go back to the restaurant example, we might have a group for kitchen staff and another group for waiters. When we create or modify a user, simply choose the desired group. All the permissions listed in the group will be automatically assigned to the user. \n",
    "\n",
    "- It is important to note that we can still manually add permissions to users, even if they belong to a group.\n",
    "\n",
    "- We can give permissions to a user while creating it in the admin panel or from the shell interface. Using groups is a convenient way of enabling similar sets of permissions to multiple users. \n",
    "\n",
    "- To enforce a permission while executing a view function, we can use the app `@permission_required` decorator.\n"
   ]
  },
  {
   "cell_type": "markdown",
   "id": "a0304480",
   "metadata": {},
   "source": [
    "<pre id='l32'></pre>\n",
    "# How to add and remove permissions from users\n",
    "\n",
    "- The Django framework has a built in mechanism that manages permissions quite efficiently. \n",
    "- The Django admin web interface makes it easier for us to create and modify users or user groups.\n",
    "\n",
    "- While Django admin has a user friendly interface which makes handling permissions quite easy. It is also possible to handle permissions through the Django shell. \n",
    "\n",
    "To demonstrate this,  first open the interactive Django shell:\n",
    "<code>\n",
    "    >>> from django.contrib.auth.models import User\n",
    "    >>> user=User.objects.create_user('mario', 'mario@littlelemon.com', 'pass123') \n",
    "    >>> user_name=User.objects.get(username=\"mario\")\n",
    "</code>\n",
    "\n",
    "- Django comes with a built-in permission system. It provides a way to assign permissions to specific users and groups of users. \n",
    "\n",
    "When `django.contrib.auth` is listed in our `INSTALLED_APPS`(settings.py), it will ensure that four default permissions are available. This functionality allows you to `add`, `change`, `delete`, and `view` permissions and are created for each Django model defined in one of your installed applications. \n",
    "\n",
    "- Permissions can be set not only per type of object, but also per specific object instance. \n",
    "\n",
    "- By using the methods provided by the `ModelAdmin` class, it is possible to customize permissions for different object instances of the same type. \n",
    "\n",
    "- Similar to the admin permissions, permission specific to models can also be managed using the `ModelAdmin` class. \n",
    "\n",
    "- The `ModelAdmin` class methods include `view()`, `add()`, `change()`, and `delete()` and are used to customize the permissions.\n",
    "\n",
    "Let's explore user objects. User objects have two main fields known as `groups` and `user permissions`. \n",
    "\n",
    "- User permissions store and reference a single or multiple permission objects. Permissions can be granted or removed by calling the methods `set()`, `add()`, `remove()`, and `clear()` on the user object. \n",
    "\n",
    "Let's explore an example using the `add()` method to grant permissions to the user `Mario`. In this scenario, let's provide one or more permission objects. We use the `add()` method to add a permission to change the `Menu` model inside the app `myapp`: `user_name.user_permissions.add('myapp.change_menu')`\n",
    "\n",
    "It's important to know that once you add `django.contrib.auth` to the `INSTALLED_APPS`(settings.py) list, we must run the migrate command to implement the change. Note that when you run `python manage.py migrate` each Django model is assigned the default permissions. \n",
    "\n",
    "For example, suppose you have a Django app called `myapp` in which there is a model named `mymodel`. If you run boolean expression to verify the permissions to `add`, `change`, `delete`, and `view`, they will return true:\n",
    "<code>\n",
    "    user_name.has_perm('myapp.add_mymodel')\n",
    "    user_name.has_perm('myapp.change_mymodel')\n",
    "    user_name.has_perm('myapp.delete_mymodel')\n",
    "    user_name.has_perm('myapp.view_mymodel')\n",
    "</code>\n",
    "\n",
    "- In addition to the default permissions, custom permissions can be declared in the models Meta class, which can be declared inside the model. \n",
    "\n",
    "- In practice it is much easier to deal with them(modifying permissions) using the Django admin interface in the browser.\n"
   ]
  },
  {
   "cell_type": "markdown",
   "id": "e3c83181",
   "metadata": {},
   "source": [
    "<pre id='l33a'></pre>\n",
    "# Display news headlines in marquee HTML tag"
   ]
  },
  {
   "cell_type": "markdown",
   "id": "8a913468",
   "metadata": {},
   "source": [
    "1. Open `models.py`(myapp) and create model that have filed like `headline` and `details` using following lines\n",
    "2. Open `admin.py`(myapp0 and register model using following lines of code\n",
    "3. Run command: `python manage.py makemigrations`\n",
    "4. Run command: `python manage.py migrate`\n",
    "5. Create a file \"marquee.html\" inside `templates` folder\n",
    "6. Open `views.py`(myapp) and create fiew to render `marquee.html`(templates) to show news headlines\n",
    "7. Open `urls.py`(myapp) and create url that map its corresponding views\n",
    "8. Open `marquee.html`(templates) and html to display headlines as link\n",
    "9. Open `styles.css`(static/CSS) and css to style the headline"
   ]
  },
  {
   "cell_type": "code",
   "execution_count": null,
   "id": "07b8cc50",
   "metadata": {},
   "outputs": [],
   "source": [
    "# Step1- myapp.models.py:\n",
    "\n",
    "from django.db import models\n",
    "\n",
    "# Create your models here.\n",
    "from tinymce.models import HTMLField\n",
    "    \n",
    "class News(models.Model):\n",
    "    headline=models.CharField(max_length=200)\n",
    "    details=HTMLField()\n",
    "    \n",
    "    def __str__(self):\n",
    "        return self.headline"
   ]
  },
  {
   "cell_type": "code",
   "execution_count": null,
   "id": "ad1519b3",
   "metadata": {},
   "outputs": [],
   "source": [
    "# Step2- myapp/admin.py:\n",
    "\n",
    "from django.contrib import admin\n",
    "\n",
    "# Register your models here.\n",
    "from.models import News\n",
    "\n",
    "admin.site.register(News)"
   ]
  },
  {
   "cell_type": "code",
   "execution_count": null,
   "id": "ad6aafd6",
   "metadata": {},
   "outputs": [],
   "source": [
    "# Step6- myapp/views.py:\n",
    "\n",
    "from django.shortcuts import render\n",
    "\n",
    "# Create your views here.\n",
    "from myapp.models import News\n",
    "\n",
    "def marqueeView(request):\n",
    "    data=News.objects.all()\n",
    "    return render(request, \"marquee.html\", {'data':data})"
   ]
  },
  {
   "cell_type": "code",
   "execution_count": null,
   "id": "66526514",
   "metadata": {},
   "outputs": [],
   "source": [
    "# Step7- myapp/urls.py:\n",
    "\n",
    "from django.urls import path\n",
    "from . import views\n",
    "\n",
    "urlpatterns = [\n",
    "    path('marquee/', views.marqueeView, name=\"my-marquee\"),\n",
    "]"
   ]
  },
  {
   "cell_type": "code",
   "execution_count": null,
   "id": "929d20b1",
   "metadata": {},
   "outputs": [],
   "source": [
    "# Step8- templates/marquee.html:\n",
    "\n",
    "{% extends \"base.html\" %}\n",
    "\n",
    "{% block content %}\n",
    "    <h1>Marquee </h1>\n",
    "\n",
    "    <div class=\"marquee-container\">\n",
    "        <marquee class=\"marquee-content\" behavior=\"scroll\" direction=\"left\" onmouseover=\"this.stop();\" onmouseout=\"this.start();\">\n",
    "            \n",
    "            {% for news in data %}\n",
    "\n",
    "                <a href=\"\">{{news.headline}}</a> # href means on which url you want to go\n",
    "                &nbsp;&nbsp;&nbsp;\n",
    "        \n",
    "            {% endfor %}\n",
    "            \n",
    "        </marquee>\n",
    "    </div>\n",
    "    \n",
    "    <br><br><br><br><br><br>\n",
    "{% endblock  %}\n"
   ]
  },
  {
   "cell_type": "code",
   "execution_count": null,
   "id": "518da849",
   "metadata": {},
   "outputs": [],
   "source": [
    "# Step9- static/CSS/styles.css:\n",
    "\n",
    "/* CSS for marquee: */\n",
    "\n",
    ".marquee-container {\n",
    "    overflow: hidden;\n",
    "    white-space: nowrap;\n",
    "    margin: 0 auto;\n",
    "}\n",
    "\n",
    ".marquee-content {\n",
    "    display: inline-block;\n",
    "}"
   ]
  },
  {
   "cell_type": "markdown",
   "id": "611e4cb4",
   "metadata": {},
   "source": [
    "<pre id='l33b'></pre>\n",
    "# Displaying news details on another page"
   ]
  },
  {
   "cell_type": "markdown",
   "id": "d12de3a7",
   "metadata": {},
   "source": [
    "In `Display news headlines in marquee HTML tag` we added news headline on webpage that keep moving on page from left to right. Now what I want is when user click on news headline then a new page open showing details of news along with its headline.\n",
    "\n",
    "1. Open `views.py`(myapp) and create function that fetch specific news detilas from database using following lines of code\n",
    "2. Open `urls.py`(myapp) and create a dynamic url that display news details as per request\n",
    "3. Open `marquee.html`(templates) and update `href` atrribute of `<a>` tag\n",
    "4. Create a file \"newsdetails.html\" inside `templates` folder\n",
    "5. Open `newsdetails.html`(templates) and add following lines of code to show details"
   ]
  },
  {
   "cell_type": "code",
   "execution_count": null,
   "id": "c0220e46",
   "metadata": {},
   "outputs": [],
   "source": [
    "# Step1- myapp/views.py:\n",
    "\n",
    "from django.shortcuts import render\n",
    "\n",
    "# Create your views here.\n",
    "from myapp.models import News\n",
    "\n",
    "def marqueeView(request): # fetch all records from database\n",
    "    data=News.objects.all()\n",
    "    return render(request, \"marquee.html\", {'data':data})\n",
    "\n",
    "def newsdetailsView(request, newsid): # fetch only specific record from database\n",
    "    news_data=News.objects.get(id=newsid)\n",
    "    return render(request, \"newsdetails.html\", {'news_data':news_data})"
   ]
  },
  {
   "cell_type": "code",
   "execution_count": null,
   "id": "457f179b",
   "metadata": {},
   "outputs": [],
   "source": [
    "# Step2- myapp/urls.py:\n",
    "\n",
    "from django.urls import path\n",
    "from . import views\n",
    "\n",
    "urlpatterns = [\n",
    "    path('marquee/', views.marqueeView, name=\"my-marquee\"), # for headline\n",
    "    path('newsdetails/<newsid>', views.newsdetailsView, name=\"my-newsdetails\"), # for headline details\n",
    "]\n"
   ]
  },
  {
   "cell_type": "code",
   "execution_count": null,
   "id": "dce7eba9",
   "metadata": {},
   "outputs": [],
   "source": [
    "# Step3- templates/marquee.html:\n",
    "\n",
    "{% extends \"base.html\" %}\n",
    "\n",
    "{% block content %}\n",
    "    <h1>Marquee </h1>\n",
    "\n",
    "    <div class=\"marquee-container\">\n",
    "        <marquee class=\"marquee-content\" behavior=\"scroll\" direction=\"left\" onmouseover=\"this.stop();\" onmouseout=\"this.start();\">\n",
    "            \n",
    "            {% for news in data %}\n",
    "\n",
    "                <a href=\"/myapp/newsdetails/{{news.id}}\">{{news.id}}. {{news.headline}}</a>     \n",
    "                &nbsp;&nbsp;&nbsp;\n",
    "                \n",
    "                <a href=\"{% url 'my-newsdetails' news.id %}\">{{news.id}}. {{news.headline}}</a> # using url tag\n",
    "                &nbsp;&nbsp;&nbsp;\n",
    "        \n",
    "            {% endfor %}\n",
    "            \n",
    "        </marquee>\n",
    "    </div>\n",
    "    \n",
    "    <br><br><br><br><br><br>\n",
    "{% endblock  %}\n"
   ]
  },
  {
   "cell_type": "code",
   "execution_count": null,
   "id": "0a0e4f63",
   "metadata": {},
   "outputs": [],
   "source": [
    "# Step5- templates/newsdetails.html:\n",
    "\n",
    "{% extends \"base.html\" %}\n",
    "\n",
    "{% block content %}\n",
    "    <h1>News Description</h1>\n",
    "\n",
    "    <div>\n",
    "        <h3>{{ news_data.headline }}</h3> # headline\n",
    "    </div>\n",
    "    <div>\n",
    "        <p>{{ news_data.details | safe }}</p> # details\n",
    "    </div>\n",
    "    \n",
    "    <br><br><br><br><br><br>\n",
    "{% endblock  %}\n"
   ]
  },
  {
   "cell_type": "markdown",
   "id": "188821a7",
   "metadata": {},
   "source": [
    "<pre id='l34'></pre>\n",
    "# Displaying news details on same page"
   ]
  },
  {
   "cell_type": "markdown",
   "id": "a4ca2215",
   "metadata": {},
   "source": [
    "In `Displaying news details on another page` we were displaying news details on another page. Now what I want is we want to display image on same page such that news headline keep moving page and when user click on a particular headline then that headlines details are displayed below along headline. In short what i want is page should have headlines moving above and news detials are shown below whenever user click on headline.\n",
    "\n",
    "1. Keep `urls.py`(myapp) as it is\n",
    "2. Open `views.py`(myapp) and write the following code to display headline and details\n",
    "3. Create a file \"marqueenewsdetails.html\" inside `templates` folder\n",
    "4. Open `marqueenewsdetails.html`(templates) and code to display headline in `<marquee>` and also display the headline details in same page."
   ]
  },
  {
   "cell_type": "code",
   "execution_count": null,
   "id": "0784b04d",
   "metadata": {},
   "outputs": [],
   "source": [
    "# Step1- myapp/urls.py:\n",
    "\n",
    "from django.urls import path\n",
    "from . import views\n",
    "\n",
    "urlpatterns = [\n",
    "    path('marqueenewsdetails/', views.marqueenewsdetailsView, name=\"my-marqueenewsdetails\"), \n",
    "    # headline and details on same page\n",
    "]"
   ]
  },
  {
   "cell_type": "code",
   "execution_count": null,
   "id": "7a743351",
   "metadata": {},
   "outputs": [],
   "source": [
    "# Step2- myapp/views.py:\n",
    "\n",
    "from django.shortcuts import render, get_object_or_404\n",
    "\n",
    "# Create your views here.\n",
    "from myapp.models import News\n",
    "\n",
    "def marqueenewsdetailsView(request): # headline and details on same page\n",
    "    data = News.objects.all()\n",
    "    selected_news = None\n",
    "    if 'news_id' in request.GET:\n",
    "        newsid = request.GET['news_id']\n",
    "        selected_news = get_object_or_404(News, id=newsid)\n",
    "        # get_object_or_404() is a shortcut function to get an object from the database or \n",
    "        # raise a 404 error if it doesn't exist.\n",
    "\n",
    "    return render(request, \"marqueenewsdetails.html\", {'data': data, 'selected_news': selected_news})"
   ]
  },
  {
   "cell_type": "code",
   "execution_count": null,
   "id": "8736eb69",
   "metadata": {},
   "outputs": [],
   "source": [
    "# Step4- templates/marqueenewsdetails.html:\n",
    "\n",
    "{% extends \"base.html\" %}\n",
    "\n",
    "{% block content %}\n",
    "    <h1>Marquee </h1>\n",
    "\n",
    "    <div class=\"marquee-container\">\n",
    "        <marquee class=\"marquee-content\" behavior=\"scroll\" direction=\"left\" onmouseover=\"this.stop();\" onmouseout=\"this.start();\">\n",
    "            {% for news in data %}\n",
    "                <a href=\"?news_id={{ news.id }}\">{{news.id}}. {{news.headline}}</a>\n",
    "                &nbsp;&nbsp;&nbsp;\n",
    "            {% endfor %}\n",
    "        </marquee>\n",
    "    </div>\n",
    "\n",
    "    <div class=\"news-details-container\">\n",
    "        {% if selected_news %}\n",
    "            <h2>{{ selected_news.headline }}</h2>\n",
    "            <p>{{ selected_news.details | safe }}</p>\n",
    "        {% endif %}\n",
    "    </div>\n",
    "\n",
    "    \n",
    "    <br><br><br><br><br><br>\n",
    "{% endblock  %}"
   ]
  },
  {
   "cell_type": "markdown",
   "id": "e41ed6e2",
   "metadata": {},
   "source": [
    "<pre id='l35'></pre>\n",
    "# Django autoslug"
   ]
  },
  {
   "cell_type": "markdown",
   "id": "aee11aa7",
   "metadata": {},
   "source": [
    "What we were doing above is when we have display a headline line details then we pass news id to url to get that details of headline. Passing news is to urls is not good practice. \n",
    "\n",
    "So, what autoslug does is it basically pass slug of headline to url and these slug is generated automatically, we don't write slug manually.\n"
   ]
  },
  {
   "cell_type": "markdown",
   "id": "be4b85cf",
   "metadata": {},
   "source": [
    "### Applying it on `Displaying news details on another page`\n",
    "\n",
    "1. Open `models.py`(myapp) and update the code using following lines of code\n",
    "2. Run command: `python manage.py makemigrations`\n",
    "3. Run command: `python manage.py migrate`\n",
    "4. Open `views.py`(myapp) and update the code\n",
    "5. open `urls.py`(myapp) and update the code\n",
    "6. Open `marquee.html`(templates) and update the code\n",
    "7. Keep `newdetails.html`(templates) as it is, no changes required here"
   ]
  },
  {
   "cell_type": "code",
   "execution_count": null,
   "id": "f6c59f17",
   "metadata": {},
   "outputs": [],
   "source": [
    "# Step1- myapp/models:\n",
    "\n",
    "from django.db import models\n",
    "\n",
    "# Create your models here.\n",
    "from tinymce.models import HTMLField\n",
    "from autoslug import AutoSlugField\n",
    "\n",
    "class News(models.Model):\n",
    "    headline=models.CharField(max_length=200)\n",
    "    details=HTMLField()\n",
    "    headline_slug = AutoSlugField(populate_from='headline', unique=True, null=True, default=None) # autoslug\n",
    "    \n",
    "    def __str__(self):\n",
    "        return self.headline"
   ]
  },
  {
   "cell_type": "code",
   "execution_count": null,
   "id": "6f8cf539",
   "metadata": {},
   "outputs": [],
   "source": [
    "# Step4- myapp/views.py:\n",
    "\n",
    "from django.shortcuts import render\n",
    "\n",
    "# Create your views here.\n",
    "from myapp.models import News\n",
    "\n",
    "\n",
    "def marqueeView(request): # fetch all record from database\n",
    "    data=News.objects.all()\n",
    "    return render(request, \"marquee.html\", {'data':data})\n",
    "\n",
    "def newsdetailsView(request, news_slug): # fetch only specific record from database\n",
    "    news_data=News.objects.get(headline_slug=news_slug)\n",
    "    return render(request, \"newsdetails.html\", {'news_data':news_data})"
   ]
  },
  {
   "cell_type": "code",
   "execution_count": null,
   "id": "0be25152",
   "metadata": {},
   "outputs": [],
   "source": [
    "# Step5- myapp/urls.py:\n",
    "\n",
    "from django.urls import path\n",
    "from . import views\n",
    "\n",
    "urlpatterns = [\n",
    "    path('marquee/', views.marqueeView, name=\"my-marquee\"), # for headline\n",
    "    path('newsdetails/<news_slug>', views.newsdetailsView, name=\"my-newsdetails\"), # for headline details\n",
    "]\n"
   ]
  },
  {
   "cell_type": "code",
   "execution_count": 2,
   "id": "8d5b488f",
   "metadata": {},
   "outputs": [],
   "source": [
    "# Step6- templates/marquee.html:\n",
    "\n",
    "{% extends \"base.html\" %}\n",
    "\n",
    "{% block content %}\n",
    "    <h1>Marquee </h1>\n",
    "\n",
    "    <div class=\"marquee-container\">\n",
    "        <marquee class=\"marquee-content\" behavior=\"scroll\" direction=\"left\" onmouseover=\"this.stop();\" onmouseout=\"this.start();\">\n",
    "            \n",
    "            {% for news in data %}\n",
    "\n",
    "                <a href=\"/myapp/newsdetails/{{news.headline_slug}}\">{{news.id}}. {{news.headline}}</a>     \n",
    "                &nbsp;&nbsp;&nbsp;\n",
    "                \n",
    "                <a href=\"{% url 'my-newsdetails' news.headline_slug %}\">{{news.id}}. {{news.headline}}</a> # using url tag\n",
    "                &nbsp;&nbsp;&nbsp;\n",
    "        \n",
    "            {% endfor %}\n",
    "            \n",
    "        </marquee>\n",
    "    </div>\n",
    "    \n",
    "    <br><br><br><br><br><br>\n",
    "{% endblock  %}\n"
   ]
  },
  {
   "cell_type": "markdown",
   "id": "b797776a",
   "metadata": {},
   "source": [
    "<pre id='l36'></pre>\n",
    "# Searching in Django"
   ]
  },
  {
   "cell_type": "markdown",
   "id": "6ca052ac",
   "metadata": {},
   "source": [
    "What I want here is we have service page(`myserv.html`) where thousands of services are there and we want to search specific service among thousands of services. Let's say we want to search by service `title` name: \n",
    "\n",
    "1. Open `myserv.html`(templates) and add html code to take input for searching using following lines of code\n",
    "2. Open `views.py`(myapp) and update the code to implement searching functionality without disturbing the current existing functionality of code."
   ]
  },
  {
   "cell_type": "code",
   "execution_count": null,
   "id": "cea0f658",
   "metadata": {},
   "outputs": [],
   "source": [
    "# Step1- templates/myserv.html:\n",
    "\n",
    "{% extends \"base.html\" %}\n",
    "\n",
    "{% block content %}\n",
    "    <h1>MY Services</h1>\n",
    "\n",
    "    <div>\n",
    "        <form action=\"\" method=\"get\"> # Search form\n",
    "            <input type=\"text\" name=\"search_service\" placeholder=\"Search Service\">\n",
    "            <input type=\"submit\" value=\"Search\">\n",
    "        </form>\n",
    "    </div>\n",
    "    <br><br><br>\n",
    "    <div>\n",
    "        \n",
    "        {% for service in servicedata %}\n",
    "\n",
    "            <div>\n",
    "                <h1>{{service.service_title | safe | upper}}</h1>\n",
    "                <h4>{{service.service_icon}}</h4>\n",
    "                <p>{{service.service_desc | safe }}</p>\n",
    "            </div>\n",
    "            \n",
    "            {% empty %} # if no record found\n",
    "                <h6>No record Found</h6>\n",
    "            \n",
    "\n",
    "        {% endfor %}\n",
    "            \n",
    "    </div>\n",
    "\n",
    "    <br><br><br><br><br><br>\n",
    "{% endblock  %}\n"
   ]
  },
  {
   "cell_type": "code",
   "execution_count": null,
   "id": "9be97ef1",
   "metadata": {},
   "outputs": [],
   "source": [
    "# Step2- myapp/views.py:\n",
    "\n",
    "def myServView(request):\n",
    "    service_data=Service.objects.all().order_by('service_title')[:] # for descending: order_by('-service_title')  \n",
    "    if request.method=='GET':\n",
    "        search_data=request.GET.get('search_service')\n",
    "        if search_data!=None:\n",
    "            service_data=Service.objects.filter(service_title=search_data) # search exact title\n",
    "            service_data=Service.objects.filter(service_title__icontains=search_data) # search irrespctive of case, exact word\n",
    "    data={'servicedata':service_data}\n",
    "    return render(request, \"myserv.html\", data)"
   ]
  },
  {
   "cell_type": "markdown",
   "id": "430e2186",
   "metadata": {},
   "source": [
    "<pre id='l37'></pre>\n",
    "# File upload in Django admin panel"
   ]
  },
  {
   "cell_type": "markdown",
   "id": "a677eaad",
   "metadata": {},
   "source": [
    "1. Create a folder \"media\" inside project(package) folder to store uploaded file\n",
    "2. Open `settings.py`(myproject) and add following lines of code to include `media` folder in our project for storing files that uploaded from admin panel.\n",
    "3. Open `urls.py`(myproject) and add following lines of code\n",
    "4. Open `models.py`(myapp) and add following lines of code to create field `title`, `file` and `description`\n",
    "5. Open `admin.py`(myapp) and register model using following lines of code\n",
    "6. Run command: `python manage.py makemigrations`\n",
    "7. Run command: `python manage.py migrate`"
   ]
  },
  {
   "cell_type": "code",
   "execution_count": null,
   "id": "bcb0865f",
   "metadata": {},
   "outputs": [],
   "source": [
    "# Step2- myproject/settings.py:\n",
    "\n",
    "import os\n",
    "\n",
    "# make sure to import os before adding these line:\n",
    "\n",
    "MEDIA_ROOT=os.path.join(BASE_DIR, \"media\")\n",
    "MEDIA_URL=\"/media/\"\n",
    "\n",
    "# we can add these lines of code anywhere in file"
   ]
  },
  {
   "cell_type": "code",
   "execution_count": null,
   "id": "2a9c4633",
   "metadata": {},
   "outputs": [],
   "source": [
    "# Step3- myproject/urls.py:\n",
    "\n",
    "from django.contrib import admin\n",
    "from django.urls import path, include\n",
    "\n",
    "from django.conf import settings\n",
    "from django.conf.urls.static import static\n",
    "\n",
    "urlpatterns = [\n",
    "    path('admin/', admin.site.urls),\n",
    "    path('myapp/', include(\"myapp.urls\")),  \n",
    "]\n",
    "if settings.DEBUG:\n",
    "    urlpatterns += static(settings.MEDIA_URL, document_root=settings.MEDIA_ROOT)"
   ]
  },
  {
   "cell_type": "code",
   "execution_count": null,
   "id": "5458e7ea",
   "metadata": {},
   "outputs": [],
   "source": [
    "# Step4- myapp/models.py:\n",
    "\n",
    "from django.db import models\n",
    "\n",
    "# Create your models here.\n",
    "from tinymce.models import HTMLField\n",
    "\n",
    "class FileUpload(models.Model): # upload file from admin\n",
    "    title=models.CharField(max_length=200)\n",
    "    file=models.FileField(upload_to=\"uploads\")\n",
    "    description=HTMLField()"
   ]
  },
  {
   "cell_type": "code",
   "execution_count": null,
   "id": "26ffd5fd",
   "metadata": {},
   "outputs": [],
   "source": [
    "# Step5- myapp/admin.py:\n",
    "\n",
    "from django.contrib import admin\n",
    "\n",
    "# Register your models here.\n",
    "from .models import FileUpload\n",
    "    \n",
    "class FileUploadAdmin(admin.ModelAdmin):\n",
    "    list_display=('title','file',)\n",
    "\n",
    "admin.site.register(FileUpload, FileUploadAdmin)"
   ]
  },
  {
   "cell_type": "markdown",
   "id": "ce62308c",
   "metadata": {},
   "source": [
    "**Remark:** Always include following lines of code in `urls.py`(myproject) only, if you are using `urls.py` at both project level and app level.\n",
    "<code>\n",
    "    from django.conf import settings\n",
    "    from django.conf.urls.static import static\n",
    "    \n",
    "    if settings.DEBUG:\n",
    "        urlpatterns += static(settings.MEDIA_URL, document_root=settings.MEDIA_ROOT)\n",
    "</code>"
   ]
  },
  {
   "cell_type": "markdown",
   "id": "f8f02b9c",
   "metadata": {},
   "source": [
    "<pre id='l38'></pre>\n",
    "# Displaying uploaded image on webpage"
   ]
  },
  {
   "cell_type": "markdown",
   "id": "c6a25b70",
   "metadata": {},
   "source": [
    "Above(`File upload in Django admin panel`) we have uploaded images in database table from admin panel. Now what I want is display all details of first entry of table(`title`, `file` and `description`).\n",
    "\n",
    "1. Create a file \"imageupload.html\" inside `templates` folder\n",
    "2. Open `views.py`(myapp) and write following lines of code to fetch data from database\n",
    "3. Open `urls.py`(myapp) and create an url and map to its corresponding views\n",
    "4. Open `uploadimage.html`(templates) and add following lines of code to render data from database"
   ]
  },
  {
   "cell_type": "code",
   "execution_count": null,
   "id": "17f6c0a5",
   "metadata": {},
   "outputs": [],
   "source": [
    "# Step2- myapp/views.py:\n",
    "\n",
    "from django.shortcuts import render, redirect\n",
    "\n",
    "# Create your views here.\n",
    "from myapp.models import FileUpload\n",
    "\n",
    "def uploadimageView(request):\n",
    "    data=FileUpload.objects.get(pk=1) # want to display first record only\n",
    "    return render(request, \"imgupload.html\", {'data':data})"
   ]
  },
  {
   "cell_type": "code",
   "execution_count": 1,
   "id": "d5e5d2b3",
   "metadata": {},
   "outputs": [],
   "source": [
    "# Step3- myapp/urls.py:\n",
    "\n",
    "from django.urls import path\n",
    "from . import views\n",
    "\n",
    "urlpatterns = [\n",
    "    path('uploadimage/', views.uploadimageView, name=\"my-uploadimage\"),\n",
    "]"
   ]
  },
  {
   "cell_type": "code",
   "execution_count": null,
   "id": "d54634dc",
   "metadata": {},
   "outputs": [],
   "source": [
    "# Step4- templates/imageuplod.html:\n",
    "\n",
    "{% extends \"base.html\" %}\n",
    "\n",
    "{% block content %}\n",
    "\n",
    "<div>\n",
    "    <h1>{{ data.title }}</h1> # title\n",
    "</div>\n",
    "\n",
    "<img src=\"{{data.file.url}}\" alt=\"profile-image\"> # image\n",
    "\n",
    "# we can render image this way also:\n",
    "<img src=\"/media/{{data.file}}\" alt=\"profile-image\">\n",
    "\n",
    "<div>\n",
    "    <p>{{data.description | safe }}</p> # description\n",
    "</div>\n",
    "\n",
    "<br><br><br><br><br>\n",
    "{% endblock %}\n"
   ]
  },
  {
   "cell_type": "markdown",
   "id": "6e244124",
   "metadata": {},
   "source": [
    "<pre id='l39'></pre>\n",
    "# Sending email: message, message with HTML, attachment"
   ]
  },
  {
   "cell_type": "markdown",
   "id": "f3743b25",
   "metadata": {},
   "source": [
    "1. Open `settings.py`(myproject) and add following email settings in this file and save it.\n",
    "2. Open `views.py`(myapp) and create view function to send email of different types of content\n",
    "3. Open `urls.py`(myapp) and create url and map its view\n",
    "4. Create a file \"email.html\" inside `templates` folder\n",
    "5. Open `email.html`(templates) and add following lines of code to create a button to send email"
   ]
  },
  {
   "cell_type": "code",
   "execution_count": null,
   "id": "baaacebc",
   "metadata": {},
   "outputs": [],
   "source": [
    "# Step1- myproject/settings.py:\n",
    "\n",
    "# Email settings\n",
    "EMAIL_BACKEND = 'django.core.mail.backends.smtp.EmailBackend'\n",
    "EMAIL_HOST = 'smtp.gmail.com'\n",
    "EMAIL_PORT = 587\n",
    "EMAIL_HOST_USER = 'sender@gmail.com' # sender\n",
    "EMAIL_HOST_PASSWORD = 'password' # app password\n",
    "EMAIL_USE_TLS = True\n",
    "EMAIL_USE_SSL = False"
   ]
  },
  {
   "cell_type": "code",
   "execution_count": null,
   "id": "c9d2b32a",
   "metadata": {},
   "outputs": [],
   "source": [
    "# Step2- myapp/views.py:\n",
    "\n",
    "from django.shortcuts import render\n",
    "\n",
    "# Create your views here.\n",
    "from django.http import HttpResponse\n",
    "from django.core.mail import send_mail, EmailMultiAlternatives\n",
    "\n",
    "def sendEmail(request):\n",
    "    candidate=\"Receiver\"\n",
    "    if request.method=='POST':\n",
    "        subject = 'DJANGO APP'\n",
    "        message1 = f'Dear {candidate}\\nI have successfully sent my first email to you.' # plain text\n",
    "        message = f'Dear <b>{candidate}</b>\\n<p>I have successfully sent my first email to you.</p>' # contain html\n",
    "        from_email = 'sender@gmail.com'\n",
    "        recipient_list = ['receiver01@gmail.com', 'receiver02@gmail.com']\n",
    "        \n",
    "        send_mail(subject, message1, from_email, recipient_list, fail_silently=True) # used to send plain text\n",
    "        \n",
    "        send_email=EmailMultiAlternatives(subject, message2, from_email, recipient_list) # used to send text with html\n",
    "        send_email.content_subtype='html'\n",
    "        send_email.send()\n",
    "        \n",
    "        # attchment\n",
    "        file_path=\"E:/Experiment/expt1/myproject/media/uploads/Capture.JPG\"\n",
    "        attachment_email=EmailMessage(subject, message2, from_email, recipient_list)\n",
    "        attachment_email.content_subtype='html'\n",
    "        attachment_email.attach_file(file_path)\n",
    "        \n",
    "        # following lines of code will also work:\n",
    "        # Open the file and attach it to the email\n",
    "        # with open(file_path, 'rb') as file:\n",
    "        #     attachment_email.attach(file.name, file.read(), 'image/jpeg')  # Adjust the content type as needed\n",
    "\n",
    "        attachment_email.send()\n",
    "        \n",
    "        return HttpResponse('Email sent successfully!')\n",
    "    return render(request, 'email.html')"
   ]
  },
  {
   "cell_type": "code",
   "execution_count": null,
   "id": "3a851324",
   "metadata": {},
   "outputs": [],
   "source": [
    "# Step3- myapp/urls.py:\n",
    "\n",
    "from django.urls import path\n",
    "from . import views\n",
    "\n",
    "urlpatterns = [\n",
    "    path('email/', views.sendEmail, name=\"my-email\"),\n",
    "]"
   ]
  },
  {
   "cell_type": "code",
   "execution_count": null,
   "id": "b2c486fb",
   "metadata": {},
   "outputs": [],
   "source": [
    "# Step5- templates/email.html:\n",
    "\n",
    "{% extends \"base.html\" %}\n",
    "\n",
    "{% block content %}\n",
    "    \n",
    "    <h1>Email</h1>\n",
    "\n",
    "    <form method=\"post\" action=\"{% url 'my-email' %}\">\n",
    "        {% csrf_token %}\n",
    "        <button type=\"submit\">Send Email</button>\n",
    "    </form>\n",
    "\n",
    "    <br><br><br><br><br><br>\n",
    "{% endblock  %}"
   ]
  },
  {
   "cell_type": "markdown",
   "id": "e6005369",
   "metadata": {},
   "source": [
    "<pre id='l40'></pre>\n",
    "# Creating `utils.py` in app"
   ]
  },
  {
   "cell_type": "markdown",
   "id": "6bbb80af",
   "metadata": {},
   "source": [
    "In a Django project, a `utils.py` file is often created to contain utility functions, helper functions, or any code that doesn't fit neatly into one of your application's specific modules. The purpose of a utils.py file is to organize and centralize code that may be reused across different parts of your project.\n",
    "\n",
    "**Here are some reasons why and when you might want to create a utils.py file:**\n",
    "\n",
    "**`Code Organization:`** As your Django project grows, you may accumulate various utility functions that don't belong to any specific app or module. Placing them in a utils.py file provides a convenient way to organize these functions.\n",
    "\n",
    "**`Reusability:`** If you have functions that can be reused in multiple parts of your project, placing them in a utils.py file allows you to import and use them easily wherever needed.\n",
    "\n",
    "**`Readability:`** Separating utility functions into a dedicated file can improve the readability of your code. It's easier to find and understand common functions when they are grouped together in a utils.py file.\n",
    "\n",
    "**`Avoiding Circular Imports:`** If you find that multiple modules or apps in your project need to import common functions from each other, you might run into circular import issues. Placing shared utility functions in a utils.py file can help avoid these problems.\n",
    "\n",
    "**`Testing:`** Having utility functions in a separate file makes it easier to write unit tests specifically for those functions.\n",
    "\n",
    "Let's see an example in context of sending email with attachment using `attach()` function"
   ]
  },
  {
   "cell_type": "code",
   "execution_count": null,
   "id": "3b94ce4e",
   "metadata": {},
   "outputs": [],
   "source": [
    "# email_utils.py\n",
    "\n",
    "import magic\n",
    "import os\n",
    "from django.core.mail import EmailMessage\n",
    "\n",
    "def send_email_with_attachment(subject, message, from_email, recipient_list, attachment_path):\n",
    "    with open(attachment_path, 'rb') as file:\n",
    "        file_content = file.read()\n",
    "\n",
    "    mime_type = magic.from_buffer(file_content, mime=True)\n",
    "\n",
    "    # Extract the filename from the attachment_path\n",
    "    file_name = os.path.basename(attachment_path)\n",
    "\n",
    "    email = EmailMessage(subject, message, from_email, recipient_list)\n",
    "    email.attach(file_name, file_content, mime_type)\n",
    "\n",
    "    # Send the email\n",
    "    email.send()"
   ]
  },
  {
   "cell_type": "code",
   "execution_count": null,
   "id": "c3fee8e6",
   "metadata": {},
   "outputs": [],
   "source": [
    "# views.py\n",
    "\n",
    "from django.shortcuts import render\n",
    "from django.conf import settings\n",
    "from .email_utils import send_email_with_attachment\n",
    "\n",
    "def my_email_with_attachment_view(request):\n",
    "    # ... Your view logic ...\n",
    "\n",
    "    subject = 'Email with Attachment'\n",
    "    message = 'Please find the attached file.'\n",
    "    from_email = 'your_email@example.com'  # Replace with your email address\n",
    "    recipient_list = ['recipient@example.com']  # Replace with the recipient's email address\n",
    "\n",
    "    # Attach the file\n",
    "    # Attach the file from the sibling folder \"documents\" of the templates folder\n",
    "    attachment_path = 'documents/sample.pdf'  # Replace with the relative path to the file from the root directory\n",
    "\n",
    "    file_path = settings.BASE_DIR / attachment_path\n",
    "\n",
    "    send_email_with_attachment(subject, message, from_email, recipient_list, attachment_path)\n",
    "\n",
    "    # ... Rest of your view logic ...\n",
    "    return HttpResponse(\"Email with Attachment Sent Successfully!\")"
   ]
  },
  {
   "cell_type": "markdown",
   "id": "34029a0c",
   "metadata": {},
   "source": [
    "<pre id='l41'></pre>\n",
    "# Sending email from HTML form with or without attachment"
   ]
  },
  {
   "cell_type": "markdown",
   "id": "c81b7294",
   "metadata": {},
   "source": [
    "A form that accept receiver's name, email, subject, file(optional to attach) and message.\n",
    "\n",
    "1. Create a file \"emailform.html\" inside `templates` folder\n",
    "2. Open `emailform.html`(templates) and create a form to take input from user\n",
    "3. Open `styles.css`(static/CSS) and add some css to style the form\n",
    "4. Open `views.py`(myapp) and create function that fetch all data from from after user submit the form\n",
    "5. Open `urls.py`(myapp) and create an url to show form and map to its view function"
   ]
  },
  {
   "cell_type": "code",
   "execution_count": null,
   "id": "235667a2",
   "metadata": {},
   "outputs": [],
   "source": [
    "# Step2- templates/emailform.html:\n",
    "\n",
    "\n",
    "{% extends \"base.html\" %}\n",
    "\n",
    "{% block content %}\n",
    "    <h1>Email Form</h1>\n",
    "    \n",
    "    <div class=\"email-form-container\">\n",
    "\n",
    "        <form id=\"emailForm\" method=\"post\"> \n",
    "            {% csrf_token %}\n",
    "\n",
    "            <label for=\"receiverName\">Receiver Name:</label>\n",
    "            <input type=\"text\" id=\"receiverName\" name=\"receiverName\" placeholder=\"Enter receiver's name\" required>\n",
    "    \n",
    "            <label for=\"receiverEmail\">Receiver Email:</label>\n",
    "            <input type=\"email\" id=\"receiverEmail\" name=\"receiverEmail\" placeholder=\"Enter receiver's email\" required>\n",
    "    \n",
    "            <label for=\"subject\">Subject:</label>\n",
    "            <input type=\"text\" id=\"subject\" name=\"subject\" placeholder=\"Enter email subject\" required>\n",
    "            \n",
    "            <label for=\"attachment\">File</label>\n",
    "            <input type=\"file\" id=\"attachment\" name=\"attachment\" placeholder=\"Enter email subject\" > # file is optional\n",
    "            \n",
    "            <label for=\"message\">Message:</label>\n",
    "            <textarea id=\"message\" name=\"message\" rows=\"4\" placeholder=\"Enter your message\" required></textarea>\n",
    "    \n",
    "            <button type=\"submit\" >Send Email</button>\n",
    "        </form>\n",
    "    \n",
    "    </div>\n",
    "\n",
    "    <br><br><br><br><br><br>\n",
    "{% endblock  %}"
   ]
  },
  {
   "cell_type": "code",
   "execution_count": null,
   "id": "10feef0a",
   "metadata": {},
   "outputs": [],
   "source": [
    "# Step3- static/CSS/styles.css:\n",
    "\n",
    "# /* email form css: */\n",
    "# /* Add a unique class to the form container to scope the styles */\n",
    ".email-form-container {\n",
    "    font-family: Arial, sans-serif;\n",
    "    background-color: #f4f4f4;\n",
    "    margin: 0;\n",
    "    padding: 0;\n",
    "    display: flex;\n",
    "    justify-content: center;\n",
    "    align-items: center;\n",
    "    height: 100vh;\n",
    "}\n",
    "\n",
    "/* Use descendant selectors to apply styles only to elements within the container */\n",
    ".email-form-container form {\n",
    "    background-color: #fff;\n",
    "    padding: 20px;\n",
    "    border-radius: 8px;\n",
    "    box-shadow: 0 0 10px rgba(0, 0, 0, 0.1);\n",
    "}\n",
    "\n",
    ".email-form-container label {\n",
    "    display: block;\n",
    "    margin-bottom: 8px;\n",
    "}\n",
    "\n",
    ".email-form-container input,\n",
    ".email-form-container textarea {\n",
    "    width: 100%;\n",
    "    padding: 10px;\n",
    "    margin-bottom: 16px;\n",
    "    box-sizing: border-box;\n",
    "    border: 1px solid #ccc;\n",
    "    border-radius: 4px;\n",
    "}\n",
    "\n",
    ".email-form-container button {\n",
    "    background-color: #4caf50;\n",
    "    color: #fff;\n",
    "    padding: 10px 20px;\n",
    "    border: none;\n",
    "    border-radius: 4px;\n",
    "    cursor: pointer;\n",
    "}\n",
    "\n",
    ".email-form-container button:hover {\n",
    "    background-color: #45a049;\n",
    "}"
   ]
  },
  {
   "cell_type": "code",
   "execution_count": null,
   "id": "b2ca23f2",
   "metadata": {},
   "outputs": [],
   "source": [
    "# Step4- myapp/views.py:\n",
    "\n",
    "from django.shortcuts import render\n",
    "\n",
    "# Create your views here.\n",
    "from django.http import HttpResponse\n",
    "from django.core.mail import EmailMessage\n",
    "\n",
    "def emailformView(request):\n",
    "    if request.method=='POST':\n",
    "        receiver_name = request.POST.get('receiverName')\n",
    "        receiver_email = request.POST.get('receiverEmail')\n",
    "        subject = request.POST.get('subject')\n",
    "        message = request.POST.get('message')\n",
    "        from_email = 'funfact010101@gmail.com'\n",
    "        \n",
    "        attachment_email=EmailMessage(subject, message, from_email, [receiver_email])\n",
    "        attachment_email.content_subtype='html'\n",
    "        \n",
    "        try: # attachment was optional, so to be handled accordingly\n",
    "            attachment = request.POST.get('attachment')\n",
    "            attachment_email.attach_file(attachment)\n",
    "            print(\"File attached\")\n",
    "        except Exception as e:\n",
    "            print(\"File not attached\")\n",
    "            print(e)\n",
    "            \n",
    "        attachment_email.send()\n",
    "        return HttpResponse('Email sent successfully!')    \n",
    "    return render(request, \"emailform.html\")"
   ]
  },
  {
   "cell_type": "code",
   "execution_count": null,
   "id": "b6c41601",
   "metadata": {},
   "outputs": [],
   "source": [
    "# Step5- myapp/urls.py:\n",
    "\n",
    "from django.urls import path\n",
    "from . import views\n",
    "\n",
    "urlpatterns = [\n",
    "    path('emailform/', views.emailformView, name=\"my-emailform\"),\n",
    "]"
   ]
  },
  {
   "cell_type": "markdown",
   "id": "67247d0e",
   "metadata": {},
   "source": [
    "<pre id='l42'></pre>\n",
    "# Sending email after fetching details from database"
   ]
  },
  {
   "cell_type": "markdown",
   "id": "b1ba3157",
   "metadata": {},
   "source": [
    "Let's say we have data base that store name, mobile and email. We want to send email to all with common message and file(optional).\n",
    "\n",
    "1. Create a file \"message.html\" and \"emaildb.html\" inside `templates` folder\n",
    "2. Open `view.py`(myapp) and create view to fetach details from databse and send email to all people in database using following lines of code\n",
    "3. Open `urls.py`(myapp) and create url and map to view function\n",
    "4. Open `emaildb.html`(templates) and add html code to display send button to send email\n",
    "5. Open `message.html`(templates) and write message to be sent using html tag to looks better"
   ]
  },
  {
   "cell_type": "code",
   "execution_count": null,
   "id": "d9c50df1",
   "metadata": {},
   "outputs": [],
   "source": [
    "# Step2- myapp/views.py:\n",
    "\n",
    "from django.shortcuts import render\n",
    "\n",
    "# Create your views here.\n",
    "from django.http import HttpResponse\n",
    "from django.core.mail import EmailMessage\n",
    "from myapp.models import User\n",
    "from django.template.loader import render_to_string\n",
    "\n",
    "def emaildbView(request):\n",
    "    if request.method=='POST':\n",
    "        from_email = 'funfact010101@gmail.com'\n",
    "        subject = \"SAURABH invited you to read this\"\n",
    "        users=User.objects.all()\n",
    "        for user in users:\n",
    "            html_message = render_to_string('message.html', {'user': user.name})\n",
    "            receiver_email = user.email\n",
    "            \n",
    "            email = EmailMessage(subject,html_message, from_email, [receiver_email])\n",
    "            email.content_subtype = 'html'\n",
    "            email.send()\n",
    "        return HttpResponse('Email sent successfully to all users!')\n",
    "    return render(request, \"emaildb.html\")"
   ]
  },
  {
   "cell_type": "code",
   "execution_count": null,
   "id": "565274ce",
   "metadata": {},
   "outputs": [],
   "source": [
    "# Step3- myapp/urls.py:\n",
    "\n",
    "from django.urls import path\n",
    "from . import views\n",
    "\n",
    "urlpatterns = [\n",
    "    path('emaildb/', views.emaildbView, name=\"my-emaildb\"),\n",
    "]"
   ]
  },
  {
   "cell_type": "code",
   "execution_count": null,
   "id": "907c5723",
   "metadata": {},
   "outputs": [],
   "source": [
    "# Step4- templates/emaildb.html:\n",
    "\n",
    "\n",
    "{% extends \"base.html\" %}\n",
    "\n",
    "{% block content %}\n",
    "    \n",
    "    <h1>Email from database</h1>\n",
    "\n",
    "    <form method=\"post\" action=\"{% url 'my-emaildb' %}\">\n",
    "        {% csrf_token %}\n",
    "        <button type=\"submit\">Send Email</button>\n",
    "    </form>\n",
    "\n",
    "    <br><br><br><br><br><br>\n",
    "{% endblock  %}"
   ]
  },
  {
   "cell_type": "code",
   "execution_count": null,
   "id": "f1bb186e",
   "metadata": {},
   "outputs": [],
   "source": [
    "# Step5- templates/message.html:\n",
    "\n",
    "<!DOCTYPE html>\n",
    "<html lang=\"en\">\n",
    "<head>\n",
    "    <meta charset=\"UTF-8\">\n",
    "    <meta http-equiv=\"X-UA-Compatible\" content=\"IE=edge\">\n",
    "    <meta name=\"viewport\" content=\"width=device-width, initial-scale=1.0\">\n",
    "    <title>Email Template</title>\n",
    "    <style>\n",
    "        body {\n",
    "            font-family: 'Arial', sans-serif;\n",
    "            margin: 0;\n",
    "            padding: 0;\n",
    "            background-color: #f4f4f4;\n",
    "            color: #333;\n",
    "        }\n",
    "        .container {\n",
    "            max-width: 600px;\n",
    "            margin: 20px auto;\n",
    "            padding: 20px;\n",
    "            background-color: #fff;\n",
    "            box-shadow: 0 0 10px rgba(0, 0, 0, 0.1);\n",
    "        }\n",
    "        h1 {\n",
    "            color: #007bff;\n",
    "        }\n",
    "        p {\n",
    "            line-height: 1.6;\n",
    "        }\n",
    "        .signature {\n",
    "            margin-top: 20px;\n",
    "            font-style: italic;\n",
    "            color: #888;\n",
    "        }\n",
    "    </style>\n",
    "</head>\n",
    "<body>\n",
    "    <div class=\"container\">\n",
    "        <h1>Dear {{ user }},</h1>\n",
    "        <p>Hope you are doing well. This message is to inform you that I am actually working on a Django project, and this email is to check whether emails are sent to all users in the database. If you are reading this email, then it means that I am on the right path.</p>\n",
    "        <p>Thank you for reading.</p>\n",
    "        <div class=\"signature\">\n",
    "            <p>Sincerely, <br> Saurabh Prakash</p>\n",
    "        </div>\n",
    "    </div>\n",
    "</body>\n",
    "</html>\n"
   ]
  },
  {
   "cell_type": "markdown",
   "id": "9f9703f3",
   "metadata": {},
   "source": [
    "<pre id='l43'></pre>\n",
    "# Error handling in Django"
   ]
  },
  {
   "cell_type": "markdown",
   "id": "9ab17827",
   "metadata": {},
   "source": [
    "An application will contain errors in some form no matter how much testing or QA is performed. This is not always directly related to incorrect code or syntax issues By their very nature networks are not always 100% reliable and things can occasionally go wrong. As an aspiring developer, we need ways to handle these potential issues.\n",
    "\n",
    "We should know that http responses contains status codes:\n",
    "- Informational: 100-199\n",
    "- Successful: 200-299\n",
    "- Redirection: 300-399\n",
    "- Client Error: 400-499\n",
    "- Server Error: 500-599\n",
    "\n",
    "While this may seem like a lot of codes to learn, we generally encounter some of the same codes more frequently. When working with web applications.\n",
    "\n",
    "**Let's explore some of the more common client and service status codes** that developers encounter starting with client or response codes.\n",
    " \n",
    "- `400`: It represents a bad request. This occurs when parameters passed in the request are not what the server may expect. \n",
    "- `401`: It indicates that the user must log into an account before processing the request. \n",
    "- `403`: Indicating that the request was valid but that the Web server refuses to process it. This typically means that the user calling the resource does not have the required permissions to view the resource.\n",
    "- `404`: It indicates that the requested resource was not found on the web server. This typically happens when the resource cannot be located at the specified file path. \n",
    "\n",
    "**let's explore some server error responses.** Server or responses usually indicate a failure occurred on the web server while trying to process the request. This can mean many things. For example, the application has failed or is not running or the time limit on the calling request may have aborted due to the server taking a long time to respond \n",
    "\n",
    "- Server or responses usually use status codes ranging from `500 to 599`. The most common code you will likely encounter is the `500` internal server error which is a generic error status indicating that the server failed to process the request.\n",
    "\n",
    "**let's now explore how Django handles them.** By raising exceptions. Django handles all our cases by raising an exception which is invoked via an error handling view that we can configure. \n",
    "\n",
    "- These are handling views are added to a separate `views.py`(myproject) file that must be created at the project level to get applied across the project. \n",
    "\n",
    "<code>\n",
    "    # myproject/views.py:\n",
    "    \n",
    "    from django.http import Httpresponse\n",
    "    def handler404(request, exception):\n",
    "        return HttpResponse(\"404: Page not found!\")\n",
    "    def home(request):\n",
    "        return Httpresponse(\"Little Lemon\")\n",
    "</code>\n",
    "\n",
    "- The views to use for these cases are specified by four variables. They are `handler400`, `handler403`, `handler404` and `handler500`. \n",
    "\n",
    "- It's important to know that while we can use the default values and views for our projects, there may be times when we want to customize the look of these views to align with the style or theme of our site. \n",
    "- Further customization is possible by overriding the default values. Such values can be set in the root URL configuration file of our project that is `urls.py`(myproject). \n",
    "\n",
    "<code>\n",
    "    # myproject/urls.py:\n",
    "    \n",
    "    handler400 = 'my_project.views.handler400'\n",
    "    handler403 = 'my_project.views.handler403' # full Python import path to the view\n",
    "    handler404 = 'my_project.views.handler404'\n",
    "    handler500 = 'my_project.views.handler500'\n",
    "</code>\n",
    "\n",
    "- It's important to know that setting these variables in any other URL configuration file will have no effect. \n",
    "\n",
    "**Let's explore these variables in a little more detail** now to override their defaults and implement some custom views. The first is `handler400` by default this is the bad request view, `handler403` by default this is the permission denied view, `handler404` by default this is the page not found view and `handler500` by default this is the server error view.\n",
    "\n",
    "As we have learnt, It's also possible to implement custom views. Just know that to implement a custom view, the view function needs to accept the appropriate request argument and return the appropriate response. The custom views that we create using these handlers return different HttpResponse sub classes that handle different types of HttpResponses. For example:\n",
    "- class `HttpResponseNotFound` acts just like `HttpResponse` but uses a `404` status code \n",
    "- class `HttpResponseBadRequest` acts just like `HttpResponse` but uses a `400` status code \n",
    "- class `HttpResponseForbidden` acts just like `HttpResponse` but uses a `403` status code\n",
    "- class `HttpResponseServerError` acts just like `HttpResponse` but uses a `500` status code "
   ]
  },
  {
   "cell_type": "markdown",
   "id": "ae221dd1",
   "metadata": {},
   "source": [
    "<pre id='l44'></pre>\n",
    "# Handle errors in views & How to create custom 404 error page"
   ]
  },
  {
   "cell_type": "markdown",
   "id": "80e0da88",
   "metadata": {},
   "source": [
    "Recall that Django displays a page not found error page when a URL cannot be matched. This default error page displays with some technical information for the developer, including the request method and request URL. However, we usually do not want our end-users to access this type of information, as these types of error messages will mean nothing to them. Instead, we can create a custom view for the error page.\n",
    "\n",
    "Notice that a page not found error page is displayed by default. The page contains some error information and a message stating; `you're seeing this error because you have DEBUG =True in the Django settings file. Change that to false, and Django will display a standard 404 page`. \n",
    "\n",
    "- Debugging is the process of handling errors in code. In Django, debug mode is set to true by default, which displays detailed error pages during development. \n",
    "\n",
    "1. Open `settings.py`(myproject) and change the `DEBUG` value to False. Additionally, you must add some value inside `ALLOWED_HOSTS`. In this example, add the star symbol(`'*'`) to include all possible hosts. At this point if we Save the file and refresh the webpage in the browser. Notice that a different type of webpage is displayed stating `Not found. The requested resource was not found on the server`. \n",
    "2. Create a file `views.py` inside `myproject` folder.\n",
    "3. Open `urls.py`(myproject) and add following lines of code\n",
    "4. open `views.py`(myproject) and write the following lines of for custom error page"
   ]
  },
  {
   "cell_type": "code",
   "execution_count": null,
   "id": "3c6df1ba",
   "metadata": {},
   "outputs": [],
   "source": [
    "# Step1- myproject/settings.py:\n",
    "\n",
    "# SECURITY WARNING: don't run with debug turned on in production!\n",
    "DEBUG = False\n",
    "\n",
    "ALLOWED_HOSTS = ['*']"
   ]
  },
  {
   "cell_type": "code",
   "execution_count": null,
   "id": "2e301181",
   "metadata": {},
   "outputs": [],
   "source": [
    "# Step3- myproject/urls.py:\n",
    "\n",
    "from django.contrib import admin\n",
    "from django.urls import path, include\n",
    "from . import views\n",
    "\n",
    "urlpatterns = [\n",
    "    path('admin/', admin.site.urls),\n",
    "    path('home/', views.home)\n",
    "]\n",
    "handler404='myproject.views.handler404'"
   ]
  },
  {
   "cell_type": "code",
   "execution_count": null,
   "id": "b7458de1",
   "metadata": {},
   "outputs": [],
   "source": [
    "# Step4- myproject/views.py:\n",
    "\n",
    "from django.http import HttpResponse\n",
    "\n",
    "def handler404(request, exception):\n",
    "    return HttpResponse(\"404 error Page not found\")\n",
    "\n",
    "def home(request):\n",
    "    return HttpResponse(\"Home page\")"
   ]
  },
  {
   "cell_type": "markdown",
   "id": "3732c473",
   "metadata": {},
   "source": [
    "If we save file and modify the URL with random values, the message remains the same. This is because the `handler404` handles all the pages not found by the URL configuration file. But if we add another view with a name defined in the URL configuration, notice that the view renders correctly. \n",
    "\n",
    "Similarly, just as the code uses the `HttpResponse` object, we can also use `HttpResponseNotFound`. \n",
    "\n",
    "Different classes in Django represent different status codes and the `HttpResponseNotFound` class represents status code `404` Page not Found. "
   ]
  },
  {
   "cell_type": "code",
   "execution_count": null,
   "id": "fedb4165",
   "metadata": {},
   "outputs": [],
   "source": [
    "# myproject/views.py:\n",
    "\n",
    "from django.http import HttpResponse, HttpResponseNotFound\n",
    "\n",
    "def handler404(request, exception):\n",
    "    return HttpResponse(\"404 error Page not found\")\n",
    "\n",
    "def home(request):\n",
    "    return HttpResponseNotFound(\"Home page\") # modifcation line"
   ]
  },
  {
   "cell_type": "markdown",
   "id": "f7101ca7",
   "metadata": {},
   "source": [
    "Above we modified the code in the function's return statement, save the file, and refresh the browser. While there is no visible change(home/), the client receives the 404 status message internally.\n",
    "\n",
    "We can verify this from the browser's developer tools. Inspect the element by right-clicking on the mouse, go into the `Network` tab and clicking `Home`. Once we refresh the page and click `Home` again, notice 404 not found. \n",
    "\n",
    "Often developers will modify the string to add some HTML elements, such as headings and a button. Like this:"
   ]
  },
  {
   "cell_type": "code",
   "execution_count": null,
   "id": "1b7eccee",
   "metadata": {},
   "outputs": [],
   "source": [
    "# myproject/views.py:\n",
    "\n",
    "from django.http import HttpResponse, HttpResponseNotFound\n",
    "\n",
    "def handler404(request, exception):\n",
    "    return HttpResponse(\"404 error Page not found <br><br> <button onclick=\"\" href='';\"\")>Go to home page</button>\")\n",
    "\n",
    "def home(request):\n",
    "    return HttpResponseNotFound(\"Home page\") # modifcation line"
   ]
  },
  {
   "cell_type": "markdown",
   "id": "3c15596c",
   "metadata": {},
   "source": [
    "**It's generally considered best practice to create a custom error page that's easy to understand, consistent with the website's branding, and directs users back to the homepage.**"
   ]
  },
  {
   "cell_type": "markdown",
   "id": "fdbd093a",
   "metadata": {},
   "source": [
    "<pre id='l45'></pre>\n",
    "# Class based views"
   ]
  },
  {
   "cell_type": "markdown",
   "id": "2fa53e76",
   "metadata": {},
   "source": [
    "We have already learnt that we can respond to a web request in Django by creating a view function to return data using the `HttpResponse` object. In the background, the framework passes that HTTP request to our function expecting the HTTP response back. While this works for some use cases, developers often need a more robust solution for implementing more complicated application logic in a view. To help with this, Django provides something called a **class based view**. \n",
    "\n",
    "Class based views allow us to use views as objects and offer an alternative to function based views. Remember that a view is callable in that it can take a request and return a response. This process works great for the HTTP protocol. \n",
    "\n",
    "When dealing with HTTP, we use specific methods for the different types of requests such as `GET`, `POST`, `PUT` and `DELETE` and these are the core `CRUD` operations for any web page. \n",
    "\n",
    "If we use a function based view, WE need to perform some conditional logic on the request method, like an if else statement:\n",
    "\n",
    "<code>\n",
    "    from django.http import HttpResponse\n",
    "    def my_view(request):\n",
    "        if request.method=='GET':\n",
    "            ---view logic--\n",
    "            return HttpResponse\n",
    "</code>\n",
    "\n",
    "\n",
    "But class based views, uses a different approach than function based views.Instead of using conditional branching, such as if else statements, class based views respond to HTTP requests using class instance methods. "
   ]
  },
  {
   "cell_type": "code",
   "execution_count": null,
   "id": "5b6a2260",
   "metadata": {},
   "outputs": [],
   "source": [
    "# myproject/views.py:\n",
    "\n",
    "from django.http import HttpResponse\n",
    "from django.views import View\n",
    "\n",
    "class MyView(View):\n",
    "    def get(self, request):\n",
    "        # view logic\n",
    "        return Httpresponse('result')\n",
    "    def post(self, request):\n",
    "        # view logic\n",
    "        return Httpresponse('result')"
   ]
  },
  {
   "attachments": {
    "image.png": {
     "image/png": "[encoded data removed]"
    }
   },
   "cell_type": "markdown",
   "id": "fd2ce6e9",
   "metadata": {},
   "source": [
    "![image.png](attachment:image.png)\n",
    "\n",
    "Class based views, respond with different class instance methods to HTTP requests in place of writing conditional branches, such as using if else, statements inside the same function. \n",
    "\n",
    "The advantage of using a class based view in this scenario, is that:\n",
    "- It allows us to remove the conditional logic to check the incoming request for the type of method.\n",
    "- This simplifies the code and separates the logic, making it easy to understand. \n",
    "- Another helpful aspect is the ability to have object oriented techniques, such as `mixins` or `multiple inheritance`, which factor code into reusable components.\n",
    "\n",
    "In Django, we can extend the functionality of class based views using mixins. \n",
    "\n",
    "- `Mixins` are class based generic views that are flexible compared to their function based view equivalent. It can help to think of a mixin as a form of multiple inheritance.\n",
    "\n",
    "Some common mixins developers use are `Create`, `List`, `Detail`, `Update` and `Delete`. Let's explore these briefly now. \n",
    "- Use `Create` to create a model instance:- `class Menucreate(CreateView):` \n",
    "- Use `List` to list a query set:- `class MenuList(ListView):`\n",
    "- Use `Detail` to retrieve a model instance:- `class MenuDetailView(DetailView):` \n",
    "- Use `Update` to update a model instance:- `class MenuUpdateView(UpdateView):`\n",
    "- use `Delete` to delete a model instance:- `class MenuDeleteview(DeleteView):`\n",
    "\n",
    "**It's important to note that when using mixins, they can't be all used together. And in some cases it can make your code harder to read. So, it's best to use them wisely.** "
   ]
  },
  {
   "cell_type": "markdown",
   "id": "4427f0ca",
   "metadata": {},
   "source": [
    "<pre id='l46'></pre>\n",
    "# Setting up MySQL connection"
   ]
  },
  {
   "cell_type": "markdown",
   "id": "ca3eb732",
   "metadata": {},
   "source": [
    "MySQL is a popular database management system and can be used with Django when there is a heavy data load. \n",
    "\n",
    "Features of MySQL:\n",
    "- It's open source and well-documented. \n",
    "- It's reliable and quick as data storage is done efficiently in memory. \n",
    "- It's scalable and can work with small to vast amounts of data. \n",
    "- It's secure and provides a layer of security with encrypted password protection that is flexible and verification based. \n",
    "\n",
    "**Let's connect to MySQL database:**\n",
    "\n",
    "1. Firstly install `MySQL` from its official website(https://dev.mysql.com/downloads/installer/)\n",
    "2. Open MySQL shell and run following command one by one:\n",
    "\n",
    "    2.1 `CREATE DATABASE <database_name>;`\n",
    "    \n",
    "    2.2 `CREATE USER '<user_name>'@'localhost' IDENTIFIED BY '<password>';`\n",
    "    \n",
    "    2.3 `GRANT ALL ON *.* TO '<user_name>'@'localhost';`\n",
    "    \n",
    "    2.4 `flush privileges;`\n",
    "    \n",
    "3. Install database connector by command: `pip install mysqlclient`\n",
    "4. Open `settings.py`(myproject) and update the `DATABASES` with following lines of code to use MySQL database\n",
    "5. Run command: `python manage.py makemigrations`\n",
    "6. Run command: `python manage.py migrate`"
   ]
  },
  {
   "cell_type": "code",
   "execution_count": null,
   "id": "dd440d1e",
   "metadata": {},
   "outputs": [],
   "source": [
    "# Step4: myproject/settings.py:\n",
    "\n",
    "# Database\n",
    "# https://docs.djangoproject.com/en/4.2/ref/settings/#databases\n",
    "\n",
    "DATABASES = {\n",
    "    'default': {\n",
    "        'ENGINE': 'django.db.backends.mysql',\n",
    "        'NAME': 'mysqldb', # database name -> step 2.1\n",
    "        'HOST': '127.0.0.1', # OR 'localhost'\n",
    "        'PORT': '3306',\n",
    "        'USER': 'saurabh', # user name -> step 2.2\n",
    "        'PASSWORD': '844120', # password -> step 2.2\n",
    "    }\n",
    "}"
   ]
  },
  {
   "cell_type": "markdown",
   "id": "d86f0b98",
   "metadata": {},
   "source": [
    "<pre id='l47'></pre>\n",
    "# Testing in Django"
   ]
  },
  {
   "cell_type": "markdown",
   "id": "bb20365b",
   "metadata": {},
   "source": [
    "Testing considers metrics for quality, reliability and performance. It effectively saves a lot of time for the developer.\n",
    "\n",
    "A popular method is unit testing, which we can use to isolate a function class or method and only test that piece of code when working with unit testing, we need the following baseline information. First, the test targets granular features in your code, the smallest possible testable units, then the output of the test will be pass fail or an error.\n",
    "\n",
    "In Django. The unit test module uses a class based approach. we add the tests inside a class that inherits a class called `TestCase` from the Django test package. \n",
    "Suppose we wrote a model called `Reservation` and want to test it. First import that `TestCase` class that inherits test case, then import the `Reservation` model.\n",
    "<code>\n",
    "    from django.test import TestCase\n",
    "    from myapp.models import Reservation\n",
    "    \n",
    "    class ReservationTestCase(TestCase):\n",
    "        def createReservation(self):\n",
    "            Reservations.objects.create(name=\"John\", seat_count=4, time_entry=10:10)\n",
    "        \n",
    "        def test_seat_count(self):\n",
    "            \"\"\"The seat count is ensured to be less than 8\"\"\"\n",
    "            customer = Reservation.objects.get(name=\"John\")\n",
    "            # insert Assertion to test condition\n",
    "</code>\n",
    "    \n",
    "- Once you create the tests, use the command: `python manage.py test`. \n",
    "- Additionally, we can add specific configurations to run all tests within a specific package. For example, run the command: `python manage.py test reservations`. \n",
    "- To run a specific test case use the command: `python manage.py test reservations.tests.ReservationTestCase`. \n",
    "- Or suppose we want to run a specific test method inside a test case, for example, a method to calculate the seat count. we can run the command: `python manage.py test reservations.tests.ReservationTestCase.test_seat_count`. \n",
    "\n",
    "It's important to know that developers generally add these test cases under one or more files created under specific app folders. In a small project it's common for developers to name the file `tests.py` and in large projects that may contain multiple test files, it's common for developers to use names like `test_models.py` and `test_views.py`.\n",
    "\n",
    "Let's explore how we can test the model data inside a Django application using a TestCase:\n",
    "\n",
    "1. Open `models.py`(myapp) and create model named `Reservation` with filed first name, last name and booking time\n",
    "2. Check `tests.py` is present inside `myapp` or not. If not present the create file \"tests.py\" inside `myapp`.\n",
    "3. Open `tests.py`(myapp) and write the following lines of code\n",
    "4. Run command: `python manage.py makemigrations`\n",
    "5. Run command: `python manage.py migrate`\n",
    "6. Run command: `python manage.py test`"
   ]
  },
  {
   "cell_type": "code",
   "execution_count": null,
   "id": "86624d4e",
   "metadata": {},
   "outputs": [],
   "source": [
    "# Step1- myapp/models.py:\n",
    "\n",
    "from django.db import models\n",
    "\n",
    "class Reservations(models.Model):\n",
    "    first_name=models.CharField(max_length=100)\n",
    "    last_name=models.CharField(max_length=100)\n",
    "    booking_time=models.DateTimeField(auto_now=True)\n",
    "    \n",
    "    def __str__(self):\n",
    "        return self.first_name"
   ]
  },
  {
   "cell_type": "code",
   "execution_count": null,
   "id": "b82973a6",
   "metadata": {},
   "outputs": [],
   "source": [
    "# Step3- myapp/tests.py:\n",
    "\n",
    "from django.test import TestCase\n",
    "\n",
    "# Create your tests here.\n",
    "from datetime import datetime\n",
    "from .models import Reservations\n",
    "\n",
    "class ReservationModelTest(TestCase):\n",
    "    @classmethod\n",
    "    def setUpTestData(cls): # method present inside the TestCase that we use to add data inside the model \n",
    "        cls.reservation = Reservations.objects.create(\n",
    "            first_name = \"John\",\n",
    "            last_name = \"McDonald\"\n",
    "        )\n",
    "        \n",
    "    def test_field(self): #  to check if the first_name and the last_name that I received are in a string format\n",
    "        self.assertIsInstance(self.reservation.first_name, str) # assert statements to check both first_name are of the string datatype\n",
    "        self.assertIsInstance(self.reservation.last_name, str) # assert statements to check both first_name are of the string datatype\n",
    "        \n",
    "    def test_timestamp(self):\n",
    "        self.assertIsInstance(self.reservation.booking_time, datetime) # assert statements to check if the booking_time is of the datetime datatype"
   ]
  },
  {
   "cell_type": "markdown",
   "id": "b19d8389",
   "metadata": {},
   "source": [
    "# ENDD"
   ]
  },
  {
   "cell_type": "code",
   "execution_count": null,
   "id": "95146821",
   "metadata": {},
   "outputs": [],
   "source": []
  }
 ],
 "metadata": {
  "kernelspec": {
   "display_name": "Python 3 (ipykernel)",
   "language": "python",
   "name": "python3"
  },
  "language_info": {
   "codemirror_mode": {
    "name": "ipython",
    "version": 3
   },
   "file_extension": ".py",
   "mimetype": "text/x-python",
   "name": "python",
   "nbconvert_exporter": "python",
   "pygments_lexer": "ipython3",
   "version": "3.9.6"
  }
 },
 "nbformat": 4,
 "nbformat_minor": 5
}
