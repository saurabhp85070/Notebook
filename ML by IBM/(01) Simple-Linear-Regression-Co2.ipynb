{
 "cells": [
  {
   "cell_type": "markdown",
   "metadata": {
    "button": false,
    "new_sheet": false,
    "run_control": {
     "read_only": false
    }
   },
   "source": [
    "<p style=\"text-align:center\">\n",
    "    <a href=\"https://skills.network/?utm_medium=Exinfluencer&utm_source=Exinfluencer&utm_content=000026UJ&utm_term=10006555&utm_id=NA-SkillsNetwork-Channel-SkillsNetworkCoursesIBMDeveloperSkillsNetworkML0101ENSkillsNetwork1047-2023-01-01\">\n",
    "    <img src=\"https://cf-courses-data.s3.us.cloud-object-storage.appdomain.cloud/assets/logos/SN_web_lightmode.png\" width=\"200\" alt=\"Skills Network Logo\"  />\n",
    "    </a>\n",
    "</p>\n",
    "\n",
    "\n",
    "# Simple Linear Regression\n",
    "\n",
    "\n",
    "Estimated time needed: **15** minutes\n",
    "    \n",
    "\n",
    "## Objectives\n",
    "\n",
    "After completing this lab you will be able to:\n",
    "\n",
    "* Use scikit-learn to implement simple Linear Regression\n",
    "* Create a model, train it, test it and use the model\n"
   ]
  },
  {
   "cell_type": "markdown",
   "metadata": {
    "button": false,
    "new_sheet": false,
    "run_control": {
     "read_only": false
    }
   },
   "source": [
    "### Importing Needed packages\n"
   ]
  },
  {
   "cell_type": "code",
   "execution_count": 1,
   "metadata": {
    "button": false,
    "new_sheet": false,
    "run_control": {
     "read_only": false
    }
   },
   "outputs": [],
   "source": [
    "import matplotlib.pyplot as plt\n",
    "import pandas as pd\n",
    "import pylab as pl\n",
    "import numpy as np\n",
    "%matplotlib inline"
   ]
  },
  {
   "cell_type": "markdown",
   "metadata": {
    "button": false,
    "new_sheet": false,
    "run_control": {
     "read_only": false
    }
   },
   "source": [
    "### Downloading Data\n",
    "To download the data, we will use !wget to download it from IBM Object Storage.\n"
   ]
  },
  {
   "cell_type": "code",
   "execution_count": 2,
   "metadata": {
    "button": false,
    "new_sheet": false,
    "run_control": {
     "read_only": false
    }
   },
   "outputs": [
    {
     "name": "stderr",
     "output_type": "stream",
     "text": [
      "'wget' is not recognized as an internal or external command,\n",
      "operable program or batch file.\n"
     ]
    }
   ],
   "source": [
    "!wget -O FuelConsumption.csv https://cf-courses-data.s3.us.cloud-object-storage.appdomain.cloud/IBMDeveloperSkillsNetwork-ML0101EN-SkillsNetwork/labs/Module%202/data/FuelConsumptionCo2.csv"
   ]
  },
  {
   "cell_type": "markdown",
   "metadata": {},
   "source": [
    "__Did you know?__ When it comes to Machine Learning, you will likely be working with large datasets. As a business, where can you host your data? IBM is offering a unique opportunity for businesses, with 10 Tb of IBM Cloud Object Storage: [Sign up now for free](http://cocl.us/ML0101EN-IBM-Offer-CC)\n"
   ]
  },
  {
   "cell_type": "markdown",
   "metadata": {
    "button": false,
    "new_sheet": false,
    "run_control": {
     "read_only": false
    }
   },
   "source": [
    "\n",
    "## Understanding the Data\n",
    "\n",
    "### `FuelConsumption.csv`:\n",
    "We have downloaded a fuel consumption dataset, **`FuelConsumption.csv`**, which contains model-specific fuel consumption ratings and estimated carbon dioxide emissions for new light-duty vehicles for retail sale in Canada. [Dataset source](http://open.canada.ca/data/en/dataset/98f1a129-f628-4ce4-b24d-6f16bf24dd64?utm_medium=Exinfluencer&utm_source=Exinfluencer&utm_content=000026UJ&utm_term=10006555&utm_id=NA-SkillsNetwork-Channel-SkillsNetworkCoursesIBMDeveloperSkillsNetworkML0101ENSkillsNetwork1047-2023-01-01)\n",
    "\n",
    "- **MODELYEAR** e.g. 2014\n",
    "- **MAKE** e.g. Acura\n",
    "- **MODEL** e.g. ILX\n",
    "- **VEHICLE CLASS** e.g. SUV\n",
    "- **ENGINE SIZE** e.g. 4.7\n",
    "- **CYLINDERS** e.g 6\n",
    "- **TRANSMISSION** e.g. A6\n",
    "- **FUEL CONSUMPTION in CITY(L/100 km)** e.g. 9.9\n",
    "- **FUEL CONSUMPTION in HWY (L/100 km)** e.g. 8.9\n",
    "- **FUEL CONSUMPTION COMB (L/100 km)** e.g. 9.2\n",
    "- **CO2 EMISSIONS (g/km)** e.g. 182   --> low --> 0\n"
   ]
  },
  {
   "cell_type": "markdown",
   "metadata": {
    "button": false,
    "new_sheet": false,
    "run_control": {
     "read_only": false
    }
   },
   "source": [
    "## Reading the data in\n"
   ]
  },
  {
   "cell_type": "code",
   "execution_count": 3,
   "metadata": {},
   "outputs": [
    {
     "name": "stdout",
     "output_type": "stream",
     "text": [
      "Dataset downloaded successfully.\n"
     ]
    }
   ],
   "source": [
    "import requests\n",
    "\n",
    "url= \"https://cf-courses-data.s3.us.cloud-object-storage.appdomain.cloud/IBMDeveloperSkillsNetwork-ML0101EN-SkillsNetwork/labs/Module%202/data/FuelConsumptionCo2.csv\"\n",
    "output_file = \"E:/Datasets/FuelConsumption.csv\"\n",
    "\n",
    "response = requests.get(url)\n",
    "\n",
    "if response.status_code == 200:\n",
    "    with open(output_file, \"wb\") as f:\n",
    "        f.write(response.content)\n",
    "    print(\"Dataset downloaded successfully.\")\n",
    "else:\n",
    "    print(\"Failed to download dataset. Status code:\", response.status_code)"
   ]
  },
  {
   "cell_type": "code",
   "execution_count": 2,
   "metadata": {
    "button": false,
    "new_sheet": false,
    "run_control": {
     "read_only": false
    }
   },
   "outputs": [
    {
     "data": {
      "text/html": [
       "<div>\n",
       "<style scoped>\n",
       "    .dataframe tbody tr th:only-of-type {\n",
       "        vertical-align: middle;\n",
       "    }\n",
       "\n",
       "    .dataframe tbody tr th {\n",
       "        vertical-align: top;\n",
       "    }\n",
       "\n",
       "    .dataframe thead th {\n",
       "        text-align: right;\n",
       "    }\n",
       "</style>\n",
       "<table border=\"1\" class=\"dataframe\">\n",
       "  <thead>\n",
       "    <tr style=\"text-align: right;\">\n",
       "      <th></th>\n",
       "      <th>MODELYEAR</th>\n",
       "      <th>MAKE</th>\n",
       "      <th>MODEL</th>\n",
       "      <th>VEHICLECLASS</th>\n",
       "      <th>ENGINESIZE</th>\n",
       "      <th>CYLINDERS</th>\n",
       "      <th>TRANSMISSION</th>\n",
       "      <th>FUELTYPE</th>\n",
       "      <th>FUELCONSUMPTION_CITY</th>\n",
       "      <th>FUELCONSUMPTION_HWY</th>\n",
       "      <th>FUELCONSUMPTION_COMB</th>\n",
       "      <th>FUELCONSUMPTION_COMB_MPG</th>\n",
       "      <th>CO2EMISSIONS</th>\n",
       "    </tr>\n",
       "  </thead>\n",
       "  <tbody>\n",
       "    <tr>\n",
       "      <th>0</th>\n",
       "      <td>2014</td>\n",
       "      <td>ACURA</td>\n",
       "      <td>ILX</td>\n",
       "      <td>COMPACT</td>\n",
       "      <td>2.0</td>\n",
       "      <td>4</td>\n",
       "      <td>AS5</td>\n",
       "      <td>Z</td>\n",
       "      <td>9.9</td>\n",
       "      <td>6.7</td>\n",
       "      <td>8.5</td>\n",
       "      <td>33</td>\n",
       "      <td>196</td>\n",
       "    </tr>\n",
       "    <tr>\n",
       "      <th>1</th>\n",
       "      <td>2014</td>\n",
       "      <td>ACURA</td>\n",
       "      <td>ILX</td>\n",
       "      <td>COMPACT</td>\n",
       "      <td>2.4</td>\n",
       "      <td>4</td>\n",
       "      <td>M6</td>\n",
       "      <td>Z</td>\n",
       "      <td>11.2</td>\n",
       "      <td>7.7</td>\n",
       "      <td>9.6</td>\n",
       "      <td>29</td>\n",
       "      <td>221</td>\n",
       "    </tr>\n",
       "    <tr>\n",
       "      <th>2</th>\n",
       "      <td>2014</td>\n",
       "      <td>ACURA</td>\n",
       "      <td>ILX HYBRID</td>\n",
       "      <td>COMPACT</td>\n",
       "      <td>1.5</td>\n",
       "      <td>4</td>\n",
       "      <td>AV7</td>\n",
       "      <td>Z</td>\n",
       "      <td>6.0</td>\n",
       "      <td>5.8</td>\n",
       "      <td>5.9</td>\n",
       "      <td>48</td>\n",
       "      <td>136</td>\n",
       "    </tr>\n",
       "    <tr>\n",
       "      <th>3</th>\n",
       "      <td>2014</td>\n",
       "      <td>ACURA</td>\n",
       "      <td>MDX 4WD</td>\n",
       "      <td>SUV - SMALL</td>\n",
       "      <td>3.5</td>\n",
       "      <td>6</td>\n",
       "      <td>AS6</td>\n",
       "      <td>Z</td>\n",
       "      <td>12.7</td>\n",
       "      <td>9.1</td>\n",
       "      <td>11.1</td>\n",
       "      <td>25</td>\n",
       "      <td>255</td>\n",
       "    </tr>\n",
       "    <tr>\n",
       "      <th>4</th>\n",
       "      <td>2014</td>\n",
       "      <td>ACURA</td>\n",
       "      <td>RDX AWD</td>\n",
       "      <td>SUV - SMALL</td>\n",
       "      <td>3.5</td>\n",
       "      <td>6</td>\n",
       "      <td>AS6</td>\n",
       "      <td>Z</td>\n",
       "      <td>12.1</td>\n",
       "      <td>8.7</td>\n",
       "      <td>10.6</td>\n",
       "      <td>27</td>\n",
       "      <td>244</td>\n",
       "    </tr>\n",
       "  </tbody>\n",
       "</table>\n",
       "</div>"
      ],
      "text/plain": [
       "   MODELYEAR   MAKE       MODEL VEHICLECLASS  ENGINESIZE  CYLINDERS  \\\n",
       "0       2014  ACURA         ILX      COMPACT         2.0          4   \n",
       "1       2014  ACURA         ILX      COMPACT         2.4          4   \n",
       "2       2014  ACURA  ILX HYBRID      COMPACT         1.5          4   \n",
       "3       2014  ACURA     MDX 4WD  SUV - SMALL         3.5          6   \n",
       "4       2014  ACURA     RDX AWD  SUV - SMALL         3.5          6   \n",
       "\n",
       "  TRANSMISSION FUELTYPE  FUELCONSUMPTION_CITY  FUELCONSUMPTION_HWY  \\\n",
       "0          AS5        Z                   9.9                  6.7   \n",
       "1           M6        Z                  11.2                  7.7   \n",
       "2          AV7        Z                   6.0                  5.8   \n",
       "3          AS6        Z                  12.7                  9.1   \n",
       "4          AS6        Z                  12.1                  8.7   \n",
       "\n",
       "   FUELCONSUMPTION_COMB  FUELCONSUMPTION_COMB_MPG  CO2EMISSIONS  \n",
       "0                   8.5                        33           196  \n",
       "1                   9.6                        29           221  \n",
       "2                   5.9                        48           136  \n",
       "3                  11.1                        25           255  \n",
       "4                  10.6                        27           244  "
      ]
     },
     "execution_count": 2,
     "metadata": {},
     "output_type": "execute_result"
    }
   ],
   "source": [
    "df = pd.read_csv(\"E:/Datasets/FuelConsumption.csv\")\n",
    "\n",
    "# take a look at the dataset\n",
    "df.head()\n",
    "\n"
   ]
  },
  {
   "cell_type": "markdown",
   "metadata": {
    "button": false,
    "new_sheet": false,
    "run_control": {
     "read_only": false
    }
   },
   "source": [
    "### Data Exploration\n",
    "Let's first have a descriptive exploration on our data.\n"
   ]
  },
  {
   "cell_type": "code",
   "execution_count": 3,
   "metadata": {
    "button": false,
    "new_sheet": false,
    "run_control": {
     "read_only": false
    }
   },
   "outputs": [
    {
     "data": {
      "text/html": [
       "<div>\n",
       "<style scoped>\n",
       "    .dataframe tbody tr th:only-of-type {\n",
       "        vertical-align: middle;\n",
       "    }\n",
       "\n",
       "    .dataframe tbody tr th {\n",
       "        vertical-align: top;\n",
       "    }\n",
       "\n",
       "    .dataframe thead th {\n",
       "        text-align: right;\n",
       "    }\n",
       "</style>\n",
       "<table border=\"1\" class=\"dataframe\">\n",
       "  <thead>\n",
       "    <tr style=\"text-align: right;\">\n",
       "      <th></th>\n",
       "      <th>MODELYEAR</th>\n",
       "      <th>ENGINESIZE</th>\n",
       "      <th>CYLINDERS</th>\n",
       "      <th>FUELCONSUMPTION_CITY</th>\n",
       "      <th>FUELCONSUMPTION_HWY</th>\n",
       "      <th>FUELCONSUMPTION_COMB</th>\n",
       "      <th>FUELCONSUMPTION_COMB_MPG</th>\n",
       "      <th>CO2EMISSIONS</th>\n",
       "    </tr>\n",
       "  </thead>\n",
       "  <tbody>\n",
       "    <tr>\n",
       "      <th>count</th>\n",
       "      <td>1067.0</td>\n",
       "      <td>1067.000000</td>\n",
       "      <td>1067.000000</td>\n",
       "      <td>1067.000000</td>\n",
       "      <td>1067.000000</td>\n",
       "      <td>1067.000000</td>\n",
       "      <td>1067.000000</td>\n",
       "      <td>1067.000000</td>\n",
       "    </tr>\n",
       "    <tr>\n",
       "      <th>mean</th>\n",
       "      <td>2014.0</td>\n",
       "      <td>3.346298</td>\n",
       "      <td>5.794752</td>\n",
       "      <td>13.296532</td>\n",
       "      <td>9.474602</td>\n",
       "      <td>11.580881</td>\n",
       "      <td>26.441425</td>\n",
       "      <td>256.228679</td>\n",
       "    </tr>\n",
       "    <tr>\n",
       "      <th>std</th>\n",
       "      <td>0.0</td>\n",
       "      <td>1.415895</td>\n",
       "      <td>1.797447</td>\n",
       "      <td>4.101253</td>\n",
       "      <td>2.794510</td>\n",
       "      <td>3.485595</td>\n",
       "      <td>7.468702</td>\n",
       "      <td>63.372304</td>\n",
       "    </tr>\n",
       "    <tr>\n",
       "      <th>min</th>\n",
       "      <td>2014.0</td>\n",
       "      <td>1.000000</td>\n",
       "      <td>3.000000</td>\n",
       "      <td>4.600000</td>\n",
       "      <td>4.900000</td>\n",
       "      <td>4.700000</td>\n",
       "      <td>11.000000</td>\n",
       "      <td>108.000000</td>\n",
       "    </tr>\n",
       "    <tr>\n",
       "      <th>25%</th>\n",
       "      <td>2014.0</td>\n",
       "      <td>2.000000</td>\n",
       "      <td>4.000000</td>\n",
       "      <td>10.250000</td>\n",
       "      <td>7.500000</td>\n",
       "      <td>9.000000</td>\n",
       "      <td>21.000000</td>\n",
       "      <td>207.000000</td>\n",
       "    </tr>\n",
       "    <tr>\n",
       "      <th>50%</th>\n",
       "      <td>2014.0</td>\n",
       "      <td>3.400000</td>\n",
       "      <td>6.000000</td>\n",
       "      <td>12.600000</td>\n",
       "      <td>8.800000</td>\n",
       "      <td>10.900000</td>\n",
       "      <td>26.000000</td>\n",
       "      <td>251.000000</td>\n",
       "    </tr>\n",
       "    <tr>\n",
       "      <th>75%</th>\n",
       "      <td>2014.0</td>\n",
       "      <td>4.300000</td>\n",
       "      <td>8.000000</td>\n",
       "      <td>15.550000</td>\n",
       "      <td>10.850000</td>\n",
       "      <td>13.350000</td>\n",
       "      <td>31.000000</td>\n",
       "      <td>294.000000</td>\n",
       "    </tr>\n",
       "    <tr>\n",
       "      <th>max</th>\n",
       "      <td>2014.0</td>\n",
       "      <td>8.400000</td>\n",
       "      <td>12.000000</td>\n",
       "      <td>30.200000</td>\n",
       "      <td>20.500000</td>\n",
       "      <td>25.800000</td>\n",
       "      <td>60.000000</td>\n",
       "      <td>488.000000</td>\n",
       "    </tr>\n",
       "  </tbody>\n",
       "</table>\n",
       "</div>"
      ],
      "text/plain": [
       "       MODELYEAR   ENGINESIZE    CYLINDERS  FUELCONSUMPTION_CITY  \\\n",
       "count     1067.0  1067.000000  1067.000000           1067.000000   \n",
       "mean      2014.0     3.346298     5.794752             13.296532   \n",
       "std          0.0     1.415895     1.797447              4.101253   \n",
       "min       2014.0     1.000000     3.000000              4.600000   \n",
       "25%       2014.0     2.000000     4.000000             10.250000   \n",
       "50%       2014.0     3.400000     6.000000             12.600000   \n",
       "75%       2014.0     4.300000     8.000000             15.550000   \n",
       "max       2014.0     8.400000    12.000000             30.200000   \n",
       "\n",
       "       FUELCONSUMPTION_HWY  FUELCONSUMPTION_COMB  FUELCONSUMPTION_COMB_MPG  \\\n",
       "count          1067.000000           1067.000000               1067.000000   \n",
       "mean              9.474602             11.580881                 26.441425   \n",
       "std               2.794510              3.485595                  7.468702   \n",
       "min               4.900000              4.700000                 11.000000   \n",
       "25%               7.500000              9.000000                 21.000000   \n",
       "50%               8.800000             10.900000                 26.000000   \n",
       "75%              10.850000             13.350000                 31.000000   \n",
       "max              20.500000             25.800000                 60.000000   \n",
       "\n",
       "       CO2EMISSIONS  \n",
       "count   1067.000000  \n",
       "mean     256.228679  \n",
       "std       63.372304  \n",
       "min      108.000000  \n",
       "25%      207.000000  \n",
       "50%      251.000000  \n",
       "75%      294.000000  \n",
       "max      488.000000  "
      ]
     },
     "execution_count": 3,
     "metadata": {},
     "output_type": "execute_result"
    }
   ],
   "source": [
    "# summarize the data\n",
    "df.describe()"
   ]
  },
  {
   "cell_type": "markdown",
   "metadata": {},
   "source": [
    "Let's select some features to explore more.\n"
   ]
  },
  {
   "cell_type": "code",
   "execution_count": 17,
   "metadata": {
    "button": false,
    "new_sheet": false,
    "run_control": {
     "read_only": false
    }
   },
   "outputs": [
    {
     "data": {
      "text/html": [
       "<div>\n",
       "<style scoped>\n",
       "    .dataframe tbody tr th:only-of-type {\n",
       "        vertical-align: middle;\n",
       "    }\n",
       "\n",
       "    .dataframe tbody tr th {\n",
       "        vertical-align: top;\n",
       "    }\n",
       "\n",
       "    .dataframe thead th {\n",
       "        text-align: right;\n",
       "    }\n",
       "</style>\n",
       "<table border=\"1\" class=\"dataframe\">\n",
       "  <thead>\n",
       "    <tr style=\"text-align: right;\">\n",
       "      <th></th>\n",
       "      <th>ENGINESIZE</th>\n",
       "      <th>CYLINDERS</th>\n",
       "      <th>FUELCONSUMPTION_COMB</th>\n",
       "      <th>CO2EMISSIONS</th>\n",
       "    </tr>\n",
       "  </thead>\n",
       "  <tbody>\n",
       "    <tr>\n",
       "      <th>0</th>\n",
       "      <td>2.0</td>\n",
       "      <td>4</td>\n",
       "      <td>8.5</td>\n",
       "      <td>196</td>\n",
       "    </tr>\n",
       "    <tr>\n",
       "      <th>1</th>\n",
       "      <td>2.4</td>\n",
       "      <td>4</td>\n",
       "      <td>9.6</td>\n",
       "      <td>221</td>\n",
       "    </tr>\n",
       "    <tr>\n",
       "      <th>2</th>\n",
       "      <td>1.5</td>\n",
       "      <td>4</td>\n",
       "      <td>5.9</td>\n",
       "      <td>136</td>\n",
       "    </tr>\n",
       "    <tr>\n",
       "      <th>3</th>\n",
       "      <td>3.5</td>\n",
       "      <td>6</td>\n",
       "      <td>11.1</td>\n",
       "      <td>255</td>\n",
       "    </tr>\n",
       "    <tr>\n",
       "      <th>4</th>\n",
       "      <td>3.5</td>\n",
       "      <td>6</td>\n",
       "      <td>10.6</td>\n",
       "      <td>244</td>\n",
       "    </tr>\n",
       "    <tr>\n",
       "      <th>5</th>\n",
       "      <td>3.5</td>\n",
       "      <td>6</td>\n",
       "      <td>10.0</td>\n",
       "      <td>230</td>\n",
       "    </tr>\n",
       "    <tr>\n",
       "      <th>6</th>\n",
       "      <td>3.5</td>\n",
       "      <td>6</td>\n",
       "      <td>10.1</td>\n",
       "      <td>232</td>\n",
       "    </tr>\n",
       "    <tr>\n",
       "      <th>7</th>\n",
       "      <td>3.7</td>\n",
       "      <td>6</td>\n",
       "      <td>11.1</td>\n",
       "      <td>255</td>\n",
       "    </tr>\n",
       "    <tr>\n",
       "      <th>8</th>\n",
       "      <td>3.7</td>\n",
       "      <td>6</td>\n",
       "      <td>11.6</td>\n",
       "      <td>267</td>\n",
       "    </tr>\n",
       "  </tbody>\n",
       "</table>\n",
       "</div>"
      ],
      "text/plain": [
       "   ENGINESIZE  CYLINDERS  FUELCONSUMPTION_COMB  CO2EMISSIONS\n",
       "0         2.0          4                   8.5           196\n",
       "1         2.4          4                   9.6           221\n",
       "2         1.5          4                   5.9           136\n",
       "3         3.5          6                  11.1           255\n",
       "4         3.5          6                  10.6           244\n",
       "5         3.5          6                  10.0           230\n",
       "6         3.5          6                  10.1           232\n",
       "7         3.7          6                  11.1           255\n",
       "8         3.7          6                  11.6           267"
      ]
     },
     "execution_count": 17,
     "metadata": {},
     "output_type": "execute_result"
    }
   ],
   "source": [
    "cdf = df[['ENGINESIZE','CYLINDERS','FUELCONSUMPTION_COMB','CO2EMISSIONS']]\n",
    "cdf.head(9)"
   ]
  },
  {
   "cell_type": "code",
   "execution_count": null,
   "metadata": {},
   "outputs": [],
   "source": []
  },
  {
   "cell_type": "markdown",
   "metadata": {},
   "source": [
    "We can plot each of these features:\n"
   ]
  },
  {
   "cell_type": "code",
   "execution_count": 18,
   "metadata": {
    "button": false,
    "new_sheet": false,
    "run_control": {
     "read_only": false
    }
   },
   "outputs": [
    {
     "data": {
      "image/png": "[encoded data removed]",
      "text/plain": [
       "<Figure size 432x288 with 4 Axes>"
      ]
     },
     "metadata": {
      "needs_background": "light"
     },
     "output_type": "display_data"
    }
   ],
   "source": [
    "viz = cdf[['CYLINDERS','ENGINESIZE','CO2EMISSIONS','FUELCONSUMPTION_COMB']]\n",
    "viz.hist()\n",
    "plt.show()"
   ]
  },
  {
   "cell_type": "markdown",
   "metadata": {},
   "source": [
    "Now, let's plot each of these features against the Emission, to see how linear their relationship is:\n"
   ]
  },
  {
   "cell_type": "code",
   "execution_count": 19,
   "metadata": {
    "button": false,
    "new_sheet": false,
    "run_control": {
     "read_only": false
    }
   },
   "outputs": [
    {
     "data": {
      "image/png": "[encoded data removed]",
      "text/plain": [
       "<Figure size 432x288 with 1 Axes>"
      ]
     },
     "metadata": {
      "needs_background": "light"
     },
     "output_type": "display_data"
    }
   ],
   "source": [
    "plt.scatter(cdf.FUELCONSUMPTION_COMB, cdf.CO2EMISSIONS,  color='blue')\n",
    "plt.xlabel(\"FUELCONSUMPTION_COMB\")\n",
    "plt.ylabel(\"Emission\")\n",
    "plt.show()"
   ]
  },
  {
   "cell_type": "code",
   "execution_count": 20,
   "metadata": {
    "button": false,
    "new_sheet": false,
    "run_control": {
     "read_only": false
    },
    "scrolled": true
   },
   "outputs": [
    {
     "data": {
      "image/png": "[encoded data removed]",
      "text/plain": [
       "<Figure size 432x288 with 1 Axes>"
      ]
     },
     "metadata": {
      "needs_background": "light"
     },
     "output_type": "display_data"
    }
   ],
   "source": [
    "plt.scatter(cdf.ENGINESIZE, cdf.CO2EMISSIONS,  color='blue')\n",
    "plt.xlabel(\"Engine size\")\n",
    "plt.ylabel(\"Emission\")\n",
    "plt.show()"
   ]
  },
  {
   "cell_type": "markdown",
   "metadata": {},
   "source": [
    "## Practice\n",
    "Plot __CYLINDER__ vs the Emission, to see how linear is their relationship is:\n"
   ]
  },
  {
   "cell_type": "code",
   "execution_count": 21,
   "metadata": {
    "button": false,
    "new_sheet": false,
    "run_control": {
     "read_only": false
    }
   },
   "outputs": [
    {
     "data": {
      "image/png": "[encoded data removed]",
      "text/plain": [
       "<Figure size 432x288 with 1 Axes>"
      ]
     },
     "metadata": {
      "needs_background": "light"
     },
     "output_type": "display_data"
    }
   ],
   "source": [
    "# write your code here\n",
    "\n",
    "plt.scatter(cdf.CYLINDERS, cdf.CO2EMISSIONS, color='blue')\n",
    "plt.xlabel(\"Cylinders\")\n",
    "plt.ylabel(\"Emission\")\n",
    "plt.show()"
   ]
  },
  {
   "cell_type": "markdown",
   "metadata": {},
   "source": [
    "<details><summary>Click here for the solution</summary>\n",
    "\n",
    "```python    \n",
    "plt.scatter(cdf.CYLINDERS, cdf.CO2EMISSIONS, color='blue')\n",
    "plt.xlabel(\"Cylinders\")\n",
    "plt.ylabel(\"Emission\")\n",
    "plt.show()\n",
    "\n",
    "```\n",
    "\n",
    "</details>\n"
   ]
  },
  {
   "cell_type": "markdown",
   "metadata": {
    "button": false,
    "new_sheet": false,
    "run_control": {
     "read_only": false
    }
   },
   "source": [
    "#### Creating train and test dataset\n",
    "Train/Test Split involves splitting the dataset into training and testing sets that are mutually exclusive. After which, you train with the training set and test with the testing set. \n",
    "This will provide a more accurate evaluation on out-of-sample accuracy because the testing dataset is not part of the dataset that have been used to train the model. Therefore, it gives us a better understanding of how well our model generalizes on new data.\n",
    "\n",
    "This means that we know the outcome of each data point in the testing dataset, making it great to test with! Since this data has not been used to train the model, the model has no knowledge of the outcome of these data points. So, in essence, it is truly an out-of-sample testing.\n",
    "\n",
    "Let's split our dataset into train and test sets. 80% of the entire dataset will be used for training and 20% for testing. We create a mask to select random rows using __np.random.rand()__ function: \n"
   ]
  },
  {
   "cell_type": "code",
   "execution_count": 22,
   "metadata": {},
   "outputs": [
    {
     "data": {
      "text/plain": [
       "(1067, 13)"
      ]
     },
     "execution_count": 22,
     "metadata": {},
     "output_type": "execute_result"
    }
   ],
   "source": [
    "df.shape"
   ]
  },
  {
   "cell_type": "code",
   "execution_count": 23,
   "metadata": {},
   "outputs": [
    {
     "name": "stdout",
     "output_type": "stream",
     "text": [
      "1067\n"
     ]
    }
   ],
   "source": [
    "print(len(df))"
   ]
  },
  {
   "cell_type": "code",
   "execution_count": 24,
   "metadata": {
    "button": false,
    "new_sheet": false,
    "run_control": {
     "read_only": false
    }
   },
   "outputs": [],
   "source": [
    "msk = np.random.rand(len(df)) < 0.8\n",
    "# creates an array of random numbers between 0 and 1, and then the condition < 0.8 checks which values are less than 0.8. \n",
    "\n",
    "train = cdf[msk]\n",
    "# This line uses the boolean mask msk to filter the rows from the DataFrame cdf where the corresponding element in msk \n",
    "# is True.  So, train will contain approximately 80% of the rows from cdf based on the random condition.\n",
    "\n",
    "test = cdf[~msk]"
   ]
  },
  {
   "cell_type": "code",
   "execution_count": 25,
   "metadata": {},
   "outputs": [
    {
     "data": {
      "text/plain": [
       "array([ True,  True,  True, ...,  True,  True, False])"
      ]
     },
     "execution_count": 25,
     "metadata": {},
     "output_type": "execute_result"
    }
   ],
   "source": [
    "msk"
   ]
  },
  {
   "cell_type": "code",
   "execution_count": 26,
   "metadata": {},
   "outputs": [
    {
     "data": {
      "text/plain": [
       "array([False, False, False, ..., False, False,  True])"
      ]
     },
     "execution_count": 26,
     "metadata": {},
     "output_type": "execute_result"
    }
   ],
   "source": [
    "~msk\n",
    "# This line uses the negation (~) of the boolean mask msk to filter the rows from the DataFrame cdf where \n",
    "# the corresponding element in msk is False. So, test will contain approximately 20% of the rows from cdf based \n",
    "# on the random condition."
   ]
  },
  {
   "cell_type": "code",
   "execution_count": 27,
   "metadata": {},
   "outputs": [
    {
     "data": {
      "text/html": [
       "<div>\n",
       "<style scoped>\n",
       "    .dataframe tbody tr th:only-of-type {\n",
       "        vertical-align: middle;\n",
       "    }\n",
       "\n",
       "    .dataframe tbody tr th {\n",
       "        vertical-align: top;\n",
       "    }\n",
       "\n",
       "    .dataframe thead th {\n",
       "        text-align: right;\n",
       "    }\n",
       "</style>\n",
       "<table border=\"1\" class=\"dataframe\">\n",
       "  <thead>\n",
       "    <tr style=\"text-align: right;\">\n",
       "      <th></th>\n",
       "      <th>ENGINESIZE</th>\n",
       "      <th>CYLINDERS</th>\n",
       "      <th>FUELCONSUMPTION_COMB</th>\n",
       "      <th>CO2EMISSIONS</th>\n",
       "    </tr>\n",
       "  </thead>\n",
       "  <tbody>\n",
       "    <tr>\n",
       "      <th>0</th>\n",
       "      <td>2.0</td>\n",
       "      <td>4</td>\n",
       "      <td>8.5</td>\n",
       "      <td>196</td>\n",
       "    </tr>\n",
       "    <tr>\n",
       "      <th>1</th>\n",
       "      <td>2.4</td>\n",
       "      <td>4</td>\n",
       "      <td>9.6</td>\n",
       "      <td>221</td>\n",
       "    </tr>\n",
       "    <tr>\n",
       "      <th>2</th>\n",
       "      <td>1.5</td>\n",
       "      <td>4</td>\n",
       "      <td>5.9</td>\n",
       "      <td>136</td>\n",
       "    </tr>\n",
       "    <tr>\n",
       "      <th>5</th>\n",
       "      <td>3.5</td>\n",
       "      <td>6</td>\n",
       "      <td>10.0</td>\n",
       "      <td>230</td>\n",
       "    </tr>\n",
       "    <tr>\n",
       "      <th>7</th>\n",
       "      <td>3.7</td>\n",
       "      <td>6</td>\n",
       "      <td>11.1</td>\n",
       "      <td>255</td>\n",
       "    </tr>\n",
       "    <tr>\n",
       "      <th>...</th>\n",
       "      <td>...</td>\n",
       "      <td>...</td>\n",
       "      <td>...</td>\n",
       "      <td>...</td>\n",
       "    </tr>\n",
       "    <tr>\n",
       "      <th>1060</th>\n",
       "      <td>3.0</td>\n",
       "      <td>6</td>\n",
       "      <td>11.5</td>\n",
       "      <td>264</td>\n",
       "    </tr>\n",
       "    <tr>\n",
       "      <th>1062</th>\n",
       "      <td>3.0</td>\n",
       "      <td>6</td>\n",
       "      <td>11.8</td>\n",
       "      <td>271</td>\n",
       "    </tr>\n",
       "    <tr>\n",
       "      <th>1063</th>\n",
       "      <td>3.2</td>\n",
       "      <td>6</td>\n",
       "      <td>11.5</td>\n",
       "      <td>264</td>\n",
       "    </tr>\n",
       "    <tr>\n",
       "      <th>1064</th>\n",
       "      <td>3.0</td>\n",
       "      <td>6</td>\n",
       "      <td>11.8</td>\n",
       "      <td>271</td>\n",
       "    </tr>\n",
       "    <tr>\n",
       "      <th>1065</th>\n",
       "      <td>3.2</td>\n",
       "      <td>6</td>\n",
       "      <td>11.3</td>\n",
       "      <td>260</td>\n",
       "    </tr>\n",
       "  </tbody>\n",
       "</table>\n",
       "<p>854 rows × 4 columns</p>\n",
       "</div>"
      ],
      "text/plain": [
       "      ENGINESIZE  CYLINDERS  FUELCONSUMPTION_COMB  CO2EMISSIONS\n",
       "0            2.0          4                   8.5           196\n",
       "1            2.4          4                   9.6           221\n",
       "2            1.5          4                   5.9           136\n",
       "5            3.5          6                  10.0           230\n",
       "7            3.7          6                  11.1           255\n",
       "...          ...        ...                   ...           ...\n",
       "1060         3.0          6                  11.5           264\n",
       "1062         3.0          6                  11.8           271\n",
       "1063         3.2          6                  11.5           264\n",
       "1064         3.0          6                  11.8           271\n",
       "1065         3.2          6                  11.3           260\n",
       "\n",
       "[854 rows x 4 columns]"
      ]
     },
     "execution_count": 27,
     "metadata": {},
     "output_type": "execute_result"
    }
   ],
   "source": [
    "train"
   ]
  },
  {
   "cell_type": "code",
   "execution_count": 28,
   "metadata": {},
   "outputs": [
    {
     "data": {
      "text/html": [
       "<div>\n",
       "<style scoped>\n",
       "    .dataframe tbody tr th:only-of-type {\n",
       "        vertical-align: middle;\n",
       "    }\n",
       "\n",
       "    .dataframe tbody tr th {\n",
       "        vertical-align: top;\n",
       "    }\n",
       "\n",
       "    .dataframe thead th {\n",
       "        text-align: right;\n",
       "    }\n",
       "</style>\n",
       "<table border=\"1\" class=\"dataframe\">\n",
       "  <thead>\n",
       "    <tr style=\"text-align: right;\">\n",
       "      <th></th>\n",
       "      <th>ENGINESIZE</th>\n",
       "      <th>CYLINDERS</th>\n",
       "      <th>FUELCONSUMPTION_COMB</th>\n",
       "      <th>CO2EMISSIONS</th>\n",
       "    </tr>\n",
       "  </thead>\n",
       "  <tbody>\n",
       "    <tr>\n",
       "      <th>3</th>\n",
       "      <td>3.5</td>\n",
       "      <td>6</td>\n",
       "      <td>11.1</td>\n",
       "      <td>255</td>\n",
       "    </tr>\n",
       "    <tr>\n",
       "      <th>4</th>\n",
       "      <td>3.5</td>\n",
       "      <td>6</td>\n",
       "      <td>10.6</td>\n",
       "      <td>244</td>\n",
       "    </tr>\n",
       "    <tr>\n",
       "      <th>6</th>\n",
       "      <td>3.5</td>\n",
       "      <td>6</td>\n",
       "      <td>10.1</td>\n",
       "      <td>232</td>\n",
       "    </tr>\n",
       "    <tr>\n",
       "      <th>13</th>\n",
       "      <td>5.9</td>\n",
       "      <td>12</td>\n",
       "      <td>15.6</td>\n",
       "      <td>359</td>\n",
       "    </tr>\n",
       "    <tr>\n",
       "      <th>31</th>\n",
       "      <td>4.0</td>\n",
       "      <td>8</td>\n",
       "      <td>11.3</td>\n",
       "      <td>260</td>\n",
       "    </tr>\n",
       "    <tr>\n",
       "      <th>...</th>\n",
       "      <td>...</td>\n",
       "      <td>...</td>\n",
       "      <td>...</td>\n",
       "      <td>...</td>\n",
       "    </tr>\n",
       "    <tr>\n",
       "      <th>1043</th>\n",
       "      <td>1.8</td>\n",
       "      <td>4</td>\n",
       "      <td>8.6</td>\n",
       "      <td>198</td>\n",
       "    </tr>\n",
       "    <tr>\n",
       "      <th>1054</th>\n",
       "      <td>3.6</td>\n",
       "      <td>6</td>\n",
       "      <td>12.2</td>\n",
       "      <td>281</td>\n",
       "    </tr>\n",
       "    <tr>\n",
       "      <th>1059</th>\n",
       "      <td>3.2</td>\n",
       "      <td>6</td>\n",
       "      <td>10.2</td>\n",
       "      <td>235</td>\n",
       "    </tr>\n",
       "    <tr>\n",
       "      <th>1061</th>\n",
       "      <td>3.2</td>\n",
       "      <td>6</td>\n",
       "      <td>11.2</td>\n",
       "      <td>258</td>\n",
       "    </tr>\n",
       "    <tr>\n",
       "      <th>1066</th>\n",
       "      <td>3.2</td>\n",
       "      <td>6</td>\n",
       "      <td>12.8</td>\n",
       "      <td>294</td>\n",
       "    </tr>\n",
       "  </tbody>\n",
       "</table>\n",
       "<p>213 rows × 4 columns</p>\n",
       "</div>"
      ],
      "text/plain": [
       "      ENGINESIZE  CYLINDERS  FUELCONSUMPTION_COMB  CO2EMISSIONS\n",
       "3            3.5          6                  11.1           255\n",
       "4            3.5          6                  10.6           244\n",
       "6            3.5          6                  10.1           232\n",
       "13           5.9         12                  15.6           359\n",
       "31           4.0          8                  11.3           260\n",
       "...          ...        ...                   ...           ...\n",
       "1043         1.8          4                   8.6           198\n",
       "1054         3.6          6                  12.2           281\n",
       "1059         3.2          6                  10.2           235\n",
       "1061         3.2          6                  11.2           258\n",
       "1066         3.2          6                  12.8           294\n",
       "\n",
       "[213 rows x 4 columns]"
      ]
     },
     "execution_count": 28,
     "metadata": {},
     "output_type": "execute_result"
    }
   ],
   "source": [
    "test"
   ]
  },
  {
   "cell_type": "markdown",
   "metadata": {},
   "source": [
    "## Before training let's understand this first"
   ]
  },
  {
   "cell_type": "code",
   "execution_count": 29,
   "metadata": {},
   "outputs": [
    {
     "data": {
      "text/plain": [
       "pandas.core.frame.DataFrame"
      ]
     },
     "execution_count": 29,
     "metadata": {},
     "output_type": "execute_result"
    }
   ],
   "source": [
    "type(df) # dataframe"
   ]
  },
  {
   "cell_type": "code",
   "execution_count": 30,
   "metadata": {},
   "outputs": [
    {
     "data": {
      "text/plain": [
       "pandas.core.series.Series"
      ]
     },
     "execution_count": 30,
     "metadata": {},
     "output_type": "execute_result"
    }
   ],
   "source": [
    "type(df['ENGINESIZE']) # series"
   ]
  },
  {
   "cell_type": "code",
   "execution_count": 31,
   "metadata": {},
   "outputs": [
    {
     "data": {
      "text/plain": [
       "pandas.core.frame.DataFrame"
      ]
     },
     "execution_count": 31,
     "metadata": {},
     "output_type": "execute_result"
    }
   ],
   "source": [
    "type(df[['ENGINESIZE']]) # dataframe"
   ]
  },
  {
   "cell_type": "code",
   "execution_count": 34,
   "metadata": {},
   "outputs": [
    {
     "data": {
      "text/plain": [
       "pandas.core.frame.DataFrame"
      ]
     },
     "execution_count": 34,
     "metadata": {},
     "output_type": "execute_result"
    }
   ],
   "source": [
    "type(cdf)"
   ]
  },
  {
   "cell_type": "code",
   "execution_count": 35,
   "metadata": {},
   "outputs": [
    {
     "data": {
      "text/plain": [
       "pandas.core.frame.DataFrame"
      ]
     },
     "execution_count": 35,
     "metadata": {},
     "output_type": "execute_result"
    }
   ],
   "source": [
    "type(train)"
   ]
  },
  {
   "cell_type": "code",
   "execution_count": 36,
   "metadata": {},
   "outputs": [
    {
     "data": {
      "text/plain": [
       "pandas.core.frame.DataFrame"
      ]
     },
     "execution_count": 36,
     "metadata": {},
     "output_type": "execute_result"
    }
   ],
   "source": [
    "type(test)"
   ]
  },
  {
   "cell_type": "code",
   "execution_count": 44,
   "metadata": {},
   "outputs": [
    {
     "name": "stdout",
     "output_type": "stream",
     "text": [
      "<class 'pandas.core.frame.DataFrame'>\n"
     ]
    },
    {
     "data": {
      "text/html": [
       "<div>\n",
       "<style scoped>\n",
       "    .dataframe tbody tr th:only-of-type {\n",
       "        vertical-align: middle;\n",
       "    }\n",
       "\n",
       "    .dataframe tbody tr th {\n",
       "        vertical-align: top;\n",
       "    }\n",
       "\n",
       "    .dataframe thead th {\n",
       "        text-align: right;\n",
       "    }\n",
       "</style>\n",
       "<table border=\"1\" class=\"dataframe\">\n",
       "  <thead>\n",
       "    <tr style=\"text-align: right;\">\n",
       "      <th></th>\n",
       "      <th>ENGINESIZE</th>\n",
       "    </tr>\n",
       "  </thead>\n",
       "  <tbody>\n",
       "    <tr>\n",
       "      <th>0</th>\n",
       "      <td>2.0</td>\n",
       "    </tr>\n",
       "    <tr>\n",
       "      <th>1</th>\n",
       "      <td>2.4</td>\n",
       "    </tr>\n",
       "    <tr>\n",
       "      <th>2</th>\n",
       "      <td>1.5</td>\n",
       "    </tr>\n",
       "    <tr>\n",
       "      <th>5</th>\n",
       "      <td>3.5</td>\n",
       "    </tr>\n",
       "    <tr>\n",
       "      <th>7</th>\n",
       "      <td>3.7</td>\n",
       "    </tr>\n",
       "    <tr>\n",
       "      <th>...</th>\n",
       "      <td>...</td>\n",
       "    </tr>\n",
       "    <tr>\n",
       "      <th>1060</th>\n",
       "      <td>3.0</td>\n",
       "    </tr>\n",
       "    <tr>\n",
       "      <th>1062</th>\n",
       "      <td>3.0</td>\n",
       "    </tr>\n",
       "    <tr>\n",
       "      <th>1063</th>\n",
       "      <td>3.2</td>\n",
       "    </tr>\n",
       "    <tr>\n",
       "      <th>1064</th>\n",
       "      <td>3.0</td>\n",
       "    </tr>\n",
       "    <tr>\n",
       "      <th>1065</th>\n",
       "      <td>3.2</td>\n",
       "    </tr>\n",
       "  </tbody>\n",
       "</table>\n",
       "<p>854 rows × 1 columns</p>\n",
       "</div>"
      ],
      "text/plain": [
       "      ENGINESIZE\n",
       "0            2.0\n",
       "1            2.4\n",
       "2            1.5\n",
       "5            3.5\n",
       "7            3.7\n",
       "...          ...\n",
       "1060         3.0\n",
       "1062         3.0\n",
       "1063         3.2\n",
       "1064         3.0\n",
       "1065         3.2\n",
       "\n",
       "[854 rows x 1 columns]"
      ]
     },
     "execution_count": 44,
     "metadata": {},
     "output_type": "execute_result"
    }
   ],
   "source": [
    "a=train[['ENGINESIZE']]\n",
    "print(type(a))\n",
    "\n",
    "a"
   ]
  },
  {
   "cell_type": "code",
   "execution_count": 45,
   "metadata": {},
   "outputs": [
    {
     "name": "stdout",
     "output_type": "stream",
     "text": [
      "<class 'pandas.core.series.Series'>\n"
     ]
    },
    {
     "data": {
      "text/plain": [
       "0       2.0\n",
       "1       2.4\n",
       "2       1.5\n",
       "5       3.5\n",
       "7       3.7\n",
       "       ... \n",
       "1060    3.0\n",
       "1062    3.0\n",
       "1063    3.2\n",
       "1064    3.0\n",
       "1065    3.2\n",
       "Name: ENGINESIZE, Length: 854, dtype: float64"
      ]
     },
     "execution_count": 45,
     "metadata": {},
     "output_type": "execute_result"
    }
   ],
   "source": [
    "a=train['ENGINESIZE']\n",
    "print(type(a))\n",
    "\n",
    "a"
   ]
  },
  {
   "cell_type": "code",
   "execution_count": 49,
   "metadata": {},
   "outputs": [
    {
     "name": "stdout",
     "output_type": "stream",
     "text": [
      "<class 'numpy.ndarray'>\n"
     ]
    }
   ],
   "source": [
    "b1=np.asanyarray(train['ENGINESIZE'])\n",
    "print(type(b1))"
   ]
  },
  {
   "cell_type": "code",
   "execution_count": 50,
   "metadata": {},
   "outputs": [
    {
     "data": {
      "text/plain": [
       "(854,)"
      ]
     },
     "execution_count": 50,
     "metadata": {},
     "output_type": "execute_result"
    }
   ],
   "source": [
    "b1.shape"
   ]
  },
  {
   "cell_type": "code",
   "execution_count": 52,
   "metadata": {},
   "outputs": [
    {
     "data": {
      "text/plain": [
       "1"
      ]
     },
     "execution_count": 52,
     "metadata": {},
     "output_type": "execute_result"
    }
   ],
   "source": [
    "b1.ndim"
   ]
  },
  {
   "cell_type": "code",
   "execution_count": 53,
   "metadata": {},
   "outputs": [
    {
     "name": "stdout",
     "output_type": "stream",
     "text": [
      "<class 'numpy.ndarray'>\n"
     ]
    }
   ],
   "source": [
    "b2=np.asanyarray(train[['ENGINESIZE']])\n",
    "print(type(b2))"
   ]
  },
  {
   "cell_type": "code",
   "execution_count": 54,
   "metadata": {},
   "outputs": [
    {
     "data": {
      "text/plain": [
       "(854, 1)"
      ]
     },
     "execution_count": 54,
     "metadata": {},
     "output_type": "execute_result"
    }
   ],
   "source": [
    "b2.shape"
   ]
  },
  {
   "cell_type": "code",
   "execution_count": 55,
   "metadata": {},
   "outputs": [
    {
     "data": {
      "text/plain": [
       "2"
      ]
     },
     "execution_count": 55,
     "metadata": {},
     "output_type": "execute_result"
    }
   ],
   "source": [
    "b2.ndim"
   ]
  },
  {
   "cell_type": "code",
   "execution_count": 57,
   "metadata": {},
   "outputs": [
    {
     "name": "stdout",
     "output_type": "stream",
     "text": [
      "[2.  2.4 1.5 3.5 3.7 3.7 2.4 2.4 3.5 5.9 4.7 4.7 4.7 4.7 5.9 2.  2.  2.\n",
      " 2.  2.  2.  2.  3.  3.  3.  3.  3.  3.  3.  4.  6.3 3.  2.  2.  3.  3.\n",
      " 3.  4.2 4.2 5.2 5.2 4.2 5.2 4.2 4.  3.  3.  3.  3.  3.  4.  4.  3.  2.\n",
      " 2.  2.  2.  4.  6.  4.  6.  6.  6.8 2.  2.  2.  2.  2.  2.  2.  2.  2.\n",
      " 3.  3.  3.  3.  3.  2.  2.  2.  3.  3.  3.  3.  3.  4.4 4.4 3.  4.4 4.4\n",
      " 3.  4.4 3.  3.  3.  4.4 4.4 4.4 4.4 4.4 4.4 4.4 4.4 2.  3.  3.  3.  4.4\n",
      " 4.4 3.  2.  2.  3.  3.  3.  3.6 1.4 3.6 3.6 3.6 2.4 2.  2.  2.  2.4 2.\n",
      " 2.4 2.  2.  3.6 2.  3.6 3.6 2.  3.6 2.  3.6 3.6 3.  3.6 3.  3.6 6.2 6.2\n",
      " 6.2 6.2 6.2 6.2 6.2 6.2 3.6 3.6 3.6 3.6 3.6 3.6 6.2 6.2 6.2 6.2 6.2 1.4\n",
      " 1.4 1.8 2.  1.4 1.4 2.4 3.6 3.6 4.3 5.3 5.3 5.3 5.3 5.3 5.3 5.3 5.3 5.3\n",
      " 5.3 5.3 4.8 6.  6.  6.  6.  2.5 3.6 3.6 2.4 2.  2.5 2.4 4.3 4.3 5.3 5.3\n",
      " 6.2 4.3 5.3 6.2 1.4 1.4 1.8 1.8 1.4 1.4 1.8 1.8 1.4 1.4 1.4 1.2 5.3 5.3\n",
      " 5.3 5.3 5.3 3.6 3.6 1.4 1.4 1.4 2.4 2.4 3.6 3.6 2.4 3.6 3.6 5.7 3.6 5.7\n",
      " 3.6 3.6 3.6 3.6 3.6 2.4 2.4 3.6 3.6 5.7 6.4 3.6 3.6 5.7 3.6 5.7 3.6 3.6\n",
      " 3.6 3.6 3.6 6.4 2.  2.4 2.4 2.  2.  2.4 2.4 1.4 1.4 5.7 3.6 3.6 3.6 3.6\n",
      " 2.4 3.6 3.6 1.4 1.4 1.4 1.4 1.4 1.4 2.  4.6 4.6 5.4 4.6 4.6 6.8 5.4 5.4\n",
      " 2.  3.5 3.5 3.7 1.6 2.5 1.6 2.  5.4 5.4 2.  3.5 3.5 3.5 3.5 3.5 3.5 6.2\n",
      " 3.5 3.5 6.2 3.7 3.7 5.  5.  3.7 3.7 3.7 3.7 5.  5.  5.  6.2 1.6 1.6 3.5\n",
      " 3.5 3.5 2.  2.  2.  2.  2.  2.  2.  1.5 2.  2.5 1.5 2.  3.7 3.7 5.8 3.7\n",
      " 2.  3.5 3.5 3.5 3.5 3.5 1.6 2.5 1.6 2.5 3.6 3.6 4.3 5.3 5.3 5.3 5.3 5.3\n",
      " 5.3 5.3 5.3 4.8 6.  6.  6.  6.  4.3 4.3 5.3 5.3 6.2 4.3 4.3 5.3 5.3 2.4\n",
      " 3.6 3.6 3.6 5.3 5.3 5.3 6.2 6.2 6.2 6.2 5.3 5.3 5.3 2.4 2.4 2.4 3.5 3.5\n",
      " 3.5 2.  1.8 1.8 3.5 2.4 1.5 1.5 3.5 3.5 1.6 2.  2.  5.  3.8 3.3 3.3 2.4\n",
      " 2.  2.  2.4 2.  2.  2.4 2.  2.4 1.6 1.6 1.6 3.7 3.7 3.5 3.7 3.7 3.7 3.7\n",
      " 5.6 5.6 3.5 3.7 3.5 3.5 2.5 3.7 5.  5.6 3.  3.  5.  2.  3.  5.  5.  3.\n",
      " 5.  3.  5.  5.  5.  5.  5.  5.  5.  5.  2.4 3.2 2.4 3.2 2.4 2.4 2.  2.4\n",
      " 2.4 2.4 2.4 2.4 5.7 3.  3.6 3.6 6.4 2.  2.  2.4 3.6 3.6 3.6 3.6 3.3 1.8\n",
      " 1.8 2.  1.6 1.6 2.  1.6 1.6 2.  2.  2.  1.6 1.6 2.  2.  2.4 3.3 2.4 3.3\n",
      " 1.6 2.  2.  2.4 2.4 2.  2.4 6.5 5.2 5.2 2.  3.  2.  5.  5.  5.  3.  3.\n",
      " 5.  5.  5.  3.  3.  5.  5.  1.8 2.5 3.5 3.5 3.5 2.5 2.5 3.5 3.5 3.5 5.\n",
      " 4.6 4.6 4.6 5.7 3.5 3.5 3.5 3.5 3.7 3.5 2.  3.7 3.7 2.  5.4 5.4 3.  3.8\n",
      " 2.  2.  2.5 2.  3.7 1.5 2.  2.  2.5 2.5 2.  2.  2.5 2.5 2.  2.5 2.5 2.5\n",
      " 2.5 2.  2.  1.8 1.8 3.5 3.5 3.5 3.5 3.5 6.2 6.2 4.7 5.5 2.  2.  4.7 5.5\n",
      " 5.5 3.5 3.5 3.5 3.5 3.5 3.5 4.7 4.7 5.5 5.5 5.5 4.7 4.7 2.1 3.5 3.5 3.\n",
      " 4.7 4.7 5.5 4.7 5.5 1.8 1.8 6.2 6.2 1.6 1.6 1.6 1.6 1.6 1.6 1.6 1.6 1.6\n",
      " 1.6 1.6 1.6 1.6 1.6 1.6 1.6 1.6 1.6 1.6 1.6 1.6 1.6 1.6 1.6 1.6 1.6 1.6\n",
      " 1.6 1.6 2.  2.  2.  2.  2.  1.2 1.2 2.4 2.4 3.  2.  2.  2.  3.7 3.7 2.5\n",
      " 3.5 5.6 2.5 2.5 4.  4.  4.  3.8 1.6 1.6 3.5 3.5 3.5 3.5 2.5 3.5 2.5 2.5\n",
      " 1.8 5.6 5.6 1.6 1.6 4.  3.4 3.4 3.4 3.4 3.4 3.4 3.8 3.8 3.8 3.8 3.4 3.8\n",
      " 3.8 3.8 3.8 3.8 3.8 3.8 2.7 2.7 3.4 3.4 3.6 3.  4.8 4.8 3.  4.8 2.7 2.7\n",
      " 3.4 3.4 3.6 3.6 3.  3.  3.  4.8 4.8 5.7 5.7 5.7 3.  3.6 3.6 3.  3.6 3.6\n",
      " 3.6 3.6 6.6 6.6 6.7 6.7 6.6 2.  2.  1.3 2.5 2.5 2.4 2.4 1.8 1.  8.4 8.4\n",
      " 2.  2.  2.  2.5 2.  2.  2.5 2.5 2.  2.  2.5 3.6 2.5 2.5 3.6 2.  4.  3.5\n",
      " 2.5 3.5 2.5 2.5 1.8 1.8 1.8 1.8 1.8 1.8 1.8 1.8 4.  4.  2.7 3.5 3.5 1.8\n",
      " 1.5 1.8 2.5 2.5 5.7 3.5 2.7 2.7 2.7 4.  4.  4.  5.7 4.6 5.7 2.7 2.7 3.5\n",
      " 1.5 1.5 1.8 1.8 2.  2.  2.5 1.8 2.  2.  2.5 2.  2.  2.  2.  2.5 2.5 2.\n",
      " 2.  2.  2.  2.  2.  2.  1.4 1.8 2.5 2.5 3.6 2.  2.  3.6 2.  2.  2.  3.\n",
      " 2.5 2.5 3.  3.  3.  3.2 3.  3.2]\n"
     ]
    }
   ],
   "source": [
    "print(b1)\n"
   ]
  },
  {
   "cell_type": "code",
   "execution_count": 58,
   "metadata": {},
   "outputs": [
    {
     "name": "stdout",
     "output_type": "stream",
     "text": [
      "[[2. ]\n",
      " [2.4]\n",
      " [1.5]\n",
      " [3.5]\n",
      " [3.7]\n",
      " [3.7]\n",
      " [2.4]\n",
      " [2.4]\n",
      " [3.5]\n",
      " [5.9]\n",
      " [4.7]\n",
      " [4.7]\n",
      " [4.7]\n",
      " [4.7]\n",
      " [5.9]\n",
      " [2. ]\n",
      " [2. ]\n",
      " [2. ]\n",
      " [2. ]\n",
      " [2. ]\n",
      " [2. ]\n",
      " [2. ]\n",
      " [3. ]\n",
      " [3. ]\n",
      " [3. ]\n",
      " [3. ]\n",
      " [3. ]\n",
      " [3. ]\n",
      " [3. ]\n",
      " [4. ]\n",
      " [6.3]\n",
      " [3. ]\n",
      " [2. ]\n",
      " [2. ]\n",
      " [3. ]\n",
      " [3. ]\n",
      " [3. ]\n",
      " [4.2]\n",
      " [4.2]\n",
      " [5.2]\n",
      " [5.2]\n",
      " [4.2]\n",
      " [5.2]\n",
      " [4.2]\n",
      " [4. ]\n",
      " [3. ]\n",
      " [3. ]\n",
      " [3. ]\n",
      " [3. ]\n",
      " [3. ]\n",
      " [4. ]\n",
      " [4. ]\n",
      " [3. ]\n",
      " [2. ]\n",
      " [2. ]\n",
      " [2. ]\n",
      " [2. ]\n",
      " [4. ]\n",
      " [6. ]\n",
      " [4. ]\n",
      " [6. ]\n",
      " [6. ]\n",
      " [6.8]\n",
      " [2. ]\n",
      " [2. ]\n",
      " [2. ]\n",
      " [2. ]\n",
      " [2. ]\n",
      " [2. ]\n",
      " [2. ]\n",
      " [2. ]\n",
      " [2. ]\n",
      " [3. ]\n",
      " [3. ]\n",
      " [3. ]\n",
      " [3. ]\n",
      " [3. ]\n",
      " [2. ]\n",
      " [2. ]\n",
      " [2. ]\n",
      " [3. ]\n",
      " [3. ]\n",
      " [3. ]\n",
      " [3. ]\n",
      " [3. ]\n",
      " [4.4]\n",
      " [4.4]\n",
      " [3. ]\n",
      " [4.4]\n",
      " [4.4]\n",
      " [3. ]\n",
      " [4.4]\n",
      " [3. ]\n",
      " [3. ]\n",
      " [3. ]\n",
      " [4.4]\n",
      " [4.4]\n",
      " [4.4]\n",
      " [4.4]\n",
      " [4.4]\n",
      " [4.4]\n",
      " [4.4]\n",
      " [4.4]\n",
      " [2. ]\n",
      " [3. ]\n",
      " [3. ]\n",
      " [3. ]\n",
      " [4.4]\n",
      " [4.4]\n",
      " [3. ]\n",
      " [2. ]\n",
      " [2. ]\n",
      " [3. ]\n",
      " [3. ]\n",
      " [3. ]\n",
      " [3.6]\n",
      " [1.4]\n",
      " [3.6]\n",
      " [3.6]\n",
      " [3.6]\n",
      " [2.4]\n",
      " [2. ]\n",
      " [2. ]\n",
      " [2. ]\n",
      " [2.4]\n",
      " [2. ]\n",
      " [2.4]\n",
      " [2. ]\n",
      " [2. ]\n",
      " [3.6]\n",
      " [2. ]\n",
      " [3.6]\n",
      " [3.6]\n",
      " [2. ]\n",
      " [3.6]\n",
      " [2. ]\n",
      " [3.6]\n",
      " [3.6]\n",
      " [3. ]\n",
      " [3.6]\n",
      " [3. ]\n",
      " [3.6]\n",
      " [6.2]\n",
      " [6.2]\n",
      " [6.2]\n",
      " [6.2]\n",
      " [6.2]\n",
      " [6.2]\n",
      " [6.2]\n",
      " [6.2]\n",
      " [3.6]\n",
      " [3.6]\n",
      " [3.6]\n",
      " [3.6]\n",
      " [3.6]\n",
      " [3.6]\n",
      " [6.2]\n",
      " [6.2]\n",
      " [6.2]\n",
      " [6.2]\n",
      " [6.2]\n",
      " [1.4]\n",
      " [1.4]\n",
      " [1.8]\n",
      " [2. ]\n",
      " [1.4]\n",
      " [1.4]\n",
      " [2.4]\n",
      " [3.6]\n",
      " [3.6]\n",
      " [4.3]\n",
      " [5.3]\n",
      " [5.3]\n",
      " [5.3]\n",
      " [5.3]\n",
      " [5.3]\n",
      " [5.3]\n",
      " [5.3]\n",
      " [5.3]\n",
      " [5.3]\n",
      " [5.3]\n",
      " [5.3]\n",
      " [4.8]\n",
      " [6. ]\n",
      " [6. ]\n",
      " [6. ]\n",
      " [6. ]\n",
      " [2.5]\n",
      " [3.6]\n",
      " [3.6]\n",
      " [2.4]\n",
      " [2. ]\n",
      " [2.5]\n",
      " [2.4]\n",
      " [4.3]\n",
      " [4.3]\n",
      " [5.3]\n",
      " [5.3]\n",
      " [6.2]\n",
      " [4.3]\n",
      " [5.3]\n",
      " [6.2]\n",
      " [1.4]\n",
      " [1.4]\n",
      " [1.8]\n",
      " [1.8]\n",
      " [1.4]\n",
      " [1.4]\n",
      " [1.8]\n",
      " [1.8]\n",
      " [1.4]\n",
      " [1.4]\n",
      " [1.4]\n",
      " [1.2]\n",
      " [5.3]\n",
      " [5.3]\n",
      " [5.3]\n",
      " [5.3]\n",
      " [5.3]\n",
      " [3.6]\n",
      " [3.6]\n",
      " [1.4]\n",
      " [1.4]\n",
      " [1.4]\n",
      " [2.4]\n",
      " [2.4]\n",
      " [3.6]\n",
      " [3.6]\n",
      " [2.4]\n",
      " [3.6]\n",
      " [3.6]\n",
      " [5.7]\n",
      " [3.6]\n",
      " [5.7]\n",
      " [3.6]\n",
      " [3.6]\n",
      " [3.6]\n",
      " [3.6]\n",
      " [3.6]\n",
      " [2.4]\n",
      " [2.4]\n",
      " [3.6]\n",
      " [3.6]\n",
      " [5.7]\n",
      " [6.4]\n",
      " [3.6]\n",
      " [3.6]\n",
      " [5.7]\n",
      " [3.6]\n",
      " [5.7]\n",
      " [3.6]\n",
      " [3.6]\n",
      " [3.6]\n",
      " [3.6]\n",
      " [3.6]\n",
      " [6.4]\n",
      " [2. ]\n",
      " [2.4]\n",
      " [2.4]\n",
      " [2. ]\n",
      " [2. ]\n",
      " [2.4]\n",
      " [2.4]\n",
      " [1.4]\n",
      " [1.4]\n",
      " [5.7]\n",
      " [3.6]\n",
      " [3.6]\n",
      " [3.6]\n",
      " [3.6]\n",
      " [2.4]\n",
      " [3.6]\n",
      " [3.6]\n",
      " [1.4]\n",
      " [1.4]\n",
      " [1.4]\n",
      " [1.4]\n",
      " [1.4]\n",
      " [1.4]\n",
      " [2. ]\n",
      " [4.6]\n",
      " [4.6]\n",
      " [5.4]\n",
      " [4.6]\n",
      " [4.6]\n",
      " [6.8]\n",
      " [5.4]\n",
      " [5.4]\n",
      " [2. ]\n",
      " [3.5]\n",
      " [3.5]\n",
      " [3.7]\n",
      " [1.6]\n",
      " [2.5]\n",
      " [1.6]\n",
      " [2. ]\n",
      " [5.4]\n",
      " [5.4]\n",
      " [2. ]\n",
      " [3.5]\n",
      " [3.5]\n",
      " [3.5]\n",
      " [3.5]\n",
      " [3.5]\n",
      " [3.5]\n",
      " [6.2]\n",
      " [3.5]\n",
      " [3.5]\n",
      " [6.2]\n",
      " [3.7]\n",
      " [3.7]\n",
      " [5. ]\n",
      " [5. ]\n",
      " [3.7]\n",
      " [3.7]\n",
      " [3.7]\n",
      " [3.7]\n",
      " [5. ]\n",
      " [5. ]\n",
      " [5. ]\n",
      " [6.2]\n",
      " [1.6]\n",
      " [1.6]\n",
      " [3.5]\n",
      " [3.5]\n",
      " [3.5]\n",
      " [2. ]\n",
      " [2. ]\n",
      " [2. ]\n",
      " [2. ]\n",
      " [2. ]\n",
      " [2. ]\n",
      " [2. ]\n",
      " [1.5]\n",
      " [2. ]\n",
      " [2.5]\n",
      " [1.5]\n",
      " [2. ]\n",
      " [3.7]\n",
      " [3.7]\n",
      " [5.8]\n",
      " [3.7]\n",
      " [2. ]\n",
      " [3.5]\n",
      " [3.5]\n",
      " [3.5]\n",
      " [3.5]\n",
      " [3.5]\n",
      " [1.6]\n",
      " [2.5]\n",
      " [1.6]\n",
      " [2.5]\n",
      " [3.6]\n",
      " [3.6]\n",
      " [4.3]\n",
      " [5.3]\n",
      " [5.3]\n",
      " [5.3]\n",
      " [5.3]\n",
      " [5.3]\n",
      " [5.3]\n",
      " [5.3]\n",
      " [5.3]\n",
      " [4.8]\n",
      " [6. ]\n",
      " [6. ]\n",
      " [6. ]\n",
      " [6. ]\n",
      " [4.3]\n",
      " [4.3]\n",
      " [5.3]\n",
      " [5.3]\n",
      " [6.2]\n",
      " [4.3]\n",
      " [4.3]\n",
      " [5.3]\n",
      " [5.3]\n",
      " [2.4]\n",
      " [3.6]\n",
      " [3.6]\n",
      " [3.6]\n",
      " [5.3]\n",
      " [5.3]\n",
      " [5.3]\n",
      " [6.2]\n",
      " [6.2]\n",
      " [6.2]\n",
      " [6.2]\n",
      " [5.3]\n",
      " [5.3]\n",
      " [5.3]\n",
      " [2.4]\n",
      " [2.4]\n",
      " [2.4]\n",
      " [3.5]\n",
      " [3.5]\n",
      " [3.5]\n",
      " [2. ]\n",
      " [1.8]\n",
      " [1.8]\n",
      " [3.5]\n",
      " [2.4]\n",
      " [1.5]\n",
      " [1.5]\n",
      " [3.5]\n",
      " [3.5]\n",
      " [1.6]\n",
      " [2. ]\n",
      " [2. ]\n",
      " [5. ]\n",
      " [3.8]\n",
      " [3.3]\n",
      " [3.3]\n",
      " [2.4]\n",
      " [2. ]\n",
      " [2. ]\n",
      " [2.4]\n",
      " [2. ]\n",
      " [2. ]\n",
      " [2.4]\n",
      " [2. ]\n",
      " [2.4]\n",
      " [1.6]\n",
      " [1.6]\n",
      " [1.6]\n",
      " [3.7]\n",
      " [3.7]\n",
      " [3.5]\n",
      " [3.7]\n",
      " [3.7]\n",
      " [3.7]\n",
      " [3.7]\n",
      " [5.6]\n",
      " [5.6]\n",
      " [3.5]\n",
      " [3.7]\n",
      " [3.5]\n",
      " [3.5]\n",
      " [2.5]\n",
      " [3.7]\n",
      " [5. ]\n",
      " [5.6]\n",
      " [3. ]\n",
      " [3. ]\n",
      " [5. ]\n",
      " [2. ]\n",
      " [3. ]\n",
      " [5. ]\n",
      " [5. ]\n",
      " [3. ]\n",
      " [5. ]\n",
      " [3. ]\n",
      " [5. ]\n",
      " [5. ]\n",
      " [5. ]\n",
      " [5. ]\n",
      " [5. ]\n",
      " [5. ]\n",
      " [5. ]\n",
      " [5. ]\n",
      " [2.4]\n",
      " [3.2]\n",
      " [2.4]\n",
      " [3.2]\n",
      " [2.4]\n",
      " [2.4]\n",
      " [2. ]\n",
      " [2.4]\n",
      " [2.4]\n",
      " [2.4]\n",
      " [2.4]\n",
      " [2.4]\n",
      " [5.7]\n",
      " [3. ]\n",
      " [3.6]\n",
      " [3.6]\n",
      " [6.4]\n",
      " [2. ]\n",
      " [2. ]\n",
      " [2.4]\n",
      " [3.6]\n",
      " [3.6]\n",
      " [3.6]\n",
      " [3.6]\n",
      " [3.3]\n",
      " [1.8]\n",
      " [1.8]\n",
      " [2. ]\n",
      " [1.6]\n",
      " [1.6]\n",
      " [2. ]\n",
      " [1.6]\n",
      " [1.6]\n",
      " [2. ]\n",
      " [2. ]\n",
      " [2. ]\n",
      " [1.6]\n",
      " [1.6]\n",
      " [2. ]\n",
      " [2. ]\n",
      " [2.4]\n",
      " [3.3]\n",
      " [2.4]\n",
      " [3.3]\n",
      " [1.6]\n",
      " [2. ]\n",
      " [2. ]\n",
      " [2.4]\n",
      " [2.4]\n",
      " [2. ]\n",
      " [2.4]\n",
      " [6.5]\n",
      " [5.2]\n",
      " [5.2]\n",
      " [2. ]\n",
      " [3. ]\n",
      " [2. ]\n",
      " [5. ]\n",
      " [5. ]\n",
      " [5. ]\n",
      " [3. ]\n",
      " [3. ]\n",
      " [5. ]\n",
      " [5. ]\n",
      " [5. ]\n",
      " [3. ]\n",
      " [3. ]\n",
      " [5. ]\n",
      " [5. ]\n",
      " [1.8]\n",
      " [2.5]\n",
      " [3.5]\n",
      " [3.5]\n",
      " [3.5]\n",
      " [2.5]\n",
      " [2.5]\n",
      " [3.5]\n",
      " [3.5]\n",
      " [3.5]\n",
      " [5. ]\n",
      " [4.6]\n",
      " [4.6]\n",
      " [4.6]\n",
      " [5.7]\n",
      " [3.5]\n",
      " [3.5]\n",
      " [3.5]\n",
      " [3.5]\n",
      " [3.7]\n",
      " [3.5]\n",
      " [2. ]\n",
      " [3.7]\n",
      " [3.7]\n",
      " [2. ]\n",
      " [5.4]\n",
      " [5.4]\n",
      " [3. ]\n",
      " [3.8]\n",
      " [2. ]\n",
      " [2. ]\n",
      " [2.5]\n",
      " [2. ]\n",
      " [3.7]\n",
      " [1.5]\n",
      " [2. ]\n",
      " [2. ]\n",
      " [2.5]\n",
      " [2.5]\n",
      " [2. ]\n",
      " [2. ]\n",
      " [2.5]\n",
      " [2.5]\n",
      " [2. ]\n",
      " [2.5]\n",
      " [2.5]\n",
      " [2.5]\n",
      " [2.5]\n",
      " [2. ]\n",
      " [2. ]\n",
      " [1.8]\n",
      " [1.8]\n",
      " [3.5]\n",
      " [3.5]\n",
      " [3.5]\n",
      " [3.5]\n",
      " [3.5]\n",
      " [6.2]\n",
      " [6.2]\n",
      " [4.7]\n",
      " [5.5]\n",
      " [2. ]\n",
      " [2. ]\n",
      " [4.7]\n",
      " [5.5]\n",
      " [5.5]\n",
      " [3.5]\n",
      " [3.5]\n",
      " [3.5]\n",
      " [3.5]\n",
      " [3.5]\n",
      " [3.5]\n",
      " [4.7]\n",
      " [4.7]\n",
      " [5.5]\n",
      " [5.5]\n",
      " [5.5]\n",
      " [4.7]\n",
      " [4.7]\n",
      " [2.1]\n",
      " [3.5]\n",
      " [3.5]\n",
      " [3. ]\n",
      " [4.7]\n",
      " [4.7]\n",
      " [5.5]\n",
      " [4.7]\n",
      " [5.5]\n",
      " [1.8]\n",
      " [1.8]\n",
      " [6.2]\n",
      " [6.2]\n",
      " [1.6]\n",
      " [1.6]\n",
      " [1.6]\n",
      " [1.6]\n",
      " [1.6]\n",
      " [1.6]\n",
      " [1.6]\n",
      " [1.6]\n",
      " [1.6]\n",
      " [1.6]\n",
      " [1.6]\n",
      " [1.6]\n",
      " [1.6]\n",
      " [1.6]\n",
      " [1.6]\n",
      " [1.6]\n",
      " [1.6]\n",
      " [1.6]\n",
      " [1.6]\n",
      " [1.6]\n",
      " [1.6]\n",
      " [1.6]\n",
      " [1.6]\n",
      " [1.6]\n",
      " [1.6]\n",
      " [1.6]\n",
      " [1.6]\n",
      " [1.6]\n",
      " [1.6]\n",
      " [2. ]\n",
      " [2. ]\n",
      " [2. ]\n",
      " [2. ]\n",
      " [2. ]\n",
      " [1.2]\n",
      " [1.2]\n",
      " [2.4]\n",
      " [2.4]\n",
      " [3. ]\n",
      " [2. ]\n",
      " [2. ]\n",
      " [2. ]\n",
      " [3.7]\n",
      " [3.7]\n",
      " [2.5]\n",
      " [3.5]\n",
      " [5.6]\n",
      " [2.5]\n",
      " [2.5]\n",
      " [4. ]\n",
      " [4. ]\n",
      " [4. ]\n",
      " [3.8]\n",
      " [1.6]\n",
      " [1.6]\n",
      " [3.5]\n",
      " [3.5]\n",
      " [3.5]\n",
      " [3.5]\n",
      " [2.5]\n",
      " [3.5]\n",
      " [2.5]\n",
      " [2.5]\n",
      " [1.8]\n",
      " [5.6]\n",
      " [5.6]\n",
      " [1.6]\n",
      " [1.6]\n",
      " [4. ]\n",
      " [3.4]\n",
      " [3.4]\n",
      " [3.4]\n",
      " [3.4]\n",
      " [3.4]\n",
      " [3.4]\n",
      " [3.8]\n",
      " [3.8]\n",
      " [3.8]\n",
      " [3.8]\n",
      " [3.4]\n",
      " [3.8]\n",
      " [3.8]\n",
      " [3.8]\n",
      " [3.8]\n",
      " [3.8]\n",
      " [3.8]\n",
      " [3.8]\n",
      " [2.7]\n",
      " [2.7]\n",
      " [3.4]\n",
      " [3.4]\n",
      " [3.6]\n",
      " [3. ]\n",
      " [4.8]\n",
      " [4.8]\n",
      " [3. ]\n",
      " [4.8]\n",
      " [2.7]\n",
      " [2.7]\n",
      " [3.4]\n",
      " [3.4]\n",
      " [3.6]\n",
      " [3.6]\n",
      " [3. ]\n",
      " [3. ]\n",
      " [3. ]\n",
      " [4.8]\n",
      " [4.8]\n",
      " [5.7]\n",
      " [5.7]\n",
      " [5.7]\n",
      " [3. ]\n",
      " [3.6]\n",
      " [3.6]\n",
      " [3. ]\n",
      " [3.6]\n",
      " [3.6]\n",
      " [3.6]\n",
      " [3.6]\n",
      " [6.6]\n",
      " [6.6]\n",
      " [6.7]\n",
      " [6.7]\n",
      " [6.6]\n",
      " [2. ]\n",
      " [2. ]\n",
      " [1.3]\n",
      " [2.5]\n",
      " [2.5]\n",
      " [2.4]\n",
      " [2.4]\n",
      " [1.8]\n",
      " [1. ]\n",
      " [8.4]\n",
      " [8.4]\n",
      " [2. ]\n",
      " [2. ]\n",
      " [2. ]\n",
      " [2.5]\n",
      " [2. ]\n",
      " [2. ]\n",
      " [2.5]\n",
      " [2.5]\n",
      " [2. ]\n",
      " [2. ]\n",
      " [2.5]\n",
      " [3.6]\n",
      " [2.5]\n",
      " [2.5]\n",
      " [3.6]\n",
      " [2. ]\n",
      " [4. ]\n",
      " [3.5]\n",
      " [2.5]\n",
      " [3.5]\n",
      " [2.5]\n",
      " [2.5]\n",
      " [1.8]\n",
      " [1.8]\n",
      " [1.8]\n",
      " [1.8]\n",
      " [1.8]\n",
      " [1.8]\n",
      " [1.8]\n",
      " [1.8]\n",
      " [4. ]\n",
      " [4. ]\n",
      " [2.7]\n",
      " [3.5]\n",
      " [3.5]\n",
      " [1.8]\n",
      " [1.5]\n",
      " [1.8]\n",
      " [2.5]\n",
      " [2.5]\n",
      " [5.7]\n",
      " [3.5]\n",
      " [2.7]\n",
      " [2.7]\n",
      " [2.7]\n",
      " [4. ]\n",
      " [4. ]\n",
      " [4. ]\n",
      " [5.7]\n",
      " [4.6]\n",
      " [5.7]\n",
      " [2.7]\n",
      " [2.7]\n",
      " [3.5]\n",
      " [1.5]\n",
      " [1.5]\n",
      " [1.8]\n",
      " [1.8]\n",
      " [2. ]\n",
      " [2. ]\n",
      " [2.5]\n",
      " [1.8]\n",
      " [2. ]\n",
      " [2. ]\n",
      " [2.5]\n",
      " [2. ]\n",
      " [2. ]\n",
      " [2. ]\n",
      " [2. ]\n",
      " [2.5]\n",
      " [2.5]\n",
      " [2. ]\n",
      " [2. ]\n",
      " [2. ]\n",
      " [2. ]\n",
      " [2. ]\n",
      " [2. ]\n",
      " [2. ]\n",
      " [1.4]\n",
      " [1.8]\n",
      " [2.5]\n",
      " [2.5]\n",
      " [3.6]\n",
      " [2. ]\n",
      " [2. ]\n",
      " [3.6]\n",
      " [2. ]\n",
      " [2. ]\n",
      " [2. ]\n",
      " [3. ]\n",
      " [2.5]\n",
      " [2.5]\n",
      " [3. ]\n",
      " [3. ]\n",
      " [3. ]\n",
      " [3.2]\n",
      " [3. ]\n",
      " [3.2]]\n"
     ]
    }
   ],
   "source": [
    "print(b2)"
   ]
  },
  {
   "cell_type": "markdown",
   "metadata": {
    "button": false,
    "new_sheet": false,
    "run_control": {
     "read_only": false
    }
   },
   "source": [
    "### Simple Regression Model\n",
    "Linear Regression fits a linear model with coefficients B = (B1, ..., Bn) to minimize the 'residual sum of squares' between the actual value y in the dataset, and the predicted value yhat using linear approximation. \n"
   ]
  },
  {
   "cell_type": "markdown",
   "metadata": {
    "button": false,
    "new_sheet": false,
    "run_control": {
     "read_only": false
    }
   },
   "source": [
    "#### Train data distribution\n"
   ]
  },
  {
   "cell_type": "code",
   "execution_count": 37,
   "metadata": {
    "button": false,
    "new_sheet": false,
    "run_control": {
     "read_only": false
    }
   },
   "outputs": [
    {
     "data": {
      "image/png": "[encoded data removed]",
      "text/plain": [
       "<Figure size 432x288 with 1 Axes>"
      ]
     },
     "metadata": {
      "needs_background": "light"
     },
     "output_type": "display_data"
    }
   ],
   "source": [
    "plt.scatter(train.ENGINESIZE, train.CO2EMISSIONS,  color='blue')\n",
    "plt.xlabel(\"Engine size\")\n",
    "plt.ylabel(\"Emission\")\n",
    "plt.show()"
   ]
  },
  {
   "cell_type": "markdown",
   "metadata": {
    "button": false,
    "new_sheet": false,
    "run_control": {
     "read_only": false
    }
   },
   "source": [
    "#### Modeling\n",
    "Using sklearn package to model data.\n"
   ]
  },
  {
   "cell_type": "markdown",
   "metadata": {},
   "source": [
    "**`asanyarray()`** is used to convert input data into an array, while attempting to use the least memory and copying possible. It's similar to the **`numpy.asarray`** function, but with an emphasis on maintaining the original array type if possible."
   ]
  },
  {
   "cell_type": "code",
   "execution_count": 38,
   "metadata": {},
   "outputs": [
    {
     "name": "stdout",
     "output_type": "stream",
     "text": [
      "[1 2 3 4 5]\n",
      "True\n"
     ]
    }
   ],
   "source": [
    "list_data = [1, 2, 3, 4, 5]\n",
    "array_data = np.array(list_data)\n",
    "\n",
    "# Using asanyarray\n",
    "asanyarray_result = np.asanyarray(array_data)\n",
    "print(asanyarray_result)\n",
    "\n",
    "# Output:\n",
    "# [1 2 3 4 5]\n",
    "\n",
    "# Checking if the result is a new array or the same object\n",
    "print(asanyarray_result is array_data)  # True, as no new copy is made"
   ]
  },
  {
   "cell_type": "code",
   "execution_count": 18,
   "metadata": {
    "button": false,
    "new_sheet": false,
    "run_control": {
     "read_only": false
    }
   },
   "outputs": [
    {
     "name": "stdout",
     "output_type": "stream",
     "text": [
      "Coefficients:  [[39.04537489]]\n",
      "Intercept:  [125.41011653]\n"
     ]
    }
   ],
   "source": [
    "from sklearn import linear_model\n",
    "regr = linear_model.LinearRegression()\n",
    "\n",
    "# Machine learning models in scikit-learn typically expect input data to be in the form of a 2D array (or matrix) \n",
    "# where each row represents a sample and each column represents a feature. NumPy arrays naturally provide this structure,\n",
    "# making them convenient for model training.\n",
    "\n",
    "temp= np.asanyarray(train['ENGINESIZE']) # series to 1D array\n",
    "\n",
    "train_x = np.asanyarray(train[['ENGINESIZE']]) #  dataframe to ndarray\n",
    "train_y = np.asanyarray(train[['CO2EMISSIONS']])\n",
    "\n",
    "regr.fit(train_x, train_y)\n",
    "\n",
    "# The coefficients\n",
    "print ('Coefficients: ', regr.coef_)\n",
    "print ('Intercept: ',regr.intercept_)"
   ]
  },
  {
   "cell_type": "markdown",
   "metadata": {},
   "source": [
    "As mentioned before, __Coefficient__ and __Intercept__ in the simple linear regression, are the parameters of the fit line. \n",
    "Given that it is a simple linear regression, with only 2 parameters, and knowing that the parameters are the intercept and slope of the line, sklearn can estimate them directly from our data. \n",
    "Notice that all of the data must be available to traverse and calculate the parameters.\n"
   ]
  },
  {
   "cell_type": "markdown",
   "metadata": {
    "button": false,
    "new_sheet": false,
    "run_control": {
     "read_only": false
    }
   },
   "source": [
    "#### Plot outputs\n"
   ]
  },
  {
   "cell_type": "markdown",
   "metadata": {},
   "source": [
    "We can plot the fit line over the data:\n"
   ]
  },
  {
   "cell_type": "code",
   "execution_count": 21,
   "metadata": {
    "button": false,
    "new_sheet": false,
    "run_control": {
     "read_only": false
    }
   },
   "outputs": [
    {
     "data": {
      "text/plain": [
       "Text(0, 0.5, 'Emission')"
      ]
     },
     "execution_count": 21,
     "metadata": {},
     "output_type": "execute_result"
    },
    {
     "data": {
      "image/png": "[encoded data removed]",
      "text/plain": [
       "<Figure size 432x288 with 1 Axes>"
      ]
     },
     "metadata": {
      "needs_background": "light"
     },
     "output_type": "display_data"
    }
   ],
   "source": [
    "plt.scatter(train.ENGINESIZE, train.CO2EMISSIONS,  color='blue')\n",
    "plt.plot(train_x, regr.coef_[0][0]*train_x + regr.intercept_[0], '-r')\n",
    "plt.xlabel(\"Engine size\")\n",
    "plt.ylabel(\"Emission\")"
   ]
  },
  {
   "cell_type": "markdown",
   "metadata": {},
   "source": [
    "**Another way to draw line:**"
   ]
  },
  {
   "cell_type": "code",
   "execution_count": 24,
   "metadata": {},
   "outputs": [
    {
     "data": {
      "text/plain": [
       "Text(0, 0.5, 'Emission')"
      ]
     },
     "execution_count": 24,
     "metadata": {},
     "output_type": "execute_result"
    },
    {
     "data": {
      "image/png": "[encoded data removed]",
      "text/plain": [
       "<Figure size 432x288 with 1 Axes>"
      ]
     },
     "metadata": {
      "needs_background": "light"
     },
     "output_type": "display_data"
    }
   ],
   "source": [
    "plt.scatter(train.ENGINESIZE, train.CO2EMISSIONS,  color='blue')\n",
    "plt.plot(train.ENGINESIZE, regr.predict(train_x), '-r')\n",
    "plt.xlabel(\"Engine size\")\n",
    "plt.ylabel(\"Emission\")"
   ]
  },
  {
   "cell_type": "markdown",
   "metadata": {
    "button": false,
    "new_sheet": false,
    "run_control": {
     "read_only": false
    }
   },
   "source": [
    "#### Evaluation\n",
    "We compare the actual values and predicted values to calculate the accuracy of a regression model. Evaluation metrics provide a key role in the development of a model, as it provides insight to areas that require improvement.\n",
    "\n",
    "There are different model evaluation metrics, lets use MSE here to calculate the accuracy of our model based on the test set: \n",
    "* Mean Absolute Error: It is the mean of the absolute value of the errors. This is the easiest of the metrics to understand since it’s just average error.\n",
    "\n",
    "* Mean Squared Error (MSE): Mean Squared Error (MSE) is the mean of the squared error. It’s more popular than Mean Absolute Error because the focus is geared more towards large errors. This is due to the squared term exponentially increasing larger errors in comparison to smaller ones.\n",
    "\n",
    "* Root Mean Squared Error (RMSE). \n",
    "\n",
    "* R-squared is not an error, but rather a popular metric to measure the performance of your regression model. It represents how close the data points are to the fitted regression line. The higher the R-squared value, the better the model fits your data. The best possible score is 1.0 and it can be negative (because the model can be arbitrarily worse).\n"
   ]
  },
  {
   "cell_type": "code",
   "execution_count": 21,
   "metadata": {
    "button": false,
    "new_sheet": false,
    "run_control": {
     "read_only": false
    },
    "scrolled": true
   },
   "outputs": [
    {
     "name": "stdout",
     "output_type": "stream",
     "text": [
      "Mean absolute error: 24.97\n",
      "Residual sum of squares (MSE): 1126.34\n",
      "R2-score: 0.73\n"
     ]
    }
   ],
   "source": [
    "from sklearn.metrics import r2_score\n",
    "\n",
    "test_x = np.asanyarray(test[['ENGINESIZE']])\n",
    "test_y = np.asanyarray(test[['CO2EMISSIONS']])\n",
    "test_y_ = regr.predict(test_x)\n",
    "\n",
    "print(\"Mean absolute error: %.2f\" % np.mean(np.absolute(test_y_ - test_y)))\n",
    "print(\"Residual sum of squares (MSE): %.2f\" % np.mean((test_y_ - test_y) ** 2))\n",
    "print(\"R2-score: %.2f\" % r2_score(test_y , test_y_) )"
   ]
  },
  {
   "cell_type": "markdown",
   "metadata": {},
   "source": [
    "## Exercise\n"
   ]
  },
  {
   "cell_type": "markdown",
   "metadata": {},
   "source": [
    "Lets see what the evaluation metrics are if we trained a regression model using the `FUELCONSUMPTION_COMB` feature.\n",
    "\n",
    "Start by selecting `FUELCONSUMPTION_COMB` as the train_x data from the `train` dataframe, then select `FUELCONSUMPTION_COMB` as the test_x data from the `test` dataframe\n"
   ]
  },
  {
   "cell_type": "code",
   "execution_count": 22,
   "metadata": {},
   "outputs": [],
   "source": [
    "train_x = train[[\"FUELCONSUMPTION_COMB\"]]\n",
    "\n",
    "test_x = test[[\"FUELCONSUMPTION_COMB\"]]"
   ]
  },
  {
   "cell_type": "markdown",
   "metadata": {},
   "source": [
    "<details><summary>Click here for the solution</summary>\n",
    "\n",
    "```python    \n",
    "train_x = train[[\"FUELCONSUMPTION_COMB\"]]\n",
    "\n",
    "test_x = test[[\"FUELCONSUMPTION_COMB\"]]\n",
    "\n",
    "```\n",
    "\n",
    "</details>\n"
   ]
  },
  {
   "cell_type": "markdown",
   "metadata": {},
   "source": [
    "Now train a Linear Regression Model using the `train_x` you created and the `train_y` created previously\n"
   ]
  },
  {
   "cell_type": "code",
   "execution_count": 23,
   "metadata": {},
   "outputs": [
    {
     "data": {
      "text/html": [
       "<style>#sk-container-id-1 {color: black;background-color: white;}#sk-container-id-1 pre{padding: 0;}#sk-container-id-1 div.sk-toggleable {background-color: white;}#sk-container-id-1 label.sk-toggleable__label {cursor: pointer;display: block;width: 100%;margin-bottom: 0;padding: 0.3em;box-sizing: border-box;text-align: center;}#sk-container-id-1 label.sk-toggleable__label-arrow:before {content: \"▸\";float: left;margin-right: 0.25em;color: #696969;}#sk-container-id-1 label.sk-toggleable__label-arrow:hover:before {color: black;}#sk-container-id-1 div.sk-estimator:hover label.sk-toggleable__label-arrow:before {color: black;}#sk-container-id-1 div.sk-toggleable__content {max-height: 0;max-width: 0;overflow: hidden;text-align: left;background-color: #f0f8ff;}#sk-container-id-1 div.sk-toggleable__content pre {margin: 0.2em;color: black;border-radius: 0.25em;background-color: #f0f8ff;}#sk-container-id-1 input.sk-toggleable__control:checked~div.sk-toggleable__content {max-height: 200px;max-width: 100%;overflow: auto;}#sk-container-id-1 input.sk-toggleable__control:checked~label.sk-toggleable__label-arrow:before {content: \"▾\";}#sk-container-id-1 div.sk-estimator input.sk-toggleable__control:checked~label.sk-toggleable__label {background-color: #d4ebff;}#sk-container-id-1 div.sk-label input.sk-toggleable__control:checked~label.sk-toggleable__label {background-color: #d4ebff;}#sk-container-id-1 input.sk-hidden--visually {border: 0;clip: rect(1px 1px 1px 1px);clip: rect(1px, 1px, 1px, 1px);height: 1px;margin: -1px;overflow: hidden;padding: 0;position: absolute;width: 1px;}#sk-container-id-1 div.sk-estimator {font-family: monospace;background-color: #f0f8ff;border: 1px dotted black;border-radius: 0.25em;box-sizing: border-box;margin-bottom: 0.5em;}#sk-container-id-1 div.sk-estimator:hover {background-color: #d4ebff;}#sk-container-id-1 div.sk-parallel-item::after {content: \"\";width: 100%;border-bottom: 1px solid gray;flex-grow: 1;}#sk-container-id-1 div.sk-label:hover label.sk-toggleable__label {background-color: #d4ebff;}#sk-container-id-1 div.sk-serial::before {content: \"\";position: absolute;border-left: 1px solid gray;box-sizing: border-box;top: 0;bottom: 0;left: 50%;z-index: 0;}#sk-container-id-1 div.sk-serial {display: flex;flex-direction: column;align-items: center;background-color: white;padding-right: 0.2em;padding-left: 0.2em;position: relative;}#sk-container-id-1 div.sk-item {position: relative;z-index: 1;}#sk-container-id-1 div.sk-parallel {display: flex;align-items: stretch;justify-content: center;background-color: white;position: relative;}#sk-container-id-1 div.sk-item::before, #sk-container-id-1 div.sk-parallel-item::before {content: \"\";position: absolute;border-left: 1px solid gray;box-sizing: border-box;top: 0;bottom: 0;left: 50%;z-index: -1;}#sk-container-id-1 div.sk-parallel-item {display: flex;flex-direction: column;z-index: 1;position: relative;background-color: white;}#sk-container-id-1 div.sk-parallel-item:first-child::after {align-self: flex-end;width: 50%;}#sk-container-id-1 div.sk-parallel-item:last-child::after {align-self: flex-start;width: 50%;}#sk-container-id-1 div.sk-parallel-item:only-child::after {width: 0;}#sk-container-id-1 div.sk-dashed-wrapped {border: 1px dashed gray;margin: 0 0.4em 0.5em 0.4em;box-sizing: border-box;padding-bottom: 0.4em;background-color: white;}#sk-container-id-1 div.sk-label label {font-family: monospace;font-weight: bold;display: inline-block;line-height: 1.2em;}#sk-container-id-1 div.sk-label-container {text-align: center;}#sk-container-id-1 div.sk-container {/* jupyter's `normalize.less` sets `[hidden] { display: none; }` but bootstrap.min.css set `[hidden] { display: none !important; }` so we also need the `!important` here to be able to override the default hidden behavior on the sphinx rendered scikit-learn.org. See: https://github.com/scikit-learn/scikit-learn/issues/21755 */display: inline-block !important;position: relative;}#sk-container-id-1 div.sk-text-repr-fallback {display: none;}</style><div id=\"sk-container-id-1\" class=\"sk-top-container\"><div class=\"sk-text-repr-fallback\"><pre>LinearRegression()</pre><b>In a Jupyter environment, please rerun this cell to show the HTML representation or trust the notebook. <br />On GitHub, the HTML representation is unable to render, please try loading this page with nbviewer.org.</b></div><div class=\"sk-container\" hidden><div class=\"sk-item\"><div class=\"sk-estimator sk-toggleable\"><input class=\"sk-toggleable__control sk-hidden--visually\" id=\"sk-estimator-id-1\" type=\"checkbox\" checked><label for=\"sk-estimator-id-1\" class=\"sk-toggleable__label sk-toggleable__label-arrow\">LinearRegression</label><div class=\"sk-toggleable__content\"><pre>LinearRegression()</pre></div></div></div></div></div>"
      ],
      "text/plain": [
       "LinearRegression()"
      ]
     },
     "execution_count": 23,
     "metadata": {},
     "output_type": "execute_result"
    }
   ],
   "source": [
    "regr = linear_model.LinearRegression()\n",
    "\n",
    "#ADD CODE\n",
    "regr = linear_model.LinearRegression()\n",
    "\n",
    "regr.fit(train_x, train_y)"
   ]
  },
  {
   "cell_type": "markdown",
   "metadata": {},
   "source": [
    "<details><summary>Click here for the solution</summary>\n",
    "\n",
    "```python    \n",
    "regr = linear_model.LinearRegression()\n",
    "\n",
    "regr.fit(train_x, train_y)\n",
    "\n",
    "```\n",
    "\n",
    "</details>\n"
   ]
  },
  {
   "cell_type": "markdown",
   "metadata": {},
   "source": [
    "Find the predictions using the model's `predict` function and the `test_x` data\n"
   ]
  },
  {
   "cell_type": "code",
   "execution_count": 24,
   "metadata": {},
   "outputs": [],
   "source": [
    "predictions = regr.predict(test_x)"
   ]
  },
  {
   "cell_type": "markdown",
   "metadata": {},
   "source": [
    "<details><summary>Click here for the solution</summary>\n",
    "\n",
    "```python    \n",
    "predictions = regr.predict(test_x)\n",
    "\n",
    "```\n",
    "\n",
    "</details>\n"
   ]
  },
  {
   "cell_type": "markdown",
   "metadata": {},
   "source": [
    "Finally use the `predictions` and the `test_y` data and find the Mean Absolute Error value using the `np.absolute` and `np.mean` function like done previously\n"
   ]
  },
  {
   "cell_type": "code",
   "execution_count": 25,
   "metadata": {},
   "outputs": [
    {
     "name": "stdout",
     "output_type": "stream",
     "text": [
      "Mean Absolute Error: 19.86\n"
     ]
    }
   ],
   "source": [
    "#ADD CODE\n",
    "print(\"Mean Absolute Error: %.2f\" % np.mean(np.absolute(predictions - test_y)))"
   ]
  },
  {
   "cell_type": "markdown",
   "metadata": {},
   "source": [
    "<details><summary>Click here for the solution</summary>\n",
    "\n",
    "```python    \n",
    "print(\"Mean Absolute Error: %.2f\" % np.mean(np.absolute(predictions - test_y)))\n",
    "\n",
    "```\n",
    "\n",
    "</details>\n"
   ]
  },
  {
   "cell_type": "markdown",
   "metadata": {},
   "source": [
    "We can see that the MAE is much worse when we train using `ENGINESIZE` than `FUELCONSUMPTION_COMB`\n"
   ]
  },
  {
   "cell_type": "markdown",
   "metadata": {
    "button": false,
    "new_sheet": false,
    "run_control": {
     "read_only": false
    }
   },
   "source": [
    "<h2>Want to learn more?</h2>\n",
    "\n",
    "IBM SPSS Modeler is a comprehensive analytics platform that has many machine learning algorithms. It has been designed to bring predictive intelligence to decisions made by individuals, by groups, by systems – by your enterprise as a whole. A free trial is available through this course, available here: <a href=\"https://www.ibm.com/analytics/spss-statistics-software?utm_medium=Exinfluencer&utm_source=Exinfluencer&utm_content=000026UJ&utm_term=10006555&utm_id=NA-SkillsNetwork-Channel-SkillsNetworkCoursesIBMDeveloperSkillsNetworkML0101ENSkillsNetwork1047-2023-01-01\">SPSS Modeler</a>\n",
    "\n",
    "Also, you can use Watson Studio to run these notebooks faster with bigger datasets. Watson Studio is IBM's leading cloud solution for data scientists, built by data scientists. With Jupyter notebooks, RStudio, Apache Spark and popular libraries pre-packaged in the cloud, Watson Studio enables data scientists to collaborate on their projects without having to install anything. Join the fast-growing community of Watson Studio users today with a free account at <a href=\"https://www.ibm.com/cloud/watson-studio?utm_medium=Exinfluencer&utm_source=Exinfluencer&utm_content=000026UJ&utm_term=10006555&utm_id=NA-SkillsNetwork-Channel-SkillsNetworkCoursesIBMDeveloperSkillsNetworkML0101ENSkillsNetwork1047-2023-01-01\">Watson Studio</a>\n",
    "\n"
   ]
  },
  {
   "cell_type": "markdown",
   "metadata": {},
   "source": [
    "### Thank you for completing this lab!\n",
    "\n",
    "\n",
    "## Author\n",
    "\n",
    "Saeed Aghabozorgi\n",
    "\n",
    "\n",
    "### Other Contributors\n",
    "\n",
    "<a href=\"https://www.linkedin.com/in/joseph-s-50398b136/?utm_medium=Exinfluencer&utm_source=Exinfluencer&utm_content=000026UJ&utm_term=10006555&utm_id=NA-SkillsNetwork-Channel-SkillsNetworkCoursesIBMDeveloperSkillsNetworkML0101ENSkillsNetwork1047-2023-01-01\">Joseph Santarcangelo</a>\n",
    "\n",
    "Azim Hirjani\n",
    "\n",
    "\n",
    "## Change Log\n",
    "\n",
    "\n",
    "|  Date (YYYY-MM-DD) |  Version | Changed By  |  Change Description |\n",
    "|---|---|---|---|\n",
    "| 2020-11-03 | 2.1  | Lakshmi Holla  |  Changed URL of the csv |\n",
    "| 2020-08-27  | 2.0  | Lavanya  |  Moved lab to course repo in GitLab |\n",
    "|   |   |   |   |\n",
    "|   |   |   |   |\n",
    "\n",
    "\n",
    "## <h3 align=\"center\"> © IBM Corporation 2020. All rights reserved. <h3/>\n"
   ]
  }
 ],
 "metadata": {
  "kernelspec": {
   "display_name": "Python 3 (ipykernel)",
   "language": "python",
   "name": "python3"
  },
  "language_info": {
   "codemirror_mode": {
    "name": "ipython",
    "version": 3
   },
   "file_extension": ".py",
   "mimetype": "text/x-python",
   "name": "python",
   "nbconvert_exporter": "python",
   "pygments_lexer": "ipython3",
   "version": "3.9.6"
  }
 },
 "nbformat": 4,
 "nbformat_minor": 4
}
