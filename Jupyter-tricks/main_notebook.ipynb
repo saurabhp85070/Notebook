{
 "cells": [
  {
   "cell_type": "code",
   "execution_count": 6,
   "id": "046e6665-dcf8-4a08-8333-f7da90a0705d",
   "metadata": {},
   "outputs": [
    {
     "name": "stdout",
     "output_type": "stream",
     "text": [
      "7.21 ns ± 0.0805 ns per loop (mean ± std. dev. of 7 runs, 100,000,000 loops each)\n"
     ]
    }
   ],
   "source": [
    "%%timeit\n",
    "\n",
    "9**9"
   ]
  },
  {
   "cell_type": "code",
   "execution_count": 7,
   "id": "2108b449-5269-48f1-86ff-4cbb7f7f0496",
   "metadata": {},
   "outputs": [
    {
     "data": {
      "text/latex": [
       "$x^2 + 2ab + c$\n"
      ],
      "text/plain": [
       "<IPython.core.display.Latex object>"
      ]
     },
     "metadata": {},
     "output_type": "display_data"
    }
   ],
   "source": [
    "%%latex\n",
    "$x^2 + 2ab + c$"
   ]
  },
  {
   "cell_type": "code",
   "execution_count": 8,
   "id": "8add1cbf-a757-402d-bc68-8749a912b55c",
   "metadata": {},
   "outputs": [
    {
     "name": "stdout",
     "output_type": "stream",
     "text": [
      "Couldn't find program: 'bash'\n"
     ]
    }
   ],
   "source": [
    "%%bash\n",
    "dir"
   ]
  },
  {
   "cell_type": "code",
   "execution_count": 9,
   "id": "362c1113-428d-4a05-bddc-e6fbd71aed34",
   "metadata": {},
   "outputs": [
    {
     "name": "stdout",
     "output_type": "stream",
     "text": [
      "[0 1 2 3 4 5 6 7 8 9]\n"
     ]
    }
   ],
   "source": [
    "import numpy as np\n",
    "print(np.arange(10))\n"
   ]
  },
  {
   "cell_type": "markdown",
   "id": "0dd898f7-2e38-418e-bf52-3f64ce696004",
   "metadata": {},
   "source": [
    "# Analysis of Data\n",
    "This section includes some analysis based on the data above.\n"
   ]
  },
  {
   "cell_type": "code",
   "execution_count": 10,
   "id": "4bf2254d-9f6d-4e53-80e0-4fed97534333",
   "metadata": {},
   "outputs": [],
   "source": [
    "%notebook backup.ipynb"
   ]
  },
  {
   "cell_type": "markdown",
   "id": "65099bac-1a5f-4bb7-9fbb-01ec52439936",
   "metadata": {},
   "source": [
    "After running the above cell, you should see a new file `backup.ipynb` in your working directory. This new file contains the exact content of `data_analysis.ipynb` at the moment you executed the command.\n",
    "\n",
    "This command is particularly useful when you want to create a backup of your notebook or save a snapshot of your work at a particular point in time."
   ]
  },
  {
   "cell_type": "code",
   "execution_count": null,
   "id": "edd64b11-6bbf-44b6-b1e0-d1299f263156",
   "metadata": {},
   "outputs": [],
   "source": []
  }
 ],
 "metadata": {
  "kernelspec": {
   "display_name": "Python 3 (ipykernel)",
   "language": "python",
   "name": "python3"
  },
  "language_info": {
   "codemirror_mode": {
    "name": "ipython",
    "version": 3
   },
   "file_extension": ".py",
   "mimetype": "text/x-python",
   "name": "python",
   "nbconvert_exporter": "python",
   "pygments_lexer": "ipython3",
   "version": "3.9.6"
  }
 },
 "nbformat": 4,
 "nbformat_minor": 5
}
