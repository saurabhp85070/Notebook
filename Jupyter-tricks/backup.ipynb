{
 "cells": [
  {
   "cell_type": "code",
   "execution_count": 1,
   "id": "81acc548",
   "metadata": {},
   "outputs": [],
   "source": [
    "%%latex\n",
    "$x^2 + 2ab + c$"
   ]
  },
  {
   "cell_type": "code",
   "execution_count": 2,
   "id": "122570bb",
   "metadata": {},
   "outputs": [],
   "source": [
    "%%timeit\n",
    "\n",
    "9**9"
   ]
  },
  {
   "cell_type": "code",
   "execution_count": 3,
   "id": "08438daa",
   "metadata": {},
   "outputs": [],
   "source": [
    "%%bash\n",
    "dir"
   ]
  },
  {
   "cell_type": "code",
   "execution_count": 4,
   "id": "ab77a929",
   "metadata": {},
   "outputs": [],
   "source": [
    "%notebook backup.ipynb"
   ]
  },
  {
   "cell_type": "code",
   "execution_count": 5,
   "id": "e5811c7f",
   "metadata": {},
   "outputs": [],
   "source": [
    "import numpy as np\n",
    "print(np.arange(10))"
   ]
  },
  {
   "cell_type": "code",
   "execution_count": 6,
   "id": "92a1b62c",
   "metadata": {},
   "outputs": [],
   "source": [
    "%%timeit\n",
    "\n",
    "9**9"
   ]
  },
  {
   "cell_type": "code",
   "execution_count": 7,
   "id": "5ea2017c",
   "metadata": {},
   "outputs": [],
   "source": [
    "%%latex\n",
    "$x^2 + 2ab + c$"
   ]
  },
  {
   "cell_type": "code",
   "execution_count": 8,
   "id": "c105e9a6",
   "metadata": {},
   "outputs": [],
   "source": [
    "%%bash\n",
    "dir"
   ]
  },
  {
   "cell_type": "code",
   "execution_count": 9,
   "id": "a522c83d",
   "metadata": {},
   "outputs": [],
   "source": [
    "import numpy as np\n",
    "print(np.arange(10))"
   ]
  }
 ],
 "metadata": {
  "kernelspec": {
   "display_name": "Python 3 (ipykernel)",
   "language": "python",
   "name": "python3"
  },
  "language_info": {
   "codemirror_mode": {
    "name": "ipython",
    "version": 3
   },
   "file_extension": ".py",
   "mimetype": "text/x-python",
   "name": "python",
   "nbconvert_exporter": "python",
   "pygments_lexer": "ipython3",
   "version": "3.9.6"
  }
 },
 "nbformat": 4,
 "nbformat_minor": 5
}
