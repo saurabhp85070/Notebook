{
 "cells": [
  {
   "cell_type": "markdown",
   "id": "57297ee2",
   "metadata": {},
   "source": [
    "# Variables"
   ]
  },
  {
   "cell_type": "markdown",
   "id": "b7ee6917",
   "metadata": {},
   "source": [
    "JavaScript Variables can be declared in 4 ways:\n",
    "\n",
    "- Automatically\n",
    "- Using `var`\n",
    "- Using `let`\n",
    "- Using `const`"
   ]
  },
  {
   "cell_type": "code",
   "execution_count": null,
   "id": "db531ce9",
   "metadata": {},
   "outputs": [],
   "source": [
    "# automatic\n",
    "x = 5;\n",
    "y = 6;\n",
    "z = x + y;\n",
    "\n",
    "# var\n",
    "var x = 5;\n",
    "var y = 6;\n",
    "var z = x + y;\n",
    "\n",
    "# let\n",
    "let x = 5;\n",
    "let y = 6;\n",
    "let z = x + y;\n",
    "\n",
    "# const\n",
    "const x = 5;\n",
    "const y = 6;\n",
    "const z = x + y;"
   ]
  },
  {
   "cell_type": "markdown",
   "id": "71f4d8db",
   "metadata": {},
   "source": [
    "### When to Use `var`, `let`, or `const`?\n",
    "\n",
    "1. Always declare variables\n",
    "2. Always use `const` if the value should not be changed\n",
    "3. Always use `const` if the type should not be changed (`Arrays` and `Objects`)\n",
    "4. Only use `let` if you can't use const\n",
    "5. Only use `var` if you MUST support old browsers.\n",
    "\n",
    "A variable declared without a value will have the value `undefined`.\n",
    "\n",
    "The variable `carName` will have the value undefined after the execution of this statement:"
   ]
  },
  {
   "cell_type": "code",
   "execution_count": null,
   "id": "1dbb3975",
   "metadata": {},
   "outputs": [],
   "source": [
    "let carName;"
   ]
  },
  {
   "cell_type": "markdown",
   "id": "9d272b67",
   "metadata": {},
   "source": [
    "If you re-declare a JavaScript variable declared with `var`, it will not lose its value. The variable `carName` will still have the value \"Volvo\" after the execution of these statements:"
   ]
  },
  {
   "cell_type": "code",
   "execution_count": null,
   "id": "ffe5074f",
   "metadata": {},
   "outputs": [],
   "source": [
    "var carName = \"Volvo\";\n",
    "var carName;"
   ]
  },
  {
   "cell_type": "markdown",
   "id": "ad98c79b",
   "metadata": {},
   "source": [
    "You cannot re-declare a variable declared with let or const. This will not work:"
   ]
  },
  {
   "cell_type": "code",
   "execution_count": null,
   "id": "86042e3b",
   "metadata": {},
   "outputs": [],
   "source": [
    "let carName = \"Volvo\";\n",
    "let carName;"
   ]
  },
  {
   "cell_type": "markdown",
   "id": "e660528e",
   "metadata": {},
   "source": [
    "Since JavaScript treats a dollar sign as a letter, identifiers containing $ are valid variable names:"
   ]
  },
  {
   "cell_type": "code",
   "execution_count": null,
   "id": "d68acd7f",
   "metadata": {},
   "outputs": [],
   "source": [
    "let $ = \"Hello World\";\n",
    "let $$$ = 2;\n",
    "let $myMoney = 5;"
   ]
  },
  {
   "cell_type": "markdown",
   "id": "d500613a",
   "metadata": {},
   "source": [
    "Since JavaScript treats underscore as a letter, identifiers containing _ are valid variable names:"
   ]
  },
  {
   "cell_type": "code",
   "execution_count": null,
   "id": "d9f3fd30",
   "metadata": {},
   "outputs": [],
   "source": [
    "let _lastName = \"Johnson\";\n",
    "let _x = 2;\n",
    "let _100 = 5;"
   ]
  },
  {
   "cell_type": "markdown",
   "id": "1deb29fa",
   "metadata": {},
   "source": [
    "Using the underscore is not very common in JavaScript, but a convention among professional programmers is to use it as an alias for \"private (hidden)\" variables.\n",
    "\n",
    "**`let` and `const` must be declared before use but `var` does not have to be declared.**\n",
    "\n",
    "### Difference Between `var`, `let` and `const`\n",
    "\n",
    "<table class=\"ws-table-all\">\n",
    "<tbody><tr></tr>\n",
    "<tr><td></td><td>Scope</td><td>Redeclare</td><td>Reassign</td><td>Hoisted</td><td>Binds this</td></tr>\n",
    "<tr><td>var</td><td>No</td><td>Yes</td><td>Yes</td><td>Yes</td><td>Yes</td></tr>\n",
    "<tr><td>let</td><td>Yes</td><td>No</td><td>Yes</td><td>No</td><td>No</td></tr>\n",
    "<tr><td>const</td><td>Yes</td><td>No</td><td>No</td><td>No</td><td>No</td></tr>\n",
    "</tbody></table>"
   ]
  },
  {
   "cell_type": "markdown",
   "id": "d46ad059",
   "metadata": {},
   "source": [
    "# Function"
   ]
  },
  {
   "cell_type": "markdown",
   "id": "9da25bbf",
   "metadata": {},
   "source": [
    "- A JavaScript function is defined with the `function` keyword, followed by a name, followed by parentheses `()`.\n",
    "\n",
    "- When we pass parameter to function then it is `pass by value` that means any change made inside function will not reflect outside.\n",
    "\n",
    "Function names can contain letters, digits, underscores, and dollar signs (same rules as variables)."
   ]
  },
  {
   "cell_type": "code",
   "execution_count": null,
   "id": "51641d6a",
   "metadata": {},
   "outputs": [],
   "source": [
    "function name(parameter1, parameter2, parameter3) {\n",
    "  // code to be executed\n",
    "}"
   ]
  },
  {
   "cell_type": "markdown",
   "id": "39c8166f",
   "metadata": {},
   "source": [
    "The code inside the function will execute when \"something\" invokes (calls) the function:\n",
    "\n",
    "- When an event occurs (when a user clicks a button)\n",
    "- When it is invoked (called) from JavaScript code\n",
    "- Automatically (self invoked)"
   ]
  },
  {
   "cell_type": "code",
   "execution_count": null,
   "id": "a5f6cbc2",
   "metadata": {},
   "outputs": [],
   "source": [
    "function toCelsius(fahrenheit) {\n",
    "  return (5/9) * (fahrenheit-32);\n",
    "}\n",
    "\n",
    "let value = toCelsius();"
   ]
  },
  {
   "cell_type": "markdown",
   "id": "6d954e96",
   "metadata": {},
   "source": [
    "`toCelsius` refers to the function object, and `toCelsius()` refers to the function result.\n",
    "\n",
    "Variables declared within a JavaScript function, become LOCAL to the function. Local variables can only be accessed from within the function."
   ]
  },
  {
   "cell_type": "code",
   "execution_count": null,
   "id": "59aa1bed",
   "metadata": {},
   "outputs": [],
   "source": [
    "# code here can NOT use carName\n",
    "\n",
    "function myFunction() {\n",
    "  let carName = \"Volvo\";\n",
    "  # code here CAN use carName\n",
    "}\n",
    "\n",
    "# code here can NOT use carName"
   ]
  },
  {
   "cell_type": "markdown",
   "id": "08985cea",
   "metadata": {},
   "source": [
    "**A JavaScript function can also be defined using an expression**. A function expression can be stored in a variable:"
   ]
  },
  {
   "cell_type": "code",
   "execution_count": null,
   "id": "a38b65c8",
   "metadata": {},
   "outputs": [],
   "source": [
    "const x = function (a, b) {return a * b};"
   ]
  },
  {
   "cell_type": "markdown",
   "id": "e300c607",
   "metadata": {},
   "source": [
    "After a function expression has been stored in a variable, the variable can be used as a function:"
   ]
  },
  {
   "cell_type": "code",
   "execution_count": null,
   "id": "cb027a99",
   "metadata": {},
   "outputs": [],
   "source": [
    "const x = function (a, b) {return a * b};\n",
    "let z = x(4, 3);"
   ]
  },
  {
   "cell_type": "markdown",
   "id": "72359538",
   "metadata": {},
   "source": [
    "The function above is actually an `anonymous function` (a function without a name).\n",
    "\n",
    "Functions stored in variables do not need function names. They are always invoked (called) using the variable name.\n",
    "\n",
    "**The function above ends with a semicolon because it is a part of an executable statement.**\n",
    "\n",
    "### Function() Constructor\n",
    "\n",
    "Functions can also be defined with a built-in JavaScript function constructor called `Function()`."
   ]
  },
  {
   "cell_type": "code",
   "execution_count": null,
   "id": "21223816",
   "metadata": {},
   "outputs": [],
   "source": [
    "const myFunction = new Function(\"a\", \"b\", \"return a * b\");\n",
    "\n",
    "let x = myFunction(4, 3)"
   ]
  },
  {
   "cell_type": "markdown",
   "id": "4ebd0df4",
   "metadata": {},
   "source": [
    "You actually don't have to use the function constructor. The example above is the same as writing:"
   ]
  },
  {
   "cell_type": "code",
   "execution_count": null,
   "id": "49d243b4",
   "metadata": {},
   "outputs": [],
   "source": [
    "const myFunction = function (a, b) {return a * b};\n",
    "\n",
    "let x = myFunction(4, 3);"
   ]
  },
  {
   "cell_type": "markdown",
   "id": "97b86398",
   "metadata": {},
   "source": [
    "### Function Hoisting\n",
    "\n",
    "In JavaScript, hoisting is a behavior in which a function or a variable can be used before declaration.\n",
    "\n",
    "Hoisting is the default behavior in JavaScript where declarations of variables and functions are moved to the top of their respective scopes during the compilation phase. This ensures that regardless of where variables and functions are declared within a scope, they are accessible throughout that scope.\n",
    "\n",
    "Hoisting applies to variable declarations and to function declarations. Because of this, JavaScript functions can be called before they are declared:"
   ]
  },
  {
   "cell_type": "code",
   "execution_count": null,
   "id": "19733566",
   "metadata": {},
   "outputs": [],
   "source": [
    "myFunction(5);\n",
    "\n",
    "function myFunction(y) {\n",
    "  return y * y;\n",
    "}"
   ]
  },
  {
   "cell_type": "markdown",
   "id": "951b78f7",
   "metadata": {},
   "source": [
    "**NOTE:** Functions defined using an expression are not hoisted.\n",
    "\n",
    "### Self-Invoking Functions\n",
    "\n",
    "- Function expressions can be made \"self-invoking\".\n",
    "- A self-invoking expression is invoked (started) automatically, without being called.\n",
    "\n",
    "Function expressions will execute automatically if the expression is followed by `()`.\n",
    "\n",
    "You cannot self-invoke a function declaration.\n",
    "\n",
    "You have to add parentheses around the function to indicate that it is a function expression:"
   ]
  },
  {
   "cell_type": "code",
   "execution_count": null,
   "id": "3af8eb0e",
   "metadata": {},
   "outputs": [],
   "source": [
    "(function () {\n",
    "  let x = \"Hello!!\";  # I will invoke myself\n",
    "})();"
   ]
  },
  {
   "cell_type": "markdown",
   "id": "67753f2d",
   "metadata": {},
   "source": [
    "The function above is actually an `anonymous self-invoking function` (function without name)."
   ]
  },
  {
   "cell_type": "code",
   "execution_count": null,
   "id": "0624b036",
   "metadata": {},
   "outputs": [],
   "source": [
    "# You can use arrow functions to create an IIFE(immediately invoked function expression) as well:\n",
    "(() => {\n",
    "  console.log('This is an arrow function IIFE!');\n",
    "})();"
   ]
  },
  {
   "cell_type": "markdown",
   "id": "bb55b6f0",
   "metadata": {},
   "source": [
    "**JavaScript functions can be used as values:**"
   ]
  },
  {
   "cell_type": "code",
   "execution_count": null,
   "id": "53f742bf",
   "metadata": {},
   "outputs": [],
   "source": [
    "function myFunction(a, b) {\n",
    "  return a * b;\n",
    "}\n",
    "\n",
    "let x = myFunction(4, 3);"
   ]
  },
  {
   "cell_type": "markdown",
   "id": "d5f3da2a",
   "metadata": {},
   "source": [
    "**JavaScript functions can be used in expressions:**"
   ]
  },
  {
   "cell_type": "code",
   "execution_count": null,
   "id": "672278fe",
   "metadata": {},
   "outputs": [],
   "source": [
    "function myFunction(a, b) {\n",
    "  return a * b;\n",
    "}\n",
    "\n",
    "let x = myFunction(4, 3) * 2;"
   ]
  },
  {
   "cell_type": "markdown",
   "id": "c8534e17",
   "metadata": {},
   "source": [
    "### Functions are Objects\n",
    "\n",
    "The `typeof` operator in JavaScript returns \"function\" for functions.\n",
    "\n",
    "But, JavaScript functions can best be described as objects.\n",
    "\n",
    "JavaScript functions have both properties and methods.\n",
    "\n",
    "The `arguments.length` property returns the number of arguments received when the function was invoked:"
   ]
  },
  {
   "cell_type": "code",
   "execution_count": null,
   "id": "2c5f9017",
   "metadata": {},
   "outputs": [],
   "source": [
    "function myFunction(a, b) {\n",
    "  return arguments.length;\n",
    "}"
   ]
  },
  {
   "cell_type": "markdown",
   "id": "d3ba6a3b",
   "metadata": {},
   "source": [
    "- A function defined as the property of an object, is called a `method to the object`.\n",
    "- A function designed to create new objects, is called an `object constructor`."
   ]
  },
  {
   "cell_type": "markdown",
   "id": "71d371ef",
   "metadata": {},
   "source": [
    "### Arrow Functions\n",
    "\n",
    "Arrow functions allows a short syntax for writing function expressions.\n",
    "\n",
    "You don't need the `function` keyword, the `return` keyword, and the `curly brackets`."
   ]
  },
  {
   "cell_type": "code",
   "execution_count": null,
   "id": "477e4c29",
   "metadata": {},
   "outputs": [],
   "source": [
    "// ES5\n",
    "var x = function(x, y) {\n",
    "  return x * y;\n",
    "}\n",
    "\n",
    "// ES6\n",
    "const x = (x, y) => x * y;\n",
    "x(2,3)"
   ]
  },
  {
   "cell_type": "markdown",
   "id": "dec35039",
   "metadata": {},
   "source": [
    "**Arrow functions do not have their own `this`**. They are not well suited for defining object methods.\n",
    "\n",
    "**Arrow functions are not hoisted**. They must be defined before they are used.\n",
    "\n",
    "Using `const` is safer than using `var`, because a function expression is always constant value.\n",
    "\n",
    "You can only omit the `return` keyword and the `curly brackets` if the function is a single statement. Because of this, it might be a good habit to always keep them:"
   ]
  },
  {
   "cell_type": "code",
   "execution_count": null,
   "id": "186e9e05",
   "metadata": {},
   "outputs": [],
   "source": [
    "const x = (x, y) => { return x * y };\n",
    "x(2,4)"
   ]
  },
  {
   "cell_type": "code",
   "execution_count": null,
   "id": "710f628d",
   "metadata": {},
   "outputs": [],
   "source": [
    "# When there's only one parameter, you can omit the parentheses:\n",
    "const square = x => x * x;\n",
    "console.log(square(4)); // Output: 16\n",
    "    \n",
    "# When there are no parameters, you need to include empty parentheses:\n",
    "const greet = () => 'Hello, world!';\n",
    "console.log(greet()); // Output: Hello, world!"
   ]
  },
  {
   "cell_type": "markdown",
   "id": "147c2932",
   "metadata": {},
   "source": [
    "One of the most significant differences between arrow functions and traditional functions is how they handle the `this` keyword. **Arrow functions do not have their own `this`** context; instead, they inherit this from the parent scope at the time they are defined. This is called **lexical scoping**."
   ]
  },
  {
   "cell_type": "code",
   "execution_count": null,
   "id": "ed37a465",
   "metadata": {},
   "outputs": [],
   "source": [
    "function Person() {\n",
    "  this.age = 0;\n",
    "\n",
    "  setInterval(function() {\n",
    "    this.age++;\n",
    "    console.log(this.age);\n",
    "  }, 1000);\n",
    "}\n",
    "\n",
    "const p = new Person(); // NaN, NaN, NaN...\n"
   ]
  },
  {
   "cell_type": "code",
   "execution_count": null,
   "id": "7be4eb52",
   "metadata": {},
   "outputs": [],
   "source": [
    "function Person() {\n",
    "    console.log(this) # Person{}\n",
    "    this.age = 0;\n",
    "  \n",
    "    setInterval(function() {\n",
    "        console.log(this); \n",
    "#         Timeout {\n",
    "#   _idleTimeout: 3,\n",
    "#   _idlePrev: null,\n",
    "#   _idleNext: null,\n",
    "#   _idleStart: 5673,\n",
    "#   _onTimeout: [Function (anonymous)],\n",
    "#   _timerArgs: undefined,\n",
    "#   _repeat: 3,\n",
    "#   _destroyed: false,\n",
    "#   age: NaN,\n",
    "#   [Symbol(refed)]: true,\n",
    "#   [Symbol(kHasPrimitive)]: false,\n",
    "#   [Symbol(asyncId)]: 5,\n",
    "#   [Symbol(triggerId)]: 1\n",
    "# }\n",
    "      this.age++;\n",
    "      console.log(this.age); # NaN\n",
    "    }, 3);\n",
    "  }\n",
    "  \n",
    "  const p = new Person(); \n",
    "  "
   ]
  },
  {
   "cell_type": "markdown",
   "id": "a8e1f703",
   "metadata": {},
   "source": [
    "Here, `this` inside the `setInterval` callback refers to the global object, not the `Person` instance. To fix this, we commonly use `var self = this` or `bind()` the function."
   ]
  },
  {
   "cell_type": "code",
   "execution_count": null,
   "id": "a4fa08fd",
   "metadata": {},
   "outputs": [],
   "source": [
    "# Using var self = this\n",
    "function Person() {\n",
    "  var self = this;\n",
    "  self.age = 0;\n",
    "\n",
    "  setInterval(function() {\n",
    "    self.age++;\n",
    "    console.log(self.age);\n",
    "  }, 1000);\n",
    "}\n",
    "\n",
    "const p = new Person(); // 1, 2, 3, ..."
   ]
  },
  {
   "cell_type": "code",
   "execution_count": null,
   "id": "29eae90c",
   "metadata": {},
   "outputs": [],
   "source": [
    "# Using bind\n",
    "function Person() {\n",
    "  this.age = 0;\n",
    "\n",
    "  setInterval(function() {\n",
    "    this.age++;\n",
    "    console.log(this.age);\n",
    "  }.bind(this), 1000);\n",
    "}\n",
    "\n",
    "const p = new Person(); // 1, 2, 3, ...\n"
   ]
  },
  {
   "cell_type": "code",
   "execution_count": null,
   "id": "83122358",
   "metadata": {},
   "outputs": [],
   "source": [
    "# Using Arrow Functions\n",
    "function Person() {\n",
    "  this.age = 0;\n",
    "\n",
    "  setInterval(() => {\n",
    "    this.age++;\n",
    "    console.log(this.age);\n",
    "  }, 1000);\n",
    "}\n",
    "\n",
    "const p = new Person(); // 1, 2, 3, ...\n",
    "\n",
    "# Here, the arrow function inherits this from its surrounding lexical context, \n",
    "# which is the Person instance."
   ]
  },
  {
   "cell_type": "markdown",
   "id": "6b9e4364",
   "metadata": {},
   "source": [
    "**Arrow functions do not have their own `arguments` object**. If you need to access the arguments object, you should use a traditional function or `rest` parameters."
   ]
  },
  {
   "cell_type": "code",
   "execution_count": null,
   "id": "4678091d",
   "metadata": {},
   "outputs": [],
   "source": [
    "# Traditional Function with arguments:\n",
    "function sum() {\n",
    "  return Array.from(arguments).reduce((acc, curr) => acc + curr, 0);\n",
    "}\n",
    "console.log(sum(1, 2, 3, 4)); // Output: 10\n",
    "\n",
    "# Arrow Function with Rest Parameters:\n",
    "const sum = (...args) => args.reduce((acc, curr) => acc + curr, 0);\n",
    "console.log(sum(1, 2, 3, 4)); // Output: 10"
   ]
  },
  {
   "cell_type": "markdown",
   "id": "2f2bddd4",
   "metadata": {},
   "source": [
    "**Arrow functions cannot be used as constructors and will throw an error if used with the `new` keyword. They do not have a `[[Construct]]` method or a `prototype` property.**"
   ]
  },
  {
   "cell_type": "code",
   "execution_count": null,
   "id": "e6354ed2",
   "metadata": {},
   "outputs": [],
   "source": [
    "const Foo = () => {};\n",
    "const bar = new Foo(); // TypeError: Foo is not a constructor"
   ]
  },
  {
   "cell_type": "markdown",
   "id": "6391fa0a",
   "metadata": {},
   "source": [
    "**Remark:**\n",
    "- Arrow functions are great for small, simple functions, especially those used as callbacks.\n",
    "- Use arrow functions when you need to maintain the context of `this` within nested functions."
   ]
  },
  {
   "cell_type": "markdown",
   "id": "06b46b46",
   "metadata": {},
   "source": [
    "### Rest Parameter\n",
    "The rest parameter (`...`) allows a function to treat an indefinite number of arguments as an `array`:"
   ]
  },
  {
   "cell_type": "code",
   "execution_count": null,
   "id": "7163d418",
   "metadata": {},
   "outputs": [],
   "source": [
    "function sum(...args) {\n",
    "  let sum = 0;\n",
    "  for (let arg of args) sum += arg;\n",
    "  return sum;\n",
    "}\n",
    "\n",
    "let x = sum(4, 9, 16, 25, 29, 100, 66, 77);"
   ]
  },
  {
   "cell_type": "markdown",
   "id": "922e3a6d",
   "metadata": {},
   "source": [
    "### Arguments Object\n",
    "JavaScript functions have a built-in object called the arguments object.\n",
    "\n",
    "The argument object contains an array of the arguments used when the function was called (invoked).\n",
    "\n",
    "This way you can simply use a function to find (for instance) the highest value in a list of numbers:"
   ]
  },
  {
   "cell_type": "code",
   "execution_count": null,
   "id": "123525c3",
   "metadata": {},
   "outputs": [],
   "source": [
    "x = findMax(1, 123, 500, 115, 44, 88);\n",
    "\n",
    "function findMax() {\n",
    "  let max = -Infinity;\n",
    "  for (let i = 0; i < arguments.length; i++) {\n",
    "    if (arguments[i] > max) {\n",
    "      max = arguments[i];\n",
    "    }\n",
    "  }\n",
    "  return max;\n",
    "}"
   ]
  },
  {
   "cell_type": "code",
   "execution_count": null,
   "id": "96af96ae",
   "metadata": {},
   "outputs": [],
   "source": [
    "\n",
    "function findMax() {\n",
    "  let max = -Infinity;\n",
    "    console.log(arguments)\n",
    "    \n",
    "  for (let i = 0; i < arguments.length; i++) {\n",
    "    console.log(arguments[i])\n",
    "  }\n",
    "  return max;\n",
    "}\n",
    "\n",
    "x = findMax(1, 123, 500, 115, 44, 88);\n",
    "\n",
    "# Output:\n",
    "[Arguments] { '0': 1, '1': 123, '2': 500, '3': 115, '4': 44, '5': 88 }\n",
    "1\n",
    "123\n",
    "500\n",
    "115\n",
    "44\n",
    "88"
   ]
  },
  {
   "cell_type": "markdown",
   "id": "ba44cbe8",
   "metadata": {},
   "source": [
    "Or create a function to sum all input values:"
   ]
  },
  {
   "cell_type": "code",
   "execution_count": null,
   "id": "b1d3aac0",
   "metadata": {},
   "outputs": [],
   "source": [
    "x = sumAll(1, 123, 500, 115, 44, 88);\n",
    "\n",
    "function sumAll() {\n",
    "  let sum = 0;\n",
    "  for (let i = 0; i < arguments.length; i++) {\n",
    "    sum += arguments[i];\n",
    "  }\n",
    "  return sum;\n",
    "}"
   ]
  },
  {
   "cell_type": "markdown",
   "id": "ce0b32d8",
   "metadata": {},
   "source": [
    "If a function is called with `too many arguments` (more than declared), these arguments can be reached using the `arguments object`.\n",
    "\n",
    "### Arguments are Passed by Value\n",
    "\n",
    "- The parameters, in a function call, are the function's arguments.\n",
    "- JavaScript arguments are passed by value: The function only gets to know the values, not the argument's locations.\n",
    "\n",
    "If a function changes an argument's value, it does not change the parameter's original value.\n",
    "\n",
    "**Changes to arguments are not visible (reflected) outside the function.**\n",
    "\n",
    "### Objects are Passed by Reference\n",
    "\n",
    "- In JavaScript, object references are values.\n",
    "- Because of this, objects will behave like they are passed by reference:\n",
    "\n",
    "If a function changes an object property, it changes the original value.\n",
    "\n",
    "**Changes to object properties are visible (reflected) outside the function.**"
   ]
  },
  {
   "cell_type": "markdown",
   "id": "6c956434",
   "metadata": {},
   "source": [
    "### Invoking a Function as a Function"
   ]
  },
  {
   "cell_type": "code",
   "execution_count": null,
   "id": "31ef17ee",
   "metadata": {},
   "outputs": [],
   "source": [
    "function myFunction(a, b) {\n",
    "  return a * b;\n",
    "}\n",
    "myFunction(10, 2);           # Will return 20"
   ]
  },
  {
   "cell_type": "markdown",
   "id": "c7fe2fa8",
   "metadata": {},
   "source": [
    "The function above does not belong to any object. But in JavaScript there is always a default global object.\n",
    "\n",
    "In HTML the default global object is the HTML page itself, so the function above \"belongs\" to the HTML page.\n",
    "\n",
    "In a browser the page object is the browser window. The function above automatically becomes a window function.\n",
    "\n",
    "**NOTE:** This is a common way to invoke a JavaScript function, but not a very good practice.\n",
    "Global variables, methods, or functions can easily create name conflicts and bugs in the global object."
   ]
  },
  {
   "cell_type": "code",
   "execution_count": null,
   "id": "8aa58a93",
   "metadata": {},
   "outputs": [],
   "source": [
    "# myFunction() and window.myFunction() is the same function:\n",
    "\n",
    "function myFunction(a, b) {\n",
    "  return a * b;\n",
    "}\n",
    "window.myFunction(10, 2);    # Will also return 20"
   ]
  },
  {
   "cell_type": "markdown",
   "id": "d5bf7b3d",
   "metadata": {},
   "source": [
    "### What is this?\n",
    "\n",
    "In JavaScript, the `this` keyword refers to an object.\n",
    "\n",
    "The `this` keyword refers to different objects depending on how it is used:\n",
    "\n",
    "- In an object method, `this` refers to the object.\n",
    "- Alone, `this` refers to the global object.\n",
    "- In a function, `this` refers to the global object.\n",
    "- In a function, in strict mode, `this` is `undefined`.\n",
    "- In an event, `this` refers to the element that received the event.\n",
    "- Methods like `call()`, `apply()`, and `bind()` can refer `this` to any object.\n",
    "\n",
    "### The Global Object\n",
    "\n",
    "When a function is called without an owner object, the value of `this` becomes the global object.\n",
    "\n",
    "In a web browser the global object is the browser window.\n",
    "\n",
    "This example returns the window object as the value of `this`:"
   ]
  },
  {
   "cell_type": "code",
   "execution_count": null,
   "id": "b889fc3a",
   "metadata": {},
   "outputs": [],
   "source": [
    "let x = myFunction();            // x will be the window object\n",
    "\n",
    "function myFunction() {\n",
    "  return this;\n",
    "}"
   ]
  },
  {
   "cell_type": "markdown",
   "id": "8ab42a46",
   "metadata": {},
   "source": [
    "Invoking a function as a global function, causes the value of this to be the global object.\n",
    "Using the window object as a variable can easily crash your program.\n",
    "\n",
    "### Invoking a Function as a Method\n",
    "\n",
    "In JavaScript you can define functions as object methods.\n",
    "\n",
    "The following example creates an object (myObject), with two properties (firstName and lastName), and a method (fullName):"
   ]
  },
  {
   "cell_type": "code",
   "execution_count": null,
   "id": "229c5693",
   "metadata": {},
   "outputs": [],
   "source": [
    "const myObject = {\n",
    "  firstName:\"John\",\n",
    "  lastName: \"Doe\",\n",
    "  fullName: function () { # called as object method\n",
    "    return this.firstName + \" \" + this.lastName;\n",
    "  }\n",
    "}\n",
    "console.log(myObject.fullName)  #  [Function: fullName]\n",
    "console.log(myObject.fullName())  # John Doe"
   ]
  },
  {
   "cell_type": "markdown",
   "id": "c167297a",
   "metadata": {},
   "source": [
    "The `fullName` method is a function. The function belongs to the object. `myObject` is the owner of the function.\n",
    "\n",
    "The thing called `this`, is the object that \"owns\" the JavaScript code. In this case the value of `this` is `myObject`.\n",
    "\n",
    "Test it! Change the `fullName` method to return the value of `this`:"
   ]
  },
  {
   "cell_type": "code",
   "execution_count": null,
   "id": "03c4fe55",
   "metadata": {},
   "outputs": [],
   "source": [
    "const myObject = {\n",
    "  firstName:\"John\",\n",
    "  lastName: \"Doe\",\n",
    "  fullName: function () {\n",
    "    return this;\n",
    "  }\n",
    "}\n",
    "console.log(myObject.fullName)  #  [Function: fullName]\n",
    "console.log(myObject.fullName())  #  { firstName: 'John', lastName: 'Doe', fullName: [Function: fullName] }"
   ]
  },
  {
   "cell_type": "markdown",
   "id": "886a1092",
   "metadata": {},
   "source": [
    "Invoking a function as an object method, causes the value of `this` to be the object itself.\n",
    "\n",
    "### Invoking a Function with a Function Constructor\n",
    "\n",
    "If a function invocation is preceded with the `new` keyword, it is a constructor invocation.\n",
    "\n",
    "It looks like you create a new function, but since JavaScript functions are objects you actually create a new object:"
   ]
  },
  {
   "cell_type": "code",
   "execution_count": null,
   "id": "1e63654c",
   "metadata": {},
   "outputs": [],
   "source": [
    "# This is a function constructor:\n",
    "function myFunction(arg1, arg2) {\n",
    "  this.firstName = arg1;\n",
    "  this.lastName  = arg2;\n",
    "}\n",
    "\n",
    "# This creates a new object\n",
    "const myObj = new myFunction(\"John\", \"Doe\");\n",
    "\n",
    "# This will return \"John\"\n",
    "myObj.firstName;"
   ]
  },
  {
   "cell_type": "markdown",
   "id": "04093e90",
   "metadata": {},
   "source": [
    "**A constructor invocation creates a new object**. The new object inherits the properties and methods from its constructor.\n",
    "\n",
    "The `this` keyword in the constructor does not have a value.\n",
    "The value of `this` will be the new object created when the function is invoked.\n",
    "\n",
    "### Function `call()`\n",
    "\n",
    "With the `call()` method, you can write a method that can be used on different objects.\n",
    "\n",
    "In JavaScript all functions are object methods.\n",
    "\n",
    "If a function is not a method of a JavaScript object, it is a function of the global object.\n",
    "\n",
    "The example below creates an object with 3 properties, `firstName`, `lastName`, `fullName`."
   ]
  },
  {
   "cell_type": "code",
   "execution_count": null,
   "id": "9dc29124",
   "metadata": {},
   "outputs": [],
   "source": [
    "const person = {\n",
    "  firstName:\"John\",\n",
    "  lastName: \"Doe\",\n",
    "  fullName: function () {\n",
    "    return this.firstName + \" \" + this.lastName;\n",
    "  }\n",
    "}\n",
    "\n",
    "# This will return \"John Doe\":\n",
    "person.fullName(); "
   ]
  },
  {
   "cell_type": "markdown",
   "id": "c45d5abe",
   "metadata": {},
   "source": [
    "In the example above, `this` refers to the `person` object.\n",
    "\n",
    "`this.firstName` means the `firstName` property of `this`.\n",
    "\n",
    "Same as:\n",
    "\n",
    "`this.firstName` means the `firstName` property of `person`.\n",
    "\n",
    "**The `call()` method in JavaScript is a powerful tool that allows you to invoke a function with a specified `this` context and individual arguments. It is particularly useful when you need to explicitly set the `this` value for a function and pass arguments separately.**\n",
    "\n",
    "The `call()` method is a predefined JavaScript method.\n",
    "\n",
    "It can be used to invoke (call) a method with an owner object as an argument (parameter).\n",
    "\n",
    "With `call()`, an object can use a method belonging to another object.\n",
    "\n",
    "**Syntax:** `function.call(thisArg, arg1, arg2, ...)`\n",
    "- `function`: The function you want to invoke.\n",
    "- `thisArg`: The value to use as `this` when executing the function.\n",
    "- `arg1`, `arg2`, ...: Arguments to pass to the function.\n",
    "\n",
    "This example calls the `fullName` method of `person`, using it on `person1`:"
   ]
  },
  {
   "cell_type": "code",
   "execution_count": null,
   "id": "fcd423e9",
   "metadata": {},
   "outputs": [],
   "source": [
    "const person = {\n",
    "  fullName: function() {\n",
    "    return this.firstName + \" \" + this.lastName;\n",
    "  }\n",
    "}\n",
    "const person1 = {\n",
    "  firstName:\"John\",\n",
    "  lastName: \"Doe\"\n",
    "}\n",
    "const person2 = {\n",
    "  firstName:\"Mary\",\n",
    "  lastName: \"Doe\"\n",
    "}\n",
    "\n",
    "# This will return \"John Doe\":\n",
    "person.fullName.call(person1);"
   ]
  },
  {
   "cell_type": "markdown",
   "id": "6066ab14",
   "metadata": {},
   "source": [
    "This example calls the `fullName` method of `person`, using it on `person2`:"
   ]
  },
  {
   "cell_type": "code",
   "execution_count": null,
   "id": "1dd6936d",
   "metadata": {},
   "outputs": [],
   "source": [
    "const person = {\n",
    "  fullName: function() {\n",
    "    return this.firstName + \" \" + this.lastName;\n",
    "  }\n",
    "}\n",
    "const person1 = {\n",
    "  firstName:\"John\",\n",
    "  lastName: \"Doe\"\n",
    "}\n",
    "const person2 = {\n",
    "  firstName:\"Mary\",\n",
    "  lastName: \"Doe\"\n",
    "}\n",
    "\n",
    "# This will return \"Mary Doe\"\n",
    "person.fullName.call(person2);"
   ]
  },
  {
   "cell_type": "code",
   "execution_count": null,
   "id": "3ece649b",
   "metadata": {},
   "outputs": [],
   "source": [
    "function greet() {\n",
    "  console.log(`Hello, my name is ${this.name}`);\n",
    "}\n",
    "\n",
    "const person = {\n",
    "  name: 'Alice'\n",
    "};\n",
    "\n",
    "greet.call(person); // Output: Hello, my name is Alice\n"
   ]
  },
  {
   "cell_type": "markdown",
   "id": "19a52b17",
   "metadata": {},
   "source": [
    "The `call()` method can accept arguments:"
   ]
  },
  {
   "cell_type": "code",
   "execution_count": null,
   "id": "919de3f0",
   "metadata": {},
   "outputs": [],
   "source": [
    "const person = {\n",
    "  fullName: function(city, country) {\n",
    "    return this.firstName + \" \" + this.lastName + \",\" + city + \",\" + country;\n",
    "  }\n",
    "}\n",
    "\n",
    "const person1 = {\n",
    "  firstName:\"John\",\n",
    "  lastName: \"Doe\"\n",
    "}\n",
    "\n",
    "person.fullName.call(person1, \"Oslo\", \"Norway\");"
   ]
  },
  {
   "cell_type": "code",
   "execution_count": null,
   "id": "4c67aa4c",
   "metadata": {},
   "outputs": [],
   "source": [
    "function introduce(greeting, punctuation) {\n",
    "  console.log(`${greeting}, my name is ${this.name}${punctuation}`);\n",
    "}\n",
    "\n",
    "const person = {\n",
    "  name: 'Alice'\n",
    "};\n",
    "\n",
    "introduce.call(person, 'Hi', '!'); // Output: Hi, my name is Alice!"
   ]
  },
  {
   "cell_type": "markdown",
   "id": "b9dd99f1",
   "metadata": {},
   "source": [
    "Arrow functions do not have their own `this` context; they inherit this from their surrounding scope. Therefore, **using `call()` on arrow functions to change this will not have any effect**."
   ]
  },
  {
   "cell_type": "code",
   "execution_count": null,
   "id": "d144764c",
   "metadata": {},
   "outputs": [],
   "source": [
    "const arrowGreet = () => {\n",
    "  console.log(`Hello, my name is ${this.name}`);\n",
    "};\n",
    "\n",
    "const person = {\n",
    "  name: 'Alice'\n",
    "};\n",
    "\n",
    "arrowGreet.call(person); // Output: Hello, my name is undefined\n"
   ]
  },
  {
   "cell_type": "markdown",
   "id": "1ab391f7",
   "metadata": {},
   "source": [
    "In this example, `arrowGreet` is an arrow function, so it does not have its own `this`. As a result, `this.name` is `undefined` when `call()` is used."
   ]
  },
  {
   "cell_type": "markdown",
   "id": "d06feccb",
   "metadata": {},
   "source": [
    "#### Using call() for Inheritance\n",
    "\n",
    "Here's an example to demonstrate how call() can be used to achieve inheritance in JavaScript:"
   ]
  },
  {
   "cell_type": "code",
   "execution_count": null,
   "id": "7a7fcb87",
   "metadata": {},
   "outputs": [],
   "source": [
    "function Animal(name, age) {\n",
    "  this.name = name;\n",
    "  this.age = age;\n",
    "}\n",
    "\n",
    "Animal.prototype.speak = function() {\n",
    "  console.log(`${this.name} makes a noise.`);\n",
    "};\n",
    "\n",
    "function Dog(name, age, breed) {\n",
    "  Animal.call(this, name, age); // Call the Animal constructor with this set to Dog\n",
    "  this.breed = breed;\n",
    "}\n",
    "\n",
    "// Inherit the Animal prototype methods\n",
    "Dog.prototype = Object.create(Animal.prototype);\n",
    "Dog.prototype.constructor = Dog;\n",
    "\n",
    "Dog.prototype.speak = function() {\n",
    "  console.log(`${this.name} barks.`);\n",
    "};\n",
    "\n",
    "const myDog = new Dog('Buddy', 3, 'Golden Retriever');\n",
    "myDog.speak(); // Output: Buddy barks.\n"
   ]
  },
  {
   "cell_type": "markdown",
   "id": "98d5d9d1",
   "metadata": {},
   "source": [
    "### Function `apply()`\n",
    "\n",
    "With the `apply()` method, you can write a method that can be used on different objects.\n",
    "\n",
    "The `apply()` method in JavaScript is similar to the `call()` method in that it allows you to invoke a function with a specified `this` context. However, `apply()` differs in how it handles arguments: **it expects the arguments to be passed as an array or an array-like object**.\n",
    "\n",
    "**Syntax:** `function.apply(thisArg, [argsArray])`\n",
    "- `function`: The function you want to invoke.\n",
    "- `thisArg`: The value to use as `this` when executing the function.\n",
    "- `argsArray`: An array or array-like object containing the arguments to pass to the function.\n",
    "\n",
    "\n",
    "In this example the `fullName` method of `person` is applied on `person1`:"
   ]
  },
  {
   "cell_type": "code",
   "execution_count": null,
   "id": "e991eeac",
   "metadata": {},
   "outputs": [],
   "source": [
    "const person = {\n",
    "  fullName: function() {\n",
    "    return this.firstName + \" \" + this.lastName;\n",
    "  }\n",
    "}\n",
    "\n",
    "const person1 = {\n",
    "  firstName: \"Mary\",\n",
    "  lastName: \"Doe\"\n",
    "}\n",
    "\n",
    "# This will return \"Mary Doe\":\n",
    "person.fullName.apply(person1);"
   ]
  },
  {
   "cell_type": "code",
   "execution_count": null,
   "id": "d30ba30a",
   "metadata": {},
   "outputs": [],
   "source": [
    "function greet(greeting, punctuation) {\n",
    "  console.log(`${greeting}, my name is ${this.name}${punctuation}`);\n",
    "}\n",
    "\n",
    "const person = {\n",
    "  name: 'Alice'\n",
    "};\n",
    "\n",
    "greet.apply(person, ['Hello', '!']); // Output: Hello, my name is Alice!\n",
    "\n",
    "    \n",
    "# Don't get confused:\n",
    "function fun(a,b,c) {\n",
    "    console.log(a,b,c); # [ 1, 2, 3 ] undefined undefined\n",
    "}\n",
    "fun([1,2,3])"
   ]
  },
  {
   "cell_type": "markdown",
   "id": "d6f79e89",
   "metadata": {},
   "source": [
    "The difference is: The `call()` method takes arguments separately. The `apply()` method takes arguments as an array.\n",
    "\n",
    "The `apply()` method is very handy if you want to use an array instead of an argument list.\n",
    "\n",
    "The `apply()` method accepts arguments in an array:"
   ]
  },
  {
   "cell_type": "code",
   "execution_count": null,
   "id": "afa22c38",
   "metadata": {},
   "outputs": [],
   "source": [
    "const person = {\n",
    "  fullName: function(city, country) {\n",
    "    return this.firstName + \" \" + this.lastName + \",\" + city + \",\" + country;\n",
    "  }\n",
    "}\n",
    "\n",
    "const person1 = {\n",
    "  firstName:\"John\",\n",
    "  lastName: \"Doe\"\n",
    "}\n",
    "\n",
    "person.fullName.apply(person1, [\"Oslo\", \"Norway\"]);"
   ]
  },
  {
   "cell_type": "markdown",
   "id": "87690054",
   "metadata": {},
   "source": [
    "Compared with the `call()` method:"
   ]
  },
  {
   "cell_type": "code",
   "execution_count": null,
   "id": "40a5abe0",
   "metadata": {},
   "outputs": [],
   "source": [
    "const person = {\n",
    "  fullName: function(city, country) {\n",
    "    return this.firstName + \" \" + this.lastName + \",\" + city + \",\" + country;\n",
    "  }\n",
    "}\n",
    "\n",
    "const person1 = {\n",
    "  firstName:\"John\",\n",
    "  lastName: \"Doe\"\n",
    "}\n",
    "\n",
    "person.fullName.call(person1, \"Oslo\", \"Norway\");"
   ]
  },
  {
   "cell_type": "markdown",
   "id": "ca2c1305",
   "metadata": {},
   "source": [
    "One common use case for `apply()` is when you need to pass an array of arguments to a function that normally doesn't accept arrays. This is particularly useful with Math functions like `Math.max` and `Math.min`:"
   ]
  },
  {
   "cell_type": "code",
   "execution_count": null,
   "id": "f3a04071",
   "metadata": {},
   "outputs": [],
   "source": [
    "const numbers = [5, 6, 2, 3, 7];\n",
    "\n",
    "const max = Math.max.apply(null, numbers); // Output: 7\n",
    "const min = Math.min.apply(null, numbers); // Output: 2\n",
    "\n",
    "console.log(max, min);"
   ]
  },
  {
   "cell_type": "markdown",
   "id": "bfc57032",
   "metadata": {},
   "source": [
    "Since JavaScript arrays do not have a `max()` method, you can apply the `Math.max()` method instead."
   ]
  },
  {
   "cell_type": "code",
   "execution_count": null,
   "id": "7113ffef",
   "metadata": {},
   "outputs": [],
   "source": [
    "Math.max.apply(null, [1,2,3]); // Will also return 3\n",
    "# first argument (null) does not matter. It is not used in this example.\n",
    "\n",
    "Math.max.apply(Math, [1,2,3]); // Will also return 3\n",
    "\n",
    "Math.max.apply(\" \", [1,2,3]); // Will also return 3\n",
    "\n",
    "Math.max.apply(0, [1,2,3]); // Will also return 3"
   ]
  },
  {
   "cell_type": "markdown",
   "id": "4e866dfd",
   "metadata": {},
   "source": [
    "In JavaScript strict mode, if the first argument of the `apply()` method is not an object, it becomes the owner (object) of the invoked function. In \"non-strict\" mode, it becomes the global object.\n",
    "\n",
    "#### Example with Inheritance\n",
    "Similar to `call()`, the `apply()` method can also be used to invoke methods from one object on another object, which is useful for implementing inheritance:"
   ]
  },
  {
   "cell_type": "code",
   "execution_count": null,
   "id": "39d20d44",
   "metadata": {},
   "outputs": [],
   "source": [
    "function Animal(name, age) {\n",
    "  this.name = name;\n",
    "  this.age = age;\n",
    "}\n",
    "\n",
    "Animal.prototype.speak = function() {\n",
    "  console.log(`${this.name} makes a noise.`);\n",
    "};\n",
    "\n",
    "function Dog(name, age, breed) {\n",
    "  Animal.apply(this, [name, age]); // Call the Animal constructor with this set to Dog\n",
    "  this.breed = breed;\n",
    "}\n",
    "\n",
    "// Inherit the Animal prototype methods\n",
    "Dog.prototype = Object.create(Animal.prototype);\n",
    "Dog.prototype.constructor = Dog;\n",
    "\n",
    "Dog.prototype.speak = function() {\n",
    "  console.log(`${this.name} barks.`);\n",
    "};\n",
    "\n",
    "const myDog = new Dog('Buddy', 3, 'Golden Retriever');\n",
    "myDog.speak(); // Output: Buddy barks.\n"
   ]
  },
  {
   "cell_type": "markdown",
   "id": "415d9325",
   "metadata": {},
   "source": [
    "#### Using apply() with Built-in Functions\n",
    "\n",
    "Here is an example of using `apply()` with built-in functions like `Array.prototype.slice` to convert arguments objects into arrays:"
   ]
  },
  {
   "cell_type": "code",
   "execution_count": null,
   "id": "3b21107b",
   "metadata": {},
   "outputs": [],
   "source": [
    "function sum() {\n",
    "  const args = Array.prototype.slice.apply(arguments);\n",
    "  return args.reduce((acc, curr) => acc + curr, 0);\n",
    "}\n",
    "\n",
    "console.log(sum(1, 2, 3, 4)); // Output: 10\n"
   ]
  },
  {
   "cell_type": "markdown",
   "id": "9282545d",
   "metadata": {},
   "source": [
    "### Function `bind()`\n",
    "\n",
    "With the `bind()` method, an object can borrow a method from another object.\n",
    "\n",
    "The example below creates 2 objects (person and member).\n",
    "\n",
    "**Syntax:** `const boundFunction = function.bind(thisArg, arg1, arg2, ...);`\n",
    "\n",
    "- `function`: The function you want to bind.\n",
    "- `thisArg`: The value to use as `this` when the new function is called.\n",
    "- `arg1`, `arg2`, ...: Optional arguments to prepend to arguments provided to the bound function when invoking it."
   ]
  },
  {
   "cell_type": "code",
   "execution_count": null,
   "id": "b84903af",
   "metadata": {},
   "outputs": [],
   "source": [
    "const person = {\n",
    "  name: 'Alice',\n",
    "  greet: function() {\n",
    "    console.log(`Hello, my name is ${this.name}`);\n",
    "  }\n",
    "};\n",
    "\n",
    "const greetBound = person.greet.bind(person);\n",
    "greetBound(); // Output: Hello, my name is Alice\n",
    "\n",
    "console.log(greetBound)  # [Function: bound greet]"
   ]
  },
  {
   "cell_type": "markdown",
   "id": "4f7dc3f2",
   "metadata": {},
   "source": [
    "**Unlike `call()` and `apply()`, `bind(`) does not immediately invoke the function**.\n",
    "\n",
    "You can also predefine some or all of the arguments for the new function:"
   ]
  },
  {
   "cell_type": "code",
   "execution_count": null,
   "id": "92fbcf2e",
   "metadata": {},
   "outputs": [],
   "source": [
    "function multiply(a, b) {\n",
    "  return a * b;\n",
    "}\n",
    "\n",
    "const double = multiply.bind(null, 2);\n",
    "console.log(double(3)); // Output: 6\n",
    "console.log(double(4)); // Output: 8\n"
   ]
  },
  {
   "cell_type": "markdown",
   "id": "6122adc9",
   "metadata": {},
   "source": [
    "The ability to predefine some arguments is a form of partial application. This can be useful for creating more specific functions from general ones."
   ]
  },
  {
   "cell_type": "code",
   "execution_count": null,
   "id": "14ce9950",
   "metadata": {},
   "outputs": [],
   "source": [
    "function greet(greeting, name) {\n",
    "  console.log(`${greeting}, ${name}!`);\n",
    "}\n",
    "\n",
    "const greetHello = greet.bind(null, 'Hello');\n",
    "greetHello('Alice'); // Output: Hello, Alice!\n",
    "greetHello('Bob'); // Output: Hello, Bob!\n"
   ]
  },
  {
   "cell_type": "markdown",
   "id": "7d91d23f",
   "metadata": {},
   "source": [
    "The member object borrows the fullname method from the person object:"
   ]
  },
  {
   "cell_type": "code",
   "execution_count": null,
   "id": "679a417f",
   "metadata": {},
   "outputs": [],
   "source": [
    "const person = {\n",
    "  firstName:\"John\",\n",
    "  lastName: \"Doe\",\n",
    "  fullName: function () {\n",
    "    return this.firstName + \" \" + this.lastName;\n",
    "  }\n",
    "}\n",
    "\n",
    "const member = {\n",
    "  firstName:\"Hege\",\n",
    "  lastName: \"Nilsen\",\n",
    "}\n",
    "\n",
    "let fullName = person.fullName.bind(member);\n",
    "\n",
    "console.log(fullName())  #  Hege Nilsen"
   ]
  },
  {
   "cell_type": "markdown",
   "id": "623f1dcb",
   "metadata": {},
   "source": [
    "You can use `bind()` to borrow methods from one object to use them in the context of another object:"
   ]
  },
  {
   "cell_type": "code",
   "execution_count": null,
   "id": "70a99d26",
   "metadata": {},
   "outputs": [],
   "source": [
    "const modul = {\n",
    "  x: 42,\n",
    "  getX: function() {\n",
    "    return this.x;\n",
    "  }\n",
    "};\n",
    "\n",
    "const unboundGetX = modul.getX;  # assigning the function reference\n",
    "console.log(unboundGetX()); // Output: undefined (or error in strict mode)\n",
    "\n",
    "const boundGetX = unboundGetX.bind(modul);\n",
    "console.log(boundGetX()); // Output: 42"
   ]
  },
  {
   "cell_type": "markdown",
   "id": "907d1fb5",
   "metadata": {},
   "source": [
    "- `const unboundGetX = modul.getX`: In this line, `unboundGetX` is assigned the function reference of `modul.getX`. Notice that there are no parentheses `()` after `getX`, so the function is not called here. Instead, the `unboundGetX` variable now holds a reference to the `getX` function.\n",
    "\n",
    "- `console.log(unboundGetX())`: Here, `unboundGetX()` is invoked. However, since `unboundGetX `is just a reference to the function, the context (`this`) within `getX` is not the `modul` object anymore. By default, the context (`this`) is either the global object (`window` in browsers, `global` in Node.js) or `undefined` in strict mode. Therefore, `this.x` is `undefined`.\n",
    "\n",
    "- `const boundGetX = unboundGetX.bind(modul)`: The `bind` method creates a new function with the same body and scope as the original function but with the `this` context permanently set to the first argument of `bind`. In this case, `modul`.\n",
    "\n",
    "- `console.log(boundGetX())`: When `boundGetX` is called, it correctly returns `42` because this inside `getX` now refers to the `modul` object, thanks to `bind`."
   ]
  },
  {
   "cell_type": "markdown",
   "id": "b2e080a2",
   "metadata": {},
   "source": [
    "**Sometimes the `bind()` method has to be used to prevent losing `this`**.\n",
    "\n",
    "In the following example, the person object has a display method. In the display method, this refers to the person object:"
   ]
  },
  {
   "cell_type": "code",
   "execution_count": null,
   "id": "d8963845",
   "metadata": {},
   "outputs": [],
   "source": [
    "const person = {\n",
    "  firstName:\"John\",\n",
    "  lastName: \"Doe\",\n",
    "  display: function () {\n",
    "    let x = this.firstName + \" \" + this.lastName;\n",
    "    console.log(x);  # John Doe\n",
    "  }\n",
    "}\n",
    "\n",
    "person.display();"
   ]
  },
  {
   "cell_type": "markdown",
   "id": "1c301d5b",
   "metadata": {},
   "source": [
    "When a function is used as a callback, `this` is lost.\n",
    "\n",
    "This example will try to display the person name after 3 seconds, but it will display undefined instead:"
   ]
  },
  {
   "cell_type": "code",
   "execution_count": null,
   "id": "a37e1d78",
   "metadata": {},
   "outputs": [],
   "source": [
    "const person = {\n",
    "  firstName:\"John\",\n",
    "  lastName: \"Doe\",\n",
    "  display: function () {\n",
    "    let x = this.firstName + \" \" + this.lastName;\n",
    "    console.log(x);  # undefined undefined\n",
    "  }\n",
    "}\n",
    "\n",
    "setTimeout(person.display, 3000);"
   ]
  },
  {
   "cell_type": "markdown",
   "id": "92384353",
   "metadata": {},
   "source": [
    "The `bind(`) method solves this problem.\n",
    "\n",
    "In the following example, the `bind()` method is used to bind person.display to person.\n",
    "\n",
    "This example will display the person name after 3 seconds:"
   ]
  },
  {
   "cell_type": "code",
   "execution_count": null,
   "id": "6bc8a83e",
   "metadata": {},
   "outputs": [],
   "source": [
    "const person = {\n",
    "  firstName:\"John\",\n",
    "  lastName: \"Doe\",\n",
    "  display: function () {\n",
    "    let x = this.firstName + \" \" + this.lastName;\n",
    "    console.log(x);  # John Doe\n",
    "  }\n",
    "}\n",
    "\n",
    "let display = person.display.bind(person);\n",
    "setTimeout(display, 3000);"
   ]
  },
  {
   "cell_type": "markdown",
   "id": "b3d2c348",
   "metadata": {},
   "source": [
    "Another common use case is in `event handlers` where you want to ensure this refers to the desired object:"
   ]
  },
  {
   "cell_type": "code",
   "execution_count": null,
   "id": "97733ea6",
   "metadata": {},
   "outputs": [],
   "source": [
    "function Button(label) {\n",
    "  this.label = label;\n",
    "}\n",
    "\n",
    "Button.prototype.click = function() {\n",
    "  console.log(`Button ${this.label} clicked`);\n",
    "};\n",
    "\n",
    "const button = new Button('Submit');\n",
    "\n",
    "const buttonElement = document.getElementById('myButton');\n",
    "buttonElement.addEventListener('click', button.click.bind(button));\n"
   ]
  },
  {
   "cell_type": "markdown",
   "id": "0fa3e1f8",
   "metadata": {},
   "source": [
    "### Closures\n",
    "\n",
    "- JavaScript variables can belong to the local or global scope.\n",
    "\n",
    "- Global variables can be made local (private) with closures.\n"
   ]
  },
  {
   "cell_type": "code",
   "execution_count": null,
   "id": "03635b90",
   "metadata": {},
   "outputs": [],
   "source": [
    "# A function can access all variables defined inside the function, like this:\n",
    "\n",
    "function myFunction() {\n",
    "  let a = 4;\n",
    "  return a * a;\n",
    "}"
   ]
  },
  {
   "cell_type": "code",
   "execution_count": null,
   "id": "47545f00",
   "metadata": {},
   "outputs": [],
   "source": [
    "# But a function can also access variables defined outside the function, like this:\n",
    "\n",
    "let a = 4;\n",
    "function myFunction() {\n",
    "  return a * a;\n",
    "}"
   ]
  },
  {
   "cell_type": "markdown",
   "id": "bfec98f1",
   "metadata": {},
   "source": [
    "In the last example, `a` is a global variable.\n",
    "\n",
    "In a web page, global variables belong to the page.\n",
    "\n",
    "Global variables can be used (and changed) by all other scripts in the page.\n",
    "\n",
    "In the first example, `a` is a local variable.\n",
    "\n",
    "A local variable can only be used inside the function where it is defined. It is hidden from other functions and other scripting code.\n",
    "\n",
    "**Global and local variables with the same name are different variables. Modifying one, does not modify the other**.\n",
    "\n",
    "**NOTE:** Variables created without a declaration keyword (`var`, `let`, or `const`) are always global, even if they are created inside a function."
   ]
  },
  {
   "cell_type": "code",
   "execution_count": null,
   "id": "dab809e1",
   "metadata": {},
   "outputs": [],
   "source": [
    "function myFunction() {\n",
    "  a = 4;\n",
    "}"
   ]
  },
  {
   "cell_type": "markdown",
   "id": "50872675",
   "metadata": {},
   "source": [
    "Global variables live until the page is discarded, like when you navigate to another page or close the window.\n",
    "\n",
    "Local variables have short lives. They are created when the function is invoked, and deleted when the function is finished.\n",
    "\n",
    "Suppose you want to use a variable for counting something, and you want this `counter` to be available to all functions.\n",
    "\n",
    "You could use a global variable, and a function to increase the `counter`:"
   ]
  },
  {
   "cell_type": "code",
   "execution_count": null,
   "id": "7372cef0",
   "metadata": {},
   "outputs": [],
   "source": [
    "# Initiate counter\n",
    "let counter = 0;\n",
    "\n",
    "# Function to increment counter\n",
    "function add() {\n",
    "  counter += 1;\n",
    "}\n",
    "\n",
    "# Call add() 3 times\n",
    "add();\n",
    "add();\n",
    "add();\n",
    "\n",
    "# The counter should now be 3"
   ]
  },
  {
   "cell_type": "markdown",
   "id": "dfff9582",
   "metadata": {},
   "source": [
    "There is a problem with the solution above: Any code on the page can change the counter, without calling `add()`.\n",
    "\n",
    "The counter should be local to the `add()` function, to prevent other code from changing it:"
   ]
  },
  {
   "cell_type": "code",
   "execution_count": null,
   "id": "9047afd1",
   "metadata": {},
   "outputs": [],
   "source": [
    "# Initiate counter\n",
    "let counter = 0;\n",
    "\n",
    "# Function to increment counter\n",
    "function add() {\n",
    "  let counter = 0;\n",
    "  counter += 1;\n",
    "}\n",
    "\n",
    "# Call add() 3 times\n",
    "add();\n",
    "add();\n",
    "add();\n",
    "\n",
    "# The counter should now be 3. But it is 0"
   ]
  },
  {
   "cell_type": "markdown",
   "id": "79c1a64f",
   "metadata": {},
   "source": [
    "It did not work because we display the global counter instead of the local counter.\n",
    "\n",
    "We can remove the global counter and access the local counter by letting the function return it:"
   ]
  },
  {
   "cell_type": "code",
   "execution_count": null,
   "id": "afabbb42",
   "metadata": {},
   "outputs": [],
   "source": [
    "# Function to increment counter\n",
    "function add() {\n",
    "  let counter = 0;\n",
    "  counter += 1;\n",
    "  return counter;\n",
    "}\n",
    "\n",
    "# Call add() 3 times\n",
    "add();\n",
    "add();\n",
    "add();\n",
    "\n",
    "# The counter should now be 3. But it is 1."
   ]
  },
  {
   "cell_type": "markdown",
   "id": "4ff79c36",
   "metadata": {},
   "source": [
    "It did not work because we reset the local counter every time we call the function.\n",
    "\n",
    " A JavaScript inner function can solve this.\n",
    " \n",
    " **Nested Functions:**\n",
    " \n",
    "All functions have access to the global scope.  \n",
    "\n",
    "In fact, in JavaScript, all functions have access to the scope \"above\" them.\n",
    "\n",
    "JavaScript supports nested functions. Nested functions have access to the scope \"above\" them.\n",
    "\n",
    "In this example, the inner function `plus()` has access to the `counter` variable in the parent function:"
   ]
  },
  {
   "cell_type": "code",
   "execution_count": null,
   "id": "47499c66",
   "metadata": {},
   "outputs": [],
   "source": [
    "function add() {\n",
    "  let counter = 0;\n",
    "  function plus() {counter += 1;}\n",
    "  plus();   \n",
    "  return counter;\n",
    "}"
   ]
  },
  {
   "cell_type": "markdown",
   "id": "9c76f3e5",
   "metadata": {},
   "source": [
    "This could have solved the counter dilemma, if we could reach the `plus()` function from the outside.\n",
    "\n",
    "We also need to find a way to execute `counter = 0` only once.\n",
    "\n",
    "We need a closure."
   ]
  },
  {
   "cell_type": "code",
   "execution_count": null,
   "id": "1809bde2",
   "metadata": {},
   "outputs": [],
   "source": [
    "# Closure:\n",
    "const add = (function () {\n",
    "  let counter = 0;\n",
    "  return function () {counter += 1; return counter}\n",
    "})();\n",
    "\n",
    "add();\n",
    "add();\n",
    "add();\n",
    "\n",
    "# the counter is now 3"
   ]
  },
  {
   "cell_type": "markdown",
   "id": "a6529848",
   "metadata": {},
   "source": [
    "**Example Explained:**\n",
    "\n",
    "The variable `add` is assigned to the return value of a self-invoking function.\n",
    "\n",
    "The self-invoking function only runs once. It sets the counter to zero (0), and returns a function expression.\n",
    "\n",
    "This way add becomes a function. The \"wonderful\" part is that it can access the counter in the parent scope.\n",
    "\n",
    "This is called a JavaScript `closure`. It makes it possible for a function to have \"private\" variables.\n",
    "\n",
    "The counter is protected by the scope of the anonymous function, and can only be changed using the add function.\n",
    "\n",
    "**A closure is a function having access to the parent scope, even after the parent function has closed.**"
   ]
  },
  {
   "cell_type": "markdown",
   "id": "370a444c",
   "metadata": {},
   "source": [
    "### How Closures Work\n",
    "\n",
    "To understand closures, it’s essential to understand how scope works in JavaScript. JavaScript has function scope and block scope (since ES6). When functions are nested, the inner function has access to variables declared in its outer function."
   ]
  },
  {
   "cell_type": "code",
   "execution_count": null,
   "id": "5ed1683c",
   "metadata": {},
   "outputs": [],
   "source": [
    "function outerFunction() {\n",
    "  let outerVariable = 'I am outside!';\n",
    "\n",
    "  function innerFunction() {\n",
    "    console.log(outerVariable); // Accesses outerVariable\n",
    "  }\n",
    "\n",
    "  return innerFunction;\n",
    "}\n",
    "\n",
    "const innerFunc = outerFunction();\n",
    "innerFunc(); // Output: I am outside!\n"
   ]
  },
  {
   "cell_type": "markdown",
   "id": "01212c9c",
   "metadata": {},
   "source": [
    "**Closures are often used in callbacks and event handlers to maintain the state between calls**."
   ]
  },
  {
   "cell_type": "code",
   "execution_count": null,
   "id": "6d3baf18",
   "metadata": {},
   "outputs": [],
   "source": [
    "function setupListener(element, message) {\n",
    "  element.addEventListener('click', function() {\n",
    "    console.log(message);\n",
    "  });\n",
    "}\n",
    "\n",
    "const button = document.getElementById('myButton');\n",
    "setupListener(button, 'Button clicked!');\n",
    "// Clicking the button logs 'Button clicked!'\n"
   ]
  },
  {
   "cell_type": "markdown",
   "id": "7fede41a",
   "metadata": {},
   "source": [
    "**Closures are particularly useful (and sometimes problematic) when dealing with loops in JavaScript. Consider this classic example involving a loop**:"
   ]
  },
  {
   "cell_type": "code",
   "execution_count": null,
   "id": "3357bde9",
   "metadata": {},
   "outputs": [],
   "source": [
    "function createFunctions() {\n",
    "  let funcs = [];\n",
    "\n",
    "  for (var i = 0; i < 3; i++) {\n",
    "    funcs.push(function() {\n",
    "      console.log(i);\n",
    "    });\n",
    "  }\n",
    "\n",
    "  return funcs;\n",
    "}\n",
    "\n",
    "const functions = createFunctions();\n",
    "functions[0](); // Output: 3\n",
    "functions[1](); // Output: 3\n",
    "functions[2](); // Output: 3\n",
    "\n",
    "# All functions log 3 because they share the same reference to i. When the loop completes, i is 3."
   ]
  },
  {
   "cell_type": "markdown",
   "id": "0a391775",
   "metadata": {},
   "source": [
    "To fix this, you can use an IIFE (Immediately Invoked Function Expression) to create a new scope:"
   ]
  },
  {
   "cell_type": "code",
   "execution_count": null,
   "id": "1b36fb6d",
   "metadata": {},
   "outputs": [],
   "source": [
    "function createFunctions() {\n",
    "  let funcs = [];\n",
    "\n",
    "  for (var i = 0; i < 3; i++) {\n",
    "    funcs.push((function(value) {\n",
    "      return function() {\n",
    "        console.log(value);\n",
    "      };\n",
    "    })(i));\n",
    "  }\n",
    "\n",
    "  return funcs;\n",
    "}\n",
    "\n",
    "const functions = createFunctions();\n",
    "functions[0](); // Output: 0\n",
    "functions[1](); // Output: 1\n",
    "functions[2](); // Output: 2\n"
   ]
  },
  {
   "cell_type": "markdown",
   "id": "88042ae8",
   "metadata": {},
   "source": [
    "Using let (block scope) instead of var (function scope) also solves this problem too:"
   ]
  },
  {
   "cell_type": "code",
   "execution_count": null,
   "id": "3ad64454",
   "metadata": {},
   "outputs": [],
   "source": [
    "function createFunctions() {\n",
    "  let funcs = [];\n",
    "\n",
    "  for (let i = 0; i < 3; i++) {\n",
    "    funcs.push(function() {\n",
    "      console.log(i);\n",
    "    });\n",
    "  }\n",
    "\n",
    "  return funcs;\n",
    "}\n",
    "\n",
    "const functions = createFunctions();\n",
    "functions[0](); // Output: 0\n",
    "functions[1](); // Output: 1\n",
    "functions[2](); // Output: 2\n"
   ]
  },
  {
   "cell_type": "markdown",
   "id": "10ec3c25",
   "metadata": {},
   "source": [
    "# Objects"
   ]
  },
  {
   "cell_type": "markdown",
   "id": "af9d9405",
   "metadata": {},
   "source": [
    "Objects are containers for Properties and Methods.\n",
    "\n",
    "- Properties are named Values.\n",
    "- Methods are Functions stored as Properties.\n",
    "- Properties can be primitive values, functions, or even other objects.\n",
    "\n",
    "- It is a common practice to declare objects with the `const` keyword.\n",
    "\n",
    "**How to Define a JavaScript Object:**\n",
    "- Using an Object Literal\n",
    "- Using the `new` Keyword\n",
    "- Using an Object Constructor\n",
    "\n",
    "**Using an Object Literal:**\n",
    "An object literal is a list of name:value pairs inside curly braces `{}`."
   ]
  },
  {
   "cell_type": "code",
   "execution_count": null,
   "id": "7c781a55",
   "metadata": {},
   "outputs": [],
   "source": [
    "const obj1 = {type:\"Fiat\", model:\"500\", color:\"white\"};\n",
    "const obj2 = {\"type\":\"Fiat\", \"model\":\"500\", \"color\":\"white\"};\n",
    "\n",
    "# This example creates an empty JavaScript object, and then adds 4 properties:\n",
    "# Create an Object\n",
    "const person = {};\n",
    "\n",
    "# Add Properties\n",
    "person.firstName = \"John\";\n",
    "person.lastName = \"Doe\";\n",
    "person.age = 50;\n",
    "person.eyeColor = \"blue\";"
   ]
  },
  {
   "cell_type": "markdown",
   "id": "af0ef2e8",
   "metadata": {},
   "source": [
    "**Using the new Keyword:**\n",
    "This example create a new JavaScript object using `new Object()`, and then adds 4 properties:"
   ]
  },
  {
   "cell_type": "code",
   "execution_count": null,
   "id": "0f5b15c0",
   "metadata": {},
   "outputs": [],
   "source": [
    "# Create an Object\n",
    "const person = new Object();\n",
    "\n",
    "# Add Properties\n",
    "person.firstName = \"John\";\n",
    "person.lastName = \"Doe\";\n",
    "person.age = 50;\n",
    "person.eyeColor = \"blue\";"
   ]
  },
  {
   "cell_type": "markdown",
   "id": "81ed8414",
   "metadata": {},
   "source": [
    "**`For readability, simplicity and execution speed, use the object literal method.`**\n",
    "\n",
    "### Object Properties:\n",
    "\n",
    "- An Object is an Unordered Collection of Properties\n",
    "- Properties are the most important part of JavaScript objects.\n",
    "- Properties can be changed, added, deleted, and some are read only."
   ]
  },
  {
   "cell_type": "code",
   "execution_count": null,
   "id": "8e94f147",
   "metadata": {},
   "outputs": [],
   "source": [
    "# You can access object properties in two ways:\n",
    "person.lastName; # first way\n",
    "person[\"lastName\"]; # second way\n",
    "\n",
    "# You can add new properties to an existing object by simply giving it a value:\n",
    "person.nationality = \"English\";\n",
    "\n",
    "# delete keyword deletes a property from an object:\n",
    "delete person.age;\n",
    "delete person[\"age\"];"
   ]
  },
  {
   "cell_type": "markdown",
   "id": "c691368e",
   "metadata": {},
   "source": [
    "**NOTE:** The delete keyword deletes both the value of the property and the property itself. After deletion, the property cannot be used before it is added back again.\n",
    "\n",
    "**Property values in an object can be other objects:**"
   ]
  },
  {
   "cell_type": "code",
   "execution_count": null,
   "id": "05135ee0",
   "metadata": {},
   "outputs": [],
   "source": [
    "myObj = {\n",
    "  name:\"John\",\n",
    "  age:30,\n",
    "  myCars: {\n",
    "    car1:\"Ford\",\n",
    "    car2:\"BMW\",\n",
    "    car3:\"Fiat\"\n",
    "  }\n",
    "}\n",
    "\n",
    "# You can access nested objects using the dot notation or the bracket notation:\n",
    "\n",
    "myObj.myCars.car2;\n",
    "myObj.myCars[\"car2\"];\n",
    "myObj[\"myCars\"][\"car2\"];"
   ]
  },
  {
   "cell_type": "markdown",
   "id": "38672497",
   "metadata": {},
   "source": [
    "### Object Methods:\n",
    "\n",
    "- Methods are actions that can be performed on objects.\n",
    "- Methods are function definitions stored as property values."
   ]
  },
  {
   "cell_type": "code",
   "execution_count": null,
   "id": "0180fbfe",
   "metadata": {},
   "outputs": [],
   "source": [
    "const person = {\n",
    "  firstName: \"John\",\n",
    "  lastName : \"Doe\",\n",
    "  id       : 5566,\n",
    "  fullName : function() {\n",
    "    return this.firstName + \" \" + this.lastName;\n",
    "  }\n",
    "};\n",
    "# You access an object method with the following syntax:\n",
    "console.log(person.fullName()) # calling function\n",
    "\n",
    "# If you access the fullName property without (), it will return the function definition"
   ]
  },
  {
   "cell_type": "markdown",
   "id": "b0746b73",
   "metadata": {},
   "source": [
    "In the example above, this refers to the person object:\n",
    "\n",
    "- `this.firstName` means the `firstName` property of `person`.\n",
    "- `this.lastName` means the `lastName` property of `person`.\n",
    "\n",
    "Let's see below example also:"
   ]
  },
  {
   "cell_type": "code",
   "execution_count": null,
   "id": "0df5ec9f",
   "metadata": {},
   "outputs": [],
   "source": [
    "const person = {\n",
    "  firstName: \"John\",\n",
    "  lastName : \"Doe\",\n",
    "  id       : 5566,\n",
    "  fullName : function() {\n",
    "    return this.firstName + \" \" + this.lastName;\n",
    "  }\n",
    "};\n",
    "\n",
    "const p1 = {\n",
    "  firstName: \"August\",\n",
    "  lastName: \"James\"\n",
    "}\n",
    "console.log(person.fullName.call(p1)) # August James"
   ]
  },
  {
   "cell_type": "markdown",
   "id": "eddca964",
   "metadata": {},
   "source": [
    "**JavaScript Objects are Mutable:**\n",
    "\n",
    "- Objects are mutable: They are addressed by reference, not by value.\n",
    "\n",
    "If person is an object, the following statement will not create a copy of person:"
   ]
  },
  {
   "cell_type": "code",
   "execution_count": null,
   "id": "5f85cd49",
   "metadata": {},
   "outputs": [],
   "source": [
    "const x = person;"
   ]
  },
  {
   "cell_type": "markdown",
   "id": "2accf9fb",
   "metadata": {},
   "source": [
    "- The object x is not a copy of person. The object x is person.\n",
    "- The object x and the object person share the same memory address.\n",
    "- Any changes to x will also change person.\n",
    "\n",
    "### Shallow copy and Deep copy\n",
    "\n",
    "**Shallow copy:** A shallow copy of an object means that only the first level of the object is copied. If the object contains other objects (nested objects), the references to these nested objects are copied, not the objects themselves."
   ]
  },
  {
   "cell_type": "code",
   "execution_count": null,
   "id": "29b1303c",
   "metadata": {},
   "outputs": [],
   "source": [
    "# using Object.assign()\n",
    "\n",
    "const original = { a: 1, b: { c: 2 } };\n",
    "const shallowCopy = Object.assign({}, original);\n",
    "\n",
    "console.log(shallowCopy); // { a: 1, b: { c: 2 } }\n",
    "shallowCopy.b.c = 3;\n",
    "console.log(original.b.c); // 3 (since it's a shallow copy, the nested object is referenced)\n"
   ]
  },
  {
   "cell_type": "code",
   "execution_count": null,
   "id": "92d79e75",
   "metadata": {},
   "outputs": [],
   "source": [
    "# using Spread Operator\n",
    "\n",
    "const original = { a: 1, b: { c: 2 } };\n",
    "const shallowCopy = { ...original };\n",
    "\n",
    "console.log(shallowCopy); // { a: 1, b: { c: 2 } }\n",
    "shallowCopy.b.c = 3;\n",
    "console.log(original.b.c); // 3 (same reason as above)\n"
   ]
  },
  {
   "cell_type": "markdown",
   "id": "67988148",
   "metadata": {},
   "source": [
    "**Deep Copy:** A deep copy of an object means that all levels of the object are copied. This includes nested objects. Changes to the nested objects in the copied object will not affect the original object."
   ]
  },
  {
   "cell_type": "code",
   "execution_count": null,
   "id": "cba0bafa",
   "metadata": {},
   "outputs": [],
   "source": [
    "# using Using JSON.parse() and JSON.stringify()\n",
    "\n",
    "const original = { a: 1, b: { c: 2 } };\n",
    "const deepCopy = JSON.parse(JSON.stringify(original));\n",
    "\n",
    "console.log(deepCopy); // { a: 1, b: { c: 2 } }\n",
    "deepCopy.b.c = 3;\n",
    "console.log(original.b.c); // 2 (since it's a deep copy, the nested object is not referenced)\n"
   ]
  },
  {
   "cell_type": "code",
   "execution_count": null,
   "id": "730d0b31",
   "metadata": {},
   "outputs": [],
   "source": [
    "# Using Lodash's _.cloneDeep()\n",
    "\n",
    "const _ = require('lodash');\n",
    "\n",
    "const original = { a: 1, b: { c: 2 } };\n",
    "const deepCopy = _.cloneDeep(original);\n",
    "\n",
    "console.log(deepCopy); // { a: 1, b: { c: 2 } }\n",
    "deepCopy.b.c = 3;\n",
    "console.log(original.b.c); // 2 (nested object is not referenced)\n"
   ]
  },
  {
   "cell_type": "code",
   "execution_count": null,
   "id": "23bbd9a3",
   "metadata": {},
   "outputs": [],
   "source": [
    "# Using a Recursive Function\n",
    "\n",
    "function deepClone(obj) {\n",
    "  if (obj === null || typeof obj !== 'object') {\n",
    "    return obj;\n",
    "  }\n",
    "\n",
    "  if (Array.isArray(obj)) {\n",
    "    const copy = [];\n",
    "    obj.forEach((element, index) => {\n",
    "      copy[index] = deepClone(element);\n",
    "    });\n",
    "    return copy;\n",
    "  }\n",
    "\n",
    "  const copy = {};\n",
    "  Object.keys(obj).forEach(key => {\n",
    "    copy[key] = deepClone(obj[key]);\n",
    "  });\n",
    "\n",
    "  return copy;\n",
    "}\n",
    "\n",
    "const original = { a: 1, b: { c: 2 } };\n",
    "const deepCopy = deepClone(original);\n",
    "\n",
    "console.log(deepCopy); // { a: 1, b: { c: 2 } }\n",
    "deepCopy.b.c = 3;\n",
    "console.log(original.b.c); // 2 (nested object is not referenced)\n"
   ]
  },
  {
   "cell_type": "markdown",
   "id": "1a17d101",
   "metadata": {},
   "source": [
    "### Object Constructor Functions\n",
    "- Sometimes we need to create many objects of the same type.\n",
    "- To create an object type we use an object constructor function.\n",
    "\n",
    "It is considered good practice to name constructor functions with an upper-case first letter."
   ]
  },
  {
   "cell_type": "code",
   "execution_count": null,
   "id": "3635c58b",
   "metadata": {},
   "outputs": [],
   "source": [
    "# Constructor function for Person objects\n",
    "function Person(first, last, age, eye) {\n",
    "  this.firstName = first;\n",
    "  this.lastName = last;\n",
    "  this.age = age;\n",
    "  this.eyeColor = eye;\n",
    "}\n",
    "\n",
    "# Create two Person objects\n",
    "const myFather = new Person(\"John\", \"Doe\", 50, \"blue\");\n",
    "const myMother = new Person(\"Sally\", \"Rally\", 48, \"green\");\n",
    "\n",
    "# Adding a property to a created object is easy:\n",
    "myFather.nationality = \"English\"; # The property will be added to myFather. Not to any other Person Objects."
   ]
  },
  {
   "cell_type": "code",
   "execution_count": null,
   "id": "e29a08e1",
   "metadata": {},
   "outputs": [],
   "source": [
    "# You can NOT add a new property to an object constructor:\n",
    "Person.nationality = \"English\"; # ERROR\n",
    "\n",
    "# To add a new property, you must add it to the constructor function prototype:\n",
    "Person.prototype.nationality = \"English\";"
   ]
  },
  {
   "cell_type": "markdown",
   "id": "bc70bd9a",
   "metadata": {},
   "source": [
    "**NOTE:** In the constructor function, `this` has no value. The value of `this` will become the new object when a new object is created.\n",
    "\n",
    "**A constructor function can also have methods:**"
   ]
  },
  {
   "cell_type": "code",
   "execution_count": null,
   "id": "b43d475f",
   "metadata": {},
   "outputs": [],
   "source": [
    "function Person(first, last, age, eyecolor) {\n",
    "  this.firstName = first;\n",
    "  this.lastName = last;\n",
    "  this.age = age;\n",
    "  this.eyeColor = eyecolor;\n",
    "  this.fullName = function() {\n",
    "    return this.firstName + \" \" + this.lastName;\n",
    "  };\n",
    "}"
   ]
  },
  {
   "cell_type": "markdown",
   "id": "2ad92063",
   "metadata": {},
   "source": [
    "**Adding a method to a created object is easy:**"
   ]
  },
  {
   "cell_type": "code",
   "execution_count": null,
   "id": "3b1db7e1",
   "metadata": {},
   "outputs": [],
   "source": [
    "# Constructor function for Person Objects\n",
    "function Person(first, last, age, eye) {\n",
    "  this.firstName = first;\n",
    "  this.lastName = last;\n",
    "  this.age = age;\n",
    "  this.eyeColor = eye;\n",
    "}\n",
    "\n",
    "# Create 2 Person objects\n",
    "const myFather = new Person(\"John\", \"Doe\", 50, \"blue\");\n",
    "const myMother = new Person(\"Sally\", \"Rally\", 48, \"green\");\n",
    "\n",
    "# Add a Name Method\n",
    "myMother.changeName = function (name) {\n",
    "  this.lastName = name;\n",
    "}\n",
    "\n",
    "# Change Name\n",
    "myMother.changeName(\"Doe\"); # The method will be added to myMother. Not to any other Person Objects."
   ]
  },
  {
   "cell_type": "markdown",
   "id": "d5443032",
   "metadata": {},
   "source": [
    "You cannot add a new method to an object constructor function. This code will produce a TypeError:"
   ]
  },
  {
   "cell_type": "code",
   "execution_count": null,
   "id": "520c44b5",
   "metadata": {},
   "outputs": [],
   "source": [
    "Person.changeName = function (name) {\n",
    "  this.lastName = name;\n",
    "}\n",
    "\n",
    "myMother.changeName(\"Doe\"); # ERROR\n",
    "\n",
    "# Adding a new method must be done to the constructor function prototype:\n",
    "Person.prototype.changeName = function (name) {\n",
    "  this.lastName = name;\n",
    "}\n",
    "\n",
    "myMother.changeName(\"Doe\");"
   ]
  },
  {
   "cell_type": "markdown",
   "id": "d96c9c7c",
   "metadata": {},
   "source": [
    "**NOTE:** The `changeName()` function assigns the value of name to the person's `lastName` property, substituting `this` with `myMother`."
   ]
  },
  {
   "cell_type": "markdown",
   "id": "f7be9312",
   "metadata": {},
   "source": [
    "### General Methods\n",
    "\n",
    "1. The `Object.assign()` method copies properties from one or more source objects to a target object."
   ]
  },
  {
   "cell_type": "code",
   "execution_count": null,
   "id": "f555b992",
   "metadata": {},
   "outputs": [],
   "source": [
    "# Create Target Object\n",
    "const person1 = {\n",
    "  firstName: \"John\",\n",
    "  lastName: \"Doe\",\n",
    "  age: 50,\n",
    "  eyeColor: \"blue\"\n",
    "};\n",
    "\n",
    "# Create Source Object\n",
    "const person2 = {firstName: \"Anne\", lastName: \"Smith\", gender: \"male\", category: \"OBC\"};\n",
    "\n",
    "# Assign Source to Target\n",
    "Object.assign(person1, person2);\n",
    "\n",
    "console.log(person1);\n",
    "\n",
    "# Output:\n",
    "{\n",
    "  firstName: 'Anne',\n",
    "  lastName: 'Smith',\n",
    "  age: 50,\n",
    "  eyeColor: 'blue',\n",
    "  gender: 'male',\n",
    "  category: 'OBC'\n",
    "}"
   ]
  },
  {
   "cell_type": "markdown",
   "id": "ad7f47cb",
   "metadata": {},
   "source": [
    "**`Object.assign()` can be used to create a shallow copy of an object.**"
   ]
  },
  {
   "cell_type": "markdown",
   "id": "e1aac822",
   "metadata": {},
   "source": [
    "2. `Object.entries()` returns an array of the key/value pairs in an object:"
   ]
  },
  {
   "cell_type": "code",
   "execution_count": null,
   "id": "c213559a",
   "metadata": {},
   "outputs": [],
   "source": [
    "const person = {\n",
    "  firstName : \"John\",\n",
    "  lastName : \"Doe\",\n",
    "  age : 50,\n",
    "  eyeColor : \"blue\"\n",
    "};\n",
    "\n",
    "let text = Object.entries(person);\n",
    "\n",
    "console.log(text)\n",
    "\n",
    "# Output:\n",
    "[\n",
    "  [ 'firstName', 'John' ],\n",
    "  [ 'lastName', 'Doe' ],\n",
    "  [ 'age', 50 ],\n",
    "  [ 'eyeColor', 'blue' ]\n",
    "]"
   ]
  },
  {
   "cell_type": "code",
   "execution_count": null,
   "id": "49bc8d60",
   "metadata": {},
   "outputs": [],
   "source": [
    "console.log(text[0]) # [ 'firstName', 'John' ]\n",
    "\n",
    "console.log(text[0][0]) # firstName\n",
    "console.log(text[0][1]) # John\n",
    "\n",
    "console.log(text[3][1]) # blue"
   ]
  },
  {
   "cell_type": "markdown",
   "id": "c31e3a04",
   "metadata": {},
   "source": [
    "`Object.entries()` makes it simple to use objects in loops:"
   ]
  },
  {
   "cell_type": "code",
   "execution_count": null,
   "id": "99e36fc0",
   "metadata": {},
   "outputs": [],
   "source": [
    "const fruits = {Bananas:300, Oranges:200, Apples:500};\n",
    "\n",
    "let text = \"\";\n",
    "for (let [fruit, value] of Object.entries(fruits)) {\n",
    "  console.log(fruit, value)\n",
    "}\n",
    "\n",
    "# Output:\n",
    "Bananas 300\n",
    "Oranges 200\n",
    "Apples 500"
   ]
  },
  {
   "cell_type": "markdown",
   "id": "795d61ed",
   "metadata": {},
   "source": [
    "`Object.entries()` also makes it simple to convert objects to maps:"
   ]
  },
  {
   "cell_type": "code",
   "execution_count": null,
   "id": "0ca696cd",
   "metadata": {},
   "outputs": [],
   "source": [
    "const fruits = {Bananas:300, Oranges:200, Apples:500};\n",
    "\n",
    "const myMap = new Map(Object.entries(fruits));\n",
    "\n",
    "console.log(myMap)\n",
    "\n",
    "# Output:\n",
    "Map(3) { 'Bananas' => 300, 'Oranges' => 200, 'Apples' => 500 }"
   ]
  },
  {
   "cell_type": "markdown",
   "id": "c06039e4",
   "metadata": {},
   "source": [
    "3. The `fromEntries()` method creates an object from a list of key/value pairs."
   ]
  },
  {
   "cell_type": "code",
   "execution_count": null,
   "id": "ae72b17f",
   "metadata": {},
   "outputs": [],
   "source": [
    "const fruits = [\n",
    "  [\"apples\", 300],\n",
    "  [\"pears\", 900],\n",
    "  [\"bananas\", 500]\n",
    "];\n",
    "\n",
    "const myObj = Object.fromEntries(fruits);\n",
    "\n",
    "console.log(myObj)\n",
    "\n",
    "# Output:\n",
    "{ apples: 300, pears: 900, bananas: 500 }"
   ]
  },
  {
   "cell_type": "markdown",
   "id": "98708522",
   "metadata": {},
   "source": [
    "4. `Object.values()` is similar to `Object.entries()`, but returns a single dimension array of the object values:"
   ]
  },
  {
   "cell_type": "code",
   "execution_count": null,
   "id": "282f4297",
   "metadata": {},
   "outputs": [],
   "source": [
    "const person = {\n",
    "  firstName : \"John\",\n",
    "  lastName : \"Doe\",\n",
    "  age : 50,\n",
    "  eyeColor : \"blue\"\n",
    "};\n",
    "\n",
    "let text = Object.values(person);\n",
    "\n",
    "console.log(text)\n",
    "\n",
    "# Output:\n",
    "[ 'John', 'Doe', 50, 'blue' ]"
   ]
  },
  {
   "cell_type": "markdown",
   "id": "2f4f6ab9",
   "metadata": {},
   "source": [
    "5. The `Object.groupBy()` method groups elements of an object according to string values returned from a callback function.\n",
    "\n",
    "The `Object.groupBy()` method does not change the original object."
   ]
  },
  {
   "cell_type": "code",
   "execution_count": null,
   "id": "ad152f45",
   "metadata": {},
   "outputs": [],
   "source": [
    "# Create an Array\n",
    "const fruits = [\n",
    "  {name:\"apples\", quantity:300},\n",
    "  {name:\"bananas\", quantity:500},\n",
    "  {name:\"oranges\", quantity:200},\n",
    "  {name:\"kiwi\", quantity:150}\n",
    "];\n",
    "\n",
    "# Callback function to Group Elements\n",
    "function myCallback({ quantity }) {\n",
    "  return quantity > 200 ? \"ok\" : \"low\";\n",
    "}\n",
    "\n",
    "# Group by Quantity\n",
    "const result = Object.groupBy(fruits, myCallback);"
   ]
  },
  {
   "cell_type": "markdown",
   "id": "46cc4225",
   "metadata": {},
   "source": [
    "6. The `Object.keys()` method returns an array with the keys of an object."
   ]
  },
  {
   "cell_type": "code",
   "execution_count": null,
   "id": "0d5630e7",
   "metadata": {},
   "outputs": [],
   "source": [
    "# Create an Object\n",
    "const person = {\n",
    "  firstName: \"John\",\n",
    "  lastName: \"Doe\",\n",
    "  age: 50,\n",
    "  eyeColor: \"blue\"\n",
    "};\n",
    "\n",
    "# Get the Keys\n",
    "const keys = Object.keys(person);\n",
    "\n",
    "console.log(keys)\n",
    "\n",
    "# Output:\n",
    "[ 'firstName', 'lastName', 'age', 'eyeColor' ]"
   ]
  },
  {
   "cell_type": "markdown",
   "id": "583f0371",
   "metadata": {},
   "source": [
    "### JavaScript Getter (The get Keyword)\n",
    "\n",
    "This example uses a `lang` property to `get` the value of the `language` property."
   ]
  },
  {
   "cell_type": "code",
   "execution_count": null,
   "id": "5ee11c64",
   "metadata": {},
   "outputs": [],
   "source": [
    "# Create an object:\n",
    "const person = {\n",
    "  firstName: \"John\",\n",
    "  lastName: \"Doe\",\n",
    "  language: \"en\",\n",
    "  get lang() {\n",
    "    return this.language;\n",
    "  }\n",
    "};\n",
    "\n",
    "# Display data from the object using a getter:\n",
    "console.log(person.lang) # en\n",
    "\n",
    "\n",
    "# without getter\n",
    "console.log(person.language) # en"
   ]
  },
  {
   "cell_type": "markdown",
   "id": "4d733a64",
   "metadata": {},
   "source": [
    "### JavaScript Setter (The set Keyword)\n",
    "\n",
    "This example uses a `lang` property to `set` the value of the `language` property."
   ]
  },
  {
   "cell_type": "code",
   "execution_count": null,
   "id": "03502476",
   "metadata": {},
   "outputs": [],
   "source": [
    "const person = {\n",
    "  firstName: \"John\",\n",
    "  lastName: \"Doe\",\n",
    "  language: \"\",\n",
    "  set lang(lang) {\n",
    "    this.language = lang;\n",
    "  }\n",
    "};\n",
    "\n",
    "# Set an object property using a setter:\n",
    "person.lang = \"en\"; \n",
    "# Display data from the object:\n",
    "console.log(person.language) # en\n",
    "\n",
    "\n",
    "# without setter\n",
    "person.language = 'hn';\n",
    "console.log(person.language) # hn"
   ]
  },
  {
   "cell_type": "markdown",
   "id": "119b564f",
   "metadata": {},
   "source": [
    "What is the differences between these two examples?:"
   ]
  },
  {
   "cell_type": "code",
   "execution_count": null,
   "id": "242b71ed",
   "metadata": {},
   "outputs": [],
   "source": [
    "# Eaxmple 1\n",
    "const person = {\n",
    "  firstName: \"John\",\n",
    "  lastName: \"Doe\",\n",
    "  fullName: function() {\n",
    "    return this.firstName + \" \" + this.lastName;\n",
    "  }\n",
    "};\n",
    "\n",
    "# Display data from the object using a method:\n",
    "console.log(person.fullName())\n",
    "\n",
    "# Output:\n",
    "John Doe\n",
    "\n",
    "#----------------\n",
    "\n",
    "# Eaxmple 2\n",
    "const person = {\n",
    "  firstName: \"John\",\n",
    "  lastName: \"Doe\",\n",
    "  get fullName() {\n",
    "    return this.firstName + \" \" + this.lastName;\n",
    "  }\n",
    "};\n",
    "\n",
    "# Display data from the object using a getter:\n",
    "console.log(person.fullName)\n",
    "\n",
    "# Output:\n",
    "John Doe"
   ]
  },
  {
   "cell_type": "markdown",
   "id": "81e7898e",
   "metadata": {},
   "source": [
    "Example 1 access fullName as a function: person.fullName(). Example 2 access fullName as a property: person.fullName. The second example provides a simpler syntax.\n",
    "\n",
    "### Data Quality\n",
    "\n",
    "JavaScript can secure better data quality when using getters and setters.\n",
    "\n",
    "Using the `lang` property, in this example, returns the value of the `language` property in upper case:"
   ]
  },
  {
   "cell_type": "code",
   "execution_count": null,
   "id": "5ec0e5ce",
   "metadata": {},
   "outputs": [],
   "source": [
    "# Create an object:\n",
    "const person = {\n",
    "  firstName: \"John\",\n",
    "  lastName: \"Doe\",\n",
    "  language: \"en\",\n",
    "  get lang() {\n",
    "    return this.language.toUpperCase();\n",
    "  }\n",
    "};\n",
    "\n",
    "# Display data from the object using a getter:\n",
    "console.log(person.lang)\n",
    "\n",
    "# Output:\n",
    "EN"
   ]
  },
  {
   "cell_type": "markdown",
   "id": "d1a8aec7",
   "metadata": {},
   "source": [
    "Using the `lang` property, in this example, stores an upper case value in the `language` property:"
   ]
  },
  {
   "cell_type": "code",
   "execution_count": null,
   "id": "6167b524",
   "metadata": {},
   "outputs": [],
   "source": [
    "const person = {\n",
    "  firstName: \"John\",\n",
    "  lastName: \"Doe\",\n",
    "  language: \"\",\n",
    "  set lang(lang) {\n",
    "    this.language = lang.toUpperCase();\n",
    "  }\n",
    "};\n",
    "\n",
    "# Set an object property using a setter:\n",
    "person.lang = \"en\";\n",
    "\n",
    "# Display data from the object:\n",
    "console.log(person.language);\n",
    "\n",
    "# Output:\n",
    "EN"
   ]
  },
  {
   "cell_type": "markdown",
   "id": "9d45d9aa",
   "metadata": {},
   "source": [
    "### Object.defineProperty()\n",
    "\n",
    "The `Object.defineProperty()` method can also be used to add Getters and Setters:"
   ]
  },
  {
   "cell_type": "code",
   "execution_count": null,
   "id": "f9faa2aa",
   "metadata": {},
   "outputs": [],
   "source": [
    "# Define object\n",
    "const obj = {counter : 0};\n",
    "\n",
    "# Define setters and getters\n",
    "Object.defineProperty(obj, \"reset\", {\n",
    "  get : function () {this.counter = 0;}\n",
    "});\n",
    "Object.defineProperty(obj, \"increment\", {\n",
    "  get : function () {this.counter++;}\n",
    "});\n",
    "Object.defineProperty(obj, \"decrement\", {\n",
    "  get : function () {this.counter--;}\n",
    "});\n",
    "Object.defineProperty(obj, \"add\", {\n",
    "  set : function (value) {this.counter += value;}\n",
    "});\n",
    "Object.defineProperty(obj, \"subtract\", {\n",
    "  set : function (value) {this.counter -= value;}\n",
    "});\n",
    "\n",
    "# Play with the counter:\n",
    "obj.reset;\n",
    "obj.add = 5;\n",
    "obj.subtract = 1;\n",
    "obj.increment;\n",
    "obj.decrement;"
   ]
  },
  {
   "cell_type": "markdown",
   "id": "2d3f2284",
   "metadata": {},
   "source": [
    "# Template Literal"
   ]
  },
  {
   "cell_type": "markdown",
   "id": "1e6215b6",
   "metadata": {},
   "source": [
    "Template literals use back-ticks (``) rather than the quotes (\"\") to define a string:"
   ]
  },
  {
   "cell_type": "code",
   "execution_count": null,
   "id": "989896c8",
   "metadata": {},
   "outputs": [],
   "source": [
    "let firstName = \"John\";\n",
    "let lastName = \"Doe\";\n",
    "\n",
    "let text = `Welcome ${firstName}, ${lastName}!`;"
   ]
  },
  {
   "cell_type": "code",
   "execution_count": null,
   "id": "4fa44319",
   "metadata": {},
   "outputs": [],
   "source": [
    "let text = `He's often called \"Johnny\"`;\n",
    "\n",
    "# Automatic replacing of expressions with real values is called string interpolation:\n",
    "let price = 10;\n",
    "let VAT = 0.25;\n",
    "\n",
    "let total = `Total: ${(price * (1 + VAT)).toFixed(2)}`;"
   ]
  },
  {
   "cell_type": "markdown",
   "id": "c293f6bd",
   "metadata": {},
   "source": [
    "# Arrays"
   ]
  },
  {
   "cell_type": "markdown",
   "id": "657d6254",
   "metadata": {},
   "source": [
    "- An array is a special variable, which can hold more than one value.\n",
    "- It is a common practice to declare arrays with the `const` keyword.\n",
    "\n",
    "JavaScript const variables must be assigned a value when they are declared:\n",
    "    Meaning: An array declared with const must be initialized when it is declared.\n",
    "\n",
    "- Using const without initializing the array is a syntax error"
   ]
  },
  {
   "cell_type": "code",
   "execution_count": null,
   "id": "b630720e",
   "metadata": {},
   "outputs": [],
   "source": [
    "const cars = [\"Saab\", \"Volvo\", \"BMW\"];\n",
    "\n",
    "# following example also creates an Array, and assigns values to it:\n",
    "const cars = new Array(\"Saab\", \"Volvo\", \"BMW\");"
   ]
  },
  {
   "cell_type": "markdown",
   "id": "de19ef5c",
   "metadata": {},
   "source": [
    "**`For simplicity, readability and execution speed, use the array literal method.`**"
   ]
  },
  {
   "cell_type": "code",
   "execution_count": null,
   "id": "39c6bb07",
   "metadata": {},
   "outputs": [],
   "source": [
    "# Array indexes start with 0:\n",
    "const cars = [\"Saab\", \"Volvo\", \"BMW\"];\n",
    "let car = cars[0];"
   ]
  },
  {
   "cell_type": "markdown",
   "id": "4e7280ba",
   "metadata": {},
   "source": [
    "The JavaScript method `toString()` converts an array to a string of (comma separated) array values."
   ]
  },
  {
   "cell_type": "code",
   "execution_count": null,
   "id": "c855d317",
   "metadata": {},
   "outputs": [],
   "source": [
    "const fruits = [\"Banana\", \"Orange\", \"Apple\", \"Mango\"];\n",
    "const arrayString = fruits.toString(); \n",
    "\n",
    "console.log(arrayString) # Banana,Orange,Apple,Mango"
   ]
  },
  {
   "cell_type": "markdown",
   "id": "f1c4de57",
   "metadata": {},
   "source": [
    "- JavaScript variables can be objects. Arrays are special kinds of objects.\n",
    "- Because of this, you can have variables of different types in the same Array.\n",
    "- You can have objects in an Array. You can have functions in an Array. You can have arrays in an Array:"
   ]
  },
  {
   "cell_type": "code",
   "execution_count": null,
   "id": "da15e733",
   "metadata": {},
   "outputs": [],
   "source": [
    "myArray[0] = Date.now;\n",
    "myArray[1] = myFunction;\n",
    "myArray[2] = myCars;"
   ]
  },
  {
   "cell_type": "markdown",
   "id": "cd5c6bbd",
   "metadata": {},
   "source": [
    "**In JavaScript, arrays (like objects) are passed by reference, not by value. To create a new copy of an array, use methods like the spread operator (`...`), `Array.slice()`, or `Array.from()`.**"
   ]
  },
  {
   "cell_type": "markdown",
   "id": "835a8eeb",
   "metadata": {},
   "source": [
    "### Looping Array Elements"
   ]
  },
  {
   "cell_type": "code",
   "execution_count": null,
   "id": "da1b84d9",
   "metadata": {},
   "outputs": [],
   "source": [
    "const fruits = [\"Banana\", \"Orange\", \"Apple\", \"Mango\"];\n",
    "\n",
    "# One way to loop through an array, is using a for loop:\n",
    "for (let i = 0; i < fruits.length; i++) {\n",
    "  console.log(fruits[i])\n",
    "}\n",
    "\n",
    "# You can also use the Array.forEach() function:\n",
    "fruits.forEach(myFunction);\n",
    "\n",
    "function myFunction(value) {\n",
    "  console.log(value);\n",
    "}"
   ]
  },
  {
   "cell_type": "markdown",
   "id": "4b6d7028",
   "metadata": {},
   "source": [
    "#### 1D array:"
   ]
  },
  {
   "cell_type": "code",
   "execution_count": null,
   "id": "91d73fb8",
   "metadata": {},
   "outputs": [],
   "source": [
    "const arr = [1, 2, 3, 4, 5];\n",
    "\n",
    "for (let i = 0; i < arr.length; i++) { # for loop\n",
    "    console.log(arr[i]);\n",
    "}\n",
    "\n",
    "for (const index in arr) {  # for-in loop\n",
    "`console.log(arr[index]);\n",
    "}\n",
    "\n",
    "for (const value of arr) {  # for-of loop\n",
    "    console.log(value);\n",
    "}\n",
    "\n",
    "# all give same result"
   ]
  },
  {
   "cell_type": "markdown",
   "id": "2854cdca",
   "metadata": {},
   "source": [
    "#### 2d array:"
   ]
  },
  {
   "cell_type": "code",
   "execution_count": null,
   "id": "5b68056d",
   "metadata": {},
   "outputs": [],
   "source": [
    "const arr = [\n",
    "    [1, 2],\n",
    "    [3, 4],\n",
    "    [5, 6]\n",
    "  ];\n",
    "  \n",
    "for (let i = 0; i < arr.length; i++) {   # for loop\n",
    "    for (let j = 0; j < arr[i].length; j++) {\n",
    "    console.log(arr[i][j]);\n",
    "    }\n",
    "}\n",
    "\n",
    "for (const i in arr) {  # for-in loop\n",
    "    for (const j in arr[i]) {\n",
    "    console.log(arr[i][j]);\n",
    "    }\n",
    "}\n",
    "\n",
    "for (const row of arr) {  # for-of loop\n",
    "    for (const value of row) {\n",
    "    console.log(value);\n",
    "    }\n",
    "} \n",
    "\n",
    "\n",
    "# all give same result"
   ]
  },
  {
   "cell_type": "code",
   "execution_count": null,
   "id": "5f3d6fa7",
   "metadata": {},
   "outputs": [],
   "source": [
    "# We can loop 2D array in single loop also using for-of loop:\n",
    "\n",
    "const arr1 = ['a', 'b', 'c', 'd'];\n",
    "\n",
    "const arr2 = [\n",
    "  [1,2],\n",
    "  [3,4],\n",
    "  [5,6],\n",
    "  [7,8]\n",
    "]\n",
    "\n",
    "for(const [a,b] of arr2){\n",
    "  console.log(a,b)\n",
    "}"
   ]
  },
  {
   "cell_type": "markdown",
   "id": "d0ee9595",
   "metadata": {},
   "source": [
    "- `for` loop: Use when you need index access or more control over the iteration process.\n",
    "- `for-in` loop: Use the for-in loop to iterate over the properties of an object.\n",
    "        It is generally not recommended for arrays as it iterates over the enumerable properties, which may include non-numeric properties and doesn't guarantee the order of indices.\n",
    "        \n",
    "- `for-of` loop: Use the for-of loop to iterate over the values of an iterable (arrays, strings, maps, sets, etc.).\n",
    "\n",
    "**NOTE:** `for...in` should generally be used for `objects`. `For arrays`, it's more common and recommended to use `for`, `for...of`, or array methods like `forEach` to iterate over elements."
   ]
  },
  {
   "cell_type": "markdown",
   "id": "269148a8",
   "metadata": {},
   "source": [
    "# insert delete data in array"
   ]
  },
  {
   "cell_type": "code",
   "execution_count": null,
   "id": "2f2e3a3f",
   "metadata": {},
   "outputs": [],
   "source": [
    "const fruits = [\"Banana\", \"Orange\", \"Apple\"];\n",
    "\n",
    "# easiest way to add a new element to an array is using the push() method:\n",
    "fruits.push(\"Lemon\");  # [ 'Banana', 'Orange', 'Apple', 'Lemon' ]\n",
    "\n",
    "# New element can also be added to an array using the length property:\n",
    "fruits[fruits.length] = \"Mango\";  # [ 'Banana', 'Orange', 'Apple', 'Lemon', 'Mango' ]\n",
    "\n",
    "# removes the last element from an array:\n",
    "fruits.pop();  # [ 'Banana', 'Orange', 'Apple', 'Lemon' ]\n",
    "\n",
    "delete fruits[0];  # [ <1 empty item>, 'Orange', 'Apple', 'Lemon' ]\n",
    "\n",
    "console.log(fruits[0])  # undefined\n",
    "console.log(fruits[1])  # Orange"
   ]
  },
  {
   "cell_type": "markdown",
   "id": "f8011175",
   "metadata": {},
   "source": [
    "- JavaScript does not support associative arrays. Arrays with named indexes are called associative arrays (or hashes).\n",
    "- You should use objects when you want the element names to be strings (text).\n",
    "- You should use arrays when you want the element names to be numbers.\n",
    "\n",
    "### How to Recognize an Array:\n",
    "\n",
    "The problem is that the JavaScript operator typeof returns \"object\":"
   ]
  },
  {
   "cell_type": "code",
   "execution_count": null,
   "id": "38dd99c8",
   "metadata": {},
   "outputs": [],
   "source": [
    "const fruits = [\"Banana\", \"Orange\", \"Apple\"];\n",
    "let type = typeof fruits; # return object\n",
    "\n",
    "# solution1:\n",
    "Array.isArray(fruits);\n",
    "\n",
    "# solution2:\n",
    "(fruits instanceof Array);"
   ]
  },
  {
   "cell_type": "markdown",
   "id": "fd882cd3",
   "metadata": {},
   "source": [
    "**concat():** The `concat()` method does not change the existing arrays. It always returns a new array. The `concat()` method can take any number of array arguments."
   ]
  },
  {
   "cell_type": "code",
   "execution_count": null,
   "id": "5f53081a",
   "metadata": {},
   "outputs": [],
   "source": [
    "const arr1 = [\"Cecilie\", \"Lone\"];\n",
    "const arr2 = [\"Emil\", \"Tobias\", \"Linus\"];\n",
    "const arr3 = [\"Robin\", \"Morgan\"];\n",
    "const myChildren = arr1.concat(arr2, arr3);\n",
    "\n",
    "console.log(arr1)\n",
    "console.log(myChildren)\n",
    "\n",
    "# Output:\n",
    "[ 'Cecilie', 'Lone' ]\n",
    "[\n",
    "  'Cecilie', 'Lone',\n",
    "  'Emil',    'Tobias',\n",
    "  'Linus',   'Robin',\n",
    "  'Morgan'\n",
    "]"
   ]
  },
  {
   "cell_type": "markdown",
   "id": "f2ac1a12",
   "metadata": {},
   "source": [
    "**splice():** The `splice()` method adds new items to an array. The `slice()` method slices out a piece of an array."
   ]
  },
  {
   "cell_type": "code",
   "execution_count": null,
   "id": "3677e511",
   "metadata": {},
   "outputs": [],
   "source": [
    "# splice() method can be used to add new items to an array:\n",
    "const fruits = [\"Banana\", \"Orange\", \"Apple\", \"Mango\"];\n",
    "fruits.splice(2, 0, \"Lemon\", \"Kiwi\");\n",
    "\n",
    "console.log(fruits)\n",
    "\n",
    "# OUTPUT:\n",
    "[ 'Banana', 'Orange', 'Lemon', 'Kiwi', 'Apple', 'Mango' ]"
   ]
  },
  {
   "cell_type": "markdown",
   "id": "3f82694b",
   "metadata": {},
   "source": [
    "- The first parameter (2) defines the position where new elements should be added (spliced in).\n",
    "- The second parameter (0) defines how many elements should be removed.\n",
    "- The rest of the parameters (\"Lemon\" , \"Kiwi\") define the new elements to be added.\n",
    "\n",
    "The `splice()` method returns an array with the deleted items:"
   ]
  },
  {
   "cell_type": "code",
   "execution_count": null,
   "id": "e621314a",
   "metadata": {},
   "outputs": [],
   "source": [
    "const fruits = [\"Banana\", \"Orange\", \"Apple\", \"Mango\"];\n",
    "let removed = fruits.splice(2, 2, \"Lemon\", \"Kiwi\");\n",
    "\n",
    "console.log(fruits)\n",
    "console.log(removed)\n",
    "\n",
    "# OUTPUT:\n",
    "[ 'Banana', 'Orange', 'Lemon', 'Kiwi' ]\n",
    "[ 'Apple', 'Mango' ]"
   ]
  },
  {
   "cell_type": "markdown",
   "id": "7a68bbfe",
   "metadata": {},
   "source": [
    "With clever parameter setting, you can use `splice()` to remove elements without leaving \"holes\" in the array:"
   ]
  },
  {
   "cell_type": "code",
   "execution_count": null,
   "id": "aa20c6b3",
   "metadata": {},
   "outputs": [],
   "source": [
    "const fruits = [\"Banana\", \"Orange\", \"Apple\", \"Mango\"];\n",
    "fruits.splice(0, 1);\n",
    "console.log(fruits)\n",
    "\n",
    "\n",
    "# OUTPUT:\n",
    "[ 'Orange', 'Apple', 'Mango' ]"
   ]
  },
  {
   "cell_type": "markdown",
   "id": "69f69b44",
   "metadata": {},
   "source": [
    "- The first parameter (0) defines the position where new elements should be added (spliced in).\n",
    "- The second parameter (1) defines how many elements should be removed.\n",
    "- The rest of the parameters are omitted. No new elements will be added.\n",
    "\n",
    "**toSpliced():** The difference between the new `toSpliced()` method and the old `splice()` method is that the new method creates a new array, keeping the original array unchanged, while the old method altered the original array."
   ]
  },
  {
   "cell_type": "code",
   "execution_count": null,
   "id": "7f23cc47",
   "metadata": {},
   "outputs": [],
   "source": [
    "const months = [\"Jan\", \"Feb\", \"Mar\", \"Apr\"];\n",
    "const spliced = months.toSpliced(0, 1);\n",
    "\n",
    "console.log(spliced)"
   ]
  },
  {
   "cell_type": "markdown",
   "id": "84180f0a",
   "metadata": {},
   "source": [
    "**slice():** The slice() method slices out a piece of an array into a new array. \n",
    "\n",
    "- The `slice()` method creates a new array.\n",
    "- The `slice()` method does not remove any elements from the source array."
   ]
  },
  {
   "cell_type": "code",
   "execution_count": null,
   "id": "682d2671",
   "metadata": {},
   "outputs": [],
   "source": [
    "const fruits = [\"Banana\", \"Orange\", \"Lemon\", \"Apple\", \"Mango\"];\n",
    "const citrus = fruits.slice(1);\n",
    "\n",
    "console.log(citrus)\n",
    "console.log(fruits)\n",
    "\n",
    "# OUTPUT:\n",
    "[ 'Orange', 'Lemon', 'Apple', 'Mango' ]\n",
    "[ 'Banana', 'Orange', 'Lemon', 'Apple', 'Mango' ]"
   ]
  },
  {
   "cell_type": "markdown",
   "id": "a341dd1c",
   "metadata": {},
   "source": [
    "The `slice()` method can take two arguments like slice(1, 3).\n",
    "\n",
    "The method then selects elements from the start argument, and up to (but not including) the end argument."
   ]
  },
  {
   "cell_type": "code",
   "execution_count": null,
   "id": "c52659d2",
   "metadata": {},
   "outputs": [],
   "source": [
    "const fruits = [\"Banana\", \"Orange\", \"Lemon\", \"Apple\", \"Mango\"];\n",
    "const citrus = fruits.slice(1, 3); # (start, stop)\n",
    "console.log(citrus)\n",
    "\n",
    "# OUTPUT:\n",
    "[ 'Orange', 'Lemon' ]"
   ]
  },
  {
   "cell_type": "markdown",
   "id": "74ccdfe6",
   "metadata": {},
   "source": [
    "### Array Iteration:"
   ]
  },
  {
   "cell_type": "markdown",
   "id": "b85d83d9",
   "metadata": {},
   "source": [
    "### forEach()\n",
    "\n",
    "- The `forEach()` method calls a function (a callback function) once for each array element"
   ]
  },
  {
   "cell_type": "code",
   "execution_count": null,
   "id": "faeff397",
   "metadata": {},
   "outputs": [],
   "source": [
    "const numbers = [45, 4, 9, 16, 25];\n",
    "\n",
    "numbers.forEach(myFunction);\n",
    "\n",
    "function myFunction(value, index, array) {\n",
    "  console.log(value, index, array)\n",
    "}"
   ]
  },
  {
   "cell_type": "markdown",
   "id": "478da7ed",
   "metadata": {},
   "source": [
    "### map()\n",
    "\n",
    "- The `map()` method creates a new array by performing a function on each array element.\n",
    "- The `map()` method does not execute the function for array elements without values.\n",
    "- The `map()` method does not change the original array."
   ]
  },
  {
   "cell_type": "code",
   "execution_count": null,
   "id": "a58b7310",
   "metadata": {},
   "outputs": [],
   "source": [
    "const numbers1 = [45, 4, 9, 16, 25];\n",
    "const numbers2 = numbers1.map(myFunction);\n",
    "\n",
    "function myFunction(value, index, array) {\n",
    "  return value * 2;\n",
    "}\n",
    "\n",
    "console.log(numbers2)\n",
    "\n",
    "# OUTPUT:\n",
    "[ 90, 8, 18, 32, 50 ]"
   ]
  },
  {
   "cell_type": "markdown",
   "id": "1dfd3414",
   "metadata": {},
   "source": [
    "### flatMap()\n",
    "\n",
    "The `flatMap()` method first maps all elements of an array and then creates a new array by flattening the array."
   ]
  },
  {
   "cell_type": "code",
   "execution_count": null,
   "id": "ad17bbbd",
   "metadata": {},
   "outputs": [],
   "source": [
    "const myArr = [1, 2, 3, 4, 5, 6];\n",
    "const newArr = myArr.flatMap((x) => x * 2);\n",
    "\n",
    "console.log(newArr)\n",
    "\n",
    "# OUTPUT:\n",
    "[ 2, 4, 6, 8, 10, 12 ]"
   ]
  },
  {
   "cell_type": "markdown",
   "id": "b71e5222",
   "metadata": {},
   "source": [
    "### filter()\n",
    "\n",
    "The `filter()` method creates a new array with array elements that pass a test."
   ]
  },
  {
   "cell_type": "code",
   "execution_count": null,
   "id": "d9ddbf88",
   "metadata": {},
   "outputs": [],
   "source": [
    "const numbers = [45, 4, 9, 16, 25];\n",
    "const over18 = numbers.filter(myFunction);\n",
    "\n",
    "function myFunction(value, index, array) {\n",
    "  return value > 18;\n",
    "}\n",
    "\n",
    "console.log(over18)\n",
    "\n",
    "# Output:\n",
    "[ 45, 25 ]"
   ]
  },
  {
   "cell_type": "markdown",
   "id": "294220de",
   "metadata": {},
   "source": [
    "### reduce()\n",
    "\n",
    "- The `reduce()` method runs a function on each array element to produce (reduce it to) a single value.\n",
    "- The `reduce()` method works from left-to-right in the array. \n",
    "- The `reduce()` method does not reduce the original array."
   ]
  },
  {
   "cell_type": "code",
   "execution_count": null,
   "id": "7a03a30d",
   "metadata": {},
   "outputs": [],
   "source": [
    "const numbers = [45, 4, 9, 16, 25];\n",
    "let sum = numbers.reduce(myFunction);\n",
    "\n",
    "function myFunction(total, value, index, array) { # initial value / previously returned value\n",
    "  console.log(total, value);\n",
    "  return total + value;\n",
    "}\n",
    "\n",
    "console.log(sum)\n",
    "\n",
    "# Output:\n",
    "45 4\n",
    "49 9\n",
    "58 16\n",
    "74 25\n",
    "99"
   ]
  },
  {
   "cell_type": "markdown",
   "id": "fe257d96",
   "metadata": {},
   "source": [
    "- The `total` (the initial value / previously returned value)\n",
    "- The item value"
   ]
  },
  {
   "cell_type": "markdown",
   "id": "ae0984dc",
   "metadata": {},
   "source": [
    "### reduceRight()\n",
    "\n",
    "- The `reduceRight()` method runs a function on each array element to produce (reduce it to) a single value.\n",
    "- The `reduceRight()` works from right-to-left in the array. \n",
    "- The `reduceRight()` method does not reduce the original array."
   ]
  },
  {
   "cell_type": "code",
   "execution_count": null,
   "id": "b120a90d",
   "metadata": {},
   "outputs": [],
   "source": [
    "const numbers = [45, 4, 9, 16, 25];\n",
    "let sum = numbers.reduceRight(myFunction);\n",
    "\n",
    "function myFunction(total, value, index, array) {\n",
    "  console.log(total, value);\n",
    "  return total + value;\n",
    "}\n",
    "\n",
    "console.log(sum)\n",
    "\n",
    "# Output:\n",
    "25 16\n",
    "41 9\n",
    "50 4\n",
    "54 45\n",
    "99"
   ]
  },
  {
   "cell_type": "markdown",
   "id": "bd11e270",
   "metadata": {},
   "source": [
    "### every()\n",
    "\n",
    "- The `every()` method checks if all array values pass a test."
   ]
  },
  {
   "cell_type": "code",
   "execution_count": null,
   "id": "6ac4fb34",
   "metadata": {},
   "outputs": [],
   "source": [
    "const numbers = [45, 4, 9, 16, 25];\n",
    "let allOver18 = numbers.every(myFunction);\n",
    "\n",
    "function myFunction(value, index, array) {\n",
    "  return value > 18;\n",
    "}\n",
    "\n",
    "console.log(allOver18)\n",
    "\n",
    "# Output:\n",
    "false"
   ]
  },
  {
   "cell_type": "markdown",
   "id": "39db150e",
   "metadata": {},
   "source": [
    "###  some()\n",
    "\n",
    "- The `some()` method checks if some array values pass a test."
   ]
  },
  {
   "cell_type": "code",
   "execution_count": null,
   "id": "0a99d439",
   "metadata": {},
   "outputs": [],
   "source": [
    "const numbers = [45, 4, 9, 16, 25];\n",
    "let someOver18 = numbers.some(myFunction);\n",
    "\n",
    "function myFunction(value, index, array) {\n",
    "  return value > 18;\n",
    "}\n",
    "console.log(someOver18)\n",
    "\n",
    "# Output:\n",
    "true"
   ]
  },
  {
   "cell_type": "markdown",
   "id": "e9637cb1",
   "metadata": {},
   "source": [
    "### Array.from()\n",
    "\n",
    "- The `Array.from()` method returns an Array object from any object with a length property or any iterable object."
   ]
  },
  {
   "cell_type": "code",
   "execution_count": null,
   "id": "82218d57",
   "metadata": {},
   "outputs": [],
   "source": [
    "const myArr = Array.from(\"ABCDEFG\");\n",
    "console.log(myArr)\n",
    "\n",
    "# Output:\n",
    "[\n",
    "  'A', 'B', 'C',\n",
    "  'D', 'E', 'F',\n",
    "  'G'\n",
    "]"
   ]
  },
  {
   "cell_type": "markdown",
   "id": "ada5d5b2",
   "metadata": {},
   "source": [
    "### Array.keys()\n",
    "\n",
    "- The `Array.keys()` method returns an Array Iterator object with the keys of an array."
   ]
  },
  {
   "cell_type": "code",
   "execution_count": null,
   "id": "519de58b",
   "metadata": {},
   "outputs": [],
   "source": [
    "const fruits = [\"Banana\", \"Orange\", \"Apple\", \"Mango\"];\n",
    "const keys = fruits.keys();\n",
    "\n",
    "console.log(keys)\n",
    "\n",
    "for (let x of keys) {\n",
    "  console.log(x)\n",
    "}\n",
    "\n",
    "# Output:\n",
    "Object [Array Iterator] {}\n",
    "0\n",
    "1\n",
    "2\n",
    "3"
   ]
  },
  {
   "cell_type": "markdown",
   "id": "b82c4828",
   "metadata": {},
   "source": [
    "### entries()\n",
    "\n",
    "- The `entries()` method returns an Array Iterator object with key/value pairs.\n",
    "- The `entries()` method does not change the original array."
   ]
  },
  {
   "cell_type": "code",
   "execution_count": null,
   "id": "56ddec2f",
   "metadata": {},
   "outputs": [],
   "source": [
    "const fruits = [\"Banana\", \"Orange\", \"Apple\", \"Mango\"];\n",
    "const f = fruits.entries();\n",
    "\n",
    "console.log(f)\n",
    "\n",
    "for (let x of f) {\n",
    "  console.log(x)\n",
    "}\n",
    "\n",
    "# Output:\n",
    "Object [Array Iterator] {}\n",
    "[ 0, 'Banana' ]\n",
    "[ 1, 'Orange' ]\n",
    "[ 2, 'Apple' ]\n",
    "[ 3, 'Mango' ]"
   ]
  },
  {
   "cell_type": "markdown",
   "id": "c02a7335",
   "metadata": {},
   "source": [
    "### with() \n",
    "\n",
    "- ES2023 added the Array `with()` method as a safe way to update elements in an array without altering the original array."
   ]
  },
  {
   "cell_type": "code",
   "execution_count": null,
   "id": "a5477dad",
   "metadata": {},
   "outputs": [],
   "source": [
    "const months = [\"Januar\", \"Februar\", \"Mar\", \"April\"];\n",
    "const myMonths = months.with(2, \"March\");"
   ]
  },
  {
   "cell_type": "markdown",
   "id": "822fd7b5",
   "metadata": {},
   "source": [
    "### Spread (...)\n",
    "The `...` operator expands an iterable (like an array) into more elements:"
   ]
  },
  {
   "cell_type": "code",
   "execution_count": null,
   "id": "c19acc03",
   "metadata": {},
   "outputs": [],
   "source": [
    "const q1 = [\"Jan\", \"Feb\", \"Mar\"];\n",
    "const q2 = [\"Apr\", \"May\", \"Jun\"];\n",
    "const q3 = [\"Jul\", \"Aug\", \"Sep\"];\n",
    "const q4 = [\"Oct\", \"Nov\", \"May\"];\n",
    "\n",
    "const year = [...q1, ...q2, ...q3, ...q4];\n",
    "\n",
    "console.log(year)\n",
    "\n",
    "# Output:\n",
    "[\n",
    "  'Jan', 'Feb', 'Mar',\n",
    "  'Apr', 'May', 'Jun',\n",
    "  'Jul', 'Aug', 'Sep',\n",
    "  'Oct', 'Nov', 'May'\n",
    "]"
   ]
  },
  {
   "cell_type": "markdown",
   "id": "70118fdd",
   "metadata": {},
   "source": [
    "### use of strict mode in array"
   ]
  },
  {
   "cell_type": "code",
   "execution_count": null,
   "id": "a67922cc",
   "metadata": {},
   "outputs": [],
   "source": [
    "function sum(num1, num2){\n",
    "  return arguments[0]+arguments[1];\n",
    "}\n",
    "\n",
    "console.log(sum(10,20));  # 30"
   ]
  },
  {
   "cell_type": "code",
   "execution_count": null,
   "id": "6d56201f",
   "metadata": {},
   "outputs": [],
   "source": [
    "# Now let's overide the value:\n",
    "\n",
    "function sum(num1, num2){\n",
    "  num1=30;\n",
    "  num2=60;\n",
    "  return arguments[0]+arguments[1];\n",
    "}\n",
    "\n",
    "console.log(sum(10,20));  # 90"
   ]
  },
  {
   "cell_type": "code",
   "execution_count": 1,
   "id": "5190d4c7",
   "metadata": {},
   "outputs": [],
   "source": [
    "# To fix this override issue we can use strict mode:\n",
    "\n",
    "function sum(num1, num2){\n",
    "  \"use strict\";\n",
    "  num1=30;\n",
    "  num2=60;\n",
    "  return arguments[0]+arguments[1];\n",
    "}\n",
    "\n",
    "console.log(sum(10,20));  # 30"
   ]
  },
  {
   "cell_type": "markdown",
   "id": "e726dc40",
   "metadata": {},
   "source": [
    "# Date()"
   ]
  },
  {
   "cell_type": "markdown",
   "id": "7c5b8eb1",
   "metadata": {},
   "source": [
    "`new Date()` creates a date object with the current date and time:"
   ]
  },
  {
   "cell_type": "code",
   "execution_count": null,
   "id": "4104b1ac",
   "metadata": {},
   "outputs": [],
   "source": [
    "const d = new Date();\n",
    "console.log(d) # 2024-06-01T02:32:38.528Z"
   ]
  },
  {
   "cell_type": "markdown",
   "id": "cbdf193f",
   "metadata": {},
   "source": [
    "**There are 9 ways to create a new date object:**\n",
    "\n",
    "- new Date()\n",
    "- new Date(date string)\n",
    "\n",
    "- new Date(year,month)\n",
    "- new Date(year,month,day)\n",
    "- new Date(year,month,day,hours)\n",
    "- new Date(year,month,day,hours,minutes)\n",
    "- new Date(year,month,day,hours,minutes,seconds)\n",
    "- new Date(year,month,day,hours,minutes,seconds,ms)\n",
    "\n",
    "- new Date(milliseconds)"
   ]
  },
  {
   "cell_type": "markdown",
   "id": "63f22eca",
   "metadata": {},
   "source": [
    "There are generally 3 types of JavaScript date input formats:\n",
    "\n",
    "- ISO Date\t\"2015-03-25\" (The International Standard)\n",
    "- Short Date\t\"03/25/2015\"\n",
    "- Long Date\t\"Mar 25 2015\" or \"25 Mar 2015\"\n",
    "\n",
    "The ISO format follows a strict standard in JavaScript.\n",
    "\n",
    "The other formats are not so well defined and might be browser specific."
   ]
  },
  {
   "cell_type": "markdown",
   "id": "194c77ed",
   "metadata": {},
   "source": [
    "# Random"
   ]
  },
  {
   "cell_type": "markdown",
   "id": "1ede89ac",
   "metadata": {},
   "source": [
    "- `Math.random()` always returns a number lower than 1.\n",
    "\n",
    "There is no such thing as JavaScript integers.\n",
    "\n",
    "We are talking about numbers with no decimals here."
   ]
  },
  {
   "cell_type": "code",
   "execution_count": null,
   "id": "880b5b8b",
   "metadata": {},
   "outputs": [],
   "source": [
    "# Returns a random integer from 0 to 9:\n",
    "Math.floor(Math.random() * 10);\n",
    "\n",
    "# Returns a random integer from 0 to 10:\n",
    "Math.floor(Math.random() * 11);\n",
    "\n",
    "# Returns a random integer from 0 to 99:\n",
    "Math.floor(Math.random() * 100);\n",
    "\n",
    "# Returns a random integer from 0 to 100:\n",
    "Math.floor(Math.random() * 101);\n",
    "\n",
    "# Returns a random integer from 1 to 10:\n",
    "Math.floor(Math.random() * 10) + 1;\n",
    "\n",
    "# Returns a random integer from 1 to 100:\n",
    "Math.floor(Math.random() * 100) + 1;"
   ]
  },
  {
   "cell_type": "markdown",
   "id": "5085d3e4",
   "metadata": {},
   "source": [
    "As you can see from the examples above, it might be a good idea to create a proper random function to use for all random integer purposes.\n",
    "\n",
    "This JavaScript function always returns a random number between min (included) and max (excluded):"
   ]
  },
  {
   "cell_type": "code",
   "execution_count": null,
   "id": "af313252",
   "metadata": {},
   "outputs": [],
   "source": [
    "function getRndInteger(min, max) {\n",
    "  return Math.floor(Math.random() * (max - min) ) + min;\n",
    "}"
   ]
  },
  {
   "cell_type": "markdown",
   "id": "91a51035",
   "metadata": {},
   "source": [
    "This JavaScript function always returns a random number between min and max (both included):"
   ]
  },
  {
   "cell_type": "code",
   "execution_count": null,
   "id": "287db001",
   "metadata": {},
   "outputs": [],
   "source": [
    "function getRndInteger(min, max) {\n",
    "  return Math.floor(Math.random() * (max - min + 1) ) + min;\n",
    "}"
   ]
  },
  {
   "cell_type": "markdown",
   "id": "330b8efb",
   "metadata": {},
   "source": [
    "# switch statement"
   ]
  },
  {
   "cell_type": "markdown",
   "id": "57bd0388",
   "metadata": {},
   "source": [
    "Use the switch statement to select one of many code blocks to be executed."
   ]
  },
  {
   "cell_type": "code",
   "execution_count": null,
   "id": "a1073f27",
   "metadata": {},
   "outputs": [],
   "source": [
    "# syntax:\n",
    "\n",
    "switch(expression) {\n",
    "  case x:\n",
    "    // code block\n",
    "    break;\n",
    "  case y:\n",
    "    // code block\n",
    "    break;\n",
    "  default:\n",
    "    // code block\n",
    "}"
   ]
  },
  {
   "cell_type": "markdown",
   "id": "d1ba2b5e",
   "metadata": {},
   "source": [
    "# Loop"
   ]
  },
  {
   "cell_type": "markdown",
   "id": "77144b73",
   "metadata": {},
   "source": [
    "### For Loop\n",
    "\n",
    "The for statement creates a loop with 3 optional expressions:"
   ]
  },
  {
   "cell_type": "code",
   "execution_count": null,
   "id": "c9a53088",
   "metadata": {},
   "outputs": [],
   "source": [
    "# syntax:\n",
    "\n",
    "for (expression 1; expression 2; expression 3) {\n",
    "  // code block to be executed\n",
    "}\n",
    "\n",
    "# Expression 1 is executed (one time) before the execution of the code block.\n",
    "\n",
    "# Expression 2 defines the condition for executing the code block.\n",
    "\n",
    "# Expression 3 is executed (every time) after the code block has been executed."
   ]
  },
  {
   "cell_type": "markdown",
   "id": "33f95c9c",
   "metadata": {},
   "source": [
    "### For In Loop\n",
    "\n",
    "The JavaScript `for in` statement loops through the properties of an Object:"
   ]
  },
  {
   "cell_type": "code",
   "execution_count": null,
   "id": "e65395cd",
   "metadata": {},
   "outputs": [],
   "source": [
    "# syntax:\n",
    "\n",
    "for (key in object) {\n",
    "  // code block to be executed\n",
    "}\n",
    "\n",
    "for (variable in array) { # Not recommeded for array\n",
    "  // code\n",
    "}"
   ]
  },
  {
   "cell_type": "markdown",
   "id": "b894d82b",
   "metadata": {},
   "source": [
    "**Do not use `for in` over an Array if the index order is important**.\n",
    "\n",
    "The index order is implementation-dependent, and array values may not be accessed in the order you expect.\n",
    "\n",
    "It is better to use a `for loop`, a `for of loop`, or `Array.forEach()` when the order is important."
   ]
  },
  {
   "cell_type": "markdown",
   "id": "9c2342f7",
   "metadata": {},
   "source": [
    "### For Of Loop\n",
    "\n",
    "The JavaScript for of statement loops through the values of an `iterable object`.\n",
    "\n",
    "It lets you loop over iterable data structures such as Arrays, Strings, Maps, NodeLists, and more:"
   ]
  },
  {
   "cell_type": "code",
   "execution_count": null,
   "id": "340a75f1",
   "metadata": {},
   "outputs": [],
   "source": [
    "# syntax:\n",
    "\n",
    "for (variable of iterable) {\n",
    "  // code block to be executed\n",
    "}"
   ]
  },
  {
   "cell_type": "markdown",
   "id": "8a5d1a09",
   "metadata": {},
   "source": [
    "- `variable` - For every iteration the value of the next property is assigned to the variable. Variable can be declared with const, let, or var.\n",
    "\n",
    "- `iterable` - An object that has iterable properties.\n",
    "\n",
    "**Remark:**\n",
    "\n",
    "- `for` loop: Use when you need index access or more control over the iteration process.\n",
    "- `for-in` loop: Use the for-in loop to iterate over the properties of an object.\n",
    "        It is generally not recommended for arrays as it iterates over the enumerable properties, which may include non-numeric properties and doesn't guarantee the order of indices.\n",
    "        \n",
    "- `for-of` loop: Use the for-of loop to iterate over the values of an iterable (arrays, strings, maps, sets, etc.).\n",
    "\n",
    "**NOTE:** `for...in` should generally be used for `objects`. `For arrays`, it's more common and recommended to use `for`, `for...of`, or array methods like `forEach` to iterate over elements."
   ]
  },
  {
   "cell_type": "markdown",
   "id": "82f1d776",
   "metadata": {},
   "source": [
    "### while loop\n",
    "\n",
    "The while loop loops through a block of code as long as a specified condition is true."
   ]
  },
  {
   "cell_type": "code",
   "execution_count": null,
   "id": "5d08cce1",
   "metadata": {},
   "outputs": [],
   "source": [
    "# syntax:\n",
    "\n",
    "while (condition) {\n",
    "  // code block to be executed\n",
    "}"
   ]
  },
  {
   "cell_type": "markdown",
   "id": "3950d5d8",
   "metadata": {},
   "source": [
    "### Do While Loop\n",
    "\n",
    "The do while loop is a variant of the while loop. This loop will execute the code block once, before checking if the condition is true, then it will repeat the loop as long as the condition is true."
   ]
  },
  {
   "cell_type": "code",
   "execution_count": null,
   "id": "e7e785fc",
   "metadata": {},
   "outputs": [],
   "source": [
    "# syntax:\n",
    "\n",
    "do {\n",
    "  // code block to be executed\n",
    "}\n",
    "while (condition);"
   ]
  },
  {
   "cell_type": "markdown",
   "id": "2399732a",
   "metadata": {},
   "source": [
    "# Iterables"
   ]
  },
  {
   "cell_type": "markdown",
   "id": "bf820736",
   "metadata": {},
   "source": [
    "- Iterables are iterable objects (like Arrays).\n",
    "- Iterables can be accessed with simple and efficient code.\n",
    "- Iterables can be iterated over with `for..of` loops"
   ]
  },
  {
   "cell_type": "markdown",
   "id": "8c823239",
   "metadata": {},
   "source": [
    "### JavaScript Iterators\n",
    "The iterator protocol defines how to produce a sequence of values from an object.\n",
    "\n",
    "An object becomes an iterator when it implements a `next()` method.\n",
    "\n",
    "The `next()` method must return an object with two properties:\n",
    "\n",
    "    - value (the next value)\n",
    "    - done (true or false)\n",
    "    \n",
    "**NOTE:** Technically, iterables must implement the `Symbol.iterator` method. String, Array, TypedArray, Map and Set are all iterables, because their prototype objects have a Symbol.iterator method.\n",
    "\n",
    "### Home Made Iterable\n",
    "This iterable returns never ending: 10,20,30,40,.... Everytime `next()` is called:"
   ]
  },
  {
   "cell_type": "code",
   "execution_count": null,
   "id": "8055c066",
   "metadata": {},
   "outputs": [],
   "source": [
    "# Home Made Iterable\n",
    "function myNumbers() {\n",
    "  let n = 0;\n",
    "  return {\n",
    "    next: function() {\n",
    "      n += 10;\n",
    "      return {value:n, done:false};\n",
    "    }\n",
    "  };\n",
    "}\n",
    "\n",
    "# Create Iterable\n",
    "const n = myNumbers();\n",
    "\n",
    "console.log(n.next())\n",
    "console.log(n.next().value)\n",
    "console.log(n.next().value)\n",
    "console.log(n.next().value)\n",
    "console.log(n.next().value)\n",
    "console.log(n.next().value)\n",
    "console.log(n.next().value)\n",
    "console.log(n.next().value)\n",
    "console.log(n.next().value)\n",
    "\n",
    "# Ouput:\n",
    "{ value: 10, done: false }\n",
    "20\n",
    "30\n",
    "40\n",
    "50\n",
    "60\n",
    "70\n",
    "80\n",
    "90"
   ]
  },
  {
   "cell_type": "markdown",
   "id": "e610418f",
   "metadata": {},
   "source": [
    "The problem with a home made iterable: It does not support the JavaScript `for..of` statement.\n",
    "\n",
    "A JavaScript iterable is an object that has a `Symbol.iterator`.\n",
    "\n",
    "The `Symbol.iterator` is a function that returns a `next()` function.\n",
    "\n",
    "An iterable can be iterated over with the code: `for (const x of iterable) { }`"
   ]
  },
  {
   "cell_type": "code",
   "execution_count": null,
   "id": "bdd6cea9",
   "metadata": {},
   "outputs": [],
   "source": [
    "# Create an Object\n",
    "myNumbers = {};\n",
    "\n",
    "# Make it Iterable\n",
    "myNumbers[Symbol.iterator] = function() {\n",
    "  let n = 0;\n",
    "  done = false;\n",
    "  return {\n",
    "    next() {\n",
    "      n += 10;\n",
    "      if (n == 100) {done = true}\n",
    "      return {value:n, done:done};\n",
    "    }\n",
    "  };\n",
    "}"
   ]
  },
  {
   "cell_type": "markdown",
   "id": "452825ff",
   "metadata": {},
   "source": [
    "Now you can use `for..of`:"
   ]
  },
  {
   "cell_type": "code",
   "execution_count": null,
   "id": "6f5f4fdc",
   "metadata": {},
   "outputs": [],
   "source": [
    "for (const num of myNumbers) {\n",
    " # Any Code Here\n",
    "}"
   ]
  },
  {
   "cell_type": "markdown",
   "id": "8c7644e0",
   "metadata": {},
   "source": [
    "The `Symbol.iterator` method is called automatically by `for..of`.\n",
    "\n",
    "But we can also do it \"manually\":"
   ]
  },
  {
   "cell_type": "code",
   "execution_count": null,
   "id": "3c27855d",
   "metadata": {},
   "outputs": [],
   "source": [
    "let iterator = myNumbers[Symbol.iterator]();\n",
    "\n",
    "while (true) {\n",
    "  const result = iterator.next();\n",
    "  if (result.done) break;\n",
    " # Any Code Here\n",
    "}"
   ]
  },
  {
   "cell_type": "markdown",
   "id": "c1ef1467",
   "metadata": {},
   "source": [
    "# Sets"
   ]
  },
  {
   "cell_type": "markdown",
   "id": "766debfb",
   "metadata": {},
   "source": [
    "- A JavaScript Set is a collection of unique values.\n",
    "- Each value can only occur once in a Set.\n",
    "- The values can be of any type, primitive values or objects.\n",
    "\n",
    "You can create a JavaScript Set by:\n",
    "\n",
    "    - Passing an array to new Set()\n",
    "    - Create an empty set and use add() to add values"
   ]
  },
  {
   "cell_type": "code",
   "execution_count": null,
   "id": "a70b6998",
   "metadata": {},
   "outputs": [],
   "source": [
    "# Create a Set\n",
    "const letters = new Set([\"a\",\"b\",\"c\"]);\n",
    "\n",
    "# Create a Set\n",
    "const letters = new Set();\n",
    "\n",
    "# Add Values to the Set\n",
    "letters.add(\"a\");\n",
    "letters.add(\"b\");\n",
    "letters.add(\"c\");\n",
    "letters.add(\"c\"); # If you add equal elements, only the first will be saved\n",
    "\n",
    "consoel.log(letters)  # Set(3) { 'a', 'b', 'c' }"
   ]
  },
  {
   "cell_type": "markdown",
   "id": "21f9e2f6",
   "metadata": {},
   "source": [
    "**has() Method:**\n",
    "\n",
    "The `has()` method returns true if a specified value exists in a set."
   ]
  },
  {
   "cell_type": "code",
   "execution_count": null,
   "id": "6257dbde",
   "metadata": {},
   "outputs": [],
   "source": [
    "# Create a Set\n",
    "const letters = new Set([\"a\",\"b\",\"c\"]);\n",
    "\n",
    "# Does the Set contain \"d\"?\n",
    "answer = letters.has(\"d\");"
   ]
  },
  {
   "cell_type": "markdown",
   "id": "b9634e1f",
   "metadata": {},
   "source": [
    "**forEach() Method:**\n",
    "\n",
    "The `forEach()` method invokes a function for each Set element:"
   ]
  },
  {
   "cell_type": "code",
   "execution_count": null,
   "id": "dd95c3e4",
   "metadata": {},
   "outputs": [],
   "source": [
    "# Create a Set\n",
    "const letters = new Set([\"a\",\"b\",\"c\"]);\n",
    "\n",
    "# List all entries\n",
    "let text = \"\";\n",
    "letters.forEach (function(value) {\n",
    "  text += value;\n",
    "})\n",
    "\n",
    "console.log(text)  # abc"
   ]
  },
  {
   "cell_type": "markdown",
   "id": "0ca93c69",
   "metadata": {},
   "source": [
    "**values() Method:**\n",
    "\n",
    "The `values()` method returns an `Iterator object` with the values in a Set:"
   ]
  },
  {
   "cell_type": "code",
   "execution_count": null,
   "id": "afc90004",
   "metadata": {},
   "outputs": [],
   "source": [
    "# Create a Set\n",
    "const letters = new Set([\"a\",\"b\",\"c\"]);\n",
    "\n",
    "# Get all Values\n",
    "const myIterator = letters.values();\n",
    "console.log(myIterator)  # [Set Iterator] { 'a', 'b', 'c' }\n",
    "\n",
    "# List all Values\n",
    "let text = \"\";\n",
    "for (const entry of myIterator) {\n",
    "  text += entry;\n",
    "}\n",
    "console.log(text)  # abc\n",
    "\n",
    "# we can use this way also:\n",
    "for (const entry of letters.values()) {\n",
    "  text += entry;\n",
    "}"
   ]
  },
  {
   "cell_type": "markdown",
   "id": "b9556bdf",
   "metadata": {},
   "source": [
    "**keys() Method:**\n",
    "\n",
    "The `keys()` method returns an `Iterator object` with the values in a Set:\n",
    "\n",
    "**NOTE:** A Set has no keys, so `keys()` returns the same as `values()`. This makes Sets compatible with `Maps`."
   ]
  },
  {
   "cell_type": "code",
   "execution_count": null,
   "id": "ee182bfc",
   "metadata": {},
   "outputs": [],
   "source": [
    "# Create a Set\n",
    "const letters = new Set([\"a\",\"b\",\"c\"]);\n",
    "\n",
    "# Create an Iterator\n",
    "const myIterator = letters.keys();\n",
    "console.log(myIterator)  # [Set Iterator] { 'a', 'b', 'c' }\n",
    "\n",
    "# List all Elements\n",
    "let text = \"\";\n",
    "for (const x of myIterator) {\n",
    "  text += x;\n",
    "}\n",
    "console.log(text)  # abc\n",
    "\n",
    "# we can use this way also:\n",
    "for (const x of letters.keys()) {\n",
    "  text += x;\n",
    "}"
   ]
  },
  {
   "cell_type": "markdown",
   "id": "a04bf275",
   "metadata": {},
   "source": [
    "**entries() Method:**\n",
    "\n",
    "The `entries()` method returns an `Iterator` with `[value,value]` pairs from a Set."
   ]
  },
  {
   "cell_type": "code",
   "execution_count": null,
   "id": "4e892add",
   "metadata": {},
   "outputs": [],
   "source": [
    "const letters = new Set([\"a\",\"b\",\"c\"]);\n",
    "\n",
    "\n",
    "const myIterator = letters.entries();\n",
    "consoel.log(myIterator)  # [Set Entries] { [ 'a', 'a' ], [ 'b', 'b' ], [ 'c', 'c' ] }\n",
    "\n",
    "for (const [a,b] of myIterator) {\n",
    "  console.log(a,b);\n",
    "}\n",
    "\n",
    "# Output:\n",
    "a a\n",
    "b b\n",
    "c c"
   ]
  },
  {
   "cell_type": "markdown",
   "id": "2bf93e69",
   "metadata": {},
   "source": [
    "**NOTE:** The `entries()` method is supposed to return a `[key,value]` pair from an object. A Set has no keys, so the `entries()` method returns `[value,value]`. This makes Sets compatible with `Maps`."
   ]
  },
  {
   "cell_type": "markdown",
   "id": "170a819a",
   "metadata": {},
   "source": [
    "# Maps"
   ]
  },
  {
   "cell_type": "markdown",
   "id": "97709ae8",
   "metadata": {},
   "source": [
    "- A Map holds key-value pairs where the keys can be any datatype.\n",
    "- A Map remembers the original insertion order of the keys.\n",
    "\n",
    "You can create a JavaScript Map by:\n",
    "\n",
    "    - Passing an Array to new Map()\n",
    "    - Create a Map and use Map.set()"
   ]
  },
  {
   "cell_type": "code",
   "execution_count": null,
   "id": "76e8bdf5",
   "metadata": {},
   "outputs": [],
   "source": [
    "# Create a Map\n",
    "const fruits = new Map([\n",
    "  [\"apples\", 500],\n",
    "  [\"bananas\", 300],\n",
    "  [\"oranges\", 200]\n",
    "]);\n",
    "\n",
    "# Create a Map\n",
    "const fruits = new Map();\n",
    "\n",
    "# Set Map Values\n",
    "fruits.set(\"apples\", 500);\n",
    "fruits.set(\"bananas\", 300);\n",
    "fruits.set(\"oranges\", 200);\n",
    "\n",
    "# set() method can also be used to change existing Map values:\n",
    "fruits.set(\"apples\", 200);\n",
    "\n",
    "console.log(fruits)  # Map(3) { 'apples' => 200, 'bananas' => 300, 'oranges' => 200 }"
   ]
  },
  {
   "cell_type": "markdown",
   "id": "b6170c2d",
   "metadata": {},
   "source": [
    "- The `get()` method gets the value of a key in a Map:"
   ]
  },
  {
   "cell_type": "code",
   "execution_count": null,
   "id": "6b2b69f5",
   "metadata": {},
   "outputs": [],
   "source": [
    "fruits.get(\"apples\");    # Returns 200"
   ]
  },
  {
   "cell_type": "markdown",
   "id": "bfca1b5f",
   "metadata": {},
   "source": [
    "### Differences between JavaScript Objects and Maps:\n",
    "\n",
    "<table class=\"ws-table-all\">\n",
    "<tbody><tr><th>Object</th><th>Map</th></tr>\n",
    "<tr>\n",
    "<td>Not directly iterable</td>\n",
    "<td>Directly iterable</td></tr>\n",
    "<tr>\n",
    "<td>Do not have a size property</td>\n",
    "<td>Have a size property</td></tr>\n",
    "<tr>\n",
    "<td>Keys must be Strings (or Symbols)</td>\n",
    "<td>Keys can be any datatype</td></tr>\n",
    "<tr>\n",
    "<td>Keys are not well ordered</td>\n",
    "<td>Keys are ordered by insertion</td></tr>\n",
    "<tr>\n",
    "<td>Have default keys</td>\n",
    "<td>Do not have default keys</td></tr>\n",
    "</tbody></table>"
   ]
  },
  {
   "cell_type": "code",
   "execution_count": null,
   "id": "65ae8876",
   "metadata": {},
   "outputs": [],
   "source": [
    "#  size property returns the number of elements in a map:\n",
    "fruits.size;\n",
    "\n",
    "# delete() method removes a map element:\n",
    "fruits.delete(\"apples\");\n",
    "\n",
    "# clear() method removes all the elements from a map:\n",
    "fruits.clear();\n",
    "\n",
    "# has() method returns true if a key exists in a map:\n",
    "fruits.has(\"apples\");"
   ]
  },
  {
   "cell_type": "markdown",
   "id": "a5c7f93f",
   "metadata": {},
   "source": [
    "**Map.forEach():**\n",
    "\n",
    "The `forEach()` method invokes a callback for each key/value pair in a map:"
   ]
  },
  {
   "cell_type": "code",
   "execution_count": null,
   "id": "fbcabf14",
   "metadata": {},
   "outputs": [],
   "source": [
    "# List all entries\n",
    "let text = \"\";\n",
    "fruits.forEach (function(value, key) {\n",
    "  text += key + ' = ' + value;\n",
    "})"
   ]
  },
  {
   "cell_type": "markdown",
   "id": "948e9b34",
   "metadata": {},
   "source": [
    "**Map.entries():**\n",
    "\n",
    "The `entries()` method returns an iterator object with the `[key,values]` in a map:"
   ]
  },
  {
   "cell_type": "code",
   "execution_count": null,
   "id": "4c9d0bd5",
   "metadata": {},
   "outputs": [],
   "source": [
    "# List all entries\n",
    "let text = \"\";\n",
    "for (const x of fruits.entries()) {\n",
    "  text += x;\n",
    "}"
   ]
  },
  {
   "cell_type": "markdown",
   "id": "d2d7f6d6",
   "metadata": {},
   "source": [
    "**Map.keys():**\n",
    "\n",
    "The `keys()` method returns an iterator object with the keys in a map:"
   ]
  },
  {
   "cell_type": "code",
   "execution_count": null,
   "id": "d9a9de8c",
   "metadata": {},
   "outputs": [],
   "source": [
    "# List all keys\n",
    "let text = \"\";\n",
    "for (const x of fruits.keys()) {\n",
    "  text += x;\n",
    "}"
   ]
  },
  {
   "cell_type": "markdown",
   "id": "f8c85fe1",
   "metadata": {},
   "source": [
    "**Map.values():**\n",
    "\n",
    "The `values()` method returns an iterator object with the values in a map:"
   ]
  },
  {
   "cell_type": "code",
   "execution_count": null,
   "id": "0e9093ef",
   "metadata": {},
   "outputs": [],
   "source": [
    "# List all values\n",
    "let text = \"\";\n",
    "for (const x of fruits.values()) {\n",
    "  text += x;\n",
    "}"
   ]
  },
  {
   "cell_type": "markdown",
   "id": "134627f9",
   "metadata": {},
   "source": [
    "You can use the `values()` method to sum the values in a map:"
   ]
  },
  {
   "cell_type": "code",
   "execution_count": null,
   "id": "ae5fa775",
   "metadata": {},
   "outputs": [],
   "source": [
    "# Sum all values\n",
    "let total = 0;\n",
    "for (const x of fruits.values()) {\n",
    "  total += x;\n",
    "}"
   ]
  },
  {
   "cell_type": "markdown",
   "id": "177bf2d9",
   "metadata": {},
   "source": [
    "### Objects as Keys\n",
    "\n",
    "Being able to use objects as keys is an important Map feature."
   ]
  },
  {
   "cell_type": "code",
   "execution_count": null,
   "id": "502c6942",
   "metadata": {},
   "outputs": [],
   "source": [
    "# Create Objects\n",
    "const apples = {name: 'Apples'};\n",
    "const bananas = {name: 'Bananas'};\n",
    "const oranges = {name: 'Oranges'};\n",
    "\n",
    "# Create a Map\n",
    "const fruits = new Map();\n",
    "\n",
    "# Add new Elements to the Map\n",
    "fruits.set(apples, 500);\n",
    "fruits.set(bananas, 300);\n",
    "fruits.set(oranges, 200);\n",
    "\n",
    "console.log(fruits)\n",
    "\n",
    "# Output:\n",
    "Map(3) {\n",
    "  { name: 'Apples' } => 500,\n",
    "  { name: 'Bananas' } => 300,\n",
    "  { name: 'Oranges' } => 200\n",
    "}"
   ]
  },
  {
   "cell_type": "markdown",
   "id": "a3a34c8b",
   "metadata": {},
   "source": [
    "**Remember:** The key is an object (apples), not a string (\"apples\"):\n",
    "\n",
    "### JavaScript Map.groupBy()\n",
    "\n",
    "ES2024 added the `Map.groupBy()` method to JavaScript.\n",
    "\n",
    "The `Map.groupBy()` method groups elements of an object according to string values returned from a callback function.\n",
    "\n",
    "The `Map.groupBy()` method does not change the original object."
   ]
  },
  {
   "cell_type": "code",
   "execution_count": null,
   "id": "488f8d3d",
   "metadata": {},
   "outputs": [],
   "source": [
    "# Create an Array\n",
    "const fruits = [\n",
    "  {name:\"apples\", quantity:300},\n",
    "  {name:\"bananas\", quantity:500},\n",
    "  {name:\"oranges\", quantity:200},\n",
    "  {name:\"kiwi\", quantity:150}\n",
    "];\n",
    "\n",
    "# Callback function to Group Elements\n",
    "function myCallback({ quantity }) {\n",
    "  return quantity > 200 ? \"ok\" : \"low\";\n",
    "}\n",
    "\n",
    "# Group by Quantity\n",
    "const result = Map.groupBy(fruits, myCallback);"
   ]
  },
  {
   "cell_type": "markdown",
   "id": "dfe45c31",
   "metadata": {},
   "source": [
    "### Object.groupBy() vs Map.groupBy()\n",
    "\n",
    "- The difference between `Object.groupBy()` and `Map.groupBy()` is:\n",
    "- `Object.groupBy()` groups elements into a JavaScript object.\n",
    "- `Map.groupBy()` groups elements into a Map object."
   ]
  },
  {
   "cell_type": "markdown",
   "id": "24b36bd3",
   "metadata": {},
   "source": [
    "# Destructuring"
   ]
  },
  {
   "cell_type": "markdown",
   "id": "6b13b25a",
   "metadata": {},
   "source": [
    "- Destructuring can be used with any iterables."
   ]
  },
  {
   "cell_type": "code",
   "execution_count": null,
   "id": "29e46194",
   "metadata": {},
   "outputs": [],
   "source": [
    "# Create an Object\n",
    "const person = {\n",
    "  firstName: \"John\",\n",
    "  lastName: \"Doe\",\n",
    "  age: 50\n",
    "};\n",
    "\n",
    "# Destructuring Object\n",
    "let {firstName, lastName} = person;"
   ]
  },
  {
   "cell_type": "markdown",
   "id": "181e7124",
   "metadata": {},
   "source": [
    "**The order of the properties does not matter:**"
   ]
  },
  {
   "cell_type": "code",
   "execution_count": null,
   "id": "03470a00",
   "metadata": {},
   "outputs": [],
   "source": [
    "# Destructuring Object\n",
    "let {lastName, firstName} = person;"
   ]
  },
  {
   "cell_type": "markdown",
   "id": "fac39c1c",
   "metadata": {},
   "source": [
    "**For potentially missing properties we can set default values:**"
   ]
  },
  {
   "cell_type": "code",
   "execution_count": null,
   "id": "461aaf0e",
   "metadata": {},
   "outputs": [],
   "source": [
    "# Destructuring\n",
    "let {firstName, lastName, country = \"US\"} = person;"
   ]
  },
  {
   "cell_type": "markdown",
   "id": "8a9f8823",
   "metadata": {},
   "source": [
    "**Object Property Alias:**"
   ]
  },
  {
   "cell_type": "code",
   "execution_count": null,
   "id": "6b523f2c",
   "metadata": {},
   "outputs": [],
   "source": [
    "# Destructuring\n",
    "let {lastName : name} = person;"
   ]
  },
  {
   "cell_type": "markdown",
   "id": "e1062e8a",
   "metadata": {},
   "source": [
    "**One use for destructuring is unpacking string characters.**"
   ]
  },
  {
   "cell_type": "code",
   "execution_count": null,
   "id": "e60a76ec",
   "metadata": {},
   "outputs": [],
   "source": [
    "# Create a String\n",
    "let name = \"W3Schools\";\n",
    "\n",
    "# Destructuring\n",
    "let [a1, a2, a3, a4, a5] = name;\n",
    "\n",
    "console.log(a1, a2, a3, a4, a5)  # W 3 S c h"
   ]
  },
  {
   "cell_type": "markdown",
   "id": "6bfc1fde",
   "metadata": {},
   "source": [
    "### Array Destructuring"
   ]
  },
  {
   "cell_type": "code",
   "execution_count": null,
   "id": "caa75d21",
   "metadata": {},
   "outputs": [],
   "source": [
    "# We can pick up array variables into our own variables:\n",
    "\n",
    "# Create an Array\n",
    "const fruits = [\"Bananas\", \"Oranges\", \"Apples\", \"Mangos\"];\n",
    "\n",
    "# Destructuring\n",
    "let [fruit1, fruit2] = fruits;\n",
    "console.log(fruit1, fruit2);  #  Bananas Oranges\n",
    "\n",
    "# We can skip array values using two or more commas:\n",
    "let [fruit1,,,fruit2] = fruits;  \n",
    "console.log(fruit1, fruit2);  # Bananas Mangos\n",
    "\n",
    "# We can pick up values from specific index locations of an array:\n",
    "let {[0]:fruit1 ,[2]:fruit2} = fruits;\n",
    "console.log(fruit1, fruit2);  # Bananas Apples"
   ]
  },
  {
   "cell_type": "markdown",
   "id": "1e1e252a",
   "metadata": {},
   "source": [
    "### Rest Property\n",
    "\n",
    "- You can end a destructuring syntax with a rest property.\n",
    "- This syntax will store all remaining values into a new array:"
   ]
  },
  {
   "cell_type": "code",
   "execution_count": null,
   "id": "bde2b558",
   "metadata": {},
   "outputs": [],
   "source": [
    "# Create an Array\n",
    "const numbers = [10, 20, 30, 40, 50, 60, 70];\n",
    "\n",
    "# Destructuring\n",
    "const [a,b, ...rest] = numbers"
   ]
  },
  {
   "cell_type": "markdown",
   "id": "f78d7771",
   "metadata": {},
   "source": [
    "### Destructuring Maps"
   ]
  },
  {
   "cell_type": "code",
   "execution_count": null,
   "id": "0017b8cb",
   "metadata": {},
   "outputs": [],
   "source": [
    "# Create a Map\n",
    "const fruits = new Map([\n",
    "  [\"apples\", 500],\n",
    "  [\"bananas\", 300],\n",
    "  [\"oranges\", 200]\n",
    "]);\n",
    "\n",
    "# Destructing\n",
    "let text = \"\";\n",
    "for (const [key, value] of fruits) {\n",
    "  text += key + \" is \" + value;\n",
    "}\n",
    "\n",
    "console.log(text)\n",
    "\n",
    "# Output:\n",
    "apples is 500\n",
    "bananas is 300\n",
    "oranges is 200"
   ]
  },
  {
   "cell_type": "markdown",
   "id": "187295bb",
   "metadata": {},
   "source": [
    "### Swapping JavaScript Variables\n",
    "\n",
    "You can swap the values of two variables using a destructuring assignment:"
   ]
  },
  {
   "cell_type": "code",
   "execution_count": null,
   "id": "63c03338",
   "metadata": {},
   "outputs": [],
   "source": [
    "let firstName = \"John\";\n",
    "let lastName = \"Doe\";\n",
    "\n",
    "# Destructing\n",
    "[firstName, lastName] = [lastName, firstName];\n",
    "\n",
    "console.log(firstName, lastName)  # Doe John"
   ]
  },
  {
   "cell_type": "markdown",
   "id": "72bd1615",
   "metadata": {},
   "source": [
    "# Errors"
   ]
  },
  {
   "cell_type": "markdown",
   "id": "7bc39a40",
   "metadata": {},
   "source": [
    "- The `try` statement allows you to define a block of code to be tested for errors while it is being executed.\n",
    "- The `catch` statement allows you to define a block of code to be executed, if an error occurs in the try block.\n",
    "\n",
    "The JavaScript statements `try` and `catch` come in pairs\n",
    "\n",
    "- The `finally` statement lets you execute code, after `try` and `catch`, regardless of the result.\n",
    "\n",
    "- The `throw` statement allows you to create a custom error. Technically you can throw an `exception` (`throw an error`). The exception can be a JavaScript `String`, a `Number`, a `Boolean` or an `Object`.\n",
    "\n",
    "If you use `throw` together with `try` and `catch`, you can control program flow and generate custom error messages.\n",
    "\n",
    "JavaScript has a built in error object that provides error information when an error occurs. The error object provides two useful properties: `name` and `message`."
   ]
  },
  {
   "cell_type": "code",
   "execution_count": null,
   "id": "305198d8",
   "metadata": {},
   "outputs": [],
   "source": [
    "function myFunction() {\n",
    "  const message = document.getElementById(\"p01\");\n",
    "  message.innerHTML = \"\";\n",
    "  let x = document.getElementById(\"demo\").value;\n",
    "  try {\n",
    "    if(x.trim() == \"\") throw \"is empty\";\n",
    "    if(isNaN(x)) throw \"is not a number\";\n",
    "    x = Number(x);\n",
    "    if(x > 10) throw \"is too high\";\n",
    "    if(x < 5) throw \"is too low\";\n",
    "  }\n",
    "  catch(err) {\n",
    "    message.innerHTML = \"Error: \" + err + \".\";\n",
    "  }\n",
    "  finally {\n",
    "    document.getElementById(\"demo\").value = \"\";\n",
    "  }\n",
    "}"
   ]
  },
  {
   "cell_type": "markdown",
   "id": "170f45ff",
   "metadata": {},
   "source": [
    "# Scope"
   ]
  },
  {
   "cell_type": "markdown",
   "id": "978eb1b9",
   "metadata": {},
   "source": [
    "Scope determines the accessibility (visibility) of variables.\n",
    "\n",
    "JavaScript variables have 3 types of scope:\n",
    "\n",
    "    - Block scope\n",
    "    - Function scope\n",
    "    - Global scope\n",
    "    \n",
    "- A variable declared outside a function, becomes GLOBAL.\n",
    "- If you assign a value to a variable that has not been declared, it will automatically become a GLOBAL variable.\n",
    "\n",
    "This code example will declare a global variable `carName`, even if the value is assigned inside a function:"
   ]
  },
  {
   "cell_type": "code",
   "execution_count": null,
   "id": "c60f2373",
   "metadata": {},
   "outputs": [],
   "source": [
    "myFunction();\n",
    "\n",
    "# code here can use carName\n",
    "\n",
    "function myFunction() {\n",
    "  carName = \"Volvo\";\n",
    "}"
   ]
  },
  {
   "cell_type": "code",
   "execution_count": null,
   "id": "0627af1e",
   "metadata": {},
   "outputs": [],
   "source": [
    "const a = 2;\n",
    "\n",
    "if(a === 2){\n",
    "  const a = 9;\n",
    "}\n",
    "console.log(a) #  2"
   ]
  },
  {
   "cell_type": "code",
   "execution_count": null,
   "id": "314101d5",
   "metadata": {},
   "outputs": [],
   "source": [
    "let a = 2;\n",
    "\n",
    "if(a === 2){\n",
    "  let a = 9;\n",
    "}\n",
    "console.log(a)  # 9"
   ]
  },
  {
   "cell_type": "code",
   "execution_count": null,
   "id": "9608daa9",
   "metadata": {},
   "outputs": [],
   "source": [
    "var a = 2;\n",
    "\n",
    "if(a === 2){\n",
    "  var a = 9;\n",
    "}\n",
    "console.log(a)  # 9"
   ]
  },
  {
   "cell_type": "markdown",
   "id": "a9d4e4f5",
   "metadata": {},
   "source": [
    "# Hoisting"
   ]
  },
  {
   "cell_type": "markdown",
   "id": "d0768b03",
   "metadata": {},
   "source": [
    "In JavaScript, a variable can be used before it has been declared.\n",
    "\n",
    "Hoisting is JavaScript's default behavior of moving all declarations to the top of the current scope (to the top of the current script or the current function).\n",
    "\n",
    "- JavaScript only hoists declarations, not initializations. Example 1 does not give the same result as Example 2:"
   ]
  },
  {
   "cell_type": "code",
   "execution_count": null,
   "id": "6b5f44a2",
   "metadata": {},
   "outputs": [],
   "source": [
    "# Example 1\n",
    "var x = 5; // Initialize x\n",
    "var y = 7; // Initialize y\n",
    "\n",
    "elem = document.getElementById(\"demo\"); // Find an element\n",
    "elem.innerHTML = x + \" \" + y;           # Display 5 7\n",
    "\n",
    "# Example 2\n",
    "var x = 5; // Initialize x\n",
    "\n",
    "elem = document.getElementById(\"demo\"); // Find an element\n",
    "elem.innerHTML = x + \" \" + y;          # Display 5 undefined\n",
    "\n",
    "var y = 7; // Initialize y"
   ]
  },
  {
   "cell_type": "markdown",
   "id": "c6272356",
   "metadata": {},
   "source": [
    "To avoid bugs, always declare all variables at the beginning of every scope.\n",
    "\n",
    "**JavaScript in strict mode does not allow variables to be used if they are not declared.**"
   ]
  },
  {
   "cell_type": "markdown",
   "id": "6697e283",
   "metadata": {},
   "source": [
    "# Strict mode"
   ]
  },
  {
   "cell_type": "markdown",
   "id": "366e6d43",
   "metadata": {},
   "source": [
    "Strict mode is declared by adding `\"use strict\"`; to the beginning of a script or a function.\n",
    "\n",
    "The purpose of `\"use strict\"` is to indicate that the code should be executed in \"strict mode\".With strict mode, you can not, for example, use undeclared variables.\n",
    "\n",
    "You can use strict mode in all your programs. It helps you to write cleaner code, like preventing you from using undeclared variables.\n",
    "\n",
    "Declared at the beginning of a script, it has global scope (all code in the script will execute in strict mode)"
   ]
  },
  {
   "cell_type": "code",
   "execution_count": null,
   "id": "5fbefed9",
   "metadata": {},
   "outputs": [],
   "source": [
    "\"use strict\";\n",
    "x = 3.14;       # This will cause an error because x is not declared"
   ]
  },
  {
   "cell_type": "code",
   "execution_count": null,
   "id": "57dc1f39",
   "metadata": {},
   "outputs": [],
   "source": [
    "\"use strict\";\n",
    "myFunction();\n",
    "\n",
    "function myFunction() {\n",
    "  y = 3.14;   # This will also cause an error because y is not declared"
   ]
  },
  {
   "cell_type": "markdown",
   "id": "7f9b34fe",
   "metadata": {},
   "source": [
    "Declared inside a function, it has local scope (only the code inside the function is in strict mode):"
   ]
  },
  {
   "cell_type": "code",
   "execution_count": null,
   "id": "7e83d87c",
   "metadata": {},
   "outputs": [],
   "source": [
    "x = 3.14;       # This will not cause an error.\n",
    "myFunction();\n",
    "\n",
    "function myFunction() {\n",
    "  \"use strict\";\n",
    "  y = 3.14;   # This will cause an error\n",
    "}"
   ]
  },
  {
   "cell_type": "markdown",
   "id": "015b09e8",
   "metadata": {},
   "source": [
    "### Why Strict Mode?\n",
    "\n",
    "- Strict mode makes it easier to write \"secure\" JavaScript.\n",
    "- Strict mode changes previously accepted \"bad syntax\" into real errors.\n",
    "- As an example, in normal JavaScript, mistyping a variable name creates a new global variable. In strict mode, this will throw an error, making it impossible to accidentally create a global variable.\n",
    "- In normal JavaScript, a developer will not receive any error feedback assigning values to non-writable properties.\n",
    "- In strict mode, any assignment to a non-writable property, a getter-only property, a non-existing property, a non-existing variable, or a non-existing object, will throw an error."
   ]
  },
  {
   "cell_type": "markdown",
   "id": "3928fca4",
   "metadata": {},
   "source": [
    "### Not Allowed in Strict Mode"
   ]
  },
  {
   "cell_type": "markdown",
   "id": "1e1614f6",
   "metadata": {},
   "source": [
    "- Using a variable, without declaring it, is not allowed:"
   ]
  },
  {
   "cell_type": "code",
   "execution_count": null,
   "id": "b717d1e6",
   "metadata": {},
   "outputs": [],
   "source": [
    "\"use strict\";\n",
    "x = 3.14;                # This will cause an error"
   ]
  },
  {
   "cell_type": "markdown",
   "id": "9e34257c",
   "metadata": {},
   "source": [
    "- Using an object, without declaring it, is not allowed:"
   ]
  },
  {
   "cell_type": "code",
   "execution_count": null,
   "id": "ba0d6295",
   "metadata": {},
   "outputs": [],
   "source": [
    "\"use strict\";\n",
    "x = {p1:10, p2:20};      # This will cause an error"
   ]
  },
  {
   "cell_type": "markdown",
   "id": "757eb3b7",
   "metadata": {},
   "source": [
    "- Deleting a variable (or object) is not allowed."
   ]
  },
  {
   "cell_type": "code",
   "execution_count": null,
   "id": "35b5cd54",
   "metadata": {},
   "outputs": [],
   "source": [
    "\"use strict\";\n",
    "let x = 3.14;\n",
    "delete x;                # This will cause an error"
   ]
  },
  {
   "cell_type": "markdown",
   "id": "f8d10970",
   "metadata": {},
   "source": [
    "- Deleting a function is not allowed."
   ]
  },
  {
   "cell_type": "code",
   "execution_count": null,
   "id": "bcf58fe2",
   "metadata": {},
   "outputs": [],
   "source": [
    "\"use strict\";\n",
    "function x(p1, p2) {};\n",
    "delete x;                # This will cause an error "
   ]
  },
  {
   "cell_type": "markdown",
   "id": "249465e5",
   "metadata": {},
   "source": [
    "- Duplicating a parameter name is not allowed:"
   ]
  },
  {
   "cell_type": "code",
   "execution_count": null,
   "id": "bef63268",
   "metadata": {},
   "outputs": [],
   "source": [
    "\"use strict\";\n",
    "function x(p1, p1) {};   # This will cause an error"
   ]
  },
  {
   "cell_type": "markdown",
   "id": "87b5c5bb",
   "metadata": {},
   "source": [
    "- Octal numeric literals are not allowed:"
   ]
  },
  {
   "cell_type": "code",
   "execution_count": null,
   "id": "909eb45b",
   "metadata": {},
   "outputs": [],
   "source": [
    "\"use strict\";\n",
    "let x = 010;             # This will cause an error"
   ]
  },
  {
   "cell_type": "markdown",
   "id": "132caee6",
   "metadata": {},
   "source": [
    "- Octal escape characters are not allowed:"
   ]
  },
  {
   "cell_type": "code",
   "execution_count": null,
   "id": "8fe2456c",
   "metadata": {},
   "outputs": [],
   "source": [
    "\"use strict\";\n",
    "let x = \"\\010\";            # This will cause an error"
   ]
  },
  {
   "cell_type": "markdown",
   "id": "6c3d486d",
   "metadata": {},
   "source": [
    "- Writing to a read-only property is not allowed:"
   ]
  },
  {
   "cell_type": "code",
   "execution_count": null,
   "id": "8c7dab85",
   "metadata": {},
   "outputs": [],
   "source": [
    "\"use strict\";\n",
    "const obj = {};\n",
    "Object.defineProperty(obj, \"x\", {value:0, writable:false});\n",
    "\n",
    "obj.x = 3.14;            # This will cause an error"
   ]
  },
  {
   "cell_type": "markdown",
   "id": "8a1b4c71",
   "metadata": {},
   "source": [
    "- Writing to a get-only property is not allowed:"
   ]
  },
  {
   "cell_type": "code",
   "execution_count": null,
   "id": "866ea6e9",
   "metadata": {},
   "outputs": [],
   "source": [
    "\"use strict\";\n",
    "const obj = {get x() {return 0} };\n",
    "\n",
    "obj.x = 3.14;            # This will cause an error"
   ]
  },
  {
   "cell_type": "markdown",
   "id": "a1029acb",
   "metadata": {},
   "source": [
    "- Deleting an undeletable property is not allowed:"
   ]
  },
  {
   "cell_type": "code",
   "execution_count": null,
   "id": "7c2af8a9",
   "metadata": {},
   "outputs": [],
   "source": [
    "\"use strict\";\n",
    "delete Object.prototype; # This will cause an error"
   ]
  },
  {
   "cell_type": "markdown",
   "id": "6ab5117b",
   "metadata": {},
   "source": [
    "- The word `eval` cannot be used as a variable:"
   ]
  },
  {
   "cell_type": "code",
   "execution_count": null,
   "id": "ab3da69a",
   "metadata": {},
   "outputs": [],
   "source": [
    "\"use strict\";\n",
    "let eval = 3.14;         # This will cause an error"
   ]
  },
  {
   "cell_type": "markdown",
   "id": "39190c26",
   "metadata": {},
   "source": [
    "- The word `arguments` cannot be used as a variable:"
   ]
  },
  {
   "cell_type": "code",
   "execution_count": null,
   "id": "d986963c",
   "metadata": {},
   "outputs": [],
   "source": [
    "\"use strict\";\n",
    "let arguments = 3.14;    # This will cause an error"
   ]
  },
  {
   "cell_type": "markdown",
   "id": "48873d30",
   "metadata": {},
   "source": [
    "- The `with` statement is not allowed:"
   ]
  },
  {
   "cell_type": "code",
   "execution_count": null,
   "id": "b918c1dc",
   "metadata": {},
   "outputs": [],
   "source": [
    "\"use strict\";\n",
    "with (Math){x = cos(2)}; # This will cause an error"
   ]
  },
  {
   "cell_type": "markdown",
   "id": "b9808e5b",
   "metadata": {},
   "source": [
    "For security reasons, `eval()` is not allowed to create variables in the scope from which it was called."
   ]
  },
  {
   "cell_type": "code",
   "execution_count": null,
   "id": "79672fd7",
   "metadata": {},
   "outputs": [],
   "source": [
    "\"use strict\";\n",
    "eval (\"x = 2\");\n",
    "alert (x);      # This will cause an error"
   ]
  },
  {
   "cell_type": "code",
   "execution_count": null,
   "id": "0cc97753",
   "metadata": {},
   "outputs": [],
   "source": [
    "\"use strict\";\n",
    "eval (\"var x = 2\");\n",
    "alert (x);    # This will cause an error"
   ]
  },
  {
   "cell_type": "code",
   "execution_count": null,
   "id": "2a57462b",
   "metadata": {},
   "outputs": [],
   "source": [
    "eval (\"let x = 2\");\n",
    "alert (x);        # This will cause an error"
   ]
  },
  {
   "cell_type": "markdown",
   "id": "071a6fee",
   "metadata": {},
   "source": [
    "- The this keyword in functions behaves differently in strict mode.\n",
    "- The this keyword refers to the object that called the function.\n",
    "\n",
    "If the object is not specified, functions in strict mode will return undefined and functions in normal mode will return the global object (window"
   ]
  },
  {
   "cell_type": "code",
   "execution_count": null,
   "id": "d1ee9b5b",
   "metadata": {},
   "outputs": [],
   "source": [
    "\"use strict\";\n",
    "function myFunction() {\n",
    "  alert(this); # will alert \"undefined\"\n",
    "}\n",
    "myFunction();"
   ]
  },
  {
   "cell_type": "markdown",
   "id": "53f097c6",
   "metadata": {},
   "source": [
    "# `this` keyword"
   ]
  },
  {
   "cell_type": "markdown",
   "id": "a853c1e5",
   "metadata": {},
   "source": [
    "In JavaScript, the `this` keyword refers to an object.\n",
    "\n",
    "The `this` keyword refers to different objects depending on how it is used:\n",
    "- In an object method, `this` refers to the object.\n",
    "- Alone, `this` refers to the global object.\n",
    "- In a function, `this` refers to the global object.\n",
    "- In a function, in strict mode, `this` is undefined.\n",
    "- In an event, `this` refers to the element that received the event.\n",
    "- Methods like `call()`, `apply()`, and `bind()` can refer this to any object."
   ]
  },
  {
   "cell_type": "code",
   "execution_count": null,
   "id": "85ae509a",
   "metadata": {},
   "outputs": [],
   "source": [
    "const person = {\n",
    "  firstName: \"John\",\n",
    "  lastName : \"Doe\",\n",
    "  id       : 5566,\n",
    "  fullName : function() {\n",
    "    return this.firstName + \" \" + this.lastName;\n",
    "  }\n",
    "};\n"
   ]
  },
  {
   "cell_type": "markdown",
   "id": "e0836e46",
   "metadata": {},
   "source": [
    "- When used in an object method, `this` refers to the object. In the example above, `this` refers to the `person` object. Because the `fullName` method is a method of the `person` object."
   ]
  },
  {
   "cell_type": "code",
   "execution_count": null,
   "id": "d04326d9",
   "metadata": {},
   "outputs": [],
   "source": [
    "fullName : function() {\n",
    "  return this.firstName + \" \" + this.lastName;\n",
    "}"
   ]
  },
  {
   "cell_type": "markdown",
   "id": "9f3def55",
   "metadata": {},
   "source": [
    "- When used alone, `this` refers to the global object. Because `this` is running in the global scope.\n",
    "- In a browser window the global object is `[object Window]`:"
   ]
  },
  {
   "cell_type": "code",
   "execution_count": null,
   "id": "81480b63",
   "metadata": {},
   "outputs": [],
   "source": [
    "let x = this;"
   ]
  },
  {
   "cell_type": "markdown",
   "id": "05bf37ef",
   "metadata": {},
   "source": [
    " - In strict mode, when used alone, `this` also refers to the global object:"
   ]
  },
  {
   "cell_type": "code",
   "execution_count": null,
   "id": "781efe4c",
   "metadata": {},
   "outputs": [],
   "source": [
    "\"use strict\";\n",
    "let x = this;"
   ]
  },
  {
   "cell_type": "markdown",
   "id": "25087dfb",
   "metadata": {},
   "source": [
    "- In a function, the global object is the default binding for `this`.\n",
    "- In a browser window the global object is `[object Window]`:"
   ]
  },
  {
   "cell_type": "code",
   "execution_count": null,
   "id": "a44c0eac",
   "metadata": {},
   "outputs": [],
   "source": [
    "function myFunction() {\n",
    "  return this;\n",
    "}"
   ]
  },
  {
   "cell_type": "markdown",
   "id": "9a91b06e",
   "metadata": {},
   "source": [
    "- JavaScript strict mode does not allow default binding. So, when used in a function, in strict mode, `this` is `undefined`."
   ]
  },
  {
   "cell_type": "code",
   "execution_count": null,
   "id": "6b790c26",
   "metadata": {},
   "outputs": [],
   "source": [
    "\"use strict\";\n",
    "function myFunction() {\n",
    "  return this;\n",
    "}"
   ]
  },
  {
   "cell_type": "markdown",
   "id": "8da08c43",
   "metadata": {},
   "source": [
    "- In HTML event handlers, `this` refers to the HTML element that received the event:"
   ]
  },
  {
   "cell_type": "code",
   "execution_count": null,
   "id": "cd2605d7",
   "metadata": {},
   "outputs": [],
   "source": [
    "<button onclick=\"this.style.display='none'\">\n",
    "  Click to Remove Me!\n",
    "</button>"
   ]
  },
  {
   "cell_type": "markdown",
   "id": "6578e5ee",
   "metadata": {},
   "source": [
    "In these examples, `this` is the `person` object:"
   ]
  },
  {
   "cell_type": "code",
   "execution_count": null,
   "id": "d51b794f",
   "metadata": {},
   "outputs": [],
   "source": [
    "const person = {\n",
    "  firstName  : \"John\",\n",
    "  lastName   : \"Doe\",\n",
    "  id         : 5566,\n",
    "  myFunction : function() {\n",
    "    return this;\n",
    "  }\n",
    "};\n",
    "\n",
    "const person = {\n",
    "  firstName: \"John\",\n",
    "  lastName : \"Doe\",\n",
    "  id       : 5566,\n",
    "  fullName : function() {\n",
    "    return this.firstName + \" \" + this.lastName;\n",
    "  }\n",
    "};\n",
    "\n",
    "# this.firstName is the firstName property of this (the person object)."
   ]
  },
  {
   "cell_type": "markdown",
   "id": "2fadaacf",
   "metadata": {},
   "source": [
    "### Explicit Function Binding\n",
    "\n",
    "- The `call()` and `apply()` methods are predefined JavaScript methods. They can both be used to call an object method with another object as argument.\n",
    "\n",
    "The example below calls `person1.fullName` with `person2` as an argument, `this` refers to person2, even if `fullName` is a method of `person1`:"
   ]
  },
  {
   "cell_type": "code",
   "execution_count": null,
   "id": "d88bb1b4",
   "metadata": {},
   "outputs": [],
   "source": [
    "const person1 = {\n",
    "  fullName: function() {\n",
    "    return this.firstName + \" \" + this.lastName;\n",
    "  }\n",
    "}\n",
    "\n",
    "const person2 = {\n",
    "  firstName:\"John\",\n",
    "  lastName: \"Doe\",\n",
    "}\n",
    "\n",
    "// Return \"John Doe\":\n",
    "person1.fullName.call(person2);"
   ]
  },
  {
   "cell_type": "markdown",
   "id": "9efa360b",
   "metadata": {},
   "source": [
    "### Function Borrowing\n",
    "\n",
    "- With the `bind()` method, an object can borrow a method from another object.\n",
    "\n",
    "This example creates 2 objects (`person` and `member`). The `member` object borrows the `fullname` method from the `person` object:"
   ]
  },
  {
   "cell_type": "code",
   "execution_count": null,
   "id": "2e3ce589",
   "metadata": {},
   "outputs": [],
   "source": [
    "const person = {\n",
    "  firstName:\"John\",\n",
    "  lastName: \"Doe\",\n",
    "  fullName: function () {\n",
    "    return this.firstName + \" \" + this.lastName;\n",
    "  }\n",
    "}\n",
    "\n",
    "const member = {\n",
    "  firstName:\"Hege\",\n",
    "  lastName: \"Nilsen\",\n",
    "}\n",
    "\n",
    "let fullName = person.fullName.bind(member);\n",
    "\n",
    "console.log(fullName)  # [Function: bound fullName]\n",
    "console.log(fullName())  # Hege Nilsen"
   ]
  },
  {
   "cell_type": "markdown",
   "id": "f7d441ab",
   "metadata": {},
   "source": [
    "### This Precedence\n",
    "\n",
    "To determine which object `this` refers to; use the following precedence of order.\n",
    "\n",
    "<table class=\"ws-table-all\">\n",
    "<tbody><tr></tr>\n",
    "<tr><td width=\"120px\">Precedence</td><td>Object</td></tr>\n",
    "<tr><td>1</td><td>bind()</td></tr>\n",
    "<tr><td>2</td><td>apply() and call()</td></tr>\n",
    "<tr><td>3</td><td>Object method</td></tr>\n",
    "<tr><td>4</td><td>Global scope</td></tr>\n",
    "</tbody></table>"
   ]
  },
  {
   "cell_type": "markdown",
   "id": "dbf81e94",
   "metadata": {},
   "source": [
    "# Arrow Function"
   ]
  },
  {
   "cell_type": "markdown",
   "id": "5660d028",
   "metadata": {},
   "source": [
    "- Arrow functions were introduced in ES6.\n",
    "- Arrow functions allow us to write shorter function syntax"
   ]
  },
  {
   "cell_type": "code",
   "execution_count": null,
   "id": "51d94def",
   "metadata": {},
   "outputs": [],
   "source": [
    "# Before Arrow:\n",
    "hello = function() {\n",
    "  return \"Hello World!\";\n",
    "}\n",
    "\n",
    "# With Arrow Function:\n",
    "hello = () => {\n",
    "  return \"Hello World!\";\n",
    "}"
   ]
  },
  {
   "cell_type": "markdown",
   "id": "24b34de6",
   "metadata": {},
   "source": [
    "It gets shorter! If the function has only one statement, and the statement returns a value, you can remove the brackets and the `return` keyword:"
   ]
  },
  {
   "cell_type": "code",
   "execution_count": null,
   "id": "b82fda28",
   "metadata": {},
   "outputs": [],
   "source": [
    "# Arrow Functions Return Value by Default:\n",
    "hello = () => \"Hello World!\";\n",
    "\n",
    "# NOTE: This works only if the function has only one statement."
   ]
  },
  {
   "cell_type": "markdown",
   "id": "ab8312db",
   "metadata": {},
   "source": [
    "If you have parameters, you pass them inside the parentheses:"
   ]
  },
  {
   "cell_type": "code",
   "execution_count": null,
   "id": "36fc467f",
   "metadata": {},
   "outputs": [],
   "source": [
    "# Arrow Function With Parameters:\n",
    "hello = (val) => \"Hello \" + val;"
   ]
  },
  {
   "cell_type": "markdown",
   "id": "e799a355",
   "metadata": {},
   "source": [
    "In fact, if you have only one parameter, you can skip the parentheses as well:"
   ]
  },
  {
   "cell_type": "code",
   "execution_count": null,
   "id": "4a602723",
   "metadata": {},
   "outputs": [],
   "source": [
    "# Arrow Function Without Parentheses:\n",
    "hello = val => \"Hello \" + val;"
   ]
  },
  {
   "cell_type": "markdown",
   "id": "2bda1e3e",
   "metadata": {},
   "source": [
    "### What About `this`?\n",
    "\n",
    "- The handling of `this` is also different in arrow functions compared to regular functions.\n",
    "- In short, with arrow functions there are no binding of `this`.\n",
    "\n",
    "In regular functions the `this` keyword represented the object that called the function, which could be the window, the document, a button or whatever.\n",
    "\n",
    "With arrow functions the `this` keyword always represents the object that defined the arrow function.\n",
    "\n",
    "Let us take a look at two examples to understand the difference.\n",
    "\n",
    "Both examples call a method twice, first when the page loads, and once again when the user clicks a button.\n",
    "\n",
    "The first example uses a regular function, and the second example uses an arrow function.\n",
    "\n",
    "The result shows that the first example returns two different objects (window and button), and the second example returns the window object twice, because the window object is the \"owner\" of the function."
   ]
  },
  {
   "cell_type": "code",
   "execution_count": null,
   "id": "a991153f",
   "metadata": {},
   "outputs": [],
   "source": [
    "# With a regular function this represents the object that calls the function:\n",
    "\n",
    "// Regular Function:\n",
    "hello = function() {\n",
    "  document.getElementById(\"demo\").innerHTML += this;\n",
    "}\n",
    "\n",
    "// The window object calls the function:\n",
    "window.addEventListener(\"load\", hello);\n",
    "\n",
    "// A button object calls the function:\n",
    "document.getElementById(\"btn\").addEventListener(\"click\", hello);"
   ]
  },
  {
   "cell_type": "code",
   "execution_count": null,
   "id": "6ff96af5",
   "metadata": {},
   "outputs": [],
   "source": [
    "# With an arrow function this represents the owner of the function:\n",
    "\n",
    "// Arrow Function:\n",
    "hello = () => {\n",
    "  document.getElementById(\"demo\").innerHTML += this;\n",
    "}\n",
    "\n",
    "// The window object calls the function:\n",
    "window.addEventListener(\"load\", hello);\n",
    "\n",
    "// A button object calls the function:\n",
    "document.getElementById(\"btn\").addEventListener(\"click\", hello);"
   ]
  },
  {
   "cell_type": "markdown",
   "id": "f7202005",
   "metadata": {},
   "source": [
    "Remember these differences when you are working with functions. Sometimes the behavior of regular functions is what you want, if not, use arrow functions."
   ]
  },
  {
   "cell_type": "markdown",
   "id": "5dd1e838",
   "metadata": {},
   "source": [
    "# Classes"
   ]
  },
  {
   "cell_type": "markdown",
   "id": "79c237c0",
   "metadata": {},
   "source": [
    "- JavaScript Classes are templates for JavaScript Objects.\n",
    "- Use the keyword `class` to create a class. Always add a method named `constructor()`"
   ]
  },
  {
   "cell_type": "code",
   "execution_count": null,
   "id": "4d0d7c34",
   "metadata": {},
   "outputs": [],
   "source": [
    "class Car {\n",
    "  constructor(name, year) {\n",
    "    this.name = name; # properties\n",
    "    this.year = year; # properties\n",
    "  }\n",
    "}\n",
    "\n",
    "# When you have a class, you can use the class to create objects:\n",
    "const myCar1 = new Car(\"Ford\", 2014);\n",
    "const myCar2 = new Car(\"Audi\", 2019);"
   ]
  },
  {
   "cell_type": "markdown",
   "id": "74b21476",
   "metadata": {},
   "source": [
    "### constructor Method\n",
    "\n",
    "The constructor method is a special method:\n",
    "\n",
    "    - It has to have the exact name \"constructor\"\n",
    "    - It is executed automatically when a new object is created\n",
    "    - It is used to initialize object properties\n",
    "\n",
    "If you do not define a constructor method, JavaScript will add an empty constructor method."
   ]
  },
  {
   "cell_type": "markdown",
   "id": "cfc66c29",
   "metadata": {},
   "source": [
    "### Class Methods\n",
    "\n",
    "Class methods are created with the same syntax as object methods.\n",
    "\n",
    "- Use the keyword class to create a class.\n",
    "- Always add a `constructor()` method.\n",
    "- Then add any number of methods."
   ]
  },
  {
   "cell_type": "code",
   "execution_count": null,
   "id": "9ddba9aa",
   "metadata": {},
   "outputs": [],
   "source": [
    "class Car {\n",
    "  constructor(name, year) {\n",
    "    this.name = name;\n",
    "    this.year = year;\n",
    "  }\n",
    "  age(x) {\n",
    "    return x - this.year;\n",
    "  }\n",
    "}\n",
    "\n",
    "const date = new Date();\n",
    "let year = date.getFullYear();\n",
    "\n",
    "const myCar = new Car(\"Ford\", 2014);\n",
    "console.log(`Name: ${myCar.name}, Age: ${myCar.age(year)}`)  # Name: Ford, Age: 10"
   ]
  },
  {
   "cell_type": "markdown",
   "id": "8ff36080",
   "metadata": {},
   "source": [
    "The syntax in classes must be written in \"strict mode\".\n",
    "\n",
    "You will get an error if you do not follow the \"strict mode\" rules."
   ]
  },
  {
   "cell_type": "code",
   "execution_count": null,
   "id": "1d356095",
   "metadata": {},
   "outputs": [],
   "source": [
    "# In \"strict mode\" you will get an error if you use a variable without declaring it:\n",
    "\n",
    "class Car {\n",
    "  constructor(name, year) {\n",
    "    this.name = name;\n",
    "    this.year = year;\n",
    "  }\n",
    "  age() {\n",
    "    // date = new Date();  # This will not work\n",
    "    const date = new Date(); # This will work\n",
    "    return date.getFullYear() - this.year;\n",
    "  }\n",
    "}"
   ]
  },
  {
   "cell_type": "markdown",
   "id": "66b86e0a",
   "metadata": {},
   "source": [
    "### Inheritance\n",
    "\n",
    "To create a class inheritance, use the `extends` keyword.\n",
    "\n",
    "A class created with a class inheritance inherits all the methods from another class:"
   ]
  },
  {
   "cell_type": "code",
   "execution_count": null,
   "id": "537fed3c",
   "metadata": {},
   "outputs": [],
   "source": [
    "class Car {\n",
    "  constructor() {\n",
    "    console.log(\"parent\")\n",
    "  }\n",
    "}\n",
    "\n",
    "class Model extends Car {\n",
    "  constructor() {\n",
    "    super() # if we do not call super() here then we will get an error\n",
    "    console.log(\"child\")\n",
    "  }\n",
    "}\n",
    "\n",
    "let myCar = new Model();\n",
    "\n",
    "# Output:\n",
    "parent\n",
    "child\n",
    "\n",
    "let myCar = new Car();\n",
    "\n",
    "# Output:\n",
    "parent"
   ]
  },
  {
   "cell_type": "code",
   "execution_count": null,
   "id": "390415f0",
   "metadata": {},
   "outputs": [],
   "source": [
    "class Car {\n",
    "  constructor() {\n",
    "    console.log(\"parent\")\n",
    "  }\n",
    "}\n",
    "\n",
    "class Model extends Car {\n",
    "  constructor() {\n",
    "      console.log(\"child\")\n",
    "      super() # if we do not call super() here then we will get an error\n",
    "  }\n",
    "}\n",
    "\n",
    "let myCar = new Model();\n",
    "\n",
    "# Output:\n",
    "child\n",
    "parent"
   ]
  },
  {
   "cell_type": "code",
   "execution_count": null,
   "id": "208fb126",
   "metadata": {},
   "outputs": [],
   "source": [
    "# Create a class named \"Model\" which will inherit the methods from the \"Car\" class:\n",
    "\n",
    "\n",
    "class Car {\n",
    "  constructor(brand) {\n",
    "    this.carname = brand;\n",
    "  }\n",
    "  present() {\n",
    "    return 'I have a ' + this.carname;\n",
    "  }\n",
    "}\n",
    "\n",
    "class Model extends Car {\n",
    "  constructor(brand, mod) {\n",
    "    super(brand);\n",
    "    this.model = mod;\n",
    "  }\n",
    "  show() {\n",
    "    return this.present() + ', it is a ' + this.model;\n",
    "  }\n",
    "}\n",
    "\n",
    "let myCar = new Model(\"Ford\", \"Mustang\");\n",
    "console.log(myCar.show())  # I have a Ford, it is a Mustang"
   ]
  },
  {
   "cell_type": "markdown",
   "id": "0dc1bc45",
   "metadata": {},
   "source": [
    "The `super(`) method refers to the parent class.\n",
    "\n",
    "By calling the `super()` method in the constructor method, we call the parent's constructor method and gets access to the parent's properties and methods.\n",
    "\n",
    "Inheritance is useful for code reusability: reuse properties and methods of an existing class when you create a new class.\n",
    "\n",
    "### Getters and Setters\n",
    "\n",
    "Classes also allows you to use getters and setters.\n",
    "\n",
    "It can be smart to use getters and setters for your properties, especially if you want to do something special with the value before returning them, or before you set them.\n",
    "\n",
    "To add getters and setters in the class, use the `get` and `set` keywords."
   ]
  },
  {
   "cell_type": "code",
   "execution_count": null,
   "id": "1cbbfe8f",
   "metadata": {},
   "outputs": [],
   "source": [
    "# Create a getter and a setter for the \"carname\" property:\n",
    "\n",
    "\n",
    "\n",
    "class Car {\n",
    "  constructor(brand) {\n",
    "    this.carname = brand;\n",
    "  }\n",
    "  get cnam() {\n",
    "    return this.carname;\n",
    "  }\n",
    "  set cnam(x) {\n",
    "    this.carname = x;\n",
    "  }\n",
    "}\n",
    "\n",
    "const myCar = new Car(\"Ford\");\n",
    "\n",
    "console.log(myCar.cnam); # getter\n",
    "\n",
    "myCar.cnam = \"Land Rover\"; # setter\n",
    "console.log(myCar.cnam);"
   ]
  },
  {
   "cell_type": "markdown",
   "id": "255d22c2",
   "metadata": {},
   "source": [
    "**NOTE:** even if the getter is a method, you do not use parentheses when you want to get the property value.\n",
    "\n",
    "The name of the getter/setter method cannot be the same as the name of the property, in this case `carname`.\n",
    "\n",
    "Many programmers use an underscore character `_` before the property name to separate the getter/setter from the actual property:"
   ]
  },
  {
   "cell_type": "code",
   "execution_count": null,
   "id": "749fe7ac",
   "metadata": {},
   "outputs": [],
   "source": [
    "# You can use the underscore character to separate the getter/setter from the actual property:\n",
    "\n",
    "class Car {\n",
    "  constructor(brand) {\n",
    "    this._carname = brand;\n",
    "  }\n",
    "  get carname() {\n",
    "    return this._carname;\n",
    "  }\n",
    "  set carname(x) {\n",
    "    this._carname = x;\n",
    "  }\n",
    "}\n",
    "\n",
    "const myCar = new Car(\"Ford\");\n",
    "\n",
    "document.getElementById(\"demo\").innerHTML = myCar.carname;"
   ]
  },
  {
   "cell_type": "code",
   "execution_count": null,
   "id": "c5c6bf5f",
   "metadata": {},
   "outputs": [],
   "source": [
    "# To use a setter, use the same syntax as when you set a property value, without parentheses:\n",
    "\n",
    "# Use a setter to change the carname to \"Volvo\":\n",
    "\n",
    "class Car {\n",
    "  constructor(brand) {\n",
    "    this._carname = brand;\n",
    "  }\n",
    "  get carname() {\n",
    "    return this._carname;\n",
    "  }\n",
    "  set carname(x) {\n",
    "    this._carname = x;\n",
    "  }\n",
    "}\n",
    "\n",
    "const myCar = new Car(\"Ford\");\n",
    "myCar.carname = \"Volvo\";\n",
    "document.getElementById(\"demo\").innerHTML = myCar.carname;"
   ]
  },
  {
   "cell_type": "markdown",
   "id": "2f14786a",
   "metadata": {},
   "source": [
    "### Hoisting\n",
    "\n",
    "Unlike functions, and other JavaScript declarations, class declarations are not hoisted.\n",
    "\n",
    "That means that you must declare a class before you can use it:"
   ]
  },
  {
   "cell_type": "code",
   "execution_count": null,
   "id": "7bd1d974",
   "metadata": {},
   "outputs": [],
   "source": [
    "# You cannot use the class yet.\n",
    "//myCar = new Car(\"Ford\") will raise an error.\n",
    "\n",
    "class Car {\n",
    "  constructor(brand) {\n",
    "    this.carname = brand;\n",
    "  }\n",
    "}\n",
    "\n",
    "# Now you can use the class:\n",
    "const myCar = new Car(\"Ford\")"
   ]
  },
  {
   "cell_type": "markdown",
   "id": "137eff87",
   "metadata": {},
   "source": [
    "**NOTE:** For other declarations, like functions, you will NOT get an error when you try to use it before it is declared, because the default behavior of JavaScript declarations are hoisting (moving the declaration to the top).\n",
    "\n",
    "### Static method\n",
    "\n",
    "Static class methods are defined on the class itself.\n",
    "\n",
    "You cannot call a static method on an object, only on an object class."
   ]
  },
  {
   "cell_type": "code",
   "execution_count": null,
   "id": "44f89a2c",
   "metadata": {},
   "outputs": [],
   "source": [
    "class Car {\n",
    "  constructor(name) {\n",
    "    this.name = name;\n",
    "  }\n",
    "  static hello() { # static method\n",
    "    return \"Hello!!\";\n",
    "  }\n",
    "}\n",
    "\n",
    "const myCar = new Car(\"Ford\");\n",
    "\n",
    "// You can call 'hello()' on the Car Class:\n",
    "document.getElementById(\"demo\").innerHTML = Car.hello();\n",
    "\n",
    "# But NOT on a Car Object:\n",
    "// document.getElementById(\"demo\").innerHTML = myCar.hello();\n",
    "# this will raise an error."
   ]
  },
  {
   "cell_type": "markdown",
   "id": "39118cf1",
   "metadata": {},
   "source": [
    "If you want to use the `myCar` object inside the `static` method, you can send it as a parameter:"
   ]
  },
  {
   "cell_type": "code",
   "execution_count": null,
   "id": "34f490a4",
   "metadata": {},
   "outputs": [],
   "source": [
    "class Car {\n",
    "  constructor(name) {\n",
    "    this.name = name;\n",
    "  }\n",
    "  static hello(x) {\n",
    "    return \"Hello \" + x.name;\n",
    "  }\n",
    "}\n",
    "const myCar = new Car(\"Ford\");\n",
    "document.getElementById(\"demo\").innerHTML = Car.hello(myCar);"
   ]
  },
  {
   "cell_type": "markdown",
   "id": "53eefd02",
   "metadata": {},
   "source": [
    "# Modules"
   ]
  },
  {
   "cell_type": "markdown",
   "id": "21926581",
   "metadata": {},
   "source": [
    "JavaScript modules allow you to break up your code into separate files. This makes it easier to maintain a code-base.\n",
    "\n",
    "Modules are imported from external files with the import statement.\n",
    "\n",
    "Modules also rely on `type=\"module\"` in the `<script>` tag."
   ]
  },
  {
   "cell_type": "code",
   "execution_count": null,
   "id": "5a36e9df",
   "metadata": {},
   "outputs": [],
   "source": [
    "<script type=\"module\">\n",
    "    import message from \"./message.js\";\n",
    "</script>"
   ]
  },
  {
   "cell_type": "markdown",
   "id": "4e9464cd",
   "metadata": {},
   "source": [
    "Modules with functions or variables can be stored in any external file.\n",
    "\n",
    "There are two types of exports: `Named Exports` and `Default Exports`."
   ]
  },
  {
   "cell_type": "markdown",
   "id": "09fd03ec",
   "metadata": {},
   "source": [
    "### Named Exports\n",
    "\n",
    "Let us create a file named person.js, and fill it with the things we want to export.\n",
    "\n",
    "You can create named exports two ways. In-line individually, or all at once at the bottom."
   ]
  },
  {
   "cell_type": "code",
   "execution_count": null,
   "id": "dcd9fc49",
   "metadata": {},
   "outputs": [],
   "source": [
    "# In-line individually:\n",
    "\n",
    "# first.js -> EXPORT\n",
    "export const pi = 3.14159;\n",
    "export function add(a, b) {\n",
    "  return a + b;\n",
    "}\n",
    "\n",
    "# sec.js -> IMPORT\n",
    "import {pi, add} from './first.js';\n",
    "\n",
    "console.log(pi)\n",
    "console.log(add(3,5))"
   ]
  },
  {
   "cell_type": "markdown",
   "id": "89669c3c",
   "metadata": {},
   "source": [
    "In order to work above syntax we need to add `\"type\":\"module\"` in our `package.json` file else we get an error. Also if we do not wish to add this `\"type\":\"module\"` in our `package.json` then we will jave to use extension `.mjs` instead of `.js`.\n",
    "\n",
    "**Also we try to use `require` above then also we will get error**."
   ]
  },
  {
   "cell_type": "code",
   "execution_count": null,
   "id": "9964628f",
   "metadata": {},
   "outputs": [],
   "source": [
    "# All at once at the bottom\n",
    "\n",
    "# first.js -> EXPORT\n",
    "const pi = 3.14159;\n",
    "function add(a, b) {\n",
    "  return a + b;\n",
    "}\n",
    "\n",
    "export {pi, add}\n",
    "\n",
    "# sec.js -> IMPORT\n",
    "import {pi, add} from './first.js';\n",
    "\n",
    "console.log(pi)\n",
    "console.log(add(3,5))"
   ]
  },
  {
   "cell_type": "markdown",
   "id": "865d0254",
   "metadata": {},
   "source": [
    "In order to work above syntax we need to add `\"type\":\"module\"` in our `package.json` file else we get an error.\n",
    "\n",
    "**Also we try to use `require` above then also we will get error**."
   ]
  },
  {
   "cell_type": "markdown",
   "id": "34a50836",
   "metadata": {},
   "source": [
    "### Default Exports\n",
    "\n",
    "Let us create another file, named `message.js`, and use it for demonstrating default export.\n",
    "\n",
    "You can only have one default export in a file."
   ]
  },
  {
   "cell_type": "code",
   "execution_count": null,
   "id": "439e9f75",
   "metadata": {},
   "outputs": [],
   "source": [
    "# message.js\n",
    "\n",
    "const message = () => {\n",
    "    const name = \"Jesse\";\n",
    "    const age = 40;\n",
    "    return name + ' is ' + age + 'years old.';\n",
    "};\n",
    "\n",
    "export default message;\n",
    "\n",
    "#-------------OR\n",
    "\n",
    "export default function greet(name) {\n",
    "  return `Hello, ${name}!`;\n",
    "}"
   ]
  },
  {
   "cell_type": "markdown",
   "id": "65a50c8f",
   "metadata": {},
   "source": [
    "### Import\n",
    "\n",
    "You can import modules into a file in two ways, based on if they are named exports or default exports.\n",
    "\n",
    "Named exports are constructed using curly braces. Default exports are not."
   ]
  },
  {
   "cell_type": "code",
   "execution_count": null,
   "id": "eca462e3",
   "metadata": {},
   "outputs": [],
   "source": [
    "# Import from named exports\n",
    "\n",
    "# Import named exports from the file person.js:\n",
    "\n",
    "import { name, age } from \"./person.js\";"
   ]
  },
  {
   "cell_type": "code",
   "execution_count": null,
   "id": "2379a261",
   "metadata": {},
   "outputs": [],
   "source": [
    "# Import from default exports\n",
    "\n",
    "# Import a default export from the file message.js:\n",
    "\n",
    "import message from \"./message.js\";"
   ]
  },
  {
   "cell_type": "code",
   "execution_count": null,
   "id": "6010b588",
   "metadata": {},
   "outputs": [],
   "source": [
    "# Importing All Named Exports:\n",
    "# main.js\n",
    "\n",
    "import * as math from './math.js';\n",
    "\n",
    "console.log(math.pi); // Output: 3.14159\n",
    "console.log(math.add(2, 3)); // Output: 5"
   ]
  },
  {
   "cell_type": "code",
   "execution_count": null,
   "id": "79d723ba",
   "metadata": {},
   "outputs": [],
   "source": [
    "# Renaming Imports:\n",
    "# main.js\n",
    "\n",
    "import { add as sum } from './math.js';\n",
    "\n",
    "console.log(sum(2, 3)); // Output: 5"
   ]
  },
  {
   "cell_type": "markdown",
   "id": "9bf82883",
   "metadata": {},
   "source": [
    "**NOTE:** Modules only work with the HTTP(s) protocol. A web-page opened via the file:// protocol cannot use import / export."
   ]
  },
  {
   "cell_type": "markdown",
   "id": "65387c95",
   "metadata": {},
   "source": [
    "# `require()`"
   ]
  },
  {
   "cell_type": "markdown",
   "id": "3123a66b",
   "metadata": {},
   "source": [
    "The `require` syntax is used in CommonJS, which is the module system used by `Node.js`. This system allows you to include modules in your application using the require function. \n",
    "\n",
    "The require function is used to import modules in CommonJS. A module can be a `file`, a `built-in module`, or a `module installed from the npm registry`.\n",
    "\n",
    "### Importing a Local Module\n",
    "\n",
    "To import a local module, you provide the relative path to the module file."
   ]
  },
  {
   "cell_type": "code",
   "execution_count": null,
   "id": "41974908",
   "metadata": {},
   "outputs": [],
   "source": [
    "# first.js\n",
    "const pi = 3.14159;\n",
    "function add(a, b) {\n",
    "  return a + b;\n",
    "}\n",
    "\n",
    "module.exports = { pi, add };\n",
    "\n",
    "\n",
    "# sec.js\n",
    "const math = require('./first.js');\n",
    "\n",
    "console.log(math.pi); // Output: 3.14159\n",
    "console.log(math.add(2, 3)); // Output: 5"
   ]
  },
  {
   "cell_type": "markdown",
   "id": "b1298eb1",
   "metadata": {},
   "source": [
    "**Above code will work by default without making any changes in `package.json`**. Here we do not need to add `\"type\":\"module\"` in our `package.json` file."
   ]
  },
  {
   "cell_type": "markdown",
   "id": "541e0b9a",
   "metadata": {},
   "source": [
    "We can export this way also:"
   ]
  },
  {
   "cell_type": "code",
   "execution_count": null,
   "id": "e90e528d",
   "metadata": {},
   "outputs": [],
   "source": [
    "# first.js\n",
    "exports.pi = 3.14159;\n",
    "exports.add = function (a, b) {\n",
    "  return a + b;\n",
    "}\n",
    "\n",
    "\n",
    "# sec.js\n",
    "const math = require('./first.js');\n",
    "\n",
    "console.log(math.pi); // Output: 3.14159\n",
    "console.log(math.add(2, 3)); // Output: 5"
   ]
  },
  {
   "cell_type": "markdown",
   "id": "8995727d",
   "metadata": {},
   "source": [
    "**Above code will work by default without making any changes in `package.json`**. Here we do not need to add `\"type\":\"module\"` in our `package.json` file."
   ]
  },
  {
   "cell_type": "markdown",
   "id": "c04b7ab4",
   "metadata": {},
   "source": [
    "**We can export function directly also in this way:** "
   ]
  },
  {
   "cell_type": "code",
   "execution_count": null,
   "id": "ae5ba35a",
   "metadata": {},
   "outputs": [],
   "source": [
    "# first.js\n",
    "module.exports = function (a, b) {\n",
    "  return a + b;\n",
    "}\n",
    "\n",
    "# sec.js\n",
    "const add = require('./first.js')\n",
    "console.log(add(2,3))"
   ]
  },
  {
   "cell_type": "markdown",
   "id": "6805ce63",
   "metadata": {},
   "source": [
    "### Importing a Built-in Module\n",
    "\n",
    "Node.js comes with several built-in modules (e.g., `fs`, `path`, `http`). You can import them using their names."
   ]
  },
  {
   "cell_type": "code",
   "execution_count": null,
   "id": "390209f5",
   "metadata": {},
   "outputs": [],
   "source": [
    "const fs = require('fs');\n",
    "\n",
    "fs.readFile('example.txt', 'utf8', (err, data) => {\n",
    "  if (err) throw err;\n",
    "  console.log(data);\n",
    "});\n"
   ]
  },
  {
   "cell_type": "markdown",
   "id": "a66bb077",
   "metadata": {},
   "source": [
    "### Exporting in CommonJS\n",
    "\n",
    "To make variables, functions, or objects available to other files, you use `module.exports` or `exports`."
   ]
  },
  {
   "cell_type": "code",
   "execution_count": null,
   "id": "f881e37f",
   "metadata": {},
   "outputs": [],
   "source": [
    "# Using module.exports\n",
    "\n",
    "// math.js\n",
    "const pi = 3.14159;\n",
    "\n",
    "function add(a, b) {\n",
    "  return a + b;\n",
    "}\n",
    "\n",
    "module.exports = { pi, add };\n",
    "\n",
    "module.exports= pi # in case of single\n"
   ]
  },
  {
   "cell_type": "code",
   "execution_count": null,
   "id": "5e89bd03",
   "metadata": {},
   "outputs": [],
   "source": [
    "# Using exports\n",
    "\n",
    "// math.js\n",
    "exports.pi = 3.14159;\n",
    "\n",
    "exports.add = function(a, b) {\n",
    "  return a + b;\n",
    "};"
   ]
  },
  {
   "cell_type": "markdown",
   "id": "7dec4469",
   "metadata": {},
   "source": [
    "`exports` is an alias for `module.exports`. However, it's important to note that you should not reassign `exports` directly, as it will break the reference to `module.exports`."
   ]
  },
  {
   "cell_type": "markdown",
   "id": "c5200ccc",
   "metadata": {},
   "source": [
    "### Importing inbuilt modules using `import`\n",
    "\n",
    "Node.js natively supports ES6 modules (also known as ECMAScript modules), but you need to enable this feature because Node.js primarily uses CommonJS modules by default. To use the `impor`t syntax with built-in modules like `fs`, `path`, etc., you have to either:\n",
    "\n",
    "1. Use the `.mjs` file extension.\n",
    "2. Set `\"type\": \"module\"` in your `package.json` file.\n",
    "\n",
    "**Option 1:** Using the `.mjs` File Extension\n",
    "\n",
    "If you use the `.mjs` extension, `Node.js` treats the file as an ES6 module."
   ]
  },
  {
   "cell_type": "code",
   "execution_count": null,
   "id": "0972ccfa",
   "metadata": {},
   "outputs": [],
   "source": [
    "# main.mjs\n",
    "\n",
    "import fs from 'fs';\n",
    "\n",
    "fs.readFile('example.txt', 'utf8', (err, data) => {\n",
    "  if (err) throw err;\n",
    "  console.log(data);\n",
    "});"
   ]
  },
  {
   "cell_type": "markdown",
   "id": "055baef8",
   "metadata": {},
   "source": [
    "**Option 2:** Setting `\"type\": \"module\"` in `package.json`\n",
    "\n",
    "If you prefer to keep the `.js` file extension, you can set the `\"type\": \"module\"` field in your `package.json` file."
   ]
  },
  {
   "cell_type": "code",
   "execution_count": null,
   "id": "ba2bf8da",
   "metadata": {},
   "outputs": [],
   "source": [
    "# Update your package.json:\n",
    "\n",
    "{\n",
    "  \"type\": \"module\"\n",
    "}\n",
    "\n",
    "\n",
    "# main.js\n",
    "import fs from 'fs';\n",
    "\n",
    "fs.readFile('example.txt', 'utf8', (err, data) => {\n",
    "  if (err) throw err;\n",
    "  console.log(data);\n",
    "});"
   ]
  },
  {
   "cell_type": "markdown",
   "id": "3698c47b",
   "metadata": {},
   "source": [
    "# JSON"
   ]
  },
  {
   "cell_type": "markdown",
   "id": "2ced4e03",
   "metadata": {},
   "source": [
    "- JSON is a format for storing and transporting data.\n",
    "- JSON is often used when data is sent from a server to a web page."
   ]
  },
  {
   "cell_type": "markdown",
   "id": "f94e252a",
   "metadata": {},
   "source": [
    "### What is JSON?\n",
    "    - JSON stands for JavaScript Object Notation\n",
    "    - JSON is a lightweight data interchange format\n",
    "    - JSON is language independent *\n",
    "    - JSON is \"self-describing\" and easy to understand\n",
    "    \n",
    "The JSON syntax is derived from JavaScript object notation syntax, but the JSON format is text only. Code for reading and generating JSON data can be written in any programming language."
   ]
  },
  {
   "cell_type": "code",
   "execution_count": null,
   "id": "32c7ad39",
   "metadata": {},
   "outputs": [],
   "source": [
    "# This JSON syntax defines an employees object: an array of 3 employee records (objects):\n",
    "\n",
    "{\n",
    "\"employees\":[\n",
    "  {\"firstName\":\"John\", \"lastName\":\"Doe\"},\n",
    "  {\"firstName\":\"Anna\", \"lastName\":\"Smith\"},\n",
    "  {\"firstName\":\"Peter\", \"lastName\":\"Jones\"}\n",
    "]\n",
    "}"
   ]
  },
  {
   "cell_type": "markdown",
   "id": "9d744d35",
   "metadata": {},
   "source": [
    "### The JSON Format Evaluates to JavaScript Objects\n",
    "\n",
    "The JSON format is syntactically identical to the code for creating JavaScript objects.\n",
    "\n",
    "Because of this similarity, a JavaScript program can easily convert JSON data into native JavaScript objects.\n",
    "\n",
    "### JSON Syntax Rules\n",
    "\n",
    "- Data is in name/value pairs\n",
    "- Data is separated by commas\n",
    "- Curly braces hold objects\n",
    "- Square brackets hold arrays\n",
    "\n",
    "JSON data is written as name/value pairs, just like JavaScript object properties.\n",
    "\n",
    "A name/value pair consists of a field name (in double quotes), followed by a colon, followed by a value:\n",
    "\n",
    "**JSON names require double quotes. JavaScript names do not.**:"
   ]
  },
  {
   "cell_type": "code",
   "execution_count": null,
   "id": "d7227db3",
   "metadata": {},
   "outputs": [],
   "source": [
    "# JSON:\n",
    "{\"name\":\"John\"}\n",
    "\n",
    "# JavaScript:\n",
    "{name:\"John\"}"
   ]
  },
  {
   "cell_type": "markdown",
   "id": "361c79e2",
   "metadata": {},
   "source": [
    "### Converting a JSON Text to a JavaScript Object\n",
    "\n",
    "A common use of JSON is to read data from a web server, and display the data in a web page.\n",
    "\n",
    "For simplicity, this can be demonstrated using a string as input.\n",
    "\n",
    "First, create a JavaScript string containing JSON syntax:"
   ]
  },
  {
   "cell_type": "code",
   "execution_count": null,
   "id": "33218ee4",
   "metadata": {},
   "outputs": [],
   "source": [
    "let text = '{ \"employees\" : [' +\n",
    "'{ \"firstName\":\"John\" , \"lastName\":\"Doe\" },' +\n",
    "'{ \"firstName\":\"Anna\" , \"lastName\":\"Smith\" },' +\n",
    "'{ \"firstName\":\"Peter\" , \"lastName\":\"Jones\" } ]}';"
   ]
  },
  {
   "cell_type": "markdown",
   "id": "29200f72",
   "metadata": {},
   "source": [
    "Then, use the JavaScript built-in function `JSON.parse()` to convert the string into a JavaScript object:"
   ]
  },
  {
   "cell_type": "code",
   "execution_count": null,
   "id": "de0b09ae",
   "metadata": {},
   "outputs": [],
   "source": [
    "const obj = JSON.parse(text);\n",
    "consoel.log(obj); # out will be JavaScript object\n",
    "\n",
    "# Output:\n",
    "{\n",
    "  employees: [\n",
    "    { firstName: 'John', lastName: 'Doe' },\n",
    "    { firstName: 'Anna', lastName: 'Smith' },\n",
    "    { firstName: 'Peter', lastName: 'Jones' }\n",
    "  ]\n",
    "}"
   ]
  },
  {
   "cell_type": "markdown",
   "id": "54cbaf0e",
   "metadata": {},
   "source": [
    "Finally, use the new JavaScript object in your page:"
   ]
  },
  {
   "cell_type": "code",
   "execution_count": null,
   "id": "989233dd",
   "metadata": {},
   "outputs": [],
   "source": [
    "<p id=\"demo\"></p>\n",
    "\n",
    "<script>\n",
    "document.getElementById(\"demo\").innerHTML =\n",
    "obj.employees[1].firstName + \" \" + obj.employees[1].lastName;\n",
    "</script>"
   ]
  },
  {
   "cell_type": "code",
   "execution_count": null,
   "id": "dc4962ad",
   "metadata": {},
   "outputs": [],
   "source": [
    "let text = '{ \"employees\" : [' +\n",
    "'{ \"firstName\":\"John\" , \"lastName\":\"Doe\" },' +\n",
    "'{ \"firstName\":\"Anna\" , \"lastName\":\"Smith\" },' +\n",
    "'{ \"firstName\":\"Peter\" , \"lastName\":\"Jones\" } ]}';\n",
    "\n",
    "const obj = JSON.parse(text);\n",
    "\n",
    "console.log(obj.employees[1].firstName + \" \" + obj.employees[1].lastName)  # Anna Smith"
   ]
  },
  {
   "cell_type": "markdown",
   "id": "590ee415",
   "metadata": {},
   "source": [
    "The JSON format is syntactically similar to the code for creating JavaScript objects. Because of this, a JavaScript program can easily convert JSON data into JavaScript objects.\n",
    "\n",
    "Since the format is text only, JSON data can easily be sent between computers, and used by any programming language.\n",
    "\n",
    "- JavaScript has a built in function for converting JSON strings into JavaScript objects: `JSON.parse()`\n",
    "\n",
    "- JavaScript also has a built in function for converting an object into a JSON string: `JSON.stringify()`\n",
    "\n",
    "You can receive pure text from a server and use it as a JavaScript object.\n",
    "\n",
    "You can send a JavaScript object to a server in pure text format.\n",
    "\n",
    "You can work with data as JavaScript objects, with no complicated parsing and translations.\n",
    "\n",
    "- The file type for JSON files is \"`.json`\"\n",
    "- The MIME type for JSON text is \"`application/json`\""
   ]
  },
  {
   "cell_type": "markdown",
   "id": "93bd3b74",
   "metadata": {},
   "source": [
    "**In `JSON`, values must be one of the following data types:**\n",
    "- a string\n",
    "- a number\n",
    "- an object\n",
    "- an array\n",
    "- a boolean\n",
    "- null\n",
    "\n",
    "**`JSON` values cannot be one of the following data types:**\n",
    "- a function\n",
    "- a date\n",
    "- undefined\n",
    "\n",
    "**In `JavaScript` values can be all of the above, plus any other valid JavaScript expression, including:**\n",
    "- a function\n",
    "- a date\n",
    "- undefined\n",
    "\n",
    "**In JSON, string values must be written with double quotes.**"
   ]
  },
  {
   "cell_type": "markdown",
   "id": "24290ed4",
   "metadata": {},
   "source": [
    "### JSON.parse()\n",
    "\n",
    "A common use of JSON is to exchange data to/from a web server.\n",
    "\n",
    "When receiving data from a web server, the data is always a string.\n",
    "\n",
    "Parse the data with `JSON.parse()`, and the data becomes a `JavaScript object`."
   ]
  },
  {
   "cell_type": "code",
   "execution_count": null,
   "id": "dec4c1c1",
   "metadata": {},
   "outputs": [],
   "source": [
    "const obj = JSON.parse('{\"name\":\"John\", \"age\":30, \"city\":\"New York\"}');\n",
    "\n",
    "console.log(obj instanceof Object)  # true\n",
    "console.log(obj)  # { name: 'John', age: 30, city: 'New York' }\n",
    "\n",
    "# Make sure the text is in JSON format, or else you will get a syntax error."
   ]
  },
  {
   "cell_type": "markdown",
   "id": "b7580291",
   "metadata": {},
   "source": [
    "When using the `JSON.parse()` on a JSON derived from an array, the method will return a JavaScript array, instead of a JavaScript object."
   ]
  },
  {
   "cell_type": "code",
   "execution_count": null,
   "id": "0aeb719a",
   "metadata": {},
   "outputs": [],
   "source": [
    "const text = '[\"Ford\", \"BMW\", \"Audi\", \"Fiat\"]';\n",
    "const myArr = JSON.parse(text);\n",
    "\n",
    "console.log(myArr instanceof Array)  # true\n",
    "console.log(myArr)  # [ 'Ford', 'BMW', 'Audi', 'Fiat' ]"
   ]
  },
  {
   "cell_type": "markdown",
   "id": "b936c308",
   "metadata": {},
   "source": [
    "#### Exceptions: Parsing Dates\n",
    "\n",
    "Date objects are not allowed in JSON.\n",
    "\n",
    "If you need to include a date, write it as a string.\n",
    "\n",
    "You can convert it back into a date object later:"
   ]
  },
  {
   "cell_type": "code",
   "execution_count": null,
   "id": "174bc913",
   "metadata": {},
   "outputs": [],
   "source": [
    "# Convert a string into a date:\n",
    "const text = '{\"name\":\"John\", \"birth\":\"1986-12-14\", \"city\":\"New York\"}';\n",
    "const obj = JSON.parse(text);\n",
    "obj.birth = new Date(obj.birth);\n",
    "\n",
    "console.log(obj.name + \", \" + obj.birth);  # John, Sun Dec 14 1986 05:30:00 GMT+0530 (India Standard Time)"
   ]
  },
  {
   "cell_type": "markdown",
   "id": "649edaa1",
   "metadata": {},
   "source": [
    "Or, you can use the second parameter, of the `JSON.parse()` function, called `reviver`.\n",
    "\n",
    "The `reviver` parameter is a function that checks each property, before returning the value."
   ]
  },
  {
   "cell_type": "code",
   "execution_count": null,
   "id": "ef78f498",
   "metadata": {},
   "outputs": [],
   "source": [
    "//Convert a string into a date, using the reviver function:\n",
    "\n",
    "const text = '{\"name\":\"John\", \"birth\":\"1986-12-14\", \"city\":\"New York\"}';\n",
    "const obj = JSON.parse(text, function (key, value) {\n",
    "  if (key == \"birth\") {\n",
    "    return new Date(value);\n",
    "  } else {\n",
    "    return value;\n",
    "  }\n",
    "});\n",
    "\n",
    "console.log(obj.name + \", \" + obj.birth);  # John, Sun Dec 14 1986 05:30:00 GMT+0530 (India Standard Time)"
   ]
  },
  {
   "cell_type": "markdown",
   "id": "722e841b",
   "metadata": {},
   "source": [
    "#### Exceptions: parsing Functions\n",
    "\n",
    "Functions are not allowed in JSON.\n",
    "\n",
    "If you need to include a function, write it as a string.\n",
    "\n",
    "You can convert it back into a function later:"
   ]
  },
  {
   "cell_type": "code",
   "execution_count": null,
   "id": "5ffe2ce8",
   "metadata": {},
   "outputs": [],
   "source": [
    "# Convert a string into a function:\n",
    "\n",
    "const text = '{\"name\":\"John\", \"age\":\"function () {return 30;}\", \"city\":\"New York\"}';\n",
    "const obj = JSON.parse(text);\n",
    "obj.age = eval(\"(\" + obj.age + \")\");\n",
    "\n",
    "console.log(obj.name + \", \" + obj.age());  # John, 30"
   ]
  },
  {
   "cell_type": "markdown",
   "id": "a33e8894",
   "metadata": {},
   "source": [
    "**Remark:** You should avoid using functions in JSON, the functions will lose their scope, and you would have to use `eval()` to convert them back into functions."
   ]
  },
  {
   "cell_type": "markdown",
   "id": "7630d038",
   "metadata": {},
   "source": [
    "### JSON.stringify()\n",
    "\n",
    "A common use of JSON is to exchange data to/from a web server.\n",
    "\n",
    "When sending data to a web server, the data has to be a string.\n",
    "\n",
    "Convert a JavaScript object into a string with `JSON.stringify()`."
   ]
  },
  {
   "cell_type": "code",
   "execution_count": null,
   "id": "85ff3854",
   "metadata": {},
   "outputs": [],
   "source": [
    "const obj = {name: \"John\", age: 30, city: \"New York\"};\n",
    "const myJSON = JSON.stringify(obj);\n",
    "\n",
    "console.log(typeof myJSON)  # string\n",
    "console.log(myJSON)  # {\"name\":\"John\",\"age\":30,\"city\":\"New York\"}"
   ]
  },
  {
   "cell_type": "markdown",
   "id": "5465fc07",
   "metadata": {},
   "source": [
    "It is also possible to stringify JavaScript arrays:"
   ]
  },
  {
   "cell_type": "code",
   "execution_count": null,
   "id": "b7583e7f",
   "metadata": {},
   "outputs": [],
   "source": [
    "const arr = [\"John\", \"Peter\", \"Sally\", \"Jane\"];\n",
    "const myJSON = JSON.stringify(arr);\n",
    "\n",
    "console.log(typeof myJSON)  # string\n",
    "console.log(myJSON)  # [\"John\",\"Peter\",\"Sally\",\"Jane\"]"
   ]
  },
  {
   "cell_type": "markdown",
   "id": "dae73af6",
   "metadata": {},
   "source": [
    "When storing data, the data has to be a certain format, and regardless of where you choose to store it, text is always one of the legal formats.\n",
    "\n",
    "JSON makes it possible to store JavaScript objects as text."
   ]
  },
  {
   "cell_type": "code",
   "execution_count": null,
   "id": "a0cb6967",
   "metadata": {},
   "outputs": [],
   "source": [
    "# storing data in local storage\n",
    "\n",
    "// Storing data:\n",
    "const myObj = {name: \"John\", age: 31, city: \"New York\"};\n",
    "const myJSON = JSON.stringify(myObj);\n",
    "localStorage.setItem(\"testJSON\", myJSON);\n",
    "\n",
    "// Retrieving data:\n",
    "let text = localStorage.getItem(\"testJSON\");\n",
    "let obj = JSON.parse(text);\n",
    "document.getElementById(\"demo\").innerHTML = obj.name;"
   ]
  },
  {
   "cell_type": "markdown",
   "id": "265b1eac",
   "metadata": {},
   "source": [
    "#### Exceptions: Stringify Dates\n",
    "\n",
    "In JSON, date objects are not allowed. The `JSON.stringify()` function will convert any dates into strings."
   ]
  },
  {
   "cell_type": "code",
   "execution_count": null,
   "id": "bb5a88b3",
   "metadata": {},
   "outputs": [],
   "source": [
    "const obj = {name: \"John\", today: new Date(), city : \"New York\"};\n",
    "const myJSON = JSON.stringify(obj);\n",
    "\n",
    "console.log(typeof myJSON);  # string\n",
    "console.log(myJSON);  # {\"name\":\"John\",\"today\":\"2024-06-07T15:04:58.169Z\",\"city\":\"New York\"}\n",
    "\n",
    "# You can convert the string back into a date object at the receiver."
   ]
  },
  {
   "cell_type": "markdown",
   "id": "968ae00c",
   "metadata": {},
   "source": [
    "#### Exceptions: Stringify Functions\n",
    "\n",
    "In JSON, functions are not allowed as object values.\n",
    "\n",
    "The `JSON.stringify()` function will remove any functions from a JavaScript object, both the key and the value:"
   ]
  },
  {
   "cell_type": "code",
   "execution_count": null,
   "id": "122d2055",
   "metadata": {},
   "outputs": [],
   "source": [
    "const obj = {name: \"John\", age: function () {return 30;}, city: \"New York\"};\n",
    "const myJSON = JSON.stringify(obj);\n",
    "\n",
    "console.log(typeof myJSON);  # string\n",
    "console.log(myJSON);  # {\"name\":\"John\",\"city\":\"New York\"}"
   ]
  },
  {
   "cell_type": "markdown",
   "id": "a7ae367e",
   "metadata": {},
   "source": [
    "This can be omitted if you convert your functions into strings before running the `JSON.stringify()` function."
   ]
  },
  {
   "cell_type": "code",
   "execution_count": null,
   "id": "687dc80f",
   "metadata": {},
   "outputs": [],
   "source": [
    "const obj = {name: \"John\", age: function () {return 30;}, city: \"New York\"};\n",
    "obj.age = obj.age.toString();\n",
    "const myJSON = JSON.stringify(obj);\n",
    "\n",
    "console.log(typeof myJSON);  # string\n",
    "console.log(myJSON);  # {\"name\":\"John\",\"age\":\"function () {return 30;}\",\"city\":\"New York\"}"
   ]
  },
  {
   "cell_type": "markdown",
   "id": "c89936f8",
   "metadata": {},
   "source": [
    "**Remark:** If you send functions using JSON, the functions will lose their scope, and the receiver would have to use `eval()` to convert them back into functions."
   ]
  },
  {
   "cell_type": "markdown",
   "id": "620b8bbb",
   "metadata": {},
   "source": [
    "### JSON Object Literals"
   ]
  },
  {
   "cell_type": "code",
   "execution_count": null,
   "id": "9ea832f9",
   "metadata": {},
   "outputs": [],
   "source": [
    "# JSON string:\n",
    "'{\"name\":\"John\", \"age\":30, \"car\":null}'\n",
    "\n",
    "# Inside the JSON string there is a JSON object literal:\n",
    "{\"name\":\"John\", \"age\":30, \"car\":null}"
   ]
  },
  {
   "cell_type": "markdown",
   "id": "f0c9f8d6",
   "metadata": {},
   "source": [
    "It is a common mistake to call a JSON object literal \"a JSON object\".\n",
    "\n",
    "JSON cannot be an object. JSON is a string format.\n",
    "\n",
    "The data is only JSON when it is in a string format. When it is converted to a JavaScript variable, it becomes a JavaScript object."
   ]
  },
  {
   "cell_type": "code",
   "execution_count": null,
   "id": "a1a9ca97",
   "metadata": {},
   "outputs": [],
   "source": [
    "# You can create a JavaScript object from a JSON object literal:\n",
    "myObj = {\"name\":\"John\", \"age\":30, \"car\":null};\n",
    "\n",
    "# Normally, you create a JavaScript object by parsing a JSON string:\n",
    "myJSON = '{\"name\":\"John\", \"age\":30, \"car\":null}';\n",
    "myObj = JSON.parse(myJSON);"
   ]
  },
  {
   "cell_type": "markdown",
   "id": "7b14a085",
   "metadata": {},
   "source": [
    "You can loop through object properties with a `for-in` loop:"
   ]
  },
  {
   "cell_type": "code",
   "execution_count": null,
   "id": "e52ac395",
   "metadata": {},
   "outputs": [],
   "source": [
    "const myJSON = '{\"name\":\"John\", \"age\":30, \"car\":null}';\n",
    "const myObj = JSON.parse(myJSON);\n",
    "\n",
    "let text = \"\";\n",
    "for (const x in myObj) {\n",
    "  text += x + \", \";\n",
    "}\n",
    "\n",
    "console.log(text)  # name, age, car, "
   ]
  },
  {
   "cell_type": "markdown",
   "id": "c8375c6a",
   "metadata": {},
   "source": [
    "In a `for-in` loop, use the bracket notation to access the property values:"
   ]
  },
  {
   "cell_type": "code",
   "execution_count": null,
   "id": "b70e3a2f",
   "metadata": {},
   "outputs": [],
   "source": [
    "const myJSON = '{\"name\":\"John\", \"age\":30, \"car\":null}';\n",
    "const myObj = JSON.parse(myJSON);\n",
    "\n",
    "let text = \"\";\n",
    "for (const x in myObj) {\n",
    "  text += myObj[x] + \", \";\n",
    "}\n",
    "console.log(text)  # John, 30, null, "
   ]
  },
  {
   "cell_type": "markdown",
   "id": "91608cca",
   "metadata": {},
   "source": [
    "### JSON Array Literals"
   ]
  },
  {
   "cell_type": "code",
   "execution_count": null,
   "id": "8d9c729d",
   "metadata": {},
   "outputs": [],
   "source": [
    "# This is a JSON string:\n",
    "'[\"Ford\", \"BMW\", \"Fiat\"]'\n",
    "\n",
    "# Inside the JSON string there is a JSON array literal:\n",
    "[\"Ford\", \"BMW\", \"Fiat\"]"
   ]
  },
  {
   "cell_type": "markdown",
   "id": "5b204cc8",
   "metadata": {},
   "source": [
    "Arrays in JSON are almost the same as arrays in JavaScript.\n",
    "\n",
    "In JSON, array values must be of type `string`, `number`, `object`, `array`, `boolean` or `null`.\n",
    "\n",
    "In JavaScript, array values can be all of the above, plus any other valid JavaScript expression, including `functions`, `dates`, and `undefined`."
   ]
  },
  {
   "cell_type": "code",
   "execution_count": null,
   "id": "3c53204e",
   "metadata": {},
   "outputs": [],
   "source": [
    "# You can create a JavaScript array from a literal:\n",
    "myArray = [\"Ford\", \"BMW\", \"Fiat\"];\n",
    "\n",
    "# You can create a JavaScript array by parsing a JSON string:\n",
    "myJSON = '[\"Ford\", \"BMW\", \"Fiat\"]';\n",
    "myArray = JSON.parse(myJSON);"
   ]
  },
  {
   "cell_type": "markdown",
   "id": "a7edc80b",
   "metadata": {},
   "source": [
    "You can access array values by using a `for in` loop:"
   ]
  },
  {
   "cell_type": "code",
   "execution_count": null,
   "id": "76acab30",
   "metadata": {},
   "outputs": [],
   "source": [
    "const myObj = {\n",
    "  \"name\":\"John\",\n",
    "  \"age\":30,\n",
    "  \"cars\":[\"Ford\", \"BMW\", \"Fiat\"]\n",
    "}\n",
    "\n",
    "x=\"\"\n",
    "\n",
    "for (let i in myObj.cars) {\n",
    "x += myObj.cars[i] + ', ';\n",
    "}\n",
    "console.log(x)  # Ford, BMW, Fiat, "
   ]
  },
  {
   "cell_type": "code",
   "execution_count": null,
   "id": "d6d3e0fe",
   "metadata": {},
   "outputs": [],
   "source": [
    "# Or you can use a for loop:\n",
    "x=\"\"\n",
    "for (let i = 0; i < myObj.cars.length; i++) {\n",
    "  x += myObj.cars[i] + ', ';\n",
    "}\n",
    "console.log(x)  # Ford, BMW, Fiat, "
   ]
  },
  {
   "cell_type": "markdown",
   "id": "2f92c1dd",
   "metadata": {},
   "source": [
    "### JSON Server\n",
    "\n",
    "A common use of JSON is to exchange data to/from a web server.\n",
    "\n",
    "When receiving data from a web server, the data is always a string.\n",
    "\n",
    "Parse the data with `JSON.parse()`, and the data becomes a JavaScript object."
   ]
  },
  {
   "cell_type": "markdown",
   "id": "ec0d2a19",
   "metadata": {},
   "source": [
    "#### Sending Data\n",
    "\n",
    "If you have data stored in a JavaScript object, you can convert the object into JSON, and send it to a server:"
   ]
  },
  {
   "cell_type": "code",
   "execution_count": null,
   "id": "15dcbe3e",
   "metadata": {},
   "outputs": [],
   "source": [
    "const myObj = {name: \"John\", age: 31, city: \"New York\"};\n",
    "const myJSON = JSON.stringify(myObj);\n",
    "window.location = \"demo_json.php?x=\" + myJSON;"
   ]
  },
  {
   "cell_type": "markdown",
   "id": "371ef7e0",
   "metadata": {},
   "source": [
    "#### Receiving Data\n",
    "\n",
    "If you receive data in JSON format, you can easily convert it into a JavaScript object:"
   ]
  },
  {
   "cell_type": "code",
   "execution_count": null,
   "id": "45efcd0e",
   "metadata": {},
   "outputs": [],
   "source": [
    "const myJSON = '{\"name\":\"John\", \"age\":31, \"city\":\"New York\"}';\n",
    "const myObj = JSON.parse(myJSON);\n",
    "document.getElementById(\"demo\").innerHTML = myObj.name;"
   ]
  },
  {
   "cell_type": "markdown",
   "id": "e971be0a",
   "metadata": {},
   "source": [
    "#### JSON From a Server\n",
    "\n",
    "You can request JSON from the server by using an AJAX request\n",
    "\n",
    "As long as the response from the server is written in JSON format, you can parse the string into a JavaScript object."
   ]
  },
  {
   "cell_type": "code",
   "execution_count": null,
   "id": "4fc39d7f",
   "metadata": {},
   "outputs": [],
   "source": [
    "# Use the XMLHttpRequest to get data from the server:\n",
    "\n",
    "const xmlhttp = new XMLHttpRequest();\n",
    "xmlhttp.onload = function() {\n",
    "  const myObj = JSON.parse(this.responseText);\n",
    "  document.getElementById(\"demo\").innerHTML = myObj.name;\n",
    "};\n",
    "xmlhttp.open(\"GET\", \"json_demo.txt\");\n",
    "xmlhttp.send();"
   ]
  },
  {
   "cell_type": "markdown",
   "id": "ae444270",
   "metadata": {},
   "source": [
    "# JavaScript Async"
   ]
  },
  {
   "cell_type": "markdown",
   "id": "7e98fdbf",
   "metadata": {},
   "source": [
    "### Callbacks\n",
    "\n",
    "- A callback is a function passed as an argument to another function\n",
    "- This technique allows a function to call another function\n",
    "- A callback function can run after another function has finished\n",
    "\n",
    "**A callback is a function that is passed as an argument to another function and is executed after some kind of event or the completion of a task**. \n",
    "\n",
    "- Callbacks are a fundamental part of asynchronous programming in JavaScript and are used extensively in `event handling`, `asynchronous operations`, and `higher-order functions`.\n",
    "\n",
    "JavaScript functions are executed in the sequence they are called. Not in the sequence they are defined.\n",
    "\n",
    "This example will end up displaying \"Goodbye\":"
   ]
  },
  {
   "cell_type": "code",
   "execution_count": null,
   "id": "74c4cd1d",
   "metadata": {},
   "outputs": [],
   "source": [
    "function myFirst() {\n",
    "  myDisplayer(\"Hello\");\n",
    "}\n",
    "\n",
    "function mySecond() {\n",
    "  myDisplayer(\"Goodbye\");\n",
    "}\n",
    "\n",
    "myFirst();\n",
    "mySecond();\n",
    "\n",
    "# This example will end up displaying \"Hello\":\n",
    "mySecond();\n",
    "myFirst();"
   ]
  },
  {
   "cell_type": "markdown",
   "id": "34c947ac",
   "metadata": {},
   "source": [
    "Sometimes you would like to have better control over when to execute a function.\n",
    "\n",
    "Suppose you want to do a calculation, and then display the result.\n",
    "\n",
    "You could call a calculator function (`myCalculator`), save the result, and then call another function (`myDisplayer`) to display the result:"
   ]
  },
  {
   "cell_type": "code",
   "execution_count": null,
   "id": "24f41315",
   "metadata": {},
   "outputs": [],
   "source": [
    "function myDisplayer(some) {\n",
    "  document.getElementById(\"demo\").innerHTML = some;\n",
    "}\n",
    "\n",
    "function myCalculator(num1, num2) {\n",
    "  let sum = num1 + num2;\n",
    "  return sum;\n",
    "}\n",
    "\n",
    "let result = myCalculator(5, 5);\n",
    "myDisplayer(result);"
   ]
  },
  {
   "cell_type": "markdown",
   "id": "9bb825df",
   "metadata": {},
   "source": [
    "Or, you could call a calculator function (`myCalculator`), and let the calculator function call the display function (`myDisplayer`):"
   ]
  },
  {
   "cell_type": "code",
   "execution_count": null,
   "id": "93c6fecb",
   "metadata": {},
   "outputs": [],
   "source": [
    "function myDisplayer(some) {\n",
    "  document.getElementById(\"demo\").innerHTML = some;\n",
    "}\n",
    "\n",
    "function myCalculator(num1, num2) {\n",
    "  let sum = num1 + num2;\n",
    "  myDisplayer(sum);\n",
    "}\n",
    "\n",
    "myCalculator(5, 5);"
   ]
  },
  {
   "cell_type": "markdown",
   "id": "2b4a0077",
   "metadata": {},
   "source": [
    "The problem with the first example above, is that you have to call two functions to display the result.\n",
    "\n",
    "The problem with the second example, is that you cannot prevent the calculator function from displaying the result.\n",
    "\n",
    "Now it is time to bring in a callback.\n",
    "\n",
    "**A callback is a function passed as an argument to another function.**\n",
    "\n",
    "Using a callback, you could call the calculator function (`myCalculator`) with a callback (`myCallback`), and let the calculator function run the callback after the calculation is finished:"
   ]
  },
  {
   "cell_type": "code",
   "execution_count": null,
   "id": "4f86993a",
   "metadata": {},
   "outputs": [],
   "source": [
    "function myDisplayer(sum) {\n",
    "  console.log(sum);  // Output: 10\n",
    "}\n",
    "\n",
    "function myCalculator(num1, num2, myCallback) {\n",
    "  let sum = num1 + num2;\n",
    "  myCallback(sum);\n",
    "}\n",
    "\n",
    "# Using the original function as a callback\n",
    "myCalculator(5, 5, myDisplayer);\n",
    "\n",
    "# Using an arrow function as a callback\n",
    "myCalculator(5, 5, (sum) => {\n",
    "  console.log(sum); // Output: 10\n",
    "});"
   ]
  },
  {
   "cell_type": "markdown",
   "id": "fde65ea8",
   "metadata": {},
   "source": [
    "In the example above, `myDisplayer` is a called a callback function.\n",
    "\n",
    "It is passed to `myCalculator()` as an argument.\n",
    "\n",
    "**NOTE:** When you pass a function as an argument, remember not to use parenthesis.\n",
    "\n",
    "<div class=\"w3-panel w3-note\">\n",
    "<p>Right: myCalculator(5, 5, myDisplayer);</p>\n",
    "<p>Wrong: <del>myCalculator(5, 5, myDisplayer());</del>;</p>\n",
    "</div>\n"
   ]
  },
  {
   "cell_type": "code",
   "execution_count": null,
   "id": "e6d5c97d",
   "metadata": {},
   "outputs": [],
   "source": [
    "# Create an Array\n",
    "const myNumbers = [4, 1, -20, -7, 5, 9, -6];\n",
    "\n",
    "# Call removeNeg with a callback\n",
    "const posNumbers = removeNeg(myNumbers, (x) => x >= 0);\n",
    "\n",
    "# Display Result\n",
    "console.log(posNumbers);  # [ 4, 1, 5, 9 ]\n",
    "\n",
    "# Keep only positive numbers\n",
    "function removeNeg(numbers, callback) {\n",
    "  const myArray = [];\n",
    "  for (const x of numbers) {\n",
    "    if (callback(x)) {\n",
    "      myArray.push(x);\n",
    "    }\n",
    "  }\n",
    "  return myArray;\n",
    "}"
   ]
  },
  {
   "cell_type": "markdown",
   "id": "b4401ebe",
   "metadata": {},
   "source": [
    "In the example above, `(x) => x >= 0` is a callback function.\n",
    "\n",
    "It is passed to `removeNeg()` as an argument.\n",
    "\n",
    "### When to Use a Callback?\n",
    "\n",
    "The examples above are not very exciting.\n",
    "\n",
    "They are simplified to teach you the callback syntax.\n",
    "\n",
    "**Where callbacks really shine are in `asynchronous` functions, where one function has to wait for another function (like waiting for a file to load)**.\n",
    "\n",
    "### Synchronous Callbacks\n",
    "\n",
    "A synchronous callback is executed immediately within the function that it is passed to.\n",
    "\n",
    "Example: Array Iteration\n",
    "Here is an example of a synchronous callback using the forEach method:"
   ]
  },
  {
   "cell_type": "code",
   "execution_count": null,
   "id": "cb5af254",
   "metadata": {},
   "outputs": [],
   "source": [
    "const numbers = [1, 2, 3, 4, 5];\n",
    "\n",
    "numbers.forEach(function(number) {\n",
    "  console.log(number);\n",
    "});\n",
    "\n",
    "// Output:\n",
    "// 1\n",
    "// 2\n",
    "// 3\n",
    "// 4\n",
    "// 5\n"
   ]
  },
  {
   "cell_type": "markdown",
   "id": "9775fb5b",
   "metadata": {},
   "source": [
    "### Asynchronous Callbacks\n",
    "\n",
    "An asynchronous callback is executed at a later time, after a certain event occurs or a task completes. These are essential for non-blocking operations in JavaScript.\n",
    "\n",
    "Example: setTimeout\n",
    "Here’s an example using setTimeout, which executes a callback after a specified delay:"
   ]
  },
  {
   "cell_type": "code",
   "execution_count": null,
   "id": "28534a1c",
   "metadata": {},
   "outputs": [],
   "source": [
    "console.log('Start');\n",
    "\n",
    "setTimeout(function() {\n",
    "  console.log('Callback executed');\n",
    "}, 2000); // Delay of 2000ms (2 seconds)\n",
    "\n",
    "console.log('End');\n",
    "\n",
    "// Output:\n",
    "// Start\n",
    "// End\n",
    "// Callback executed (after 2 seconds)\n"
   ]
  },
  {
   "cell_type": "markdown",
   "id": "e11b0a5a",
   "metadata": {},
   "source": [
    "### Asynchronous JavaScript\n",
    "\n",
    "Functions running in parallel with other functions are called asynchronous\n",
    "\n",
    "- A good example is JavaScript setTimeout()\n",
    "\n",
    "**In the real world, callbacks are most often used with asynchronous functions.**\n",
    "\n",
    "A typical example is JavaScript `setTimeout()` which takes a callback function.\n",
    "\n",
    "When using the JavaScript function `setTimeout()`, you can specify a callback function to be executed on time-out:"
   ]
  },
  {
   "cell_type": "code",
   "execution_count": null,
   "id": "c6c48dbe",
   "metadata": {},
   "outputs": [],
   "source": [
    "setTimeout(myFunction, 3000);\n",
    "\n",
    "function myFunction() {\n",
    "  console.log(\"I love You !!\");\n",
    "}"
   ]
  },
  {
   "cell_type": "markdown",
   "id": "0a326fa7",
   "metadata": {},
   "source": [
    "In the example above, myFunction is used as a callback.\n",
    "\n",
    "`myFunction` is passed to `setTimeout()` as an argument.\n",
    "\n",
    "`3000` is the number of milliseconds before time-out, so `myFunction()` will be called after 3 seconds.\n",
    "\n",
    "**NOTE:** When you pass a function as an argument, remember not to use parenthesis.\n",
    "\n",
    "<div class=\"w3-panel w3-note\">\n",
    "<p>Right: setTimeout(myFunction, 3000);</p>\n",
    "<p>Wrong: <del>setTimeout(myFunction(), 3000)</del>;</p>\n",
    "</div>\n",
    "\n",
    "Instead of passing the name of a function as an argument to another function, you can always pass a whole function instead:"
   ]
  },
  {
   "cell_type": "code",
   "execution_count": null,
   "id": "c2445438",
   "metadata": {},
   "outputs": [],
   "source": [
    "setTimeout(function() { myFunction(\"I love You !!!\"); }, 3000);\n",
    "\n",
    "function myFunction(value) {\n",
    "  console.log(value);\n",
    "}"
   ]
  },
  {
   "cell_type": "markdown",
   "id": "6e69d8ee",
   "metadata": {},
   "source": [
    "In the example above, `function(){ myFunction(\"I love You !!!\"); }` is used as a callback. It is a complete function. The complete function is passed to `setTimeout()` as an argument.\n",
    "\n",
    "3000 is the number of milliseconds before time-out, so `myFunction()` will be called after 3 seconds.\n",
    "\n",
    "When using the JavaScript function `setInterval()`, you can specify a callback function to be executed for each interval:"
   ]
  },
  {
   "cell_type": "code",
   "execution_count": null,
   "id": "d386f34f",
   "metadata": {},
   "outputs": [],
   "source": [
    "setInterval(myFunction, 1000);\n",
    "\n",
    "function myFunction() {\n",
    "  let d = new Date();\n",
    "  console.log(\n",
    "    d.getHours() + \":\" +\n",
    "    d.getMinutes() + \":\" +\n",
    "    d.getSeconds()\n",
    "  )\n",
    "}"
   ]
  },
  {
   "cell_type": "markdown",
   "id": "7d68c0f8",
   "metadata": {},
   "source": [
    "In the example above, `myFunction` is used as a callback.\n",
    "\n",
    "`myFunction` is passed to `setInterval()` as an argument.\n",
    "\n",
    "1000 is the number of milliseconds between intervals, so `myFunction()` will be called every second.\n",
    "\n",
    "### Callback Hell\n",
    "\n",
    "When multiple asynchronous operations are nested, it can lead to a situation known as \"callback hell\" or \"pyramid of doom,\" where the code becomes hard to read and maintain."
   ]
  },
  {
   "cell_type": "code",
   "execution_count": null,
   "id": "e009eef3",
   "metadata": {},
   "outputs": [],
   "source": [
    "doSomething(function(result) {\n",
    "  doSomethingElse(result, function(newResult) {\n",
    "    doAnotherThing(newResult, function(finalResult) {\n",
    "      console.log('Final result:', finalResult);\n",
    "    });\n",
    "  });\n",
    "});"
   ]
  },
  {
   "cell_type": "markdown",
   "id": "cafb76fd",
   "metadata": {},
   "source": [
    "### Mitigating Callback Hell\n",
    "Several techniques and language features can help manage callback hell, including:\n",
    "\n",
    "- `Modularizing Code`: Breaking down the code into smaller, reusable functions.\n",
    "- `Named Callbacks`: Using named functions instead of anonymous functions.\n",
    "- `Promises`: A more structured way to handle asynchronous operations.\n",
    "- `Async/Await`: Syntactic sugar over promises for writing asynchronous code in a more synchronous fashion."
   ]
  },
  {
   "cell_type": "markdown",
   "id": "d881215d",
   "metadata": {},
   "source": [
    "### Callback Alternatives\n",
    "\n",
    "With asynchronous programming, JavaScript programs can start long-running tasks, and continue running other tasks in parallel.\n",
    "\n",
    "But, asynchronus programmes are difficult to write and difficult to debug.\n",
    "\n",
    "Because of this, most modern asynchronous JavaScript methods don't use callbacks. Instead, in JavaScript, asynchronous programming is solved using `Promises` instead.\n",
    "\n",
    "### JavaScript Promises\n",
    "\n",
    "**A Promise is an object representing the eventual completion (or failure) of an asynchronous operation and its resulting value.**\n",
    "\n",
    "Promises are a powerful feature in JavaScript that allow you to handle asynchronous operations in a more manageable and readable way compared to traditional callbacks. They represent a value that might be available now, or in the future, or never.\n",
    "\n",
    "A Promise can be in one of three states:\n",
    "\n",
    "1. `Pending`: Initial state, neither fulfilled nor rejected.\n",
    "2. `Fulfilled`: Operation completed successfully.\n",
    "3. `Rejected`: Operation failed.\n",
    "\n",
    "A Promise is created using the `Promise` constructor, which takes a function (`executor`) with two parameters: `resolve` and `reject`:"
   ]
  },
  {
   "cell_type": "code",
   "execution_count": null,
   "id": "db876450",
   "metadata": {},
   "outputs": [],
   "source": [
    "const myPromise = new Promise((resolve, reject) => {\n",
    "  // Asynchronous operation\n",
    "  let success = true; // Simulate success or failure\n",
    "\n",
    "  if (success) {\n",
    "    resolve(\"Operation was successful!\");\n",
    "  } else {\n",
    "    reject(\"Operation failed.\");\n",
    "  }\n",
    "});\n"
   ]
  },
  {
   "cell_type": "markdown",
   "id": "f357a2f3",
   "metadata": {},
   "source": [
    "To consume a Promise, you use its `then` and `catch` methods:\n",
    "\n",
    "- `then`: Takes two optional callbacks, one for when the promise is fulfilled and one for when it's rejected.\n",
    "- `catch`: Takes a callback for when the promise is rejected."
   ]
  },
  {
   "cell_type": "code",
   "execution_count": null,
   "id": "a08b16b4",
   "metadata": {},
   "outputs": [],
   "source": [
    "myPromise\n",
    "  .then((result) => {\n",
    "      console.log(result); // Output: \"Operation was successful!\"\n",
    "    }, (error) => {\n",
    "          console.log(error); // This will not run in this example\n",
    "        }\n",
    "  )\n",
    "  .catch((error) => {\n",
    "    console.log(error); // This will also catch errors, if no second callback is passed to then\n",
    "  });\n"
   ]
  },
  {
   "cell_type": "markdown",
   "id": "ff070c19",
   "metadata": {},
   "source": [
    "\"Producing code\" is code that can take some time\n",
    "\n",
    "\"Consuming code\" is code that must wait for the result\n",
    "\n",
    "- A Promise is an Object that links Producing code and Consuming code.\n",
    "\n",
    "A Promise contains both the producing code and calls to the consuming code:"
   ]
  },
  {
   "cell_type": "code",
   "execution_count": null,
   "id": "7a52a5dc",
   "metadata": {},
   "outputs": [],
   "source": [
    "let myPromise = new Promise(function(myResolve, myReject) {\n",
    "# \"Producing Code\" (May take some time)\n",
    "\n",
    "  myResolve(); // when successful\n",
    "  myReject();  // when error\n",
    "});\n",
    "\n",
    "# \"Consuming Code\" (Must wait for a fulfilled Promise)\n",
    "myPromise.then(\n",
    "  function(value) { /* code if successful */ },\n",
    "  function(error) { /* code if some error */ }\n",
    ");"
   ]
  },
  {
   "cell_type": "markdown",
   "id": "12b30014",
   "metadata": {},
   "source": [
    "When the producing code obtains the result, it should call one of the two callbacks:\n",
    "\n",
    "<table class=\"ws-table-all\">\n",
    "<tbody><tr><th>When</th><th>Call</th></tr>\n",
    "<tr><td>Success</td><td>myResolve(result value)</td></tr>\n",
    "<tr><td>Error</td><td>myReject(error object)</td></tr>\n",
    "</tbody></table>\n",
    "\n",
    "A JavaScript Promise object can be:\n",
    "\n",
    "- Pending\n",
    "- Fulfilled\n",
    "- Rejected\n",
    "\n",
    "The Promise object supports two properties: `state` and `result`.\n",
    "\n",
    "While a Promise object is \"pending\" (working), the result is undefined.\n",
    "\n",
    "When a Promise object is \"fulfilled\", the result is a value.\n",
    "\n",
    "When a Promise object is \"rejected\", the result is an error object.\n",
    "\n",
    "<table class=\"ws-table-all\">\n",
    "<tbody><tr><th>myPromise.state</th><th>myPromise.result</th></tr>\n",
    "<tr><td>\"pending\"</td><td>undefined</td></tr>\n",
    "<tr><td>\"fulfilled\"</td><td>a result value</td></tr>\n",
    "<tr><td>\"rejected\"</td><td>an error object</td></tr>\n",
    "</tbody></table>\n",
    "\n",
    "- You cannot access the Promise properties state and result.\n",
    "- You must use a Promise method to handle promises."
   ]
  },
  {
   "cell_type": "code",
   "execution_count": null,
   "id": "335b5e4b",
   "metadata": {},
   "outputs": [],
   "source": [
    "# Here is how to use a Promise:\n",
    "\n",
    "myPromise.then(\n",
    "  function(value) { /* code if successful */ },\n",
    "  function(error) { /* code if some error */ }\n",
    ");"
   ]
  },
  {
   "cell_type": "markdown",
   "id": "70ff6836",
   "metadata": {},
   "source": [
    "`Promise.then()` takes two arguments, a callback for success and another for failure.\n",
    "\n",
    "Both are optional, so you can add a callback for success or failure only."
   ]
  },
  {
   "cell_type": "code",
   "execution_count": null,
   "id": "b62ed2ea",
   "metadata": {},
   "outputs": [],
   "source": [
    "function myDisplayer(some) {\n",
    "  console.log(some)\n",
    "}\n",
    "\n",
    "let myPromise = new Promise(function(myResolve, myReject) {\n",
    "  let x = 0;\n",
    "\n",
    "# The producing code (this may take some time)\n",
    "\n",
    "  if (x == 0) {\n",
    "    myResolve(\"OK\");\n",
    "  } else {\n",
    "    myReject(\"Error\");\n",
    "  }\n",
    "});\n",
    "\n",
    "myPromise.then(\n",
    "  function(value) {myDisplayer(value);},\n",
    "  function(error) {myDisplayer(error);}\n",
    ");"
   ]
  },
  {
   "cell_type": "markdown",
   "id": "8a792245",
   "metadata": {},
   "source": [
    "#### Chaining Promises\n",
    "\n",
    "Promises can be chained to handle sequences of asynchronous operations."
   ]
  },
  {
   "cell_type": "code",
   "execution_count": null,
   "id": "95eb761b",
   "metadata": {},
   "outputs": [],
   "source": [
    "const firstPromise = new Promise((resolve, reject) => {\n",
    "  resolve(1);\n",
    "});\n",
    "\n",
    "firstPromise\n",
    "  .then((result) => {\n",
    "    console.log(result); // Output: 1\n",
    "    return result * 2;\n",
    "  })\n",
    "  .then((result) => {\n",
    "    console.log(result); // Output: 2\n",
    "    return result * 2;\n",
    "  })\n",
    "  .then((result) => {\n",
    "    console.log(result); // Output: 4\n",
    "  })\n",
    "  .catch((error) => {\n",
    "    console.log(error);\n",
    "  });\n"
   ]
  },
  {
   "cell_type": "markdown",
   "id": "a46c0c8d",
   "metadata": {},
   "source": [
    "Let's understand more with another example:"
   ]
  },
  {
   "cell_type": "code",
   "execution_count": null,
   "id": "a03bb93d",
   "metadata": {},
   "outputs": [],
   "source": [
    "const promise = new Promise((resolve, reject)=>{\n",
    "  setTimeout(()=>{\n",
    "    resolve({userName:\"Charles Dera\", email:\"charles@hotmail.com\"});\n",
    "  }, 3000);\n",
    "})\n",
    "\n",
    "promise\n",
    ".then((result)=>{\n",
    "  console.log(result);\n",
    "})\n",
    "\n",
    "# output:\n",
    "{ userName: 'Charles Dera', email: 'charles@hotmail.com' }"
   ]
  },
  {
   "cell_type": "code",
   "execution_count": null,
   "id": "71aa9890",
   "metadata": {},
   "outputs": [],
   "source": [
    "const promise = new Promise((resolve, reject)=>{\n",
    "  setTimeout(()=>{\n",
    "    let error = true;\n",
    "    if(!error){\n",
    "      resolve({userName:\"Charles Dera\", email:\"charles@hotmail.com\"});\n",
    "    } else{\n",
    "      reject(\"ERROR: SOmething went wrong\")\n",
    "    }\n",
    "  }, 3000);\n",
    "})\n",
    "\n",
    "const user = promise.then((result)=>{\n",
    "  console.log(result);\n",
    "  return result.userName;\n",
    "}).catch((error)=>{\n",
    "  console.log(error);\n",
    "})\n",
    "console.log(\"User: \", user)\n",
    "\n",
    "# output:\n",
    "User:  Promise { <pending> }\n",
    "ERROR: SOmething went wrong"
   ]
  },
  {
   "cell_type": "code",
   "execution_count": null,
   "id": "f514f0b3",
   "metadata": {},
   "outputs": [],
   "source": [
    "const promise = new Promise((resolve, reject)=>{\n",
    "  setTimeout(()=>{\n",
    "    let error = false;\n",
    "    if(!error){\n",
    "      resolve({userName:\"Charles Dera\", email:\"charles@hotmail.com\"});\n",
    "    } else{\n",
    "      reject(\"ERROR: SOmething went wrong\")\n",
    "    }\n",
    "  }, 3000);\n",
    "})\n",
    "\n",
    "const user = promise.then((result)=>{\n",
    "  console.log(result);\n",
    "  return result.userName;\n",
    "}).catch((error)=>{\n",
    "  console.log(error);\n",
    "})\n",
    "console.log(\"User: \", user)\n",
    "\n",
    "# output:\n",
    "User:  Promise { <pending> }\n",
    "{ userName: 'Charles Dera', email: 'charles@hotmail.com' }"
   ]
  },
  {
   "cell_type": "code",
   "execution_count": null,
   "id": "67ea8653",
   "metadata": {},
   "outputs": [],
   "source": [
    "const promise = new Promise((resolve, reject)=>{\n",
    "  setTimeout(()=>{\n",
    "    let error = false;\n",
    "    if(!error){\n",
    "      resolve({userName:\"Charles Dera\", email:\"charles@hotmail.com\"});\n",
    "    } else{\n",
    "      reject(\"ERROR: SOmething went wrong\")\n",
    "    }\n",
    "  }, 3000);\n",
    "})\n",
    "\n",
    "promise\n",
    ".then((result)=>{\n",
    "  console.log(result);\n",
    "  return result.userName; # return to next then()\n",
    "}).then((userName)=>{ # chaining\n",
    "  console.log(userName)\n",
    "})\n",
    ".catch((error)=>{\n",
    "  console.log(error);\n",
    "})\n",
    "\n",
    "# Output:\n",
    "{ userName: 'Charles Dera', email: 'charles@hotmail.com' }\n",
    "Charles Dera"
   ]
  },
  {
   "cell_type": "markdown",
   "id": "5d3a84c5",
   "metadata": {},
   "source": [
    "#### Handling Errors\n",
    "\n",
    "Errors can be caught using `catch`, which is useful for handling `rejections` or `exceptions` that occur in any of the preceding then handlers."
   ]
  },
  {
   "cell_type": "code",
   "execution_count": null,
   "id": "580de335",
   "metadata": {},
   "outputs": [],
   "source": [
    "const myPromise = new Promise((resolve, reject) => {\n",
    "  let success = false;\n",
    "\n",
    "  if (success) {\n",
    "    resolve(\"Operation was successful!\");\n",
    "  } else {\n",
    "    reject(\"Operation failed.\");\n",
    "  }\n",
    "});\n",
    "\n",
    "myPromise\n",
    "  .then((result) => {\n",
    "    console.log(result);\n",
    "  })\n",
    "  .catch((error) => {\n",
    "    console.log(error); // Output: \"Operation failed.\"\n",
    "  });\n"
   ]
  },
  {
   "cell_type": "markdown",
   "id": "4be891a2",
   "metadata": {},
   "source": [
    "#### `finally` Method\n",
    "\n",
    "The `finally` method can be used to execute code after the promise is settled (fulfilled or rejected), regardless of the outcome."
   ]
  },
  {
   "cell_type": "code",
   "execution_count": null,
   "id": "edf57e41",
   "metadata": {},
   "outputs": [],
   "source": [
    "myPromise\n",
    "  .then((result) => {\n",
    "    console.log(result);\n",
    "  })\n",
    "  .catch((error) => {\n",
    "    console.log(error);\n",
    "  })\n",
    "  .finally(() => {\n",
    "    console.log(\"Operation completed.\"); // Output: \"Operation completed.\"\n",
    "  });\n"
   ]
  },
  {
   "cell_type": "markdown",
   "id": "7bbfdcd1",
   "metadata": {},
   "source": [
    "Here's a real-world example using promises to simulate an API call:"
   ]
  },
  {
   "cell_type": "code",
   "execution_count": null,
   "id": "3efaf3a6",
   "metadata": {},
   "outputs": [],
   "source": [
    "function fetchData() {\n",
    "  return new Promise((resolve, reject) => {\n",
    "    setTimeout(() => {\n",
    "      const success = true;\n",
    "\n",
    "      if (success) {\n",
    "        resolve(\"Data fetched successfully!\");\n",
    "      } else {\n",
    "        reject(\"Failed to fetch data.\");\n",
    "      }\n",
    "    }, 2000);\n",
    "  });\n",
    "}\n",
    "\n",
    "fetchData()\n",
    "  .then((data) => {\n",
    "    console.log(data); // Output: \"Data fetched successfully!\" after 2 seconds\n",
    "  })\n",
    "  .catch((error) => {\n",
    "    console.log(error);\n",
    "  });\n"
   ]
  },
  {
   "cell_type": "markdown",
   "id": "8c05c049",
   "metadata": {},
   "source": [
    "To demonstrate the use of promises, we will use the callback examples from the previous chapter:\n",
    "\n",
    "- Waiting for a Timeout\n",
    "- Waiting for a File"
   ]
  },
  {
   "cell_type": "code",
   "execution_count": null,
   "id": "bd9266ee",
   "metadata": {},
   "outputs": [],
   "source": [
    "# Waiting for a Timeout:\n",
    "\n",
    "# Example Using Callback\n",
    "setTimeout(function() { myFunction(\"I love You !!!\"); }, 3000);\n",
    "\n",
    "function myFunction(value) {\n",
    "  console.log(value);\n",
    "}"
   ]
  },
  {
   "cell_type": "code",
   "execution_count": null,
   "id": "517276c9",
   "metadata": {},
   "outputs": [],
   "source": [
    "# Waiting for a Timeout:\n",
    "\n",
    "# Example Using Promise\n",
    "let myPromise = new Promise(function(myResolve, myReject) {\n",
    "  setTimeout(function() { myResolve(\"I love You !!\"); }, 3000);\n",
    "});\n",
    "\n",
    "myPromise.then(function(value) {\n",
    "  console.log(value);\n",
    "});"
   ]
  },
  {
   "cell_type": "code",
   "execution_count": null,
   "id": "8673db22",
   "metadata": {},
   "outputs": [],
   "source": [
    "# Waiting for a file:\n",
    "\n",
    "#Example using Callback\n",
    "function getFile(myCallback) {\n",
    "  let req = new XMLHttpRequest();\n",
    "  req.open('GET', \"mycar.html\");\n",
    "  req.onload = function() {\n",
    "    if (req.status == 200) {\n",
    "      myCallback(req.responseText);\n",
    "    } else {\n",
    "      myCallback(\"Error: \" + req.status);\n",
    "    }\n",
    "  }\n",
    "  req.send();\n",
    "}\n",
    "\n",
    "getFile(myDisplayer);"
   ]
  },
  {
   "cell_type": "code",
   "execution_count": null,
   "id": "a7f3392f",
   "metadata": {},
   "outputs": [],
   "source": [
    "# Waiting for a file\n",
    "\n",
    "# Example using Promise\n",
    "let myPromise = new Promise(function(myResolve, myReject) {\n",
    "  let req = new XMLHttpRequest();\n",
    "  req.open('GET', \"mycar.html\");\n",
    "  req.onload = function() {\n",
    "    if (req.status == 200) {\n",
    "      myResolve(req.response);\n",
    "    } else {\n",
    "      myReject(\"File not Found\");\n",
    "    }\n",
    "  };\n",
    "  req.send();\n",
    "});\n",
    "\n",
    "myPromise.then(\n",
    "  function(value) {myDisplayer(value);},\n",
    "  function(error) {myDisplayer(error);}\n",
    ");"
   ]
  },
  {
   "cell_type": "markdown",
   "id": "0eb7822c",
   "metadata": {},
   "source": [
    "### JavaScript Async\n",
    "\n",
    "\"async and await make promises easier to write\"\n",
    "\n",
    "- `async` makes a function return a Promise\n",
    "- `await` makes a function wait for a Promise\n",
    "\n",
    "#### Async Syntax\n",
    "\n",
    "**The async keyword is used to define an asynchronous function. An asynchronous function is a function that returns a `Promise`.**\n",
    "\n",
    "The keyword `async` before a function makes the function return a promise:"
   ]
  },
  {
   "cell_type": "code",
   "execution_count": null,
   "id": "a15d5837",
   "metadata": {},
   "outputs": [],
   "source": [
    "async function myFunction() {\n",
    "  return \"Hello\";\n",
    "}\n",
    "\n",
    "# Is the same as:\n",
    "\n",
    "function myFunction() {\n",
    "  return Promise.resolve(\"Hello\");\n",
    "}"
   ]
  },
  {
   "cell_type": "markdown",
   "id": "d3af3bfc",
   "metadata": {},
   "source": [
    "Here is how to use the Promise:"
   ]
  },
  {
   "cell_type": "code",
   "execution_count": null,
   "id": "a661fac4",
   "metadata": {},
   "outputs": [],
   "source": [
    "myFunction().then(\n",
    "  function(value) { /* code if successful */ },\n",
    "  function(error) { /* code if some error */ }\n",
    ");"
   ]
  },
  {
   "cell_type": "code",
   "execution_count": null,
   "id": "5a914494",
   "metadata": {},
   "outputs": [],
   "source": [
    "async function myFunction() {\n",
    "  return \"Hello\";\n",
    "}\n",
    "myFunction().then(\n",
    "  function(value) {myDisplayer(value);},\n",
    "  function(error) {myDisplayer(error);}\n",
    ");"
   ]
  },
  {
   "cell_type": "markdown",
   "id": "96c8542e",
   "metadata": {},
   "source": [
    "Or simpler, since you expect a normal value (a normal response, not an error):"
   ]
  },
  {
   "cell_type": "code",
   "execution_count": null,
   "id": "4da625ad",
   "metadata": {},
   "outputs": [],
   "source": [
    "async function myFunction() {\n",
    "  return \"Hello\";\n",
    "}\n",
    "myFunction().then(\n",
    "  function(value) {myDisplayer(value);}\n",
    ");"
   ]
  },
  {
   "cell_type": "markdown",
   "id": "6599b5bc",
   "metadata": {},
   "source": [
    "#### Await Syntax\n",
    "\n",
    "The `await` keyword can only be used inside an async function.\n",
    "\n",
    "The `await` keyword makes the function pause the execution and wait for a resolved promise before it continues:"
   ]
  },
  {
   "cell_type": "code",
   "execution_count": null,
   "id": "91c67428",
   "metadata": {},
   "outputs": [],
   "source": [
    "let value = await promise;"
   ]
  },
  {
   "cell_type": "code",
   "execution_count": null,
   "id": "b96dbad8",
   "metadata": {},
   "outputs": [],
   "source": [
    "# Basic Syntax\n",
    "\n",
    "async function myDisplay() {\n",
    "  let myPromise = new Promise(function(resolve, reject) {\n",
    "    resolve(\"I love You !!\");\n",
    "  });\n",
    "  document.getElementById(\"demo\").innerHTML = await myPromise;\n",
    "}\n",
    "\n",
    "myDisplay();"
   ]
  },
  {
   "cell_type": "markdown",
   "id": "3814607d",
   "metadata": {},
   "source": [
    "The two arguments (resolve and reject) are pre-defined by JavaScript.\n",
    "\n",
    "We will not create them, but call one of them when the executor function is ready.\n",
    "\n",
    "Very often we will not need a reject function."
   ]
  },
  {
   "cell_type": "code",
   "execution_count": null,
   "id": "812aa19d",
   "metadata": {},
   "outputs": [],
   "source": [
    "# Example without reject\n",
    "async function myDisplay() {\n",
    "  let myPromise = new Promise(function(resolve) {\n",
    "    resolve(\"I love You !!\");\n",
    "  });\n",
    "  document.getElementById(\"demo\").innerHTML = await myPromise;\n",
    "}\n",
    "\n",
    "myDisplay();"
   ]
  },
  {
   "cell_type": "code",
   "execution_count": null,
   "id": "90e48e1a",
   "metadata": {},
   "outputs": [],
   "source": [
    "# Waiting for a Timeout\n",
    "async function myDisplay() {\n",
    "  let myPromise = new Promise(function(resolve) {\n",
    "    setTimeout(function() {resolve(\"I love You !!\");}, 3000);\n",
    "  });\n",
    "  document.getElementById(\"demo\").innerHTML = await myPromise;\n",
    "}\n",
    "\n",
    "myDisplay();"
   ]
  },
  {
   "cell_type": "code",
   "execution_count": null,
   "id": "bd2ab04f",
   "metadata": {},
   "outputs": [],
   "source": [
    "# Waiting for a File\n",
    "async function getFile() {\n",
    "  let myPromise = new Promise(function(resolve) {\n",
    "    let req = new XMLHttpRequest();\n",
    "    req.open('GET', \"mycar.html\");\n",
    "    req.onload = function() {\n",
    "      if (req.status == 200) {\n",
    "        resolve(req.response);\n",
    "      } else {\n",
    "        resolve(\"File not Found\");\n",
    "      }\n",
    "    };\n",
    "    req.send();\n",
    "  });\n",
    "  document.getElementById(\"demo\").innerHTML = await myPromise;\n",
    "}\n",
    "\n",
    "getFile();"
   ]
  },
  {
   "cell_type": "markdown",
   "id": "320b6550",
   "metadata": {},
   "source": [
    "Let's see `callback`, `promise` and `async` in same example:"
   ]
  },
  {
   "cell_type": "code",
   "execution_count": null,
   "id": "7a118477",
   "metadata": {},
   "outputs": [],
   "source": [
    "# Example Using Callback:\n",
    "setTimeout(function() { myFunction(\"I love You !!!\"); }, 6000);\n",
    "\n",
    "function myFunction(value) {\n",
    "  console.log(\"callback: \", value);\n",
    "}\n",
    "\n",
    "# Example Using Promise:\n",
    "let myPromise = new Promise(function(myResolve, myReject) {\n",
    "  setTimeout(function() { myResolve(\"I love You !!\"); }, 2000);\n",
    "});\n",
    "\n",
    "myPromise.then(function(value) {\n",
    "  console.log(\"promise: \", value);\n",
    "});\n",
    "\n",
    "# Example Using async and await:\n",
    "async function myDisplay() {\n",
    "  let myPromise = new Promise(function(resolve) {\n",
    "    setTimeout(function() {resolve(\"I love You !!\");}, 9000);\n",
    "  });\n",
    "  console.log(\"async: \", await myPromise);\n",
    "}\n",
    "\n",
    "myDisplay();\n",
    "\n",
    "# Output:\n",
    "promise:  I love You !!\n",
    "callback:  I love You !!!\n",
    "async:  I love You !!"
   ]
  },
  {
   "cell_type": "markdown",
   "id": "4456e5db",
   "metadata": {},
   "source": [
    "In the last example of chaining promises, we saw we were consuming promises using `then` and `catch`:"
   ]
  },
  {
   "cell_type": "code",
   "execution_count": null,
   "id": "af5a442b",
   "metadata": {},
   "outputs": [],
   "source": [
    "const promise = new Promise((resolve, reject)=>{\n",
    "  setTimeout(()=>{\n",
    "    let error = true;\n",
    "    if(!error){\n",
    "      resolve({userName:\"Charles Dera\", email:\"charles@hotmail.com\"});\n",
    "    } else{\n",
    "      reject(\"ERROR: SOmething went wrong\")\n",
    "    }\n",
    "  }, 3000);\n",
    "})\n",
    "\n",
    "promise\n",
    ".then((result)=>{\n",
    "  console.log(result);\n",
    "  return result.userName; # return to next then()\n",
    "}).then((userName)=>{ # chaining\n",
    "  console.log(userName)\n",
    "})\n",
    ".catch((error)=>{\n",
    "  console.log(error);\n",
    "})\n",
    "\n",
    "# Output:\n",
    "{ userName: 'Charles Dera', email: 'charles@hotmail.com' }\n",
    "Charles Dera"
   ]
  },
  {
   "cell_type": "markdown",
   "id": "79183291",
   "metadata": {},
   "source": [
    "Now we are going handle this using `async` and `await`:"
   ]
  },
  {
   "cell_type": "code",
   "execution_count": null,
   "id": "44e16547",
   "metadata": {},
   "outputs": [],
   "source": [
    "const promise = new Promise((resolve, reject)=>{\n",
    "  setTimeout(()=>{\n",
    "    let error = false;\n",
    "    if(!error){\n",
    "      resolve({userName:\"Charles Dera\", email:\"charles@hotmail.com\"});\n",
    "    } else{\n",
    "      reject(\"ERROR: SOmething went wrong\")\n",
    "    }\n",
    "  }, 3000);\n",
    "})\n",
    "\n",
    "async function consumePromise(){\n",
    "  try {\n",
    "    const reponse = await promise // can't use promise()\n",
    "    console.log(reponse);\n",
    "  } catch (error) {\n",
    "    console.log(error);\n",
    "  }\n",
    "}\n",
    "consumePromise();\n",
    "\n",
    "# Output:\n",
    "{ userName: 'Charles Dera', email: 'charles@hotmail.com' }"
   ]
  },
  {
   "cell_type": "code",
   "execution_count": null,
   "id": "3b487f65",
   "metadata": {},
   "outputs": [],
   "source": [
    "const promise = new Promise((resolve, reject)=>{\n",
    "  setTimeout(()=>{\n",
    "    let error = true; # set to false\n",
    "    if(!error){\n",
    "      resolve({userName:\"Charles Dera\", email:\"charles@hotmail.com\"});\n",
    "    } else{\n",
    "      reject(\"ERROR: SOmething went wrong\")\n",
    "    }\n",
    "  }, 3000);\n",
    "})\n",
    "\n",
    "async function consumePromise(){\n",
    "  try {\n",
    "    const reponse = await promise // can't use promise()\n",
    "    console.log(reponse);\n",
    "  } catch (error) {\n",
    "    console.log(error);\n",
    "  }\n",
    "}\n",
    "consumePromise();\n",
    "\n",
    "# Output:\n",
    "ERROR: SOmething went wrong"
   ]
  },
  {
   "cell_type": "markdown",
   "id": "94e95e87",
   "metadata": {},
   "source": [
    "# JavaScript Best Practices"
   ]
  },
  {
   "cell_type": "markdown",
   "id": "d2349ddd",
   "metadata": {},
   "source": [
    "- Minimize the use of global variables.\n",
    "- All variables used in a function should be declared as local variables.\n",
    "- It is a good coding practice to put all declarations at the top of each script or function.\n",
    "- It is a good coding practice to initialize variables when you declare them.\n",
    "- Declaring objects with const will prevent any accidental change of type\n",
    "- Declaring arrays with const will prevent any accidential change of type\n",
    "- Use `\"\"` instead of `new String()`\n",
    "- Use `0` instead of `new Number()`\n",
    "- Use `false` instead of `new Boolean()`\n",
    "- Use object literals `{}` instead of `new Object()`.\n",
    "- Use array literals `[]` instead of `new Array()`.\n",
    "- Use pattern literals `/()/` instead of `new RegExp()`.\n",
    "- Use function expressions `() {}` instead of `new Function()`.\n",
    "\n",
    "- Beware of Automatic Type Conversions\n",
    "- Use `===` Comparison\n",
    "- Use Parameter Defaults\n",
    "\n",
    "    If a function is called with a missing argument, the value of the missing argument is set to undefined.\n",
    "\n",
    "    Undefined values can break your code. It is a good habit to assign default values to arguments."
   ]
  },
  {
   "cell_type": "code",
   "execution_count": null,
   "id": "5a64b119",
   "metadata": {},
   "outputs": [],
   "source": [
    "function myFunction(x, y) {\n",
    "  if (y === undefined) {\n",
    "    y = 0;\n",
    "  }\n",
    "}"
   ]
  },
  {
   "cell_type": "markdown",
   "id": "24d7435a",
   "metadata": {},
   "source": [
    "- Always end your switch statements with a default. Even if you think there is no need for it.\n",
    "- Always treat numbers, strings, or booleans as primitive values. Not as objects. Declaring these types as objects, slows down execution speed, and produces nasty side effects:"
   ]
  },
  {
   "cell_type": "code",
   "execution_count": null,
   "id": "a2bf8ec8",
   "metadata": {},
   "outputs": [],
   "source": [
    "let x = \"John\";             \n",
    "let y = new String(\"John\");\n",
    "(x === y) # is false because x is a string and y is an object.\n",
    "\n",
    "# Or even worse:\n",
    "\n",
    "let x = new String(\"John\");             \n",
    "let y = new String(\"John\");\n",
    "(x == y) # is false because you cannot compare objects."
   ]
  },
  {
   "cell_type": "markdown",
   "id": "d34bc0dd",
   "metadata": {},
   "source": [
    "- Avoid Using `eval()`. The `eval()` function is used to run text as code. In almost all cases, it should not be necessary to use it. Because it allows arbitrary code to be run, it also represents a security problem."
   ]
  },
  {
   "cell_type": "code",
   "execution_count": null,
   "id": "86ec3d90",
   "metadata": {},
   "outputs": [],
   "source": []
  },
  {
   "cell_type": "code",
   "execution_count": null,
   "id": "78a7ffb8",
   "metadata": {},
   "outputs": [],
   "source": []
  },
  {
   "cell_type": "code",
   "execution_count": null,
   "id": "44846732",
   "metadata": {},
   "outputs": [],
   "source": []
  },
  {
   "cell_type": "code",
   "execution_count": null,
   "id": "dd1c4150",
   "metadata": {},
   "outputs": [],
   "source": []
  },
  {
   "cell_type": "code",
   "execution_count": null,
   "id": "0c34c8d8",
   "metadata": {},
   "outputs": [],
   "source": []
  },
  {
   "cell_type": "code",
   "execution_count": null,
   "id": "648a4c18",
   "metadata": {},
   "outputs": [],
   "source": []
  },
  {
   "cell_type": "code",
   "execution_count": null,
   "id": "148b58a7",
   "metadata": {},
   "outputs": [],
   "source": []
  },
  {
   "cell_type": "code",
   "execution_count": null,
   "id": "285bb7f8",
   "metadata": {},
   "outputs": [],
   "source": []
  },
  {
   "cell_type": "code",
   "execution_count": null,
   "id": "b9f4cc48",
   "metadata": {},
   "outputs": [],
   "source": []
  },
  {
   "cell_type": "code",
   "execution_count": null,
   "id": "7912860c",
   "metadata": {},
   "outputs": [],
   "source": []
  },
  {
   "cell_type": "code",
   "execution_count": null,
   "id": "ca9c5fa9",
   "metadata": {},
   "outputs": [],
   "source": []
  },
  {
   "cell_type": "code",
   "execution_count": null,
   "id": "2dae6f22",
   "metadata": {},
   "outputs": [],
   "source": []
  },
  {
   "cell_type": "code",
   "execution_count": null,
   "id": "b0976afe",
   "metadata": {},
   "outputs": [],
   "source": []
  }
 ],
 "metadata": {
  "kernelspec": {
   "display_name": "Python 3 (ipykernel)",
   "language": "python",
   "name": "python3"
  },
  "language_info": {
   "codemirror_mode": {
    "name": "ipython",
    "version": 3
   },
   "file_extension": ".py",
   "mimetype": "text/x-python",
   "name": "python",
   "nbconvert_exporter": "python",
   "pygments_lexer": "ipython3",
   "version": "3.9.6"
  }
 },
 "nbformat": 4,
 "nbformat_minor": 5
}
