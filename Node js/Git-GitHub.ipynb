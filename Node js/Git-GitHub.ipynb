{
 "cells": [
  {
   "cell_type": "markdown",
   "id": "920603c1",
   "metadata": {},
   "source": [
    "- git --version\n",
    "- git config -l\n",
    "\n",
    "- git config --global user.name \"Saurabh Prakash\"\n",
    "- git config --global user.email \"saurabhp85070@gmail.com\"\n",
    "\n",
    "- git config --global user.name \n",
    "- git config --global user.email \n",
    "\n",
    "- git init\n",
    "- git status\n",
    "- git status -s\n",
    "- git add file1.txt\n",
    "- git add file1.txt file2.txt file3.txt file4.txt\n",
    "- git add . OR git add -A\n",
    "- git add prod*: add all file starting with name \"prod\"\n",
    "- git reset product1.txt OR git rm --cached product1.txt\n",
    "\n",
    "- git diff: used to display what is changed but not staged\n",
    "- git diff product2.txt\n",
    "- git diff --staged\n",
    "\n",
    "- git log\n",
    "- git commit -m \"all files added to master branch\"\n",
    "- git commit -a -m \"product2 modified 2nd times\" : add and commit at same time\n",
    "- git log -p: detailed log details (press q to quit)\n",
    "- git log -p -5 : last 5 commit\n",
    "- git reflog\n",
    "- git show dff10ff059e492d7f798329a111fee54974ffeb0 : show specific commit\n",
    "\n",
    "- git checkout contact.html\n",
    "- git checkout -f : all file\n",
    "\n",
    "\n",
    "- git rm product2.txt\n",
    "- git rm --cached waste.html\n",
    "- git mv product1.txt product.txt : rename\n",
    "- git reset HEAD file2.txt\n",
    "- git reset HEAD -p\n",
    "\n",
    "- git revert HEAD\n",
    "- git revert 08079aa : specific commit rollback\n",
    "\n",
    "- git tag v1\n",
    "- git checkout v1\n",
    "- git tag v0.1 4f26c86a7c55b0e24d1c7ee2c7ca90e60bb18b42\n",
    "- git tag --list\n",
    "- git tag -a v2 -m \"Version 2 created\"\n",
    "- git tag -d v0.1\n",
    "\n",
    "- git branch\n",
    "- git branch feature1\n",
    "- git checkout feature1\n",
    "- git checkout -b feature2\n",
    "- git branch -D feature2\n",
    "- git merge feature1\n",
    "- git branch -d feature2\n",
    "- git rebase feature1\n",
    "\n",
    "- git stash\n",
    "- git stash pop\n",
    "- git stash list\n",
    "- git stash drop\n",
    "\n",
    "- git remote add origin https://github.com/saurabhp8507014288/Git-Practice.git\n",
    "- git remote -v\n",
    "- git push \n",
    "- git push -u origin master\n",
    "- git push -u origin v1 : tag\n",
    "- git remote remove origin\n",
    "- git remote show origin\n",
    "\n",
    "- git pull\n",
    "- git clone https://github.com/saurabhp8507014288/Git-GitHub.git"
   ]
  },
  {
   "cell_type": "code",
   "execution_count": null,
   "id": "58b8ecf4",
   "metadata": {},
   "outputs": [],
   "source": [
    "# .gitignore\n",
    "\n",
    "mylogs.log # ignore all files even if in nested folder\n",
    "/mylogs.log # only ignore if present in current directory\n",
    "*.cpp # ignore all file with .cpp extension\n",
    "folder_name/ # ignore folder"
   ]
  },
  {
   "cell_type": "code",
   "execution_count": null,
   "id": "f30c5b99-e87a-40b6-b63f-9416c075b2e8",
   "metadata": {},
   "outputs": [],
   "source": []
  },
  {
   "cell_type": "markdown",
   "id": "9320f4d3-135b-4dc3-8547-a08b6df19b60",
   "metadata": {},
   "source": [
    "# Pushing files for first time"
   ]
  },
  {
   "cell_type": "markdown",
   "id": "837d41cc-296f-4861-a249-fb58cfb5e8db",
   "metadata": {},
   "source": [
    "1. `git init`\n",
    "2. `git add .`\n",
    "3. `git commit -m \"first commit\"`\n",
    "4. `git branch -M main`\n",
    "5. `git remote add origin git@github.com:saurabhp85070/git-github-expt.git`\n",
    "6. `git push -u origin main`"
   ]
  },
  {
   "cell_type": "markdown",
   "id": "21a56380-00df-430e-b3db-e3aef88cfb89",
   "metadata": {},
   "source": [
    "# Pushing large file in existing project directory\n",
    "\n",
    "Let's say we have project directory that contain several types of file and we don't know their size. So we accidently add and commit large file but when we go to push it on remote repo then we get error.\n",
    "\n",
    "We can solve this problem using following method."
   ]
  },
  {
   "cell_type": "markdown",
   "id": "2e7a185f-de4b-45ca-9725-efb3c283270d",
   "metadata": {},
   "source": [
    "### Method1\n",
    "\n",
    "1. `git rm --cached your_large_file.ipynb`\n",
    "2. `git reset HEAD~1` **OR** `git reset --soft HEAD~1`\n",
    "\n",
    "This will undo the last commit but keep your changes staged.\n",
    "\n",
    "3. `git lfs install` : Install Git LFS (one-time setup)\n",
    "4. `git lfs track \"*.ipynb\" \"*.docx\"` : Track .ipynb .docx files with LFS **OR** `git lfs track \"*\"` (track all files but not recommeded)\n",
    "5. `git add .gitattributes` : Make sure .gitattributes is tracked\n",
    "6. `git add your_large_file.ipynb`\n",
    "7. `git commit -m \"Add large notebook file using LFS\"`\n",
    "8. `git push origin main`"
   ]
  },
  {
   "cell_type": "markdown",
   "id": "7810b67c-e98b-4845-a880-e2082258774c",
   "metadata": {},
   "source": [
    "### Method2"
   ]
  },
  {
   "cell_type": "markdown",
   "id": "c1e9f67f-5406-4faf-8119-6735ba1875bd",
   "metadata": {},
   "source": [
    "1. `git rm --cached superstore.ipynb`\n",
    "2. `git commit -m \"Removed large file from commit history\"`\n",
    "3. `git lfs install`\n",
    "4. `git lfs track \"*.ipynb\"`\n",
    "5. `git add .gitattributes`\n",
    "6. `git add superstore.ipynb`\n",
    "7. `git commit -m \"Add large notebook with LFS\"`\n",
    "8. `git lfs ls-files` : verify the file is being tracked by LFS\n",
    "9. `git lfs migrate import --include=\"*.ipynb\"` : Force Git LFS to handle existing files **OR** `git lfs migrate import --include=\"*.ipynb\" --everything`\n",
    "    - `git lfs migrate import --include=\"*.ipynb,*.docx,*.zip\"`\n",
    "    - `git lfs migrate import --include=\"*.ipynb\" --include=\"*.docx\" --include=\"*.zip\"`\n",
    "10. `git push origin main`\n",
    "\n",
    "<br>\n",
    "\n",
    "**OR**\n",
    "\n",
    "\n",
    "- git rm --cached superstore.ipynb\n",
    "- git lfs uninstall\n",
    "- git lfs install\n",
    "- git gc --prune=now : Clear your git cache\n",
    "- git lfs track \"*.ipynb\"\n",
    "- git add .gitattributes\n",
    "- git add superstore.ipynb\n",
    "- git commit -m \"Add large notebook with LFS\"\n",
    "- lfs ls-files\n",
    "- git lfs migrate import --include=\"*.ipynb\"\n",
    "- git lfs push --all origin main : Push all LFS objects first\n",
    "- git push origin main : Then push your commits\n",
    "- lfs status\n",
    "- git status"
   ]
  },
  {
   "cell_type": "markdown",
   "id": "1e6ed47d-1ecc-4bab-94c9-30b7b6bdb525",
   "metadata": {},
   "source": [
    "#"
   ]
  }
 ],
 "metadata": {
  "kernelspec": {
   "display_name": "Python 3 (ipykernel)",
   "language": "python",
   "name": "python3"
  },
  "language_info": {
   "codemirror_mode": {
    "name": "ipython",
    "version": 3
   },
   "file_extension": ".py",
   "mimetype": "text/x-python",
   "name": "python",
   "nbconvert_exporter": "python",
   "pygments_lexer": "ipython3",
   "version": "3.9.6"
  }
 },
 "nbformat": 4,
 "nbformat_minor": 5
}
