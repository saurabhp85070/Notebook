{
 "cells": [
  {
   "cell_type": "markdown",
   "id": "fffe57eb",
   "metadata": {},
   "source": [
    "# Important points\n",
    "\n",
    "- node js is single threaded language.\n",
    "- node js is asynchronous."
   ]
  },
  {
   "cell_type": "code",
   "execution_count": null,
   "id": "943af0ba",
   "metadata": {},
   "outputs": [],
   "source": [
    "console.log()\n",
    "console.warn()\n",
    "console.error()"
   ]
  },
  {
   "cell_type": "code",
   "execution_count": null,
   "id": "46eb26b4",
   "metadata": {},
   "outputs": [],
   "source": [
    "# index.js\n",
    "\n",
    "const arr=[1,23,4,'a']\n",
    "console.log(arr) # output: [ 1, 23, 4, 'a' ]"
   ]
  },
  {
   "cell_type": "markdown",
   "id": "6cd43545",
   "metadata": {},
   "source": [
    "# importing from other file"
   ]
  },
  {
   "cell_type": "code",
   "execution_count": null,
   "id": "5bad8679",
   "metadata": {},
   "outputs": [],
   "source": [
    "# app.js\n",
    "\n",
    "module.exports = {\n",
    "    x:10,\n",
    "    y:20\n",
    "}\n",
    "\n",
    "#----------------------\n",
    "\n",
    "# index.js\n",
    "\n",
    "const app = require('./app')\n",
    "console.log(app) # output: { x: 10, y: 20 }\n",
    "\n",
    "console.log(app.x) # output: 10\n",
    "console.log(app.y) # output: 20"
   ]
  },
  {
   "cell_type": "code",
   "execution_count": null,
   "id": "21e2eb52",
   "metadata": {},
   "outputs": [],
   "source": [
    "# app.js\n",
    "\n",
    "module.exports = {\n",
    "    z:function(){\n",
    "        return 10\n",
    "    }\n",
    "}\n",
    "\n",
    "#----------------------\n",
    "\n",
    "# index.js\n",
    "\n",
    "const app = require('./app')\n",
    "console.log(app.z()) # output: 10"
   ]
  },
  {
   "cell_type": "code",
   "execution_count": null,
   "id": "b80c450a",
   "metadata": {},
   "outputs": [],
   "source": [
    "# index.js\n",
    "\n",
    "const arr=[2,4,7,1,3,8,3,'a']\n",
    "\n",
    "arr.filter((item)=>{\n",
    "    console.log(item)\n",
    "})\n",
    "\n",
    "# output:\n",
    "1\n",
    "23\n",
    "4\n",
    "a"
   ]
  },
  {
   "cell_type": "code",
   "execution_count": null,
   "id": "8c22967c",
   "metadata": {},
   "outputs": [],
   "source": [
    "# index.js\n",
    "\n",
    "const arr=[2,4,7,1,3,8,3,'a']\n",
    "\n",
    "let result = arr.filter((item)=>{\n",
    "    return item === 3\n",
    "})\n",
    "console.warn(result) # output: [ 3, 3 ]"
   ]
  },
  {
   "cell_type": "code",
   "execution_count": null,
   "id": "33999f72",
   "metadata": {},
   "outputs": [],
   "source": [
    "# index.js\n",
    "\n",
    "const arr=[2,4,7,1,3,8,3,'a']\n",
    "\n",
    "let result = arr.filter((item)=>{\n",
    "    return item > 4\n",
    "})\n",
    "console.warn(result) # output: [ 7, 8 ]"
   ]
  },
  {
   "cell_type": "markdown",
   "id": "a55e0fba",
   "metadata": {},
   "source": [
    "- `core modules` comes pre built with language. ex- console.log, fs, Buffer, HTTP \n",
    "- `global modlues` need not to import\n",
    "- `non-golbal modules` need to import"
   ]
  },
  {
   "cell_type": "code",
   "execution_count": null,
   "id": "a8cca4ad",
   "metadata": {},
   "outputs": [],
   "source": [
    "console.log(__dirname) # give directory name\n",
    "console.log(__filename) # give file name"
   ]
  },
  {
   "cell_type": "code",
   "execution_count": null,
   "id": "88ce02f0",
   "metadata": {},
   "outputs": [],
   "source": [
    "const file = require('fs') # import all function\n",
    "file. writFileSync('names.txt', 'mahesh')\n",
    "\n",
    "const file = require('fs').writeFileSync; # only import writeFileSync function\n",
    "file('names.txt', 'mahesh')"
   ]
  },
  {
   "cell_type": "markdown",
   "id": "cd7f73fc",
   "metadata": {},
   "source": [
    "# make basic server"
   ]
  },
  {
   "cell_type": "code",
   "execution_count": null,
   "id": "9b2bc83d",
   "metadata": {},
   "outputs": [],
   "source": [
    "const http = require('http') # http handle request and response in nodejs\n",
    "\n",
    "http.createServer((req, res) => {\n",
    "    res.write(\"<h1>Hello this is saurabh</h1>\");\n",
    "    res.end(); # we can pass string as argument as well\n",
    "}).listen(4500)\n",
    "\n",
    "# OR---------------------------\n",
    "\n",
    "function dataControl(req, res){\n",
    "    res.write(\"<h1>Hello this is saurabh</h1>\");\n",
    "    res.end();\n",
    "}\n",
    "http.createServer(dataControl).listen(4500) # without using arrow function"
   ]
  },
  {
   "cell_type": "code",
   "execution_count": null,
   "id": "6265e128",
   "metadata": {},
   "outputs": [],
   "source": [
    "# writing an arrow function\n",
    "\n",
    "# normal function\n",
    "function test(a){\n",
    "    return a*10\n",
    "}\n",
    "\n",
    "# arrow function\n",
    "const test = (a) => a*10"
   ]
  },
  {
   "cell_type": "code",
   "execution_count": null,
   "id": "ba7281d9",
   "metadata": {},
   "outputs": [],
   "source": [
    "# writing an arrow function\n",
    "\n",
    "# normal function\n",
    "function dataControl(req, res){\n",
    "    res.write(\"<h1>Hello this is saurabh</h1>\");\n",
    "    res.end();\n",
    "}\n",
    "\n",
    "# arrow function\n",
    "const dataControl = (req, res) => {\n",
    "    res.write(\"<h1>Hello this is saurabh</h1>\");\n",
    "    res.end();\n",
    "}"
   ]
  },
  {
   "cell_type": "markdown",
   "id": "49a43edd",
   "metadata": {},
   "source": [
    "# package.json\n",
    "\n",
    "- `npm init`: initialize package\n",
    "- `npm i colors`: install package named `colors`"
   ]
  },
  {
   "cell_type": "code",
   "execution_count": null,
   "id": "b71d6fa3",
   "metadata": {},
   "outputs": [],
   "source": [
    "# index.js\n",
    "\n",
    "const colors = require('colors');\n",
    "console.log('Hello world'.green); // outputs green text"
   ]
  },
  {
   "cell_type": "markdown",
   "id": "e23fc439",
   "metadata": {},
   "source": [
    "Let's assume someone has deleted our `node_modules` folder and if we try to run code at this time then we will get error.\n",
    "\n",
    "In order to run code properly, we need that `node_modules` folder. We can get it back by running command: `npm install`"
   ]
  },
  {
   "cell_type": "markdown",
   "id": "8a2925a6",
   "metadata": {},
   "source": [
    "We should not push `node_modules` to our github. To do create a file `.gitignore` and add this line inside this file: `/node_modules`"
   ]
  },
  {
   "cell_type": "markdown",
   "id": "0c1f308f",
   "metadata": {},
   "source": [
    "# Nodemon package\n",
    "\n",
    "Normally what happens is when we make changes in our code then we have to run program each time. This `nodemon` packages makes our task easy by running code everytime we save our code i.e. It runs program automatically each time we save our file after making any changes in it. These are steps:\n",
    "\n",
    "1. Installing globally: `npm i nodemon -g` \n",
    "2. Run command: `nodemon .\\index.js` OR `nodemon`"
   ]
  },
  {
   "cell_type": "markdown",
   "id": "a321f5ce",
   "metadata": {},
   "source": [
    "# make a simple API"
   ]
  },
  {
   "cell_type": "code",
   "execution_count": null,
   "id": "37b4a93d",
   "metadata": {},
   "outputs": [],
   "source": [
    "# index.js\n",
    "\n",
    "const http = require('http');\n",
    "\n",
    "http.createServer((req, res) => {\n",
    "  res.writeHead(200, {'Content-Type': 'application/json'});\n",
    "  res.write(JSON.stringify({name: 'John', age: 30}));\n",
    "  res.end();\n",
    "}).listen(3000, '127.0.0.1');"
   ]
  },
  {
   "cell_type": "markdown",
   "id": "b709b14b",
   "metadata": {},
   "source": [
    "lets add data from file `data.js`"
   ]
  },
  {
   "cell_type": "code",
   "execution_count": null,
   "id": "afeb4dcb",
   "metadata": {},
   "outputs": [],
   "source": [
    "# data.js\n",
    "\n",
    "const data = [\n",
    "    {name: 'John', age: 40};\n",
    "    {name: 'Manuel', age: 30};\n",
    "    {name: 'Jordi', age: 20};\n",
    "]\n",
    "module.exports = data;"
   ]
  },
  {
   "cell_type": "code",
   "execution_count": null,
   "id": "f594556a",
   "metadata": {},
   "outputs": [],
   "source": [
    "# index.js\n",
    "\n",
    "const http = require('http');\n",
    "const data = require('./data');\n",
    "\n",
    "http.createServer((req, res) => {\n",
    "  res.writeHead(200, {'Content-Type': 'application/json'});\n",
    "  res.write(JSON.stringify(data));\n",
    "  res.end();\n",
    "}).listen(3000, '127.0.0.1');"
   ]
  },
  {
   "cell_type": "markdown",
   "id": "9b2915ec",
   "metadata": {},
   "source": [
    "# input from command line"
   ]
  },
  {
   "cell_type": "code",
   "execution_count": null,
   "id": "c252bb4f",
   "metadata": {},
   "outputs": [],
   "source": [
    "# we have property 'process'\n",
    "\n",
    "console.log(process.argv)\n",
    "\n",
    "# input:\n",
    ">> node index.js hello\n",
    "\n",
    "# output:\n",
    "[\n",
    "  'D:\\\\Programs\\\\nodejs\\\\node.exe',\n",
    "  'E:\\\\Node js\\\\index.js',\n",
    "  'hello'\n",
    "]"
   ]
  },
  {
   "cell_type": "code",
   "execution_count": null,
   "id": "71bb7e82",
   "metadata": {},
   "outputs": [],
   "source": [
    "# index.js\n",
    "\n",
    "console.log(process.argv[2])\n",
    "\n",
    "# input:\n",
    ">> node index.js hello hi bye\n",
    "\n",
    "# output:\n",
    "hello"
   ]
  },
  {
   "cell_type": "code",
   "execution_count": null,
   "id": "4e03b6d1",
   "metadata": {},
   "outputs": [],
   "source": [
    "# index.js\n",
    "\n",
    "const fs = require('fs');\n",
    "\n",
    "const input = process.argv;\n",
    "fs.writeFileSync(input[2], input[3]); # (file, data)\n",
    "console.log(process.argv[2]); # print\n",
    "\n",
    "\n",
    "# input:\n",
    ">> node index.js names.txt \"this is names.txt file\"\n",
    "\n",
    "# output:\n",
    "names.txt"
   ]
  },
  {
   "cell_type": "code",
   "execution_count": null,
   "id": "45cb8576",
   "metadata": {},
   "outputs": [],
   "source": [
    "# index.js\n",
    "\n",
    "const fs = require('fs');\n",
    "\n",
    "const input = process.argv;\n",
    "\n",
    "if(input[2]=='add'){\n",
    "    fs.writeFileSync(input[3], input[4]); \n",
    "}\n",
    "else if(input[2]=='remove'){\n",
    "    fs.unlinkSync(input[3]);\n",
    "}\n",
    "else{\n",
    "    console.log('Invalid input')\n",
    "}\n",
    "console.log(process.argv[2]);\n",
    "\n",
    "# input:\n",
    ">> node index.js add fruits.txt \"This is fruits.txt file\"\n",
    "# output:\n",
    "add\n",
    "\n",
    "# input:\n",
    ">> node index.js remove fruits.txt \n",
    "# output:\n",
    "remove\n",
    "\n",
    "# input:\n",
    ">> node index.js rem fruits.txt \n",
    "# output:\n",
    "Invalid input\n",
    "re"
   ]
  },
  {
   "cell_type": "markdown",
   "id": "affd1a7a",
   "metadata": {},
   "source": [
    "# show file list"
   ]
  },
  {
   "cell_type": "code",
   "execution_count": null,
   "id": "119da22d",
   "metadata": {},
   "outputs": [],
   "source": [
    "# index.js\n",
    "\n",
    "const fs = require('fs');\n",
    "const path = require('path');\n",
    "\n",
    "const dirPath = path.join(__dirname, 'files'); # files is folder name\n",
    "console.log(dirPath);\n",
    "\n",
    "\n",
    "# output:\n",
    "E:\\Node js\\files"
   ]
  },
  {
   "cell_type": "code",
   "execution_count": null,
   "id": "2615b2b1",
   "metadata": {},
   "outputs": [],
   "source": [
    "# index.js\n",
    "\n",
    "const fs = require('fs');\n",
    "const path = require('path');\n",
    "\n",
    "const dirPath = path.join(__dirname, 'files'); # files is folder name\n",
    "\n",
    "for(i=0;i<5;i++) \n",
    "{\n",
    "    fs.writeFileSync(dirPath+\"/hello\"+i+\".txt\", \"this is data\")\n",
    "}\n"
   ]
  },
  {
   "cell_type": "code",
   "execution_count": null,
   "id": "8ef456f2",
   "metadata": {},
   "outputs": [],
   "source": [
    "# index.js\n",
    "\n",
    "const fs = require('fs');\n",
    "const path = require('path');\n",
    "\n",
    "const dirPath = path.join(__dirname, 'files');\n",
    "\n",
    "fs.readdir(dirPath, (err, files) => {\n",
    "    \n",
    "    console.log(files);\n",
    "\n",
    "    files.forEach(file => {\n",
    "        console.log(file);\n",
    "    });\n",
    "})\n",
    "\n",
    "\n",
    "# output:\n",
    "[\n",
    "  'hello0.txt',\n",
    "  'hello1.txt',\n",
    "  'hello2.txt',\n",
    "  'hello3.txt',\n",
    "  'hello4.txt'\n",
    "]\n",
    "hello0.txt\n",
    "hello1.txt\n",
    "hello2.txt\n",
    "hello3.txt\n",
    "hello4.txt"
   ]
  },
  {
   "cell_type": "markdown",
   "id": "797c843f",
   "metadata": {},
   "source": [
    "**Note:** We cannot access or get files from other drives and folders. As we are running this inside `Node js` folder so it itself act as web server or environment. It doesn't know anything outside this environment. "
   ]
  },
  {
   "cell_type": "markdown",
   "id": "4bdca519",
   "metadata": {},
   "source": [
    "# CRUD with file system"
   ]
  },
  {
   "cell_type": "code",
   "execution_count": null,
   "id": "21f957b4",
   "metadata": {},
   "outputs": [],
   "source": [
    "# index.js\n",
    "\n",
    "# CREATE\n",
    "const fs = require('fs');\n",
    "const path = require('path');\n",
    "\n",
    "const dirPath = path.join(__dirname, 'crud'); #assuming crud folder already exist\n",
    "const filePath = `${dirPath}/apple.txt`;\n",
    "\n",
    "fs.writeFileSync(filePath, \"This is my file content\");\n"
   ]
  },
  {
   "cell_type": "code",
   "execution_count": null,
   "id": "3c0fca6c",
   "metadata": {},
   "outputs": [],
   "source": [
    "# index.js\n",
    "\n",
    "# READ\n",
    "const fs = require('fs');\n",
    "const path = require('path');\n",
    "\n",
    "const dirPath = path.join(__dirname, 'crud');\n",
    "const filePath = `${dirPath}/apple.txt`;\n",
    "\n",
    "fs.readFile(filePath, 'utf8', (err, data) => {\n",
    "    console.log(data);\n",
    "});\n",
    "\n"
   ]
  },
  {
   "cell_type": "code",
   "execution_count": null,
   "id": "44c4ac1d",
   "metadata": {},
   "outputs": [],
   "source": [
    "# index.js\n",
    "\n",
    "# UPDATE\n",
    "const fs = require('fs');\n",
    "const path = require('path');\n",
    "\n",
    "const dirPath = path.join(__dirname, 'crud');\n",
    "const filePath = `${dirPath}/apple.txt`;\n",
    "\n",
    "fs.appendFile(filePath, \"\\nThis is updated line\", (err) => {\n",
    "    if(err) \n",
    "    console.log(\"Some thing went wrong\");\n",
    "}); \n",
    "\n",
    "# if file not exist it will create and add data to it"
   ]
  },
  {
   "cell_type": "code",
   "execution_count": null,
   "id": "dd25eba8",
   "metadata": {},
   "outputs": [],
   "source": [
    "# index.js\n",
    "\n",
    "# RENAME\n",
    "const fs = require('fs');\n",
    "const path = require('path');\n",
    "\n",
    "const dirPath = path.join(__dirname, 'crud');\n",
    "const filePath = `${dirPath}/apple.txt`;\n",
    "\n",
    "fs.rename(filePath, `${dirPath}/fruit.txt`, (err) => {\n",
    "    if(err) \n",
    "    console.log(\"Some thing went wrong\");\n",
    "}); \n",
    "\n"
   ]
  },
  {
   "cell_type": "code",
   "execution_count": null,
   "id": "00f98bf2",
   "metadata": {},
   "outputs": [],
   "source": [
    "# index.js\n",
    "\n",
    "# DELETE\n",
    "const fs = require('fs');\n",
    "const path = require('path');\n",
    "\n",
    "const dirPath = path.join(__dirname, 'crud');\n",
    "const filePath = `${dirPath}/apple.txt`;\n",
    "\n",
    "fs.unlinkSync(`${dirPath}/fruit.txt`) \n"
   ]
  },
  {
   "cell_type": "markdown",
   "id": "cbd2f4e2",
   "metadata": {},
   "source": [
    "# asynchronous"
   ]
  },
  {
   "cell_type": "code",
   "execution_count": null,
   "id": "b17a15a3",
   "metadata": {},
   "outputs": [],
   "source": [
    "console.log(\"Starting\");\n",
    "console.log(\"logic execution\");\n",
    "console.log(\"Ending\");\n",
    "\n",
    "# output:\n",
    "Starting                            \n",
    "logic execution\n",
    "Ending "
   ]
  },
  {
   "cell_type": "code",
   "execution_count": null,
   "id": "528ea651",
   "metadata": {},
   "outputs": [],
   "source": [
    "console.log(\"Starting\");\n",
    "\n",
    "setTimeout(()=>{\n",
    "    console.log(\"logic execution\");\n",
    "}, 2000) # 2second=2000\n",
    "\n",
    "\n",
    "console.log(\"Ending\");\n",
    "\n",
    "# output:\n",
    "Starting\n",
    "Ending\n",
    "logic execution"
   ]
  },
  {
   "cell_type": "code",
   "execution_count": null,
   "id": "81dfebe3",
   "metadata": {},
   "outputs": [],
   "source": [
    "let a=10;\n",
    "let b=0;\n",
    "\n",
    "setTimeout(()=>{\n",
    "    b=20;\n",
    "}, 2000)\n",
    "\n",
    "console.log(a+b);\n",
    "\n",
    "# output:\n",
    "10"
   ]
  },
  {
   "cell_type": "markdown",
   "id": "4a763a1d",
   "metadata": {},
   "source": [
    "# handle asynchronous data"
   ]
  },
  {
   "cell_type": "code",
   "execution_count": null,
   "id": "61d6f145",
   "metadata": {},
   "outputs": [],
   "source": [
    "let a=10;\n",
    "let b=0;\n",
    "\n",
    "let waitingData = new Promise((resolve, reject)=>{\n",
    "    setTimeout(()=>{\n",
    "        b=20\n",
    "        resolve(b);\n",
    "    }, 2000)\n",
    "});\n",
    "\n",
    "waitingData.then((data)=> {\n",
    "    b=data;\n",
    "    console.log(a+b);\n",
    "});\n",
    "\n",
    "#ouput:\n",
    "30"
   ]
  },
  {
   "cell_type": "markdown",
   "id": "d9d8d1c8",
   "metadata": {},
   "source": [
    "# express js"
   ]
  },
  {
   "cell_type": "markdown",
   "id": "1142b3ea",
   "metadata": {},
   "source": [
    "- `npm install express`"
   ]
  },
  {
   "cell_type": "code",
   "execution_count": null,
   "id": "718e3c7e",
   "metadata": {},
   "outputs": [],
   "source": [
    "const express = require('express');\n",
    "const app = express();\n",
    "\n",
    "app.get('', (req, res) => {\n",
    "    res.send('Hello, this is home page');\n",
    "});\n",
    "\n",
    "app.get('/about', (req, res) => {\n",
    "    res.send('Hello, this is about page');\n",
    "});\n",
    "\n",
    "app.listen(5000); # we can put this line above also"
   ]
  },
  {
   "cell_type": "markdown",
   "id": "47f5e785",
   "metadata": {},
   "source": [
    "# routing"
   ]
  },
  {
   "cell_type": "code",
   "execution_count": null,
   "id": "98f3a554",
   "metadata": {},
   "outputs": [],
   "source": [
    "# url:\n",
    "localhost:5000/?name=node\n",
    "\n",
    "\n",
    "const express = require('express');\n",
    "const app = express();\n",
    "\n",
    "app.get('', (req, res) => {\n",
    "    console.log(req.query);\n",
    "    console.log(req.query.name);\n",
    "    res.send('Hello,'+req.query.name);\n",
    "});\n",
    "\n",
    "app.get('/about', (req, res) => {\n",
    "    res.send('Hello, this is about page');\n",
    "});\n",
    "\n",
    "app.listen(5000);\n",
    "\n",
    "#output:\n",
    "{ name: 'node' }\n",
    "node"
   ]
  },
  {
   "cell_type": "markdown",
   "id": "aea2347c",
   "metadata": {},
   "source": [
    "# render HTML and JSON"
   ]
  },
  {
   "cell_type": "code",
   "execution_count": null,
   "id": "c1b1105e",
   "metadata": {},
   "outputs": [],
   "source": [
    "const express = require('express');\n",
    "const app = express();\n",
    "\n",
    "app.get('', (req, res) => {\n",
    "    res.send(\"<h1> Hello this is home page </h1>\");\n",
    "});\n",
    "\n",
    "app.get('/about', (req, res) => {\n",
    "    res.send(\"<input type='text' placeholder='Username'/>\");\n",
    "});\n",
    "\n",
    "app.get('/form', (req, res) => {\n",
    "    res.send(`\n",
    "    <input type=\"text\" placeholder=\"Enter username\" />\n",
    "    <button>Click me</button\n",
    "    `);\n",
    "});\n",
    "\n",
    "app.get('/help', (req, res) => {\n",
    "    res.send([\n",
    "        { id: 1, name: \"John\" },\n",
    "        { id: 2, name: \"Doe\" },\n",
    "        { id: 3, name: \"Smith\" }\n",
    "    ]);\n",
    "});\n",
    "\n",
    "app.listen(5000);"
   ]
  },
  {
   "cell_type": "markdown",
   "id": "568f6a40",
   "metadata": {},
   "source": [
    "# links between two pages"
   ]
  },
  {
   "cell_type": "code",
   "execution_count": null,
   "id": "ae28978f",
   "metadata": {},
   "outputs": [],
   "source": [
    "const express = require('express');\n",
    "const app = express();\n",
    "\n",
    "app.get('', (req, res) => {\n",
    "    res.send(`\n",
    "    <h1>Welcome to the home page</h1>\n",
    "    <p>Click <a href=\"/about\">here</a> to go to the about page</p>\n",
    "    `);\n",
    "});\n",
    "\n",
    "app.get('/about', (req, res) => {\n",
    "    res.send(`\n",
    "    <input type='text' placeholder='Username'/>\n",
    "    <p>Click <a href=\"/\">here</a> to go to the home page</p>\n",
    "    `);\n",
    "});\n",
    "\n",
    "app.listen(5000);"
   ]
  },
  {
   "cell_type": "markdown",
   "id": "98330d6e",
   "metadata": {},
   "source": [
    "# query params"
   ]
  },
  {
   "cell_type": "code",
   "execution_count": null,
   "id": "4c5255fc",
   "metadata": {},
   "outputs": [],
   "source": [
    "#url:\n",
    "http://localhost:5000/about/?name=mahesh\n",
    "\n",
    "const express = require('express');\n",
    "const app = express();\n",
    "\n",
    "app.get('', (req, res) => {\n",
    "    res.send(`\n",
    "    <h1>Welcome to the home page</h1>\n",
    "    <p>Click <a href=\"/about\">here</a> to go to the about page</p>\n",
    "    `);\n",
    "});\n",
    "\n",
    "app.get('/about', (req, res) => {\n",
    "    res.send(`\n",
    "    <input type='text' placeholder='Username' value=\"${req.query.name}\" />\n",
    "    <p>Click <a href=\"/\">here</a> to go to the home page</p>\n",
    "    `);\n",
    "});\n",
    "\n",
    "app.listen(5000);"
   ]
  },
  {
   "cell_type": "markdown",
   "id": "0c3c4019",
   "metadata": {},
   "source": [
    "# make HTML pages"
   ]
  },
  {
   "cell_type": "markdown",
   "id": "d1ae98b7",
   "metadata": {},
   "source": [
    "1. Create a folder named `templates`(can give any name) to store html files."
   ]
  },
  {
   "cell_type": "code",
   "execution_count": null,
   "id": "e848d5f5",
   "metadata": {},
   "outputs": [],
   "source": [
    "# templates/about.html\n",
    "\n",
    "<!DOCTYPE html>\n",
    "<html lang=\"en\">\n",
    "<head>\n",
    "    <meta charset=\"UTF-8\">\n",
    "    <meta name=\"viewport\" content=\"width=device-width, initial-scale=1.0\">\n",
    "    <title>About</title>\n",
    "</head>\n",
    "<body>\n",
    "    <h1>This is About page</h1>\n",
    "</body>\n",
    "</html>"
   ]
  },
  {
   "cell_type": "code",
   "execution_count": null,
   "id": "1051a36c",
   "metadata": {},
   "outputs": [],
   "source": [
    "# templates/index.html\n",
    "\n",
    "<!DOCTYPE html>\n",
    "<html lang=\"en\">\n",
    "<head>\n",
    "    <meta charset=\"UTF-8\">\n",
    "    <meta name=\"viewport\" content=\"width=device-width, initial-scale=1.0\">\n",
    "    <title>index</title>\n",
    "</head>\n",
    "<body>\n",
    "    <h1>this is index page</h1>\n",
    "</body>\n",
    "</html>"
   ]
  },
  {
   "cell_type": "code",
   "execution_count": null,
   "id": "efa17930",
   "metadata": {},
   "outputs": [],
   "source": [
    "# index.js:\n",
    "\n",
    "const express = require('express');\n",
    "const path = require('path');\n",
    "\n",
    "const app = express();\n",
    "const publicPath = path.resolve(__dirname, 'templates'); # we can use join() as well\n",
    "\n",
    "app.use(express.static(publicPath));\n",
    "\n",
    "app.listen(5000);\n",
    "\n",
    "\n",
    "# we can see these 'index.html' pages at url:\n",
    "http://localhost:5000/    \n",
    "        \n",
    "# we can see these 'about.html' pages at url:\n",
    "http://localhost:5000/about.html"
   ]
  },
  {
   "cell_type": "markdown",
   "id": "8062ea78",
   "metadata": {},
   "source": [
    "**Note:** The base/root url gone render `index.html` by deafult. In terms of web application the name `index` is considered to be an entry point.  if any folder has a file named as `index`, it will be served by default; we do not need to explicitly mention it. Same way can serve any css, js etc."
   ]
  },
  {
   "cell_type": "markdown",
   "id": "81a6f5ce",
   "metadata": {},
   "source": [
    "# remove extension from url"
   ]
  },
  {
   "cell_type": "code",
   "execution_count": null,
   "id": "40a9bc08",
   "metadata": {},
   "outputs": [],
   "source": [
    "const express = require('express');\n",
    "const path = require('path');\n",
    "\n",
    "const app = express();\n",
    "const publicPath = path.resolve(__dirname, 'templates');\n",
    "\n",
    "app.get('/', (req, res) => {\n",
    "    res.sendFile(`${publicPath}/index.html`);\n",
    "});\n",
    "\n",
    "app.get('/about', (req, res) => {\n",
    "    res.sendFile(`${publicPath}/about.html`);\n",
    "});\n",
    "app.listen(5000);"
   ]
  },
  {
   "cell_type": "markdown",
   "id": "10061475",
   "metadata": {},
   "source": [
    "# page not found or error page"
   ]
  },
  {
   "cell_type": "code",
   "execution_count": null,
   "id": "cb1d0fda",
   "metadata": {},
   "outputs": [],
   "source": [
    "const express = require('express');\n",
    "const path = require('path');\n",
    "\n",
    "const app = express();\n",
    "const publicPath = path.resolve(__dirname, 'templates');\n",
    "\n",
    "app.get('/', (req, res) => {\n",
    "    res.sendFile(`${publicPath}/index.html`);\n",
    "});\n",
    "\n",
    "app.get('/about', (req, res) => {\n",
    "    res.sendFile(`${publicPath}/about.html`);\n",
    "});\n",
    "\n",
    "app.get('*', (req, res) => { # error page \n",
    "    res.sendFile(`${publicPath}/error404.html`);\n",
    "});\n",
    "app.listen(5000);"
   ]
  },
  {
   "cell_type": "code",
   "execution_count": null,
   "id": "05ad9935",
   "metadata": {},
   "outputs": [],
   "source": [
    "# templates/error404.html:\n",
    "\n",
    "<!DOCTYPE html>\n",
    "<html lang=\"en\">\n",
    "<head>\n",
    "    <meta charset=\"UTF-8\">\n",
    "    <meta name=\"viewport\" content=\"width=device-width, initial-scale=1.0\">\n",
    "    <title>Error</title>\n",
    "</head>\n",
    "<body>\n",
    "    <h1>Page does not exist</h1>\n",
    "</body>\n",
    "</html>"
   ]
  },
  {
   "cell_type": "markdown",
   "id": "f348895f",
   "metadata": {},
   "source": [
    "# template engine"
   ]
  },
  {
   "cell_type": "markdown",
   "id": "dcf5c17c",
   "metadata": {},
   "source": [
    "1. Run command: `npm install ejs`\n",
    "2. Create a folder \"views\".(folder should be strictly named as `views`, nothing else. We use any template engine still folder name should be `views` only.)\n",
    "3. Create a file \"profile.ejs\" inside `views` folder.\n",
    "4. Open `index.js` and write following lines of code\n",
    "5. Open `profile.ejs` and write html code"
   ]
  },
  {
   "cell_type": "code",
   "execution_count": null,
   "id": "94cfe918",
   "metadata": {},
   "outputs": [],
   "source": [
    "# step4- index.js:\n",
    "\n",
    "const express = require('express');\n",
    "const path = require('path');\n",
    "\n",
    "const app = express();\n",
    "\n",
    "app.set('view engine', 'ejs'); # setting template engine\n",
    "\n",
    "app.get('/profile', (req, res) => {\n",
    "    res.render('profile'); # we can use extension also: 'profile.ejs'\n",
    "});\n",
    "\n",
    "app.listen(5000);"
   ]
  },
  {
   "cell_type": "code",
   "execution_count": null,
   "id": "783667b2",
   "metadata": {},
   "outputs": [],
   "source": [
    "# step5- views/profile.ejs:\n",
    "\n",
    "<!DOCTYPE html>\n",
    "<html lang=\"en\">\n",
    "<head>\n",
    "    <meta charset=\"UTF-8\">\n",
    "    <meta name=\"viewport\" content=\"width=device-width, initial-scale=1.0\">\n",
    "    <title>profile page</title>\n",
    "</head>\n",
    "<body>\n",
    "    <h1>Profile page</h1>\n",
    "</body>\n",
    "</html>"
   ]
  },
  {
   "cell_type": "markdown",
   "id": "2abf0b18",
   "metadata": {},
   "source": [
    "# dynamic data"
   ]
  },
  {
   "cell_type": "markdown",
   "id": "adb866f8",
   "metadata": {},
   "source": [
    "1. Open `index.js` and add following lines of code\n",
    "2. Open `profile.ejs` and add following lines of code"
   ]
  },
  {
   "cell_type": "code",
   "execution_count": null,
   "id": "af54bb33",
   "metadata": {},
   "outputs": [],
   "source": [
    "# step1- index.js:\n",
    "\n",
    "const express = require('express');\n",
    "const path = require('path');\n",
    "\n",
    "const app = express();\n",
    "app.listen(5000);\n",
    "\n",
    "app.set('view engine', 'ejs');\n",
    "\n",
    "app.get('/profile', (req, res) => {\n",
    "\n",
    "    const user = {\n",
    "        name: 'John',\n",
    "        age: 25,\n",
    "        city: 'San Francisco',\n",
    "        email: 'john@gmail.com',\n",
    "        skills: ['python','java','C++', 'javascript']\n",
    "    };\n",
    "    \n",
    "    res.render('profile.ejs', {user});\n",
    "});"
   ]
  },
  {
   "cell_type": "code",
   "execution_count": null,
   "id": "85e07ee1",
   "metadata": {},
   "outputs": [],
   "source": [
    "# step2- views/profile.ejs:\n",
    "\n",
    "<!DOCTYPE html>\n",
    "<html lang=\"en\">\n",
    "<head>\n",
    "    <meta charset=\"UTF-8\">\n",
    "    <meta name=\"viewport\" content=\"width=device-width, initial-scale=1.0\">\n",
    "    <title>profile page</title>\n",
    "</head>\n",
    "<body>\n",
    "    <h1>Welcome <%= user.name %></h1>\n",
    "    <h3>Age: <%= user.age %></h3>\n",
    "    <h3>city: <%= user.city %></h3>\n",
    "    <h3>email: <%= user.email %></h3>   \n",
    "    <ul>\n",
    "        <% user.skills.forEach((item)=>{ <% # loop\n",
    "            <li><%= item %></li>\n",
    "        <% }); %>\n",
    "    </ul>                                                                      \n",
    "</body>\n",
    "</html>"
   ]
  },
  {
   "cell_type": "markdown",
   "id": "33fb3ca1",
   "metadata": {},
   "source": [
    "# dynamic page"
   ]
  },
  {
   "cell_type": "markdown",
   "id": "01c4f6bd",
   "metadata": {},
   "source": [
    "1. Create a folder \"common\" inside `views` folder\n",
    "2. Create files \"header.ejs\" and \"footer.ejs\" inside `views/common` folder.\n",
    "3. Open `header.ejs` and add follwoing lines of code.\n",
    "4. Open `footer.ejs` and add following lines of code.\n",
    "5. Create a file \"home.ejs\" inside `views` folder.\n",
    "6. Open `home.ejs` and add follwoing lines of code.\n",
    "7. Open `index.js` and add following lines of code."
   ]
  },
  {
   "cell_type": "code",
   "execution_count": null,
   "id": "86fb6d89",
   "metadata": {},
   "outputs": [],
   "source": [
    "# step3- views/common/header.ejs:\n",
    "\n",
    "<!DOCTYPE html>\n",
    "<html lang=\"en\">\n",
    "<head>\n",
    "    <meta charset=\"UTF-8\">\n",
    "    <meta name=\"viewport\" content=\"width=device-width, initial-scale=1.0\">\n",
    "    <title>Your Website</title>\n",
    "    <link rel=\"stylesheet\" href=\"/assets/CSS/styles.css\"> \n",
    "</head>\n",
    "<body>\n",
    "\n",
    "    <header>\n",
    "        <h1>Your Website</h1>\n",
    "    </header>\n",
    "\n",
    "    <nav>\n",
    "        <a href=\"#about\">About</a>\n",
    "        <a href=\"#contact\">Contact</a>\n",
    "        <a href=\"#services\">Services</a>\n",
    "    </nav>"
   ]
  },
  {
   "cell_type": "code",
   "execution_count": null,
   "id": "dfb45edc",
   "metadata": {},
   "outputs": [],
   "source": [
    "# step4- views/common/footer.ejs:\n",
    "\n",
    "<footer>\n",
    "    &copy; 2024 Your Website. All rights reserved.\n",
    "</footer>\n",
    "\n",
    "</body>\n",
    "</html>"
   ]
  },
  {
   "cell_type": "code",
   "execution_count": null,
   "id": "f5ab29c8",
   "metadata": {},
   "outputs": [],
   "source": [
    "# step6- views/home.ejs:\n",
    "\n",
    "<%- include('common/header.ejs') %>\n",
    "\n",
    "<h1>This is from home page</h1>\n",
    "\n",
    "<%- include('common/footer.ejs') %>\n"
   ]
  },
  {
   "cell_type": "code",
   "execution_count": null,
   "id": "d2b9b54a",
   "metadata": {},
   "outputs": [],
   "source": [
    "# step7- index.js:\n",
    "\n",
    "const express = require('express');\n",
    "const path = require('path');\n",
    "\n",
    "const app = express();\n",
    "app.listen(5000);\n",
    "\n",
    "app.set('view engine', 'ejs');\n",
    "\n",
    "app.get('/home', (req, res) => {\n",
    "    res.render('home.ejs');\n",
    "});"
   ]
  },
  {
   "cell_type": "markdown",
   "id": "87695a47",
   "metadata": {},
   "source": [
    "# static files"
   ]
  },
  {
   "cell_type": "markdown",
   "id": "0afc769e",
   "metadata": {},
   "source": [
    "1. Create a folder \"assets\" and inside that create another folder \"CSS\".\n",
    "2. Create a file \"styles.css\" inside `assets/CSS` folder.\n",
    "3. Open `styles.css` and add following lines of code.\n",
    "4. Open `index.js` and add following lines of code"
   ]
  },
  {
   "cell_type": "code",
   "execution_count": null,
   "id": "29b3c389",
   "metadata": {},
   "outputs": [],
   "source": [
    "# step3- assets/CSS/styles.css:\n",
    "\n",
    "body {\n",
    "    font-family: Arial, sans-serif;\n",
    "    margin: 0;\n",
    "    padding: 0;\n",
    "    box-sizing: border-box;\n",
    "}\n",
    "\n",
    "header {\n",
    "    background-color: #333;\n",
    "    color: #fff;\n",
    "    text-align: center;\n",
    "    padding: 1em 0;\n",
    "}\n",
    "\n",
    "nav {\n",
    "    background-color: #444;\n",
    "    padding: 1em 0;\n",
    "}\n",
    "\n",
    "nav a {\n",
    "    color: #fff;\n",
    "    text-decoration: none;\n",
    "    padding: 0 1em;\n",
    "}\n",
    "\n",
    "nav a:hover {\n",
    "    background-color: #555;\n",
    "}\n",
    "\n",
    "main {\n",
    "    padding: 2em;\n",
    "}\n",
    "\n",
    "footer {\n",
    "    background-color: #333;\n",
    "    color: #fff;\n",
    "    text-align: center;\n",
    "    padding: 1em 0;\n",
    "    position: fixed;\n",
    "    bottom: 0;\n",
    "    width: 100%;\n",
    "}"
   ]
  },
  {
   "cell_type": "code",
   "execution_count": null,
   "id": "68f0c57c",
   "metadata": {},
   "outputs": [],
   "source": [
    "# step4- index.js:\n",
    "\n",
    "const express = require('express');\n",
    "const path = require('path');\n",
    "\n",
    "const app = express();\n",
    "app.listen(5000);\n",
    "\n",
    "app.set('view engine', 'ejs');\n",
    "app.use('/assets', express.static(('assets'))); # routed middleware # setting up for static files\n",
    "\n",
    "app.get('/home', (req, res) => {\n",
    "    res.render('home.ejs');\n",
    "});\n",
    "\n"
   ]
  },
  {
   "cell_type": "markdown",
   "id": "22ef30ea",
   "metadata": {},
   "source": [
    "Above if we are using `app.use(express.static(('assets')));` instead of this `app.use('/assets', express.static(('assets')));` then we have to use `<link rel=\"stylesheet\" href=\"/CSS/styles.css\">` instead of this `<link rel=\"stylesheet\" href=\"/assets/CSS/styles.css\">`"
   ]
  },
  {
   "cell_type": "markdown",
   "id": "2f006304",
   "metadata": {},
   "source": [
    "# middleware"
   ]
  },
  {
   "cell_type": "markdown",
   "id": "35977f05",
   "metadata": {},
   "source": [
    "- It is a normal function.\n",
    "- using middleware we can access and modify request and response."
   ]
  },
  {
   "cell_type": "code",
   "execution_count": null,
   "id": "96723cf9",
   "metadata": {},
   "outputs": [],
   "source": [
    "# index.js:\n",
    "\n",
    "const express = require('express');\n",
    "const path = require('path');\n",
    "\n",
    "const app = express();\n",
    "app.listen(5000);\n",
    "\n",
    "const reqfilter = (req, res, next) => {\n",
    "    \n",
    "    if(!req.query.age)\n",
    "    {\n",
    "        res.send('please provide your age');\n",
    "    }\n",
    "    next();\n",
    "};\n",
    "\n",
    "app.use(reqfilter); # at application level\n",
    "\n",
    "app.get('/', (req, res) => {\n",
    "    res.send('welcome to home page');\n",
    "});\n",
    "app.get('/users', (req, res) => {\n",
    "    res.send('welcome to user page');\n",
    "});\n",
    "\n"
   ]
  },
  {
   "cell_type": "markdown",
   "id": "35c6c94f",
   "metadata": {},
   "source": [
    "- This application-level middleware and will be applied on all routes in application.\n",
    "\n",
    "So, if we visit both urls like this: `http://localhost:5000` and `http://localhost:5000/users` then we gone see message \"please provide your age\" and an error in terminal stating \"Cannot set headers after they are sent to the client\". To fix this we have to use `next()` inside else block. \n",
    "\n",
    "Also if we provide age in url then only we will be able to use that particular page i.e. `http://localhost:5000?age=12` and `http://localhost:5000/users?age=12`."
   ]
  },
  {
   "cell_type": "markdown",
   "id": "32a44c04",
   "metadata": {},
   "source": [
    "**Note:**\n",
    "\n",
    "- If we visit `http://localhost:5000/users` or `http://localhost:5000/users/` then both gone display same page.\n",
    "- If we use route as `/users` or `/users/` in our code then both gone point to same url.\n",
    "\n",
    "**It's worth noting that some web servers and frameworks might automatically redirect requests from '/users' to '/users/' or vice versa**"
   ]
  },
  {
   "cell_type": "code",
   "execution_count": null,
   "id": "7b415fee",
   "metadata": {},
   "outputs": [],
   "source": [
    "# index.js:\n",
    "\n",
    "const express = require('express');\n",
    "const path = require('path');\n",
    "\n",
    "const app = express();\n",
    "app.listen(5000);\n",
    "\n",
    "const reqfilter = (req, res, next) => {\n",
    "    //console.log('req filter');\n",
    "    if(!req.query.age)\n",
    "    {\n",
    "        res.send('please provide your age');\n",
    "    }\n",
    "    else if(req.query.age<18)\n",
    "    {\n",
    "        res.send(\"You don't have access to this page\");\n",
    "    }\n",
    "    else\n",
    "    {\n",
    "        next();\n",
    "    }\n",
    "};\n",
    "\n",
    "app.use(reqfilter);\n",
    "\n",
    "app.get('/', (req, res) => {\n",
    "    res.send('welcome to home page');\n",
    "});\n",
    "app.get('/users', (req, res) => {\n",
    "    res.send('welcome to user page');\n",
    "});"
   ]
  },
  {
   "cell_type": "markdown",
   "id": "98d20e3e",
   "metadata": {},
   "source": [
    "#### Middleware types:\n",
    "\n",
    "- Application-level middleware\n",
    "- Route-level middleware\n",
    "- Error-handling middleware\n",
    "- Built-in middleware\n",
    "- Third-party middleware"
   ]
  },
  {
   "cell_type": "markdown",
   "id": "4aab1469",
   "metadata": {},
   "source": [
    "# route level middleware"
   ]
  },
  {
   "cell_type": "markdown",
   "id": "96b13f8f",
   "metadata": {},
   "source": [
    "- can be applied on one route, group of routes and all routes."
   ]
  },
  {
   "cell_type": "code",
   "execution_count": null,
   "id": "0dfeda5d",
   "metadata": {},
   "outputs": [],
   "source": [
    "const express = require('express');\n",
    "const path = require('path');\n",
    "\n",
    "const app = express();\n",
    "app.listen(5000);\n",
    "\n",
    "const reqfilter = (req, res, next) => {\n",
    "    //console.log('req filter');\n",
    "    if(!req.query.age)\n",
    "    {\n",
    "        res.send('please provide your age');\n",
    "    }\n",
    "    else if(req.query.age<18)\n",
    "    {\n",
    "        res.send(\"You don't have access to this page\");\n",
    "    }\n",
    "    else\n",
    "    {\n",
    "        next();\n",
    "    }\n",
    "};\n",
    "\n",
    "# app.use() line has been removed at route level\n",
    "\n",
    "app.get('/', (req, res) => {\n",
    "    res.send('welcome to home page');\n",
    "});\n",
    "app.get('/users',reqfilter, (req, res) => { # applying on single route \n",
    "    res.send('welcome to user page');\n",
    "});\n",
    "\n"
   ]
  },
  {
   "cell_type": "markdown",
   "id": "0fa68428",
   "metadata": {},
   "source": [
    "**It's good practice to put our middleware in separate file**.\n",
    "\n",
    "1. Create a file \"middleware.js\".\n",
    "2. Open `middleware.js` and paste middleware code there.\n",
    "3. Open `index.js` and import middleware."
   ]
  },
  {
   "cell_type": "code",
   "execution_count": null,
   "id": "8c33498e",
   "metadata": {},
   "outputs": [],
   "source": [
    "# middleware.js:\n",
    "\n",
    "module.exports = reqfilter = (req, res, next) => {\n",
    "    //console.log('req filter');\n",
    "    if(!req.query.age)\n",
    "    {\n",
    "        res.send('please provide your age');\n",
    "    }\n",
    "    else if(req.query.age<18)\n",
    "    {\n",
    "        res.send(\"You don't have access to this page\");\n",
    "    }\n",
    "    else\n",
    "    {\n",
    "        next();\n",
    "    }\n",
    "};"
   ]
  },
  {
   "cell_type": "code",
   "execution_count": null,
   "id": "4156ea37",
   "metadata": {},
   "outputs": [],
   "source": [
    "# index.js:\n",
    "\n",
    "const express = require('express');\n",
    "const path = require('path');\n",
    "const reqfilter = require('./middleware');\n",
    "\n",
    "const app = express();\n",
    "app.listen(5000);\n",
    "\n",
    "//app.use(reqfilter);\n",
    "\n",
    "app.get('/', (req, res) => {\n",
    "    res.send('welcome to home page');\n",
    "});\n",
    "app.get('/users',reqfilter, (req, res) => { # applying on single route \n",
    "    res.send('welcome to user page');\n",
    "});"
   ]
  },
  {
   "cell_type": "markdown",
   "id": "4698b115",
   "metadata": {},
   "source": [
    "Similarly we can apply it on mutiple routes. But let's assume we have 100 routes and we want to apply it on 50 routes then it is tedious to apply it one by one and also not a good practice."
   ]
  },
  {
   "cell_type": "code",
   "execution_count": null,
   "id": "8e826959",
   "metadata": {},
   "outputs": [],
   "source": [
    "const express = require('express');\n",
    "const path = require('path');\n",
    "const reqfilter = require('./middleware');\n",
    "\n",
    "\n",
    "const app = express();\n",
    "const route = express.Router();\n",
    "\n",
    "route.use(reqfilter);\n",
    "\n",
    "app.listen(5000);\n",
    "\n",
    "app.get('/', (req, res) => {\n",
    "    res.send('welcome to home page');\n",
    "});\n",
    "route.get('/users', (req, res) => { # applied\n",
    "    res.send('welcome to user page');\n",
    "});\n",
    "app.get('/about', (req, res) => {\n",
    "    res.send('welcome to about page');\n",
    "});\n",
    "route.get('/contact', (req, res) => { # applied\n",
    "    res.send('welcome to contact page');\n",
    "});\n",
    "\n",
    "app.use('/', route);"
   ]
  },
  {
   "cell_type": "markdown",
   "id": "8396e0e8",
   "metadata": {},
   "source": [
    "Above middleware will not be applied on `app.get`."
   ]
  },
  {
   "cell_type": "markdown",
   "id": "3110dd8e",
   "metadata": {},
   "source": [
    "# MongoDB"
   ]
  },
  {
   "cell_type": "markdown",
   "id": "c794bfe4",
   "metadata": {},
   "source": [
    "- `mongosh`: Open mongoDB shell\n",
    "- `show dbs`: Display all database\n",
    "- `use mydatabase`: Create a new database Or Connect to database\n",
    "- `db.createCollection(\"mycollection\")`: Create a new collection in current database\n",
    "- `show collections`: Display all collections of current database\n",
    "- `db.playlist.drop()`: Delete collection from database\n",
    "- `db.dropDatabase()`: Delete current database\n",
    "\n",
    "Let's say we have a database `E-comm`and inside this database we have a collection `products`:\n",
    "\n",
    "#### Insert\n",
    "- `db.products.insertOne({name:\"M40\",brand:\"samsung\",price:12500,category:\"mobile\"})`: Insert a data in collection\n",
    "\n",
    "#### Read\n",
    "- `db.products.find()`: Display all data stored in collection\n",
    "\n",
    "#### Update\n",
    "- `db.products.updateOne({brand:\"samsung\"},{$set:{name:\"S24\",price:80000}})`: Update the collection data\n",
    "\n",
    "#### Delete\n",
    "- `db.products.deleteOne({brand:\"apple\"})`: Delete record from collection"
   ]
  },
  {
   "cell_type": "markdown",
   "id": "b362d721",
   "metadata": {},
   "source": [
    "# connect MongoDB with Nodejs "
   ]
  },
  {
   "cell_type": "code",
   "execution_count": null,
   "id": "1a9b6a29",
   "metadata": {},
   "outputs": [],
   "source": [
    "const {MongoClient} = require('mongodb'); # modern syntax\n",
    "# const MongoClient = require('mongodb').MongoClient;\n",
    "\n",
    "const url = 'mongodb://localhost:27017';\n",
    "const client = new MongoClient(url);\n",
    "\n",
    "async function getData()\n",
    "{\n",
    "    let result = await client.connect();\n",
    "    let db = result.db('e-comm');\n",
    "    let collection = db.collection('products');\n",
    "\n",
    "    let response = await collection.find({}).toArray();\n",
    "    console.log(response);\n",
    "}\n",
    "\n",
    "getData();"
   ]
  },
  {
   "cell_type": "code",
   "execution_count": null,
   "id": "94d49fb4",
   "metadata": {},
   "outputs": [],
   "source": []
  },
  {
   "cell_type": "code",
   "execution_count": null,
   "id": "a9a7dc60",
   "metadata": {},
   "outputs": [],
   "source": []
  },
  {
   "cell_type": "code",
   "execution_count": null,
   "id": "4c868491",
   "metadata": {},
   "outputs": [],
   "source": []
  },
  {
   "cell_type": "code",
   "execution_count": null,
   "id": "cb80b83d",
   "metadata": {},
   "outputs": [],
   "source": []
  },
  {
   "cell_type": "code",
   "execution_count": null,
   "id": "bc1f4fe5",
   "metadata": {},
   "outputs": [],
   "source": []
  },
  {
   "cell_type": "code",
   "execution_count": null,
   "id": "50c103e7",
   "metadata": {},
   "outputs": [],
   "source": []
  },
  {
   "cell_type": "code",
   "execution_count": null,
   "id": "3f825818",
   "metadata": {},
   "outputs": [],
   "source": []
  },
  {
   "cell_type": "code",
   "execution_count": null,
   "id": "e5c76ec0",
   "metadata": {},
   "outputs": [],
   "source": []
  },
  {
   "cell_type": "code",
   "execution_count": null,
   "id": "4340a8ee",
   "metadata": {},
   "outputs": [],
   "source": []
  },
  {
   "cell_type": "code",
   "execution_count": null,
   "id": "48ab93d5",
   "metadata": {},
   "outputs": [],
   "source": []
  },
  {
   "cell_type": "code",
   "execution_count": null,
   "id": "903ecef5",
   "metadata": {},
   "outputs": [],
   "source": []
  },
  {
   "cell_type": "code",
   "execution_count": null,
   "id": "c0327bdb",
   "metadata": {},
   "outputs": [],
   "source": []
  },
  {
   "cell_type": "code",
   "execution_count": null,
   "id": "92cd7716",
   "metadata": {},
   "outputs": [],
   "source": []
  },
  {
   "cell_type": "code",
   "execution_count": null,
   "id": "fc47e52d",
   "metadata": {},
   "outputs": [],
   "source": []
  },
  {
   "cell_type": "code",
   "execution_count": null,
   "id": "0aa9d7f4",
   "metadata": {},
   "outputs": [],
   "source": []
  },
  {
   "cell_type": "code",
   "execution_count": null,
   "id": "6664e34d",
   "metadata": {},
   "outputs": [],
   "source": []
  },
  {
   "cell_type": "code",
   "execution_count": null,
   "id": "33237404",
   "metadata": {},
   "outputs": [],
   "source": []
  },
  {
   "cell_type": "code",
   "execution_count": null,
   "id": "8abe5566",
   "metadata": {},
   "outputs": [],
   "source": []
  },
  {
   "cell_type": "code",
   "execution_count": null,
   "id": "1bda7edc",
   "metadata": {},
   "outputs": [],
   "source": []
  },
  {
   "cell_type": "code",
   "execution_count": null,
   "id": "e76eaa54",
   "metadata": {},
   "outputs": [],
   "source": []
  },
  {
   "cell_type": "code",
   "execution_count": null,
   "id": "f5a57276",
   "metadata": {},
   "outputs": [],
   "source": []
  },
  {
   "cell_type": "code",
   "execution_count": null,
   "id": "5df42230",
   "metadata": {},
   "outputs": [],
   "source": []
  },
  {
   "cell_type": "code",
   "execution_count": null,
   "id": "d87f062a",
   "metadata": {},
   "outputs": [],
   "source": []
  },
  {
   "cell_type": "code",
   "execution_count": null,
   "id": "d6906c79",
   "metadata": {},
   "outputs": [],
   "source": []
  }
 ],
 "metadata": {
  "kernelspec": {
   "display_name": "Python 3 (ipykernel)",
   "language": "python",
   "name": "python3"
  },
  "language_info": {
   "codemirror_mode": {
    "name": "ipython",
    "version": 3
   },
   "file_extension": ".py",
   "mimetype": "text/x-python",
   "name": "python",
   "nbconvert_exporter": "python",
   "pygments_lexer": "ipython3",
   "version": "3.9.6"
  }
 },
 "nbformat": 4,
 "nbformat_minor": 5
}
