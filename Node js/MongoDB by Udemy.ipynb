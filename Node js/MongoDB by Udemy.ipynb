{
 "cells": [
  {
   "cell_type": "markdown",
   "id": "608741a2-157d-4382-886e-d59e557c1bc9",
   "metadata": {},
   "source": [
    "# MongoDB"
   ]
  },
  {
   "cell_type": "markdown",
   "id": "af70e674-bec6-4b76-add4-d06e066cdaee",
   "metadata": {},
   "source": [
    "username- saurabhp850\n",
    "\n",
    "pswd- 844120"
   ]
  },
  {
   "cell_type": "markdown",
   "id": "53a1e1ae-9a3a-4e10-a05d-27f3c0cdc6aa",
   "metadata": {},
   "source": [
    "# mongoimport mongoexport using command line\n",
    "\n",
    "- `mongoexport --uri=\"\" --collection= --fields= --out=`\n",
    "\n",
    "        --fields: specify the fields to include in the output(should be comma separated)\n",
    "\n",
    "Example: `mongoexport --uri=\"mongodb+srv://saurabhp850:<password>@training.3kq9u.mongodb.net/import_export_db\" --collection=import_export_col --out=mycollection.json`\n",
    "\n",
    "\n",
    "- `mongoimport --uri=\"\" --collection= --headerline --file=`\n",
    "\n",
    "        --headerline: Indicates that the first line of the file contains field names(in case of csv).\n",
    "\n",
    "Example: `mongoimport --uri=\"mongodb+srv://saurabhp850:<password>@training.3kq9u.mongodb.net/import_export_db\" --collection=mycollection --file=mycollection.json`\n",
    "\n",
    "**NOTE:** The `mongoimport` command does not natively support selecting specific fields to import. It always imports all fields from the provided file."
   ]
  },
  {
   "cell_type": "markdown",
   "id": "fc8999e7-bfe9-459b-b186-e1d2be28626a",
   "metadata": {},
   "source": [
    "# mongodump mongorestore\n",
    "\n",
    "The `mongodump` command is used to create a backup of your MongoDB database. It exports the data into a binary format that can later be restored using the `mongorestore` command.\n",
    "\n",
    "- `mongodump --uri=\"mongodb+srv://saurabhp850:<password>@training.3kq9u.mongodb.net/import_export_db\"`\n",
    "\n",
    "- `mongorestore --uri=\"mongodb+srv://saurabhp850:<password>@training.3kq9u.mongodb.net/import_export_db\" dump/import_export_db`"
   ]
  },
  {
   "cell_type": "code",
   "execution_count": null,
   "id": "1692f29f-bef8-45fb-93f9-2585d24e34a0",
   "metadata": {},
   "outputs": [],
   "source": []
  },
  {
   "cell_type": "markdown",
   "id": "0932fe1c-d28a-4721-8743-9a5c0e6890c9",
   "metadata": {},
   "source": [
    "# creating/deleting databases and collections\n",
    "\n",
    "- `show dbs` : display all databases\n",
    "- `use <databse_name>` :  used to switch to a specific database or create one if it doesn't already exist. \n",
    "- `show collections` : used to display the names of all collections in the current database.\n",
    "- `db.createCollection(\"<collection_name>\")` : used to explicitly create a collection in the current database.\n",
    "- `db.<collection_name>.drop()` : used to delete an entire collection from the current database. Once a collection is dropped, all its data and indexes are permanently removed.\n",
    "- `db.dropDatabase()` : used to delete the entire current database. This operation removes all collections, documents, and indexes within the database, and the database itself will no longer exist."
   ]
  },
  {
   "cell_type": "markdown",
   "id": "8cee1bf0-7818-4e2b-86b7-348c7227f873",
   "metadata": {},
   "source": [
    "- `db.<collection_name>.findOne()` : retrieves a single document from the specified collection.\n",
    "- `db.<collection_name>.find()` : retrieves multiple documents from a specified collection.\n",
    "\n",
    "Both of these take two parameter: `<query>, <projection>`\n",
    "\n",
    "Examples:\n",
    "\n",
    "- `db.grades.find({\"class_id\":449})`\n",
    "- `db.grades.find({\"student_id\":1, \"class_id\":270})` : mutiple condition"
   ]
  },
  {
   "cell_type": "markdown",
   "id": "fe471bda-c904-4ff1-aba8-afb0f39817e6",
   "metadata": {},
   "source": [
    "# use of $\n",
    "\n",
    "1. Precedes operators in MQL\n",
    "\n",
    "        $lt : less than Example: {\"salary\":{$lt:5000}}\n",
    "2. Precedes field values\n",
    "3. Aggregation pipeline"
   ]
  },
  {
   "cell_type": "markdown",
   "id": "b117d515-7767-4336-a7af-d21ce4439a31",
   "metadata": {},
   "source": [
    "# comparison operator\n",
    "\n",
    "- `$eq` : equal to\n",
    "\n",
    "        {\"salary\":5000} is same as {\"salary\":{$eq:5000}}\n",
    "\n",
    "- `$ne` : not equal to\n",
    "- `$lt` : less than\n",
    "- `$gt` : greater than\n",
    "- `$lte` : less than or equal to\n",
    "- `$gte` : greater than or equal to\n",
    "- `$in` \n",
    "\n",
    "        {\"salary\":{$in:[5000, 12000]}}\n",
    "\n",
    "- `$nin` : not in"
   ]
  },
  {
   "cell_type": "markdown",
   "id": "b962350a-811c-4630-8b06-af3289a0a3b3",
   "metadata": {},
   "source": [
    "# logical operators\n",
    "\n",
    "- `$and` : syntax- {operator:[{condition1}, {condition2}, ...]}\n",
    "- `$or` : syntax- {operator:[{condition1}, {condition2}, ...]}\n",
    "- `$nor` : returns all documents that fail all of the conditions. syntax- {operator:[{condition1}, {condition2}, ...]}\n",
    "- `$not` : returns all documents that do not match the expression. syntax- {$not:{condition}}\n",
    "\n",
    "**Examples:**\n",
    "\n",
    "- db.trips.find({$and: [{\"tripduration\":{$gt:400}}, {\"birth year\":{$gt:1998}}]})\n",
    "\n",
    "above query is same as:\n",
    "\n",
    "- db.trips.find({\"tripduration\":{$gt:400}}, {\"birth year\":{$gt:1998}})\n",
    "\n",
    "This is because `$and` is used by default as an implicit operator when no other operators or duplicate fields are specified.\n",
    "\n",
    "- db.trips.find({$and: [{\"tripduration\":{$lt:400}}, {\"tripduration\":{$gt:300}}]})\n",
    "\n",
    "above query is not same as:\n",
    "\n",
    "- db.trips.find({\"tripduration\":{$lt:400}}, {\"tripduration\":{$gt:300}})\n",
    "\n",
    "This is because `{\"tripduration\":{$lt:400}}, {\"tripduration\":{$gt:300}}` gets evaluated as `{\"tripduration\":{$gt:300}}`. That is first condition is overwritten by second. But when the conditions are a part of the array with `$and` operator they both get evaluated.\n",
    "\n",
    "One more shortcut way is that is when we using more than one condition on same field and we want all conditions to be matched then we can use like this: `{\"tripduration\":{$lt:400, $gt:300}}`.\n",
    "\n",
    "- db.trips.find({\"usertype\":{$not:{$eq:\"Subscriber\"}}})"
   ]
  },
  {
   "cell_type": "markdown",
   "id": "f7718155-b601-4c3b-a2de-07d4f1d916ba",
   "metadata": {},
   "source": [
    "# $expr\n",
    "\n",
    "The `$expr` operator in MongoDB allows you to use aggregation expressions within a query. This enables complex comparisons and evaluations using fields within a document during query matching, which would not be possible with regular query operators.\n",
    "\n",
    "syntax- {$expr: {operator: [field, value]}}\n",
    "\n",
    "**Examples:**\n",
    "\n",
    "- `db.routes.find({$expr:{$eq:[\"$src_airport\", \"$dst_airport\"]}})`\n",
    "- `db.routes.find({\"airplane\":{$eq:\"CR2\"}})` - without using `$expr`\n",
    "- `db.routes.find({$expr:{$eq:[\"$airplane\", \"CR2\"]}})` - using `$expr`\n",
    "\n",
    "### Common Use Cases:\n",
    "- Compare one field with another in the same document.\n",
    "- Use computed values for filtering.\n",
    "- Combine logical and arithmetic expressions for advanced filtering.\n",
    "\n",
    "### key points:\n",
    "- `$expr` can be slower than regular queries, especially on large collections, as it evaluates each document individually.\n",
    "- Queries using `$expr` often cannot use indexes efficiently. Use it only when necessary for complex queries.\n",
    "- If the query gets too complex, consider using the aggregation pipeline for better readability and flexibility."
   ]
  },
  {
   "cell_type": "markdown",
   "id": "296502b0-ed2f-40ba-b1db-b3f732d5d6c7",
   "metadata": {},
   "source": [
    "# element operators\n",
    "\n",
    "- `$exists` : returns documents that contain the specified fields. syntax- `{field:{$exists: <boolean>}}\n",
    "- `$type` : returns fields that contain values of a specific data type. syntax- `{field:{$type: <BSON type>}}` OR `{field: {$type:[<BSON type1>, <BSON type2>, ...]}}`"
   ]
  },
  {
   "cell_type": "markdown",
   "id": "a459beb6-47b4-4b09-b3cb-90734f3648f3",
   "metadata": {},
   "source": [
    "# cursor method\n",
    "\n",
    "- count() : returns the number of documents in the result set.\n",
    "- sort() : orders the documents based on specified fields\n",
    "- limit() : limits the number of documents returned\n",
    "- skip() : skips the first X number of documents\n",
    "- size() : size is like count in that it returns a count of the documents, however it should be used when you've applied skip or limit to your records.\n",
    "\n",
    "**Examples:**\n",
    "\n",
    "- `db.trips.find().count()`\n",
    "- `db.trips.find({\"tripduration\":{$gt:300}}).count()`\n",
    "- `db.trips.find({\"tripduration\":{$gt:300, $lt:400}}).count()`\n",
    "- `db.trips.find({\"tripduration\":{$gt:300, $lt:400}}).sort({\"tripduration\":-1})` - descending order\n",
    "- `db.trips.find({\"tripduration\":{$gt:300, $lt:400}}).sort({\"tripduration\":1})` - ascending order\n",
    "- `db.trips.find({\"tripduration\":{$gt:300, $lt:400}}).sort({\"start station name\":1, \"tripduration\":-1})`\n",
    "- `db.trips.find().limit(12)`\n",
    "- `db.trips.find().limit(12).count()`\n",
    "- `db.trips.find().limit(12).size()`"
   ]
  },
  {
   "cell_type": "markdown",
   "id": "7fd91e03-e5c4-4260-bbc3-a496ce95a362",
   "metadata": {},
   "source": [
    "# projection\n",
    "\n",
    "db.collection.find({query},{projection})\n",
    "\n",
    "- `db.companies.find({},{\"name\":1, \"founded_year\" :1})` -  return id, name and founded_year fields\n",
    "- `db.companies.find({},{\"name\":1, \"founded_year\" :1, \"_id\":0})` - will not return id field"
   ]
  },
  {
   "cell_type": "markdown",
   "id": "000696bd-eb84-47a1-8ccc-bb9b22e12752",
   "metadata": {},
   "source": [
    "# querying ebmedded documents\n",
    "\n",
    "- db.inspections.find({\"address.zip\":11427})"
   ]
  },
  {
   "cell_type": "markdown",
   "id": "c3fd7fdc-28c8-48f6-b780-cb00fbb39cdd",
   "metadata": {},
   "source": [
    "# querying arrays\n",
    "\n",
    "- db.posts.find({\"tags\":\"roof\"}, {\"tags\" :1})\n",
    "- db.posts.find({\"tags\": [\"current\", \"quartz\", \"textbook\", \"bus\", \"roof\", \"lentil\", \"flute\", \"mile\", \"spain\", \"sagittarius\"]}, {\"tags\" :1}) - return documents with matching order of tags\n",
    "\n",
    "- `$all` : returns all documents where the value of a field is an array that contains all the specified elements and ordering does not matter. syntax- `db.collection.find({field:{$all: [value1, value2 ...]}})`\n",
    "\n",
    "- `$size` : returns all documents that match the specified array size. syntax- `db.collection.find({field:{$size: value}})`\n",
    "\n",
    "- db.grades.find({\"scores.type\":\"exam\"})\n",
    "\n",
    "- db.grades.find({\"scores.type\":\"exam\", \"scores.score\": {$gt:80}})\n",
    "\n",
    "Above query will not give desired result. To get desired result we need to user `$elemMatch`.\n",
    "\n",
    "- `$elemMatch` : returns documents that contain an array field with an element that contains the matching criteria. syntax- `db.collection.find({field:{$elemMatch:{{query1},{query2},..}}})`\n",
    "\n",
    "- db.grades.find({\"scores\": {$elemMatch: {\"type\":\"exam\", \"score\": {Sgt:80}}}})"
   ]
  },
  {
   "cell_type": "markdown",
   "id": "43632403-cac0-414f-9018-da198cdd9082",
   "metadata": {},
   "source": [
    "# inserting documents\n",
    "\n",
    "- db.testcollection.insert({\"name\": \"Tom Hanks\", \"profession\": \"actor\"}) -  id genertaed automatically\n",
    "- db.testcollection.insert({\"_id\":123, \"name\": \"Tom Hanks\", \"profession\": \"actor\"}) - specifying id manually\n",
    "- db.testcollection.insert({\"name\":\"Al Pacino\", \"films\": [\"Godfather trilogy\", \"Scarface\", \"Serpico\"], \"awards\": {\"academy\": true, \"golden globes\":true}})\n",
    "\n",
    "- db.testcollection.insert([{\"name\": \"ramesh\", \"salary\":200}, {\"name\": \"rajesh\", \"salary\":250}, {\"name\": \"ganesh\", \"salary\":300}]) - inserting multiple documents\n"
   ]
  },
  {
   "cell_type": "markdown",
   "id": "7ce0c235-0311-4ee6-aa40-977116d9a8ea",
   "metadata": {},
   "source": [
    "# deleting documents\n",
    "\n",
    "- db.testcollection.deleteOne({\"name\":\"ramesh\"})\n",
    "- db.testcollection.deleteMany({\"salary\":{$lt:260}})"
   ]
  },
  {
   "cell_type": "markdown",
   "id": "5de4165e-2905-4a38-9a89-8aa828ffbb25",
   "metadata": {},
   "source": [
    "# `Updating Documents\n",
    "\n",
    "- syntax- `db.collection.updateOne({filter}.{update},{options})`\n",
    "- syntax- `db.collection.updateMany({filter}.{update},{options})`\n",
    "\n",
    "- `db.collection.updateOne({filter}, {$set:{field:value, ...},{options})`\n",
    "- `db.coliection.updateMany({fiiter}, {$set:{field:vaiue, ...}, {options})`\n",
    "\n",
    "**Examples:**\n",
    "\n",
    "- `db.people.updateOne({\"profession\": \"chef\"}, {$set: {\"profession\": \"cook\"}})`\n",
    "- `db.people.updateMany({\"profession\": \"chef\"}, {$set: {\"profession\": \"cook\"}})`\n",
    "- `db.people.updateMany({\"name\": \"Jess Raymond\"}, {$set:{\"hobbies_list\":[\"swimming\", \"reading\" ]}})`\n",
    "\n",
    "if we update field with `$set` that doesn't exist then that field will be created.\n",
    "\n",
    "- `db.people.updateMany({}, {$set:{\"new_field\":1}})`\n",
    "- `db.people.updateMany({\"name\": \"Jess Raymond\"), {$set: {\"profession\":\"architect\", \"age\" :3072}})` - updating mutiple fields"
   ]
  },
  {
   "cell_type": "markdown",
   "id": "037d7f23-80d3-45b8-abea-3207347b9f8f",
   "metadata": {},
   "source": [
    "# update operators\n",
    "\n",
    "- `$set` : sets the value of a field in a document. If the field does not exist, it creates the field and sets the value.\n",
    "- `$unset` : removes a specified field from a document.\n",
    "- `$inc` : increments the value of a field by a specified amount. If the field doesn’t exist, it is created and initialized to the increment value.\n",
    "- `$rename` : renames a field in a document.\n",
    "- `$push` : adds an element to an array field. If the field doesn’t exist, it creates an array and adds the element.\n",
    "\n",
    "**Examples:**\n",
    "\n",
    "- `db.people.updateMany({}, {$unset: {\"new_field\":\"\"}, $rename:{\"hobbies_list\":\"hobbies\"}})`\n",
    "- `db.people.updateMany({\"name\": \"Meera Patel\"}, {$push: {\"hobbies\": \"reading\"}})`\n",
    "- `db.people.updateMany({}, {$inc:{\"age\":1}})`"
   ]
  },
  {
   "cell_type": "markdown",
   "id": "d660c52e-9434-48df-bd75-10010fa648ca",
   "metadata": {},
   "source": [
    "# upsert\n",
    "\n",
    "The term upsert is a combination of update and insert. It refers to an operation that either updates an existing document if it matches the query or inserts a new document if no match is found.\n",
    "\n",
    "- `db.people.updateMany({\"name\": \"unknown\"}, {$set: {\"age\" :25}})` - no document inserted or changed\n",
    "- `db.people.updateMany({\"name\": \"unknown\"}, {$set: {\"age\" :25}}, {upsert:true})` "
   ]
  },
  {
   "cell_type": "markdown",
   "id": "30898ebe-d2d5-4322-bee1-50284e13782e",
   "metadata": {},
   "source": [
    "# $match\n",
    "\n",
    "db.collection.aggregate([{stage 1}, {stage 2}, ... {stage N}],{options})\n",
    "\n",
    "- `db.companies.aggregate([{$match: {\"founded_year\": {$gte:2005, $lte:2010}}}])`\n",
    "- `db.companies.aggregate([{$match:{\"founded_year\":{$in: [2005, 2006,2007,2008, 2009, 2010]}}})\n",
    "- `db.grades.aggregate([{$match:{\"class_id\":116}}])`\n",
    "- `db.grades.aggregate([{$match:{\"scores\": {$elemMatch: {\"type\": \"exam\", \"score\": {Sgt:85}}}}}])`"
   ]
  },
  {
   "cell_type": "markdown",
   "id": "7755d9b0-e8d5-4eb9-9949-e56f8a8ec657",
   "metadata": {},
   "source": [
    "# $project\n",
    "\n",
    "- `$project` stage can occur multiple times in pipeline.\n",
    "\n",
    "- `db.companies.aggregate([{$match: {\"founded_year\": {$gte:2005,$lte:2010}}}, {$project: {\"founded_year\":1, \"category_code\": 1}}])`\n",
    "- `db.companies.aggregate([{$match: {\"founded_year\": {$gte:2005,$lte:2010}}}, {$project: {\"founded_year\":1, \"category_code\": 1, \"_id\":0}}])`\n",
    "- `db.companies.aggregate([{$project:{\"external_links.external_url\":1,\"_id\":0}}])`\n",
    "- `db.companies.aggregate([{$project:{\"number_of_employees\":1,\"_id\":0}}])`\n",
    "- `db.companies.aggregate([{$project:\"_id\":0,\"number_of_employees\":1,\"no_of_emp_new\":\"$number_of_employees\"}])`\n",
    "\n",
    "- `db.companies.aggregate([{$project:{\"_id\":0, \"number_of_employees\":1, \"number_of_employees_K\": {$divide: [\"$number_of_employees\", 100]}}}])`\n",
    "- `db.companies.aggregate([{$project: {\"name\":1, \"founded_year\" :1,\"_id\" :0}}])`\n",
    "- `db.companies.aggregate([{$project: {\"name\":1, \"founded_year\": \"$name\", \"_id\" :0}}])`\n",
    "- `db.companies.aggregate([{$project: {\"company_name\": \"$name\", \"founded_year\": \"$name\", \"_id\" :0}}])`"
   ]
  },
  {
   "cell_type": "markdown",
   "id": "6b38e148-ccaf-4742-bf0a-b7416e778e60",
   "metadata": {},
   "source": [
    "# arithmetic expression operator\n",
    "\n",
    "- `$add` : syntax- `{$add: [expression1, expression2,...expressionN]}`\n",
    "- `$subtract` : syntax- `{$subtract: [expression1, expression2]}`\n",
    "- `$divide` : syntax- `{$divide: [expression1, expression2]}`\n",
    "- `$multiply` : syntax- `{$multiply: [expression1, expression2,...expressionN]}`\n",
    "- `$round` : syntax- `{$round:[expression, no_of_decimals]}`\n",
    "\n",
    "**Examples:**\n",
    "\n",
    "- `db.trips.aggregate([{$project: {\"tripduration\":1, \"tripduration_hrs\":{$divide:[\"$tripduration\", 60]}}}])`\n",
    "- `db.trips.aggregate([{$project: {tripduration: 1,tripduration_hrs: { $round: [{ $divide: [\"$tripduration\", 60] }, 1] }}}])`\n",
    "\n",
    "- `db.trips.aggregate([{$match:{\"birth_year\":{$gt:{$multiply:[\"$tripduration\",31}}}}])` this will not work. Here is correct query:\n",
    "- `db.trips.aggregate([{$match: {$expr: {$gt:[{$multiply:[\"$tripduration\",31), \"$birth_year\"]}]}}])`"
   ]
  },
  {
   "cell_type": "markdown",
   "id": "1fcfee64-7c02-4475-ade1-27e83cdd598d",
   "metadata": {},
   "source": [
    "# string expression operator\n",
    "\n",
    "- `$concat` : syntax- `{$concat: [expression1, expression2,... expressionN]}`\n",
    "- `$toUpper` : syntax- `{$toUpper: expression}`\n",
    "- `$toLower` : syntax- `{$toLower: expression}`\n",
    "- `regexMatch` : syntax- `{$regexMatch:{input:expression, regex:expression, options:expression}}`\n",
    "\n",
    "**Examples:**\n",
    "\n",
    "- `db.trips.aggregate([{$project:{\"start station name\":{$toUpper:\"$start station name\"}}}])`\n",
    "- `db.trips.aggregate([{$project:{\"start station name\":1, \"howard_flag\": {$regexMatch:{input: \"$start station name\", regex: \"Howard\"}}}}])`\n",
    "- `db.trips.aggregate([{$project:{\"start station name\":1, \"journey\":{$concat: [\"$start station name\",\" - \",\"$end station name\"]}}}])`"
   ]
  },
  {
   "cell_type": "markdown",
   "id": "8a20f5e8-7b42-46d4-9194-41bdf2f71f4a",
   "metadata": {},
   "source": [
    "# date expression operator\n",
    "\n",
    "- `$dateAdd` : syntax- `{$dateAdd:{startDate:Expression, unit:Expression, amount:Expression, timezone:Expression}}`\n",
    "- `$dateDiff` : syntax- `{$dateDiff: {startDate:Expression, endDate:Expression, unit:Expression, timezone:Expression, startOfWeek:string}}`\n",
    "- `$month` : syntax- `{$month: Expression}`\n",
    "\n",
    "**Examples:**\n",
    "\n",
    "- `db.trips.aggregate([{$project: {\"start time\":1, \"month_no\": {$month: \"$start time\" }}}]`\n",
    "    "
   ]
  },
  {
   "cell_type": "markdown",
   "id": "bcfd7337-25ae-4afc-a4fb-ba2444c9e281",
   "metadata": {},
   "source": [
    "# comparison expression operator\n",
    "\n",
    "- `{operator:[expression1, expression2]}`\n",
    "- Query language syntax- `{field:{operator: value}}`\n",
    "\n",
    "**Examples:**\n",
    "\n",
    "- `db.trips.aggregate([{$match: {\"tripduration\": {$gt:1007}}])` - query operator syntax\n",
    "- `db.trips.aggregate({$match: {$expr:{$gt:[\"$tripduration\", 1003]}}})`\n",
    "\n",
    "Remember in `$project` stage we can use expression operator without `$expr`.\n",
    "\n",
    "- `db.trips.aggregate([{$project:[\"tripduration\":1, \"over100flag\":{$gt:[\"$tripduration\",1003]}}}])`\n",
    "- `db.trips.aggregate([{$project: [\"tripduration\":1, \"over100flag\":{\"tripduration\":{Sgt:100}}}])` - Error"
   ]
  },
  {
   "cell_type": "markdown",
   "id": "b21709ee-d29e-48e9-bf8d-fd9b0b6ff3bd",
   "metadata": {},
   "source": [
    "# Array Expression Operators\n",
    "\n"
   ]
  },
  {
   "cell_type": "code",
   "execution_count": null,
   "id": "fee2fa07-1118-4cb7-8597-245dce06ed49",
   "metadata": {},
   "outputs": [],
   "source": []
  },
  {
   "cell_type": "code",
   "execution_count": null,
   "id": "f940a149-728f-4415-a422-c45e741f9d89",
   "metadata": {},
   "outputs": [],
   "source": []
  },
  {
   "cell_type": "code",
   "execution_count": null,
   "id": "9017810f-cf5f-4ea2-9f44-4e509a15f40d",
   "metadata": {},
   "outputs": [],
   "source": []
  }
 ],
 "metadata": {
  "kernelspec": {
   "display_name": "Python 3 (ipykernel)",
   "language": "python",
   "name": "python3"
  },
  "language_info": {
   "codemirror_mode": {
    "name": "ipython",
    "version": 3
   },
   "file_extension": ".py",
   "mimetype": "text/x-python",
   "name": "python",
   "nbconvert_exporter": "python",
   "pygments_lexer": "ipython3",
   "version": "3.9.6"
  }
 },
 "nbformat": 4,
 "nbformat_minor": 5
}
