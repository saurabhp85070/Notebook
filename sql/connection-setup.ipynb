{
 "cells": [
  {
   "cell_type": "markdown",
   "id": "4dfdd429-fb96-40c2-926f-20cefd9b14f2",
   "metadata": {},
   "source": [
    "# Connecting SQLite"
   ]
  },
  {
   "cell_type": "code",
   "execution_count": 1,
   "id": "c78736d5-df51-4061-8726-c2e9e355d9ee",
   "metadata": {},
   "outputs": [],
   "source": [
    "import pandas as pd\n",
    "import sqlite3"
   ]
  },
  {
   "cell_type": "code",
   "execution_count": 3,
   "id": "f5bda256-3a9e-4e5e-bdc4-cda01cd5a71c",
   "metadata": {},
   "outputs": [
    {
     "name": "stdout",
     "output_type": "stream",
     "text": [
      "Collecting ipython-sql\n",
      "  Using cached ipython_sql-0.5.0-py3-none-any.whl (20 kB)\n",
      "Requirement already satisfied: six in e:\\notebook\\notebook_env\\lib\\site-packages (from ipython-sql) (1.16.0)\n",
      "Collecting sqlalchemy>=2.0\n",
      "  Using cached SQLAlchemy-2.0.31-cp39-cp39-win_amd64.whl (2.1 MB)\n",
      "Collecting ipython-genutils\n",
      "  Using cached ipython_genutils-0.2.0-py2.py3-none-any.whl (26 kB)\n",
      "Requirement already satisfied: ipython in e:\\notebook\\notebook_env\\lib\\site-packages (from ipython-sql) (8.18.1)\n",
      "Collecting sqlparse\n",
      "  Using cached sqlparse-0.5.0-py3-none-any.whl (43 kB)\n",
      "Collecting prettytable\n",
      "  Using cached prettytable-3.10.0-py3-none-any.whl (28 kB)\n",
      "Requirement already satisfied: typing-extensions>=4.6.0 in e:\\notebook\\notebook_env\\lib\\site-packages (from sqlalchemy>=2.0->ipython-sql) (4.12.2)\n",
      "Collecting greenlet!=0.4.17\n",
      "  Using cached greenlet-3.0.3-cp39-cp39-win_amd64.whl (290 kB)\n",
      "Requirement already satisfied: exceptiongroup in e:\\notebook\\notebook_env\\lib\\site-packages (from ipython->ipython-sql) (1.2.1)\n",
      "Requirement already satisfied: pygments>=2.4.0 in e:\\notebook\\notebook_env\\lib\\site-packages (from ipython->ipython-sql) (2.18.0)\n",
      "Requirement already satisfied: decorator in e:\\notebook\\notebook_env\\lib\\site-packages (from ipython->ipython-sql) (5.1.1)\n",
      "Requirement already satisfied: colorama in e:\\notebook\\notebook_env\\lib\\site-packages (from ipython->ipython-sql) (0.4.6)\n",
      "Requirement already satisfied: jedi>=0.16 in e:\\notebook\\notebook_env\\lib\\site-packages (from ipython->ipython-sql) (0.19.1)\n",
      "Requirement already satisfied: matplotlib-inline in e:\\notebook\\notebook_env\\lib\\site-packages (from ipython->ipython-sql) (0.1.7)\n",
      "Requirement already satisfied: traitlets>=5 in e:\\notebook\\notebook_env\\lib\\site-packages (from ipython->ipython-sql) (5.14.3)\n",
      "Requirement already satisfied: stack-data in e:\\notebook\\notebook_env\\lib\\site-packages (from ipython->ipython-sql) (0.6.3)\n",
      "Requirement already satisfied: prompt-toolkit<3.1.0,>=3.0.41 in e:\\notebook\\notebook_env\\lib\\site-packages (from ipython->ipython-sql) (3.0.47)\n",
      "Requirement already satisfied: parso<0.9.0,>=0.8.3 in e:\\notebook\\notebook_env\\lib\\site-packages (from jedi>=0.16->ipython->ipython-sql) (0.8.4)\n",
      "Requirement already satisfied: wcwidth in e:\\notebook\\notebook_env\\lib\\site-packages (from prompt-toolkit<3.1.0,>=3.0.41->ipython->ipython-sql) (0.2.13)\n",
      "Requirement already satisfied: executing>=1.2.0 in e:\\notebook\\notebook_env\\lib\\site-packages (from stack-data->ipython->ipython-sql) (2.0.1)\n",
      "Requirement already satisfied: asttokens>=2.1.0 in e:\\notebook\\notebook_env\\lib\\site-packages (from stack-data->ipython->ipython-sql) (2.4.1)\n",
      "Requirement already satisfied: pure-eval in e:\\notebook\\notebook_env\\lib\\site-packages (from stack-data->ipython->ipython-sql) (0.2.2)\n",
      "Installing collected packages: greenlet, sqlparse, sqlalchemy, prettytable, ipython-genutils, ipython-sql\n",
      "Successfully installed greenlet-3.0.3 ipython-genutils-0.2.0 ipython-sql-0.5.0 prettytable-3.10.0 sqlalchemy-2.0.31 sqlparse-0.5.0\n"
     ]
    },
    {
     "name": "stderr",
     "output_type": "stream",
     "text": [
      "WARNING: You are using pip version 21.1.3; however, version 24.1 is available.\n",
      "You should consider upgrading via the 'e:\\notebook\\notebook_env\\scripts\\python.exe -m pip install --upgrade pip' command.\n"
     ]
    }
   ],
   "source": [
    "!pip install ipython-sql"
   ]
  },
  {
   "cell_type": "code",
   "execution_count": 4,
   "id": "907e701e-84b0-4ea5-b5d1-6dbcf6136e34",
   "metadata": {},
   "outputs": [
    {
     "data": {
      "text/html": [
       "<div>\n",
       "<style scoped>\n",
       "    .dataframe tbody tr th:only-of-type {\n",
       "        vertical-align: middle;\n",
       "    }\n",
       "\n",
       "    .dataframe tbody tr th {\n",
       "        vertical-align: top;\n",
       "    }\n",
       "\n",
       "    .dataframe thead th {\n",
       "        text-align: right;\n",
       "    }\n",
       "</style>\n",
       "<table border=\"1\" class=\"dataframe\">\n",
       "  <thead>\n",
       "    <tr style=\"text-align: right;\">\n",
       "      <th></th>\n",
       "      <th>name</th>\n",
       "      <th>age</th>\n",
       "      <th>salary</th>\n",
       "    </tr>\n",
       "  </thead>\n",
       "  <tbody>\n",
       "    <tr>\n",
       "      <th>0</th>\n",
       "      <td>ramesh</td>\n",
       "      <td>12</td>\n",
       "      <td>10000</td>\n",
       "    </tr>\n",
       "    <tr>\n",
       "      <th>1</th>\n",
       "      <td>suresh</td>\n",
       "      <td>34</td>\n",
       "      <td>20000</td>\n",
       "    </tr>\n",
       "    <tr>\n",
       "      <th>2</th>\n",
       "      <td>mahesh</td>\n",
       "      <td>25</td>\n",
       "      <td>13400</td>\n",
       "    </tr>\n",
       "    <tr>\n",
       "      <th>3</th>\n",
       "      <td>ganesh</td>\n",
       "      <td>29</td>\n",
       "      <td>28480</td>\n",
       "    </tr>\n",
       "  </tbody>\n",
       "</table>\n",
       "</div>"
      ],
      "text/plain": [
       "     name  age  salary\n",
       "0  ramesh   12   10000\n",
       "1  suresh   34   20000\n",
       "2  mahesh   25   13400\n",
       "3  ganesh   29   28480"
      ]
     },
     "execution_count": 4,
     "metadata": {},
     "output_type": "execute_result"
    }
   ],
   "source": [
    "df = pd.DataFrame({'name': ['ramesh', 'suresh', 'mahesh', 'ganesh'],\n",
    "                   'age': [12, 34, 25, 29],\n",
    "                   'salary': [10000, 20000, 13400, 28480]})\n",
    "df"
   ]
  },
  {
   "cell_type": "code",
   "execution_count": 5,
   "id": "d1952c92-3d89-4ded-aa78-6af00d4a7eb5",
   "metadata": {},
   "outputs": [],
   "source": [
    "cnn = sqlite3.connect('jupyter_sql.db')"
   ]
  },
  {
   "cell_type": "code",
   "execution_count": 6,
   "id": "c2130c16-2e6d-4a28-979b-a25fb37bea0a",
   "metadata": {},
   "outputs": [
    {
     "data": {
      "text/plain": [
       "4"
      ]
     },
     "execution_count": 6,
     "metadata": {},
     "output_type": "execute_result"
    }
   ],
   "source": [
    "df.to_sql('employee', cnn)"
   ]
  },
  {
   "cell_type": "code",
   "execution_count": 2,
   "id": "11fa1bef-6396-458c-9bc0-c725f8935bf1",
   "metadata": {},
   "outputs": [],
   "source": [
    "%load_ext sql"
   ]
  },
  {
   "cell_type": "code",
   "execution_count": 3,
   "id": "c71ebd48-8fb0-45c7-b810-f6a03b560151",
   "metadata": {},
   "outputs": [
    {
     "data": {
      "text/html": [
       "<span style=\"None\">Connecting to &#x27;sqlite:///jupyter_sql.db&#x27;</span>"
      ],
      "text/plain": [
       "Connecting to 'sqlite:///jupyter_sql.db'"
      ]
     },
     "metadata": {},
     "output_type": "display_data"
    }
   ],
   "source": [
    "%sql sqlite:///jupyter_sql.db"
   ]
  },
  {
   "cell_type": "code",
   "execution_count": 4,
   "id": "166afd5f-b43a-4e8e-937d-430b18d5bcf7",
   "metadata": {},
   "outputs": [
    {
     "data": {
      "text/html": [
       "<span style=\"None\">Running query in &#x27;sqlite:///jupyter_sql.db&#x27;</span>"
      ],
      "text/plain": [
       "Running query in 'sqlite:///jupyter_sql.db'"
      ]
     },
     "metadata": {},
     "output_type": "display_data"
    },
    {
     "data": {
      "text/html": [
       "<table>\n",
       "    <thead>\n",
       "        <tr>\n",
       "            <th>index</th>\n",
       "            <th>name</th>\n",
       "            <th>age</th>\n",
       "            <th>salary</th>\n",
       "        </tr>\n",
       "    </thead>\n",
       "    <tbody>\n",
       "        <tr>\n",
       "            <td>0</td>\n",
       "            <td>ramesh</td>\n",
       "            <td>12</td>\n",
       "            <td>10000</td>\n",
       "        </tr>\n",
       "        <tr>\n",
       "            <td>1</td>\n",
       "            <td>suresh</td>\n",
       "            <td>34</td>\n",
       "            <td>20000</td>\n",
       "        </tr>\n",
       "        <tr>\n",
       "            <td>2</td>\n",
       "            <td>mahesh</td>\n",
       "            <td>25</td>\n",
       "            <td>13400</td>\n",
       "        </tr>\n",
       "        <tr>\n",
       "            <td>3</td>\n",
       "            <td>ganesh</td>\n",
       "            <td>29</td>\n",
       "            <td>28480</td>\n",
       "        </tr>\n",
       "    </tbody>\n",
       "</table>"
      ],
      "text/plain": [
       "+-------+--------+-----+--------+\n",
       "| index |  name  | age | salary |\n",
       "+-------+--------+-----+--------+\n",
       "|   0   | ramesh |  12 | 10000  |\n",
       "|   1   | suresh |  34 | 20000  |\n",
       "|   2   | mahesh |  25 | 13400  |\n",
       "|   3   | ganesh |  29 | 28480  |\n",
       "+-------+--------+-----+--------+"
      ]
     },
     "execution_count": 4,
     "metadata": {},
     "output_type": "execute_result"
    }
   ],
   "source": [
    "%%sql\n",
    "\n",
    "select * from employee;"
   ]
  },
  {
   "cell_type": "code",
   "execution_count": null,
   "id": "b28be84b-313f-4d4a-ab42-1ce150fbf796",
   "metadata": {},
   "outputs": [],
   "source": []
  },
  {
   "cell_type": "code",
   "execution_count": null,
   "id": "4b46341c-1f8d-48fd-b4ae-68eb6fe5a5c8",
   "metadata": {},
   "outputs": [],
   "source": []
  },
  {
   "cell_type": "code",
   "execution_count": null,
   "id": "ec82507d-af78-422a-966d-3b5bc25a70a5",
   "metadata": {},
   "outputs": [],
   "source": []
  },
  {
   "cell_type": "markdown",
   "id": "80c17395-d936-4461-8ea0-234d147c6b53",
   "metadata": {},
   "source": [
    "# Connecting DuckDB"
   ]
  },
  {
   "cell_type": "code",
   "execution_count": 1,
   "id": "86f5f27c-7354-44ef-9a50-0207a3add2eb",
   "metadata": {},
   "outputs": [
    {
     "name": "stderr",
     "output_type": "stream",
     "text": [
      "WARNING: You are using pip version 21.1.3; however, version 24.1 is available.\n",
      "You should consider upgrading via the 'e:\\notebook\\notebook_env\\scripts\\python.exe -m pip install --upgrade pip' command.\n",
      "WARNING: You are using pip version 21.1.3; however, version 24.1 is available.\n",
      "You should consider upgrading via the 'e:\\notebook\\notebook_env\\scripts\\python.exe -m pip install --upgrade pip' command.\n",
      "WARNING: You are using pip version 21.1.3; however, version 24.1 is available.\n",
      "You should consider upgrading via the 'e:\\notebook\\notebook_env\\scripts\\python.exe -m pip install --upgrade pip' command.\n"
     ]
    }
   ],
   "source": [
    "!pip install --quiet duckdb\n",
    "!pip install --quiet jupysql\n",
    "!pip install --quiet duckdb-engine"
   ]
  },
  {
   "cell_type": "code",
   "execution_count": 1,
   "id": "a59b981f-c5ae-4c03-9ae3-3b3ef0965937",
   "metadata": {},
   "outputs": [
    {
     "name": "stdout",
     "output_type": "stream",
     "text": [
      "There's a new jupysql version available (0.10.17), you're running 0.10.10. To upgrade: pip install jupysql --upgrade\n",
      "Deploy Flask apps for free on Ploomber Cloud! Learn more: https://ploomber.io/s/signup\n"
     ]
    }
   ],
   "source": [
    "import duckdb\n",
    "import pandas as pd\n",
    "# No need to import sqlalchemy or duckdb_engine\n",
    "#  JupySQL will use SQLAlchemy to auto-detect the driver needed based on your connection string!\n",
    "\n",
    "# Import jupysql Jupyter extension to create SQL cells\n",
    "%load_ext sql"
   ]
  },
  {
   "cell_type": "markdown",
   "id": "44832f4a-a9cb-4c4a-a12d-6db501b2c15b",
   "metadata": {},
   "source": [
    "We configure jupysql to return data as a Pandas dataframe and have less verbose output"
   ]
  },
  {
   "cell_type": "code",
   "execution_count": 2,
   "id": "13dff085-2beb-4507-8d09-be3064a99bc7",
   "metadata": {},
   "outputs": [],
   "source": [
    "%config SqlMagic.autopandas = True\n",
    "%config SqlMagic.feedback = False\n",
    "%config SqlMagic.displaycon = False"
   ]
  },
  {
   "cell_type": "code",
   "execution_count": 8,
   "id": "4af977d8-46ae-4863-a96e-6f10ccfffdfc",
   "metadata": {},
   "outputs": [],
   "source": [
    "# Connect to a new or existing DuckDB database\n",
    "conn = duckdb.connect('my_database.duckdb')\n"
   ]
  },
  {
   "cell_type": "code",
   "execution_count": 9,
   "id": "3c3d3502-de42-4e0f-a2d9-c6e06623b35f",
   "metadata": {},
   "outputs": [
    {
     "data": {
      "text/html": [
       "<div>\n",
       "<style scoped>\n",
       "    .dataframe tbody tr th:only-of-type {\n",
       "        vertical-align: middle;\n",
       "    }\n",
       "\n",
       "    .dataframe tbody tr th {\n",
       "        vertical-align: top;\n",
       "    }\n",
       "\n",
       "    .dataframe thead th {\n",
       "        text-align: right;\n",
       "    }\n",
       "</style>\n",
       "<table border=\"1\" class=\"dataframe\">\n",
       "  <thead>\n",
       "    <tr style=\"text-align: right;\">\n",
       "      <th></th>\n",
       "      <th>name</th>\n",
       "      <th>age</th>\n",
       "      <th>salary</th>\n",
       "    </tr>\n",
       "  </thead>\n",
       "  <tbody>\n",
       "    <tr>\n",
       "      <th>0</th>\n",
       "      <td>ramesh</td>\n",
       "      <td>12</td>\n",
       "      <td>10000</td>\n",
       "    </tr>\n",
       "    <tr>\n",
       "      <th>1</th>\n",
       "      <td>suresh</td>\n",
       "      <td>34</td>\n",
       "      <td>20000</td>\n",
       "    </tr>\n",
       "    <tr>\n",
       "      <th>2</th>\n",
       "      <td>mahesh</td>\n",
       "      <td>25</td>\n",
       "      <td>13400</td>\n",
       "    </tr>\n",
       "    <tr>\n",
       "      <th>3</th>\n",
       "      <td>ganesh</td>\n",
       "      <td>29</td>\n",
       "      <td>28480</td>\n",
       "    </tr>\n",
       "  </tbody>\n",
       "</table>\n",
       "</div>"
      ],
      "text/plain": [
       "     name  age  salary\n",
       "0  ramesh   12   10000\n",
       "1  suresh   34   20000\n",
       "2  mahesh   25   13400\n",
       "3  ganesh   29   28480"
      ]
     },
     "execution_count": 9,
     "metadata": {},
     "output_type": "execute_result"
    }
   ],
   "source": [
    "df = pd.DataFrame({'name': ['ramesh', 'suresh', 'mahesh', 'ganesh'],\n",
    "                   'age': [12, 34, 25, 29],\n",
    "                   'salary': [10000, 20000, 13400, 28480]})\n",
    "df"
   ]
  },
  {
   "cell_type": "code",
   "execution_count": 10,
   "id": "3c4df5f9-4a47-4cf9-b7fa-c8d2e3134441",
   "metadata": {},
   "outputs": [
    {
     "name": "stderr",
     "output_type": "stream",
     "text": [
      "C:\\Users\\SAURABH PRAKASH\\AppData\\Local\\Temp\\ipykernel_5004\\3500844613.py:1: UserWarning: pandas only supports SQLAlchemy connectable (engine/connection) or database string URI or sqlite3 DBAPI2 connection. Other DBAPI2 objects are not tested. Please consider using SQLAlchemy.\n",
      "  df.to_sql('employee', conn)\n"
     ]
    },
    {
     "data": {
      "text/plain": [
       "-1"
      ]
     },
     "execution_count": 10,
     "metadata": {},
     "output_type": "execute_result"
    }
   ],
   "source": [
    "df.to_sql('employee', conn)"
   ]
  },
  {
   "cell_type": "code",
   "execution_count": 11,
   "id": "c4457163-f786-4b61-b171-5c71ddbf0b2e",
   "metadata": {},
   "outputs": [],
   "source": [
    "%sql duckdb:///my_database.duckdb\n",
    "\n",
    "# %sql duckdb:///:memory:\n",
    "# %sql duckdb:///path/to/file.db"
   ]
  },
  {
   "cell_type": "code",
   "execution_count": 15,
   "id": "156a02bf-f95e-4fa0-a33c-934c4e5f6e90",
   "metadata": {},
   "outputs": [],
   "source": [
    "input_df = pd.DataFrame.from_dict({\"i\":[1, 2, 3],\n",
    "                                  \"j\":[\"one\", \"two\", \"three\"]})"
   ]
  },
  {
   "cell_type": "code",
   "execution_count": 16,
   "id": "47359031-ea54-4d48-b7c3-9b318cf6efd4",
   "metadata": {},
   "outputs": [
    {
     "data": {
      "text/html": [
       "<div>\n",
       "<style scoped>\n",
       "    .dataframe tbody tr th:only-of-type {\n",
       "        vertical-align: middle;\n",
       "    }\n",
       "\n",
       "    .dataframe tbody tr th {\n",
       "        vertical-align: top;\n",
       "    }\n",
       "\n",
       "    .dataframe thead th {\n",
       "        text-align: right;\n",
       "    }\n",
       "</style>\n",
       "<table border=\"1\" class=\"dataframe\">\n",
       "  <thead>\n",
       "    <tr style=\"text-align: right;\">\n",
       "      <th></th>\n",
       "      <th>total_i</th>\n",
       "    </tr>\n",
       "  </thead>\n",
       "  <tbody>\n",
       "    <tr>\n",
       "      <th>0</th>\n",
       "      <td>6.0</td>\n",
       "    </tr>\n",
       "  </tbody>\n",
       "</table>\n",
       "</div>"
      ],
      "text/plain": [
       "   total_i\n",
       "0      6.0"
      ]
     },
     "execution_count": 16,
     "metadata": {},
     "output_type": "execute_result"
    }
   ],
   "source": [
    "%sql output_df << SELECT sum(i) as total_i FROM input_df\n",
    "output_df # Sql output saved in Pandas dataframe"
   ]
  },
  {
   "cell_type": "code",
   "execution_count": 20,
   "id": "ac20462f-3abc-4024-8f70-1e2f71795add",
   "metadata": {},
   "outputs": [
    {
     "data": {
      "text/html": [
       "<div>\n",
       "<style scoped>\n",
       "    .dataframe tbody tr th:only-of-type {\n",
       "        vertical-align: middle;\n",
       "    }\n",
       "\n",
       "    .dataframe tbody tr th {\n",
       "        vertical-align: top;\n",
       "    }\n",
       "\n",
       "    .dataframe thead th {\n",
       "        text-align: right;\n",
       "    }\n",
       "</style>\n",
       "<table border=\"1\" class=\"dataframe\">\n",
       "  <thead>\n",
       "    <tr style=\"text-align: right;\">\n",
       "      <th></th>\n",
       "      <th>i</th>\n",
       "      <th>j</th>\n",
       "    </tr>\n",
       "  </thead>\n",
       "  <tbody>\n",
       "    <tr>\n",
       "      <th>0</th>\n",
       "      <td>1</td>\n",
       "      <td>one</td>\n",
       "    </tr>\n",
       "    <tr>\n",
       "      <th>1</th>\n",
       "      <td>2</td>\n",
       "      <td>two</td>\n",
       "    </tr>\n",
       "    <tr>\n",
       "      <th>2</th>\n",
       "      <td>3</td>\n",
       "      <td>three</td>\n",
       "    </tr>\n",
       "  </tbody>\n",
       "</table>\n",
       "</div>"
      ],
      "text/plain": [
       "   i      j\n",
       "0  1    one\n",
       "1  2    two\n",
       "2  3  three"
      ]
     },
     "execution_count": 20,
     "metadata": {},
     "output_type": "execute_result"
    }
   ],
   "source": [
    "%%sql \n",
    "select * from input_df"
   ]
  },
  {
   "cell_type": "code",
   "execution_count": 22,
   "id": "128fa565-dd30-4ec7-b0e3-2a5e8228f39e",
   "metadata": {},
   "outputs": [
    {
     "data": {
      "text/html": [
       "<div>\n",
       "<style scoped>\n",
       "    .dataframe tbody tr th:only-of-type {\n",
       "        vertical-align: middle;\n",
       "    }\n",
       "\n",
       "    .dataframe tbody tr th {\n",
       "        vertical-align: top;\n",
       "    }\n",
       "\n",
       "    .dataframe thead th {\n",
       "        text-align: right;\n",
       "    }\n",
       "</style>\n",
       "<table border=\"1\" class=\"dataframe\">\n",
       "  <thead>\n",
       "    <tr style=\"text-align: right;\">\n",
       "      <th></th>\n",
       "      <th>i</th>\n",
       "      <th>j</th>\n",
       "    </tr>\n",
       "  </thead>\n",
       "  <tbody>\n",
       "    <tr>\n",
       "      <th>0</th>\n",
       "      <td>1</td>\n",
       "      <td>one</td>\n",
       "    </tr>\n",
       "    <tr>\n",
       "      <th>1</th>\n",
       "      <td>2</td>\n",
       "      <td>two</td>\n",
       "    </tr>\n",
       "    <tr>\n",
       "      <th>2</th>\n",
       "      <td>3</td>\n",
       "      <td>three</td>\n",
       "    </tr>\n",
       "  </tbody>\n",
       "</table>\n",
       "</div>"
      ],
      "text/plain": [
       "   i      j\n",
       "0  1    one\n",
       "1  2    two\n",
       "2  3  three"
      ]
     },
     "execution_count": 22,
     "metadata": {},
     "output_type": "execute_result"
    }
   ],
   "source": [
    "%sql select * from input_df"
   ]
  },
  {
   "cell_type": "code",
   "execution_count": null,
   "id": "00a3cfb0-d0db-4b2a-b22a-9b3f01711829",
   "metadata": {},
   "outputs": [],
   "source": []
  },
  {
   "cell_type": "code",
   "execution_count": null,
   "id": "9adaf0a4-a820-46d6-9240-7c145cd50681",
   "metadata": {},
   "outputs": [],
   "source": []
  },
  {
   "cell_type": "markdown",
   "id": "03f244d8-6d0c-4ae8-b086-2caaba88ddf9",
   "metadata": {},
   "source": [
    "# Connecting PostgreSql"
   ]
  },
  {
   "cell_type": "code",
   "execution_count": 6,
   "id": "9d97772b-85ed-4edd-85a9-e4d1aec5b238",
   "metadata": {},
   "outputs": [
    {
     "name": "stdout",
     "output_type": "stream",
     "text": [
      "hello\n"
     ]
    }
   ],
   "source": [
    "import pandas as pd\n",
    "\n",
    "print(\"hello\")"
   ]
  },
  {
   "cell_type": "code",
   "execution_count": null,
   "id": "b0af7050-b59f-4062-bebd-6b6a2f39a148",
   "metadata": {},
   "outputs": [],
   "source": []
  },
  {
   "cell_type": "code",
   "execution_count": null,
   "id": "a3d3c1f0-d307-412d-b007-9d3710e4f44b",
   "metadata": {},
   "outputs": [],
   "source": []
  },
  {
   "cell_type": "code",
   "execution_count": null,
   "id": "dba9860b-245e-4e08-a7a4-8e4a4f2f1349",
   "metadata": {},
   "outputs": [],
   "source": []
  },
  {
   "cell_type": "code",
   "execution_count": null,
   "id": "e0f3f6da-86ab-43d6-b891-0173e70a6022",
   "metadata": {},
   "outputs": [],
   "source": []
  },
  {
   "cell_type": "code",
   "execution_count": null,
   "id": "de0ddfa3-12c7-4c9d-ab40-226dc41a6eb2",
   "metadata": {},
   "outputs": [],
   "source": []
  },
  {
   "cell_type": "code",
   "execution_count": null,
   "id": "f657c2e2-3355-48df-9c15-a87ea99be5dc",
   "metadata": {},
   "outputs": [],
   "source": []
  },
  {
   "cell_type": "code",
   "execution_count": null,
   "id": "f976cf92-6697-4533-87c9-1aa7f4d2503a",
   "metadata": {},
   "outputs": [],
   "source": []
  }
 ],
 "metadata": {
  "kernelspec": {
   "display_name": "Python 3 (ipykernel)",
   "language": "python",
   "name": "python3"
  },
  "language_info": {
   "codemirror_mode": {
    "name": "ipython",
    "version": 3
   },
   "file_extension": ".py",
   "mimetype": "text/x-python",
   "name": "python",
   "nbconvert_exporter": "python",
   "pygments_lexer": "ipython3",
   "version": "3.9.6"
  }
 },
 "nbformat": 4,
 "nbformat_minor": 5
}
