{
 "cells": [
  {
   "cell_type": "markdown",
   "id": "c4d59bd1",
   "metadata": {},
   "source": [
    "# JVM, JRE & JDK\n",
    "- `JVM`: It is called a virtual machine because it doesn't physically exist. It is a specification that provides a runtime environment in which Java bytecode can be executed. It can also run those programs which are written in other languages and compiled to Java bytecode. The JVM performs the following main tasks: Loads code, Verifies code, Executes code, Provides runtime environment\n",
    "\n",
    "- `JRE`: The Java Runtime Environment is a set of software tools which are used for developing Java applications. It is used to provide the runtime environment. It is the implementation of JVM. It physically exists. It contains a set of libraries + other files that JVM uses at runtime.\n",
    "\n",
    "- `JDK`: The Java Development Kit (JDK) is a software development environment which is used to develop Java applications and applets. It physically exists. It contains JRE + development tools."
   ]
  },
  {
   "cell_type": "markdown",
   "id": "334cddfb",
   "metadata": {},
   "source": [
    "# Features of Java\n",
    "\n",
    "- Object oriented\n",
    "- robust\n",
    "- multithreaded\n",
    "- secured\n",
    "- architectral neutral"
   ]
  },
  {
   "cell_type": "markdown",
   "id": "0e33d4b0",
   "metadata": {},
   "source": [
    "# What is wrapper class?\n",
    "The wrapper class in Java provides the mechanism to convert primitive into object and object into primitive.\n",
    "\n",
    "**Autoboxing:**\n",
    "The automatic conversion of primitive data type into its corresponding wrapper class is known as autoboxing, for example, byte to Byte, char to Character, int to Integer, long to Long, float to Float, boolean to Boolean, double to Double, and short to Short.\n",
    "\n",
    "    //Autoboxing example of int to Integer  \n",
    "    public class WrapperExample1{  \n",
    "    public static void main(String args[]){  \n",
    "    //Converting int into Integer  \n",
    "    int a=20;  \n",
    "    Integer i=Integer.valueOf(a);//converting int into Integer explicitly  \n",
    "    Integer j=a;//autoboxing, now compiler will write Integer.valueOf(a) internally  \n",
    "\n",
    "    System.out.println(a+\" \"+i+\" \"+j);  \n",
    "    }}  \n",
    "\n",
    "\n",
    "**Unboxing:**\n",
    "The automatic conversion of wrapper type into its corresponding primitive type is known as unboxing. \n",
    "\n",
    "    //Unboxing example of Integer to int  \n",
    "    public class WrapperExample2{    \n",
    "    public static void main(String args[]){    \n",
    "    //Converting Integer to int    \n",
    "    Integer a=new Integer(3);    \n",
    "    int i=a.intValue();//converting Integer to int explicitly  \n",
    "    int j=a;//unboxing, now compiler will write a.intValue() internally    \n",
    "\n",
    "    System.out.println(a+\" \"+i+\" \"+j);    \n",
    "    }}    "
   ]
  },
  {
   "cell_type": "markdown",
   "id": "9057784d",
   "metadata": {},
   "source": [
    "# What is static binding and dynamoc binding?\n",
    "Connecting a method call to the method body is known as binding.\n",
    "\n",
    "**Static binding:**\n",
    "When type of the object is determined at compiled time(by the compiler), it is known as static binding. If there is any private, final or static method in a class, there is static binding.\n",
    "\n",
    "**Dynamic binding:**\n",
    "When type of the object is determined at run-time, it is known as dynamic binding."
   ]
  },
  {
   "cell_type": "markdown",
   "id": "1f1d6522",
   "metadata": {},
   "source": [
    "# Checked Exception and Unchecked Exception\n",
    "\n",
    "**Checked Exception:**'\n",
    "The classes that directly inherit the Throwable class except RuntimeException and Error are known as checked exceptions. For example, IOException, SQLException, etc. Checked exceptions are checked at compile-time.\n",
    "\n",
    "**Unchecked Exception:**\n",
    "The classes that inherit the RuntimeException are known as unchecked exceptions. For example, ArithmeticException, NullPointerException, ArrayIndexOutOfBoundsException, etc. Unchecked exceptions are not checked at compile-time, but they are checked at runtime.\n",
    "\n",
    "**Error:**\n",
    "Error is irrecoverable. Some example of errors are OutOfMemoryError, VirtualMachineError, AssertionError etc."
   ]
  },
  {
   "cell_type": "code",
   "execution_count": null,
   "id": "13dac2f6",
   "metadata": {},
   "outputs": [],
   "source": []
  }
 ],
 "metadata": {
  "kernelspec": {
   "display_name": "Python 3 (ipykernel)",
   "language": "python",
   "name": "python3"
  },
  "language_info": {
   "codemirror_mode": {
    "name": "ipython",
    "version": 3
   },
   "file_extension": ".py",
   "mimetype": "text/x-python",
   "name": "python",
   "nbconvert_exporter": "python",
   "pygments_lexer": "ipython3",
   "version": "3.9.6"
  }
 },
 "nbformat": 4,
 "nbformat_minor": 5
}
