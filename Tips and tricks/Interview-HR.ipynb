{
 "cells": [
  {
   "cell_type": "markdown",
   "id": "55da44c3",
   "metadata": {},
   "source": [
    "# How are you?\n",
    "1. I am doing great, thank you. I hope you are having a good day as well. I am looking forward to our conversation.\n",
    "\n",
    "2. Thank you for asking, i am doing well. I am excited to be here today for this interview and to learn more about the opportunity. "
   ]
  },
  {
   "cell_type": "markdown",
   "id": "a26bbcf7",
   "metadata": {},
   "source": [
    "# Tell me about yourself\n",
    "\n",
    "1. My name is Saurabh prakash. I recently completd my bachelor of technlogy degree with GPA of 8.14 and now i am excited to begin my career in IT. Even though i don't have extensive professional experience, my certification course and internship help me to ....\n",
    "I am a qucik learner who is ready to apply my learning and drive to contribute to development team at your company. \n",
    "\n",
    "2. My name is Saurabh prakash. I recently completed my bachelor of technlogy degree with GPA of 8.14 and now i am excited to begin my career in IT. I am prficient in Python programming but I have also developed/acquired wide range of technical skills like C, C++, java, and SQL and technology like data science, machine learning and web development. I have strong knowledge of OOP and database. I have worked on various projects related to data science and ML which includes Coin currency detection, music genre classification, face attendance system and so on. I have completed few certification courses as well as internship program as well. I possess strong interpersonal and analytical skills, enabling me to quickly adapt to new ideas and technologies. I believe delivering quality work on time. I am very enthusiastic to work here"
   ]
  },
  {
   "cell_type": "markdown",
   "id": "555d49b2",
   "metadata": {},
   "source": [
    "# How to say \"I don't know\" to interviewer if you don't have knowledge of something?\n",
    "\n",
    "1. Thank you for asking this but right now i don't have exact answer bit i will surely do dome research around this and will get back to you.\n",
    "\n",
    "2. Thanking you for bringing this up, but i don't have much knowledge about this. However, i can assure you that i am a fast learner and will be  able to learn quickly.\n",
    "\n",
    "3. I did not understand the question properly. Could you please simplify and rephrase it? I don't want to misinterpret it.\n",
    "\n"
   ]
  },
  {
   "cell_type": "markdown",
   "id": "0dd21226",
   "metadata": {},
   "source": [
    "# What is your greatest strength?\n",
    "\n",
    "1. My greatest strength is my ability to stay organized and manage multiple tasks at once. I can break complex projects down into smaller tasks and efficeint ways to complete them.\n",
    "\n",
    "2. My greatest strength is that i strive to stay abreast of the latest industry trends and technologies, and i'm always looking for new ways to improve.\n",
    "\n",
    "\n",
    "मेरी सबसे बड़ी ताकत यह है कि मैं नवीनतम उद्योग के रुझानों और प्रौद्योगिकियों के बराबर रहने का प्रयास करता हूं, और मैं हमेशा सुधार के नए तरीकों की तलाश में रहता हूं।"
   ]
  },
  {
   "cell_type": "markdown",
   "id": "eb79bbf1",
   "metadata": {},
   "source": [
    "# What is greatest weakness?\n",
    "\n",
    "I am detailed oreinted person. However in situations where deadlines are tight i do feel overwhelmed. But now, i have sincerely worked on my time management skills by prioritizing what is more and less important."
   ]
  },
  {
   "cell_type": "markdown",
   "id": "637ef5c7",
   "metadata": {},
   "source": [
    "# Where do you see yourself in next 5 years?\n",
    "\n",
    "1. I would be exceptionally delighted if i become part of this company because in next 5 years i would love to perceived as an expert software engineer and believe your company is the best training ground for someone like me who has immense passion for this industry. I am equally excited about the prospects of working with some of most brilliant upcoming projects.\n",
    "\n",
    "2. I am very apssionate about software development and i want o continue expanding my knwoledge in this domain/area. Right now i have good knowledge of Python and C++. in addition to mastering these skills i would also like to learn data sciience and blockchain. I am excited about how fast this industry is growing, so i will continue upskill myself and value in this role. Also mentor new hires how they can do same to become a leader."
   ]
  },
  {
   "cell_type": "markdown",
   "id": "ba08ef5c",
   "metadata": {},
   "source": [
    "# Why should i hire you?\n",
    "\n",
    "I have a flexible approach to problem-solving and i am procactive in finding innovative solutions. I also have excellent  communicatio and interpersonal skills wjich are essential for working in a dynamic environment such as this. Overall i am confident that my enthusiasm, technical aptitude and commitment to success will make me an asset your organization."
   ]
  },
  {
   "cell_type": "markdown",
   "id": "f4d750b0",
   "metadata": {},
   "source": [
    "# Why Should i reject you?\n",
    "\n",
    "You shouldn't hire me if you are looking for somebody who thrives in an environment where management strictly prescribes how each task to be done. I am somebody who works better when there are some general guidelines and the desired outcome and i have some leeway(छूट) to figure out my way around it."
   ]
  },
  {
   "cell_type": "markdown",
   "id": "778b0756",
   "metadata": {},
   "source": [
    "# How do handle pressure?\n",
    "\n",
    "I thrive under pressure and i am able to prioritize efficiently to ensure that all tasks are completed in a timely manner. I also make sure to stay focused on the goal and use positive self-talk and affirmations to help me stay motivated."
   ]
  },
  {
   "cell_type": "markdown",
   "id": "c6209899",
   "metadata": {},
   "source": [
    "# Why do you want to work here?\n",
    "\n",
    "I'm excited about the portential to work with the leading experts in the field and contribute to the innovative work this company is doing. I have always been passionate about this industry when i heard about this company. I knew it was the perfect fit for my skills and interests."
   ]
  },
  {
   "cell_type": "markdown",
   "id": "03488352",
   "metadata": {},
   "source": [
    "# Why do want to work with IBM?\n",
    "I'm interested in working at IBM because the company has a rich history of innovation and a strong commitment to pushing the boundaries of technology. IBM's diverse range of projects and global presence offer a unique platform to make a meaningful contribution to the future of technology and business solutions. I'm excited about the prospect of collaborating with a talented team and being part of IBM's legacy of excellence in the tech industry."
   ]
  },
  {
   "cell_type": "markdown",
   "id": "7d19f1eb",
   "metadata": {},
   "source": [
    "# What do you know about IBM?\n",
    "IBM is known for its extensive history in the technology industry, dating back to its founding in 1911.  IBM operates in more than 170 countries worldwide, making it one of the largest and most globally recognized technology companies. Company has a diverse portfolio of products and services, including hardware, software, cloud computing, artificial intelligence (AI), and consulting services. They have made significant advancements in areas such as data analytics, quantum computing, and AI.  IBM has a strong commitment to research and development, with IBM Research being a leading organization in exploring emerging technologies."
   ]
  },
  {
   "cell_type": "markdown",
   "id": "b07ccedb",
   "metadata": {},
   "source": [
    "# Why do you want this job?\n",
    "\n",
    "I want this job because i have skillset to meet the responsibility as mentioned in job description. Furthermore, i believe, this role will give me the opportunity to combine my analytical skills with the hard skills like python, statistical analysis, macine learning that i have acquired in past couple of years. Let me knwo if would like to know any of these in detail."
   ]
  },
  {
   "cell_type": "markdown",
   "id": "0685df2a",
   "metadata": {},
   "source": [
    "# What is salary expectation?\n",
    "\n",
    "1. I would like to be fairly compensated for this role based on my skills and value i bring to the table. Based on experience and research on salary for this role in this region, i am expecting between 5LPA to 6LPA. As per my market researchon salaries for this role, this is a fair ask, and within the range of salaries offered to other candidates. Can you please tell What's salary range for this position? i will definitely consider a resonable offer.\n",
    "\n",
    "`lower range= 10% higher than average market range`\n",
    "\n",
    "`higher range= 80%-90% higher than lower range`\n",
    "\n",
    "2. While i am flexible, i am looking for something between the range of 6-7. Given my skillset and expertise i believe that this is an appropriate range for my level of work but i would love to hear your thoughts.\n",
    "\n",
    "**When reply is no:**I do understand compnay has a budget. however based on my 7 years of experience and skill set, i will be able to immediately contribute in your projects. it would be great if you could reconsider."
   ]
  },
  {
   "cell_type": "markdown",
   "id": "a40ae1d0",
   "metadata": {},
   "source": [
    "# Do you have any question for us?\n",
    "\n",
    "1. How does a regular in company looks like.\n",
    "\n",
    "2. How is success and performmmance for this role gets measured.\n",
    "\n",
    "3. If i hired for this role, what would you want me to achieve on first two months\n",
    "\n",
    "4. What are company's goals for upcoming year"
   ]
  },
  {
   "cell_type": "markdown",
   "id": "ef371483",
   "metadata": {},
   "source": [
    "# How do you handle stressful situations?\n",
    "\n",
    "1. Whenever i face stressful situation, i try to break down situation into smaller, more manageable tasks prioritize them accordingly.\n",
    "\n",
    "2. During stressful situation i keep an open mind anf look for creative solutions that can help me work through problem. i also ensure that take regular breaks to give myself time to relax, refcous and recharge."
   ]
  },
  {
   "cell_type": "markdown",
   "id": "78118989",
   "metadata": {},
   "source": [
    "# Describe yourself in one word?\n",
    "\n",
    "PROACTIVE: I am a proactive person who always looks solution and ways to improve. I like to take the initiative and i am not afraind to take calculated riska.\n",
    "\n",
    "COLLABORATIVE: One word that desribes me best is collabaorative. I work well in teams and value the importance of working to reach common goals. "
   ]
  },
  {
   "cell_type": "markdown",
   "id": "09387f6d",
   "metadata": {},
   "source": [
    "# What makes you stand out from the rest of the candidate?\n",
    "\n",
    "1. I believe that my passion for the position, combined with my educatinal background and experience, makes me stand out from the rest of candidates. I have clear standing understanding of job entails, and i am eager to use my skills to make a  postive impact in this role.\n",
    "\n",
    "2. I bring unique combination or wide range of skills (& experience) to the position that sets me apart from other candidates. For example, i have a strong background inthis industry. i am highly organized and detail oriented. iam confident that ican bring these skills to your organization and help you achieve your goals.\n",
    "\n",
    "3. I am fexible person who is comfortable working independently or in a team setting. i bring strong work ethic and commitment to excellence that will ensure that i am successfuk in this role."
   ]
  },
  {
   "cell_type": "markdown",
   "id": "414fe012",
   "metadata": {},
   "source": [
    "# How do you handle challenging situation?\n",
    "\n",
    "WHen faced with a challenging situation, i like to take a step back and anlayze the issue from different angles. After ssessing the situation, i develop a plan of action that outlines short-term as well as long-term solutions."
   ]
  },
  {
   "cell_type": "markdown",
   "id": "ee365d4a",
   "metadata": {},
   "source": [
    "# Do you have any weaknesses that will affect your performance at work?\n",
    "\n",
    "No mam/sir, certainly not. Before interview i read the job description thoroughly and i have the right skills and qualifcation required for the role."
   ]
  },
  {
   "cell_type": "markdown",
   "id": "1c1535da",
   "metadata": {},
   "source": [
    "# Would you work on night shift and weekend?\n",
    "\n",
    "1. I believe in quality over quantity of work so i wll try to complete work in time with maximum productive output from my side but if there is need to do extra shift once in a whiie, i will be happy to contribute.\n",
    "\n",
    "2. Yes i am not worried about night shifts and weekends because as a fresher my responsibility is to gain knowledge and explore my skills for helping growth of organization. I am felxible to work in night shift."
   ]
  },
  {
   "cell_type": "markdown",
   "id": "c850787a",
   "metadata": {},
   "source": [
    "# Willing to relocate?\n",
    "\n",
    "I am really excited about this opportunity and i feel i could provide great value in this role. I would definitely be open to relocation and looking forward to learning details around this."
   ]
  },
  {
   "cell_type": "markdown",
   "id": "e0c97831",
   "metadata": {},
   "source": []
  },
  {
   "cell_type": "markdown",
   "id": "3d6c2434",
   "metadata": {},
   "source": []
  },
  {
   "cell_type": "markdown",
   "id": "a0f106a7",
   "metadata": {},
   "source": [
    "# Say at the end of interview\n",
    "\n",
    "i want to thank you for your time to speak with me today. i am looking forward to the next steps in the process, and i am confident that my skills are well suited to the position. I there anything that i can provide you withbefore we wrap up"
   ]
  },
  {
   "cell_type": "code",
   "execution_count": null,
   "id": "47789c83",
   "metadata": {},
   "outputs": [],
   "source": []
  },
  {
   "cell_type": "code",
   "execution_count": null,
   "id": "bb8fe42c",
   "metadata": {},
   "outputs": [],
   "source": []
  },
  {
   "cell_type": "code",
   "execution_count": null,
   "id": "07c0ecd9",
   "metadata": {},
   "outputs": [],
   "source": []
  },
  {
   "cell_type": "code",
   "execution_count": null,
   "id": "da2bd816",
   "metadata": {},
   "outputs": [],
   "source": []
  },
  {
   "cell_type": "code",
   "execution_count": null,
   "id": "229adef5",
   "metadata": {},
   "outputs": [],
   "source": []
  },
  {
   "cell_type": "code",
   "execution_count": null,
   "id": "74dd58df",
   "metadata": {},
   "outputs": [],
   "source": []
  },
  {
   "cell_type": "code",
   "execution_count": null,
   "id": "20acfae7",
   "metadata": {},
   "outputs": [],
   "source": []
  }
 ],
 "metadata": {
  "kernelspec": {
   "display_name": "Python 3 (ipykernel)",
   "language": "python",
   "name": "python3"
  },
  "language_info": {
   "codemirror_mode": {
    "name": "ipython",
    "version": 3
   },
   "file_extension": ".py",
   "mimetype": "text/x-python",
   "name": "python",
   "nbconvert_exporter": "python",
   "pygments_lexer": "ipython3",
   "version": "3.9.6"
  }
 },
 "nbformat": 4,
 "nbformat_minor": 5
}
