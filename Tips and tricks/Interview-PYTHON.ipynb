{
 "cells": [
  {
   "cell_type": "markdown",
   "id": "009c90e3",
   "metadata": {},
   "source": [
    "# What is OOP?\n",
    "Object-oriented programming (OOP) is a programming paradigm that uses objects to model real-world entities and their interactions.\n",
    "\n",
    "Object-oriented programming is a programming paradigm that emphasizes the use of objects and classes to organize and structure code."
   ]
  },
  {
   "cell_type": "markdown",
   "id": "2b060a09",
   "metadata": {},
   "source": [
    "# Class, Object, OOP principles\n",
    "\n",
    "**Class:** A class is a blueprint for creating objects, and it defines the attributes and methods that all objects of that type will have.\n",
    "\n",
    "A class have `state(varaibles)`, `behavior(methods, constructor, destructor, inheritance, polymorphism)` and `identity(object's memory address)`.\n",
    "\n",
    "**Object:** An object in Python is an instance of a class. It contains its own set of attributes and methods that are inherited from the class, but can also have their own unique values and behaviors.\n",
    "\n",
    "OOP is based on four main principles:\n",
    "\n",
    "- `Encapsulation:` This principle states that the data and behavior of an object should be bundled together and hidden from the outside world. This makes the object more secure and easier to maintain.\n",
    "\n",
    "Encapsulation is the concept of bundling data (attributes) and methods (functions) that operate on that data into a single unit called an object. It helps hide the internal details of an object and exposes only the necessary interfaces to interact with it, enhancing data security and modularity.\n",
    "\n",
    "- `Abstraction:` This principle states that the internal details of an object should be hidden from the user, and only the essential functionality should be exposed. This makes the code more reusable and easier to understand.\n",
    "\n",
    "Abstraction is the process of simplifying complex reality by modeling classes based on their essential characteristics while ignoring irrelevant details.\n",
    "\n",
    "- `Inheritance:` This principle states that new classes can be created by inheriting from existing classes. This allows for code reuse and the creation of hierarchies of objects.\n",
    "\n",
    "Inheritance allows you to create new classes (derived or subclass) based on existing classes (base or superclass). \n",
    "\n",
    "- `Polymorphism:` This principle states that objects of different types can respond to the same message in different ways. This makes code more flexible and adaptable.\n",
    "\n",
    "Polymorphism means that objects of different classes can be treated as objects of a common superclass."
   ]
  },
  {
   "cell_type": "markdown",
   "id": "a11bd11a",
   "metadata": {},
   "source": [
    "# Scripting language\n",
    " A scripting language is typically interpreted rather than compiled, and it is often used for automating tasks, writing quick scripts, and manipulating data. Python's simplicity, readability, and extensive standard library make it well-suited for writing scripts to perform various tasks, such as file manipulation, data processing, and system administration."
   ]
  },
  {
   "cell_type": "markdown",
   "id": "c10962c9",
   "metadata": {},
   "source": [
    "# Object-oriented programming VS Procedural programming\n",
    "\n",
    "<table style=\"width:100%\">\n",
    "  <tr>\n",
    "    <th>Characteristic</th>\n",
    "    <th>Object-oriented programming</th>\n",
    "    <th>Procedural programming</th>\n",
    "  </tr>\n",
    "  <tr>\n",
    "    <td>Focus</td>\n",
    "    <td>Objects</td>\n",
    "    <td>Functions</td>\n",
    "  </tr>\n",
    "  <tr>\n",
    "    <td>Data organization</td>\n",
    "    <td>Data bundled with behavior in objects</td>\n",
    "    <td>Data and behavior typically separated</td>\n",
    "  </tr>\n",
    "    <tr>\n",
    "    <td>Reusability</td>\n",
    "    <td>High</td>\n",
    "    <td>Low</td>\n",
    "  </tr>\n",
    "  <tr>\n",
    "    <td>Maintainability</td>\n",
    "    <td>High</td>\n",
    "    <td>Low</td>\n",
    "  </tr>\n",
    "    <tr>\n",
    "    <td>Flexibility</td>\n",
    "    <td>High</td>\n",
    "    <td>Low</td>\n",
    "  </tr>\n",
    "</table>"
   ]
  },
  {
   "cell_type": "markdown",
   "id": "a620914a",
   "metadata": {},
   "source": [
    "# Encapsulation"
   ]
  },
  {
   "cell_type": "code",
   "execution_count": 13,
   "id": "f57be042",
   "metadata": {},
   "outputs": [
    {
     "name": "stdout",
     "output_type": "stream",
     "text": [
      "Make: Toyota\n",
      "Model: Camry\n",
      "Mileage: 0\n",
      "Make: Honda\n",
      "Model: Civic\n",
      "Mileage: 100\n"
     ]
    }
   ],
   "source": [
    "# Encapsulation\n",
    "\n",
    "class Car:\n",
    "    def __init__(self, make, model):\n",
    "        self.__make = make  # Private attribute\n",
    "        self.__model = model  # Private attribute\n",
    "        self.__mileage = 0  # Private attribute\n",
    "\n",
    "    # Getter methods\n",
    "    def get_make(self):\n",
    "        return self.__make\n",
    "\n",
    "    def get_model(self):\n",
    "        return self.__model\n",
    "\n",
    "    def get_mileage(self):\n",
    "        return self.__mileage\n",
    "\n",
    "    # Setter methods\n",
    "    def set_make(self, make):\n",
    "        self.__make = make\n",
    "\n",
    "    def set_model(self, model):\n",
    "        self.__model = model\n",
    "\n",
    "    def drive(self, miles):\n",
    "        if miles > 0:\n",
    "            self.__mileage += miles\n",
    "\n",
    "# Create a Car object\n",
    "my_car = Car(\"Toyota\", \"Camry\")\n",
    "\n",
    "# Accessing attributes using getter methods\n",
    "print(\"Make:\", my_car.get_make())  # Output: Make: Toyota\n",
    "print(\"Model:\", my_car.get_model())  # Output: Model: Camry\n",
    "print(\"Mileage:\", my_car.get_mileage())  # Output: Mileage: 0\n",
    "\n",
    "# Modifying attributes using setter methods\n",
    "my_car.set_make(\"Honda\")\n",
    "my_car.set_model(\"Civic\")\n",
    "my_car.drive(100)\n",
    "\n",
    "# Accessing updated attributes\n",
    "print(\"Make:\", my_car.get_make())  # Output: Make: Honda\n",
    "print(\"Model:\", my_car.get_model())  # Output: Model: Civic\n",
    "print(\"Mileage:\", my_car.get_mileage())  # Output: Mileage: 100\n"
   ]
  },
  {
   "cell_type": "markdown",
   "id": "32a87ebc",
   "metadata": {},
   "source": [
    "# Abstraction"
   ]
  },
  {
   "cell_type": "code",
   "execution_count": 15,
   "id": "c1f4ccfb",
   "metadata": {},
   "outputs": [
    {
     "name": "stdout",
     "output_type": "stream",
     "text": [
      "Area of Circle: 78.53975\n",
      "Area of Rectangle: 24\n"
     ]
    }
   ],
   "source": [
    "# Abstraction\n",
    "\n",
    "from abc import ABC, abstractmethod\n",
    "\n",
    "# Define an abstract class (Shape) with an abstract method (area)\n",
    "class Shape(ABC):\n",
    "    @abstractmethod\n",
    "    def area(self):\n",
    "        pass\n",
    "\n",
    "# Create concrete subclasses (Circle and Rectangle) that inherit from Shape\n",
    "class Circle(Shape):\n",
    "    def __init__(self, radius):\n",
    "        self.radius = radius\n",
    "\n",
    "    def area(self):\n",
    "        return 3.14159 * self.radius * self.radius\n",
    "\n",
    "class Rectangle(Shape):\n",
    "    def __init__(self, width, height):\n",
    "        self.width = width\n",
    "        self.height = height\n",
    "\n",
    "    def area(self):\n",
    "        return self.width * self.height\n",
    "\n",
    "# Create objects of concrete classes\n",
    "circle = Circle(5)\n",
    "rectangle = Rectangle(4, 6)\n",
    "\n",
    "# Calculate and print the areas\n",
    "print(\"Area of Circle:\", circle.area())  # Output: Area of Circle: 78.53975\n",
    "print(\"Area of Rectangle:\", rectangle.area())  # Output: Area of Rectangle: 24"
   ]
  },
  {
   "cell_type": "markdown",
   "id": "61efe4b1",
   "metadata": {},
   "source": [
    "# Inheritance"
   ]
  },
  {
   "cell_type": "code",
   "execution_count": 16,
   "id": "280bcf04",
   "metadata": {},
   "outputs": [
    {
     "name": "stdout",
     "output_type": "stream",
     "text": [
      "Buddy says Woof!\n",
      "Whiskers says Meow!\n"
     ]
    }
   ],
   "source": [
    "# Inheritance\n",
    "\n",
    "# Define a base class (superclass) called Animal\n",
    "class Animal:\n",
    "    def __init__(self, name):\n",
    "        self.name = name\n",
    "\n",
    "    def speak(self):\n",
    "        pass  # This is an abstract method\n",
    "\n",
    "# Create a subclass (derived class) called Dog, inheriting from Animal\n",
    "class Dog(Animal):\n",
    "    def speak(self):\n",
    "        return f\"{self.name} says Woof!\"\n",
    "\n",
    "# Create another subclass called Cat, also inheriting from Animal\n",
    "class Cat(Animal):\n",
    "    def speak(self):\n",
    "        return f\"{self.name} says Meow!\"\n",
    "\n",
    "# Create instances of the subclasses\n",
    "dog = Dog(\"Buddy\")\n",
    "cat = Cat(\"Whiskers\")\n",
    "\n",
    "# Call the speak() method on instances of both subclasses\n",
    "print(dog.speak())  # Output: Buddy says Woof!\n",
    "print(cat.speak())  # Output: Whiskers says Meow!"
   ]
  },
  {
   "cell_type": "markdown",
   "id": "9c52259c",
   "metadata": {},
   "source": [
    "# Polymorphism"
   ]
  },
  {
   "cell_type": "code",
   "execution_count": 17,
   "id": "348572f5",
   "metadata": {},
   "outputs": [
    {
     "name": "stdout",
     "output_type": "stream",
     "text": [
      "Woof!\n",
      "Meow!\n"
     ]
    }
   ],
   "source": [
    "# Polymorphism\n",
    "\n",
    "class Animal:\n",
    "    def speak(self):\n",
    "        pass  # This is an abstract method\n",
    "\n",
    "# Create subclasses (Dog and Cat) inheriting from Animal\n",
    "class Dog(Animal):\n",
    "    def speak(self):\n",
    "        return \"Woof!\"\n",
    "\n",
    "class Cat(Animal):\n",
    "    def speak(self):\n",
    "        return \"Meow!\"\n",
    "\n",
    "# Function that demonstrates polymorphism\n",
    "def animal_sound(animal_obj):\n",
    "    return animal_obj.speak()\n",
    "\n",
    "# Create instances of Dog and Cat\n",
    "dog = Dog()\n",
    "cat = Cat()\n",
    "\n",
    "# Call the animal_sound function with different objects\n",
    "print(animal_sound(dog))  # Output: Woof!\n",
    "print(animal_sound(cat))  # Output: Meow!"
   ]
  },
  {
   "cell_type": "markdown",
   "id": "4f2df32f",
   "metadata": {},
   "source": [
    "# Duck typing\n",
    "Duck typing is a concept in programming languages like Python, where the type or class of an object is determined by its behavior (methods and properties) rather than its explicit type. The idea is that \"if it looks like a duck, swims like a duck, and quacks like a duck, then it probably is a duck.\" In other words, the suitability of an object is based on what it can do (its behavior) rather than what it is (its type)."
   ]
  },
  {
   "cell_type": "code",
   "execution_count": 18,
   "id": "52f3d91d",
   "metadata": {},
   "outputs": [
    {
     "name": "stdout",
     "output_type": "stream",
     "text": [
      "Quack, quack!\n",
      "Woof! (I'm pretending to be a duck)\n",
      "Beep, beep! (I'm pretending to be a duck too)\n"
     ]
    }
   ],
   "source": [
    "class Duck:\n",
    "    def quack(self):\n",
    "        return \"Quack, quack!\"\n",
    "\n",
    "class Dog:\n",
    "    def quack(self):\n",
    "        return \"Woof! (I'm pretending to be a duck)\"\n",
    "\n",
    "class Robot:\n",
    "    def quack(self):\n",
    "        return \"Beep, beep! (I'm pretending to be a duck too)\"\n",
    "\n",
    "# Function that works with any object that has a \"quack\" method\n",
    "def make_sound(animal):\n",
    "    return animal.quack()\n",
    "\n",
    "# Create instances of Duck, Dog, and Robot\n",
    "duck = Duck()\n",
    "dog = Dog()\n",
    "robot = Robot()\n",
    "\n",
    "# Call the make_sound function with different objects\n",
    "print(make_sound(duck))    # Output: Quack, quack!\n",
    "print(make_sound(dog))     # Output: Woof! (I'm pretending to be a duck)\n",
    "print(make_sound(robot))   # Output: Beep, beep! (I'm pretending to be a duck too)"
   ]
  },
  {
   "cell_type": "markdown",
   "id": "b8d6b0f0",
   "metadata": {},
   "source": [
    "# Shallow copy and Deep copy"
   ]
  },
  {
   "cell_type": "markdown",
   "id": "2538ae24",
   "metadata": {},
   "source": [
    "**Shallow Copy:**\n",
    "\n",
    "- A shallow copy creates a new object but does not recursively duplicate the objects inside the original object.\n",
    "- The new object contains references to the same nested objects as the original object. Changes made to nested objects within the shallow copy will be reflected in the original object and vice versa.\n",
    "- Shallow copying is typically performed using built-in functions like `copy.copy()` in Python."
   ]
  },
  {
   "cell_type": "code",
   "execution_count": 31,
   "id": "4f477222",
   "metadata": {},
   "outputs": [
    {
     "name": "stdout",
     "output_type": "stream",
     "text": [
      "Original:  [1, [2, 3]]\n",
      "Copy:  [89, [2, 3]]\n",
      "Original:  [1, [2, 3, 4]]\n",
      "Copy:  [89, [2, 3, 4]]\n"
     ]
    }
   ],
   "source": [
    "import copy\n",
    "\n",
    "original_list = [1, [2, 3]]\n",
    "shallow_copy = copy.copy(original_list)\n",
    "\n",
    "shallow_copy[0]=89\n",
    "print(\"Original: \",original_list)\n",
    "print(\"Copy: \",shallow_copy)\n",
    "\n",
    "shallow_copy[1].append(4)  # Modify the nested list\n",
    "print(\"Original: \",original_list)  # Output: [1, [2, 3, 4]]\n",
    "print(\"Copy: \",shallow_copy)"
   ]
  },
  {
   "cell_type": "code",
   "execution_count": 32,
   "id": "e1a3f7c8",
   "metadata": {},
   "outputs": [
    {
     "name": "stdout",
     "output_type": "stream",
     "text": [
      "Original:  [1, 2, 3, 4, 5]\n",
      "Copy:  [89, 2, 3, 4, 5]\n"
     ]
    }
   ],
   "source": [
    "import copy\n",
    "\n",
    "original_list = [1,2,3,4,5]\n",
    "shallow_copy = copy.copy(original_list)\n",
    "\n",
    "shallow_copy[0]=89\n",
    "print(\"Original: \",original_list)\n",
    "print(\"Copy: \",shallow_copy)"
   ]
  },
  {
   "cell_type": "markdown",
   "id": "de1e2a6c",
   "metadata": {},
   "source": [
    "**Deep Copy:**\n",
    "\n",
    "- A deep copy creates a completely new object with a new set of nested objects. It recursively duplicates all objects, including nested objects, from the original object.\n",
    "- Changes made to the nested objects within the deep copy will not affect the original object, and vice versa.\n",
    "- Deep copying is typically performed using built-in functions like `copy.deepcopy()` in Python."
   ]
  },
  {
   "cell_type": "code",
   "execution_count": 33,
   "id": "2bb3890f",
   "metadata": {},
   "outputs": [
    {
     "name": "stdout",
     "output_type": "stream",
     "text": [
      "Original:  [1, [2, 3]]\n",
      "Copy:  [89, 2, 3, 4, 5]\n",
      "Original:  [1, [2, 3]]\n",
      "Copy:  [89, 2, 3, 4, 5]\n"
     ]
    }
   ],
   "source": [
    "import copy\n",
    "\n",
    "original_list = [1, [2, 3]]\n",
    "deep_copy = copy.deepcopy(original_list)\n",
    "\n",
    "deep_copy[0]=89\n",
    "print(\"Original: \",original_list)\n",
    "print(\"Copy: \",shallow_copy)\n",
    "\n",
    "deep_copy[1].append(4)  # Modify the nested list\n",
    "print(\"Original: \",original_list)  # Output: [1, [2, 3]]\n",
    "print(\"Copy: \",shallow_copy)"
   ]
  },
  {
   "cell_type": "code",
   "execution_count": 34,
   "id": "9872838f",
   "metadata": {},
   "outputs": [
    {
     "name": "stdout",
     "output_type": "stream",
     "text": [
      "Original:  [1, 2, 3, 4, 5]\n",
      "Copy:  [89, 2, 3, 4, 5]\n"
     ]
    }
   ],
   "source": [
    "import copy\n",
    "\n",
    "original_list = [1,2,3,4,5]\n",
    "shallow_copy = copy.deepcopy(original_list)\n",
    "\n",
    "shallow_copy[0]=89\n",
    "print(\"Original: \",original_list)\n",
    "print(\"Copy: \",shallow_copy)"
   ]
  },
  {
   "cell_type": "markdown",
   "id": "146c626f",
   "metadata": {},
   "source": [
    "# What is Python?\n",
    "Python is a high-level, interpreted, interactive and object-oriented scripting language that is used to create user interface applications for web development (server side), software development, mathematics, operation and so on. . It uses English keywords frequently with fewer syntactical constructions than other languages."
   ]
  },
  {
   "cell_type": "markdown",
   "id": "25e8cfc4",
   "metadata": {},
   "source": [
    "# What are the benefits of Python?\n",
    "Easier to learn, write and understand the code - Python is really easy to pick up and learn similar to English language, so lot of people recommend Python to beginners.\n",
    "\n",
    "Improved Productivity - Due to the simplicity of Python, developers can focus on solving the problem by writing less code and more time on productivity.\n",
    "\n",
    "Interpreted Language - Python executes the code directly in a line by line manner.\n",
    "\n",
    "Dynamically Typed - It automatically assigns the data type during execution.\n",
    "\n",
    "Free and Open-Source – Python is a OSI approved open-source which makes it free to use.\n",
    "\n",
    "Vast Libraries Support - The standard library of Python is huge with almost all the functions needed for your task without the use of external libraries.\n",
    "\n",
    "Portability - You only write once and run it anywhere."
   ]
  },
  {
   "cell_type": "markdown",
   "id": "7841b55c",
   "metadata": {},
   "source": [
    "# What are the key features of Python?\n",
    "- Easy to Code, Read\n",
    "- Expressive, Free and Open-Source\n",
    "- Portable, high-level language\n",
    "- Embeddable, Object-Oriented\n",
    "- Large Standard Library\n",
    "- Dynamically Typed with GUI Programming"
   ]
  },
  {
   "cell_type": "markdown",
   "id": "340a1796",
   "metadata": {},
   "source": [
    "# What type of language is Python? Programming or Scripting?\n",
    "Python is considered a scripting language because of a historical blur between scripting languages and general purpose programming languages. In fact, Python is not a scripting language, but a general purpose programming language that also works nicely as a scripting language. It is also an interpreted and high-level programming language for the purpose of general programming requirements.\n"
   ]
  },
  {
   "cell_type": "markdown",
   "id": "1731aaef",
   "metadata": {},
   "source": [
    "# What are the applications of Python?\n",
    "- Web and Internet Development\n",
    "- Scientific and Numeric Applications\n",
    "- Education and training programs\n",
    "- Artificial intelligence and Machine learning\n",
    "- Software and Game Development\n",
    "- Business Application"
   ]
  },
  {
   "cell_type": "markdown",
   "id": "fe937632",
   "metadata": {},
   "source": [
    "# What do you understand by the term PEP 8?\n",
    "PEP stands for Python Enhancement Proposal which is a design document that provides guidelines and best practices on how to write Python code. The primary focus of PEP 8 is to improve the readability and consistency of Python code."
   ]
  },
  {
   "cell_type": "markdown",
   "id": "eabc18ef",
   "metadata": {},
   "source": [
    "# How memory management is done in Python?\n",
    "Memory management in Python involves a private heap containing all Python objects and data structures. The management of this private heap is ensured internally by the Python memory manager."
   ]
  },
  {
   "cell_type": "markdown",
   "id": "314a5661",
   "metadata": {},
   "source": [
    "# How do we find bugs and statistical problems in Python?\n",
    "Pychecker and Pylint are the static analysis tools that help to find bugs in python.\n",
    "\n",
    "Pychecker is an open source tool for static analysis that detects the bugs from source code and warns about the style and complexity of the bug."
   ]
  },
  {
   "cell_type": "markdown",
   "id": "421be393",
   "metadata": {},
   "source": [
    "# What is the difference between .py and .pyc files?\n",
    "py files contain the source code of a program. Whereas,. pyc file contains the bytecode of your program."
   ]
  },
  {
   "cell_type": "code",
   "execution_count": 7,
   "id": "c400ef3b",
   "metadata": {},
   "outputs": [
    {
     "name": "stdout",
     "output_type": "stream",
     "text": [
      "0 1 1 2 3 5 8 13 21 34 55 89 144 233 377 610 987 1597 2584 4181 6765 10946 17711 28657 46368 75025 121393 196418 317811 "
     ]
    }
   ],
   "source": [
    "# Write a program to display the Fibonacci sequence in Python?\n",
    "\n",
    "def fib(terms):\n",
    "    n1=0\n",
    "    n2=1\n",
    "    if terms<=0:\n",
    "        return\n",
    "    elif terms==1:\n",
    "        print(n1)\n",
    "        return\n",
    "    else:\n",
    "        print(n1,end=\" \")\n",
    "        print(n2,end=\" \")\n",
    "        for i in range(2,terms):    \n",
    "            nth=n1+n2\n",
    "            print(nth,end=\" \")\n",
    "            n1=n2\n",
    "            n2=nth\n",
    "    \n",
    "fib(29)"
   ]
  },
  {
   "cell_type": "code",
   "execution_count": 11,
   "id": "0503c44a",
   "metadata": {},
   "outputs": [
    {
     "data": {
      "text/plain": [
       "[(1, 1), (5, 2), (3, 3)]"
      ]
     },
     "execution_count": 11,
     "metadata": {},
     "output_type": "execute_result"
    }
   ],
   "source": [
    "def sortSecond(list1):\n",
    "    return list1[1]\n",
    "\n",
    "list1 = [(5, 2), (3, 3), (1, 1)] \n",
    "list1.sort(key=sortSecond)\n",
    "list1"
   ]
  },
  {
   "cell_type": "markdown",
   "id": "b25d775e",
   "metadata": {},
   "source": [
    "# Does Python make use of access specifiers\n",
    "Python doesn't have any mechanism that effectively restricts access to any instance variable or method. Python prescribes a convention of prefixing the name of the variable/method with a single or double underscores to emulate the behaviour of protected and private access specifiers."
   ]
  },
  {
   "cell_type": "markdown",
   "id": "2bec7375",
   "metadata": {},
   "source": [
    "# What is PYTHONPATH?\n",
    "PYTHONPATH serves as an environment variable within the Python programming language, empowering users to define supplementary directories for Python to search when seeking modules and packages. By setting the PYTHONPATH variable, users can extend the default search path and customize the module search behavior according to their needs. This feature enables developers to organize and structure their Python projects efficiently, facilitating easier module importation and enhancing code reusability."
   ]
  },
  {
   "cell_type": "markdown",
   "id": "ac6c1cea",
   "metadata": {},
   "source": [
    "#  What are python namespaces?\n",
    "In Python, a namespace is a container that holds a mapping of identifiers (such as variable names, function names, class names, etc.) to the corresponding objects (such as values, functions, classes, etc.). Namespaces are used to organize and manage the scope of identifiers within a Python program to avoid naming conflicts and maintain clarity in code."
   ]
  },
  {
   "cell_type": "markdown",
   "id": "096d759e",
   "metadata": {},
   "source": [
    "# How is memory managed in Python?\n",
    "Memory management in Python is handled automatically by the Python memory manager. Python's memory management is designed to be convenient for developers, allowing them to focus on writing code without worrying about low-level memory management tasks. Python's automatic memory management, including reference counting and the cyclic garbage collector, helps ensure memory is allocated and deallocated efficiently, promoting both ease of use and reliability in memory management."
   ]
  },
  {
   "cell_type": "markdown",
   "id": "f2dd1cdd",
   "metadata": {},
   "source": [
    "# What is scope resolution?\n",
    "In Python, a scope defines the region of code where an object remains valid and accessible. Every object in Python operates within its designated scope. Namespaces are used to uniquely identify objects within a program, and each namespace is associated with a specific scope where objects can be used without any prefix. The scope of a variable determines its accessibility and lifespan."
   ]
  },
  {
   "cell_type": "markdown",
   "id": "b9347448",
   "metadata": {},
   "source": [
    "# What is a `lambda` function in Python?\n",
    "\n",
    "A lambda function is a small, anonymous function in Python that can take any number of arguments, but can only have one expression. Lambda functions are often used as a shorthand way of defining small, one-time-use functions."
   ]
  },
  {
   "cell_type": "markdown",
   "id": "be65b4ea",
   "metadata": {},
   "source": [
    "# What is the difference between the `is` and `==` operators in Python?\n",
    "\n",
    "The 'is' operator compares object identity, meaning it checks whether two variables refer to the same object in memory. The '==' operator compares the values of two variables. So, while two variables with different identities can have the same value, two variables that have the same identity must have the same value."
   ]
  },
  {
   "cell_type": "markdown",
   "id": "a12eae2c",
   "metadata": {},
   "source": [
    "# What is the difference between a set and a frozenset in Python?\n",
    "\n",
    "A set is a collection of unique, unordered values that can be modified, whereas a frozenset is an immutable collection of unique, unordered values. Sets are created using curly braces or the 'set()' function, while frozensets are created using the 'frozenset()' function.\n"
   ]
  },
  {
   "cell_type": "markdown",
   "id": "2bece1e7",
   "metadata": {},
   "source": [
    "# What are python iterators?\n",
    "Python iterators are objects that allow you to access elements of a collection one at a time. They use the __iter__() and __next__() methods to retrieve the next element until there are no more. Iterators are commonly used in for loops and can be created for custom objects."
   ]
  },
  {
   "cell_type": "markdown",
   "id": "97b36f42",
   "metadata": {},
   "source": [
    "# What is a generator in Python?\n",
    "\n",
    "A generator is a function that returns an iterator object that can be used to iterate over a sequence of values. Generators are helpful when dealing with large datasets or when the complete sequence of values is not needed at once."
   ]
  },
  {
   "cell_type": "markdown",
   "id": "2dd473ce",
   "metadata": {},
   "source": [
    "# What is a `closure` in Python?\n",
    "\n",
    "A closure is a function object that remembers values in its enclosing scope even if they are not present in memory. In Python, closures are created by defining a nested function inside another function and returning the nested function.\n",
    "\n"
   ]
  },
  {
   "cell_type": "markdown",
   "id": "cee811c1",
   "metadata": {},
   "source": [
    "# What is a `decorator` in Python?\n",
    "\n",
    "A decorator is a design pattern in Python that allows a user to add new functionality to an existing object without modifying its structure. In Python, a decorator is a function that takes another function as an argument, performs some operation on it, and returns the modified function.\n",
    "\n",
    "This is also called `metaprogramming` because a part of the program tries to modify another part of the program at compile time."
   ]
  },
  {
   "cell_type": "markdown",
   "id": "bee4a00a",
   "metadata": {},
   "source": [
    "# What is multithreading?\n",
    "\n",
    "It is defined as the ability of processor to execute multiple threads concurrently. In python we can achieve multithreading using `threading` module by inheriting `Thread` class."
   ]
  },
  {
   "cell_type": "markdown",
   "id": "2bb540c4",
   "metadata": {},
   "source": [
    "# What are Dict and List comprehensions?\n",
    "Comprehension is a powerful feature in Python that offers a convenient way to create lists, dictionaries, and sets with concise expressions. It eliminates the need for explicit loops, which can help reduce code size and save time during development.\n",
    "\n",
    "Comprehensions are beneficial in the following scenarios:\n",
    "\n",
    "- Performing mathematical operations on the entire list\n",
    "- Performing conditional filtering operations on the entire list\n",
    "- Combining multiple lists into one\n",
    "- Flattening a multi-dimensional list"
   ]
  },
  {
   "cell_type": "code",
   "execution_count": 1,
   "id": "a83ab06d",
   "metadata": {},
   "outputs": [],
   "source": [
    "my_list = [2, 3, 5, 7, 11]\n",
    "squared_list = [x**2 for x in my_list]    # list comprehension\n",
    "squared_dict = {x:x**2 for x in my_list}    # dict comprehension"
   ]
  },
  {
   "cell_type": "code",
   "execution_count": null,
   "id": "10e3ebc7",
   "metadata": {},
   "outputs": [],
   "source": []
  },
  {
   "cell_type": "code",
   "execution_count": 2,
   "id": "8b503b8b",
   "metadata": {},
   "outputs": [
    {
     "data": {
      "text/plain": [
       "{2: 4, 3: 9, 5: 25, 7: 49, 11: 121}"
      ]
     },
     "execution_count": 2,
     "metadata": {},
     "output_type": "execute_result"
    }
   ],
   "source": [
    "squared_dict"
   ]
  },
  {
   "cell_type": "markdown",
   "id": "0181f7fb",
   "metadata": {},
   "source": [
    "# What is pickling and unpickling?\n",
    "Pickling and unpickling are two processes in Python used for serializing and deserializing objects, allowing you to save and load Python objects to and from a file or other forms of data storage. These processes are often used for data persistence, data exchange between programs, and more. They are primarily facilitated by Python's pickle module.\n",
    "\n",
    "**Pickling:**\n",
    "\n",
    "- Pickling is the process of converting a Python object into a byte stream. The byte stream can then be stored in a file, transmitted over a network, or saved in a database. Pickling essentially serializes the object into a format that can be later deserialized.\n",
    "- The `pickle.dump()` function is used to pickle an object and save it to a file or a binary stream.\n",
    "\n",
    "**Unpickling:**\n",
    "\n",
    "- Unpickling is the process of recreating a Python object from a byte stream (previously pickled object). It allows you to reconstruct the original object from the serialized data.\n",
    "- The `pickle.load()` function is used to unpickle an object from a file or a binary stream."
   ]
  },
  {
   "cell_type": "code",
   "execution_count": 3,
   "id": "84cc941f",
   "metadata": {},
   "outputs": [
    {
     "name": "stdout",
     "output_type": "stream",
     "text": [
      "{'name': 'Alice', 'age': 30}\n"
     ]
    }
   ],
   "source": [
    "import pickle\n",
    "\n",
    "data = {'name': 'Alice', 'age': 30}\n",
    "with open('data.pkl', 'wb') as file:\n",
    "    pickle.dump(data, file)\n",
    "\n",
    "with open('data.pkl', 'rb') as file:\n",
    "    loaded_data = pickle.load(file)\n",
    "\n",
    "print(loaded_data)  # Output: {'name': 'Alice', 'age': 30}"
   ]
  },
  {
   "cell_type": "markdown",
   "id": "125ada01",
   "metadata": {},
   "source": [
    "# How will you read a random line in a file?\n",
    "We can read a random line in a file using the random module.\n",
    "\n",
    "For example:"
   ]
  },
  {
   "cell_type": "code",
   "execution_count": null,
   "id": "4ebab538",
   "metadata": {},
   "outputs": [],
   "source": [
    "import random\n",
    "def read_random(fname):\n",
    "    lines = open(fname).read().splitlines()\n",
    "    return random.choice(lines)\n",
    "print(read_random('hello.txt'))"
   ]
  },
  {
   "cell_type": "markdown",
   "id": "9efc0917",
   "metadata": {},
   "source": [
    "# What is the purpose of “is”, “not” and “in” operators?\n",
    "Operators are referred to as special functions that take one or more values (operands) and produce a corresponding result.\n",
    "\n",
    "- is: returns the true value when both the operands are true  (Example: “x” is ‘x’)\n",
    "- not: returns the inverse of the boolean value based upon the operands (example:”1” returns “0” and vice-versa.\n",
    "- in: helps to check if the element is present in a given Sequence or not."
   ]
  },
  {
   "cell_type": "markdown",
   "id": "7c63bd3d",
   "metadata": {},
   "source": [
    "# How can the ternary operators be used in python?"
   ]
  },
  {
   "cell_type": "code",
   "execution_count": 4,
   "id": "5aa22176",
   "metadata": {},
   "outputs": [
    {
     "name": "stdout",
     "output_type": "stream",
     "text": [
      "20\n"
     ]
    }
   ],
   "source": [
    "x = 10\n",
    "y = 20\n",
    "\n",
    "max_value = x if x > y else y\n",
    "\n",
    "print(max_value)  # Output: 20\n"
   ]
  },
  {
   "cell_type": "markdown",
   "id": "1a22c12b",
   "metadata": {},
   "source": [
    "# What is docstring in Python?\n",
    "Python lets users include a description (or quick notes) for their methods using documentation strings or docstrings. Docstrings are different from regular comments in Python. Rather than being completely ignored by the Python interpreter like in the case of comments, these are defined within triple quotes.\n",
    "\n",
    "`Syntax:`\n",
    "<pre>\n",
    "\"\"\"\n",
    "Using docstring as a comment.\n",
    "This code add two numbers\n",
    "\"\"\"\n",
    "x=7\n",
    "y=9\n",
    "z=x+y\n",
    "print(z)\n",
    "</pre>"
   ]
  },
  {
   "cell_type": "markdown",
   "id": "b74f6e4a",
   "metadata": {},
   "source": [
    "# What is monkey patching in Python?\n",
    "Monkey patching is the term used to denote modifications that are done to a class or a module during runtime. This can only be done as Python supports changes in the behavior of the program while being executed."
   ]
  },
  {
   "cell_type": "code",
   "execution_count": 8,
   "id": "2d9eefe9",
   "metadata": {},
   "outputs": [
    {
     "name": "stdout",
     "output_type": "stream",
     "text": [
      "s\n",
      "s\n",
      "s\n",
      "s\n",
      "24\n"
     ]
    }
   ],
   "source": [
    "def sum(num):\n",
    "    if len(num) == 1:\n",
    "        return num[0]  # With only one element in the list, the sum result will be equal to the element.\n",
    "    else:\n",
    "        print(\"s\")\n",
    "        return num[0] + sum(num[1:])\n",
    "\n",
    "print(sum([2, 4, 5, 6, 7]))"
   ]
  },
  {
   "cell_type": "code",
   "execution_count": 13,
   "id": "db96d931",
   "metadata": {},
   "outputs": [
    {
     "name": "stdout",
     "output_type": "stream",
     "text": [
      "    *\n",
      "   ***\n",
      "  *****\n",
      " *******\n",
      "*********\n"
     ]
    }
   ],
   "source": [
    "def Star_triangle(n):\n",
    "    for x in range(n):\n",
    "        print(' '*(n-x-1)+'*'*(2*x+1))\n",
    "\n",
    "Star_triangle(5)"
   ]
  },
  {
   "cell_type": "code",
   "execution_count": 14,
   "id": "06448241",
   "metadata": {},
   "outputs": [
    {
     "name": "stdout",
     "output_type": "stream",
     "text": [
      "51\n"
     ]
    }
   ],
   "source": [
    "print(ord('3'))"
   ]
  },
  {
   "cell_type": "code",
   "execution_count": 1,
   "id": "9798a0f8",
   "metadata": {},
   "outputs": [
    {
     "name": "stdout",
     "output_type": "stream",
     "text": [
      "120\n"
     ]
    }
   ],
   "source": [
    "def fact(num):\n",
    "    if num<=1:\n",
    "        return num\n",
    "    return num*fact(num-1)\n",
    "\n",
    "print(fact(5))\n"
   ]
  },
  {
   "cell_type": "code",
   "execution_count": 3,
   "id": "758a824e",
   "metadata": {},
   "outputs": [
    {
     "name": "stdout",
     "output_type": "stream",
     "text": [
      "120\n",
      "None\n"
     ]
    }
   ],
   "source": [
    "def facti(n):\n",
    "    f=1\n",
    "    for i in range(1,n+1):\n",
    "        f=f*i\n",
    "    print(f)\n",
    "print(facti(5))"
   ]
  },
  {
   "cell_type": "code",
   "execution_count": 6,
   "id": "04a3341a",
   "metadata": {},
   "outputs": [
    {
     "name": "stdout",
     "output_type": "stream",
     "text": [
      "0 1 1 2 3 5 8 13 "
     ]
    }
   ],
   "source": [
    "def fib(n):\n",
    "    if n<=1:\n",
    "        return n\n",
    "    return fib(n-1)+fib(n-2)\n",
    "\n",
    "for i in range(8):\n",
    "    print(fib(i), end=\" \")"
   ]
  },
  {
   "cell_type": "code",
   "execution_count": 11,
   "id": "7f001069",
   "metadata": {},
   "outputs": [
    {
     "name": "stdout",
     "output_type": "stream",
     "text": [
      "0 1 1 2 3 5 8 13 "
     ]
    }
   ],
   "source": [
    "def fib(n):\n",
    "    n1=0\n",
    "    n2=1\n",
    "    if n<=0:\n",
    "        return\n",
    "    elif n==1:\n",
    "        print(n1)\n",
    "        return\n",
    "    else:\n",
    "        print(n1, end=\" \")\n",
    "        print(n2, end=\" \")\n",
    "        for i in range(2,n):\n",
    "            nth=n1+n2\n",
    "            print(nth, end=\" \")\n",
    "            n1=n2\n",
    "            n2=nth\n",
    "            \n",
    "            \n",
    "fib(8)"
   ]
  },
  {
   "cell_type": "code",
   "execution_count": 16,
   "id": "346fe2d9",
   "metadata": {},
   "outputs": [
    {
     "data": {
      "text/plain": [
       "True"
      ]
     },
     "execution_count": 16,
     "metadata": {},
     "output_type": "execute_result"
    }
   ],
   "source": [
    "def pallindrome(str1):\n",
    "    n=len(str1)\n",
    "    for i in range(n//2):\n",
    "        if str1[i]!=str1[n-i-1]:\n",
    "            return False\n",
    "    return True\n",
    "pallindrome(\"aba\")"
   ]
  },
  {
   "cell_type": "code",
   "execution_count": 26,
   "id": "a896e688",
   "metadata": {},
   "outputs": [
    {
     "data": {
      "text/plain": [
       "False"
      ]
     },
     "execution_count": 26,
     "metadata": {},
     "output_type": "execute_result"
    }
   ],
   "source": [
    "def pall(num):\n",
    "    temp=num\n",
    "    rev=0\n",
    "    while temp>0:\n",
    "        ldigit=temp%10\n",
    "        rev=rev*10+ldigit\n",
    "        temp=temp//10\n",
    "    if rev==num:\n",
    "        return True\n",
    "    else: \n",
    "        return False\n",
    "    \n",
    "pall(13341)"
   ]
  },
  {
   "cell_type": "code",
   "execution_count": 22,
   "id": "c7d49f04",
   "metadata": {},
   "outputs": [
    {
     "name": "stdout",
     "output_type": "stream",
     "text": [
      "Pallindrome\n"
     ]
    }
   ],
   "source": []
  },
  {
   "cell_type": "code",
   "execution_count": 27,
   "id": "c7290053",
   "metadata": {},
   "outputs": [
    {
     "data": {
      "text/plain": [
       "3"
      ]
     },
     "execution_count": 27,
     "metadata": {},
     "output_type": "execute_result"
    }
   ],
   "source": [
    "def count(num):\n",
    "    c=0\n",
    "    while num>0:\n",
    "        num=num//10\n",
    "        c+=1\n",
    "    return c\n",
    "count(123)"
   ]
  },
  {
   "cell_type": "code",
   "execution_count": 30,
   "id": "998a74fc",
   "metadata": {},
   "outputs": [
    {
     "data": {
      "text/plain": [
       "True"
      ]
     },
     "execution_count": 30,
     "metadata": {},
     "output_type": "execute_result"
    }
   ],
   "source": [
    "def armN(num):\n",
    "    temp=num\n",
    "    ss=0\n",
    "    while temp>0:\n",
    "        l=temp%10\n",
    "        ss+=l**count(num)\n",
    "        temp=temp//10\n",
    "    if num==ss:\n",
    "        return True\n",
    "    else:\n",
    "        return False\n",
    "armN(407)"
   ]
  },
  {
   "cell_type": "code",
   "execution_count": 38,
   "id": "84e8d0db",
   "metadata": {},
   "outputs": [
    {
     "data": {
      "text/plain": [
       "True"
      ]
     },
     "execution_count": 38,
     "metadata": {},
     "output_type": "execute_result"
    }
   ],
   "source": [
    "def prime(num):\n",
    "    if num<=1:\n",
    "        return False\n",
    "    else:\n",
    "        for i in range(2,num//2+1):\n",
    "            if num%i==0:\n",
    "                return False\n",
    "    return True\n",
    "\n",
    "prime(701)"
   ]
  },
  {
   "cell_type": "code",
   "execution_count": 40,
   "id": "617ceee4",
   "metadata": {},
   "outputs": [
    {
     "name": "stdout",
     "output_type": "stream",
     "text": [
      "[11, 12, 22, 25, 34, 64, 90]\n"
     ]
    }
   ],
   "source": [
    "def bubble(arr):\n",
    "    n=len(arr)\n",
    "    for i in range(n):\n",
    "        swapped=False\n",
    "        for j in range(0, n-i-1):\n",
    "            if arr[j]>arr[j+1]:\n",
    "                arr[j],arr[j+1]=arr[j+1],arr[j]\n",
    "                swapped=True\n",
    "        if not swapped:\n",
    "            break\n",
    "            \n",
    "arr=[64, 34, 25, 12, 22, 11, 90]\n",
    "bubble(arr)\n",
    "print(arr)"
   ]
  },
  {
   "cell_type": "code",
   "execution_count": 41,
   "id": "4a6f609f",
   "metadata": {},
   "outputs": [
    {
     "name": "stdout",
     "output_type": "stream",
     "text": [
      "[11, 12, 22, 25, 34, 64, 90]\n"
     ]
    }
   ],
   "source": [
    "def sel(arr):\n",
    "    n=len(arr)\n",
    "    for i in range(n):\n",
    "        iMin=i\n",
    "        for j in range(i+1, n):\n",
    "            if arr[j]<arr[iMin]:\n",
    "                iMin=j\n",
    "        arr[i],arr[iMin]=arr[iMin],arr[i]\n",
    "        \n",
    "arr=[64, 34, 25, 12, 22, 11, 90]\n",
    "sel(arr)\n",
    "print(arr)"
   ]
  },
  {
   "cell_type": "code",
   "execution_count": null,
   "id": "cd93c422",
   "metadata": {},
   "outputs": [],
   "source": []
  }
 ],
 "metadata": {
  "kernelspec": {
   "display_name": "Python 3 (ipykernel)",
   "language": "python",
   "name": "python3"
  },
  "language_info": {
   "codemirror_mode": {
    "name": "ipython",
    "version": 3
   },
   "file_extension": ".py",
   "mimetype": "text/x-python",
   "name": "python",
   "nbconvert_exporter": "python",
   "pygments_lexer": "ipython3",
   "version": "3.9.6"
  }
 },
 "nbformat": 4,
 "nbformat_minor": 5
}
