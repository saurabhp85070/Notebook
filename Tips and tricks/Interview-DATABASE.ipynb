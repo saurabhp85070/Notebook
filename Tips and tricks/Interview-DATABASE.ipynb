{
 "cells": [
  {
   "cell_type": "markdown",
   "id": "fd7ed4f2",
   "metadata": {},
   "source": [
    "# What is Database?\n",
    "A datbase is collection of related information in a systematic manner for a specific purpose."
   ]
  },
  {
   "cell_type": "markdown",
   "id": "c7675f79",
   "metadata": {},
   "source": [
    "# What is DBMS?\n",
    "A DBMS is a software system that enables user to define, create and maintain the database and provide controlled access to this database through the application program.  "
   ]
  },
  {
   "cell_type": "markdown",
   "id": "ca03389e",
   "metadata": {},
   "source": [
    "# 3 layer structure of DBMS\n",
    "- External view: The view schema describes the end user interaction with database systems. **`select * from student`**, **`select roll, name from student`**\n",
    "\n",
    "- Logical view: The conceptual level describes what data are to be stored in the database and also describes what relationship exists among those data. **`describe student`**\n",
    "\n",
    "- Internal view: It describes the physical storage structure of the database. It uses the physical data model. It is used to define that how the data will be stored in a block."
   ]
  },
  {
   "cell_type": "markdown",
   "id": "cd18980f",
   "metadata": {},
   "source": [
    "# What is SQL?\n",
    "SQL is a short-form of the structured query language, and it is pronounced as S-Q-L or sometimes as See-Quell.\n",
    "This database language is mainly designed for maintaining the data in relational database management systems."
   ]
  },
  {
   "cell_type": "markdown",
   "id": "2bc65117",
   "metadata": {},
   "source": [
    "# Different types of SQL statements/commands?\n",
    "**DDL**: Data defintion language. It is concerned with database schemas and descriptions of how data should be stored in the database. It is autocommitted. \n",
    "\n",
    "Example: \n",
    "- `CREATE`: CREATE TABLE EMPLOYEE(Name VARCHAR2(20), Email VARCHAR2(100), DOB DATE);  \n",
    "- `DROP`: DROP TABLE EMPLOYEE;  \n",
    "- `ALTER`: ALTER TABLE STU_DETAILS ADD(ADDRESS VARCHAR2(20));  \n",
    "ALTER TABLE STU_DETAILS MODIFY (NAME VARCHAR2(20));  \n",
    "- `TRUNCATE`: TRUNCATE TABLE EMPLOYEE;  \n",
    "\n",
    "**DML**: Data manipulation language. It is used to modify the database. It is not autocommitted. \n",
    "\n",
    "Example:\n",
    "- `INSERT`: INSERT INTO javatpoint (Author, Subject) VALUES (\"Sonoo\", \"DBMS\");   \n",
    "- `UPDATE`: UPDATE students SET User_Name = 'Sonoo' WHERE Student_Id = '3'  \n",
    "- `DELETE`: DELETE FROM javatpoint WHERE Author=\"Sonoo\";  \n",
    "\n",
    "**DCL**: Data control language. It is used to grant and take back authority from any database user. \n",
    "\n",
    "Example: \n",
    "- `GRANT`: GRANT SELECT, UPDATE ON MY_TABLE TO SOME_USER, ANOTHER_USER;   \n",
    "- `REVOKE` REVOKE SELECT, UPDATE ON MY_TABLE FROM USER1, USER2;  \n",
    "\n",
    "**TCL**: Transaction control language. It deals with transactions within a database, which are groups of related DML statements treated as a single unit. \n",
    "\n",
    "Example: \n",
    "- `COMMIT`: DELETE FROM CUSTOMERS WHERE AGE = 25;  \n",
    "COMMIT;    \n",
    "- `ROLLBACK`: DELETE FROM CUSTOMERS WHERE AGE = 25;  \n",
    "ROLLBACK;  \n",
    "- `SAVEPOINT`: SAVEPOINT SAVEPOINT_NAME;  \n",
    "\n",
    "**DQL**: Data querry language. It is used to fetch the data from the database. \n",
    "\n",
    "Example: \n",
    "- `SELECT`: SELECT emp_name FROM employee WHERE age > 20;  "
   ]
  },
  {
   "cell_type": "code",
   "execution_count": 1,
   "id": "244a64af",
   "metadata": {},
   "outputs": [],
   "source": [
    "# table word is used with CREATE, ALTER, DROP, TRUNCATE"
   ]
  },
  {
   "cell_type": "markdown",
   "id": "ce0b6e9f",
   "metadata": {},
   "source": [
    "# What is key?\n",
    "Key is a value helps in identifying a particular records from a set of records.\n",
    "\n",
    "1. **Primary key:** Primary key (PK) that uniquely identifies each row in the table.\n",
    "    - create table test(roll number primary key, address varchar(19)); \n",
    "    - create table test(roll number, address varchar(19), primary key(roll)); \n",
    "2. **Composite key:** When multiple columns are used as a primary key, it is known as composite primary key.\n",
    "    - create table order(orderno number, address varchar, primary key(orderno, itemno));\n",
    "3. **Foreign key:** Foreign key is column or set of column in a table that refers to the primary key of another table. It extablishes reslationship between two tables.\n",
    "    - create table sport(roll number references test, sport  varchar(10));\n",
    "    - create table sport(roll number, sport  varchar(10), foreign key(roll) references test);\n",
    "    \n",
    "- `create table pro(ecode number primary key references employer, pname varchar(10));` --> Table having primary key and foreign key at same time.\n",
    "\n",
    "4. **Candidate key:** Colummn having feature of becoming primary key is called candidate key.\n",
    "5. **Alternate key:** After selecting primary key column out of many candidate key the remaining columns are known as alternate key.\n",
    "6. **Secondary key:** Not a ture key but can be used to extract selected as records. Example: select * from employee where city='delhi' Here city is secodnary key\n",
    "7. **Super key:**  Any valid combination of primary key withany ohter attribute is called super key"
   ]
  },
  {
   "cell_type": "markdown",
   "id": "ae7110a1",
   "metadata": {},
   "source": [
    "# Primary key query\n",
    "\n",
    "- CREATE TABLE Persons (\n",
    "    ID int NOT NULL PRIMARY KEY,\n",
    "    LastName varchar(255) NOT NULL,\n",
    "    FirstName varchar(255),\n",
    "    Age int\n",
    ");\n",
    "\n",
    "- CREATE TABLE Persons (\n",
    "    ID int NOT NULL,\n",
    "    LastName varchar(255) NOT NULL,\n",
    "    FirstName varchar(255),\n",
    "    Age int,\n",
    "    CONSTRAINT PK_Person PRIMARY KEY (ID,LastName)\n",
    ");\n",
    "\n",
    "- ALTER TABLE Persons\n",
    "ADD PRIMARY KEY (ID);\n",
    "\n",
    "- ALTER TABLE Persons\n",
    "ADD CONSTRAINT PK_Person PRIMARY KEY (ID,LastName);\n",
    "\n",
    "- ALTER TABLE Persons\n",
    "DROP PRIMARY KEY;\n",
    "\n",
    "- ALTER TABLE Persons\n",
    "DROP CONSTRAINT PK_Person;"
   ]
  },
  {
   "cell_type": "markdown",
   "id": "fd5b42bc",
   "metadata": {},
   "source": [
    "# Foreign key query\n",
    "\n",
    "- CREATE TABLE Orders (\n",
    "    OrderID int NOT NULL PRIMARY KEY,\n",
    "    OrderNumber int NOT NULL,\n",
    "    PersonID int FOREIGN KEY REFERENCES Persons(PersonID)\n",
    ");\n",
    "\n",
    "- CREATE TABLE Orders (\n",
    "    OrderID int NOT NULL,\n",
    "    OrderNumber int NOT NULL,\n",
    "    PersonID int,\n",
    "    PRIMARY KEY (OrderID),\n",
    "    CONSTRAINT FK_PersonOrder FOREIGN KEY (PersonID)\n",
    "    REFERENCES Persons(PersonID)\n",
    ");\n",
    "\n",
    "- ALTER TABLE Orders\n",
    "ADD FOREIGN KEY (PersonID) REFERENCES Persons(PersonID);\n",
    "\n",
    "- ALTER TABLE Orders\n",
    "ADD CONSTRAINT FK_PersonOrder\n",
    "FOREIGN KEY (PersonID) REFERENCES Persons(PersonID);\n",
    "\n",
    "- ALTER TABLE Orders\n",
    "DROP FOREIGN KEY FK_PersonOrder;\n",
    "\n",
    "- ALTER TABLE Orders\n",
    "DROP CONSTRAINT FK_PersonOrder;"
   ]
  },
  {
   "cell_type": "markdown",
   "id": "2f70aa2c",
   "metadata": {},
   "source": [
    "# Commonly used query\n",
    "\n",
    "**Inserting data:**\n",
    "- insert into student(roll,city) values(77,'Patna');\n",
    "- insert into student(77, null, 'Patna');\n",
    "\n",
    "**Add coulumn:**\n",
    "- alter table student add(mobile number);\n",
    "\n",
    "**Change datatype:**\n",
    "- alter table student modify(mobile varchar(10));\n",
    "\n",
    "**Delete coulmn:**\n",
    "- alter table student drop column city;\n",
    "- alter table student drop(city, roll);\n",
    "\n",
    "**Update value:**\n",
    "- update student set mobile =1234;\n",
    "- update student set mobile=987, city='delhi' where roll=99;\n",
    "\n",
    "**Making column empty:**\n",
    "- update student set mobile=null where city='kanpur';\n",
    "\n",
    "**Delete table and record:**\n",
    "- drop table student;  ---> delete table along with record\n",
    "- truncate table student;   ---> only delete records not table\n",
    "- delete from student;   ---> only delete records not table\n",
    "- delete from student where roll=12;"
   ]
  },
  {
   "cell_type": "markdown",
   "id": "452c627b",
   "metadata": {},
   "source": [
    "# What is constraints?\n",
    "SQL constraints are used to specify rules for data in a table.\n",
    "\n",
    "- `NOT NULL`: CREATE TABLE Persons (\n",
    "    ID int `NOT NULL`,\n",
    "    LastName varchar(255) NOT NULL,\n",
    "    FirstName varchar(255) NOT NULL,\n",
    "    Age int\n",
    ");\n",
    "\n",
    "- `UNIQUE`: CREATE TABLE Persons (\n",
    "    ID int `UNIQUE`,\n",
    "    LastName varchar(255) NOT NULL,\n",
    "    FirstName varchar(255) NOT NULL,\n",
    "    Age int\n",
    ");\n",
    "\n",
    "- `CHECK`: CREATE TABLE Persons (\n",
    "    ID int NOT NULL,\n",
    "    LastName varchar(255) NOT NULL,\n",
    "    FirstName varchar(255) NOT NULL,\n",
    "    Age int `CHECK`(age>18)\n",
    ");\n",
    "\n",
    "- `DEFAULT`: CREATE TABLE Persons (\n",
    "    ID int NOT NULL,\n",
    "    LastName varchar(255) NOT NULL,\n",
    "    FirstName varchar(255) NOT NULL,\n",
    "    Age int `DEFAULT` 0\n",
    ");\n",
    "\n",
    "- `INDEX`: CREATE `INDEX` idx_lastname\n",
    "ON Persons (LastName);\n",
    "\n",
    "**We can apply more than one constraints as well on one column:**\n",
    "\n",
    "- CREATE TABLE Persons (\n",
    "    ID int ,\n",
    "    LastName varchar(255) NOT NULL,\n",
    "    FirstName varchar(255) NOT NULL,\n",
    "    Age int `NOT NULL` `UNIQUE` `CHECK`(AGE>18)\n",
    "    \n",
    "**We can name constraints as well:**\n",
    "\n",
    "- create table sample(roll primary key, name varchar(20) `CONSTRAINT` my_constraint `UNIQUE`);\n",
    "- alter table sample drop my_constraint;"
   ]
  },
  {
   "cell_type": "markdown",
   "id": "8655e759",
   "metadata": {},
   "source": [
    "# How can we check constraints applied on existing table?\n",
    "- describe user_constraints;\n",
    "- select constraint_name, constraint_type, search_condition from user_constraints where table_name='SAMPLE';"
   ]
  },
  {
   "cell_type": "markdown",
   "id": "34a2d05f",
   "metadata": {},
   "source": [
    "# What is subquery?\n",
    "A subquery is a query nested within another query. It can be used to retrieve data from one table based on values from another table."
   ]
  },
  {
   "cell_type": "markdown",
   "id": "bca12bd0",
   "metadata": {},
   "source": [
    "# What is corelated subquery?\n",
    "A corlated subquery is a subquery that references columns from the outer query. It is executed for each row of outer query."
   ]
  },
  {
   "cell_type": "markdown",
   "id": "88746ec1",
   "metadata": {},
   "source": [
    "# What is JOIN?\n",
    "A JOIN clause is used to combine rows from two or more tables, based on a related column between them.\n",
    "\n",
    "- SELECT Orders.OrderID, Customers.CustomerName\n",
    "FROM Orders\n",
    "INNER JOIN Customers ON Orders.CustomerID = Customers.CustomerID;\n",
    "\n",
    "- SELECT Customers.CustomerName, Orders.OrderID\n",
    "FROM Customers\n",
    "LEFT JOIN Orders ON Customers.CustomerID = Orders.CustomerID\n",
    "ORDER BY Customers.CustomerName;\n",
    "\n",
    "- SELECT Orders.OrderID, Employees.LastName, Employees.FirstName\n",
    "FROM Orders\n",
    "RIGHT JOIN Employees ON Orders.EmployeeID = Employees.EmployeeID\n",
    "ORDER BY Orders.OrderID;\n",
    "\n",
    "- SELECT Customers.CustomerName, Orders.OrderID\n",
    "FROM Customers\n",
    "FULL OUTER JOIN Orders ON Customers.CustomerID=Orders.CustomerID\n",
    "ORDER BY Customers.CustomerName;"
   ]
  },
  {
   "cell_type": "markdown",
   "id": "fa580853",
   "metadata": {},
   "source": [
    "# Difference between join and subquery?\n",
    "A subquery is a query nested within another query while join is used to combine rows from two or more table based on related columns."
   ]
  },
  {
   "cell_type": "markdown",
   "id": "66fbabc5",
   "metadata": {},
   "source": [
    "# What is self join?\n",
    "Self join is join operation where table is joined with itself. It is useful when we want to compare rows with the same table.\n",
    "\n",
    "- SELECT A.CustomerName AS CustomerName1, B.CustomerName AS CustomerName2, A.City\n",
    "FROM Customers A, Customers B\n",
    "WHERE A.CustomerID <> B.CustomerID\n",
    "AND A.City = B.City\n",
    "ORDER BY A.City;"
   ]
  },
  {
   "cell_type": "markdown",
   "id": "9c07d69e",
   "metadata": {},
   "source": [
    "# Difference between UNION and JOIN\n",
    "UNION is used to combine the result-set of two or more SELECT statements while JOIN combines columns from two or more tables horizontally based on related column."
   ]
  },
  {
   "cell_type": "markdown",
   "id": "e6b18130",
   "metadata": {},
   "source": [
    "# What is view?\n",
    "A view is a virtual table derived from one or more tables. It does not store data but provides a way to present data in a customised or simple manner.\n",
    "- create view my_view a select city, roll from student;"
   ]
  },
  {
   "cell_type": "markdown",
   "id": "112de389",
   "metadata": {},
   "source": [
    "# What is stored procedure?\n",
    "A stored procedure is a precompiled set of SQL statements that perform a particular task.\n",
    "\n",
    "- CREATE PROCEDURE SelectAllCustomers\n",
    "AS\n",
    "SELECT * FROM Customers\n",
    "GO;\n",
    "- EXEC SelectAllCustomers;"
   ]
  },
  {
   "cell_type": "markdown",
   "id": "08a32236",
   "metadata": {},
   "source": [
    "# What is CASE experession?\n",
    "The CASE expression goes through conditions and returns a value when the first condition is met (like an if-then-else statement).\n",
    "- <pre>\n",
    "SELECT OrderID, Quantity,\n",
    "CASE\n",
    "    WHEN Quantity > 30 THEN 'The quantity is greater than 30'\n",
    "    WHEN Quantity = 30 THEN 'The quantity is 30'\n",
    "    ELSE 'The quantity is under 30'\n",
    "END AS QuantityText\n",
    "FROM OrderDetails;\n",
    "</pre>"
   ]
  },
  {
   "cell_type": "markdown",
   "id": "ea467db4",
   "metadata": {},
   "source": [
    "# Difference between GROUP BY  and HAVING clause\n",
    "GROUP BY  is used to group rows based on one or more columns, while HAVING is used to filter grouped rows based on specific condition."
   ]
  },
  {
   "cell_type": "markdown",
   "id": "d7c76e47",
   "metadata": {},
   "source": [
    "# Difference between WHERE and HAVING clause\n",
    "WHERE is used to filter rows before grouping in query while HAVING is used to filter grouped rows after grouping  "
   ]
  },
  {
   "cell_type": "markdown",
   "id": "fa1ab147",
   "metadata": {},
   "source": [
    "# What is purpose of SAVEPOINT statement?\n",
    "A SVEPOINT statement is used to define a specific point within a transaction to which you can roll back. It allows us to undo changes upto specific savepoint without rolling back entire transaction."
   ]
  },
  {
   "cell_type": "markdown",
   "id": "664a1e25",
   "metadata": {},
   "source": [
    "# What is normalization?\n",
    "Normalization is process of organizing data in a database to eliminate rdundency and depedndency issues. It involves splitting tables into smaller, more manageable entities.\n",
    "\n",
    "- 1NF: It states that an attribute of a table cannot hold multiple values. It must hold only single-valued attribute.\n",
    "- 2NF: Should be in 1NF and all non-key attributes are fully functional dependent on the primary key.\n",
    "- 3NF: Sould be in 2NF and non key coulmns depend only on primary key not on other non-key column.\n",
    "- 4NF: Should be in BCNF and no multivalued dependency OR For single value of A multiple value of B should not exist\n",
    "- 5NF: Should be in 4NF and eliminate joining dependency\n"
   ]
  },
  {
   "cell_type": "markdown",
   "id": "64f156dd",
   "metadata": {},
   "source": [
    "# What is transaction?\n",
    "The transaction is a set of logically related operation. It contains a group of tasks."
   ]
  },
  {
   "cell_type": "markdown",
   "id": "fa867917",
   "metadata": {},
   "source": [
    "# What is ACID property?\n",
    "To ensure integrity of data, database must follow ACID properties:\n",
    "\n",
    "- Atomicity: Either all operations of transaction are properly reflected in the database or none \n",
    "- Consistency: if a change in the database is made, it should remain preserved always\n",
    "- Isolation: It means if two operations are being performed on two different databases, they may not affect the value of one another. In the case of transactions, when two or more transactions occur simultaneously, the consistency should remain maintained. Any changes that occur in any particular transaction will not be seen by other transactions until the change is not committed in the memory.\n",
    "- Durability: Data after the successful execution of the operation becomes permanent in the database. The durability of the data should be so perfect that even if the system fails or leads to a crash, the database still survives."
   ]
  },
  {
   "cell_type": "markdown",
   "id": "94311a18",
   "metadata": {},
   "source": [
    "# What is deadlock?\n",
    "A deadlock is a situation where two or more transactions are unable to proceed because each is waiting for a resource held by another transaction."
   ]
  }
 ],
 "metadata": {
  "kernelspec": {
   "display_name": "Python 3 (ipykernel)",
   "language": "python",
   "name": "python3"
  },
  "language_info": {
   "codemirror_mode": {
    "name": "ipython",
    "version": 3
   },
   "file_extension": ".py",
   "mimetype": "text/x-python",
   "name": "python",
   "nbconvert_exporter": "python",
   "pygments_lexer": "ipython3",
   "version": "3.9.6"
  }
 },
 "nbformat": 4,
 "nbformat_minor": 5
}
