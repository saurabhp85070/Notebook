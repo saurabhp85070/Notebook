{
 "cells": [
  {
   "cell_type": "code",
   "execution_count": null,
   "id": "dca94292",
   "metadata": {},
   "outputs": [],
   "source": [
    "import numpy as np\n",
    "import pandas as pd\n",
    "\n",
    "\n",
    "\n",
    "\n",
    "\n",
    "import matplotlib.pyplot as plt\n",
    "%matplotlib inline"
   ]
  },
  {
   "cell_type": "markdown",
   "id": "267fa1ac",
   "metadata": {},
   "source": [
    "# scikit-learn"
   ]
  },
  {
   "cell_type": "code",
   "execution_count": null,
   "id": "29da9291",
   "metadata": {},
   "outputs": [],
   "source": [
    "msk = np.random.rand(len(df)) < 0.8\n",
    "train = cdf[msk]\n",
    "test = cdf[~msk]\n",
    "\n",
    "train_x = np.asanyarray(train[['ENGINESIZE']]) #  dataframe to ndarray\n",
    "train_y = np.asanyarray(train[['CO2EMISSIONS']])\n",
    "\n",
    "regr.fit(train_x, train_y)"
   ]
  },
  {
   "cell_type": "markdown",
   "id": "a985ed52",
   "metadata": {},
   "source": [
    "**Splitting data into training and test set**"
   ]
  },
  {
   "cell_type": "code",
   "execution_count": null,
   "id": "7bffe353",
   "metadata": {},
   "outputs": [],
   "source": [
    "from sklearn.model_selection import train_test_split \n",
    "\n",
    "X_train, X_test, y_train, y_test = train_test_split(X, y, test_size=0.2, random_state=42) \n",
    "# all variables are of ndarray type"
   ]
  },
  {
   "cell_type": "markdown",
   "id": "c93d9d4a",
   "metadata": {},
   "source": [
    "**Feature Scaling**"
   ]
  },
  {
   "cell_type": "code",
   "execution_count": null,
   "id": "1bfe3a60",
   "metadata": {},
   "outputs": [],
   "source": [
    "from sklearn.preprocessing import StandardScaler, MinMaxScaler, RobustScaler \n",
    "\n",
    "scaler = StandardScaler() \n",
    "\n",
    "# scaler: StandardScaler(), MinMaxScaler(), RobustScaler()\n",
    "\n",
    "X_train = scaler.fit_transform(X_train)    \n",
    "X_test = scaler.transform(X_test) \n",
    "\n",
    "# it's a common practice to perform feature scaling on the independent variables (X) rather than the dependent variable (y)."
   ]
  },
  {
   "cell_type": "markdown",
   "id": "3bc1a742",
   "metadata": {},
   "source": [
    "**PCA**"
   ]
  },
  {
   "cell_type": "code",
   "execution_count": null,
   "id": "03eede27",
   "metadata": {},
   "outputs": [],
   "source": [
    "from sklearn.decomposition import PCA\n",
    "\n",
    "pca = PCA(n_components=2)\n",
    "X_pca = pca.fit_transform(X_scaled)\n",
    "X_pca"
   ]
  },
  {
   "cell_type": "markdown",
   "id": "bf232177",
   "metadata": {},
   "source": [
    "**Categorical value**"
   ]
  },
  {
   "cell_type": "code",
   "execution_count": null,
   "id": "396d4f55",
   "metadata": {},
   "outputs": [],
   "source": [
    "from sklearn.preprocessing import LabelEncoder\n",
    "\n",
    "# Initialize LabelEncoder\n",
    "label_encoder = LabelEncoder()\n",
    "\n",
    "# Apply label encoding to the 'Size' column\n",
    "df['column1_encoded'] = label_encoder.fit_transform(df['column1'])\n",
    "\n",
    "# One-Hot Encoding\n",
    "\n",
    "# Use pandas' get_dummies() function for one-hot encoding\n",
    "one_hot_encoded = pd.get_dummies(df, columns=['Color'])"
   ]
  },
  {
   "cell_type": "markdown",
   "id": "702ee331",
   "metadata": {},
   "source": [
    "**Linear Regression**"
   ]
  },
  {
   "cell_type": "code",
   "execution_count": null,
   "id": "20a8ef2f",
   "metadata": {},
   "outputs": [],
   "source": [
    "from sklearn import linear model\n",
    "from sklearn.linear_model import LinearRegression\n",
    "\n",
    "lr_clf = LinearRegression()\n",
    "lr_clf.fit(X_train, y_train) # x_train and y_train should be a numpy array\n",
    "\n",
    "lr_clf.coef_\n",
    "lr_clf.intercept_\n",
    "\n",
    "y_predicted = lr_clf.predict(X_test)"
   ]
  },
  {
   "cell_type": "markdown",
   "id": "8aee696c",
   "metadata": {},
   "source": [
    "**Cost Function**"
   ]
  },
  {
   "cell_type": "code",
   "execution_count": null,
   "id": "d5d691fa",
   "metadata": {},
   "outputs": [],
   "source": [
    "from sklearn.metrics import mean_squared_error, mean_absolute_error, log_loss, hinge_loss\n",
    "\n",
    "# Mean Squared Error (MSE)\n",
    "mse = mean_squared_error(y_true, y_pred)\n",
    "\n",
    "# Mean Absolute Error (MAE)\n",
    "mae = mean_absolute_error(y_true, y_pred)\n",
    "\n",
    "# Log Loss (Cross-Entropy Loss)\n",
    "log_loss = log_loss(y_true, y_pred)  # For binary or multi-class classification\n",
    "\n",
    "# Hinge Loss\n",
    "h_loss = hinge_loss(y_true, y_pred)  # For binary classification"
   ]
  },
  {
   "cell_type": "markdown",
   "id": "e7a0ab66",
   "metadata": {},
   "source": [
    "**Polynomial Regression**"
   ]
  },
  {
   "cell_type": "code",
   "execution_count": null,
   "id": "7879bdb0",
   "metadata": {},
   "outputs": [],
   "source": [
    "from sklearn.preprocessing import PolynomialFeatures\n",
    "\n",
    "poly_clf = PolynomialFeatures(degree=2)\n",
    "X_train_poly = poly_clf.fit_transform(X_train)\n",
    "\n",
    "lr_clf = LinearRegression()\n",
    "train_y_ = lr_clf.fit(X_train_poly, y_train)\n",
    "\n",
    "X_test_poly = poly_clf.transform(X_test)\n",
    "y_predicted = lr_clf.predict(X_test_poly)"
   ]
  },
  {
   "cell_type": "markdown",
   "id": "c5274a21",
   "metadata": {},
   "source": [
    "**K Nearest Neighbors**"
   ]
  },
  {
   "cell_type": "code",
   "execution_count": null,
   "id": "0fb3bf9e",
   "metadata": {},
   "outputs": [],
   "source": [
    "from sklearn.neighbors import KNeighborsClassifier\n",
    "\n",
    "knn_clf = KNeighborsClassifier(n_neighbors = 4)\n",
    "\n",
    "knn_clf.fit(X_train, y_train)\n",
    "\n",
    "y_predicted = knn_clf.predict(X_test) "
   ]
  },
  {
   "cell_type": "markdown",
   "id": "ee7b317d",
   "metadata": {},
   "source": [
    "**Decision Tree**"
   ]
  },
  {
   "cell_type": "code",
   "execution_count": null,
   "id": "e6aa5c9e",
   "metadata": {},
   "outputs": [],
   "source": [
    "from sklearn.tree import DecisionTreeClassifier\n",
    "\n",
    "dt_clf = DecisionTreeClassifier(criterion=\"entropy\", max_depth = 4)\n",
    "\n",
    "dt_clf.fit(X_train, y_train)\n",
    "\n",
    "y_predicted = dt_clf.predict(X_test) \n",
    "\n",
    "tree.plot_tree(dt_clf)\n",
    "plt.show()"
   ]
  },
  {
   "cell_type": "markdown",
   "id": "f02691d0",
   "metadata": {},
   "source": [
    "**Random Forest**"
   ]
  },
  {
   "cell_type": "code",
   "execution_count": null,
   "id": "87c48022",
   "metadata": {},
   "outputs": [],
   "source": [
    "from sklearn.ensemble import RandomForestClassifier  \n",
    "\n",
    "rf_clf = RandomForestClassifier(n_estimators= 10, criterion=\"entropy\")  \n",
    "\n",
    "rf_clf.fit(X_train, y_train)  \n",
    "\n",
    "y_predicted = rf_clf.predict(X_test) "
   ]
  },
  {
   "cell_type": "markdown",
   "id": "6041fec6",
   "metadata": {},
   "source": [
    "**Support Vector Machine**"
   ]
  },
  {
   "cell_type": "code",
   "execution_count": null,
   "id": "f3de3243",
   "metadata": {},
   "outputs": [],
   "source": [
    "from sklearn.svm import SVC\n",
    "\n",
    "svn_clf = SVC(C=1.0, kernel='linear', gamma='auto_deprecated', random_state=0)  \n",
    "\n",
    "# The model performance can be altered by changing the value of C(Regularization factor), gamma, and kernel.\n",
    "\n",
    "# kernel: 'linear' 'rbf', 'sigmoid', 'polynomial'\n",
    "\n",
    "svm_clf.fit(X_train, y_train)  \n",
    "\n",
    "y_predicted = svm_clf.predict(X_test)"
   ]
  },
  {
   "cell_type": "markdown",
   "id": "b8adc6f6",
   "metadata": {},
   "source": [
    "**Logistic Regression**"
   ]
  },
  {
   "cell_type": "code",
   "execution_count": null,
   "id": "26c7c32d",
   "metadata": {},
   "outputs": [],
   "source": [
    "from sklearn.linear_model import LogisticRegression\n",
    "\n",
    "log_clf = LogisticRegression(C=0.01, solver='liblinear')\n",
    "\n",
    "log_clf.fit(X_train, y_train)\n",
    "\n",
    "y_predicted = log_clf.predict(X_test)"
   ]
  },
  {
   "cell_type": "markdown",
   "id": "b59c3edf",
   "metadata": {},
   "source": [
    "**Naive Bayes**"
   ]
  },
  {
   "cell_type": "code",
   "execution_count": null,
   "id": "ccb40d7a",
   "metadata": {},
   "outputs": [],
   "source": [
    "from sklearn.naive_bayes import GaussianNB  \n",
    "\n",
    "nb_clf = GaussianNB()  \n",
    "\n",
    "nb_clf.fit(X_train, y_train)\n",
    "\n",
    "y_predicted = nb_clf.predict(X_test)"
   ]
  },
  {
   "cell_type": "markdown",
   "id": "7e35d088",
   "metadata": {},
   "source": [
    "**Evaluation Metrics: Regression**"
   ]
  },
  {
   "cell_type": "code",
   "execution_count": null,
   "id": "184d8f1f",
   "metadata": {},
   "outputs": [],
   "source": [
    "from sklearn.metrics import mean_squared_error, mean_absolute_error\n",
    "\n",
    "# Mean Squared Error (MSE)\n",
    "mse = mean_squared_error(y_true, y_pred)\n",
    "\n",
    "# Mean Absolute Error (MAE)\n",
    "mae = mean_absolute_error(y_true, y_pred)\n",
    "                          \n",
    "# RMSE (Root Mean Squared Error)\n",
    "rmse = np.sqrt(mse)\n",
    "\n",
    "# RAE (Relative Absolute Error)\n",
    "rae = np.mean(np.abs(y_true - y_pred)) / np.mean(np.abs(y_true - np.mean(y_true)))\n",
    "\n",
    "# RSE (Relative Squared Error)\n",
    "rse = np.mean((y_true - y_pred) ** 2) / np.mean((y_true - np.mean(y_true)) ** 2)"
   ]
  },
  {
   "cell_type": "markdown",
   "id": "3fcd51dc",
   "metadata": {},
   "source": [
    "**Evaluation Metrics: Classification**"
   ]
  },
  {
   "cell_type": "code",
   "execution_count": null,
   "id": "8aa08ebd",
   "metadata": {},
   "outputs": [],
   "source": [
    "from sklearn.metrics import classification_report, confusion_matrix  \n",
    "from sklearn.metrics import accuracy_score, precision_score, recall_score,  r2_score, f1_score, jaccard_score\n",
    "\n",
    "classification_report(y_true, y_pred)\n",
    "confusion_matrix(y_true, y_pred)\n",
    "\n",
    "accuracy = accuracy_score(y_true, y_pred)\n",
    "precision = precision_score(y_true, y_pred)\n",
    "recall = recall_score(y_true, y_pred)\n",
    "r2 = r2_score(y_true, y_pred)\n",
    "f1 = f1_score(y_true, y_pred, average='weighted')\n",
    "jaccard = jaccard_score(y_true, y_pred, pos_label=2)"
   ]
  },
  {
   "cell_type": "code",
   "execution_count": 1,
   "id": "fd9cba2c",
   "metadata": {},
   "outputs": [
    {
     "data": {
      "text/plain": [
       "array([[3, 2],\n",
       "       [1, 4]], dtype=int64)"
      ]
     },
     "execution_count": 1,
     "metadata": {},
     "output_type": "execute_result"
    }
   ],
   "source": [
    "from sklearn.metrics import confusion_matrix\n",
    "\n",
    "# Example ground truth and predicted labels\n",
    "y_true = [0, 1, 0, 1, 1, 1, 0, 0, 1, 0]\n",
    "y_pred = [0, 1, 1, 1, 1, 0, 0, 1, 1, 0]\n",
    "\n",
    "# Calculate confusion matrix\n",
    "cm = confusion_matrix(y_true, y_pred)\n",
    "cm"
   ]
  },
  {
   "cell_type": "code",
   "execution_count": null,
   "id": "0b1ae43c",
   "metadata": {},
   "outputs": [],
   "source": []
  },
  {
   "cell_type": "code",
   "execution_count": null,
   "id": "cf923d41",
   "metadata": {},
   "outputs": [],
   "source": []
  },
  {
   "cell_type": "code",
   "execution_count": null,
   "id": "2a129aa9",
   "metadata": {},
   "outputs": [],
   "source": []
  },
  {
   "cell_type": "code",
   "execution_count": null,
   "id": "0c9376d5",
   "metadata": {},
   "outputs": [],
   "source": []
  },
  {
   "cell_type": "code",
   "execution_count": null,
   "id": "603c4fc2",
   "metadata": {},
   "outputs": [],
   "source": []
  },
  {
   "cell_type": "code",
   "execution_count": null,
   "id": "5c5219fc",
   "metadata": {},
   "outputs": [],
   "source": []
  },
  {
   "cell_type": "code",
   "execution_count": null,
   "id": "04655f2e",
   "metadata": {},
   "outputs": [],
   "source": []
  },
  {
   "cell_type": "code",
   "execution_count": null,
   "id": "3c00fca7",
   "metadata": {},
   "outputs": [],
   "source": []
  },
  {
   "cell_type": "code",
   "execution_count": null,
   "id": "f79a1bb4",
   "metadata": {},
   "outputs": [],
   "source": []
  },
  {
   "cell_type": "markdown",
   "id": "2e98402e",
   "metadata": {},
   "source": [
    "# Django"
   ]
  },
  {
   "cell_type": "code",
   "execution_count": null,
   "id": "0dcf4fbb",
   "metadata": {},
   "outputs": [],
   "source": [
    "# views.py:\n",
    "from django.shortcuts import render, redirect, get_object_or_404\n",
    "from django.http import HttpResponse, HttpResponseRedirect, HttpResponseNotFound, JsonResponse\n",
    "from django.core.mail import send_mail, EmailMultiAlternatives, EmailMessage\n",
    "from django.template.loader import render_to_string\n",
    "from django.views import View\n",
    "\n",
    "# urls.py:\n",
    "from django.contrib import admin\n",
    "from django.conf import settings\n",
    "from django.urls import path, include, reverse, re_path\n",
    "from django.conf.urls.static import static\n",
    "\n",
    "# forms.py:\n",
    "from django import forms\n",
    "from django.forms.widgets import NumberInput\n",
    "\n",
    "# models.py:\n",
    "from django.db import models\n",
    "from tinymce.models import HTMLField\n",
    "from autoslug import AutoSlugField\n",
    "\n",
    "# tests.py:\n",
    "from django.test import TestCase"
   ]
  },
  {
   "cell_type": "markdown",
   "id": "93c8ff41-985d-4be5-a114-49c29f091123",
   "metadata": {},
   "source": [
    "# Django REST Framework"
   ]
  },
  {
   "cell_type": "code",
   "execution_count": null,
   "id": "711b2c1b-4e00-44bb-9004-3b4f3db5c45b",
   "metadata": {},
   "outputs": [],
   "source": [
    "from rest_framework import serializers\n",
    "from rest_framework.renderers import JSONRenderer\n",
    "from rest_framework.response import Response\n",
    "from rest_framework.decorators import api_view\n",
    "from rest_framework import status\n",
    "from rest_framework.parsers import JSONParser\n",
    "from django.views.decorators.csrf import csrf_exempt\n",
    "from rest_framework import viewsets\n",
    "from rest_framework.views import APIView"
   ]
  }
 ],
 "metadata": {
  "kernelspec": {
   "display_name": "Python 3 (ipykernel)",
   "language": "python",
   "name": "python3"
  },
  "language_info": {
   "codemirror_mode": {
    "name": "ipython",
    "version": 3
   },
   "file_extension": ".py",
   "mimetype": "text/x-python",
   "name": "python",
   "nbconvert_exporter": "python",
   "pygments_lexer": "ipython3",
   "version": "3.9.6"
  }
 },
 "nbformat": 4,
 "nbformat_minor": 5
}
