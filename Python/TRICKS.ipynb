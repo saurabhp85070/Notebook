{
 "cells": [
  {
   "cell_type": "markdown",
   "id": "04bed8b6",
   "metadata": {},
   "source": [
    "# trick 1"
   ]
  },
  {
   "cell_type": "code",
   "execution_count": 11,
   "id": "5a2198ea",
   "metadata": {},
   "outputs": [
    {
     "name": "stdout",
     "output_type": "stream",
     "text": [
      "Return a copy of the string with leading whitespace removed.\n",
      "\n",
      "If chars is given and not None, remove characters in chars instead.\n"
     ]
    }
   ],
   "source": [
    "print(str.lstrip.__doc__)"
   ]
  },
  {
   "cell_type": "markdown",
   "id": "e96c5170",
   "metadata": {},
   "source": [
    "# trick 2"
   ]
  },
  {
   "cell_type": "code",
   "execution_count": 9,
   "id": "69b5e95a",
   "metadata": {},
   "outputs": [
    {
     "name": "stdout",
     "output_type": "stream",
     "text": [
      "i=1 j=5\n",
      "i=2 j=6\n",
      "i=3 j=7\n",
      "i=4 j=8\n",
      "i=5 j=9\n"
     ]
    }
   ],
   "source": [
    "list1=[1,2,3,4,5]\n",
    "list2=[5,6,7,8,9]\n",
    "\n",
    "for i,j in zip(list1, list2):\n",
    "    print(f\"{i=} {j=}\") # trick"
   ]
  },
  {
   "cell_type": "code",
   "execution_count": 10,
   "id": "5a056da5",
   "metadata": {},
   "outputs": [
    {
     "name": "stdout",
     "output_type": "stream",
     "text": [
      "i = 1 j = 5\n",
      "i = 2 j = 6\n",
      "i = 3 j = 7\n",
      "i = 4 j = 8\n",
      "i = 5 j = 9\n"
     ]
    }
   ],
   "source": [
    "list1=[1,2,3,4,5]\n",
    "list2=[5,6,7,8,9]\n",
    "\n",
    "for i,j in zip(list1, list2):\n",
    "    print(f\"{i = } {j = }\") # trick"
   ]
  },
  {
   "cell_type": "markdown",
   "id": "5882aca6",
   "metadata": {},
   "source": [
    "# trick 3: merge two dictionaries"
   ]
  },
  {
   "cell_type": "code",
   "execution_count": 7,
   "id": "97dff428",
   "metadata": {},
   "outputs": [
    {
     "name": "stdout",
     "output_type": "stream",
     "text": [
      "{'name': 'ramesh', 'age': None, 'gender': 'male'}\n",
      "{'name': 'ramesh', 'age': None, 'gender': 'male'}\n",
      "{'name': 'ramesh', 'age': None, 'gender': 'male'}\n"
     ]
    }
   ],
   "source": [
    "profile={\"name\":None, \"age\":None, \"gender\":None}\n",
    "user_profile={\"name\": \"ramesh\", \"gender\":\"male\"}\n",
    "\n",
    "profile.update(user_profile)\n",
    "print(profile)\n",
    "\n",
    "profile={**profile, **user_profile}\n",
    "print(profile)\n",
    "\n",
    "profile |= user_profile # profile = profile | user_profile\n",
    "print(profile)"
   ]
  },
  {
   "cell_type": "markdown",
   "id": "2a695afc-d5e3-4c32-a177-5bdd18708821",
   "metadata": {},
   "source": [
    "# trick 4: modify global vraible inside function"
   ]
  },
  {
   "cell_type": "code",
   "execution_count": 1,
   "id": "cda5dbdb-cc5e-46e5-81a0-7bf8dbf8dfe4",
   "metadata": {},
   "outputs": [
    {
     "ename": "UnboundLocalError",
     "evalue": "local variable 'global_var' referenced before assignment",
     "output_type": "error",
     "traceback": [
      "\u001b[1;31m---------------------------------------------------------------------------\u001b[0m",
      "\u001b[1;31mUnboundLocalError\u001b[0m                         Traceback (most recent call last)",
      "Cell \u001b[1;32mIn[1], line 7\u001b[0m\n\u001b[0;32m      4\u001b[0m     global_var \u001b[38;5;241m+\u001b[39m\u001b[38;5;241m=\u001b[39m \u001b[38;5;241m10\u001b[39m\n\u001b[0;32m      5\u001b[0m     \u001b[38;5;28mprint\u001b[39m(global_var)\n\u001b[1;32m----> 7\u001b[0m \u001b[43mfunc\u001b[49m\u001b[43m(\u001b[49m\u001b[43m)\u001b[49m\n",
      "Cell \u001b[1;32mIn[1], line 4\u001b[0m, in \u001b[0;36mfunc\u001b[1;34m()\u001b[0m\n\u001b[0;32m      3\u001b[0m \u001b[38;5;28;01mdef\u001b[39;00m \u001b[38;5;21mfunc\u001b[39m():\n\u001b[1;32m----> 4\u001b[0m     global_var \u001b[38;5;241m+\u001b[39m\u001b[38;5;241m=\u001b[39m \u001b[38;5;241m10\u001b[39m\n\u001b[0;32m      5\u001b[0m     \u001b[38;5;28mprint\u001b[39m(global_var)\n",
      "\u001b[1;31mUnboundLocalError\u001b[0m: local variable 'global_var' referenced before assignment"
     ]
    }
   ],
   "source": [
    "global_var = 10\n",
    "\n",
    "def func():\n",
    "    global_var += 10 # trying to modify the global_var\n",
    "    print(global_var)\n",
    "\n",
    "func()"
   ]
  },
  {
   "cell_type": "markdown",
   "id": "b89e70a5-4f02-48bd-8cf1-1176731ff2f5",
   "metadata": {},
   "source": [
    "We get error becuase when function in executed python will first look for `global_var` in function scope and since it is not present there so we get `UnboundLocalError`."
   ]
  },
  {
   "cell_type": "code",
   "execution_count": 2,
   "id": "1fa8b347-cab9-4ae6-93dc-4ba29246d2ea",
   "metadata": {},
   "outputs": [
    {
     "name": "stdout",
     "output_type": "stream",
     "text": [
      "20\n"
     ]
    }
   ],
   "source": [
    "global_var = 10\n",
    "\n",
    "def func():\n",
    "    global global_var # using global we can modify \n",
    "    global_var += 10\n",
    "    print(global_var)\n",
    "\n",
    "func()"
   ]
  },
  {
   "cell_type": "markdown",
   "id": "985f90f7-afdf-4f51-ac2f-02b66c47183e",
   "metadata": {},
   "source": [
    "# trick 5: code optimization with global variable"
   ]
  },
  {
   "cell_type": "code",
   "execution_count": 3,
   "id": "c912df35-aecb-44cf-b4cd-94d4d44420bf",
   "metadata": {},
   "outputs": [
    {
     "data": {
      "text/plain": [
       "10000"
      ]
     },
     "execution_count": 3,
     "metadata": {},
     "output_type": "execute_result"
    }
   ],
   "source": [
    "global_var = 10\n",
    "\n",
    "def func():\n",
    "    result = 0\n",
    "    for i in range(1000):\n",
    "        result += global_var * 1 # not modifying, multiply global_var by 1 and add it to result\n",
    "    return result\n",
    "\n",
    "func()"
   ]
  },
  {
   "cell_type": "markdown",
   "id": "4cc41102-0d2a-4a0c-ae7c-3659a594dab2",
   "metadata": {},
   "source": [
    "here we are making use of global variable `global_var` 1000 times and inside function python each time look first for `global_var` in function scope or its local scope and when python can't find it then it look for global scope. Since it is time consuming and hence not very efficient approach."
   ]
  },
  {
   "cell_type": "code",
   "execution_count": 4,
   "id": "0b31fa08-773a-4445-b0ec-8272f6291b36",
   "metadata": {},
   "outputs": [
    {
     "data": {
      "text/plain": [
       "10000"
      ]
     },
     "execution_count": 4,
     "metadata": {},
     "output_type": "execute_result"
    }
   ],
   "source": [
    "global_var = 10\n",
    "\n",
    "def func():\n",
    "    result = 0\n",
    "    local_var = global_var\n",
    "    for i in range(1000):\n",
    "        result += local_var * 1 \n",
    "    return result\n",
    "\n",
    "func()"
   ]
  },
  {
   "cell_type": "markdown",
   "id": "3009dd5c-26ab-4d7f-be81-9048f3f2c181",
   "metadata": {},
   "source": [
    "# trick 6: long integer"
   ]
  },
  {
   "cell_type": "code",
   "execution_count": 10,
   "id": "4af8fb13-303f-482f-bf60-3d2a649490a6",
   "metadata": {},
   "outputs": [
    {
     "name": "stdout",
     "output_type": "stream",
     "text": [
      "<class 'int'> <class 'int'>\n"
     ]
    },
    {
     "data": {
      "text/plain": [
       "4000000000000000"
      ]
     },
     "execution_count": 10,
     "metadata": {},
     "output_type": "execute_result"
    }
   ],
   "source": [
    "num1 = 2_000_000_000_000_000 # readable in this form\n",
    "num2 = 2_000_000_000_000_000\n",
    "\n",
    "print(type(num1), type(num2))\n",
    "\n",
    "result = num1 + num2\n",
    "result # output is not readable"
   ]
  },
  {
   "cell_type": "code",
   "execution_count": 11,
   "id": "e98e9b62-9d32-472b-85bd-6e7518e8d113",
   "metadata": {},
   "outputs": [
    {
     "name": "stdout",
     "output_type": "stream",
     "text": [
      "4_000_000_000_000_000\n"
     ]
    }
   ],
   "source": [
    "num1 = 2_000_000_000_000_000 # readable in this form\n",
    "num2 = 2_000_000_000_000_000\n",
    "\n",
    "result = num1 + num2\n",
    "print(f\"{result:_}\") # making output readable"
   ]
  },
  {
   "cell_type": "code",
   "execution_count": 12,
   "id": "e31af934-122d-4444-be12-01caf6545afb",
   "metadata": {},
   "outputs": [
    {
     "name": "stdout",
     "output_type": "stream",
     "text": [
      "4,000,000,000,000,000\n"
     ]
    }
   ],
   "source": [
    "num1 = 2_000_000_000_000_000 # readable in this form\n",
    "num2 = 2_000_000_000_000_000\n",
    "\n",
    "result = num1 + num2\n",
    "print(f\"{result:,}\") # making output readable"
   ]
  },
  {
   "cell_type": "code",
   "execution_count": null,
   "id": "08e88a4b-6b69-436e-9ac2-afbfe84e8997",
   "metadata": {},
   "outputs": [],
   "source": []
  }
 ],
 "metadata": {
  "kernelspec": {
   "display_name": "Python 3 (ipykernel)",
   "language": "python",
   "name": "python3"
  },
  "language_info": {
   "codemirror_mode": {
    "name": "ipython",
    "version": 3
   },
   "file_extension": ".py",
   "mimetype": "text/x-python",
   "name": "python",
   "nbconvert_exporter": "python",
   "pygments_lexer": "ipython3",
   "version": "3.9.6"
  }
 },
 "nbformat": 4,
 "nbformat_minor": 5
}
