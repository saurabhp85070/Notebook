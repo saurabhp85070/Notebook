{
 "cells": [
  {
   "cell_type": "markdown",
   "id": "5f06a57f",
   "metadata": {},
   "source": [
    "# LINKED LIST\n",
    "\n",
    "https://www.geeksforgeeks.org/top-20-linked-list-interview-question/\n",
    "- <a href='#l1'>Inserting element at the end of list</a>\n",
    "- <a href='#l2'>Inserting element at the begining of list</a>\n",
    "- <a href='#l3'>Inserting element at nth postion of list</a>\n",
    "- <a href='#l4'>Deleting element at nth position of list</a>\n",
    "- <a href='#l5'>Deleting element of list</a>\n",
    "- <a href='#l6'>Deleting element from end</a>\n",
    "- <a href='#l7'>Deleting element from begining</a>\n",
    "- <a href='#l8'>Reversing the list</a>\n",
    "- <a href='#l12'>Reversing the list using recursion</a>\n",
    "- <a href='#l11'>Print and reverse print a list using recursion</a>\n",
    "- <a href='#l9'>Doubly linked list by inserting element at begining</a>\n",
    "- <a href='#l10'>Doubly linked list by inserting element at end</a>\n",
    "\n",
    "# STACK\n",
    "- <a href='#s1'>Stack implementation using linked list</a>\n",
    "- <a href='#s2'>Stack implementation using array</a>\n",
    "\n",
    "# QUEUE\n",
    "- <a href='#q1'>Queue implementation using linked list</a>\n",
    "- <a href='#q2'>Queue implementation using array</a>"
   ]
  },
  {
   "cell_type": "markdown",
   "id": "bf2e9b2c",
   "metadata": {},
   "source": [
    "<pre id='l1'></pre>\n",
    "## Inserting element at the end of list"
   ]
  },
  {
   "cell_type": "code",
   "execution_count": 29,
   "id": "f9991309",
   "metadata": {},
   "outputs": [],
   "source": [
    "# Define a Node class\n",
    "class Node:\n",
    "    def __init__(self, data):\n",
    "        self.data = data  # This stores the data for this node\n",
    "        self.next = None  # This is a reference to the next node in the list (initialized as None)\n",
    "\n",
    "# Define a LinkedList class\n",
    "class LinkedList:\n",
    "    def __init__(self):\n",
    "        self.head = None  # This is the starting point of the linked list (initialized as None)\n",
    "\n",
    "    # Method to append data to the end of the linked list\n",
    "    def append(self, data):\n",
    "        new_node = Node(data)  # Create a new node with the given data\n",
    "        \n",
    "        # If the linked list is empty, make this new node the head\n",
    "        if not self.head:\n",
    "            self.head = new_node\n",
    "            return\n",
    "        \n",
    "        # Otherwise, traverse the list to find the last node and link it to the new node\n",
    "        ptr = self.head\n",
    "        while ptr.next:\n",
    "            ptr = ptr.next\n",
    "        # after end of loop ptr will point to last node\n",
    "        \n",
    "        ptr.next = new_node\n",
    "\n",
    "    # Method to display the linked list\n",
    "    def display(self):\n",
    "        ptr = self.head\n",
    "        while ptr:\n",
    "            print(ptr.data, end=\" -> \")  # Print the data in the current node\n",
    "            ptr = ptr.next  # Move to the next node\n",
    "        print(\"None\")  # To signify the end of the linked list\n"
   ]
  },
  {
   "cell_type": "code",
   "execution_count": 30,
   "id": "a75767ca",
   "metadata": {},
   "outputs": [
    {
     "name": "stdout",
     "output_type": "stream",
     "text": [
      "1 -> 2 -> 3 None\n"
     ]
    }
   ],
   "source": [
    "# Creating a linked list\n",
    "my_linked_list = LinkedList()\n",
    "\n",
    "# Appending data to the linked list\n",
    "my_linked_list.append(1)\n",
    "my_linked_list.append(2)\n",
    "my_linked_list.append(3)\n",
    "\n",
    "# Displaying the linked list\n",
    "my_linked_list.display()"
   ]
  },
  {
   "cell_type": "markdown",
   "id": "e75665c8",
   "metadata": {},
   "source": [
    "**Remark:**\n",
    "\n",
    "- Using **`while ptr:`** will traverse the entire list, and ptr will point to the last node when the loop terminates.\n",
    "\n",
    "- Using **`while ptr.next:`** will traverse the list, but ptr will point to the second-to-last node when the loop terminates because it stops one node before the end."
   ]
  },
  {
   "cell_type": "markdown",
   "id": "4df81cf3",
   "metadata": {},
   "source": [
    "<pre id='l2'></pre>\n",
    "## Inserting element at the begining of list"
   ]
  },
  {
   "cell_type": "code",
   "execution_count": 8,
   "id": "f2a74902",
   "metadata": {},
   "outputs": [],
   "source": [
    "# Define a Node class\n",
    "class Node:\n",
    "    def __init__(self, data):\n",
    "        self.data = data  # This stores the data for this node\n",
    "        self.next = None  # This is a reference to the next node in the list (initialized as None)\n",
    "\n",
    "# Define a LinkedList class\n",
    "class LinkedList:\n",
    "    def __init__(self):\n",
    "        self.head = None  # This is the starting point of the linked list (initialized as None)\n",
    "        \n",
    "    def append(self,data):\n",
    "        new_node=Node(data) # Create a new node with the given data\n",
    "        \n",
    "        new_node.next=self.head  # Set the next attribute of the new node to the current head of the linked list\n",
    "        self.head=new_node  # Set the next attribute of the new node to the current head of the linked list\n",
    "        \n",
    "    # Method to display the linked list\n",
    "    def display(self):\n",
    "        ptr = self.head\n",
    "        while ptr:\n",
    "            print(ptr.data, end=\" -> \")  # Print the data in the current node\n",
    "            ptr = ptr.next  # Move to the next node\n",
    "        print(\"None\")  # To signify the end of the linked list      \n",
    "            "
   ]
  },
  {
   "cell_type": "code",
   "execution_count": 9,
   "id": "da451e35",
   "metadata": {},
   "outputs": [
    {
     "name": "stdout",
     "output_type": "stream",
     "text": [
      "3 -> 2 -> 1 -> None\n"
     ]
    }
   ],
   "source": [
    "# Creating a linked list\n",
    "my_linked_list = LinkedList()\n",
    "\n",
    "# Appending data to the linked list\n",
    "my_linked_list.append(1)\n",
    "my_linked_list.append(2)\n",
    "my_linked_list.append(3)\n",
    "\n",
    "# Displaying the linked list\n",
    "my_linked_list.display()        "
   ]
  },
  {
   "cell_type": "markdown",
   "id": "c302de5a",
   "metadata": {},
   "source": [
    "<pre id='l3'></pre>\n",
    "## Inserting element at nth position of list"
   ]
  },
  {
   "cell_type": "code",
   "execution_count": 7,
   "id": "990f2358",
   "metadata": {},
   "outputs": [],
   "source": [
    "# Define a Node class\n",
    "class Node:\n",
    "    def __init__(self, data):\n",
    "        self.data = data  # This stores the data for this node\n",
    "        self.next = None  # This is a reference to the next node in the list (initialized as None)\n",
    "\n",
    "# Define a LinkedList class\n",
    "class LinkedList:\n",
    "    def __init__(self):\n",
    "        self.head = None  # This is the starting point of the linked list (initialized as None)\n",
    "\n",
    "    def append(self, data, pos):\n",
    "        new_node = Node(data)\n",
    "\n",
    "        if pos == 1:\n",
    "            new_node.next = self.head  # Use self.head to access the head of the linked list\n",
    "            self.head = new_node  # Update the head of the linked list\n",
    "            return\n",
    "        \n",
    "        if pos == 2 and self.head is None: # for edge case when list is empty and we try to insert at pos=2\n",
    "            print(\"Invalid postion\")\n",
    "            return\n",
    "\n",
    "        ptr = self.head\n",
    "        for i in range(pos - 2):\n",
    "            if ptr is None or ptr.next is None:\n",
    "                print(\"Invalid position\")\n",
    "                return\n",
    "            ptr = ptr.next\n",
    "\n",
    "        new_node.next = ptr.next\n",
    "        ptr.next = new_node\n",
    "    \n",
    "    # Method to display the linked list\n",
    "    def display(self):\n",
    "        ptr = self.head\n",
    "        while ptr:\n",
    "            print(ptr.data, end=\" -> \")  # Print the data in the current node\n",
    "            ptr = ptr.next  # Move to the next node\n",
    "        print(\"None\")  # To signify the end of the linked list  "
   ]
  },
  {
   "cell_type": "code",
   "execution_count": 12,
   "id": "c0122518",
   "metadata": {},
   "outputs": [
    {
     "name": "stdout",
     "output_type": "stream",
     "text": [
      "None\n",
      "Enter position: 3\n",
      "Enter data: 22\n",
      "Invalid position\n",
      "None\n"
     ]
    }
   ],
   "source": [
    "# Creating a linked list\n",
    "my_linked_list = LinkedList()\n",
    "\n",
    "# Appending data to the linked list\n",
    "my_linked_list.append(8,1) # 8\n",
    "my_linked_list.append(12,2) # 8 12\n",
    "my_linked_list.append(99,1) # 99 8 12\n",
    "my_linked_list.append(44,2) # 99 44 8 12\n",
    "my_linked_list.append(66,1) # 66 99 44 8 12\n",
    "\n",
    "# Displaying the linked list\n",
    "my_linked_list.display()   \n",
    "\n",
    "# Get the position input from the user\n",
    "pos = int(input(\"Enter position: \"))\n",
    "\n",
    "# Check if the position is valid\n",
    "if pos <= 0:\n",
    "    print(\"Invalid position\")\n",
    "else:\n",
    "    data=int(input(\"Enter data: \"))\n",
    "    # Delete the element at the specified position\n",
    "    my_linked_list.append(data, pos)\n",
    "    \n",
    "    # Display the updated linked list\n",
    "    my_linked_list.display()"
   ]
  },
  {
   "cell_type": "markdown",
   "id": "bf882392",
   "metadata": {},
   "source": [
    "<pre id='l4'></pre>\n",
    "## Deleting element at nth position of list"
   ]
  },
  {
   "cell_type": "code",
   "execution_count": 19,
   "id": "03e7ca84",
   "metadata": {},
   "outputs": [],
   "source": [
    "# Define a Node class\n",
    "class Node:\n",
    "    def __init__(self, data):\n",
    "        self.data = data  # This stores the data for this node\n",
    "        self.next = None  # This is a reference to the next node in the list (initialized as None)\n",
    "\n",
    "# Define a LinkedList class\n",
    "class LinkedList:\n",
    "    def __init__(self):\n",
    "        self.head = None  # This is the starting point of the linked list (initialized as None)\n",
    "\n",
    "    def append(self, data, pos):\n",
    "        new_node = Node(data)\n",
    "\n",
    "        if pos == 1:\n",
    "            new_node.next = self.head  # Use self.head to access the head of the linked list\n",
    "            self.head = new_node  # Update the head of the linked list\n",
    "            return\n",
    "        \n",
    "        if pos == 2 and self.head is None: # for edge case when list is empty and we try to insert at pos=2\n",
    "            print(\"Invalid postion\")\n",
    "            return\n",
    "\n",
    "        ptr = self.head\n",
    "        for i in range(0, pos - 2):\n",
    "            ptr = ptr.next\n",
    "\n",
    "        new_node.next = ptr.next\n",
    "        ptr.next = new_node\n",
    "        \n",
    "    def delete(self, pos):\n",
    "        ptr=self.head\n",
    "        \n",
    "        if pos==1:\n",
    "            if self.head:\n",
    "                self.head=ptr.next\n",
    "                del ptr\n",
    "                return\n",
    "            else:\n",
    "                print(\"List is empty\")\n",
    "                return\n",
    "            \n",
    "        if pos == 2 and self.head is None: # for edge case when list is empty and we try to delete pos=2\n",
    "            print(\"Invalid postion\")\n",
    "            return\n",
    "        \n",
    "        for i in range(pos - 2):\n",
    "            if ptr is None or ptr.next is None:\n",
    "                print(\"Invalid position\")\n",
    "                return\n",
    "            ptr = ptr.next\n",
    "            \n",
    "        temp=ptr.next\n",
    "        ptr.next=temp.next\n",
    "        del temp\n",
    "    \n",
    "    # Method to display the linked list\n",
    "    def display(self):\n",
    "        ptr = self.head\n",
    "        while ptr:\n",
    "            print(ptr.data, end=\" -> \")  # Print the data in the current node\n",
    "            ptr = ptr.next  # Move to the next node\n",
    "        print(\"None\")  # To signify the end of the linked list  "
   ]
  },
  {
   "cell_type": "code",
   "execution_count": 24,
   "id": "4d7aca4e",
   "metadata": {},
   "outputs": [
    {
     "name": "stdout",
     "output_type": "stream",
     "text": [
      "66 -> 99 -> 44 -> 8 -> 12 -> None\n",
      "Enter position: 2\n",
      "66 -> 44 -> 8 -> 12 -> None\n"
     ]
    }
   ],
   "source": [
    "# Creating a linked list\n",
    "my_linked_list = LinkedList()\n",
    "\n",
    "# Appending data to the linked list\n",
    "my_linked_list.append(8,1) # 8\n",
    "my_linked_list.append(12,2) # 8 12\n",
    "my_linked_list.append(99,1) # 99 8 12\n",
    "my_linked_list.append(44,2) # 99 44 8 12\n",
    "my_linked_list.append(66,1) # 66 99 44 8 12\n",
    "\n",
    "# Displaying the linked list\n",
    "my_linked_list.display()    \n",
    "\n",
    "# Get the position input from the user\n",
    "pos = int(input(\"Enter position: \"))\n",
    "\n",
    "# Check if the position is valid\n",
    "if pos <= 0:\n",
    "    print(\"Invalid position\")\n",
    "else:\n",
    "    # Delete the element at the specified position\n",
    "    my_linked_list.delete(pos)\n",
    "    \n",
    "    # Display the updated linked list\n",
    "    my_linked_list.display()"
   ]
  },
  {
   "cell_type": "markdown",
   "id": "c0c3911f",
   "metadata": {},
   "source": [
    "<pre id='l5'></pre>\n",
    "## Deleting element of list"
   ]
  },
  {
   "cell_type": "code",
   "execution_count": 17,
   "id": "5bed2488",
   "metadata": {},
   "outputs": [],
   "source": [
    "# Define a Node class\n",
    "class Node:\n",
    "    def __init__(self, data):\n",
    "        self.data = data  # This stores the data for this node\n",
    "        self.next = None  # This is a reference to the next node in the list (initialized as None)\n",
    "\n",
    "# Define a LinkedList class\n",
    "class LinkedList:\n",
    "    def __init__(self):\n",
    "        self.head = None  # This is the starting point of the linked list (initialized as None)\n",
    "\n",
    "    def append(self, data, pos):\n",
    "        new_node = Node(data)\n",
    "\n",
    "        if pos == 1:\n",
    "            new_node.next = self.head  # Use self.head to access the head of the linked list\n",
    "            self.head = new_node  # Update the head of the linked list\n",
    "            return\n",
    "\n",
    "        ptr = self.head\n",
    "        for i in range(0, pos - 2):\n",
    "            ptr = ptr.next\n",
    "\n",
    "        new_node.next = ptr.next\n",
    "        ptr.next = new_node\n",
    "        \n",
    "    def delete_item(self, data):\n",
    "        ptr=self.head\n",
    "        pos=1\n",
    "        while ptr:\n",
    "            if ptr.data==data:\n",
    "                self.delete(pos)\n",
    "                return\n",
    "            ptr=ptr.next\n",
    "            pos+=1\n",
    "        print(\"Data not found\")\n",
    "        \n",
    "    def delete(self, pos):\n",
    "        ptr=self.head\n",
    "        \n",
    "        if pos==1:\n",
    "            if self.head:\n",
    "                self.head=ptr.next\n",
    "                del ptr\n",
    "                return\n",
    "            else:\n",
    "                print(\"List is empty\")\n",
    "                return\n",
    "        \n",
    "        for i in range(pos - 2):\n",
    "            if ptr is None or ptr.next is None:\n",
    "                print(\"Invalid position\")\n",
    "                return\n",
    "            ptr = ptr.next\n",
    "            \n",
    "        temp=ptr.next\n",
    "        ptr.next=temp.next\n",
    "        del temp\n",
    "    \n",
    "    # Method to display the linked list\n",
    "    def display(self):\n",
    "        ptr = self.head\n",
    "        while ptr:\n",
    "            print(ptr.data, end=\" -> \")  # Print the data in the current node\n",
    "            ptr = ptr.next  # Move to the next node\n",
    "        print(\"None\")  # To signify the end of the linked list  "
   ]
  },
  {
   "cell_type": "code",
   "execution_count": 19,
   "id": "09c99219",
   "metadata": {},
   "outputs": [
    {
     "name": "stdout",
     "output_type": "stream",
     "text": [
      "66 -> 99 -> 44 -> 8 -> 12 -> None\n",
      "Enter Data: 11\n",
      "Data not found\n",
      "66 -> 99 -> 44 -> 8 -> 12 -> None\n"
     ]
    }
   ],
   "source": [
    "# Creating a linked list\n",
    "my_linked_list = LinkedList()\n",
    "\n",
    "# Appending data to the linked list\n",
    "my_linked_list.append(8,1) # 8\n",
    "my_linked_list.append(12,2) # 8 12\n",
    "my_linked_list.append(99,1) # 99 8 12\n",
    "my_linked_list.append(44,2) # 99 44 8 12\n",
    "my_linked_list.append(66,1) # 66 99 44 8 12\n",
    "\n",
    "# Displaying the linked list\n",
    "my_linked_list.display()    \n",
    "\n",
    "# Get the position input from the user\n",
    "data = int(input(\"Enter Data: \"))\n",
    "\n",
    "# Delete the specified element \n",
    "my_linked_list.delete_item(data)\n",
    "    \n",
    "# Display the updated linked list\n",
    "my_linked_list.display()\n",
    "    "
   ]
  },
  {
   "cell_type": "markdown",
   "id": "146e1f67",
   "metadata": {},
   "source": [
    "<pre id='l6'></pre>\n",
    "## Deleting element from end"
   ]
  },
  {
   "cell_type": "code",
   "execution_count": 33,
   "id": "7847a937",
   "metadata": {},
   "outputs": [],
   "source": [
    "# Define a Node class\n",
    "class Node:\n",
    "    def __init__(self, data):\n",
    "        self.data = data  # This stores the data for this node\n",
    "        self.next = None  # This is a reference to the next node in the list (initialized as None)\n",
    "\n",
    "# Define a LinkedList class\n",
    "class LinkedList:\n",
    "    def __init__(self):\n",
    "        self.head = None  # This is the starting point of the linked list (initialized as None)\n",
    "\n",
    "    def append(self, data, pos):\n",
    "        new_node = Node(data)\n",
    "\n",
    "        if pos == 1:\n",
    "            new_node.next = self.head  # Use self.head to access the head of the linked list\n",
    "            self.head = new_node  # Update the head of the linked list\n",
    "            return\n",
    "\n",
    "        ptr = self.head\n",
    "        for i in range(0, pos - 2):\n",
    "            ptr = ptr.next\n",
    "\n",
    "        new_node.next = ptr.next\n",
    "        ptr.next = new_node\n",
    "        \n",
    "    def delete(self):\n",
    "        if not self.head:\n",
    "            print(\"List is empty\")\n",
    "            return\n",
    "\n",
    "        if not self.head.next:\n",
    "            # If there is only one element in the list, set the head to None\n",
    "            self.head = None\n",
    "            return\n",
    "\n",
    "        ptr = self.head\n",
    "        temp=None\n",
    "        while ptr.next:\n",
    "            temp = ptr\n",
    "            ptr = ptr.next\n",
    "        # after end of loop ptr will point to last node\n",
    "        # temp will point last second node\n",
    "        \n",
    "        temp2 = temp.next\n",
    "        temp.next = temp2.next\n",
    "        del temp2\n",
    "    \n",
    "    # Method to display the linked list\n",
    "    def display(self):\n",
    "        ptr = self.head\n",
    "        while ptr:\n",
    "            print(ptr.data, end=\" -> \")  # Print the data in the current node\n",
    "            ptr = ptr.next  # Move to the next node\n",
    "        print(\"None\")  # To signify the end of the linked list  "
   ]
  },
  {
   "cell_type": "code",
   "execution_count": 34,
   "id": "39cb0af0",
   "metadata": {},
   "outputs": [
    {
     "name": "stdout",
     "output_type": "stream",
     "text": [
      "66 -> 99 -> 44 -> 8 -> 12 -> None\n",
      "66 -> 99 -> 44 -> 8 -> None\n",
      "66 -> 99 -> 44 -> None\n",
      "66 -> 99 -> None\n",
      "66 -> None\n",
      "None\n",
      "List is empty\n",
      "None\n"
     ]
    }
   ],
   "source": [
    "# Creating a linked list\n",
    "my_linked_list = LinkedList()\n",
    "\n",
    "# Appending data to the linked list\n",
    "my_linked_list.append(8,1) # 8\n",
    "my_linked_list.append(12,2) # 8 12\n",
    "my_linked_list.append(99,1) # 99 8 12\n",
    "my_linked_list.append(44,2) # 99 44 8 12\n",
    "my_linked_list.append(66,1) # 66 99 44 8 12\n",
    "\n",
    "my_linked_list.display() \n",
    "\n",
    "my_linked_list.delete()\n",
    "my_linked_list.display()\n",
    "\n",
    "my_linked_list.delete()\n",
    "my_linked_list.display()\n",
    "\n",
    "my_linked_list.delete()\n",
    "my_linked_list.display()\n",
    "\n",
    "my_linked_list.delete()\n",
    "my_linked_list.display()\n",
    "\n",
    "my_linked_list.delete()\n",
    "my_linked_list.display()\n",
    "\n",
    "my_linked_list.delete()\n",
    "my_linked_list.display()"
   ]
  },
  {
   "cell_type": "markdown",
   "id": "1452c6c7",
   "metadata": {},
   "source": [
    "<pre id='l7'></pre>\n",
    "## Deleting element from begining"
   ]
  },
  {
   "cell_type": "code",
   "execution_count": 113,
   "id": "fe7860c7",
   "metadata": {},
   "outputs": [],
   "source": [
    "# Define a Node class\n",
    "class Node:\n",
    "    def __init__(self, data):\n",
    "        self.data = data  # This stores the data for this node\n",
    "        self.next = None  # This is a reference to the next node in the list (initialized as None)\n",
    "\n",
    "# Define a LinkedList class\n",
    "class LinkedList:\n",
    "    def __init__(self):\n",
    "        self.head = None  # This is the starting point of the linked list (initialized as None)\n",
    "\n",
    "    def append(self, data, pos):\n",
    "        new_node = Node(data)\n",
    "\n",
    "        if pos == 1:\n",
    "            new_node.next = self.head  # Use self.head to access the head of the linked list\n",
    "            self.head = new_node  # Update the head of the linked list\n",
    "            return\n",
    "\n",
    "        ptr = self.head\n",
    "        for i in range(0, pos - 2):\n",
    "            ptr = ptr.next\n",
    "\n",
    "        new_node.next = ptr.next\n",
    "        ptr.next = new_node\n",
    "        \n",
    "    def delete(self):\n",
    "        if not self.head:\n",
    "            print(\"List is empty\")\n",
    "            return\n",
    "\n",
    "        if not self.head.next:\n",
    "            # If there is only one element in the list, set the head to None\n",
    "            self.head = None\n",
    "            return\n",
    "\n",
    "        ptr = self.head\n",
    "        self.head=ptr.next\n",
    "        del ptr\n",
    "    \n",
    "    # Method to display the linked list\n",
    "    def display(self):\n",
    "        ptr = self.head\n",
    "        while ptr:\n",
    "            print(ptr.data, end=\" -> \")  # Print the data in the current node\n",
    "            ptr = ptr.next  # Move to the next node\n",
    "        print(\"None\")  # To signify the end of the linked list  "
   ]
  },
  {
   "cell_type": "code",
   "execution_count": 114,
   "id": "3694481e",
   "metadata": {},
   "outputs": [
    {
     "name": "stdout",
     "output_type": "stream",
     "text": [
      "66 -> 99 -> 44 -> 8 -> 12 -> None\n",
      "99 -> 44 -> 8 -> 12 -> None\n",
      "44 -> 8 -> 12 -> None\n",
      "8 -> 12 -> None\n",
      "12 -> None\n",
      "None\n",
      "List is empty\n",
      "None\n"
     ]
    }
   ],
   "source": [
    "# Creating a linked list\n",
    "my_linked_list = LinkedList()\n",
    "\n",
    "# Appending data to the linked list\n",
    "my_linked_list.append(8,1) # 8\n",
    "my_linked_list.append(12,2) # 8 12\n",
    "my_linked_list.append(99,1) # 99 8 12\n",
    "my_linked_list.append(44,2) # 99 44 8 12\n",
    "my_linked_list.append(66,1) # 66 99 44 8 12\n",
    "\n",
    "my_linked_list.display() \n",
    "\n",
    "my_linked_list.delete()\n",
    "my_linked_list.display()\n",
    "\n",
    "my_linked_list.delete()\n",
    "my_linked_list.display()\n",
    "\n",
    "my_linked_list.delete()\n",
    "my_linked_list.display()\n",
    "\n",
    "my_linked_list.delete()\n",
    "my_linked_list.display()\n",
    "\n",
    "my_linked_list.delete()\n",
    "my_linked_list.display()\n",
    "\n",
    "my_linked_list.delete()\n",
    "my_linked_list.display()"
   ]
  },
  {
   "cell_type": "markdown",
   "id": "92ea2e59",
   "metadata": {},
   "source": [
    "<pre id='l8'></pre>\n",
    "## Reversing the list"
   ]
  },
  {
   "cell_type": "code",
   "execution_count": 14,
   "id": "75dde03d",
   "metadata": {},
   "outputs": [],
   "source": [
    "# Define a Node class\n",
    "class Node:\n",
    "    def __init__(self, data):\n",
    "        self.data = data  # This stores the data for this node\n",
    "        self.next = None  # This is a reference to the next node in the list (initialized as None)\n",
    "\n",
    "# Define a LinkedList class\n",
    "class LinkedList:\n",
    "    def __init__(self):\n",
    "        self.head = None  # This is the starting point of the linked list (initialized as None)\n",
    "\n",
    "    # Method to append data to the end of the linked list\n",
    "    def append(self, data):\n",
    "        new_node = Node(data)  # Create a new node with the given data\n",
    "        \n",
    "        # If the linked list is empty, make this new node the head\n",
    "        if not self.head:\n",
    "            self.head = new_node\n",
    "            return\n",
    "        \n",
    "        # Otherwise, traverse the list to find the last node and link it to the new node\n",
    "        ptr = self.head\n",
    "        while ptr.next:\n",
    "            ptr = ptr.next\n",
    "        ptr.next = new_node\n",
    "        \n",
    "    def reverse(self):\n",
    "        current=self.head\n",
    "        previous=None\n",
    "        \n",
    "        while current is not None:\n",
    "            nxt=current.next\n",
    "            current.next=previous\n",
    "            previous=current\n",
    "            current=nxt\n",
    "            \n",
    "        self.head=previous\n",
    "\n",
    "    # Method to display the linked list\n",
    "    def display(self):\n",
    "        ptr = self.head\n",
    "        while ptr:\n",
    "            print(ptr.data, end=\" -> \")  # Print the data in the current node\n",
    "            ptr = ptr.next  # Move to the next node\n",
    "        print(\"None\")  # To signify the end of the linked list\n"
   ]
  },
  {
   "cell_type": "code",
   "execution_count": 16,
   "id": "7e958e48",
   "metadata": {},
   "outputs": [
    {
     "name": "stdout",
     "output_type": "stream",
     "text": [
      "1 -> 2 -> 3 -> None\n",
      "3 -> 2 -> 1 -> None\n"
     ]
    }
   ],
   "source": [
    "# Creating a linked list\n",
    "my_linked_list = LinkedList()\n",
    "\n",
    "# Appending data to the linked list\n",
    "my_linked_list.append(1)\n",
    "my_linked_list.append(2)\n",
    "my_linked_list.append(3)\n",
    "\n",
    "# Displaying the linked list\n",
    "my_linked_list.display()\n",
    "\n",
    "my_linked_list.reverse()\n",
    "\n",
    "my_linked_list.display()"
   ]
  },
  {
   "cell_type": "markdown",
   "id": "ef70b4d2",
   "metadata": {},
   "source": [
    "<pre id='l12'></pre>\n",
    "# Reversing the list using recursion"
   ]
  },
  {
   "cell_type": "code",
   "execution_count": 45,
   "id": "59b66253",
   "metadata": {},
   "outputs": [],
   "source": [
    "class Node:\n",
    "    def __init__(self, data):\n",
    "        self.data=data\n",
    "        self.next=None\n",
    "        \n",
    "class LinkedList:\n",
    "    def __init__(self):\n",
    "        self.head=None\n",
    "        \n",
    "    def append(self, data):\n",
    "        new_node=Node(data)\n",
    "        \n",
    "        if not self.head:\n",
    "            self.head=new_node\n",
    "            return\n",
    "        \n",
    "        ptr=self.head\n",
    "        while ptr.next:\n",
    "            ptr=ptr.next\n",
    "        ptr.next=new_node\n",
    "        \n",
    "    def reverse(self, head):\n",
    "        if not head.next:\n",
    "            self.head=head\n",
    "            return\n",
    "        self.reverse(head.next)\n",
    "        head.next.next=head\n",
    "        head.next=None\n",
    "        \n",
    "    def display(self):\n",
    "        ptr = self.head\n",
    "        while ptr:\n",
    "            print(ptr.data, end=\" -> \")  \n",
    "            ptr = ptr.next  \n",
    "        print(\"None\")  \n"
   ]
  },
  {
   "cell_type": "code",
   "execution_count": 46,
   "id": "33f85a3f",
   "metadata": {},
   "outputs": [
    {
     "name": "stdout",
     "output_type": "stream",
     "text": [
      "1 -> 2 -> 3 -> 4 -> 5 -> 6 -> None\n",
      "6 -> 5 -> 4 -> 3 -> 2 -> 1 -> None\n"
     ]
    }
   ],
   "source": [
    "# Creating a linked list\n",
    "my_linked_list = LinkedList()\n",
    "\n",
    "# Appending data to the linked list\n",
    "my_linked_list.append(1)\n",
    "my_linked_list.append(2)\n",
    "my_linked_list.append(3)\n",
    "my_linked_list.append(4)\n",
    "my_linked_list.append(5)\n",
    "my_linked_list.append(6)\n",
    "\n",
    "# Displaying the linked list\n",
    "my_linked_list.display()\n",
    "\n",
    "my_linked_list.reverse(my_linked_list.head)\n",
    "\n",
    "my_linked_list.display()"
   ]
  },
  {
   "cell_type": "markdown",
   "id": "2d568f08",
   "metadata": {},
   "source": [
    "<pre id='l11'></pre>\n",
    "# Print and reverse print a list using recursion"
   ]
  },
  {
   "cell_type": "code",
   "execution_count": 33,
   "id": "590cb121",
   "metadata": {},
   "outputs": [],
   "source": [
    "class Node:\n",
    "    def __init__(self, data):\n",
    "        self.data=data\n",
    "        self.next=None\n",
    "        \n",
    "class LinkedList:\n",
    "    def __init__(self):\n",
    "        self.head=None\n",
    "        \n",
    "    def append(self, data):\n",
    "        new_node=Node(data)\n",
    "        \n",
    "        if not self.head:\n",
    "            self.head=new_node\n",
    "            return\n",
    "        \n",
    "        ptr=self.head\n",
    "        while ptr.next:\n",
    "            ptr=ptr.next\n",
    "        ptr.next=new_node\n",
    "        \n",
    "    def reversePrint(self, head): # using recursion\n",
    "        if not head:\n",
    "            return\n",
    "        self.reversePrint(head.next)\n",
    "        print(head.data, end=\"->\")\n",
    "        \n",
    "    def display(self, head):\n",
    "        if not head:\n",
    "            return\n",
    "        print(head.data, end=\"->\")\n",
    "        self.display(head.next)"
   ]
  },
  {
   "cell_type": "code",
   "execution_count": 36,
   "id": "ac2de9de",
   "metadata": {},
   "outputs": [
    {
     "name": "stdout",
     "output_type": "stream",
     "text": [
      "1->2->3->4->5->6->None\n",
      "6->5->4->3->2->1->None\n"
     ]
    }
   ],
   "source": [
    "# Creating a linked list\n",
    "my_linked_list = LinkedList()\n",
    "\n",
    "# Appending data to the linked list\n",
    "my_linked_list.append(1)\n",
    "my_linked_list.append(2)\n",
    "my_linked_list.append(3)\n",
    "my_linked_list.append(4)\n",
    "my_linked_list.append(5)\n",
    "my_linked_list.append(6)\n",
    "\n",
    "# Displaying the linked list\n",
    "my_linked_list.display(my_linked_list.head)\n",
    "print(\"None\")\n",
    "my_linked_list.reversePrint(my_linked_list.head)"
   ]
  },
  {
   "cell_type": "markdown",
   "id": "80bee4bb",
   "metadata": {},
   "source": [
    "<pre id='l9'></pre>\n",
    "# Doubly Linked list by inserting element at begining"
   ]
  },
  {
   "cell_type": "code",
   "execution_count": 8,
   "id": "ac4ed782",
   "metadata": {},
   "outputs": [],
   "source": [
    "class Node:\n",
    "    def __init__(self, data):\n",
    "        self.data=data\n",
    "        self.next=None\n",
    "        self.prev=None\n",
    "        \n",
    "class LinkedList:\n",
    "    def __init__(self):\n",
    "        self.head=None\n",
    "    \n",
    "    def append(self, data): # Insert at begining\n",
    "        new_node=Node(data)\n",
    "        \n",
    "        if not self.head:\n",
    "            self.head=new_node\n",
    "            return\n",
    "        self.head.prev=new_node\n",
    "        new_node.next=self.head\n",
    "        self.head=new_node\n",
    "        \n",
    "    def reversePrint(self):\n",
    "        ptr=self.head\n",
    "        while ptr.next:\n",
    "            ptr=ptr.next\n",
    "        while ptr:\n",
    "            print(ptr.data, end=\" -> \")  \n",
    "            ptr = ptr.prev  \n",
    "        print(\"None\")  \n",
    "        \n",
    "    def display(self):\n",
    "        ptr = self.head\n",
    "        while ptr:\n",
    "            print(ptr.data, end=\" -> \")  # Print the data in the current node\n",
    "            ptr = ptr.next  # Move to the next node\n",
    "        print(\"None\")  # To signify the end of the linked list"
   ]
  },
  {
   "cell_type": "code",
   "execution_count": 10,
   "id": "6eacd04a",
   "metadata": {},
   "outputs": [
    {
     "name": "stdout",
     "output_type": "stream",
     "text": [
      "6 -> 5 -> 4 -> 3 -> 2 -> 1 -> None\n",
      "1 -> 2 -> 3 -> 4 -> 5 -> 6 -> None\n"
     ]
    }
   ],
   "source": [
    "# Creating a linked list\n",
    "my_linked_list = LinkedList()\n",
    "\n",
    "# Appending data to the linked list\n",
    "my_linked_list.append(1)\n",
    "my_linked_list.append(2)\n",
    "my_linked_list.append(3)\n",
    "my_linked_list.append(4)\n",
    "my_linked_list.append(5)\n",
    "my_linked_list.append(6)\n",
    "\n",
    "my_linked_list.display()\n",
    "my_linked_list.reversePrint()"
   ]
  },
  {
   "cell_type": "markdown",
   "id": "34267f9f",
   "metadata": {},
   "source": [
    "<pre id='l10'></pre>\n",
    "# Doubly Linked list by inserting element at end"
   ]
  },
  {
   "cell_type": "code",
   "execution_count": 11,
   "id": "81c519ed",
   "metadata": {},
   "outputs": [],
   "source": [
    "class Node:\n",
    "    def __init__(self, data):\n",
    "        self.data=data\n",
    "        self.next=None\n",
    "        self.prev=None\n",
    "        \n",
    "class LinkedList:\n",
    "    def __init__(self):\n",
    "        self.head=None\n",
    "    \n",
    "    def append(self, data): # Insert at end\n",
    "        new_node=Node(data)\n",
    "        \n",
    "        if not self.head:\n",
    "            self.head=new_node\n",
    "            return\n",
    "        ptr=self.head\n",
    "        while ptr.next:\n",
    "            ptr=ptr.next\n",
    "            \n",
    "        ptr.next=new_node\n",
    "        new_node.prev=ptr\n",
    "        \n",
    "    def reversePrint(self):\n",
    "        ptr=self.head\n",
    "        while ptr.next:\n",
    "            ptr=ptr.next\n",
    "        while ptr:\n",
    "            print(ptr.data, end=\" -> \")  \n",
    "            ptr = ptr.prev  \n",
    "        print(\"None\")  \n",
    "        \n",
    "    def display(self):\n",
    "        ptr = self.head\n",
    "        while ptr:\n",
    "            print(ptr.data, end=\" -> \")  # Print the data in the current node\n",
    "            ptr = ptr.next  # Move to the next node\n",
    "        print(\"None\")  # To signify the end of the linked list"
   ]
  },
  {
   "cell_type": "code",
   "execution_count": 13,
   "id": "b3a72eae",
   "metadata": {},
   "outputs": [
    {
     "name": "stdout",
     "output_type": "stream",
     "text": [
      "1 -> 2 -> 3 -> 4 -> 5 -> 6 -> None\n",
      "6 -> 5 -> 4 -> 3 -> 2 -> 1 -> None\n"
     ]
    }
   ],
   "source": [
    "# Creating a linked list\n",
    "my_linked_list = LinkedList()\n",
    "\n",
    "# Appending data to the linked list\n",
    "my_linked_list.append(1)\n",
    "my_linked_list.append(2)\n",
    "my_linked_list.append(3)\n",
    "my_linked_list.append(4)\n",
    "my_linked_list.append(5)\n",
    "my_linked_list.append(6)\n",
    "\n",
    "my_linked_list.display()\n",
    "my_linked_list.reversePrint()"
   ]
  },
  {
   "cell_type": "markdown",
   "id": "1e581e66",
   "metadata": {},
   "source": [
    "# STACK"
   ]
  },
  {
   "cell_type": "markdown",
   "id": "ade50089",
   "metadata": {},
   "source": [
    "<pre id='s1'></pre>\n",
    "## Stack implementation using linked-list"
   ]
  },
  {
   "cell_type": "code",
   "execution_count": 2,
   "id": "fd720888",
   "metadata": {},
   "outputs": [],
   "source": [
    "class Node:\n",
    "    def __init__(self, data):\n",
    "        self.data = data\n",
    "        self.next = None\n",
    "\n",
    "class Stack:\n",
    "    def __init__(self):\n",
    "        self.top = None  # Initialize top as None to represent an empty stack\n",
    "\n",
    "    def push(self, data):\n",
    "        new_node = Node(data)\n",
    "        if self.top is None:\n",
    "            self.top = new_node\n",
    "        else:\n",
    "            new_node.next = self.top\n",
    "            self.top = new_node\n",
    "\n",
    "    def pop(self):\n",
    "        if self.is_empty():\n",
    "            print(\"Stack is empty\")\n",
    "            return\n",
    "        ptr = self.top\n",
    "        self.top = self.top.next\n",
    "        del ptr\n",
    "\n",
    "    def is_empty(self):\n",
    "        return self.top is None\n",
    "\n",
    "    def display(self):\n",
    "        ptr = self.top\n",
    "        while ptr:\n",
    "            print(ptr.data)\n",
    "            ptr = ptr.next\n"
   ]
  },
  {
   "cell_type": "code",
   "execution_count": 3,
   "id": "85a8a195",
   "metadata": {},
   "outputs": [
    {
     "name": "stdout",
     "output_type": "stream",
     "text": [
      "3\n",
      "2\n",
      "1\n",
      "-------------\n",
      "2\n",
      "1\n"
     ]
    }
   ],
   "source": [
    "# Create a stack and perform some operations\n",
    "my_stack = Stack()\n",
    "my_stack.push(1)\n",
    "my_stack.push(2)\n",
    "my_stack.push(3)\n",
    "\n",
    "my_stack.display()\n",
    "\n",
    "my_stack.pop()\n",
    "print(\"-------------\")\n",
    "my_stack.display()"
   ]
  },
  {
   "cell_type": "markdown",
   "id": "ca556522",
   "metadata": {},
   "source": [
    "<pre id='s2'></pre>\n",
    "## Stack implementation using array"
   ]
  },
  {
   "cell_type": "code",
   "execution_count": 42,
   "id": "94c0ec32",
   "metadata": {},
   "outputs": [],
   "source": [
    "class Stack:\n",
    "    def __init__(self, capacity):\n",
    "        self.capacity = capacity  # Maximum number of elements the stack can hold\n",
    "        self.stack = []           # The array to represent the stack\n",
    "        self.top = -1             # Initialize top as -1 (empty stack)\n",
    "\n",
    "    def is_empty(self):\n",
    "        return self.top == -1\n",
    "\n",
    "    def is_full(self):\n",
    "        return self.top == self.capacity - 1\n",
    "\n",
    "    def push(self, data):\n",
    "        if self.is_full():\n",
    "            print(\"Stack overflow. Cannot push element.\")\n",
    "            return\n",
    "        self.top += 1\n",
    "        self.stack.append(data)\n",
    "\n",
    "    def pop(self):\n",
    "        if self.is_empty():\n",
    "            print(\"Stack is empty. Cannot pop element.\")\n",
    "            return\n",
    "        popped_item = self.stack.pop()\n",
    "        self.top -= 1\n",
    "        return popped_item\n",
    "\n",
    "    def peek(self):\n",
    "        if self.is_empty():\n",
    "            print(\"Stack is empty. Cannot peek.\")\n",
    "            return\n",
    "        return self.stack[self.top]\n",
    "\n",
    "    def display(self):\n",
    "        if self.is_empty():\n",
    "            print(\"Stack is empty.\")\n",
    "            return\n",
    "        for i in range(self.top, -1, -1):\n",
    "            print(self.stack[i])\n",
    "        print(\"None\")\n"
   ]
  },
  {
   "cell_type": "code",
   "execution_count": 43,
   "id": "9f030e39",
   "metadata": {},
   "outputs": [
    {
     "name": "stdout",
     "output_type": "stream",
     "text": [
      "5\n",
      "4\n",
      "3\n",
      "2\n",
      "1\n",
      "None\n",
      "Top element: 5\n",
      "3\n",
      "2\n",
      "1\n",
      "None\n"
     ]
    }
   ],
   "source": [
    "# Create a stack with a maximum capacity of 5\n",
    "my_stack = Stack(5)\n",
    "\n",
    "my_stack.push(1)\n",
    "my_stack.push(2)\n",
    "my_stack.push(3)\n",
    "my_stack.push(4)\n",
    "my_stack.push(5)\n",
    "\n",
    "my_stack.display()\n",
    "\n",
    "print(\"Top element:\", my_stack.peek())\n",
    "\n",
    "my_stack.pop()\n",
    "my_stack.pop()\n",
    "\n",
    "my_stack.display()"
   ]
  },
  {
   "cell_type": "markdown",
   "id": "896b7f49",
   "metadata": {},
   "source": [
    "# QUEUE"
   ]
  },
  {
   "cell_type": "markdown",
   "id": "e16f105c",
   "metadata": {},
   "source": [
    "<pre id='q1'></pre>\n",
    "## Queue implementation using linked-list"
   ]
  },
  {
   "cell_type": "code",
   "execution_count": 19,
   "id": "493fae86",
   "metadata": {},
   "outputs": [],
   "source": [
    "class Node:\n",
    "    def __init__(self, data):\n",
    "        self.data = data\n",
    "        self.next = None\n",
    "\n",
    "class Queue:\n",
    "    def __init__(self):\n",
    "        self.front = None\n",
    "        self.rear = None\n",
    "\n",
    "    def is_empty(self):\n",
    "        return self.front is None\n",
    "\n",
    "    def enqueue(self, data):\n",
    "        new_node = Node(data)\n",
    "\n",
    "        if self.is_empty():\n",
    "            self.front = self.rear = new_node\n",
    "        else:\n",
    "            self.rear.next = new_node\n",
    "            self.rear = new_node\n",
    "\n",
    "    def dequeue(self):\n",
    "        if self.is_empty():\n",
    "            print(\"Queue is empty. Cannot dequeue.\")\n",
    "            return\n",
    "\n",
    "        ptr = self.front\n",
    "        if self.front == self.rear:\n",
    "            self.front = self.rear = None\n",
    "        else:\n",
    "            self.front = self.front.next\n",
    "        del ptr\n",
    "\n",
    "    def display(self):\n",
    "        if self.is_empty():\n",
    "            print(\"Queue is empty.\")\n",
    "            return\n",
    "\n",
    "        ptr = self.front\n",
    "        while ptr:\n",
    "            print(ptr.data)\n",
    "            ptr = ptr.next\n"
   ]
  },
  {
   "cell_type": "code",
   "execution_count": 20,
   "id": "32f02406",
   "metadata": {},
   "outputs": [
    {
     "name": "stdout",
     "output_type": "stream",
     "text": [
      "1\n",
      "2\n",
      "3\n",
      "------------\n",
      "2\n",
      "3\n"
     ]
    }
   ],
   "source": [
    "# Create a queue and perform some operations\n",
    "my_queue = Queue()\n",
    "my_queue.enqueue(1)\n",
    "my_queue.enqueue(2)\n",
    "my_queue.enqueue(3)\n",
    "\n",
    "my_queue.display()\n",
    "\n",
    "my_queue.dequeue()\n",
    "print(\"------------\")\n",
    "my_queue.display()\n"
   ]
  },
  {
   "cell_type": "markdown",
   "id": "50ebfbd9",
   "metadata": {},
   "source": [
    "<pre id='q2'></pre>\n",
    "## Queue implementation using linked-list"
   ]
  },
  {
   "cell_type": "code",
   "execution_count": 89,
   "id": "b7a62444",
   "metadata": {},
   "outputs": [],
   "source": [
    "class Queue:\n",
    "    def __init__(self, capacity):\n",
    "        self.capacity=capacity\n",
    "        self.queue=[]\n",
    "        self.front=-1\n",
    "        self.rear=-1\n",
    "        \n",
    "    def is_full(self):\n",
    "        return self.rear==self.capacity-1\n",
    "    \n",
    "    def is_empty(self):\n",
    "        return self.front==-1 and self.rear==-1\n",
    "        \n",
    "    def enqueue(self, data):\n",
    "        if self.is_full():\n",
    "            print(\"Queue is full\")\n",
    "            return\n",
    "        elif self.is_empty():\n",
    "            self.front=self.rear=0\n",
    "        else:\n",
    "            self.rear+=1\n",
    "        self.queue.append(data)\n",
    "        \n",
    "    def dequeue(self):\n",
    "        if self.is_empty():\n",
    "            print(\"Queue is empty\")\n",
    "            return\n",
    "        elif self.front==self.rear:\n",
    "            self.front=self.rear=-1\n",
    "        else:\n",
    "            self.front+=1\n",
    "            \n",
    "    def peek(self):\n",
    "        if self.is_empty():\n",
    "            print(\"Queue is empty\")\n",
    "            return\n",
    "        return self.queue[self.front]\n",
    "            \n",
    "    def display(self):\n",
    "        for i in range(self.front, self.rear+1):\n",
    "            print(self.queue[i])"
   ]
  },
  {
   "cell_type": "code",
   "execution_count": 90,
   "id": "207eefe6",
   "metadata": {},
   "outputs": [
    {
     "name": "stdout",
     "output_type": "stream",
     "text": [
      "1\n",
      "2\n",
      "3\n",
      "4\n",
      "5\n",
      "Front element: 1\n",
      "3\n",
      "4\n",
      "5\n"
     ]
    }
   ],
   "source": [
    "# Create a queue with a maximum capacity of 5\n",
    "my_queue = Queue(5)\n",
    "\n",
    "my_queue.enqueue(1)\n",
    "my_queue.enqueue(2)\n",
    "my_queue.enqueue(3)\n",
    "my_queue.enqueue(4)\n",
    "my_queue.enqueue(5)\n",
    "\n",
    "my_queue.display()\n",
    "\n",
    "print(\"Front element:\", my_queue.peek())\n",
    "\n",
    "my_queue.dequeue()\n",
    "my_queue.dequeue()\n",
    "\n",
    "my_queue.display()\n"
   ]
  },
  {
   "cell_type": "markdown",
   "id": "7e4f527d",
   "metadata": {},
   "source": [
    "## circular queue"
   ]
  },
  {
   "cell_type": "code",
   "execution_count": 91,
   "id": "ca95e279",
   "metadata": {},
   "outputs": [],
   "source": [
    "class Queue:\n",
    "    def __init__(self, capacity):\n",
    "        self.capacity = capacity  # Maximum number of elements the queue can hold\n",
    "        self.queue = []           # The array to represent the queue\n",
    "        self.front = 0            # Initialize front as 0 (empty queue)\n",
    "        self.rear = -1            # Initialize rear as -1 (empty queue)\n",
    "        self.size = 0             # Current number of elements in the queue\n",
    "\n",
    "    def is_empty(self):\n",
    "        return self.size == 0\n",
    "\n",
    "    def is_full(self):\n",
    "        return self.size == self.capacity\n",
    "\n",
    "    def enqueue(self, data):\n",
    "        if self.is_full():\n",
    "            print(\"Queue is full. Cannot enqueue.\")\n",
    "            return\n",
    "\n",
    "        self.rear = (self.rear + 1) % self.capacity\n",
    "        self.queue.append(data)\n",
    "        self.size += 1\n",
    "\n",
    "    def dequeue(self):\n",
    "        if self.is_empty():\n",
    "            print(\"Queue is empty. Cannot dequeue.\")\n",
    "            return\n",
    "\n",
    "        removed_item = self.queue[self.front]\n",
    "        self.front = (self.front + 1) % self.capacity\n",
    "        self.size -= 1\n",
    "        return removed_item\n",
    "\n",
    "    def peek(self):\n",
    "        if self.is_empty():\n",
    "            print(\"Queue is empty. Cannot peek.\")\n",
    "            return\n",
    "        return self.queue[self.front]\n",
    "\n",
    "    def display(self):\n",
    "        if self.is_empty():\n",
    "            print(\"Queue is empty.\")\n",
    "            return\n",
    "\n",
    "        idx = self.front\n",
    "        for _ in range(self.size):\n",
    "            print(self.queue[idx])\n",
    "            idx = (idx + 1) % self.capacity\n"
   ]
  },
  {
   "cell_type": "code",
   "execution_count": 92,
   "id": "e86b759d",
   "metadata": {},
   "outputs": [
    {
     "name": "stdout",
     "output_type": "stream",
     "text": [
      "1\n",
      "2\n",
      "3\n",
      "4\n",
      "5\n",
      "Front element: 1\n",
      "3\n",
      "4\n",
      "5\n"
     ]
    }
   ],
   "source": [
    "# Create a queue with a maximum capacity of 5\n",
    "my_queue = Queue(5)\n",
    "\n",
    "my_queue.enqueue(1)\n",
    "my_queue.enqueue(2)\n",
    "my_queue.enqueue(3)\n",
    "my_queue.enqueue(4)\n",
    "my_queue.enqueue(5)\n",
    "\n",
    "my_queue.display()\n",
    "\n",
    "print(\"Front element:\", my_queue.peek())\n",
    "\n",
    "my_queue.dequeue()\n",
    "my_queue.dequeue()\n",
    "\n",
    "my_queue.display()\n"
   ]
  },
  {
   "cell_type": "code",
   "execution_count": null,
   "id": "42b2b7d9",
   "metadata": {},
   "outputs": [],
   "source": []
  },
  {
   "cell_type": "code",
   "execution_count": null,
   "id": "e8ec5228",
   "metadata": {},
   "outputs": [],
   "source": []
  },
  {
   "cell_type": "code",
   "execution_count": 13,
   "id": "f300188c",
   "metadata": {},
   "outputs": [
    {
     "name": "stdout",
     "output_type": "stream",
     "text": [
      "True\n",
      "True\n"
     ]
    }
   ],
   "source": [
    "# Define a class\n",
    "class MyClass:\n",
    "    pass\n",
    "\n",
    "# Create an instance of the class\n",
    "obj = MyClass()\n",
    "\n",
    "# Check if the object belongs to a specific class\n",
    "result = isinstance(obj, MyClass)\n",
    "print(result)  # This will print True because obj is an instance of MyClass\n",
    "\n",
    "# You can also check against multiple classes by passing a tuple of classes\n",
    "result = isinstance(obj, (MyClass, int, str))\n",
    "print(result)  # This will still print True because obj is an instance of MyClass\n"
   ]
  },
  {
   "cell_type": "code",
   "execution_count": 14,
   "id": "07aaba9a",
   "metadata": {},
   "outputs": [
    {
     "name": "stdout",
     "output_type": "stream",
     "text": [
      "Help on built-in function isinstance in module builtins:\n",
      "\n",
      "isinstance(obj, class_or_tuple, /)\n",
      "    Return whether an object is an instance of a class or of a subclass thereof.\n",
      "    \n",
      "    A tuple, as in ``isinstance(x, (A, B, ...))``, may be given as the target to\n",
      "    check against. This is equivalent to ``isinstance(x, A) or isinstance(x, B)\n",
      "    or ...`` etc.\n",
      "\n"
     ]
    }
   ],
   "source": [
    "help(isinstance)"
   ]
  },
  {
   "cell_type": "code",
   "execution_count": null,
   "id": "6138eac3",
   "metadata": {},
   "outputs": [],
   "source": []
  },
  {
   "cell_type": "code",
   "execution_count": null,
   "id": "08c9fcad",
   "metadata": {},
   "outputs": [],
   "source": []
  },
  {
   "cell_type": "code",
   "execution_count": null,
   "id": "771fcb47",
   "metadata": {},
   "outputs": [],
   "source": []
  },
  {
   "cell_type": "code",
   "execution_count": 8,
   "id": "e3899d59",
   "metadata": {},
   "outputs": [
    {
     "name": "stdout",
     "output_type": "stream",
     "text": [
      "100\n",
      "200\n",
      "99\n",
      "{'instance_variable': 100}\n"
     ]
    }
   ],
   "source": [
    "class MyClass:\n",
    "    class_variable = 10  # Class variable\n",
    "\n",
    "    def __init__(self, instance_variable):\n",
    "        self.instance_variable = instance_variable  # Instance variable\n",
    "        print(instance_variable)\n",
    "\n",
    "    def print_variables(self, age):\n",
    "        age = age\n",
    "        age=99\n",
    "        print(age)\n",
    "# Creating objects of MyClass\n",
    "obj1 = MyClass(100)\n",
    "obj2 = MyClass(200)\n",
    "\n",
    "# Calling the print_variables() method for obj1 and obj2\n",
    "obj1.print_variables(33)\n",
    "#obj2.print_variables(22)\n",
    "print(vars(obj1))"
   ]
  },
  {
   "cell_type": "code",
   "execution_count": null,
   "id": "559d2c43",
   "metadata": {},
   "outputs": [],
   "source": []
  },
  {
   "cell_type": "code",
   "execution_count": null,
   "id": "d5743429",
   "metadata": {},
   "outputs": [],
   "source": []
  },
  {
   "cell_type": "code",
   "execution_count": null,
   "id": "85215bcc",
   "metadata": {},
   "outputs": [],
   "source": []
  },
  {
   "cell_type": "code",
   "execution_count": null,
   "id": "f68366b9",
   "metadata": {},
   "outputs": [],
   "source": []
  },
  {
   "cell_type": "code",
   "execution_count": null,
   "id": "d8a9454a",
   "metadata": {},
   "outputs": [],
   "source": []
  },
  {
   "cell_type": "code",
   "execution_count": null,
   "id": "e0d2c820",
   "metadata": {},
   "outputs": [],
   "source": []
  },
  {
   "cell_type": "code",
   "execution_count": null,
   "id": "87188413",
   "metadata": {},
   "outputs": [],
   "source": []
  },
  {
   "cell_type": "code",
   "execution_count": null,
   "id": "bd995c8f",
   "metadata": {},
   "outputs": [],
   "source": []
  }
 ],
 "metadata": {
  "kernelspec": {
   "display_name": "Python 3 (ipykernel)",
   "language": "python",
   "name": "python3"
  },
  "language_info": {
   "codemirror_mode": {
    "name": "ipython",
    "version": 3
   },
   "file_extension": ".py",
   "mimetype": "text/x-python",
   "name": "python",
   "nbconvert_exporter": "python",
   "pygments_lexer": "ipython3",
   "version": "3.9.6"
  }
 },
 "nbformat": 4,
 "nbformat_minor": 5
}
