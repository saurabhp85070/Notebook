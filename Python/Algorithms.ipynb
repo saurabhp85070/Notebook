{
 "cells": [
  {
   "cell_type": "markdown",
   "id": "c18aa5a8",
   "metadata": {},
   "source": [
    "# LINEAR SEARCH"
   ]
  },
  {
   "cell_type": "code",
   "execution_count": 2,
   "id": "2cda3fc8",
   "metadata": {},
   "outputs": [
    {
     "name": "stdout",
     "output_type": "stream",
     "text": [
      "not found\n"
     ]
    }
   ],
   "source": [
    "# implementing linear search\n",
    "\n",
    "def linearSearch(lst,item):\n",
    "    i=0\n",
    "    while i<len(lst):\n",
    "        if lst[i]==item:\n",
    "            return True\n",
    "        i+=1\n",
    "    return False\n",
    "\n",
    "lst=[5,8,4,6,9,2]\n",
    "item=3\n",
    "\n",
    "if linearSearch(lst,item):\n",
    "    print(\"found\")\n",
    "else:\n",
    "    print(\"not found\")"
   ]
  },
  {
   "cell_type": "code",
   "execution_count": 3,
   "id": "e12b698c",
   "metadata": {},
   "outputs": [
    {
     "name": "stdout",
     "output_type": "stream",
     "text": [
      "found at:  -1\n"
     ]
    }
   ],
   "source": [
    "# implementing linear search\n",
    "# print position as well\n",
    "\n",
    "pos=-1 # global\n",
    "\n",
    "def linearSearch(lst,item):\n",
    "    i=0\n",
    "    while i<len(lst):\n",
    "        if lst[i]==item:\n",
    "            pos=i # local vairable\n",
    "            return True\n",
    "        i+=1\n",
    "    return False\n",
    "\n",
    "lst=[5,8,4,6,9,2]\n",
    "item=9\n",
    "\n",
    "if linearSearch(lst,item):\n",
    "    print(\"found at: \",pos)\n",
    "else:\n",
    "    print(\"not found\")"
   ]
  },
  {
   "cell_type": "markdown",
   "id": "f05580e6",
   "metadata": {},
   "source": [
    "##### Explannarion:\n",
    "\n",
    "There is an issue here:\n",
    "\n",
    "pos=-1 is a global variable and pos=i is local varaible and when we chnage local variable it will not impact global variable because we want to use pos outside the function.\n",
    "\n",
    "The problem is when we change pos value(inside function pos=i) it is changing the value of local variable not global variable. In order to access global variable we will simply use: __globals()['pos']=i__ because we can have mutile global varaibles and we have to mentionwhich global varaible we are talking about."
   ]
  },
  {
   "cell_type": "code",
   "execution_count": 4,
   "id": "c3d45aff",
   "metadata": {},
   "outputs": [
    {
     "name": "stdout",
     "output_type": "stream",
     "text": [
      "found at:  4\n"
     ]
    }
   ],
   "source": [
    "# implementing linear search\n",
    "# print position as well\n",
    "\n",
    "pos=-1 # global\n",
    "\n",
    "def linearSearch(lst,item):\n",
    "    i=0\n",
    "    while i<len(lst):\n",
    "        if lst[i]==item:\n",
    "            globals()[\"pos\"]=i # global vairable\n",
    "            return True\n",
    "        i+=1\n",
    "    return False\n",
    "\n",
    "lst=[5,8,4,6,9,2]\n",
    "item=9\n",
    "\n",
    "if linearSearch(lst,item):\n",
    "    print(\"found at: \",pos)\n",
    "else:\n",
    "    print(\"not found\")"
   ]
  },
  {
   "cell_type": "markdown",
   "id": "48e94504",
   "metadata": {},
   "source": [
    "# BINARY SEARCH"
   ]
  },
  {
   "cell_type": "markdown",
   "id": "ee967fa1",
   "metadata": {},
   "source": [
    "When the list size is large and we are searching for value which lies after mid position. In that situation, using linear search concept will take too much time. So, for that we have binary search.\n",
    "\n",
    "In binary search, all the values should be sorted.\n",
    "\n",
    "In linear search, there is no cumpulsion that values should be sorted but in binary search value must be sorted."
   ]
  },
  {
   "cell_type": "markdown",
   "id": "027a973c",
   "metadata": {},
   "source": [
    "## Implementation steps:\n",
    "\n",
    "Suppose we havelist here:\n",
    "\n",
    "4,7,8,12,45,99     >>>>sorted'\n",
    "\n",
    "we are searching 45 in list\n",
    "\n",
    "__step 1:__ First we specify lower bound and upper bound\n",
    "\n",
    "l=4\n",
    "\n",
    "l=99\n",
    "\n",
    "__step 2:__ Then find mid term index\n",
    "\n",
    "mid index=(l+w)/2 # integer division\n",
    "\n",
    "mid index=2 (after caluculation)\n",
    "\n",
    "so mid is 2 and value at mid is 8\n",
    "\n",
    "__step 3:__ We have to check mid value(80 is matching with element we are searching for\n",
    "\n",
    "__step 4:__ We have to change lower and upper bound for next iteration.\n",
    "\n",
    "Which one to change; for this we have to check valuewhich we are searching for is smaller or larger than mid value:\n",
    "\n",
    "case1: If value is smaller than mid value, change upper bound. That means mid value is our new upper bound\n",
    "\n",
    "case2: If value is greater than mid value, change lower bound. That means mid value will become lower bound\n",
    "\n",
    "__step 5:__ Reapeat all process till we found the value we are searching for\n",
    "\n",
    "\n",
    "__Why binary search is faster than linear search ?__\n",
    "\n",
    "By binary search, we are not checking all the element by applying above techniques and it takes less time to search as compare to linear search."
   ]
  },
  {
   "cell_type": "code",
   "execution_count": 11,
   "id": "3042ff33",
   "metadata": {},
   "outputs": [
    {
     "name": "stdout",
     "output_type": "stream",
     "text": [
      "found at:  4\n"
     ]
    }
   ],
   "source": [
    "# implementing binary search\n",
    "\n",
    "pos=-1 # gloabal variable\n",
    "\n",
    "def binarySearch(lst,item):\n",
    "    l=0 # setting lower bound\n",
    "    u=len(lst)-1 # setting upper bound\n",
    "    \n",
    "    while l<=u:\n",
    "        \n",
    "        mid=(l+u)//2 # integer division for getting mid index\n",
    "        \n",
    "        if lst[mid]==item:\n",
    "            globals()['pos']=mid # global\n",
    "            return True\n",
    "        \n",
    "        else:\n",
    "            if lst[mid]<item:\n",
    "                l=mid\n",
    "                \n",
    "            else:\n",
    "                u=mid\n",
    "    return False\n",
    "\n",
    "lst=[4,7,8,12,45,99] # sorted list\n",
    "item=45\n",
    "\n",
    "if binarySearch(lst,item):\n",
    "    print(\"found at: \",pos)\n",
    "else:\n",
    "    print(\"not found\")"
   ]
  },
  {
   "cell_type": "markdown",
   "id": "cb8d457e",
   "metadata": {},
   "source": [
    "__But what if we search for value which do not exist in list__\n",
    "\n",
    "example: item=98"
   ]
  },
  {
   "cell_type": "code",
   "execution_count": 12,
   "id": "28eb350f",
   "metadata": {},
   "outputs": [
    {
     "ename": "KeyboardInterrupt",
     "evalue": "",
     "output_type": "error",
     "traceback": [
      "\u001b[1;31m---------------------------------------------------------------------------\u001b[0m",
      "\u001b[1;31mKeyboardInterrupt\u001b[0m                         Traceback (most recent call last)",
      "\u001b[1;32mC:\\Users\\SAURAB~1\\AppData\\Local\\Temp/ipykernel_24388/3246088163.py\u001b[0m in \u001b[0;36m<module>\u001b[1;34m\u001b[0m\n\u001b[0;32m     26\u001b[0m \u001b[0mitem\u001b[0m\u001b[1;33m=\u001b[0m\u001b[1;36m44\u001b[0m\u001b[1;33m\u001b[0m\u001b[1;33m\u001b[0m\u001b[0m\n\u001b[0;32m     27\u001b[0m \u001b[1;33m\u001b[0m\u001b[0m\n\u001b[1;32m---> 28\u001b[1;33m \u001b[1;32mif\u001b[0m \u001b[0mbinarySearch\u001b[0m\u001b[1;33m(\u001b[0m\u001b[0mlst\u001b[0m\u001b[1;33m,\u001b[0m\u001b[0mitem\u001b[0m\u001b[1;33m)\u001b[0m\u001b[1;33m:\u001b[0m\u001b[1;33m\u001b[0m\u001b[1;33m\u001b[0m\u001b[0m\n\u001b[0m\u001b[0;32m     29\u001b[0m     \u001b[0mprint\u001b[0m\u001b[1;33m(\u001b[0m\u001b[1;34m\"found at: \"\u001b[0m\u001b[1;33m,\u001b[0m\u001b[0mpos\u001b[0m\u001b[1;33m)\u001b[0m\u001b[1;33m\u001b[0m\u001b[1;33m\u001b[0m\u001b[0m\n\u001b[0;32m     30\u001b[0m \u001b[1;32melse\u001b[0m\u001b[1;33m:\u001b[0m\u001b[1;33m\u001b[0m\u001b[1;33m\u001b[0m\u001b[0m\n",
      "\u001b[1;32mC:\\Users\\SAURAB~1\\AppData\\Local\\Temp/ipykernel_24388/3246088163.py\u001b[0m in \u001b[0;36mbinarySearch\u001b[1;34m(lst, item)\u001b[0m\n\u001b[0;32m     17\u001b[0m         \u001b[1;32melse\u001b[0m\u001b[1;33m:\u001b[0m\u001b[1;33m\u001b[0m\u001b[1;33m\u001b[0m\u001b[0m\n\u001b[0;32m     18\u001b[0m             \u001b[1;32mif\u001b[0m \u001b[0mlst\u001b[0m\u001b[1;33m[\u001b[0m\u001b[0mmid\u001b[0m\u001b[1;33m]\u001b[0m\u001b[1;33m<\u001b[0m\u001b[0mitem\u001b[0m\u001b[1;33m:\u001b[0m\u001b[1;33m\u001b[0m\u001b[1;33m\u001b[0m\u001b[0m\n\u001b[1;32m---> 19\u001b[1;33m                 \u001b[0ml\u001b[0m\u001b[1;33m=\u001b[0m\u001b[0mmid\u001b[0m\u001b[1;33m\u001b[0m\u001b[1;33m\u001b[0m\u001b[0m\n\u001b[0m\u001b[0;32m     20\u001b[0m \u001b[1;33m\u001b[0m\u001b[0m\n\u001b[0;32m     21\u001b[0m             \u001b[1;32melse\u001b[0m\u001b[1;33m:\u001b[0m\u001b[1;33m\u001b[0m\u001b[1;33m\u001b[0m\u001b[0m\n",
      "\u001b[1;31mKeyboardInterrupt\u001b[0m: "
     ]
    }
   ],
   "source": [
    "# implementing binary search\n",
    "\n",
    "pos=-1 # gloabal variable\n",
    "\n",
    "def binarySearch(lst,item):\n",
    "    l=0 # setting lower bound\n",
    "    u=len(lst)-1 # setting upper bound\n",
    "    \n",
    "    while l<=u:\n",
    "        \n",
    "        mid=(l+u)//2 # integer division for getting mid index\n",
    "        \n",
    "        if lst[mid]==item:\n",
    "            globals()['pos']=mid # global\n",
    "            return True\n",
    "        \n",
    "        else:\n",
    "            if lst[mid]<item:\n",
    "                l=mid\n",
    "                \n",
    "            else:\n",
    "                u=mid\n",
    "    return False\n",
    "\n",
    "lst=[4,7,8,12,45,99] # sorted list\n",
    "item=44\n",
    "\n",
    "if binarySearch(lst,item):\n",
    "    print(\"found at: \",pos)\n",
    "else:\n",
    "    print(\"not found\")"
   ]
  },
  {
   "cell_type": "markdown",
   "id": "f5091205",
   "metadata": {},
   "source": [
    "##### Explanation:\n",
    "\n",
    "It is not printing anything\n",
    "\n",
    "So we have to say __l=mid+1__ because if it is not available then why we have even to check for mid.\n",
    "\n",
    "So, we have to say:\n",
    "\n",
    "l=mid+1 for lower bound\n",
    "\n",
    "u=mid-1 for upper bound because we have to skip that mid value"
   ]
  },
  {
   "cell_type": "code",
   "execution_count": 8,
   "id": "f811b519",
   "metadata": {},
   "outputs": [
    {
     "name": "stdout",
     "output_type": "stream",
     "text": [
      "found at:  0\n"
     ]
    }
   ],
   "source": [
    "# implementing binary search\n",
    "\n",
    "pos=-1 # gloabal variable\n",
    "\n",
    "def binarySearch(lst,item):\n",
    "    l=0 # setting lower bound\n",
    "    u=len(lst)-1 # setting upper bound\n",
    "    \n",
    "    while l<=u:\n",
    "        \n",
    "        mid=(l+u)//2 # integer division for getting mid index\n",
    "        \n",
    "        if lst[mid]==item:\n",
    "            globals()['pos']=mid # global\n",
    "            return True\n",
    "        \n",
    "        else:\n",
    "            if lst[mid]<item:\n",
    "                l=mid+1\n",
    "                \n",
    "            else:\n",
    "                u=mid-1\n",
    "    return False\n",
    "\n",
    "lst=[4,7,8,12,45,99] # sorted list\n",
    "item=4\n",
    "\n",
    "if binarySearch(lst,item):\n",
    "    print(\"found at: \",pos)\n",
    "else:\n",
    "    print(\"not found\")"
   ]
  },
  {
   "cell_type": "code",
   "execution_count": 24,
   "id": "4caccb23",
   "metadata": {},
   "outputs": [
    {
     "name": "stdout",
     "output_type": "stream",
     "text": [
      "True\n"
     ]
    }
   ],
   "source": [
    "print(bool(-2))"
   ]
  },
  {
   "cell_type": "markdown",
   "id": "1033b609",
   "metadata": {},
   "source": [
    "# BUBBLE SORT\n",
    "\n",
    "It is a comparison-based algorithm in which each pair of adjacent elements is compared and the elements are swapped if they are not in order."
   ]
  },
  {
   "cell_type": "markdown",
   "id": "e46b0b43",
   "metadata": {},
   "source": [
    "__step 1:__ Compare first two value\n",
    "\n",
    "if first is grater than second then swap otherwise skip\n",
    "\n",
    "__step 2:__ compare again. we have to do same thing mutiple times\n",
    "\n",
    "So, after first iterationwe got largest value at end and after second iteration, we got second largest value\n",
    "and after all iteration values get sorted.\n",
    "\n",
    "for this we need two loops:\n",
    "\n",
    "one for iteration which will make sure biggest value at end\n",
    "\n",
    "second for or outer loop reapeating samething repeatedly"
   ]
  },
  {
   "cell_type": "code",
   "execution_count": 5,
   "id": "68c47ec1",
   "metadata": {},
   "outputs": [
    {
     "name": "stdout",
     "output_type": "stream",
     "text": [
      "[1, 2, 3, 4, 5]\n",
      "[1, 2, 3, 4, 5]\n",
      "[1, 2, 3, 4, 5]\n",
      "[1, 2, 3, 4, 5]\n",
      "[1, 2, 3, 4, 5]\n",
      "[1, 2, 3, 4, 5]\n",
      "[1, 2, 3, 4, 5]\n",
      "[1, 2, 3, 4, 5]\n",
      "[1, 2, 3, 4, 5]\n",
      "[1, 2, 3, 4, 5]\n"
     ]
    }
   ],
   "source": [
    "# implementing bubble sort\n",
    "\n",
    "def bubbleSort(lst):\n",
    "    for i in range(len(lst)-1,0,-1):\n",
    "        for j in range(i):\n",
    "            if lst[j]>lst[j+1]:\n",
    "                temp=lst[j]\n",
    "                lst[j]=lst[j+1]\n",
    "                lst[j+1]=temp\n",
    "            print(lst)\n",
    "\n",
    "lst=[1,2,3,4,5]\n",
    "\n",
    "#print(lst)\n",
    "\n",
    "bubbleSort(lst)\n",
    "\n",
    "#print(lst)\n",
    "\n",
    "# complexity= O(n^2)\n",
    "# space=O(1)"
   ]
  },
  {
   "cell_type": "code",
   "execution_count": 4,
   "id": "6d78f0c5",
   "metadata": {},
   "outputs": [
    {
     "name": "stdout",
     "output_type": "stream",
     "text": [
      "Sorted array is: [11, 12, 22, 25, 34, 64, 90]\n"
     ]
    }
   ],
   "source": [
    "def bubble_sort(arr):\n",
    "    n = len(arr)\n",
    "    \n",
    "    # Traverse through all elements in the list\n",
    "    for i in range(n):\n",
    "        # Flag to optimize the algorithm by detecting if any swaps were made in a pass\n",
    "        swapped = False\n",
    "        \n",
    "        # Last i elements are already in place, so we don't need to check them\n",
    "        for j in range(0, n-i-1):\n",
    "            # If the element found is greater than the next element, swap them\n",
    "            if arr[j] > arr[j+1]:\n",
    "                arr[j], arr[j+1] = arr[j+1], arr[j]\n",
    "                swapped = True\n",
    "        \n",
    "        # If no swaps were made in this pass, the list is already sorted\n",
    "        if not swapped:\n",
    "            break\n",
    "\n",
    "# Example usage:\n",
    "my_list = [64, 34, 25, 12, 22, 11, 90]\n",
    "bubble_sort(my_list)\n",
    "print(\"Sorted array is:\", my_list)"
   ]
  },
  {
   "cell_type": "markdown",
   "id": "111c9485",
   "metadata": {},
   "source": [
    "# SELECTION SORT\n",
    "\n",
    "In selection sort we start by finding the minimum value in a given list and move it to a sorted list. Then we repeat the process for each of the remaining elements in the unsorted list. The next element entering the sorted list is compared with the existing elements and placed at its correct position.So, at the end all the elements from the unsorted list are sorted."
   ]
  },
  {
   "cell_type": "code",
   "execution_count": 14,
   "id": "e1530e13",
   "metadata": {},
   "outputs": [
    {
     "name": "stdout",
     "output_type": "stream",
     "text": [
      "[5, 3, 8, 6, 7, 2]\n",
      "[2, 3, 5, 6, 7, 8]\n"
     ]
    }
   ],
   "source": [
    "# selection sort\n",
    "\n",
    "def selectionSort(lst):\n",
    "    for i in range(len(lst)-1):\n",
    "        minPos=i\n",
    "        for j in range(i,len(lst)):\n",
    "            if lst[j]<lst[minPos]:\n",
    "                minPos=j\n",
    "        temp=lst[i]\n",
    "        lst[i]=lst[minPos]\n",
    "        lst[minPos]=temp\n",
    "        \n",
    "\n",
    "lst=[5,3,8,6,7,2]\n",
    "\n",
    "print(lst)\n",
    "\n",
    "selectionSort(lst)\n",
    "\n",
    "print(lst)         "
   ]
  },
  {
   "cell_type": "code",
   "execution_count": 3,
   "id": "228d75a4",
   "metadata": {},
   "outputs": [
    {
     "name": "stdout",
     "output_type": "stream",
     "text": [
      "Sorted array is: [11, 12, 22, 25, 34, 64, 90]\n"
     ]
    }
   ],
   "source": [
    "def selection_sort(arr):\n",
    "    n = len(arr)\n",
    "    \n",
    "    # Traverse through all array elements\n",
    "    for i in range(n):\n",
    "        # Find the minimum element in the remaining unsorted array\n",
    "        min_index = i\n",
    "        for j in range(i+1, n):\n",
    "            if arr[j] < arr[min_index]:\n",
    "                min_index = j\n",
    "        \n",
    "        # Swap the found minimum element with the element at position i\n",
    "        arr[i], arr[min_index] = arr[min_index], arr[i]\n",
    "\n",
    "# Example usage:\n",
    "my_list = [64, 34, 25, 12, 22, 11, 90]\n",
    "selection_sort(my_list)\n",
    "print(\"Sorted array is:\", my_list)\n"
   ]
  },
  {
   "cell_type": "markdown",
   "id": "d52fa127",
   "metadata": {},
   "source": [
    "# INSERTION SORT\n",
    "\n",
    "Insertion sort involves finding the right place for a given element in a sorted list. So in beginning we compare the first two elements and sort them by comparing them. Then we pick the third element and find its proper position among the previous two sorted elements. This way we gradually go on adding more elements to the already sorted list by putting them in their proper position.\n",
    "\n",
    "OR\n",
    "\n",
    "This sorting algorithm maintains a sub-array that is always sorted. Values from the unsorted part of the array are placed at the correct position in the sorted part. It is more efficient in practice than other algorithms such as selection sort or bubble sort. Insertion Sort has a Time-Complexity of O(n2) in the average and worst case, and O(n) in the best case."
   ]
  },
  {
   "cell_type": "code",
   "execution_count": 18,
   "id": "0a72ea34",
   "metadata": {},
   "outputs": [
    {
     "name": "stdout",
     "output_type": "stream",
     "text": [
      "[5, 3, 8, 6, 7, 2]\n",
      "[2, 3, 5, 6, 7, 8]\n"
     ]
    }
   ],
   "source": [
    "# insertion sort implementation\n",
    "\n",
    "def insertionSort(lst):\n",
    "    for i in range(1,len(lst)):\n",
    "        j=i-1\n",
    "        nxt=lst[i]\n",
    "        while (lst[j]>nxt) and (j>=0):\n",
    "            lst[j+1]=lst[j]\n",
    "            j=j-1\n",
    "        lst[j+1]=nxt\n",
    "        \n",
    "lst=[5,3,8,6,7,2]\n",
    "\n",
    "print(lst)\n",
    "\n",
    "insertionSort(lst)\n",
    "\n",
    "print(lst)         "
   ]
  },
  {
   "cell_type": "code",
   "execution_count": 6,
   "id": "d38e0183",
   "metadata": {},
   "outputs": [
    {
     "name": "stdout",
     "output_type": "stream",
     "text": [
      "Sorted array is: [11, 12, 22, 25, 34, 64, 90]\n"
     ]
    }
   ],
   "source": [
    "def insertion_sort(arr):\n",
    "    # Traverse through all array elements starting from the second element (index 1)\n",
    "    n=len(arr)\n",
    "    for i in range(1, n):\n",
    "        key = arr[i]  # The current element to be compared and inserted\n",
    "\n",
    "        # Move elements of arr[0...i-1], that are greater than key,\n",
    "        # to one position ahead of their current position\n",
    "        j = i - 1\n",
    "        while j >= 0 and key < arr[j]:\n",
    "            arr[j + 1] = arr[j]\n",
    "            j -= 1\n",
    "        arr[j + 1] = key\n",
    "\n",
    "# Example usage:\n",
    "my_list = [64, 34, 25, 12, 22, 11, 90]\n",
    "insertion_sort(my_list)\n",
    "print(\"Sorted array is:\", my_list)\n"
   ]
  },
  {
   "cell_type": "markdown",
   "id": "84f10358",
   "metadata": {},
   "source": [
    "# MERGE SORT\n",
    "\n",
    "Merge sort first divides the array into equal halves and then combines them in a sorted manner."
   ]
  },
  {
   "cell_type": "code",
   "execution_count": 37,
   "id": "e2be6144",
   "metadata": {},
   "outputs": [
    {
     "name": "stdout",
     "output_type": "stream",
     "text": [
      "[5, 3, 8, 6, 7, 2]\n"
     ]
    },
    {
     "ename": "TypeError",
     "evalue": "'list' object is not callable",
     "output_type": "error",
     "traceback": [
      "\u001b[1;31m---------------------------------------------------------------------------\u001b[0m",
      "\u001b[1;31mTypeError\u001b[0m                                 Traceback (most recent call last)",
      "\u001b[1;32mC:\\Users\\SAURAB~1\\AppData\\Local\\Temp/ipykernel_24420/3601337048.py\u001b[0m in \u001b[0;36m<module>\u001b[1;34m\u001b[0m\n\u001b[0;32m     36\u001b[0m \u001b[0mprint\u001b[0m\u001b[1;33m(\u001b[0m\u001b[0mlst\u001b[0m\u001b[1;33m)\u001b[0m\u001b[1;33m\u001b[0m\u001b[1;33m\u001b[0m\u001b[0m\n\u001b[0;32m     37\u001b[0m \u001b[1;33m\u001b[0m\u001b[0m\n\u001b[1;32m---> 38\u001b[1;33m \u001b[0mresult\u001b[0m\u001b[1;33m=\u001b[0m\u001b[0mmergeSort\u001b[0m\u001b[1;33m(\u001b[0m\u001b[0mlst\u001b[0m\u001b[1;33m)\u001b[0m\u001b[1;33m\u001b[0m\u001b[1;33m\u001b[0m\u001b[0m\n\u001b[0m\u001b[0;32m     39\u001b[0m \u001b[1;33m\u001b[0m\u001b[0m\n\u001b[0;32m     40\u001b[0m \u001b[0mprint\u001b[0m\u001b[1;33m(\u001b[0m\u001b[0mresult\u001b[0m\u001b[1;33m)\u001b[0m\u001b[1;33m\u001b[0m\u001b[1;33m\u001b[0m\u001b[0m\n",
      "\u001b[1;32mC:\\Users\\SAURAB~1\\AppData\\Local\\Temp/ipykernel_24420/3601337048.py\u001b[0m in \u001b[0;36mmergeSort\u001b[1;34m(lst)\u001b[0m\n\u001b[0;32m     10\u001b[0m     \u001b[0mright\u001b[0m\u001b[1;33m=\u001b[0m\u001b[0mlst\u001b[0m\u001b[1;33m[\u001b[0m\u001b[0mmid\u001b[0m\u001b[1;33m:\u001b[0m\u001b[1;33m]\u001b[0m\u001b[1;33m\u001b[0m\u001b[1;33m\u001b[0m\u001b[0m\n\u001b[0;32m     11\u001b[0m \u001b[1;33m\u001b[0m\u001b[0m\n\u001b[1;32m---> 12\u001b[1;33m     \u001b[0mleft\u001b[0m\u001b[1;33m=\u001b[0m\u001b[0mmergeSort\u001b[0m\u001b[1;33m(\u001b[0m\u001b[0mleft\u001b[0m\u001b[1;33m)\u001b[0m\u001b[1;33m\u001b[0m\u001b[1;33m\u001b[0m\u001b[0m\n\u001b[0m\u001b[0;32m     13\u001b[0m     \u001b[0mright\u001b[0m\u001b[1;33m=\u001b[0m\u001b[0mmergeSort\u001b[0m\u001b[1;33m(\u001b[0m\u001b[0mright\u001b[0m\u001b[1;33m)\u001b[0m\u001b[1;33m\u001b[0m\u001b[1;33m\u001b[0m\u001b[0m\n\u001b[0;32m     14\u001b[0m \u001b[1;33m\u001b[0m\u001b[0m\n",
      "\u001b[1;32mC:\\Users\\SAURAB~1\\AppData\\Local\\Temp/ipykernel_24420/3601337048.py\u001b[0m in \u001b[0;36mmergeSort\u001b[1;34m(lst)\u001b[0m\n\u001b[0;32m     11\u001b[0m \u001b[1;33m\u001b[0m\u001b[0m\n\u001b[0;32m     12\u001b[0m     \u001b[0mleft\u001b[0m\u001b[1;33m=\u001b[0m\u001b[0mmergeSort\u001b[0m\u001b[1;33m(\u001b[0m\u001b[0mleft\u001b[0m\u001b[1;33m)\u001b[0m\u001b[1;33m\u001b[0m\u001b[1;33m\u001b[0m\u001b[0m\n\u001b[1;32m---> 13\u001b[1;33m     \u001b[0mright\u001b[0m\u001b[1;33m=\u001b[0m\u001b[0mmergeSort\u001b[0m\u001b[1;33m(\u001b[0m\u001b[0mright\u001b[0m\u001b[1;33m)\u001b[0m\u001b[1;33m\u001b[0m\u001b[1;33m\u001b[0m\u001b[0m\n\u001b[0m\u001b[0;32m     14\u001b[0m \u001b[1;33m\u001b[0m\u001b[0m\n\u001b[0;32m     15\u001b[0m     \u001b[1;32mreturn\u001b[0m \u001b[0mlist\u001b[0m\u001b[1;33m(\u001b[0m\u001b[0mmerge\u001b[0m\u001b[1;33m(\u001b[0m\u001b[0mleft\u001b[0m\u001b[1;33m,\u001b[0m\u001b[0mright\u001b[0m\u001b[1;33m)\u001b[0m\u001b[1;33m)\u001b[0m\u001b[1;33m\u001b[0m\u001b[1;33m\u001b[0m\u001b[0m\n",
      "\u001b[1;32mC:\\Users\\SAURAB~1\\AppData\\Local\\Temp/ipykernel_24420/3601337048.py\u001b[0m in \u001b[0;36mmergeSort\u001b[1;34m(lst)\u001b[0m\n\u001b[0;32m     13\u001b[0m     \u001b[0mright\u001b[0m\u001b[1;33m=\u001b[0m\u001b[0mmergeSort\u001b[0m\u001b[1;33m(\u001b[0m\u001b[0mright\u001b[0m\u001b[1;33m)\u001b[0m\u001b[1;33m\u001b[0m\u001b[1;33m\u001b[0m\u001b[0m\n\u001b[0;32m     14\u001b[0m \u001b[1;33m\u001b[0m\u001b[0m\n\u001b[1;32m---> 15\u001b[1;33m     \u001b[1;32mreturn\u001b[0m \u001b[0mlist\u001b[0m\u001b[1;33m(\u001b[0m\u001b[0mmerge\u001b[0m\u001b[1;33m(\u001b[0m\u001b[0mleft\u001b[0m\u001b[1;33m,\u001b[0m\u001b[0mright\u001b[0m\u001b[1;33m)\u001b[0m\u001b[1;33m)\u001b[0m\u001b[1;33m\u001b[0m\u001b[1;33m\u001b[0m\u001b[0m\n\u001b[0m\u001b[0;32m     16\u001b[0m \u001b[1;33m\u001b[0m\u001b[0m\n\u001b[0;32m     17\u001b[0m \u001b[1;32mdef\u001b[0m \u001b[0mmerge\u001b[0m\u001b[1;33m(\u001b[0m\u001b[0mleft\u001b[0m\u001b[1;33m,\u001b[0m\u001b[0mright\u001b[0m\u001b[1;33m)\u001b[0m\u001b[1;33m:\u001b[0m\u001b[1;33m\u001b[0m\u001b[1;33m\u001b[0m\u001b[0m\n",
      "\u001b[1;31mTypeError\u001b[0m: 'list' object is not callable"
     ]
    }
   ],
   "source": [
    "# merge sort implementation\n",
    "\n",
    "def mergeSort(lst):\n",
    "    if len(lst)<=1:\n",
    "        return lst\n",
    "    \n",
    "    mid=len(lst)//2\n",
    "    \n",
    "    left=lst[:mid]\n",
    "    right=lst[mid:]\n",
    "    \n",
    "    left=mergeSort(left)\n",
    "    right=mergeSort(right)\n",
    "    \n",
    "    return list(merge(left,right))\n",
    "\n",
    "def merge(left,right):\n",
    "    result=[]\n",
    "    while len(left)!=0 and len(right)!=0:\n",
    "        if left[0]<right[0]:\n",
    "            result.append(left[0])\n",
    "            left.remove(left[0])\n",
    "        else:\n",
    "            result.append(right[0])\n",
    "            right.remove(right[0])\n",
    "    \n",
    "    if len(left)==0:\n",
    "        result=result+right\n",
    "    else:\n",
    "        result=result+left\n",
    "    \n",
    "    return result\n",
    "            \n",
    "lst=[5,3,8,6,7,2]\n",
    "\n",
    "print(lst)\n",
    "\n",
    "result=mergeSort(lst)\n",
    "\n",
    "print(result)         "
   ]
  },
  {
   "cell_type": "markdown",
   "id": "9d9ec13c",
   "metadata": {},
   "source": [
    "# SHELL SORT\n",
    "\n",
    "Shell Sort involves sorting elements which are away from each other. We sort a large sublist of a given list and go on reducing the size of the list until all elements are sorted. The below program finds the gap by equating it to half of the length of the list size and then starts sorting all elements in it. Then we keep resetting the gap until the entire list is sorted."
   ]
  },
  {
   "cell_type": "code",
   "execution_count": 30,
   "id": "ad1b63b9",
   "metadata": {},
   "outputs": [
    {
     "name": "stdout",
     "output_type": "stream",
     "text": [
      "[5, 3, 8, 6, 7, 2]\n",
      "[2, 3, 5, 6, 7, 8]\n"
     ]
    }
   ],
   "source": [
    "# shell sort implementation\n",
    "\n",
    "def shellSort(lst):\n",
    "    gap=len(lst)//2\n",
    "    \n",
    "    while gap>0:\n",
    "        for i in range(gap,len(lst)):\n",
    "            temp=lst[i]\n",
    "            j=i\n",
    "            while j>=gap and lst[j-gap]>temp:\n",
    "                lst[j]=lst[j-gap]\n",
    "                j=j-gap\n",
    "                lst[j]=temp\n",
    "        gap=gap//2\n",
    "\n",
    "lst=[5,3,8,6,7,2]\n",
    "\n",
    "print(lst)\n",
    "\n",
    "shellSort(lst)\n",
    "\n",
    "print(lst)  "
   ]
  },
  {
   "cell_type": "code",
   "execution_count": 35,
   "id": "51a0c0d4",
   "metadata": {},
   "outputs": [
    {
     "name": "stdout",
     "output_type": "stream",
     "text": [
      "Enter the size: 5\n",
      "Enter element: 1\n",
      "Enter element: 2\n",
      "Enter element: 3\n",
      "Enter element: 4\n",
      "Enter element: 5\n",
      "[1, 2, 3, 4, 5]\n"
     ]
    },
    {
     "ename": "TypeError",
     "evalue": "'list' object is not callable",
     "output_type": "error",
     "traceback": [
      "\u001b[1;31m---------------------------------------------------------------------------\u001b[0m",
      "\u001b[1;31mTypeError\u001b[0m                                 Traceback (most recent call last)",
      "\u001b[1;32mC:\\Users\\SAURAB~1\\AppData\\Local\\Temp/ipykernel_24420/4101490984.py\u001b[0m in \u001b[0;36m<module>\u001b[1;34m\u001b[0m\n\u001b[0;32m      7\u001b[0m     \u001b[0mlst\u001b[0m\u001b[1;33m.\u001b[0m\u001b[0mappend\u001b[0m\u001b[1;33m(\u001b[0m\u001b[0mitem\u001b[0m\u001b[1;33m)\u001b[0m\u001b[1;33m\u001b[0m\u001b[1;33m\u001b[0m\u001b[0m\n\u001b[0;32m      8\u001b[0m \u001b[0mprint\u001b[0m\u001b[1;33m(\u001b[0m\u001b[0mlst\u001b[0m\u001b[1;33m)\u001b[0m\u001b[1;33m\u001b[0m\u001b[1;33m\u001b[0m\u001b[0m\n\u001b[1;32m----> 9\u001b[1;33m \u001b[0mprint\u001b[0m\u001b[1;33m(\u001b[0m\u001b[0mmergeSort\u001b[0m\u001b[1;33m(\u001b[0m\u001b[0mlst\u001b[0m\u001b[1;33m)\u001b[0m\u001b[1;33m)\u001b[0m\u001b[1;33m\u001b[0m\u001b[1;33m\u001b[0m\u001b[0m\n\u001b[0m",
      "\u001b[1;32mC:\\Users\\SAURAB~1\\AppData\\Local\\Temp/ipykernel_24420/1761314870.py\u001b[0m in \u001b[0;36mmergeSort\u001b[1;34m(lst)\u001b[0m\n\u001b[0;32m     10\u001b[0m     \u001b[0mright\u001b[0m\u001b[1;33m=\u001b[0m\u001b[0mlst\u001b[0m\u001b[1;33m[\u001b[0m\u001b[0mmid\u001b[0m\u001b[1;33m:\u001b[0m\u001b[1;33m]\u001b[0m\u001b[1;33m\u001b[0m\u001b[1;33m\u001b[0m\u001b[0m\n\u001b[0;32m     11\u001b[0m \u001b[1;33m\u001b[0m\u001b[0m\n\u001b[1;32m---> 12\u001b[1;33m     \u001b[0mleft\u001b[0m\u001b[1;33m=\u001b[0m\u001b[0mmergeSort\u001b[0m\u001b[1;33m(\u001b[0m\u001b[0mleft\u001b[0m\u001b[1;33m)\u001b[0m\u001b[1;33m\u001b[0m\u001b[1;33m\u001b[0m\u001b[0m\n\u001b[0m\u001b[0;32m     13\u001b[0m     \u001b[0mright\u001b[0m\u001b[1;33m=\u001b[0m\u001b[0mmergeSort\u001b[0m\u001b[1;33m(\u001b[0m\u001b[0mright\u001b[0m\u001b[1;33m)\u001b[0m\u001b[1;33m\u001b[0m\u001b[1;33m\u001b[0m\u001b[0m\n\u001b[0;32m     14\u001b[0m \u001b[1;33m\u001b[0m\u001b[0m\n",
      "\u001b[1;32mC:\\Users\\SAURAB~1\\AppData\\Local\\Temp/ipykernel_24420/1761314870.py\u001b[0m in \u001b[0;36mmergeSort\u001b[1;34m(lst)\u001b[0m\n\u001b[0;32m     13\u001b[0m     \u001b[0mright\u001b[0m\u001b[1;33m=\u001b[0m\u001b[0mmergeSort\u001b[0m\u001b[1;33m(\u001b[0m\u001b[0mright\u001b[0m\u001b[1;33m)\u001b[0m\u001b[1;33m\u001b[0m\u001b[1;33m\u001b[0m\u001b[0m\n\u001b[0;32m     14\u001b[0m \u001b[1;33m\u001b[0m\u001b[0m\n\u001b[1;32m---> 15\u001b[1;33m     \u001b[1;32mreturn\u001b[0m \u001b[0mlist\u001b[0m\u001b[1;33m(\u001b[0m\u001b[0mmerge\u001b[0m\u001b[1;33m(\u001b[0m\u001b[0mleft\u001b[0m\u001b[1;33m,\u001b[0m\u001b[0mright\u001b[0m\u001b[1;33m)\u001b[0m\u001b[1;33m)\u001b[0m\u001b[1;33m\u001b[0m\u001b[1;33m\u001b[0m\u001b[0m\n\u001b[0m\u001b[0;32m     16\u001b[0m \u001b[1;33m\u001b[0m\u001b[0m\n\u001b[0;32m     17\u001b[0m \u001b[1;32mdef\u001b[0m \u001b[0mmerge\u001b[0m\u001b[1;33m(\u001b[0m\u001b[0mleft\u001b[0m\u001b[1;33m,\u001b[0m\u001b[0mright\u001b[0m\u001b[1;33m)\u001b[0m\u001b[1;33m:\u001b[0m\u001b[1;33m\u001b[0m\u001b[1;33m\u001b[0m\u001b[0m\n",
      "\u001b[1;31mTypeError\u001b[0m: 'list' object is not callable"
     ]
    }
   ],
   "source": [
    "# LETS CHECK ALL SORTING ALGORITHM VALUES and behavior\n",
    "\n",
    "lst=[]\n",
    "size=int(input(\"Enter the size: \"))\n",
    "for i in range(size):\n",
    "    item=int(input(\"Enter element: \"))\n",
    "    lst.append(item)\n",
    "print(lst)\n",
    "print(mergeSort(lst))"
   ]
  },
  {
   "cell_type": "code",
   "execution_count": 38,
   "id": "92965fd2",
   "metadata": {},
   "outputs": [
    {
     "ename": "TypeError",
     "evalue": "'list' object is not callable",
     "output_type": "error",
     "traceback": [
      "\u001b[1;31m---------------------------------------------------------------------------\u001b[0m",
      "\u001b[1;31mTypeError\u001b[0m                                 Traceback (most recent call last)",
      "\u001b[1;32mC:\\Users\\SAURAB~1\\AppData\\Local\\Temp/ipykernel_24420/3669642072.py\u001b[0m in \u001b[0;36m<module>\u001b[1;34m\u001b[0m\n\u001b[0;32m     27\u001b[0m    \u001b[1;32mreturn\u001b[0m \u001b[0mres\u001b[0m\u001b[1;33m\u001b[0m\u001b[1;33m\u001b[0m\u001b[0m\n\u001b[0;32m     28\u001b[0m \u001b[0munsorted_list\u001b[0m \u001b[1;33m=\u001b[0m \u001b[1;33m[\u001b[0m\u001b[1;36m64\u001b[0m\u001b[1;33m,\u001b[0m \u001b[1;36m34\u001b[0m\u001b[1;33m,\u001b[0m \u001b[1;36m25\u001b[0m\u001b[1;33m,\u001b[0m \u001b[1;36m12\u001b[0m\u001b[1;33m,\u001b[0m \u001b[1;36m22\u001b[0m\u001b[1;33m,\u001b[0m \u001b[1;36m11\u001b[0m\u001b[1;33m,\u001b[0m \u001b[1;36m90\u001b[0m\u001b[1;33m]\u001b[0m\u001b[1;33m\u001b[0m\u001b[1;33m\u001b[0m\u001b[0m\n\u001b[1;32m---> 29\u001b[1;33m \u001b[0mprint\u001b[0m\u001b[1;33m(\u001b[0m\u001b[0mmerge_sort\u001b[0m\u001b[1;33m(\u001b[0m\u001b[0munsorted_list\u001b[0m\u001b[1;33m)\u001b[0m\u001b[1;33m)\u001b[0m\u001b[1;33m\u001b[0m\u001b[1;33m\u001b[0m\u001b[0m\n\u001b[0m",
      "\u001b[1;32mC:\\Users\\SAURAB~1\\AppData\\Local\\Temp/ipykernel_24420/3669642072.py\u001b[0m in \u001b[0;36mmerge_sort\u001b[1;34m(unsorted_list)\u001b[0m\n\u001b[0;32m      7\u001b[0m    \u001b[0mright_list\u001b[0m \u001b[1;33m=\u001b[0m \u001b[0munsorted_list\u001b[0m\u001b[1;33m[\u001b[0m\u001b[0mmiddle\u001b[0m\u001b[1;33m:\u001b[0m\u001b[1;33m]\u001b[0m\u001b[1;33m\u001b[0m\u001b[1;33m\u001b[0m\u001b[0m\n\u001b[0;32m      8\u001b[0m \u001b[1;33m\u001b[0m\u001b[0m\n\u001b[1;32m----> 9\u001b[1;33m    \u001b[0mleft_list\u001b[0m \u001b[1;33m=\u001b[0m \u001b[0mmerge_sort\u001b[0m\u001b[1;33m(\u001b[0m\u001b[0mleft_list\u001b[0m\u001b[1;33m)\u001b[0m\u001b[1;33m\u001b[0m\u001b[1;33m\u001b[0m\u001b[0m\n\u001b[0m\u001b[0;32m     10\u001b[0m    \u001b[0mright_list\u001b[0m \u001b[1;33m=\u001b[0m \u001b[0mmerge_sort\u001b[0m\u001b[1;33m(\u001b[0m\u001b[0mright_list\u001b[0m\u001b[1;33m)\u001b[0m\u001b[1;33m\u001b[0m\u001b[1;33m\u001b[0m\u001b[0m\n\u001b[0;32m     11\u001b[0m    \u001b[1;32mreturn\u001b[0m \u001b[0mlist\u001b[0m\u001b[1;33m(\u001b[0m\u001b[0mmerge\u001b[0m\u001b[1;33m(\u001b[0m\u001b[0mleft_list\u001b[0m\u001b[1;33m,\u001b[0m \u001b[0mright_list\u001b[0m\u001b[1;33m)\u001b[0m\u001b[1;33m)\u001b[0m\u001b[1;33m\u001b[0m\u001b[1;33m\u001b[0m\u001b[0m\n",
      "\u001b[1;32mC:\\Users\\SAURAB~1\\AppData\\Local\\Temp/ipykernel_24420/3669642072.py\u001b[0m in \u001b[0;36mmerge_sort\u001b[1;34m(unsorted_list)\u001b[0m\n\u001b[0;32m      8\u001b[0m \u001b[1;33m\u001b[0m\u001b[0m\n\u001b[0;32m      9\u001b[0m    \u001b[0mleft_list\u001b[0m \u001b[1;33m=\u001b[0m \u001b[0mmerge_sort\u001b[0m\u001b[1;33m(\u001b[0m\u001b[0mleft_list\u001b[0m\u001b[1;33m)\u001b[0m\u001b[1;33m\u001b[0m\u001b[1;33m\u001b[0m\u001b[0m\n\u001b[1;32m---> 10\u001b[1;33m    \u001b[0mright_list\u001b[0m \u001b[1;33m=\u001b[0m \u001b[0mmerge_sort\u001b[0m\u001b[1;33m(\u001b[0m\u001b[0mright_list\u001b[0m\u001b[1;33m)\u001b[0m\u001b[1;33m\u001b[0m\u001b[1;33m\u001b[0m\u001b[0m\n\u001b[0m\u001b[0;32m     11\u001b[0m    \u001b[1;32mreturn\u001b[0m \u001b[0mlist\u001b[0m\u001b[1;33m(\u001b[0m\u001b[0mmerge\u001b[0m\u001b[1;33m(\u001b[0m\u001b[0mleft_list\u001b[0m\u001b[1;33m,\u001b[0m \u001b[0mright_list\u001b[0m\u001b[1;33m)\u001b[0m\u001b[1;33m)\u001b[0m\u001b[1;33m\u001b[0m\u001b[1;33m\u001b[0m\u001b[0m\n\u001b[0;32m     12\u001b[0m \u001b[1;33m\u001b[0m\u001b[0m\n",
      "\u001b[1;32mC:\\Users\\SAURAB~1\\AppData\\Local\\Temp/ipykernel_24420/3669642072.py\u001b[0m in \u001b[0;36mmerge_sort\u001b[1;34m(unsorted_list)\u001b[0m\n\u001b[0;32m      9\u001b[0m    \u001b[0mleft_list\u001b[0m \u001b[1;33m=\u001b[0m \u001b[0mmerge_sort\u001b[0m\u001b[1;33m(\u001b[0m\u001b[0mleft_list\u001b[0m\u001b[1;33m)\u001b[0m\u001b[1;33m\u001b[0m\u001b[1;33m\u001b[0m\u001b[0m\n\u001b[0;32m     10\u001b[0m    \u001b[0mright_list\u001b[0m \u001b[1;33m=\u001b[0m \u001b[0mmerge_sort\u001b[0m\u001b[1;33m(\u001b[0m\u001b[0mright_list\u001b[0m\u001b[1;33m)\u001b[0m\u001b[1;33m\u001b[0m\u001b[1;33m\u001b[0m\u001b[0m\n\u001b[1;32m---> 11\u001b[1;33m    \u001b[1;32mreturn\u001b[0m \u001b[0mlist\u001b[0m\u001b[1;33m(\u001b[0m\u001b[0mmerge\u001b[0m\u001b[1;33m(\u001b[0m\u001b[0mleft_list\u001b[0m\u001b[1;33m,\u001b[0m \u001b[0mright_list\u001b[0m\u001b[1;33m)\u001b[0m\u001b[1;33m)\u001b[0m\u001b[1;33m\u001b[0m\u001b[1;33m\u001b[0m\u001b[0m\n\u001b[0m\u001b[0;32m     12\u001b[0m \u001b[1;33m\u001b[0m\u001b[0m\n\u001b[0;32m     13\u001b[0m \u001b[1;31m# Merge the sorted halves\u001b[0m\u001b[1;33m\u001b[0m\u001b[1;33m\u001b[0m\u001b[1;33m\u001b[0m\u001b[0m\n",
      "\u001b[1;31mTypeError\u001b[0m: 'list' object is not callable"
     ]
    }
   ],
   "source": [
    "def merge_sort(unsorted_list):\n",
    "   if len(unsorted_list) <= 1:\n",
    "      return unsorted_list\n",
    "# Find the middle point and devide it\n",
    "   middle = len(unsorted_list) // 2\n",
    "   left_list = unsorted_list[:middle]\n",
    "   right_list = unsorted_list[middle:]\n",
    "\n",
    "   left_list = merge_sort(left_list)\n",
    "   right_list = merge_sort(right_list)\n",
    "   return list(merge(left_list, right_list))\n",
    "\n",
    "# Merge the sorted halves\n",
    "def merge(left_half,right_half):\n",
    "   res = []\n",
    "   while len(left_half) != 0 and len(right_half) != 0:\n",
    "      if left_half[0] < right_half[0]:\n",
    "         res.append(left_half[0])\n",
    "         left_half.remove(left_half[0])\n",
    "      else:\n",
    "         res.append(right_half[0])\n",
    "         right_half.remove(right_half[0])\n",
    "   if len(left_half) == 0:\n",
    "      res = res + right_half\n",
    "   else:\n",
    "      res = res + left_half\n",
    "   return res\n",
    "unsorted_list = [64, 34, 25, 12, 22, 11, 90]\n",
    "print(merge_sort(unsorted_list))"
   ]
  },
  {
   "cell_type": "code",
   "execution_count": null,
   "id": "1e8ee1ba",
   "metadata": {},
   "outputs": [],
   "source": []
  }
 ],
 "metadata": {
  "kernelspec": {
   "display_name": "Python 3 (ipykernel)",
   "language": "python",
   "name": "python3"
  },
  "language_info": {
   "codemirror_mode": {
    "name": "ipython",
    "version": 3
   },
   "file_extension": ".py",
   "mimetype": "text/x-python",
   "name": "python",
   "nbconvert_exporter": "python",
   "pygments_lexer": "ipython3",
   "version": "3.9.6"
  }
 },
 "nbformat": 4,
 "nbformat_minor": 5
}
