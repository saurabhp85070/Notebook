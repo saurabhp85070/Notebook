{
 "cells": [
  {
   "cell_type": "code",
   "execution_count": 59,
   "id": "bd9367f8",
   "metadata": {},
   "outputs": [],
   "source": [
    "# Define a Node class\n",
    "class Node:\n",
    "    def __init__(self, data):\n",
    "        self.data = data  # This stores the data for this node\n",
    "        self.next = None  # This is a reference to the next node in the list (initialized as None)\n",
    "\n",
    "# Define a LinkedList class\n",
    "class LinkedList:\n",
    "    def __init__(self):\n",
    "        self.head = None  # This is the starting point of the linked list (initialized as None)\n",
    "\n",
    "    def append(self, data, pos):\n",
    "        new_node = Node(data)\n",
    "\n",
    "        if pos == 1:\n",
    "            new_node.next = self.head  # Use self.head to access the head of the linked list\n",
    "            self.head = new_node  # Update the head of the linked list\n",
    "            return\n",
    "\n",
    "        ptr = self.head\n",
    "        for i in range(0, pos - 2):\n",
    "            ptr = ptr.next\n",
    "\n",
    "        new_node.next = ptr.next\n",
    "        ptr.next = new_node\n",
    "        \n",
    "    def delete(self):\n",
    "        if not self.head:\n",
    "            print(\"List is empty\")\n",
    "            return\n",
    "        if not self.head.next:\n",
    "            self.head=None\n",
    "            return\n",
    "        ptr=self.head\n",
    "        while ptr.next:\n",
    "            temp=ptr\n",
    "            ptr=ptr.next\n",
    "        temp2=temp.next\n",
    "        temp.next=temp2.next\n",
    "        del temp2\n",
    "            \n",
    "            \n",
    "    \n",
    "    # Method to display the linked list\n",
    "    def display(self):\n",
    "        ptr = self.head\n",
    "        while ptr:\n",
    "            print(ptr.data, end=\" -> \")  # Print the data in the current node\n",
    "            ptr = ptr.next  # Move to the next node\n",
    "        print(\"None\")  # To signify the end of the linked list  "
   ]
  },
  {
   "cell_type": "code",
   "execution_count": 60,
   "id": "e3f0377e",
   "metadata": {},
   "outputs": [
    {
     "name": "stdout",
     "output_type": "stream",
     "text": [
      "66 -> 99 -> 44 -> 8 -> 12 -> None\n",
      "66 -> 99 -> 44 -> 8 -> None\n",
      "66 -> 99 -> 44 -> None\n",
      "66 -> 99 -> None\n",
      "66 -> None\n",
      "None\n",
      "List is empty\n",
      "None\n"
     ]
    }
   ],
   "source": [
    "# Creating a linked list\n",
    "my_linked_list = LinkedList()\n",
    "\n",
    "# Appending data to the linked list\n",
    "my_linked_list.append(8,1) # 8\n",
    "my_linked_list.append(12,2) # 8 12\n",
    "my_linked_list.append(99,1) # 99 8 12\n",
    "my_linked_list.append(44,2) # 99 44 8 12\n",
    "my_linked_list.append(66,1) # 66 99 44 8 12\n",
    "\n",
    "my_linked_list.display() \n",
    "\n",
    "my_linked_list.delete()\n",
    "my_linked_list.display()\n",
    "\n",
    "my_linked_list.delete()\n",
    "my_linked_list.display()\n",
    "\n",
    "my_linked_list.delete()\n",
    "my_linked_list.display()\n",
    "\n",
    "my_linked_list.delete()\n",
    "my_linked_list.display()\n",
    "\n",
    "my_linked_list.delete()\n",
    "my_linked_list.display()\n",
    "\n",
    "my_linked_list.delete()\n",
    "my_linked_list.display()"
   ]
  },
  {
   "cell_type": "code",
   "execution_count": null,
   "id": "7f69ca59",
   "metadata": {},
   "outputs": [],
   "source": []
  },
  {
   "cell_type": "code",
   "execution_count": null,
   "id": "00edc35b",
   "metadata": {},
   "outputs": [],
   "source": []
  }
 ],
 "metadata": {
  "kernelspec": {
   "display_name": "Python 3 (ipykernel)",
   "language": "python",
   "name": "python3"
  },
  "language_info": {
   "codemirror_mode": {
    "name": "ipython",
    "version": 3
   },
   "file_extension": ".py",
   "mimetype": "text/x-python",
   "name": "python",
   "nbconvert_exporter": "python",
   "pygments_lexer": "ipython3",
   "version": "3.9.6"
  }
 },
 "nbformat": 4,
 "nbformat_minor": 5
}
