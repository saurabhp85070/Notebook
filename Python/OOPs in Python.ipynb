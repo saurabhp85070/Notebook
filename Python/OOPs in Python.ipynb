{
 "cells": [
  {
   "cell_type": "markdown",
   "id": "cc42ded4",
   "metadata": {},
   "source": [
    "# OOPs in Python"
   ]
  },
  {
   "cell_type": "markdown",
   "id": "d4e785df",
   "metadata": {},
   "source": [
    "Python is a multi-paradigm programming language. It supports different programming approaches.\n",
    "\n",
    "Python is also an `object-oriented programming` language. And, like other OOP languages, it also supports the concept of `objects` and `classes`.\n",
    "\n",
    "An `object` is any entity that has attributes and behaviors. For example, a parrot is an object. It has\n",
    "\n",
    "* __attributes__ - name, age, color, etc.\n",
    "\n",
    "* __behavior__ - dancing, singing, etc.\n",
    "\n",
    "Similarly, a `class` is a blueprint for that object."
   ]
  },
  {
   "cell_type": "code",
   "execution_count": 2,
   "id": "0ba0d27c",
   "metadata": {},
   "outputs": [
    {
     "name": "stdout",
     "output_type": "stream",
     "text": [
      "Blu is 10 years old\n",
      "Woo is 15 years old\n"
     ]
    }
   ],
   "source": [
    "class Parrot:\n",
    "\n",
    "    # class attribute\n",
    "    name = \"\"\n",
    "    age = 0\n",
    "\n",
    "# create parrot1 object\n",
    "parrot1 = Parrot()\n",
    "parrot1.name = \"Blu\"\n",
    "parrot1.age = 10\n",
    "\n",
    "# create another object parrot2\n",
    "parrot2 = Parrot()\n",
    "parrot2.name = \"Woo\"\n",
    "parrot2.age = 15\n",
    "\n",
    "# access attributes\n",
    "print(f\"{parrot1.name} is {parrot1.age} years old\")\n",
    "print(f\"{parrot2.name} is {parrot2.age} years old\")"
   ]
  },
  {
   "cell_type": "markdown",
   "id": "5c9db2ef",
   "metadata": {},
   "source": [
    "In the above example, we created a class with the name `Parrot` with two attributes: `name` and `age`.\n",
    "\n",
    "Then, we create instances of the `Parrot` class. Here, `parrot1` and `parrot2` are references (value) to our new objects.\n",
    "\n",
    "We then accessed and assigned different values to the instance attributes using the objects name and the `.` notation."
   ]
  },
  {
   "cell_type": "markdown",
   "id": "ca002e46",
   "metadata": {},
   "source": [
    "# Python Inheritance\n",
    "\n",
    "Inheritance is a way of creating a new class for using details of an existing class without modifying it.\n",
    "\n",
    "The newly formed class is a derived class (or child class). Similarly, the existing class is a base class (or parent class)."
   ]
  },
  {
   "cell_type": "code",
   "execution_count": 3,
   "id": "fca0fb3e",
   "metadata": {},
   "outputs": [
    {
     "name": "stdout",
     "output_type": "stream",
     "text": [
      "I can eat!\n",
      "I can sleep!\n",
      "I can bark! Woof woof!!\n"
     ]
    }
   ],
   "source": [
    "# Inheritance\n",
    "\n",
    "# base class\n",
    "class Animal:\n",
    "    \n",
    "    def eat(self):\n",
    "        print( \"I can eat!\")\n",
    "    \n",
    "    def sleep(self):\n",
    "        print(\"I can sleep!\")\n",
    "\n",
    "# derived class\n",
    "class Dog(Animal):\n",
    "    \n",
    "    def bark(self):\n",
    "        print(\"I can bark! Woof woof!!\")\n",
    "\n",
    "# Create object of the Dog class\n",
    "dog1 = Dog()\n",
    "\n",
    "# Calling members of the base class\n",
    "dog1.eat()\n",
    "dog1.sleep()\n",
    "\n",
    "# Calling member of the derived class\n",
    "dog1.bark();"
   ]
  },
  {
   "cell_type": "markdown",
   "id": "3fddd20c",
   "metadata": {},
   "source": [
    "# Python Encapsulation\n",
    "\n",
    "Encapsulation is one of the key features of object-oriented programming. \n",
    "\n",
    "This is the concept of wrapping `data` and `methods` that work with data in one unit. \n",
    "\n",
    "OR\n",
    "\n",
    "Encapsulation refers to the bundling of `attributes` and `methods` inside a single class.\n",
    "\n",
    "This prevents data modification accidentally by limiting access to variables and methods.\n",
    "\n",
    "It prevents outer classes from accessing and changing attributes and methods of a class. This also helps to achieve __data hiding__.\n",
    "\n",
    "* In Python, we denote __private attributes__ using underscore as the prefix i.e double `__`. \n",
    "\n",
    "* In Python, we denote __protected attributes__ using underscore as the prefix i.e single `_`. "
   ]
  },
  {
   "cell_type": "code",
   "execution_count": 6,
   "id": "1b942fd2",
   "metadata": {},
   "outputs": [
    {
     "name": "stdout",
     "output_type": "stream",
     "text": [
      "Name:  R2J\n",
      "Roll:  1706256\n",
      "Branch:  Information Technology\n"
     ]
    }
   ],
   "source": [
    "# program to illustrate private access modifier in a class\n",
    "\n",
    "class Geek:\n",
    "\n",
    "    # private members\n",
    "    __name = None\n",
    "    __roll = None\n",
    "    __branch = None\n",
    "\n",
    "    # constructor\n",
    "    def __init__(self, name, roll, branch):\n",
    "        self.__name = name\n",
    "        self.__roll = roll\n",
    "        self.__branch = branch\n",
    "\n",
    "    # private member function\n",
    "    def __displayDetails(self):\n",
    "        # accessing private data members\n",
    "        print(\"Name: \", self.__name)\n",
    "        print(\"Roll: \", self.__roll)\n",
    "        print(\"Branch: \", self.__branch)\n",
    "\n",
    "    # public member function\n",
    "    def accessPrivateFunction(self):\n",
    "        # accessing private member function\n",
    "        self.__displayDetails()\n",
    "\n",
    "# creating object\n",
    "obj = Geek(\"R2J\", 1706256, \"Information Technology\")\n",
    "\n",
    "# calling public member function of the class\n",
    "obj.accessPrivateFunction()\n"
   ]
  },
  {
   "cell_type": "markdown",
   "id": "2b6c4ef7",
   "metadata": {},
   "source": [
    "In the above program, `__name`, `__roll` and `__branch` are __private members__, `__displayDetails()` method is a __private member function__ (these can only be accessed within the class) and `accessPrivateFunction()` method is a __public member function__ of the class `Geek` which can be accessed from anywhere within the program. The `accessPrivateFunction()` method accesses the __private members__ of the class `Geek`."
   ]
  },
  {
   "cell_type": "code",
   "execution_count": 5,
   "id": "affe7d27",
   "metadata": {},
   "outputs": [
    {
     "name": "stdout",
     "output_type": "stream",
     "text": [
      "Name:  R2J\n",
      "Roll:  1706256\n",
      "Branch:  Information Technology\n"
     ]
    }
   ],
   "source": [
    "# program to illustrate protected access modifier in a class\n",
    "\n",
    "# super class\n",
    "class Student:\n",
    "\n",
    "    # protected data members\n",
    "    _name = None\n",
    "    _roll = None\n",
    "    _branch = None\n",
    "    \n",
    "    # constructor\n",
    "    def __init__(self, name, roll, branch):\n",
    "        self._name = name\n",
    "        self._roll = roll\n",
    "        self._branch = branch\n",
    "\n",
    "    # protected member function\n",
    "    def _displayRollAndBranch(self):\n",
    "\n",
    "        # accessing protected data members\n",
    "        print(\"Roll: \", self._roll)\n",
    "        print(\"Branch: \", self._branch)\n",
    "\n",
    "\n",
    "# derived class\n",
    "class Geek(Student):\n",
    "\n",
    "    # constructor\n",
    "    def __init__(self, name, roll, branch):\n",
    "        Student.__init__(self, name, roll, branch)\n",
    "        \n",
    "    # public member function\n",
    "    def displayDetails(self):\n",
    "\n",
    "        # accessing protected data members of super class\n",
    "        print(\"Name: \", self._name)\n",
    "\n",
    "        # accessing protected member functions of super class\n",
    "        self._displayRollAndBranch()\n",
    "\n",
    "# creating objects of the derived class\t\n",
    "obj = Geek(\"R2J\", 1706256, \"Information Technology\")\n",
    "\n",
    "# calling public member functions of the class\n",
    "obj.displayDetails()\n"
   ]
  },
  {
   "cell_type": "markdown",
   "id": "c625b92c",
   "metadata": {},
   "source": [
    "In the above program, `_name`, `_roll`, and `_branch` are __protected data members__ and `_displayRollAndBranch()` method is a __protected method__ of the super class `Student`. The `displayDetails()` method is a __public member function__ of the class `Geek` which is derived from the `Student` class, the `displayDetails()` method in `Geek` class accesses the __protected data members__ of the `Student` class. "
   ]
  },
  {
   "cell_type": "markdown",
   "id": "c333c966",
   "metadata": {},
   "source": [
    "##### Below is a program to illustrate the use of all the three access modifiers (public, protected, and private) of a class in Python: "
   ]
  },
  {
   "cell_type": "code",
   "execution_count": 4,
   "id": "653bedd9",
   "metadata": {},
   "outputs": [
    {
     "name": "stdout",
     "output_type": "stream",
     "text": [
      "Public Data Member:  Geeks\n",
      "Protected Data Member:  4\n",
      "Private Data Member:  Geeks !\n",
      "Object is accessing protected member: 4\n"
     ]
    }
   ],
   "source": [
    "# program to illustrate all access modifiers of a class\n",
    "\n",
    "# super class\n",
    "class Super:\n",
    "\n",
    "    # public data member\n",
    "    var1 = None\n",
    "\n",
    "    # protected data member\n",
    "    _var2 = None\n",
    "\n",
    "    # private data member\n",
    "    __var3 = None\n",
    "\n",
    "    # constructor\n",
    "    def __init__(self, var1, var2, var3):\n",
    "        self.var1 = var1\n",
    "        self._var2 = var2\n",
    "        self.__var3 = var3\n",
    "\n",
    "    # public member function\n",
    "    def displayPublicMembers(self):\n",
    "        # accessing public data members\n",
    "        print(\"Public Data Member: \", self.var1)\n",
    "\n",
    "    # protected member function\n",
    "    def _displayProtectedMembers(self):\n",
    "        # accessing protected data members\n",
    "        print(\"Protected Data Member: \", self._var2)\n",
    "\n",
    "    # private member function\n",
    "    def __displayPrivateMembers(self):\n",
    "        # accessing private data members\n",
    "        print(\"Private Data Member: \", self.__var3)\n",
    "\n",
    "    # public member function\n",
    "    def accessPrivateMembers(self):\n",
    "        # accessing private member function\n",
    "        self.__displayPrivateMembers()\n",
    "\n",
    "# derived class\n",
    "class Sub(Super):\n",
    "\n",
    "    # constructor\n",
    "    def __init__(self, var1, var2, var3):\n",
    "        Super.__init__(self, var1, var2, var3)\n",
    "\n",
    "    # public member function\n",
    "    def accessProtectedMembers(self):\n",
    "        # accessing protected member functions of super class\n",
    "        self._displayProtectedMembers()\n",
    "\n",
    "# creating objects of the derived class\t\n",
    "obj = Sub(\"Geeks\", 4, \"Geeks !\")\n",
    "\n",
    "# calling public member functions of the class\n",
    "obj.displayPublicMembers()\n",
    "obj.accessProtectedMembers()\n",
    "obj.accessPrivateMembers()\n",
    "\n",
    "# Object can access protected member\n",
    "print(\"Object is accessing protected member:\", obj._var2)\n",
    "\n",
    "# object can not access private member, so it will generate Attribute error\n",
    "#print(obj.__var3)\n"
   ]
  },
  {
   "cell_type": "markdown",
   "id": "4a7cad60",
   "metadata": {},
   "source": [
    "In the above program, the `accessProtectedMembers()` method is a __public member function__ of the class `Sub` accesses the `_displayProtectedMembers()` method which is __protected member function__ of the class `Super` and the `accessPrivateMembers()` method is a __public member function__ of the class `Super` which accesses the `__displayPrivateMembers()` method which is a __private member function__ of the class `Super`."
   ]
  },
  {
   "cell_type": "markdown",
   "id": "e1909339",
   "metadata": {},
   "source": [
    "### Important thing about `private` and `protected`\n",
    "\n",
    "In Python, the single underscore prefix before a variable or method name is used as a naming convention to indicate that it is intended to be treated as \"protected\" or \"private\" member of a class. The purpose of using this convention is to signal to other developers that these members are not intended to be accessed or modified from outside the class, and should be considered internal implementation details of the class.\n",
    "\n",
    "However, it is important to note that this convention is not enforced by the Python interpreter. In other words, Python does not provide any language-level mechanism to prevent external access to members that are marked as \"protected\" or \"private\" using the single underscore prefix. Instead, this is simply a naming convention that is widely used and respected by Python developers.\n",
    "\n",
    "It is still possible to access and modify \"protected\" or \"private\" members of a class from outside the class if desired. This means that Python relies on the developer community to respect the conventions and design principles that are established for Python programming.\n",
    "\n",
    "It is worth noting that the lack of strict enforcement of private members in Python is in line with the philosophy of the language, which emphasizes flexibility and readability over strict encapsulation. This allows Python developers to write code that is more concise and expressive, while still maintaining good programming practices and design principles."
   ]
  },
  {
   "cell_type": "markdown",
   "id": "315fa582",
   "metadata": {},
   "source": [
    "### Access specifier in Python\n",
    "\n",
    "Python does not have access specifiers in the same way that some other object-oriented programming languages like C++ or Java have. In those languages, access specifiers like public, private, and protected are used to control the visibility of members of a class, and to restrict or allow access to those members from outside the class.\n",
    "\n",
    "In Python, however, access to class members is controlled mainly by naming conventions. The single underscore prefix is used to indicate that a member is intended to be \"protected\" or \"private\", and the double underscore prefix is used to indicate \"name mangling\", which makes it more difficult to access the member from outside the class.\n",
    "\n",
    "However, it's important to understand that these are just conventions, and they are not enforced by the Python interpreter. In other words, any member of a class in Python can be accessed from outside the class if desired, regardless of whether it has a single or double underscore prefix.\n",
    "\n",
    "Python's approach to access control reflects the language's philosophy of \"we're all consenting adults here\". The idea is that developers are expected to follow best practices and to respect each other's code, rather than relying on strict access control mechanisms to enforce good programming practices. This approach allows Python developers to write more flexible and expressive code, while still maintaining good design principles and practices."
   ]
  },
  {
   "cell_type": "markdown",
   "id": "50a9cc2d",
   "metadata": {},
   "source": [
    "### Name mangling\n",
    "\n",
    "Name mangling is a technique used in Python to modify the name of a class member in a way that makes it more difficult to access from outside the class. It is used to provide a higher level of encapsulation and to prevent name collisions between members of a class and members of its subclasses.\n",
    "\n",
    "In Python, name mangling is implemented by adding a double underscore prefix to the name of a class member. When a member is defined with a double underscore prefix, its name is modified by the interpreter by adding the name of the class to the beginning of the member's name, preceded by a single underscore.\n",
    "\n",
    "For example, consider the following code:"
   ]
  },
  {
   "cell_type": "code",
   "execution_count": 6,
   "id": "564fb7fd",
   "metadata": {},
   "outputs": [
    {
     "ename": "AttributeError",
     "evalue": "'MyClass' object has no attribute '__private_var'",
     "output_type": "error",
     "traceback": [
      "\u001b[1;31m---------------------------------------------------------------------------\u001b[0m",
      "\u001b[1;31mAttributeError\u001b[0m                            Traceback (most recent call last)",
      "\u001b[1;32mC:\\Users\\SAURAB~1\\AppData\\Local\\Temp/ipykernel_15532/441291972.py\u001b[0m in \u001b[0;36m<module>\u001b[1;34m\u001b[0m\n\u001b[0;32m      4\u001b[0m \u001b[1;33m\u001b[0m\u001b[0m\n\u001b[0;32m      5\u001b[0m \u001b[0mobj\u001b[0m \u001b[1;33m=\u001b[0m \u001b[0mMyClass\u001b[0m\u001b[1;33m(\u001b[0m\u001b[1;33m)\u001b[0m\u001b[1;33m\u001b[0m\u001b[1;33m\u001b[0m\u001b[0m\n\u001b[1;32m----> 6\u001b[1;33m \u001b[0mprint\u001b[0m\u001b[1;33m(\u001b[0m\u001b[0mobj\u001b[0m\u001b[1;33m.\u001b[0m\u001b[0m__private_var\u001b[0m\u001b[1;33m)\u001b[0m \u001b[1;31m# Error\u001b[0m\u001b[1;33m\u001b[0m\u001b[1;33m\u001b[0m\u001b[0m\n\u001b[0m",
      "\u001b[1;31mAttributeError\u001b[0m: 'MyClass' object has no attribute '__private_var'"
     ]
    }
   ],
   "source": [
    "class MyClass:\n",
    "    def __init__(self):\n",
    "        self.__private_var = 10\n",
    "\n",
    "obj = MyClass()\n",
    "print(obj.__private_var) # Error"
   ]
  },
  {
   "cell_type": "markdown",
   "id": "47ff2db5",
   "metadata": {},
   "source": [
    "In this code, we have defined a class called `MyClass` with a private variable called `__private_var`. When we try to access this variable from outside the class using the syntax `obj.__private_var`, we get an `AttributeError` because the name of the variable has been modified by the interpreter to `_MyClass__private_var`, which is not the same as the original name."
   ]
  },
  {
   "cell_type": "code",
   "execution_count": 7,
   "id": "47938c9e",
   "metadata": {},
   "outputs": [
    {
     "name": "stdout",
     "output_type": "stream",
     "text": [
      "10\n"
     ]
    }
   ],
   "source": [
    "class MyClass:\n",
    "    def __init__(self):\n",
    "        self.__private_var = 10\n",
    "\n",
    "obj = MyClass()\n",
    "print(obj._MyClass__private_var) # No Error"
   ]
  },
  {
   "cell_type": "markdown",
   "id": "3fbfa201",
   "metadata": {},
   "source": [
    "Name mangling is a useful technique for implementing encapsulation in Python, but it should be used with caution. Because name mangling is just a convention, it is still possible for determined programmers to access the modified name of a member if they really want to. Therefore, it is important to use name mangling in conjunction with other techniques such as conventions, documentation, and testing to ensure that the intended level of encapsulation is achieved."
   ]
  },
  {
   "cell_type": "markdown",
   "id": "8551b71f",
   "metadata": {},
   "source": [
    "**Use case of name mangling**\n",
    "\n",
    "Name mangling is a technique used in Python to modify the name of a class member in a way that makes it more difficult to access from outside the class. It is used to provide a higher level of encapsulation and to prevent name collisions between members of a class and members of its subclasses.\n",
    "\n",
    "The use of name mangling is mainly intended to avoid accidental name collisions that can occur when subclasses define their own attributes or methods with the same name as those defined in the superclass. Name mangling ensures that each member of the class has a unique name that includes the class name as a prefix.\n",
    "\n",
    "Here is an example that demonstrates the use of name mangling in Python:"
   ]
  },
  {
   "cell_type": "code",
   "execution_count": 8,
   "id": "4c7ea009",
   "metadata": {},
   "outputs": [
    {
     "name": "stdout",
     "output_type": "stream",
     "text": [
      "10\n"
     ]
    }
   ],
   "source": [
    "class MyClass:\n",
    "    def __init__(self):\n",
    "        self.__private_var = 10\n",
    "\n",
    "class MySubclass(MyClass):\n",
    "    def __init__(self):\n",
    "        super().__init__()\n",
    "        self.__private_var = 20\n",
    "\n",
    "obj = MySubclass()\n",
    "print(obj._MyClass__private_var)"
   ]
  },
  {
   "cell_type": "markdown",
   "id": "65af523e",
   "metadata": {},
   "source": [
    "#### Explanation:\n",
    "\n",
    "In this example, we have defined a class called MyClass with a private variable called __private_var. We have also defined a subclass called MySubclass that inherits from MyClass and defines its own private variable with the same name.\n",
    "\n",
    "To avoid name collisions between the private variables in the superclass and the subclass, we use name mangling to modify the name of the variable in the superclass. The name of the variable in the superclass is modified to _MyClass__private_var, and the name of the variable in the subclass is modified to _MySubclass__private_var. This ensures that each variable has a unique name that includes the name of its class as a prefix.\n",
    "\n",
    "To access the private variable in the subclass, we use the modified name _MyClass__private_var. This syntax allows us to access the private variable of the superclass from the subclass, even though the variable has been modified by name mangling.\n",
    "\n",
    "In summary, name mangling is a useful technique for implementing encapsulation and preventing accidental name collisions in Python classes. It is mainly used to modify the names of class members to make them more difficult to access from outside the class, and to ensure that each member has a unique name that includes the name of its class as a prefix."
   ]
  },
  {
   "cell_type": "markdown",
   "id": "08a77998",
   "metadata": {},
   "source": [
    "#### Understanding Encapsulation:"
   ]
  },
  {
   "cell_type": "code",
   "execution_count": 10,
   "id": "a178ca24",
   "metadata": {},
   "outputs": [
    {
     "name": "stdout",
     "output_type": "stream",
     "text": [
      "Selling Price: 900\n",
      "Selling Price: 900\n",
      "Selling Price: 1000\n"
     ]
    }
   ],
   "source": [
    "# Encapsulation\n",
    "\n",
    "class Computer:\n",
    "\n",
    "    def __init__(self):\n",
    "        self.__maxprice = 900\n",
    "\n",
    "    def sell(self):\n",
    "        print(\"Selling Price: {}\".format(self.__maxprice))\n",
    "\n",
    "    def setMaxPrice(self, price):\n",
    "        self.__maxprice = price\n",
    "\n",
    "c = Computer()\n",
    "c.sell()\n",
    "\n",
    "# change the price\n",
    "c.__maxprice = 1000\n",
    "c.sell()\n",
    "\n",
    "# using setter function\n",
    "c.setMaxPrice(1000)\n",
    "c.sell()"
   ]
  },
  {
   "cell_type": "markdown",
   "id": "e882902c",
   "metadata": {},
   "source": [
    "In the above program, we defined a `Computer` class.\n",
    "\n",
    "We used `__init__()` method to store the maximum selling price of `Computer`. Here, notice the code:-\n",
    "\n",
    "    c.__maxprice = 1000\n",
    "    \n",
    "Here, we have tried to modify the value of `__maxprice` outside of the class. However, since `__maxprice` is a private variable, this modification is not seen on the output.\n",
    "\n",
    "As shown, to change the value, we have to use a setter function i.e `setMaxPrice()` which takes price as a parameter."
   ]
  },
  {
   "cell_type": "markdown",
   "id": "1c394d90",
   "metadata": {},
   "source": [
    "__Take a look at a real-world example of encapsulation__\n",
    "\n",
    "There are many sections in a company, such as the accounts and finance sections. The finance section manages all financial transactions and keeps track of all data. The sales section also handles all sales-related activities. They keep records of all sales. Sometimes, a finance official may need all sales data for a specific month. In this instance, he is not permitted to access the data from the sales section. First, he will need to contact another officer from the sales section to request the data. This is encapsulation. The data for the sales section, as well as the employees who can manipulate it, are all wrapped together under the single name \"sales section\". Encapsulation is another way to hide data. This example shows that the data for sections such as sales, finance, and accounts are hidden from all other sections."
   ]
  },
  {
   "cell_type": "markdown",
   "id": "7120ba8d",
   "metadata": {},
   "source": [
    "### Protected members\n",
    "Protected members (in C++ and JAVA) are those members of the class that cannot be accessed outside the class but can be accessed from within the class and its subclasses. To accomplish this in Python, just follow the convention by prefixing the name of the member by a single underscore “_”.\n",
    "\n",
    "Although the protected variable can be accessed out of the class as well as in the derived class (modified too in derived class), it is customary(convention not a rule) to not access the protected out the class body.\n",
    "\n",
    "#### Note:\n",
    "The `__init__` method is a constructor and runs as soon as an object of a class is instantiated.  "
   ]
  },
  {
   "cell_type": "code",
   "execution_count": 3,
   "id": "3ad1675c",
   "metadata": {},
   "outputs": [
    {
     "name": "stdout",
     "output_type": "stream",
     "text": [
      "Calling protected member of base class:  2\n",
      "Calling modified protected member outside class:  3\n",
      "Accessing protected member of obj1:  3\n",
      "Accessing protected member of obj2:  2\n"
     ]
    }
   ],
   "source": [
    "# Python program to\n",
    "# demonstrate protected members\n",
    "\n",
    "# Creating a base class\n",
    "class Base:\n",
    "    def __init__(self):\n",
    "\n",
    "        # Protected member\n",
    "        self._a = 2\n",
    "\n",
    "# Creating a derived class\n",
    "class Derived(Base):\n",
    "    def __init__(self):\n",
    "\n",
    "        # Calling constructor of\n",
    "        # Base class\n",
    "        Base.__init__(self)\n",
    "        print(\"Calling protected member of base class: \",self._a)\n",
    "\n",
    "        # Modify the protected variable:\n",
    "        self._a = 3\n",
    "        print(\"Calling modified protected member outside class: \",self._a)\n",
    "\n",
    "\n",
    "obj1 = Derived()\n",
    "\n",
    "obj2 = Base()\n",
    "\n",
    "# Calling protected member\n",
    "# Can be accessed but should not be done due to convention\n",
    "print(\"Accessing protected member of obj1: \", obj1._a)\n",
    "\n",
    "# Accessing the protected variable outside\n",
    "print(\"Accessing protected member of obj2: \", obj2._a)\n"
   ]
  },
  {
   "cell_type": "markdown",
   "id": "5b91b62c",
   "metadata": {},
   "source": [
    "### Private members\n",
    "Private members are similar to protected members, the difference is that the class members declared private should neither be accessed outside the class nor by any base class. In Python, there is no existence of Private instance variables that cannot be accessed except inside a class.\n",
    "\n",
    "However, to define a private member prefix the member name with double underscore “__”.\n",
    "\n",
    "#### Note:\n",
    "\n",
    "Python’s private and protected members can be accessed outside the class through python name `mangling`. \n",
    "\n",
    "`Mangling`: https://www.geeksforgeeks.org/private-variables-python/"
   ]
  },
  {
   "cell_type": "code",
   "execution_count": 2,
   "id": "b9332eaa",
   "metadata": {},
   "outputs": [
    {
     "name": "stdout",
     "output_type": "stream",
     "text": [
      "GeeksforGeeks\n"
     ]
    }
   ],
   "source": [
    "# Python program to\n",
    "# demonstrate private members\n",
    "\n",
    "# Creating a Base class\n",
    "\n",
    "\n",
    "class Base:\n",
    "    def __init__(self):\n",
    "        self.a = \"GeeksforGeeks\"\n",
    "        self.__c = \"GeeksforGeeks\"\n",
    "\n",
    "# Creating a derived class\n",
    "class Derived(Base):\n",
    "    def __init__(self):\n",
    "\n",
    "        # Calling constructor of\n",
    "        # Base class\n",
    "        Base.__init__(self)\n",
    "        print(\"Calling private member of base class: \")\n",
    "        print(self.__c)\n",
    "\n",
    "\n",
    "# Driver code\n",
    "obj1 = Base()\n",
    "print(obj1.a)\n",
    "\n",
    "# Uncommenting print(obj1.c) will\n",
    "# raise an AttributeError\n",
    "\n",
    "# Uncommenting obj2 = Derived() will\n",
    "# also raise an AtrributeError as\n",
    "# private member of base class\n",
    "# is called inside derived class\n"
   ]
  },
  {
   "cell_type": "markdown",
   "id": "60288d5d",
   "metadata": {},
   "source": [
    "# Python Polymorphism\n",
    "\n",
    "Polymorphism is another important concept of object-oriented programming. It simply means more than one form.\n",
    "\n",
    "That is, the same entity (__method__ or __operator__ or __object__) can perform different operations in different scenarios.\n",
    "\n",
    "Let's see an example:-"
   ]
  },
  {
   "cell_type": "code",
   "execution_count": 5,
   "id": "1410128b",
   "metadata": {},
   "outputs": [
    {
     "name": "stdout",
     "output_type": "stream",
     "text": [
      "Rendering Square...\n",
      "Rendering Circle...\n"
     ]
    }
   ],
   "source": [
    "# Polymorphism\n",
    "\n",
    "class Polygon:\n",
    "    # method to render a shape\n",
    "    def render(self):\n",
    "        print(\"Rendering Polygon...\")\n",
    "\n",
    "class Square(Polygon):\n",
    "    # renders Square\n",
    "    def render(self):\n",
    "        print(\"Rendering Square...\")\n",
    "\n",
    "class Circle(Polygon):\n",
    "    # renders circle\n",
    "    def render(self):\n",
    "        print(\"Rendering Circle...\")\n",
    "    \n",
    "# create an object of Square\n",
    "s1 = Square()\n",
    "s1.render()\n",
    "\n",
    "# create an object of Circle\n",
    "c1 = Circle()\n",
    "c1.render()"
   ]
  },
  {
   "cell_type": "markdown",
   "id": "b64707f9",
   "metadata": {},
   "source": [
    "In the above example, we have created a __superclass__: `Polygon` and two __subclasses__: `Square` and `Circle`. Notice the use of the `render()` method.\n",
    "\n",
    "The main purpose of the `render()` method is to render the shape. However, the process of rendering a square is different from the process of rendering a circle.\n",
    "\n",
    "Hence, the `render()` method behaves differently in different classes. Or, we can say `render()` is polymorphic."
   ]
  },
  {
   "cell_type": "markdown",
   "id": "021019bc",
   "metadata": {},
   "source": [
    "# Python Abstraction\n",
    "\n",
    "Abstraction is used to hide the internal functionality of the function from the users.\n",
    "\n",
    "In Python, an abstraction is used to hide the irrelevant data/class in order to reduce the complexity. It also enhances the application efficiency. \n",
    "\n",
    "In Python, abstraction can be achieved by using __abstract classes__ and __interfaces__."
   ]
  },
  {
   "cell_type": "markdown",
   "id": "ecc084c2",
   "metadata": {},
   "source": [
    "A class that consists of one or more `abstract method` is called __abstract class__.\n",
    "\n",
    "__Abstract methods__ do not contain their implementation.\n",
    "\n",
    "Abstract class can be inherited by the subclass and __abstract method gets its definition in the subclass__. \n",
    "\n",
    "Abstraction classes are meant to be the blueprint of the other class. \n",
    "\n",
    "An abstract class can be useful when we are designing large functions. \n",
    "\n",
    "An abstract class is also helpful to provide the standard interface for different implementations of components. \n",
    "\n",
    "Python provides the `abc` module to use the abstraction in the Python program. Let's see the following syntax.\n",
    "\n",
    "    from abc import ABC  \n",
    "    class ClassName(ABC):  \n",
    "    \n",
    "    "
   ]
  },
  {
   "cell_type": "markdown",
   "id": "1c66da54",
   "metadata": {},
   "source": [
    "An __abstract base class__ is the common application program of the interface for a set of subclasses.\n",
    "\n",
    "It can be used by the third-party, which will provide the implementations such as with plugins. \n",
    "\n",
    "It is also beneficial when we work with the large code-base hard to remember all the classes."
   ]
  },
  {
   "cell_type": "markdown",
   "id": "74634c33",
   "metadata": {},
   "source": [
    "#### Working of Abstract class\n",
    "\n",
    "Unlike the other high-level language, Python doesn't provide the `abstract class` itself.\n",
    "\n",
    "We need to import the `abc` module, which provides the base for defining `Abstract Base classes (ABC)`.\n",
    "\n",
    "The `ABC` works by decorating methods of the base class as abstract. It registers concrete classes as the implementation of the abstract base. \n",
    "\n",
    "We use the `@abstractmethod` decorator to define an abstract method or if we don't provide the definition to the method, it automatically becomes the __abstract method__. Let's understand the following example:"
   ]
  },
  {
   "cell_type": "code",
   "execution_count": 7,
   "id": "09100fb7",
   "metadata": {},
   "outputs": [
    {
     "name": "stdout",
     "output_type": "stream",
     "text": [
      "The mileage is 30kmph\n",
      "The mileage is 27kmph \n",
      "The mileage is 25kmph \n",
      "The mileage is 24kmph \n"
     ]
    }
   ],
   "source": [
    "# Abstraction\n",
    "\n",
    "from abc import ABC, abstractmethod   \n",
    "\n",
    "class Car(ABC):   \n",
    "    def mileage(self):   \n",
    "        pass  \n",
    "    \n",
    "class Tesla(Car):  \n",
    "    def mileage(self):   \n",
    "        print(\"The mileage is 30kmph\")  \n",
    "        \n",
    "class Suzuki(Car):   \n",
    "    def mileage(self):   \n",
    "        print(\"The mileage is 25kmph \") \n",
    "        \n",
    "class Duster(Car):   \n",
    "    def mileage(self):   \n",
    "        print(\"The mileage is 24kmph \")   \n",
    "        \n",
    "class Renault(Car):\n",
    "    def mileage(self):   \n",
    "        print(\"The mileage is 27kmph \")   \n",
    "          \n",
    "# Driver code   \n",
    "t= Tesla ()   \n",
    "t.mileage()   \n",
    "  \n",
    "r = Renault()   \n",
    "r.mileage()   \n",
    "  \n",
    "s = Suzuki()   \n",
    "s.mileage()   \n",
    "d = Duster()   \n",
    "d.mileage()  "
   ]
  },
  {
   "cell_type": "markdown",
   "id": "37df4d7f",
   "metadata": {},
   "source": [
    "In the above code, we have imported the `abc` module to create the __abstract base class__.\n",
    "\n",
    "We created the `Car` class that inherited the `ABC class` and defined an __abstract method__ named `mileage()`.\n",
    "\n",
    "We have then inherited the base class from the three different subclasses and implemented the abstract method differently. We created the objects to call the abstract method."
   ]
  },
  {
   "cell_type": "markdown",
   "id": "b0df58aa",
   "metadata": {},
   "source": [
    "__Let's understand another example__"
   ]
  },
  {
   "cell_type": "code",
   "execution_count": 21,
   "id": "bad01ce4",
   "metadata": {},
   "outputs": [
    {
     "name": "stdout",
     "output_type": "stream",
     "text": [
      "Triangle has 3 sides\n",
      "I have 4 sides\n",
      "Pentagon has 5 sides\n",
      "Hexagon has 6 sides\n"
     ]
    }
   ],
   "source": [
    "# Python program to define   \n",
    "# abstract class  \n",
    "  \n",
    "from abc import ABC  \n",
    "  \n",
    "class Polygon(ABC):   \n",
    "    # abstract method   \n",
    "    def sides(self):   \n",
    "        pass  \n",
    "\n",
    "class Triangle(Polygon):   \n",
    "    def sides(self):   \n",
    "        print(\"Triangle has 3 sides\")   \n",
    "\n",
    "class Pentagon(Polygon):   \n",
    "    def sides(self):   \n",
    "        print(\"Pentagon has 5 sides\")   \n",
    "\n",
    "class Hexagon(Polygon):   \n",
    "    def sides(self):   \n",
    "        print(\"Hexagon has 6 sides\")   \n",
    "        \n",
    "class square(Polygon):   \n",
    "    def sides(self):   \n",
    "        print(\"I have 4 sides\")   \n",
    "\n",
    "# Driver code   \n",
    "t = Triangle()   \n",
    "t.sides()   \n",
    "  \n",
    "s = square()   \n",
    "s.sides()   \n",
    "  \n",
    "p = Pentagon()   \n",
    "p.sides()   \n",
    "  \n",
    "k = Hexagon()   \n",
    "k.sides()   "
   ]
  },
  {
   "cell_type": "markdown",
   "id": "fb78d0ee",
   "metadata": {},
   "source": [
    "In the above code, we have defined the abstract base class named `Polygon` and we also defined the __abstract method__. This base class inherited by the various subclasses. __We implemented the abstract method in each subclass__. We created the __object of the subclasses__ and invoke the `sides()` method. The hidden implementations for the `sides()` method inside the each subclass comes into play. The __abstract method__ `sides()` method, defined in the __abstract class__, is never invoked."
   ]
  },
  {
   "cell_type": "markdown",
   "id": "0df7bd24",
   "metadata": {},
   "source": [
    "#### Note:\n",
    "\n",
    "* An Abstract class can contain the both method normal and abstract method.\n",
    "* An Abstract cannot be instantiated; we cannot create objects for the abstract class."
   ]
  },
  {
   "cell_type": "code",
   "execution_count": null,
   "id": "5c577fb1",
   "metadata": {},
   "outputs": [],
   "source": []
  }
 ],
 "metadata": {
  "kernelspec": {
   "display_name": "Python 3 (ipykernel)",
   "language": "python",
   "name": "python3"
  },
  "language_info": {
   "codemirror_mode": {
    "name": "ipython",
    "version": 3
   },
   "file_extension": ".py",
   "mimetype": "text/x-python",
   "name": "python",
   "nbconvert_exporter": "python",
   "pygments_lexer": "ipython3",
   "version": "3.9.6"
  }
 },
 "nbformat": 4,
 "nbformat_minor": 5
}
