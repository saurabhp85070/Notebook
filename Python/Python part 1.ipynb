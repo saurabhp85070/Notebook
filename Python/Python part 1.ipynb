{
 "cells": [
  {
   "cell_type": "markdown",
   "id": "ffb5d643",
   "metadata": {},
   "source": [
    "# PYTHON\n",
    "\n",
    "https://docs.python.org/3/ (Official documentation)"
   ]
  },
  {
   "cell_type": "markdown",
   "id": "23410172",
   "metadata": {},
   "source": [
    "## Content of Part-1\n",
    "\n",
    "Basic python operators\n",
    "\n",
    "Indexing\n",
    "\n",
    "User input\n",
    "\n",
    "List\n",
    "\n",
    "Tuple\n",
    "\n",
    "Set\n",
    "\n",
    "Dictionary (Mapping)\n",
    "\n",
    "Variables\n",
    "\n",
    "Datatypes"
   ]
  },
  {
   "cell_type": "code",
   "execution_count": 1,
   "id": "01f6955f",
   "metadata": {},
   "outputs": [
    {
     "data": {
      "text/plain": [
       "5.5"
      ]
     },
     "execution_count": 1,
     "metadata": {},
     "output_type": "execute_result"
    }
   ],
   "source": [
    "11/2 # return float number"
   ]
  },
  {
   "cell_type": "code",
   "execution_count": 2,
   "id": "ac80a2e4",
   "metadata": {},
   "outputs": [
    {
     "data": {
      "text/plain": [
       "5"
      ]
     },
     "execution_count": 2,
     "metadata": {},
     "output_type": "execute_result"
    }
   ],
   "source": [
    "11//2 # return integer value (quotient)"
   ]
  },
  {
   "cell_type": "code",
   "execution_count": 3,
   "id": "1f2bf60e",
   "metadata": {},
   "outputs": [
    {
     "data": {
      "text/plain": [
       "1"
      ]
     },
     "execution_count": 3,
     "metadata": {},
     "output_type": "execute_result"
    }
   ],
   "source": [
    "11%2 # return remainder"
   ]
  },
  {
   "cell_type": "code",
   "execution_count": 4,
   "id": "2448cc3d",
   "metadata": {},
   "outputs": [
    {
     "data": {
      "text/plain": [
       "1"
      ]
     },
     "execution_count": 4,
     "metadata": {},
     "output_type": "execute_result"
    }
   ],
   "source": [
    "-11%2 # return remainder"
   ]
  },
  {
   "cell_type": "code",
   "execution_count": 5,
   "id": "95d3f908",
   "metadata": {},
   "outputs": [
    {
     "data": {
      "text/plain": [
       "32"
      ]
     },
     "execution_count": 5,
     "metadata": {},
     "output_type": "execute_result"
    }
   ],
   "source": [
    "2**5 # 2 to the power 5"
   ]
  },
  {
   "cell_type": "code",
   "execution_count": 6,
   "id": "bcba8b8b",
   "metadata": {},
   "outputs": [
    {
     "name": "stdout",
     "output_type": "stream",
     "text": [
      "CPU times: total: 0 ns\n",
      "Wall time: 0 ns\n"
     ]
    }
   ],
   "source": [
    "%%time \n",
    "# time to execute cell\n",
    "a=2**3"
   ]
  },
  {
   "cell_type": "markdown",
   "id": "0d5ae95d",
   "metadata": {},
   "source": [
    "### Use cases of single(' ') and double (\" \") quotes"
   ]
  },
  {
   "cell_type": "code",
   "execution_count": 7,
   "id": "550d5dca",
   "metadata": {},
   "outputs": [
    {
     "name": "stdout",
     "output_type": "stream",
     "text": [
      "python\n"
     ]
    }
   ],
   "source": [
    "print('python')"
   ]
  },
  {
   "cell_type": "code",
   "execution_count": 8,
   "id": "a0f22ca7",
   "metadata": {},
   "outputs": [
    {
     "name": "stdout",
     "output_type": "stream",
     "text": [
      "python\n"
     ]
    }
   ],
   "source": [
    "print(\"python\")"
   ]
  },
  {
   "cell_type": "code",
   "execution_count": 9,
   "id": "219065ac",
   "metadata": {},
   "outputs": [
    {
     "ename": "SyntaxError",
     "evalue": "invalid syntax (925841124.py, line 1)",
     "output_type": "error",
     "traceback": [
      "\u001b[1;36m  Cell \u001b[1;32mIn[9], line 1\u001b[1;36m\u001b[0m\n\u001b[1;33m    print('ram's book') # Eroor\u001b[0m\n\u001b[1;37m               ^\u001b[0m\n\u001b[1;31mSyntaxError\u001b[0m\u001b[1;31m:\u001b[0m invalid syntax\n"
     ]
    }
   ],
   "source": [
    "print('ram's book') # Eroor"
   ]
  },
  {
   "cell_type": "code",
   "execution_count": 10,
   "id": "b7ef3393",
   "metadata": {},
   "outputs": [
    {
     "name": "stdout",
     "output_type": "stream",
     "text": [
      "ram's book\n"
     ]
    }
   ],
   "source": [
    "print(\"ram's book\")"
   ]
  },
  {
   "cell_type": "code",
   "execution_count": 11,
   "id": "73795849",
   "metadata": {},
   "outputs": [
    {
     "ename": "SyntaxError",
     "evalue": "invalid syntax (2733651496.py, line 1)",
     "output_type": "error",
     "traceback": [
      "\u001b[1;36m  Cell \u001b[1;32mIn[11], line 1\u001b[1;36m\u001b[0m\n\u001b[1;33m    print(\"ram eat \"mango\"\") # Error\u001b[0m\n\u001b[1;37m                    ^\u001b[0m\n\u001b[1;31mSyntaxError\u001b[0m\u001b[1;31m:\u001b[0m invalid syntax\n"
     ]
    }
   ],
   "source": [
    "print(\"ram eat \"mango\"\") # Error"
   ]
  },
  {
   "cell_type": "code",
   "execution_count": 12,
   "id": "a323776d",
   "metadata": {},
   "outputs": [
    {
     "name": "stdout",
     "output_type": "stream",
     "text": [
      "ram eat \"mango\"\n"
     ]
    }
   ],
   "source": [
    "print('ram eat \"mango\"')"
   ]
  },
  {
   "cell_type": "code",
   "execution_count": 13,
   "id": "14e82731",
   "metadata": {},
   "outputs": [
    {
     "ename": "SyntaxError",
     "evalue": "invalid syntax (4233635335.py, line 3)",
     "output_type": "error",
     "traceback": [
      "\u001b[1;36m  Cell \u001b[1;32mIn[13], line 3\u001b[1;36m\u001b[0m\n\u001b[1;33m    print('ram's\"laptop\"') # Error\u001b[0m\n\u001b[1;37m               ^\u001b[0m\n\u001b[1;31mSyntaxError\u001b[0m\u001b[1;31m:\u001b[0m invalid syntax\n"
     ]
    }
   ],
   "source": [
    "# we want to print ram's \"laptop\"\n",
    "\n",
    "print('ram's\"laptop\"') # Error"
   ]
  },
  {
   "cell_type": "code",
   "execution_count": 14,
   "id": "b6b4482d",
   "metadata": {},
   "outputs": [
    {
     "name": "stdout",
     "output_type": "stream",
     "text": [
      "rams's \"laptop\"\n"
     ]
    }
   ],
   "source": [
    "print('rams\\'s \"laptop\"')\n",
    "\n",
    "# by using backslash before single quote we say python can you please ignore the special meaning of this single quote "
   ]
  },
  {
   "cell_type": "code",
   "execution_count": 15,
   "id": "179490cd",
   "metadata": {},
   "outputs": [
    {
     "name": "stdout",
     "output_type": "stream",
     "text": [
      "c:\\docs\n",
      "avin\n"
     ]
    }
   ],
   "source": [
    "print('c:\\docs\\navin') # but we want to print as it is"
   ]
  },
  {
   "cell_type": "code",
   "execution_count": 16,
   "id": "9f0d40f7",
   "metadata": {},
   "outputs": [
    {
     "name": "stdout",
     "output_type": "stream",
     "text": [
      "c:\\docs\\navin\n"
     ]
    }
   ],
   "source": [
    "print(r'c:\\docs\\navin') # r can be used to print string as it is without converting it into special meaning"
   ]
  },
  {
   "cell_type": "code",
   "execution_count": 17,
   "id": "0fa360f7",
   "metadata": {},
   "outputs": [
    {
     "data": {
      "text/plain": [
       "'ramram'"
      ]
     },
     "execution_count": 17,
     "metadata": {},
     "output_type": "execute_result"
    }
   ],
   "source": [
    "'ram'+'ram' # will concatenate string"
   ]
  },
  {
   "cell_type": "code",
   "execution_count": 18,
   "id": "249d8e36",
   "metadata": {},
   "outputs": [
    {
     "data": {
      "text/plain": [
       "'ramramramramram'"
      ]
     },
     "execution_count": 18,
     "metadata": {},
     "output_type": "execute_result"
    }
   ],
   "source": [
    "'ram'*5"
   ]
  },
  {
   "cell_type": "markdown",
   "id": "fbd22463",
   "metadata": {},
   "source": [
    "# INDEXING\n",
    "\n",
    "\n",
    "In python indexing start from 0"
   ]
  },
  {
   "cell_type": "code",
   "execution_count": 19,
   "id": "afbe5ace",
   "metadata": {},
   "outputs": [
    {
     "data": {
      "text/plain": [
       "'YOUTUBE'"
      ]
     },
     "execution_count": 19,
     "metadata": {},
     "output_type": "execute_result"
    }
   ],
   "source": [
    "str1=\"YOUTUBE\" \n",
    "str1"
   ]
  },
  {
   "cell_type": "code",
   "execution_count": 20,
   "id": "f208d136",
   "metadata": {},
   "outputs": [
    {
     "data": {
      "text/plain": [
       "7"
      ]
     },
     "execution_count": 20,
     "metadata": {},
     "output_type": "execute_result"
    }
   ],
   "source": [
    "len(str1)"
   ]
  },
  {
   "cell_type": "code",
   "execution_count": 21,
   "id": "46a63c92",
   "metadata": {},
   "outputs": [
    {
     "data": {
      "text/plain": [
       "'Y'"
      ]
     },
     "execution_count": 21,
     "metadata": {},
     "output_type": "execute_result"
    }
   ],
   "source": [
    "str1[0] # first element"
   ]
  },
  {
   "cell_type": "code",
   "execution_count": 22,
   "id": "24057994",
   "metadata": {},
   "outputs": [
    {
     "data": {
      "text/plain": [
       "'YOUT'"
      ]
     },
     "execution_count": 22,
     "metadata": {},
     "output_type": "execute_result"
    }
   ],
   "source": [
    "str1[0:4] # last index excluded"
   ]
  },
  {
   "cell_type": "code",
   "execution_count": 23,
   "id": "70aec4a3",
   "metadata": {},
   "outputs": [
    {
     "data": {
      "text/plain": [
       "'TUBE'"
      ]
     },
     "execution_count": 23,
     "metadata": {},
     "output_type": "execute_result"
    }
   ],
   "source": [
    "str1[3:]"
   ]
  },
  {
   "cell_type": "code",
   "execution_count": 24,
   "id": "87cfa41c",
   "metadata": {},
   "outputs": [
    {
     "data": {
      "text/plain": [
       "'YOUT'"
      ]
     },
     "execution_count": 24,
     "metadata": {},
     "output_type": "execute_result"
    }
   ],
   "source": [
    "str1[:4]"
   ]
  },
  {
   "cell_type": "code",
   "execution_count": 25,
   "id": "5f3c394f",
   "metadata": {},
   "outputs": [
    {
     "data": {
      "text/plain": [
       "'YOUTUBE'"
      ]
     },
     "execution_count": 25,
     "metadata": {},
     "output_type": "execute_result"
    }
   ],
   "source": [
    "str1[:]"
   ]
  },
  {
   "cell_type": "code",
   "execution_count": 26,
   "id": "91566534",
   "metadata": {},
   "outputs": [
    {
     "data": {
      "text/plain": [
       "'UTUBE'"
      ]
     },
     "execution_count": 26,
     "metadata": {},
     "output_type": "execute_result"
    }
   ],
   "source": [
    "# what if give index more than the length\n",
    "\n",
    "str1[2:30] # will print till last element withougiving any error"
   ]
  },
  {
   "cell_type": "markdown",
   "id": "304f09b7",
   "metadata": {},
   "source": [
    "### Note\n",
    "\n",
    "\n",
    "Python support negative indexing as well.\n",
    "\n",
    "negative indexing means start from last\n",
    "\n",
    " 1   2   3   4   5   6   7  +ve indexing\n",
    "\n",
    " Y    O    U    T    U    B    E\n",
    "\n",
    "-7 -6  -5  -4  -3  -2  -1  -ve indexing"
   ]
  },
  {
   "cell_type": "code",
   "execution_count": 27,
   "id": "78175e25",
   "metadata": {},
   "outputs": [
    {
     "data": {
      "text/plain": [
       "'E'"
      ]
     },
     "execution_count": 27,
     "metadata": {},
     "output_type": "execute_result"
    }
   ],
   "source": [
    "str1[-1] # negative indexing means start from last"
   ]
  },
  {
   "cell_type": "code",
   "execution_count": 28,
   "id": "7bbfd8d0",
   "metadata": {},
   "outputs": [
    {
     "data": {
      "text/plain": [
       "'TUB'"
      ]
     },
     "execution_count": 28,
     "metadata": {},
     "output_type": "execute_result"
    }
   ],
   "source": [
    "str1[3:-1]"
   ]
  },
  {
   "cell_type": "code",
   "execution_count": 29,
   "id": "42b47d92",
   "metadata": {},
   "outputs": [
    {
     "data": {
      "text/plain": [
       "'YOU'"
      ]
     },
     "execution_count": 29,
     "metadata": {},
     "output_type": "execute_result"
    }
   ],
   "source": [
    "str1[-7:-4] # always move from left to right"
   ]
  },
  {
   "cell_type": "markdown",
   "id": "97aaddd2",
   "metadata": {},
   "source": [
    "### Note\n",
    "\n",
    "String in python are immutable"
   ]
  },
  {
   "cell_type": "code",
   "execution_count": 30,
   "id": "f2edad3e",
   "metadata": {},
   "outputs": [
    {
     "ename": "TypeError",
     "evalue": "'str' object does not support item assignment",
     "output_type": "error",
     "traceback": [
      "\u001b[1;31m---------------------------------------------------------------------------\u001b[0m",
      "\u001b[1;31mTypeError\u001b[0m                                 Traceback (most recent call last)",
      "Cell \u001b[1;32mIn[30], line 1\u001b[0m\n\u001b[1;32m----> 1\u001b[0m \u001b[43mstr1\u001b[49m\u001b[43m[\u001b[49m\u001b[38;5;241;43m2\u001b[39;49m\u001b[43m]\u001b[49m\u001b[38;5;241m=\u001b[39m\u001b[38;5;124m'\u001b[39m\u001b[38;5;124mM\u001b[39m\u001b[38;5;124m'\u001b[39m \u001b[38;5;66;03m# Error\u001b[39;00m\n",
      "\u001b[1;31mTypeError\u001b[0m: 'str' object does not support item assignment"
     ]
    }
   ],
   "source": [
    "str1[2]='M' # Error"
   ]
  },
  {
   "cell_type": "markdown",
   "id": "bd3ce595",
   "metadata": {},
   "source": [
    "# TAKING INPUT FROM USER"
   ]
  },
  {
   "cell_type": "code",
   "execution_count": 33,
   "id": "a30b5f21",
   "metadata": {},
   "outputs": [
    {
     "name": "stdin",
     "output_type": "stream",
     "text": [
      "Enter your name:  1 2 3 4 5\n"
     ]
    },
    {
     "name": "stdout",
     "output_type": "stream",
     "text": [
      "1 2 3 4 5\n",
      "<class 'str'>\n"
     ]
    }
   ],
   "source": [
    "# user input\n",
    "\n",
    "name=input(\"Enter your name: \")\n",
    "# by default return type of input is string\n",
    "\n",
    "print(name)\n",
    "print(type(name))"
   ]
  },
  {
   "cell_type": "code",
   "execution_count": 35,
   "id": "6a0b3ad1",
   "metadata": {},
   "outputs": [
    {
     "name": "stdin",
     "output_type": "stream",
     "text": [
      "Enter integer:  1\n",
      "Enter float:  2\n"
     ]
    },
    {
     "name": "stdout",
     "output_type": "stream",
     "text": [
      "1\n",
      "2.0\n"
     ]
    }
   ],
   "source": [
    "# taking input of different type\n",
    "\n",
    "intNum=int(input(\"Enter integer: \"))\n",
    "floatNum=float(input(\"Enter float: \"))\n",
    "\n",
    "print(intNum)\n",
    "print(floatNum)"
   ]
  },
  {
   "cell_type": "code",
   "execution_count": 36,
   "id": "724e0a1e",
   "metadata": {},
   "outputs": [
    {
     "name": "stdin",
     "output_type": "stream",
     "text": [
      "Enter integer:  3\n",
      "Enter float:  34.44\n"
     ]
    },
    {
     "name": "stdout",
     "output_type": "stream",
     "text": [
      "3\n",
      "34.44\n"
     ]
    }
   ],
   "source": [
    "# another way\n",
    "\n",
    "intNum=(int)(input(\"Enter integer: \"))\n",
    "floatNum=(float)(input(\"Enter float: \"))\n",
    "\n",
    "print(intNum)\n",
    "print(floatNum)"
   ]
  },
  {
   "cell_type": "code",
   "execution_count": 37,
   "id": "fdfc7d0d",
   "metadata": {},
   "outputs": [
    {
     "name": "stdin",
     "output_type": "stream",
     "text": [
      " 5345 56567\n"
     ]
    },
    {
     "name": "stdout",
     "output_type": "stream",
     "text": [
      "5345\n",
      "56567\n",
      "<class 'str'>\n",
      "<class 'str'>\n"
     ]
    }
   ],
   "source": [
    "# method 1: taking mutiple input in single line\n",
    "\n",
    "x, y = input().split()\n",
    "print(x)\n",
    "print(y)\n",
    "print(type(x))\n",
    "print(type(y))"
   ]
  },
  {
   "cell_type": "code",
   "execution_count": 39,
   "id": "03eda68b",
   "metadata": {},
   "outputs": [
    {
     "name": "stdin",
     "output_type": "stream",
     "text": [
      " 55 77\n"
     ]
    },
    {
     "name": "stdout",
     "output_type": "stream",
     "text": [
      "55\n",
      "77\n"
     ]
    }
   ],
   "source": [
    "# method 2: taking mutiple input in single line\n",
    "\n",
    "# Reads two numbers from input and typecasts them to int using\n",
    "# map function\n",
    "x, y = map(int, input().split())\n",
    "print(x)\n",
    "print(y)"
   ]
  },
  {
   "cell_type": "code",
   "execution_count": 41,
   "id": "602e3291",
   "metadata": {},
   "outputs": [
    {
     "name": "stdin",
     "output_type": "stream",
     "text": [
      " 44 55\n"
     ]
    },
    {
     "name": "stdout",
     "output_type": "stream",
     "text": [
      "44\n",
      "55\n"
     ]
    }
   ],
   "source": [
    "# Method 3: taking mutiple input in single line\n",
    "\n",
    "# Reads two numbers from input and typecasts them to int using\n",
    "# list comprehension\n",
    "x, y = [int(x) for x in input().split()]\n",
    "print(x)\n",
    "print(y)"
   ]
  },
  {
   "cell_type": "markdown",
   "id": "60ca6a96",
   "metadata": {},
   "source": [
    "# LIST\n",
    "\n",
    "list are **muttable** that is we can change the value inside list\n",
    "\n",
    "list support indexing\n",
    "\n",
    "two or more list have same element points to different memory allocation"
   ]
  },
  {
   "cell_type": "code",
   "execution_count": 42,
   "id": "abcc1825",
   "metadata": {},
   "outputs": [
    {
     "name": "stdout",
     "output_type": "stream",
     "text": [
      "<class 'list'>\n"
     ]
    },
    {
     "data": {
      "text/plain": [
       "[1, 2, 3, 4]"
      ]
     },
     "execution_count": 42,
     "metadata": {},
     "output_type": "execute_result"
    }
   ],
   "source": [
    "list1=[1,2,3,4] # list \n",
    "\n",
    "print(type(list1)) # print type of item\n",
    "\n",
    "list1"
   ]
  },
  {
   "cell_type": "code",
   "execution_count": 43,
   "id": "8c12d044",
   "metadata": {},
   "outputs": [
    {
     "name": "stdout",
     "output_type": "stream",
     "text": [
      "<class 'list'>\n"
     ]
    },
    {
     "data": {
      "text/plain": [
       "[]"
      ]
     },
     "execution_count": 43,
     "metadata": {},
     "output_type": "execute_result"
    }
   ],
   "source": [
    "emptyList=[] # empty list declaration\n",
    "\n",
    "print(type(emptyList))\n",
    "\n",
    "emptyList"
   ]
  },
  {
   "cell_type": "code",
   "execution_count": 44,
   "id": "bcbf5f46",
   "metadata": {},
   "outputs": [
    {
     "data": {
      "text/plain": [
       "[1, 'a', 'ram', True]"
      ]
     },
     "execution_count": 44,
     "metadata": {},
     "output_type": "execute_result"
    }
   ],
   "source": [
    "# list can contain items of different datatypes\n",
    "\n",
    "list1=[1,'a',\"ram\",True] \n",
    "list1"
   ]
  },
  {
   "cell_type": "code",
   "execution_count": 45,
   "id": "b2fe4992",
   "metadata": {},
   "outputs": [
    {
     "data": {
      "text/plain": [
       "[1, 2, 3, ['a', 'b', 'c'], True]"
      ]
     },
     "execution_count": 45,
     "metadata": {},
     "output_type": "execute_result"
    }
   ],
   "source": [
    "# list can contain another list as an item\n",
    "\n",
    "list2=[1,2,3,['a','b','c'],True] \n",
    "list2"
   ]
  },
  {
   "cell_type": "code",
   "execution_count": 46,
   "id": "446dc09c",
   "metadata": {},
   "outputs": [
    {
     "data": {
      "text/plain": [
       "['a', 'b', 'c']"
      ]
     },
     "execution_count": 46,
     "metadata": {},
     "output_type": "execute_result"
    }
   ],
   "source": [
    "list2[3]"
   ]
  },
  {
   "cell_type": "code",
   "execution_count": 47,
   "id": "d1619934",
   "metadata": {},
   "outputs": [
    {
     "data": {
      "text/plain": [
       "[[1, 2, 9, 8], [3, 4], [5, 6]]"
      ]
     },
     "execution_count": 47,
     "metadata": {},
     "output_type": "execute_result"
    }
   ],
   "source": [
    "# nested list means list inside list\n",
    "\n",
    "nestList=[[1,2,9,8],[3,4],[5,6]]\n",
    "nestList"
   ]
  },
  {
   "cell_type": "code",
   "execution_count": 48,
   "id": "a2af7044",
   "metadata": {},
   "outputs": [
    {
     "name": "stdout",
     "output_type": "stream",
     "text": [
      "[1, 2, 9, 8]\n",
      "2\n",
      "[2, 9, 8]\n",
      "[3, 4]\n",
      "4\n"
     ]
    }
   ],
   "source": [
    "# accessing element from nested list\n",
    "\n",
    "print(nestList[0]) \n",
    "print(nestList[0][1]) # first index represent row and second index represent column\n",
    "print(nestList[0][1:])\n",
    "print(nestList[:][1])\n",
    "print(nestList[1][1])"
   ]
  },
  {
   "cell_type": "code",
   "execution_count": 49,
   "id": "af1b70f6",
   "metadata": {},
   "outputs": [
    {
     "name": "stdout",
     "output_type": "stream",
     "text": [
      "1\n",
      "6\n",
      "23\n",
      "7\n",
      "2\n",
      "1\n",
      "[1, 2, 3, 4, 5, 6, 2, 9]\n",
      "[1, 2, 3, 12.3, 4, 5, 6, 2, 9]\n",
      "[1, 2, 12.3, 4, 5, 6, 2, 9]\n",
      "[1, 2, 12.3, 4, 6, 2, 9]\n",
      "[9, 2, 6, 4, 12.3, 2, 1]\n",
      "[9, 2, 6, 4, 12.3, 2, 1]\n",
      "[]\n",
      "[9, 4, 12.3, 2, 1]\n",
      "[9, 12.3, 2, 1]\n",
      "[9, 12.3, 2, 1, 88, 44, 66]\n"
     ]
    }
   ],
   "source": [
    "# list methods\n",
    "\n",
    "list1=[1,2,3,4,5,6,2]\n",
    "\n",
    "print(min(list1)) # give minimum element from list\n",
    "print(max(list1)) # give maximum element from list\n",
    "print(sum(list1)) # give sum of elements in list\n",
    "\n",
    "# len(list) method returns size of list\n",
    "size=len(list1)\n",
    "print(size)\n",
    "\n",
    "# count() method returns the count of the specified item in the list\n",
    "frequency=list1.count(2)\n",
    "print(frequency)\n",
    "\n",
    "# index() method returns the index of the first matched item\n",
    "position=list1.index(2)\n",
    "print(position)\n",
    "\n",
    "# append(item) method takes only one argument (element)\n",
    "list1.append(9) # add item at end of list\n",
    "print(list1)\n",
    "\n",
    "# insert(index,item) method take two argumnt (index,element)\n",
    "list1.insert(3, 12.3)\n",
    "print(list1)\n",
    "\n",
    "# remove(item) method take one argument (element)\n",
    "list1.remove(3) # remove passed element from list, if element doesnot exist in list then will give error\n",
    "print(list1)\n",
    "\n",
    "# pop(index) method takes one argument (index)\n",
    "list1.pop(4)\n",
    "print(list1)\n",
    "\n",
    "# reverse() method reverses the item of the list\n",
    "list1.reverse()\n",
    "print(list1)\n",
    "\n",
    "# copy() method returns the shallow copy of the list\n",
    "listCopy=list1.copy()\n",
    "print(listCopy)\n",
    "\n",
    "# clear() method removes all items from the list\n",
    "listCopy.clear()\n",
    "print(listCopy)\n",
    "\n",
    "# del is used to delete one or more element at a time using indexing\n",
    "del list1[1:3]\n",
    "print(list1)\n",
    "\n",
    "del list1[1]\n",
    "print(list1)\n",
    "\n",
    "# extend(iterable) method take one iterable argument (iterable) like list,.....\n",
    "list1.extend([88,44,66])\n",
    "print(list1)"
   ]
  },
  {
   "cell_type": "markdown",
   "id": "fd7e287a",
   "metadata": {},
   "source": [
    "### Note\n",
    "\n",
    "A string is an iterable, so if we extend list with a string, we will append each character as we iterate over string\n",
    "\n",
    "see example below:-"
   ]
  },
  {
   "cell_type": "code",
   "execution_count": 50,
   "id": "b8f27346",
   "metadata": {},
   "outputs": [
    {
     "name": "stdout",
     "output_type": "stream",
     "text": [
      "[9, 12.3, 2, 1, 88, 44, 66, 'p', 'y', 't', 'h', 'o', 'n']\n"
     ]
    }
   ],
   "source": [
    "list1.extend(\"python\")\n",
    "print(list1)"
   ]
  },
  {
   "cell_type": "markdown",
   "id": "b8152a76",
   "metadata": {},
   "source": [
    "### Remark\n",
    "\n",
    "`append()` has constant time complexity that is O(1)\n",
    "\n",
    "`extend()` has time complexity of O(k) where k is length of list to be added"
   ]
  },
  {
   "cell_type": "code",
   "execution_count": 51,
   "id": "389e930e",
   "metadata": {},
   "outputs": [
    {
     "name": "stdout",
     "output_type": "stream",
     "text": [
      "[-44, -1, 3, 3, 9, 12, 77, 344]\n",
      "[344, 77, 12, 9, 3, 3, -1, -44]\n",
      "None\n"
     ]
    }
   ],
   "source": [
    "# sorting list\n",
    "\n",
    "list2=[3,9,3,-1,344,12,-44,77]\n",
    "\n",
    "list2.sort() # sort list in ascending order\n",
    "print(list2)\n",
    "\n",
    "list2.sort(reverse=True) # sort list in descending order\n",
    "print(list2)\n",
    "\n",
    "a=list2.sort() # try to assigning it in a variable will return None\n",
    "print(a)\n",
    "\n",
    "# sort() only work with list"
   ]
  },
  {
   "cell_type": "markdown",
   "id": "8e0316d3",
   "metadata": {},
   "source": [
    "### Note:\n",
    "\n",
    "`sort()` function only works with list. It do not have any return type which means it sort the same list."
   ]
  },
  {
   "cell_type": "code",
   "execution_count": 52,
   "id": "b0bed152",
   "metadata": {},
   "outputs": [
    {
     "name": "stdout",
     "output_type": "stream",
     "text": [
      "1979626615744\n",
      "1979626063488\n",
      "1979626615296\n"
     ]
    }
   ],
   "source": [
    "# lists with same element refer to different memory address\n",
    "\n",
    "a=[1,2,3,4]\n",
    "b=[1,2,3,4]\n",
    "\n",
    "print(id(a)) # return address of element\n",
    "print(id(b))\n",
    "\n",
    "c=[4,3,2,1]\n",
    "print(id(c))"
   ]
  },
  {
   "cell_type": "code",
   "execution_count": 53,
   "id": "ef73a51e",
   "metadata": {},
   "outputs": [
    {
     "name": "stdout",
     "output_type": "stream",
     "text": [
      "True\n"
     ]
    }
   ],
   "source": [
    "# all(iterable) function returns True if all elements in the given iterable are true. If not, it returns False.\n",
    "\n",
    "boolean_list = ['True', 'True', 'True']\n",
    "\n",
    "# check if all elements are true\n",
    "result = all(boolean_list)\n",
    "print(result)"
   ]
  },
  {
   "cell_type": "code",
   "execution_count": 54,
   "id": "04f984f1",
   "metadata": {},
   "outputs": [
    {
     "name": "stdout",
     "output_type": "stream",
     "text": [
      "True\n"
     ]
    }
   ],
   "source": [
    "# any(iterable) function returns True if any element of an iterable is True. If not, it returns False.\n",
    "\n",
    "boolean_list = ['True', 'False', 'True']\n",
    "\n",
    "# check if any element is true\n",
    "result = any(boolean_list)\n",
    "print(result)"
   ]
  },
  {
   "cell_type": "code",
   "execution_count": 55,
   "id": "adbc9713",
   "metadata": {},
   "outputs": [
    {
     "name": "stdout",
     "output_type": "stream",
     "text": [
      "<enumerate object at 0x000001CCEAA84B40>\n",
      "[(0, 'Python'), (1, 'Java'), (2, 'JavaScript')]\n",
      "[(2, 'Python'), (3, 'Java'), (4, 'JavaScript')]\n"
     ]
    }
   ],
   "source": [
    "# enumerate(iterable, start=0) method adds a counter to an iterable and returns it (the enumerate object).\n",
    "# start is optional\n",
    "\n",
    "languages = ['Python', 'Java', 'JavaScript']\n",
    "\n",
    "enumerate_prime = enumerate(languages)\n",
    "\n",
    "print(enumerate_prime) # will print object\n",
    "\n",
    "# convert enumerate object to list\n",
    "print(list(enumerate_prime))\n",
    "\n",
    "enumerate_prime = enumerate(languages, start=2) # OR\n",
    "# enumerate_prime = enumerate(languages, 2)\n",
    "\n",
    "# convert enumerate object to list\n",
    "print(list(enumerate_prime))"
   ]
  },
  {
   "cell_type": "markdown",
   "id": "c5387d8c",
   "metadata": {},
   "source": [
    "### strip()\n",
    "\n",
    "The `strip()` method is a built-in string method in Python that **removes any leading or trailing whitespace characters (spaces, tabs, newlines) from a string**. It returns a new string with the whitespace characters removed, leaving the original string unchanged."
   ]
  },
  {
   "cell_type": "code",
   "execution_count": 56,
   "id": "09b6eb38",
   "metadata": {},
   "outputs": [
    {
     "name": "stdout",
     "output_type": "stream",
     "text": [
      "   Hello, world!   \n",
      "Hello, world!\n"
     ]
    }
   ],
   "source": [
    "string = \"   Hello, world!   \"\n",
    "print(string)\n",
    "stripped_string = string.strip()\n",
    "print(stripped_string)   "
   ]
  },
  {
   "cell_type": "markdown",
   "id": "195e83e7",
   "metadata": {},
   "source": [
    "The `strip()` method can **also take an optional argument, which specifies the characters to remove from the beginning and end of the string**. For example, to remove all leading and trailing underscores, we can call `strip('_')` :-"
   ]
  },
  {
   "cell_type": "code",
   "execution_count": 57,
   "id": "e2115256",
   "metadata": {},
   "outputs": [
    {
     "name": "stdout",
     "output_type": "stream",
     "text": [
      "Hello, world!\n"
     ]
    }
   ],
   "source": [
    "string = \"__Hello, world!__\"\n",
    "stripped_string = string.strip('_')\n",
    "print(stripped_string)"
   ]
  },
  {
   "cell_type": "code",
   "execution_count": 1,
   "id": "2d0ce22f-3fb7-4fa9-a088-4a005a422b3f",
   "metadata": {},
   "outputs": [
    {
     "name": "stdout",
     "output_type": "stream",
     "text": [
      "Hello, world! \n"
     ]
    }
   ],
   "source": [
    "string = \"__Hello, world! __\"\n",
    "stripped_string = string.strip('_')\n",
    "print(stripped_string)"
   ]
  },
  {
   "cell_type": "markdown",
   "id": "668ad397",
   "metadata": {},
   "source": [
    "### split()\n",
    "\n",
    "The `split()` method is a built-in string method in Python that **splits a string into a list of substrings based on a specified delimiter**. The method takes an optional delimiter as an argument, and **if no delimiter is specified, it splits the string using whitespace characters (spaces, tabs, and newlines) as the delimiter**."
   ]
  },
  {
   "cell_type": "code",
   "execution_count": 58,
   "id": "44d74bd4",
   "metadata": {},
   "outputs": [
    {
     "name": "stdout",
     "output_type": "stream",
     "text": [
      "['apple', 'banana', 'orange']\n"
     ]
    }
   ],
   "source": [
    "string = \"apple,banana,orange\"\n",
    "fruits = string.split(',')\n",
    "print(fruits)"
   ]
  },
  {
   "cell_type": "code",
   "execution_count": 59,
   "id": "3b434530",
   "metadata": {},
   "outputs": [
    {
     "name": "stdout",
     "output_type": "stream",
     "text": [
      "['Hello', 'world!', 'How', 'are', 'you?']\n"
     ]
    }
   ],
   "source": [
    "# If no delimiter is specified, the split() method will use whitespace characters as the delimiter.\n",
    "\n",
    "string = \"Hello  world!\\tHow\\nare\\tyou?\"\n",
    "words = string.split()\n",
    "print(words)   "
   ]
  },
  {
   "cell_type": "markdown",
   "id": "9d6aa5dc",
   "metadata": {},
   "source": [
    "## creating list from user input"
   ]
  },
  {
   "cell_type": "code",
   "execution_count": 60,
   "id": "df281c39",
   "metadata": {},
   "outputs": [
    {
     "name": "stdin",
     "output_type": "stream",
     "text": [
      "Enter elements of list separated by space:  1 2 3 4 5\n"
     ]
    },
    {
     "name": "stdout",
     "output_type": "stream",
     "text": [
      "['1', '2', '3', '4', '5']\n"
     ]
    }
   ],
   "source": [
    "# method 1\n",
    "\n",
    "string1=input(\"Enter elements of list separated by space: \") # list of all string datatype\n",
    "list3=string1.split()\n",
    "print(list3)"
   ]
  },
  {
   "cell_type": "code",
   "execution_count": 62,
   "id": "c345e37a",
   "metadata": {},
   "outputs": [
    {
     "name": "stdin",
     "output_type": "stream",
     "text": [
      "Enter size:  4\n",
      "Enter element:  1\n",
      "Enter element:  2\n",
      "Enter element:  3\n",
      "Enter element:  4\n"
     ]
    },
    {
     "name": "stdout",
     "output_type": "stream",
     "text": [
      "[1, 2, 3, 4]\n"
     ]
    }
   ],
   "source": [
    "# method 2\n",
    "\n",
    "list4=[]\n",
    "n=int(input(\"Enter size: \"))\n",
    "for i in range(n):\n",
    "    item=int(input(\"Enter element: \")) # list of int datatype\n",
    "    list4.append(item)\n",
    "print(list4)"
   ]
  },
  {
   "cell_type": "code",
   "execution_count": 63,
   "id": "682ad18e",
   "metadata": {
    "scrolled": true
   },
   "outputs": [
    {
     "name": "stdin",
     "output_type": "stream",
     "text": [
      "Enter size:  4\n",
      "Enter items separated by space:  1 2 3 4\n"
     ]
    },
    {
     "name": "stdout",
     "output_type": "stream",
     "text": [
      "[1, 2, 3, 4]\n"
     ]
    }
   ],
   "source": [
    "# method 3\n",
    "\n",
    "n=int(input(\"Enter size: \"))\n",
    "list5=list(int(item) for item in input(\"Enter items separated by space: \").strip().split())[:n]\n",
    "print(list5)"
   ]
  },
  {
   "cell_type": "code",
   "execution_count": 64,
   "id": "d4fea2ad",
   "metadata": {},
   "outputs": [
    {
     "name": "stdin",
     "output_type": "stream",
     "text": [
      "Enter size:  4\n",
      "Enter items separated by space:  1 2 3 4\n"
     ]
    },
    {
     "name": "stdout",
     "output_type": "stream",
     "text": [
      "[1, 2, 3, 4]\n"
     ]
    }
   ],
   "source": [
    "# method 4\n",
    "\n",
    "n=int(input(\"Enter size: \"))\n",
    "list6=list(map(int,input(\"Enter items separated by space: \").strip().split()))[:n]\n",
    "print(list6)"
   ]
  },
  {
   "cell_type": "code",
   "execution_count": 65,
   "id": "1e33ef0a",
   "metadata": {},
   "outputs": [
    {
     "name": "stdin",
     "output_type": "stream",
     "text": [
      "Enter row size:  3\n",
      "Enter column size:  3\n",
      "Enter element and hit enter key: 1\n",
      "Enter element and hit enter key: 2\n",
      "Enter element and hit enter key: 3\n",
      "Enter element and hit enter key: 4\n",
      "Enter element and hit enter key: 5\n",
      "Enter element and hit enter key: 6\n",
      "Enter element and hit enter key: 6\n",
      "Enter element and hit enter key: 7\n",
      "Enter element and hit enter key: 8\n"
     ]
    },
    {
     "name": "stdout",
     "output_type": "stream",
     "text": [
      "[[1, 2, 3], [4, 5, 6], [6, 7, 8]]\n"
     ]
    }
   ],
   "source": [
    "# nested list or 2D array\n",
    "\n",
    "r=int(input(\"Enter row size: \"))\n",
    "c=int(input(\"Enter column size: \"))\n",
    "list7=[[int(input(\"Enter element and hit enter key:\")) for i in range(c)] for i in range(r)]\n",
    "print(list7)"
   ]
  },
  {
   "cell_type": "code",
   "execution_count": 67,
   "id": "fe11e737",
   "metadata": {},
   "outputs": [
    {
     "name": "stdin",
     "output_type": "stream",
     "text": [
      "Enter size:  3\n",
      "Enter string item:  apple\n",
      "Enter int item:  4\n",
      "Enter string item:  grapes\n",
      "Enter int item:  6\n",
      "Enter string item:  orange\n",
      "Enter int item:  12\n"
     ]
    },
    {
     "name": "stdout",
     "output_type": "stream",
     "text": [
      "[['apple', 4], ['grapes', 6], ['orange', 12]]\n"
     ]
    }
   ],
   "source": [
    "# nested list\n",
    "\n",
    "list8=[]\n",
    "n=int(input(\"Enter size: \"))\n",
    "for i in range(n):\n",
    "    items=[input(\"Enter string item: \"),int(input(\"Enter int item: \"))]\n",
    "    list8.append(items)\n",
    "print(list8)"
   ]
  },
  {
   "cell_type": "markdown",
   "id": "8d07c4c2",
   "metadata": {},
   "source": [
    "# TUPLE\n",
    "\n",
    "tuple are **immutable** that is we cannot change its element\n",
    "\n",
    "tuple support indexing like list\n",
    "\n",
    "two or more tuples having same element points to same memory allocation"
   ]
  },
  {
   "cell_type": "code",
   "execution_count": 68,
   "id": "6ab2205e",
   "metadata": {},
   "outputs": [
    {
     "name": "stdout",
     "output_type": "stream",
     "text": [
      "<class 'tuple'>\n"
     ]
    },
    {
     "data": {
      "text/plain": [
       "(1, 2, 3, 4)"
      ]
     },
     "execution_count": 68,
     "metadata": {},
     "output_type": "execute_result"
    }
   ],
   "source": [
    "tuple1=(1,2,3,4) # tuple declartion\n",
    "\n",
    "print(type(tuple1))\n",
    "\n",
    "tuple1"
   ]
  },
  {
   "cell_type": "code",
   "execution_count": 69,
   "id": "c07adc9a",
   "metadata": {},
   "outputs": [
    {
     "name": "stdout",
     "output_type": "stream",
     "text": [
      "<class 'tuple'>\n",
      "<class 'int'>\n"
     ]
    }
   ],
   "source": [
    "tuple11=(1,) # tuple having single element\n",
    "print(type(tuple11))\n",
    "\n",
    "tuple12=(1) # this is not tuple\n",
    "print(type(tuple12))"
   ]
  },
  {
   "cell_type": "code",
   "execution_count": 70,
   "id": "86534e16",
   "metadata": {},
   "outputs": [
    {
     "name": "stdout",
     "output_type": "stream",
     "text": [
      "<class 'tuple'>\n"
     ]
    },
    {
     "data": {
      "text/plain": [
       "()"
      ]
     },
     "execution_count": 70,
     "metadata": {},
     "output_type": "execute_result"
    }
   ],
   "source": [
    "emptyTuple=() # empty tuple declaration\n",
    "\n",
    "print(type(emptyTuple))\n",
    "\n",
    "emptyTuple"
   ]
  },
  {
   "cell_type": "code",
   "execution_count": 71,
   "id": "dd67d61e",
   "metadata": {},
   "outputs": [
    {
     "name": "stdout",
     "output_type": "stream",
     "text": [
      "(1, 2, 3, 4)\n",
      "<class 'tuple'>\n"
     ]
    }
   ],
   "source": [
    "tuple13=1,2,3,4 # another way to declare tuple\n",
    "print(tuple13)\n",
    "print(type(tuple13))"
   ]
  },
  {
   "cell_type": "code",
   "execution_count": 72,
   "id": "81804b21",
   "metadata": {},
   "outputs": [
    {
     "name": "stdout",
     "output_type": "stream",
     "text": [
      "('ram', 'sita', 4, True)\n",
      "<class 'tuple'>\n"
     ]
    }
   ],
   "source": [
    "tuple13='ram','sita',4,True # another way to declare tuple\n",
    "print(tuple13)\n",
    "print(type(tuple13))"
   ]
  },
  {
   "cell_type": "code",
   "execution_count": 73,
   "id": "18f20d02",
   "metadata": {},
   "outputs": [
    {
     "data": {
      "text/plain": [
       "(2, 3)"
      ]
     },
     "execution_count": 73,
     "metadata": {},
     "output_type": "execute_result"
    }
   ],
   "source": [
    "tuple1[1:3] # indexing is same as list"
   ]
  },
  {
   "cell_type": "code",
   "execution_count": 74,
   "id": "0e35415e",
   "metadata": {},
   "outputs": [
    {
     "ename": "TypeError",
     "evalue": "'tuple' object does not support item assignment",
     "output_type": "error",
     "traceback": [
      "\u001b[1;31m---------------------------------------------------------------------------\u001b[0m",
      "\u001b[1;31mTypeError\u001b[0m                                 Traceback (most recent call last)",
      "Cell \u001b[1;32mIn[74], line 1\u001b[0m\n\u001b[1;32m----> 1\u001b[0m \u001b[43mtuple1\u001b[49m\u001b[43m[\u001b[49m\u001b[38;5;241;43m0\u001b[39;49m\u001b[43m]\u001b[49m\u001b[38;5;241m=\u001b[39m\u001b[38;5;241m99\u001b[39m \u001b[38;5;66;03m# Error because tuple are immutable\u001b[39;00m\n",
      "\u001b[1;31mTypeError\u001b[0m: 'tuple' object does not support item assignment"
     ]
    }
   ],
   "source": [
    "tuple1[0]=99 # Error because tuple are immutable"
   ]
  },
  {
   "cell_type": "markdown",
   "id": "5bb66085",
   "metadata": {},
   "source": [
    "In Python, tuples are immutable, which means you cannot modify their contents after they have been created. This means that you cannot add an element to an existing tuple directly. However, you can create a new tuple that includes the existing elements and the new element.\n",
    "\n",
    "Here is an example of how to add an element to a tuple in Python:"
   ]
  },
  {
   "cell_type": "code",
   "execution_count": 75,
   "id": "9418bf1e",
   "metadata": {},
   "outputs": [
    {
     "name": "stdout",
     "output_type": "stream",
     "text": [
      "(1, 2, 3, 4, 5)\n"
     ]
    }
   ],
   "source": [
    "my_tuple = (1, 2, 3, 4)\n",
    "new_element = 5\n",
    "\n",
    "# create a new tuple that includes the existing elements and the new element\n",
    "new_tuple = my_tuple + (new_element,)\n",
    "\n",
    "print(new_tuple)   # Output: (1, 2, 3, 4, 5)"
   ]
  },
  {
   "cell_type": "markdown",
   "id": "f8f35bba",
   "metadata": {},
   "source": [
    "In this example, we have an existing tuple `my_tuple` with four elements. We want to **add a new element 5 to this tuple**. To do this, we create a new tuple `new_tuple` that includes the existing elements of `my_tuple` and the new element. We use the `+` operator to concatenate the two tuples, and we include the new element in a tuple with a trailing comma to make sure it is recognized as a tuple.\n",
    "\n",
    "**Note that this approach creates a new tuple, rather than modifying the existing tuple**. If you need to add elements to a collection that you can modify, you may want to consider using a list instead of a tuple."
   ]
  },
  {
   "cell_type": "code",
   "execution_count": 76,
   "id": "e2320a20",
   "metadata": {},
   "outputs": [
    {
     "data": {
      "text/plain": [
       "('a', 'apple', 1, 12.66, False)"
      ]
     },
     "execution_count": 76,
     "metadata": {},
     "output_type": "execute_result"
    }
   ],
   "source": [
    "# tuple item can be of different datatypes\n",
    "tuple2=('a',\"apple\",1,12.66,False)\n",
    "tuple2"
   ]
  },
  {
   "cell_type": "code",
   "execution_count": 2,
   "id": "9e4b15ae",
   "metadata": {},
   "outputs": [
    {
     "name": "stdout",
     "output_type": "stream",
     "text": [
      "2505161372832\n",
      "2505161570800\n"
     ]
    }
   ],
   "source": [
    "# tuples having same elements points to same memory loaction (in case of IDE)\n",
    "\n",
    "tupl1=(1,2,3,4,5)\n",
    "tupl2=(1,2,3,4,5)\n",
    "\n",
    "print(id(tupl1))\n",
    "print(id(tupl2))\n",
    "\n",
    "# In jupyter Notebook it will different memory location"
   ]
  },
  {
   "cell_type": "code",
   "execution_count": 78,
   "id": "cf05bcc9",
   "metadata": {},
   "outputs": [
    {
     "name": "stdout",
     "output_type": "stream",
     "text": [
      "2\n",
      "3\n"
     ]
    }
   ],
   "source": [
    "# In Python, methods that add items or remove items are not available with tuple\n",
    "# only the following two methods are available.\n",
    "\n",
    "my_tuple = ('a', 'p', 'p', 'l', 'e',)\n",
    "\n",
    "print(my_tuple.count('p'))  \n",
    "print(my_tuple.index('l'))"
   ]
  },
  {
   "cell_type": "code",
   "execution_count": 79,
   "id": "6f2a0975",
   "metadata": {},
   "outputs": [],
   "source": [
    "fruit=['apple','banana','guava']\n",
    "(x,y,z)=fruit"
   ]
  },
  {
   "cell_type": "code",
   "execution_count": 80,
   "id": "01c35765",
   "metadata": {},
   "outputs": [
    {
     "name": "stdout",
     "output_type": "stream",
     "text": [
      "apple\n",
      "<class 'str'>\n",
      "banana\n",
      "<class 'str'>\n",
      "guava\n",
      "<class 'str'>\n"
     ]
    }
   ],
   "source": [
    "print(x)\n",
    "print(type(x))\n",
    "\n",
    "print(y)\n",
    "print(type(y))\n",
    "\n",
    "print(z)\n",
    "print(type(z))"
   ]
  },
  {
   "cell_type": "code",
   "execution_count": 81,
   "id": "c848b178",
   "metadata": {},
   "outputs": [
    {
     "name": "stdout",
     "output_type": "stream",
     "text": [
      "apple\n",
      "banana\n",
      "guava\n"
     ]
    }
   ],
   "source": [
    "fruit=['apple','banana','guava']\n",
    "x,y,z=fruit\n",
    "print(x)\n",
    "print(y)\n",
    "print(z)"
   ]
  },
  {
   "cell_type": "code",
   "execution_count": 82,
   "id": "4203361a",
   "metadata": {},
   "outputs": [
    {
     "data": {
      "text/plain": [
       "['saurabhp85070', 'gmail.com']"
      ]
     },
     "execution_count": 82,
     "metadata": {},
     "output_type": "execute_result"
    }
   ],
   "source": [
    "# split() returns list of strings after breaking given string by specified separation\n",
    "\n",
    "email=\"saurabhp85070@gmail.com\"\n",
    "email.split('@')"
   ]
  },
  {
   "cell_type": "code",
   "execution_count": 83,
   "id": "e3bb51fd",
   "metadata": {},
   "outputs": [
    {
     "data": {
      "text/plain": [
       "['saurabhp85070@gmail.com']"
      ]
     },
     "execution_count": 83,
     "metadata": {},
     "output_type": "execute_result"
    }
   ],
   "source": [
    "# split() returns list of strings after breaking given string by specified separation\n",
    "\n",
    "email=\"saurabhp85070@gmail.com\"\n",
    "email.split()"
   ]
  },
  {
   "cell_type": "code",
   "execution_count": 84,
   "id": "abefbeef",
   "metadata": {},
   "outputs": [
    {
     "data": {
      "text/plain": [
       "['saurabhp', '85070@gmail.com']"
      ]
     },
     "execution_count": 84,
     "metadata": {},
     "output_type": "execute_result"
    }
   ],
   "source": [
    "# split() returns list of strings after breaking given string by specified separation\n",
    "\n",
    "email=\"saurabhp 85070@gmail.com\"\n",
    "email.split() # will split at whitespace when no separation is provided"
   ]
  },
  {
   "cell_type": "code",
   "execution_count": 85,
   "id": "5b6a4581",
   "metadata": {},
   "outputs": [
    {
     "name": "stdout",
     "output_type": "stream",
     "text": [
      "<class 'str'>\n",
      "saurabhp 85070\n",
      "<class 'str'>\n",
      "gmail.com\n"
     ]
    }
   ],
   "source": [
    "# split and assign\n",
    "\n",
    "part1,part2=email.split('@')\n",
    "\n",
    "print(type(part1))\n",
    "print(part1)\n",
    "\n",
    "print(type(part2))\n",
    "print(part2)"
   ]
  },
  {
   "cell_type": "markdown",
   "id": "025649e2",
   "metadata": {},
   "source": [
    "### Note\n",
    "\n",
    "iteration in tuple is faster than list"
   ]
  },
  {
   "cell_type": "markdown",
   "id": "443c3cab",
   "metadata": {},
   "source": [
    "## creating tuple from user input"
   ]
  },
  {
   "cell_type": "markdown",
   "id": "d168115b",
   "metadata": {},
   "source": [
    "We can create tuple from user input in same way as we create list.\n",
    "\n",
    "We can do it in three ways:\n",
    "\n",
    "(1) We will call tuple() method instead of list()\n",
    "\n",
    "(2) We will place ( ) instead of [ ]\n",
    "\n",
    "(3) We will create list and convert it into tuple using tuple() method"
   ]
  },
  {
   "cell_type": "markdown",
   "id": "45e64e3c",
   "metadata": {},
   "source": [
    "## List VS Tuple\n",
    "\n",
    "tuples are stored in single block of memory\n",
    "\n",
    "list are alocated in two blocks: fixed one with all python object information and other with a variable sized block for data\n",
    "\n",
    "Create tuple is faster than list\n",
    "\n",
    "whenever application needs a constant set of values and which can be iterated through it then tuple is preffered than list\n",
    "\n",
    "tuple makes code safer if data is to be write-protect that is need not to be changed anytime later.\n",
    "\n",
    "## Advantages of Tuple over List in Python\n",
    "Since tuples are quite similar to lists, both of them are used in similar situations.\n",
    "\n",
    "However, there are certain advantages of implementing a tuple over a list:\n",
    "\n",
    "* We generally use **tuples for heterogeneous (different) data types** and **lists for homogeneous (similar) data types**.\n",
    "* Since tuples are immutable, **iterating through a tuple is faster than with a list**. So there is a slight performance boost.\n",
    "* Tuples that contain immutable elements **can be used as a key for a dictionary**. With lists, this is not possible.\n",
    "* If you have data that doesn't change, implementing it as tuple will guarantee that it remains write-protected."
   ]
  },
  {
   "cell_type": "markdown",
   "id": "b1e5b419",
   "metadata": {},
   "source": [
    "# SET\n",
    "\n",
    "set are **mutable**\n",
    "\n",
    "Set items are **unchangeable**, meaning that we cannot change the items after the set has been created.\n",
    "\n",
    "Once a set is created, you cannot change its items, but you can remove items and add new items.\n",
    "\n",
    "set never follow sequence\n",
    "\n",
    "set does not support indexing\n",
    "\n",
    "duplicates values are printed only single time\n",
    "\n",
    "two or more sets having same elements points to different memory alloocation"
   ]
  },
  {
   "cell_type": "code",
   "execution_count": 86,
   "id": "596cc00f",
   "metadata": {},
   "outputs": [
    {
     "name": "stdout",
     "output_type": "stream",
     "text": [
      "<class 'set'>\n"
     ]
    },
    {
     "data": {
      "text/plain": [
       "{1, 2, 3, 4, 9}"
      ]
     },
     "execution_count": 86,
     "metadata": {},
     "output_type": "execute_result"
    }
   ],
   "source": [
    "set1={1,2,9,3,4,3} # set declaration\n",
    "\n",
    "print(type(set1))\n",
    "\n",
    "set1"
   ]
  },
  {
   "cell_type": "code",
   "execution_count": 87,
   "id": "2befb314",
   "metadata": {},
   "outputs": [
    {
     "name": "stdout",
     "output_type": "stream",
     "text": [
      "{'for', 'Geeks'}\n"
     ]
    },
    {
     "ename": "TypeError",
     "evalue": "'set' object does not support item assignment",
     "output_type": "error",
     "traceback": [
      "\u001b[1;31m---------------------------------------------------------------------------\u001b[0m",
      "\u001b[1;31mTypeError\u001b[0m                                 Traceback (most recent call last)",
      "Cell \u001b[1;32mIn[87], line 10\u001b[0m\n\u001b[0;32m      7\u001b[0m \u001b[38;5;28mprint\u001b[39m(myset)\n\u001b[0;32m      9\u001b[0m \u001b[38;5;66;03m# values of a set cannot be changed\u001b[39;00m\n\u001b[1;32m---> 10\u001b[0m \u001b[43mmyset\u001b[49m\u001b[43m[\u001b[49m\u001b[38;5;241;43m1\u001b[39;49m\u001b[43m]\u001b[49m \u001b[38;5;241m=\u001b[39m \u001b[38;5;124m\"\u001b[39m\u001b[38;5;124mHello\u001b[39m\u001b[38;5;124m\"\u001b[39m \u001b[38;5;66;03m# Error\u001b[39;00m\n\u001b[0;32m     11\u001b[0m \u001b[38;5;28mprint\u001b[39m(myset)\n",
      "\u001b[1;31mTypeError\u001b[0m: 'set' object does not support item assignment"
     ]
    }
   ],
   "source": [
    "# Python program to demonstrate that\n",
    "# a set cannot have duplicate values\n",
    "# and we cannot change its items\n",
    "\n",
    "# a set cannot have duplicate values\n",
    "myset = {\"Geeks\", \"for\", \"Geeks\"}\n",
    "print(myset)\n",
    "\n",
    "# values of a set cannot be changed\n",
    "myset[1] = \"Hello\" # Error\n",
    "print(myset)"
   ]
  },
  {
   "cell_type": "code",
   "execution_count": 88,
   "id": "b359cf27",
   "metadata": {},
   "outputs": [
    {
     "name": "stdout",
     "output_type": "stream",
     "text": [
      "Initial Set: {34, 12, 21, 54}\n",
      "Updated Set: {32, 34, 12, 21, 54}\n"
     ]
    }
   ],
   "source": [
    "# In Python, we use the add() method to add an item to a set\n",
    "\n",
    "numbers = {21, 34, 54, 12}\n",
    "\n",
    "print('Initial Set:',numbers)\n",
    "\n",
    "# using add() method\n",
    "numbers.add(32)\n",
    "\n",
    "print('Updated Set:', numbers) "
   ]
  },
  {
   "cell_type": "code",
   "execution_count": 89,
   "id": "fd4ec16c",
   "metadata": {},
   "outputs": [
    {
     "name": "stdout",
     "output_type": "stream",
     "text": [
      "{'Lacoste', 'Ralph Lauren', 'apple', 'google'}\n"
     ]
    }
   ],
   "source": [
    "# update() method is used to update the set with items other collection types (lists, tuples, sets, etc)\n",
    "\n",
    "companies = {'Lacoste', 'Ralph Lauren'}\n",
    "tech_companies = ['apple', 'google', 'apple']\n",
    "\n",
    "companies.update(tech_companies)\n",
    "\n",
    "print(companies)"
   ]
  },
  {
   "cell_type": "code",
   "execution_count": 1,
   "id": "8b6c893c",
   "metadata": {},
   "outputs": [
    {
     "name": "stdout",
     "output_type": "stream",
     "text": [
      "Initial Set: {'Python', 'Java', 'Swift'}\n",
      "Set after discard(): {'Python', 'Swift'}\n"
     ]
    }
   ],
   "source": [
    "# We use the discard() method to remove the specified element from a set\n",
    "\n",
    "languages = {'Swift', 'Java', 'Python'}\n",
    "\n",
    "print('Initial Set:',languages)\n",
    "\n",
    "# remove 'Java' from a set\n",
    "removedValue = languages.discard('Java') # takes one argument\n",
    "\n",
    "print('Set after discard():', languages)"
   ]
  },
  {
   "cell_type": "code",
   "execution_count": 91,
   "id": "2a54c4a9",
   "metadata": {},
   "outputs": [
    {
     "name": "stdout",
     "output_type": "stream",
     "text": [
      "{1, 2, 5, 7, 8}\n",
      "5\n",
      "8\n",
      "1\n",
      "23\n",
      "[1, 2, 5, 7, 8]\n"
     ]
    }
   ],
   "source": [
    "set2={2,5,1,8,7,2}\n",
    "\n",
    "print(set2)\n",
    "\n",
    "print(len(set2))\n",
    "print(max(set2))\n",
    "print(min(set2))\n",
    "print(sum(set2))\n",
    "\n",
    "# sorted(iterable) \n",
    "print(sorted(set2))"
   ]
  },
  {
   "cell_type": "markdown",
   "id": "53813018",
   "metadata": {},
   "source": [
    "### Note\n",
    "\n",
    "we cannot create empty set using way:- emptySet={}\n",
    "\n",
    "this basically represent empty dictionary not set\n",
    "\n",
    "so, to create empty set we will use set() method"
   ]
  },
  {
   "cell_type": "code",
   "execution_count": 92,
   "id": "7141ee9c",
   "metadata": {},
   "outputs": [
    {
     "name": "stdout",
     "output_type": "stream",
     "text": [
      "<class 'set'>\n"
     ]
    },
    {
     "data": {
      "text/plain": [
       "set()"
      ]
     },
     "execution_count": 92,
     "metadata": {},
     "output_type": "execute_result"
    }
   ],
   "source": [
    "emptySet=set() # empty set\n",
    "\n",
    "print(type(emptySet))\n",
    "\n",
    "emptySet"
   ]
  },
  {
   "cell_type": "code",
   "execution_count": 93,
   "id": "94202e65",
   "metadata": {},
   "outputs": [
    {
     "name": "stdout",
     "output_type": "stream",
     "text": [
      "<class 'dict'>\n"
     ]
    }
   ],
   "source": [
    "emptySet2={} # this is not set\n",
    "print(type(emptySet2))"
   ]
  },
  {
   "cell_type": "code",
   "execution_count": 94,
   "id": "3a067779",
   "metadata": {},
   "outputs": [
    {
     "data": {
      "text/plain": [
       "{1, 12.3, 'a', 'apple'}"
      ]
     },
     "execution_count": 94,
     "metadata": {},
     "output_type": "execute_result"
    }
   ],
   "source": [
    "# set item can be of different datatypes\n",
    "\n",
    "set1={1,12.3,True,'a','apple'}\n",
    "set1"
   ]
  },
  {
   "attachments": {
    "image.png": {
     "image/png": "[encoded data removed]"
    }
   },
   "cell_type": "markdown",
   "id": "5378457a",
   "metadata": {},
   "source": [
    "![image.png](attachment:image.png)"
   ]
  },
  {
   "cell_type": "markdown",
   "id": "14bbff38",
   "metadata": {},
   "source": [
    "## difference between sort() and sorted()"
   ]
  },
  {
   "cell_type": "markdown",
   "id": "62c9235c",
   "metadata": {},
   "source": [
    "The `sort()` method is a list method that sorts the list in-place, meaning it modifies the original list. It doesn't return a new list, and the original list is permanently changed. Here is an example of how to use `sort()` :-"
   ]
  },
  {
   "cell_type": "code",
   "execution_count": 95,
   "id": "db76915d",
   "metadata": {},
   "outputs": [
    {
     "name": "stdout",
     "output_type": "stream",
     "text": [
      "[1, 1, 2, 3, 4, 5, 5, 6, 9]\n"
     ]
    }
   ],
   "source": [
    "numbers = [3, 1, 4, 1, 5, 9, 2, 6, 5]\n",
    "numbers.sort()\n",
    "print(numbers)"
   ]
  },
  {
   "cell_type": "markdown",
   "id": "0e2ffe8a",
   "metadata": {},
   "source": [
    "On the other hand, the `sorted()` function is a built-in Python function that sorts any iterable (not just lists) and returns a new sorted list. It does not modify the original list, but instead creates a new list with the sorted values. Here is an example of how to use `sorted()` :-"
   ]
  },
  {
   "cell_type": "code",
   "execution_count": 96,
   "id": "401eb201",
   "metadata": {},
   "outputs": [
    {
     "name": "stdout",
     "output_type": "stream",
     "text": [
      "[3, 1, 4, 1, 5, 9, 2, 6, 5]\n",
      "[1, 1, 2, 3, 4, 5, 5, 6, 9]\n",
      "[9, 6, 5, 5, 4, 3, 2, 1, 1]\n"
     ]
    }
   ],
   "source": [
    "numbers = [3, 1, 4, 1, 5, 9, 2, 6, 5]\n",
    "\n",
    "sorted_ascending=sorted(numbers)\n",
    "sorted_descending = sorted(numbers, reverse=True)\n",
    "\n",
    "print(numbers)\n",
    "print(sorted_ascending)\n",
    "print(sorted_descending)"
   ]
  },
  {
   "cell_type": "markdown",
   "id": "ff5b1e05",
   "metadata": {},
   "source": [
    "## creating set from user input"
   ]
  },
  {
   "cell_type": "markdown",
   "id": "4b2b306e",
   "metadata": {},
   "source": [
    "We can create set from user input in same way as we create list.\n",
    "\n",
    "We can do it in three ways:\n",
    "\n",
    "(1) We will call set() method instead of list()\n",
    "\n",
    "(2) We will place { } instead of [ ]\n",
    "\n",
    "(3) We will create list and convert it into tuple using set() method"
   ]
  },
  {
   "cell_type": "markdown",
   "id": "4e845479",
   "metadata": {},
   "source": [
    "### Remark\n",
    "\n",
    "we can use list() method for creating list and for conversion into list\n",
    "\n",
    "we can use tuple() method for creating tuple and for conversion into tuple\n",
    "\n",
    "we can use set() for creating set"
   ]
  },
  {
   "cell_type": "markdown",
   "id": "c141cedb",
   "metadata": {},
   "source": [
    "# VARIABLE\n",
    "\n",
    "whenever we create multiple variable and in case they have same data, they both will pooint to same address"
   ]
  },
  {
   "cell_type": "code",
   "execution_count": 97,
   "id": "72776cfb",
   "metadata": {},
   "outputs": [
    {
     "name": "stdout",
     "output_type": "stream",
     "text": [
      "1979522640208\n",
      "1979522640240\n",
      "1979522640208\n"
     ]
    }
   ],
   "source": [
    "a=2\n",
    "b=3\n",
    "c=2\n",
    "\n",
    "print(id(a))\n",
    "print(id(b))\n",
    "print(id(c))"
   ]
  },
  {
   "cell_type": "code",
   "execution_count": 98,
   "id": "9ac8aaea",
   "metadata": {},
   "outputs": [
    {
     "name": "stdout",
     "output_type": "stream",
     "text": [
      "1979522640464\n",
      "1979522640432\n",
      "1979522640432\n"
     ]
    }
   ],
   "source": [
    "a=9    # a is reffering to 9\n",
    "b=10   # b is reffering to 10\n",
    "k=a\n",
    "\n",
    "print(id(b))\n",
    "\n",
    "# id of k will be same as a\n",
    "print(id(k))\n",
    "print(id(a))\n",
    "\n",
    "# now,\n",
    "b=8    # no thing is reffering to value 10, so it will collect garbage value"
   ]
  },
  {
   "cell_type": "markdown",
   "id": "c2b8d533",
   "metadata": {},
   "source": [
    "### Note\n",
    "\n",
    "whenever we have a data in memory which will not be used or which is not tagged any variable, it will be garbage collection later."
   ]
  },
  {
   "cell_type": "code",
   "execution_count": 99,
   "id": "03f00f41",
   "metadata": {},
   "outputs": [
    {
     "ename": "SyntaxError",
     "evalue": "cannot assign to literal (3368453715.py, line 1)",
     "output_type": "error",
     "traceback": [
      "\u001b[1;36m  Cell \u001b[1;32mIn[99], line 1\u001b[1;36m\u001b[0m\n\u001b[1;33m    a=2,b=3,c=4 # wrong way to declare multuple variable in one line\u001b[0m\n\u001b[1;37m      ^\u001b[0m\n\u001b[1;31mSyntaxError\u001b[0m\u001b[1;31m:\u001b[0m cannot assign to literal\n"
     ]
    }
   ],
   "source": [
    "a=2,b=3,c=4 # wrong way to declare multuple variable in one line"
   ]
  },
  {
   "cell_type": "code",
   "execution_count": 100,
   "id": "2a0fccdb",
   "metadata": {},
   "outputs": [
    {
     "name": "stdout",
     "output_type": "stream",
     "text": [
      "2 3 4\n",
      "2 3 4\n"
     ]
    }
   ],
   "source": [
    "a=2; b=3; c=4\n",
    "print(a,b,c)\n",
    "\n",
    "a,b,c=2,3,4\n",
    "print(a,b,c)"
   ]
  },
  {
   "cell_type": "code",
   "execution_count": 101,
   "id": "dc6d5efc",
   "metadata": {},
   "outputs": [
    {
     "name": "stdout",
     "output_type": "stream",
     "text": [
      "100.0\n",
      "400000.0\n",
      "0.07\n"
     ]
    }
   ],
   "source": [
    "t1=1e2 # =1*10^2\n",
    "\n",
    "t2=4e5 # =4*10^5\n",
    "\n",
    "t3=7e-2 # =7*10^-2\n",
    "\n",
    "print(t1)\n",
    "print(t2)\n",
    "print(t3)"
   ]
  },
  {
   "cell_type": "markdown",
   "id": "df1de187",
   "metadata": {},
   "source": [
    "# DATATYPES\n",
    "\n",
    "None:- variable that not been assigned with any value. In other language, it is called null\n",
    "\n",
    "numeric:- int, float, complex, bool\n",
    "\n",
    "list\n",
    "\n",
    "tuple\n",
    "\n",
    "set\n",
    "\n",
    "string\n",
    "\n",
    "range\n",
    "\n",
    "dictionary"
   ]
  },
  {
   "cell_type": "code",
   "execution_count": 102,
   "id": "541e9d5e",
   "metadata": {},
   "outputs": [
    {
     "name": "stdout",
     "output_type": "stream",
     "text": [
      "<class 'complex'>\n",
      "(2.8+6j)\n"
     ]
    }
   ],
   "source": [
    "# complex\n",
    "\n",
    "k=6\n",
    "b=2.8\n",
    "\n",
    "c=complex(b,k)\n",
    "\n",
    "print(type(c))\n",
    "print(c)"
   ]
  },
  {
   "cell_type": "code",
   "execution_count": 103,
   "id": "9ccff49d",
   "metadata": {},
   "outputs": [
    {
     "ename": "NameError",
     "evalue": "name 'j' is not defined",
     "output_type": "error",
     "traceback": [
      "\u001b[1;31m---------------------------------------------------------------------------\u001b[0m",
      "\u001b[1;31mNameError\u001b[0m                                 Traceback (most recent call last)",
      "Cell \u001b[1;32mIn[103], line 1\u001b[0m\n\u001b[1;32m----> 1\u001b[0m c\u001b[38;5;241m=\u001b[39m\u001b[38;5;241m3\u001b[39m\u001b[38;5;241m+\u001b[39m\u001b[43mj\u001b[49m\n",
      "\u001b[1;31mNameError\u001b[0m: name 'j' is not defined"
     ]
    }
   ],
   "source": [
    "c=3+j"
   ]
  },
  {
   "cell_type": "code",
   "execution_count": 104,
   "id": "078f736b",
   "metadata": {},
   "outputs": [
    {
     "name": "stdout",
     "output_type": "stream",
     "text": [
      "<class 'complex'>\n"
     ]
    },
    {
     "data": {
      "text/plain": [
       "(3+1j)"
      ]
     },
     "execution_count": 104,
     "metadata": {},
     "output_type": "execute_result"
    }
   ],
   "source": [
    "cp=3+1j\n",
    "\n",
    "print(type(cp))\n",
    "cp"
   ]
  },
  {
   "cell_type": "code",
   "execution_count": 105,
   "id": "d34eb744",
   "metadata": {},
   "outputs": [
    {
     "data": {
      "text/plain": [
       "0"
      ]
     },
     "execution_count": 105,
     "metadata": {},
     "output_type": "execute_result"
    }
   ],
   "source": [
    "int(False)"
   ]
  },
  {
   "cell_type": "code",
   "execution_count": 106,
   "id": "9e8b551e",
   "metadata": {},
   "outputs": [
    {
     "data": {
      "text/plain": [
       "bool"
      ]
     },
     "execution_count": 106,
     "metadata": {},
     "output_type": "execute_result"
    }
   ],
   "source": [
    "bl=True\n",
    "type(bl)"
   ]
  },
  {
   "cell_type": "code",
   "execution_count": 108,
   "id": "9ed7cdb6",
   "metadata": {},
   "outputs": [
    {
     "name": "stdout",
     "output_type": "stream",
     "text": [
      "True\n",
      "True\n",
      "True\n",
      "True\n"
     ]
    }
   ],
   "source": [
    "a=9\n",
    "b=\"python\"\n",
    "c=[1,2]\n",
    "d=9.3\n",
    "\n",
    "\n",
    "print(bool(a))\n",
    "print(bool(b))\n",
    "print(bool(c))\n",
    "print(bool(d))"
   ]
  },
  {
   "cell_type": "code",
   "execution_count": 109,
   "id": "63f98d09",
   "metadata": {},
   "outputs": [
    {
     "name": "stdout",
     "output_type": "stream",
     "text": [
      "False\n",
      "False\n",
      "False\n",
      "True\n",
      "False\n",
      "True\n",
      "True\n"
     ]
    }
   ],
   "source": [
    "a=None\n",
    "b=\"\"\n",
    "c=[]\n",
    "\n",
    "d=1\n",
    "e=0 # 0 is False \n",
    "f=-3\n",
    "g=3\n",
    "\n",
    "# any integer(+ve, -ve) is always true, except 0 which is always false\n",
    "\n",
    "print(bool(a))\n",
    "print(bool(b))\n",
    "print(bool(c))\n",
    "print(bool(d))\n",
    "print(bool(e))\n",
    "print(bool(f))\n",
    "print(bool(g))"
   ]
  },
  {
   "cell_type": "markdown",
   "id": "f2cc7316",
   "metadata": {},
   "source": [
    "**Important Note:** Every empty or None object in Python is `False`. Also 0 is `False` and all non zero integer are `True`."
   ]
  },
  {
   "cell_type": "markdown",
   "id": "0c1e2294",
   "metadata": {},
   "source": [
    "# RANGE\n",
    "\n",
    "used for iteration\n",
    "\n",
    "syntax:- `range(start,end,iteration)`"
   ]
  },
  {
   "cell_type": "code",
   "execution_count": 110,
   "id": "7fb4cbb6",
   "metadata": {},
   "outputs": [
    {
     "data": {
      "text/plain": [
       "range(0, 10)"
      ]
     },
     "execution_count": 110,
     "metadata": {},
     "output_type": "execute_result"
    }
   ],
   "source": [
    "range(10)"
   ]
  },
  {
   "cell_type": "code",
   "execution_count": 111,
   "id": "417eb9db",
   "metadata": {},
   "outputs": [
    {
     "data": {
      "text/plain": [
       "[0, 1, 2, 3, 4, 5, 6, 7, 8, 9]"
      ]
     },
     "execution_count": 111,
     "metadata": {},
     "output_type": "execute_result"
    }
   ],
   "source": [
    "ran=range(10)\n",
    "list(ran)"
   ]
  },
  {
   "cell_type": "code",
   "execution_count": 112,
   "id": "26ce05e1",
   "metadata": {},
   "outputs": [
    {
     "data": {
      "text/plain": [
       "range"
      ]
     },
     "execution_count": 112,
     "metadata": {},
     "output_type": "execute_result"
    }
   ],
   "source": [
    "type(ran)"
   ]
  },
  {
   "cell_type": "code",
   "execution_count": 113,
   "id": "20724f5d",
   "metadata": {},
   "outputs": [
    {
     "data": {
      "text/plain": [
       "[1, 4, 7, 10, 13]"
      ]
     },
     "execution_count": 113,
     "metadata": {},
     "output_type": "execute_result"
    }
   ],
   "source": [
    "list(range(1,15,3))"
   ]
  },
  {
   "cell_type": "code",
   "execution_count": 114,
   "id": "c994da49",
   "metadata": {},
   "outputs": [
    {
     "data": {
      "text/plain": [
       "[15, 14, 13, 12, 11, 10, 9, 8, 7, 6]"
      ]
     },
     "execution_count": 114,
     "metadata": {},
     "output_type": "execute_result"
    }
   ],
   "source": [
    "list(range(15,5,-1))"
   ]
  },
  {
   "cell_type": "code",
   "execution_count": null,
   "id": "7b444782",
   "metadata": {},
   "outputs": [],
   "source": []
  },
  {
   "cell_type": "markdown",
   "id": "9ba77452",
   "metadata": {},
   "source": [
    "# Important concept of memory management"
   ]
  },
  {
   "cell_type": "markdown",
   "id": "9a164d05",
   "metadata": {},
   "source": [
    "## immutables\n",
    "\n",
    "**case 1:**"
   ]
  },
  {
   "cell_type": "code",
   "execution_count": 115,
   "id": "1a62bd93",
   "metadata": {},
   "outputs": [
    {
     "name": "stdout",
     "output_type": "stream",
     "text": [
      "id of a:  1979522640432\n",
      "id of b:  1979522640432\n"
     ]
    }
   ],
   "source": [
    "a=9\n",
    "b=a\n",
    "\n",
    "print(\"id of a: \", id(a))\n",
    "print(\"id of b: \", id(b))"
   ]
  },
  {
   "cell_type": "code",
   "execution_count": 4,
   "id": "8e557215",
   "metadata": {
    "scrolled": true
   },
   "outputs": [
    {
     "name": "stdout",
     "output_type": "stream",
     "text": [
      "id of a:  2505080662576\n",
      "id of b:  2505080662576\n",
      "id of a:  2505080853936\n",
      "id of b:  2505080662576\n",
      "99\n",
      "9\n"
     ]
    }
   ],
   "source": [
    "a=9\n",
    "b=a\n",
    "\n",
    "print(\"id of a: \", id(a))\n",
    "print(\"id of b: \", id(b))\n",
    "\n",
    "a=99 # changing value of a will not reflect in b\n",
    "\n",
    "print(\"id of a: \", id(a)) # id of a is changed now\n",
    "print(\"id of b: \", id(b))\n",
    "\n",
    "print(a) # value change\n",
    "print(b)"
   ]
  },
  {
   "cell_type": "code",
   "execution_count": 117,
   "id": "d50c1298",
   "metadata": {},
   "outputs": [
    {
     "name": "stdout",
     "output_type": "stream",
     "text": [
      "id of a:  1979522640432\n",
      "id of b:  1979522640432\n",
      "id of a:  1979522640432\n",
      "id of b:  1979522831792\n",
      "9\n",
      "99\n"
     ]
    }
   ],
   "source": [
    "a=9\n",
    "b=a\n",
    "\n",
    "print(\"id of a: \", id(a))\n",
    "print(\"id of b: \", id(b))\n",
    "\n",
    "b=99 # changing value of b will not reflect in a\n",
    "\n",
    "print(\"id of a: \", id(a)) \n",
    "print(\"id of b: \", id(b)) # id of a is changed now\n",
    "\n",
    "print(a) \n",
    "print(b) # value change"
   ]
  },
  {
   "cell_type": "markdown",
   "id": "4e63b00b",
   "metadata": {},
   "source": [
    "**case 2:**"
   ]
  },
  {
   "cell_type": "code",
   "execution_count": 118,
   "id": "024c97f5",
   "metadata": {},
   "outputs": [
    {
     "name": "stdout",
     "output_type": "stream",
     "text": [
      "id of a:  1979522640432\n",
      "id of b:  1979522640432\n"
     ]
    }
   ],
   "source": [
    "a=9\n",
    "b=9\n",
    "\n",
    "print(\"id of a: \", id(a))\n",
    "print(\"id of b: \", id(b))"
   ]
  },
  {
   "cell_type": "code",
   "execution_count": 119,
   "id": "cfad090c",
   "metadata": {
    "scrolled": true
   },
   "outputs": [
    {
     "name": "stdout",
     "output_type": "stream",
     "text": [
      "id of a:  1979522640432\n",
      "id of b:  1979522640432\n",
      "id of a:  1979522831792\n",
      "id of b:  1979522640432\n",
      "99\n",
      "9\n"
     ]
    }
   ],
   "source": [
    "a=9\n",
    "b=9\n",
    "\n",
    "print(\"id of a: \", id(a))\n",
    "print(\"id of b: \", id(b))\n",
    "\n",
    "a=99 # changing value of a will not reflect in b\n",
    "\n",
    "print(\"id of a: \", id(a))\n",
    "print(\"id of b: \", id(b))\n",
    "\n",
    "print(a)\n",
    "print(b)"
   ]
  },
  {
   "cell_type": "code",
   "execution_count": 120,
   "id": "7a440cfc",
   "metadata": {},
   "outputs": [
    {
     "name": "stdout",
     "output_type": "stream",
     "text": [
      "id of a:  1979522640432\n",
      "id of b:  1979522640432\n",
      "id of a:  1979522640432\n",
      "id of b:  1979522831792\n",
      "9\n",
      "99\n"
     ]
    }
   ],
   "source": [
    "a=9\n",
    "b=9\n",
    "\n",
    "print(\"id of a: \", id(a))\n",
    "print(\"id of b: \", id(b))\n",
    "\n",
    "b=99 # changing value of b will not reflect in a\n",
    "\n",
    "print(\"id of a: \", id(a))\n",
    "print(\"id of b: \", id(b))\n",
    "\n",
    "print(a)\n",
    "print(b)"
   ]
  },
  {
   "cell_type": "markdown",
   "id": "34569f93",
   "metadata": {},
   "source": [
    "### Conclusion:\n",
    "\n",
    "- **In case of immutable object, if we assign one object as value to another object(b=a) then both object gone share same id; even if we assign them same value separately(a=9, b=9) they gone share same id. But the moment we reassign them new value(in both case) to one of object then that object will get new id but value change will not reflect in other object.**"
   ]
  },
  {
   "cell_type": "markdown",
   "id": "3db6f522",
   "metadata": {},
   "source": [
    "## mutables\n",
    "\n",
    "**case 1:**"
   ]
  },
  {
   "cell_type": "code",
   "execution_count": 121,
   "id": "8ca5e496",
   "metadata": {},
   "outputs": [
    {
     "name": "stdout",
     "output_type": "stream",
     "text": [
      "id of a:  1979642841984\n",
      "id of b:  1979642841984\n"
     ]
    }
   ],
   "source": [
    "a=[1,2,3]\n",
    "b=a\n",
    "\n",
    "print(\"id of a: \", id(a))\n",
    "print(\"id of b: \", id(b))"
   ]
  },
  {
   "cell_type": "code",
   "execution_count": 122,
   "id": "0be1a41c",
   "metadata": {},
   "outputs": [
    {
     "name": "stdout",
     "output_type": "stream",
     "text": [
      "id of a:  1979643539520\n",
      "id of b:  1979643539520\n",
      "id of a:  1979643539520\n",
      "id of b:  1979643539520\n",
      "[99, 2, 3]\n",
      "[99, 2, 3]\n"
     ]
    }
   ],
   "source": [
    "a=[1,2,3]\n",
    "b=a\n",
    "\n",
    "print(\"id of a: \", id(a))\n",
    "print(\"id of b: \", id(b))\n",
    "\n",
    "a[0]=99 # changing in a will reflect in b\n",
    "\n",
    "print(\"id of a: \", id(a))\n",
    "print(\"id of b: \", id(b))\n",
    "\n",
    "print(a)\n",
    "print(b)"
   ]
  },
  {
   "cell_type": "code",
   "execution_count": 123,
   "id": "6c315d44",
   "metadata": {},
   "outputs": [
    {
     "name": "stdout",
     "output_type": "stream",
     "text": [
      "id of a:  1979642754560\n",
      "id of b:  1979642754560\n",
      "id of a:  1979642754560\n",
      "id of b:  1979642754560\n",
      "[1, 77, 3]\n",
      "[1, 77, 3]\n"
     ]
    }
   ],
   "source": [
    "a=[1,2,3]\n",
    "b=a\n",
    "\n",
    "print(\"id of a: \", id(a))\n",
    "print(\"id of b: \", id(b))\n",
    "\n",
    "b[1]=77 # changing in b will reflect in b\n",
    "\n",
    "print(\"id of a: \", id(a))\n",
    "print(\"id of b: \", id(b))\n",
    "\n",
    "print(a)\n",
    "print(b)"
   ]
  },
  {
   "cell_type": "code",
   "execution_count": 124,
   "id": "9c1b896e",
   "metadata": {},
   "outputs": [
    {
     "name": "stdout",
     "output_type": "stream",
     "text": [
      "id of a:  1979642812864\n",
      "id of b:  1979642812864\n",
      "id of a:  1979642841984\n",
      "id of b:  1979642812864\n",
      "[3, 4, 5]\n",
      "[1, 2, 3]\n"
     ]
    }
   ],
   "source": [
    "a=[1,2,3]\n",
    "b=a\n",
    "\n",
    "print(\"id of a: \", id(a))\n",
    "print(\"id of b: \", id(b))\n",
    "\n",
    "a=[3,4,5] # reassigning a\n",
    "\n",
    "print(\"id of a: \", id(a))\n",
    "print(\"id of b: \", id(b))\n",
    "\n",
    "print(a)\n",
    "print(b)"
   ]
  },
  {
   "cell_type": "code",
   "execution_count": 125,
   "id": "adefbcfd",
   "metadata": {},
   "outputs": [
    {
     "name": "stdout",
     "output_type": "stream",
     "text": [
      "id of a:  1979642811648\n",
      "id of b:  1979642811648\n",
      "id of a:  1979642811648\n",
      "id of b:  1979642813504\n",
      "[1, 2, 3]\n",
      "[3, 4, 5]\n"
     ]
    }
   ],
   "source": [
    "a=[1,2,3]\n",
    "b=a\n",
    "\n",
    "print(\"id of a: \", id(a))\n",
    "print(\"id of b: \", id(b))\n",
    "\n",
    "b=[3,4,5] # reassigning b\n",
    "\n",
    "print(\"id of a: \", id(a))\n",
    "print(\"id of b: \", id(b))\n",
    "\n",
    "print(a)\n",
    "print(b)"
   ]
  },
  {
   "cell_type": "markdown",
   "id": "8008c82d",
   "metadata": {},
   "source": [
    "**case 2:**"
   ]
  },
  {
   "cell_type": "code",
   "execution_count": 126,
   "id": "91bf7d28",
   "metadata": {},
   "outputs": [
    {
     "name": "stdout",
     "output_type": "stream",
     "text": [
      "id of a:  1979643136704\n",
      "id of b:  1979642664640\n"
     ]
    }
   ],
   "source": [
    "a=[1,2,3]\n",
    "b=[1,2,3]\n",
    "\n",
    "print(\"id of a: \", id(a))\n",
    "print(\"id of b: \", id(b))"
   ]
  },
  {
   "cell_type": "code",
   "execution_count": 127,
   "id": "1a8cff86",
   "metadata": {},
   "outputs": [
    {
     "name": "stdout",
     "output_type": "stream",
     "text": [
      "id of a:  1979642812864\n",
      "id of b:  1979643409216\n",
      "id of a:  1979642812864\n",
      "id of b:  1979643409216\n",
      "[99, 2, 3]\n",
      "[1, 2, 3]\n"
     ]
    }
   ],
   "source": [
    "a=[1,2,3]\n",
    "b=[1,2,3]\n",
    "\n",
    "print(\"id of a: \", id(a))\n",
    "print(\"id of b: \", id(b))\n",
    "\n",
    "a[0]=99 # changing in a will not reflect in b\n",
    "\n",
    "print(\"id of a: \", id(a))\n",
    "print(\"id of b: \", id(b))\n",
    "\n",
    "print(a)\n",
    "print(b)"
   ]
  },
  {
   "cell_type": "code",
   "execution_count": 128,
   "id": "d830104f",
   "metadata": {},
   "outputs": [
    {
     "name": "stdout",
     "output_type": "stream",
     "text": [
      "id of a:  1979643136704\n",
      "id of b:  1979643353920\n",
      "id of a:  1979643136704\n",
      "id of b:  1979643353920\n",
      "[1, 2, 3]\n",
      "[99, 2, 3]\n"
     ]
    }
   ],
   "source": [
    "a=[1,2,3]\n",
    "b=[1,2,3]\n",
    "\n",
    "print(\"id of a: \", id(a))\n",
    "print(\"id of b: \", id(b))\n",
    "\n",
    "b[0]=99 # changing in b will not reflect in a\n",
    "\n",
    "print(\"id of a: \", id(a))\n",
    "print(\"id of b: \", id(b))\n",
    "\n",
    "print(a)\n",
    "print(b)"
   ]
  },
  {
   "cell_type": "code",
   "execution_count": 129,
   "id": "84771466",
   "metadata": {},
   "outputs": [
    {
     "name": "stdout",
     "output_type": "stream",
     "text": [
      "id of a:  1979642744896\n",
      "id of b:  1979642754560\n",
      "id of a:  1979643136704\n",
      "id of b:  1979642754560\n",
      "[7, 8, 9]\n",
      "[1, 2, 3]\n"
     ]
    }
   ],
   "source": [
    "a=[1,2,3]\n",
    "b=[1,2,3]\n",
    "\n",
    "print(\"id of a: \", id(a))\n",
    "print(\"id of b: \", id(b))\n",
    "\n",
    "a=[7,8,9]\n",
    "\n",
    "print(\"id of a: \", id(a))\n",
    "print(\"id of b: \", id(b))\n",
    "\n",
    "print(a)\n",
    "print(b)"
   ]
  },
  {
   "cell_type": "code",
   "execution_count": 130,
   "id": "2b25b995",
   "metadata": {},
   "outputs": [
    {
     "name": "stdout",
     "output_type": "stream",
     "text": [
      "id of a:  1979642684864\n",
      "id of b:  1979642744896\n",
      "id of a:  1979642684864\n",
      "id of b:  1979643354944\n",
      "[1, 2, 3]\n",
      "[7, 8, 9]\n"
     ]
    }
   ],
   "source": [
    "a=[1,2,3]\n",
    "b=[1,2,3]\n",
    "\n",
    "print(\"id of a: \", id(a))\n",
    "print(\"id of b: \", id(b))\n",
    "\n",
    "b=[7,8,9]\n",
    "\n",
    "print(\"id of a: \", id(a))\n",
    "print(\"id of b: \", id(b))\n",
    "\n",
    "print(a)\n",
    "print(b)"
   ]
  },
  {
   "cell_type": "markdown",
   "id": "627f0b40",
   "metadata": {},
   "source": [
    "### Conclusion:\n",
    "\n",
    "- **In case of mutable object, if we assign one object as value to another object(a=[1,2,3], b=a) then both object gone share same id and also changes made in one object will reflect in other object as well. But if we assign them same value separately(a=[1,2,3], b=[1,2,3]) then both object gone share different id and also but changes made in one object will not reflect in other object. \n",
    "The moment we reassign then new value(in both cases) to one of object then that object will get new id but value change will not reflect in other object.**"
   ]
  },
  {
   "cell_type": "code",
   "execution_count": 8,
   "id": "26ff46b2-80e6-4e2c-b0a7-164ced860632",
   "metadata": {},
   "outputs": [
    {
     "name": "stdout",
     "output_type": "stream",
     "text": [
      "2505080662576\n",
      "2505080662576\n",
      "2505156157296\n",
      "2505172107456\n"
     ]
    }
   ],
   "source": [
    "# immutable:\n",
    "a=9\n",
    "print(id(a))\n",
    "\n",
    "a=9 # reassign same value\n",
    "print(id(a))\n",
    "\n",
    "a=1.2  # reassign other value\n",
    "print(id(a))\n",
    "\n",
    "a=[5,6,7]  # reassign other value\n",
    "print(id(a))"
   ]
  },
  {
   "cell_type": "code",
   "execution_count": 9,
   "id": "c841965f-6f6d-4fd9-80ef-f20469675c02",
   "metadata": {},
   "outputs": [
    {
     "name": "stdout",
     "output_type": "stream",
     "text": [
      "2505174075776\n",
      "2505169227904\n",
      "2505174028224\n",
      "2505080662576\n"
     ]
    }
   ],
   "source": [
    "# mutable:\n",
    "a=[1,2,3]\n",
    "print(id(a))\n",
    "\n",
    "a=[1,2,3] # reassign same value\n",
    "print(id(a))\n",
    "\n",
    "a=[1,2,3,5,6]  # reassign other value\n",
    "print(id(a))\n",
    "\n",
    "a=9  # reassign other value\n",
    "print(id(a))"
   ]
  },
  {
   "cell_type": "markdown",
   "id": "faa95b86",
   "metadata": {},
   "source": [
    "**Important Note:** Reassigning any value (mutable or immutable) to an object will create a new memory allocation but reassigning same mutable value to an object will create new memory allocation in memory, while reassigning same immutable value will refer to same memory location."
   ]
  },
  {
   "cell_type": "markdown",
   "id": "836072d3",
   "metadata": {},
   "source": [
    "# DICTIONARY (Mapping)\n",
    "\n",
    "it is a key value pair **`{key:value}`** where key can be of any datatype and value can be of any datatype\n",
    "\n",
    "dictionary items are **ordered**, **mutable**, **changeable** and **does not allow duplicates**."
   ]
  },
  {
   "cell_type": "code",
   "execution_count": 131,
   "id": "7af489f0",
   "metadata": {},
   "outputs": [
    {
     "name": "stdout",
     "output_type": "stream",
     "text": [
      "<class 'dict'>\n",
      "{101: 'book', 201: 'pen', 301: 'notebook'}\n"
     ]
    }
   ],
   "source": [
    "d={101:'book',201:'pen',301:'notebook'}\n",
    "\n",
    "print(type(d))\n",
    "print(d)"
   ]
  },
  {
   "cell_type": "code",
   "execution_count": 132,
   "id": "9ce1dea9",
   "metadata": {},
   "outputs": [
    {
     "data": {
      "text/plain": [
       "dict_keys([101, 201, 301])"
      ]
     },
     "execution_count": 132,
     "metadata": {},
     "output_type": "execute_result"
    }
   ],
   "source": [
    "# keys() returns all keys of dictionary\n",
    "\n",
    "d.keys()"
   ]
  },
  {
   "cell_type": "code",
   "execution_count": 133,
   "id": "92678612",
   "metadata": {},
   "outputs": [
    {
     "data": {
      "text/plain": [
       "dict_values(['book', 'pen', 'notebook'])"
      ]
     },
     "execution_count": 133,
     "metadata": {},
     "output_type": "execute_result"
    }
   ],
   "source": [
    "# values() return all values of dictionary\n",
    "\n",
    "d.values() "
   ]
  },
  {
   "cell_type": "code",
   "execution_count": 134,
   "id": "25225a1e",
   "metadata": {},
   "outputs": [
    {
     "data": {
      "text/plain": [
       "'notebook'"
      ]
     },
     "execution_count": 134,
     "metadata": {},
     "output_type": "execute_result"
    }
   ],
   "source": [
    "d[301] # we can access values by passing key in square brackets\n",
    "\n",
    "# another way to access value of a key\n",
    "\n",
    "# get(key) return values of passed key\n",
    "\n",
    "d.get(301)"
   ]
  },
  {
   "cell_type": "code",
   "execution_count": 135,
   "id": "f0c664bd",
   "metadata": {},
   "outputs": [
    {
     "name": "stdout",
     "output_type": "stream",
     "text": [
      "<class 'dict'>\n"
     ]
    },
    {
     "data": {
      "text/plain": [
       "{}"
      ]
     },
     "execution_count": 135,
     "metadata": {},
     "output_type": "execute_result"
    }
   ],
   "source": [
    "emptyDictionary={} # empty dictionary declaration\n",
    "\n",
    "print(type(emptyDictionary))\n",
    "\n",
    "emptyDictionary"
   ]
  },
  {
   "cell_type": "code",
   "execution_count": 136,
   "id": "f996733f",
   "metadata": {},
   "outputs": [
    {
     "data": {
      "text/plain": [
       "{99: 'grocery', 'home': 'apple', 22: 44}"
      ]
     },
     "execution_count": 136,
     "metadata": {},
     "output_type": "execute_result"
    }
   ],
   "source": [
    "d2={99:\"grocery\",\"home\":\"apple\",22:44} # key,value can be of different datatype\n",
    "d2"
   ]
  },
  {
   "cell_type": "code",
   "execution_count": 137,
   "id": "a4e2d0bc",
   "metadata": {},
   "outputs": [
    {
     "data": {
      "text/plain": [
       "3"
      ]
     },
     "execution_count": 137,
     "metadata": {},
     "output_type": "execute_result"
    }
   ],
   "source": [
    "# return length of any item passed inside it\n",
    "\n",
    "len(d2) "
   ]
  },
  {
   "cell_type": "code",
   "execution_count": 138,
   "id": "9624f5b4",
   "metadata": {},
   "outputs": [
    {
     "data": {
      "text/plain": [
       "dict_items([(99, 'grocery'), ('home', 'apple'), (22, 44)])"
      ]
     },
     "execution_count": 138,
     "metadata": {},
     "output_type": "execute_result"
    }
   ],
   "source": [
    "# items() return each item in a dictionary as tuples in list\n",
    "\n",
    "d2.items()"
   ]
  },
  {
   "cell_type": "code",
   "execution_count": 139,
   "id": "844e269a",
   "metadata": {},
   "outputs": [
    {
     "data": {
      "text/plain": [
       "{99: 'grocery', 'home': 'apple', 22: 44, 'year': 2022}"
      ]
     },
     "execution_count": 139,
     "metadata": {},
     "output_type": "execute_result"
    }
   ],
   "source": [
    "# update() update dictionary with items from given arguments\n",
    "# if item does not exist, item will be added\n",
    "\n",
    "d2.update({\"year\":2022}) \n",
    "d2"
   ]
  },
  {
   "cell_type": "code",
   "execution_count": 140,
   "id": "1f0f6be7",
   "metadata": {},
   "outputs": [
    {
     "data": {
      "text/plain": [
       "{99: 'grocery', 'home': 'apple', 22: 44, 'year': 2023}"
      ]
     },
     "execution_count": 140,
     "metadata": {},
     "output_type": "execute_result"
    }
   ],
   "source": [
    "# update() update dictionary with items from given arguments\n",
    "# if item does not exist, item will be added\n",
    "\n",
    "d2.update({\"year\":2023}) \n",
    "d2"
   ]
  },
  {
   "cell_type": "code",
   "execution_count": 141,
   "id": "e38e0fc9",
   "metadata": {},
   "outputs": [
    {
     "data": {
      "text/plain": [
       "{'home': 'apple', 22: 44, 'year': 2023}"
      ]
     },
     "execution_count": 141,
     "metadata": {},
     "output_type": "execute_result"
    }
   ],
   "source": [
    "# pop(key) removes item with specified key\n",
    "\n",
    "d2.pop(99)\n",
    "d2"
   ]
  },
  {
   "cell_type": "code",
   "execution_count": 142,
   "id": "0ae0bdbb",
   "metadata": {},
   "outputs": [
    {
     "data": {
      "text/plain": [
       "{'home': 'apple', 22: 44}"
      ]
     },
     "execution_count": 142,
     "metadata": {},
     "output_type": "execute_result"
    }
   ],
   "source": [
    "# popitem() removes last inserted item\n",
    "\n",
    "d2.popitem()\n",
    "d2"
   ]
  },
  {
   "cell_type": "code",
   "execution_count": 143,
   "id": "141b2335",
   "metadata": {},
   "outputs": [
    {
     "data": {
      "text/plain": [
       "'red'"
      ]
     },
     "execution_count": 143,
     "metadata": {},
     "output_type": "execute_result"
    }
   ],
   "source": [
    "# setdefault(key,value) returns value of item with specified key\n",
    "# if key does not exist, insert key with specified  value\n",
    "# where value is optional parameter\n",
    "\n",
    "d2.setdefault('color','red') # when key not exist"
   ]
  },
  {
   "cell_type": "code",
   "execution_count": 144,
   "id": "2a62cc38",
   "metadata": {},
   "outputs": [
    {
     "data": {
      "text/plain": [
       "{'home': 'apple', 22: 44, 'color': 'red'}"
      ]
     },
     "execution_count": 144,
     "metadata": {},
     "output_type": "execute_result"
    }
   ],
   "source": [
    "d2"
   ]
  },
  {
   "cell_type": "code",
   "execution_count": 145,
   "id": "8cecabe8",
   "metadata": {},
   "outputs": [
    {
     "data": {
      "text/plain": [
       "'apple'"
      ]
     },
     "execution_count": 145,
     "metadata": {},
     "output_type": "execute_result"
    }
   ],
   "source": [
    "# setdefault(key,value) returns value of item with specified key\n",
    "# if key does not exist, insert key with specified  value\n",
    "# where value is optional parameter\n",
    "\n",
    "d2.setdefault('home') # when key exist"
   ]
  },
  {
   "cell_type": "code",
   "execution_count": 146,
   "id": "482f38b6",
   "metadata": {},
   "outputs": [
    {
     "data": {
      "text/plain": [
       "{'home': 'apple', 22: 44, 'color': 'red'}"
      ]
     },
     "execution_count": 146,
     "metadata": {},
     "output_type": "execute_result"
    }
   ],
   "source": [
    "d2"
   ]
  },
  {
   "cell_type": "markdown",
   "id": "3419ee55",
   "metadata": {},
   "source": [
    "The **setdefault()** method in Python is a dictionary method that allows you to retrieve the value of a specified key from a dictionary. If the key is present in the dictionary, it returns the corresponding value. However, if the key is not present, it inserts the key-value pair into the dictionary with a default value and returns that default value.\n",
    "\n",
    "syntax: `dictionary.setdefault(key, default_value)`"
   ]
  },
  {
   "cell_type": "code",
   "execution_count": 147,
   "id": "60b2a3c8",
   "metadata": {},
   "outputs": [
    {
     "name": "stdout",
     "output_type": "stream",
     "text": [
      "3\n",
      "0\n",
      "{'apple': 3, 'banana': 5, 'orange': 0}\n"
     ]
    }
   ],
   "source": [
    "fruits = {\"apple\": 3, \"banana\": 5}\n",
    "\n",
    "# Retrieving the value of an existing key\n",
    "apple_count = fruits.setdefault(\"apple\", 0)\n",
    "print(apple_count)  # Output: 3\n",
    "\n",
    "# Retrieving the value of a non-existing key\n",
    "orange_count = fruits.setdefault(\"orange\", 0)\n",
    "print(orange_count)  # Output: 0\n",
    "\n",
    "print(fruits)  # Output: {'apple': 3, 'banana': 5, 'orange': 0}"
   ]
  },
  {
   "cell_type": "code",
   "execution_count": 148,
   "id": "13604f13",
   "metadata": {},
   "outputs": [
    {
     "name": "stdout",
     "output_type": "stream",
     "text": [
      "{'home': 'apple', 22: 44, 'color': 'red'}\n",
      "1979642843840\n",
      "1979642862720\n",
      "{'home': 'apple', 22: 44, 'color': 'red'}\n",
      "1979642843840\n",
      "1979642843840\n"
     ]
    }
   ],
   "source": [
    "# copy() create a copy \n",
    "\n",
    "d3=d2.copy()  # different id, create shallow copy\n",
    "print(d3)\n",
    "print(id(d3))\n",
    "print(id(d2))\n",
    "\n",
    "# we can also create copy by:-\n",
    "d2=d3  # same id\n",
    "print(d3)\n",
    "print(id(d3))\n",
    "print(id(d2))"
   ]
  },
  {
   "cell_type": "code",
   "execution_count": 149,
   "id": "aebbc7e2",
   "metadata": {},
   "outputs": [
    {
     "data": {
      "text/plain": [
       "{'home': 'apple', 'color': 'red'}"
      ]
     },
     "execution_count": 149,
     "metadata": {},
     "output_type": "execute_result"
    }
   ],
   "source": [
    "del d2[22]\n",
    "d2"
   ]
  },
  {
   "cell_type": "code",
   "execution_count": 150,
   "id": "3fb3625f",
   "metadata": {},
   "outputs": [
    {
     "data": {
      "text/plain": [
       "{}"
      ]
     },
     "execution_count": 150,
     "metadata": {},
     "output_type": "execute_result"
    }
   ],
   "source": [
    "# clear() method empties dictionary\n",
    "\n",
    "d2.clear()\n",
    "d2"
   ]
  },
  {
   "cell_type": "code",
   "execution_count": 151,
   "id": "b6747fe9",
   "metadata": {},
   "outputs": [
    {
     "ename": "KeyError",
     "evalue": "22",
     "output_type": "error",
     "traceback": [
      "\u001b[1;31m---------------------------------------------------------------------------\u001b[0m",
      "\u001b[1;31mKeyError\u001b[0m                                  Traceback (most recent call last)",
      "Cell \u001b[1;32mIn[151], line 1\u001b[0m\n\u001b[1;32m----> 1\u001b[0m \u001b[43md2\u001b[49m\u001b[43m[\u001b[49m\u001b[38;5;241;43m22\u001b[39;49m\u001b[43m]\u001b[49m\n",
      "\u001b[1;31mKeyError\u001b[0m: 22"
     ]
    }
   ],
   "source": [
    "d2[22]"
   ]
  },
  {
   "cell_type": "markdown",
   "id": "3b53482a",
   "metadata": {},
   "source": [
    "The two dictionaries `d1` and `d2` have the same keys and the same values for those keys, so they are considered equal. **The order of the keys in the dictionaries does not matter for comparison.**"
   ]
  },
  {
   "cell_type": "code",
   "execution_count": 152,
   "id": "a14a1fe4",
   "metadata": {},
   "outputs": [
    {
     "name": "stdout",
     "output_type": "stream",
     "text": [
      "{1: 'Python', 2: 'Java', 3: 'Ruby', 4: 'Scala'}\n",
      "{}\n",
      "Python\n",
      "dict_items([(1, 'Python'), (2, 'Java'), (3, 'Ruby'), (4, 'Scala')])\n",
      "dict_keys([1, 2, 3, 4])\n",
      "{1: 'Python', 2: 'Java', 3: 'Ruby'}\n",
      "{1: 'Python', 2: 'Java'}\n",
      "{1: 'Python', 2: 'Java', 3: 'Scala'}\n",
      "dict_values(['Python', 'Java', 'Scala'])\n"
     ]
    }
   ],
   "source": [
    "# demo for all dictionary methods\n",
    "\n",
    "dict1 = {1: \"Python\", 2: \"Java\", 3: \"Ruby\", 4: \"Scala\"}\n",
    "\n",
    "# copy() method\n",
    "dict2 = dict1.copy()\n",
    "print(dict2)\n",
    "\n",
    "# clear() method\n",
    "dict1.clear()\n",
    "print(dict1)\n",
    "\n",
    "# get() method\n",
    "print(dict2.get(1))\n",
    "\n",
    "# items() method\n",
    "print(dict2.items())\n",
    "\n",
    "# keys() method\n",
    "print(dict2.keys())\n",
    "\n",
    "# pop() method\n",
    "dict2.pop(4)\n",
    "print(dict2)\n",
    "\n",
    "# popitem() method\n",
    "dict2.popitem()\n",
    "print(dict2)\n",
    "\n",
    "# update() method\n",
    "dict2.update({3: \"Scala\"})\n",
    "print(dict2)\n",
    "\n",
    "# values() method\n",
    "print(dict2.values())\n"
   ]
  },
  {
   "cell_type": "code",
   "execution_count": 153,
   "id": "efec2b41",
   "metadata": {},
   "outputs": [
    {
     "name": "stdout",
     "output_type": "stream",
     "text": [
      "{'name': 'ram', 'roll': 4}\n",
      "{'name': 'ram', 'roll': 4}\n"
     ]
    }
   ],
   "source": [
    "# dict() can be used to create dictionary as well\n",
    "\n",
    "di=dict(name=\"ram\", roll=4) # here cannot use \"\" or '' to define key\n",
    "print(di)\n",
    "\n",
    "# we can also use dict() for creating copy of dictionary\n",
    "diCopy=dict(di)\n",
    "print(diCopy)"
   ]
  },
  {
   "cell_type": "code",
   "execution_count": 154,
   "id": "150b315a",
   "metadata": {},
   "outputs": [
    {
     "ename": "SyntaxError",
     "evalue": "expression cannot contain assignment, perhaps you meant \"==\"? (3045383968.py, line 1)",
     "output_type": "error",
     "traceback": [
      "\u001b[1;36m  Cell \u001b[1;32mIn[154], line 1\u001b[1;36m\u001b[0m\n\u001b[1;33m    di=dict('name'=\"ram\", 'roll'=4) # here cannot use \"\" or '' to define key. hence ERROR\u001b[0m\n\u001b[1;37m            ^\u001b[0m\n\u001b[1;31mSyntaxError\u001b[0m\u001b[1;31m:\u001b[0m expression cannot contain assignment, perhaps you meant \"==\"?\n"
     ]
    }
   ],
   "source": [
    "di=dict('name'=\"ram\", 'roll'=4) # here cannot use \"\" or '' to define key. hence ERROR\n",
    "print(di)"
   ]
  },
  {
   "cell_type": "markdown",
   "id": "12e63528",
   "metadata": {},
   "source": [
    "**dict()**"
   ]
  },
  {
   "cell_type": "code",
   "execution_count": 155,
   "id": "a7a0b1ec",
   "metadata": {},
   "outputs": [
    {
     "data": {
      "text/plain": [
       "{}"
      ]
     },
     "execution_count": 155,
     "metadata": {},
     "output_type": "execute_result"
    }
   ],
   "source": [
    "# Creating an empty dictionary\n",
    "my_dict = dict()\n",
    "my_dict"
   ]
  },
  {
   "cell_type": "code",
   "execution_count": 156,
   "id": "7b46b196",
   "metadata": {},
   "outputs": [
    {
     "data": {
      "text/plain": [
       "{'name': 'John', 'age': 30, 'city': 'New York'}"
      ]
     },
     "execution_count": 156,
     "metadata": {},
     "output_type": "execute_result"
    }
   ],
   "source": [
    "# Creating a dictionary with values\n",
    "\n",
    "my_dict = dict(name='John', age=30, city='New York')\n",
    "my_dict\n",
    "\n",
    "# here we cannot do this:\n",
    "# my_dict=dict(1=22) ERROR"
   ]
  },
  {
   "cell_type": "code",
   "execution_count": 157,
   "id": "db8da345",
   "metadata": {},
   "outputs": [
    {
     "data": {
      "text/plain": [
       "{'name': 'John', 'age': 30, 'city': 'New York'}"
      ]
     },
     "execution_count": 157,
     "metadata": {},
     "output_type": "execute_result"
    }
   ],
   "source": [
    "# Creating a dictionary from an iterable of key-value pairs:\n",
    "\n",
    "my_dict = dict([('name', 'John'), ('age', 30), ('city', 'New York')]) # tuple\n",
    "my_dict"
   ]
  },
  {
   "cell_type": "code",
   "execution_count": 158,
   "id": "fb4aa077",
   "metadata": {},
   "outputs": [
    {
     "data": {
      "text/plain": [
       "{'name': 'John', 'age': 30, 'city': 'New York'}"
      ]
     },
     "execution_count": 158,
     "metadata": {},
     "output_type": "execute_result"
    }
   ],
   "source": [
    "# Creating a dictionary from an iterable of key-value pairs:\n",
    "\n",
    "my_dict = dict([['name', 'John'], ['age', 30], ['city', 'New York']]) # list\n",
    "my_dict"
   ]
  },
  {
   "cell_type": "code",
   "execution_count": 159,
   "id": "ef60c15c",
   "metadata": {},
   "outputs": [
    {
     "data": {
      "text/plain": [
       "{'name': 'John', 'age': 30, 'city': 'New York'}"
      ]
     },
     "execution_count": 159,
     "metadata": {},
     "output_type": "execute_result"
    }
   ],
   "source": [
    "# Creating a dictionary from two lists:\n",
    "\n",
    "keys = ['name', 'age', 'city']\n",
    "values = ['John', 30, 'New York']\n",
    "\n",
    "my_dict = dict(zip(keys, values))\n",
    "my_dict"
   ]
  },
  {
   "cell_type": "code",
   "execution_count": 160,
   "id": "59c289eb",
   "metadata": {},
   "outputs": [
    {
     "name": "stdout",
     "output_type": "stream",
     "text": [
      "{'key1': 0, 'key2': 0, 'key3': 0}\n"
     ]
    }
   ],
   "source": [
    "# fromkeys() method returns a dictionary with the specified keys and the specified value.\n",
    "# Syntax: dict.fromkeys(keys, value)\n",
    "\n",
    "# keys\tRequired. An iterable specifying the keys of the new dictionary\n",
    "# value\tOptional. The value for all keys. Default value is None\n",
    "\n",
    "x = ('key1', 'key2', 'key3')\n",
    "y = 0\n",
    "\n",
    "thisdict = dict.fromkeys(x, y)\n",
    "\n",
    "print(thisdict)"
   ]
  },
  {
   "cell_type": "code",
   "execution_count": 161,
   "id": "af10868b",
   "metadata": {},
   "outputs": [
    {
     "name": "stdout",
     "output_type": "stream",
     "text": [
      "{'key1': None, 'key2': None, 'key3': None}\n"
     ]
    }
   ],
   "source": [
    "# fromkeys() method returns a dictionary with the specified keys and the specified value.\n",
    "# Syntax: dict.fromkeys(keys, value)\n",
    "\n",
    "# keys\tRequired. An iterable specifying the keys of the new dictionary\n",
    "# value\tOptional. The value for all keys. Default value is None\n",
    "\n",
    "x = ('key1', 'key2', 'key3')\n",
    "\n",
    "thisdict = dict.fromkeys(x)\n",
    "\n",
    "print(thisdict)"
   ]
  },
  {
   "cell_type": "code",
   "execution_count": 162,
   "id": "df7c5d48",
   "metadata": {},
   "outputs": [
    {
     "name": "stdout",
     "output_type": "stream",
     "text": [
      "['a', 'b', 'c']\n",
      "['a', 'c', 'b']\n"
     ]
    }
   ],
   "source": [
    "# removing duplicates from list:\n",
    "\n",
    "mylist = [\"a\", \"b\", \"a\", \"c\", \"c\"]\n",
    "\n",
    "# method 1\n",
    "mylist = list(dict.fromkeys(mylist))\n",
    "print(mylist)\n",
    "\n",
    "# method2\n",
    "mylist = list(set(mylist))\n",
    "print(mylist) # order will change"
   ]
  },
  {
   "cell_type": "markdown",
   "id": "0c219480",
   "metadata": {},
   "source": [
    "**can create a dictionary in Python that maps keys to more than one value**"
   ]
  },
  {
   "cell_type": "code",
   "execution_count": 163,
   "id": "d1b278da",
   "metadata": {},
   "outputs": [
    {
     "name": "stdout",
     "output_type": "stream",
     "text": [
      "1\n",
      "6\n",
      "8\n"
     ]
    }
   ],
   "source": [
    "my_dict = {\n",
    "    'key1': [1, 2, 3],\n",
    "    'key2': [4, 5, 6],\n",
    "    'key3': [7, 8, 9]\n",
    "}\n",
    "\n",
    "print(my_dict['key1'][0])   # prints 1\n",
    "print(my_dict['key2'][2])   # prints 6\n",
    "print(my_dict['key3'][1])   # prints 8"
   ]
  },
  {
   "attachments": {
    "image.png": {
     "image/png": "[encoded data removed]"
    }
   },
   "cell_type": "markdown",
   "id": "d6228dcd",
   "metadata": {},
   "source": [
    "![image.png](attachment:image.png)"
   ]
  },
  {
   "cell_type": "markdown",
   "id": "54ab8399-bfdd-4fe1-b160-acb62b851c0b",
   "metadata": {},
   "source": [
    "## Loop throgh dictionary\n",
    "\n",
    "By default, looping through a dictionary iterates over its keys."
   ]
  },
  {
   "cell_type": "code",
   "execution_count": 1,
   "id": "41e28590-e0ca-4f0d-9b72-7c21cf0c9764",
   "metadata": {},
   "outputs": [
    {
     "name": "stdout",
     "output_type": "stream",
     "text": [
      "a\n",
      "b\n",
      "c\n"
     ]
    }
   ],
   "source": [
    "my_dict = {'a': 1, 'b': 2, 'c': 3}\n",
    "\n",
    "for key in my_dict:\n",
    "    print(key)"
   ]
  },
  {
   "cell_type": "code",
   "execution_count": 2,
   "id": "52ff1d4a-162f-4a68-9fc2-3bdb78d5462d",
   "metadata": {},
   "outputs": [
    {
     "name": "stdout",
     "output_type": "stream",
     "text": [
      "1\n",
      "2\n",
      "3\n"
     ]
    }
   ],
   "source": [
    "for value in my_dict.values():\n",
    "    print(value)\n"
   ]
  },
  {
   "cell_type": "code",
   "execution_count": 3,
   "id": "28c53a2b-a628-429e-be0d-2832f07b13ef",
   "metadata": {},
   "outputs": [
    {
     "name": "stdout",
     "output_type": "stream",
     "text": [
      "Key: a, Value: 1\n",
      "Key: b, Value: 2\n",
      "Key: c, Value: 3\n"
     ]
    }
   ],
   "source": [
    "for key, value in my_dict.items():\n",
    "    print(f\"Key: {key}, Value: {value}\")\n"
   ]
  },
  {
   "cell_type": "code",
   "execution_count": 4,
   "id": "36081757-58b8-481c-aad5-969a4cb64749",
   "metadata": {},
   "outputs": [
    {
     "name": "stdout",
     "output_type": "stream",
     "text": [
      "Index: 0, Key: a, Value: 1\n",
      "Index: 1, Key: b, Value: 2\n",
      "Index: 2, Key: c, Value: 3\n"
     ]
    }
   ],
   "source": [
    "for index, (key, value) in enumerate(my_dict.items()):\n",
    "    print(f\"Index: {index}, Key: {key}, Value: {value}\")\n"
   ]
  },
  {
   "cell_type": "code",
   "execution_count": 5,
   "id": "9f491ac3-7ba9-407f-860c-7b24414eaa2b",
   "metadata": {},
   "outputs": [
    {
     "name": "stdout",
     "output_type": "stream",
     "text": [
      "{'a': 1, 'b': 4, 'c': 9}\n"
     ]
    }
   ],
   "source": [
    "# f you want to modify values while iterating:\n",
    "squared_values = {key: value ** 2 for key, value in my_dict.items()}\n",
    "print(squared_values)\n"
   ]
  },
  {
   "cell_type": "markdown",
   "id": "e7ce223d",
   "metadata": {},
   "source": [
    "## creating dictionary with user input"
   ]
  },
  {
   "cell_type": "code",
   "execution_count": 164,
   "id": "fd00fffd",
   "metadata": {},
   "outputs": [
    {
     "name": "stdin",
     "output_type": "stream",
     "text": [
      "Enter size:  3\n",
      "Enter key:  fruit\n",
      "Enter value:  4\n",
      "Enter key:  pen\n",
      "Enter value:  66\n",
      "Enter key:  books\n",
      "Enter value:  12\n"
     ]
    },
    {
     "name": "stdout",
     "output_type": "stream",
     "text": [
      "{'fruit': '4', 'pen': '66', 'books': '12'}\n"
     ]
    }
   ],
   "source": [
    "# method 1 (duplicate key not allowed)\n",
    "\n",
    "d3={}\n",
    "n=int(input(\"Enter size: \"))\n",
    "for i in range(n):\n",
    "    key=input(\"Enter key: \")\n",
    "    value=input(\"Enter value: \")\n",
    "    d3[key]=value\n",
    "print(d3)"
   ]
  },
  {
   "cell_type": "code",
   "execution_count": 165,
   "id": "a7dcdb3e",
   "metadata": {},
   "outputs": [
    {
     "name": "stdin",
     "output_type": "stream",
     "text": [
      "Enter size:  3\n",
      "Enter key:  fruit\n",
      "Enter value:  4\n",
      "Enter key:  pen\n",
      "Enter value:  66\n",
      "Enter key:  books\n",
      "Enter value:  12\n"
     ]
    },
    {
     "name": "stdout",
     "output_type": "stream",
     "text": [
      "{'fruit': '4', 'pen': '66', 'books': '12'}\n"
     ]
    }
   ],
   "source": [
    "# method 1 (duplicate key not allowed)\n",
    "\n",
    "d3={}\n",
    "n=int(input(\"Enter size: \"))\n",
    "for i in range(n):\n",
    "    key=input(\"Enter key: \")\n",
    "    value=input(\"Enter value: \")\n",
    "    if key not in d3: # handling duplicate keys explicitly\n",
    "        d3[key]=value\n",
    "print(d3)"
   ]
  },
  {
   "cell_type": "code",
   "execution_count": 166,
   "id": "b31aa0c0",
   "metadata": {
    "scrolled": true
   },
   "outputs": [
    {
     "name": "stdin",
     "output_type": "stream",
     "text": [
      "Enter key and value separated by space:  fruit 4\n"
     ]
    },
    {
     "name": "stdout",
     "output_type": "stream",
     "text": [
      "{'fruit': '4'}\n"
     ]
    }
   ],
   "source": [
    "# method 2\n",
    "\n",
    "string=input(\"Enter key and value separated by space: \")\n",
    "d4=dict(item.split() for item in string.splitlines())\n",
    "print(d4)"
   ]
  },
  {
   "cell_type": "code",
   "execution_count": 167,
   "id": "bb4d6d01",
   "metadata": {},
   "outputs": [
    {
     "name": "stdin",
     "output_type": "stream",
     "text": [
      "Enter size:  3\n",
      "Enter key and value separated by space:  fruit 4\n",
      "Enter key and value separated by space:  pen 66\n",
      "Enter key and value separated by space:  books 12\n"
     ]
    },
    {
     "name": "stdout",
     "output_type": "stream",
     "text": [
      "{'fruit': '4', 'pen': '66', 'books': '12'}\n"
     ]
    }
   ],
   "source": [
    "# method 3\n",
    "\n",
    "n=int(input(\"Enter size: \"))\n",
    "d5=dict(input(\"Enter key and value separated by space: \").split() for i in range(n))\n",
    "print(d5)"
   ]
  },
  {
   "cell_type": "code",
   "execution_count": 168,
   "id": "6aba3829",
   "metadata": {},
   "outputs": [
    {
     "name": "stdout",
     "output_type": "stream",
     "text": [
      "{'fruit': '4', 'pen': '66', 'books': '12'}\n"
     ]
    }
   ],
   "source": [
    "print(d5)"
   ]
  },
  {
   "cell_type": "code",
   "execution_count": 169,
   "id": "b9f67f11",
   "metadata": {},
   "outputs": [
    {
     "name": "stdin",
     "output_type": "stream",
     "text": [
      "Enter number:  123\n"
     ]
    },
    {
     "name": "stdout",
     "output_type": "stream",
     "text": [
      "one two three \n"
     ]
    }
   ],
   "source": [
    "# program to print number in words\n",
    "\n",
    "words={1:\"one\",2:\"two\",3:\"three\",4:\"four\",5:\"five\",6:\"six\",7:\"seven\",8:\"eight\",9:\"nine\",0:\"zero\"}\n",
    "num=input(\"Enter number: \")\n",
    "txt=\"\"\n",
    "for i in num:\n",
    "    txt=txt+words[int(i)]+\" \"\n",
    "print(txt)"
   ]
  },
  {
   "cell_type": "markdown",
   "id": "e93166f5",
   "metadata": {},
   "source": [
    "# Important concept when comparing list, tuple, set, dictionary"
   ]
  },
  {
   "cell_type": "code",
   "execution_count": 170,
   "id": "3e5bada8",
   "metadata": {},
   "outputs": [
    {
     "data": {
      "text/plain": [
       "True"
      ]
     },
     "execution_count": 170,
     "metadata": {},
     "output_type": "execute_result"
    }
   ],
   "source": [
    "d1={'1':'2', '3':'4'}\n",
    "d2={'3':'4', '1':'2'}\n",
    "d1==d2"
   ]
  },
  {
   "cell_type": "markdown",
   "id": "d4586562",
   "metadata": {},
   "source": [
    "The two dictionaries `d1` and `d2` have the same keys and the same values for those keys, so they are considered equal. **The order of the keys in the dictionaries does not matter for comparison.**"
   ]
  },
  {
   "cell_type": "code",
   "execution_count": 171,
   "id": "a421239e",
   "metadata": {},
   "outputs": [
    {
     "data": {
      "text/plain": [
       "False"
      ]
     },
     "execution_count": 171,
     "metadata": {},
     "output_type": "execute_result"
    }
   ],
   "source": [
    "a=[1,2]\n",
    "b=[2,1]\n",
    "a==b"
   ]
  },
  {
   "cell_type": "code",
   "execution_count": 1,
   "id": "b020a35a-40b4-477e-a25d-0642843c81cd",
   "metadata": {},
   "outputs": [
    {
     "data": {
      "text/plain": [
       "True"
      ]
     },
     "execution_count": 1,
     "metadata": {},
     "output_type": "execute_result"
    }
   ],
   "source": [
    "a=[1,2]\n",
    "b=[1,2]\n",
    "a==b"
   ]
  },
  {
   "cell_type": "code",
   "execution_count": 172,
   "id": "747f7c8b",
   "metadata": {},
   "outputs": [
    {
     "data": {
      "text/plain": [
       "False"
      ]
     },
     "execution_count": 172,
     "metadata": {},
     "output_type": "execute_result"
    }
   ],
   "source": [
    "a=(1,2)\n",
    "b=(2,1)\n",
    "a==b"
   ]
  },
  {
   "cell_type": "code",
   "execution_count": 2,
   "id": "e343f725-c9e0-42d9-a1e2-db2d8fb53c6a",
   "metadata": {},
   "outputs": [
    {
     "data": {
      "text/plain": [
       "True"
      ]
     },
     "execution_count": 2,
     "metadata": {},
     "output_type": "execute_result"
    }
   ],
   "source": [
    "a=(1,2)\n",
    "b=(1,2)\n",
    "a==b"
   ]
  },
  {
   "cell_type": "code",
   "execution_count": 173,
   "id": "538cd297",
   "metadata": {},
   "outputs": [
    {
     "data": {
      "text/plain": [
       "True"
      ]
     },
     "execution_count": 173,
     "metadata": {},
     "output_type": "execute_result"
    }
   ],
   "source": [
    "a={1,2,3}\n",
    "b={2,3,1}\n",
    "a==b"
   ]
  },
  {
   "cell_type": "markdown",
   "id": "68d521dc",
   "metadata": {},
   "source": [
    "In Python, `list` and `tuples` are ordered collections, meaning the order of elements matters when comparing tuples for equality. Here, although both tuples a and b contain the same elements (1, 2), they are in different orders. Therefore, the comparison a == b will return False because the order of elements is not the same."
   ]
  },
  {
   "cell_type": "markdown",
   "id": "c8e40ac7",
   "metadata": {},
   "source": [
    "# Miscellaneous"
   ]
  },
  {
   "cell_type": "code",
   "execution_count": 174,
   "id": "694c94fe",
   "metadata": {},
   "outputs": [
    {
     "name": "stdout",
     "output_type": "stream",
     "text": [
      "1979643520064\n",
      "1979643520064\n",
      "[1, 2, [3, 4, 99], {'a', 'b'}, {'d': 'k'}]\n",
      "[1, 2, [3, 4, 99], {'a', 'c', 'b'}, {'d': 'k'}]\n",
      "[1, 2, [3, 4, 99], {'a', 'c', 'b'}, {'d': 'kk'}]\n",
      "[1, 2, [3, 4, 99], {'a', 'c', 'b'}, {'d': 'kk'}, (2, 3, 4)]\n"
     ]
    }
   ],
   "source": [
    "# List\n",
    "\n",
    "my_list1 = [1, 2, [3, 4], {'a', 'b'}, {'d':'k'}]\n",
    "my_list2 = my_list1\n",
    "\n",
    "print(id(my_list1))\n",
    "print(id(my_list2))\n",
    "\n",
    "\n",
    "my_list2[2].append(99)\n",
    "print(my_list1)  # [1, 2, [3, 4, 99], {'b', 'a'}, {'d': 'k'}]\n",
    "\n",
    "my_list2[3].add('c')\n",
    "print(my_list1)  # [1, 2, [3, 4, 99], {'b', 'a', 'c'}, {'d': 'k'}]\n",
    "\n",
    "my_list2[4].update({'d':'kk'})\n",
    "print(my_list1)  # [1, 2, [3, 4, 99], {'b', 'a', 'c'}, {'d': 'kk'}]\n",
    "\n",
    "my_list2.append((2,3,4))\n",
    "print(my_list1)"
   ]
  },
  {
   "cell_type": "code",
   "execution_count": 175,
   "id": "4605d554",
   "metadata": {},
   "outputs": [
    {
     "name": "stdout",
     "output_type": "stream",
     "text": [
      "1979642007168\n",
      "1979642007168\n",
      "{'list': [1, 2, 3, 99], 'set': {5, 6, 7}, 'dict': {'key': 'value'}}\n",
      "{'list': [1, 2, 3, 99], 'set': {'apple', 5, 6, 7}, 'dict': {'key': 'value'}}\n",
      "{'list': [1, 2, 3, 99], 'set': {'apple', 5, 6, 7}, 'dict': {'key': 'value', 'fruit': 'banana'}}\n",
      "{'list': [1, 2, 3, 99], 'set': {'apple', 5, 6, 7}, 'dict': {'key': 'value', 'fruit': 'banana'}, 'tuple': (8, 9)}\n"
     ]
    }
   ],
   "source": [
    "# dictinary\n",
    "\n",
    "my_dict1 = {'list':[1,2,3], 'set':{5,6,7}, 'dict':{'key':'value'}}\n",
    "my_dict2 = my_dict1\n",
    "\n",
    "print(id(my_dict1))\n",
    "print(id(my_dict2))\n",
    "\n",
    "my_dict2['list'].append(99)\n",
    "print(my_dict1)  # {'list': [1, 2, 3, 99], 'set': {5, 6, 7}, 'dict': {'key': 'value'}}\n",
    "\n",
    "my_dict2['set'].add('apple')\n",
    "print(my_dict1)  # {'list': [1, 2, 3, 99], 'set': {'apple', 5, 6, 7}, 'dict': {'key': 'value'}}\n",
    "\n",
    "my_dict2['dict'].update({'fruit':'banana'})\n",
    "print(my_dict1)  # {'list': [1, 2, 3, 99], 'set': {'apple', 5, 6, 7}, 'dict': {'key': 'value', 'fruit': 'banana'}}\n",
    "\n",
    "my_dict2.update({'tuple':(8,9)})\n",
    "print(my_dict1)  # {'list': [1, 2, 3, 99], 'set': {'apple', 5, 6, 7}, 'dict': {'key': 'value', 'fruit': 'banana'}, 'tuple': (8, 9)}"
   ]
  },
  {
   "cell_type": "code",
   "execution_count": 178,
   "id": "9835a900",
   "metadata": {},
   "outputs": [
    {
     "name": "stdout",
     "output_type": "stream",
     "text": [
      "1979641795776\n",
      "1979641796672\n",
      "{'list': [1, 2, 3, 99], 'set': {5, 6, 7}, 'dict': {'key': 'value'}}\n",
      "{'list': [1, 2, 3, 99], 'set': {'apple', 5, 6, 7}, 'dict': {'key': 'value'}}\n",
      "{'list': [1, 2, 3, 99], 'set': {'apple', 5, 6, 7}, 'dict': {'key': 'value', 'fruit': 'banana'}}\n",
      "{'list': [1, 2, 3, 99], 'set': {'apple', 5, 6, 7}, 'dict': {'key': 'value', 'fruit': 'banana'}}\n"
     ]
    }
   ],
   "source": [
    "# dictinary\n",
    "\n",
    "my_dict1 = {'list':[1,2,3], 'set':{5,6,7}, 'dict':{'key':'value'}}\n",
    "my_dict2 = my_dict1.copy() # shallow copy\n",
    "\n",
    "print(id(my_dict1))\n",
    "print(id(my_dict2))\n",
    "\n",
    "my_dict2['list'].append(99)\n",
    "print(my_dict1)  # {'list': [1, 2, 3, 99], 'set': {5, 6, 7}, 'dict': {'key': 'value'}}\n",
    "\n",
    "my_dict2['set'].add('apple')\n",
    "print(my_dict1)  # {'list': [1, 2, 3, 99], 'set': {'apple', 5, 6, 7}, 'dict': {'key': 'value'}}\n",
    "\n",
    "my_dict2['dict'].update({'fruit':'banana'})\n",
    "print(my_dict1)  # {'list': [1, 2, 3, 99], 'set': {'apple', 5, 6, 7}, 'dict': {'key': 'value', 'fruit': 'banana'}}\n",
    "\n",
    "my_dict2.update({'tuple':(8,9)})\n",
    "print(my_dict1)  # {'list': [1, 2, 3, 99], 'set': {'apple', 5, 6, 7}, 'dict': {'key': 'value', 'fruit': 'banana'}}"
   ]
  },
  {
   "cell_type": "code",
   "execution_count": 179,
   "id": "5e3b8083",
   "metadata": {},
   "outputs": [
    {
     "name": "stdout",
     "output_type": "stream",
     "text": [
      "1979642843648\n",
      "1979643038464\n",
      "{'list': [1, 2, 3, 99], 'set': {5, 6, 7}, 'dict': {'key': 'value'}}\n",
      "{'list': [1, 2, 3, 99], 'set': {'apple', 5, 6, 7}, 'dict': {'key': 'value'}}\n",
      "{'list': [1, 2, 3, 99], 'set': {'apple', 5, 6, 7}, 'dict': {'key': 'value', 'fruit': 'banana'}}\n",
      "{'list': [1, 2, 3, 99], 'set': {'apple', 5, 6, 7}, 'dict': {'key': 'value', 'fruit': 'banana'}}\n"
     ]
    }
   ],
   "source": [
    "diCopy=dict(di)\n",
    "\n",
    "# dictinary\n",
    "\n",
    "my_dict1 = {'list':[1,2,3], 'set':{5,6,7}, 'dict':{'key':'value'}}\n",
    "my_dict2 = dict(my_dict1) # shallow copy\n",
    "\n",
    "print(id(my_dict1))\n",
    "print(id(my_dict2))\n",
    "\n",
    "my_dict2['list'].append(99)\n",
    "print(my_dict1)  # {'list': [1, 2, 3, 99], 'set': {5, 6, 7}, 'dict': {'key': 'value'}}\n",
    "\n",
    "my_dict2['set'].add('apple')\n",
    "print(my_dict1)  # {'list': [1, 2, 3, 99], 'set': {'apple', 5, 6, 7}, 'dict': {'key': 'value'}}\n",
    "\n",
    "my_dict2['dict'].update({'fruit':'banana'})\n",
    "print(my_dict1)  # {'list': [1, 2, 3, 99], 'set': {'apple', 5, 6, 7}, 'dict': {'key': 'value', 'fruit': 'banana'}}\n",
    "\n",
    "my_dict2.update({'tuple':(8,9)})\n",
    "print(my_dict1)"
   ]
  },
  {
   "cell_type": "markdown",
   "id": "cc712faa",
   "metadata": {},
   "source": [
    "## split() VS splitlines()"
   ]
  },
  {
   "cell_type": "markdown",
   "id": "4ed89b5b",
   "metadata": {},
   "source": [
    "The `split()` and `splitlines()` methods in Python **are used to split a string into a list**. However, there are some key differences between the two methods.\n",
    "\n",
    "The `split()` method **splits the string at any whitespace character, including spaces, tabs, and newlines**. The `splitlines()` method, on the other hand, **only splits the string at newline characters**.\n",
    "\n",
    "The `split()` method **does not include the delimiter characters in the resulting list**. The `splitlines()` method, on the other hand, can **optionally include the newline characters in the resulting list**.\n",
    "\n",
    "Here is an example of how to use the `split()` and `splitlines()` methods:"
   ]
  },
  {
   "cell_type": "code",
   "execution_count": 180,
   "id": "560bcfd3",
   "metadata": {},
   "outputs": [
    {
     "name": "stdout",
     "output_type": "stream",
     "text": [
      "['This', 'is', 'a', 'string', 'with', 'multiple', 'lines.']\n"
     ]
    }
   ],
   "source": [
    "string = \"This is a string \\nwith multiple lines.\"\n",
    "\n",
    "# Split the string at any whitespace character.\n",
    "list_of_words = string.split()\n",
    "print(list_of_words)"
   ]
  },
  {
   "cell_type": "code",
   "execution_count": 181,
   "id": "ebe8272e",
   "metadata": {},
   "outputs": [
    {
     "name": "stdout",
     "output_type": "stream",
     "text": [
      "['This is a string ', 'with multiple lines.']\n"
     ]
    }
   ],
   "source": [
    "# Split the string at newline characters.\n",
    "list_of_lines = string.splitlines()\n",
    "print(list_of_lines)"
   ]
  },
  {
   "cell_type": "markdown",
   "id": "8b77f256",
   "metadata": {},
   "source": [
    "As you can see, the `splitlines()` method has split the string into two lines, each of which includes the newline character.\n",
    "\n",
    "Finally, the `splitlines()` method has an optional argument called `keepends`. **If this argument is set to True, then the newline characters will be included in the resulting list**. For example:"
   ]
  },
  {
   "cell_type": "code",
   "execution_count": 182,
   "id": "53cd78cd",
   "metadata": {},
   "outputs": [
    {
     "name": "stdout",
     "output_type": "stream",
     "text": [
      "['This is a string \\n', 'with multiple lines.']\n"
     ]
    }
   ],
   "source": [
    "list_of_lines = string.splitlines(keepends=True)\n",
    "print(list_of_lines)"
   ]
  },
  {
   "cell_type": "markdown",
   "id": "f7ec3799",
   "metadata": {},
   "source": [
    "# STRING\n",
    "\n",
    "Python string is the collection of the characters surrounded by single quotes`(' ')`, double quotes`(\" \")`, or triple quotes`(\"\"\" \"\"\")` or `(''' ''')`.\n",
    "\n",
    "Strings are immutable in Python.\n",
    "\n",
    "The string object doesn't support item assignment i.e., A string can only be replaced with new string since its content cannot be partially replaced."
   ]
  },
  {
   "cell_type": "code",
   "execution_count": 183,
   "id": "542f1c20",
   "metadata": {},
   "outputs": [
    {
     "data": {
      "text/plain": [
       "'python programming'"
      ]
     },
     "execution_count": 183,
     "metadata": {},
     "output_type": "execute_result"
    }
   ],
   "source": [
    "string=\"python programming\"\n",
    "string"
   ]
  },
  {
   "cell_type": "code",
   "execution_count": 184,
   "id": "28092341",
   "metadata": {},
   "outputs": [
    {
     "ename": "TypeError",
     "evalue": "'str' object does not support item assignment",
     "output_type": "error",
     "traceback": [
      "\u001b[1;31m---------------------------------------------------------------------------\u001b[0m",
      "\u001b[1;31mTypeError\u001b[0m                                 Traceback (most recent call last)",
      "Cell \u001b[1;32mIn[184], line 3\u001b[0m\n\u001b[0;32m      1\u001b[0m \u001b[38;5;66;03m# string is immutable\u001b[39;00m\n\u001b[1;32m----> 3\u001b[0m \u001b[43mstring\u001b[49m\u001b[43m[\u001b[49m\u001b[38;5;241;43m5\u001b[39;49m\u001b[43m]\u001b[49m\u001b[38;5;241m=\u001b[39m\u001b[38;5;124m\"\u001b[39m\u001b[38;5;124mk\u001b[39m\u001b[38;5;124m\"\u001b[39m \u001b[38;5;66;03m# will give an error\u001b[39;00m\n",
      "\u001b[1;31mTypeError\u001b[0m: 'str' object does not support item assignment"
     ]
    }
   ],
   "source": [
    "# string is immutable\n",
    "\n",
    "string[5]=\"k\" # will give an error"
   ]
  },
  {
   "cell_type": "code",
   "execution_count": 185,
   "id": "b495fbbe",
   "metadata": {},
   "outputs": [
    {
     "data": {
      "text/plain": [
       "'java programming'"
      ]
     },
     "execution_count": 185,
     "metadata": {},
     "output_type": "execute_result"
    }
   ],
   "source": [
    "# string can be assigned completely to a new content \n",
    "\n",
    "string=\"java programming\"\n",
    "string"
   ]
  },
  {
   "cell_type": "code",
   "execution_count": 186,
   "id": "3ae99f10",
   "metadata": {},
   "outputs": [
    {
     "ename": "TypeError",
     "evalue": "'str' object doesn't support item deletion",
     "output_type": "error",
     "traceback": [
      "\u001b[1;31m---------------------------------------------------------------------------\u001b[0m",
      "\u001b[1;31mTypeError\u001b[0m                                 Traceback (most recent call last)",
      "Cell \u001b[1;32mIn[186], line 3\u001b[0m\n\u001b[0;32m      1\u001b[0m \u001b[38;5;66;03m# We cannot delete or remove the characters from the string.\u001b[39;00m\n\u001b[1;32m----> 3\u001b[0m \u001b[38;5;28;01mdel\u001b[39;00m string[\u001b[38;5;241m1\u001b[39m]\n",
      "\u001b[1;31mTypeError\u001b[0m: 'str' object doesn't support item deletion"
     ]
    }
   ],
   "source": [
    "# We cannot delete or remove the characters from the string.\n",
    "\n",
    "del string[1]"
   ]
  },
  {
   "cell_type": "code",
   "execution_count": 187,
   "id": "72b44e6a",
   "metadata": {},
   "outputs": [
    {
     "name": "stdout",
     "output_type": "stream",
     "text": [
      "java\n"
     ]
    }
   ],
   "source": [
    "# we are deleting entire string\n",
    "st=\"java\"\n",
    "print(st)\n",
    "del st "
   ]
  },
  {
   "cell_type": "markdown",
   "id": "0aeb45ed",
   "metadata": {},
   "source": [
    "## string operators"
   ]
  },
  {
   "cell_type": "code",
   "execution_count": 188,
   "id": "26b831f2",
   "metadata": {
    "scrolled": true
   },
   "outputs": [
    {
     "name": "stdout",
     "output_type": "stream",
     "text": [
      "HelloHelloHello\n",
      "Hello world\n",
      "o\n",
      "ll\n",
      "False\n",
      "False\n",
      "C://python37\n",
      "The string str : Hello\n"
     ]
    }
   ],
   "source": [
    "# opeartor examples\n",
    "\n",
    "str1 = \"Hello\"     \n",
    "str2 = \" world\" \n",
    "\n",
    "print(str1*3) # prints HelloHelloHello \n",
    "\n",
    "print(str1+str2)# prints Hello world   \n",
    "\n",
    "print(str1[4]) # prints o                \n",
    "\n",
    "print(str1[2:4]); # prints ll                    \n",
    "\n",
    "print('w' in str1) # prints false as w is not present in str    \n",
    "\n",
    "print('wo' not in str2) # prints false as wo is present in str1.     \n",
    "\n",
    "print(r'C://python37') # prints C://python37 as it is written    \n",
    "\n",
    "print(\"The string str : %s\"%(str1)) # prints The string str : Hello  "
   ]
  },
  {
   "cell_type": "code",
   "execution_count": 189,
   "id": "28dcd0dd",
   "metadata": {
    "scrolled": true
   },
   "outputs": [
    {
     "name": "stdout",
     "output_type": "stream",
     "text": [
      "This is python. this is java\n"
     ]
    }
   ],
   "source": [
    "str3=\"this is python. this is java\"\n",
    "\n",
    "print(str3.capitalize()) # convert first character will in upper case"
   ]
  },
  {
   "cell_type": "code",
   "execution_count": 190,
   "id": "c5fdcc7d",
   "metadata": {},
   "outputs": [
    {
     "name": "stdout",
     "output_type": "stream",
     "text": [
      "4\n",
      "3\n",
      "1\n"
     ]
    }
   ],
   "source": [
    "# count() return number of occurrences of a substring in a String between begin and end index\n",
    "\n",
    "# count(substring,start,end)\n",
    "\n",
    "print(str3.count('is'))\n",
    "\n",
    "print(str3.count('is',3))\n",
    "\n",
    "print(str3.count('is',0,5))"
   ]
  },
  {
   "cell_type": "code",
   "execution_count": 191,
   "id": "bb5aee32",
   "metadata": {},
   "outputs": [
    {
     "name": "stdout",
     "output_type": "stream",
     "text": [
      "False\n",
      "True\n"
     ]
    }
   ],
   "source": [
    "# endswith() returns a Boolean value if the string terminates with given suffix between begin and end.\n",
    "\n",
    "# endswith(suffix,start,end)\n",
    "\n",
    "print(str3.endswith('on'))\n",
    "\n",
    "print(str3.endswith('on',0,14)) # python"
   ]
  },
  {
   "cell_type": "code",
   "execution_count": 192,
   "id": "9aae7125",
   "metadata": {},
   "outputs": [
    {
     "name": "stdout",
     "output_type": "stream",
     "text": [
      "True\n",
      "False\n"
     ]
    }
   ],
   "source": [
    "# startswith() returns a Boolean value if the string terminates with given suffix between begin and end.\n",
    "\n",
    "# startswith(suffix,start,end)\n",
    "\n",
    "print(str3.startswith('this'))\n",
    "\n",
    "print(str3.startswith('this',1,14)) # python"
   ]
  },
  {
   "cell_type": "code",
   "execution_count": 193,
   "id": "3948d9a5",
   "metadata": {},
   "outputs": [
    {
     "name": "stdout",
     "output_type": "stream",
     "text": [
      "12\n",
      "2\n"
     ]
    }
   ],
   "source": [
    "# find() returns the index value of the string where substring is found between begin index and end index\n",
    "\n",
    "# find(substring,start,end)\n",
    "\n",
    "print(str3.find('on'))\n",
    "\n",
    "print(str3.find('is',0,20)) # will return first occuring index"
   ]
  },
  {
   "cell_type": "code",
   "execution_count": 194,
   "id": "42b94eb7",
   "metadata": {
    "scrolled": true
   },
   "outputs": [
    {
     "name": "stdout",
     "output_type": "stream",
     "text": [
      "12\n",
      "2\n"
     ]
    },
    {
     "ename": "ValueError",
     "evalue": "substring not found",
     "output_type": "error",
     "traceback": [
      "\u001b[1;31m---------------------------------------------------------------------------\u001b[0m",
      "\u001b[1;31mValueError\u001b[0m                                Traceback (most recent call last)",
      "Cell \u001b[1;32mIn[194], line 9\u001b[0m\n\u001b[0;32m      5\u001b[0m \u001b[38;5;28mprint\u001b[39m(str3\u001b[38;5;241m.\u001b[39mindex(\u001b[38;5;124m'\u001b[39m\u001b[38;5;124mon\u001b[39m\u001b[38;5;124m'\u001b[39m))\n\u001b[0;32m      7\u001b[0m \u001b[38;5;28mprint\u001b[39m(str3\u001b[38;5;241m.\u001b[39mindex(\u001b[38;5;124m'\u001b[39m\u001b[38;5;124mis\u001b[39m\u001b[38;5;124m'\u001b[39m,\u001b[38;5;241m0\u001b[39m,\u001b[38;5;241m20\u001b[39m)) \u001b[38;5;66;03m# will return first occuring index\u001b[39;00m\n\u001b[1;32m----> 9\u001b[0m \u001b[38;5;28mprint\u001b[39m(\u001b[43mstr3\u001b[49m\u001b[38;5;241;43m.\u001b[39;49m\u001b[43mindex\u001b[49m\u001b[43m(\u001b[49m\u001b[38;5;124;43m'\u001b[39;49m\u001b[38;5;124;43mz\u001b[39;49m\u001b[38;5;124;43m'\u001b[39;49m\u001b[43m)\u001b[49m) \u001b[38;5;66;03m# error\u001b[39;00m\n",
      "\u001b[1;31mValueError\u001b[0m: substring not found"
     ]
    }
   ],
   "source": [
    "# index() throws an exception if string is not found. It works same as find() method.\n",
    "\n",
    "# index(substring,start,end)\n",
    "\n",
    "print(str3.index('on'))\n",
    "\n",
    "print(str3.index('is',0,20)) # will return first occuring index\n",
    "\n",
    "print(str3.index('z')) # error"
   ]
  },
  {
   "cell_type": "code",
   "execution_count": 195,
   "id": "860f63b6",
   "metadata": {},
   "outputs": [
    {
     "name": "stdout",
     "output_type": "stream",
     "text": [
      "False\n",
      "False\n",
      "False\n",
      "False\n",
      "False\n",
      "False\n",
      "False\n",
      "True\n",
      "False\n"
     ]
    }
   ],
   "source": [
    "print(str3.isalnum())\n",
    "\n",
    "print(str3.isalpha())\n",
    "\n",
    "print(str3.isdigit())\n",
    "\n",
    "print(str3.isdecimal())\n",
    "\n",
    "print(str3.isnumeric())\n",
    "\n",
    "print(str3.isidentifier())\n",
    "\n",
    "print(str3.isupper())\n",
    "\n",
    "print(str3.islower())\n",
    "\n",
    "print(str3.isspace())"
   ]
  },
  {
   "cell_type": "code",
   "execution_count": 196,
   "id": "ee086016",
   "metadata": {},
   "outputs": [
    {
     "name": "stdout",
     "output_type": "stream",
     "text": [
      "PYTHON IS AWESOME\n",
      "java\n",
      "Python Is Awesome\n",
      "   C++   \n",
      "C++   \n",
      "   C++\n",
      "['abc@gamil.com']\n",
      "['abc', 'gamil.com']\n",
      "['abc', 'gamil.com']\n",
      "['abc@gamil', 'com']\n"
     ]
    }
   ],
   "source": [
    "str4=\"python is awesome\"\n",
    "str5=\"Java\"\n",
    "str6=\"   C++   \"\n",
    "email=\"abc@gamil.com\"\n",
    "\n",
    "print(str4.upper()) # PYTHON IS AWESOME\n",
    "\n",
    "print(str5.lower()) # java\n",
    "\n",
    "print(str4.title()) # Python Is Awesome\n",
    "\n",
    "print(str6)\n",
    "print(str6.lstrip()) # It removes all leading whitespaces of a string and \n",
    "                        # can also be used to remove particular character from leading.\n",
    "    \n",
    "print(str6.rstrip()) # It removes all trailing whitespaces of a string and \n",
    "                        # can also be used to remove particular character from leading.\n",
    "\n",
    "print(email.split())  # ['abc@gamil.com']\n",
    "print(email.split('@'))  # ['abc', 'gamil.com']\n",
    "print(email.rsplit('@'))  # ['abc', 'gamil.com']\n",
    "print(email.rsplit('.'))  # ['abc@gamil', 'com']"
   ]
  },
  {
   "cell_type": "markdown",
   "id": "4eca1980",
   "metadata": {},
   "source": [
    "### `replace()` and `str.replace()`"
   ]
  },
  {
   "cell_type": "code",
   "execution_count": 197,
   "id": "84c03491",
   "metadata": {},
   "outputs": [
    {
     "name": "stdout",
     "output_type": "stream",
     "text": [
      "C# is awesome\n",
      "python is awesome\n"
     ]
    }
   ],
   "source": [
    "print(str4.replace(\"python\",\"C#\")) # replaces substring inside\n",
    "print(str4.replace(\"Python\",\"C#\")) # if not substring not found then return original string without replacing "
   ]
  },
  {
   "cell_type": "code",
   "execution_count": 198,
   "id": "c7d9ead7",
   "metadata": {},
   "outputs": [
    {
     "name": "stdout",
     "output_type": "stream",
     "text": [
      "Hello, Python!\n",
      "Hello, World!\n"
     ]
    }
   ],
   "source": [
    "original_string = \"Hello, World!\"\n",
    "new_string = original_string.replace(\"World\", \"Python\")\n",
    "\n",
    "print(new_string)  # Output: \"Hello, Python!\"\n",
    "print(original_string)  # Output: \"Hello, World!\""
   ]
  },
  {
   "cell_type": "code",
   "execution_count": 199,
   "id": "4c562b30",
   "metadata": {},
   "outputs": [
    {
     "name": "stdout",
     "output_type": "stream",
     "text": [
      "1979642684848\n",
      "1979641794992\n"
     ]
    }
   ],
   "source": [
    "print(id(original_string))\n",
    "print(id(original_string.replace(\"World\",\"Python\")))"
   ]
  },
  {
   "cell_type": "code",
   "execution_count": 200,
   "id": "1187c0e1",
   "metadata": {},
   "outputs": [
    {
     "name": "stdout",
     "output_type": "stream",
     "text": [
      "Hello, Python!\n"
     ]
    }
   ],
   "source": [
    "original_string = \"Hello, World!\"\n",
    "new_string = str.replace(original_string, \"World\", \"Python\")\n",
    "\n",
    "print(new_string)  # Output: \"Hello, Python!\""
   ]
  },
  {
   "cell_type": "code",
   "execution_count": 201,
   "id": "d276cd6c",
   "metadata": {},
   "outputs": [
    {
     "name": "stdout",
     "output_type": "stream",
     "text": [
      "1979641806576\n",
      "1979638345072\n"
     ]
    }
   ],
   "source": [
    "print(id(original_string))\n",
    "print(id(str.replace(original_string, \"World\", \"Python\")))"
   ]
  },
  {
   "cell_type": "markdown",
   "id": "c3a2b2c7",
   "metadata": {},
   "source": [
    "**Both the `replace()` method and the `str.replace()` function create a new string with the specified replacements, leaving the original string unchanged. If the substring to replace is not found in the original string, the original string is returned as is.**\n",
    "\n",
    "You can also specify an optional fourth argument to limit the number of replacements:"
   ]
  },
  {
   "cell_type": "code",
   "execution_count": 202,
   "id": "9d41841d",
   "metadata": {},
   "outputs": [
    {
     "name": "stdout",
     "output_type": "stream",
     "text": [
      "two two one one\n"
     ]
    }
   ],
   "source": [
    "original_string = \"one one one one\"\n",
    "new_string = original_string.replace(\"one\", \"two\", 2)\n",
    "\n",
    "print(new_string)  # Output: \"two two one one\""
   ]
  },
  {
   "cell_type": "markdown",
   "id": "c9873439",
   "metadata": {},
   "source": [
    "In this case, only the first two occurrences of \"one\" are replaced with \"two.\"\n",
    "\n",
    "Remember that **strings in Python are immutable, so the `replace()` method and `str.replace()` function create a new string with the replacements and return it**."
   ]
  },
  {
   "cell_type": "code",
   "execution_count": 203,
   "id": "c7bed4d2",
   "metadata": {},
   "outputs": [
    {
     "name": "stdout",
     "output_type": "stream",
     "text": [
      "('Python ', 'is ', 'fun')\n",
      "('Python is fun', '', '')\n",
      "('Python ', 'is', \" fun, isn't it\")\n"
     ]
    }
   ],
   "source": [
    "# partition(separator) returns a tuple\n",
    "\n",
    "#The partition method returns a 3-tuple containing:\n",
    "\n",
    "# the part before the separator, separator parameter, \n",
    "# and the part after the separator if the separator parameter is found in the string\n",
    "\n",
    "# the string itself and two empty strings if the separator parameter is not found\n",
    "\n",
    "string = \"Python is fun\"\n",
    "\n",
    "# 'is' separator is found\n",
    "print(string.partition('is '))\n",
    "\n",
    "# 'not' separator is not found\n",
    "print(string.partition('not '))\n",
    "\n",
    "string = \"Python is fun, isn't it\"\n",
    "\n",
    "# splits at first occurence of 'is'\n",
    "print(string.partition('is'))"
   ]
  },
  {
   "cell_type": "code",
   "execution_count": 204,
   "id": "c2932ad1",
   "metadata": {},
   "outputs": [
    {
     "name": "stdout",
     "output_type": "stream",
     "text": [
      "nohtyP\n"
     ]
    }
   ],
   "source": [
    "# python program to reverse a string\n",
    "\n",
    "org=\"Python\"\n",
    "rev=\"\"\n",
    "for i in org:\n",
    "    rev=i+rev\n",
    "print(rev)"
   ]
  },
  {
   "cell_type": "code",
   "execution_count": 205,
   "id": "f64147f5",
   "metadata": {},
   "outputs": [
    {
     "name": "stdout",
     "output_type": "stream",
     "text": [
      "margorP nohtyP\n"
     ]
    }
   ],
   "source": [
    "# python program to reverse a string\n",
    "\n",
    "org=\"Python Program\"\n",
    "rev2=org[::-1]\n",
    "print(rev2)"
   ]
  },
  {
   "cell_type": "markdown",
   "id": "f0192561",
   "metadata": {},
   "source": [
    "**Explanation:**\n",
    "\n",
    "Let's break down the `[::-1]` notation into its components:\n",
    "\n",
    ": is used to specify the start and end indices of the slice.\n",
    "\n",
    "The first `:` indicates that we want to include all elements from the sequence.\n",
    "\n",
    "The second `:` after `::-1` indicates the step value for the slice.\n",
    "\n",
    "In this case, since we have omitted the start and end indices (before and after the first :), the default start index is the first element of the sequence, and the default end index is the last element of the sequence.\n",
    "\n",
    "The step value -1 in `[::-1]` means that we want to iterate over the sequence in reverse order, taking one element at a time."
   ]
  },
  {
   "cell_type": "code",
   "execution_count": 206,
   "id": "d4ae8d63",
   "metadata": {},
   "outputs": [
    {
     "name": "stdout",
     "output_type": "stream",
     "text": [
      "mroPnhy\n"
     ]
    }
   ],
   "source": [
    "# python program to reverse a string\n",
    "\n",
    "org=\"Python Program\"\n",
    "rev2=org[::-2]\n",
    "print(rev2)"
   ]
  },
  {
   "cell_type": "markdown",
   "id": "c2250d42",
   "metadata": {},
   "source": [
    "# PRINT FORMAT"
   ]
  },
  {
   "cell_type": "code",
   "execution_count": 207,
   "id": "bb527800",
   "metadata": {},
   "outputs": [
    {
     "name": "stdout",
     "output_type": "stream",
     "text": [
      "Age=50, Name=Python, Rate=3.553300\n",
      "Age=50, Name=Python, Rate=3.553\n"
     ]
    }
   ],
   "source": [
    "# using %d %s %f\n",
    "\n",
    "age=50\n",
    "name=\"Python\"\n",
    "rate=3.5533\n",
    "print(\"Age=%d, Name=%s, Rate=%f\"%(age,name,rate))\n",
    "print(\"Age=%d, Name=%s, Rate=%.3f\"%(age,name,rate))"
   ]
  },
  {
   "cell_type": "code",
   "execution_count": 208,
   "id": "a8678abc",
   "metadata": {},
   "outputs": [
    {
     "name": "stdout",
     "output_type": "stream",
     "text": [
      "Age=50, Name=Python, Rate=3.5533\n"
     ]
    }
   ],
   "source": [
    "# format() method\n",
    "\n",
    "age=50\n",
    "name=\"Python\"\n",
    "rate=3.5533\n",
    "print(\"Age={}, Name={}, Rate={}\".format(age,name,rate))"
   ]
  },
  {
   "cell_type": "code",
   "execution_count": 209,
   "id": "a22b8fed",
   "metadata": {},
   "outputs": [
    {
     "name": "stdout",
     "output_type": "stream",
     "text": [
      "Age=50, Name=Python, Rate=3.5533\n"
     ]
    }
   ],
   "source": [
    "# f method\n",
    "\n",
    "age=50\n",
    "name=\"Python\"\n",
    "rate=3.5533\n",
    "print(f\"Age={age}, Name={name}, Rate={rate}\")"
   ]
  },
  {
   "cell_type": "code",
   "execution_count": 210,
   "id": "b74a1341",
   "metadata": {},
   "outputs": [
    {
     "name": "stdout",
     "output_type": "stream",
     "text": [
      "age=50, name='Python', rate=3.5533\n"
     ]
    }
   ],
   "source": [
    "# f method\n",
    "\n",
    "age=50\n",
    "name=\"Python\"\n",
    "rate=3.5533\n",
    "print(f\"{age=}, {name=}, {rate=}\")"
   ]
  },
  {
   "cell_type": "markdown",
   "id": "f82cf891-0ec0-4f28-9ef6-6f77b2d02ff1",
   "metadata": {},
   "source": [
    "### printing upto specific decimal place"
   ]
  },
  {
   "cell_type": "code",
   "execution_count": 5,
   "id": "209faa6e-3057-481f-9f09-e4397b3d4b7e",
   "metadata": {},
   "outputs": [
    {
     "name": "stdout",
     "output_type": "stream",
     "text": [
      "234.568\n"
     ]
    }
   ],
   "source": [
    "num = 234.56767\n",
    "print(\"%.3f\" % num)"
   ]
  },
  {
   "cell_type": "code",
   "execution_count": 2,
   "id": "5d25c086-ed65-445f-960e-e4174fe1f7b6",
   "metadata": {},
   "outputs": [
    {
     "name": "stdout",
     "output_type": "stream",
     "text": [
      "234.568\n"
     ]
    }
   ],
   "source": [
    "num = 234.56767\n",
    "print(\"{:.3f}\".format(num))"
   ]
  },
  {
   "cell_type": "code",
   "execution_count": 3,
   "id": "1722c0d8-04d5-4f3a-a58d-52338130b220",
   "metadata": {},
   "outputs": [
    {
     "name": "stdout",
     "output_type": "stream",
     "text": [
      "234.568\n"
     ]
    }
   ],
   "source": [
    "num = 234.56767\n",
    "print(f\"{num:.3f}\")"
   ]
  },
  {
   "cell_type": "code",
   "execution_count": 4,
   "id": "3234170f-fbc1-4bc6-a827-ed6cc33cdd07",
   "metadata": {},
   "outputs": [
    {
     "name": "stdout",
     "output_type": "stream",
     "text": [
      "234.568\n"
     ]
    }
   ],
   "source": [
    "num = 234.56767\n",
    "print(round(num, 3))"
   ]
  },
  {
   "cell_type": "markdown",
   "id": "6667d8e8",
   "metadata": {},
   "source": [
    "### What is end=\" \" \n",
    "\n",
    "In Python, `end=\" \"` is an optional argument used with the `print()` function to specify what should be printed at the end of the printed output instead of the default newline character ('\\n'). By default, `print()` adds a newline character at the end, which means that each call to `print()` produces a new line of output. However, you can change this behavior by specifying the end argument.\n",
    "\n",
    "Here's how it works:\n",
    "\n",
    "When you use `end=\" \"`, it tells Python to print a space character (' ') at the end of the output instead of a newline character. This means that the next `print()` statement will continue on the same line after a space."
   ]
  },
  {
   "cell_type": "code",
   "execution_count": 211,
   "id": "98c1185c",
   "metadata": {},
   "outputs": [
    {
     "name": "stdout",
     "output_type": "stream",
     "text": [
      "Hello,\n",
      "world!\n"
     ]
    }
   ],
   "source": [
    "print(\"Hello,\")\n",
    "print(\"world!\")"
   ]
  },
  {
   "cell_type": "code",
   "execution_count": 212,
   "id": "cbc0bab8",
   "metadata": {},
   "outputs": [
    {
     "name": "stdout",
     "output_type": "stream",
     "text": [
      "Hello, world!\n"
     ]
    }
   ],
   "source": [
    "print(\"Hello,\", end=\" \")\n",
    "print(\"world!\")"
   ]
  },
  {
   "cell_type": "code",
   "execution_count": 213,
   "id": "3d8766b9",
   "metadata": {},
   "outputs": [
    {
     "name": "stdout",
     "output_type": "stream",
     "text": [
      "Hello,\tworld!\n"
     ]
    }
   ],
   "source": [
    "print(\"Hello,\", end=\"\\t\")\n",
    "print(\"world!\")\n"
   ]
  },
  {
   "cell_type": "markdown",
   "id": "4f8f7bbc",
   "metadata": {},
   "source": [
    "Python's `print()` function provides several optional arguments that allow you to customize the formatting and behavior of the printed output. Here are some commonly used arguments in addition to end:\n",
    "\n",
    "1. `sep` (Separator): The sep argument specifies the separator string to be used between multiple items that you pass to the `print()` function. By default, items are separated by a space. You can change it to any string."
   ]
  },
  {
   "cell_type": "code",
   "execution_count": 214,
   "id": "1c78746a",
   "metadata": {},
   "outputs": [
    {
     "name": "stdout",
     "output_type": "stream",
     "text": [
      "apple banana cherry\n"
     ]
    }
   ],
   "source": [
    "print(\"apple\", \"banana\", \"cherry\")"
   ]
  },
  {
   "cell_type": "code",
   "execution_count": 215,
   "id": "174eddaf",
   "metadata": {},
   "outputs": [
    {
     "name": "stdout",
     "output_type": "stream",
     "text": [
      "apple, banana, cherry\n"
     ]
    }
   ],
   "source": [
    "print(\"apple\", \"banana\", \"cherry\", sep=\", \")\n",
    "# Output: apple, banana, cherry"
   ]
  },
  {
   "cell_type": "markdown",
   "id": "11329830",
   "metadata": {},
   "source": [
    "2. `file` (Output File): The file argument allows you to specify the output file where the printed output should be directed. By default, it prints to the standard output (usually the console), but you can redirect it to a file."
   ]
  },
  {
   "cell_type": "code",
   "execution_count": 216,
   "id": "e31661c1",
   "metadata": {},
   "outputs": [],
   "source": [
    "with open(\"output.txt\", \"w\") as f:\n",
    "    print(\"This goes to a file.\", file=f)"
   ]
  },
  {
   "cell_type": "code",
   "execution_count": null,
   "id": "93a1df88",
   "metadata": {},
   "outputs": [],
   "source": []
  },
  {
   "cell_type": "markdown",
   "id": "85493d98",
   "metadata": {},
   "source": [
    "# OS module"
   ]
  },
  {
   "cell_type": "code",
   "execution_count": 217,
   "id": "1a0ae217",
   "metadata": {},
   "outputs": [
    {
     "data": {
      "text/plain": [
       "'E:\\\\Notebook\\\\Python'"
      ]
     },
     "execution_count": 217,
     "metadata": {},
     "output_type": "execute_result"
    }
   ],
   "source": [
    "import os\n",
    "\n",
    "os.getcwd() # return current working directory"
   ]
  },
  {
   "cell_type": "code",
   "execution_count": 218,
   "id": "d9abe482",
   "metadata": {},
   "outputs": [
    {
     "data": {
      "text/plain": [
       "['.ipynb_checkpoints',\n",
       " '.jovianrc',\n",
       " 'ALGORITHMS-python.ipynb',\n",
       " 'Algorithms.ipynb',\n",
       " 'calc.py',\n",
       " 'Confusion Python-Java-C++.ipynb',\n",
       " 'CPP-DSA.ipynb',\n",
       " 'data',\n",
       " 'data.txt',\n",
       " 'DSA.ipynb',\n",
       " 'Fraud_project - Copy.ipynb',\n",
       " 'large_file.txt',\n",
       " 'matplotlib.ipynb',\n",
       " 'More in Python.ipynb',\n",
       " 'OOPs in Python.ipynb',\n",
       " 'output.txt',\n",
       " 'Practice here.ipynb',\n",
       " 'Python part 1.ipynb',\n",
       " 'Python part 2.ipynb',\n",
       " 'Python part 3.ipynb',\n",
       " 'Python part 4.ipynb',\n",
       " 'Python part 5.ipynb',\n",
       " 'PYTHON-data structures.ipynb',\n",
       " 'Python-LinkedIn.pdf',\n",
       " 'TECHNICAL-interview-questions.ipynb',\n",
       " 'TRICKS.ipynb',\n",
       " 'write.txt',\n",
       " 'writeTemp.txt',\n",
       " '__pycache__']"
      ]
     },
     "execution_count": 218,
     "metadata": {},
     "output_type": "execute_result"
    }
   ],
   "source": [
    "os.listdir(\".\") # list current working direcotry files"
   ]
  },
  {
   "cell_type": "code",
   "execution_count": 219,
   "id": "3eb6025f",
   "metadata": {},
   "outputs": [
    {
     "data": {
      "text/plain": [
       "['$RECYCLE.BIN',\n",
       " 'Algorithms',\n",
       " 'All Resume',\n",
       " 'API',\n",
       " 'Books',\n",
       " 'CISCO',\n",
       " 'CPP',\n",
       " 'Datasets',\n",
       " 'Django-Project',\n",
       " 'DSA',\n",
       " 'Exam algo',\n",
       " 'Experiment',\n",
       " 'final project LNB',\n",
       " 'HTML',\n",
       " 'html practice',\n",
       " 'internship',\n",
       " 'Internship Project',\n",
       " 'Java',\n",
       " 'JS',\n",
       " 'Little-Lemon-Menu-Website',\n",
       " 'ML Projects',\n",
       " 'MS word files',\n",
       " 'My portfolio',\n",
       " 'Node js',\n",
       " 'Notebook',\n",
       " 'project1',\n",
       " 'React',\n",
       " 'sem8',\n",
       " 'SQL script',\n",
       " 'System Volume Information',\n",
       " 'Templates',\n",
       " 'TensorProjects',\n",
       " 'TUTORIALS',\n",
       " 'websites.txt']"
      ]
     },
     "execution_count": 219,
     "metadata": {},
     "output_type": "execute_result"
    }
   ],
   "source": [
    "os.listdir(\"/\") # list root foleder"
   ]
  },
  {
   "cell_type": "code",
   "execution_count": 220,
   "id": "c04eaaa9",
   "metadata": {},
   "outputs": [],
   "source": [
    "os.makedirs(\"./OS\") # create a directory"
   ]
  },
  {
   "cell_type": "code",
   "execution_count": 221,
   "id": "a642acc1",
   "metadata": {},
   "outputs": [
    {
     "data": {
      "text/plain": [
       "['.ipynb_checkpoints',\n",
       " '.jovianrc',\n",
       " 'ALGORITHMS-python.ipynb',\n",
       " 'Algorithms.ipynb',\n",
       " 'calc.py',\n",
       " 'Confusion Python-Java-C++.ipynb',\n",
       " 'CPP-DSA.ipynb',\n",
       " 'data',\n",
       " 'data.txt',\n",
       " 'DSA.ipynb',\n",
       " 'Fraud_project - Copy.ipynb',\n",
       " 'large_file.txt',\n",
       " 'matplotlib.ipynb',\n",
       " 'More in Python.ipynb',\n",
       " 'OOPs in Python.ipynb',\n",
       " 'OS',\n",
       " 'output.txt',\n",
       " 'Practice here.ipynb',\n",
       " 'Python part 1.ipynb',\n",
       " 'Python part 2.ipynb',\n",
       " 'Python part 3.ipynb',\n",
       " 'Python part 4.ipynb',\n",
       " 'Python part 5.ipynb',\n",
       " 'PYTHON-data structures.ipynb',\n",
       " 'Python-LinkedIn.pdf',\n",
       " 'TECHNICAL-interview-questions.ipynb',\n",
       " 'TRICKS.ipynb',\n",
       " 'write.txt',\n",
       " 'writeTemp.txt',\n",
       " '__pycache__']"
      ]
     },
     "execution_count": 221,
     "metadata": {},
     "output_type": "execute_result"
    }
   ],
   "source": [
    "os.listdir('.')"
   ]
  },
  {
   "cell_type": "markdown",
   "id": "b04ba01c",
   "metadata": {},
   "source": []
  }
 ],
 "metadata": {
  "kernelspec": {
   "display_name": "Python 3 (ipykernel)",
   "language": "python",
   "name": "python3"
  },
  "language_info": {
   "codemirror_mode": {
    "name": "ipython",
    "version": 3
   },
   "file_extension": ".py",
   "mimetype": "text/x-python",
   "name": "python",
   "nbconvert_exporter": "python",
   "pygments_lexer": "ipython3",
   "version": "3.9.6"
  }
 },
 "nbformat": 4,
 "nbformat_minor": 5
}
