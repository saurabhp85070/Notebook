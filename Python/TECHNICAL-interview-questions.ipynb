{
 "cells": [
  {
   "cell_type": "code",
   "execution_count": 22,
   "id": "e7146ad1",
   "metadata": {
    "scrolled": true
   },
   "outputs": [
    {
     "name": "stdout",
     "output_type": "stream",
     "text": [
      "x:9 y:3\n",
      "x:3 y:9\n",
      "x:9 y:3\n",
      "x:3 y:9\n",
      "x:9 y:3\n",
      "x:3 y:9\n"
     ]
    }
   ],
   "source": [
    "# swapping two numbers without using third variable\n",
    "\n",
    "def swap1(x,y): # method 1\n",
    "    print(\"x:{} y:{}\".format(x,y))\n",
    "    x=x+y\n",
    "    y=x-y\n",
    "    x=x-y\n",
    "    print(\"x:{} y:{}\".format(x,y))\n",
    "    \n",
    "def swap2(x,y): # method 2\n",
    "    print(\"x:{} y:{}\".format(x,y))\n",
    "    x=x*y\n",
    "    y=x/y\n",
    "    x=x/y\n",
    "    print(\"x:{} y:{}\".format(int(x),int(y)))\n",
    "    \n",
    "def swap3(x,y): # method 3\n",
    "    print(\"x:{} y:{}\".format(x,y))\n",
    "    x=x^y\n",
    "    y=x^y\n",
    "    x=x^y\n",
    "    print(\"x:{} y:{}\".format(x,y))\n",
    "\n",
    "x,y=9,3  \n",
    "swap1(x,y)\n",
    "swap2(x,y)\n",
    "swap3(x,y)"
   ]
  },
  {
   "cell_type": "code",
   "execution_count": 23,
   "id": "d928ffe7",
   "metadata": {},
   "outputs": [
    {
     "name": "stdout",
     "output_type": "stream",
     "text": [
      "x:9 y:3\n",
      "x:3 y:9\n"
     ]
    }
   ],
   "source": [
    "# swapping two numbers using third variable\n",
    "\n",
    "def swap(x,y):\n",
    "    print(\"x:{} y:{}\".format(x,y))\n",
    "    temp=x\n",
    "    x=y\n",
    "    y=temp\n",
    "    print(\"x:{} y:{}\".format(x,y))\n",
    "    \n",
    "swap(x,y)"
   ]
  },
  {
   "cell_type": "code",
   "execution_count": 12,
   "id": "ae1f1836",
   "metadata": {},
   "outputs": [
    {
     "name": "stdout",
     "output_type": "stream",
     "text": [
      "5040\n",
      "5040\n",
      "120\n",
      "120\n"
     ]
    }
   ],
   "source": [
    "# factorial\n",
    "\n",
    "def fact(n): # method 1: using recursion\n",
    "    if n<=1:\n",
    "        return 1\n",
    "    return (n*fact(n-1))\n",
    "\n",
    "def factorial(n): # method 2: without recursion\n",
    "    fact=1\n",
    "    for i in range(1,n+1):\n",
    "        fact=fact*i\n",
    "    print(fact)   \n",
    "\n",
    "num=7\n",
    "print(fact(num))\n",
    "factorial(num)\n",
    "\n",
    "num=5\n",
    "print(fact(num))\n",
    "factorial(num)"
   ]
  },
  {
   "cell_type": "code",
   "execution_count": 5,
   "id": "d13690ee",
   "metadata": {},
   "outputs": [
    {
     "name": "stdout",
     "output_type": "stream",
     "text": [
      "\n",
      "\n"
     ]
    }
   ],
   "source": [
    "# fibonacii series\n",
    "\n",
    "def fib(n): # method 1: using recursion\n",
    "    if n<=1:\n",
    "        return n\n",
    "    return fib(n-1)+fib(n-2)\n",
    "\n",
    "def fibonacii(terms): # method 2: without recursion\n",
    "    n1=0\n",
    "    n2=1\n",
    "    if terms<=0:\n",
    "        return \n",
    "    elif terms==1:\n",
    "        print(n1)\n",
    "        return\n",
    "    else:\n",
    "        print(n1,end=\" \")\n",
    "        print(n2,end=\" \")\n",
    "        for i in range(2,terms):\n",
    "            nth=n1+n2\n",
    "            print(nth, end=\" \")\n",
    "            \n",
    "            n1=n2 # order matters\n",
    "            n2=nth\n",
    "\n",
    "terms=-3\n",
    "for i in range(terms):\n",
    "    print(fib(i),end=\" \")\n",
    "\n",
    "print(\"\\n\")\n",
    "fibonacii(terms)"
   ]
  },
  {
   "cell_type": "code",
   "execution_count": 7,
   "id": "7f2aeee4",
   "metadata": {},
   "outputs": [
    {
     "name": "stdout",
     "output_type": "stream",
     "text": [
      "Pallindrome\n",
      "Pallindrome\n"
     ]
    }
   ],
   "source": [
    "# string pallindrome\n",
    "\n",
    "def stringPallindrome(str1): # method 1\n",
    "    rev=str1[::-1] # reverse string\n",
    "    if str1==rev:\n",
    "        print(\"Pallindrome\")\n",
    "    else:\n",
    "        print(\"Not pallindrome\")\n",
    "        \n",
    "def strPallindrome(str1): # method 2\n",
    "    n=len(str1)\n",
    "    for i in range(0,n//2):\n",
    "        if str1[i]!=str1[n-i-1]:\n",
    "            return False\n",
    "    return True \n",
    "\n",
    "str1=\"abba\"\n",
    "stringPallindrome(str1)\n",
    "result=strPallindrome(str1)\n",
    "if(result):\n",
    "    print(\"Pallindrome\")\n",
    "else:\n",
    "    print(\"Not pallindrome\")"
   ]
  },
  {
   "cell_type": "code",
   "execution_count": 5,
   "id": "6eb2c10a",
   "metadata": {},
   "outputs": [
    {
     "name": "stdout",
     "output_type": "stream",
     "text": [
      "Pallindrome\n"
     ]
    }
   ],
   "source": [
    "# pallindrome number\n",
    "\n",
    "def pallindromeNumber(num):\n",
    "    rev=0\n",
    "    temp=num\n",
    "    while num>0:\n",
    "        ldigit=num%10 # last digit\n",
    "        rev=rev*10+ldigit\n",
    "        num=num//10\n",
    "    if temp==rev:\n",
    "        print(\"Pallindrome\")\n",
    "    else:\n",
    "        print(\"Not pallindrome\")\n",
    "\n",
    "num=121\n",
    "pallindromeNumber(num)"
   ]
  },
  {
   "cell_type": "code",
   "execution_count": 6,
   "id": "07ab3fab",
   "metadata": {},
   "outputs": [
    {
     "name": "stdout",
     "output_type": "stream",
     "text": [
      "mar\n",
      "mar\n"
     ]
    }
   ],
   "source": [
    "# reverse string\n",
    "\n",
    "def reverseString(str): # method 1\n",
    "    rev=\"\"\n",
    "    for i in str:\n",
    "        rev=i+rev\n",
    "    print(rev)\n",
    "    \n",
    "def reverseStr(str):\n",
    "    rev=str[::-1]\n",
    "    print(rev)\n",
    "    \n",
    "reverseString(\"ram\")\n",
    "reverseStr(\"ram\")"
   ]
  },
  {
   "cell_type": "code",
   "execution_count": 7,
   "id": "b8471018",
   "metadata": {},
   "outputs": [
    {
     "name": "stdout",
     "output_type": "stream",
     "text": [
      "10\n"
     ]
    }
   ],
   "source": [
    "# sum of digit\n",
    "\n",
    "def digitSum(num):\n",
    "    digSum=0\n",
    "    while num>0:\n",
    "        ldigit=num%10 # last digit\n",
    "        digSum+=ldigit\n",
    "        num=num//10\n",
    "    print(digSum)\n",
    "\n",
    "digitSum(1234)"
   ]
  },
  {
   "cell_type": "code",
   "execution_count": 16,
   "id": "26cd51f8",
   "metadata": {},
   "outputs": [
    {
     "name": "stdout",
     "output_type": "stream",
     "text": [
      "9\n"
     ]
    }
   ],
   "source": [
    "def highestDigit(num):\n",
    "    maxi=0\n",
    "    while num>0:\n",
    "        l=num%10\n",
    "        if l>maxi:\n",
    "            maxi=l\n",
    "        num=num//10\n",
    "    return maxi\n",
    "\n",
    "h=highestDigit(9916382)\n",
    "print(h)"
   ]
  },
  {
   "cell_type": "code",
   "execution_count": 13,
   "id": "4170c333",
   "metadata": {},
   "outputs": [],
   "source": [
    "# number of digit in number\n",
    "\n",
    "def countDigit(num):\n",
    "    count=0\n",
    "    while num>0:\n",
    "        num=num//10\n",
    "        count+=1\n",
    "    return count\n",
    "\n",
    "num=121"
   ]
  },
  {
   "cell_type": "code",
   "execution_count": 15,
   "id": "77fe0ee6",
   "metadata": {},
   "outputs": [
    {
     "name": "stdout",
     "output_type": "stream",
     "text": [
      "Armstrong\n"
     ]
    }
   ],
   "source": [
    "# armstrong number\n",
    "\n",
    "def armstrong(num):\n",
    "    sum=0\n",
    "    temp=num\n",
    "    while temp>0:\n",
    "        ldigit=temp%10 # last digit\n",
    "        sum+=ldigit**countDigit(num) # countDigit() defined in above cell\n",
    "        temp//=10\n",
    "    if num==sum:\n",
    "        print(\"Armstrong\")\n",
    "    else:\n",
    "        print(\"Not armstrong\")\n",
    "        \n",
    "num=407 # true ; 663 ->not\n",
    "armstrong(num)"
   ]
  },
  {
   "cell_type": "code",
   "execution_count": 2,
   "id": "ae57d7cf",
   "metadata": {},
   "outputs": [
    {
     "name": "stdout",
     "output_type": "stream",
     "text": [
      "anagram\n",
      "anagram\n"
     ]
    }
   ],
   "source": [
    "# anagram string\n",
    "\n",
    "def anagramCheck(str1,str2):\n",
    "    if sorted(str1)==sorted(str2):\n",
    "        return True\n",
    "    else:\n",
    "        return False\n",
    "\n",
    "str1=\"abba\"\n",
    "str2=\"aabb\"\n",
    "if anagramCheck(str1,str2):\n",
    "    print(\"anagram\")\n",
    "else:\n",
    "    print(\"Not anagram\")\n",
    "    \n",
    "# method 2\n",
    "\n",
    "def countChar(str1):\n",
    "    freq={}\n",
    "    for i in str1:\n",
    "        if i not in freq:\n",
    "            freq[i]=1\n",
    "        else:\n",
    "            freq[i]+=1\n",
    "    return freq\n",
    "\n",
    "fq1=countChar(\"abba\")\n",
    "fq2=countChar(\"bbaa\")\n",
    "\n",
    "if fq1==fq2:\n",
    "    print(\"anagram\")\n",
    "else:\n",
    "    print(\"Not anagram\")"
   ]
  },
  {
   "cell_type": "code",
   "execution_count": 4,
   "id": "937bcd1f",
   "metadata": {},
   "outputs": [
    {
     "name": "stdout",
     "output_type": "stream",
     "text": [
      "1111011\n",
      "\n",
      "1111011\n"
     ]
    }
   ],
   "source": [
    "# convert decimal into binary\n",
    "\n",
    "def decToBin(num):\n",
    "    if num>1:\n",
    "        decToBin(num//2)\n",
    "    print(num%2, end=\"\")\n",
    "    \n",
    "num=123\n",
    "decToBin(num)\n",
    "print('\\n')\n",
    "\n",
    "print(bin(num)[2:])    "
   ]
  },
  {
   "cell_type": "code",
   "execution_count": 1,
   "id": "70797061",
   "metadata": {},
   "outputs": [
    {
     "data": {
      "text/plain": [
       "'0b1111011'"
      ]
     },
     "execution_count": 1,
     "metadata": {},
     "output_type": "execute_result"
    }
   ],
   "source": [
    "bin(123)"
   ]
  },
  {
   "cell_type": "code",
   "execution_count": 19,
   "id": "fae6c6c7",
   "metadata": {},
   "outputs": [
    {
     "name": "stdout",
     "output_type": "stream",
     "text": [
      "srbh\n"
     ]
    }
   ],
   "source": [
    "# remove vowels from string\n",
    "\n",
    "def removeVowels(str):\n",
    "    newStr=\"\"\n",
    "    for i in str:\n",
    "        if i=='a' or i=='e' or i=='i' or i=='o' or i=='u':\n",
    "            pass\n",
    "        else:\n",
    "            newStr+=i\n",
    "    print(newStr)\n",
    "\n",
    "str=\"saurabh\"\n",
    "removeVowels(str)"
   ]
  },
  {
   "cell_type": "code",
   "execution_count": 3,
   "id": "9aea72e5",
   "metadata": {},
   "outputs": [
    {
     "name": "stdout",
     "output_type": "stream",
     "text": [
      "Prime\n"
     ]
    }
   ],
   "source": [
    "# prime number\n",
    "\n",
    "def prime(num):\n",
    "    if num <= 1:  # Updated condition to handle num = 1 and negative numbers\n",
    "        return False\n",
    "    else:\n",
    "        for i in range(2, num // 2 + 1):\n",
    "            if num % i == 0:\n",
    "                return False\n",
    "        return True\n",
    "\n",
    "num = 2\n",
    "if prime(num):\n",
    "    print(\"Prime\")\n",
    "else:\n",
    "    print(\"Not prime\")\n"
   ]
  },
  {
   "cell_type": "code",
   "execution_count": 23,
   "id": "963ecc43",
   "metadata": {},
   "outputs": [
    {
     "name": "stdout",
     "output_type": "stream",
     "text": [
      "Leap year\n"
     ]
    }
   ],
   "source": [
    "# check leap year\n",
    "\n",
    "def leapYear(year):\n",
    "    if year%100==0 and year%400==0:\n",
    "        print(\"Leap year\")\n",
    "    elif year%4==0 and year%100!=0:\n",
    "        print(\"Leap year\")\n",
    "    else:\n",
    "        print(\"Not leap year\")\n",
    "        \n",
    "year=2024\n",
    "leapYear(year)"
   ]
  },
  {
   "cell_type": "code",
   "execution_count": 2,
   "id": "65ffd741",
   "metadata": {},
   "outputs": [
    {
     "name": "stdout",
     "output_type": "stream",
     "text": [
      "saah"
     ]
    }
   ],
   "source": [
    "# print common character between two string\n",
    "\n",
    "def common(str1,str2):\n",
    "    for i in str1:\n",
    "        if i in str2:\n",
    "            print(i,end=\"\")\n",
    "            \n",
    "common(\"saurabh\",\"mahesh\")"
   ]
  },
  {
   "cell_type": "code",
   "execution_count": 2,
   "id": "cd4cad60",
   "metadata": {},
   "outputs": [
    {
     "name": "stdout",
     "output_type": "stream",
     "text": [
      "hbaruas\n"
     ]
    }
   ],
   "source": [
    "str1=\"saurabh\"\n",
    "rev=str1[::-1]\n",
    "print(rev)"
   ]
  },
  {
   "cell_type": "code",
   "execution_count": null,
   "id": "8875da1a",
   "metadata": {},
   "outputs": [],
   "source": [
    "# read a random line in a file\n",
    "\n",
    "import random\n",
    "def read_random(fname):\n",
    "    lines = open(fname).read().splitlines()\n",
    "    return random.choice(lines)\n",
    "print(read_random('hello.txt'))"
   ]
  },
  {
   "cell_type": "code",
   "execution_count": null,
   "id": "53e73317",
   "metadata": {},
   "outputs": [],
   "source": [
    "# count the total number of lines in a text file?\n",
    "\n",
    "def file_count(fname):\n",
    "    with open(fname) as f:\n",
    "        for i, _ in enumerate(f):\n",
    "            pass\n",
    "    return i + 1\n",
    "\n",
    "print(\"Total number of lines in the text file:\",\n",
    "file_count(\"file.txt\"))"
   ]
  },
  {
   "cell_type": "code",
   "execution_count": 4,
   "id": "357fb20b",
   "metadata": {},
   "outputs": [
    {
     "data": {
      "text/plain": [
       "[(0, 6), (1, 765), (2, 34), (3, 565), (4, 86)]"
      ]
     },
     "execution_count": 4,
     "metadata": {},
     "output_type": "execute_result"
    }
   ],
   "source": [
    "a=[6,765,34,565,86]\n",
    "d=list(enumerate(a))\n",
    "d"
   ]
  },
  {
   "cell_type": "code",
   "execution_count": null,
   "id": "af49f4cc",
   "metadata": {},
   "outputs": [],
   "source": [
    "# # count the total number of lines in a text file?\n",
    "\n",
    "# Specify the file path\n",
    "file_path = 'your_file.txt'\n",
    "\n",
    "# Initialize a line counter\n",
    "line_count = 0\n",
    "\n",
    "# Open the file and count lines\n",
    "with open(file_path, 'r') as file:\n",
    "    for line in file:\n",
    "        line_count += 1\n",
    "\n",
    "# Print the total number of lines\n",
    "print(f'Total number of lines in the file: {line_count}')\n"
   ]
  },
  {
   "cell_type": "code",
   "execution_count": null,
   "id": "69b0b09a",
   "metadata": {},
   "outputs": [],
   "source": [
    "# count the number of capital letters in a file\n",
    "\n",
    "count = 0\n",
    "with open(SOME_LARGE_FILE) as countletter:\n",
    "    text = countletter.read()\n",
    "    for character in text:\n",
    "        if character.isupper():\n",
    "            count += 1"
   ]
  },
  {
   "cell_type": "code",
   "execution_count": 11,
   "id": "b9e83c38",
   "metadata": {},
   "outputs": [
    {
     "name": "stdout",
     "output_type": "stream",
     "text": [
      "[11, 12, 22, 25, 34, 64, 90]\n"
     ]
    }
   ],
   "source": [
    "# Bubble sort\n",
    "\n",
    "def bubble_sort(arr):\n",
    "    n=len(arr)\n",
    "    for i in range(n):\n",
    "        swapped=False\n",
    "        for j in range(0,n-i-1):\n",
    "            if arr[j]>arr[j+1]:\n",
    "                arr[j],arr[j+1]=arr[j+1],arr[j]\n",
    "                swapped=True\n",
    "        #print(arr)\n",
    "        if not swapped:\n",
    "            break\n",
    "            \n",
    "arr=[64, 34, 25, 12, 22, 11, 90]\n",
    "bubble_sort(arr)\n",
    "print(arr)"
   ]
  },
  {
   "cell_type": "code",
   "execution_count": 5,
   "id": "5871ca61",
   "metadata": {},
   "outputs": [
    {
     "name": "stdout",
     "output_type": "stream",
     "text": [
      "[11, 12, 22, 25, 34, 64, 90]\n"
     ]
    }
   ],
   "source": [
    "# Selection sort\n",
    "\n",
    "def selection_sort(arr):\n",
    "    n=len(arr)\n",
    "    for i in range(n):\n",
    "        iMin=i\n",
    "        for j in range(i+1,n):\n",
    "            if arr[j]<arr[iMin]:\n",
    "                iMin=j\n",
    "        arr[iMin],arr[i]=arr[i],arr[iMin]\n",
    "        \n",
    "selection_sort(arr)\n",
    "print(arr)"
   ]
  },
  {
   "cell_type": "code",
   "execution_count": 11,
   "id": "488917cd",
   "metadata": {},
   "outputs": [
    {
     "name": "stdout",
     "output_type": "stream",
     "text": [
      "[11, 12, 22, 25, 34, 64, 90]\n"
     ]
    }
   ],
   "source": [
    "# Insertion sort\n",
    "\n",
    "def insertion_sort(arr):\n",
    "    n=len(arr)\n",
    "    for i in range(1,n):\n",
    "        key=arr[i]\n",
    "        \n",
    "        j=i-1\n",
    "        while j>=0 and key<arr[j]:\n",
    "            arr[j+1]=arr[j]\n",
    "            j-=1\n",
    "        arr[j+1]=key\n",
    "        \n",
    "insertion_sort(arr)\n",
    "print(arr)"
   ]
  },
  {
   "cell_type": "code",
   "execution_count": 13,
   "id": "49003564",
   "metadata": {},
   "outputs": [
    {
     "name": "stdout",
     "output_type": "stream",
     "text": [
      "Found:  6\n"
     ]
    }
   ],
   "source": [
    "def binary_search(arr,key):\n",
    "    low=0\n",
    "    high=len(arr)-1\n",
    "    \n",
    "    while low<=high:\n",
    "        mid=(low+high)//2\n",
    "        \n",
    "        if arr[mid]==key:\n",
    "            return mid\n",
    "        elif arr[mid]<key:\n",
    "            low=mid+1\n",
    "        else:\n",
    "            high=mid-1\n",
    "    return False\n",
    "            \n",
    "idx=binary_search(arr,90)\n",
    "if idx!= False:\n",
    "    print(\"Found: \",idx)\n",
    "else:\n",
    "    print(\"Not found\")"
   ]
  },
  {
   "cell_type": "code",
   "execution_count": 4,
   "id": "e2070b3c",
   "metadata": {},
   "outputs": [
    {
     "name": "stdout",
     "output_type": "stream",
     "text": [
      "Original Array: [1, 2, 3, 4, 5]\n",
      "Left Rotated Array: [3, 4, 5, 1, 2]\n"
     ]
    }
   ],
   "source": [
    "# left rotate an array\n",
    "\n",
    "def left_rotate_array(arr, n, d):\n",
    "    d = d % n  # Handle cases where d is greater than the array length\n",
    "    rotated_array = arr[d:] + arr[:d] # concatinate\n",
    "    return rotated_array\n",
    "\n",
    "# Example usage:\n",
    "arr = [1, 2, 3, 4, 5]\n",
    "n = len(arr)\n",
    "d = 2  # Number of positions to rotate left\n",
    "result = left_rotate_array(arr, n, d)\n",
    "print(\"Original Array:\", arr)\n",
    "print(\"Left Rotated Array:\", result)"
   ]
  },
  {
   "cell_type": "code",
   "execution_count": 5,
   "id": "f5418f7c",
   "metadata": {},
   "outputs": [
    {
     "name": "stdout",
     "output_type": "stream",
     "text": [
      "Original Array: [1, 2, 3, 4, 5]\n",
      "Right Rotated Array: [2, 3, 4, 5, 1]\n"
     ]
    }
   ],
   "source": [
    "def right_rotate_array(arr, n, d):\n",
    "    d = d % n  # Handle cases where d is greater than the array length\n",
    "    rotated_array = arr[-d:] + arr[:-d]\n",
    "    return rotated_array\n",
    "\n",
    "# Example usage:\n",
    "arr = [1, 2, 3, 4, 5]\n",
    "n = len(arr)\n",
    "d = 9  # Number of positions to rotate right\n",
    "result = right_rotate_array(arr, n, d)\n",
    "print(\"Original Array:\", arr)\n",
    "print(\"Right Rotated Array:\", result)\n"
   ]
  },
  {
   "cell_type": "code",
   "execution_count": 23,
   "id": "54588a90",
   "metadata": {},
   "outputs": [
    {
     "name": "stdout",
     "output_type": "stream",
     "text": [
      "Maximum sum: 25\n",
      "Contiguous subarray: [1, 2, 3, 4, 5, -6, 7, 8, -9, 10]\n"
     ]
    }
   ],
   "source": [
    "def find_max_subarray_sum(arr):\n",
    "    max_sum = arr[0]  # Initialize the maximum sum to the first element\n",
    "    current_sum = arr[0]  # Initialize the current sum to the first element\n",
    "\n",
    "    start_index = 0  # Start index of the current subarray\n",
    "    end_index = 0  # End index of the current subarray\n",
    "    temp_start_index = 0  # Temporary start index used to update the subarray\n",
    "\n",
    "    for i in range(1, len(arr)):\n",
    "        if arr[i] > current_sum + arr[i]:\n",
    "            current_sum = arr[i]\n",
    "            temp_start_index = i\n",
    "        else:\n",
    "            current_sum += arr[i]\n",
    "\n",
    "        if current_sum > max_sum:\n",
    "            max_sum = current_sum\n",
    "            start_index = temp_start_index\n",
    "            end_index = i\n",
    "\n",
    "    return max_sum, arr[start_index:end_index + 1]\n",
    "\n",
    "# Example usage:\n",
    "my_array = [1,2,3,4,5,-6,7,8,-9,10]\n",
    "max_sum, subarray = find_max_subarray_sum(my_array)\n",
    "\n",
    "print(\"Maximum sum:\", max_sum)\n",
    "print(\"Contiguous subarray:\", subarray)\n"
   ]
  },
  {
   "cell_type": "code",
   "execution_count": null,
   "id": "8173c694",
   "metadata": {},
   "outputs": [],
   "source": []
  }
 ],
 "metadata": {
  "kernelspec": {
   "display_name": "Python 3 (ipykernel)",
   "language": "python",
   "name": "python3"
  },
  "language_info": {
   "codemirror_mode": {
    "name": "ipython",
    "version": 3
   },
   "file_extension": ".py",
   "mimetype": "text/x-python",
   "name": "python",
   "nbconvert_exporter": "python",
   "pygments_lexer": "ipython3",
   "version": "3.9.6"
  }
 },
 "nbformat": 4,
 "nbformat_minor": 5
}
