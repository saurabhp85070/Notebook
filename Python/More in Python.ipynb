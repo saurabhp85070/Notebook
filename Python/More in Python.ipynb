{
 "cells": [
  {
   "cell_type": "markdown",
   "id": "4faa323e",
   "metadata": {},
   "source": [
    "# List comprehension\n",
    "\n",
    "List comprehension in Python is an easy and compact syntax for creating a list from a string or another list. It is a very concise way to create a new list by performing an operation on each item in the existing list. List comprehension is considerably faster than processing a list using the for loop.\n",
    "\n",
    "**Syntax:** `[expression for element in iterable if condition]`"
   ]
  },
  {
   "cell_type": "code",
   "execution_count": 3,
   "id": "28041b6e",
   "metadata": {},
   "outputs": [
    {
     "name": "stdout",
     "output_type": "stream",
     "text": [
      "[0, 2, 4, 6, 8, 10, 12, 14, 16, 18, 20]\n"
     ]
    }
   ],
   "source": [
    "even_nums = [x for x in range(21) if x%2 == 0]\n",
    "print(even_nums)"
   ]
  },
  {
   "cell_type": "code",
   "execution_count": 2,
   "id": "9ed5be98",
   "metadata": {},
   "outputs": [
    {
     "name": "stdout",
     "output_type": "stream",
     "text": [
      "['Ram', 'Mohan']\n"
     ]
    }
   ],
   "source": [
    "# List comprehension works with string lists also\n",
    "\n",
    "names = ['Steve', 'Bill', 'Ram', 'Mohan', 'Abdul']\n",
    "names2 = [s for s in names if 'a' in s]\n",
    "print(names2)"
   ]
  },
  {
   "cell_type": "code",
   "execution_count": 3,
   "id": "3be01340",
   "metadata": {},
   "outputs": [
    {
     "name": "stdout",
     "output_type": "stream",
     "text": [
      "[0, 1, 4, 9, 16, 25, 36, 49, 64, 81, 100]\n"
     ]
    }
   ],
   "source": [
    "# list comprehension to build a list of squares of the numbers between 1 and 10\n",
    "\n",
    "squares = [x*x for x in range(11)] \n",
    "print(squares) "
   ]
  },
  {
   "cell_type": "code",
   "execution_count": 4,
   "id": "fa31d525",
   "metadata": {},
   "outputs": [
    {
     "name": "stdout",
     "output_type": "stream",
     "text": [
      "[(1, 4), (1, 5), (1, 6), (2, 4), (2, 5), (2, 6), (3, 4), (3, 5), (3, 6)]\n"
     ]
    }
   ],
   "source": [
    "# List Comprehension using Nested Loops\n",
    "\n",
    "nums1 = [1, 2, 3]\n",
    "nums2 = [4, 5, 6]\n",
    "nums=[(x,y) for x in nums1 for y in nums2]\n",
    "print(nums)"
   ]
  },
  {
   "cell_type": "code",
   "execution_count": 2,
   "id": "571c4424",
   "metadata": {},
   "outputs": [
    {
     "name": "stdout",
     "output_type": "stream",
     "text": [
      "[0, 6, 12, 18]\n"
     ]
    }
   ],
   "source": [
    "# List Comprehension with Multiple if Conditions\n",
    "\n",
    "nums = [x for x in range(21) if x%2==0 if x%3==0] \n",
    "print(nums)"
   ]
  },
  {
   "cell_type": "code",
   "execution_count": 6,
   "id": "58a07925",
   "metadata": {},
   "outputs": [
    {
     "name": "stdout",
     "output_type": "stream",
     "text": [
      "['Even', 'Odd', 'Even', 'Odd', 'Even']\n",
      "['0=Even', '1=Odd', '2=Even', '3=Odd', '4=Even']\n"
     ]
    }
   ],
   "source": [
    "# List Comprehension with if-else Condition\n",
    "\n",
    "odd_even_list = [\"Even\" if i%2==0 else \"Odd\" for i in range(5)]\n",
    "print(odd_even_list)\n",
    "odd_even_list = [str(i) + '=Even' if i%2==0 else str(i) + \"=Odd\" for i in range(5)]\n",
    "print(odd_even_list)"
   ]
  },
  {
   "cell_type": "code",
   "execution_count": 2,
   "id": "694a4b19",
   "metadata": {},
   "outputs": [
    {
     "data": {
      "text/plain": [
       "[0, 2, 4, 6, 8, 10, 12, 14, 16, 18]"
      ]
     },
     "execution_count": 2,
     "metadata": {},
     "output_type": "execute_result"
    }
   ],
   "source": [
    "a=[i for i in range(20) if i%2==0]\n",
    "a"
   ]
  },
  {
   "cell_type": "code",
   "execution_count": 7,
   "id": "7dbb11c0",
   "metadata": {},
   "outputs": [
    {
     "name": "stdout",
     "output_type": "stream",
     "text": [
      "[1, 2, 3, 4, 5, 6, 7, 8, 9]\n"
     ]
    }
   ],
   "source": [
    "# Flatten List using List Comprehension\n",
    "\n",
    "matrix=[[1, 2, 3], [4, 5, 6], [7, 8, 9]]\n",
    "flatList=[num for row in matrix for num in row]\n",
    "print(flatList)"
   ]
  },
  {
   "cell_type": "markdown",
   "id": "987acfd4",
   "metadata": {},
   "source": [
    "### Note:\n",
    "\n",
    "List comprehensions in Python do not support the usage of elif statements. List comprehensions are primarily designed for simple if and else conditions. If you need more complex logic involving elif statements, it's recommended to use regular for loops and conditional statements instead."
   ]
  },
  {
   "cell_type": "markdown",
   "id": "dcf913f2",
   "metadata": {},
   "source": [
    "# Dictionary Comprehension\n",
    "\n",
    "It allows you to create dictionaries using a similar concise syntax as list comprehension.\n",
    "Here's the basic syntax for dictionary comprehension:\n",
    "\n",
    "**Syntax:** `new_dict = {key_expression: value_expression for item in iterable if condition}`"
   ]
  },
  {
   "cell_type": "code",
   "execution_count": 4,
   "id": "3b81865b",
   "metadata": {},
   "outputs": [
    {
     "name": "stdout",
     "output_type": "stream",
     "text": [
      "{1: 1, 2: 4, 3: 9, 4: 16, 5: 25}\n"
     ]
    }
   ],
   "source": [
    "squares_dict = {x: x ** 2 for x in range(1, 6)}\n",
    "print(squares_dict)"
   ]
  },
  {
   "cell_type": "code",
   "execution_count": 7,
   "id": "32b89869",
   "metadata": {},
   "outputs": [
    {
     "name": "stdout",
     "output_type": "stream",
     "text": [
      "{'Alice': 5, 'Bob': 3, 'Charlie': 7}\n"
     ]
    }
   ],
   "source": [
    "# Creating a dictionary from a list\n",
    "\n",
    "names = ['Alice', 'Bob', 'Charlie']\n",
    "name_lengths = {name: len(name) for name in names}\n",
    "print(name_lengths)"
   ]
  },
  {
   "cell_type": "code",
   "execution_count": 8,
   "id": "32851481",
   "metadata": {},
   "outputs": [
    {
     "name": "stdout",
     "output_type": "stream",
     "text": [
      "{2: 4, 4: 16, 6: 36}\n"
     ]
    }
   ],
   "source": [
    "# Filtering elements based on a condition\n",
    "\n",
    "numbers = [1, 2, 3, 4, 5, 6]\n",
    "even_squares = {num: num**2 for num in numbers if num % 2 == 0}\n",
    "print(even_squares)"
   ]
  },
  {
   "cell_type": "code",
   "execution_count": 9,
   "id": "5a6b6ef3",
   "metadata": {},
   "outputs": [
    {
     "name": "stdout",
     "output_type": "stream",
     "text": [
      "{'a': 1, 'b': 2, 'c': 3}\n"
     ]
    }
   ],
   "source": [
    "# Creating a dictionary from two lists\n",
    "\n",
    "keys = ['a', 'b', 'c']\n",
    "values = [1, 2, 3]\n",
    "dictionary = {key: value for key, value in zip(keys, values)}\n",
    "print(dictionary)"
   ]
  },
  {
   "cell_type": "code",
   "execution_count": 10,
   "id": "39a43d6a",
   "metadata": {},
   "outputs": [
    {
     "name": "stdout",
     "output_type": "stream",
     "text": [
      "{'a': 1, 'b': 4, 'c': 3, 'd': 16}\n"
     ]
    }
   ],
   "source": [
    "# Modifying values based on a condition\n",
    "\n",
    "numbers = {'a': 1, 'b': 2, 'c': 3, 'd': 4}\n",
    "numbers_squared = {key: value**2 if value % 2 == 0 else value for key, value in numbers.items()}\n",
    "print(numbers_squared)"
   ]
  },
  {
   "cell_type": "markdown",
   "id": "ed647600",
   "metadata": {},
   "source": [
    "# Set Comprehension\n",
    "\n",
    "It allows you to create sets using a similar syntax to list comprehension.\n",
    "Here's the basic syntax for set comprehension:\n",
    "\n",
    "**Syntax:** `new_set = {expression for item in iterable if condition}`"
   ]
  },
  {
   "cell_type": "code",
   "execution_count": 5,
   "id": "0c18b81b",
   "metadata": {},
   "outputs": [
    {
     "name": "stdout",
     "output_type": "stream",
     "text": [
      "{1, 4, 9, 16, 25}\n"
     ]
    }
   ],
   "source": [
    "squares_set = {x ** 2 for x in range(1, 6)}\n",
    "print(squares_set)"
   ]
  },
  {
   "cell_type": "code",
   "execution_count": 11,
   "id": "4b01ffb8",
   "metadata": {},
   "outputs": [
    {
     "name": "stdout",
     "output_type": "stream",
     "text": [
      "{1, 2, 3, 4, 5}\n"
     ]
    }
   ],
   "source": [
    "# Creating a set from a list\n",
    "\n",
    "numbers = [1, 2, 2, 3, 3, 4, 5, 5]\n",
    "unique_numbers = {x for x in numbers}\n",
    "print(unique_numbers)"
   ]
  },
  {
   "cell_type": "code",
   "execution_count": 12,
   "id": "b93fe9d9",
   "metadata": {},
   "outputs": [
    {
     "name": "stdout",
     "output_type": "stream",
     "text": [
      "{2, 4, 6}\n"
     ]
    }
   ],
   "source": [
    "# Filtering elements based on a condition\n",
    "\n",
    "numbers = {1, 2, 3, 4, 5, 6}\n",
    "even_numbers = {x for x in numbers if x % 2 == 0}\n",
    "print(even_numbers)"
   ]
  },
  {
   "cell_type": "code",
   "execution_count": 13,
   "id": "32df535b",
   "metadata": {},
   "outputs": [
    {
     "name": "stdout",
     "output_type": "stream",
     "text": [
      "{1, 4, 9, 16, 25}\n"
     ]
    }
   ],
   "source": [
    "# Creating a set of squares\n",
    "\n",
    "numbers = {1, 2, 3, 4, 5}\n",
    "squares = {x**2 for x in numbers}\n",
    "print(squares)"
   ]
  },
  {
   "cell_type": "code",
   "execution_count": 14,
   "id": "88f9edac",
   "metadata": {},
   "outputs": [
    {
     "name": "stdout",
     "output_type": "stream",
     "text": [
      "{'w', 'h', 'l', 'e', 'o', 'r', 'd'}\n"
     ]
    }
   ],
   "source": [
    "# Generating a set of lowercase characters\n",
    "\n",
    "text = 'Hello World'\n",
    "lowercase_chars = {ch.lower() for ch in text if ch.isalpha()}\n",
    "print(lowercase_chars)"
   ]
  },
  {
   "cell_type": "markdown",
   "id": "3fb0f0f4",
   "metadata": {},
   "source": [
    "# Magic or Dunder Methods \n",
    "\n",
    "Magic methods in Python are the special **methods that start and end with the double underscores**. They are also called dunder methods. Magic methods are not meant to be invoked directly by you, but the invocation happens internally from the class on a certain action. For example, when you add two numbers using the + operator, internally, the _ _add_ _() method will be called.\n",
    "\n",
    "Built-in classes in Python define many magic methods. Use the dir() function to see the number of magic methods inherited by a class. \n",
    "\n",
    "**For example, the following lists all the attributes and methods defined in the int class.**"
   ]
  },
  {
   "cell_type": "code",
   "execution_count": 8,
   "id": "226d7758",
   "metadata": {},
   "outputs": [
    {
     "data": {
      "text/plain": [
       "['__abs__',\n",
       " '__add__',\n",
       " '__and__',\n",
       " '__bool__',\n",
       " '__ceil__',\n",
       " '__class__',\n",
       " '__delattr__',\n",
       " '__dir__',\n",
       " '__divmod__',\n",
       " '__doc__',\n",
       " '__eq__',\n",
       " '__float__',\n",
       " '__floor__',\n",
       " '__floordiv__',\n",
       " '__format__',\n",
       " '__ge__',\n",
       " '__getattribute__',\n",
       " '__getnewargs__',\n",
       " '__gt__',\n",
       " '__hash__',\n",
       " '__index__',\n",
       " '__init__',\n",
       " '__init_subclass__',\n",
       " '__int__',\n",
       " '__invert__',\n",
       " '__le__',\n",
       " '__lshift__',\n",
       " '__lt__',\n",
       " '__mod__',\n",
       " '__mul__',\n",
       " '__ne__',\n",
       " '__neg__',\n",
       " '__new__',\n",
       " '__or__',\n",
       " '__pos__',\n",
       " '__pow__',\n",
       " '__radd__',\n",
       " '__rand__',\n",
       " '__rdivmod__',\n",
       " '__reduce__',\n",
       " '__reduce_ex__',\n",
       " '__repr__',\n",
       " '__rfloordiv__',\n",
       " '__rlshift__',\n",
       " '__rmod__',\n",
       " '__rmul__',\n",
       " '__ror__',\n",
       " '__round__',\n",
       " '__rpow__',\n",
       " '__rrshift__',\n",
       " '__rshift__',\n",
       " '__rsub__',\n",
       " '__rtruediv__',\n",
       " '__rxor__',\n",
       " '__setattr__',\n",
       " '__sizeof__',\n",
       " '__str__',\n",
       " '__sub__',\n",
       " '__subclasshook__',\n",
       " '__truediv__',\n",
       " '__trunc__',\n",
       " '__xor__',\n",
       " 'as_integer_ratio',\n",
       " 'bit_length',\n",
       " 'conjugate',\n",
       " 'denominator',\n",
       " 'from_bytes',\n",
       " 'imag',\n",
       " 'numerator',\n",
       " 'real',\n",
       " 'to_bytes']"
      ]
     },
     "execution_count": 8,
     "metadata": {},
     "output_type": "execute_result"
    }
   ],
   "source": [
    "dir(int)"
   ]
  },
  {
   "cell_type": "markdown",
   "id": "0d38251b",
   "metadata": {},
   "source": [
    "**(Read more about magic method here: https://www.tutorialsteacher.com/python/magic-methods-in-python)**"
   ]
  },
  {
   "cell_type": "markdown",
   "id": "ebb1ac93",
   "metadata": {},
   "source": [
    "# `@property` Decorator\n",
    "\n",
    "Python programming provides us with a built-in `@property` decorator which makes usage of getter and setters much easier in Object-Oriented Programming.\n",
    "\n",
    "Before going into details on what`@property` decorator is, let us first build an intuition on why it would be needed in the first place."
   ]
  },
  {
   "cell_type": "markdown",
   "id": "d5357157",
   "metadata": {},
   "source": [
    "**Class Without Getters and Setters**\n",
    "\n",
    "Let us assume that we decide to make a class that stores the temperature in degrees Celsius. And, it would also implement a method to convert the temperature into degrees Fahrenheit.\n",
    "\n",
    "One way of doing this is as follows:"
   ]
  },
  {
   "cell_type": "code",
   "execution_count": 1,
   "id": "9152e96d",
   "metadata": {},
   "outputs": [],
   "source": [
    "class Celsius:\n",
    "    def __init__(self, temperature = 0):\n",
    "        self.temperature = temperature\n",
    "\n",
    "    def to_fahrenheit(self):\n",
    "        return (self.temperature * 1.8) + 32"
   ]
  },
  {
   "cell_type": "markdown",
   "id": "d73f5685",
   "metadata": {},
   "source": [
    "We can make objects out of this class and manipulate the `temperature` attribute as we wish:"
   ]
  },
  {
   "cell_type": "code",
   "execution_count": 2,
   "id": "6fb6a5cc",
   "metadata": {},
   "outputs": [
    {
     "name": "stdout",
     "output_type": "stream",
     "text": [
      "37\n",
      "98.60000000000001\n"
     ]
    }
   ],
   "source": [
    "# Basic method of setting and getting attributes in Python\n",
    "class Celsius:\n",
    "    def __init__(self, temperature=0):\n",
    "        self.temperature = temperature\n",
    "\n",
    "    def to_fahrenheit(self):\n",
    "        return (self.temperature * 1.8) + 32\n",
    "\n",
    "\n",
    "# Create a new object\n",
    "human = Celsius()\n",
    "\n",
    "# Set the temperature\n",
    "human.temperature = 37\n",
    "\n",
    "# Get the temperature attribute\n",
    "print(human.temperature)\n",
    "\n",
    "# Get the to_fahrenheit method\n",
    "print(human.to_fahrenheit())"
   ]
  },
  {
   "cell_type": "markdown",
   "id": "4e1de2e8",
   "metadata": {},
   "source": [
    "Here, the extra decimal places when converting into Fahrenheit is due to the Floating Point Arithmetic Error.\n",
    "\n",
    "So, whenever we assign or retrieve any object attribute like `temperature` as shown above, Python searches it in the object's built-in `__dict__` dictionary attribute as"
   ]
  },
  {
   "cell_type": "code",
   "execution_count": 3,
   "id": "9a1409ed",
   "metadata": {},
   "outputs": [
    {
     "name": "stdout",
     "output_type": "stream",
     "text": [
      "{'temperature': 37}\n"
     ]
    }
   ],
   "source": [
    "print(human.__dict__) \n",
    "# Output: {'temperature': 37}"
   ]
  },
  {
   "cell_type": "markdown",
   "id": "bba03179",
   "metadata": {},
   "source": [
    "Therefore, `human.temperature` internally becomes `human.__dict__['temperature']`."
   ]
  },
  {
   "cell_type": "markdown",
   "id": "f03c26c7",
   "metadata": {},
   "source": [
    "**Using Getters and Setters**\n",
    "\n",
    "\n",
    "Suppose we want to extend the usability of the Celsius class defined above. We know that the temperature of any object cannot reach below -273.15 degrees Celsius.\n",
    "\n",
    "Let's update our code to implement this value constraint.\n",
    "\n",
    "An obvious solution to the above restriction will be to hide the attribute temperature (make it private) and define new getter and setter methods to manipulate it.\n",
    "\n",
    "This can be done as follows:"
   ]
  },
  {
   "cell_type": "code",
   "execution_count": 4,
   "id": "258f34a0",
   "metadata": {},
   "outputs": [],
   "source": [
    "# Making Getters and Setter methods\n",
    "class Celsius:\n",
    "    def __init__(self, temperature=0):\n",
    "        self.set_temperature(temperature)\n",
    "\n",
    "    def to_fahrenheit(self):\n",
    "        return (self.get_temperature() * 1.8) + 32\n",
    "\n",
    "    # getter method\n",
    "    def get_temperature(self):\n",
    "        return self._temperature\n",
    "\n",
    "    # setter method\n",
    "    def set_temperature(self, value):\n",
    "        if value < -273.15:\n",
    "            raise ValueError(\"Temperature below -273.15 is not possible.\")\n",
    "        self._temperature = value"
   ]
  },
  {
   "cell_type": "markdown",
   "id": "2cf5c5a5",
   "metadata": {},
   "source": [
    "As we can see, the above method introduces two new `get_temperature()` and `set_temperature()` methods.\n",
    "\n",
    "Furthermore, temperature was replaced with `_temperature`. An underscore `_` at the beginning is used to denote **private variables** in Python.\n",
    "\n",
    "Now, let's use this implementation:"
   ]
  },
  {
   "cell_type": "code",
   "execution_count": 5,
   "id": "a332ce36",
   "metadata": {},
   "outputs": [
    {
     "name": "stdout",
     "output_type": "stream",
     "text": [
      "37\n",
      "98.60000000000001\n"
     ]
    },
    {
     "ename": "ValueError",
     "evalue": "Temperature below -273.15 is not possible.",
     "output_type": "error",
     "traceback": [
      "\u001b[1;31m---------------------------------------------------------------------------\u001b[0m",
      "\u001b[1;31mValueError\u001b[0m                                Traceback (most recent call last)",
      "\u001b[1;32mC:\\Users\\SAURAB~1\\AppData\\Local\\Temp/ipykernel_11744/489117761.py\u001b[0m in \u001b[0;36m<module>\u001b[1;34m\u001b[0m\n\u001b[0;32m     28\u001b[0m \u001b[1;33m\u001b[0m\u001b[0m\n\u001b[0;32m     29\u001b[0m \u001b[1;31m# new constraint implementation\u001b[0m\u001b[1;33m\u001b[0m\u001b[1;33m\u001b[0m\u001b[1;33m\u001b[0m\u001b[0m\n\u001b[1;32m---> 30\u001b[1;33m \u001b[0mhuman\u001b[0m\u001b[1;33m.\u001b[0m\u001b[0mset_temperature\u001b[0m\u001b[1;33m(\u001b[0m\u001b[1;33m-\u001b[0m\u001b[1;36m300\u001b[0m\u001b[1;33m)\u001b[0m\u001b[1;33m\u001b[0m\u001b[1;33m\u001b[0m\u001b[0m\n\u001b[0m\u001b[0;32m     31\u001b[0m \u001b[1;33m\u001b[0m\u001b[0m\n\u001b[0;32m     32\u001b[0m \u001b[1;31m# Get the to_fahreheit method\u001b[0m\u001b[1;33m\u001b[0m\u001b[1;33m\u001b[0m\u001b[1;33m\u001b[0m\u001b[0m\n",
      "\u001b[1;32mC:\\Users\\SAURAB~1\\AppData\\Local\\Temp/ipykernel_11744/489117761.py\u001b[0m in \u001b[0;36mset_temperature\u001b[1;34m(self, value)\u001b[0m\n\u001b[0;32m     14\u001b[0m     \u001b[1;32mdef\u001b[0m \u001b[0mset_temperature\u001b[0m\u001b[1;33m(\u001b[0m\u001b[0mself\u001b[0m\u001b[1;33m,\u001b[0m \u001b[0mvalue\u001b[0m\u001b[1;33m)\u001b[0m\u001b[1;33m:\u001b[0m\u001b[1;33m\u001b[0m\u001b[1;33m\u001b[0m\u001b[0m\n\u001b[0;32m     15\u001b[0m         \u001b[1;32mif\u001b[0m \u001b[0mvalue\u001b[0m \u001b[1;33m<\u001b[0m \u001b[1;33m-\u001b[0m\u001b[1;36m273.15\u001b[0m\u001b[1;33m:\u001b[0m\u001b[1;33m\u001b[0m\u001b[1;33m\u001b[0m\u001b[0m\n\u001b[1;32m---> 16\u001b[1;33m             \u001b[1;32mraise\u001b[0m \u001b[0mValueError\u001b[0m\u001b[1;33m(\u001b[0m\u001b[1;34m\"Temperature below -273.15 is not possible.\"\u001b[0m\u001b[1;33m)\u001b[0m\u001b[1;33m\u001b[0m\u001b[1;33m\u001b[0m\u001b[0m\n\u001b[0m\u001b[0;32m     17\u001b[0m         \u001b[0mself\u001b[0m\u001b[1;33m.\u001b[0m\u001b[0m_temperature\u001b[0m \u001b[1;33m=\u001b[0m \u001b[0mvalue\u001b[0m\u001b[1;33m\u001b[0m\u001b[1;33m\u001b[0m\u001b[0m\n\u001b[0;32m     18\u001b[0m \u001b[1;33m\u001b[0m\u001b[0m\n",
      "\u001b[1;31mValueError\u001b[0m: Temperature below -273.15 is not possible."
     ]
    }
   ],
   "source": [
    "# Making Getters and Setter methods\n",
    "class Celsius:\n",
    "    def __init__(self, temperature=0):\n",
    "        self.set_temperature(temperature)\n",
    "\n",
    "    def to_fahrenheit(self):\n",
    "        return (self.get_temperature() * 1.8) + 32\n",
    "\n",
    "    # getter method\n",
    "    def get_temperature(self):\n",
    "        return self._temperature\n",
    "\n",
    "    # setter method\n",
    "    def set_temperature(self, value):\n",
    "        if value < -273.15:\n",
    "            raise ValueError(\"Temperature below -273.15 is not possible.\")\n",
    "        self._temperature = value\n",
    "\n",
    "\n",
    "# Create a new object, set_temperature() internally called by __init__\n",
    "human = Celsius(37)\n",
    "\n",
    "# Get the temperature attribute via a getter\n",
    "print(human.get_temperature())\n",
    "\n",
    "# Get the to_fahrenheit method, get_temperature() called by the method itself\n",
    "print(human.to_fahrenheit())\n",
    "\n",
    "# new constraint implementation\n",
    "human.set_temperature(-300)\n",
    "\n",
    "# Get the to_fahreheit method\n",
    "print(human.to_fahrenheit())"
   ]
  },
  {
   "cell_type": "markdown",
   "id": "ed005bfe",
   "metadata": {},
   "source": [
    "This update successfully implemented the new restriction. We are no longer allowed to set the `temperature` below -273.15 degrees Celsius.\n",
    "\n",
    "**Note:** The private variables don't actually exist in Python. There are simply norms to be followed. The language itself doesn't apply any restrictions."
   ]
  },
  {
   "cell_type": "markdown",
   "id": "a81af2a8",
   "metadata": {},
   "source": [
    "However, the bigger problem with the above update is that all the programs that implemented our previous class have to modify their code from `obj.temperature` to `obj.get_temperature()` and all expressions like` obj.temperature = val` to `obj.set_temperature(val)`.\n",
    "\n",
    "This refactoring can cause problems while dealing with hundreds of thousands of lines of codes.\n",
    "\n",
    "All in all, our new update was not backwards compatible. This is where `@property` comes to rescue."
   ]
  },
  {
   "cell_type": "markdown",
   "id": "a0fc9fbe",
   "metadata": {},
   "source": [
    "**The property Class**\n",
    "\n",
    "A pythonic way to deal with the above problem is to use the property class. Here is how we can update our code:"
   ]
  },
  {
   "cell_type": "code",
   "execution_count": 6,
   "id": "cf79f884",
   "metadata": {},
   "outputs": [],
   "source": [
    "# using property class\n",
    "class Celsius:\n",
    "    def __init__(self, temperature=0):\n",
    "        self.temperature = temperature\n",
    "\n",
    "    def to_fahrenheit(self):\n",
    "        return (self.temperature * 1.8) + 32\n",
    "\n",
    "    # getter\n",
    "    def get_temperature(self):\n",
    "        print(\"Getting value...\")\n",
    "        return self._temperature\n",
    "\n",
    "    # setter\n",
    "    def set_temperature(self, value):\n",
    "        print(\"Setting value...\")\n",
    "        if value < -273.15:\n",
    "            raise ValueError(\"Temperature below -273.15 is not possible\")\n",
    "        self._temperature = value\n",
    "\n",
    "    # creating a property object\n",
    "    temperature = property(get_temperature, set_temperature)"
   ]
  },
  {
   "cell_type": "markdown",
   "id": "57c7f924",
   "metadata": {},
   "source": [
    "We added the `print()` function inside `get_temperature()` and `set_temperature()` to clearly observe that they are being executed.\n",
    "\n",
    "The last line of the code makes a property object `temperature`. Simply put, property attaches some code (`get_temperature` and `set_temperature`) to the member attribute accesses (`temperature`).\n",
    "\n",
    "Let's use this update code:"
   ]
  },
  {
   "cell_type": "code",
   "execution_count": 7,
   "id": "d45a8e40",
   "metadata": {},
   "outputs": [
    {
     "name": "stdout",
     "output_type": "stream",
     "text": [
      "Setting value...\n",
      "Getting value...\n",
      "37\n",
      "Getting value...\n",
      "98.60000000000001\n",
      "Setting value...\n"
     ]
    },
    {
     "ename": "ValueError",
     "evalue": "Temperature below -273.15 is not possible",
     "output_type": "error",
     "traceback": [
      "\u001b[1;31m---------------------------------------------------------------------------\u001b[0m",
      "\u001b[1;31mValueError\u001b[0m                                Traceback (most recent call last)",
      "\u001b[1;32mC:\\Users\\SAURAB~1\\AppData\\Local\\Temp/ipykernel_11744/2626880778.py\u001b[0m in \u001b[0;36m<module>\u001b[1;34m\u001b[0m\n\u001b[0;32m     29\u001b[0m \u001b[0mprint\u001b[0m\u001b[1;33m(\u001b[0m\u001b[0mhuman\u001b[0m\u001b[1;33m.\u001b[0m\u001b[0mto_fahrenheit\u001b[0m\u001b[1;33m(\u001b[0m\u001b[1;33m)\u001b[0m\u001b[1;33m)\u001b[0m\u001b[1;33m\u001b[0m\u001b[1;33m\u001b[0m\u001b[0m\n\u001b[0;32m     30\u001b[0m \u001b[1;33m\u001b[0m\u001b[0m\n\u001b[1;32m---> 31\u001b[1;33m \u001b[0mhuman\u001b[0m\u001b[1;33m.\u001b[0m\u001b[0mtemperature\u001b[0m \u001b[1;33m=\u001b[0m \u001b[1;33m-\u001b[0m\u001b[1;36m300\u001b[0m\u001b[1;33m\u001b[0m\u001b[1;33m\u001b[0m\u001b[0m\n\u001b[0m",
      "\u001b[1;32mC:\\Users\\SAURAB~1\\AppData\\Local\\Temp/ipykernel_11744/2626880778.py\u001b[0m in \u001b[0;36mset_temperature\u001b[1;34m(self, value)\u001b[0m\n\u001b[0;32m     16\u001b[0m         \u001b[0mprint\u001b[0m\u001b[1;33m(\u001b[0m\u001b[1;34m\"Setting value...\"\u001b[0m\u001b[1;33m)\u001b[0m\u001b[1;33m\u001b[0m\u001b[1;33m\u001b[0m\u001b[0m\n\u001b[0;32m     17\u001b[0m         \u001b[1;32mif\u001b[0m \u001b[0mvalue\u001b[0m \u001b[1;33m<\u001b[0m \u001b[1;33m-\u001b[0m\u001b[1;36m273.15\u001b[0m\u001b[1;33m:\u001b[0m\u001b[1;33m\u001b[0m\u001b[1;33m\u001b[0m\u001b[0m\n\u001b[1;32m---> 18\u001b[1;33m             \u001b[1;32mraise\u001b[0m \u001b[0mValueError\u001b[0m\u001b[1;33m(\u001b[0m\u001b[1;34m\"Temperature below -273.15 is not possible\"\u001b[0m\u001b[1;33m)\u001b[0m\u001b[1;33m\u001b[0m\u001b[1;33m\u001b[0m\u001b[0m\n\u001b[0m\u001b[0;32m     19\u001b[0m         \u001b[0mself\u001b[0m\u001b[1;33m.\u001b[0m\u001b[0m_temperature\u001b[0m \u001b[1;33m=\u001b[0m \u001b[0mvalue\u001b[0m\u001b[1;33m\u001b[0m\u001b[1;33m\u001b[0m\u001b[0m\n\u001b[0;32m     20\u001b[0m \u001b[1;33m\u001b[0m\u001b[0m\n",
      "\u001b[1;31mValueError\u001b[0m: Temperature below -273.15 is not possible"
     ]
    }
   ],
   "source": [
    "# using property class\n",
    "class Celsius:\n",
    "    def __init__(self, temperature=0):\n",
    "        self.temperature = temperature\n",
    "\n",
    "    def to_fahrenheit(self):\n",
    "        return (self.temperature * 1.8) + 32\n",
    "\n",
    "    # getter\n",
    "    def get_temperature(self):\n",
    "        print(\"Getting value...\")\n",
    "        return self._temperature\n",
    "\n",
    "    # setter\n",
    "    def set_temperature(self, value):\n",
    "        print(\"Setting value...\")\n",
    "        if value < -273.15:\n",
    "            raise ValueError(\"Temperature below -273.15 is not possible\")\n",
    "        self._temperature = value\n",
    "\n",
    "    # creating a property object\n",
    "    temperature = property(get_temperature, set_temperature)\n",
    "\n",
    "\n",
    "human = Celsius(37)\n",
    "\n",
    "print(human.temperature)\n",
    "\n",
    "print(human.to_fahrenheit())\n",
    "\n",
    "human.temperature = -300"
   ]
  },
  {
   "cell_type": "markdown",
   "id": "d63daa28",
   "metadata": {},
   "source": [
    "As we can see, any code that retrieves the value of `temperature` will automatically call `get_temperature()` instead of a dictionary (`__dict__`) look-up.\n",
    "\n",
    "Similarly, any code that assigns a value to `temperature` will automatically call `set_temperature()`.\n",
    "\n",
    "We can even see above that `set_temperature()` was called even when we created an object.\n",
    "\n"
   ]
  },
  {
   "cell_type": "code",
   "execution_count": 8,
   "id": "dc9b0128",
   "metadata": {},
   "outputs": [
    {
     "name": "stdout",
     "output_type": "stream",
     "text": [
      "Setting value...\n"
     ]
    }
   ],
   "source": [
    "human = Celsius(37) # prints Setting value..."
   ]
  },
  {
   "cell_type": "markdown",
   "id": "8ccd73e5",
   "metadata": {},
   "source": [
    "**Can you guess why?**\n",
    "\n",
    "The reason is that when an object is created, the `__init__()` method gets called. This method has the line `self.temperature = temperature`. This expression automatically calls `set_temperature()`.\n",
    "\n",
    "Similarly, any access like `c.temperature` automatically calls `get_temperature()`. This is what property does.\n",
    "\n",
    "By using property, we can see that no modification is required in the implementation of the value constraint. Thus, our implementation is backward compatible."
   ]
  },
  {
   "cell_type": "markdown",
   "id": "14ac0334",
   "metadata": {},
   "source": [
    "**Note:** The actual temperature value is stored in the private _temperature variable. The temperature attribute is a property object which provides an interface to this private variable."
   ]
  },
  {
   "cell_type": "markdown",
   "id": "4c019329",
   "metadata": {},
   "source": [
    "**The `@property` Decorator**\n",
    "\n",
    "In Python, `property()` is a built-in function that creates and returns a property object. The syntax of this function is:\n",
    "\n",
    "`property(fget=None, fset=None, fdel=None, doc=None)`\n",
    "\n",
    "Here,\n",
    "\n",
    "* `fget` is function to get value of the attribute\n",
    "* `fset` is function to set value of the attribute\n",
    "* `fdel` is function to delete the attribute\n",
    "* `doc` is a string (like a comment)\n",
    "\n",
    "As seen from the implementation, these function arguments are optional.\n",
    "\n",
    "A property object has three methods, `getter()`, `setter()`, and `deleter()` to specify `fget`, `fset` and `fdel` at a later point. This means, the line:"
   ]
  },
  {
   "cell_type": "markdown",
   "id": "8084a3ac",
   "metadata": {},
   "source": [
    "`temperature = property(get_temperature,set_temperature)`\n",
    "\n",
    "can be broken down as:\n",
    "\n",
    "    # make empty property\n",
    "    temperature = property()\n",
    "\n",
    "    # assign fget\n",
    "    temperature = temperature.getter(get_temperature)\n",
    "\n",
    "    # assign fset\n",
    "    temperature = temperature.setter(set_temperature)"
   ]
  },
  {
   "cell_type": "markdown",
   "id": "cafd5306",
   "metadata": {},
   "source": [
    "These two pieces of code are equivalent.\n",
    "\n",
    "Programmers familiar with Python Decorators can recognize that the above construct can be implemented as decorators.\n",
    "\n",
    "We can even not define the names `get_temperature` and `set_temperature` as they are unnecessary and pollute the class namespace.\n",
    "\n",
    "For this, we reuse the temperature name while defining our `getter` and `setter` functions. Let's look at how to implement this as a decorator:"
   ]
  },
  {
   "cell_type": "code",
   "execution_count": 11,
   "id": "7c93a49b",
   "metadata": {},
   "outputs": [
    {
     "name": "stdout",
     "output_type": "stream",
     "text": [
      "Setting value...\n",
      "Getting value...\n",
      "37\n",
      "Getting value...\n",
      "98.60000000000001\n",
      "Setting value...\n"
     ]
    },
    {
     "ename": "ValueError",
     "evalue": "Temperature below -273 is not possible",
     "output_type": "error",
     "traceback": [
      "\u001b[1;31m---------------------------------------------------------------------------\u001b[0m",
      "\u001b[1;31mValueError\u001b[0m                                Traceback (most recent call last)",
      "\u001b[1;32mC:\\Users\\SAURAB~1\\AppData\\Local\\Temp/ipykernel_11744/1952848121.py\u001b[0m in \u001b[0;36m<module>\u001b[1;34m\u001b[0m\n\u001b[0;32m     27\u001b[0m \u001b[0mprint\u001b[0m\u001b[1;33m(\u001b[0m\u001b[0mhuman\u001b[0m\u001b[1;33m.\u001b[0m\u001b[0mto_fahrenheit\u001b[0m\u001b[1;33m(\u001b[0m\u001b[1;33m)\u001b[0m\u001b[1;33m)\u001b[0m\u001b[1;33m\u001b[0m\u001b[1;33m\u001b[0m\u001b[0m\n\u001b[0;32m     28\u001b[0m \u001b[1;33m\u001b[0m\u001b[0m\n\u001b[1;32m---> 29\u001b[1;33m \u001b[0mcoldest_thing\u001b[0m \u001b[1;33m=\u001b[0m \u001b[0mCelsius\u001b[0m\u001b[1;33m(\u001b[0m\u001b[1;33m-\u001b[0m\u001b[1;36m300\u001b[0m\u001b[1;33m)\u001b[0m\u001b[1;33m\u001b[0m\u001b[1;33m\u001b[0m\u001b[0m\n\u001b[0m",
      "\u001b[1;32mC:\\Users\\SAURAB~1\\AppData\\Local\\Temp/ipykernel_11744/1952848121.py\u001b[0m in \u001b[0;36m__init__\u001b[1;34m(self, temperature)\u001b[0m\n\u001b[0;32m      2\u001b[0m \u001b[1;32mclass\u001b[0m \u001b[0mCelsius\u001b[0m\u001b[1;33m:\u001b[0m\u001b[1;33m\u001b[0m\u001b[1;33m\u001b[0m\u001b[0m\n\u001b[0;32m      3\u001b[0m     \u001b[1;32mdef\u001b[0m \u001b[0m__init__\u001b[0m\u001b[1;33m(\u001b[0m\u001b[0mself\u001b[0m\u001b[1;33m,\u001b[0m \u001b[0mtemperature\u001b[0m\u001b[1;33m=\u001b[0m\u001b[1;36m0\u001b[0m\u001b[1;33m)\u001b[0m\u001b[1;33m:\u001b[0m\u001b[1;33m\u001b[0m\u001b[1;33m\u001b[0m\u001b[0m\n\u001b[1;32m----> 4\u001b[1;33m         \u001b[0mself\u001b[0m\u001b[1;33m.\u001b[0m\u001b[0mtemperature\u001b[0m \u001b[1;33m=\u001b[0m \u001b[0mtemperature\u001b[0m\u001b[1;33m\u001b[0m\u001b[1;33m\u001b[0m\u001b[0m\n\u001b[0m\u001b[0;32m      5\u001b[0m \u001b[1;33m\u001b[0m\u001b[0m\n\u001b[0;32m      6\u001b[0m     \u001b[1;32mdef\u001b[0m \u001b[0mto_fahrenheit\u001b[0m\u001b[1;33m(\u001b[0m\u001b[0mself\u001b[0m\u001b[1;33m)\u001b[0m\u001b[1;33m:\u001b[0m\u001b[1;33m\u001b[0m\u001b[1;33m\u001b[0m\u001b[0m\n",
      "\u001b[1;32mC:\\Users\\SAURAB~1\\AppData\\Local\\Temp/ipykernel_11744/1952848121.py\u001b[0m in \u001b[0;36mtemperature\u001b[1;34m(self, value)\u001b[0m\n\u001b[0;32m     16\u001b[0m         \u001b[0mprint\u001b[0m\u001b[1;33m(\u001b[0m\u001b[1;34m\"Setting value...\"\u001b[0m\u001b[1;33m)\u001b[0m\u001b[1;33m\u001b[0m\u001b[1;33m\u001b[0m\u001b[0m\n\u001b[0;32m     17\u001b[0m         \u001b[1;32mif\u001b[0m \u001b[0mvalue\u001b[0m \u001b[1;33m<\u001b[0m \u001b[1;33m-\u001b[0m\u001b[1;36m273.15\u001b[0m\u001b[1;33m:\u001b[0m\u001b[1;33m\u001b[0m\u001b[1;33m\u001b[0m\u001b[0m\n\u001b[1;32m---> 18\u001b[1;33m             \u001b[1;32mraise\u001b[0m \u001b[0mValueError\u001b[0m\u001b[1;33m(\u001b[0m\u001b[1;34m\"Temperature below -273 is not possible\"\u001b[0m\u001b[1;33m)\u001b[0m\u001b[1;33m\u001b[0m\u001b[1;33m\u001b[0m\u001b[0m\n\u001b[0m\u001b[0;32m     19\u001b[0m         \u001b[0mself\u001b[0m\u001b[1;33m.\u001b[0m\u001b[0m_temperature\u001b[0m \u001b[1;33m=\u001b[0m \u001b[0mvalue\u001b[0m\u001b[1;33m\u001b[0m\u001b[1;33m\u001b[0m\u001b[0m\n\u001b[0;32m     20\u001b[0m \u001b[1;33m\u001b[0m\u001b[0m\n",
      "\u001b[1;31mValueError\u001b[0m: Temperature below -273 is not possible"
     ]
    }
   ],
   "source": [
    "# Using @property decorator\n",
    "class Celsius:\n",
    "    def __init__(self, temperature=0):\n",
    "        self.temperature = temperature\n",
    "\n",
    "    def to_fahrenheit(self):\n",
    "        return (self.temperature * 1.8) + 32\n",
    "\n",
    "    @property\n",
    "    def temperature(self):\n",
    "        print(\"Getting value...\")\n",
    "        return self._temperature\n",
    "\n",
    "    @temperature.setter\n",
    "    def temperature(self, value):\n",
    "        print(\"Setting value...\")\n",
    "        if value < -273.15:\n",
    "            raise ValueError(\"Temperature below -273 is not possible\")\n",
    "        self._temperature = value\n",
    "\n",
    "\n",
    "# create an object\n",
    "human = Celsius(37)\n",
    "\n",
    "print(human.temperature)\n",
    "\n",
    "print(human.to_fahrenheit())\n",
    "\n",
    "coldest_thing = Celsius(-300)"
   ]
  },
  {
   "cell_type": "markdown",
   "id": "84280fda",
   "metadata": {},
   "source": [
    "The above implementation is simple and efficient. It is the recommended way to use `property`."
   ]
  },
  {
   "cell_type": "markdown",
   "id": "2cd3e557",
   "metadata": {},
   "source": [
    "# Regular Expression\n",
    "\n",
    "https://www.programiz.com/python-programming/regex\n",
    "\n"
   ]
  },
  {
   "cell_type": "markdown",
   "id": "55401af9",
   "metadata": {},
   "source": [
    "# Type hint\n",
    "\n",
    "Type hints in Python are a way to specify the expected types of variables, function parameters, and return values in your code. Type hints were introduced in PEP 484 and have been further refined in subsequent Python versions, making Python a more statically analyzable language. \n",
    "\n",
    "They don't enforce strict type checking at runtime, but they can be used by static type checkers like mypy to catch type-related issues in your code before execution.\n",
    "\n",
    "Here are some key aspects of type hints in Python:\n",
    "\n",
    "1. **Type Annotations:** Type hints are added to your code using type annotations. You can annotate variables, function parameters, and return values with the expected types."
   ]
  },
  {
   "cell_type": "code",
   "execution_count": 2,
   "id": "b854dd39",
   "metadata": {},
   "outputs": [
    {
     "data": {
      "text/plain": [
       "'Hello, World'"
      ]
     },
     "execution_count": 2,
     "metadata": {},
     "output_type": "execute_result"
    }
   ],
   "source": [
    "age: int = 30\n",
    "def greet(name: str) -> str:\n",
    "    return \"Hello, \" + name\n",
    "\n",
    "greet(\"World\")"
   ]
  },
  {
   "cell_type": "markdown",
   "id": "fa2d7b37",
   "metadata": {},
   "source": [
    "2. **Type Hint Syntax:** Type hints use a colon (`:`) to separate the variable or parameter name from its type. The `->` arrow is used to specify the return type of a function.\n",
    "\n",
    "3. **Built-in Types:** Python provides a variety of built-in types that can be used in type hints, such as `int`, `str`, `list`, `dict`, and more.\n",
    "\n",
    "4. **Custom Types and Type Aliases:** You can create custom types and type aliases using typing module constructs like `Union`, `List`, `Tuple`, and `Dict`."
   ]
  },
  {
   "cell_type": "code",
   "execution_count": 3,
   "id": "9f0b03cc",
   "metadata": {},
   "outputs": [],
   "source": [
    "from typing import List, Union\n",
    "\n",
    "Vector = List[Union[int, float]]"
   ]
  },
  {
   "cell_type": "markdown",
   "id": "eb00b694",
   "metadata": {},
   "source": [
    "5. **Optional Types:** You can indicate that a variable can be None by using the `Optional` type hint."
   ]
  },
  {
   "cell_type": "code",
   "execution_count": 4,
   "id": "1a1dda75",
   "metadata": {},
   "outputs": [],
   "source": [
    "from typing import Optional\n",
    "\n",
    "def find_element(items: List[int], target: int) -> Optional[int]:\n",
    "    if target in items:\n",
    "        return target\n",
    "    else:\n",
    "        return None"
   ]
  },
  {
   "cell_type": "markdown",
   "id": "11ac4371",
   "metadata": {},
   "source": [
    "The `->` arrow in type hints is used to specify the expected return type of a function or method. It is a way to indicate what type of value a function is expected to return. Here's the basic syntax:\n",
    "\n",
    "    def function_name(parameters) -> return_type:\n",
    "    # function implementation\n"
   ]
  },
  {
   "cell_type": "markdown",
   "id": "f21b534d",
   "metadata": {},
   "source": [
    "Here are some key points to understand about the -> notation for specifying return types in type hints:\n",
    "\n",
    "1. `Syntax`: The -> notation is placed after the parameter list and before the colon that starts the function or method's block. It indicates the type that the function is expected to return.\n",
    "\n",
    "2. `Optional`: Specifying a return type with -> is optional in Python. You can omit it, and Python will still allow you to write and run the code. However, it's a good practice, as it makes the code more self-documenting and allows static type checkers like mypy to catch potential type-related issues.\n",
    "\n",
    "3. `Return Type`: The return type can be any valid Python type, including built-in types like int, str, list, custom classes, or type hints from the typing module (e.g., List[int], Optional[str], etc.).\n",
    "\n",
    "4. `Multiple Return Types`: You can use the Union type hint from the typing module to specify that a function can return values of multiple types."
   ]
  },
  {
   "cell_type": "code",
   "execution_count": 7,
   "id": "9346b170",
   "metadata": {},
   "outputs": [],
   "source": [
    "from typing import Union\n",
    "\n",
    "def get_value() -> Union[int, str]:\n",
    "    # function implementation\n",
    "    pass"
   ]
  },
  {
   "cell_type": "markdown",
   "id": "aff0e209",
   "metadata": {},
   "source": [
    "5. `Type Hints for Methods`: The `->` notation is not limited to standalone functions; it can also be used for methods within classes."
   ]
  },
  {
   "cell_type": "code",
   "execution_count": 9,
   "id": "ef62ee16",
   "metadata": {},
   "outputs": [],
   "source": [
    "class MyClass:\n",
    "    def my_method(self, value: int) -> str:\n",
    "        # method implementation\n",
    "        pass"
   ]
  },
  {
   "cell_type": "markdown",
   "id": "ba26966b",
   "metadata": {},
   "source": [
    "# Match case"
   ]
  },
  {
   "cell_type": "markdown",
   "id": "c4d87e89",
   "metadata": {},
   "source": [
    "The match statement in Python is a feature introduced in PEP 634 (Python Enhancement Proposal) and added in Python 3.10. It provides a way to perform pattern matching on the values of an expression. Pattern matching is a mechanism for checking a value against a set of patterns and executing code based on the matched pattern. It simplifies conditional branching and is a more expressive and concise alternative to the traditional if, elif, and else statements.\n",
    "\n",
    "Here's an example of how the match statement works:"
   ]
  },
  {
   "cell_type": "code",
   "execution_count": null,
   "id": "6bc39a5c",
   "metadata": {},
   "outputs": [],
   "source": [
    "match expression:\n",
    "    case pattern1:\n",
    "        # Code to execute when expression matches pattern1\n",
    "    case pattern2:\n",
    "        # Code to execute when expression matches pattern2\n",
    "    case pattern3:\n",
    "        # Code to execute when expression matches pattern3\n",
    "    case _:\n",
    "        # Code to execute when no pattern matches (similar to \"else\" in an \"if\" statement)"
   ]
  },
  {
   "cell_type": "markdown",
   "id": "460f5140",
   "metadata": {},
   "source": [
    "Key points to understand about the match statement:\n",
    "\n",
    "1. **Expression:** The match statement starts with an expression that you want to match against various patterns. The expression's value is compared with each pattern sequentially.\n",
    "\n",
    "2. **Patterns:** The case keyword is followed by a pattern. Patterns can be simple values, literals, variable names, or more complex structures like sequences, dictionaries, or class instances.\n",
    "\n",
    "3. **Execution:** The code block associated with the first matching pattern is executed. If no patterns match, the code block under case _: is executed, similar to an \"else\" block in an \"if\" statement.\n",
    "\n",
    "4. **Pattern Guards:** You can add additional conditions using the if keyword to further filter the patterns. For example:"
   ]
  },
  {
   "cell_type": "code",
   "execution_count": null,
   "id": "a4829fd5",
   "metadata": {},
   "outputs": [],
   "source": [
    "case (x, y) if x > 0:\n",
    "    # Code to execute when x is a positive number"
   ]
  },
  {
   "cell_type": "markdown",
   "id": "eeba2be6",
   "metadata": {},
   "source": [
    "5. **Deconstruction:** Patterns can destructure sequences or objects. For example, you can extract elements from a list or attributes from an object in a pattern."
   ]
  },
  {
   "cell_type": "code",
   "execution_count": null,
   "id": "da1dde88",
   "metadata": {},
   "outputs": [],
   "source": [
    "case [x, y]:\n",
    "    # Code to execute when the expression is a list with two elements"
   ]
  },
  {
   "cell_type": "markdown",
   "id": "e865b52a",
   "metadata": {},
   "source": [
    "6. **Value Capture:** You can capture the values from the matched expression using variable names in the patterns."
   ]
  },
  {
   "cell_type": "code",
   "execution_count": null,
   "id": "edcb1450",
   "metadata": {},
   "outputs": [],
   "source": [
    "case Point(x, y):\n",
    "    # Code to execute when expression matches a Point object with x and y attributes"
   ]
  },
  {
   "cell_type": "markdown",
   "id": "e64ee314",
   "metadata": {},
   "source": [
    "7. **Wildcard `_`:** The `_` is a special pattern that matches anything but discards the value. It's similar to the \"default\" case in a traditional switch or if statement.\n",
    "\n",
    "8. **Nested Patterns:** You can nest match statements to perform more complex pattern matching operations.\n",
    "\n",
    "Here's a basic example to illustrate the usage of the match statement:"
   ]
  },
  {
   "cell_type": "code",
   "execution_count": null,
   "id": "15b99bbd",
   "metadata": {},
   "outputs": [],
   "source": [
    "from dataclasses import dataclass\n",
    "\n",
    "@dataclass\n",
    "class Point:\n",
    "    x: int\n",
    "    y: int\n",
    "\n",
    "def print_quadrant(point: Point):\n",
    "    match point:\n",
    "        case Point(x=0, y=0):\n",
    "            print(\"At the origin\")\n",
    "        case Point(x>0, y>0):\n",
    "            print(\"In the first quadrant\")\n",
    "        case Point(x<0, y>0):\n",
    "            print(\"In the second quadrant\")\n",
    "        case Point(x<0, y<0):\n",
    "            print(\"In the third quadrant\")\n",
    "        case Point(x>0, y<0):\n",
    "            print(\"In the fourth quadrant\")\n",
    "        case _:\n",
    "            print(\"On an axis\")\n",
    "\n",
    "# Usage\n",
    "p = Point(3, -2)\n",
    "print_quadrant(p)"
   ]
  },
  {
   "cell_type": "markdown",
   "id": "aea49923",
   "metadata": {},
   "source": [
    "The match statement provides a more readable and structured way to handle complex conditional logic, making Python code more expressive and less error-prone."
   ]
  },
  {
   "cell_type": "markdown",
   "id": "0dcd38d6",
   "metadata": {},
   "source": [
    "# Exception handling"
   ]
  },
  {
   "cell_type": "code",
   "execution_count": 1,
   "id": "0f6778c1",
   "metadata": {},
   "outputs": [
    {
     "name": "stdout",
     "output_type": "stream",
     "text": [
      "division by zero\n",
      "executed\n"
     ]
    }
   ],
   "source": [
    "n=5\n",
    "d=0\n",
    "try:\n",
    "    print(n/d)\n",
    "except ZeroDivisionError as err:\n",
    "    print(err)\n",
    "finally:\n",
    "    print(\"executed\")"
   ]
  },
  {
   "cell_type": "code",
   "execution_count": 5,
   "id": "9858c692",
   "metadata": {},
   "outputs": [
    {
     "name": "stdin",
     "output_type": "stream",
     "text": [
      "Enter a number:  5\n"
     ]
    },
    {
     "name": "stdout",
     "output_type": "stream",
     "text": [
      "Value is: 5\n"
     ]
    }
   ],
   "source": [
    "def example_function(value):\n",
    "    if value < 0:\n",
    "        raise ValueError(\"Input value must be non-negative.\") #  raise keyword in Python is used to intentionally trigger an exception\n",
    "    else:\n",
    "        print(\"Value is:\", value)\n",
    "\n",
    "# Example usage:\n",
    "try:\n",
    "    input_value = int(input(\"Enter a number: \"))\n",
    "    example_function(input_value)\n",
    "except ValueError as ve:\n",
    "    print(f\"Error: {ve}\")"
   ]
  },
  {
   "cell_type": "code",
   "execution_count": 1,
   "id": "dedc60df",
   "metadata": {},
   "outputs": [
    {
     "name": "stdout",
     "output_type": "stream",
     "text": [
      "Enter a number: -1\n",
      "Custom Error: Input value must be non-negative.\n"
     ]
    }
   ],
   "source": [
    "# user defined exception\n",
    "\n",
    "class MyCustomError(Exception):\n",
    "    def __init__(self, message=\"This is a custom error.\"):\n",
    "        self.message = message\n",
    "        super().__init__(self.message)\n",
    "\n",
    "# Example usage:\n",
    "def example_function(value):\n",
    "    if value < 0:\n",
    "        raise MyCustomError(\"Input value must be non-negative.\")\n",
    "    else:\n",
    "        print(\"Value is:\", value)\n",
    "\n",
    "# Example usage:\n",
    "try:\n",
    "    input_value = int(input(\"Enter a number: \"))\n",
    "    example_function(input_value)\n",
    "except MyCustomError as custom_error:\n",
    "    print(f\"Custom Error: {custom_error}\")\n"
   ]
  },
  {
   "cell_type": "code",
   "execution_count": null,
   "id": "b718022b",
   "metadata": {},
   "outputs": [],
   "source": []
  }
 ],
 "metadata": {
  "kernelspec": {
   "display_name": "Python 3 (ipykernel)",
   "language": "python",
   "name": "python3"
  },
  "language_info": {
   "codemirror_mode": {
    "name": "ipython",
    "version": 3
   },
   "file_extension": ".py",
   "mimetype": "text/x-python",
   "name": "python",
   "nbconvert_exporter": "python",
   "pygments_lexer": "ipython3",
   "version": "3.9.6"
  }
 },
 "nbformat": 4,
 "nbformat_minor": 5
}
