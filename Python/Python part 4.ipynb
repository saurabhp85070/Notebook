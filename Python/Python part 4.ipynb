{
 "cells": [
  {
   "cell_type": "markdown",
   "id": "9474670c",
   "metadata": {},
   "source": [
    "## Content of Part-4\n",
    "\n",
    "Class\n",
    "\n",
    "Objects\n",
    "\n",
    "_ _init_ _\n",
    "\n",
    "Constructor\n",
    "\n",
    "Self\n",
    "\n",
    "Types of variable in OOPs\n",
    "\n",
    "Types of method in OOPs\n",
    "\n",
    "@property decorator\n",
    "\n",
    "Inner class\n",
    "\n",
    "Inehritance"
   ]
  },
  {
   "cell_type": "markdown",
   "id": "4de85a29",
   "metadata": {},
   "source": [
    "# OBJECT ORIENTED PROGRAMMING"
   ]
  },
  {
   "cell_type": "markdown",
   "id": "b4cdc550",
   "metadata": {},
   "source": [
    "**class:** In object-oriented programming, a class is a blueprint or template for creating objects that defines a set of attributes and methods that will be common to all instances of that class.\n",
    "\n",
    "A class have `state(varaibles)`, `behavior(methods, constructor, destructor, inheritance, polymorphism)` and `identity(object's memory address)`."
   ]
  },
  {
   "cell_type": "code",
   "execution_count": 2,
   "id": "b751fe98",
   "metadata": {},
   "outputs": [
    {
     "ename": "TypeError",
     "evalue": "config() missing 1 required positional argument: 'self'",
     "output_type": "error",
     "traceback": [
      "\u001b[1;31m---------------------------------------------------------------------------\u001b[0m",
      "\u001b[1;31mTypeError\u001b[0m                                 Traceback (most recent call last)",
      "\u001b[1;32mC:\\Users\\SAURAB~1\\AppData\\Local\\Temp/ipykernel_22096/288997159.py\u001b[0m in \u001b[0;36m<module>\u001b[1;34m\u001b[0m\n\u001b[0;32m      7\u001b[0m \u001b[0mcom1\u001b[0m\u001b[1;33m=\u001b[0m\u001b[0mComputer\u001b[0m\u001b[1;33m(\u001b[0m\u001b[1;33m)\u001b[0m \u001b[1;31m# object creation\u001b[0m\u001b[1;33m\u001b[0m\u001b[1;33m\u001b[0m\u001b[0m\n\u001b[0;32m      8\u001b[0m \u001b[1;33m\u001b[0m\u001b[0m\n\u001b[1;32m----> 9\u001b[1;33m \u001b[0mComputer\u001b[0m\u001b[1;33m.\u001b[0m\u001b[0mconfig\u001b[0m\u001b[1;33m(\u001b[0m\u001b[1;33m)\u001b[0m \u001b[1;31m# calling method\u001b[0m\u001b[1;33m\u001b[0m\u001b[1;33m\u001b[0m\u001b[0m\n\u001b[0m\u001b[0;32m     10\u001b[0m \u001b[1;31m# will give an error\u001b[0m\u001b[1;33m\u001b[0m\u001b[1;33m\u001b[0m\u001b[1;33m\u001b[0m\u001b[0m\n",
      "\u001b[1;31mTypeError\u001b[0m: config() missing 1 required positional argument: 'self'"
     ]
    }
   ],
   "source": [
    "# class\n",
    "\n",
    "class Computer:\n",
    "    def config(self):\n",
    "        print(\"16GB RAM\",\"1TB HDD\")\n",
    "\n",
    "com1=Computer() # object creation\n",
    "\n",
    "Computer.config() # calling method\n",
    "# will give an error"
   ]
  },
  {
   "cell_type": "markdown",
   "id": "b99e0297",
   "metadata": {},
   "source": [
    "##### Explanation:\n",
    "\n",
    "One class can have multiple object.\n",
    "\n",
    "Here, we have one object `com1`. \n",
    "\n",
    "`config()` method will change its behavior based on object because different object may have different behavior.\n",
    "\n",
    "In this case we are not depending on any data but may be there is chance that `config()` will depend on some data and every object will have its own data. Every object is different.\n",
    "\n",
    "We are callling `config()` for which object i am doing that we have to mention."
   ]
  },
  {
   "cell_type": "code",
   "execution_count": 3,
   "id": "e2f4cfd9",
   "metadata": {},
   "outputs": [
    {
     "name": "stdout",
     "output_type": "stream",
     "text": [
      "16GB RAM 1TB HDD\n"
     ]
    }
   ],
   "source": [
    "# class\n",
    "\n",
    "class Computer:\n",
    "    def config(self):\n",
    "        print(\"16GB RAM\",\"1TB HDD\")\n",
    "\n",
    "com1=Computer() # object creation\n",
    "\n",
    "Computer.config(com1) # calling method using class name"
   ]
  },
  {
   "cell_type": "code",
   "execution_count": 1,
   "id": "b0abf66f",
   "metadata": {},
   "outputs": [
    {
     "name": "stdout",
     "output_type": "stream",
     "text": [
      "16GB RAM 1TB HDD\n",
      "16GB RAM 1TB HDD\n"
     ]
    }
   ],
   "source": [
    "# class\n",
    "\n",
    "class Computer:\n",
    "    def config(self):\n",
    "        print(\"16GB RAM\",\"1TB HDD\")\n",
    "\n",
    "com1=Computer() # object creation\n",
    "com2=Computer() # object creation\n",
    "\n",
    "Computer.config(com1) # calling method \n",
    "Computer.config(com2) # calling method"
   ]
  },
  {
   "cell_type": "markdown",
   "id": "b1fbde34",
   "metadata": {},
   "source": [
    "##### Another way to call method"
   ]
  },
  {
   "cell_type": "code",
   "execution_count": 6,
   "id": "35769cfd",
   "metadata": {},
   "outputs": [
    {
     "name": "stdout",
     "output_type": "stream",
     "text": [
      "16GB RAM 1TB HDD\n"
     ]
    }
   ],
   "source": [
    "# class\n",
    "\n",
    "class Computer:\n",
    "    def config(self):\n",
    "        print(\"16GB RAM\",\"1TB HDD\")\n",
    "\n",
    "com1=Computer() # object creation\n",
    "\n",
    "com1.config() # another of calling method using object"
   ]
  },
  {
   "cell_type": "markdown",
   "id": "cae2e61f",
   "metadata": {},
   "source": [
    "##### What happen above:\n",
    "\n",
    "Behind the scene, `config()` will take `com1` as an argument and pass that istself.\n",
    "\n",
    "In this case we are using object itself to call function. Also we are not passing it. By default it get passed."
   ]
  },
  {
   "cell_type": "code",
   "execution_count": null,
   "id": "8bfac4b0",
   "metadata": {},
   "outputs": [],
   "source": []
  },
  {
   "cell_type": "markdown",
   "id": "d6156d71",
   "metadata": {},
   "source": [
    "# SPECIAL FUNCTION (_ _init_ _)"
   ]
  },
  {
   "cell_type": "markdown",
   "id": "e7bf26b2",
   "metadata": {},
   "source": [
    "All classes have a function called `__init__()`, which is always executed when the class is being initiated.\n",
    "\n",
    "Use the `__init__()` function to assign values to object properties, or other operations that are necessary to do when the object is being created:"
   ]
  },
  {
   "cell_type": "code",
   "execution_count": 15,
   "id": "8047309a",
   "metadata": {},
   "outputs": [
    {
     "name": "stdout",
     "output_type": "stream",
     "text": [
      "John\n",
      "36\n"
     ]
    }
   ],
   "source": [
    "# Create a class named Person, use the __init__() function to assign values for name and age:\n",
    "\n",
    "class Person:\n",
    "    def __init__(self, name, age):\n",
    "        self.name = name\n",
    "        self.age = age\n",
    "\n",
    "p1 = Person(\"John\", 36)\n",
    "\n",
    "print(p1.name)\n",
    "print(p1.age)"
   ]
  },
  {
   "cell_type": "markdown",
   "id": "863a36b9",
   "metadata": {},
   "source": [
    "### Note:\n",
    "\n",
    "The `__init__()` function is called automatically every time the class is being used to create a new object."
   ]
  },
  {
   "cell_type": "code",
   "execution_count": 1,
   "id": "5a4f0eab",
   "metadata": {},
   "outputs": [
    {
     "name": "stdout",
     "output_type": "stream",
     "text": [
      "in init\n",
      "16GB RAM 1TB HDD\n"
     ]
    }
   ],
   "source": [
    "# __init__ method\n",
    "\n",
    "class Computer:\n",
    "    def __init__(self):\n",
    "        print(\"in init\")\n",
    "        \n",
    "    def config(self):\n",
    "        print(\"16GB RAM\",\"1TB HDD\")\n",
    "\n",
    "com1=Computer() # object\n",
    "\n",
    "com1.config()"
   ]
  },
  {
   "cell_type": "code",
   "execution_count": 2,
   "id": "b1ce3ae1",
   "metadata": {},
   "outputs": [
    {
     "name": "stdout",
     "output_type": "stream",
     "text": [
      "in init\n",
      "in init\n",
      "16GB RAM 1TB HDD\n",
      "16GB RAM 1TB HDD\n"
     ]
    }
   ],
   "source": [
    "# __init__ method\n",
    "\n",
    "class Computer:\n",
    "    def __init__(self):\n",
    "        print(\"in init\")\n",
    "        \n",
    "    def config(self):\n",
    "        print(\"16GB RAM\",\"1TB HDD\")\n",
    "\n",
    "com1=Computer() # object\n",
    "com2=Computer()\n",
    "\n",
    "com1.config()\n",
    "com2.config()"
   ]
  },
  {
   "cell_type": "markdown",
   "id": "48a9604e",
   "metadata": {},
   "source": [
    "##### What happen above:\n",
    "\n",
    "This `__init__()` method is called at when we create object.\n",
    "\n",
    "It is like a constructor"
   ]
  },
  {
   "cell_type": "markdown",
   "id": "be3edd98",
   "metadata": {},
   "source": [
    "##### Output explanation:\n",
    "\n",
    "\"in init\" get printed two times because for every object it will get called ones.\n",
    "\n",
    "We have two objects above `com1` & `com2`. So, it will in two times."
   ]
  },
  {
   "cell_type": "markdown",
   "id": "adae7316",
   "metadata": {},
   "source": [
    "##### lets pass some arguments inside `__int__()` :-\n",
    "\n",
    "Look at below example:-"
   ]
  },
  {
   "cell_type": "code",
   "execution_count": 18,
   "id": "c5350ae0",
   "metadata": {},
   "outputs": [
    {
     "name": "stdout",
     "output_type": "stream",
     "text": [
      "Config is:  i7 16\n",
      "Config is:  Ryzen 5 8\n"
     ]
    }
   ],
   "source": [
    "# passing arguments to __init__\n",
    "\n",
    "class Computer:\n",
    "    def __init__(self,cpu,ram): # cpu,ram are arguments\n",
    "        self.cpu=cpu\n",
    "        self.ram=ram\n",
    "        \n",
    "    def config(self):\n",
    "        print(\"Config is: \",self.cpu,self.ram)\n",
    "\n",
    "com1=Computer(\"i7\",16) # object\n",
    "com2=Computer(\"Ryzen 5\",8)\n",
    "\n",
    "com1.config()\n",
    "com2.config()"
   ]
  },
  {
   "cell_type": "markdown",
   "id": "e905bba0",
   "metadata": {},
   "source": [
    "##### Explanation:\n",
    "\n",
    "We are accepting three arguments: `(self,cpu,ram)`\n",
    "\n",
    "and we are passing `(i7,16)` that is two arguments.\n",
    "\n",
    "When we say `Computer(\"i7\",16)`; we are passing `com1` by default which is like:\n",
    "\n",
    "`Computer(com1,\"i7\",16)`"
   ]
  },
  {
   "cell_type": "markdown",
   "id": "1568dd1e",
   "metadata": {},
   "source": [
    "###### Points:\n",
    "\n",
    "(1) `cpu`,`ram` is just an argument here. \n",
    "\n",
    "(2) We want use it as part of object:\n",
    "\n",
    "    self.cpu=cpu\n",
    "    self.ram=ram\n",
    "\n",
    "(3) `self` is object here\n",
    "\n",
    "(4) No compulsion that we have same name. We can have different name:\n",
    "\n",
    "    self.abc=cpu\n",
    "    self.xyz=ram\n",
    "\n",
    "\n",
    "\n",
    "(6) Whatever value we passing here \"i7\"(line 11) goes to cpu as an argument it will be assign to object which is self(here)\n",
    "\n",
    "(7) In line 9, instead of writing this, if we write `print(\"Config is: \",cpu,ram)` then this will generate an error (look below):-"
   ]
  },
  {
   "cell_type": "code",
   "execution_count": 1,
   "id": "ea298942",
   "metadata": {},
   "outputs": [
    {
     "ename": "NameError",
     "evalue": "name 'cpu' is not defined",
     "output_type": "error",
     "traceback": [
      "\u001b[1;31m---------------------------------------------------------------------------\u001b[0m",
      "\u001b[1;31mNameError\u001b[0m                                 Traceback (most recent call last)",
      "\u001b[1;32mC:\\Users\\SAURAB~1\\AppData\\Local\\Temp/ipykernel_14904/363454443.py\u001b[0m in \u001b[0;36m<module>\u001b[1;34m\u001b[0m\n\u001b[0;32m     12\u001b[0m \u001b[0mcom2\u001b[0m\u001b[1;33m=\u001b[0m\u001b[0mComputer\u001b[0m\u001b[1;33m(\u001b[0m\u001b[1;34m\"Ryzen 5\"\u001b[0m\u001b[1;33m,\u001b[0m\u001b[1;36m8\u001b[0m\u001b[1;33m)\u001b[0m\u001b[1;33m\u001b[0m\u001b[1;33m\u001b[0m\u001b[0m\n\u001b[0;32m     13\u001b[0m \u001b[1;33m\u001b[0m\u001b[0m\n\u001b[1;32m---> 14\u001b[1;33m \u001b[0mcom1\u001b[0m\u001b[1;33m.\u001b[0m\u001b[0mconfig\u001b[0m\u001b[1;33m(\u001b[0m\u001b[1;33m)\u001b[0m\u001b[1;33m\u001b[0m\u001b[1;33m\u001b[0m\u001b[0m\n\u001b[0m\u001b[0;32m     15\u001b[0m \u001b[0mcom2\u001b[0m\u001b[1;33m.\u001b[0m\u001b[0mconfig\u001b[0m\u001b[1;33m(\u001b[0m\u001b[1;33m)\u001b[0m\u001b[1;33m\u001b[0m\u001b[1;33m\u001b[0m\u001b[0m\n",
      "\u001b[1;32mC:\\Users\\SAURAB~1\\AppData\\Local\\Temp/ipykernel_14904/363454443.py\u001b[0m in \u001b[0;36mconfig\u001b[1;34m(self)\u001b[0m\n\u001b[0;32m      7\u001b[0m \u001b[1;33m\u001b[0m\u001b[0m\n\u001b[0;32m      8\u001b[0m     \u001b[1;32mdef\u001b[0m \u001b[0mconfig\u001b[0m\u001b[1;33m(\u001b[0m\u001b[0mself\u001b[0m\u001b[1;33m)\u001b[0m\u001b[1;33m:\u001b[0m\u001b[1;33m\u001b[0m\u001b[1;33m\u001b[0m\u001b[0m\n\u001b[1;32m----> 9\u001b[1;33m         \u001b[0mprint\u001b[0m\u001b[1;33m(\u001b[0m\u001b[1;34m\"Config is: \"\u001b[0m\u001b[1;33m,\u001b[0m\u001b[0mcpu\u001b[0m\u001b[1;33m,\u001b[0m\u001b[0mram\u001b[0m\u001b[1;33m)\u001b[0m \u001b[1;31m# wrong way, and will give error\u001b[0m\u001b[1;33m\u001b[0m\u001b[1;33m\u001b[0m\u001b[0m\n\u001b[0m\u001b[0;32m     10\u001b[0m \u001b[1;33m\u001b[0m\u001b[0m\n\u001b[0;32m     11\u001b[0m \u001b[0mcom1\u001b[0m\u001b[1;33m=\u001b[0m\u001b[0mComputer\u001b[0m\u001b[1;33m(\u001b[0m\u001b[1;34m\"i7\"\u001b[0m\u001b[1;33m,\u001b[0m\u001b[1;36m16\u001b[0m\u001b[1;33m)\u001b[0m \u001b[1;31m# object\u001b[0m\u001b[1;33m\u001b[0m\u001b[1;33m\u001b[0m\u001b[0m\n",
      "\u001b[1;31mNameError\u001b[0m: name 'cpu' is not defined"
     ]
    }
   ],
   "source": [
    "# passing arguments to __init__\n",
    "\n",
    "class Computer:\n",
    "    def __init__(self,cpu,ram): # cpu,ram are arguments\n",
    "        self.cpu=cpu\n",
    "        self.ram=ram\n",
    "        \n",
    "    def config(self):\n",
    "        print(\"Config is: \",cpu,ram) # wrong way, and will give error\n",
    "\n",
    "com1=Computer(\"i7\",16) # object\n",
    "com2=Computer(\"Ryzen 5\",8)\n",
    "\n",
    "com1.config()\n",
    "com2.config()"
   ]
  },
  {
   "cell_type": "markdown",
   "id": "82482fc6",
   "metadata": {},
   "source": [
    "##### Expanation:\n",
    "\n",
    "The thing is, `cpu` is not a local variable; `cpu` belongs to object.\n",
    "\n",
    "To refer to object we have to use `self.cpu` and `self.ram`\n",
    "\n",
    "And this is idea behind passing self so that we use it to fetch value."
   ]
  },
  {
   "cell_type": "code",
   "execution_count": null,
   "id": "40083f10",
   "metadata": {},
   "outputs": [],
   "source": []
  },
  {
   "cell_type": "markdown",
   "id": "4126ea35",
   "metadata": {},
   "source": [
    "# CONSTRUCTOR AND SELF"
   ]
  },
  {
   "cell_type": "markdown",
   "id": "c6b1e54f",
   "metadata": {},
   "source": [
    "A constructor is a special type of method (function) which is used to initialize the instance members of the class.\n",
    "\n",
    "In C++ or Java, the constructor has the same name as its class, but it treats constructor differently in Python. It is used to create an object."
   ]
  },
  {
   "cell_type": "markdown",
   "id": "e18ae1f9",
   "metadata": {},
   "source": [
    "Every time you create an object it is allocated to new space in heap memory."
   ]
  },
  {
   "cell_type": "code",
   "execution_count": 7,
   "id": "c1e48b5b",
   "metadata": {},
   "outputs": [
    {
     "name": "stdout",
     "output_type": "stream",
     "text": [
      "3093190870928\n",
      "3093190870688\n"
     ]
    }
   ],
   "source": [
    "class Computer:\n",
    "    pass\n",
    "\n",
    "c1=Computer() # this is constructor\n",
    "c2=Computer()\n",
    "\n",
    "print(id(c1)) # every object will take some space in memory\n",
    "print(id(c2))"
   ]
  },
  {
   "cell_type": "markdown",
   "id": "85c428ac",
   "metadata": {},
   "source": [
    "Size of object depends on no.of variables and size.\n",
    "\n",
    "Constructor allocates size to object."
   ]
  },
  {
   "cell_type": "code",
   "execution_count": 2,
   "id": "f561ebef",
   "metadata": {},
   "outputs": [
    {
     "name": "stdout",
     "output_type": "stream",
     "text": [
      "Python\n",
      "Python\n"
     ]
    }
   ],
   "source": [
    "class Computer:\n",
    "    def __init__(self):\n",
    "        self.name=\"Python\"\n",
    "        self.age=78\n",
    "    \n",
    "c1=Computer()\n",
    "c2=Computer()\n",
    "\n",
    "print(c1.name)\n",
    "print(c2.name)"
   ]
  },
  {
   "cell_type": "markdown",
   "id": "3bf1a4bb",
   "metadata": {},
   "source": [
    "They are printing \"Python\" because moment we create object both will have same value because that is what by default they are getting."
   ]
  },
  {
   "cell_type": "code",
   "execution_count": 1,
   "id": "b7407279",
   "metadata": {},
   "outputs": [
    {
     "name": "stdout",
     "output_type": "stream",
     "text": [
      "Java\n",
      "12\n",
      "Python\n"
     ]
    }
   ],
   "source": [
    "\n",
    "class Computer:\n",
    "    def __init__(self):\n",
    "        self.name=\"Python\"\n",
    "        self.age=78\n",
    "\n",
    "c1=Computer()\n",
    "c2=Computer()\n",
    "\n",
    "c1.name=\"Java\"\n",
    "c1.age=12\n",
    "\n",
    "print(c1.name)\n",
    "print(c1.age)\n",
    "print(c2.name)"
   ]
  },
  {
   "cell_type": "markdown",
   "id": "69ae3437",
   "metadata": {},
   "source": [
    "## Types of constructor"
   ]
  },
  {
   "cell_type": "markdown",
   "id": "567814bc",
   "metadata": {},
   "source": [
    "Constructors can be of two types:\n",
    "\n",
    "###### (1) Non-parameterized Constructor\n",
    "\n",
    "###### (2) Parameterized Constructor"
   ]
  },
  {
   "cell_type": "markdown",
   "id": "c92e06b6",
   "metadata": {},
   "source": [
    "Constructor definition is executed when we create the object of this class. \n",
    "\n",
    "Constructors also verify that there are enough resources for the object to perform any start-up task."
   ]
  },
  {
   "cell_type": "markdown",
   "id": "e820445c",
   "metadata": {},
   "source": [
    "### Creating the constructor in python\n",
    "\n",
    "**In Python, the method the `__init__()` simulates the constructor of the class**. This method is called when the class is instantiated. It accepts the `self` keyword as a first argument which allows accessing the attributes or method of the class.\n",
    "\n",
    "We can pass any number of arguments at the time of creating the class object, depending upon the `__init__()` definition. It is mostly used to initialize the class attributes. Every class must have a constructor, even if it simply relies on the default constructor.\n",
    "\n",
    "Consider the following example to initialize the Employee class attributes."
   ]
  },
  {
   "cell_type": "code",
   "execution_count": 1,
   "id": "b517e587",
   "metadata": {},
   "outputs": [
    {
     "name": "stdout",
     "output_type": "stream",
     "text": [
      "ID: 101 \n",
      "Name: John\n",
      "ID: 102 \n",
      "Name: David\n"
     ]
    }
   ],
   "source": [
    "class Employee:  \n",
    "    def __init__(self, name, idt):  \n",
    "        self.idt = idt  \n",
    "        self.name = name  \n",
    "  \n",
    "    def display(self):  \n",
    "        print(\"ID: %d \\nName: %s\" % (self.idt, self.name))  \n",
    "  \n",
    "  \n",
    "emp1 = Employee(\"John\", 101)  \n",
    "emp2 = Employee(\"David\", 102)  \n",
    "  \n",
    "# accessing display() method to print employee 1 information  \n",
    "emp1.display()  \n",
    "  \n",
    "# accessing display() method to print employee 2 information  \n",
    "emp2.display()  "
   ]
  },
  {
   "cell_type": "markdown",
   "id": "a3e633e2",
   "metadata": {},
   "source": [
    "#### Counting the number of objects of a class\n",
    "\n",
    "The constructor is called automatically when we create the object of the class. Consider the following example:"
   ]
  },
  {
   "cell_type": "code",
   "execution_count": 4,
   "id": "64ae1ef0",
   "metadata": {},
   "outputs": [
    {
     "name": "stdout",
     "output_type": "stream",
     "text": [
      "The number of students: 3\n"
     ]
    }
   ],
   "source": [
    "class Student:    \n",
    "    count = 0    \n",
    "    def __init__(self):    \n",
    "        Student.count = Student.count + 1    \n",
    "s1=Student()    \n",
    "s2=Student()    \n",
    "s3=Student()    \n",
    "print(\"The number of students:\",Student.count)    "
   ]
  },
  {
   "cell_type": "markdown",
   "id": "5a708f0d",
   "metadata": {},
   "source": [
    "### (1.) Python Non-Parameterized Constructor\n",
    "\n",
    "The non-parameterized constructor uses when we do not want to manipulate the value or the constructor that has only self as an argument. Consider the following example:"
   ]
  },
  {
   "cell_type": "code",
   "execution_count": 43,
   "id": "0c8f6e74",
   "metadata": {},
   "outputs": [
    {
     "name": "stdout",
     "output_type": "stream",
     "text": [
      "This is non parametrized constructor\n",
      "Hello John\n"
     ]
    }
   ],
   "source": [
    "class Student:  \n",
    "    # Constructor - non parameterized  \n",
    "    def __init__(self):  \n",
    "        print(\"This is non parametrized constructor\")  \n",
    "    def show(self,name):  \n",
    "        print(\"Hello\",name)  \n",
    "student = Student()  \n",
    "student.show(\"John\")     "
   ]
  },
  {
   "cell_type": "markdown",
   "id": "af9342e8",
   "metadata": {},
   "source": [
    "### (2.) Python Parameterized Constructor\n",
    "\n",
    "The parameterized constructor has multiple parameters along with the self. Consider the following example:"
   ]
  },
  {
   "cell_type": "code",
   "execution_count": 44,
   "id": "a806d509",
   "metadata": {},
   "outputs": [
    {
     "name": "stdout",
     "output_type": "stream",
     "text": [
      "This is parametrized constructor\n",
      "Hello John\n"
     ]
    }
   ],
   "source": [
    "class Student:  \n",
    "    # Constructor - parameterized  \n",
    "    def __init__(self, name):  \n",
    "        print(\"This is parametrized constructor\")  \n",
    "        self.name = name  \n",
    "    def show(self):  \n",
    "        print(\"Hello\",self.name)  \n",
    "student = Student(\"John\")  \n",
    "student.show()    "
   ]
  },
  {
   "cell_type": "markdown",
   "id": "f3ea1f21",
   "metadata": {},
   "source": [
    "### Python Default Constructor\n",
    "\n",
    "Python does not have a default constructor in the traditional sense. Instead, Python classes define an `__init__()` method that is used to initialize object attributes, with default values provided if necessary.\n",
    "\n",
    "**When we do not include the constructor in the class or forget to declare it, then that becomes the default constructor**. It does not perform any task but initializes the objects. Consider the following example:"
   ]
  },
  {
   "cell_type": "code",
   "execution_count": 6,
   "id": "2e7a2a54",
   "metadata": {},
   "outputs": [
    {
     "name": "stdout",
     "output_type": "stream",
     "text": [
      "Alice\n",
      "30\n"
     ]
    }
   ],
   "source": [
    "# Example without a constructor\n",
    "\n",
    "class Person:\n",
    "    pass\n",
    "\n",
    "person1 = Person()\n",
    "person1.name = \"Alice\"\n",
    "person1.age = 30\n",
    "print(person1.name) # Output: Alice\n",
    "print(person1.age) # Output: 30"
   ]
  },
  {
   "cell_type": "markdown",
   "id": "95109247",
   "metadata": {},
   "source": [
    "In this example, the Person class does not define a constructor explicitly, so Python provides a default constructor that does nothing. We create an object `person1` of the `Person` class, and then assign values `\"Alice\"` and `30` to the object's attributes `name` and `age` using dot notation."
   ]
  },
  {
   "cell_type": "code",
   "execution_count": 1,
   "id": "88022144",
   "metadata": {},
   "outputs": [
    {
     "name": "stdout",
     "output_type": "stream",
     "text": [
      "101 Joseph\n"
     ]
    }
   ],
   "source": [
    "class Student:  \n",
    "    roll_num = 101  \n",
    "    name = \"Joseph\"  \n",
    "  \n",
    "    def display(self):  \n",
    "        print(self.roll_num,self.name)  \n",
    "\n",
    "st = Student()  \n",
    "st.display()  "
   ]
  },
  {
   "cell_type": "markdown",
   "id": "d7b7ff69",
   "metadata": {},
   "source": [
    "#### More than One Constructor in Single class\n",
    "\n",
    "Let's have a look at another scenario, what happen if we declare the two same constructors in the class."
   ]
  },
  {
   "cell_type": "code",
   "execution_count": 46,
   "id": "44101084",
   "metadata": {},
   "outputs": [
    {
     "name": "stdout",
     "output_type": "stream",
     "text": [
      "The second contructor\n"
     ]
    }
   ],
   "source": [
    "class Student:  \n",
    "    def __init__(self):  \n",
    "        print(\"The First Constructor\")  \n",
    "    def __init__(self):  \n",
    "        print(\"The second contructor\")  \n",
    "\n",
    "st = Student()  "
   ]
  },
  {
   "cell_type": "markdown",
   "id": "5f43e859",
   "metadata": {},
   "source": [
    "In the above code, the object st called the second constructor whereas both have the same configuration. The first method is not accessible by the st object. **Internally, the object of the class will always call the last constructor if the class has multiple constructors**."
   ]
  },
  {
   "cell_type": "markdown",
   "id": "225532e4",
   "metadata": {},
   "source": [
    "### Note:\n",
    "\n",
    "The constructor overloading is not allowed in Python."
   ]
  },
  {
   "cell_type": "markdown",
   "id": "adc0cbc0",
   "metadata": {},
   "source": [
    "### Why self ?\n",
    "\n",
    "In Python, **`self` is a convention used to refer to the instance of a class that a method is being called on**. It is the first parameter of any instance method in a class and represents the object that the method is being called on.\n",
    "\n",
    "When you create an object of a class, it becomes an instance of that class. Whenever a method is called on that instance, Python automatically passes the instance itself as the first argument to the method, which is why you need to use the self parameter in the method definition."
   ]
  },
  {
   "cell_type": "code",
   "execution_count": 1,
   "id": "27e4d49b",
   "metadata": {},
   "outputs": [
    {
     "name": "stdout",
     "output_type": "stream",
     "text": [
      "Hello, my name is Alice and I am 30 years old.\n",
      "Hello, my name is Bob and I am 40 years old.\n"
     ]
    }
   ],
   "source": [
    "# example to illustrate how self works in Python\n",
    "\n",
    "class Person:\n",
    "    def __init__(self, name, age):\n",
    "        self.name = name\n",
    "        self.age = age\n",
    "\n",
    "    def say_hello(self):\n",
    "        print(f\"Hello, my name is {self.name} and I am {self.age} years old.\")\n",
    "\n",
    "person1 = Person(\"Alice\", 30)\n",
    "person2 = Person(\"Bob\", 40)\n",
    "\n",
    "person1.say_hello() # Output: Hello, my name is Alice and I am 30 years old.\n",
    "person2.say_hello() # Output: Hello, my name is Bob and I am 40 years old."
   ]
  },
  {
   "cell_type": "markdown",
   "id": "fd3a2cf1",
   "metadata": {},
   "source": [
    "#### Explanation:\n",
    "\n",
    "In this example, we define a `Person` class with an `__init__()` method that takes two parameters `name` and `age`, and initializes the object's attributes `name` and `age` with those values. We also define a method `say_hello()` that uses the `self` parameter to access the object's attributes and print a message. When we create two objects `person1` and `person2` of the `Person` class, and call the `say_hello()` method on each object, Python automatically passes the instance itself as the first argument to the method, and the method uses `self` to access the object's attributes and print a message."
   ]
  },
  {
   "cell_type": "code",
   "execution_count": 8,
   "id": "550ed509",
   "metadata": {},
   "outputs": [
    {
     "name": "stdout",
     "output_type": "stream",
     "text": [
      "Java\n",
      "Python\n"
     ]
    }
   ],
   "source": [
    "# another example\n",
    "\n",
    "class Computer:\n",
    "    def __init__(self):\n",
    "        self.name=\"Python\"\n",
    "        self.age=78\n",
    "        \n",
    "    def update(self):\n",
    "        self.age=99\n",
    "\n",
    "c1=Computer()\n",
    "c2=Computer()\n",
    "\n",
    "c1.name=\"Java\"\n",
    "\n",
    "c1.update()\n",
    "\n",
    "print(c1.name)\n",
    "print(c2.name)"
   ]
  },
  {
   "cell_type": "markdown",
   "id": "d0b9d63b",
   "metadata": {},
   "source": [
    "##### Explanation for self:\n",
    "\n",
    "We have called `update()` but we are not mentioning which object we are talking about.\n",
    "\n",
    "When we are calling `update()`, we have not mentioned that is it `c1` or `c2` in bracket; we are not passing anything in update here.\n",
    "\n",
    "So, `self` is a pointer or is directing to `c1` or `c2` based on what are we calling. if we are saying `c1.update()` then it is passing `c1` in bracket that is `self` will assign to `c1`.\n",
    "\n",
    "If we have 10 object and we want to refer to one object, we can use `self`. It is current instance we can say."
   ]
  },
  {
   "cell_type": "markdown",
   "id": "c7afa3db",
   "metadata": {},
   "source": [
    "### Read more about `self` here:\n",
    "\n",
    "https://www.programiz.com/article/python-self-why"
   ]
  },
  {
   "cell_type": "code",
   "execution_count": 1,
   "id": "c12c9249",
   "metadata": {},
   "outputs": [
    {
     "name": "stdout",
     "output_type": "stream",
     "text": [
      "They are same\n",
      "Python 78\n",
      "Python 78\n"
     ]
    }
   ],
   "source": [
    "# lets compare two objects\n",
    "\n",
    "class Computer:\n",
    "    def __init__(self):\n",
    "        self.name=\"Python\"\n",
    "        self.age=78\n",
    "        \n",
    "    def compare(self,other):\n",
    "        if self.age==other.age:\n",
    "            return True\n",
    "        else:\n",
    "            return False\n",
    "\n",
    "c1=Computer()\n",
    "c2=Computer()\n",
    "\n",
    "if c1.compare(c2):\n",
    "    print(\"They are same\")\n",
    "else:\n",
    "    print(\"They are different\")\n",
    "\n",
    "print(c1.name,c1.age)\n",
    "print(c2.name,c2.age)"
   ]
  },
  {
   "cell_type": "code",
   "execution_count": 4,
   "id": "32c34b6a",
   "metadata": {},
   "outputs": [
    {
     "name": "stdout",
     "output_type": "stream",
     "text": [
      "They are different\n",
      "Python 69\n",
      "Python 78\n"
     ]
    }
   ],
   "source": [
    "# lets compare two objects\n",
    "\n",
    "class Computer:\n",
    "    def __init__(self):\n",
    "        self.name=\"Python\"\n",
    "        self.age=78\n",
    "        \n",
    "    def compare(self,other): # self is c1 and other is c2\n",
    "        if self.age==other.age:\n",
    "            return True\n",
    "        else:\n",
    "            return False\n",
    "\n",
    "c1=Computer()\n",
    "c1.age=69\n",
    "c2=Computer()\n",
    "\n",
    "if c1.compare(c2):\n",
    "    print(\"They are same\")\n",
    "else:\n",
    "    print(\"They are different\")\n",
    "\n",
    "print(c1.name,c1.age)\n",
    "print(c2.name,c2.age)"
   ]
  },
  {
   "cell_type": "markdown",
   "id": "cc6f0a90",
   "metadata": {},
   "source": [
    "### What is attribute and arguments ?"
   ]
  },
  {
   "cell_type": "markdown",
   "id": "02e067d6",
   "metadata": {},
   "source": [
    "In Python, an **attribute is a variable that is associated with an object**. It can be **accessed using the dot notation**, e.g. object.attribute. An **argument is a value that is passed to a function or method**. It is typically **specified between the parentheses when calling the function or method**, e.g. function(argument).\n",
    "\n",
    "Here is an example of how to use attributes and arguments in Python:"
   ]
  },
  {
   "cell_type": "code",
   "execution_count": 2,
   "id": "b5220606",
   "metadata": {},
   "outputs": [
    {
     "name": "stdout",
     "output_type": "stream",
     "text": [
      "Hello, John Doe\n"
     ]
    }
   ],
   "source": [
    "class Person:\n",
    "    name = \"John Doe\"\n",
    "    age = 30\n",
    "\n",
    "def greet(name):\n",
    "    print(\"Hello, \" + name)\n",
    "\n",
    "person = Person()\n",
    "greet(person.name)"
   ]
  },
  {
   "cell_type": "markdown",
   "id": "51dff848",
   "metadata": {},
   "source": [
    "In  this example, the `Person` class has two attributes: `name` and `age`. The `greet()` function takes one argument: the name of the person to greet. When the `greet()` function is called, the value of the `name` attribute of the person object is passed as the argument. The `greet()` function then prints a greeting to the person with the specified name."
   ]
  },
  {
   "cell_type": "code",
   "execution_count": null,
   "id": "9d72a738",
   "metadata": {},
   "outputs": [],
   "source": []
  },
  {
   "cell_type": "markdown",
   "id": "4091addb",
   "metadata": {},
   "source": [
    "# TYPES OF VARIABLES IN OOPs"
   ]
  },
  {
   "cell_type": "markdown",
   "id": "edd19eff",
   "metadata": {},
   "source": [
    "## (1) Instance variable:\n",
    "\n",
    "If we declare variable inside `__init__()` is called instance variable."
   ]
  },
  {
   "cell_type": "code",
   "execution_count": 1,
   "id": "525fa7cc",
   "metadata": {},
   "outputs": [
    {
     "name": "stdout",
     "output_type": "stream",
     "text": [
      "BMW 9\n",
      "BMW 9\n"
     ]
    }
   ],
   "source": [
    "# instance variable\n",
    "\n",
    "class Car:\n",
    "    def __init__(self):\n",
    "        self.mil=9 # instance variable because as object changes this value will change\n",
    "        self.com=\"BMW\" # instance variable\n",
    "        \n",
    "c1=Car()\n",
    "c2=Car()\n",
    "\n",
    "print(c1.com,c1.mil)\n",
    "print(c2.com,c2.mil)"
   ]
  },
  {
   "cell_type": "markdown",
   "id": "beb2fb7e",
   "metadata": {},
   "source": [
    "Instance variables are different for different objects. If we change one object it will not affect other:"
   ]
  },
  {
   "cell_type": "code",
   "execution_count": 3,
   "id": "dad4d563",
   "metadata": {},
   "outputs": [
    {
     "name": "stdout",
     "output_type": "stream",
     "text": [
      "BMW 12\n",
      "BMW 9\n"
     ]
    }
   ],
   "source": [
    "class Car:\n",
    "    def __init__(self):\n",
    "        self.mil=9\n",
    "        self.com=\"BMW\"\n",
    "        \n",
    "c1=Car()\n",
    "c2=Car()\n",
    "\n",
    "c1.mil=12 # changing value\n",
    "\n",
    "print(c1.com,c1.mil)\n",
    "print(c2.com,c2.mil)"
   ]
  },
  {
   "cell_type": "markdown",
   "id": "606b6233",
   "metadata": {},
   "source": [
    "**`Instance variables`** are variables that are defined within a class and are specific to each instance of that class. \n",
    "\n",
    "Each instance of the class has its own copy of the instance variables, and they can have different values. \n",
    "\n",
    "Instance variables are defined inside the class methods using the `self` parameter."
   ]
  },
  {
   "cell_type": "code",
   "execution_count": 8,
   "id": "88283840",
   "metadata": {},
   "outputs": [
    {
     "name": "stdout",
     "output_type": "stream",
     "text": [
      "Toyota Camry 2021\n",
      "Honda Civic 2022\n"
     ]
    }
   ],
   "source": [
    "class Car:\n",
    "    def __init__(self, make, model, year):\n",
    "        self.make = make\n",
    "        self.model = model\n",
    "        self.year = year\n",
    "\n",
    "car1 = Car(\"Toyota\", \"Camry\", 2021)\n",
    "car2 = Car(\"Honda\", \"Civic\", 2022)\n",
    "\n",
    "print(car1.make, car1.model, car1.year) # Output: Toyota Camry 2021\n",
    "print(car2.make, car2.model, car2.year) # Output: Honda Civic 2022"
   ]
  },
  {
   "cell_type": "markdown",
   "id": "09e743a4",
   "metadata": {},
   "source": [
    "#### Explanation:\n",
    "\n",
    "In this example, we define a `Car` class with three instance variables `make`, `model`, and `year`. These variables are defined inside the `__init__()` method using the `self` parameter. When we create two objects `car1` and `car2` of the `Car` class, we pass different values for the instance variables, and each object has its own copy of the instance variables."
   ]
  },
  {
   "cell_type": "markdown",
   "id": "5e861d90",
   "metadata": {},
   "source": [
    "### Different ways to access instance variable \n",
    "\n",
    "In Python, there are several ways to access an instance variable. Here are some of the ways with examples:"
   ]
  },
  {
   "cell_type": "code",
   "execution_count": 3,
   "id": "ecffb795",
   "metadata": {},
   "outputs": [
    {
     "name": "stdout",
     "output_type": "stream",
     "text": [
      "10\n"
     ]
    }
   ],
   "source": [
    "# Using the instance name: \n",
    "# You can access an instance variable using the instance name followed by the variable name, separated by a dot.\n",
    "# For example:\n",
    "\n",
    "class MyClass:\n",
    "    def __init__(self, var):\n",
    "        self.instance_var = var\n",
    "\n",
    "obj = MyClass(10)\n",
    "print(obj.instance_var) #  Using the instance name    \n",
    "                        # Output: 10"
   ]
  },
  {
   "cell_type": "code",
   "execution_count": 7,
   "id": "8e2f0002",
   "metadata": {},
   "outputs": [
    {
     "name": "stdout",
     "output_type": "stream",
     "text": [
      "10\n"
     ]
    }
   ],
   "source": [
    "# Inside the class methods:\n",
    "# You can also access an instance variable inside any class method using the self keyword. \n",
    "# For example:\n",
    "\n",
    "class MyClass:\n",
    "    def __init__(self, var):\n",
    "        self.instance_var = var\n",
    "    \n",
    "    def my_method(self):\n",
    "        print(self.instance_var) # Inside the class methods\n",
    "\n",
    "obj = MyClass(10)\n",
    "obj.my_method()    # Output: 10"
   ]
  },
  {
   "cell_type": "code",
   "execution_count": 4,
   "id": "770f19d9",
   "metadata": {},
   "outputs": [
    {
     "name": "stdout",
     "output_type": "stream",
     "text": [
      "10\n"
     ]
    }
   ],
   "source": [
    "# Using a class method: \n",
    "# You can define a class method that takes an instance as an argument and access its instance variables. \n",
    "# For example:\n",
    "\n",
    "class MyClass:\n",
    "    def __init__(self, var):\n",
    "        self.instance_var = var\n",
    "    \n",
    "    @classmethod\n",
    "    def my_class_method(cls, obj):\n",
    "        print(obj.instance_var) # Using a class method\n",
    "\n",
    "obj = MyClass(10)\n",
    "MyClass.my_class_method(obj)    # Output: 10"
   ]
  },
  {
   "cell_type": "code",
   "execution_count": 2,
   "id": "1492cacd",
   "metadata": {},
   "outputs": [
    {
     "name": "stdout",
     "output_type": "stream",
     "text": [
      "{'instance_var1': 10, 'instance_var2': 20}\n"
     ]
    }
   ],
   "source": [
    "# Using the vars() function:\n",
    "# You can use the vars() function to get a dictionary of an instance's instance variables. \n",
    "# For example:\n",
    "\n",
    "class MyClass:\n",
    "    def __init__(self, var1, var2):\n",
    "        self.instance_var1 = var1\n",
    "        self.instance_var2 = var2\n",
    "\n",
    "obj = MyClass(10,20)\n",
    "print(vars(obj)) # Using the vars() function\n",
    "                # Output: {'instance_var1': 10, 'instance_var2': 20}"
   ]
  },
  {
   "cell_type": "code",
   "execution_count": 4,
   "id": "1ea07d9a",
   "metadata": {},
   "outputs": [
    {
     "data": {
      "text/plain": [
       "20"
      ]
     },
     "execution_count": 4,
     "metadata": {},
     "output_type": "execute_result"
    }
   ],
   "source": [
    "vars(obj)['instance_var2']"
   ]
  },
  {
   "cell_type": "markdown",
   "id": "33759cac",
   "metadata": {},
   "source": [
    "### Remark:\n",
    "\n",
    "It is recommended to access instance variable within the class methods using `self` keyword. It is possible to access instance variables using the object name, but it is not recommended as it can cause confusion and can make the code harder to read and understand."
   ]
  },
  {
   "cell_type": "markdown",
   "id": "d32e47fe",
   "metadata": {},
   "source": [
    "### Note:\n",
    "\n",
    "when you access an instance variable, you can only access it through an instance of the class, not through the class itself."
   ]
  },
  {
   "cell_type": "code",
   "execution_count": null,
   "id": "9eb1da39",
   "metadata": {},
   "outputs": [],
   "source": []
  },
  {
   "cell_type": "markdown",
   "id": "dcd5ac1c",
   "metadata": {},
   "source": [
    "What if we want a variable which will change it will affect all other object.\n",
    "\n",
    "Example: By default car have four wheels. in future it may have 5 wheels.\n",
    "\n",
    "If we talk about com,mil it specific to object but wheel is common to all object. So, every object can share same value of it."
   ]
  },
  {
   "cell_type": "markdown",
   "id": "26cf68e2",
   "metadata": {},
   "source": [
    "## (2) Class variable:\n",
    "\n",
    "If we define variable outside `__init__()` and inside class is called class varaible. Also called as **static variable**."
   ]
  },
  {
   "cell_type": "code",
   "execution_count": 1,
   "id": "70f1cb65",
   "metadata": {},
   "outputs": [
    {
     "name": "stdout",
     "output_type": "stream",
     "text": [
      "BMW 9 4\n",
      "BMW 9 4\n",
      "4\n"
     ]
    }
   ],
   "source": [
    "# class variable\n",
    "\n",
    "class Car:\n",
    "    wheel=4 # class varaible ; declared outside __init__()\n",
    "    def __init__(self):\n",
    "        self.mil=9\n",
    "        self.com=\"BMW\"\n",
    "        \n",
    "c1=Car()\n",
    "c2=Car()\n",
    "\n",
    "print(c1.com,c1.mil,c1.wheel)\n",
    "print(c2.com,c2.mil,c2.wheel)\n",
    "\n",
    "print(Car.wheel) # can use class name as well because it is common to all object\n",
    "# So, we can use object name(c1.wheel) and class name(Car.wheel) both"
   ]
  },
  {
   "cell_type": "markdown",
   "id": "5d8ab8bf",
   "metadata": {},
   "source": [
    "**`Class variables`** are variables that are defined within a class but outside of any class method. \n",
    "\n",
    "Class variables are shared among all instances of the class, and changing the value of a class variable for one object changes the value for all objects of the class. \n",
    "\n",
    "**Class variables are accessed using the `class name`, rather than the `instance name`**."
   ]
  },
  {
   "cell_type": "code",
   "execution_count": 3,
   "id": "dc3f694a",
   "metadata": {},
   "outputs": [
    {
     "name": "stdout",
     "output_type": "stream",
     "text": [
      "Canis lupus familiaris\n",
      "Canis lupus familiaris\n",
      "Canis canis\n",
      "Canis canis\n"
     ]
    }
   ],
   "source": [
    "class Dog:\n",
    "    species = \"Canis lupus familiaris\"\n",
    "\n",
    "    def __init__(self, name, age):\n",
    "        self.name = name\n",
    "        self.age = age\n",
    "\n",
    "dog1 = Dog(\"Fido\", 2)\n",
    "dog2 = Dog(\"Buddy\", 4)\n",
    "\n",
    "print(dog1.species) # Output: Canis lupus familiaris\n",
    "print(dog2.species) # Output: Canis lupus familiaris\n",
    "\n",
    "Dog.species = \"Canis canis\" # changing value\n",
    "\n",
    "print(dog1.species) # Output: Canis canis\n",
    "print(dog2.species) # Output: Canis canis"
   ]
  },
  {
   "cell_type": "markdown",
   "id": "1bad9249",
   "metadata": {},
   "source": [
    "#### Explanation:\n",
    "\n",
    "In this example, we define a `Dog` class with a class variable `species` that is shared among all instances of the class. We also define two instance variables `name` and `age` that are specific to each instance of the class. When we create two objects `dog1` and `dog2` of the `Dog` class, they both have the same value for the `species` variable. When we change the value of the `species` variable for the `Dog` class, it changes for all objects of the class."
   ]
  },
  {
   "cell_type": "markdown",
   "id": "d162ca23",
   "metadata": {},
   "source": [
    "### Different ways to access class variable \n",
    "\n",
    "In Python, there are several ways to access a class variable. Here are some of the ways with examples:"
   ]
  },
  {
   "cell_type": "code",
   "execution_count": 8,
   "id": "610d1113",
   "metadata": {},
   "outputs": [
    {
     "name": "stdout",
     "output_type": "stream",
     "text": [
      "10\n"
     ]
    }
   ],
   "source": [
    "# Using the class name:\n",
    "# You can access a class variable using the class name followed by the variable name, separated by a dot. \n",
    "# For example:\n",
    "\n",
    "class MyClass:\n",
    "    class_var = 10\n",
    "\n",
    "print(MyClass.class_var) # Using the class name   \n",
    "                        # Output: 10"
   ]
  },
  {
   "cell_type": "code",
   "execution_count": 9,
   "id": "096e56c3",
   "metadata": {},
   "outputs": [
    {
     "name": "stdout",
     "output_type": "stream",
     "text": [
      "10\n",
      "10\n"
     ]
    }
   ],
   "source": [
    "# Using an instance of the class: \n",
    "# You can also access a class variable using an instance of the class. \n",
    "# In this case, the value of the class variable will be the same for all instances of the class. \n",
    "# For example:\n",
    "\n",
    "class MyClass:\n",
    "    class_var = 10\n",
    "\n",
    "obj1 = MyClass()\n",
    "obj2 = MyClass()\n",
    "\n",
    "print(obj1.class_var) # Using an instance of the class\n",
    "                    # Output: 10\n",
    "print(obj2.class_var) # Using an instance of the class\n",
    "                    # Output: 10"
   ]
  },
  {
   "cell_type": "code",
   "execution_count": 10,
   "id": "cfa28f4d",
   "metadata": {},
   "outputs": [
    {
     "name": "stdout",
     "output_type": "stream",
     "text": [
      "10\n"
     ]
    }
   ],
   "source": [
    "# Inside the class methods: \n",
    "# You can also access a class variable inside any class method. \n",
    "# For example:\n",
    "\n",
    "class MyClass:\n",
    "    class_var = 10\n",
    "    \n",
    "    def my_method(self):\n",
    "        print(MyClass.class_var) # Inside the class methods\n",
    "\n",
    "obj = MyClass()\n",
    "obj.my_method()    # Output: 10"
   ]
  },
  {
   "cell_type": "code",
   "execution_count": 14,
   "id": "0763419e",
   "metadata": {},
   "outputs": [
    {
     "name": "stdout",
     "output_type": "stream",
     "text": [
      "<class '__main__.MyClass'>\n",
      "10\n"
     ]
    }
   ],
   "source": [
    "# Using the __class__ attribute:\n",
    "# You can access a class variable using the __class__ attribute, which returns the class object of an instance. \n",
    "# For example:\n",
    "\n",
    "class MyClass:\n",
    "    class_var = 10\n",
    "    \n",
    "obj = MyClass()\n",
    "\n",
    "print(obj.__class__)\n",
    "\n",
    "print(obj.__class__.class_var) # Using the __class__ attribute\n",
    "                                # Output: 10"
   ]
  },
  {
   "cell_type": "markdown",
   "id": "fcbee0a7",
   "metadata": {},
   "source": [
    "### Remark:\n",
    "\n",
    "It is recommended to access class variable within the class methods using class name. It is possible to access class variables using the object name, but it is not recommended as it can cause confusion and can make the code harder to read and understand."
   ]
  },
  {
   "cell_type": "markdown",
   "id": "8563f0cb",
   "metadata": {},
   "source": [
    "### Note:\n",
    "\n",
    "When you access a `class variable` using an `instance of the class`, Python first looks for the variable in the instance namespace. If it's not found, Python then looks for the variable in the class namespace. If the variable is found in the instance, any changes made to it will only affect that instance. However, if the variable is found in the class namespace, any changes made to it will affect all instances of the class as well as the class itself.\n",
    "\n",
    "**Here's an example to illustrate this behavior:**"
   ]
  },
  {
   "cell_type": "code",
   "execution_count": 4,
   "id": "51aa393a",
   "metadata": {},
   "outputs": [
    {
     "name": "stdout",
     "output_type": "stream",
     "text": [
      "foo\n",
      "foo\n",
      "qux\n",
      "foo\n",
      "foo\n",
      "qux\n",
      "spam\n",
      "spam\n"
     ]
    }
   ],
   "source": [
    "class MyClass:\n",
    "    class_var = \"foo\"\n",
    "    \n",
    "    def __init__(self, instance_var):\n",
    "        self.instance_var = instance_var\n",
    "\n",
    "obj1 = MyClass(\"bar\")\n",
    "obj2 = MyClass(\"baz\")\n",
    "\n",
    "print(obj1.class_var)  # Output: foo\n",
    "print(obj2.class_var)  # Output: foo\n",
    "\n",
    "obj1.class_var = \"qux\"\n",
    "\n",
    "print(obj1.class_var)  # Output: qux\n",
    "print(obj2.class_var)  # Output: foo\n",
    "print(MyClass.class_var)  # Output: foo\n",
    "\n",
    "MyClass.class_var = \"spam\"\n",
    "\n",
    "print(obj1.class_var)  # Output: qux\n",
    "print(obj2.class_var)  # Output: spam\n",
    "print(MyClass.class_var)  # Output: spam"
   ]
  },
  {
   "cell_type": "markdown",
   "id": "ad70be69",
   "metadata": {},
   "source": [
    "#### Explanation:\n",
    "\n",
    "In this example, `class_var` is a class variable that is shared by all instances of the class. When `obj1` and `obj2` are created, they each have their own `instance_var` attribute, but they share the same `class_var` attribute.\n",
    "\n",
    "When we access `obj1.class_var`, Python first looks for `class_var` in the instance namespace of `obj1`, but since it's not found there, it looks for it in the class namespace and finds it there. Similarly, when we access `obj2.class_var`, Python first looks for `class_var` in the instance namespace of `obj2`, but since it's not found there, it looks for it in the class namespace and finds it there.\n",
    "\n",
    "When we assign a new value to `obj1.class_var`, Python creates a new `class_var` attribute in the instance namespace of `obj1`. This attribute shadows the `class_var` attribute in the class namespace, so any further references to `obj1.class_var` will retrieve the value of the instance attribute, not the class attribute. However, the `class_var` attribute in the class namespace is still intact, so references to `obj2.class_var` and `MyClass.class_var` will still retrieve the value of the class attribute.\n",
    "\n",
    "When we assign a new value to `MyClass.class_var`, we are changing the value of the `class_var` attribute in the class namespace, which affects all instances of the class as well as the class itself. This change is reflected when we access `obj2.class_var` and `MyClass.class_var` after the assignment."
   ]
  },
  {
   "cell_type": "markdown",
   "id": "a682a8a2",
   "metadata": {},
   "source": [
    "### Note:\n",
    "\n",
    "When you access an `instance variable` using the `instance name`, Python only looks for the variable in the instance itself, not in the class.\n",
    "\n",
    "**Here's an example to illustrate this:**"
   ]
  },
  {
   "cell_type": "code",
   "execution_count": 5,
   "id": "e4a9e2f8",
   "metadata": {},
   "outputs": [
    {
     "name": "stdout",
     "output_type": "stream",
     "text": [
      "5\n",
      "10\n",
      "10\n"
     ]
    },
    {
     "ename": "AttributeError",
     "evalue": "type object 'MyClass' has no attribute 'instance_var'",
     "output_type": "error",
     "traceback": [
      "\u001b[1;31m---------------------------------------------------------------------------\u001b[0m",
      "\u001b[1;31mAttributeError\u001b[0m                            Traceback (most recent call last)",
      "\u001b[1;32mC:\\Users\\SAURAB~1\\AppData\\Local\\Temp/ipykernel_16064/3176346743.py\u001b[0m in \u001b[0;36m<module>\u001b[1;34m\u001b[0m\n\u001b[0;32m     12\u001b[0m \u001b[0mprint\u001b[0m\u001b[1;33m(\u001b[0m\u001b[0mMyClass\u001b[0m\u001b[1;33m.\u001b[0m\u001b[0mclass_var\u001b[0m\u001b[1;33m)\u001b[0m  \u001b[1;31m# Output: 10\u001b[0m\u001b[1;33m\u001b[0m\u001b[1;33m\u001b[0m\u001b[0m\n\u001b[0;32m     13\u001b[0m \u001b[1;33m\u001b[0m\u001b[0m\n\u001b[1;32m---> 14\u001b[1;33m \u001b[0mprint\u001b[0m\u001b[1;33m(\u001b[0m\u001b[0mMyClass\u001b[0m\u001b[1;33m.\u001b[0m\u001b[0minstance_var\u001b[0m\u001b[1;33m)\u001b[0m  \u001b[1;31m# Raises AttributeError\u001b[0m\u001b[1;33m\u001b[0m\u001b[1;33m\u001b[0m\u001b[0m\n\u001b[0m",
      "\u001b[1;31mAttributeError\u001b[0m: type object 'MyClass' has no attribute 'instance_var'"
     ]
    }
   ],
   "source": [
    "class MyClass:\n",
    "    class_var = 10  # class variable\n",
    "    def __init__(self, x):\n",
    "        self.instance_var = x\n",
    "\n",
    "obj = MyClass(5)\n",
    "\n",
    "print(obj.instance_var)  # Output: 5\n",
    "\n",
    "print(obj.class_var)  # Output: 10\n",
    "\n",
    "print(MyClass.class_var)  # Output: 10\n",
    "\n",
    "print(MyClass.instance_var)  # Raises AttributeError"
   ]
  },
  {
   "cell_type": "markdown",
   "id": "a1fe0adb",
   "metadata": {},
   "source": [
    "#### Explanation:\n",
    "\n",
    "In the above example, `obj.instance_var` correctly accesses the `instance_var` attribute of the `obj` instance. `obj.class_var` accesses the `class_var` attribute of the` MyClass` class because the instance doesn't have its own `class_var`. `MyClass.class_var` also accesses the `class_var` attribute of the `MyClass` class. However, `MyClass.instance_var` raises an `AttributeError` because `instance_var` is an instance variable and doesn't belong to the class itself."
   ]
  },
  {
   "cell_type": "code",
   "execution_count": null,
   "id": "ea12a25b",
   "metadata": {},
   "outputs": [],
   "source": []
  },
  {
   "cell_type": "markdown",
   "id": "66129b9f",
   "metadata": {},
   "source": [
    "## Static variable  in Python\n",
    "\n",
    " In C++ and Java, we can use static keywords to make a variable a class variable. The variables which don’t have a preceding static keyword are instance variables. \n",
    " \n",
    "In Python, a static variable is a variable that is shared among all instances of a class, rather than being unique to each instance. **It is also sometimes referred to as a class variable**, because it belongs to the class itself rather than any particular instance of the class.\n",
    "\n",
    "Static variables are defined inside the class definition, but outside of any method definitions. They are typically initialized with a value, just like an instance variable, but they can be accessed and modified through the class itself, rather than through an instance."
   ]
  },
  {
   "cell_type": "code",
   "execution_count": 28,
   "id": "ab535492",
   "metadata": {},
   "outputs": [
    {
     "name": "stdout",
     "output_type": "stream",
     "text": [
      "cse\n",
      "cse\n",
      "Geek\n",
      "Nerd\n",
      "1\n",
      "2\n",
      "cse\n",
      "ece\n",
      "cse\n",
      "ece\n",
      "mech\n"
     ]
    }
   ],
   "source": [
    "# Python program to show that the variables with a value\n",
    "# assigned in class declaration, are class variables\n",
    "\n",
    "# Class for Computer Science Student\n",
    "class CSStudent:\n",
    "    stream = 'cse' # Class Variable\n",
    "    def __init__(self,name,roll):\n",
    "        self.name = name # Instance Variable\n",
    "        self.roll = roll # Instance Variable\n",
    "\n",
    "# Objects of CSStudent class\n",
    "a = CSStudent('Geek', 1)\n",
    "b = CSStudent('Nerd', 2)\n",
    "\n",
    "print(a.stream) # prints \"cse\"\n",
    "print(b.stream) # prints \"cse\"\n",
    "\n",
    "print(a.name) # prints \"Geek\"\n",
    "print(b.name) # prints \"Nerd\"\n",
    "\n",
    "print(a.roll) # prints \"1\"\n",
    "print(b.roll) # prints \"2\"\n",
    "\n",
    "# Class variables can be accessed using class name also\n",
    "print(CSStudent.stream) # prints \"cse\"\n",
    "\n",
    "# Now if we change the stream for just a it won't be changed for b\n",
    "a.stream = 'ece' # it creates a new instance variable stream specific to object a\n",
    "                # This instance variable is specific to a and is different from the class variable stream\n",
    "\n",
    "print(a.stream) # prints 'ece'\n",
    "print(b.stream) # prints 'cse'\n",
    "\n",
    "# To change the stream for all instances of the class we can change it directly from the class\n",
    "CSStudent.stream = 'mech'\n",
    "\n",
    "print(a.stream) # value of the instance variable stream for a remains 'ece'\n",
    "                # because it refers to the instance variable stream and not the class variable stream\n",
    "print(b.stream) # prints 'mech'"
   ]
  },
  {
   "cell_type": "markdown",
   "id": "dcf15c2c",
   "metadata": {},
   "source": [
    "#### Explanation:\n",
    "\n",
    "When you set `a.stream = 'ece'`, it creates a new instance variable `stream` for the object `a`. This instance variable is specific to `a` and is different from the class variable `stream`. This new instance variable shadows the class variable `stream` for `a` object. Therefore, when `a.stream` is printed, it prints the value of the instance variable `stream` which is 'ece'.\n",
    "\n",
    "So, when you access `a.stream`, it refers to the instance variable `stream` and not the class variable `stream`. \n",
    "\n",
    "However, when the line `CSStudent.stream = 'mech'` is executed, it changes the value of the class variable `stream` for all instances of the `CSStudent` class, including the instance `a`. Therefore, even though you have changed the value of the class variable `stream` by executing `CSStudent.stream = 'mech'`, the value of the instance variable `stream` for `a` remains 'ece' that is `a.stream` line still prints the value of the instance variable `stream` which is 'ece'. In other words, the instance variable `stream` for `a` is not affected by changes to the class variable `stream`. \n",
    "\n",
    "But when `b.stream` is printed, it prints the value of the changed class variable `stream` which is 'mech'."
   ]
  },
  {
   "cell_type": "markdown",
   "id": "5ec5c610",
   "metadata": {},
   "source": [
    "**Why `print(a.stream)` is still printing `ece` instead of `mech` in above program ?**\n",
    "\n",
    "In the above code, the class variable `stream` is assigned the value `'cse'` and both instances `a` and `b` are initialized with this value. When the value of stream is changed for the object `a` using the statement `a.stream = 'ece'`, a new instance variable stream is created for object `a` which is separate from the class variable `stream`. This instance variable `stream` is specific to object `a` and is different from the class variable `stream`.\n",
    "\n",
    "When we later change the value of the class variable `stream` to `'mech'` using `CSStudent.stream = 'mech'`, it will only affect the instances that have not already created an instance variable with the same name. Since `a` already has an instance variable stream, it won't be affected by this change and will still print `'ece'`. However, the value of stream for object `b` will be changed to `'mech'` because it is still referring to the class variable `stream`.\n",
    "\n",
    "Therefore, the last second print statement still prints `'ece'` instead of `'mech'`."
   ]
  },
  {
   "cell_type": "code",
   "execution_count": 32,
   "id": "9906e3df",
   "metadata": {},
   "outputs": [
    {
     "name": "stdout",
     "output_type": "stream",
     "text": [
      "1\n",
      "2\n",
      "2\n"
     ]
    }
   ],
   "source": [
    "class MyClass:\n",
    "    static_var = 0\n",
    "\n",
    "    def __init__(self):\n",
    "        MyClass.static_var += 1\n",
    "        self.instance_var = MyClass.static_var\n",
    "\n",
    "obj1 = MyClass()\n",
    "print(obj1.instance_var) # Output: 1\n",
    "\n",
    "obj2 = MyClass()\n",
    "print(obj2.instance_var) # Output: 2\n",
    "\n",
    "print(MyClass.static_var) # Output: 2"
   ]
  },
  {
   "cell_type": "markdown",
   "id": "7b0da8e2",
   "metadata": {},
   "source": [
    "#### Explanation:\n",
    "\n",
    "In this example, we define a class `MyClass` that has a static variable `static_var` initialized to `0`. We also define an instance variable `instance_var` that is unique to each instance of the class.\n",
    "\n",
    "When we create an instance of the class (`obj1`), we increment the value of the static variable by `1` and assign it to the instance variable. When we create another instance of the class (`obj2`), we increment the static variable again and assign the new value to the instance variable for that instance.\n",
    "\n",
    "Finally, we print out the value of the static variable using the class itself, rather than an instance of the class. As you can see, the value of the static variable is shared among all instances of the class, and it is incremented each time a new instance is created.\n",
    "\n",
    "**Static variables can be useful for maintaining state across all instances of a class, or for sharing data among all instances of a class. However, it’s important to use them carefully and to ensure that their values are synchronized with the state of the program, especially in a multithreaded environment**."
   ]
  },
  {
   "cell_type": "markdown",
   "id": "3c8b3a8a",
   "metadata": {},
   "source": [
    "### Different ways to access static variable \n",
    "\n",
    "In Python, there are different ways to access a static variable. Here are some of the ways with examples:"
   ]
  },
  {
   "cell_type": "code",
   "execution_count": 29,
   "id": "25036685",
   "metadata": {},
   "outputs": [
    {
     "name": "stdout",
     "output_type": "stream",
     "text": [
      "10\n"
     ]
    }
   ],
   "source": [
    "# Using the class name: \n",
    "# You can access a static variable using the class name followed by the variable name, separated by a dot. \n",
    "# For example:\n",
    "\n",
    "class MyClass:\n",
    "    static_var = 10\n",
    "\n",
    "print(MyClass.static_var)    # Output: 10"
   ]
  },
  {
   "cell_type": "code",
   "execution_count": 30,
   "id": "68871fb9",
   "metadata": {},
   "outputs": [
    {
     "name": "stdout",
     "output_type": "stream",
     "text": [
      "10\n",
      "10\n",
      "10\n"
     ]
    }
   ],
   "source": [
    "# Inside the class methods:\n",
    "# You can access a static variable inside any class method using the class name. \n",
    "# For example:\n",
    "\n",
    "class MyClass:\n",
    "    static_var = 10\n",
    "    \n",
    "    def my_method(self):\n",
    "        print(MyClass.static_var)\n",
    "        print(self.__class__.static_var)\n",
    "        print(type(self).static_var)\n",
    "\n",
    "obj = MyClass()\n",
    "obj.my_method()    # Output: 10 10 10"
   ]
  },
  {
   "cell_type": "code",
   "execution_count": 31,
   "id": "a86fefde",
   "metadata": {},
   "outputs": [
    {
     "name": "stdout",
     "output_type": "stream",
     "text": [
      "10\n"
     ]
    }
   ],
   "source": [
    "# Using a class method: \n",
    "# You can define a class method that takes a class as an argument and access its static variables using cls keyword. \n",
    "# For example:\n",
    "\n",
    "class MyClass:\n",
    "    static_var = 10\n",
    "    \n",
    "    @classmethod\n",
    "    def my_class_method(cls):\n",
    "        print(cls.static_var)\n",
    "\n",
    "MyClass.my_class_method()    # Output: 10"
   ]
  },
  {
   "cell_type": "markdown",
   "id": "803af82c",
   "metadata": {},
   "source": [
    "### Note: \n",
    "\n",
    "When you access a static variable, you can access it either through the class or through an instance of the class. However, it is recommended to access static variables through the class, as it makes the code more readable and avoids confusion."
   ]
  },
  {
   "cell_type": "code",
   "execution_count": null,
   "id": "713db4da",
   "metadata": {},
   "outputs": [],
   "source": []
  },
  {
   "cell_type": "markdown",
   "id": "3411b960",
   "metadata": {},
   "source": [
    "# NAMESPACE IN PYTHON"
   ]
  },
  {
   "cell_type": "markdown",
   "id": "f21c2dd2",
   "metadata": {},
   "source": [
    "In Python, a namespace is a container that holds a mapping of identifiers (such as variable names, function names, class names, etc.) to the corresponding objects (such as values, functions, classes, etc.). Namespaces are used to organize and manage the scope of identifiers within a Python program to avoid naming conflicts and maintain clarity in code.\n",
    "\n",
    "It provides a way to organize and access objects in a Python program. A namespace can be seen as a dictionary-like structure, where the keys are the names of objects (e.g., variables, functions, classes) and the values are the objects themselves.\n",
    "\n",
    "Python has several types of namespaces, including:"
   ]
  },
  {
   "cell_type": "markdown",
   "id": "e7c35ac6",
   "metadata": {},
   "source": [
    "**Built-in namespace:** contains the names of all built-in functions, modules, and exceptions. This namespace is created when the Python interpreter starts up and is always available."
   ]
  },
  {
   "cell_type": "code",
   "execution_count": 26,
   "id": "daa796f1",
   "metadata": {},
   "outputs": [
    {
     "name": "stdout",
     "output_type": "stream",
     "text": [
      "3.141592653589793\n"
     ]
    }
   ],
   "source": [
    "import math\n",
    "\n",
    "print(math.pi)  # Output: 3.141592653589793"
   ]
  },
  {
   "cell_type": "markdown",
   "id": "c37e034e",
   "metadata": {},
   "source": [
    "In this example, we are accessing the value of pi constant from the math module. This name is defined in the built-in namespace, so we don't need to define it ourselves."
   ]
  },
  {
   "cell_type": "markdown",
   "id": "c1cd51ff",
   "metadata": {},
   "source": [
    "**Global namespace:** contains the names defined at the top level of a module or in the outermost scope of a script. This namespace is created when the module is imported or the script is executed."
   ]
  },
  {
   "cell_type": "code",
   "execution_count": 27,
   "id": "473ade17",
   "metadata": {},
   "outputs": [
    {
     "name": "stdout",
     "output_type": "stream",
     "text": [
      "10\n"
     ]
    }
   ],
   "source": [
    "x = 10  # Global variable\n",
    "\n",
    "def foo():\n",
    "    print(x)  # Access global variable inside function\n",
    "\n",
    "foo()  # Output: 10"
   ]
  },
  {
   "cell_type": "markdown",
   "id": "9d605c19",
   "metadata": {},
   "source": [
    "In this example, x is a global variable defined outside the function foo(). Inside the function, we can access the value of x using its name because it is defined in the global namespace."
   ]
  },
  {
   "cell_type": "markdown",
   "id": "83f61eb3",
   "metadata": {},
   "source": [
    "**Local namespace:** contains the names defined inside a function or method. This namespace is created when the function or method is called and is destroyed when the function or method returns."
   ]
  },
  {
   "cell_type": "code",
   "execution_count": 28,
   "id": "53dc7416",
   "metadata": {},
   "outputs": [
    {
     "name": "stdout",
     "output_type": "stream",
     "text": [
      "20\n"
     ]
    }
   ],
   "source": [
    "def foo():\n",
    "    y = 20  # Local variable\n",
    "    print(y)\n",
    "\n",
    "foo()  # Output: 20"
   ]
  },
  {
   "cell_type": "markdown",
   "id": "39b81b09",
   "metadata": {},
   "source": [
    "In this example, y is a local variable defined inside the function foo(). We cannot access y outside the function because it only exists in the local namespace of the function."
   ]
  },
  {
   "cell_type": "markdown",
   "id": "ff7a77e3",
   "metadata": {},
   "source": [
    "**Class namespace:** This is the namespace that is created whenever a class is defined, and it contains all of the class-level attributes and methods and nested classes. These can be accessed using the class name.\n",
    "\n",
    "**Instance namespace:** This is the namespace that is created whenever an instance of a class is created, and it contains all of the instance-level attributes and methods. These can be accessed using the object name."
   ]
  },
  {
   "cell_type": "code",
   "execution_count": 29,
   "id": "fae7d2ab",
   "metadata": {},
   "outputs": [
    {
     "name": "stdout",
     "output_type": "stream",
     "text": [
      "human\n",
      "Alice\n",
      "25\n",
      "My name is Alice and I am 30 years old.\n"
     ]
    }
   ],
   "source": [
    "# Here is an example of class and instance namespace:\n",
    "\n",
    "class Person:\n",
    "    species = \"human\" # class attribute\n",
    "    \n",
    "    def __init__(self, name, age):\n",
    "        self.name = name # instance attribute\n",
    "        self.age = age # instance attribute\n",
    "        \n",
    "    def introduce(self):\n",
    "        print(f\"My name is {self.name} and I am {self.age} years old.\")\n",
    "    \n",
    "p1 = Person(\"Alice\", 30)\n",
    "p2 = Person(\"Bob\", 25)\n",
    "\n",
    "# Accessing class attribute from class namespace\n",
    "print(Person.species) # Output: human\n",
    "\n",
    "# Accessing instance attributes from instance namespace\n",
    "print(p1.name) # Output: Alice\n",
    "print(p2.age) # Output: 25\n",
    "\n",
    "# Accessing instance method from instance namespace\n",
    "p1.introduce() # Output: My name is Alice and I am 30 years old.\n"
   ]
  },
  {
   "cell_type": "markdown",
   "id": "b83f6340",
   "metadata": {},
   "source": [
    "#### Explanation:\n",
    "\n",
    "In this example, the `Person` class has a class attribute `species` and instance attributes `name` and `age`. The `introduce()` method is an instance method that can be called on any instance of the class.\n",
    "\n",
    "When we create instances of the `Person` class (`p1` and `p2`), each instance gets its own instance namespace that contains the values of the instance attributes (`name` and `age`) for that particular instance.\n",
    "\n",
    "When we access the `species` class attribute using the class name (`Person.species`), we are accessing the class namespace. Similarly, when we access the instance attributes (`p1.name` and `p2.age`), we are accessing the instance namespaces for those particular instances. Finally, when we call the introduce() method on an instance (p1.introduce()), we are accessing the method from the instance namespace."
   ]
  },
  {
   "cell_type": "code",
   "execution_count": 6,
   "id": "adc1038c",
   "metadata": {},
   "outputs": [
    {
     "name": "stdout",
     "output_type": "stream",
     "text": [
      "BMW 9 4\n",
      "BMW 9 4\n"
     ]
    }
   ],
   "source": [
    "# more examples\n",
    "\n",
    "class Car:\n",
    "    wheel=4 # belongs to class namespace\n",
    "    def __init__(self):\n",
    "        self.mil=9 # belongs to instance namespce\n",
    "        self.com=\"BMW\" # belongs to instance namespce\n",
    "        \n",
    "c1=Car()\n",
    "c2=Car()\n",
    "\n",
    "print(c1.com,c1.mil,c1.wheel)\n",
    "print(c2.com,c2.mil,c2.wheel)"
   ]
  },
  {
   "cell_type": "code",
   "execution_count": 30,
   "id": "7689741f",
   "metadata": {},
   "outputs": [
    {
     "name": "stdout",
     "output_type": "stream",
     "text": [
      "BMW 9 5\n",
      "BMW 9 5\n"
     ]
    }
   ],
   "source": [
    "# more examples\n",
    "\n",
    "class Car:\n",
    "    wheel=4 # belongs to class namespce\n",
    "    def __init__(self):\n",
    "        self.mil=9 # belongs to instance namespce\n",
    "        self.com=\"BMW\" # belongs to instance namespce\n",
    "        \n",
    "c1=Car()\n",
    "c2=Car()\n",
    "\n",
    "Car.wheel=5 # changing using class name\n",
    "\n",
    "print(c1.com,c1.mil,c1.wheel)\n",
    "print(c2.com,c2.mil,c2.wheel)"
   ]
  },
  {
   "cell_type": "code",
   "execution_count": null,
   "id": "75a7ab91",
   "metadata": {},
   "outputs": [],
   "source": []
  },
  {
   "cell_type": "markdown",
   "id": "ccef798c",
   "metadata": {},
   "source": [
    "# TYPES OF METHOD IN OOPs"
   ]
  },
  {
   "cell_type": "markdown",
   "id": "f7e9ffe6",
   "metadata": {},
   "source": [
    "## Instance method\n",
    "\n",
    "Instance methods are the most common type of method and operate on an instance of a class. \n",
    "\n",
    "Works with instance variable\n",
    "\n",
    "These methods are defined within the class definition and take `self` as the first parameter, which refers to the instance of the class. \n",
    "\n",
    "**Instance methods can modify the instance state and can also access and modify class state**."
   ]
  },
  {
   "cell_type": "markdown",
   "id": "b2041caf",
   "metadata": {},
   "source": [
    "In object-oriented programming, the **state of an object** refers to the values of its attributes at a particular point in time. \n",
    "\n",
    "**Class state refers** to the values of class-level attributes that are shared among all instances of the class. \n",
    "\n",
    "**Instance state refers** to the values of instance-level attributes that are specific to each instance of the class."
   ]
  },
  {
   "cell_type": "markdown",
   "id": "e99c4be8",
   "metadata": {},
   "source": [
    "**Instance state and class state are two different concepts in object-oriented programming**.\n",
    "\n",
    "`Instance state` is the data that is associated with a specific instance of a class. It is stored in the object's memory and is unique to that object. **For example**, if you have a class called Car, each instance of Car would have its own instance state, such as its color, make, and model.\n",
    "\n",
    "`Class state` is the data that is associated with the class itself, rather than with any specific instance of the class. It is stored in the class's memory and is shared by all instances of the class. **For example**, if you have a class called Car, the class state might include the number of cars that have been created, the average price of a car, and the most popular color for cars.\n",
    "\n",
    "**Instance methods can modify the instance state of an object**. For `example`, a method called set_color() could be used to change the color of a car. **Instance methods can also access and modify the class state**. For `example`, a method called get_average_price() could be used to get the average price of a car.\n",
    "\n",
    "The distinction between instance state and class state is important because it allows you to organize your data in a way that makes it easy to understand and use. **Instance state is associated with specific objects**, so it is easy to see which object's data is being changed. **Class state is shared by all objects**, so it is easy to see how changes to class state affect all objects.\n",
    "\n",
    "By understanding the difference between instance state and class state, you can write more efficient and maintainable code."
   ]
  },
  {
   "cell_type": "code",
   "execution_count": 68,
   "id": "031aee9a",
   "metadata": {},
   "outputs": [
    {
     "name": "stdout",
     "output_type": "stream",
     "text": [
      "2.0\n",
      "5.0\n"
     ]
    }
   ],
   "source": [
    "# instance method\n",
    "\n",
    "class Student:\n",
    "    \n",
    "    school=\"Youtube\" # class variable\n",
    "    \n",
    "    def __init__(self,m1,m2,m3):\n",
    "        self.m1=m1 # instance variable\n",
    "        self.m2=m2\n",
    "        self.m3=m3\n",
    "    \n",
    "    def avg(self): # instance method because we are passing self \n",
    "        return (self.m1+self.m2+self.m3)/3\n",
    "        \n",
    "s1=Student(1,2,3)\n",
    "s2=Student(4,5,6)\n",
    "\n",
    "print(s1.avg())\n",
    "print(s2.avg())"
   ]
  },
  {
   "cell_type": "code",
   "execution_count": 31,
   "id": "47f53b4f",
   "metadata": {},
   "outputs": [
    {
     "name": "stdout",
     "output_type": "stream",
     "text": [
      "Alice\n",
      "30\n"
     ]
    }
   ],
   "source": [
    "# instance method example\n",
    "\n",
    "class Person:\n",
    "    def __init__(self, name, age):\n",
    "        self.name = name\n",
    "        self.age = age\n",
    "\n",
    "    def get_name(self):\n",
    "        return self.name\n",
    "\n",
    "    def get_age(self):\n",
    "        return self.age\n",
    "\n",
    "person1 = Person(\"Alice\", 30)\n",
    "print(person1.get_name()) # Output: Alice\n",
    "print(person1.get_age()) # Output: 30"
   ]
  },
  {
   "cell_type": "markdown",
   "id": "f207784f",
   "metadata": {},
   "source": [
    "#### Remark:\n",
    "\n",
    "When you define an instance method in a class, you need to include the `self` parameter as the first parameter in the method definition. This is a convention in Python, and it helps to distinguish instance methods from class methods and static methods."
   ]
  },
  {
   "cell_type": "markdown",
   "id": "81fec79e",
   "metadata": {},
   "source": [
    "In instance method we have two different types:\n",
    "\n",
    "###### (1) Accessor method:\n",
    "\n",
    "if we want to just fetch the value of instance variable, we will be using accessor\n",
    "\n",
    "###### (2) Mutator method:\n",
    "\n",
    "if we want to modify the value, we will be using mutator"
   ]
  },
  {
   "cell_type": "code",
   "execution_count": 9,
   "id": "10b56a50",
   "metadata": {},
   "outputs": [
    {
     "name": "stdout",
     "output_type": "stream",
     "text": [
      "2.0\n",
      "5.0\n"
     ]
    }
   ],
   "source": [
    "# types of instance method\n",
    "\n",
    "class Student:\n",
    "    \n",
    "    school=\"Youtube\"\n",
    "    \n",
    "    def __init__(self,m1,m2,m3):\n",
    "        self.m1=m1\n",
    "        self.m2=m2\n",
    "        self.m3=m3\n",
    "    \n",
    "    def avg(self): # instance method because we are passing self \n",
    "        return (self.m1+self.m2+self.m3)/3\n",
    "    \n",
    "    def get_m1(self): # accessor or getter\n",
    "        return self.m1\n",
    "    \n",
    "    def set_m1(self,value): # mutator or setter\n",
    "        self.m1=value\n",
    "        \n",
    "s1=Student(1,2,3)\n",
    "s2=Student(4,5,6)\n",
    "\n",
    "print(s1.avg())\n",
    "print(s2.avg())"
   ]
  },
  {
   "cell_type": "markdown",
   "id": "5685bd2d",
   "metadata": {},
   "source": [
    "### different ways to access instance method:\n"
   ]
  },
  {
   "cell_type": "code",
   "execution_count": 14,
   "id": "70cc13b3",
   "metadata": {},
   "outputs": [
    {
     "name": "stdout",
     "output_type": "stream",
     "text": [
      "Hello from my_method!\n",
      "Hello from my_method!\n",
      "Hello from my_method!\n"
     ]
    }
   ],
   "source": [
    "# four different ways\n",
    "\n",
    "class MyClass:\n",
    "    def my_method(self):\n",
    "        print(\"Hello from my_method!\")\n",
    "        \n",
    "obj = MyClass()\n",
    "\n",
    "# Accessing instance method on an instance of the class\n",
    "obj.my_method() \n",
    "\n",
    "# Accessing instance method on on the class, passing an instance as an argument\n",
    "MyClass.my_method(obj)\n",
    "\n",
    "# Accessing instance method using the getattr() built-in function to dynamically access the instance method\n",
    "getattr(obj, \"my_method\")()"
   ]
  },
  {
   "cell_type": "code",
   "execution_count": 15,
   "id": "9d14c6f1",
   "metadata": {},
   "outputs": [
    {
     "name": "stdout",
     "output_type": "stream",
     "text": [
      "Hello from my_method!\n"
     ]
    }
   ],
   "source": [
    "# Define a method that calls the instance method and call that method\n",
    "\n",
    "class MyClass:\n",
    "    def my_method(self):\n",
    "        print(\"Hello from my_method!\")\n",
    "        \n",
    "    def call_my_method(self):\n",
    "        self.my_method()\n",
    "        \n",
    "obj = MyClass()\n",
    "obj.call_my_method() # Output: Hello from my_method!\n"
   ]
  },
  {
   "cell_type": "markdown",
   "id": "40decb37",
   "metadata": {},
   "source": [
    "## Class method\n",
    "\n",
    "Class methods are defined using the `@classmethod` decorator and operate on the class rather than an instance of the class.\n",
    "\n",
    "These methods take `cls` as the first parameter, which refers to the class itself. \n",
    "\n",
    "Class methods can modify class state but cannot modify instance state.\n",
    "\n",
    "works with class variable"
   ]
  },
  {
   "cell_type": "code",
   "execution_count": 5,
   "id": "f3ead22e",
   "metadata": {},
   "outputs": [
    {
     "name": "stdout",
     "output_type": "stream",
     "text": [
      "2.0\n",
      "Youtube\n"
     ]
    }
   ],
   "source": [
    "# class method\n",
    "\n",
    "class Student:\n",
    "    \n",
    "    school=\"Youtube\" # class varaible\n",
    "    \n",
    "    def __init__(self,m1,m2,m3):\n",
    "        self.m1=m1\n",
    "        self.m2=m2\n",
    "        self.m3=m3\n",
    "    \n",
    "    def avg(self): # instance method because we are passing self \n",
    "        return (self.m1+self.m2+self.m3)/3\n",
    "    \n",
    "    @classmethod\n",
    "    def info(cls): # class mehtod & it should be strictly cls nothing else\n",
    "        return cls.school\n",
    "    \n",
    "        \n",
    "s1=Student(1,2,3)\n",
    "s2=Student(4,5,6)\n",
    "\n",
    "print(s1.avg())\n",
    "print(s1.info()) # calling class method"
   ]
  },
  {
   "cell_type": "markdown",
   "id": "b91a2e8f",
   "metadata": {},
   "source": [
    "**we can define class method using `@classmethod` decorator**"
   ]
  },
  {
   "cell_type": "code",
   "execution_count": 33,
   "id": "2e6e3ff7",
   "metadata": {},
   "outputs": [
    {
     "name": "stdout",
     "output_type": "stream",
     "text": [
      "2\n"
     ]
    }
   ],
   "source": [
    "# another example of class method\n",
    "\n",
    "class Person:\n",
    "    count = 0\n",
    "\n",
    "    def __init__(self, name, age):\n",
    "        self.name = name\n",
    "        self.age = age\n",
    "        Person.count += 1\n",
    "\n",
    "    @classmethod\n",
    "    def get_count(cls):\n",
    "        return cls.count\n",
    "\n",
    "person1 = Person(\"Alice\", 30)\n",
    "person2 = Person(\"Bob\", 40)\n",
    "print(Person.get_count()) # Output: 2"
   ]
  },
  {
   "cell_type": "markdown",
   "id": "a2f3e97a",
   "metadata": {},
   "source": [
    "**We can also define the class method using the `classmethod()` method as follows :**"
   ]
  },
  {
   "cell_type": "code",
   "execution_count": 35,
   "id": "45d0cfd9",
   "metadata": {},
   "outputs": [
    {
     "name": "stdout",
     "output_type": "stream",
     "text": [
      "Class method called\n",
      "Value of x: 0\n"
     ]
    }
   ],
   "source": [
    "class MyClass:\n",
    "    x = 0\n",
    "    \n",
    "    def class_method(cls):\n",
    "        print(\"Class method called\")\n",
    "        print(\"Value of x:\", cls.x)\n",
    "    \n",
    "    class_method = classmethod(class_method)\n",
    "    \n",
    "    def instance_method(self):\n",
    "        print(\"Instance method called\")\n",
    "\n",
    "MyClass.class_method() # Output: Class method called, Value of x: 0"
   ]
  },
  {
   "cell_type": "code",
   "execution_count": 6,
   "id": "d67a63fc",
   "metadata": {},
   "outputs": [
    {
     "name": "stdout",
     "output_type": "stream",
     "text": [
      "2.0\n"
     ]
    },
    {
     "ename": "TypeError",
     "evalue": "info() missing 1 required positional argument: 'cls'",
     "output_type": "error",
     "traceback": [
      "\u001b[1;31m---------------------------------------------------------------------------\u001b[0m",
      "\u001b[1;31mTypeError\u001b[0m                                 Traceback (most recent call last)",
      "\u001b[1;32mC:\\Users\\SAURAB~1\\AppData\\Local\\Temp/ipykernel_16940/1103875977.py\u001b[0m in \u001b[0;36m<module>\u001b[1;34m\u001b[0m\n\u001b[0;32m     26\u001b[0m \u001b[1;31m# so instead of using s1.info() we can use Student.info()\u001b[0m\u001b[1;33m\u001b[0m\u001b[1;33m\u001b[0m\u001b[1;33m\u001b[0m\u001b[0m\n\u001b[0;32m     27\u001b[0m \u001b[1;33m\u001b[0m\u001b[0m\n\u001b[1;32m---> 28\u001b[1;33m \u001b[0mprint\u001b[0m\u001b[1;33m(\u001b[0m\u001b[0mStudent\u001b[0m\u001b[1;33m.\u001b[0m\u001b[0minfo\u001b[0m\u001b[1;33m(\u001b[0m\u001b[1;33m)\u001b[0m\u001b[1;33m)\u001b[0m\u001b[1;33m\u001b[0m\u001b[1;33m\u001b[0m\u001b[0m\n\u001b[0m",
      "\u001b[1;31mTypeError\u001b[0m: info() missing 1 required positional argument: 'cls'"
     ]
    }
   ],
   "source": [
    "# class method\n",
    "\n",
    "class Student:\n",
    "    \n",
    "    school=\"Youtube\" # class varaible\n",
    "    \n",
    "    def __init__(self,m1,m2,m3):\n",
    "        self.m1=m1\n",
    "        self.m2=m2\n",
    "        self.m3=m3\n",
    "    \n",
    "    def avg(self): # instance method because we are passing self \n",
    "        return (self.m1+self.m2+self.m3)/3\n",
    "    \n",
    "    def info(cls): # class mehtod & it should be strictly cls nothing else\n",
    "        return cls.school\n",
    "    \n",
    "        \n",
    "s1=Student(1,2,3)\n",
    "s2=Student(4,5,6)\n",
    "\n",
    "print(s1.avg())\n",
    "\n",
    "# print(s1.info()) we can do this but there is one problem\n",
    "# info() should work with all object, it should not specific to one object\n",
    "# so instead of using s1.info() we can use Student.info()\n",
    "\n",
    "print(Student.info())\n",
    "\n",
    "# error"
   ]
  },
  {
   "cell_type": "markdown",
   "id": "d2df5ee5",
   "metadata": {},
   "source": [
    "##### What happened above:\n",
    "\n",
    "We have to pass `cls` that's weird. We don't want to pass cls. Infact we are not even doing that for avg(). We are not passing for one. Here also we don't want to pass thing.\n",
    "\n",
    "Normally what happens if we want to create class method we need to use special symbol or special way of doing that and we can use something called **decorator**"
   ]
  },
  {
   "cell_type": "code",
   "execution_count": 20,
   "id": "a2efd246",
   "metadata": {},
   "outputs": [
    {
     "name": "stdout",
     "output_type": "stream",
     "text": [
      "2.0\n",
      "Youtube\n"
     ]
    }
   ],
   "source": [
    "# class method\n",
    "\n",
    "class Student:\n",
    "    \n",
    "    school=\"Youtube\" # class varaible\n",
    "    \n",
    "    def __init__(self,m1,m2,m3):\n",
    "        self.m1=m1\n",
    "        self.m2=m2\n",
    "        self.m3=m3\n",
    "    \n",
    "    def avg(self): # instance method because we are passing self \n",
    "        return (self.m1+self.m2+self.m3)/3\n",
    "    \n",
    "    @classmethod\n",
    "    def info(cls): # class mehtod & it should be strictly cls nothing else\n",
    "        return cls.school\n",
    "    \n",
    "        \n",
    "s1=Student(1,2,3)\n",
    "s2=Student(4,5,6)\n",
    "\n",
    "print(s1.avg())\n",
    "\n",
    "# print(s1.info()) we can do this but there is one problem\n",
    "# info() should work with all object, it should not specific to one object\n",
    "# so instead of using s1.info() we can use Student.info()\n",
    "\n",
    "print(Student.info())"
   ]
  },
  {
   "cell_type": "markdown",
   "id": "3573f180",
   "metadata": {},
   "source": [
    "### Note:\n",
    "\n",
    "If we are working instance variable then we use **`self`** keyword\n",
    "\n",
    "If we are working class variable then we use **`cls`** keyword"
   ]
  },
  {
   "cell_type": "markdown",
   "id": "bd3bb73a",
   "metadata": {},
   "source": [
    "### different ways to access class method :"
   ]
  },
  {
   "cell_type": "code",
   "execution_count": 8,
   "id": "87861ba7",
   "metadata": {},
   "outputs": [
    {
     "name": "stdout",
     "output_type": "stream",
     "text": [
      "This is a class method.\n",
      "This is a class method.\n",
      "This is a class method.\n"
     ]
    }
   ],
   "source": [
    "# three different ways:\n",
    "\n",
    "class MyClass:\n",
    "    @classmethod\n",
    "    def class_method(cls):\n",
    "        print(\"This is a class method.\")\n",
    "\n",
    "# Accessing class method using class name\n",
    "MyClass.class_method()\n",
    "\n",
    "# Accessing class method using instance of the class\n",
    "my_obj = MyClass()\n",
    "my_obj.class_method()\n",
    "\n",
    "# Accessing class method using the getattr() built-in function to dynamically access the class method\n",
    "getattr(MyClass, \"class_method\")()"
   ]
  },
  {
   "cell_type": "markdown",
   "id": "c10ac353",
   "metadata": {},
   "source": [
    "### Can class method can access instance variable ?\n",
    "\n",
    "No, class methods cannot directly access instance variables, because they are not bound to an instance of the class. Class methods are bound to the class itself, and their first argument is usually named cls instead of self to reflect this difference.\n",
    "\n",
    "However, class methods can indirectly access instance variables by taking a class instance or object as an argument and then accessing its instance variables. For example, consider the following class:"
   ]
  },
  {
   "cell_type": "code",
   "execution_count": 3,
   "id": "2abee77d",
   "metadata": {},
   "outputs": [
    {
     "ename": "AttributeError",
     "evalue": "type object 'MyClass' has no attribute 'value'",
     "output_type": "error",
     "traceback": [
      "\u001b[1;31m---------------------------------------------------------------------------\u001b[0m",
      "\u001b[1;31mAttributeError\u001b[0m                            Traceback (most recent call last)",
      "\u001b[1;32mC:\\Users\\SAURAB~1\\AppData\\Local\\Temp/ipykernel_16948/1723349618.py\u001b[0m in \u001b[0;36m<module>\u001b[1;34m\u001b[0m\n\u001b[0;32m     10\u001b[0m \u001b[1;33m\u001b[0m\u001b[0m\n\u001b[0;32m     11\u001b[0m \u001b[0mmy_obj\u001b[0m \u001b[1;33m=\u001b[0m \u001b[0mMyClass\u001b[0m\u001b[1;33m(\u001b[0m\u001b[1;36m42\u001b[0m\u001b[1;33m)\u001b[0m\u001b[1;33m\u001b[0m\u001b[1;33m\u001b[0m\u001b[0m\n\u001b[1;32m---> 12\u001b[1;33m \u001b[0mMyClass\u001b[0m\u001b[1;33m.\u001b[0m\u001b[0mprint_value\u001b[0m\u001b[1;33m(\u001b[0m\u001b[1;33m)\u001b[0m\u001b[1;33m\u001b[0m\u001b[1;33m\u001b[0m\u001b[0m\n\u001b[0m",
      "\u001b[1;32mC:\\Users\\SAURAB~1\\AppData\\Local\\Temp/ipykernel_16948/1723349618.py\u001b[0m in \u001b[0;36mprint_value\u001b[1;34m(cls)\u001b[0m\n\u001b[0;32m      7\u001b[0m     \u001b[1;33m@\u001b[0m\u001b[0mclassmethod\u001b[0m\u001b[1;33m\u001b[0m\u001b[1;33m\u001b[0m\u001b[0m\n\u001b[0;32m      8\u001b[0m     \u001b[1;32mdef\u001b[0m \u001b[0mprint_value\u001b[0m\u001b[1;33m(\u001b[0m\u001b[0mcls\u001b[0m\u001b[1;33m)\u001b[0m\u001b[1;33m:\u001b[0m\u001b[1;33m\u001b[0m\u001b[1;33m\u001b[0m\u001b[0m\n\u001b[1;32m----> 9\u001b[1;33m         \u001b[0mprint\u001b[0m\u001b[1;33m(\u001b[0m\u001b[0mcls\u001b[0m\u001b[1;33m.\u001b[0m\u001b[0mvalue\u001b[0m\u001b[1;33m)\u001b[0m \u001b[1;31m# Error\u001b[0m\u001b[1;33m\u001b[0m\u001b[1;33m\u001b[0m\u001b[0m\n\u001b[0m\u001b[0;32m     10\u001b[0m \u001b[1;33m\u001b[0m\u001b[0m\n\u001b[0;32m     11\u001b[0m \u001b[0mmy_obj\u001b[0m \u001b[1;33m=\u001b[0m \u001b[0mMyClass\u001b[0m\u001b[1;33m(\u001b[0m\u001b[1;36m42\u001b[0m\u001b[1;33m)\u001b[0m\u001b[1;33m\u001b[0m\u001b[1;33m\u001b[0m\u001b[0m\n",
      "\u001b[1;31mAttributeError\u001b[0m: type object 'MyClass' has no attribute 'value'"
     ]
    }
   ],
   "source": [
    "# let's try to access instance variable from class method\n",
    "\n",
    "class MyClass:\n",
    "    def __init__(self, value):\n",
    "        self.value = value\n",
    "        \n",
    "    @classmethod\n",
    "    def print_value(cls):\n",
    "        print(cls.value) # Error\n",
    "\n",
    "my_obj = MyClass(42)\n",
    "MyClass.print_value() "
   ]
  },
  {
   "cell_type": "code",
   "execution_count": 5,
   "id": "3fed94d8",
   "metadata": {},
   "outputs": [
    {
     "name": "stdout",
     "output_type": "stream",
     "text": [
      "42\n"
     ]
    }
   ],
   "source": [
    "# indirectly accessing instance variable from class method\n",
    "\n",
    "class MyClass:\n",
    "    def __init__(self, value):\n",
    "        self.value = value\n",
    "        \n",
    "    @classmethod\n",
    "    def print_value(cls, obj):\n",
    "        print(obj.value)\n",
    "\n",
    "my_obj = MyClass(42)\n",
    "MyClass.print_value(my_obj) # Output: 42"
   ]
  },
  {
   "cell_type": "markdown",
   "id": "fd34ff6e",
   "metadata": {},
   "source": [
    "#### Explanation:\n",
    "\n",
    "In this example, the `print_value()` method is a class method that takes a class instance `obj` as an argument. It then accesses the value attribute of the instance to print it out. \n",
    "\n",
    "Note that `print_value()` cannot access value directly since it is not bound to any particular instance, but it can access it through an instance passed as an argument.\n",
    "\n",
    "To use this method, you would create an instance of `MyClass` and call the `print_value()` method on the class, passing the instance as an argument."
   ]
  },
  {
   "cell_type": "markdown",
   "id": "6eb8015d",
   "metadata": {},
   "source": [
    "### Can instance method can access class variable ?\n",
    "\n",
    "Yes, instance methods can access class variables, because they are bound to an instance of the class which has access to the class variables.\n",
    "\n",
    "Instance methods can access class variables using the class name followed by the variable name, or by using the cls argument which refers to the class itself. Here's an example:"
   ]
  },
  {
   "cell_type": "code",
   "execution_count": 4,
   "id": "b0d9da3c",
   "metadata": {},
   "outputs": [
    {
     "name": "stdout",
     "output_type": "stream",
     "text": [
      "Instance variable: Hi there\n",
      "Class variable: Hello, World!\n",
      "Class variable using cls: Hello, World!\n"
     ]
    }
   ],
   "source": [
    "# accessing class variable from instance method\n",
    "\n",
    "class MyClass:\n",
    "    class_var = \"Hello, World!\"\n",
    "\n",
    "    def __init__(self, instance_var):\n",
    "        self.instance_var = instance_var\n",
    "\n",
    "    def print_vars(self):\n",
    "        print(\"Instance variable:\", self.instance_var)\n",
    "        print(\"Class variable:\", MyClass.class_var)\n",
    "        print(\"Class variable using cls:\", self.__class__.class_var)\n",
    "\n",
    "my_obj = MyClass(\"Hi there\")\n",
    "my_obj.print_vars() # Output: Instance variable: Hi there, Class variable: Hello, World!, Class variable using cls: Hello, World!"
   ]
  },
  {
   "cell_type": "markdown",
   "id": "fb233b1a",
   "metadata": {},
   "source": [
    "#### Explanation:\n",
    "\n",
    "In this example, the `print_vars()` instance method accesses both the instance variable `instance_var` and the class variable `class_var`. The class variable is accessed using the class name `MyClass.class_var` or the class argument `self.__class__.class_var`.\n",
    "\n",
    "To use this method, you would create an instance of `MyClass` and call the `print_vars()` method on the instance."
   ]
  },
  {
   "cell_type": "markdown",
   "id": "1448d964",
   "metadata": {},
   "source": [
    "### Note:\n",
    "\n",
    "Note that **if an instance variable has the same name as a class variable, the instance variable will shadow (override) the class variable within the instance method**. In this case, you can still access the class variable using the `cls` argument or the `class name`. This means that any references to that variable within the instance method will refer to the instance variable rather than the class variable. However, **you can still access the class variable using the `cls` argument or the `class name`, by explicitly referencing it as `cls.class_variable` or `ClassName.class_variable`**.\n",
    "\n",
    "**Let's see it with example:**"
   ]
  },
  {
   "cell_type": "code",
   "execution_count": 7,
   "id": "ff8b6537",
   "metadata": {},
   "outputs": [
    {
     "name": "stdout",
     "output_type": "stream",
     "text": [
      "Class variable: 10\n",
      "Instance variable: 100\n",
      "Class variable (after shadowing): 20\n",
      "Class variable (via cls argument): 10\n",
      "Class variable: 10\n",
      "Instance variable: 200\n",
      "Class variable (after shadowing): 20\n",
      "Class variable (via cls argument): 10\n"
     ]
    }
   ],
   "source": [
    "class MyClass:\n",
    "    class_variable = 10  # Class variable\n",
    "\n",
    "    def __init__(self, instance_variable):\n",
    "        self.instance_variable = instance_variable  # Instance variable\n",
    "\n",
    "    def print_variables(self):\n",
    "        print(\"Class variable:\", MyClass.class_variable)\n",
    "        print(\"Instance variable:\", self.instance_variable)\n",
    "\n",
    "        # Shadowing the class variable with an instance variable\n",
    "        self.class_variable = 20\n",
    "\n",
    "        print(\"Class variable (after shadowing):\", self.class_variable)\n",
    "\n",
    "        # Accessing the class variable using the cls argument\n",
    "        print(\"Class variable (via cls argument):\", self.__class__.class_variable)\n",
    "\n",
    "# Creating objects of MyClass\n",
    "obj1 = MyClass(100)\n",
    "obj2 = MyClass(200)\n",
    "\n",
    "# Calling the print_variables() method for obj1 and obj2\n",
    "obj1.print_variables()\n",
    "obj2.print_variables()"
   ]
  },
  {
   "cell_type": "markdown",
   "id": "a71f588e",
   "metadata": {},
   "source": [
    "#### Explanation:\n",
    "\n",
    "In this example, we define a `MyClass` with a class variable `class_variable` and an instance variable `instance_variable`. Inside the `print_variables()` method, we first print the values of both the class and instance variables. Then, we shadow the class variable by creating an instance variable with the same name inside the method.\n",
    "\n",
    "When we call the `print_variables()` method for `obj1` and `obj2`, we can see that the class variable and the instance variable are printed correctly. However, when we print the class variable after shadowing it with the instance variable, we get the value of the instance variable (which is 20), rather than the original value of the class variable (which is 10). To access the original class variable, we use the `cls` argument or the `class name`, as demonstrated in the last `print()` statement inside the `print_variables()` method."
   ]
  },
  {
   "cell_type": "markdown",
   "id": "e20dd4aa",
   "metadata": {},
   "source": [
    "## Static method\n",
    "\n",
    "Static methods are defined using the `@staticmethod` decorator and do not operate on the instance or the class. \n",
    "\n",
    "They are often used as utility functions that are related to the class but do not need to access any instance or class state. \n",
    "\n",
    "Static methods can neither modify instance state nor class state.\n",
    "\n",
    "when we have nothing to do with instance and class variable. we want to do something extra something different which is not concerned with varaibles at that time we will be using static method"
   ]
  },
  {
   "cell_type": "code",
   "execution_count": 9,
   "id": "7de57ceb",
   "metadata": {},
   "outputs": [
    {
     "name": "stdout",
     "output_type": "stream",
     "text": [
      "2.0\n",
      "Youtube\n",
      "this is student class\n"
     ]
    }
   ],
   "source": [
    "# static method\n",
    "\n",
    "# example we want to print info about class not about student\n",
    "\n",
    "class Student:\n",
    "    \n",
    "    school=\"Youtube\" # class varaible\n",
    "    \n",
    "    def __init__(self,m1,m2,m3):\n",
    "        self.m1=m1\n",
    "        self.m2=m2\n",
    "        self.m3=m3\n",
    "    \n",
    "    def avg(self): # instance method because we are passing self \n",
    "        return (self.m1+self.m2+self.m3)/3\n",
    "    \n",
    "    @classmethod\n",
    "    def getSchool(cls): # class mehtod & it should be strictly cls nothing else\n",
    "        return cls.school\n",
    "    \n",
    "    @staticmethod # special decorator: @staticmethod\n",
    "    def info(): # static method\n",
    "        print(\"this is student class\")\n",
    "        # since we are using static method then we need to special decorator: @staticmethod\n",
    "    \n",
    "        \n",
    "s1=Student(1,2,3)\n",
    "s2=Student(4,5,6)\n",
    "\n",
    "print(s1.avg())\n",
    "print(Student.getSchool())\n",
    "\n",
    "Student.info() # we dont have to pass anything not even class not even object "
   ]
  },
  {
   "cell_type": "code",
   "execution_count": 34,
   "id": "5e8e50ed",
   "metadata": {},
   "outputs": [
    {
     "name": "stdout",
     "output_type": "stream",
     "text": [
      "5\n",
      "6\n"
     ]
    }
   ],
   "source": [
    "# another example of static method\n",
    "\n",
    "class Math:\n",
    "    @staticmethod\n",
    "    def add(x, y):\n",
    "        return x + y\n",
    "\n",
    "    @staticmethod\n",
    "    def multiply(x, y):\n",
    "        return x * y\n",
    "\n",
    "print(Math.add(2, 3)) # Output: 5\n",
    "print(Math.multiply(2, 3)) # Output: 6"
   ]
  },
  {
   "cell_type": "markdown",
   "id": "bac32528",
   "metadata": {},
   "source": [
    "### different ways to access static method :"
   ]
  },
  {
   "cell_type": "code",
   "execution_count": 18,
   "id": "4cdc94e3",
   "metadata": {},
   "outputs": [
    {
     "name": "stdout",
     "output_type": "stream",
     "text": [
      "This is a static method\n",
      "This is a static method\n",
      "This is a static method\n"
     ]
    }
   ],
   "source": [
    "# three different ways\n",
    "\n",
    "class MyClass:\n",
    "    \n",
    "    @staticmethod\n",
    "    def my_static_method():\n",
    "        print(\"This is a static method\")\n",
    "        \n",
    "    @classmethod\n",
    "    def my_class_method(cls):\n",
    "        cls.my_static_method()\n",
    "\n",
    "# Accessing the static method using the class name\n",
    "MyClass.my_static_method()\n",
    "\n",
    "# Accessing the static method using the instance of the class\n",
    "my_obj = MyClass()\n",
    "my_obj.my_static_method()\n",
    "\n",
    "# Accessing the static method using the class method\n",
    "MyClass.my_class_method()"
   ]
  },
  {
   "cell_type": "markdown",
   "id": "435d19f5",
   "metadata": {},
   "source": [
    "### Can static method can access class variable and instance variable ?\n",
    "\n",
    "No, static methods cannot access instance variables or class variables directly., because they are bound to the class and do not have access to the instance or class itself.\n",
    "\n",
    "However, static methods can be passed instance or class variables as arguments, and can operate on them as normal function parameters. This can be useful in situations where you want to perform some operation that doesn't depend on the state of the instance or class.\n",
    "\n",
    "Here's an example of a static method that takes instance and class variables as arguments:"
   ]
  },
  {
   "cell_type": "code",
   "execution_count": 19,
   "id": "0f018c59",
   "metadata": {},
   "outputs": [
    {
     "name": "stdout",
     "output_type": "stream",
     "text": [
      "Instance variable: foo\n",
      "Class variable: Hello, World!\n"
     ]
    }
   ],
   "source": [
    "class MyClass:\n",
    "    class_var = \"Hello, World!\"\n",
    "\n",
    "    def __init__(self, instance_var):\n",
    "        self.instance_var = instance_var\n",
    "\n",
    "    @staticmethod\n",
    "    def my_static_method(instance_var, class_var):\n",
    "        print(\"Instance variable:\", instance_var)\n",
    "        print(\"Class variable:\", class_var)\n",
    "\n",
    "obj = MyClass(\"foo\")\n",
    "MyClass.my_static_method(obj.instance_var, MyClass.class_var)"
   ]
  },
  {
   "cell_type": "markdown",
   "id": "8ffbb41b",
   "metadata": {},
   "source": [
    "### Note:\n",
    "\n",
    "The static method does not have access to `self` or `cls`, so it cannot access instance variables or class variables directly. Instead, it takes them as arguments and operates on them like any other function parameters."
   ]
  },
  {
   "cell_type": "markdown",
   "id": "7f6864ea",
   "metadata": {},
   "source": [
    "##### When to use static method:\n",
    "\n",
    "When we want to perform any operation which has something to do with other class object then we can use static method.\n",
    "\n",
    "A static method is used when you want to define a method inside a class but you do not need access to the instance or class itself. This method can be called on the class itself, without the need to create an instance of the class.\n",
    "\n",
    "Here are some common use cases for static methods:\n",
    "\n",
    "1. Utility functions that do not depend on the state of the object or class, for example, a function that performs a calculation or conversion.\n",
    "\n",
    "2. Helper functions that operate on the input parameters but do not modify the state of the object or class, for example, a function that validates the input data.\n",
    "\n",
    "3. Factory functions that create instances of the class based on some input parameters, but do not depend on the state of the class, for example, a function that creates an instance of a date object from a string.\n",
    "\n",
    "Overall, static methods are useful when you need to perform some functionality that does not require access to the state of the class or instance, and you want to keep the method inside the class for better organization and encapsulation."
   ]
  },
  {
   "cell_type": "markdown",
   "id": "9e3ab7c4",
   "metadata": {},
   "source": [
    "### different scenarios for calling all three methods from each other"
   ]
  },
  {
   "cell_type": "code",
   "execution_count": 8,
   "id": "12012096",
   "metadata": {},
   "outputs": [
    {
     "name": "stdout",
     "output_type": "stream",
     "text": [
      "Instance method called\n",
      "Class method called\n",
      "Class method called\n",
      "Static method called\n",
      "Static method called\n",
      "Another instance method called\n"
     ]
    }
   ],
   "source": [
    "# calling class method, static method and other instance method from instance method\n",
    "\n",
    "class MyClass:\n",
    "    class_var = \"Hello, World!\"\n",
    "\n",
    "    @classmethod\n",
    "    def my_class_method(cls):\n",
    "        print(\"Class method called\")\n",
    "\n",
    "    @staticmethod\n",
    "    def my_static_method():\n",
    "        print(\"Static method called\")\n",
    "\n",
    "    def my_instance_method(self):\n",
    "        print(\"Instance method called\")\n",
    "        self.my_class_method()   # calling class method\n",
    "        MyClass.my_class_method()   # calling class method (recommended)\n",
    "        self.my_static_method()    # calling static method\n",
    "        MyClass.my_static_method()    # calling static method\n",
    "        self.another_instance_method()  # calling another instance method\n",
    "\n",
    "    def another_instance_method(self):\n",
    "        print(\"Another instance method called\")\n",
    "\n",
    "my_object = MyClass()\n",
    "my_object.my_instance_method()"
   ]
  },
  {
   "cell_type": "markdown",
   "id": "7a799582",
   "metadata": {},
   "source": [
    "### Note: \n",
    "\n",
    "Note that **when you call class and static methods from an instance method, you don't need to pass any arguments since they don't depend on the state of the object**. However, if you need to access instance variables or instance methods from the class or static method, you may need to pass the instance as an argument."
   ]
  },
  {
   "cell_type": "markdown",
   "id": "0834e6ea",
   "metadata": {},
   "source": [
    "### Remark:\n",
    "1.  it's important to note that accessing a static method from an instance method is generally considered bad practice, as it can be confusing to other developers who read the code. Static methods should be accessed directly from the class, not from an instance of the class.\n",
    "\n",
    "2. it's important to note that accessing a class method from an instance method is generally considered bad practice, as it can be confusing to other developers who read the code. Class methods should be accessed directly from the class, not from an instance of the class."
   ]
  },
  {
   "cell_type": "code",
   "execution_count": 9,
   "id": "599b66ab",
   "metadata": {},
   "outputs": [
    {
     "name": "stdout",
     "output_type": "stream",
     "text": [
      "Class method called\n",
      "Instance method called\n",
      "Another class method called\n",
      "Static method called\n",
      "Instance method called\n"
     ]
    }
   ],
   "source": [
    "# calling instance method, static method and other class method from class method\n",
    "\n",
    "class MyClass:\n",
    "    class_var = \"Hello, World!\"\n",
    "\n",
    "    @classmethod\n",
    "    def my_class_method(cls):\n",
    "        print(\"Class method called\")\n",
    "        obj = MyClass() # creating object\n",
    "        \n",
    "        obj.my_instance_method() # calling instance method\n",
    "        cls.another_class_method() # calling another class method\n",
    "        MyClass.my_static_method() # calling static method\n",
    "        \n",
    "        obj2 = cls() # creating object\n",
    "        obj2.my_instance_method() # calling instance method\n",
    "\n",
    "    @classmethod\n",
    "    def another_class_method(cls):\n",
    "        print(\"Another class method called\")\n",
    "\n",
    "    @staticmethod\n",
    "    def my_static_method():\n",
    "        print(\"Static method called\")\n",
    "\n",
    "    def my_instance_method(self):\n",
    "        print(\"Instance method called\")\n",
    "\n",
    "my_object = MyClass()\n",
    "MyClass.my_class_method()"
   ]
  },
  {
   "cell_type": "markdown",
   "id": "4c7405c4",
   "metadata": {},
   "source": [
    "### Note:\n",
    "\n",
    "Note that **when you call instance methods from a class method, you need to create an instance of the class first**. When you call static methods or other class methods from a class method, you can use the class name or the cls variable to call the method, just like you would in any other method."
   ]
  },
  {
   "cell_type": "markdown",
   "id": "24a77840",
   "metadata": {},
   "source": [
    "### Remark:\n",
    "\n",
    "1. it's important to note that accessing an instance method from a class method is generally considered bad practice, as it can be confusing to other developers who read the code. Instance methods should be accessed directly from an instance of the class, not from the class itself.\n",
    "\n",
    "2.  it's important to note that accessing a static method from a class method is usually unnecessary, since static methods are designed to be called directly from the class or from an instance of the class. In general, you should use a class method to access class-level functionality, and a static method to implement functionality that doesn't depend on the class or instance state."
   ]
  },
  {
   "cell_type": "code",
   "execution_count": 23,
   "id": "22c85845",
   "metadata": {},
   "outputs": [
    {
     "name": "stdout",
     "output_type": "stream",
     "text": [
      "Static method called\n",
      "Instance method called\n",
      "Class method called\n",
      "Other static method called\n"
     ]
    }
   ],
   "source": [
    "# calling instance method, class method and other static method from static method\n",
    "\n",
    "class MyClass:\n",
    "    class_var = \"Hello, World!\"\n",
    "    \n",
    "    @classmethod\n",
    "    def my_class_method(cls):\n",
    "        print(\"Class method called\")\n",
    "\n",
    "    @staticmethod\n",
    "    def my_static_method():\n",
    "        print(\"Static method called\")\n",
    "        obj=MyClass()\n",
    "        obj.my_instance_method() # calling instance method\n",
    "        MyClass.my_class_method() # calling class method\n",
    "        MyClass.my_other_static_method() # calling other static method\n",
    "        \n",
    "\n",
    "    @staticmethod\n",
    "    def my_other_static_method():\n",
    "        print(\"Other static method called\")\n",
    "\n",
    "    def my_instance_method(self):\n",
    "        print(\"Instance method called\")\n",
    "\n",
    "my_object = MyClass()\n",
    "MyClass.my_static_method()"
   ]
  },
  {
   "cell_type": "markdown",
   "id": "69c944d7",
   "metadata": {},
   "source": [
    "### Note:\n",
    "\n",
    "Note that to call the instance method from the static method, we create an instance of the MyClass class using the class name and then call the instance method on that instance."
   ]
  },
  {
   "cell_type": "markdown",
   "id": "9a5215fa",
   "metadata": {},
   "source": [
    "### Remark:\n",
    "\n",
    "1.  it's important to note that accessing an instance method from a static method is generally considered bad practice, as it can be confusing to other developers who read the code. Instance methods should be accessed directly from an instance of the class, not from a static method. Static methods should be used for functions that don't require access to instance-specific information.\n",
    "\n",
    "2. it's important to note that accessing a class method from a static method is generally considered bad practice, as it can be confusing to other developers who read the code. Class methods should be used for functions that require access to class-level information. Static methods should be used for functions that don't require access to instance-specific or class-specific information."
   ]
  },
  {
   "cell_type": "markdown",
   "id": "bd81372b",
   "metadata": {},
   "source": [
    "**It is possible to call instance methods, class methods, and static methods from any class in Python, as long as you have a valid reference to the method.**\n",
    "\n",
    "Here's an example that demonstrates how to call each type of method from another class:"
   ]
  },
  {
   "cell_type": "code",
   "execution_count": 24,
   "id": "eb85f184",
   "metadata": {},
   "outputs": [
    {
     "name": "stdout",
     "output_type": "stream",
     "text": [
      "Instance method called\n",
      "Class method called\n",
      "Class method called\n",
      "Static method called\n",
      "Static method called\n"
     ]
    }
   ],
   "source": [
    "class MyClass:\n",
    "    class_var = \"Hello, World!\"\n",
    "\n",
    "    def my_instance_method(self):\n",
    "        print(\"Instance method called\")\n",
    "\n",
    "    @classmethod\n",
    "    def my_class_method(cls):\n",
    "        print(\"Class method called\")\n",
    "\n",
    "    @staticmethod\n",
    "    def my_static_method():\n",
    "        print(\"Static method called\")\n",
    "\n",
    "class OtherClass:\n",
    "    def __init__(self, obj):\n",
    "        obj.my_instance_method()\n",
    "        obj.my_class_method()\n",
    "        MyClass.my_class_method()\n",
    "        obj.my_static_method()\n",
    "        MyClass.my_static_method()\n",
    "\n",
    "obj = MyClass()\n",
    "other_obj = OtherClass(obj)"
   ]
  },
  {
   "cell_type": "markdown",
   "id": "9f3b096a",
   "metadata": {},
   "source": [
    "### Summary of instance, class & static variables and methods\n",
    "\n",
    "1. instance variable\n",
    "        \n",
    "        obj.var_name #recommended\n",
    "        self.var_name\n",
    "        vars(obj)\n",
    "\n",
    "2. class variable\n",
    "\n",
    "        obj.var_name\n",
    "        class.var_name #recommended\n",
    "        obj.__class__.var_name\n",
    "        \n",
    "3. instance method (can access class variable)\n",
    "\n",
    "        obj.method() #recommended\n",
    "        class.method(obj)\n",
    "        getattr(obj,\"method\")()\n",
    "        self.method() (from another method)\n",
    "        \n",
    "4. class method (can't access instance variable directly)\n",
    "\n",
    "        class.method() #recommended\n",
    "        obj.method()\n",
    "        getattr(class,\"method\")()\n",
    "        cls.method() (from another class method)\n",
    "        \n",
    "5. static method (can't access instance & class varaible directly)\n",
    "\n",
    "        class.method() #recommended\n",
    "        obj.method()\n",
    "        cls.method() (from class method calling static method)\n",
    "        obj.method() (from instance method calling static method)\n",
    "        "
   ]
  },
  {
   "cell_type": "markdown",
   "id": "b0bc980d",
   "metadata": {},
   "source": [
    "## `@property` decorator\n",
    "\n",
    "The `@property` decorator is a built-in decorator in Python for the `property()` function. Use `@property` decorator on any method in the class to use the method as a property.\n",
    "\n",
    "OR\n",
    "\n",
    "In Python, `@property` is a decorator that is used to define a method as a \"getter\" for a class attribute. A getter method is a method that is used to retrieve the value of a class attribute, and it is typically used to provide controlled access to the attribute."
   ]
  },
  {
   "cell_type": "markdown",
   "id": "d2057ac8",
   "metadata": {},
   "source": [
    "**Declare a Property**\n",
    "\n",
    "The following declares the method as a property. This method must return the value of the property."
   ]
  },
  {
   "cell_type": "code",
   "execution_count": 6,
   "id": "ad2749d9",
   "metadata": {},
   "outputs": [],
   "source": [
    "class Student:\n",
    "\n",
    "    def __init__(self, name):\n",
    "        self.__name = name\n",
    "\n",
    "    @property\n",
    "    def name(self):\n",
    "        return self.__name"
   ]
  },
  {
   "cell_type": "markdown",
   "id": "d59801fe",
   "metadata": {},
   "source": [
    "Above, `@property` decorator applied to the `name()` method. The `name()` method returns the private instance attribute value `__name`. So, we can now use the `name()` method as a property to get the value of the `__name` attribute, as shown below:"
   ]
  },
  {
   "cell_type": "code",
   "execution_count": 10,
   "id": "c5664ea9",
   "metadata": {},
   "outputs": [
    {
     "data": {
      "text/plain": [
       "'Steve'"
      ]
     },
     "execution_count": 10,
     "metadata": {},
     "output_type": "execute_result"
    }
   ],
   "source": [
    "s = Student('Steve')\n",
    "s.name"
   ]
  },
  {
   "cell_type": "markdown",
   "id": "4d0712b2",
   "metadata": {},
   "source": [
    "**Property Setter**\n",
    "\n",
    "Above, we defined the `name()` method as a property. We can only access the value of the name property but cannot modify it. To modify the property value, we must define the **setter method** for the `name` property using `@property-name.setter` decorator, as shown below:"
   ]
  },
  {
   "cell_type": "code",
   "execution_count": 8,
   "id": "525dd985",
   "metadata": {},
   "outputs": [],
   "source": [
    "class Student:\n",
    "\n",
    "    def __init__(self, name):\n",
    "        self.__name=name\n",
    "\n",
    "    @property\n",
    "    def name(self):\n",
    "        return self.__name\n",
    "\n",
    "    @name.setter   #property-name.setter decorator\n",
    "    def name(self, value):\n",
    "        self.__name = value"
   ]
  },
  {
   "cell_type": "markdown",
   "id": "43451ba3",
   "metadata": {},
   "source": [
    "Above, we have two overloads of the `name()` method. One is for the **getter** and another is the **setter** method. The **setter** method must have the value argument that can be used to assign to the underlying `private` attribute. Now, we can retrieve and modify the property value, as shown below:"
   ]
  },
  {
   "cell_type": "code",
   "execution_count": 4,
   "id": "6468c622",
   "metadata": {},
   "outputs": [
    {
     "data": {
      "text/plain": [
       "'Steve'"
      ]
     },
     "execution_count": 4,
     "metadata": {},
     "output_type": "execute_result"
    }
   ],
   "source": [
    "s = Student('Steve')\n",
    "s.name "
   ]
  },
  {
   "cell_type": "code",
   "execution_count": 5,
   "id": "a5d47aaf",
   "metadata": {},
   "outputs": [
    {
     "data": {
      "text/plain": [
       "'raman'"
      ]
     },
     "execution_count": 5,
     "metadata": {},
     "output_type": "execute_result"
    }
   ],
   "source": [
    "s.name=\"raman\"\n",
    "s.name"
   ]
  },
  {
   "cell_type": "markdown",
   "id": "9722b007",
   "metadata": {},
   "source": [
    "**Property Deleter**\n",
    "\n",
    "Use the `@property-name.deleter` decorator to define the method that deletes a property, as shown below:"
   ]
  },
  {
   "cell_type": "code",
   "execution_count": 4,
   "id": "9b5aef2a",
   "metadata": {},
   "outputs": [],
   "source": [
    "class Student:\n",
    "    def __init__(self, name):\n",
    "        self.__name = name\n",
    "\n",
    "    @property\n",
    "    def name(self):\n",
    "        return self.__name\n",
    "    \n",
    "    @name.setter\n",
    "    def name(self, value):\n",
    "        self.__name=value\n",
    "    \n",
    "    @name.deleter   #property-name.deleter decorator\n",
    "    def name(self):\n",
    "        print('Deleting..')\n",
    "        del self.__name"
   ]
  },
  {
   "cell_type": "markdown",
   "id": "d56a46ac",
   "metadata": {},
   "source": [
    "The `deleter` would be invoked when you delete the property using keyword `del`, as shown below. Once you delete a property, you cannot access it again using the same instance."
   ]
  },
  {
   "cell_type": "code",
   "execution_count": 5,
   "id": "a480a108",
   "metadata": {},
   "outputs": [
    {
     "name": "stdout",
     "output_type": "stream",
     "text": [
      "Deleting..\n"
     ]
    }
   ],
   "source": [
    "s = Student('Steve')\n",
    "del s.name "
   ]
  },
  {
   "cell_type": "code",
   "execution_count": 6,
   "id": "74b90de2",
   "metadata": {},
   "outputs": [
    {
     "ename": "AttributeError",
     "evalue": "'Student' object has no attribute '_Student__name'",
     "output_type": "error",
     "traceback": [
      "\u001b[1;31m---------------------------------------------------------------------------\u001b[0m",
      "\u001b[1;31mAttributeError\u001b[0m                            Traceback (most recent call last)",
      "\u001b[1;32mC:\\Users\\SAURAB~1\\AppData\\Local\\Temp/ipykernel_14576/2200917646.py\u001b[0m in \u001b[0;36m<module>\u001b[1;34m\u001b[0m\n\u001b[1;32m----> 1\u001b[1;33m \u001b[0ms\u001b[0m\u001b[1;33m.\u001b[0m\u001b[0mname\u001b[0m \u001b[1;31m# Error\u001b[0m\u001b[1;33m\u001b[0m\u001b[1;33m\u001b[0m\u001b[0m\n\u001b[0m",
      "\u001b[1;32mC:\\Users\\SAURAB~1\\AppData\\Local\\Temp/ipykernel_14576/1010179468.py\u001b[0m in \u001b[0;36mname\u001b[1;34m(self)\u001b[0m\n\u001b[0;32m      5\u001b[0m     \u001b[1;33m@\u001b[0m\u001b[0mproperty\u001b[0m\u001b[1;33m\u001b[0m\u001b[1;33m\u001b[0m\u001b[0m\n\u001b[0;32m      6\u001b[0m     \u001b[1;32mdef\u001b[0m \u001b[0mname\u001b[0m\u001b[1;33m(\u001b[0m\u001b[0mself\u001b[0m\u001b[1;33m)\u001b[0m\u001b[1;33m:\u001b[0m\u001b[1;33m\u001b[0m\u001b[1;33m\u001b[0m\u001b[0m\n\u001b[1;32m----> 7\u001b[1;33m         \u001b[1;32mreturn\u001b[0m \u001b[0mself\u001b[0m\u001b[1;33m.\u001b[0m\u001b[0m__name\u001b[0m\u001b[1;33m\u001b[0m\u001b[1;33m\u001b[0m\u001b[0m\n\u001b[0m\u001b[0;32m      8\u001b[0m \u001b[1;33m\u001b[0m\u001b[0m\n\u001b[0;32m      9\u001b[0m     \u001b[1;33m@\u001b[0m\u001b[0mname\u001b[0m\u001b[1;33m.\u001b[0m\u001b[0msetter\u001b[0m\u001b[1;33m\u001b[0m\u001b[1;33m\u001b[0m\u001b[0m\n",
      "\u001b[1;31mAttributeError\u001b[0m: 'Student' object has no attribute '_Student__name'"
     ]
    }
   ],
   "source": [
    "s.name # Error"
   ]
  },
  {
   "cell_type": "markdown",
   "id": "99efa080",
   "metadata": {},
   "source": [
    "**Here is an example that demonstrates the use of @property in Python:**"
   ]
  },
  {
   "cell_type": "code",
   "execution_count": 7,
   "id": "857fe80b",
   "metadata": {},
   "outputs": [
    {
     "name": "stdout",
     "output_type": "stream",
     "text": [
      "John\n",
      "Mike\n",
      "30\n",
      "35\n"
     ]
    },
    {
     "ename": "ValueError",
     "evalue": "Age cannot be negative",
     "output_type": "error",
     "traceback": [
      "\u001b[1;31m---------------------------------------------------------------------------\u001b[0m",
      "\u001b[1;31mValueError\u001b[0m                                Traceback (most recent call last)",
      "\u001b[1;32mC:\\Users\\SAURAB~1\\AppData\\Local\\Temp/ipykernel_14576/3069167882.py\u001b[0m in \u001b[0;36m<module>\u001b[1;34m\u001b[0m\n\u001b[0;32m     30\u001b[0m \u001b[0mperson\u001b[0m\u001b[1;33m.\u001b[0m\u001b[0mage\u001b[0m \u001b[1;33m=\u001b[0m \u001b[1;36m35\u001b[0m\u001b[1;33m\u001b[0m\u001b[1;33m\u001b[0m\u001b[0m\n\u001b[0;32m     31\u001b[0m \u001b[0mprint\u001b[0m\u001b[1;33m(\u001b[0m\u001b[0mperson\u001b[0m\u001b[1;33m.\u001b[0m\u001b[0mage\u001b[0m\u001b[1;33m)\u001b[0m    \u001b[1;31m# Output: 35\u001b[0m\u001b[1;33m\u001b[0m\u001b[1;33m\u001b[0m\u001b[0m\n\u001b[1;32m---> 32\u001b[1;33m \u001b[0mperson\u001b[0m\u001b[1;33m.\u001b[0m\u001b[0mage\u001b[0m \u001b[1;33m=\u001b[0m \u001b[1;33m-\u001b[0m\u001b[1;36m5\u001b[0m      \u001b[1;31m# Raises ValueError\u001b[0m\u001b[1;33m\u001b[0m\u001b[1;33m\u001b[0m\u001b[0m\n\u001b[0m",
      "\u001b[1;32mC:\\Users\\SAURAB~1\\AppData\\Local\\Temp/ipykernel_14576/3069167882.py\u001b[0m in \u001b[0;36mage\u001b[1;34m(self, value)\u001b[0m\n\u001b[0;32m     19\u001b[0m     \u001b[1;32mdef\u001b[0m \u001b[0mage\u001b[0m\u001b[1;33m(\u001b[0m\u001b[0mself\u001b[0m\u001b[1;33m,\u001b[0m \u001b[0mvalue\u001b[0m\u001b[1;33m)\u001b[0m\u001b[1;33m:\u001b[0m\u001b[1;33m\u001b[0m\u001b[1;33m\u001b[0m\u001b[0m\n\u001b[0;32m     20\u001b[0m         \u001b[1;32mif\u001b[0m \u001b[0mvalue\u001b[0m \u001b[1;33m<\u001b[0m \u001b[1;36m0\u001b[0m\u001b[1;33m:\u001b[0m\u001b[1;33m\u001b[0m\u001b[1;33m\u001b[0m\u001b[0m\n\u001b[1;32m---> 21\u001b[1;33m             \u001b[1;32mraise\u001b[0m \u001b[0mValueError\u001b[0m\u001b[1;33m(\u001b[0m\u001b[1;34m\"Age cannot be negative\"\u001b[0m\u001b[1;33m)\u001b[0m\u001b[1;33m\u001b[0m\u001b[1;33m\u001b[0m\u001b[0m\n\u001b[0m\u001b[0;32m     22\u001b[0m         \u001b[0mself\u001b[0m\u001b[1;33m.\u001b[0m\u001b[0m_age\u001b[0m \u001b[1;33m=\u001b[0m \u001b[0mvalue\u001b[0m\u001b[1;33m\u001b[0m\u001b[1;33m\u001b[0m\u001b[0m\n\u001b[0;32m     23\u001b[0m \u001b[1;33m\u001b[0m\u001b[0m\n",
      "\u001b[1;31mValueError\u001b[0m: Age cannot be negative"
     ]
    }
   ],
   "source": [
    "class Person:\n",
    "    def __init__(self, name, age):\n",
    "        self._name = name\n",
    "        self._age = age\n",
    "\n",
    "    @property\n",
    "    def name(self):\n",
    "        return self._name\n",
    "\n",
    "    @name.setter\n",
    "    def name(self, value):\n",
    "        self._name = value\n",
    "\n",
    "    @property\n",
    "    def age(self):\n",
    "        return self._age\n",
    "\n",
    "    @age.setter\n",
    "    def age(self, value):\n",
    "        if value < 0:\n",
    "            raise ValueError(\"Age cannot be negative\")\n",
    "        self._age = value\n",
    "\n",
    "person = Person(\"John\", 30)\n",
    "print(person.name)   # Output: John\n",
    "person.name = \"Mike\"\n",
    "print(person.name)   # Output: Mike\n",
    "\n",
    "print(person.age)    # Output: 30\n",
    "person.age = 35\n",
    "print(person.age)    # Output: 35\n",
    "person.age = -5      # Raises ValueError"
   ]
  },
  {
   "cell_type": "markdown",
   "id": "5007625b",
   "metadata": {},
   "source": [
    "#### Explanation:\n",
    "\n",
    "In this example, we have defined a class called Person with two attributes: _name and _age. We have used @property to define getter methods for both attributes, and @name.setter and @age.setter to define setter methods for both attributes.\n",
    "\n",
    "The @property decorator is used to define getter methods for name and age. When we call the name or age method on a Person object, the getter method is automatically called to retrieve the value of the corresponding attribute.\n",
    "\n",
    "The @name.setter and @age.setter decorators are used to define setter methods for name and age. When we assign a value to the name or age attribute of a Person object, the corresponding setter method is automatically called to set the value of the attribute. In this example, we have added some additional validation to the age setter method to ensure that the age is not negative.\n",
    "\n",
    "Using @property allows us to define controlled access to class attributes in a Pythonic way. By defining getter and setter methods for attributes, we can provide controlled access to the attributes and perform validation or additional processing on the values before they are stored."
   ]
  },
  {
   "cell_type": "markdown",
   "id": "b8c9de75",
   "metadata": {},
   "source": [
    "# INNER CLASS\n",
    "\n",
    "Class inside a class called as inner class.\n",
    "\n",
    "Inner classes are useful when you want to group related classes together or when you want to create a class that is only used by one other class."
   ]
  },
  {
   "cell_type": "code",
   "execution_count": 71,
   "id": "52da4d79",
   "metadata": {},
   "outputs": [
    {
     "name": "stdout",
     "output_type": "stream",
     "text": [
      "Rita 456\n"
     ]
    }
   ],
   "source": [
    "class Student:\n",
    "    def __init__(self,name,roll):\n",
    "        self.name=name\n",
    "        self.roll=roll\n",
    "        \n",
    "    def show(self):\n",
    "        print(self.name,self.roll)\n",
    "        \n",
    "s1=Student(\"Raj\",123)\n",
    "s2=Student(\"Rita\",456)\n",
    "\n",
    "s2.show()"
   ]
  },
  {
   "cell_type": "markdown",
   "id": "f86c212e",
   "metadata": {},
   "source": [
    "Here we have class student in which their details are present.\n",
    "\n",
    "As student have laptop and we are interested to print laptop details as well along with configuration.\n",
    "\n",
    "As we cannot say we are using abc comapny laptop; we also have to tell that configuration like processor, RAM.\n",
    "\n",
    "We can do that in two ways:-\n",
    "\n",
    "(1) By doing s1=Student(\"Rita\",123,\"HP\",8,\"i5\")\n",
    "\n",
    "(2) By creating a separate class for laptop or instead of creating class outside class Student, we can create class Laptop inside student.\n",
    "\n",
    "So, laptop is only used by student in this case:"
   ]
  },
  {
   "cell_type": "code",
   "execution_count": 1,
   "id": "1b91b7d8",
   "metadata": {},
   "outputs": [
    {
     "name": "stdout",
     "output_type": "stream",
     "text": [
      "HP\n",
      "HP\n",
      "Rita 456\n",
      "HP\n"
     ]
    }
   ],
   "source": [
    "class Student:\n",
    "    def __init__(self,name,roll):\n",
    "        self.name=name\n",
    "        self.roll=roll\n",
    "        \n",
    "        self.lap=self.Laptop() # creating object of inner class\n",
    "        \n",
    "        print(self.lap.brand)\n",
    "        \n",
    "    def show(self):\n",
    "        print(self.name,self.roll)\n",
    "        \n",
    "    class Laptop:\n",
    "        def __init__(self):\n",
    "            self.brand=\"HP\"\n",
    "            self.cpu=\"i5\"\n",
    "            self.ram=8\n",
    "        \n",
    "s1=Student(\"Raj\",123)\n",
    "s2=Student(\"Rita\",456)\n",
    "\n",
    "s2.show()\n",
    "\n",
    "print(s1.lap.brand) # accessing inner class variable outside"
   ]
  },
  {
   "cell_type": "markdown",
   "id": "da727caf",
   "metadata": {},
   "source": [
    "### Note:\n",
    "\n",
    "We can create object of inner class inside outer class.\n",
    "\n",
    "Or, We can create object of inner class outside outer class provided you use outer class name to call it."
   ]
  },
  {
   "cell_type": "code",
   "execution_count": 41,
   "id": "f719f06e",
   "metadata": {},
   "outputs": [
    {
     "name": "stdout",
     "output_type": "stream",
     "text": [
      "Rita 456\n",
      "<class '__main__.Student.Laptop'>\n",
      "<class '__main__.Student.Laptop'>\n",
      "2606217114144\n",
      "2606217116304\n"
     ]
    }
   ],
   "source": [
    "# inner class object creation inside outer class\n",
    "\n",
    "class Student:\n",
    "    def __init__(self,name,roll):\n",
    "        self.name=name\n",
    "        self.roll=roll\n",
    "        \n",
    "        self.lap=self.Laptop() # creating object of inner class inside outer class method\n",
    "        \n",
    "    def show(self):\n",
    "        print(self.name,self.roll)\n",
    "        \n",
    "    class Laptop:\n",
    "        def __init__(self):\n",
    "            self.brand=\"HP\"\n",
    "            self.cpu=\"i5\"\n",
    "            self.ram=8\n",
    "        \n",
    "s1=Student(\"Raj\",123)\n",
    "s2=Student(\"Rita\",456)\n",
    "\n",
    "s2.show()\n",
    "\n",
    "l1=s1.lap # creating another object\n",
    "l2=s2.lap\n",
    "\n",
    "print(type(l1))\n",
    "print(type(l2))\n",
    "\n",
    "print(id(l1))\n",
    "print(id(l2))"
   ]
  },
  {
   "cell_type": "code",
   "execution_count": 43,
   "id": "aa51cc9c",
   "metadata": {},
   "outputs": [
    {
     "name": "stdout",
     "output_type": "stream",
     "text": [
      "Rita 456\n",
      "<class '__main__.Student.Laptop'>\n"
     ]
    }
   ],
   "source": [
    "# inner class object creation outside outer class using object of outer class\n",
    "\n",
    "class Student:\n",
    "    def __init__(self,name,roll):\n",
    "        self.name=name\n",
    "        self.roll=roll\n",
    "        \n",
    "        self.lap=self.Laptop() # creating object of inner class inside class\n",
    "        \n",
    "    def show(self):\n",
    "        print(self.name,self.roll)\n",
    "        \n",
    "    class Laptop:\n",
    "        def __init__(self):\n",
    "            self.brand=\"HP\"\n",
    "            self.cpu=\"i5\"\n",
    "            self.ram=8\n",
    "        \n",
    "s1=Student(\"Raj\",123)\n",
    "s2=Student(\"Rita\",456)\n",
    "\n",
    "s2.show()\n",
    "\n",
    "lap1=s1.Laptop()  # creating object of inner class outside the class\n",
    "\n",
    "print(type(lap1))"
   ]
  },
  {
   "cell_type": "code",
   "execution_count": 49,
   "id": "3255a77e",
   "metadata": {},
   "outputs": [
    {
     "name": "stdout",
     "output_type": "stream",
     "text": [
      "<class '__main__.Student.Laptop'>\n"
     ]
    }
   ],
   "source": [
    "# inner class object creation outside outer class without creating outer class object\n",
    "\n",
    "class Student:\n",
    "    def __init__(self,name,roll):\n",
    "        self.name=name\n",
    "        self.roll=roll\n",
    "        \n",
    "        self.lap=self.Laptop() # creating object of inner class inside class\n",
    "        \n",
    "    def show(self):\n",
    "        print(self.name,self.roll)\n",
    "        \n",
    "    class Laptop:\n",
    "        def __init__(self):\n",
    "            self.brand=\"HP\"\n",
    "            self.cpu=\"i5\"\n",
    "            self.ram=8\n",
    "\n",
    "# we didn't create the object of outer class\n",
    "\n",
    "# now we will create object of inner class\n",
    "\n",
    "lap1=Student.Laptop()  # creating object of inner class directly(without outer class object) outside the class\n",
    "\n",
    "print(type(lap1))"
   ]
  },
  {
   "cell_type": "code",
   "execution_count": 50,
   "id": "cc6da55e",
   "metadata": {},
   "outputs": [
    {
     "name": "stdout",
     "output_type": "stream",
     "text": [
      "Rita 456\n",
      "HP i5 8\n"
     ]
    }
   ],
   "source": [
    "# inner class object creation inside outer class and calling\n",
    "\n",
    "# calling show() of inner class using object created inside the class\n",
    "class Student:\n",
    "    def __init__(self,name,roll):\n",
    "        self.name=name\n",
    "        self.roll=roll\n",
    "        \n",
    "        self.lap=self.Laptop() # creating object of inner class inside class\n",
    "        \n",
    "    def show(self): # method to show student info\n",
    "        print(self.name,self.roll)\n",
    "        self.lap.show() # calling show() of inner class using object created inside the class\n",
    "        \n",
    "    class Laptop:\n",
    "        def __init__(self):\n",
    "            self.brand=\"HP\"\n",
    "            self.cpu=\"i5\"\n",
    "            self.ram=8\n",
    "            \n",
    "        def show(self): # method to show laptop info\n",
    "            print(self.brand,self.cpu,self.ram)\n",
    "        \n",
    "s1=Student(\"Raj\",123)\n",
    "s2=Student(\"Rita\",456)\n",
    "\n",
    "s2.show()\n",
    "\n",
    "lap1=Student.Laptop()  # creating object of inner class ouside the class"
   ]
  },
  {
   "cell_type": "code",
   "execution_count": 37,
   "id": "961b6ee4",
   "metadata": {},
   "outputs": [
    {
     "name": "stdout",
     "output_type": "stream",
     "text": [
      "Rita 456\n",
      "HP i5 8\n"
     ]
    }
   ],
   "source": [
    "# inner class object creation outside outer class \n",
    "\n",
    "# calling show() of inner class using object created outside the class\n",
    "\n",
    "class Student:\n",
    "    def __init__(self,name,roll):\n",
    "        self.name=name\n",
    "        self.roll=roll\n",
    "        \n",
    "        self.lap=self.Laptop() # creating object of inner class inside class\n",
    "        \n",
    "    def show(self): # method to show student info\n",
    "        print(self.name,self.roll)\n",
    "        # self.lap.show() # calling show() of inner class using object creted inside the class\n",
    "        \n",
    "    class Laptop:\n",
    "        def __init__(self):\n",
    "            self.brand=\"HP\"\n",
    "            self.cpu=\"i5\"\n",
    "            self.ram=8\n",
    "            \n",
    "        def show(self): # method to show laptop info\n",
    "            print(self.brand,self.cpu,self.ram)\n",
    "        \n",
    "s1=Student(\"Raj\",123)\n",
    "s2=Student(\"Rita\",456)\n",
    "\n",
    "s2.show()\n",
    "\n",
    "lap1=Student.Laptop()  # creating object of inner class ouside the class\n",
    "lap1.show() # calling show() of inner class using object created outside the class"
   ]
  },
  {
   "cell_type": "markdown",
   "id": "766a2cf5",
   "metadata": {},
   "source": [
    "### When to use inner class in our programs ?\n",
    "\n",
    "Inner classes can be useful in various situations where we want to group related functionality together or encapsulate complex data structures within a class. \n",
    "\n",
    "Here are a few examples of when to use inner classes:"
   ]
  },
  {
   "cell_type": "markdown",
   "id": "f3ccd97d",
   "metadata": {},
   "source": [
    "**Encapsulating complex data structures:** If a class needs to hold a complex data structure or a container object, it can be defined as an inner class. This way, the details of the data structure are hidden from the outer class and the code is more organized. \n",
    "\n",
    "For example, consider a Playlist class that holds a list of Song objects. The Song class could be defined as an inner class of Playlist since it is only relevant to the playlist."
   ]
  },
  {
   "cell_type": "code",
   "execution_count": 2,
   "id": "df74f82a",
   "metadata": {},
   "outputs": [],
   "source": [
    "class Playlist:\n",
    "    def __init__(self, name):\n",
    "        self.name = name\n",
    "        self.songs = []\n",
    "    \n",
    "    class Song:\n",
    "        def __init__(self, title, artist):\n",
    "            self.title = title\n",
    "            self.artist = artist\n",
    "    \n",
    "    def add_song(self, title, artist):\n",
    "        song = self.Song(title, artist)\n",
    "        self.songs.append(song)"
   ]
  },
  {
   "cell_type": "markdown",
   "id": "b163f3f6",
   "metadata": {},
   "source": [
    "**Implementing iterator or generator functionality:** If a class needs to implement iterator or generator functionality, it can define an inner class that implements the required methods. This is because the inner class has access to the outer class's attributes and methods, which can be used to implement the iterator or generator. For example, consider a Fibonacci class that generates Fibonacci numbers."
   ]
  },
  {
   "cell_type": "code",
   "execution_count": 3,
   "id": "a60d517e",
   "metadata": {},
   "outputs": [],
   "source": [
    "class Fibonacci:\n",
    "    def __init__(self, max):\n",
    "        self.max = max\n",
    "    \n",
    "    def __iter__(self):\n",
    "        self.a = 0\n",
    "        self.b = 1\n",
    "        return self.FibonacciIterator(self)\n",
    "    \n",
    "    class FibonacciIterator:\n",
    "        def __init__(self, fibonacci):\n",
    "            self.fibonacci = fibonacci\n",
    "        \n",
    "        def __next__(self):\n",
    "            fib = self.a\n",
    "            if fib > self.fibonacci.max:\n",
    "                raise StopIteration\n",
    "            self.a, self.b = self.b, self.a + self.b\n",
    "            return fib"
   ]
  },
  {
   "cell_type": "markdown",
   "id": "9ca79dce",
   "metadata": {},
   "source": [
    "**Creating custom exceptions:** If a class needs to define custom exceptions, it can define them as inner classes. This way, the exceptions are scoped to the outer class and the code is more organized. For example, consider a Calculator class that performs arithmetic operations."
   ]
  },
  {
   "cell_type": "code",
   "execution_count": 4,
   "id": "c232d242",
   "metadata": {},
   "outputs": [],
   "source": [
    "class Calculator:\n",
    "    class InvalidOperation(Exception):\n",
    "        pass\n",
    "    \n",
    "    def add(self, a, b):\n",
    "        if not (isinstance(a, int) and isinstance(b, int)):\n",
    "            raise self.InvalidOperation(\"Invalid operands\")\n",
    "        return a + b\n",
    "\n",
    "# In this example, InvalidOperation is defined as an inner class of Calculator \n",
    "# and is used to raise an exception if the operands are not integers."
   ]
  },
  {
   "cell_type": "markdown",
   "id": "43542906",
   "metadata": {},
   "source": [
    "# INHERITANCE"
   ]
  },
  {
   "cell_type": "markdown",
   "id": "96c9ff39",
   "metadata": {},
   "source": [
    "Suppose we are working on project and if one person defining a class and in that he is providing some features. May be want to define some other class in which we need some extra feature and we want existing feature as well then we don't have to redefine itand we use concept of inheritance."
   ]
  },
  {
   "cell_type": "code",
   "execution_count": 5,
   "id": "12c1a67a",
   "metadata": {},
   "outputs": [
    {
     "name": "stdout",
     "output_type": "stream",
     "text": [
      "feat1 working\n",
      "feat2 working\n",
      "feat3 working\n",
      "feat1 working\n"
     ]
    }
   ],
   "source": [
    "# single level inheritance\n",
    "\n",
    "class A: # parent class\n",
    "    def feature1(self):\n",
    "        print(\"feat1 working\")\n",
    "    def feature2(self):\n",
    "        print(\"feat2 working\")\n",
    "\n",
    "class B(A): # child class ; inheriting all features of class A\n",
    "    def feature3(self):\n",
    "        print(\"feat3 working\")\n",
    "    def feature4(self):\n",
    "        print(\"feat4 working\")\n",
    "        \n",
    "a1=A() # object of class A\n",
    "a1.feature1()\n",
    "a1.feature2()\n",
    "\n",
    "b1=B() # object of class B\n",
    "b1.feature3()\n",
    "\n",
    "b1.feature1() # calling method of parent class with help of child class object"
   ]
  },
  {
   "cell_type": "code",
   "execution_count": 12,
   "id": "4c06edae",
   "metadata": {},
   "outputs": [
    {
     "name": "stdout",
     "output_type": "stream",
     "text": [
      "feat1 working\n",
      "feat2 working\n",
      "feat3 working\n",
      "feat1 working\n",
      "feat5 working\n",
      "feat2 working\n",
      "feat4 working\n"
     ]
    }
   ],
   "source": [
    "# multi level inheritance\n",
    "\n",
    "class A: # parent class\n",
    "    def feature1(self):\n",
    "        print(\"feat1 working\")\n",
    "    def feature2(self):\n",
    "        print(\"feat2 working\")\n",
    "\n",
    "class B(A): # child class ; inheriting all features of class A\n",
    "    def feature3(self):\n",
    "        print(\"feat3 working\")\n",
    "    def feature4(self):\n",
    "        print(\"feat4 working\")\n",
    "        \n",
    "class C(B): # child class ; inheriting all features of class B & class A is inherting from class A\n",
    "            # hence this child class will have all features of class A and class B\n",
    "    def feature5(self):\n",
    "        print(\"feat5 working\")\n",
    "        \n",
    "a1=A() # object of parent class\n",
    "a1.feature1()\n",
    "a1.feature2()\n",
    "\n",
    "b1=B() # object of child class\n",
    "b1.feature3()\n",
    "\n",
    "b1.feature1() # calling method of parent class with help of child class object\n",
    "\n",
    "c1=C() # object of child class (multilevel inheritance)\n",
    "c1.feature5()\n",
    "\n",
    "# class C will have all features from class A and class B\n",
    "c1.feature2() # calling method of class A\n",
    "c1.feature4() # calling method of class B"
   ]
  },
  {
   "cell_type": "code",
   "execution_count": 14,
   "id": "1fba847a",
   "metadata": {},
   "outputs": [
    {
     "name": "stdout",
     "output_type": "stream",
     "text": [
      "feat5 working\n",
      "feat1 working\n",
      "feat4 working\n"
     ]
    }
   ],
   "source": [
    "# multiple inheritance\n",
    "\n",
    "class A: # parent class\n",
    "    def feature1(self):\n",
    "        print(\"feat1 working\")\n",
    "    def feature2(self):\n",
    "        print(\"feat2 working\")\n",
    "\n",
    "class B: # parent class \n",
    "    def feature3(self):\n",
    "        print(\"feat3 working\")\n",
    "    def feature4(self):\n",
    "        print(\"feat4 working\")\n",
    "        \n",
    "class C(A,B): # child class ; inheriting from two parent class: parent class A & parent class B\n",
    "            # hence this child class will have all feature of parent class A and parent class B \n",
    "    def feature5(self):\n",
    "        print(\"feat5 working\")\n",
    "        \n",
    "c1=C() # object of child class\n",
    "c1.feature5()\n",
    "\n",
    "# class C will have all features from parent class A and parent class B\n",
    "c1.feature1()\n",
    "c1.feature4()"
   ]
  },
  {
   "cell_type": "code",
   "execution_count": 5,
   "id": "43e07b51",
   "metadata": {},
   "outputs": [
    {
     "name": "stdout",
     "output_type": "stream",
     "text": [
      "feat3 working\n",
      "feat5 working\n",
      "feat1 working\n",
      "feat1 working\n"
     ]
    }
   ],
   "source": [
    "# hierarchical  inheritance\n",
    "\n",
    "class A: # parent class\n",
    "    def feature1(self):\n",
    "        print(\"feat1 working\")\n",
    "    def feature2(self):\n",
    "        print(\"feat2 working\")\n",
    "\n",
    "class B(A): # child class ; inheriting from parent class A \n",
    "            # hence this child class will have all feature of parent class A  \n",
    "    def feature3(self):\n",
    "        print(\"feat3 working\")\n",
    "    def feature4(self):\n",
    "        print(\"feat4 working\")\n",
    "        \n",
    "class C(A): # child class ; inheriting from parent class A \n",
    "            # hence this child class will have all feature of parent class A \n",
    "    def feature5(self):\n",
    "        print(\"feat5 working\")\n",
    "        \n",
    "b1=B()\n",
    "b1.feature3()\n",
    "        \n",
    "c1=C() # object of child class\n",
    "c1.feature5()\n",
    "\n",
    "# class B  and class C will have all features from parent class A \n",
    "b1.feature1()\n",
    "c1.feature1()"
   ]
  },
  {
   "cell_type": "markdown",
   "id": "3a7c16bf",
   "metadata": {},
   "source": [
    "### Remark:\n",
    "\n",
    "We can define _ _init_ _ method here in inheritance as well but dont at this point(example)"
   ]
  },
  {
   "cell_type": "markdown",
   "id": "474335dc",
   "metadata": {},
   "source": [
    "## Constructor in inheritance"
   ]
  },
  {
   "cell_type": "code",
   "execution_count": 1,
   "id": "ae008c23",
   "metadata": {},
   "outputs": [
    {
     "name": "stdout",
     "output_type": "stream",
     "text": [
      "in A init\n"
     ]
    }
   ],
   "source": [
    "# single level inheritance\n",
    "\n",
    "class A: # parent class\n",
    "    def __init__(self):\n",
    "        print(\"in A init\")\n",
    "    def feature1(self):\n",
    "        print(\"feat1 working\")\n",
    "    def feature2(self):\n",
    "        print(\"feat2 working\")\n",
    "\n",
    "class B(A): # child class ; inheriting all features of class A\n",
    "    def feature3(self):\n",
    "        print(\"feat3 working\")\n",
    "    def feature4(self):\n",
    "        print(\"feat4 working\")\n",
    "        \n",
    "a1=A() # object of class A"
   ]
  },
  {
   "cell_type": "markdown",
   "id": "5011098b",
   "metadata": {},
   "source": [
    "##### Explanation:\n",
    "\n",
    "As constructor, it will call a method which is _ _init_ _ . Even if we don't define it, it is there somewhere. But we have defined our constructor _ _init_ _here.\n",
    "\n",
    "**As we are creating object of class A only so it is executing on class A**.\n",
    "\n",
    "Even if we have object of class B, it will still call constructor of class A thats how it works that since we don't have _ _init_ _ inside class B thats why it is going to A and calling _ _init_ _ of class A:-"
   ]
  },
  {
   "cell_type": "code",
   "execution_count": 2,
   "id": "f3b15f7d",
   "metadata": {},
   "outputs": [
    {
     "name": "stdout",
     "output_type": "stream",
     "text": [
      "in A init\n"
     ]
    }
   ],
   "source": [
    "# single level inheritance\n",
    "\n",
    "class A: # parent class\n",
    "    def __init__(self):\n",
    "        print(\"in A init\")\n",
    "    def feature1(self):\n",
    "        print(\"feat1 working\")\n",
    "    def feature2(self):\n",
    "        print(\"feat2 working\")\n",
    "\n",
    "class B(A): # child class ; inheriting all features of class A\n",
    "    def feature3(self):\n",
    "        print(\"feat3 working\")\n",
    "    def feature4(self):\n",
    "        print(\"feat4 working\")\n",
    "        \n",
    "b1=B() # object of class B"
   ]
  },
  {
   "cell_type": "markdown",
   "id": "95b666e0",
   "metadata": {},
   "source": [
    "__but what if we have own constructor in class B__:-"
   ]
  },
  {
   "cell_type": "code",
   "execution_count": 3,
   "id": "a288a67a",
   "metadata": {},
   "outputs": [
    {
     "name": "stdout",
     "output_type": "stream",
     "text": [
      "in B init\n"
     ]
    }
   ],
   "source": [
    "# single level inheritance\n",
    "\n",
    "class A: # parent class\n",
    "    def __init__(self):\n",
    "        print(\"in A init\")\n",
    "    def feature1(self):\n",
    "        print(\"feat1 working\")\n",
    "    def feature2(self):\n",
    "        print(\"feat2 working\")\n",
    "\n",
    "class B(A): # child class ; inheriting all features of class A\n",
    "    def __init__(self):\n",
    "        print(\"in B init\")\n",
    "    def feature3(self):\n",
    "        print(\"feat3 working\")\n",
    "    def feature4(self):\n",
    "        print(\"feat4 working\")\n",
    "        \n",
    "b1=B() # object of class B"
   ]
  },
  {
   "cell_type": "markdown",
   "id": "308080a5",
   "metadata": {},
   "source": [
    "##### Conclusion:\n",
    "\n",
    "If we have two `class A` and `class B` and; **class B inherits class A**(that is `class B(A):`) and **we have define _ _init_ _ in both classes** then if we create object of class B(child class) then first it will try to find _ _init_ _ of class B(child class) if _ _init_ _ is there inside class B then it will execute _ _init_ _ of class B. But if _ _init_ _ is not present(defined) in class B(child class) then it will go to class A(parent class) and execute _ _init_ _ of class A(parent class)"
   ]
  },
  {
   "cell_type": "markdown",
   "id": "63ebd27b",
   "metadata": {},
   "source": [
    "__what if we also want to call _ _init_ _ of class A(parent class)__. \n",
    "\n",
    "I mean, if we create object of class B then can we call _ _init_ _ of both classes(parent and child)\n",
    "\n",
    "So, the answer is by default it will call only class B.\n",
    "\n",
    "But in order to call class A as well we have a special keyword or method: __super()__"
   ]
  },
  {
   "cell_type": "code",
   "execution_count": 25,
   "id": "aa749773",
   "metadata": {},
   "outputs": [
    {
     "name": "stdout",
     "output_type": "stream",
     "text": [
      "in A init\n",
      "in B init\n"
     ]
    }
   ],
   "source": [
    "# single level inheritance\n",
    "\n",
    "class A: # parent class\n",
    "    def __init__(self):\n",
    "        print(\"in A init\")\n",
    "    def feature1(self):\n",
    "        print(\"feat1 working\")\n",
    "    def feature2(self):\n",
    "        print(\"feat2 working\")\n",
    "\n",
    "class B(A): # child class ; inheriting all features of class A\n",
    "    def __init__(self):\n",
    "        super().__init__() # calling __init__ of parent class that is class A\n",
    "        print(\"in B init\")\n",
    "    def feature3(self):\n",
    "        print(\"feat3 working\")\n",
    "    def feature4(self):\n",
    "        print(\"feat4 working\")\n",
    "        \n",
    "b1=B() # object of class B"
   ]
  },
  {
   "cell_type": "markdown",
   "id": "5ac99186",
   "metadata": {},
   "source": [
    "The moment we say __super()._ _init_ _()__ we are representing super class that is class A"
   ]
  },
  {
   "cell_type": "markdown",
   "id": "541c8ef6",
   "metadata": {},
   "source": [
    "### Note:\n",
    "\n",
    "Note that if the parent class has required arguments in its constructor, then those arguments must be passed to the super() function in the subclass constructor.\n",
    "\n",
    "Example:"
   ]
  },
  {
   "cell_type": "code",
   "execution_count": 8,
   "id": "5a51ac26",
   "metadata": {},
   "outputs": [
    {
     "name": "stdout",
     "output_type": "stream",
     "text": [
      "Golden Retriever\n",
      "Buddy\n"
     ]
    }
   ],
   "source": [
    "class Animal:\n",
    "    def __init__(self, name):\n",
    "        self.name = name\n",
    "\n",
    "class Dog(Animal):\n",
    "    def __init__(self, breed, name):\n",
    "        super().__init__(name) # passing argument\n",
    "        self.breed = breed\n",
    "\n",
    "dog = Dog(\"Golden Retriever\", \"Buddy\")\n",
    "print(dog.breed)\n",
    "print(dog.name)"
   ]
  },
  {
   "cell_type": "markdown",
   "id": "71a3d69f",
   "metadata": {},
   "source": [
    "### Note:\n",
    "\n",
    "When we create object of sub class(child) it will call _ _init_ _ of sub class first. If we have call super then it will call _ _init_ _ of super class(parent) then call _ _init_ _ of sub class(child)."
   ]
  },
  {
   "cell_type": "markdown",
   "id": "20b545d4",
   "metadata": {},
   "source": [
    "__what if we have two parent class(class A and class B) and child class(class C) is inherting from both parent classes(multiple inheritance) and child class have _ _init_ _ method :__"
   ]
  },
  {
   "cell_type": "code",
   "execution_count": 5,
   "id": "d80ee4c3",
   "metadata": {},
   "outputs": [
    {
     "name": "stdout",
     "output_type": "stream",
     "text": [
      "in C init\n"
     ]
    }
   ],
   "source": [
    "# multiple inheritance\n",
    "\n",
    "class A: # parent class\n",
    "    def __init__(self):\n",
    "        print(\"in A init\")\n",
    "    def feature1(self):\n",
    "        print(\"feat1 working\")\n",
    "    def feature2(self):\n",
    "        print(\"feat2 working\")\n",
    "\n",
    "class B: # parent class \n",
    "    def __init__(self):\n",
    "        print(\"in B init\")\n",
    "    def feature3(self):\n",
    "        print(\"feat3 working\")\n",
    "    def feature4(self):\n",
    "        print(\"feat4 working\")\n",
    "        \n",
    "class C(A,B): # child class ; inheriting from two parent class: parent class A & parent class B\n",
    "            # hence this child class will have all feature of parent class A and parent class B \n",
    "    def __init__(self):\n",
    "        print(\"in C init\")\n",
    "    def feature5(self):\n",
    "        print(\"feat5 working\")\n",
    "        \n",
    "c1=C() # object of child class"
   ]
  },
  {
   "cell_type": "markdown",
   "id": "6f636199",
   "metadata": {},
   "source": [
    "Since object of class C, so it is calling _ _init_ _ of class C only."
   ]
  },
  {
   "cell_type": "markdown",
   "id": "dadb30c4",
   "metadata": {},
   "source": [
    "__What if we have two super class and child class inheriting from both parent class and we want to call _ _init_ _ of super class__\n",
    "\n",
    "Then which super class _ _init_ _ will be called ?"
   ]
  },
  {
   "cell_type": "code",
   "execution_count": 6,
   "id": "f96914e0",
   "metadata": {},
   "outputs": [
    {
     "name": "stdout",
     "output_type": "stream",
     "text": [
      "in A init\n",
      "in C init\n"
     ]
    }
   ],
   "source": [
    "# multiple inheritance\n",
    "\n",
    "class A: # parent class\n",
    "    def __init__(self):\n",
    "        print(\"in A init\")\n",
    "    def feature1(self):\n",
    "        print(\"feat1 working\")\n",
    "    def feature2(self):\n",
    "        print(\"feat2 working\")\n",
    "\n",
    "class B: # parent class \n",
    "    def __init__(self):\n",
    "        print(\"in B init\")\n",
    "    def feature3(self):\n",
    "        print(\"feat3 working\")\n",
    "    def feature4(self):\n",
    "        print(\"feat4 working\")\n",
    "        \n",
    "class C(A,B): # child class ; inheriting from two parent class: parent class A & parent class B\n",
    "            # hence this child class will have all feature of parent class A and parent class B \n",
    "    def __init__(self):\n",
    "        super().__init__()\n",
    "        print(\"in C init\")\n",
    "    def feature5(self):\n",
    "        print(\"feat5 working\")\n",
    "        \n",
    "c1=C() # object of child class"
   ]
  },
  {
   "cell_type": "markdown",
   "id": "c186da04",
   "metadata": {},
   "source": [
    "##### Explanation:\n",
    "\n",
    "For this output we have concept of __MRO(method resolution order)__. Whenever we have this mutiple inheritance, it always start from __left to right__. The moment we say _ _init_ _ it will try to find _ _init_ _ of itself. Since we have _ _init_ _ here so it will execute _ _init_ _ of class C and the moment we say super()._ _init_ _() ; in left side we have A and B in right( class C(A,B) ) so it prefer to go left to right(MRO)."
   ]
  },
  {
   "cell_type": "markdown",
   "id": "41879c4f",
   "metadata": {},
   "source": [
    "Now lets do change class \n",
    "\n",
    "`class C(B,A):` \n",
    "\n",
    "And look at the output below:"
   ]
  },
  {
   "cell_type": "code",
   "execution_count": 28,
   "id": "9e7df353",
   "metadata": {},
   "outputs": [
    {
     "name": "stdout",
     "output_type": "stream",
     "text": [
      "in B init\n",
      "in C init\n"
     ]
    }
   ],
   "source": [
    "# multiple inheritance\n",
    "\n",
    "class A: # parent class\n",
    "    def __init__(self):\n",
    "        print(\"in A init\")\n",
    "    def feature1(self):\n",
    "        print(\"feat1 working\")\n",
    "    def feature2(self):\n",
    "        print(\"feat2 working\")\n",
    "\n",
    "class B: # parent class \n",
    "    def __init__(self):\n",
    "        print(\"in B init\")\n",
    "    def feature3(self):\n",
    "        print(\"feat3 working\")\n",
    "    def feature4(self):\n",
    "        print(\"feat4 working\")\n",
    "        \n",
    "class C(B,A): # child class ; inheriting from two parent class: parent class A & parent class B\n",
    "            # hence this child class will have all feature of parent class A and parent class B \n",
    "    def __init__(self):\n",
    "        super().__init__()\n",
    "        print(\"in C init\")\n",
    "    def feature5(self):\n",
    "        print(\"feat5 working\")\n",
    "        \n",
    "c1=C() # object of child class"
   ]
  },
  {
   "cell_type": "markdown",
   "id": "8382bd0a",
   "metadata": {},
   "source": [
    "**Infact we can do same thing for methods(that is we have same function in both parent class):-**"
   ]
  },
  {
   "cell_type": "code",
   "execution_count": 33,
   "id": "007c3a43",
   "metadata": {},
   "outputs": [
    {
     "name": "stdout",
     "output_type": "stream",
     "text": [
      "in B init\n",
      "in C init\n",
      "feat1 in B working\n"
     ]
    }
   ],
   "source": [
    "# multiple inheritance\n",
    "\n",
    "# we have method feature1() in both parent class\n",
    "\n",
    "class A: # parent class\n",
    "    def __init__(self):\n",
    "        print(\"in A init\")\n",
    "    def feature1(self):\n",
    "        print(\"feat1 in A working\")\n",
    "    def feature2(self):\n",
    "        print(\"feat2 working\")\n",
    "\n",
    "class B: # parent class \n",
    "    def __init__(self):\n",
    "        print(\"in B init\")\n",
    "    def feature1(self):\n",
    "        print(\"feat1 in B working\")\n",
    "    def feature4(self):\n",
    "        print(\"feat4 working\")\n",
    "        \n",
    "class C(B,A): # child class ; inheriting from two parent class: parent class A & parent class B\n",
    "            # hence this child class will have all feature of parent class A and parent class B \n",
    "    def __init__(self):\n",
    "        super().__init__()\n",
    "        print(\"in C init\")\n",
    "    def feature5(self):\n",
    "        print(\"feat5 working\")\n",
    "        \n",
    "c1=C() # object of child class\n",
    "c1.feature1()"
   ]
  },
  {
   "cell_type": "markdown",
   "id": "2af075d3",
   "metadata": {},
   "source": [
    "##### Explannation:\n",
    "\n",
    "It will always call from class B because it go from left to right"
   ]
  },
  {
   "cell_type": "code",
   "execution_count": 34,
   "id": "bad1e0a0",
   "metadata": {},
   "outputs": [
    {
     "name": "stdout",
     "output_type": "stream",
     "text": [
      "in B init\n",
      "in C init\n",
      "feat1 in B working\n",
      "feat2 working\n"
     ]
    }
   ],
   "source": [
    "# multiple inheritance\n",
    "\n",
    "# we have method feature1() in both parent class\n",
    "\n",
    "class A: # parent class\n",
    "    def __init__(self):\n",
    "        print(\"in A init\")\n",
    "    def feature1(self):\n",
    "        print(\"feat1 in A working\")\n",
    "    def feature2(self):\n",
    "        print(\"feat2 working\")\n",
    "\n",
    "class B: # parent class \n",
    "    def __init__(self):\n",
    "        print(\"in B init\")\n",
    "    def feature1(self):\n",
    "        print(\"feat1 in B working\")\n",
    "    def feature4(self):\n",
    "        print(\"feat4 working\")\n",
    "        \n",
    "class C(B,A): # child class ; inheriting from two parent class: parent class A & parent class B\n",
    "            # hence this child class will have all feature of parent class A and parent class B \n",
    "    def __init__(self):\n",
    "        super().__init__()\n",
    "        print(\"in C init\")\n",
    "    def feature5(self):\n",
    "        print(\"feat5 working\")\n",
    "    def feat(self):\n",
    "        super().feature2()\n",
    "        \n",
    "c1=C() # object of child class\n",
    "c1.feature1()\n",
    "c1.feat()"
   ]
  },
  {
   "cell_type": "markdown",
   "id": "f14c5966",
   "metadata": {},
   "source": [
    "### Note:\n",
    "\n",
    "We can use super() method to call other method as well not just _ _init_ _.\n",
    "\n",
    "So,to represent super class we use super() method"
   ]
  },
  {
   "cell_type": "markdown",
   "id": "9b47cfe8",
   "metadata": {},
   "source": [
    "### few use cases of `super()`"
   ]
  },
  {
   "cell_type": "code",
   "execution_count": 7,
   "id": "e74314b7",
   "metadata": {},
   "outputs": [
    {
     "name": "stdout",
     "output_type": "stream",
     "text": [
      "Buddy\n",
      "Golden Retriever\n"
     ]
    }
   ],
   "source": [
    "# Calling the parent class constructor:\n",
    "# When a child class inherits from a parent class, it can use the super() function\n",
    "# to call the constructor of the parent class and initialize any attributes or \n",
    "# perform any other tasks defined in the parent class constructor. \n",
    "# Here's an example:\n",
    "\n",
    "class Animal:\n",
    "    def __init__(self, name):\n",
    "        self.name = name\n",
    "\n",
    "class Dog(Animal):\n",
    "    def __init__(self, name, breed):\n",
    "        super().__init__(name)\n",
    "        self.breed = breed\n",
    "\n",
    "dog = Dog(\"Buddy\", \"Golden Retriever\")\n",
    "print(dog.name)\n",
    "print(dog.breed)"
   ]
  },
  {
   "cell_type": "code",
   "execution_count": 8,
   "id": "5cc0e60b",
   "metadata": {},
   "outputs": [
    {
     "name": "stdout",
     "output_type": "stream",
     "text": [
      "Animal speaks\n",
      "Dog barks\n"
     ]
    }
   ],
   "source": [
    "#Accessing methods of the parent class:\n",
    "# A child class can also use the super() function to access methods defined in the parent class.\n",
    "# This can be useful when the child class wants to override a method of the parent class \n",
    "# but still wants to use some of the functionality defined in the parent class method. \n",
    "# Here's an example:\n",
    "\n",
    "class Animal:\n",
    "    def speak(self):\n",
    "        print(\"Animal speaks\")\n",
    "\n",
    "class Dog(Animal):\n",
    "    def speak(self):\n",
    "        super().speak()\n",
    "        print(\"Dog barks\")\n",
    "\n",
    "dog = Dog()\n",
    "dog.speak()"
   ]
  },
  {
   "cell_type": "code",
   "execution_count": 9,
   "id": "ff52d022",
   "metadata": {},
   "outputs": [
    {
     "name": "stdout",
     "output_type": "stream",
     "text": [
      "A.foo\n"
     ]
    }
   ],
   "source": [
    "# Multiple inheritance: \n",
    "# The super() function is especially useful when dealing with multiple inheritance, \n",
    "# where a child class inherits from multiple parent classes. \n",
    "# The super() function can help maintain the correct order of method calls in the inheritance hierarchy.\n",
    "# Here's an example:\n",
    "\n",
    "class A:\n",
    "    def foo(self):\n",
    "        print(\"A.foo\")\n",
    "\n",
    "class B:\n",
    "    def foo(self):\n",
    "        print(\"B.foo\")\n",
    "\n",
    "class C(A, B):\n",
    "    def foo(self):\n",
    "        super().foo()\n",
    "\n",
    "c = C()\n",
    "c.foo()"
   ]
  },
  {
   "cell_type": "code",
   "execution_count": 2,
   "id": "993d76c1",
   "metadata": {},
   "outputs": [
    {
     "name": "stdout",
     "output_type": "stream",
     "text": [
      "B.foo\n"
     ]
    }
   ],
   "source": [
    "# Multiple inheritance: \n",
    "# The super() function is especially useful when dealing with multiple inheritance, \n",
    "# where a child class inherits from multiple parent classes. \n",
    "# The super() function can help maintain the correct order of method calls in the inheritance hierarchy.\n",
    "# Here's an example:\n",
    "\n",
    "class A:\n",
    "    def foo(self):\n",
    "        print(\"A.foo\")\n",
    "\n",
    "class B:\n",
    "    def foo(self):\n",
    "        print(\"B.foo\")\n",
    "\n",
    "class C(B, A):\n",
    "    def foo(self):\n",
    "        super().foo()\n",
    "\n",
    "c = C()\n",
    "c.foo()"
   ]
  },
  {
   "cell_type": "code",
   "execution_count": null,
   "id": "0a742a30",
   "metadata": {},
   "outputs": [],
   "source": []
  }
 ],
 "metadata": {
  "kernelspec": {
   "display_name": "Python 3 (ipykernel)",
   "language": "python",
   "name": "python3"
  },
  "language_info": {
   "codemirror_mode": {
    "name": "ipython",
    "version": 3
   },
   "file_extension": ".py",
   "mimetype": "text/x-python",
   "name": "python",
   "nbconvert_exporter": "python",
   "pygments_lexer": "ipython3",
   "version": "3.9.6"
  }
 },
 "nbformat": 4,
 "nbformat_minor": 5
}
