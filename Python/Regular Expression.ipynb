{
 "cells": [
  {
   "cell_type": "code",
   "execution_count": 1,
   "id": "007d438c-3971-4b27-bd9c-e2205c554ee9",
   "metadata": {},
   "outputs": [],
   "source": [
    "import re"
   ]
  },
  {
   "cell_type": "code",
   "execution_count": 9,
   "id": "b55e48d8-d6d6-4087-ad24-f030f52315ec",
   "metadata": {},
   "outputs": [
    {
     "data": {
      "text/plain": [
       "<re.Match object; span=(4, 6), match='12'>"
      ]
     },
     "execution_count": 9,
     "metadata": {},
     "output_type": "execute_result"
    }
   ],
   "source": [
    "text = 'ABC 123 XYZ 456 @&! 100'\n",
    "\n",
    "pat = re.compile(r'\\d\\d') # create pattern\n",
    "\n",
    "matches = pat.search(text) # search() looks for first match\n",
    "matches"
   ]
  },
  {
   "cell_type": "code",
   "execution_count": 10,
   "id": "93a50582-0ea4-454a-ad8c-3e44558f3cd0",
   "metadata": {},
   "outputs": [
    {
     "name": "stdout",
     "output_type": "stream",
     "text": [
      "<re.Match object; span=(4, 6), match='12'>\n",
      "<re.Match object; span=(12, 14), match='45'>\n",
      "<re.Match object; span=(20, 22), match='10'>\n"
     ]
    }
   ],
   "source": [
    "matches = pat.finditer(text) \n",
    "\n",
    "for match in matches:\n",
    "    print(match)"
   ]
  },
  {
   "cell_type": "code",
   "execution_count": 11,
   "id": "a50166ee-29f4-4fd8-9deb-599ab813a1f8",
   "metadata": {},
   "outputs": [
    {
     "name": "stdout",
     "output_type": "stream",
     "text": [
      "12\n",
      "45\n",
      "10\n"
     ]
    }
   ],
   "source": [
    "matches = pat.finditer(text) \n",
    "\n",
    "for match in matches:\n",
    "    print(match.group())"
   ]
  },
  {
   "cell_type": "markdown",
   "id": "ef4593d5-f970-4815-9451-6cef50f24044",
   "metadata": {},
   "source": [
    "- `\\d` Digit Character: matches any numeric digit from 0 to 9\n",
    "\n",
    "- `\\w` Word Character: matches any letter, numeric digit, or the underscore character\n",
    "\n",
    "- `\\s` Space Character: matches any space, tab, or newline character\n",
    "\n",
    "- `\\D` Non Digit Character: matches any character that is not a numeric digit from 0 to 9\n",
    "\n",
    "- `\\W` Non Word Character: matches any character that is not a letter, numeric digit, or the undersocre character\n",
    "\n",
    "- `\\S` Non Space Character: matches any character that is not space, tab, or newline\n",
    "\n",
    "- `()` Groups. Group together multiple patterns into a single group.\n",
    "\n",
    "- `+` Matches one or more characters\n",
    "- `*` Matches 0 or more characters\n",
    "- `{}` Repeat preceding character or group.\n",
    "- `?` Indicates Optional search OR Matches the shortest possible match when used after `{}`\n",
    "- `.` Matches any character other than newline.\n",
    "- `[]` Matches all characters specified within square brackets\n",
    "- `|` Pipe character. Matches either of the characters.\n",
    "- `^` Caret symbol. Matches the pattern in the beginning or text. OR Reversed the match when used inside `[]`\n",
    "- `$` DOllar symbol. Matches the pattern at the end of the text\n",
    "\n",
    "\n",
    "**EXAMPLES:**\n",
    "\n",
    "- (\\d\\d\\d)"
   ]
  },
  {
   "cell_type": "code",
   "execution_count": 12,
   "id": "5d17d62f-b63f-4603-b50f-8bf5f0a5dd44",
   "metadata": {},
   "outputs": [
    {
     "name": "stdout",
     "output_type": "stream",
     "text": [
      "123\n",
      "456\n",
      "100\n"
     ]
    }
   ],
   "source": [
    "pat = re.compile(r'(\\d\\d\\d)') \n",
    "\n",
    "matches = pat.finditer(text) \n",
    "\n",
    "for match in matches:\n",
    "    print(match.group())"
   ]
  },
  {
   "cell_type": "code",
   "execution_count": 13,
   "id": "cae527f7-9e1f-47d9-a921-7c8cd4cb491d",
   "metadata": {},
   "outputs": [
    {
     "name": "stdout",
     "output_type": "stream",
     "text": [
      "12\n",
      "45\n",
      "10\n"
     ]
    }
   ],
   "source": [
    "pat = re.compile(r'(\\d\\w)') \n",
    "\n",
    "matches = pat.finditer(text) \n",
    "\n",
    "for match in matches:\n",
    "    print(match.group())"
   ]
  },
  {
   "cell_type": "code",
   "execution_count": null,
   "id": "d3d3b07d-9c24-433e-a6f0-6a19d6944beb",
   "metadata": {},
   "outputs": [],
   "source": []
  }
 ],
 "metadata": {
  "kernelspec": {
   "display_name": "Python 3 (ipykernel)",
   "language": "python",
   "name": "python3"
  },
  "language_info": {
   "codemirror_mode": {
    "name": "ipython",
    "version": 3
   },
   "file_extension": ".py",
   "mimetype": "text/x-python",
   "name": "python",
   "nbconvert_exporter": "python",
   "pygments_lexer": "ipython3",
   "version": "3.9.6"
  }
 },
 "nbformat": 4,
 "nbformat_minor": 5
}
