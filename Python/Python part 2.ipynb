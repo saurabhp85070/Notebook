{
 "cells": [
  {
   "cell_type": "markdown",
   "id": "f1ad07ed",
   "metadata": {},
   "source": [
    "## binary, decimal, octal, hexadecimal"
   ]
  },
  {
   "cell_type": "code",
   "execution_count": 6,
   "id": "1178466f",
   "metadata": {},
   "outputs": [
    {
     "name": "stdout",
     "output_type": "stream",
     "text": [
      "0b10010\n"
     ]
    }
   ],
   "source": [
    "print(bin(18))"
   ]
  },
  {
   "cell_type": "code",
   "execution_count": 7,
   "id": "a572e41a",
   "metadata": {},
   "outputs": [
    {
     "data": {
      "text/plain": [
       "str"
      ]
     },
     "execution_count": 7,
     "metadata": {},
     "output_type": "execute_result"
    }
   ],
   "source": [
    "type(bin(18))"
   ]
  },
  {
   "cell_type": "code",
   "execution_count": 2,
   "id": "9d1a9352",
   "metadata": {},
   "outputs": [
    {
     "name": "stdout",
     "output_type": "stream",
     "text": [
      "0o22\n"
     ]
    }
   ],
   "source": [
    "print(oct(18))"
   ]
  },
  {
   "cell_type": "code",
   "execution_count": 14,
   "id": "d0cc1521",
   "metadata": {},
   "outputs": [
    {
     "name": "stdout",
     "output_type": "stream",
     "text": [
      "0x12\n"
     ]
    }
   ],
   "source": [
    "print(hex(18))"
   ]
  },
  {
   "cell_type": "code",
   "execution_count": 17,
   "id": "6c484271",
   "metadata": {},
   "outputs": [
    {
     "name": "stdout",
     "output_type": "stream",
     "text": [
      "18\n",
      "18\n",
      "18\n"
     ]
    }
   ],
   "source": [
    "print(0b10010)\n",
    "print(0o22)\n",
    "print(0x12)"
   ]
  },
  {
   "cell_type": "code",
   "execution_count": 21,
   "id": "4e462a99",
   "metadata": {},
   "outputs": [
    {
     "name": "stdout",
     "output_type": "stream",
     "text": [
      "<class 'str'>\n"
     ]
    }
   ],
   "source": [
    "print(type(bin(18)))"
   ]
  },
  {
   "cell_type": "code",
   "execution_count": 25,
   "id": "f84796a8",
   "metadata": {},
   "outputs": [
    {
     "name": "stdout",
     "output_type": "stream",
     "text": [
      "0o3540\n",
      "3540\n"
     ]
    }
   ],
   "source": [
    "number = 1888\n",
    "\n",
    "print(oct(number))\n",
    "hexadecimal_representation = oct(number)[2:]\n",
    "print(hexadecimal_representation)"
   ]
  },
  {
   "cell_type": "code",
   "execution_count": null,
   "id": "b55eef60",
   "metadata": {},
   "outputs": [],
   "source": []
  },
  {
   "cell_type": "markdown",
   "id": "7ab4b5be",
   "metadata": {},
   "source": [
    "## For else"
   ]
  },
  {
   "cell_type": "markdown",
   "id": "0ef83d80",
   "metadata": {},
   "source": [
    "In Python we can use for and else together.\n",
    "\n",
    "To understand this lets take an example here."
   ]
  },
  {
   "cell_type": "code",
   "execution_count": 2,
   "id": "bee5fc9b",
   "metadata": {},
   "outputs": [
    {
     "name": "stdout",
     "output_type": "stream",
     "text": [
      "15\n"
     ]
    }
   ],
   "source": [
    "# we want to chcek number in list divisible by 5\n",
    "\n",
    "nums=[12,15,18,21,26]\n",
    "\n",
    "for i in nums:\n",
    "    if i%5==0:\n",
    "        print(i)"
   ]
  },
  {
   "cell_type": "code",
   "execution_count": 3,
   "id": "df10a004",
   "metadata": {},
   "outputs": [
    {
     "name": "stdout",
     "output_type": "stream",
     "text": [
      "25\n"
     ]
    }
   ],
   "source": [
    "nums=[12,16,18,21,25]\n",
    "\n",
    "for i in nums:\n",
    "    if i%5==0:\n",
    "        print(i)"
   ]
  },
  {
   "cell_type": "code",
   "execution_count": 5,
   "id": "cd5dcc27",
   "metadata": {},
   "outputs": [
    {
     "name": "stdout",
     "output_type": "stream",
     "text": [
      "20\n",
      "25\n"
     ]
    }
   ],
   "source": [
    "nums=[12,16,18,20,25]\n",
    "\n",
    "for i in nums:\n",
    "    if i%5==0:\n",
    "        print(i)"
   ]
  },
  {
   "cell_type": "markdown",
   "id": "217748c9",
   "metadata": {},
   "source": [
    "What we want is we want to print only first number. So, in this case we will use break"
   ]
  },
  {
   "cell_type": "code",
   "execution_count": 8,
   "id": "bb75c12b",
   "metadata": {},
   "outputs": [
    {
     "name": "stdout",
     "output_type": "stream",
     "text": [
      "20\n"
     ]
    }
   ],
   "source": [
    "nums=[12,16,18,20,25]\n",
    "\n",
    "for i in nums:\n",
    "    if i%5==0:\n",
    "        print(i)\n",
    "        break"
   ]
  },
  {
   "cell_type": "code",
   "execution_count": 9,
   "id": "5a211400",
   "metadata": {},
   "outputs": [
    {
     "name": "stdout",
     "output_type": "stream",
     "text": [
      "10\n"
     ]
    }
   ],
   "source": [
    "nums=[10,16,18,20,25]\n",
    "\n",
    "for i in nums:\n",
    "    if i%5==0:\n",
    "        print(i)\n",
    "        break"
   ]
  },
  {
   "cell_type": "markdown",
   "id": "e1bcd77d",
   "metadata": {},
   "source": [
    "What if we have numbers and none of the number is divisible by 5."
   ]
  },
  {
   "cell_type": "code",
   "execution_count": 10,
   "id": "142034a6",
   "metadata": {},
   "outputs": [],
   "source": [
    "nums=[12,16,18,21,22]\n",
    "\n",
    "for i in nums:\n",
    "    if i%5==0:\n",
    "        print(i)\n",
    "        break"
   ]
  },
  {
   "cell_type": "markdown",
   "id": "32dd8eae",
   "metadata": {},
   "source": [
    "As expected we don't get any out here because none of numbers is divisible by 5. \n",
    "\n",
    "What we can do here is add `else` and print not found"
   ]
  },
  {
   "cell_type": "code",
   "execution_count": 11,
   "id": "546a3d86",
   "metadata": {},
   "outputs": [
    {
     "name": "stdout",
     "output_type": "stream",
     "text": [
      "not found\n",
      "not found\n",
      "not found\n",
      "not found\n",
      "not found\n"
     ]
    }
   ],
   "source": [
    "nums=[12,16,18,21,22]\n",
    "\n",
    "for i in nums:\n",
    "    if i%5==0:\n",
    "        print(i)\n",
    "        break\n",
    "    else:\n",
    "        print(\"not found\")"
   ]
  },
  {
   "cell_type": "markdown",
   "id": "68fdc7e5",
   "metadata": {},
   "source": [
    "Okay, here we got \"not found\" 5 times.\n",
    "\n",
    "What is happening here is for every iteration it is checking for condition and `else` is for if and thats why for every iteration if this `if` statement return false; it will execute `else` block.\n",
    "\n",
    "But we don't want that. We don't want execute `else` everytime w ehave iteration. We want to execute else only when entire loop is completed without break. So, what we can do is we just write `else` for `for` not for `if`. "
   ]
  },
  {
   "cell_type": "code",
   "execution_count": 12,
   "id": "2916d21d",
   "metadata": {},
   "outputs": [
    {
     "name": "stdout",
     "output_type": "stream",
     "text": [
      "not found\n"
     ]
    }
   ],
   "source": [
    "nums=[12,16,18,21,22]\n",
    "\n",
    "for i in nums:\n",
    "    if i%5==0:\n",
    "        print(i)\n",
    "        break\n",
    "else:\n",
    "    print(\"not found\")"
   ]
  },
  {
   "cell_type": "markdown",
   "id": "427ebd12",
   "metadata": {},
   "source": [
    "**In simple word, the `else` block will run if loop ends naturally without break; i mean if loop break `else` block will not be executed.**\n",
    "\n",
    "We can do same with `while` loop as well."
   ]
  },
  {
   "cell_type": "code",
   "execution_count": 1,
   "id": "b661763c",
   "metadata": {},
   "outputs": [
    {
     "name": "stdout",
     "output_type": "stream",
     "text": [
      "0\n"
     ]
    }
   ],
   "source": [
    "nums=[12,16,18,21,22]\n",
    "i=0\n",
    "\n",
    "while i<len(nums):\n",
    "    if i%5==0:\n",
    "        print(i)\n",
    "        break\n",
    "    i+=1\n",
    "else:\n",
    "    print(\"not found\")"
   ]
  },
  {
   "cell_type": "markdown",
   "id": "5aae6746",
   "metadata": {},
   "source": [
    "# ARRAY"
   ]
  },
  {
   "cell_type": "code",
   "execution_count": 3,
   "id": "a5c777e3",
   "metadata": {},
   "outputs": [
    {
     "data": {
      "text/plain": [
       "array('i', [1, 2, 3, 4])"
      ]
     },
     "execution_count": 3,
     "metadata": {},
     "output_type": "execute_result"
    }
   ],
   "source": [
    "import array\n",
    "arr=array.array('i',[1,2,3,4])\n",
    "arr"
   ]
  },
  {
   "cell_type": "code",
   "execution_count": 29,
   "id": "467e0a60",
   "metadata": {},
   "outputs": [
    {
     "name": "stdout",
     "output_type": "stream",
     "text": [
      "Help on class array in module array:\n",
      "\n",
      "class array(builtins.object)\n",
      " |  array(typecode [, initializer]) -> array\n",
      " |  \n",
      " |  Return a new array whose items are restricted by typecode, and\n",
      " |  initialized from the optional initializer value, which must be a list,\n",
      " |  string or iterable over elements of the appropriate type.\n",
      " |  \n",
      " |  Arrays represent basic values and behave very much like lists, except\n",
      " |  the type of objects stored in them is constrained. The type is specified\n",
      " |  at object creation time by using a type code, which is a single character.\n",
      " |  The following type codes are defined:\n",
      " |  \n",
      " |      Type code   C Type             Minimum size in bytes\n",
      " |      'b'         signed integer     1\n",
      " |      'B'         unsigned integer   1\n",
      " |      'u'         Unicode character  2 (see note)\n",
      " |      'h'         signed integer     2\n",
      " |      'H'         unsigned integer   2\n",
      " |      'i'         signed integer     2\n",
      " |      'I'         unsigned integer   2\n",
      " |      'l'         signed integer     4\n",
      " |      'L'         unsigned integer   4\n",
      " |      'q'         signed integer     8 (see note)\n",
      " |      'Q'         unsigned integer   8 (see note)\n",
      " |      'f'         floating point     4\n",
      " |      'd'         floating point     8\n",
      " |  \n",
      " |  NOTE: The 'u' typecode corresponds to Python's unicode character. On\n",
      " |  narrow builds this is 2-bytes on wide builds this is 4-bytes.\n",
      " |  \n",
      " |  NOTE: The 'q' and 'Q' type codes are only available if the platform\n",
      " |  C compiler used to build Python supports 'long long', or, on Windows,\n",
      " |  '__int64'.\n",
      " |  \n",
      " |  Methods:\n",
      " |  \n",
      " |  append() -- append a new item to the end of the array\n",
      " |  buffer_info() -- return information giving the current memory info\n",
      " |  byteswap() -- byteswap all the items of the array\n",
      " |  count() -- return number of occurrences of an object\n",
      " |  extend() -- extend array by appending multiple elements from an iterable\n",
      " |  fromfile() -- read items from a file object\n",
      " |  fromlist() -- append items from the list\n",
      " |  frombytes() -- append items from the string\n",
      " |  index() -- return index of first occurrence of an object\n",
      " |  insert() -- insert a new item into the array at a provided position\n",
      " |  pop() -- remove and return item (default last)\n",
      " |  remove() -- remove first occurrence of an object\n",
      " |  reverse() -- reverse the order of the items in the array\n",
      " |  tofile() -- write all items to a file object\n",
      " |  tolist() -- return the array converted to an ordinary list\n",
      " |  tobytes() -- return the array converted to a string\n",
      " |  \n",
      " |  Attributes:\n",
      " |  \n",
      " |  typecode -- the typecode character used to create the array\n",
      " |  itemsize -- the length in bytes of one array item\n",
      " |  \n",
      " |  Methods defined here:\n",
      " |  \n",
      " |  __add__(self, value, /)\n",
      " |      Return self+value.\n",
      " |  \n",
      " |  __contains__(self, key, /)\n",
      " |      Return key in self.\n",
      " |  \n",
      " |  __copy__(self, /)\n",
      " |      Return a copy of the array.\n",
      " |  \n",
      " |  __deepcopy__(self, unused, /)\n",
      " |      Return a copy of the array.\n",
      " |  \n",
      " |  __delitem__(self, key, /)\n",
      " |      Delete self[key].\n",
      " |  \n",
      " |  __eq__(self, value, /)\n",
      " |      Return self==value.\n",
      " |  \n",
      " |  __ge__(self, value, /)\n",
      " |      Return self>=value.\n",
      " |  \n",
      " |  __getattribute__(self, name, /)\n",
      " |      Return getattr(self, name).\n",
      " |  \n",
      " |  __getitem__(self, key, /)\n",
      " |      Return self[key].\n",
      " |  \n",
      " |  __gt__(self, value, /)\n",
      " |      Return self>value.\n",
      " |  \n",
      " |  __iadd__(self, value, /)\n",
      " |      Implement self+=value.\n",
      " |  \n",
      " |  __imul__(self, value, /)\n",
      " |      Implement self*=value.\n",
      " |  \n",
      " |  __iter__(self, /)\n",
      " |      Implement iter(self).\n",
      " |  \n",
      " |  __le__(self, value, /)\n",
      " |      Return self<=value.\n",
      " |  \n",
      " |  __len__(self, /)\n",
      " |      Return len(self).\n",
      " |  \n",
      " |  __lt__(self, value, /)\n",
      " |      Return self<value.\n",
      " |  \n",
      " |  __mul__(self, value, /)\n",
      " |      Return self*value.\n",
      " |  \n",
      " |  __ne__(self, value, /)\n",
      " |      Return self!=value.\n",
      " |  \n",
      " |  __reduce_ex__(self, value, /)\n",
      " |      Return state information for pickling.\n",
      " |  \n",
      " |  __repr__(self, /)\n",
      " |      Return repr(self).\n",
      " |  \n",
      " |  __rmul__(self, value, /)\n",
      " |      Return value*self.\n",
      " |  \n",
      " |  __setitem__(self, key, value, /)\n",
      " |      Set self[key] to value.\n",
      " |  \n",
      " |  __sizeof__(self, /)\n",
      " |      Size of the array in memory, in bytes.\n",
      " |  \n",
      " |  append(self, v, /)\n",
      " |      Append new value v to the end of the array.\n",
      " |  \n",
      " |  buffer_info(self, /)\n",
      " |      Return a tuple (address, length) giving the current memory address and the length in items of the buffer used to hold array's contents.\n",
      " |      \n",
      " |      The length should be multiplied by the itemsize attribute to calculate\n",
      " |      the buffer length in bytes.\n",
      " |  \n",
      " |  byteswap(self, /)\n",
      " |      Byteswap all items of the array.\n",
      " |      \n",
      " |      If the items in the array are not 1, 2, 4, or 8 bytes in size, RuntimeError is\n",
      " |      raised.\n",
      " |  \n",
      " |  count(self, v, /)\n",
      " |      Return number of occurrences of v in the array.\n",
      " |  \n",
      " |  extend(self, bb, /)\n",
      " |      Append items to the end of the array.\n",
      " |  \n",
      " |  frombytes(self, buffer, /)\n",
      " |      Appends items from the string, interpreting it as an array of machine values, as if it had been read from a file using the fromfile() method).\n",
      " |  \n",
      " |  fromfile(self, f, n, /)\n",
      " |      Read n objects from the file object f and append them to the end of the array.\n",
      " |  \n",
      " |  fromlist(self, list, /)\n",
      " |      Append items to array from list.\n",
      " |  \n",
      " |  fromunicode(self, ustr, /)\n",
      " |      Extends this array with data from the unicode string ustr.\n",
      " |      \n",
      " |      The array must be a unicode type array; otherwise a ValueError is raised.\n",
      " |      Use array.frombytes(ustr.encode(...)) to append Unicode data to an array of\n",
      " |      some other type.\n",
      " |  \n",
      " |  index(self, v, /)\n",
      " |      Return index of first occurrence of v in the array.\n",
      " |  \n",
      " |  insert(self, i, v, /)\n",
      " |      Insert a new item v into the array before position i.\n",
      " |  \n",
      " |  pop(self, i=-1, /)\n",
      " |      Return the i-th element and delete it from the array.\n",
      " |      \n",
      " |      i defaults to -1.\n",
      " |  \n",
      " |  remove(self, v, /)\n",
      " |      Remove the first occurrence of v in the array.\n",
      " |  \n",
      " |  reverse(self, /)\n",
      " |      Reverse the order of the items in the array.\n",
      " |  \n",
      " |  tobytes(self, /)\n",
      " |      Convert the array to an array of machine values and return the bytes representation.\n",
      " |  \n",
      " |  tofile(self, f, /)\n",
      " |      Write all items (as machine values) to the file object f.\n",
      " |  \n",
      " |  tolist(self, /)\n",
      " |      Convert array to an ordinary list with the same items.\n",
      " |  \n",
      " |  tounicode(self, /)\n",
      " |      Extends this array with data from the unicode string ustr.\n",
      " |      \n",
      " |      Convert the array to a unicode string.  The array must be a unicode type array;\n",
      " |      otherwise a ValueError is raised.  Use array.tobytes().decode() to obtain a\n",
      " |      unicode string from an array of some other type.\n",
      " |  \n",
      " |  ----------------------------------------------------------------------\n",
      " |  Static methods defined here:\n",
      " |  \n",
      " |  __new__(*args, **kwargs) from builtins.type\n",
      " |      Create and return a new object.  See help(type) for accurate signature.\n",
      " |  \n",
      " |  ----------------------------------------------------------------------\n",
      " |  Data descriptors defined here:\n",
      " |  \n",
      " |  itemsize\n",
      " |      the size, in bytes, of one array item\n",
      " |  \n",
      " |  typecode\n",
      " |      the typecode character used to create the array\n",
      " |  \n",
      " |  ----------------------------------------------------------------------\n",
      " |  Data and other attributes defined here:\n",
      " |  \n",
      " |  __hash__ = None\n",
      "\n"
     ]
    }
   ],
   "source": [
    "help(array.array) # documentation of array method"
   ]
  },
  {
   "cell_type": "code",
   "execution_count": 4,
   "id": "c75b48a2",
   "metadata": {},
   "outputs": [
    {
     "data": {
      "text/plain": [
       "['__add__',\n",
       " '__class__',\n",
       " '__contains__',\n",
       " '__copy__',\n",
       " '__deepcopy__',\n",
       " '__delattr__',\n",
       " '__delitem__',\n",
       " '__dir__',\n",
       " '__doc__',\n",
       " '__eq__',\n",
       " '__format__',\n",
       " '__ge__',\n",
       " '__getattribute__',\n",
       " '__getitem__',\n",
       " '__gt__',\n",
       " '__hash__',\n",
       " '__iadd__',\n",
       " '__imul__',\n",
       " '__init__',\n",
       " '__init_subclass__',\n",
       " '__iter__',\n",
       " '__le__',\n",
       " '__len__',\n",
       " '__lt__',\n",
       " '__mul__',\n",
       " '__ne__',\n",
       " '__new__',\n",
       " '__reduce__',\n",
       " '__reduce_ex__',\n",
       " '__repr__',\n",
       " '__rmul__',\n",
       " '__setattr__',\n",
       " '__setitem__',\n",
       " '__sizeof__',\n",
       " '__str__',\n",
       " '__subclasshook__',\n",
       " 'append',\n",
       " 'buffer_info',\n",
       " 'byteswap',\n",
       " 'count',\n",
       " 'extend',\n",
       " 'frombytes',\n",
       " 'fromfile',\n",
       " 'fromlist',\n",
       " 'fromunicode',\n",
       " 'index',\n",
       " 'insert',\n",
       " 'itemsize',\n",
       " 'pop',\n",
       " 'remove',\n",
       " 'reverse',\n",
       " 'tobytes',\n",
       " 'tofile',\n",
       " 'tolist',\n",
       " 'tounicode',\n",
       " 'typecode']"
      ]
     },
     "execution_count": 4,
     "metadata": {},
     "output_type": "execute_result"
    }
   ],
   "source": [
    "dir(array.array)"
   ]
  },
  {
   "cell_type": "code",
   "execution_count": 7,
   "id": "e58eeb1e",
   "metadata": {},
   "outputs": [
    {
     "name": "stdout",
     "output_type": "stream",
     "text": [
      "Help on built-in function isinstance in module builtins:\n",
      "\n",
      "isinstance(obj, class_or_tuple, /)\n",
      "    Return whether an object is an instance of a class or of a subclass thereof.\n",
      "    \n",
      "    A tuple, as in ``isinstance(x, (A, B, ...))``, may be given as the target to\n",
      "    check against. This is equivalent to ``isinstance(x, A) or isinstance(x, B)\n",
      "    or ...`` etc.\n",
      "\n"
     ]
    }
   ],
   "source": [
    "help(isinstance)"
   ]
  },
  {
   "cell_type": "code",
   "execution_count": 30,
   "id": "908d788a",
   "metadata": {},
   "outputs": [
    {
     "data": {
      "text/plain": [
       "(2329040874512, 4)"
      ]
     },
     "execution_count": 30,
     "metadata": {},
     "output_type": "execute_result"
    }
   ],
   "source": [
    "arr.buffer_info() # address and size"
   ]
  },
  {
   "cell_type": "code",
   "execution_count": 38,
   "id": "83a26ed9",
   "metadata": {},
   "outputs": [
    {
     "data": {
      "text/plain": [
       "'i'"
      ]
     },
     "execution_count": 38,
     "metadata": {},
     "output_type": "execute_result"
    }
   ],
   "source": [
    "arr.typecode # type"
   ]
  },
  {
   "cell_type": "code",
   "execution_count": 2,
   "id": "28a5be42",
   "metadata": {},
   "outputs": [
    {
     "data": {
      "text/plain": [
       "array('f', [3.0, 6.0, 9.0])"
      ]
     },
     "execution_count": 2,
     "metadata": {},
     "output_type": "execute_result"
    }
   ],
   "source": [
    "from array import *\n",
    "\n",
    "arr2=array('f',[3,6,9])\n",
    "arr2"
   ]
  },
  {
   "cell_type": "code",
   "execution_count": 3,
   "id": "e76eff42",
   "metadata": {},
   "outputs": [
    {
     "name": "stdout",
     "output_type": "stream",
     "text": [
      "array('i', [5, 9, 8, 4, 2])\n",
      "array('i', [5, 9, 8, 4, 2, 99])\n"
     ]
    }
   ],
   "source": [
    "vals=array('i',[5,9,8,4,2])\n",
    "print(vals)\n",
    "\n",
    "vals.append(99)\n",
    "print(vals)"
   ]
  },
  {
   "cell_type": "code",
   "execution_count": 4,
   "id": "f54f6815",
   "metadata": {},
   "outputs": [
    {
     "ename": "TypeError",
     "evalue": "integer argument expected, got float",
     "output_type": "error",
     "traceback": [
      "\u001b[1;31m---------------------------------------------------------------------------\u001b[0m",
      "\u001b[1;31mTypeError\u001b[0m                                 Traceback (most recent call last)",
      "\u001b[1;32mC:\\Users\\SAURAB~1\\AppData\\Local\\Temp/ipykernel_17284/2109643928.py\u001b[0m in \u001b[0;36m<module>\u001b[1;34m\u001b[0m\n\u001b[1;32m----> 1\u001b[1;33m \u001b[0mvals\u001b[0m\u001b[1;33m=\u001b[0m\u001b[0marray\u001b[0m\u001b[1;33m(\u001b[0m\u001b[1;34m'i'\u001b[0m\u001b[1;33m,\u001b[0m\u001b[1;33m[\u001b[0m\u001b[1;36m5\u001b[0m\u001b[1;33m,\u001b[0m\u001b[1;36m9\u001b[0m\u001b[1;33m,\u001b[0m\u001b[1;36m8.5\u001b[0m\u001b[1;33m,\u001b[0m\u001b[1;36m4\u001b[0m\u001b[1;33m,\u001b[0m\u001b[1;36m2\u001b[0m\u001b[1;33m]\u001b[0m\u001b[1;33m)\u001b[0m \u001b[1;31m# Error\u001b[0m\u001b[1;33m\u001b[0m\u001b[1;33m\u001b[0m\u001b[0m\n\u001b[0m\u001b[0;32m      2\u001b[0m \u001b[0mprint\u001b[0m\u001b[1;33m(\u001b[0m\u001b[0mvals\u001b[0m\u001b[1;33m)\u001b[0m\u001b[1;33m\u001b[0m\u001b[1;33m\u001b[0m\u001b[0m\n",
      "\u001b[1;31mTypeError\u001b[0m: integer argument expected, got float"
     ]
    }
   ],
   "source": [
    "vals=array('i',[5,9,8.5,4,2]) # Error\n",
    "print(vals)"
   ]
  },
  {
   "cell_type": "code",
   "execution_count": 5,
   "id": "918c65bc",
   "metadata": {},
   "outputs": [
    {
     "name": "stdout",
     "output_type": "stream",
     "text": [
      "array('i', [5, -9, 8, 4, 2])\n"
     ]
    }
   ],
   "source": [
    "vals=array('i',[5,-9,8,4,2]) \n",
    "print(vals)"
   ]
  },
  {
   "cell_type": "code",
   "execution_count": 6,
   "id": "eba0021f",
   "metadata": {},
   "outputs": [
    {
     "ename": "OverflowError",
     "evalue": "can't convert negative value to unsigned int",
     "output_type": "error",
     "traceback": [
      "\u001b[1;31m---------------------------------------------------------------------------\u001b[0m",
      "\u001b[1;31mOverflowError\u001b[0m                             Traceback (most recent call last)",
      "\u001b[1;32mC:\\Users\\SAURAB~1\\AppData\\Local\\Temp/ipykernel_17284/2747671862.py\u001b[0m in \u001b[0;36m<module>\u001b[1;34m\u001b[0m\n\u001b[1;32m----> 1\u001b[1;33m \u001b[0mvals\u001b[0m\u001b[1;33m=\u001b[0m\u001b[0marray\u001b[0m\u001b[1;33m(\u001b[0m\u001b[1;34m'I'\u001b[0m\u001b[1;33m,\u001b[0m\u001b[1;33m[\u001b[0m\u001b[1;36m5\u001b[0m\u001b[1;33m,\u001b[0m\u001b[1;33m-\u001b[0m\u001b[1;36m9\u001b[0m\u001b[1;33m,\u001b[0m\u001b[1;36m8\u001b[0m\u001b[1;33m,\u001b[0m\u001b[1;36m4\u001b[0m\u001b[1;33m,\u001b[0m\u001b[1;36m2\u001b[0m\u001b[1;33m]\u001b[0m\u001b[1;33m)\u001b[0m \u001b[1;31m# Error\u001b[0m\u001b[1;33m\u001b[0m\u001b[1;33m\u001b[0m\u001b[0m\n\u001b[0m\u001b[0;32m      2\u001b[0m \u001b[0mprint\u001b[0m\u001b[1;33m(\u001b[0m\u001b[0mvals\u001b[0m\u001b[1;33m)\u001b[0m\u001b[1;33m\u001b[0m\u001b[1;33m\u001b[0m\u001b[0m\n",
      "\u001b[1;31mOverflowError\u001b[0m: can't convert negative value to unsigned int"
     ]
    }
   ],
   "source": [
    "vals=array('I',[5,-9,8,4,2]) # Error\n",
    "print(vals)"
   ]
  },
  {
   "cell_type": "code",
   "execution_count": 7,
   "id": "e11692cd",
   "metadata": {},
   "outputs": [
    {
     "name": "stdout",
     "output_type": "stream",
     "text": [
      "array('i', [5, -9, 8, 4, 2])\n",
      "array('i', [2, 4, 8, -9, 5])\n"
     ]
    }
   ],
   "source": [
    "vals=array('i',[5,-9,8,4,2]) \n",
    "print(vals)\n",
    "\n",
    "vals.reverse()\n",
    "print(vals)"
   ]
  },
  {
   "cell_type": "code",
   "execution_count": 8,
   "id": "8d046c91",
   "metadata": {},
   "outputs": [
    {
     "name": "stdout",
     "output_type": "stream",
     "text": [
      "4\n",
      "999\n"
     ]
    }
   ],
   "source": [
    "# array is siliar to list so we can access it using index\n",
    "\n",
    "print(vals[1])\n",
    "\n",
    "vals[1]=999\n",
    "print(vals[1])"
   ]
  },
  {
   "cell_type": "code",
   "execution_count": 9,
   "id": "b6f8f650",
   "metadata": {},
   "outputs": [
    {
     "name": "stdout",
     "output_type": "stream",
     "text": [
      "2\n",
      "999\n",
      "8\n",
      "-9\n",
      "5\n"
     ]
    }
   ],
   "source": [
    "# for loop\n",
    "\n",
    "for i in vals:\n",
    "    print(i)"
   ]
  },
  {
   "cell_type": "code",
   "execution_count": 10,
   "id": "442b6db6",
   "metadata": {},
   "outputs": [
    {
     "name": "stdout",
     "output_type": "stream",
     "text": [
      "array('i', [2, 999, 8, -9, 5])\n"
     ]
    }
   ],
   "source": [
    "# copying array\n",
    "\n",
    "newVals=array(vals.typecode,(a for a in vals))\n",
    "\n",
    "print(newVals)"
   ]
  },
  {
   "cell_type": "code",
   "execution_count": 11,
   "id": "5a95f4dd",
   "metadata": {},
   "outputs": [
    {
     "name": "stdout",
     "output_type": "stream",
     "text": [
      "2\n",
      "999\n",
      "8\n",
      "-9\n",
      "5\n"
     ]
    }
   ],
   "source": [
    "# while loop\n",
    "\n",
    "i=0\n",
    "while i<len(newVals):\n",
    "    print(newVals[i])\n",
    "    i+=1"
   ]
  },
  {
   "cell_type": "code",
   "execution_count": 12,
   "id": "571f3fd9",
   "metadata": {},
   "outputs": [
    {
     "name": "stdout",
     "output_type": "stream",
     "text": [
      "2\n",
      "999\n",
      "8\n",
      "-9\n",
      "5\n"
     ]
    }
   ],
   "source": [
    "# for loop\n",
    "\n",
    "for i in newVals:\n",
    "    print(i)"
   ]
  },
  {
   "cell_type": "markdown",
   "id": "3388403d",
   "metadata": {},
   "source": [
    "## Array from user input"
   ]
  },
  {
   "cell_type": "code",
   "execution_count": 47,
   "id": "8f33e8e3",
   "metadata": {},
   "outputs": [
    {
     "name": "stdout",
     "output_type": "stream",
     "text": [
      "Enter size: 3\n",
      "Enter: element: 1\n",
      "Enter: element: 2\n",
      "Enter: element: 3\n",
      "array('i', [1, 2, 3])\n"
     ]
    }
   ],
   "source": [
    "from array import *\n",
    "\n",
    "arr=array('i',[])\n",
    "\n",
    "n=int(input(\"Enter size: \"))\n",
    "\n",
    "for i in range(n):\n",
    "    x=int(input(\"Enter element: \"))\n",
    "    arr.append(x)\n",
    "    \n",
    "print(arr)"
   ]
  },
  {
   "cell_type": "code",
   "execution_count": 48,
   "id": "479831fd",
   "metadata": {},
   "outputs": [
    {
     "name": "stdout",
     "output_type": "stream",
     "text": [
      "1\n"
     ]
    }
   ],
   "source": [
    "print(arr.index(2))"
   ]
  },
  {
   "cell_type": "markdown",
   "id": "308ed941",
   "metadata": {},
   "source": [
    "**Now we want ot work with multidimensional array**"
   ]
  },
  {
   "cell_type": "code",
   "execution_count": 50,
   "id": "ecacda82",
   "metadata": {},
   "outputs": [
    {
     "ename": "TypeError",
     "evalue": "array() takes at most 2 arguments (3 given)",
     "output_type": "error",
     "traceback": [
      "\u001b[1;31m---------------------------------------------------------------------------\u001b[0m",
      "\u001b[1;31mTypeError\u001b[0m                                 Traceback (most recent call last)",
      "\u001b[1;32mC:\\Users\\SAURAB~1\\AppData\\Local\\Temp/ipykernel_1056/2463374211.py\u001b[0m in \u001b[0;36m<module>\u001b[1;34m\u001b[0m\n\u001b[1;32m----> 1\u001b[1;33m \u001b[0mvals\u001b[0m\u001b[1;33m=\u001b[0m\u001b[0marray\u001b[0m\u001b[1;33m(\u001b[0m\u001b[1;34m'i'\u001b[0m\u001b[1;33m,\u001b[0m\u001b[1;33m[\u001b[0m\u001b[1;36m5\u001b[0m\u001b[1;33m,\u001b[0m\u001b[1;33m-\u001b[0m\u001b[1;36m9\u001b[0m\u001b[1;33m,\u001b[0m\u001b[1;36m8\u001b[0m\u001b[1;33m,\u001b[0m\u001b[1;36m4\u001b[0m\u001b[1;33m,\u001b[0m\u001b[1;36m2\u001b[0m\u001b[1;33m]\u001b[0m\u001b[1;33m,\u001b[0m\u001b[1;33m[\u001b[0m\u001b[1;36m5\u001b[0m\u001b[1;33m,\u001b[0m\u001b[1;33m-\u001b[0m\u001b[1;36m9\u001b[0m\u001b[1;33m,\u001b[0m\u001b[1;36m8\u001b[0m\u001b[1;33m,\u001b[0m\u001b[1;36m4\u001b[0m\u001b[1;33m,\u001b[0m\u001b[1;36m2\u001b[0m\u001b[1;33m]\u001b[0m\u001b[1;33m)\u001b[0m \u001b[1;31m# Error\u001b[0m\u001b[1;33m\u001b[0m\u001b[1;33m\u001b[0m\u001b[0m\n\u001b[0m\u001b[0;32m      2\u001b[0m \u001b[0mprint\u001b[0m\u001b[1;33m(\u001b[0m\u001b[0mvals\u001b[0m\u001b[1;33m)\u001b[0m\u001b[1;33m\u001b[0m\u001b[1;33m\u001b[0m\u001b[0m\n\u001b[0;32m      3\u001b[0m \u001b[1;33m\u001b[0m\u001b[0m\n\u001b[0;32m      4\u001b[0m \u001b[0mvals\u001b[0m\u001b[1;33m.\u001b[0m\u001b[0mreverse\u001b[0m\u001b[1;33m(\u001b[0m\u001b[1;33m)\u001b[0m\u001b[1;33m\u001b[0m\u001b[1;33m\u001b[0m\u001b[0m\n\u001b[0;32m      5\u001b[0m \u001b[0mprint\u001b[0m\u001b[1;33m(\u001b[0m\u001b[0mvals\u001b[0m\u001b[1;33m)\u001b[0m\u001b[1;33m\u001b[0m\u001b[1;33m\u001b[0m\u001b[0m\n",
      "\u001b[1;31mTypeError\u001b[0m: array() takes at most 2 arguments (3 given)"
     ]
    }
   ],
   "source": [
    "vals=array('i',[5,-9,8,4,2],[5,-9,8,4,2]) # Error\n",
    "print(vals)\n",
    "\n",
    "vals.reverse()\n",
    "print(vals)"
   ]
  },
  {
   "cell_type": "code",
   "execution_count": 51,
   "id": "0ac87131",
   "metadata": {},
   "outputs": [
    {
     "ename": "TypeError",
     "evalue": "an integer is required (got type list)",
     "output_type": "error",
     "traceback": [
      "\u001b[1;31m---------------------------------------------------------------------------\u001b[0m",
      "\u001b[1;31mTypeError\u001b[0m                                 Traceback (most recent call last)",
      "\u001b[1;32mC:\\Users\\SAURAB~1\\AppData\\Local\\Temp/ipykernel_1056/2776863849.py\u001b[0m in \u001b[0;36m<module>\u001b[1;34m\u001b[0m\n\u001b[1;32m----> 1\u001b[1;33m \u001b[0marr\u001b[0m\u001b[1;33m=\u001b[0m\u001b[0marray\u001b[0m\u001b[1;33m(\u001b[0m\u001b[1;34m'i'\u001b[0m\u001b[1;33m,\u001b[0m\u001b[1;33m[\u001b[0m\u001b[1;33m[\u001b[0m\u001b[1;36m1\u001b[0m\u001b[1;33m,\u001b[0m\u001b[1;36m2\u001b[0m\u001b[1;33m,\u001b[0m\u001b[1;36m3\u001b[0m\u001b[1;33m]\u001b[0m\u001b[1;33m,\u001b[0m\u001b[1;33m[\u001b[0m\u001b[1;36m4\u001b[0m\u001b[1;33m,\u001b[0m\u001b[1;36m5\u001b[0m\u001b[1;33m,\u001b[0m\u001b[1;36m6\u001b[0m\u001b[1;33m]\u001b[0m\u001b[1;33m]\u001b[0m\u001b[1;33m)\u001b[0m\u001b[1;33m\u001b[0m\u001b[1;33m\u001b[0m\u001b[0m\n\u001b[0m\u001b[0;32m      2\u001b[0m \u001b[0marr\u001b[0m\u001b[1;33m\u001b[0m\u001b[1;33m\u001b[0m\u001b[0m\n",
      "\u001b[1;31mTypeError\u001b[0m: an integer is required (got type list)"
     ]
    }
   ],
   "source": [
    "arr=array('i',[[1,2,3],[4,5,6]])\n",
    "arr"
   ]
  },
  {
   "cell_type": "markdown",
   "id": "f12de604",
   "metadata": {},
   "source": [
    "**In `array` package does not support multidimensional array. That's where we can use third party package that is  `NumPy`**. "
   ]
  },
  {
   "cell_type": "code",
   "execution_count": null,
   "id": "ec054e7a",
   "metadata": {},
   "outputs": [],
   "source": []
  },
  {
   "cell_type": "markdown",
   "id": "e11a8103",
   "metadata": {},
   "source": [
    "## NumPy"
   ]
  },
  {
   "cell_type": "code",
   "execution_count": 1,
   "id": "53887c80",
   "metadata": {},
   "outputs": [
    {
     "name": "stdout",
     "output_type": "stream",
     "text": [
      "[1 2 3 4]\n"
     ]
    }
   ],
   "source": [
    "import numpy as np\n",
    "\n",
    "a1=np.array([1,2,3,4])\n",
    "print(a1)"
   ]
  },
  {
   "cell_type": "code",
   "execution_count": 53,
   "id": "142bf484",
   "metadata": {},
   "outputs": [],
   "source": [
    "a1=np.array([1,2,3],int) # we can specify type as well"
   ]
  },
  {
   "cell_type": "code",
   "execution_count": 54,
   "id": "4b214f4a",
   "metadata": {},
   "outputs": [
    {
     "data": {
      "text/plain": [
       "array([1, 2, 3])"
      ]
     },
     "execution_count": 54,
     "metadata": {},
     "output_type": "execute_result"
    }
   ],
   "source": [
    "a1"
   ]
  },
  {
   "cell_type": "code",
   "execution_count": 26,
   "id": "ddaf5f60",
   "metadata": {},
   "outputs": [
    {
     "data": {
      "text/plain": [
       "dtype('int32')"
      ]
     },
     "execution_count": 26,
     "metadata": {},
     "output_type": "execute_result"
    }
   ],
   "source": [
    "a1.dtype"
   ]
  },
  {
   "cell_type": "code",
   "execution_count": 2,
   "id": "00121531",
   "metadata": {},
   "outputs": [
    {
     "data": {
      "text/plain": [
       "array([ 0.  ,  3.75,  7.5 , 11.25, 15.  ])"
      ]
     },
     "execution_count": 2,
     "metadata": {},
     "output_type": "execute_result"
    }
   ],
   "source": [
    "# linsapce(start, stop, parts)\n",
    "# here stop include\n",
    "\n",
    "arr=np.linspace(0,15,5)\n",
    "arr"
   ]
  },
  {
   "cell_type": "code",
   "execution_count": 61,
   "id": "ffc5f9c8",
   "metadata": {},
   "outputs": [
    {
     "data": {
      "text/plain": [
       "array([ 0.        ,  0.32653061,  0.65306122,  0.97959184,  1.30612245,\n",
       "        1.63265306,  1.95918367,  2.28571429,  2.6122449 ,  2.93877551,\n",
       "        3.26530612,  3.59183673,  3.91836735,  4.24489796,  4.57142857,\n",
       "        4.89795918,  5.2244898 ,  5.55102041,  5.87755102,  6.20408163,\n",
       "        6.53061224,  6.85714286,  7.18367347,  7.51020408,  7.83673469,\n",
       "        8.16326531,  8.48979592,  8.81632653,  9.14285714,  9.46938776,\n",
       "        9.79591837, 10.12244898, 10.44897959, 10.7755102 , 11.10204082,\n",
       "       11.42857143, 11.75510204, 12.08163265, 12.40816327, 12.73469388,\n",
       "       13.06122449, 13.3877551 , 13.71428571, 14.04081633, 14.36734694,\n",
       "       14.69387755, 15.02040816, 15.34693878, 15.67346939, 16.        ])"
      ]
     },
     "execution_count": 61,
     "metadata": {},
     "output_type": "execute_result"
    }
   ],
   "source": [
    "# logsapce(start, stop, parts)\n",
    "# here stop include\n",
    "\n",
    "arr=np.linspace(0,16) # by default parts is 50\n",
    "arr"
   ]
  },
  {
   "cell_type": "code",
   "execution_count": 62,
   "id": "f0d9c269",
   "metadata": {},
   "outputs": [
    {
     "data": {
      "text/plain": [
       "array([ 0,  6, 12])"
      ]
     },
     "execution_count": 62,
     "metadata": {},
     "output_type": "execute_result"
    }
   ],
   "source": [
    "# arange(start, stop, step)\n",
    "\n",
    "arr=np.arange(0,16,6)\n",
    "arr"
   ]
  },
  {
   "cell_type": "code",
   "execution_count": 63,
   "id": "1c89aba3",
   "metadata": {},
   "outputs": [
    {
     "data": {
      "text/plain": [
       "array([1.00000000e+01, 5.62341325e+10, 3.16227766e+20, 1.77827941e+30,\n",
       "       1.00000000e+40])"
      ]
     },
     "execution_count": 63,
     "metadata": {},
     "output_type": "execute_result"
    }
   ],
   "source": [
    "# logspace(start, stop)\n",
    "\n",
    "arr=np.logspace(1,40,5)\n",
    "arr"
   ]
  },
  {
   "cell_type": "code",
   "execution_count": 66,
   "id": "4cb47d85",
   "metadata": {},
   "outputs": [
    {
     "name": "stdout",
     "output_type": "stream",
     "text": [
      "10.00\n",
      "56234132519.03\n",
      "316227766016837943296.00\n",
      "1778279410038922838185969975296.00\n",
      "10000000000000000303786028427003666890752.00\n"
     ]
    }
   ],
   "source": [
    "for i in arr:\n",
    "    print('%.2f'%i)"
   ]
  },
  {
   "cell_type": "code",
   "execution_count": 64,
   "id": "1ad3f395",
   "metadata": {},
   "outputs": [
    {
     "data": {
      "text/plain": [
       "array([0., 0., 0., 0.])"
      ]
     },
     "execution_count": 64,
     "metadata": {},
     "output_type": "execute_result"
    }
   ],
   "source": [
    "# xeros()\n",
    "\n",
    "a=np.zeros(4)\n",
    "a"
   ]
  },
  {
   "cell_type": "code",
   "execution_count": 36,
   "id": "e7c38292",
   "metadata": {},
   "outputs": [
    {
     "data": {
      "text/plain": [
       "array([1, 1, 1, 1])"
      ]
     },
     "execution_count": 36,
     "metadata": {},
     "output_type": "execute_result"
    }
   ],
   "source": [
    "# ones()\n",
    "a2=np.ones(4,int)\n",
    "a2"
   ]
  },
  {
   "cell_type": "code",
   "execution_count": 42,
   "id": "02c1ae2a",
   "metadata": {},
   "outputs": [
    {
     "name": "stdout",
     "output_type": "stream",
     "text": [
      "[1 2 3 4 5 6]\n"
     ]
    }
   ],
   "source": [
    "ar1=np.array([1,2,3])\n",
    "ar2=np.array([4,5,6])\n",
    "\n",
    "print(np.concatenate([ar1,ar2]))"
   ]
  },
  {
   "cell_type": "code",
   "execution_count": 43,
   "id": "ffe3bcac",
   "metadata": {},
   "outputs": [
    {
     "name": "stdout",
     "output_type": "stream",
     "text": [
      "2092751724048\n",
      "2092751723472\n"
     ]
    }
   ],
   "source": [
    "print(id(ar1))\n",
    "print(id(ar2))"
   ]
  },
  {
   "cell_type": "code",
   "execution_count": 45,
   "id": "7f58757b",
   "metadata": {},
   "outputs": [
    {
     "name": "stdout",
     "output_type": "stream",
     "text": [
      "2092751724240\n"
     ]
    }
   ],
   "source": [
    "ar3=ar1.view()\n",
    "print(id(ar3))"
   ]
  },
  {
   "cell_type": "code",
   "execution_count": 46,
   "id": "2bc2b65c",
   "metadata": {},
   "outputs": [],
   "source": [
    "ar1=np.array([1,2,3])\n",
    "ar1[1]=9"
   ]
  },
  {
   "cell_type": "code",
   "execution_count": 47,
   "id": "a1de1fb3",
   "metadata": {},
   "outputs": [
    {
     "data": {
      "text/plain": [
       "array([ 1, 23,  4])"
      ]
     },
     "execution_count": 47,
     "metadata": {},
     "output_type": "execute_result"
    }
   ],
   "source": [
    "from numpy import *\n",
    "w=array([1,23,4])\n",
    "w"
   ]
  },
  {
   "cell_type": "code",
   "execution_count": null,
   "id": "07021212",
   "metadata": {},
   "outputs": [],
   "source": []
  },
  {
   "cell_type": "markdown",
   "id": "0b7df0b3",
   "metadata": {},
   "source": [
    "### What is difference between `np.array` and `array.array` ?\n",
    "\n",
    "The main difference between `np.array` and `array.array` is that `np.array` is a function provided by the `NumPy library`, whereas `array.array` is a built-in module in Python.\n",
    "\n",
    "`np.array` creates a NumPy `ndarray object`, which is a multi-dimensional array that can hold elements of any data type. NumPy arrays are designed for scientific computing and numerical operations, and provide a wide range of built-in functions for performing operations on arrays, such as mathematical and logical operations, linear algebra, Fourier transforms, and more. NumPy arrays are also much faster and more memory-efficient than regular Python lists or arrays.\n",
    "\n",
    "`array.array`, on the other hand, creates an `array object` that can only hold elements of a specific data type, such as integers, floats, or bytes. It is primarily used for working with simple, one-dimensional arrays and is generally not as efficient or flexible as NumPy arrays. However, since it is a built-in module, it does not require any external dependencies and can be used out of the box with Python.\n",
    "\n",
    "Here's an example that illustrates the difference between `np.array` and `array.array` :-"
   ]
  },
  {
   "cell_type": "code",
   "execution_count": 1,
   "id": "9f530b26",
   "metadata": {},
   "outputs": [
    {
     "name": "stdout",
     "output_type": "stream",
     "text": [
      "NumPy array: [2 4 6 8]\n",
      "Regular array: [2, 4, 6, 8]\n"
     ]
    }
   ],
   "source": [
    "import numpy as np\n",
    "import array\n",
    "\n",
    "# Creating a NumPy array and an array.array object\n",
    "my_numpy_array = np.array([1, 2, 3, 4])\n",
    "my_regular_array = array.array('i', [1, 2, 3, 4])\n",
    "\n",
    "# Performing an element-wise multiplication\n",
    "result_numpy = my_numpy_array * 2\n",
    "result_regular = [x * 2 for x in my_regular_array]\n",
    "\n",
    "print(\"NumPy array:\", result_numpy)      # Output: [2 4 6 8]\n",
    "print(\"Regular array:\", result_regular)  # Output: [2, 4, 6, 8]"
   ]
  },
  {
   "cell_type": "code",
   "execution_count": null,
   "id": "02c26083",
   "metadata": {},
   "outputs": [],
   "source": []
  },
  {
   "cell_type": "markdown",
   "id": "27880898",
   "metadata": {},
   "source": [
    "### What is difference between list and array ?\n",
    "\n",
    "There are several differences between a `NumPy array` and a `Python list` :\n",
    "\n",
    "**Data type:** A NumPy array can contain only elements of a single data type, while a Python list can contain elements of different data types.\n",
    "\n",
    "**Memory allocation:** A NumPy array is allocated in a contiguous block of memory, while a Python list is a collection of pointers to objects in memory.\n",
    "\n",
    "**Performance:** NumPy arrays are optimized for numerical operations and are much faster and more efficient than Python lists for numerical operations.\n",
    "\n",
    "**Size and shape:** NumPy arrays have a fixed size and shape, while Python lists can be resized and reshaped dynamically.\n",
    "\n",
    "**Operations:** NumPy arrays support a wide range of mathematical and logical operations such as matrix multiplication, element-wise addition, etc. which are not available with Python lists.\n",
    "\n",
    "**Indexing:** NumPy arrays support advanced indexing operations such as slicing, boolean indexing, and fancy indexing, which are not available with Python lists.\n",
    "\n",
    "Here is an example that illustrates some of these differences:"
   ]
  },
  {
   "cell_type": "code",
   "execution_count": 2,
   "id": "ac36c26e",
   "metadata": {},
   "outputs": [
    {
     "name": "stdout",
     "output_type": "stream",
     "text": [
      "NumPy array: [1 2 3 4 5 5]\n",
      "Python list: [1, 2, 3, 4, 5]\n",
      "NumPy array after addition: [2 3 4 5 6 6]\n",
      "Python list after addition: [2, 3, 4, 5, 6]\n",
      "Reshaped NumPy array: [[1 2 3]\n",
      " [4 5 5]]\n",
      "Reshaped Python list: [[1, 2], [3]]\n",
      "NumPy array slice: [2 3]\n",
      "Python list slice: [2, 3]\n"
     ]
    }
   ],
   "source": [
    "import numpy as np\n",
    "\n",
    "# Creating a NumPy array and a Python list\n",
    "my_array = np.array([1, 2, 3, 4, 5])\n",
    "my_list = [1, 2, 3, 4]\n",
    "\n",
    "# Adding an element to the NumPy array and Python list\n",
    "my_array = np.append(my_array, 5)\n",
    "my_list.append(5)\n",
    "\n",
    "print(\"NumPy array:\", my_array)   # Output: [1 2 3 4 5 5]\n",
    "print(\"Python list:\", my_list)    # Output: [1, 2, 3, 4, 5]\n",
    "\n",
    "# Performing element-wise addition on the NumPy array and Python list\n",
    "result_array = my_array + 1\n",
    "result_list = [x + 1 for x in my_list]\n",
    "\n",
    "print(\"NumPy array after addition:\", result_array)   # Output: [2 3 4 5 6]\n",
    "print(\"Python list after addition:\", result_list)    # Output: [2, 3, 4, 5, 6]\n",
    "\n",
    "# Reshaping the NumPy array and Python list\n",
    "reshaped_array = my_array.reshape(2, 3)\n",
    "my_list.pop()\n",
    "my_list.pop()\n",
    "reshaped_list = [my_list[:2], my_list[2:]]\n",
    "\n",
    "print(\"Reshaped NumPy array:\", reshaped_array)   # Output: [[1 2 3], [4 5 5]]\n",
    "print(\"Reshaped Python list:\", reshaped_list)    # Output: [[1, 2], [3, 4, 5]]\n",
    "\n",
    "# Indexing the NumPy array and Python list\n",
    "print(\"NumPy array slice:\", my_array[1:3])   # Output: [2 3]\n",
    "print(\"Python list slice:\", my_list[1:3])    # Output: [2, 3]"
   ]
  },
  {
   "cell_type": "code",
   "execution_count": null,
   "id": "f6a8d932",
   "metadata": {},
   "outputs": [],
   "source": []
  },
  {
   "cell_type": "markdown",
   "id": "e151dd2a",
   "metadata": {},
   "source": [
    "## copying array"
   ]
  },
  {
   "cell_type": "code",
   "execution_count": 69,
   "id": "06efb489",
   "metadata": {},
   "outputs": [],
   "source": [
    "from numpy import *"
   ]
  },
  {
   "cell_type": "code",
   "execution_count": 90,
   "id": "65e62990",
   "metadata": {},
   "outputs": [],
   "source": [
    "arr=array([1,2,8,4,5])"
   ]
  },
  {
   "cell_type": "code",
   "execution_count": 91,
   "id": "b74072d4",
   "metadata": {},
   "outputs": [
    {
     "data": {
      "text/plain": [
       "array([ 6,  7, 13,  9, 10])"
      ]
     },
     "execution_count": 91,
     "metadata": {},
     "output_type": "execute_result"
    }
   ],
   "source": [
    "arr=arr+5\n",
    "arr"
   ]
  },
  {
   "cell_type": "code",
   "execution_count": 92,
   "id": "09900e9d",
   "metadata": {},
   "outputs": [
    {
     "data": {
      "text/plain": [
       "array([ 2,  4,  6,  8, 10])"
      ]
     },
     "execution_count": 92,
     "metadata": {},
     "output_type": "execute_result"
    }
   ],
   "source": [
    "arr1=array([1,2,3,4,5])\n",
    "arr2=array([1,2,3,4,5])\n",
    "\n",
    "arr3=arr1+arr2\n",
    "arr3"
   ]
  },
  {
   "cell_type": "code",
   "execution_count": 93,
   "id": "ee83f7e1",
   "metadata": {},
   "outputs": [
    {
     "name": "stdout",
     "output_type": "stream",
     "text": [
      "[1.79175947 1.94591015 2.56494936 2.19722458 2.30258509]\n"
     ]
    }
   ],
   "source": [
    "print(log(arr))"
   ]
  },
  {
   "cell_type": "code",
   "execution_count": 94,
   "id": "f69cada3",
   "metadata": {},
   "outputs": [
    {
     "name": "stdout",
     "output_type": "stream",
     "text": [
      "[2.44948974 2.64575131 3.60555128 3.         3.16227766]\n"
     ]
    }
   ],
   "source": [
    "print(sqrt(arr))"
   ]
  },
  {
   "cell_type": "code",
   "execution_count": 95,
   "id": "94247aee",
   "metadata": {},
   "outputs": [
    {
     "name": "stdout",
     "output_type": "stream",
     "text": [
      "45\n"
     ]
    }
   ],
   "source": [
    "print(sum(arr))"
   ]
  },
  {
   "cell_type": "code",
   "execution_count": 96,
   "id": "3706e4bb",
   "metadata": {},
   "outputs": [
    {
     "name": "stdout",
     "output_type": "stream",
     "text": [
      "6\n",
      "13\n"
     ]
    }
   ],
   "source": [
    "print(min(arr))\n",
    "print(max(arr))"
   ]
  },
  {
   "cell_type": "code",
   "execution_count": 97,
   "id": "223a0a8d",
   "metadata": {},
   "outputs": [
    {
     "name": "stdout",
     "output_type": "stream",
     "text": [
      "[ 2  4  5  7 11]\n"
     ]
    }
   ],
   "source": [
    "arr=[7,2,4,5,11]\n",
    "\n",
    "sortArr=sort(arr) # return sorted array\n",
    "\n",
    "print(sortArr)"
   ]
  },
  {
   "cell_type": "code",
   "execution_count": 98,
   "id": "10876f57",
   "metadata": {},
   "outputs": [
    {
     "name": "stdout",
     "output_type": "stream",
     "text": [
      "[7, 2, 4, 5, 11]\n",
      "[2, 4, 5, 7, 11]\n"
     ]
    }
   ],
   "source": [
    "# If you want to sort the original array in place, you can use the sort() method:\n",
    "\n",
    "print(arr)\n",
    "\n",
    "arr.sort() # inpace sort\n",
    "\n",
    "print(arr)"
   ]
  },
  {
   "cell_type": "code",
   "execution_count": 100,
   "id": "c62cc224",
   "metadata": {},
   "outputs": [
    {
     "data": {
      "text/plain": [
       "array([9, 6, 5, 5, 5, 4, 3, 3, 2, 1, 1])"
      ]
     },
     "execution_count": 100,
     "metadata": {},
     "output_type": "execute_result"
    }
   ],
   "source": [
    "import numpy as np\n",
    "\n",
    "arr = np.array([3, 1, 4, 1, 5, 9, 2, 6, 5, 3, 5])\n",
    "\n",
    "# Sort the array in descending order\n",
    "sorted_arr_descending = np.sort(arr, kind='quicksort')[::-1]\n",
    "sorted_arr_descending"
   ]
  },
  {
   "cell_type": "code",
   "execution_count": 101,
   "id": "87d88164",
   "metadata": {},
   "outputs": [
    {
     "name": "stdout",
     "output_type": "stream",
     "text": [
      "[3 1 4 1 5 9 2 6 5 3 5]\n",
      "[3 1 4 1 5 9 2 6 5 3 5]\n"
     ]
    }
   ],
   "source": [
    "# copying array\n",
    "\n",
    "arrCopy=arr\n",
    "\n",
    "print(arr)\n",
    "print(arrCopy)"
   ]
  },
  {
   "cell_type": "code",
   "execution_count": 102,
   "id": "57a0ad49",
   "metadata": {},
   "outputs": [
    {
     "name": "stdout",
     "output_type": "stream",
     "text": [
      "2329304028624\n",
      "2329304028624\n"
     ]
    }
   ],
   "source": [
    "print(id(arr))\n",
    "print(id(arrCopy))"
   ]
  },
  {
   "cell_type": "code",
   "execution_count": 103,
   "id": "4ba217a0",
   "metadata": {},
   "outputs": [
    {
     "name": "stdout",
     "output_type": "stream",
     "text": [
      "[3 1 4 1 5 9 2 6 5 3 5]\n",
      "[3 1 4 1 5 9 2 6 5 3 5]\n"
     ]
    }
   ],
   "source": [
    "# create different array\n",
    "\n",
    "arrCopy=arr.view()\n",
    "\n",
    "print(arr)\n",
    "print(arrCopy)"
   ]
  },
  {
   "cell_type": "code",
   "execution_count": 104,
   "id": "01c29078",
   "metadata": {},
   "outputs": [
    {
     "name": "stdout",
     "output_type": "stream",
     "text": [
      "2329304028624\n",
      "2329303994416\n"
     ]
    }
   ],
   "source": [
    "print(id(arr))\n",
    "print(id(arrCopy))"
   ]
  },
  {
   "cell_type": "markdown",
   "id": "4f055342",
   "metadata": {},
   "source": [
    "We got two address here that means we have two array in memory that we have two different variables at two different location.\n",
    "\n",
    "But there is one little problem here.\n",
    "\n",
    "When we talk about copy we two differnt types of copy:\n",
    "\n",
    "1. **Shallow copy:** A shallow copy creates a new object but does not create new copies of the elements within the object. Instead, it creates references to the original elements. In other words, a shallow copy points to the same memory locations as the original object. Changes made to the elements within the shallow copy will affect the original object and vice versa.\n",
    "\n",
    "2. **Deep copy:** A deep copy creates a new object and recursively creates new copies of all the elements within the object, including nested objects. As a result, a deep copy is independent of the original object, and changes made to the elements within the deep copy do not affect the original object, and vice versa."
   ]
  },
  {
   "cell_type": "code",
   "execution_count": 112,
   "id": "b07d0e17",
   "metadata": {},
   "outputs": [
    {
     "name": "stdout",
     "output_type": "stream",
     "text": [
      "2329304029008\n",
      "2329304029104\n",
      "[  1   2 999   4]\n",
      "[  1   2 999   4]\n",
      "2329304029008\n",
      "2329304029104\n"
     ]
    }
   ],
   "source": [
    "# create shallow copy\n",
    "\n",
    "arr11=array([1,2,3,4])\n",
    "\n",
    "arrCopy1=arr11.view()\n",
    "\n",
    "print(id(arr11))\n",
    "print(id(arrCopy1))\n",
    "\n",
    "arrCopy1[2]=999\n",
    "\n",
    "print(arr11)\n",
    "print(arrCopy1)\n",
    "\n",
    "print(id(arr11))\n",
    "print(id(arrCopy1))"
   ]
  },
  {
   "cell_type": "code",
   "execution_count": 114,
   "id": "86e9dce1",
   "metadata": {},
   "outputs": [
    {
     "name": "stdout",
     "output_type": "stream",
     "text": [
      "2329304027472\n",
      "2329304027376\n",
      "[1 2 3 4]\n",
      "[  1   2 999   4]\n",
      "2329304027472\n",
      "2329303903952\n"
     ]
    }
   ],
   "source": [
    "# create deep copy\n",
    "\n",
    "arr12=array([1,2,3,4])\n",
    "\n",
    "arrCopy2=arr12.copy()\n",
    "\n",
    "print(id(arr12))\n",
    "print(id(arrCopy))\n",
    "\n",
    "arrCopy2[2]=999\n",
    "\n",
    "print(arr12)\n",
    "print(arrCopy1)\n",
    "\n",
    "print(id(arr12))\n",
    "print(id(arrCopy2))"
   ]
  },
  {
   "cell_type": "markdown",
   "id": "2fdeaebf",
   "metadata": {},
   "source": [
    "# Regular Expression\n",
    "\n",
    "https://docs.python.org/3/howto/regex.html\n",
    "\n",
    "https://docs.python.org/3/library/re.html"
   ]
  },
  {
   "cell_type": "code",
   "execution_count": 1,
   "id": "f698b00b",
   "metadata": {},
   "outputs": [
    {
     "name": "stdout",
     "output_type": "stream",
     "text": [
      "<re.Match object; span=(2, 5), match='aza'>\n"
     ]
    }
   ],
   "source": [
    "import re\n",
    "result=re.search(r'aza','plaza')\n",
    "print(result)"
   ]
  },
  {
   "cell_type": "markdown",
   "id": "40df50dc",
   "metadata": {},
   "source": [
    "**Remark:** Always use raw strings for regular string in Python"
   ]
  },
  {
   "cell_type": "code",
   "execution_count": 2,
   "id": "2eab9452",
   "metadata": {},
   "outputs": [
    {
     "name": "stdout",
     "output_type": "stream",
     "text": [
      "<re.Match object; span=(1, 4), match='aza'>\n"
     ]
    }
   ],
   "source": [
    "result=re.search(r'aza','bazaar')\n",
    "print(result)"
   ]
  },
  {
   "cell_type": "code",
   "execution_count": 3,
   "id": "92d1bdde",
   "metadata": {},
   "outputs": [
    {
     "name": "stdout",
     "output_type": "stream",
     "text": [
      "None\n"
     ]
    }
   ],
   "source": [
    "result=re.search(r'aza','fresh')\n",
    "print(result)"
   ]
  },
  {
   "cell_type": "code",
   "execution_count": 4,
   "id": "84b7e77f",
   "metadata": {},
   "outputs": [
    {
     "name": "stdout",
     "output_type": "stream",
     "text": [
      "<re.Match object; span=(0, 1), match='x'>\n"
     ]
    }
   ],
   "source": [
    "# ^ Starts with\n",
    "\n",
    "print(re.search(r\"^x\", \"xenon\"))"
   ]
  },
  {
   "cell_type": "code",
   "execution_count": 45,
   "id": "9688b080",
   "metadata": {},
   "outputs": [
    {
     "name": "stdout",
     "output_type": "stream",
     "text": [
      "<re.Match object; span=(0, 4), match='peng'>\n"
     ]
    }
   ],
   "source": [
    "# . Any character (except newline character)\n",
    "\n",
    "print(re.search(r\"p.ng\", \"penguin\"))"
   ]
  },
  {
   "cell_type": "code",
   "execution_count": 6,
   "id": "0d4e1630",
   "metadata": {},
   "outputs": [
    {
     "name": "stdout",
     "output_type": "stream",
     "text": [
      "<re.Match object; span=(4, 8), match='ping'>\n"
     ]
    }
   ],
   "source": [
    "print(re.search(r\"p.ng\", \"clapping\"))"
   ]
  },
  {
   "cell_type": "code",
   "execution_count": 7,
   "id": "600f8f79",
   "metadata": {},
   "outputs": [
    {
     "name": "stdout",
     "output_type": "stream",
     "text": [
      "<re.Match object; span=(1, 5), match='pong'>\n"
     ]
    }
   ],
   "source": [
    "print(re.search(r\"p.ng\", \"sponge\"))"
   ]
  },
  {
   "cell_type": "code",
   "execution_count": 8,
   "id": "8b27bc47",
   "metadata": {},
   "outputs": [
    {
     "name": "stdout",
     "output_type": "stream",
     "text": [
      "<re.Match object; span=(0, 4), match='Pang'>\n"
     ]
    }
   ],
   "source": [
    "print(re.search(r\"p.ng\", \"Pangeea\", re.IGNORECASE)) # ignore the case of string"
   ]
  },
  {
   "cell_type": "code",
   "execution_count": 46,
   "id": "29946a79",
   "metadata": {},
   "outputs": [
    {
     "name": "stdout",
     "output_type": "stream",
     "text": [
      "<re.Match object; span=(8, 14), match='planet'>\n"
     ]
    }
   ],
   "source": [
    "# $ Ends with\n",
    "\n",
    "print(re.search(r\"planet$\", \"this is planet\"))"
   ]
  },
  {
   "cell_type": "code",
   "execution_count": 49,
   "id": "6e8e9081",
   "metadata": {},
   "outputs": [
    {
     "name": "stdout",
     "output_type": "stream",
     "text": [
      "<re.Match object; span=(0, 8), match='hello wo'>\n"
     ]
    }
   ],
   "source": [
    "# * Zero or more occurrences\n",
    "\n",
    "print(re.search(r\"h.*o\", \"hello world\"))"
   ]
  },
  {
   "cell_type": "code",
   "execution_count": 51,
   "id": "9a0e7b17",
   "metadata": {},
   "outputs": [
    {
     "name": "stdout",
     "output_type": "stream",
     "text": [
      "<re.Match object; span=(0, 5), match='hello'>\n"
     ]
    }
   ],
   "source": [
    "# + One or more occurrences\n",
    "\n",
    "print(re.search(r\"h.+o\", \"hello\"))"
   ]
  },
  {
   "cell_type": "code",
   "execution_count": 52,
   "id": "35b23e3e",
   "metadata": {},
   "outputs": [
    {
     "name": "stdout",
     "output_type": "stream",
     "text": [
      "None\n"
     ]
    }
   ],
   "source": [
    "print(re.search(r\"h.+o\", \"hell\"))"
   ]
  },
  {
   "cell_type": "code",
   "execution_count": 55,
   "id": "a0d4ba08",
   "metadata": {
    "scrolled": true
   },
   "outputs": [
    {
     "name": "stdout",
     "output_type": "stream",
     "text": [
      "<re.Match object; span=(0, 3), match='heo'>\n"
     ]
    }
   ],
   "source": [
    "# ? Zero or one occurrences\n",
    "\n",
    "print(re.search(r\"h.?o\", \"heo\"))"
   ]
  },
  {
   "cell_type": "code",
   "execution_count": 56,
   "id": "9e60c9dc",
   "metadata": {},
   "outputs": [
    {
     "name": "stdout",
     "output_type": "stream",
     "text": [
      "<re.Match object; span=(0, 5), match='hello'>\n"
     ]
    }
   ],
   "source": [
    "# {} Exactly the specified number of occurrences\n",
    "\n",
    "print(re.search(r\"he.{2}o\", \"hello\"))"
   ]
  },
  {
   "cell_type": "code",
   "execution_count": 57,
   "id": "3a2c788f",
   "metadata": {},
   "outputs": [
    {
     "name": "stdout",
     "output_type": "stream",
     "text": [
      "None\n"
     ]
    }
   ],
   "source": [
    "print(re.search(r\"he.{2}o\", \"helllo\"))"
   ]
  },
  {
   "cell_type": "markdown",
   "id": "726b97d9",
   "metadata": {},
   "source": [
    "## Wild cards and Character class\n",
    "\n",
    "Using a dot is the broadest possible wildcard because it matches absolutely any character. But what if we wanted something stricter, like checking if an answer given by a user contains a valid character, or finding all the usernames in a CSV file that start with a vowel? \n",
    "\n",
    "We have to restrict our wildcards to a range of characters to do this. For this task we use another feature of regexes called character classes. \n",
    "\n",
    "Character classes are written inside square brackets and let us list the characters we want to match inside of those brackets. For example,"
   ]
  },
  {
   "cell_type": "code",
   "execution_count": 9,
   "id": "2c021b7d",
   "metadata": {},
   "outputs": [
    {
     "name": "stdout",
     "output_type": "stream",
     "text": [
      "<re.Match object; span=(0, 6), match='Python'>\n"
     ]
    }
   ],
   "source": [
    "print(re.search(r\"[Pp]ython\", \"Python\"))"
   ]
  },
  {
   "cell_type": "code",
   "execution_count": 10,
   "id": "750947a2",
   "metadata": {},
   "outputs": [
    {
     "name": "stdout",
     "output_type": "stream",
     "text": [
      "<re.Match object; span=(18, 22), match='hway'>\n"
     ]
    }
   ],
   "source": [
    "print(re.search(r\"[a-z]way\", \"The end of the highway\"))"
   ]
  },
  {
   "cell_type": "code",
   "execution_count": 11,
   "id": "ac72c550",
   "metadata": {},
   "outputs": [
    {
     "name": "stdout",
     "output_type": "stream",
     "text": [
      "None\n"
     ]
    }
   ],
   "source": [
    "print(re.search(r\"[a-z]way\", \"What a way to go\"))"
   ]
  },
  {
   "cell_type": "code",
   "execution_count": 12,
   "id": "169d606d",
   "metadata": {},
   "outputs": [
    {
     "name": "stdout",
     "output_type": "stream",
     "text": [
      "<re.Match object; span=(0, 6), match='cloudy'>\n"
     ]
    }
   ],
   "source": [
    "print(re.search(r\"cloud[a-zA-Z0-9]\", \"cloudy\"))"
   ]
  },
  {
   "cell_type": "code",
   "execution_count": 13,
   "id": "66183e23",
   "metadata": {},
   "outputs": [
    {
     "name": "stdout",
     "output_type": "stream",
     "text": [
      "<re.Match object; span=(0, 6), match='cloud9'>\n"
     ]
    }
   ],
   "source": [
    "print(re.search(r\"cloud[a-zA-Z0-9]\", \"cloud9\"))"
   ]
  },
  {
   "cell_type": "markdown",
   "id": "fdd52d69",
   "metadata": {},
   "source": [
    "Sometimes we may want to match any characters that aren't in a group. To do that, we use a circumflex(`^`) inside the square brackets. For example, let's create a search pattern that looks for any characters that's not a letter."
   ]
  },
  {
   "cell_type": "code",
   "execution_count": 14,
   "id": "89540f36",
   "metadata": {},
   "outputs": [
    {
     "name": "stdout",
     "output_type": "stream",
     "text": [
      "<re.Match object; span=(4, 5), match=' '>\n"
     ]
    }
   ],
   "source": [
    "print(re.search(r\"[^a-zA-Z]\", \"This is a sentence with spaces.\"))"
   ]
  },
  {
   "cell_type": "markdown",
   "id": "f426b419",
   "metadata": {},
   "source": [
    "Here, our pattern matched the first space in the sentence. What if we also add a space to the list of characters that we don't want to match?"
   ]
  },
  {
   "cell_type": "code",
   "execution_count": 15,
   "id": "6c505c93",
   "metadata": {},
   "outputs": [
    {
     "name": "stdout",
     "output_type": "stream",
     "text": [
      "<re.Match object; span=(30, 31), match='.'>\n"
     ]
    }
   ],
   "source": [
    "print(re.search(r\"[^a-zA-Z ]\", \"This is a sentence with spaces.\"))"
   ]
  },
  {
   "cell_type": "markdown",
   "id": "684c434a",
   "metadata": {},
   "source": [
    "If we want to match either one expression or another, we can use the pipe symbol(`|`) to do that. This lets us list alternative options that can get matched. For example, we could have an expression that matches either the word cat or the word dog, like this."
   ]
  },
  {
   "cell_type": "code",
   "execution_count": 16,
   "id": "357156ad",
   "metadata": {},
   "outputs": [
    {
     "name": "stdout",
     "output_type": "stream",
     "text": [
      "<re.Match object; span=(7, 10), match='cat'>\n"
     ]
    }
   ],
   "source": [
    "print(re.search(r\"cat|dog\", \"I like cats.\"))"
   ]
  },
  {
   "cell_type": "code",
   "execution_count": 17,
   "id": "3b0aa9ad",
   "metadata": {},
   "outputs": [
    {
     "name": "stdout",
     "output_type": "stream",
     "text": [
      "<re.Match object; span=(7, 10), match='dog'>\n"
     ]
    }
   ],
   "source": [
    "print(re.search(r\"cat|dog\", \"I like dogs.\"))"
   ]
  },
  {
   "cell_type": "code",
   "execution_count": 18,
   "id": "0f584f79",
   "metadata": {},
   "outputs": [
    {
     "name": "stdout",
     "output_type": "stream",
     "text": [
      "<re.Match object; span=(12, 15), match='dog'>\n"
     ]
    }
   ],
   "source": [
    "print(re.search(r\"cat|dog\", \"I like both dogs and cats.\"))"
   ]
  },
  {
   "cell_type": "markdown",
   "id": "ed0ca1c5",
   "metadata": {},
   "source": [
    "In this string, we actually have two possible matches for our search. But we only get the first one. That's the way the `search()` function works. If we want to get all possible matches, we can do that using the `findall()` function, which is also provided by the re module, like this."
   ]
  },
  {
   "cell_type": "code",
   "execution_count": 19,
   "id": "eb1d7f19",
   "metadata": {},
   "outputs": [
    {
     "name": "stdout",
     "output_type": "stream",
     "text": [
      "['dog', 'cat']\n"
     ]
    }
   ],
   "source": [
    "print(re.findall(r\"cat|dog\", \"I like both dogs and cats.\"))"
   ]
  },
  {
   "cell_type": "markdown",
   "id": "b6a270d3",
   "metadata": {},
   "source": [
    "## Repetition quantifiers\n",
    "\n",
    "We wanted to find the longest word in the string, or we wanted to find the host names in a log file by checking for a bunch of alphanumeric characters between brackets. We can do this using another interesting RegEx concept, repeated matches. \n",
    "\n",
    "It's quite common to see expressions that include a dot followed by a star. This means that it matches any character repeated as many times as possible including zero. Let's see a couple of examples of this."
   ]
  },
  {
   "cell_type": "code",
   "execution_count": 20,
   "id": "ef76004e",
   "metadata": {},
   "outputs": [
    {
     "name": "stdout",
     "output_type": "stream",
     "text": [
      "<re.Match object; span=(0, 9), match='Pygmalion'>\n"
     ]
    }
   ],
   "source": [
    "print(re.search(r\"Py.*n\", \"Pygmalion\"))"
   ]
  },
  {
   "cell_type": "markdown",
   "id": "eb44ef3c",
   "metadata": {},
   "source": [
    "In plain English, you could read this RegEx as match Py followed by any number of other characters followed by n. But with our dot star combination we expanded the range of the match to the whole word. See how the dot takes a different value for each letter? Let's try a different string, Python programming. What do you think the pattern will match?"
   ]
  },
  {
   "cell_type": "code",
   "execution_count": 21,
   "id": "d455c6c0",
   "metadata": {},
   "outputs": [
    {
     "name": "stdout",
     "output_type": "stream",
     "text": [
      "<re.Match object; span=(0, 17), match='Python programmin'>\n"
     ]
    }
   ],
   "source": [
    "print(re.search(r\"Py.*n\", \"Python programming\"))"
   ]
  },
  {
   "cell_type": "markdown",
   "id": "451dc905",
   "metadata": {},
   "source": [
    "You might not have been expecting that. Remember, the Star takes as many characters as possible. In programming terms, we say that this behavior is greedy. It's possible to modify the repetition qualifiers to make them less greedy. \n",
    "\n",
    "While our pattern could have matched the word Python, it expanded all the way until the last n in the string. If we only wanted our patterns match letters, we should have used the character class instead like this."
   ]
  },
  {
   "cell_type": "code",
   "execution_count": 22,
   "id": "c42c5263",
   "metadata": {},
   "outputs": [
    {
     "name": "stdout",
     "output_type": "stream",
     "text": [
      "<re.Match object; span=(0, 6), match='Python'>\n"
     ]
    }
   ],
   "source": [
    "print(re.search(r\"Py[a-z]*n\", \"Python programming\"))"
   ]
  },
  {
   "cell_type": "code",
   "execution_count": 23,
   "id": "600b9dc6",
   "metadata": {},
   "outputs": [
    {
     "name": "stdout",
     "output_type": "stream",
     "text": [
      "<re.Match object; span=(0, 3), match='Pyn'>\n"
     ]
    }
   ],
   "source": [
    "print(re.search(r\"Py[a-z]*n\", \"Pyn\"))"
   ]
  },
  {
   "cell_type": "markdown",
   "id": "652308cc",
   "metadata": {},
   "source": [
    "Other implementations like the one used by Python or by the Egrep command include two additional repetition qualifiers plus(`+`) and question mark(`?`), that can help us construct more complex expressions. Let's check that out. \n",
    "\n",
    "The plus character(`+`) matches one or more occurrences of the character that comes before it. So we had the pattern O plus L plus. Let's check it against a few words."
   ]
  },
  {
   "cell_type": "code",
   "execution_count": 24,
   "id": "06b40e5d",
   "metadata": {},
   "outputs": [
    {
     "name": "stdout",
     "output_type": "stream",
     "text": [
      "<re.Match object; span=(1, 3), match='ol'>\n"
     ]
    }
   ],
   "source": [
    "print(re.search(r\"o+l+\", \"goldfish\"))"
   ]
  },
  {
   "cell_type": "code",
   "execution_count": 25,
   "id": "1bf0e426",
   "metadata": {},
   "outputs": [
    {
     "name": "stdout",
     "output_type": "stream",
     "text": [
      "<re.Match object; span=(1, 5), match='ooll'>\n"
     ]
    }
   ],
   "source": [
    "print(re.search(r\"o+l+\", \"woolly\"))"
   ]
  },
  {
   "cell_type": "code",
   "execution_count": 26,
   "id": "9a4cd051",
   "metadata": {},
   "outputs": [
    {
     "name": "stdout",
     "output_type": "stream",
     "text": [
      "None\n"
     ]
    }
   ],
   "source": [
    "print(re.search(r\"o+l+\", \"boil\"))"
   ]
  },
  {
   "cell_type": "markdown",
   "id": "0b9c7074",
   "metadata": {},
   "source": [
    "The question mark symbol(`?`) is yet another multiplier. It means either zero or one occurrence of the character before it. Let's see how this works."
   ]
  },
  {
   "cell_type": "code",
   "execution_count": 27,
   "id": "e2679fc7",
   "metadata": {},
   "outputs": [
    {
     "name": "stdout",
     "output_type": "stream",
     "text": [
      "<re.Match object; span=(3, 7), match='each'>\n"
     ]
    }
   ],
   "source": [
    "print(re.search(r\"p?each\", \"To each their own\"))"
   ]
  },
  {
   "cell_type": "code",
   "execution_count": 28,
   "id": "3a1a309d",
   "metadata": {},
   "outputs": [
    {
     "name": "stdout",
     "output_type": "stream",
     "text": [
      "<re.Match object; span=(7, 12), match='peach'>\n"
     ]
    }
   ],
   "source": [
    "print(re.search(r\"p?each\", \"I like peaches\"))"
   ]
  },
  {
   "cell_type": "markdown",
   "id": "47d2ef70",
   "metadata": {},
   "source": [
    "## Escape character\n",
    "\n",
    "Let's say, for example, that we wanted to check that a certain string contained a dot as part of it. If we just put a dot there, it would match any character."
   ]
  },
  {
   "cell_type": "code",
   "execution_count": 29,
   "id": "48ab32e4",
   "metadata": {},
   "outputs": [
    {
     "name": "stdout",
     "output_type": "stream",
     "text": [
      "<re.Match object; span=(2, 6), match='lcom'>\n"
     ]
    }
   ],
   "source": [
    "print(re.search(r\".com\", \"welcome\"))"
   ]
  },
  {
   "cell_type": "markdown",
   "id": "a51589bb",
   "metadata": {},
   "source": [
    "Here, we wanted to match on strings that had.com in them, but we match a string with something else in it. That's not what we wanted. To match an actual dot, we need to use an Escape character, which in the case of regular expressions is a backslash character. So let's add that to our pattern."
   ]
  },
  {
   "cell_type": "code",
   "execution_count": 30,
   "id": "187ddd2a",
   "metadata": {},
   "outputs": [
    {
     "name": "stdout",
     "output_type": "stream",
     "text": [
      "None\n"
     ]
    }
   ],
   "source": [
    "print(re.search(r\"\\.com\", \"welcome\"))"
   ]
  },
  {
   "cell_type": "markdown",
   "id": "f7292056",
   "metadata": {},
   "source": [
    "By escaping the dot, it no longer matched the word Welcome, and since there's no.com in the string, it returned none. Let's try something that should actually match."
   ]
  },
  {
   "cell_type": "code",
   "execution_count": 32,
   "id": "5db061ce",
   "metadata": {},
   "outputs": [
    {
     "name": "stdout",
     "output_type": "stream",
     "text": [
      "<re.Match object; span=(8, 12), match='.com'>\n"
     ]
    }
   ],
   "source": [
    "print(re.search(r\"\\.com\", \"mydomain.com\"))"
   ]
  },
  {
   "cell_type": "markdown",
   "id": "f7964a88",
   "metadata": {},
   "source": [
    "By adding the backslash(`\\`), we've got this to correctly match what we wanted it to match. We can use a backslash in this way to escape any special characters, including the ones that we haven't even talked about yet.\n",
    "\n",
    "When we see a pattern that includes a backslash, it could be escaping a special regex character or a special string character."
   ]
  },
  {
   "cell_type": "markdown",
   "id": "a636d44a",
   "metadata": {},
   "source": [
    "Python also uses the backslash for a few special sequences that we can use to represent predefined sets of characters. For example, `\\w` matches any alphanumeric character including letters, numbers, and underscores. Let's check out a couple of examples."
   ]
  },
  {
   "cell_type": "code",
   "execution_count": 34,
   "id": "1b058e97",
   "metadata": {},
   "outputs": [
    {
     "name": "stdout",
     "output_type": "stream",
     "text": [
      "<re.Match object; span=(0, 4), match='This'>\n"
     ]
    }
   ],
   "source": [
    "print(re.search(r\"\\w*\", \"This is an example\"))"
   ]
  },
  {
   "cell_type": "code",
   "execution_count": 35,
   "id": "5a1a0661",
   "metadata": {},
   "outputs": [
    {
     "name": "stdout",
     "output_type": "stream",
     "text": [
      "<re.Match object; span=(0, 19), match='And_this_is_another'>\n"
     ]
    }
   ],
   "source": [
    "print(re.search(r\"\\w*\", \"And_this_is_another\"))"
   ]
  },
  {
   "cell_type": "markdown",
   "id": "bc4c8cec",
   "metadata": {},
   "source": [
    "There's also `\\d` for matching digits, `\\s` for matching whitespace characters like space, tab or new line, `\\b` for word boundaries and a few others. "
   ]
  },
  {
   "cell_type": "markdown",
   "id": "a7a3e0fb",
   "metadata": {},
   "source": [
    "We've now looked into a bunch of syntax for using regular expressions in Python. Armed with all this knowledge, we can start combining these special characters to create patterns to match the text that we want. \n",
    "\n",
    "For example, say you had a list of all the countries in the world and you want to check which of those names start and end in a."
   ]
  },
  {
   "cell_type": "code",
   "execution_count": 36,
   "id": "9a6a1fcf",
   "metadata": {},
   "outputs": [
    {
     "name": "stdout",
     "output_type": "stream",
     "text": [
      "<re.Match object; span=(0, 9), match='Argentina'>\n"
     ]
    }
   ],
   "source": [
    "print(re.search(r\"A.*a\", \"Argentina\"))"
   ]
  },
  {
   "cell_type": "code",
   "execution_count": 37,
   "id": "9747cfdb",
   "metadata": {},
   "outputs": [
    {
     "name": "stdout",
     "output_type": "stream",
     "text": [
      "<re.Match object; span=(0, 9), match='Azerbaija'>\n"
     ]
    }
   ],
   "source": [
    "print(re.search(r\"A.*a\", \"Azerbaijan\"))"
   ]
  },
  {
   "cell_type": "markdown",
   "id": "73546663",
   "metadata": {},
   "source": [
    "Surprising maybe, this happened because we didn't specify that we wanted our patterns match the whole string. So while Azerbaijan doesn't finish with A, it does have an A in its name. So it matches our pattern. We need to make our patterns stricter by adding the beginning of a line and end of a line characters."
   ]
  },
  {
   "cell_type": "code",
   "execution_count": 38,
   "id": "a3e6c6c0",
   "metadata": {},
   "outputs": [
    {
     "name": "stdout",
     "output_type": "stream",
     "text": [
      "None\n"
     ]
    }
   ],
   "source": [
    "print(re.search(r\"^A.*a$\", \"Azerbaijan\"))"
   ]
  },
  {
   "cell_type": "code",
   "execution_count": 39,
   "id": "9639b93d",
   "metadata": {},
   "outputs": [
    {
     "name": "stdout",
     "output_type": "stream",
     "text": [
      "<re.Match object; span=(0, 9), match='Australia'>\n"
     ]
    }
   ],
   "source": [
    "print(re.search(r\"^A.*a$\", \"Australia\"))"
   ]
  },
  {
   "cell_type": "markdown",
   "id": "778ef061",
   "metadata": {},
   "source": [
    "Using regular expressions, we can also construct a pattern that would validate if the string is a valid variable name in Python. Do you remember what the rules were? It can contain any number of letters numbers or underscores, but it can't start with a number. So what do you think the validating pattern would look like?"
   ]
  },
  {
   "cell_type": "code",
   "execution_count": 41,
   "id": "5e7fb411",
   "metadata": {},
   "outputs": [
    {
     "name": "stdout",
     "output_type": "stream",
     "text": [
      "<re.Match object; span=(0, 28), match='_this_is_valid_variable_name'>\n"
     ]
    }
   ],
   "source": [
    "pattern=r\"^[a-zA-Z_][a-zA-Z0-9_]*$\"\n",
    "print(re.search(pattern, \"_this_is_valid_variable_name\"))"
   ]
  },
  {
   "cell_type": "code",
   "execution_count": 42,
   "id": "2faca064",
   "metadata": {},
   "outputs": [
    {
     "name": "stdout",
     "output_type": "stream",
     "text": [
      "None\n"
     ]
    }
   ],
   "source": [
    "print(re.search(pattern, \"this isn't valid variable\"))"
   ]
  },
  {
   "cell_type": "code",
   "execution_count": 43,
   "id": "9f8abba4",
   "metadata": {},
   "outputs": [
    {
     "name": "stdout",
     "output_type": "stream",
     "text": [
      "<re.Match object; span=(0, 12), match='my_variable1'>\n"
     ]
    }
   ],
   "source": [
    "print(re.search(pattern, \"my_variable1\"))"
   ]
  },
  {
   "cell_type": "code",
   "execution_count": 44,
   "id": "e35db6f7",
   "metadata": {},
   "outputs": [
    {
     "name": "stdout",
     "output_type": "stream",
     "text": [
      "None\n"
     ]
    }
   ],
   "source": [
    "print(re.search(pattern, \"2my_variable1\"))"
   ]
  },
  {
   "cell_type": "markdown",
   "id": "eea4bfb4",
   "metadata": {},
   "source": [
    "## Capturing groups\n",
    "\n",
    "Capturing groups are portions of the pattern that are enclosed in parentheses.\n",
    "\n",
    "Let's say that we have a list of people's full names. These names are stored as last name, comma, first name. We want to turn this around and create a string that starts with the first name followed by the last name. We can do this using a regular expression with capturing groups. \n",
    "\n",
    "Let's see how this works. First we'll create a matching pattern that matches a group of letters followed by a comma, a space, and then another group of letters. To capture our groups, we'll put each group of letters between parentheses like this."
   ]
  },
  {
   "cell_type": "code",
   "execution_count": 59,
   "id": "8e784bd5",
   "metadata": {},
   "outputs": [
    {
     "name": "stdout",
     "output_type": "stream",
     "text": [
      "<re.Match object; span=(0, 13), match='Lovelace, Ada'>\n"
     ]
    }
   ],
   "source": [
    "result=re.search(r\"^(\\w*), (\\w*)$\", \"Lovelace, Ada\")\n",
    "print(result)"
   ]
  },
  {
   "cell_type": "markdown",
   "id": "242012e7",
   "metadata": {},
   "source": [
    "Remember that `\\w` will match letters, numbers, and underscores. The match object has more attributes and methods than the ones shown by print, so we are going to start using them now. Let's look at the output of the groups method."
   ]
  },
  {
   "cell_type": "code",
   "execution_count": 61,
   "id": "b28c196c",
   "metadata": {},
   "outputs": [
    {
     "name": "stdout",
     "output_type": "stream",
     "text": [
      "('Lovelace', 'Ada')\n"
     ]
    }
   ],
   "source": [
    "print(result.groups())"
   ]
  },
  {
   "cell_type": "markdown",
   "id": "206761e4",
   "metadata": {},
   "source": [
    "Because we defined two separate groups, the group method returns a tuple of two elements. We can also use indexing to access these groups. The first element contains the text matched by the entire regular expression. Each successive element contains the data that was matched by every subsequent match group. So let's look at the element at index 0."
   ]
  },
  {
   "cell_type": "code",
   "execution_count": 62,
   "id": "4293c1ad",
   "metadata": {},
   "outputs": [
    {
     "name": "stdout",
     "output_type": "stream",
     "text": [
      "Lovelace, Ada\n",
      "Lovelace\n",
      "Ada\n"
     ]
    }
   ],
   "source": [
    "print(result[0])\n",
    "print(result[1])\n",
    "print(result[2])"
   ]
  },
  {
   "cell_type": "code",
   "execution_count": 64,
   "id": "ee785fef",
   "metadata": {},
   "outputs": [
    {
     "data": {
      "text/plain": [
       "'Ada Lovelace'"
      ]
     },
     "execution_count": 64,
     "metadata": {},
     "output_type": "execute_result"
    }
   ],
   "source": [
    "\"{} {}\".format(result[2],result[1])"
   ]
  },
  {
   "cell_type": "markdown",
   "id": "6f1afc78",
   "metadata": {},
   "source": [
    "let's put this into a function that would do the rearranging for us. We'll start by defining a function called rearrange_name, that receives a name by parameter."
   ]
  },
  {
   "cell_type": "code",
   "execution_count": 72,
   "id": "c60d7a7c",
   "metadata": {},
   "outputs": [],
   "source": [
    "def rearrange_name(name):\n",
    "    result=re.search(r\"^(\\w*), (\\w*)$\", name)\n",
    "    if result == None:\n",
    "        return name\n",
    "    return \"{} {}\".format(result[2],result[1])"
   ]
  },
  {
   "cell_type": "code",
   "execution_count": 73,
   "id": "aa9841ad",
   "metadata": {},
   "outputs": [
    {
     "data": {
      "text/plain": [
       "'Ada Lovelace'"
      ]
     },
     "execution_count": 73,
     "metadata": {},
     "output_type": "execute_result"
    }
   ],
   "source": [
    "rearrange_name(\"Lovelace, Ada\")"
   ]
  },
  {
   "cell_type": "code",
   "execution_count": 74,
   "id": "8d51f211",
   "metadata": {},
   "outputs": [
    {
     "data": {
      "text/plain": [
       "'Dennis Ritchie'"
      ]
     },
     "execution_count": 74,
     "metadata": {},
     "output_type": "execute_result"
    }
   ],
   "source": [
    "rearrange_name(\"Ritchie, Dennis\")"
   ]
  },
  {
   "cell_type": "code",
   "execution_count": 75,
   "id": "d9008209",
   "metadata": {},
   "outputs": [
    {
     "data": {
      "text/plain": [
       "'Hopper, Grace M.'"
      ]
     },
     "execution_count": 75,
     "metadata": {},
     "output_type": "execute_result"
    }
   ],
   "source": [
    "rearrange_name(\"Hopper, Grace M.\")"
   ]
  },
  {
   "cell_type": "markdown",
   "id": "73510851",
   "metadata": {},
   "source": [
    "Now, the regular expression didn't match because we used the `\\w` character, which only matches letters. And so it didn't recognize the middle initial as part of the given name.\n",
    "\n",
    "What we need to do here is add the extra characters that we want to allow in the names. In this example we'd want to add spaces and dots. For other names we can also include dashes. So after updating our pattern, this is what our function would look like."
   ]
  },
  {
   "cell_type": "code",
   "execution_count": 76,
   "id": "d7136e74",
   "metadata": {},
   "outputs": [],
   "source": [
    "def rearrange_name(name):\n",
    "    result=re.search(r\"^([\\w .-]*), ([\\w .-]*)$\", name)\n",
    "    if result == None:\n",
    "        return name\n",
    "    return \"{} {}\".format(result[2],result[1])"
   ]
  },
  {
   "cell_type": "code",
   "execution_count": 77,
   "id": "4f8202c0",
   "metadata": {},
   "outputs": [
    {
     "data": {
      "text/plain": [
       "'Grace M. Hopper'"
      ]
     },
     "execution_count": 77,
     "metadata": {},
     "output_type": "execute_result"
    }
   ],
   "source": [
    "rearrange_name(\"Hopper, Grace M.\")"
   ]
  },
  {
   "cell_type": "markdown",
   "id": "4504a176",
   "metadata": {},
   "source": [
    "## More on quantifiers\n",
    "\n",
    "We've used the Star, Plus and question mark repetition qualifiers. What if we wanted a pattern that repeats a specific number of times? This could happen if we're processing a line that we know has some specific data in a column, or we know that we want a string of a specific length. In cases like those, we would manually write the same pattern as many times as we need it. But it would be hard to read and hard to maintain. And that's why Python also offers numeric repetition qualifiers. These are written between curly brackets and can be one or two numbers specifying a range. For example, to match any string of exactly five letters, we can use an expression like this one"
   ]
  },
  {
   "cell_type": "code",
   "execution_count": 78,
   "id": "a3613cc8",
   "metadata": {},
   "outputs": [
    {
     "name": "stdout",
     "output_type": "stream",
     "text": [
      "<re.Match object; span=(2, 7), match='ghost'>\n"
     ]
    }
   ],
   "source": [
    "print(re.search(r\"[a-zA-Z]{5}\", \"a ghost\"))"
   ]
  },
  {
   "cell_type": "code",
   "execution_count": 79,
   "id": "45c8c1e4",
   "metadata": {},
   "outputs": [
    {
     "name": "stdout",
     "output_type": "stream",
     "text": [
      "<re.Match object; span=(2, 7), match='scary'>\n"
     ]
    }
   ],
   "source": [
    "print(re.search(r\"[a-zA-Z]{5}\", \"a scary ghost appeared\"))"
   ]
  },
  {
   "cell_type": "markdown",
   "id": "c7744dbc",
   "metadata": {},
   "source": [
    "In this string, we actually have more matches for our search, but we only get the first one. Remember, what we can do to find more matches? That's right, use the findall function, like this."
   ]
  },
  {
   "cell_type": "code",
   "execution_count": 80,
   "id": "5598be83",
   "metadata": {},
   "outputs": [
    {
     "name": "stdout",
     "output_type": "stream",
     "text": [
      "['scary', 'ghost', 'appea']\n"
     ]
    }
   ],
   "source": [
    "print(re.findall(r\"[a-zA-Z]{5}\", \"a scary ghost appeared\"))"
   ]
  },
  {
   "cell_type": "markdown",
   "id": "84c0287e",
   "metadata": {},
   "source": [
    "Now we have an extra match for the word that's actually longer. What if we wanted to match all the words that are exactly five letters long? We can do that using `\\b`, which matches word limits at the beginning and end of the pattern, to indicate that we want full words, like this"
   ]
  },
  {
   "cell_type": "code",
   "execution_count": 81,
   "id": "07da53eb",
   "metadata": {},
   "outputs": [
    {
     "name": "stdout",
     "output_type": "stream",
     "text": [
      "['scary', 'ghost']\n"
     ]
    }
   ],
   "source": [
    "print(re.findall(r\"\\b[a-zA-Z]{5}\\b\", \"a scary ghost appeared\"))"
   ]
  },
  {
   "cell_type": "markdown",
   "id": "fbf48901",
   "metadata": {},
   "source": [
    "We said that we can also have two numbers in the range. For example, if we wanted to match a range of five to ten letters or numbers, we could use an expression like this one."
   ]
  },
  {
   "cell_type": "code",
   "execution_count": 82,
   "id": "43f10fe7",
   "metadata": {},
   "outputs": [
    {
     "name": "stdout",
     "output_type": "stream",
     "text": [
      "['really', 'strawberri']\n"
     ]
    }
   ],
   "source": [
    "print(re.findall(r\"\\w{5,10}\", \"i really like strawberries\"))"
   ]
  },
  {
   "cell_type": "markdown",
   "id": "e0e50250",
   "metadata": {},
   "source": [
    "These ranges can also be open ended. A number followed by a comma means at least that many repetitions with no upper boundary limited only by the maximum repetitions in the source text."
   ]
  },
  {
   "cell_type": "code",
   "execution_count": 83,
   "id": "5e7e4057",
   "metadata": {},
   "outputs": [
    {
     "name": "stdout",
     "output_type": "stream",
     "text": [
      "['really', 'strawberries']\n"
     ]
    }
   ],
   "source": [
    "print(re.findall(r\"\\w{5,}\", \"i really like strawberries\"))"
   ]
  },
  {
   "cell_type": "code",
   "execution_count": 84,
   "id": "b541b365",
   "metadata": {},
   "outputs": [
    {
     "name": "stdout",
     "output_type": "stream",
     "text": [
      "<re.Match object; span=(14, 26), match='strawberries'>\n"
     ]
    }
   ],
   "source": [
    "print(re.search(r\"s\\w{,20}\", \"i really like strawberries\"))"
   ]
  },
  {
   "cell_type": "markdown",
   "id": "387b86db",
   "metadata": {},
   "source": [
    "Here we look for a pattern that was an S followed by up to 20 alphanumeric characters. So we got a match for strawberries which starts with S, and is followed by 11 characters."
   ]
  },
  {
   "cell_type": "markdown",
   "id": "94df4243",
   "metadata": {},
   "source": [
    "## Extracting PID"
   ]
  },
  {
   "cell_type": "code",
   "execution_count": 85,
   "id": "1f0ad2eb",
   "metadata": {},
   "outputs": [
    {
     "name": "stdout",
     "output_type": "stream",
     "text": [
      "12345\n"
     ]
    }
   ],
   "source": [
    "log=\"July 31 07:51:48 my_computer bad_process[12345]: ERROR Performing package upgrade\"\n",
    "\n",
    "regex=r\"\\[(\\d+)\\]\"\n",
    "\n",
    "result=re.search(regex, log)\n",
    "print(result[1])"
   ]
  },
  {
   "cell_type": "markdown",
   "id": "f37bd131",
   "metadata": {},
   "source": [
    "Let's walk through it step-by-step.\n",
    "\n",
    "The first character of the pattern is the backslash, which is used as the escape character. This means that the next character, which is a square bracket here, is treated literally for matching purposes. After the square bracket, comes the first parentheses. Since it isn't escaped, we know it'll be used as a capturing group. The capturing group parentheses are wrapping the backslash d+ symbols.\n",
    "\n",
    "From our discussion of special characters and repetition qualifiers, we know that this expression will match one or more numerical characters. After the closing parentheses of the capturing group, we have the closing square bracket symbol, also proceeded by the escape character.\n",
    "\n",
    "After calling the search function, we know that because we're capturing groups in an expression, we can access the matching data by accessing the value at index 1. Let's try our expression on a different string and check that it really works, no matter what the rest of the text is."
   ]
  },
  {
   "cell_type": "code",
   "execution_count": 86,
   "id": "7a0a0537",
   "metadata": {},
   "outputs": [
    {
     "name": "stdout",
     "output_type": "stream",
     "text": [
      "34567\n"
     ]
    }
   ],
   "source": [
    "result=re.search(regex, \"A completely different string that has numbers [34567]\")\n",
    "print(result[1])"
   ]
  },
  {
   "cell_type": "markdown",
   "id": "3744285d",
   "metadata": {},
   "source": [
    "But what if our string didn't actually have a block of numbers between the square brackets?"
   ]
  },
  {
   "cell_type": "code",
   "execution_count": 87,
   "id": "08290324",
   "metadata": {},
   "outputs": [
    {
     "ename": "TypeError",
     "evalue": "'NoneType' object is not subscriptable",
     "output_type": "error",
     "traceback": [
      "\u001b[1;31m---------------------------------------------------------------------------\u001b[0m",
      "\u001b[1;31mTypeError\u001b[0m                                 Traceback (most recent call last)",
      "\u001b[1;32mC:\\Users\\SAURAB~1\\AppData\\Local\\Temp/ipykernel_10812/2229281591.py\u001b[0m in \u001b[0;36m<module>\u001b[1;34m\u001b[0m\n\u001b[0;32m      1\u001b[0m \u001b[0mresult\u001b[0m\u001b[1;33m=\u001b[0m\u001b[0mre\u001b[0m\u001b[1;33m.\u001b[0m\u001b[0msearch\u001b[0m\u001b[1;33m(\u001b[0m\u001b[0mregex\u001b[0m\u001b[1;33m,\u001b[0m \u001b[1;34m\"99 elephants in a [cage]\"\u001b[0m\u001b[1;33m)\u001b[0m\u001b[1;33m\u001b[0m\u001b[1;33m\u001b[0m\u001b[0m\n\u001b[1;32m----> 2\u001b[1;33m \u001b[0mprint\u001b[0m\u001b[1;33m(\u001b[0m\u001b[0mresult\u001b[0m\u001b[1;33m[\u001b[0m\u001b[1;36m1\u001b[0m\u001b[1;33m]\u001b[0m\u001b[1;33m)\u001b[0m\u001b[1;33m\u001b[0m\u001b[1;33m\u001b[0m\u001b[0m\n\u001b[0m",
      "\u001b[1;31mTypeError\u001b[0m: 'NoneType' object is not subscriptable"
     ]
    }
   ],
   "source": [
    "result=re.search(regex, \"99 elephants in a [cage]\")\n",
    "print(result[1])"
   ]
  },
  {
   "cell_type": "markdown",
   "id": "77e76d59",
   "metadata": {},
   "source": [
    "We tried to access the index 1 of a variable that was none. As Python tells us, this isn't something that we can do. So what should we do instead? We should have a function that extracts the process ID or PID when possible, and does something else if not. It's something like this; will start by defining a function called extract_pid."
   ]
  },
  {
   "cell_type": "code",
   "execution_count": 88,
   "id": "621f6686",
   "metadata": {},
   "outputs": [],
   "source": [
    "def extract_pid(log_line):\n",
    "    regex=r\"\\[(\\d+)\\]\"\n",
    "    result=re.search(regex, log_line)\n",
    "    if result is None:\n",
    "        return \"\"\n",
    "    return result[1]"
   ]
  },
  {
   "cell_type": "code",
   "execution_count": 89,
   "id": "97225064",
   "metadata": {},
   "outputs": [
    {
     "name": "stdout",
     "output_type": "stream",
     "text": [
      "12345\n"
     ]
    }
   ],
   "source": [
    "print(extract_pid(log))"
   ]
  },
  {
   "cell_type": "code",
   "execution_count": 90,
   "id": "8152ba0e",
   "metadata": {},
   "outputs": [
    {
     "name": "stdout",
     "output_type": "stream",
     "text": [
      "\n"
     ]
    }
   ],
   "source": [
    "print(extract_pid(\"99 elephants in a [cage]\"))"
   ]
  },
  {
   "cell_type": "markdown",
   "id": "8d4dfe46",
   "metadata": {},
   "source": [
    "## Splitting and Replacing\n",
    "\n",
    "One of these functions is called `split()`. It works similarly to the `split` function that we used before with strings. But instead of taking a string as a separator, you can take any regular expression as a separator. \n",
    "\n",
    "For example we may want to split a piece of text into separate sentences. To do that we need to check not only for the dots but also for question marks or exclamation marks since they're also valid sentence endings. It's something like this."
   ]
  },
  {
   "cell_type": "code",
   "execution_count": 91,
   "id": "735e50a7",
   "metadata": {},
   "outputs": [
    {
     "data": {
      "text/plain": [
       "['One sentence', ' Another one', ' And the last one', '']"
      ]
     },
     "execution_count": 91,
     "metadata": {},
     "output_type": "execute_result"
    }
   ],
   "source": [
    "re.split(r\"[.?!]\", \"One sentence. Another one? And the last one!\")"
   ]
  },
  {
   "cell_type": "markdown",
   "id": "10cecc46",
   "metadata": {},
   "source": [
    "Check out how we are not escaping the characters that we wrote inside the square brackets. That's because anything that's inside the square brackets is taking for the literal character and not for its special meaning. \n",
    "\n",
    "Also see how the notation marks aren't present in the resulting list. If we want our split list to include the elements that we're using to split the values we can use capturing parentheses like this."
   ]
  },
  {
   "cell_type": "code",
   "execution_count": 92,
   "id": "a1d060e4",
   "metadata": {},
   "outputs": [
    {
     "data": {
      "text/plain": [
       "['One sentence', '.', ' Another one', '?', ' And the last one', '!', '']"
      ]
     },
     "execution_count": 92,
     "metadata": {},
     "output_type": "execute_result"
    }
   ],
   "source": [
    "re.split(r\"([.?!])\", \"One sentence. Another one? And the last one!\")"
   ]
  },
  {
   "cell_type": "markdown",
   "id": "cdc2813d",
   "metadata": {},
   "source": [
    "This gave us both the sentences and notation marks as elements of a list.\n",
    "\n",
    "Another interesting function provided by the RE module is called `sub()`. It's used for creating new strings by substituting all or part of them for a different string, similar to the `replace` string method but using regular expressions for both the matching and the replacing. \n",
    "\n",
    "Let's see this in an example. So we had some logs in our system that included e-mail addresses of users and we wanted to anonymize the data by removing all the addresses. We could do that by using an expression."
   ]
  },
  {
   "cell_type": "code",
   "execution_count": 93,
   "id": "c6ba8be9",
   "metadata": {},
   "outputs": [
    {
     "data": {
      "text/plain": [
       "'Received an email for [REDACTED]'"
      ]
     },
     "execution_count": 93,
     "metadata": {},
     "output_type": "execute_result"
    }
   ],
   "source": [
    "re.sub(r\"[\\w.%+-]+@[\\w.-]+\", \"[REDACTED]\", \"Received an email for go_nuts95@my.example.com\")"
   ]
  },
  {
   "cell_type": "markdown",
   "id": "165838e2",
   "metadata": {},
   "source": [
    "The expression that we're using for identifying email addresses has two parts: the part before that at sign and the part after it. Check out the part that comes before the at sign. We include the alphanumeric characters represented by backslash w which includes letters, numbers, and the underscore sign as well as a dot, percentage sign, plus, and dash. After the at sign, we only allow the alphanumeric characters dot and dash. This will match all email addresses as well as some strings that aren't really valid email addresses like an address with two dots. \n",
    "\n",
    "In this scenario we want to be better safe than sorry. So we're going to redact anything that looks like an address. If we wanted to validate that the address is an actual email we would need to be a lot stricter. We just use a regular expression for searching in a plain string for replacing. Let's now look at an example using sub where we use regular expressions for the replacing. For that, we'll go back to our code that switched the order of names of people and use sub to create the new string."
   ]
  },
  {
   "cell_type": "code",
   "execution_count": 94,
   "id": "e6969132",
   "metadata": {},
   "outputs": [
    {
     "data": {
      "text/plain": [
       "'Ada Lovelace'"
      ]
     },
     "execution_count": 94,
     "metadata": {},
     "output_type": "execute_result"
    }
   ],
   "source": [
    "re.sub(r\"^([\\w .-]*), ([\\w .-]*)$\", r\"\\2 \\1\", \"Lovelace, Ada\")"
   ]
  },
  {
   "cell_type": "markdown",
   "id": "11f6d876",
   "metadata": {},
   "source": [
    "So once again we'd use parentheses to create capturing groups. In the first parameter, we've got an expression that contains the two groups that we want to match: one before the comma and one after the comma. We want to use a second parameter to replace the matching string. We use backslash two to indicate the second captured group followed by a space and backslash one to indicate the first captured group. When referring to captured groups, a backslash followed by a number indicates the corresponding captured group. \n",
    "\n",
    "This is a general notation for regular expressions, and it's used by many tools that support regexes, not just Python. We can also use them to match patterns that repeat themselves which use capturing groups as back references."
   ]
  },
  {
   "cell_type": "markdown",
   "id": "9bbb1df3",
   "metadata": {},
   "source": [
    "https://regexcrossword.com/"
   ]
  },
  {
   "cell_type": "code",
   "execution_count": null,
   "id": "8bb9723b",
   "metadata": {},
   "outputs": [],
   "source": []
  }
 ],
 "metadata": {
  "kernelspec": {
   "display_name": "Python 3 (ipykernel)",
   "language": "python",
   "name": "python3"
  },
  "language_info": {
   "codemirror_mode": {
    "name": "ipython",
    "version": 3
   },
   "file_extension": ".py",
   "mimetype": "text/x-python",
   "name": "python",
   "nbconvert_exporter": "python",
   "pygments_lexer": "ipython3",
   "version": "3.9.6"
  }
 },
 "nbformat": 4,
 "nbformat_minor": 5
}
