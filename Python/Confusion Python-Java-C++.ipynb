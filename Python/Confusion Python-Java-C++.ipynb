{
 "cells": [
  {
   "cell_type": "markdown",
   "id": "dba266be",
   "metadata": {},
   "source": [
    "# OBJECT\n",
    "\n",
    "## Python:\n",
    "- object MyClass()\n",
    "- object MyClass(par1, par2)\n",
    "\n",
    "## C++:\n",
    "- MyClass object\n",
    "- MyClass object(par1, par2)\n",
    "- MyClass *object = new MyClass(par1, par2)\n",
    "\n",
    "## Java:\n",
    "- MyClass object = new MyClass()\n",
    "- MyClass object = new MyClass(par1, par2)"
   ]
  },
  {
   "cell_type": "code",
   "execution_count": null,
   "id": "7949f968",
   "metadata": {},
   "outputs": [],
   "source": []
  },
  {
   "cell_type": "markdown",
   "id": "ece48b6e",
   "metadata": {},
   "source": [
    "# CONSTRUCTOR\n",
    "\n",
    "## Python:\n",
    "- When only `Parent` class have defined constructor and object of `Parent` class is created then `Parent` class constrcutor will be called. But when `Child` class object is created then also `Parent` class constructor will be called. This is because when we create object of `Child` then Python will first look for `Child` class constructor, if it is present then `Child` class constructor is called otherwise Python gone call `Parent` class constructor. \n",
    "\n",
    "- When both `Parent` and `Child` class both have defined constructor then creating `Parent` class object will call `Parent` class constructor and creating `Child` class object will call only `Child` class constructor but we can explicitly call `Parent` class constructor also using `super().__init__()`.\n",
    "\n",
    "- In case of mutiple inheritance, creating object of `Child` class will first look for `Child` class constructor if it is present then `Child` class constructor is called, if it is not present the it look `Parent` class constructor as per MRO. It will call only one `Parent` class constructor. But again we can explictly change it its behavior using `super()` method\n",
    "\n",
    "\n",
    "## C++:\n",
    "- When only `Parent` class have defined constructor and object of `Parent` class is created then `Parent` class constrcutor will be called. But when `Child` class object is created then also `Parent` class constructor will be called. \n",
    "\n",
    "- When both `Parent` and `Child` class both have defined constructor then creating `Parent` class object will call `Parent` class constructor and creating `Child` class object will constructor from both class that is `Parent` as well as `Child`. First `Parent` class constructor will be called and then `Child` class constructor will be called. \n",
    "\n",
    "- In case of mutiple inheritance, creating object of `Child` class will constructor from both parent that is `Parent1` and `Parent2` but their order depend on inherit statement(left to right).\n",
    "\n",
    "## Java\n",
    "\n",
    "- When only `Parent` class have defined constructor and object of `Parent` class is created then `Parent` class constrcutor will be called. But when `Child` class object is created then also `Parent` class constructor will be called. \n",
    "\n",
    "- When both `Parent` and `Child` class both have defined constructor then creating `Parent` class object will call `Parent` class constructor and creating `Child` class object will constructor from both class that is `Parent` as well as `Child`. First `Parent` class constructor will be called and then `Child` class constructor will be called. "
   ]
  },
  {
   "cell_type": "code",
   "execution_count": null,
   "id": "0ded8e06",
   "metadata": {},
   "outputs": [],
   "source": []
  },
  {
   "cell_type": "markdown",
   "id": "b0b6d04f",
   "metadata": {},
   "source": [
    "# EXCEPTION\n",
    "\n",
    "## Python:\n",
    "\n",
    "- `try`, `raise`, `except` and `finally`\n",
    "\n",
    "<code>\n",
    "num=0\n",
    "try:\n",
    "    if num==0:\n",
    "        raise ZeroDivisionError(\"Zero\")\n",
    "    elif num<1:\n",
    "        raise ValueError(\"negative\")\n",
    "    else:\n",
    "        raise Exception(\"unknown\")\n",
    "except ZeroDivisionError as err:\n",
    "    print(\"error: \",err)\n",
    "except ValueError as err:\n",
    "    print(\"error: \",err)\n",
    "except Exception as err: # all other type of exception\n",
    "    print(\"error: \",err)\n",
    "    \n",
    "finally:\n",
    "    print(\"Error is handled\")\n",
    "</code>\n",
    "\n",
    "## C++\n",
    "\n",
    "- `try`, `throw` and `catch`\n",
    "\n",
    "<code>\n",
    "#include iostream\n",
    "#include stdexcept\n",
    "\n",
    "using namespace std;\n",
    "\n",
    "int main()\n",
    "{\n",
    "    int num=100;\n",
    "    try\n",
    "    {\n",
    "        if(num==0)\n",
    "        {\n",
    "            throw \"divide ny zero\";\n",
    "        }\n",
    "        else if(num<0)\n",
    "        {\n",
    "            throw out_of_range(\"number is -ve\");\n",
    "        }\n",
    "        else if(num>99)\n",
    "        {\n",
    "            throw runtime_error(\"denominator is >\");\n",
    "        }\n",
    "    }\n",
    "    catch(const char *err)\n",
    "    {\n",
    "        cout<<err<<endl;\n",
    "    }\n",
    "    catch(out_of_range &err)\n",
    "    {\n",
    "        cout<<err.what()<<endl;\n",
    "    }\n",
    "    catch(runtime_error err)\n",
    "    {\n",
    "        cout<<err.what();\n",
    "    }\n",
    "    catch(...) // all other type of exception\n",
    "    {\n",
    "        cout<<\"unkown\"<<endl;\n",
    "    }\n",
    "    return 0;\n",
    "}\n",
    "</code>\n",
    "    \n",
    "## Java\n",
    "    \n",
    "- "
   ]
  },
  {
   "cell_type": "markdown",
   "id": "6a021b47",
   "metadata": {},
   "source": [
    "# INHERITANCE\n",
    "\n",
    "## Python:\n",
    "\n",
    "- class Child(Parent1, Parent2):\n",
    "\n",
    "## C++\n",
    "\n",
    "- class Child : public Parent1, public Parent2\n",
    "\n",
    "## Java \n",
    "\n",
    "- class Child extends Parent"
   ]
  },
  {
   "cell_type": "code",
   "execution_count": 3,
   "id": "6f9bdf00",
   "metadata": {},
   "outputs": [
    {
     "name": "stdout",
     "output_type": "stream",
     "text": [
      "<class 'int'>\n",
      "1\n",
      "<class 'int'>\n",
      "2\n",
      "<class 'int'>\n",
      "3\n",
      "<class 'int'>\n",
      "4\n",
      "<class 'int'>\n",
      "5\n",
      "<class 'int'>\n",
      "5\n",
      "[1, 2, 3, 4, 5, 5]\n"
     ]
    }
   ],
   "source": [
    "a=[1,2,3,4,5,6]\n",
    "\n",
    "for a[-1] in a:\n",
    "    print(type(a[-1]))\n",
    "    print(a[-1])\n",
    "    \n",
    "print(a)"
   ]
  },
  {
   "cell_type": "code",
   "execution_count": null,
   "id": "64db3028",
   "metadata": {},
   "outputs": [],
   "source": []
  },
  {
   "cell_type": "code",
   "execution_count": null,
   "id": "ceb7d368",
   "metadata": {},
   "outputs": [],
   "source": []
  },
  {
   "cell_type": "code",
   "execution_count": null,
   "id": "6ad81f0d",
   "metadata": {},
   "outputs": [],
   "source": []
  },
  {
   "cell_type": "code",
   "execution_count": null,
   "id": "b2dbbaba",
   "metadata": {},
   "outputs": [],
   "source": []
  },
  {
   "cell_type": "code",
   "execution_count": null,
   "id": "dcf64417",
   "metadata": {},
   "outputs": [],
   "source": []
  },
  {
   "cell_type": "code",
   "execution_count": null,
   "id": "a5bb8a7e",
   "metadata": {},
   "outputs": [],
   "source": []
  },
  {
   "cell_type": "code",
   "execution_count": null,
   "id": "318575e1",
   "metadata": {},
   "outputs": [],
   "source": []
  },
  {
   "cell_type": "code",
   "execution_count": null,
   "id": "27f2da43",
   "metadata": {},
   "outputs": [],
   "source": []
  },
  {
   "cell_type": "code",
   "execution_count": null,
   "id": "429880fc",
   "metadata": {},
   "outputs": [],
   "source": []
  },
  {
   "cell_type": "code",
   "execution_count": null,
   "id": "064c9a8c",
   "metadata": {},
   "outputs": [],
   "source": []
  },
  {
   "cell_type": "code",
   "execution_count": null,
   "id": "11d45ebb",
   "metadata": {},
   "outputs": [],
   "source": []
  },
  {
   "cell_type": "markdown",
   "id": "32c848ef",
   "metadata": {},
   "source": [
    "## C++:\n",
    "- Operator overloading is called compile time polymorphism\n",
    "- Virtual method/method orerriding is called runtime polymorphism"
   ]
  }
 ],
 "metadata": {
  "kernelspec": {
   "display_name": "Python 3 (ipykernel)",
   "language": "python",
   "name": "python3"
  },
  "language_info": {
   "codemirror_mode": {
    "name": "ipython",
    "version": 3
   },
   "file_extension": ".py",
   "mimetype": "text/x-python",
   "name": "python",
   "nbconvert_exporter": "python",
   "pygments_lexer": "ipython3",
   "version": "3.9.6"
  }
 },
 "nbformat": 4,
 "nbformat_minor": 5
}
