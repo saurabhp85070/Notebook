{
 "cells": [
  {
   "cell_type": "markdown",
   "id": "bc878bc6",
   "metadata": {},
   "source": [
    "- <a href=\"#a1\">Linear Search</a>\n",
    "- <a href=\"#a2\">Binary Search</a>\n",
    "- <a href=\"#a3\">Bubble Sort</a>\n",
    "- <a href=\"#a4\">Selection Sort</a>\n",
    "- <a href=\"#a5\">Insertion Sort</a>\n",
    "- <a href=\"#a6\">Kadanes Algorithm</a>\n",
    "- <a href=\"#a7\"></a>"
   ]
  },
  {
   "cell_type": "markdown",
   "id": "790908af",
   "metadata": {},
   "source": [
    "<pre id='a1'></pre>\n",
    "# Linear Search"
   ]
  },
  {
   "cell_type": "code",
   "execution_count": 35,
   "id": "be9ba00c",
   "metadata": {},
   "outputs": [
    {
     "name": "stdout",
     "output_type": "stream",
     "text": [
      "Not found\n",
      "3\n"
     ]
    }
   ],
   "source": [
    "def linear_search(arr, item): # TC = O(n)\n",
    "    n = len(arr)\n",
    "    for i in range(n):\n",
    "        if arr[i] == item:\n",
    "            return i\n",
    "    return \"Not found\"\n",
    "\n",
    "arr = [1, 2, 3, 4, 5, 6, 7, 8, 9, 10]\n",
    "print(linear_search(arr, 11))\n",
    "print(linear_search(arr, 4))"
   ]
  },
  {
   "cell_type": "markdown",
   "id": "b499a341",
   "metadata": {},
   "source": [
    "<pre id='a2'></pre>\n",
    "# Binary Search"
   ]
  },
  {
   "cell_type": "code",
   "execution_count": 27,
   "id": "6d06b29a",
   "metadata": {},
   "outputs": [
    {
     "name": "stdout",
     "output_type": "stream",
     "text": [
      "4\n",
      "Not found\n"
     ]
    }
   ],
   "source": [
    "def binary_search(arr, item): # TC = O(log(n))\n",
    "    low=0\n",
    "    high=len(arr)-1\n",
    "    \n",
    "    while low<=high:\n",
    "        mid=(low+high)//2\n",
    "        \n",
    "        if arr[mid]==item:\n",
    "            return mid\n",
    "        elif arr[mid]<item:\n",
    "            low=mid+1\n",
    "        else:\n",
    "            high= mid-1\n",
    "            \n",
    "    return \"Not found\"\n",
    "            \n",
    "arr=[1,2,3,4,5,6,7,8,9,10]\n",
    "print(binary_search(arr,5))\n",
    "print(binary_search(arr,99))"
   ]
  },
  {
   "cell_type": "markdown",
   "id": "f71f7993",
   "metadata": {},
   "source": [
    "<pre id='a3'></pre>\n",
    "# Bubble Sort\n",
    "\n",
    "Bubble sort is a simple comparison-based sorting algorithm that repeatedly steps through the list, compares adjacent elements, and swaps them if they are in the wrong order. This process is repeated until the entire list is sorted. \n",
    "\n",
    "**Here's how bubble sort works:**\n",
    "\n",
    "1. Start at the beginning of the list.\n",
    "\n",
    "2. Compare the first two elements. If the first element is larger than the second, swap them.\n",
    "\n",
    "3. Move to the next pair of elements and repeat step 2.\n",
    "\n",
    "4. Continue this process for each pair of adjacent elements in the list until you reach the end of the list. At this point, the largest element in the list will have \"bubbled up\" to the end.\n",
    "\n",
    "5. Repeat steps 1 through 4 for the entire list, excluding the last element, which is already in its correct position.\n",
    "\n",
    "6. Continue this process, excluding the last two elements, and so on until the entire list is sorted."
   ]
  },
  {
   "cell_type": "code",
   "execution_count": 46,
   "id": "b00cd735",
   "metadata": {},
   "outputs": [
    {
     "name": "stdout",
     "output_type": "stream",
     "text": [
      "[11, 12, 22, 25, 34, 64, 90]\n"
     ]
    }
   ],
   "source": [
    "def bubble_sort(arr): # TC = O(n^2)\n",
    "    n=len(arr)\n",
    "    \n",
    "    for i in range(n):\n",
    "        # Flag to optimize the algorithm by checking if any swaps are made in a pass\n",
    "        swapped=False\n",
    "        \n",
    "        # Last i elements are already in place, so we don't need to compare them again\n",
    "        for j in range(0,n-i-1):\n",
    "            # Swap if the element found is greater than the next element\n",
    "            if arr[j]>arr[j+1]:\n",
    "                arr[j], arr[j+1]=arr[j+1],arr[j]\n",
    "                swapped=True\n",
    "                \n",
    "        # If no two elements were swapped in the inner loop, the array is already sorted\n",
    "        if not swapped:\n",
    "            break\n",
    "    \n",
    "            \n",
    "arr=[64, 34, 25, 12, 22, 11, 90]\n",
    "bubble_sort(arr)\n",
    "print(arr)"
   ]
  },
  {
   "cell_type": "markdown",
   "id": "35c9641f",
   "metadata": {},
   "source": [
    "<pre id='a4'></pre>\n",
    "# Selection Sort\n",
    "\n",
    "Selection sort is a simple comparison-based sorting algorithm that repeatedly selects the minimum (or maximum) element from the unsorted portion of the list and moves it to the sorted portion. The key idea behind selection sort is that at each iteration, you find the smallest element in the unsorted part of the array and swap it with the element in the sorted part that comes next. This process continues until the entire array is sorted. \n",
    "\n",
    "**Here's how selection sort works:**\n",
    "\n",
    "1. The array is divided into two parts: the \"sorted\" part and the \"unsorted\" part. Initially, the sorted part is empty, and the unsorted part contains all the elements.\n",
    "\n",
    "2. The algorithm repeatedly finds the smallest element in the unsorted part of the array by comparing each element with the current minimum.\n",
    "\n",
    "3. Once the minimum element is found, it is swapped with the leftmost element in the unsorted part of the array. This leftmost element becomes a part of the sorted subarray, and the element just swapped in takes its place in the unsorted subarray.\n",
    "\n",
    "4. Repeat steps 2 and 3 until the entire array is sorted."
   ]
  },
  {
   "cell_type": "code",
   "execution_count": 45,
   "id": "c4e33902",
   "metadata": {},
   "outputs": [
    {
     "name": "stdout",
     "output_type": "stream",
     "text": [
      "[11, 12, 22, 25, 34, 64, 90]\n"
     ]
    }
   ],
   "source": [
    "def selection_sort(arr): # TC = O(n^2)\n",
    "    n=len(arr)\n",
    "    for i in range(n):\n",
    "        min_index = i # Assume the current element is the minimum\n",
    "        \n",
    "        # Find the minimum element in the unsorted part of the array\n",
    "        for j in range(i+1,n):\n",
    "            if arr[j]<arr[min_index]:\n",
    "                imin_index=j\n",
    "                \n",
    "        # Swap the found minimum element with the first element of the unsorted part\n",
    "        arr[i], arr[min_index]=arr[min_index], arr[i]\n",
    "        \n",
    "selection_sort(arr)\n",
    "print(arr)"
   ]
  },
  {
   "cell_type": "markdown",
   "id": "689d8d32",
   "metadata": {},
   "source": [
    "<pre id='a5'></pre>\n",
    "# Insertion Sort\n",
    "\n",
    "Insertion sort is a simple and efficient comparison-based sorting algorithm. It builds the final sorted array one element at a time by iterating through the original array. At each iteration, it takes an element from the unsorted part of the array and inserts it into its correct position within the sorted part of the array. \n",
    "\n",
    "**Here's how insertion sort works:**\n",
    "\n",
    "1. Start with the second element (index 1) and consider it the \"key\" or the element to be inserted.\n",
    "\n",
    "2. Compare the key with the element(s) in the sorted part of the array, moving from right to left. If the key is smaller, shift the larger element(s) to the right to make space for the key.\n",
    "\n",
    "3. Repeat step 2 until the key is in its correct position within the sorted part of the array.\n",
    "\n",
    "4. Move on to the next unsorted element (index 2) and repeat the process, comparing and shifting elements until it is in its correct position within the sorted part.\n",
    "\n",
    "5. Continue this process for each element in the unsorted part of the array until the entire array is sorted."
   ]
  },
  {
   "cell_type": "code",
   "execution_count": 47,
   "id": "a5622ed2",
   "metadata": {},
   "outputs": [
    {
     "name": "stdout",
     "output_type": "stream",
     "text": [
      "[11, 12, 22, 25, 34, 64, 90]\n"
     ]
    }
   ],
   "source": [
    "def insertion_sort(arr): # TC = O(n^2)\n",
    "    n=len(arr)\n",
    "    for i in range(1,n):\n",
    "        key=arr[i]\n",
    "        \n",
    "        j=i-1\n",
    "        while j>=0 and key<arr[j]:\n",
    "            arr[j+1]=arr[j]\n",
    "            j-=1\n",
    "        arr[j+1]=key\n",
    "        \n",
    "insertion_sort(arr)\n",
    "print(arr)"
   ]
  },
  {
   "cell_type": "markdown",
   "id": "380b4bae",
   "metadata": {},
   "source": [
    "<pre id='a6'></pre>\n",
    "# Kadanes Algorithm\n",
    "\n",
    "Kadane's algorithm is a dynamic programming algorithm used to find the maximum sum of a subarray within a given one-dimensional array of numbers. It's particularly useful for solving the maximum subarray problem, which involves finding the contiguous subarray with the largest sum.\n",
    "\n",
    "**The algorithm works as follows:**\n",
    "\n",
    "1. Initialize two variables, `max_so_far` and `max_ending_here`, to a very small number or negative infinity. These variables will keep track of the maximum subarray sum seen so far and the maximum subarray sum ending at the current position in the array.\n",
    "\n",
    "2. Iterate through the array one element at a time, starting from the first element.\n",
    "\n",
    "3. For each element, update `max_ending_here` to be the maximum of the current element or the sum of the current element and `max_ending_here`.\n",
    "\n",
    "4. Update `max_so_far` to be the maximum of its current value and `max_ending_here`.\n",
    "\n",
    "5. Repeat steps 3 and 4 for each element in the array, effectively \"rolling\" through the array while keeping track of the maximum subarray sum ending at each position.\n",
    "\n",
    "6. After the iteration is complete, the `max_so_far` variable will contain the maximum subarray sum."
   ]
  },
  {
   "cell_type": "code",
   "execution_count": 34,
   "id": "5563688e",
   "metadata": {},
   "outputs": [
    {
     "name": "stdout",
     "output_type": "stream",
     "text": [
      "43\n"
     ]
    }
   ],
   "source": [
    "def kadane(arr): # TC = O(n)\n",
    "    max_so_far = max_ending_here = arr[0]\n",
    "    \n",
    "    for i in range(1, len(arr)):\n",
    "        max_ending_here = max(arr[i], max_ending_here + arr[i])\n",
    "        max_so_far = max(max_so_far, max_ending_here)\n",
    "    \n",
    "    return max_so_far\n",
    "\n",
    "\n",
    "arr=[1,2,3,4,5,-6,7,8,9,10]\n",
    "print(kadane(arr))"
   ]
  },
  {
   "cell_type": "code",
   "execution_count": 33,
   "id": "bf2f75e8",
   "metadata": {},
   "outputs": [
    {
     "name": "stdout",
     "output_type": "stream",
     "text": [
      "Maximum sum: 43\n",
      "Contiguous subarray: [1, 2, 3, 4, 5, -6, 7, 8, 9, 10]\n"
     ]
    }
   ],
   "source": [
    "# print sub-array as well\n",
    "\n",
    "def kadane(arr): # TC = O(n)\n",
    "    max_sum = arr[0]  # Initialize the maximum sum to the first element\n",
    "    current_sum = arr[0]  # Initialize the current sum to the first element\n",
    "\n",
    "    start_index = 0  # Start index of the current subarray\n",
    "    end_index = 0  # End index of the current subarray\n",
    "    temp_start_index = 0  # Temporary start index used to update the subarray\n",
    "\n",
    "    for i in range(1, len(arr)):\n",
    "        if arr[i] > current_sum + arr[i]:\n",
    "            current_sum = arr[i]\n",
    "            temp_start_index = i\n",
    "        else:\n",
    "            current_sum += arr[i]\n",
    "\n",
    "        if current_sum > max_sum:\n",
    "            max_sum = current_sum\n",
    "            start_index = temp_start_index\n",
    "            end_index = i\n",
    "\n",
    "    return max_sum, arr[start_index:end_index + 1]\n",
    "\n",
    "# Example usage:\n",
    "my_array = [1,2,3,4,5,-6,7,8,9,10]\n",
    "max_sum, subarray = kadane(my_array)\n",
    "\n",
    "print(\"Maximum sum:\", max_sum)\n",
    "print(\"Contiguous subarray:\", subarray)"
   ]
  },
  {
   "cell_type": "code",
   "execution_count": null,
   "id": "c29616cc",
   "metadata": {},
   "outputs": [],
   "source": []
  }
 ],
 "metadata": {
  "kernelspec": {
   "display_name": "Python 3 (ipykernel)",
   "language": "python",
   "name": "python3"
  },
  "language_info": {
   "codemirror_mode": {
    "name": "ipython",
    "version": 3
   },
   "file_extension": ".py",
   "mimetype": "text/x-python",
   "name": "python",
   "nbconvert_exporter": "python",
   "pygments_lexer": "ipython3",
   "version": "3.9.6"
  }
 },
 "nbformat": 4,
 "nbformat_minor": 5
}
